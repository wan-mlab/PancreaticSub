{

 "cells": [
  {
   "cell_type": "markdown",
   "metadata": {
    "tags": []
   },
   "source": [
    "# notes\n",
    "\n",
    "#re-add the averaging for test values due to each fold having different testing data\n",
    "#add multi-layer perceptron for secondary classifier\n",
    "#add functionality for \"leave one out cross validation\", more effective with small sample sizes.\n",
    "above is complete\n",
    "\n"
   ]
  },
  {
   "cell_type": "markdown",
   "metadata": {
    "tags": []
   },
   "source": [
    "# predict label"
   ]
  },
  {
   "cell_type": "markdown",
   "metadata": {},
   "source": [
    "## step 1"
   ]
  },
  {
   "cell_type": "code",
   "execution_count": 5,
   "metadata": {
    "tags": []
   },
   "outputs": [
    {
     "name": "stdout",
     "output_type": "stream",
     "text": [
      "Defaulting to user installation because normal site-packages is not writeable\n",
      "Requirement already satisfied: torch in /home/wanlab/nick/.local/lib/python3.8/site-packages (2.4.1)\n",
      "Requirement already satisfied: torchvision in /home/wanlab/nick/.local/lib/python3.8/site-packages (0.19.1)\n",
      "Requirement already satisfied: torchaudio in /home/wanlab/nick/.local/lib/python3.8/site-packages (2.4.1)\n",
      "Requirement already satisfied: filelock in /home/wanlab/nick/.local/lib/python3.8/site-packages (from torch) (3.16.1)\n",
      "Requirement already satisfied: typing-extensions>=4.8.0 in /home/wanlab/nick/.local/lib/python3.8/site-packages (from torch) (4.13.2)\n",
      "Requirement already satisfied: sympy in /home/wanlab/nick/.local/lib/python3.8/site-packages (from torch) (1.13.3)\n",
      "Requirement already satisfied: networkx in /home/wanlab/nick/.local/lib/python3.8/site-packages (from torch) (3.1)\n",
      "Requirement already satisfied: jinja2 in /home/wanlab/nick/.local/lib/python3.8/site-packages (from torch) (3.1.4)\n",
      "Requirement already satisfied: fsspec in /home/wanlab/nick/.local/lib/python3.8/site-packages (from torch) (2024.9.0)\n",
      "Requirement already satisfied: nvidia-cuda-nvrtc-cu12==12.1.105 in /home/wanlab/nick/.local/lib/python3.8/site-packages (from torch) (12.1.105)\n",
      "Requirement already satisfied: nvidia-cuda-runtime-cu12==12.1.105 in /home/wanlab/nick/.local/lib/python3.8/site-packages (from torch) (12.1.105)\n",
      "Requirement already satisfied: nvidia-cuda-cupti-cu12==12.1.105 in /home/wanlab/nick/.local/lib/python3.8/site-packages (from torch) (12.1.105)\n",
      "Requirement already satisfied: nvidia-cudnn-cu12==9.1.0.70 in /home/wanlab/nick/.local/lib/python3.8/site-packages (from torch) (9.1.0.70)\n",
      "Requirement already satisfied: nvidia-cublas-cu12==12.1.3.1 in /home/wanlab/nick/.local/lib/python3.8/site-packages (from torch) (12.1.3.1)\n",
      "Requirement already satisfied: nvidia-cufft-cu12==11.0.2.54 in /home/wanlab/nick/.local/lib/python3.8/site-packages (from torch) (11.0.2.54)\n",
      "Requirement already satisfied: nvidia-curand-cu12==10.3.2.106 in /home/wanlab/nick/.local/lib/python3.8/site-packages (from torch) (10.3.2.106)\n",
      "Requirement already satisfied: nvidia-cusolver-cu12==11.4.5.107 in /home/wanlab/nick/.local/lib/python3.8/site-packages (from torch) (11.4.5.107)\n",
      "Requirement already satisfied: nvidia-cusparse-cu12==12.1.0.106 in /home/wanlab/nick/.local/lib/python3.8/site-packages (from torch) (12.1.0.106)\n",
      "Requirement already satisfied: nvidia-nccl-cu12==2.20.5 in /home/wanlab/nick/.local/lib/python3.8/site-packages (from torch) (2.20.5)\n",
      "Requirement already satisfied: nvidia-nvtx-cu12==12.1.105 in /home/wanlab/nick/.local/lib/python3.8/site-packages (from torch) (12.1.105)\n",
      "Requirement already satisfied: triton==3.0.0 in /home/wanlab/nick/.local/lib/python3.8/site-packages (from torch) (3.0.0)\n",
      "Requirement already satisfied: nvidia-nvjitlink-cu12 in /home/wanlab/nick/.local/lib/python3.8/site-packages (from nvidia-cusolver-cu12==11.4.5.107->torch) (12.6.77)\n",
      "Requirement already satisfied: numpy in /home/wanlab/nick/.local/lib/python3.8/site-packages (from torchvision) (1.24.3)\n",
      "Requirement already satisfied: pillow!=8.3.*,>=5.3.0 in /home/wanlab/nick/.local/lib/python3.8/site-packages (from torchvision) (10.4.0)\n",
      "Requirement already satisfied: MarkupSafe>=2.0 in /home/wanlab/nick/.local/lib/python3.8/site-packages (from jinja2->torch) (2.1.5)\n",
      "Requirement already satisfied: mpmath<1.4,>=1.1.0 in /home/wanlab/nick/.local/lib/python3.8/site-packages (from sympy->torch) (1.3.0)\n",
      "Defaulting to user installation because normal site-packages is not writeable\n",
      "Requirement already satisfied: lightGBM in /home/wanlab/nick/.local/lib/python3.8/site-packages (4.5.0)\n",
      "Requirement already satisfied: numpy>=1.17.0 in /home/wanlab/nick/.local/lib/python3.8/site-packages (from lightGBM) (1.24.3)\n",
      "Requirement already satisfied: scipy in /home/wanlab/nick/.local/lib/python3.8/site-packages (from lightGBM) (1.10.1)\n",
      "Defaulting to user installation because normal site-packages is not writeable\n",
      "Requirement already satisfied: statsmodels in /home/wanlab/nick/.local/lib/python3.8/site-packages (0.14.1)\n",
      "Requirement already satisfied: numpy<2,>=1.18 in /home/wanlab/nick/.local/lib/python3.8/site-packages (from statsmodels) (1.24.3)\n",
      "Requirement already satisfied: scipy!=1.9.2,>=1.4 in /home/wanlab/nick/.local/lib/python3.8/site-packages (from statsmodels) (1.10.1)\n",
      "Requirement already satisfied: pandas!=2.1.0,>=1.0 in /home/wanlab/nick/.local/lib/python3.8/site-packages (from statsmodels) (2.0.3)\n",
      "Requirement already satisfied: patsy>=0.5.4 in /home/wanlab/nick/.local/lib/python3.8/site-packages (from statsmodels) (1.0.1)\n",
      "Requirement already satisfied: packaging>=21.3 in /util/opt/anaconda/deployed-conda-envs/packages/jupyterlab/envs/jupyterlab-3.4.5/lib/python3.8/site-packages (from statsmodels) (24.1)\n",
      "Requirement already satisfied: python-dateutil>=2.8.2 in /util/opt/anaconda/deployed-conda-envs/packages/jupyterlab/envs/jupyterlab-3.4.5/lib/python3.8/site-packages (from pandas!=2.1.0,>=1.0->statsmodels) (2.9.0.post0)\n",
      "Requirement already satisfied: pytz>=2020.1 in /util/opt/anaconda/deployed-conda-envs/packages/jupyterlab/envs/jupyterlab-3.4.5/lib/python3.8/site-packages (from pandas!=2.1.0,>=1.0->statsmodels) (2024.1)\n",
      "Requirement already satisfied: tzdata>=2022.1 in /home/wanlab/nick/.local/lib/python3.8/site-packages (from pandas!=2.1.0,>=1.0->statsmodels) (2024.2)\n",
      "Requirement already satisfied: six>=1.5 in /util/opt/anaconda/deployed-conda-envs/packages/jupyterlab/envs/jupyterlab-3.4.5/lib/python3.8/site-packages (from python-dateutil>=2.8.2->pandas!=2.1.0,>=1.0->statsmodels) (1.16.0)\n"
     ]
    }
   ],
   "source": [
    "import os\n",
    "\n",
    "os.chdir(\"\") #change to your directory\n",
    "import pandas as pd\n",
    "!pip install torch torchvision torchaudio\n",
    "!pip install lightGBM\n",
    "!pip install statsmodels\n",
    "from sklearn.model_selection import train_test_split\n",
    "from sklearn.model_selection import GridSearchCV\n",
    "from sklearn.naive_bayes import GaussianNB\n",
    "from sklearn.ensemble import RandomForestRegressor\n",
    "from sklearn.ensemble import RandomForestClassifier\n",
    "import numpy as np\n",
    "from sklearn.preprocessing import StandardScaler\n",
    "from sklearn.preprocessing import MinMaxScaler\n",
    "from sklearn.linear_model import LinearRegression\n",
    "from sklearn.linear_model import RidgeCV\n",
    "from sklearn.linear_model import BayesianRidge\n",
    "from sklearn.ensemble import GradientBoostingRegressor,RandomForestRegressor,AdaBoostRegressor,ExtraTreesRegressor,AdaBoostClassifier\n",
    "from xgboost import XGBRegressor\n",
    "from lightgbm import LGBMRegressor\n",
    "from sklearn.svm import SVR\n",
    "from sklearn.model_selection import KFold\n",
    "from sklearn.neural_network import MLPClassifier\n",
    "from sklearn.decomposition import PCA\n",
    "\n",
    "import pandas as pd\n",
    "from sklearn.model_selection import train_test_split, KFold\n",
    "from sklearn.model_selection import StratifiedKFold\n",
    "skf = StratifiedKFold(n_splits=10)\n",
    "from sklearn.ensemble import RandomForestClassifier\n",
    "from xgboost import XGBClassifier\n",
    "from sklearn.svm import SVC\n",
    "from sklearn.linear_model import LogisticRegression\n",
    "import numpy as np\n",
    "from sklearn.preprocessing import LabelEncoder\n",
    "from sklearn.metrics import roc_auc_score, accuracy_score, precision_score, recall_score, f1_score, jaccard_score, matthews_corrcoef, confusion_matrix\n",
    "import torch\n",
    "import torch.nn as nn\n",
    "import torch.nn.functional as F\n",
    "import torch.optim as optim\n",
    "from torch.utils.data import DataLoader, TensorDataset\n",
    "kf = KFold(n_splits=96, shuffle=True, random_state=23)\n",
    "from sklearn.neighbors import KNeighborsClassifier\n",
    "from sklearn.metrics import classification_report\n",
    "from sklearn.tree import DecisionTreeClassifier\n",
    "from sklearn.gaussian_process import GaussianProcessClassifier\n",
    "from sklearn.discriminant_analysis import QuadraticDiscriminantAnalysis\n",
    "from statsmodels.stats.contingency_tables import mcnemar\n",
    "from sklearn.metrics import confusion_matrix\n",
    "import json\n"
   ]
  },
  {
   "cell_type": "markdown",
   "metadata": {},
   "source": [
    "## step 2"
   ]
  },
  {
   "cell_type": "code",
   "execution_count": 6,
   "metadata": {
    "tags": []
   },
   "outputs": [],
   "source": [
    "def workflow(x, USEDmodels, USEDmodelnames, randomstate):\n",
    "    x = x.sample(frac=1, random_state=randomstate).reset_index(drop=True)\n",
    "\n",
    "    y = x['subtype']\n",
    "\n",
    "    \n",
    "    \n",
    "   \n",
    "    \n",
    "    #CVgridsearch can go here when needed\n",
    "    \n",
    "    \n",
    "    \n",
    "\n",
    "\n",
    "    #print(y)\n",
    "    ytrain = y\n",
    "    pd.set_option('display.max_rows', None)  # Show all rows\n",
    "    pd.set_option('display.max_columns', None)  # Show all columns\n",
    "    #print(y)\n",
    "    pd.reset_option('display.max_rows')\n",
    "    pd.reset_option('display.max_columns')\n",
    "    x = x.drop(['subtype'], axis=1)\n",
    "    xtrain = x\n",
    "    print(f\"Random state: {randomstate}\")\n",
    "    #print(x, y)\n",
    "    def resetidx(x):\n",
    "        x.reset_index(drop=True, inplace=True)  # Reset the index\n",
    "        return x\n",
    "\n",
    "    resetidx(xtrain)\n",
    "    resetidx(ytrain)\n",
    "    #print(xtrain, ytrain)\n",
    "\n",
    "    #Block A\n",
    "    import time\n",
    "    start_time = time.time()\n",
    "    stacked = \"individual models\"\n",
    "    models = USEDmodels\n",
    "    model_names = USEDmodelnames\n",
    "    print(model_names)\n",
    "\n",
    "    oof_prob_pred, oofTrueLabels, oof_pred, stacked, oofOGdata = get_oof(xtrain, ytrain, stacked, models, model_names, randomstate)\n",
    "\n",
    "    end_time = time.time()\n",
    "    \n",
    "    total_time = end_time - start_time\n",
    "    print(f\"运行时间为: {total_time:.2f} 秒\")\n",
    "\n",
    "    #Block B\n",
    "    #get oof probabilities into the right order.\n",
    "    #these were combined through adding each set of #subtypenumber as a new column for the #classifiers created datasets for a total of subtype x classifiers.\n",
    "    models = OGstack_models\n",
    "    model_names = OGstack_model_names\n",
    "    oof_prob_pred_combined1 = np.concatenate([oof_prob_pred[key] for key in oof_prob_pred], axis=1)\n",
    "    print(\"combining\", oof_prob_pred_combined1, oofOGdata)\n",
    "    oof_prob_pred_combined1 = np.concatenate([oof_prob_pred_combined1, oofOGdata], axis=1) #CURRENT STATUS:COMBINING\n",
    "    oof_prob_pred_combined1 = pd.DataFrame(oof_prob_pred_combined1)\n",
    "\n",
    "    stacked = \"stacked\"\n",
    "\n",
    "    #makes it into a list for the initial code to easier read it\n",
    "    oof_prob_pred2, oofTrueLabels2, oof_pred2, stacked, oofOGdata = get_oof(oof_prob_pred_combined1, oofTrueLabels, stacked, models, model_names, randomstate)\n"
   ]
  },
  {
   "cell_type": "markdown",
   "metadata": {},
   "source": [
    "## step 3"
   ]
  },
  {
   "cell_type": "code",
   "execution_count": 7,
   "metadata": {
    "tags": []
   },
   "outputs": [],
   "source": [
    "\n",
    "def evaluate_classifier(Truelabels, PredictedLabels, reg, ProbaPredictions, stacked, model_name, randomstate):\n",
    "    \n",
    "    reverse_mapping = {v: k for k, v in mapping.items()}\n",
    "    Tl = Truelabels.map(reverse_mapping)\n",
    "    Tl.name = 'subtype'\n",
    "    ProP = pd.DataFrame(ProbaPredictions)\n",
    "    ProP = ProP.rename(columns=reverse_mapping)\n",
    "    predictions = pd.concat([Tl, ProP], axis=1)\n",
    "    \n",
    "    accuracy = accuracy_score(Truelabels, PredictedLabels)\n",
    "    precision = precision_score(Truelabels, PredictedLabels, average='weighted')\n",
    "    recall = recall_score(Truelabels, PredictedLabels, average='weighted')\n",
    "    f1 = f1_score(Truelabels, PredictedLabels, average='weighted')\n",
    "    mcc = matthews_corrcoef(Truelabels, PredictedLabels)\n",
    "    if len(Truelabels) > (len(x)/2):\n",
    "        print(\"\")\n",
    "        print(\"model score of oof results for\", model_name)\n",
    "        auc = roc_auc_score(Truelabels, ProbaPredictions, multi_class='ovr', average='weighted')\n",
    "        testing = \"val_data\"\n",
    "        #print(\"true labels\", Truelabels,\"predicted labels\", PredictedLabels)\n",
    "    cm = confusion_matrix(Truelabels, PredictedLabels)\n",
    "    if cm.shape == (2, 2):  # Binary classification\n",
    "        tn, fp, fn, tp = cm.ravel()\n",
    "\n",
    "        # Sensitivity and Specificity for binary classification\n",
    "        Sensitivity = tp / (tp + fn)\n",
    "        Specificity = tn / (tn + fp)\n",
    "\n",
    "    else:  # Multi-class classification\n",
    "        sensitivities = []\n",
    "        specificities = []\n",
    "\n",
    "        # Calculate for each class\n",
    "        for i in range(cm.shape[0]):  # Loop over each class\n",
    "            tp = cm[i, i]\n",
    "            fn = cm[i].sum() - tp  # All positives for this class\n",
    "            fp = cm[:, i].sum() - tp  # All predicted positives for this class\n",
    "            tn = cm.sum() - (fp + fn + tp)  # Total - (FP + FN + TP)\n",
    "\n",
    "            # Sensitivity for this class\n",
    "            sensitivity1 = tp / (tp + fn) if (tp + fn) > 0 else 0\n",
    "            sensitivities.append(sensitivity1)\n",
    "\n",
    "            # Specificity for this class\n",
    "            specificity1 = tn / (tn + fp) if (tn + fp) > 0 else 0\n",
    "            specificities.append(specificity1)\n",
    "\n",
    "        # Average sensitivity and specificity across classes\n",
    "        sensitivity = np.mean(sensitivities)\n",
    "        specificity = np.mean(specificities)\n",
    "\n",
    "    \n",
    "    if cm.shape == (2, 2):  # Binary classification\n",
    "        tn, fp, fn, tp = cm.ravel()\n",
    "\n",
    "        # G-measure for binary classification\n",
    "        G_measure = np.sqrt((tp / (tp + fn)) * (tn / (tn + fp)))\n",
    "\n",
    "        # Jaccard for binary classification\n",
    "        Jaccard = tp / (tp + fp + fn)\n",
    "\n",
    "    else:  # Multi-class classification\n",
    "        G_measures = []\n",
    "        Jaccard_testices = []\n",
    "\n",
    "        # Calculate for each class\n",
    "        for i in range(cm.shape[0]):  # Loop over each class\n",
    "            tp = cm[i, i]\n",
    "            fn = cm[i].sum() - tp  # All positives for this class\n",
    "            fp = cm[:, i].sum() - tp  # All predicted positives for this class\n",
    "            tn = cm.sum() - (fp + fn + tp)  # Total - (FP + FN + TP)\n",
    "\n",
    "            # G-measure for this class\n",
    "            G_measure = np.sqrt((tp / (tp + fn)) * (tn / (tn + fp))) if (tp + fn) > 0 and (tn + fp) > 0 else 0\n",
    "            G_measures.append(G_measure)\n",
    "\n",
    "            # Jaccard for this class\n",
    "            Jaccard = tp / (tp + fp + fn) if (tp + fp + fn) > 0 else 0\n",
    "            Jaccard_testices.append(Jaccard)\n",
    "\n",
    "        # Average G-measure and Jaccard index across classes\n",
    "        g_measure = np.mean(G_measures)\n",
    "        jaccard = np.mean(Jaccard_testices)\n",
    "    # Now G_measure and Jaccard contain the values for your model\n",
    "\n",
    "# Print all metrics\n",
    "    print(\"Model Accuracy:\", accuracy)\n",
    "    print(\"Precision:\", precision)\n",
    "    print(\"Recall (Sensitivity):\", recall)\n",
    "    print(\"F1 Score:\", f1)\n",
    "    print(\"Matthews Correlation Coefficient (MCC):\", mcc)\n",
    "    print(\"G-Measure:\", g_measure)\n",
    "    print(\"AUC:\", auc)\n",
    "    print(\"Specificity:\", specificity)\n",
    "    print(\"Jaccard Index:\", jaccard)\n",
    "\n",
    "\n",
    "    metrics = {\n",
    "    \"Accuracy\": [accuracy],\n",
    "    \"Precision\": [precision],\n",
    "    \"Recall (Sensitivity)\": [sensitivity],\n",
    "    \"F1 Score\": [f1],\n",
    "    \"MCC\": [mcc],\n",
    "    \"G-Measure\": [g_measure],\n",
    "    \"AUC\": [auc],\n",
    "    \"Specificity\": [specificity],\n",
    "    \"Jaccard Index\": [jaccard],\n",
    "    }\n",
    "\n",
    "# Convert metrics to DataFrame and save as CSV\n",
    "    metrics_df = pd.DataFrame(metrics).T\n",
    "    \n",
    "    \n",
    "    \n",
    "    # Define base file path and subdirectories\n",
    "    \n",
    "    #filepath = '//' #for combination testing\n",
    "    folderpath = \"\"\n",
    "    #folderpath = \"/\" #for combination testing\n",
    "    foldername = f\"{run}/\"\n",
    "    filepath = f\"{folderpath}{foldername}\"\n",
    "    subdir = f\"{testing}/{stacked}/{model_name}/\"    \n",
    "    filename = f\"{data}({randomstate}),metrics.csv\"\n",
    "    filename2 = f\"predictions.csv\"\n",
    "    full_path = os.path.join(filepath, subdir, filename)  #evaluation\n",
    "    full_path2 = os.path.join(filepath, subdir, filename2) #predictions\n",
    "    \n",
    "    # Check if the subdirectory exists; if not, create it\n",
    "    if not os.path.exists(os.path.dirname(full_path)):\n",
    "        os.makedirs(os.path.dirname(full_path), exist_ok=True)\n",
    "        print(f\"Created directory: {os.path.dirname(full_path)}\")\n",
    "    \n",
    "    print(f\"Saving metrics to: {full_path}\")\n",
    "    print(\"PREDICTIONS\", predictions)\n",
    "    # Save the metrics DataFrame to CSV\n",
    "    metrics_df.to_csv(full_path, index=False)\n",
    "    predictions.to_csv(full_path2) \n",
    "    return metrics\n",
    "\n",
    "\n",
    "def oofindividualscore(X, models, oofTrueLabels, oof_pred, stacked, model_names, randomstate):\n",
    "    #it is in dictionary format and will automatically reference set of predictions for a particular model by name.\n",
    "    for idx, model in enumerate(models):\n",
    "        model_name = model_names[idx]\n",
    "        classy = oof_pred[model_name]\n",
    "        x1 = X[model_name]\n",
    "        #print(\"true labels\", oofTrueLabels, \"predicted labels\", classy, model, \"probabilities\", x1, stacked, model_name)\n",
    "        evaluate_classifier(oofTrueLabels, classy, model, x1, stacked, model_name, randomstate)\n",
    "        \n",
    "\n",
    "def get_oof(xtrain, ytrain, stacked, models, model_names, randomstate):\n",
    "    #note: empty arrays initialized so they can take shape as data is added to them. \n",
    "    #allows for more flexibility when removing or adding models\n",
    "    oofTrueLabels = pd.Series(dtype=int)\n",
    "    oofOGdata = pd.DataFrame()\n",
    "    oof_pred = {}\n",
    "    oof_prob_pred = {}\n",
    "\n",
    "    #splits training data into training and validation indexs\n",
    "    for fold_idx, (train_index, val_index) in enumerate(kf.split(xtrain, ytrain)): \n",
    "        kf_x_train = xtrain.iloc[train_index]\n",
    "        kf_y_train = ytrain[train_index]\n",
    "        kf_x_val = xtrain.iloc[val_index]\n",
    "        kf_y_val = ytrain[val_index]\n",
    "        oof_predictions = pd.Series(index=val_index, dtype=int)\n",
    "        # Ensure 'data' is used as a string key\n",
    "        print(stacked)\n",
    "        if stacked == \"individual models\":\n",
    "            oofOGdataNew = kf_x_val\n",
    "            oofOGdata = pd.concat([oofOGdata, oofOGdataNew], axis=0)\n",
    "\n",
    "        # Check if the key exists in the dictionary, then update accordingly\n",
    "        # Check if validation data already exists in the dictionary\n",
    "    \n",
    "        #print(\"val_index\", val_index)\n",
    "        #print(\"test index\", test_index)\n",
    "\n",
    "        for idx, model in enumerate(models):\n",
    "\n",
    "            model.fit(kf_x_train, kf_y_train) #training the model\n",
    "            model_name = model_names[idx]\n",
    "            proba_val = model.predict_proba(kf_x_val)\n",
    "            oof_predictions[val_index] = np.argmax(proba_val, axis=1)  # Assuming max probability class \n",
    "            #this section builds the arrays and dictionaries, adding and shaping it as it goes.\n",
    "            #if an array does not exist for a model, it will be created.\n",
    "            #if it does, values/probabilities are added as rows.\n",
    "            if model_name in oof_pred:\n",
    "                #print(\"Adding new labels to the existing true label Series\")\n",
    "                oof_pred[model_name] = pd.concat([oof_pred[model_name], pd.Series(oof_predictions[val_index])], ignore_index=True)\n",
    "            else:\n",
    "                #print(\"Creating a new true label Series for this model\")\n",
    "                oof_pred[model_name] = pd.Series(oof_predictions[val_index])\n",
    "            if model_name in oof_prob_pred:\n",
    "                #print(\"Adding the new oof predictions with the existing list for the model\")\n",
    "                oof_prob_pred[model_name] = np.concatenate([oof_prob_pred[model_name], proba_val], axis=0)\n",
    "                #print(oof_prob_pred)\n",
    "            else:\n",
    "                #print(\"Creating a new oof data entry in the dictionary for the model\")\n",
    "                oof_prob_pred[model_name] = proba_val  # Directly assign\n",
    "                #print(oof_prob_pred)\n",
    "    \n",
    "                \n",
    "        print(\"cv\")\n",
    "        # assembles a list of the corresponding true labels for the oof data\n",
    "        oofTrueLabelsCurrent = kf_y_val  \n",
    "        oofTrueLabels = pd.concat([oofTrueLabels, oofTrueLabelsCurrent], ignore_index=True)\n",
    "    \n",
    "    #print(oof_prob_pred, oofTrueLabels, oof_pred, test_prob_pred_mean, test_pred, stacked)\n",
    "    num_models = len(models)\n",
    "    \n",
    "    \n",
    "    oofOGdata_numpy = oofOGdata.to_numpy()\n",
    "    \n",
    "    #evaluate the performance of the individual classifiers\n",
    "    oofindividualscore(oof_prob_pred, models, oofTrueLabels, oof_pred, stacked, model_names, randomstate)\n",
    "    \n",
    "    #evaluate the test score for each model\n",
    "    return oof_prob_pred, oofTrueLabels, oof_pred, stacked, oofOGdata_numpy\n",
    "\n",
    "\n",
    "\n",
    "        \n",
    "    \n",
    "        "
   ]
  },
  {
   "cell_type": "markdown",
   "metadata": {},
   "source": [
    "## step 4 (normal architecture,  number of base models and meta-learning models are set)"
   ]
  },
  {
   "cell_type": "code",
   "execution_count": null,
   "metadata": {
    "collapsed": true,
    "jupyter": {
     "outputs_hidden": true
    },
    "tags": []
   },
   "outputs": [
    {
     "name": "stdout",
     "output_type": "stream",
     "text": [
      "['SVC', 'SVC2']\n",
      "['SVC3', 'SVC4']\n",
      "        subtype      SCYL3      FIRRM        FGR      STPG1      ENPP4  \\\n",
      "0      Squamous  13.339975  13.716545  12.362319  12.367803  14.802894   \n",
      "1      Squamous  14.716845  13.812788  13.585089  12.803753  14.606790   \n",
      "2      Squamous  14.807952  13.287688  11.550810  12.519667  14.732600   \n",
      "3      Squamous  13.910946  13.157636  13.853036  12.355673  15.123113   \n",
      "4      Squamous  13.565738  13.427823  13.675019  13.356965  15.417452   \n",
      "..          ...        ...        ...        ...        ...        ...   \n",
      "91  Immunogenic  14.522039  13.237651  13.025013  12.687432  15.152261   \n",
      "92  Immunogenic  14.123318  13.067660  13.351340  12.651321  15.751323   \n",
      "93  Immunogenic  14.233491  12.771529  13.384316  12.771556  15.183846   \n",
      "94  Immunogenic  14.289769  13.621922  12.672772  12.158348  15.331671   \n",
      "95  Immunogenic  14.215432  13.318668  13.128862  11.940068  14.059325   \n",
      "\n",
      "       SEMA3F       CFTR     ANKIB1    CYP51A1  ...      X.544      X.545  \\\n",
      "0   14.750543  11.770831  16.776226  17.609709  ...  12.588582  10.702138   \n",
      "1   13.200170  12.184957  16.400763  15.458555  ...  13.649319  12.563852   \n",
      "2   15.281593  13.524506  16.289644  15.902329  ...  14.179906  13.236045   \n",
      "3   13.490431  17.695032  16.712727  17.531094  ...  13.772936  10.664686   \n",
      "4   15.066018  10.072738  16.871515  16.756595  ...  13.384588  12.540238   \n",
      "..        ...        ...        ...        ...  ...        ...        ...   \n",
      "91  14.022581  16.320125  16.329570  17.870191  ...  14.885791  10.221388   \n",
      "92  13.022202  15.116658  16.731435  17.438349  ...  13.810660   8.675501   \n",
      "93  12.742288  17.005706  16.458255  16.892190  ...  15.062026  10.179202   \n",
      "94  14.008711  16.211521  16.402639  18.106312  ...  14.655829  10.455900   \n",
      "95  12.663304  17.698039  16.470771  17.986884  ...  15.356975   8.778076   \n",
      "\n",
      "    IGFL2.AS1    NA..779      X.551    NA..786      X.557  PTOV1.AS2  \\\n",
      "0   10.660179   6.653342   7.522863  10.277596   8.364034   9.161457   \n",
      "1   14.398208  10.019340  10.668340  12.518794   9.312820  10.315907   \n",
      "2    9.411186  10.136879   9.967970  11.182933  11.626225  10.423817   \n",
      "3    6.424687   8.310933   9.992031  11.065339   9.293109   8.698807   \n",
      "4   10.964576   6.715242   8.533605  11.173737   8.918645   9.144739   \n",
      "..        ...        ...        ...        ...        ...        ...   \n",
      "91   5.149333   8.802120   8.663533  10.178937   8.691654   9.193014   \n",
      "92   6.751816   6.928256   9.769865  10.181600   8.065057   8.199989   \n",
      "93   6.673687   9.136708   9.776955  10.721923   8.553337  10.313118   \n",
      "94   8.468392   7.816287   7.660166   9.443337   8.657642   9.325789   \n",
      "95   6.352985   8.540903   5.645812   4.727080   7.535461   8.890974   \n",
      "\n",
      "      NA..801     IPO5P1  \n",
      "0   10.596755  10.470713  \n",
      "1   12.783879  11.900675  \n",
      "2   11.461227  12.085402  \n",
      "3   10.549354  11.792016  \n",
      "4   11.697518   9.709423  \n",
      "..        ...        ...  \n",
      "91  10.684916  11.926214  \n",
      "92  10.315403  11.546469  \n",
      "93  10.104336  12.048450  \n",
      "94   9.671741  11.454020  \n",
      "95   9.386659  12.341638  \n",
      "\n",
      "[96 rows x 5419 columns]\n",
      "run 0\n",
      "Random state: 0\n",
      "['SVC', 'SVC2']\n",
      "individual models\n",
      "cv\n",
      "individual models\n",
      "cv\n",
      "individual models\n",
      "cv\n",
      "individual models\n",
      "cv\n",
      "individual models\n",
      "cv\n",
      "individual models\n",
      "cv\n",
      "individual models\n",
      "cv\n",
      "individual models\n",
      "cv\n",
      "individual models\n",
      "cv\n",
      "individual models\n",
      "cv\n",
      "individual models\n",
      "cv\n",
      "individual models\n",
      "cv\n",
      "individual models\n",
      "cv\n",
      "individual models\n",
      "cv\n",
      "individual models\n",
      "cv\n",
      "individual models\n",
      "cv\n",
      "individual models\n",
      "cv\n",
      "individual models\n",
      "cv\n",
      "individual models\n",
      "cv\n",
      "individual models\n",
      "cv\n",
      "individual models\n",
      "cv\n",
      "individual models\n",
      "cv\n",
      "individual models\n",
      "cv\n",
      "individual models\n",
      "cv\n",
      "individual models\n",
      "cv\n",
      "individual models\n",
      "cv\n",
      "individual models\n",
      "cv\n",
      "individual models\n",
      "cv\n",
      "individual models\n",
      "cv\n",
      "individual models\n",
      "cv\n",
      "individual models\n",
      "cv\n",
      "individual models\n",
      "cv\n",
      "individual models\n",
      "cv\n",
      "individual models\n",
      "cv\n",
      "individual models\n",
      "cv\n",
      "individual models\n",
      "cv\n",
      "individual models\n",
      "cv\n",
      "individual models\n",
      "cv\n",
      "individual models\n",
      "cv\n",
      "individual models\n",
      "cv\n",
      "individual models\n",
      "cv\n",
      "individual models\n",
      "cv\n",
      "individual models\n",
      "cv\n",
      "individual models\n",
      "cv\n",
      "individual models\n",
      "cv\n",
      "individual models\n",
      "cv\n",
      "individual models\n",
      "cv\n",
      "individual models\n",
      "cv\n",
      "individual models\n",
      "cv\n",
      "individual models\n",
      "cv\n",
      "individual models\n",
      "cv\n",
      "individual models\n",
      "cv\n",
      "individual models\n",
      "cv\n",
      "individual models\n",
      "cv\n",
      "individual models\n",
      "cv\n",
      "individual models\n",
      "cv\n",
      "individual models\n",
      "cv\n",
      "individual models\n",
      "cv\n",
      "individual models\n",
      "cv\n",
      "individual models\n",
      "cv\n",
      "individual models\n",
      "cv\n",
      "individual models\n",
      "cv\n",
      "individual models\n",
      "cv\n",
      "individual models\n",
      "cv\n",
      "individual models\n",
      "cv\n",
      "individual models\n",
      "cv\n",
      "individual models\n",
      "cv\n",
      "individual models\n",
      "cv\n",
      "individual models\n",
      "cv\n",
      "individual models\n",
      "cv\n",
      "individual models\n",
      "cv\n",
      "individual models\n",
      "cv\n",
      "individual models\n",
      "cv\n",
      "individual models\n",
      "cv\n",
      "individual models\n",
      "cv\n",
      "individual models\n",
      "cv\n",
      "individual models\n",
      "cv\n",
      "individual models\n",
      "cv\n",
      "individual models\n",
      "cv\n",
      "individual models\n",
      "cv\n",
      "individual models\n",
      "cv\n",
      "individual models\n",
      "cv\n",
      "individual models\n",
      "cv\n",
      "individual models\n",
      "cv\n",
      "individual models\n",
      "cv\n",
      "individual models\n",
      "cv\n",
      "individual models\n",
      "cv\n",
      "individual models\n",
      "cv\n",
      "individual models\n",
      "cv\n",
      "individual models\n",
      "cv\n",
      "individual models\n",
      "cv\n",
      "individual models\n",
      "cv\n",
      "individual models\n",
      "cv\n",
      "individual models\n",
      "cv\n",
      "individual models\n",
      "cv\n",
      "individual models\n",
      "cv\n",
      "\n",
      "model score of oof results for SVC\n",
      "Model Accuracy: 0.8854166666666666\n",
      "Precision: 0.891441968525302\n",
      "Recall (Sensitivity): 0.8854166666666666\n",
      "F1 Score: 0.8857571122577969\n",
      "Matthews Correlation Coefficient (MCC): 0.847046869768925\n",
      "G-Measure: 0.9229308733968031\n",
      "AUC: 0.9874409811139565\n",
      "Specificity: 0.9613969803670508\n",
      "Jaccard Index: 0.7977251412244541\n",
      "Created directory: /work/wanlab/nick/stackeval/0/val_data/individual models/SVC\n",
      "Saving metrics to: /work/wanlab/nick/stackeval/0/val_data/individual models/SVC/LIMMA(0),metrics.csv\n",
      "PREDICTIONS                   subtype  Squamous      ADEX  Pancreatic Progenitor  \\\n",
      "0   Pancreatic Progenitor  0.104153  0.034299               0.831219   \n",
      "1                    ADEX  0.036016  0.902246               0.016878   \n",
      "2   Pancreatic Progenitor  0.235256  0.193556               0.535657   \n",
      "3   Pancreatic Progenitor  0.009299  0.107869               0.795050   \n",
      "4                    ADEX  0.107363  0.751162               0.118414   \n",
      "..                    ...       ...       ...                    ...   \n",
      "91            Immunogenic  0.008164  0.068358               0.009340   \n",
      "92                   ADEX  0.007277  0.738579               0.196367   \n",
      "93            Immunogenic  0.037881  0.039695               0.391276   \n",
      "94               Squamous  0.631134  0.056401               0.282410   \n",
      "95  Pancreatic Progenitor  0.002083  0.021966               0.843428   \n",
      "\n",
      "    Immunogenic  \n",
      "0      0.030329  \n",
      "1      0.044859  \n",
      "2      0.035532  \n",
      "3      0.087782  \n",
      "4      0.023061  \n",
      "..          ...  \n",
      "91     0.914138  \n",
      "92     0.057777  \n",
      "93     0.531148  \n",
      "94     0.030055  \n",
      "95     0.132522  \n",
      "\n",
      "[96 rows x 5 columns]\n",
      "\n",
      "model score of oof results for SVC2\n",
      "Model Accuracy: 0.9375\n",
      "Precision: 0.9378672542735043\n",
      "Recall (Sensitivity): 0.9375\n",
      "F1 Score: 0.9374874949979993\n",
      "Matthews Correlation Coefficient (MCC): 0.9155529545059609\n",
      "G-Measure: 0.9579504330083998\n",
      "AUC: 0.9856112289265898\n",
      "Specificity: 0.9787358621425523\n",
      "Jaccard Index: 0.882714303670186\n",
      "Created directory: /work/wanlab/nick/stackeval/0/val_data/individual models/SVC2\n",
      "Saving metrics to: /work/wanlab/nick/stackeval/0/val_data/individual models/SVC2/LIMMA(0),metrics.csv\n",
      "PREDICTIONS                   subtype  Squamous      ADEX  Pancreatic Progenitor  \\\n",
      "0   Pancreatic Progenitor  0.185740  0.040077               0.737712   \n",
      "1                    ADEX  0.081180  0.807983               0.034115   \n",
      "2   Pancreatic Progenitor  0.332865  0.168598               0.461317   \n",
      "3   Pancreatic Progenitor  0.012481  0.069808               0.857014   \n",
      "4                    ADEX  0.257273  0.455727               0.253229   \n",
      "..                    ...       ...       ...                    ...   \n",
      "91            Immunogenic  0.017441  0.093092               0.013763   \n",
      "92                   ADEX  0.026046  0.766712               0.114984   \n",
      "93            Immunogenic  0.087729  0.032901               0.691779   \n",
      "94               Squamous  0.626932  0.028446               0.324979   \n",
      "95  Pancreatic Progenitor  0.003161  0.020313               0.811111   \n",
      "\n",
      "    Immunogenic  \n",
      "0      0.036471  \n",
      "1      0.076722  \n",
      "2      0.037220  \n",
      "3      0.060697  \n",
      "4      0.033771  \n",
      "..          ...  \n",
      "91     0.875704  \n",
      "92     0.092257  \n",
      "93     0.187591  \n",
      "94     0.019643  \n",
      "95     0.165415  \n",
      "\n",
      "[96 rows x 5 columns]\n",
      "运行时间为: 24.45 秒\n",
      "combining [[1.04153079e-01 3.42987934e-02 8.31219145e-01 3.03289820e-02\n",
      "  1.85739531e-01 4.00771843e-02 7.37711951e-01 3.64713344e-02]\n",
      " [3.60161016e-02 9.02246427e-01 1.68782452e-02 4.48592261e-02\n",
      "  8.11795796e-02 8.07983497e-01 3.41152153e-02 7.67217083e-02]\n",
      " [2.35255579e-01 1.93555849e-01 5.35656597e-01 3.55319744e-02\n",
      "  3.32864876e-01 1.68598390e-01 4.61316651e-01 3.72200830e-02]\n",
      " [9.29857534e-03 1.07869088e-01 7.95050089e-01 8.77822478e-02\n",
      "  1.24807025e-02 6.98082473e-02 8.57013594e-01 6.06974562e-02]\n",
      " [1.07363283e-01 7.51161724e-01 1.18413727e-01 2.30612664e-02\n",
      "  2.57272517e-01 4.55727135e-01 2.53229424e-01 3.37709239e-02]\n",
      " [4.88781776e-03 7.17500059e-03 4.71139538e-02 9.40823228e-01\n",
      "  5.87075020e-03 9.07588835e-03 6.30331551e-02 9.22020206e-01]\n",
      " [8.76630976e-02 2.55971743e-02 8.59139454e-01 2.76002744e-02\n",
      "  1.80533893e-01 2.51522910e-02 7.59402140e-01 3.49116758e-02]\n",
      " [9.15220913e-03 2.73806822e-02 9.51578340e-01 1.18887691e-02\n",
      "  2.15636872e-02 6.08412615e-02 8.48197946e-01 6.93971052e-02]\n",
      " [3.32749662e-01 2.94393621e-02 2.57732310e-01 3.80078666e-01\n",
      "  4.00109028e-01 2.10990688e-02 3.48160195e-01 2.30631709e-01]\n",
      " [2.15498956e-01 9.97289549e-02 6.03961327e-01 8.08107617e-02\n",
      "  3.12294570e-01 9.47822577e-02 4.71096046e-01 1.21827126e-01]\n",
      " [2.64106500e-03 9.81189557e-01 1.42251915e-03 1.47468591e-02\n",
      "  3.66049277e-03 9.87097189e-01 1.49605459e-03 7.74626408e-03]\n",
      " [8.07439994e-02 1.00281921e-01 7.97861733e-01 2.11123458e-02\n",
      "  8.24835565e-02 8.95136185e-02 8.04201334e-01 2.38014913e-02]\n",
      " [1.68353242e-02 3.27614981e-03 1.25338691e-02 9.67354657e-01\n",
      "  1.88558516e-02 2.02356436e-03 3.51809386e-02 9.43939645e-01]\n",
      " [7.98374466e-01 1.66978275e-02 5.24064252e-02 1.32521281e-01\n",
      "  7.36775776e-01 9.38544178e-03 8.61772494e-02 1.67661532e-01]\n",
      " [4.64865004e-02 1.90903568e-02 9.24511644e-01 9.91149846e-03\n",
      "  5.02675457e-02 1.71217948e-02 9.28357195e-01 4.25346413e-03]\n",
      " [1.25846899e-01 2.47737552e-01 2.43813596e-01 3.82601953e-01\n",
      "  1.86517792e-01 1.54730877e-01 2.63075130e-01 3.95676202e-01]\n",
      " [1.26067039e-03 4.72402049e-03 9.84043248e-01 9.97206066e-03\n",
      "  3.15156776e-07 3.64676531e-07 9.99650585e-01 3.48735424e-04]\n",
      " [8.78638557e-01 8.56447882e-02 2.52891369e-02 1.04275183e-02\n",
      "  8.84838747e-01 7.60456382e-02 2.52480525e-02 1.38675627e-02]\n",
      " [2.28033191e-01 1.55650042e-02 4.84801084e-01 2.71600721e-01\n",
      "  4.10559004e-01 1.10748746e-02 4.18845524e-01 1.59520598e-01]\n",
      " [1.25550458e-02 8.09084814e-02 8.51682681e-01 5.48537915e-02\n",
      "  1.29327175e-02 4.70615039e-02 8.99695593e-01 4.03101856e-02]\n",
      " [7.77297551e-02 2.43761043e-02 1.56851151e-02 8.82209025e-01\n",
      "  7.57121440e-02 1.67614707e-02 1.31585065e-02 8.94367879e-01]\n",
      " [9.10596675e-01 5.50083305e-02 6.67653714e-03 2.77184571e-02\n",
      "  9.09478484e-01 3.76853809e-02 1.01561375e-02 4.26799976e-02]\n",
      " [8.69303112e-02 1.02462870e-02 7.22887432e-02 8.30534659e-01\n",
      "  1.61620493e-01 8.82717591e-03 1.46235937e-01 6.83316394e-01]\n",
      " [9.24895491e-03 9.82099051e-01 3.17988636e-03 5.47210795e-03\n",
      "  5.49814737e-03 9.61152434e-01 1.67953847e-02 1.65540342e-02]\n",
      " [3.84777035e-03 1.86613790e-03 1.56956977e-03 9.92716522e-01\n",
      "  2.85602916e-03 1.22764217e-03 9.62743790e-04 9.94953585e-01]\n",
      " [1.12817547e-02 6.82964654e-02 8.68874034e-01 5.15477455e-02\n",
      "  3.36260705e-02 6.98415397e-02 7.55925813e-01 1.40606577e-01]\n",
      " [4.56267903e-02 2.13139986e-02 2.14899455e-01 7.18159756e-01\n",
      "  6.42945047e-02 1.67684902e-02 1.62786060e-01 7.56150945e-01]\n",
      " [1.42651299e-01 2.19916321e-02 2.08140848e-01 6.27216220e-01\n",
      "  8.04969009e-02 6.41209574e-03 5.71915227e-01 3.41175777e-01]\n",
      " [3.60065308e-03 9.01626347e-02 8.62017495e-01 4.42192177e-02\n",
      "  7.34068313e-03 5.19532891e-02 8.59658087e-01 8.10479411e-02]\n",
      " [2.70229865e-03 1.97726080e-02 1.68318933e-01 8.09206160e-01\n",
      "  3.71715841e-03 1.59317380e-02 1.44994994e-01 8.35356109e-01]\n",
      " [2.56084979e-02 1.95149090e-02 1.23386966e-01 8.31489627e-01\n",
      "  4.33900619e-02 1.21834416e-02 1.20922788e-01 8.23503709e-01]\n",
      " [5.06024399e-03 6.52614423e-01 9.32206664e-02 2.49104667e-01\n",
      "  1.13006710e-02 6.91484979e-01 1.19033253e-01 1.78181097e-01]\n",
      " [1.50138041e-01 7.99216948e-01 3.51801060e-02 1.54649056e-02\n",
      "  5.24182581e-02 9.26744847e-01 1.78123692e-02 3.02452565e-03]\n",
      " [9.81739485e-01 8.38121036e-03 3.57216620e-03 6.30713804e-03\n",
      "  9.79762994e-01 7.82965942e-03 7.58155838e-03 4.82578777e-03]\n",
      " [4.22107040e-03 6.36997927e-01 7.87881467e-02 2.79992855e-01\n",
      "  4.89414366e-03 7.04216687e-01 6.67811328e-02 2.24108037e-01]\n",
      " [8.28175557e-01 1.27387206e-01 2.49240948e-03 4.19448275e-02\n",
      "  7.97189077e-01 7.19650599e-02 9.44692898e-03 1.21398934e-01]\n",
      " [9.84464066e-01 1.61208670e-03 4.40850917e-03 9.51533764e-03\n",
      "  9.90218390e-01 6.99517273e-04 3.18377668e-03 5.89831614e-03]\n",
      " [2.84999892e-03 8.99044428e-01 8.95927876e-02 8.51278593e-03\n",
      "  6.81380898e-03 6.64534848e-01 3.11819575e-01 1.68317679e-02]\n",
      " [8.25967863e-01 4.62400741e-02 1.19855786e-01 7.93627660e-03\n",
      "  7.64532201e-01 3.69006421e-02 1.90010356e-01 8.55680105e-03]\n",
      " [9.92785830e-01 2.15987490e-03 4.07838384e-04 4.64645636e-03\n",
      "  9.93107976e-01 2.08213970e-03 9.80808471e-04 3.82907616e-03]\n",
      " [5.13533187e-03 7.58574610e-01 2.10214643e-01 2.60754153e-02\n",
      "  9.26171119e-03 6.35354759e-01 3.10052543e-01 4.53309870e-02]\n",
      " [4.46826976e-02 4.35808884e-02 3.07554449e-01 6.04181965e-01\n",
      "  4.97812927e-02 2.91289952e-02 7.58988285e-02 8.45190884e-01]\n",
      " [9.95299548e-01 3.35297058e-04 1.41089414e-04 4.22406577e-03\n",
      "  9.94572987e-01 1.01162380e-04 3.07527329e-04 5.01832363e-03]\n",
      " [4.05077488e-02 9.53993548e-02 8.55723298e-01 8.36959871e-03\n",
      "  7.64531101e-02 1.07240616e-01 8.02034075e-01 1.42721994e-02]\n",
      " [2.15143917e-01 1.51468517e-02 4.54186486e-02 7.24290583e-01\n",
      "  1.21215210e-01 3.73909354e-03 4.20538330e-02 8.32991864e-01]\n",
      " [4.63130741e-01 3.90878225e-01 1.42610720e-01 3.38031336e-03\n",
      "  2.91662487e-01 5.72417989e-01 1.28728343e-01 7.19118040e-03]\n",
      " [6.93378305e-01 8.82988411e-03 2.23216227e-01 7.45755835e-02\n",
      "  5.97298573e-01 4.61067260e-03 3.74199964e-01 2.38907899e-02]\n",
      " [5.79126183e-02 2.31236408e-02 9.00750831e-01 1.82129094e-02\n",
      "  4.21717373e-02 2.01843260e-02 9.20958979e-01 1.66849580e-02]\n",
      " [1.36085955e-02 7.13072145e-03 1.26926239e-01 8.52334445e-01\n",
      "  1.50808792e-02 4.29845191e-03 1.08194396e-01 8.72426273e-01]\n",
      " [1.51127601e-02 9.84729782e-02 7.02786365e-01 1.83627896e-01\n",
      "  3.54164975e-02 5.40642295e-02 7.25078968e-01 1.85440305e-01]\n",
      " [4.28146290e-01 1.78703395e-02 3.33434300e-01 2.20549070e-01\n",
      "  4.62392336e-01 1.29354172e-02 4.65726073e-01 5.89461737e-02]\n",
      " [8.31050130e-01 6.62129069e-02 1.00388184e-01 2.34877816e-03\n",
      "  8.46457874e-01 5.61208544e-02 9.25714632e-02 4.84980874e-03]\n",
      " [4.53289750e-03 2.97260370e-02 1.39774140e-02 9.51763651e-01\n",
      "  5.35875850e-03 3.38299803e-02 2.45129978e-02 9.36298263e-01]\n",
      " [1.65042245e-02 8.69217033e-01 9.07287793e-02 2.35499633e-02\n",
      "  4.01495970e-02 5.76490789e-01 3.39397354e-01 4.39622600e-02]\n",
      " [9.94185091e-01 6.91303214e-04 2.90930272e-04 4.83267514e-03\n",
      "  9.95012347e-01 1.07948385e-04 1.77983634e-04 4.70172085e-03]\n",
      " [3.40199003e-02 1.00978645e-02 8.78447241e-01 7.74349937e-02\n",
      "  7.49903205e-02 9.47249314e-03 8.83309753e-01 3.22274337e-02]\n",
      " [9.22715605e-01 1.34401429e-02 3.97157463e-02 2.41285063e-02\n",
      "  9.53194476e-01 5.04674274e-03 3.31500684e-02 8.60871316e-03]\n",
      " [9.82750230e-01 2.08275459e-03 6.74776218e-03 8.41925338e-03\n",
      "  9.84114163e-01 8.96571099e-04 8.64328816e-03 6.34597796e-03]\n",
      " [9.22668501e-02 1.18531159e-01 7.35408883e-01 5.37931081e-02\n",
      "  3.15273390e-02 1.63578027e-02 9.46147533e-01 5.96732509e-03]\n",
      " [8.89841003e-01 5.19651351e-02 1.17368240e-02 4.64570383e-02\n",
      "  9.62897073e-01 1.96953612e-02 9.08469763e-03 8.32286849e-03]\n",
      " [4.35406251e-03 2.17162582e-02 3.40564759e-01 6.33364920e-01\n",
      "  8.98707012e-03 1.79406757e-02 2.93942299e-01 6.79129956e-01]\n",
      " [1.04000844e-01 7.96274286e-01 5.59873008e-02 4.37375688e-02\n",
      "  9.45699192e-02 7.69216322e-01 5.52434481e-02 8.09703107e-02]\n",
      " [2.79774402e-01 5.46152732e-02 3.54270398e-01 3.11339927e-01\n",
      "  2.18955942e-01 4.19400279e-02 3.72712104e-01 3.66391926e-01]\n",
      " [2.66260069e-03 1.71074164e-03 2.19082904e-03 9.93435829e-01\n",
      "  1.23138596e-03 2.03116907e-03 1.24551654e-03 9.95491928e-01]\n",
      " [3.49945459e-01 1.54445630e-02 3.03477155e-01 3.31132823e-01\n",
      "  3.67893363e-01 1.08074500e-02 4.99540451e-01 1.21758736e-01]\n",
      " [2.21027885e-02 3.01042976e-03 1.14744492e-01 8.60142290e-01\n",
      "  3.24034449e-02 2.07545753e-03 3.94208136e-02 9.26100284e-01]\n",
      " [2.55594224e-01 6.12975800e-01 1.14340451e-01 1.70895240e-02\n",
      "  1.25023540e-01 7.91249203e-01 6.83987683e-02 1.53284880e-02]\n",
      " [8.63187148e-01 2.68510971e-02 8.90676240e-02 2.08941305e-02\n",
      "  8.70554108e-01 1.81495428e-02 9.78455632e-02 1.34507861e-02]\n",
      " [5.80316432e-01 3.06708375e-01 1.05991086e-01 6.98410726e-03\n",
      "  5.02335097e-01 4.08484297e-01 7.76709618e-02 1.15096437e-02]\n",
      " [1.00000693e-01 1.54204770e-01 1.14068432e-01 6.31726104e-01\n",
      "  9.17195386e-02 1.14190226e-01 1.19373081e-01 6.74717154e-01]\n",
      " [4.80915018e-03 1.06862520e-02 9.55913942e-01 2.85906557e-02\n",
      "  1.04411537e-02 1.36194342e-02 9.58185865e-01 1.77535471e-02]\n",
      " [1.51190573e-02 2.35584211e-02 2.50723785e-01 7.10598737e-01\n",
      "  3.16931460e-02 3.97552335e-02 4.11070715e-01 5.17480906e-01]\n",
      " [4.10014792e-01 1.06230933e-01 3.31598075e-01 1.52156200e-01\n",
      "  4.18904145e-01 8.49605501e-02 3.16713326e-01 1.79421979e-01]\n",
      " [7.60381620e-02 7.07091872e-01 1.84856533e-01 3.20134333e-02\n",
      "  4.93379313e-02 7.85301508e-01 1.27544177e-01 3.78163838e-02]\n",
      " [2.26133498e-02 6.10595108e-02 6.77582225e-02 8.48568917e-01\n",
      "  2.50515552e-02 7.74885383e-02 2.64960803e-01 6.32499104e-01]\n",
      " [9.33461156e-03 2.21586775e-02 7.42676132e-01 2.25830578e-01\n",
      "  2.96040035e-02 3.37204863e-02 5.98465001e-01 3.38210509e-01]\n",
      " [1.93225860e-03 9.93503780e-01 8.82969086e-04 3.68099199e-03\n",
      "  8.54840080e-04 9.93077659e-01 1.07283965e-03 4.99466169e-03]\n",
      " [8.60924790e-03 2.84922241e-02 8.17380157e-01 1.45518371e-01\n",
      "  7.12671250e-03 1.57758414e-02 9.14701610e-01 6.23958357e-02]\n",
      " [4.00403166e-03 6.32102875e-03 9.30225803e-01 5.94491370e-02\n",
      "  9.92717068e-03 1.09504526e-02 9.05633196e-01 7.34891802e-02]\n",
      " [9.94119033e-03 8.31233350e-03 8.40059806e-03 9.73345878e-01\n",
      "  1.62379959e-02 7.27081508e-03 2.34060915e-02 9.53085097e-01]\n",
      " [9.95944313e-01 9.07242330e-04 6.68405304e-04 2.48003903e-03\n",
      "  9.97636581e-01 8.94893625e-05 1.79777601e-03 4.76154095e-04]\n",
      " [7.30508813e-01 2.41235920e-01 1.91220040e-02 9.13326369e-03\n",
      "  5.45794614e-01 4.09551716e-01 1.72327213e-02 2.74209485e-02]\n",
      " [2.41992182e-03 9.07606250e-04 4.28335849e-04 9.96244136e-01\n",
      "  3.47026453e-03 4.64110764e-04 9.99385948e-04 9.95066239e-01]\n",
      " [4.21545035e-01 4.13530006e-01 1.44607157e-01 2.03178023e-02\n",
      "  3.87769780e-01 3.86252082e-01 1.96437694e-01 2.95404437e-02]\n",
      " [6.87285514e-01 4.41234914e-02 5.72103601e-03 2.62869958e-01\n",
      "  6.01174512e-01 1.23841710e-02 5.25092388e-03 3.81190393e-01]\n",
      " [3.86359223e-01 2.07836531e-02 1.85824848e-01 4.07032276e-01\n",
      "  5.11326515e-01 4.73309525e-02 1.82161202e-01 2.59181331e-01]\n",
      " [9.74761235e-01 7.81836275e-03 7.89238396e-03 9.52801859e-03\n",
      "  9.58207449e-01 2.35653469e-03 1.86042056e-02 2.08318110e-02]\n",
      " [3.68009102e-02 5.69605539e-02 9.01138262e-01 5.10027377e-03\n",
      "  4.48221007e-02 6.57321109e-02 8.82104714e-01 7.34107443e-03]\n",
      " [2.04666537e-02 2.13700209e-01 7.63878320e-01 1.95481731e-03\n",
      "  1.89276573e-02 1.81589363e-01 7.96967238e-01 2.51574190e-03]\n",
      " [2.40962950e-02 2.05377585e-02 2.39607377e-02 9.31405209e-01\n",
      "  4.45779779e-02 2.78495067e-02 5.19544568e-02 8.75618059e-01]\n",
      " [2.07846184e-02 3.26983553e-02 3.62941931e-01 5.83575095e-01\n",
      "  3.56894543e-02 3.04255762e-02 3.47800368e-01 5.86084602e-01]\n",
      " [8.16412245e-03 6.83575941e-02 9.34028124e-03 9.14138002e-01\n",
      "  1.74406207e-02 9.30918886e-02 1.37631496e-02 8.75704341e-01]\n",
      " [7.27748773e-03 7.38578996e-01 1.96366590e-01 5.77769261e-02\n",
      "  2.60461966e-02 7.66712163e-01 1.14984347e-01 9.22572940e-02]\n",
      " [3.78806724e-02 3.96953266e-02 3.91276128e-01 5.31147873e-01\n",
      "  8.77287994e-02 3.29005632e-02 6.91779389e-01 1.87591248e-01]\n",
      " [6.31134191e-01 5.64013089e-02 2.82409519e-01 3.00549813e-02\n",
      "  6.26932025e-01 2.84458958e-02 3.24978702e-01 1.96433766e-02]\n",
      " [2.08340269e-03 2.19662141e-02 8.43427932e-01 1.32522451e-01\n",
      "  3.16057141e-03 2.03132593e-02 8.11111119e-01 1.65415051e-01]] [[13.56018914 12.68466835 13.10243664 ...  9.53005478 11.16103308\n",
      "  11.24920229]\n",
      " [15.4259582  14.08525845 12.01110512 ...  9.45622747 11.12707631\n",
      "  11.78331935]\n",
      " [14.4756837  13.26517897 12.82291838 ...  9.65623065 11.33179862\n",
      "  11.68015036]\n",
      " ...\n",
      " [14.28976923 13.62192201 12.67277184 ...  9.32578912  9.67174085\n",
      "  11.45401981]\n",
      " [14.71684472 13.81278796 13.58508909 ... 10.31590684 12.7838795\n",
      "  11.90067493]\n",
      " [14.18823419 12.92657629 11.70868561 ...  9.88942006  9.76636631\n",
      "  12.84604452]]\n",
      "stacked\n",
      "cv\n",
      "stacked\n",
      "cv\n",
      "stacked\n",
      "cv\n",
      "stacked\n",
      "cv\n",
      "stacked\n",
      "cv\n",
      "stacked\n",
      "cv\n",
      "stacked\n",
      "cv\n",
      "stacked\n",
      "cv\n",
      "stacked\n",
      "cv\n",
      "stacked\n",
      "cv\n",
      "stacked\n",
      "cv\n",
      "stacked\n",
      "cv\n",
      "stacked\n",
      "cv\n",
      "stacked\n",
      "cv\n",
      "stacked\n",
      "cv\n",
      "stacked\n",
      "cv\n",
      "stacked\n",
      "cv\n",
      "stacked\n",
      "cv\n",
      "stacked\n",
      "cv\n",
      "stacked\n",
      "cv\n",
      "stacked\n",
      "cv\n",
      "stacked\n",
      "cv\n",
      "stacked\n",
      "cv\n",
      "stacked\n",
      "cv\n",
      "stacked\n",
      "cv\n",
      "stacked\n",
      "cv\n",
      "stacked\n",
      "cv\n",
      "stacked\n",
      "cv\n",
      "stacked\n",
      "cv\n",
      "stacked\n",
      "cv\n",
      "stacked\n",
      "cv\n",
      "stacked\n",
      "cv\n",
      "stacked\n",
      "cv\n",
      "stacked\n",
      "cv\n",
      "stacked\n",
      "cv\n",
      "stacked\n",
      "cv\n",
      "stacked\n",
      "cv\n",
      "stacked\n",
      "cv\n",
      "stacked\n",
      "cv\n",
      "stacked\n",
      "cv\n",
      "stacked\n",
      "cv\n",
      "stacked\n",
      "cv\n",
      "stacked\n",
      "cv\n",
      "stacked\n",
      "cv\n",
      "stacked\n",
      "cv\n",
      "stacked\n",
      "cv\n",
      "stacked\n",
      "cv\n",
      "stacked\n",
      "cv\n",
      "stacked\n",
      "cv\n",
      "stacked\n",
      "cv\n",
      "stacked\n",
      "cv\n",
      "stacked\n",
      "cv\n",
      "stacked\n",
      "cv\n",
      "stacked\n",
      "cv\n",
      "stacked\n",
      "cv\n",
      "stacked\n",
      "cv\n",
      "stacked\n",
      "cv\n",
      "stacked\n",
      "cv\n",
      "stacked\n",
      "cv\n",
      "stacked\n",
      "cv\n",
      "stacked\n",
      "cv\n",
      "stacked\n",
      "cv\n",
      "stacked\n",
      "cv\n",
      "stacked\n",
      "cv\n",
      "stacked\n",
      "cv\n",
      "stacked\n",
      "cv\n",
      "stacked\n",
      "cv\n",
      "stacked\n",
      "cv\n",
      "stacked\n",
      "cv\n",
      "stacked\n",
      "cv\n",
      "stacked\n",
      "cv\n",
      "stacked\n",
      "cv\n",
      "stacked\n",
      "cv\n",
      "stacked\n",
      "cv\n",
      "stacked\n",
      "cv\n",
      "stacked\n",
      "cv\n",
      "stacked\n",
      "cv\n",
      "stacked\n",
      "cv\n",
      "stacked\n",
      "cv\n",
      "stacked\n",
      "cv\n",
      "stacked\n",
      "cv\n",
      "stacked\n",
      "cv\n",
      "stacked\n",
      "cv\n",
      "stacked\n",
      "cv\n",
      "stacked\n",
      "cv\n",
      "stacked\n",
      "cv\n",
      "stacked\n",
      "cv\n",
      "stacked\n",
      "cv\n",
      "stacked\n",
      "cv\n",
      "stacked\n",
      "cv\n",
      "stacked\n",
      "cv\n",
      "stacked\n",
      "cv\n",
      "stacked\n",
      "cv\n",
      "stacked\n",
      "cv\n",
      "stacked\n",
      "cv\n",
      "stacked\n",
      "cv\n",
      "\n",
      "model score of oof results for SVC3\n",
      "Model Accuracy: 0.875\n",
      "Precision: 0.8798649267399267\n",
      "Recall (Sensitivity): 0.875\n",
      "F1 Score: 0.8751610313936894\n",
      "Matthews Correlation Coefficient (MCC): 0.8329181448543629\n",
      "G-Measure: 0.9162567046538834\n",
      "AUC: 0.9880669036313843\n",
      "Specificity: 0.9582719803670507\n",
      "Jaccard Index: 0.7779538993943889\n",
      "Created directory: /work/wanlab/nick/stackeval/0/val_data/stacked/SVC3\n",
      "Saving metrics to: /work/wanlab/nick/stackeval/0/val_data/stacked/SVC3/LIMMA(0),metrics.csv\n",
      "PREDICTIONS                   subtype  Squamous      ADEX  Pancreatic Progenitor  \\\n",
      "0             Immunogenic  0.003671  0.002655               0.000982   \n",
      "1                    ADEX  0.024787  0.872296               0.078621   \n",
      "2   Pancreatic Progenitor  0.001970  0.022935               0.850626   \n",
      "3   Pancreatic Progenitor  0.004685  0.062673               0.896415   \n",
      "4   Pancreatic Progenitor  0.028327  0.096226               0.869650   \n",
      "..                    ...       ...       ...                    ...   \n",
      "91                   ADEX  0.004842  0.735300               0.074703   \n",
      "92               Squamous  0.993163  0.000511               0.000248   \n",
      "93                   ADEX  0.077700  0.732454               0.163657   \n",
      "94  Pancreatic Progenitor  0.003252  0.775090               0.193015   \n",
      "95               Squamous  0.388286  0.399833               0.192604   \n",
      "\n",
      "    Immunogenic  \n",
      "0      0.992692  \n",
      "1      0.024296  \n",
      "2      0.124469  \n",
      "3      0.036227  \n",
      "4      0.005798  \n",
      "..          ...  \n",
      "91     0.185154  \n",
      "92     0.006078  \n",
      "93     0.026188  \n",
      "94     0.028642  \n",
      "95     0.019276  \n",
      "\n",
      "[96 rows x 5 columns]\n",
      "\n",
      "model score of oof results for SVC4\n",
      "Model Accuracy: 0.9270833333333334\n",
      "Precision: 0.9282457295657727\n",
      "Recall (Sensitivity): 0.9270833333333334\n",
      "F1 Score: 0.927124353652804\n",
      "Matthews Correlation Coefficient (MCC): 0.9017909960019698\n",
      "G-Measure: 0.9519085598926197\n",
      "AUC: 0.9857636665955326\n",
      "Specificity: 0.9752147353819889\n",
      "Jaccard Index: 0.8669652957336781\n",
      "Created directory: /work/wanlab/nick/stackeval/0/val_data/stacked/SVC4\n",
      "Saving metrics to: /work/wanlab/nick/stackeval/0/val_data/stacked/SVC4/LIMMA(0),metrics.csv\n",
      "PREDICTIONS                   subtype  Squamous      ADEX  Pancreatic Progenitor  \\\n",
      "0             Immunogenic  0.002988  0.001463               0.000706   \n",
      "1                    ADEX  0.043539  0.592371               0.320291   \n",
      "2   Pancreatic Progenitor  0.003851  0.027572               0.758519   \n",
      "3   Pancreatic Progenitor  0.015898  0.075962               0.851209   \n",
      "4   Pancreatic Progenitor  0.051928  0.079757               0.860483   \n",
      "..                    ...       ...       ...                    ...   \n",
      "91                   ADEX  0.010025  0.658468               0.148344   \n",
      "92               Squamous  0.994860  0.000144               0.000331   \n",
      "93                   ADEX  0.058533  0.770207               0.133890   \n",
      "94  Pancreatic Progenitor  0.007671  0.630182               0.319488   \n",
      "95               Squamous  0.407277  0.380690               0.184086   \n",
      "\n",
      "    Immunogenic  \n",
      "0      0.994844  \n",
      "1      0.043799  \n",
      "2      0.210058  \n",
      "3      0.056932  \n",
      "4      0.007832  \n",
      "..          ...  \n",
      "91     0.183162  \n",
      "92     0.004665  \n",
      "93     0.037370  \n",
      "94     0.042659  \n",
      "95     0.027947  \n",
      "\n",
      "[96 rows x 5 columns]\n",
      "Random state: 1\n",
      "['SVC', 'SVC2']\n",
      "individual models\n",
      "cv\n",
      "individual models\n",
      "cv\n",
      "individual models\n",
      "cv\n",
      "individual models\n",
      "cv\n",
      "individual models\n",
      "cv\n",
      "individual models\n",
      "cv\n",
      "individual models\n",
      "cv\n",
      "individual models\n",
      "cv\n",
      "individual models\n",
      "cv\n",
      "individual models\n",
      "cv\n",
      "individual models\n",
      "cv\n",
      "individual models\n",
      "cv\n",
      "individual models\n",
      "cv\n",
      "individual models\n",
      "cv\n",
      "individual models\n",
      "cv\n",
      "individual models\n",
      "cv\n",
      "individual models\n",
      "cv\n",
      "individual models\n",
      "cv\n",
      "individual models\n",
      "cv\n",
      "individual models\n",
      "cv\n",
      "individual models\n",
      "cv\n",
      "individual models\n",
      "cv\n",
      "individual models\n",
      "cv\n",
      "individual models\n",
      "cv\n",
      "individual models\n",
      "cv\n",
      "individual models\n",
      "cv\n",
      "individual models\n",
      "cv\n",
      "individual models\n",
      "cv\n",
      "individual models\n",
      "cv\n",
      "individual models\n",
      "cv\n",
      "individual models\n",
      "cv\n",
      "individual models\n",
      "cv\n",
      "individual models\n",
      "cv\n",
      "individual models\n",
      "cv\n",
      "individual models\n",
      "cv\n",
      "individual models\n",
      "cv\n",
      "individual models\n",
      "cv\n",
      "individual models\n",
      "cv\n",
      "individual models\n",
      "cv\n",
      "individual models\n",
      "cv\n",
      "individual models\n",
      "cv\n",
      "individual models\n",
      "cv\n",
      "individual models\n",
      "cv\n",
      "individual models\n",
      "cv\n",
      "individual models\n",
      "cv\n",
      "individual models\n",
      "cv\n",
      "individual models\n",
      "cv\n",
      "individual models\n",
      "cv\n",
      "individual models\n",
      "cv\n",
      "individual models\n",
      "cv\n",
      "individual models\n",
      "cv\n",
      "individual models\n",
      "cv\n",
      "individual models\n",
      "cv\n",
      "individual models\n",
      "cv\n",
      "individual models\n",
      "cv\n",
      "individual models\n",
      "cv\n",
      "individual models\n",
      "cv\n",
      "individual models\n",
      "cv\n",
      "individual models\n",
      "cv\n",
      "individual models\n",
      "cv\n",
      "individual models\n",
      "cv\n",
      "individual models\n",
      "cv\n",
      "individual models\n",
      "cv\n",
      "individual models\n",
      "cv\n",
      "individual models\n",
      "cv\n",
      "individual models\n",
      "cv\n",
      "individual models\n",
      "cv\n",
      "individual models\n",
      "cv\n",
      "individual models\n",
      "cv\n",
      "individual models\n",
      "cv\n",
      "individual models\n",
      "cv\n",
      "individual models\n",
      "cv\n",
      "individual models\n",
      "cv\n",
      "individual models\n",
      "cv\n",
      "individual models\n",
      "cv\n",
      "individual models\n",
      "cv\n",
      "individual models\n",
      "cv\n",
      "individual models\n",
      "cv\n",
      "individual models\n",
      "cv\n",
      "individual models\n",
      "cv\n",
      "individual models\n",
      "cv\n",
      "individual models\n",
      "cv\n",
      "individual models\n",
      "cv\n",
      "individual models\n",
      "cv\n",
      "individual models\n",
      "cv\n",
      "individual models\n",
      "cv\n",
      "individual models\n",
      "cv\n",
      "individual models\n",
      "cv\n",
      "individual models\n",
      "cv\n",
      "individual models\n",
      "cv\n",
      "individual models\n",
      "cv\n",
      "individual models\n",
      "cv\n",
      "individual models\n",
      "cv\n",
      "individual models\n",
      "cv\n",
      "individual models\n",
      "cv\n",
      "individual models\n",
      "cv\n",
      "\n",
      "model score of oof results for SVC\n",
      "Model Accuracy: 0.8854166666666666\n",
      "Precision: 0.891441968525302\n",
      "Recall (Sensitivity): 0.8854166666666666\n",
      "F1 Score: 0.8857571122577969\n",
      "Matthews Correlation Coefficient (MCC): 0.847046869768925\n",
      "G-Measure: 0.9229308733968031\n",
      "AUC: 0.9880062731185091\n",
      "Specificity: 0.9613969803670508\n",
      "Jaccard Index: 0.7977251412244541\n",
      "Created directory: /work/wanlab/nick/stackeval/1/val_data/individual models/SVC\n",
      "Saving metrics to: /work/wanlab/nick/stackeval/1/val_data/individual models/SVC/LIMMA(1),metrics.csv\n",
      "PREDICTIONS                   subtype  Squamous      ADEX  Pancreatic Progenitor  \\\n",
      "0             Immunogenic  0.003146  0.018552               0.172424   \n",
      "1   Pancreatic Progenitor  0.040260  0.110878               0.841021   \n",
      "2                    ADEX  0.114306  0.796044               0.049114   \n",
      "3   Pancreatic Progenitor  0.042297  0.066301               0.885141   \n",
      "4                Squamous  0.974510  0.009134               0.007829   \n",
      "..                    ...       ...       ...                    ...   \n",
      "91                   ADEX  0.115432  0.734386               0.127785   \n",
      "92                   ADEX  0.568740  0.324285               0.100257   \n",
      "93  Pancreatic Progenitor  0.228741  0.014805               0.459715   \n",
      "94            Immunogenic  0.018151  0.057057               0.086171   \n",
      "95               Squamous  0.883941  0.073163               0.031159   \n",
      "\n",
      "    Immunogenic  \n",
      "0      0.805878  \n",
      "1      0.007842  \n",
      "2      0.040536  \n",
      "3      0.006260  \n",
      "4      0.008527  \n",
      "..          ...  \n",
      "91     0.022397  \n",
      "92     0.006718  \n",
      "93     0.296739  \n",
      "94     0.838622  \n",
      "95     0.011738  \n",
      "\n",
      "[96 rows x 5 columns]\n",
      "\n",
      "model score of oof results for SVC2\n",
      "Model Accuracy: 0.9375\n",
      "Precision: 0.9378672542735043\n",
      "Recall (Sensitivity): 0.9375\n",
      "F1 Score: 0.9374874949979993\n",
      "Matthews Correlation Coefficient (MCC): 0.9155529545059609\n",
      "G-Measure: 0.9579504330083998\n",
      "AUC: 0.9860459791577748\n",
      "Specificity: 0.9787358621425523\n",
      "Jaccard Index: 0.882714303670186\n",
      "Created directory: /work/wanlab/nick/stackeval/1/val_data/individual models/SVC2\n",
      "Saving metrics to: /work/wanlab/nick/stackeval/1/val_data/individual models/SVC2/LIMMA(1),metrics.csv\n",
      "PREDICTIONS                   subtype  Squamous      ADEX  Pancreatic Progenitor  \\\n",
      "0             Immunogenic  0.003657  0.017112               0.157757   \n",
      "1   Pancreatic Progenitor  0.065078  0.074219               0.849871   \n",
      "2                    ADEX  0.108855  0.745319               0.057632   \n",
      "3   Pancreatic Progenitor  0.052772  0.088731               0.849940   \n",
      "4                Squamous  0.963353  0.001760               0.009962   \n",
      "..                    ...       ...       ...                    ...   \n",
      "91                   ADEX  0.265857  0.451374               0.247790   \n",
      "92                   ADEX  0.488317  0.423049               0.078058   \n",
      "93  Pancreatic Progenitor  0.380954  0.010998               0.454670   \n",
      "94            Immunogenic  0.024538  0.061103               0.275466   \n",
      "95               Squamous  0.854745  0.095893               0.032358   \n",
      "\n",
      "    Immunogenic  \n",
      "0      0.821474  \n",
      "1      0.010831  \n",
      "2      0.088194  \n",
      "3      0.008557  \n",
      "4      0.024925  \n",
      "..          ...  \n",
      "91     0.034979  \n",
      "92     0.010576  \n",
      "93     0.153378  \n",
      "94     0.638893  \n",
      "95     0.017004  \n",
      "\n",
      "[96 rows x 5 columns]\n",
      "运行时间为: 24.28 秒\n",
      "combining [[3.14608575e-03 1.85517239e-02 1.72424456e-01 8.05877734e-01\n",
      "  3.65659918e-03 1.71117195e-02 1.57757259e-01 8.21474422e-01]\n",
      " [4.02596114e-02 1.10877843e-01 8.41020672e-01 7.84187301e-03\n",
      "  6.50782901e-02 7.42194778e-02 8.49870802e-01 1.08314297e-02]\n",
      " [1.14305900e-01 7.96044069e-01 4.91143439e-02 4.05356872e-02\n",
      "  1.08855034e-01 7.45318861e-01 5.76321123e-02 8.81939925e-02]\n",
      " [4.22973634e-02 6.63014258e-02 8.85141043e-01 6.26016752e-03\n",
      "  5.27718094e-02 8.87314710e-02 8.49940157e-01 8.55656312e-03]\n",
      " [9.74509701e-01 9.13400561e-03 7.82947586e-03 8.52681799e-03\n",
      "  9.63353318e-01 1.75952244e-03 9.96212906e-03 2.49250301e-02]\n",
      " [9.76638403e-01 3.61894502e-03 9.56858195e-03 1.01740705e-02\n",
      "  9.77612895e-01 1.09189466e-03 1.22311223e-02 9.06408772e-03]\n",
      " [4.98342226e-02 2.11135894e-02 9.10891333e-01 1.81608546e-02\n",
      "  4.49860782e-02 1.84285646e-02 9.17980843e-01 1.86045144e-02]\n",
      " [1.77743667e-02 5.33367803e-03 1.44163747e-01 8.32728208e-01\n",
      "  1.89097908e-02 4.44244884e-03 1.47124543e-01 8.29523218e-01]\n",
      " [9.87040124e-01 1.99658197e-03 2.79394241e-03 8.16935186e-03\n",
      "  9.87269940e-01 6.02382825e-04 5.82848612e-03 6.29919069e-03]\n",
      " [5.08528600e-03 2.48914659e-02 1.30789213e-02 9.56944327e-01\n",
      "  5.77251354e-03 3.07380769e-02 1.41620139e-02 9.49327396e-01]\n",
      " [4.15867818e-03 6.12833584e-01 8.15413013e-02 3.01466437e-01\n",
      "  5.23899904e-03 6.92704148e-01 5.94664555e-02 2.42590398e-01]\n",
      " [7.46232673e-01 2.09319521e-02 8.20584937e-02 1.50776881e-01\n",
      "  7.74864280e-01 8.99678735e-03 7.00753442e-02 1.46063589e-01]\n",
      " [9.76984774e-01 1.23902468e-02 4.20447879e-03 6.42050081e-03\n",
      "  9.83395099e-01 6.90100275e-03 5.33028952e-03 4.37360897e-03]\n",
      " [1.20259590e-02 9.36135856e-03 1.65812913e-02 9.62031391e-01\n",
      "  1.59759542e-02 8.20125415e-03 2.29402496e-02 9.52882542e-01]\n",
      " [1.98993798e-01 1.06602471e-01 6.27113020e-01 6.72907107e-02\n",
      "  2.94734569e-01 9.58188309e-02 4.84341033e-01 1.25105567e-01]\n",
      " [7.61685030e-02 1.21473501e-01 7.40373360e-01 6.19846360e-02\n",
      "  3.29687471e-02 1.77304689e-02 9.38415406e-01 1.08853783e-02]\n",
      " [7.42258271e-02 9.20678284e-03 7.98341089e-02 8.36733281e-01\n",
      "  1.41284803e-01 6.48764281e-03 1.81345623e-01 6.70881931e-01]\n",
      " [1.59274224e-01 7.88587066e-01 3.63811240e-02 1.57575861e-02\n",
      "  5.35577457e-02 9.22702765e-01 2.05850514e-02 3.15443816e-03]\n",
      " [3.69377807e-03 2.08092871e-03 8.19960295e-04 9.93405333e-01\n",
      "  2.66177313e-03 1.38371982e-03 8.20828593e-04 9.95133678e-01]\n",
      " [1.35484450e-02 6.32855463e-02 8.73717629e-01 4.94483797e-02\n",
      "  2.76076365e-02 6.99796308e-02 7.78842565e-01 1.23570168e-01]\n",
      " [2.11810588e-03 1.39567982e-03 3.39177005e-04 9.96147037e-01\n",
      "  8.63175866e-04 1.31306132e-03 2.29654023e-03 9.95527223e-01]\n",
      " [8.45894906e-01 1.09351751e-01 1.77136619e-03 4.29819766e-02\n",
      "  8.08278900e-01 6.82128253e-02 8.97306429e-03 1.14535210e-01]\n",
      " [2.14081679e-02 3.16047313e-03 3.16811440e-02 9.43750215e-01\n",
      "  2.72037878e-02 2.04517274e-03 3.75421573e-02 9.33208882e-01]\n",
      " [9.93327389e-01 4.88045047e-04 1.64973509e-04 6.01959281e-03\n",
      "  9.93061642e-01 1.58422275e-04 1.03681820e-03 5.74311768e-03]\n",
      " [2.72938057e-01 2.14220580e-01 4.74417677e-01 3.84236863e-02\n",
      "  3.39314813e-01 1.59318719e-01 4.60236688e-01 4.11297797e-02]\n",
      " [2.10848523e-02 2.54002912e-02 3.91999220e-02 9.14314935e-01\n",
      "  4.85512081e-02 2.90968270e-02 4.25099149e-02 8.79842050e-01]\n",
      " [1.43175725e-02 8.78828814e-01 9.09587489e-02 1.58948649e-02\n",
      "  3.58118716e-02 5.42454347e-01 3.83549407e-01 3.81843744e-02]\n",
      " [1.49910905e-03 4.38296809e-03 9.90218623e-01 3.89929937e-03\n",
      "  2.76271662e-07 3.26669629e-07 9.99657331e-01 3.42066345e-04]\n",
      " [2.00163182e-01 1.19448072e-02 3.90002663e-02 7.48891745e-01\n",
      "  1.17406198e-01 3.88009277e-03 4.16774774e-02 8.37036231e-01]\n",
      " [2.52098762e-02 2.29563138e-01 7.43415998e-01 1.81098809e-03\n",
      "  2.93708335e-02 1.77757314e-01 7.90333805e-01 2.53804667e-03]\n",
      " [2.28325045e-02 3.28679996e-02 3.19003020e-01 6.25296476e-01\n",
      "  3.17944760e-02 2.55888903e-02 3.66459863e-01 5.76156771e-01]\n",
      " [6.81042230e-01 1.02255200e-02 2.38363869e-01 7.03683805e-02\n",
      "  6.42764562e-01 4.67488304e-03 3.24687105e-01 2.78734499e-02]\n",
      " [9.26009480e-01 1.34883130e-02 3.53822407e-02 2.51199659e-02\n",
      "  9.65709538e-01 6.73181397e-03 2.11288126e-02 6.42983515e-03]\n",
      " [3.45206600e-03 7.32708756e-01 2.32171832e-01 3.16673455e-02\n",
      "  7.43078910e-03 6.29222933e-01 3.21719175e-01 4.16271029e-02]\n",
      " [8.64502662e-01 2.57093569e-02 9.16788698e-02 1.81091113e-02\n",
      "  8.79066932e-01 1.91089395e-02 9.04672149e-02 1.13569132e-02]\n",
      " [3.05443039e-03 9.85852404e-01 1.31729788e-03 9.77586744e-03\n",
      "  3.65448074e-03 9.86412085e-01 1.47356162e-03 8.45987310e-03]\n",
      " [3.28614239e-01 2.73214929e-02 2.59719647e-01 3.84344622e-01\n",
      "  3.93921447e-01 2.03219062e-02 3.62698833e-01 2.23057814e-01]\n",
      " [3.97071467e-01 9.98609930e-02 3.57356140e-01 1.45711400e-01\n",
      "  3.90333278e-01 7.85237041e-02 3.47804287e-01 1.83338731e-01]\n",
      " [4.10331130e-01 3.86610786e-01 1.86318553e-01 1.67395307e-02\n",
      "  3.98194670e-01 3.65799880e-01 2.04285288e-01 3.17201616e-02]\n",
      " [4.21394961e-01 1.59288479e-02 3.51048348e-01 2.11627844e-01\n",
      "  4.51630629e-01 1.41348221e-02 4.76583310e-01 5.76512386e-02]\n",
      " [5.11734634e-03 6.19706275e-03 6.59772741e-02 9.22708317e-01\n",
      "  6.77711100e-03 6.82776456e-03 1.05590359e-01 8.80804766e-01]\n",
      " [8.88900706e-01 4.71098218e-02 9.29337232e-03 5.46960997e-02\n",
      "  9.48634970e-01 2.66077509e-02 1.50928340e-02 9.66444530e-03]\n",
      " [2.90354675e-01 5.54744717e-02 3.46295133e-01 3.07875720e-01\n",
      "  2.14539492e-01 4.59126085e-02 3.81341430e-01 3.58206469e-01]\n",
      " [6.58319934e-01 5.64735942e-02 2.55495887e-01 2.97105849e-02\n",
      "  5.43721661e-01 2.43452233e-02 4.13973891e-01 1.79592249e-02]\n",
      " [9.97776737e-03 8.11367088e-01 1.31974683e-01 4.66804618e-02\n",
      "  2.59689878e-02 7.77757735e-01 1.08524569e-01 8.77487082e-02]\n",
      " [3.26326937e-03 9.87995655e-01 2.08227215e-03 6.65880323e-03\n",
      "  5.52011130e-03 9.56031061e-01 1.68250629e-02 2.16237645e-02]\n",
      " [2.42854615e-01 6.39051319e-01 1.02747474e-01 1.53465917e-02\n",
      "  1.30583296e-01 7.85584872e-01 6.86987767e-02 1.51330558e-02]\n",
      " [6.16951279e-03 6.74979548e-02 8.96224750e-01 3.01077826e-02\n",
      "  1.23025799e-02 8.08727920e-02 8.49174866e-01 5.76497621e-02]\n",
      " [1.29062842e-01 2.47379545e-01 2.75500168e-01 3.48057445e-01\n",
      "  1.72600319e-01 1.67164416e-01 2.35860521e-01 4.24374744e-01]\n",
      " [4.69978035e-02 2.26588018e-02 2.07830373e-01 7.22513022e-01\n",
      "  6.87769180e-02 1.79490991e-02 1.77770273e-01 7.35503710e-01]\n",
      " [8.39076589e-02 2.61693056e-02 1.91626931e-02 8.70760342e-01\n",
      "  7.65489258e-02 1.71883214e-02 1.27546284e-02 8.93508124e-01]\n",
      " [1.16824551e-02 2.91512301e-03 1.57757914e-02 9.69626631e-01\n",
      "  1.87769705e-02 2.08821046e-03 2.61579856e-02 9.52976833e-01]\n",
      " [1.10211093e-01 4.17880148e-02 8.17266752e-01 3.07341404e-02\n",
      "  1.78999654e-01 4.15936877e-02 7.43920798e-01 3.54858601e-02]\n",
      " [2.80481892e-02 9.09490785e-01 1.57665141e-02 4.66945121e-02\n",
      "  7.79616111e-02 8.12327701e-01 3.14307009e-02 7.82799867e-02]\n",
      " [4.13170886e-02 3.94224030e-02 4.22973754e-01 4.96286754e-01\n",
      "  8.64223532e-02 2.56409137e-02 6.94071047e-01 1.93865686e-01]\n",
      " [1.07982921e-02 3.17402312e-02 7.89963720e-01 1.67497757e-01\n",
      "  6.48899203e-03 1.37457348e-02 9.24025605e-01 5.57396685e-02]\n",
      " [1.21805199e-02 8.24975204e-02 8.32411463e-01 7.29104964e-02\n",
      "  1.21277742e-02 5.65719654e-02 8.88489869e-01 4.28103911e-02]\n",
      " [3.55633713e-03 9.43241022e-02 8.24925944e-01 7.71936169e-02\n",
      "  7.11640752e-03 5.03448793e-02 8.95002958e-01 4.75357550e-02]\n",
      " [8.72527941e-01 3.81691358e-02 8.04985623e-02 8.80436075e-03\n",
      "  7.99282404e-01 3.38661017e-02 1.57313338e-01 9.53815651e-03]\n",
      " [4.49406805e-02 3.73998482e-02 3.21471064e-01 5.96188408e-01\n",
      "  5.95462634e-02 2.83300655e-02 7.10015266e-02 8.41122145e-01]\n",
      " [8.11801876e-01 7.31943835e-02 1.12409489e-01 2.59425150e-03\n",
      "  8.44460459e-01 6.80638199e-02 8.13564231e-02 6.11929849e-03]\n",
      " [7.58257879e-01 2.18669420e-01 1.49069611e-02 8.16573916e-03\n",
      "  6.20154760e-01 3.43921010e-01 1.24785982e-02 2.34456321e-02]\n",
      " [9.97227440e-01 6.47852157e-04 4.95636271e-04 1.62907156e-03\n",
      "  9.97416174e-01 1.14503538e-04 9.98040976e-04 1.47128195e-03]\n",
      " [9.52985488e-03 1.81361162e-02 7.62612833e-01 2.09721196e-01\n",
      "  2.94704381e-02 3.10276823e-02 5.98688330e-01 3.40813549e-01]\n",
      " [4.72916089e-01 4.04939777e-01 1.17017511e-01 5.12662319e-03\n",
      "  3.31128931e-01 5.28972306e-01 1.34863007e-01 5.03575622e-03]\n",
      " [6.33849369e-03 8.72798317e-01 1.10512235e-01 1.03509543e-02\n",
      "  8.14436953e-03 7.11959033e-01 2.66433870e-01 1.34627276e-02]\n",
      " [2.46513576e-02 1.37952494e-02 1.39698816e-01 8.21854577e-01\n",
      "  5.99875778e-02 1.67082565e-02 8.84894416e-02 8.34814724e-01]\n",
      " [3.05754195e-03 8.36866428e-04 5.27955137e-04 9.95577636e-01\n",
      "  4.30971119e-03 4.73367602e-04 1.56164188e-03 9.93655279e-01]\n",
      " [4.41056908e-02 1.23044709e-02 9.38074325e-01 5.51551359e-03\n",
      "  4.99505311e-02 1.55647396e-02 9.30265013e-01 4.21971620e-03]\n",
      " [7.09355667e-03 4.61537582e-02 5.95532628e-03 9.40797359e-01\n",
      "  1.84556392e-02 8.57328715e-02 1.53275091e-02 8.80483980e-01]\n",
      " [5.87185559e-03 2.10294248e-02 4.33635458e-01 5.39463262e-01\n",
      "  8.98850937e-03 1.85044711e-02 2.64327993e-01 7.08179027e-01]\n",
      " [3.21836001e-02 1.06207709e-02 9.07746991e-01 4.94486382e-02\n",
      "  8.46681656e-02 1.08258932e-02 8.59951943e-01 4.45539979e-02]\n",
      " [9.79289992e-04 9.94593015e-01 7.83879544e-04 3.64381543e-03\n",
      "  1.38960056e-03 9.91487249e-01 1.28083825e-03 5.84231170e-03]\n",
      " [6.97084829e-02 9.80693359e-02 8.07736649e-01 2.44855325e-02\n",
      "  1.06551657e-01 9.81714625e-02 7.66598558e-01 2.86783219e-02]\n",
      " [9.92220750e-01 2.59715470e-03 4.38882893e-04 4.74321284e-03\n",
      "  9.94226923e-01 1.88844874e-03 8.22127289e-04 3.06250064e-03]\n",
      " [3.48800298e-01 1.55464482e-02 3.10411234e-01 3.25242020e-01\n",
      "  3.54495984e-01 1.16263649e-02 5.00134793e-01 1.33742859e-01]\n",
      " [4.75293952e-03 1.12357010e-02 9.43594701e-01 4.04166587e-02\n",
      "  1.21765207e-02 1.28395996e-02 9.56528014e-01 1.84558655e-02]\n",
      " [4.21700841e-03 6.27209990e-03 9.21509729e-01 6.80011627e-02\n",
      "  1.18446291e-02 1.31132389e-02 8.83853621e-01 9.11885113e-02]\n",
      " [6.84105312e-01 4.19145917e-02 7.00101640e-03 2.66979080e-01\n",
      "  6.18953121e-01 1.36750332e-02 7.72679826e-03 3.59645048e-01]\n",
      " [9.93764621e-01 4.42470161e-04 1.46022876e-04 5.64688638e-03\n",
      "  9.92686332e-01 1.07394841e-04 1.29012366e-03 5.91614907e-03]\n",
      " [1.63643552e-02 1.11058926e-01 7.14461930e-01 1.58114789e-01\n",
      "  3.67391061e-02 6.28658515e-02 7.65410945e-01 1.34984097e-01]\n",
      " [8.95195058e-01 5.96777349e-02 8.71995161e-03 3.64072555e-02\n",
      "  9.11678642e-01 4.14576436e-02 8.86083285e-03 3.80028814e-02]\n",
      " [6.82074880e-02 2.35721564e-02 8.87203901e-01 2.10164545e-02\n",
      "  1.70953014e-01 2.35166546e-02 7.58594866e-01 4.69354658e-02]\n",
      " [9.98417126e-03 2.52739124e-02 9.48165257e-01 1.65766597e-02\n",
      "  1.74341238e-02 5.10185834e-02 8.90024251e-01 4.15230421e-02]\n",
      " [1.49044131e-02 2.96386346e-02 2.82912208e-01 6.72544744e-01\n",
      "  3.34268548e-02 3.64081501e-02 4.17814079e-01 5.12350916e-01]\n",
      " [1.44715553e-01 1.96468464e-02 2.24809047e-01 6.10828554e-01\n",
      "  8.30019931e-02 5.47082532e-03 5.87796205e-01 3.23730977e-01]\n",
      " [2.01310094e-03 2.71050729e-02 8.51497239e-01 1.19384587e-01\n",
      "  3.99637332e-03 2.62543283e-02 7.60001594e-01 2.09747704e-01]\n",
      " [1.09123949e-01 1.75172081e-01 1.31657086e-01 5.84046884e-01\n",
      "  7.92694544e-02 1.20642228e-01 1.31611438e-01 6.68476880e-01]\n",
      " [7.05898132e-02 7.51741592e-01 1.53656034e-01 2.40125614e-02\n",
      "  4.75591122e-02 7.31868886e-01 1.90425622e-01 3.01463801e-02]\n",
      " [4.09174823e-01 2.27621650e-02 1.54774998e-01 4.13288014e-01\n",
      "  5.02858801e-01 4.63046003e-02 2.00568007e-01 2.50268592e-01]\n",
      " [5.88041158e-03 6.53203096e-01 7.40741701e-02 2.66842323e-01\n",
      "  8.79408851e-03 6.45774585e-01 1.57290320e-01 1.88141006e-01]\n",
      " [1.15432342e-01 7.34385903e-01 1.27785143e-01 2.23966116e-02\n",
      "  2.65857261e-01 4.51373966e-01 2.47789751e-01 3.49790216e-02]\n",
      " [5.68740302e-01 3.24285469e-01 1.00256717e-01 6.71751204e-03\n",
      "  4.88317039e-01 4.23049265e-01 7.80578508e-02 1.05758459e-02]\n",
      " [2.28741351e-01 1.48048523e-02 4.59714815e-01 2.96738981e-01\n",
      "  3.80954232e-01 1.09975749e-02 4.54669996e-01 1.53378197e-01]\n",
      " [1.81510579e-02 5.70565018e-02 8.61707666e-02 8.38621674e-01\n",
      "  2.45382631e-02 6.11027734e-02 2.75465672e-01 6.38893291e-01]\n",
      " [8.83940865e-01 7.31628986e-02 3.11586716e-02 1.17375651e-02\n",
      "  8.54745342e-01 9.58931745e-02 3.23577764e-02 1.70037067e-02]] [[14.21543207 13.31866795 13.12886217 ...  8.89097369  9.38665858\n",
      "  12.34163781]\n",
      " [13.94924414 13.22893568 11.87941106 ...  9.32157235 11.95882865\n",
      "  11.46298506]\n",
      " [13.88973652 12.79041426 11.0431719  ...  8.4989168  10.44126289\n",
      "  11.85337843]\n",
      " ...\n",
      " [14.4739656  13.45741667 13.13326691 ...  9.71752378 12.58710718\n",
      "  11.22962302]\n",
      " [14.54534702 13.78992351 13.33971903 ... 10.17999469 10.50926548\n",
      "  11.77098666]\n",
      " [13.11348613 13.41187919 12.02456506 ...  8.94364804 12.27905323\n",
      "  10.73232453]]\n",
      "stacked\n",
      "cv\n",
      "stacked\n",
      "cv\n",
      "stacked\n",
      "cv\n",
      "stacked\n",
      "cv\n",
      "stacked\n",
      "cv\n",
      "stacked\n",
      "cv\n",
      "stacked\n",
      "cv\n",
      "stacked\n",
      "cv\n",
      "stacked\n",
      "cv\n",
      "stacked\n",
      "cv\n",
      "stacked\n",
      "cv\n",
      "stacked\n",
      "cv\n",
      "stacked\n",
      "cv\n",
      "stacked\n",
      "cv\n",
      "stacked\n",
      "cv\n",
      "stacked\n",
      "cv\n",
      "stacked\n",
      "cv\n",
      "stacked\n",
      "cv\n",
      "stacked\n",
      "cv\n",
      "stacked\n",
      "cv\n",
      "stacked\n",
      "cv\n",
      "stacked\n",
      "cv\n",
      "stacked\n",
      "cv\n",
      "stacked\n",
      "cv\n",
      "stacked\n",
      "cv\n",
      "stacked\n",
      "cv\n",
      "stacked\n",
      "cv\n",
      "stacked\n",
      "cv\n",
      "stacked\n",
      "cv\n",
      "stacked\n",
      "cv\n",
      "stacked\n",
      "cv\n",
      "stacked\n",
      "cv\n",
      "stacked\n",
      "cv\n",
      "stacked\n",
      "cv\n",
      "stacked\n",
      "cv\n",
      "stacked\n",
      "cv\n",
      "stacked\n",
      "cv\n",
      "stacked\n",
      "cv\n",
      "stacked\n",
      "cv\n",
      "stacked\n",
      "cv\n",
      "stacked\n",
      "cv\n",
      "stacked\n",
      "cv\n",
      "stacked\n",
      "cv\n",
      "stacked\n",
      "cv\n",
      "stacked\n",
      "cv\n",
      "stacked\n",
      "cv\n",
      "stacked\n",
      "cv\n",
      "stacked\n",
      "cv\n",
      "stacked\n",
      "cv\n",
      "stacked\n",
      "cv\n",
      "stacked\n",
      "cv\n",
      "stacked\n",
      "cv\n",
      "stacked\n",
      "cv\n",
      "stacked\n",
      "cv\n",
      "stacked\n",
      "cv\n",
      "stacked\n",
      "cv\n",
      "stacked\n",
      "cv\n",
      "stacked\n",
      "cv\n",
      "stacked\n",
      "cv\n",
      "stacked\n",
      "cv\n",
      "stacked\n",
      "cv\n",
      "stacked\n",
      "cv\n",
      "stacked\n",
      "cv\n",
      "stacked\n",
      "cv\n",
      "stacked\n",
      "cv\n",
      "stacked\n",
      "cv\n",
      "stacked\n",
      "cv\n",
      "stacked\n",
      "cv\n",
      "stacked\n",
      "cv\n",
      "stacked\n",
      "cv\n",
      "stacked\n",
      "cv\n",
      "stacked\n",
      "cv\n",
      "stacked\n",
      "cv\n",
      "stacked\n",
      "cv\n",
      "stacked\n",
      "cv\n",
      "stacked\n",
      "cv\n",
      "stacked\n",
      "cv\n",
      "stacked\n",
      "cv\n",
      "stacked\n",
      "cv\n",
      "stacked\n",
      "cv\n",
      "stacked\n",
      "cv\n",
      "stacked\n",
      "cv\n",
      "stacked\n",
      "cv\n",
      "stacked\n",
      "cv\n",
      "stacked\n",
      "cv\n",
      "stacked\n",
      "cv\n",
      "stacked\n",
      "cv\n",
      "stacked\n",
      "cv\n",
      "stacked\n",
      "cv\n",
      "stacked\n",
      "cv\n",
      "stacked\n",
      "cv\n",
      "stacked\n",
      "cv\n",
      "stacked\n",
      "cv\n",
      "stacked\n",
      "cv\n",
      "stacked\n",
      "cv\n",
      "stacked\n",
      "cv\n",
      "\n",
      "model score of oof results for SVC3\n",
      "Model Accuracy: 0.8958333333333334\n",
      "Precision: 0.9039253610374299\n",
      "Recall (Sensitivity): 0.8958333333333334\n",
      "F1 Score: 0.8968708899330342\n",
      "Matthews Correlation Coefficient (MCC): 0.8614053907775843\n",
      "G-Measure: 0.9291101138764575\n",
      "AUC: 0.9875492935517144\n",
      "Specificity: 0.9651848591549296\n",
      "Jaccard Index: 0.8122041920216363\n",
      "Created directory: /work/wanlab/nick/stackeval/1/val_data/stacked/SVC3\n",
      "Saving metrics to: /work/wanlab/nick/stackeval/1/val_data/stacked/SVC3/LIMMA(1),metrics.csv\n",
      "PREDICTIONS                   subtype  Squamous      ADEX  Pancreatic Progenitor  \\\n",
      "0   Pancreatic Progenitor  0.234023  0.224302               0.508472   \n",
      "1                    ADEX  0.033377  0.907478               0.016533   \n",
      "2                Squamous  0.889757  0.078474               0.022733   \n",
      "3   Pancreatic Progenitor  0.028121  0.072067               0.894566   \n",
      "4             Immunogenic  0.104792  0.196535               0.119197   \n",
      "..                    ...       ...       ...                    ...   \n",
      "91               Squamous  0.665406  0.010521               0.247644   \n",
      "92            Immunogenic  0.039390  0.042937               0.426851   \n",
      "93  Pancreatic Progenitor  0.069321  0.091251               0.816746   \n",
      "94            Immunogenic  0.004508  0.004921               0.060568   \n",
      "95  Pancreatic Progenitor  0.012004  0.029256               0.933092   \n",
      "\n",
      "    Immunogenic  \n",
      "0      0.033202  \n",
      "1      0.042612  \n",
      "2      0.009036  \n",
      "3      0.005247  \n",
      "4      0.579476  \n",
      "..          ...  \n",
      "91     0.076429  \n",
      "92     0.490823  \n",
      "93     0.022682  \n",
      "94     0.930002  \n",
      "95     0.025648  \n",
      "\n",
      "[96 rows x 5 columns]\n",
      "\n",
      "model score of oof results for SVC4\n",
      "Model Accuracy: 0.9270833333333334\n",
      "Precision: 0.9282457295657727\n",
      "Recall (Sensitivity): 0.9270833333333334\n",
      "F1 Score: 0.927124353652804\n",
      "Matthews Correlation Coefficient (MCC): 0.9017909960019698\n",
      "G-Measure: 0.9519085598926197\n",
      "AUC: 0.9849634105135866\n",
      "Specificity: 0.9752147353819889\n",
      "Jaccard Index: 0.8669652957336781\n",
      "Created directory: /work/wanlab/nick/stackeval/1/val_data/stacked/SVC4\n",
      "Saving metrics to: /work/wanlab/nick/stackeval/1/val_data/stacked/SVC4/LIMMA(1),metrics.csv\n",
      "PREDICTIONS                   subtype  Squamous      ADEX  Pancreatic Progenitor  \\\n",
      "0   Pancreatic Progenitor  0.348514  0.166328               0.445212   \n",
      "1                    ADEX  0.083372  0.809024               0.036096   \n",
      "2                Squamous  0.862540  0.091205               0.030520   \n",
      "3   Pancreatic Progenitor  0.042284  0.049052               0.903208   \n",
      "4             Immunogenic  0.070781  0.111150               0.122470   \n",
      "..                    ...       ...       ...                    ...   \n",
      "91               Squamous  0.647913  0.005109               0.322574   \n",
      "92            Immunogenic  0.088495  0.028575               0.679579   \n",
      "93  Pancreatic Progenitor  0.090215  0.106997               0.776657   \n",
      "94            Immunogenic  0.007252  0.007832               0.068000   \n",
      "95  Pancreatic Progenitor  0.016286  0.052948               0.868954   \n",
      "\n",
      "    Immunogenic  \n",
      "0      0.039945  \n",
      "1      0.071508  \n",
      "2      0.015736  \n",
      "3      0.005456  \n",
      "4      0.695599  \n",
      "..          ...  \n",
      "91     0.024404  \n",
      "92     0.203352  \n",
      "93     0.026131  \n",
      "94     0.916916  \n",
      "95     0.061813  \n",
      "\n",
      "[96 rows x 5 columns]\n",
      "Random state: 2\n",
      "['SVC', 'SVC2']\n",
      "individual models\n",
      "cv\n",
      "individual models\n",
      "cv\n",
      "individual models\n",
      "cv\n",
      "individual models\n",
      "cv\n",
      "individual models\n",
      "cv\n",
      "individual models\n",
      "cv\n",
      "individual models\n",
      "cv\n",
      "individual models\n",
      "cv\n",
      "individual models\n",
      "cv\n",
      "individual models\n",
      "cv\n",
      "individual models\n",
      "cv\n",
      "individual models\n",
      "cv\n",
      "individual models\n",
      "cv\n",
      "individual models\n",
      "cv\n",
      "individual models\n",
      "cv\n",
      "individual models\n",
      "cv\n",
      "individual models\n",
      "cv\n",
      "individual models\n",
      "cv\n",
      "individual models\n",
      "cv\n",
      "individual models\n",
      "cv\n",
      "individual models\n",
      "cv\n",
      "individual models\n",
      "cv\n",
      "individual models\n",
      "cv\n",
      "individual models\n",
      "cv\n",
      "individual models\n",
      "cv\n",
      "individual models\n",
      "cv\n",
      "individual models\n",
      "cv\n",
      "individual models\n",
      "cv\n",
      "individual models\n",
      "cv\n",
      "individual models\n",
      "cv\n",
      "individual models\n",
      "cv\n",
      "individual models\n",
      "cv\n",
      "individual models\n",
      "cv\n",
      "individual models\n",
      "cv\n",
      "individual models\n",
      "cv\n",
      "individual models\n",
      "cv\n",
      "individual models\n",
      "cv\n",
      "individual models\n",
      "cv\n",
      "individual models\n",
      "cv\n",
      "individual models\n",
      "cv\n",
      "individual models\n",
      "cv\n",
      "individual models\n",
      "cv\n",
      "individual models\n",
      "cv\n",
      "individual models\n",
      "cv\n",
      "individual models\n",
      "cv\n",
      "individual models\n",
      "cv\n",
      "individual models\n",
      "cv\n",
      "individual models\n",
      "cv\n",
      "individual models\n",
      "cv\n",
      "individual models\n",
      "cv\n",
      "individual models\n",
      "cv\n",
      "individual models\n",
      "cv\n",
      "individual models\n",
      "cv\n",
      "individual models\n",
      "cv\n",
      "individual models\n",
      "cv\n",
      "individual models\n",
      "cv\n",
      "individual models\n",
      "cv\n",
      "individual models\n",
      "cv\n",
      "individual models\n",
      "cv\n",
      "individual models\n",
      "cv\n",
      "individual models\n",
      "cv\n",
      "individual models\n",
      "cv\n",
      "individual models\n",
      "cv\n",
      "individual models\n",
      "cv\n",
      "individual models\n",
      "cv\n",
      "individual models\n",
      "cv\n",
      "individual models\n",
      "cv\n",
      "individual models\n",
      "cv\n",
      "individual models\n",
      "cv\n",
      "individual models\n",
      "cv\n",
      "individual models\n",
      "cv\n",
      "individual models\n",
      "cv\n",
      "individual models\n",
      "cv\n",
      "individual models\n",
      "cv\n",
      "individual models\n",
      "cv\n",
      "individual models\n",
      "cv\n",
      "individual models\n",
      "cv\n",
      "individual models\n",
      "cv\n",
      "individual models\n",
      "cv\n",
      "individual models\n",
      "cv\n",
      "individual models\n",
      "cv\n",
      "individual models\n",
      "cv\n",
      "individual models\n",
      "cv\n",
      "individual models\n",
      "cv\n",
      "individual models\n",
      "cv\n",
      "individual models\n",
      "cv\n",
      "individual models\n",
      "cv\n",
      "individual models\n",
      "cv\n",
      "individual models\n",
      "cv\n",
      "individual models\n",
      "cv\n",
      "individual models\n",
      "cv\n",
      "individual models\n",
      "cv\n",
      "individual models\n",
      "cv\n",
      "individual models\n",
      "cv\n",
      "individual models\n",
      "cv\n",
      "individual models\n",
      "cv\n",
      "\n",
      "model score of oof results for SVC\n",
      "Model Accuracy: 0.8854166666666666\n",
      "Precision: 0.8957641549595573\n",
      "Recall (Sensitivity): 0.8854166666666666\n",
      "F1 Score: 0.8864625890835569\n",
      "Matthews Correlation Coefficient (MCC): 0.8481556746300509\n",
      "G-Measure: 0.9228839801674216\n",
      "AUC: 0.9898887644046095\n",
      "Specificity: 0.9616637323943662\n",
      "Jaccard Index: 0.7975490196078432\n",
      "Created directory: /work/wanlab/nick/stackeval/2/val_data/individual models/SVC\n",
      "Saving metrics to: /work/wanlab/nick/stackeval/2/val_data/individual models/SVC/LIMMA(2),metrics.csv\n",
      "PREDICTIONS                   subtype  Squamous      ADEX  Pancreatic Progenitor  \\\n",
      "0                Squamous  0.406936  0.385987               0.193535   \n",
      "1   Pancreatic Progenitor  0.349748  0.015086               0.310761   \n",
      "2                    ADEX  0.010185  0.977950               0.003130   \n",
      "3                Squamous  0.885212  0.054490               0.010312   \n",
      "4                    ADEX  0.016571  0.927173               0.013767   \n",
      "..                    ...       ...       ...                    ...   \n",
      "91               Squamous  0.355468  0.031271               0.238375   \n",
      "92  Pancreatic Progenitor  0.009878  0.027132               0.692267   \n",
      "93                   ADEX  0.143364  0.809360               0.033678   \n",
      "94            Immunogenic  0.004930  0.035792               0.026767   \n",
      "95  Pancreatic Progenitor  0.017352  0.115129               0.700167   \n",
      "\n",
      "    Immunogenic  \n",
      "0      0.013542  \n",
      "1      0.324405  \n",
      "2      0.008735  \n",
      "3      0.049985  \n",
      "4      0.042488  \n",
      "..          ...  \n",
      "91     0.374886  \n",
      "92     0.270723  \n",
      "93     0.013598  \n",
      "94     0.932511  \n",
      "95     0.167353  \n",
      "\n",
      "[96 rows x 5 columns]\n",
      "\n",
      "model score of oof results for SVC2\n",
      "Model Accuracy: 0.9166666666666666\n",
      "Precision: 0.9174345619658121\n",
      "Recall (Sensitivity): 0.9166666666666666\n",
      "F1 Score: 0.9168584100306788\n",
      "Matthews Correlation Coefficient (MCC): 0.8873549809311864\n",
      "G-Measure: 0.9450295063462829\n",
      "AUC: 0.9851488587459097\n",
      "Specificity: 0.9714268565941101\n",
      "Jaccard Index: 0.8516446788505612\n",
      "Created directory: /work/wanlab/nick/stackeval/2/val_data/individual models/SVC2\n",
      "Saving metrics to: /work/wanlab/nick/stackeval/2/val_data/individual models/SVC2/LIMMA(2),metrics.csv\n",
      "PREDICTIONS                   subtype  Squamous      ADEX  Pancreatic Progenitor  \\\n",
      "0                Squamous  0.419534  0.366965               0.184261   \n",
      "1   Pancreatic Progenitor  0.344652  0.010377               0.517909   \n",
      "2                    ADEX  0.005110  0.956563               0.017424   \n",
      "3                Squamous  0.950907  0.027575               0.011474   \n",
      "4                    ADEX  0.074094  0.818339               0.030696   \n",
      "..                    ...       ...       ...                    ...   \n",
      "91               Squamous  0.375860  0.018844               0.377189   \n",
      "92  Pancreatic Progenitor  0.031592  0.033559               0.594953   \n",
      "93                   ADEX  0.045763  0.932464               0.019070   \n",
      "94            Immunogenic  0.005164  0.031652               0.021765   \n",
      "95  Pancreatic Progenitor  0.039119  0.059340               0.747207   \n",
      "\n",
      "    Immunogenic  \n",
      "0      0.029240  \n",
      "1      0.127062  \n",
      "2      0.020902  \n",
      "3      0.010044  \n",
      "4      0.076871  \n",
      "..          ...  \n",
      "91     0.228107  \n",
      "92     0.339897  \n",
      "93     0.002703  \n",
      "94     0.941418  \n",
      "95     0.154334  \n",
      "\n",
      "[96 rows x 5 columns]\n",
      "运行时间为: 24.15 秒\n",
      "combining [[4.06936373e-01 3.85986823e-01 1.93535254e-01 1.35415506e-02\n",
      "  4.19533846e-01 3.66965131e-01 1.84261429e-01 2.92395936e-02]\n",
      " [3.49748343e-01 1.50855868e-02 3.10760727e-01 3.24405343e-01\n",
      "  3.44652457e-01 1.03772517e-02 5.17908686e-01 1.27061605e-01]\n",
      " [1.01853515e-02 9.77950415e-01 3.12971680e-03 8.73451674e-03\n",
      "  5.11028105e-03 9.56562867e-01 1.74244113e-02 2.09024410e-02]\n",
      " [8.85212464e-01 5.44902882e-02 1.03117559e-02 4.99854920e-02\n",
      "  9.50906856e-01 2.75746182e-02 1.14742799e-02 1.00442459e-02]\n",
      " [1.65709140e-02 9.27173220e-01 1.37674199e-02 4.24884463e-02\n",
      "  7.40940124e-02 8.18338629e-01 3.06963345e-02 7.68710244e-02]\n",
      " [9.93057489e-01 2.00574786e-03 5.59638719e-04 4.37712403e-03\n",
      "  9.94187209e-01 1.84823806e-03 1.03202780e-03 2.93252534e-03]\n",
      " [1.50424674e-02 3.21703808e-03 1.01778119e-02 9.71562683e-01\n",
      "  1.61218294e-02 2.03966893e-03 2.45242482e-02 9.57314253e-01]\n",
      " [3.30698706e-03 1.62744229e-03 7.13801347e-04 9.94351769e-01\n",
      "  3.50985350e-03 1.30891131e-03 8.79754465e-04 9.94301481e-01]\n",
      " [2.48727771e-02 8.66179924e-01 8.88905447e-02 2.00567542e-02\n",
      "  4.95631845e-02 5.81634407e-01 3.24320582e-01 4.44818263e-02]\n",
      " [8.00485709e-01 8.88673371e-02 1.07142433e-01 3.50452091e-03\n",
      "  8.09683695e-01 7.67584040e-02 1.07047774e-01 6.51012722e-03]\n",
      " [2.55296267e-03 8.59755706e-01 1.33418065e-01 4.27326661e-03\n",
      "  6.48283182e-03 6.27853434e-01 3.49864892e-01 1.57988418e-02]\n",
      " [3.84506967e-01 2.15208913e-02 1.66560264e-01 4.27411877e-01\n",
      "  4.97443342e-01 4.28111051e-02 1.84508544e-01 2.75237009e-01]\n",
      " [8.70869133e-02 1.19098572e-01 7.34660642e-01 5.91538727e-02\n",
      "  4.24696702e-02 1.84221782e-02 9.28742575e-01 1.03655764e-02]\n",
      " [2.24186152e-02 6.07012552e-02 7.33143181e-02 8.43565812e-01\n",
      "  2.57294310e-02 7.54359497e-02 2.72773414e-01 6.26061205e-01]\n",
      " [3.91613280e-03 6.06947042e-03 5.22739219e-02 9.37740475e-01\n",
      "  5.82678718e-03 7.85777809e-03 6.36540709e-02 9.22661364e-01]\n",
      " [5.97288526e-01 5.02237353e-02 3.23179156e-01 2.93085833e-02\n",
      "  5.82538829e-01 2.49072579e-02 3.77529945e-01 1.50239684e-02]\n",
      " [1.68283002e-02 2.62457840e-03 2.65274593e-02 9.54019662e-01\n",
      "  3.46458149e-02 2.71096524e-03 3.77458095e-02 9.24897410e-01]\n",
      " [4.19454876e-02 1.00393436e-02 9.42253967e-01 5.76120154e-03\n",
      "  4.06446943e-02 1.65515885e-02 9.38984003e-01 3.81971393e-03]\n",
      " [9.76369921e-01 7.15630645e-03 5.63105304e-03 1.08427190e-02\n",
      "  9.63058707e-01 1.67806061e-03 1.08495071e-02 2.44137251e-02]\n",
      " [7.33758222e-01 2.42352176e-01 1.52645554e-02 8.62504647e-03\n",
      "  6.17525060e-01 3.36570808e-01 2.02967756e-02 2.56073562e-02]\n",
      " [9.05682797e-02 9.27916312e-03 8.25506325e-02 8.17601925e-01\n",
      "  1.41953409e-01 7.04986034e-03 1.65232400e-01 6.85764331e-01]\n",
      " [2.26331675e-02 3.43981975e-02 3.82441106e-01 5.60527529e-01\n",
      "  3.28613104e-02 2.90783703e-02 3.58482803e-01 5.79577517e-01]\n",
      " [9.47191389e-02 1.54231779e-01 1.15775508e-01 6.35273574e-01\n",
      "  8.19778115e-02 1.16704855e-01 1.38748911e-01 6.62568423e-01]\n",
      " [3.74670514e-02 1.16365442e-02 8.68487686e-01 8.24087188e-02\n",
      "  7.35584926e-02 1.02803524e-02 8.43589020e-01 7.25721345e-02]\n",
      " [4.40452307e-03 5.96762197e-01 8.27052910e-02 3.16127988e-01\n",
      "  5.88915650e-03 6.98061853e-01 7.01259741e-02 2.25923016e-01]\n",
      " [1.09848635e-01 3.97947838e-02 8.24785977e-01 2.55706041e-02\n",
      "  1.90216144e-01 4.43685114e-02 7.26769383e-01 3.86459615e-02]\n",
      " [4.29966796e-02 2.38738156e-02 1.72983985e-01 7.60145520e-01\n",
      "  6.27066455e-02 2.14861664e-02 2.07350128e-01 7.08457060e-01]\n",
      " [9.83391240e-01 6.68948301e-03 4.44124367e-03 5.47803304e-03\n",
      "  9.78529691e-01 7.35388195e-03 9.69701785e-03 4.41940901e-03]\n",
      " [2.03755041e-01 1.32394366e-02 3.71375379e-02 7.45867985e-01\n",
      "  1.30666841e-01 3.51769136e-03 3.09653047e-02 8.34850163e-01]\n",
      " [2.47304384e-03 1.72735393e-02 2.18940946e-01 7.61312471e-01\n",
      "  3.27467859e-03 1.71459695e-02 1.53042925e-01 8.26536427e-01]\n",
      " [5.95870436e-03 6.41582122e-01 9.50647534e-02 2.57394420e-01\n",
      "  9.08003607e-03 6.90635762e-01 1.16662340e-01 1.83621862e-01]\n",
      " [4.31366627e-01 1.57448895e-02 3.51545220e-01 2.01343263e-01\n",
      "  5.04612252e-01 1.24814590e-02 4.25313996e-01 5.75922928e-02]\n",
      " [2.18294468e-03 1.41285853e-03 4.53689547e-04 9.95950507e-01\n",
      "  1.13192222e-03 1.82305030e-03 1.69518931e-03 9.95349838e-01]\n",
      " [4.18247678e-03 8.85460616e-02 8.62689047e-01 4.45824142e-02\n",
      "  7.92966665e-03 6.10903227e-02 8.63644719e-01 6.73352914e-02]\n",
      " [2.40227246e-03 9.85902478e-01 1.25747909e-03 1.04377704e-02\n",
      "  4.66205487e-03 9.84083853e-01 1.69255318e-03 9.56153906e-03]\n",
      " [2.79298021e-01 5.66853367e-02 3.26776278e-01 3.37240365e-01\n",
      "  2.18653802e-01 3.76572040e-02 3.94864893e-01 3.48824102e-01]\n",
      " [2.46525225e-02 1.67236226e-02 1.48820483e-01 8.09803371e-01\n",
      "  5.09958318e-02 1.28333857e-02 1.13848186e-01 8.22322597e-01]\n",
      " [4.24100199e-02 3.96742341e-02 3.47954212e-01 5.69961534e-01\n",
      "  6.76513487e-02 2.41361839e-02 7.07751324e-01 2.00461144e-01]\n",
      " [2.65740610e-03 9.29372690e-04 8.53319358e-04 9.95559902e-01\n",
      "  3.52721929e-03 4.46949326e-04 7.71819311e-04 9.95254012e-01]\n",
      " [4.90559235e-03 2.19925266e-02 3.37194430e-01 6.35907451e-01\n",
      "  9.03203890e-03 2.05308905e-02 2.78663312e-01 6.91773758e-01]\n",
      " [1.40423532e-02 2.51288150e-02 2.45018524e-01 7.15810308e-01\n",
      "  3.41764829e-02 3.68503374e-02 3.87185420e-01 5.41787760e-01]\n",
      " [5.81048259e-02 2.55057591e-02 8.98166544e-01 1.82228706e-02\n",
      "  4.94282664e-02 2.27978918e-02 9.11046682e-01 1.67271597e-02]\n",
      " [4.30135992e-03 5.58605820e-02 9.10542406e-01 2.92956522e-02\n",
      "  1.42078983e-02 8.97888369e-02 8.40680166e-01 5.53230984e-02]\n",
      " [8.77725766e-03 2.45433386e-02 9.55270553e-01 1.14088508e-02\n",
      "  1.76414036e-02 5.19407071e-02 8.55412592e-01 7.50052974e-02]\n",
      " [9.93286106e-01 7.18607477e-04 1.91214102e-04 5.80407219e-03\n",
      "  9.91531292e-01 1.32339110e-04 1.24195548e-03 7.09441362e-03]\n",
      " [1.04716519e-01 7.00628706e-01 1.70605337e-01 2.40494380e-02\n",
      "  2.54986361e-01 4.60300672e-01 2.57183599e-01 2.75293680e-02]\n",
      " [9.95071236e-01 6.69055346e-04 1.41508532e-04 4.11819972e-03\n",
      "  9.92984448e-01 9.56098588e-05 1.12466503e-03 5.79527760e-03]\n",
      " [8.67890164e-01 2.25873245e-02 9.06919767e-02 1.88305350e-02\n",
      "  8.94025299e-01 1.78730700e-02 7.52698791e-02 1.28317521e-02]\n",
      " [1.35029128e-01 1.81357762e-02 2.91569645e-01 5.55265451e-01\n",
      "  6.72016390e-02 5.08654213e-03 5.77084830e-01 3.50626989e-01]\n",
      " [9.81627829e-01 1.92267573e-03 6.49672870e-03 9.95276674e-03\n",
      "  9.86661073e-01 8.40771825e-04 4.57415512e-03 7.92400041e-03]\n",
      " [1.09466792e-03 9.95740128e-01 6.21747239e-04 2.54345684e-03\n",
      "  1.46834729e-03 9.90878820e-01 1.38828373e-03 6.26454936e-03]\n",
      " [9.06473094e-01 5.84045643e-02 7.49787688e-03 2.76244650e-02\n",
      "  9.14852542e-01 4.15135657e-02 8.97645607e-03 3.46574360e-02]\n",
      " [2.51452698e-01 2.29515282e-01 4.83625696e-01 3.54063233e-02\n",
      "  3.46454299e-01 1.59868297e-01 4.51563683e-01 4.21137216e-02]\n",
      " [8.87503442e-01 8.38078032e-02 1.80918621e-02 1.05968926e-02\n",
      "  8.71185285e-01 8.27935485e-02 3.03612233e-02 1.56599430e-02]\n",
      " [9.95210280e-01 1.32191605e-03 1.00554165e-03 2.46226248e-03\n",
      "  9.98198370e-01 2.41530581e-04 9.03892319e-04 6.56207032e-04]\n",
      " [3.14053932e-02 5.70650115e-02 9.07109079e-01 4.42051581e-03\n",
      "  4.33571469e-02 6.58798720e-02 8.84108250e-01 6.65473147e-03]\n",
      " [2.67213538e-03 1.13452205e-02 9.74356695e-01 1.16259490e-02\n",
      "  5.85230489e-07 7.10915585e-07 9.99671264e-01 3.27439438e-04]\n",
      " [6.72548318e-01 9.59104199e-03 2.40093689e-01 7.77669503e-02\n",
      "  6.08599128e-01 4.90026646e-03 3.60925091e-01 2.55755153e-02]\n",
      " [8.56196704e-01 1.01665421e-01 1.80440977e-03 4.03334654e-02\n",
      "  7.98413741e-01 8.02333188e-02 8.40225230e-03 1.12950688e-01]\n",
      " [3.94245741e-02 1.43071768e-01 8.10233899e-01 7.26975919e-03\n",
      "  6.58258522e-02 9.10871704e-02 8.31140992e-01 1.19459852e-02]\n",
      " [3.71788978e-03 7.49064247e-03 9.39343034e-01 4.94484333e-02\n",
      "  1.06573034e-02 1.06860362e-02 9.09328547e-01 6.93281131e-02]\n",
      " [1.14325779e-01 7.94935560e-01 5.48549994e-02 3.58836612e-02\n",
      "  9.44837961e-02 7.70849426e-01 5.06223605e-02 8.40444174e-02]\n",
      " [5.52928162e-01 3.36050893e-01 1.04269226e-01 6.75171867e-03\n",
      "  4.71526392e-01 4.23031442e-01 9.30715369e-02 1.23706292e-02]\n",
      " [8.90546346e-03 7.98271536e-02 8.68507406e-01 4.27599770e-02\n",
      "  1.28026432e-02 4.56215689e-02 8.81488194e-01 6.00875940e-02]\n",
      " [2.30118507e-01 6.53580809e-01 1.02336696e-01 1.39639875e-02\n",
      "  1.11381645e-01 8.03419122e-01 7.12688636e-02 1.39303695e-02]\n",
      " [6.17712770e-03 7.98444334e-01 1.45063330e-01 5.03152083e-02\n",
      "  2.56011977e-02 7.80634007e-01 1.12125199e-01 8.16395963e-02]\n",
      " [4.54376227e-03 1.44015274e-02 9.44153678e-01 3.69010323e-02\n",
      "  1.27841727e-02 1.79266270e-02 9.34322997e-01 3.49662031e-02]\n",
      " [2.85517352e-02 1.95570381e-01 7.73871610e-01 2.00627423e-03\n",
      "  2.08878336e-02 1.49994865e-01 8.26834264e-01 2.28303722e-03]\n",
      " [9.81643110e-01 3.21680082e-03 5.51164529e-03 9.62844363e-03\n",
      "  9.79511285e-01 1.46907906e-03 1.42875468e-02 4.73208949e-03]\n",
      " [1.34337536e-01 2.60791700e-01 2.63461991e-01 3.41408772e-01\n",
      "  1.84259047e-01 1.65516913e-01 2.33970481e-01 4.16253559e-01]\n",
      " [6.59048921e-03 5.37783617e-02 5.35350915e-03 9.34277640e-01\n",
      "  2.09853603e-02 1.08903506e-01 1.84690923e-02 8.51642041e-01]\n",
      " [8.21075583e-02 6.67639077e-01 2.16786302e-01 3.34670626e-02\n",
      "  5.56180278e-02 7.78958351e-01 1.30172120e-01 3.52515009e-02]\n",
      " [6.76593960e-01 4.41787730e-02 5.97032289e-03 2.73256944e-01\n",
      "  5.85957915e-01 1.10777177e-02 6.29704596e-03 3.96667321e-01]\n",
      " [4.07720738e-01 1.09286751e-01 3.16882770e-01 1.66109741e-01\n",
      "  4.08312656e-01 8.36467859e-02 3.22231083e-01 1.85809475e-01]\n",
      " [4.87751091e-01 3.89192218e-01 1.18415329e-01 4.64136249e-03\n",
      "  3.01545169e-01 5.65660287e-01 1.25771471e-01 7.02307315e-03]\n",
      " [1.64037750e-03 2.00971306e-02 8.62964219e-01 1.15298273e-01\n",
      "  3.40855156e-03 2.38148050e-02 7.73015545e-01 1.99761098e-01]\n",
      " [8.79917166e-01 4.07997799e-02 6.91634754e-02 1.01195787e-02\n",
      "  7.78793903e-01 3.35239718e-02 1.78944094e-01 8.73803058e-03]\n",
      " [7.87442522e-02 2.46258017e-02 1.65555078e-02 8.80074438e-01\n",
      "  8.09277722e-02 1.62625590e-02 1.36780232e-02 8.89131646e-01]\n",
      " [7.73430825e-02 1.42426065e-01 7.53095470e-01 2.71353818e-02\n",
      "  9.15683036e-02 8.39039904e-02 8.00992968e-01 2.35347381e-02]\n",
      " [1.34300037e-02 5.97764320e-02 8.61064390e-01 6.57291744e-02\n",
      "  3.28199601e-02 8.21402310e-02 7.57681642e-01 1.27358167e-01]\n",
      " [2.20669235e-01 1.38692371e-02 4.76524668e-01 2.88936860e-01\n",
      "  4.19891914e-01 1.11039636e-02 4.28083416e-01 1.40920707e-01]\n",
      " [4.24549106e-02 4.14372488e-02 3.54363283e-01 5.61744558e-01\n",
      "  5.60360581e-02 2.74692233e-02 6.64627357e-02 8.50031983e-01]\n",
      " [2.18823230e-01 1.00487382e-01 6.02487549e-01 7.82018399e-02\n",
      "  3.36569978e-01 9.32601616e-02 4.43111520e-01 1.27058340e-01]\n",
      " [1.50307271e-02 6.63603941e-03 1.03139840e-01 8.75193394e-01\n",
      "  1.86990225e-02 3.94507196e-03 1.25669699e-01 8.51686207e-01]\n",
      " [1.34686606e-02 1.00378862e-02 2.28930342e-02 9.53600419e-01\n",
      "  1.79922741e-02 7.38546885e-03 3.51770247e-02 9.39445232e-01]\n",
      " [7.88287049e-03 3.57639026e-02 7.92164422e-01 1.64188804e-01\n",
      "  7.33588039e-03 1.46530973e-02 9.09013106e-01 6.89979160e-02]\n",
      " [9.22471807e-01 1.03071235e-02 4.12227451e-02 2.59983240e-02\n",
      "  9.47956125e-01 5.75590272e-03 3.90308549e-02 7.25711776e-03]\n",
      " [1.02722315e-01 2.83360449e-02 8.41536689e-01 2.74049507e-02\n",
      "  1.73173813e-01 2.42426114e-02 7.61120078e-01 4.14634976e-02]\n",
      " [2.57665517e-02 2.07230745e-02 3.77829383e-02 9.15727435e-01\n",
      "  4.04486072e-02 2.60860934e-02 4.55294846e-02 8.87935815e-01]\n",
      " [7.78184202e-01 2.05607139e-02 6.84256465e-02 1.32829437e-01\n",
      "  7.07822639e-01 1.15874487e-02 9.49202024e-02 1.85669710e-01]\n",
      " [3.86995470e-03 7.40880562e-01 2.26161897e-01 2.90875864e-02\n",
      "  8.39791796e-03 6.55022470e-01 2.95704671e-01 4.08749402e-02]\n",
      " [3.55467822e-01 3.12712176e-02 2.38374504e-01 3.74886457e-01\n",
      "  3.75859705e-01 1.88440244e-02 3.77189038e-01 2.28107233e-01]\n",
      " [9.87849677e-03 2.71317357e-02 6.92266904e-01 2.70722863e-01\n",
      "  3.15917177e-02 3.35586266e-02 5.94952852e-01 3.39896804e-01]\n",
      " [1.43363716e-01 8.09360326e-01 3.36775727e-02 1.35983850e-02\n",
      "  4.57633521e-02 9.32463509e-01 1.90697536e-02 2.70338509e-03]\n",
      " [4.92979747e-03 3.57920250e-02 2.67673840e-02 9.32510794e-01\n",
      "  5.16441281e-03 3.16521541e-02 2.17651378e-02 9.41418295e-01]\n",
      " [1.73518047e-02 1.15128834e-01 7.00166508e-01 1.67352853e-01\n",
      "  3.91187864e-02 5.93400205e-02 7.47207073e-01 1.54334120e-01]] [[13.47124345 13.34951928 12.37583412 ... 10.40995247 11.01633373\n",
      "  12.42580305]\n",
      " [14.12406695 12.77794479 12.8257087  ...  9.63294029 11.45888932\n",
      "  11.09366617]\n",
      " [14.4363962  13.08102975 12.5921628  ...  8.41923912 11.70777448\n",
      "  12.31146154]\n",
      " ...\n",
      " [15.26497995 13.60413493 11.58475358 ...  9.63311303 10.9057336\n",
      "  12.00437715]\n",
      " [14.33306155 12.9978275  11.94216655 ...  8.90868609  9.13220801\n",
      "  11.91489414]\n",
      " [13.7698887  12.99558754 12.18339301 ...  9.00938273 10.91909702\n",
      "  11.4806333 ]]\n",
      "stacked\n",
      "cv\n",
      "stacked\n",
      "cv\n",
      "stacked\n",
      "cv\n",
      "stacked\n",
      "cv\n",
      "stacked\n",
      "cv\n",
      "stacked\n",
      "cv\n",
      "stacked\n",
      "cv\n",
      "stacked\n",
      "cv\n",
      "stacked\n",
      "cv\n",
      "stacked\n",
      "cv\n",
      "stacked\n",
      "cv\n",
      "stacked\n",
      "cv\n",
      "stacked\n",
      "cv\n",
      "stacked\n",
      "cv\n",
      "stacked\n",
      "cv\n",
      "stacked\n",
      "cv\n",
      "stacked\n",
      "cv\n",
      "stacked\n",
      "cv\n",
      "stacked\n",
      "cv\n",
      "stacked\n",
      "cv\n",
      "stacked\n",
      "cv\n",
      "stacked\n",
      "cv\n",
      "stacked\n",
      "cv\n",
      "stacked\n",
      "cv\n",
      "stacked\n",
      "cv\n",
      "stacked\n",
      "cv\n",
      "stacked\n",
      "cv\n",
      "stacked\n",
      "cv\n",
      "stacked\n",
      "cv\n",
      "stacked\n",
      "cv\n",
      "stacked\n",
      "cv\n",
      "stacked\n",
      "cv\n",
      "stacked\n",
      "cv\n",
      "stacked\n",
      "cv\n",
      "stacked\n",
      "cv\n",
      "stacked\n",
      "cv\n",
      "stacked\n",
      "cv\n",
      "stacked\n",
      "cv\n",
      "stacked\n",
      "cv\n",
      "stacked\n",
      "cv\n",
      "stacked\n",
      "cv\n",
      "stacked\n",
      "cv\n",
      "stacked\n",
      "cv\n",
      "stacked\n",
      "cv\n",
      "stacked\n",
      "cv\n",
      "stacked\n",
      "cv\n",
      "stacked\n",
      "cv\n",
      "stacked\n",
      "cv\n",
      "stacked\n",
      "cv\n",
      "stacked\n",
      "cv\n",
      "stacked\n",
      "cv\n",
      "stacked\n",
      "cv\n",
      "stacked\n",
      "cv\n",
      "stacked\n",
      "cv\n",
      "stacked\n",
      "cv\n",
      "stacked\n",
      "cv\n",
      "stacked\n",
      "cv\n",
      "stacked\n",
      "cv\n",
      "stacked\n",
      "cv\n",
      "stacked\n",
      "cv\n",
      "stacked\n",
      "cv\n",
      "stacked\n",
      "cv\n",
      "stacked\n",
      "cv\n",
      "stacked\n",
      "cv\n",
      "stacked\n",
      "cv\n",
      "stacked\n",
      "cv\n",
      "stacked\n",
      "cv\n",
      "stacked\n",
      "cv\n",
      "stacked\n",
      "cv\n",
      "stacked\n",
      "cv\n",
      "stacked\n",
      "cv\n",
      "stacked\n",
      "cv\n",
      "stacked\n",
      "cv\n",
      "stacked\n",
      "cv\n",
      "stacked\n",
      "cv\n",
      "stacked\n",
      "cv\n",
      "stacked\n",
      "cv\n",
      "stacked\n",
      "cv\n",
      "stacked\n",
      "cv\n",
      "stacked\n",
      "cv\n",
      "stacked\n",
      "cv\n",
      "stacked\n",
      "cv\n",
      "stacked\n",
      "cv\n",
      "stacked\n",
      "cv\n",
      "stacked\n",
      "cv\n",
      "stacked\n",
      "cv\n",
      "stacked\n",
      "cv\n",
      "stacked\n",
      "cv\n",
      "stacked\n",
      "cv\n",
      "stacked\n",
      "cv\n",
      "stacked\n",
      "cv\n",
      "stacked\n",
      "cv\n",
      "stacked\n",
      "cv\n",
      "stacked\n",
      "cv\n",
      "stacked\n",
      "cv\n",
      "stacked\n",
      "cv\n",
      "\n",
      "model score of oof results for SVC3\n",
      "Model Accuracy: 0.875\n",
      "Precision: 0.8798649267399267\n",
      "Recall (Sensitivity): 0.875\n",
      "F1 Score: 0.8751610313936894\n",
      "Matthews Correlation Coefficient (MCC): 0.8329181448543629\n",
      "G-Measure: 0.9162567046538834\n",
      "AUC: 0.9900078580701379\n",
      "Specificity: 0.9582719803670507\n",
      "Jaccard Index: 0.7779538993943889\n",
      "Created directory: /work/wanlab/nick/stackeval/2/val_data/stacked/SVC3\n",
      "Saving metrics to: /work/wanlab/nick/stackeval/2/val_data/stacked/SVC3/LIMMA(2),metrics.csv\n",
      "PREDICTIONS                   subtype  Squamous      ADEX  Pancreatic Progenitor  \\\n",
      "0                    ADEX  0.004440  0.647402               0.085852   \n",
      "1                Squamous  0.885286  0.072839               0.029272   \n",
      "2   Pancreatic Progenitor  0.015663  0.126571               0.702393   \n",
      "3                Squamous  0.885271  0.058602               0.010558   \n",
      "4   Pancreatic Progenitor  0.102508  0.031321               0.837040   \n",
      "..                    ...       ...       ...                    ...   \n",
      "91  Pancreatic Progenitor  0.429549  0.015718               0.361837   \n",
      "92               Squamous  0.996460  0.001108               0.000368   \n",
      "93               Squamous  0.399348  0.119219               0.320419   \n",
      "94            Immunogenic  0.013743  0.024646               0.258149   \n",
      "95            Immunogenic  0.015113  0.005139               0.162904   \n",
      "\n",
      "    Immunogenic  \n",
      "0      0.262306  \n",
      "1      0.012603  \n",
      "2      0.155373  \n",
      "3      0.045568  \n",
      "4      0.029131  \n",
      "..          ...  \n",
      "91     0.192896  \n",
      "92     0.002064  \n",
      "93     0.161014  \n",
      "94     0.703461  \n",
      "95     0.816844  \n",
      "\n",
      "[96 rows x 5 columns]\n",
      "\n",
      "model score of oof results for SVC4\n",
      "Model Accuracy: 0.9270833333333334\n",
      "Precision: 0.9282457295657727\n",
      "Recall (Sensitivity): 0.9270833333333334\n",
      "F1 Score: 0.927124353652804\n",
      "Matthews Correlation Coefficient (MCC): 0.9017909960019698\n",
      "G-Measure: 0.9519085598926197\n",
      "AUC: 0.9865083493384549\n",
      "Specificity: 0.9752147353819889\n",
      "Jaccard Index: 0.8669652957336781\n",
      "Created directory: /work/wanlab/nick/stackeval/2/val_data/stacked/SVC4\n",
      "Saving metrics to: /work/wanlab/nick/stackeval/2/val_data/stacked/SVC4/LIMMA(2),metrics.csv\n",
      "PREDICTIONS                   subtype  Squamous      ADEX  Pancreatic Progenitor  \\\n",
      "0                    ADEX  0.005500  0.682818               0.069264   \n",
      "1                Squamous  0.864532  0.090944               0.028443   \n",
      "2   Pancreatic Progenitor  0.033526  0.057597               0.741318   \n",
      "3                Squamous  0.963455  0.019040               0.009446   \n",
      "4   Pancreatic Progenitor  0.177429  0.026354               0.750293   \n",
      "..                    ...       ...       ...                    ...   \n",
      "91  Pancreatic Progenitor  0.467976  0.012891               0.450955   \n",
      "92               Squamous  0.996710  0.000147               0.002066   \n",
      "93               Squamous  0.401315  0.093183               0.326124   \n",
      "94            Immunogenic  0.033107  0.047798               0.416721   \n",
      "95            Immunogenic  0.019020  0.003795               0.138643   \n",
      "\n",
      "    Immunogenic  \n",
      "0      0.242418  \n",
      "1      0.016081  \n",
      "2      0.167559  \n",
      "3      0.008058  \n",
      "4      0.045924  \n",
      "..          ...  \n",
      "91     0.068178  \n",
      "92     0.001077  \n",
      "93     0.179378  \n",
      "94     0.502373  \n",
      "95     0.838542  \n",
      "\n",
      "[96 rows x 5 columns]\n",
      "Random state: 3\n",
      "['SVC', 'SVC2']\n",
      "individual models\n",
      "cv\n",
      "individual models\n",
      "cv\n",
      "individual models\n",
      "cv\n",
      "individual models\n",
      "cv\n",
      "individual models\n",
      "cv\n",
      "individual models\n",
      "cv\n",
      "individual models\n",
      "cv\n",
      "individual models\n",
      "cv\n",
      "individual models\n",
      "cv\n",
      "individual models\n",
      "cv\n",
      "individual models\n",
      "cv\n",
      "individual models\n",
      "cv\n",
      "individual models\n",
      "cv\n",
      "individual models\n",
      "cv\n",
      "individual models\n",
      "cv\n",
      "individual models\n",
      "cv\n",
      "individual models\n",
      "cv\n",
      "individual models\n",
      "cv\n",
      "individual models\n",
      "cv\n",
      "individual models\n",
      "cv\n",
      "individual models\n",
      "cv\n",
      "individual models\n",
      "cv\n",
      "individual models\n",
      "cv\n",
      "individual models\n",
      "cv\n",
      "individual models\n",
      "cv\n",
      "individual models\n",
      "cv\n",
      "individual models\n",
      "cv\n",
      "individual models\n",
      "cv\n",
      "individual models\n",
      "cv\n",
      "individual models\n",
      "cv\n",
      "individual models\n",
      "cv\n",
      "individual models\n",
      "cv\n",
      "individual models\n",
      "cv\n",
      "individual models\n",
      "cv\n",
      "individual models\n",
      "cv\n",
      "individual models\n",
      "cv\n",
      "individual models\n",
      "cv\n",
      "individual models\n",
      "cv\n",
      "individual models\n",
      "cv\n",
      "individual models\n",
      "cv\n",
      "individual models\n",
      "cv\n",
      "individual models\n",
      "cv\n",
      "individual models\n",
      "cv\n",
      "individual models\n",
      "cv\n",
      "individual models\n",
      "cv\n",
      "individual models\n",
      "cv\n",
      "individual models\n",
      "cv\n",
      "individual models\n",
      "cv\n",
      "individual models\n",
      "cv\n",
      "individual models\n",
      "cv\n",
      "individual models\n",
      "cv\n",
      "individual models\n",
      "cv\n",
      "individual models\n",
      "cv\n",
      "individual models\n",
      "cv\n",
      "individual models\n",
      "cv\n",
      "individual models\n",
      "cv\n",
      "individual models\n",
      "cv\n",
      "individual models\n",
      "cv\n",
      "individual models\n",
      "cv\n",
      "individual models\n",
      "cv\n",
      "individual models\n",
      "cv\n",
      "individual models\n",
      "cv\n",
      "individual models\n",
      "cv\n",
      "individual models\n",
      "cv\n",
      "individual models\n",
      "cv\n",
      "individual models\n",
      "cv\n",
      "individual models\n",
      "cv\n",
      "individual models\n",
      "cv\n",
      "individual models\n",
      "cv\n",
      "individual models\n",
      "cv\n",
      "individual models\n",
      "cv\n",
      "individual models\n",
      "cv\n",
      "individual models\n",
      "cv\n",
      "individual models\n",
      "cv\n",
      "individual models\n",
      "cv\n",
      "individual models\n",
      "cv\n",
      "individual models\n",
      "cv\n",
      "individual models\n",
      "cv\n",
      "individual models\n",
      "cv\n",
      "individual models\n",
      "cv\n",
      "individual models\n",
      "cv\n",
      "individual models\n",
      "cv\n",
      "individual models\n",
      "cv\n",
      "individual models\n",
      "cv\n",
      "individual models\n",
      "cv\n",
      "individual models\n",
      "cv\n",
      "individual models\n",
      "cv\n",
      "individual models\n",
      "cv\n",
      "individual models\n",
      "cv\n",
      "individual models\n",
      "cv\n",
      "individual models\n",
      "cv\n",
      "individual models\n",
      "cv\n",
      "individual models\n",
      "cv\n",
      "individual models\n",
      "cv\n",
      "individual models\n",
      "cv\n",
      "individual models\n",
      "cv\n",
      "\n",
      "model score of oof results for SVC\n",
      "Model Accuracy: 0.8854166666666666\n",
      "Precision: 0.891441968525302\n",
      "Recall (Sensitivity): 0.8854166666666666\n",
      "F1 Score: 0.8857571122577969\n",
      "Matthews Correlation Coefficient (MCC): 0.847046869768925\n",
      "G-Measure: 0.9229308733968031\n",
      "AUC: 0.9883327109119362\n",
      "Specificity: 0.9613969803670508\n",
      "Jaccard Index: 0.7977251412244541\n",
      "Created directory: /work/wanlab/nick/stackeval/3/val_data/individual models/SVC\n",
      "Saving metrics to: /work/wanlab/nick/stackeval/3/val_data/individual models/SVC/LIMMA(3),metrics.csv\n",
      "PREDICTIONS                   subtype  Squamous      ADEX  Pancreatic Progenitor  \\\n",
      "0                    ADEX  0.017904  0.924929               0.012457   \n",
      "1             Immunogenic  0.011987  0.024279               0.274626   \n",
      "2                Squamous  0.341744  0.031852               0.261039   \n",
      "3                Squamous  0.840189  0.043259               0.108026   \n",
      "4   Pancreatic Progenitor  0.335528  0.012621               0.324636   \n",
      "..                    ...       ...       ...                    ...   \n",
      "91                   ADEX  0.003502  0.808654               0.178878   \n",
      "92  Pancreatic Progenitor  0.001273  0.006902               0.982677   \n",
      "93               Squamous  0.619525  0.059489               0.286419   \n",
      "94                   ADEX  0.072572  0.721008               0.181046   \n",
      "95               Squamous  0.744487  0.224148               0.022363   \n",
      "\n",
      "    Immunogenic  \n",
      "0      0.044709  \n",
      "1      0.689108  \n",
      "2      0.365365  \n",
      "3      0.008526  \n",
      "4      0.327215  \n",
      "..          ...  \n",
      "91     0.008966  \n",
      "92     0.009148  \n",
      "93     0.034568  \n",
      "94     0.025374  \n",
      "95     0.009002  \n",
      "\n",
      "[96 rows x 5 columns]\n",
      "\n",
      "model score of oof results for SVC2\n",
      "Model Accuracy: 0.9375\n",
      "Precision: 0.9378672542735043\n",
      "Recall (Sensitivity): 0.9375\n",
      "F1 Score: 0.9374874949979993\n",
      "Matthews Correlation Coefficient (MCC): 0.9155529545059609\n",
      "G-Measure: 0.9579504330083998\n",
      "AUC: 0.9860513697716601\n",
      "Specificity: 0.9787358621425523\n",
      "Jaccard Index: 0.882714303670186\n",
      "Created directory: /work/wanlab/nick/stackeval/3/val_data/individual models/SVC2\n",
      "Saving metrics to: /work/wanlab/nick/stackeval/3/val_data/individual models/SVC2/LIMMA(3),metrics.csv\n",
      "PREDICTIONS                   subtype  Squamous      ADEX  Pancreatic Progenitor  \\\n",
      "0                    ADEX  0.076267  0.815592               0.032920   \n",
      "1             Immunogenic  0.032414  0.037990               0.400625   \n",
      "2                Squamous  0.402816  0.018652               0.352914   \n",
      "3                Squamous  0.768259  0.036098               0.186784   \n",
      "4   Pancreatic Progenitor  0.342024  0.012854               0.501162   \n",
      "..                    ...       ...       ...                    ...   \n",
      "91                   ADEX  0.008966  0.618875               0.354434   \n",
      "92  Pancreatic Progenitor  0.000002  0.000002               0.999923   \n",
      "93               Squamous  0.575075  0.028540               0.379797   \n",
      "94                   ADEX  0.052367  0.800172               0.117692   \n",
      "95               Squamous  0.607328  0.351148               0.014794   \n",
      "\n",
      "    Immunogenic  \n",
      "0      0.075221  \n",
      "1      0.528971  \n",
      "2      0.225619  \n",
      "3      0.008858  \n",
      "4      0.143959  \n",
      "..          ...  \n",
      "91     0.017725  \n",
      "92     0.000073  \n",
      "93     0.016588  \n",
      "94     0.029769  \n",
      "95     0.026730  \n",
      "\n",
      "[96 rows x 5 columns]\n",
      "运行时间为: 24.23 秒\n",
      "combining [[1.79042559e-02 9.24929382e-01 1.24572192e-02 4.47091430e-02\n",
      "  7.62671929e-02 8.15592403e-01 3.29197546e-02 7.52206496e-02]\n",
      " [1.19868220e-02 2.42791325e-02 2.74626175e-01 6.89107870e-01\n",
      "  3.24142085e-02 3.79897095e-02 4.00625134e-01 5.28970948e-01]\n",
      " [3.41744159e-01 3.18515351e-02 2.61039159e-01 3.65365147e-01\n",
      "  4.02815966e-01 1.86517252e-02 3.52913603e-01 2.25618706e-01]\n",
      " [8.40188784e-01 4.32592298e-02 1.08026106e-01 8.52587998e-03\n",
      "  7.68259478e-01 3.60980332e-02 1.86784268e-01 8.85822110e-03]\n",
      " [3.35527608e-01 1.26214613e-02 3.24635994e-01 3.27214937e-01\n",
      "  3.42024199e-01 1.28544040e-02 5.01162031e-01 1.43959366e-01]\n",
      " [8.49677420e-01 2.38713046e-02 1.08184337e-01 1.82669390e-02\n",
      "  8.66878687e-01 2.10945516e-02 9.81633164e-02 1.38634447e-02]\n",
      " [9.35106414e-02 8.05976442e-01 6.17001050e-02 3.88128115e-02\n",
      "  8.78942177e-02 7.78275496e-01 5.22565792e-02 8.15737068e-02]\n",
      " [4.50304132e-01 1.73903381e-02 3.34958342e-01 1.97347188e-01\n",
      "  4.58294082e-01 1.41333569e-02 4.75920929e-01 5.16516314e-02]\n",
      " [2.34896990e-02 6.46349073e-02 7.75632822e-02 8.34312111e-01\n",
      "  2.51984693e-02 6.73797009e-02 2.94107904e-01 6.13313926e-01]\n",
      " [6.85345176e-03 1.12523503e-01 8.05591416e-01 7.50316290e-02\n",
      "  8.18361776e-03 6.35330200e-02 8.50299850e-01 7.79835124e-02]\n",
      " [2.47931186e-01 2.04507794e-01 5.07317385e-01 4.02436340e-02\n",
      "  3.43248074e-01 1.62666644e-01 4.51151998e-01 4.29332837e-02]\n",
      " [2.70607549e-01 5.00108785e-02 3.41394710e-01 3.37986863e-01\n",
      "  2.19377849e-01 3.58436770e-02 3.95171913e-01 3.49606561e-01]\n",
      " [8.60787703e-01 9.86414736e-02 1.94954498e-03 3.86212785e-02\n",
      "  7.86404203e-01 7.09498780e-02 9.78766392e-03 1.32858255e-01]\n",
      " [2.21179951e-02 3.99357444e-02 2.91012043e-01 6.46934217e-01\n",
      "  3.24178841e-02 2.77365814e-02 3.49555805e-01 5.90289729e-01]\n",
      " [2.04005544e-02 3.15856052e-03 3.80903070e-02 9.38350578e-01\n",
      "  3.38760032e-02 2.30483337e-03 4.21795287e-02 9.21639635e-01]\n",
      " [4.17137615e-01 3.81904383e-01 1.83924636e-01 1.70333665e-02\n",
      "  4.06888638e-01 3.66357135e-01 1.98300915e-01 2.84533123e-02]\n",
      " [9.47959391e-02 2.53324000e-02 8.56137725e-01 2.37339360e-02\n",
      "  1.56844566e-01 2.41141495e-02 7.73578343e-01 4.54629421e-02]\n",
      " [2.20921489e-01 1.56230370e-02 4.63954198e-01 2.99501277e-01\n",
      "  4.08700433e-01 1.05715934e-02 4.33843411e-01 1.46884562e-01]\n",
      " [4.32158888e-03 6.13161883e-01 9.13928374e-02 2.91123691e-01\n",
      "  5.41782549e-03 7.19034626e-01 6.89784460e-02 2.06569103e-01]\n",
      " [3.24419374e-03 9.82800751e-01 1.25875757e-03 1.26962980e-02\n",
      "  4.06228564e-03 9.85051155e-01 1.60427934e-03 9.28227963e-03]\n",
      " [8.77752856e-01 8.81026693e-02 2.21320694e-02 1.20124056e-02\n",
      "  8.64206298e-01 8.67183152e-02 3.12263874e-02 1.78489996e-02]\n",
      " [6.92159983e-01 9.03307462e-03 2.28218770e-01 7.05881728e-02\n",
      "  6.11168455e-01 4.92542467e-03 3.61117302e-01 2.27888182e-02]\n",
      " [5.92231905e-03 9.81150806e-01 2.97578282e-03 9.95109244e-03\n",
      "  5.22138715e-03 9.60251822e-01 1.54628596e-02 1.90639309e-02]\n",
      " [4.67209736e-02 2.36933021e-02 1.77091092e-01 7.52494632e-01\n",
      "  6.99852458e-02 1.96668544e-02 2.12067360e-01 6.98280540e-01]\n",
      " [6.73959069e-01 4.15626056e-02 6.22335071e-03 2.78254975e-01\n",
      "  5.91077611e-01 1.35891199e-02 4.09486111e-03 3.91238408e-01]\n",
      " [5.39778847e-03 5.59573196e-02 9.10093511e-01 2.85513812e-02\n",
      "  1.26575304e-02 6.99292775e-02 8.81215440e-01 3.61977526e-02]\n",
      " [1.49223591e-02 3.44395357e-03 1.35382825e-02 9.68095405e-01\n",
      "  1.71500990e-02 1.88803149e-03 2.24258812e-02 9.58535988e-01]\n",
      " [7.83764739e-01 2.04190357e-02 7.15476970e-02 1.24268528e-01\n",
      "  7.36123863e-01 1.03099743e-02 8.19170634e-02 1.71649099e-01]\n",
      " [4.38176757e-02 1.32034730e-02 9.37147207e-01 5.83164440e-03\n",
      "  3.85779837e-02 1.37590522e-02 9.44524551e-01 3.13841296e-03]\n",
      " [3.32951877e-03 1.04231400e-03 9.38675529e-04 9.94689492e-01\n",
      "  5.61142442e-03 6.08497738e-04 1.06559580e-03 9.92714482e-01]\n",
      " [1.13985233e-02 8.92436207e-03 1.83838693e-02 9.61293245e-01\n",
      "  1.79301927e-02 7.37831111e-03 3.53213817e-02 9.39370114e-01]\n",
      " [7.05343971e-03 6.81137120e-01 7.74111789e-02 2.34398262e-01\n",
      "  7.76453900e-03 6.99725117e-01 1.18214830e-01 1.74295514e-01]\n",
      " [4.65549412e-03 7.75341549e-01 1.91559397e-01 2.84435595e-02\n",
      "  8.96313384e-03 6.54208009e-01 3.01934985e-01 3.48938727e-02]\n",
      " [8.85496133e-03 7.82812611e-01 1.66186664e-01 4.21457640e-02\n",
      "  2.45704443e-02 7.75372254e-01 1.16973115e-01 8.30841874e-02]\n",
      " [4.79061710e-01 3.94451712e-01 1.23348929e-01 3.13764974e-03\n",
      "  2.90217050e-01 5.84651310e-01 1.17057688e-01 8.07395193e-03]\n",
      " [3.59376415e-03 2.33218947e-03 2.01475557e-03 9.92059291e-01\n",
      "  4.04709385e-03 1.27625474e-03 8.51303918e-04 9.93825347e-01]\n",
      " [9.45983012e-03 3.24390801e-02 9.44446833e-01 1.36542563e-02\n",
      "  1.88035706e-02 6.20306676e-02 8.60145701e-01 5.90200604e-02]\n",
      " [5.90571718e-01 3.15290469e-01 8.77190325e-02 6.41878058e-03\n",
      "  5.13195850e-01 4.03988002e-01 7.24334148e-02 1.03827340e-02]\n",
      " [9.76351886e-01 4.42070977e-03 8.04499746e-03 1.11824064e-02\n",
      "  9.82132634e-01 8.02114380e-04 1.12463449e-02 5.81890689e-03]\n",
      " [9.78879357e-03 8.20249396e-02 8.67264469e-01 4.09217977e-02\n",
      "  1.28817257e-02 4.11674462e-02 8.83502513e-01 6.24483146e-02]\n",
      " [2.80755910e-02 1.58356979e-02 1.23496171e-01 8.32592540e-01\n",
      "  5.30516734e-02 1.23398611e-02 9.20267153e-02 8.42581750e-01]\n",
      " [1.33305482e-02 7.64154151e-02 8.34396802e-01 7.58572342e-02\n",
      "  2.67079778e-02 6.54411616e-02 7.72676854e-01 1.35174006e-01]\n",
      " [3.56105581e-02 1.03863770e-02 8.80695090e-01 7.33079747e-02\n",
      "  8.04216479e-02 1.09425071e-02 8.45902417e-01 6.27334285e-02]\n",
      " [9.78725717e-01 1.76327366e-03 5.55865722e-03 1.39523526e-02\n",
      "  9.87268859e-01 7.37597496e-04 5.19169852e-03 6.80184457e-03]\n",
      " [1.90474181e-01 9.33940797e-02 6.21674194e-01 9.44575454e-02\n",
      "  3.03206243e-01 9.15100559e-02 4.64279034e-01 1.41004667e-01]\n",
      " [1.06338351e-02 2.34456995e-02 6.99819254e-01 2.66101212e-01\n",
      "  2.70723851e-02 3.18586672e-02 6.11731364e-01 3.29337583e-01]\n",
      " [8.03893865e-02 2.41391896e-02 1.62332359e-02 8.79238188e-01\n",
      "  7.29151466e-02 1.62360348e-02 1.38032054e-02 8.97045613e-01]\n",
      " [8.52686581e-01 7.13567267e-02 7.24874309e-02 3.46926090e-03\n",
      "  7.98606586e-01 8.04058596e-02 1.13231703e-01 7.75585101e-03]\n",
      " [9.94768274e-01 3.56547759e-04 9.65732442e-05 4.77860530e-03\n",
      "  9.94774335e-01 8.82399169e-05 2.88139889e-04 4.84928494e-03]\n",
      " [9.75711888e-01 7.66527735e-03 7.82483795e-03 8.79799621e-03\n",
      "  9.62576740e-01 1.85434822e-03 9.87504246e-03 2.56938689e-02]\n",
      " [6.11384084e-02 2.83075957e-02 8.87496376e-01 2.30576195e-02\n",
      "  7.47089399e-02 2.82017421e-02 8.73231085e-01 2.38582334e-02]\n",
      " [3.66160009e-02 9.87845554e-02 8.58125838e-01 6.47360591e-03\n",
      "  6.68584003e-02 8.27952511e-02 8.37473916e-01 1.28724322e-02]\n",
      " [1.16890098e-02 5.51477899e-03 9.56245647e-02 8.87171647e-01\n",
      "  1.89085755e-02 4.29515031e-03 1.19886724e-01 8.56909550e-01]\n",
      " [1.01490029e-01 1.05446300e-01 7.61212485e-01 3.18511863e-02\n",
      "  8.99074192e-02 9.12300004e-02 7.95237572e-01 2.36250080e-02]\n",
      " [2.58280682e-02 2.41791704e-02 2.97888103e-02 9.20203951e-01\n",
      "  4.33294210e-02 2.85059349e-02 3.86498070e-02 8.89514837e-01]\n",
      " [3.98757231e-01 2.31633682e-02 1.78732311e-01 3.99347090e-01\n",
      "  4.95769881e-01 4.50358200e-02 1.76143590e-01 2.83050710e-01]\n",
      " [3.95584038e-02 3.63173508e-02 3.83788844e-01 5.40335402e-01\n",
      "  7.82656646e-02 2.47484867e-02 6.85580566e-01 2.11405283e-01]\n",
      " [2.29517174e-03 1.31328869e-03 3.59991320e-04 9.96031548e-01\n",
      "  1.62542897e-03 1.86973251e-03 2.64161208e-03 9.93863226e-01]\n",
      " [1.96001589e-01 1.24835596e-02 3.57777828e-02 7.55737068e-01\n",
      "  1.17973185e-01 3.48396880e-03 3.99490937e-02 8.38593753e-01]\n",
      " [8.44703521e-02 8.83974439e-03 9.08557754e-02 8.15834128e-01\n",
      "  1.33889195e-01 6.19079319e-03 1.62218330e-01 6.97701681e-01]\n",
      " [4.34976895e-02 3.83974125e-02 3.27517731e-01 5.90587167e-01\n",
      "  4.90841542e-02 3.45671617e-02 8.83823868e-02 8.27966297e-01]\n",
      " [8.98841014e-01 5.84205476e-02 9.55182418e-03 3.31866141e-02\n",
      "  9.23632180e-01 3.55267463e-02 8.30081152e-03 3.25402623e-02]\n",
      " [9.94109152e-01 7.70211066e-04 1.35828252e-04 4.98480847e-03\n",
      "  9.95081289e-01 8.69224056e-05 1.10935084e-04 4.72085372e-03]\n",
      " [9.53542087e-03 3.42870726e-02 8.02150576e-01 1.54026930e-01\n",
      "  7.94226309e-03 1.53761355e-02 9.06986840e-01 6.96947611e-02]\n",
      " [2.96301563e-02 7.16421845e-02 8.93135456e-01 5.59220308e-03\n",
      "  5.26276190e-02 7.45048714e-02 8.64592504e-01 8.27500569e-03]\n",
      " [8.83820820e-01 5.38215602e-02 1.14064292e-02 5.09511907e-02\n",
      "  9.53812648e-01 2.45277690e-02 1.29032696e-02 8.75631330e-03]\n",
      " [1.61825780e-01 7.84230621e-01 3.79888802e-02 1.59547182e-02\n",
      "  3.72327807e-02 9.42250794e-01 1.82051174e-02 2.31130778e-03]\n",
      " [2.34717691e-01 6.28568847e-01 1.21573348e-01 1.51401132e-02\n",
      "  1.46838232e-01 7.45929946e-01 9.12199386e-02 1.60118829e-02]\n",
      " [1.12545547e-01 3.53452904e-02 8.18408461e-01 3.37007017e-02\n",
      "  1.85207191e-01 4.29151585e-02 7.39646587e-01 3.22310642e-02]\n",
      " [9.95049691e-01 1.27784271e-03 5.47712712e-04 3.12475403e-03\n",
      "  9.96869638e-01 1.51677059e-04 2.32280777e-03 6.55876917e-04]\n",
      " [5.06128965e-03 3.18744568e-02 2.24963439e-02 9.40567910e-01\n",
      "  6.31892142e-03 3.22395664e-02 2.01601825e-02 9.41281330e-01]\n",
      " [9.78179326e-01 8.99268967e-03 5.74320859e-03 7.08477530e-03\n",
      "  9.78812707e-01 7.09458150e-03 1.03434789e-02 3.74923239e-03]\n",
      " [5.81420002e-03 1.85108182e-02 3.74115837e-01 6.01559145e-01\n",
      "  1.05670826e-02 1.96098688e-02 3.13243944e-01 6.56579104e-01]\n",
      " [3.53437706e-03 1.03133303e-02 9.53441782e-01 3.27105106e-02\n",
      "  1.45668845e-02 1.72178205e-02 9.29337004e-01 3.88782911e-02]\n",
      " [1.07472695e-01 1.66453055e-01 1.38066263e-01 5.88007987e-01\n",
      "  8.01514371e-02 1.15137172e-01 1.32756739e-01 6.71954652e-01]\n",
      " [1.15890793e-01 6.85521357e-01 1.74642141e-01 2.39457090e-02\n",
      "  2.57127715e-01 4.50431651e-01 2.57106616e-01 3.53340183e-02]\n",
      " [7.58791652e-02 1.16224820e-01 7.54702511e-01 5.31935044e-02\n",
      "  4.58283567e-02 1.98937648e-02 9.24746741e-01 9.53113729e-03]\n",
      " [3.87138026e-01 1.03408123e-01 3.62579293e-01 1.46874558e-01\n",
      "  4.05241436e-01 8.42417661e-02 3.30259469e-01 1.80257329e-01]\n",
      " [1.51269728e-03 9.94418271e-01 7.34499326e-04 3.33453278e-03\n",
      "  1.22295893e-03 9.92511873e-01 1.14039189e-03 5.12477638e-03]\n",
      " [2.03497354e-02 2.18511424e-01 7.59573595e-01 1.56524537e-03\n",
      "  2.19805479e-02 1.78758028e-01 7.96870569e-01 2.39085557e-03]\n",
      " [2.70828134e-03 1.99725979e-02 2.13925901e-01 7.63393220e-01\n",
      "  3.36638006e-03 1.90857291e-02 1.38489060e-01 8.39058831e-01]\n",
      " [1.55738233e-02 1.21050902e-01 6.61406345e-01 2.01968929e-01\n",
      "  4.01847521e-02 5.72917346e-02 7.49597199e-01 1.52926314e-01]\n",
      " [1.33516410e-01 2.09524426e-02 2.55220204e-01 5.90310943e-01\n",
      "  1.03433649e-01 6.03625295e-03 5.43018705e-01 3.47511393e-01]\n",
      " [1.26312519e-01 2.37784956e-01 2.76550029e-01 3.59352496e-01\n",
      "  1.80435867e-01 1.61298342e-01 2.58176167e-01 4.00089624e-01]\n",
      " [3.00715699e-03 5.22043864e-03 9.35657891e-01 5.61145136e-02\n",
      "  9.17231423e-03 1.03713737e-02 9.11464587e-01 6.89917254e-02]\n",
      " [1.58473661e-03 1.98237533e-02 8.65948009e-01 1.12643501e-01\n",
      "  3.15230894e-03 2.06398296e-02 8.07029783e-01 1.69178078e-01]\n",
      " [6.45754945e-03 5.56311182e-02 9.95781716e-03 9.27953515e-01\n",
      "  2.12765625e-02 1.10690299e-01 1.86746083e-02 8.49358531e-01]\n",
      " [4.30689561e-03 7.55406264e-03 5.47017763e-02 9.33437265e-01\n",
      "  6.62015435e-03 7.78220924e-03 6.48274291e-02 9.20770207e-01]\n",
      " [9.91944921e-01 2.58168489e-03 5.56748327e-04 4.91664575e-03\n",
      "  9.94365872e-01 1.71334516e-03 1.05457430e-03 2.86620856e-03]\n",
      " [1.57354625e-02 8.92770998e-01 7.36845125e-02 1.78090271e-02\n",
      "  3.72283034e-02 5.67939122e-01 3.49982917e-01 4.48496584e-02]\n",
      " [9.23766999e-01 1.31612007e-02 4.07980296e-02 2.22737704e-02\n",
      "  9.62571743e-01 5.67314497e-03 2.34610186e-02 8.29409320e-03]\n",
      " [3.50180220e-03 8.08654378e-01 1.78877885e-01 8.96593495e-03\n",
      "  8.96592303e-03 6.18875252e-01 3.54434302e-01 1.77245226e-02]\n",
      " [1.27281628e-03 6.90247859e-03 9.82677128e-01 9.14757693e-03\n",
      "  2.12193354e-06 2.48240628e-06 9.99922844e-01 7.25511764e-05]\n",
      " [6.19524882e-01 5.94886398e-02 2.86418628e-01 3.45678506e-02\n",
      "  5.75074728e-01 2.85396202e-02 3.79797496e-01 1.65881551e-02]\n",
      " [7.25716694e-02 7.21008267e-01 1.81046211e-01 2.53738523e-02\n",
      "  5.23674095e-02 8.00172361e-01 1.17691609e-01 2.97686210e-02]\n",
      " [7.44487220e-01 2.24147629e-01 2.23634250e-02 9.00172651e-03\n",
      "  6.07327895e-01 3.51147788e-01 1.47938849e-02 2.67304314e-02]] [[15.4259582  14.08525845 12.01110512 ...  9.45622747 11.12707631\n",
      "  11.78331935]\n",
      " [14.5220391  13.2376512  13.02501251 ...  9.19301413 10.68491557\n",
      "  11.92621369]\n",
      " [13.73459676 13.43753459 13.68458097 ...  9.06620233  9.92329586\n",
      "  10.98766112]\n",
      " ...\n",
      " [14.71684472 13.81278796 13.58508909 ... 10.31590684 12.7838795\n",
      "  11.90067493]\n",
      " [14.40478708 12.90705323 12.30088111 ...  8.98026881 10.78334035\n",
      "  11.06108212]\n",
      " [14.33271606 13.3818689  12.82586149 ...  8.62757054 10.70902877\n",
      "  11.54604027]]\n",
      "stacked\n",
      "cv\n",
      "stacked\n",
      "cv\n",
      "stacked\n",
      "cv\n",
      "stacked\n",
      "cv\n",
      "stacked\n",
      "cv\n",
      "stacked\n",
      "cv\n",
      "stacked\n",
      "cv\n",
      "stacked\n",
      "cv\n",
      "stacked\n",
      "cv\n",
      "stacked\n",
      "cv\n",
      "stacked\n",
      "cv\n",
      "stacked\n",
      "cv\n",
      "stacked\n",
      "cv\n",
      "stacked\n",
      "cv\n",
      "stacked\n",
      "cv\n",
      "stacked\n",
      "cv\n",
      "stacked\n",
      "cv\n",
      "stacked\n",
      "cv\n",
      "stacked\n",
      "cv\n",
      "stacked\n",
      "cv\n",
      "stacked\n",
      "cv\n",
      "stacked\n",
      "cv\n",
      "stacked\n",
      "cv\n",
      "stacked\n",
      "cv\n",
      "stacked\n",
      "cv\n",
      "stacked\n",
      "cv\n",
      "stacked\n",
      "cv\n",
      "stacked\n",
      "cv\n",
      "stacked\n",
      "cv\n",
      "stacked\n",
      "cv\n",
      "stacked\n",
      "cv\n",
      "stacked\n",
      "cv\n",
      "stacked\n",
      "cv\n",
      "stacked\n",
      "cv\n",
      "stacked\n",
      "cv\n",
      "stacked\n",
      "cv\n",
      "stacked\n",
      "cv\n",
      "stacked\n",
      "cv\n",
      "stacked\n",
      "cv\n",
      "stacked\n",
      "cv\n",
      "stacked\n",
      "cv\n",
      "stacked\n",
      "cv\n",
      "stacked\n",
      "cv\n",
      "stacked\n",
      "cv\n",
      "stacked\n",
      "cv\n",
      "stacked\n",
      "cv\n",
      "stacked\n",
      "cv\n",
      "stacked\n",
      "cv\n",
      "stacked\n",
      "cv\n",
      "stacked\n",
      "cv\n",
      "stacked\n",
      "cv\n",
      "stacked\n",
      "cv\n",
      "stacked\n",
      "cv\n",
      "stacked\n",
      "cv\n",
      "stacked\n",
      "cv\n",
      "stacked\n",
      "cv\n",
      "stacked\n",
      "cv\n",
      "stacked\n",
      "cv\n",
      "stacked\n",
      "cv\n",
      "stacked\n",
      "cv\n",
      "stacked\n",
      "cv\n",
      "stacked\n",
      "cv\n",
      "stacked\n",
      "cv\n",
      "stacked\n",
      "cv\n",
      "stacked\n",
      "cv\n",
      "stacked\n",
      "cv\n",
      "stacked\n",
      "cv\n",
      "stacked\n",
      "cv\n",
      "stacked\n",
      "cv\n",
      "stacked\n",
      "cv\n",
      "stacked\n",
      "cv\n",
      "stacked\n",
      "cv\n",
      "stacked\n",
      "cv\n",
      "stacked\n",
      "cv\n",
      "stacked\n",
      "cv\n",
      "stacked\n",
      "cv\n",
      "stacked\n",
      "cv\n",
      "stacked\n",
      "cv\n",
      "stacked\n",
      "cv\n",
      "stacked\n",
      "cv\n",
      "stacked\n",
      "cv\n",
      "stacked\n",
      "cv\n",
      "stacked\n",
      "cv\n",
      "stacked\n",
      "cv\n",
      "stacked\n",
      "cv\n",
      "stacked\n",
      "cv\n",
      "stacked\n",
      "cv\n",
      "stacked\n",
      "cv\n",
      "stacked\n",
      "cv\n",
      "stacked\n",
      "cv\n",
      "stacked\n",
      "cv\n",
      "stacked\n",
      "cv\n",
      "stacked\n",
      "cv\n",
      "stacked\n",
      "cv\n",
      "stacked\n",
      "cv\n",
      "stacked\n",
      "cv\n",
      "\n",
      "model score of oof results for SVC3\n",
      "Model Accuracy: 0.875\n",
      "Precision: 0.8798649267399267\n",
      "Recall (Sensitivity): 0.875\n",
      "F1 Score: 0.8751610313936894\n",
      "Matthews Correlation Coefficient (MCC): 0.8329181448543629\n",
      "G-Measure: 0.9162567046538834\n",
      "AUC: 0.9889529093754446\n",
      "Specificity: 0.9582719803670507\n",
      "Jaccard Index: 0.7779538993943889\n",
      "Created directory: /work/wanlab/nick/stackeval/3/val_data/stacked/SVC3\n",
      "Saving metrics to: /work/wanlab/nick/stackeval/3/val_data/stacked/SVC3/LIMMA(3),metrics.csv\n",
      "PREDICTIONS                   subtype  Squamous      ADEX  Pancreatic Progenitor  \\\n",
      "0             Immunogenic  0.670575  0.044152               0.005364   \n",
      "1   Pancreatic Progenitor  0.089359  0.100804               0.779184   \n",
      "2                Squamous  0.731995  0.242246               0.016940   \n",
      "3                Squamous  0.851829  0.044240               0.093885   \n",
      "4             Immunogenic  0.004269  0.004776               0.073552   \n",
      "..                    ...       ...       ...                    ...   \n",
      "91                   ADEX  0.005109  0.675780               0.092391   \n",
      "92            Immunogenic  0.027129  0.026907               0.082343   \n",
      "93  Pancreatic Progenitor  0.004832  0.016225               0.932561   \n",
      "94            Immunogenic  0.021875  0.014518               0.125453   \n",
      "95            Immunogenic  0.126194  0.263089               0.270662   \n",
      "\n",
      "    Immunogenic  \n",
      "0      0.279910  \n",
      "1      0.030653  \n",
      "2      0.008819  \n",
      "3      0.010047  \n",
      "4      0.917403  \n",
      "..          ...  \n",
      "91     0.226719  \n",
      "92     0.863621  \n",
      "93     0.046382  \n",
      "94     0.838154  \n",
      "95     0.340055  \n",
      "\n",
      "[96 rows x 5 columns]\n",
      "\n",
      "model score of oof results for SVC4\n",
      "Model Accuracy: 0.9270833333333334\n",
      "Precision: 0.9282457295657727\n",
      "Recall (Sensitivity): 0.9270833333333334\n",
      "F1 Score: 0.927124353652804\n",
      "Matthews Correlation Coefficient (MCC): 0.9017909960019698\n",
      "G-Measure: 0.9519085598926197\n",
      "AUC: 0.9857080932565087\n",
      "Specificity: 0.9752147353819889\n",
      "Jaccard Index: 0.8669652957336781\n",
      "Created directory: /work/wanlab/nick/stackeval/3/val_data/stacked/SVC4\n",
      "Saving metrics to: /work/wanlab/nick/stackeval/3/val_data/stacked/SVC4/LIMMA(3),metrics.csv\n",
      "PREDICTIONS                   subtype  Squamous      ADEX  Pancreatic Progenitor  \\\n",
      "0             Immunogenic  0.569711  0.011592               0.006388   \n",
      "1   Pancreatic Progenitor  0.071614  0.081745               0.823976   \n",
      "2                Squamous  0.609231  0.346890               0.020943   \n",
      "3                Squamous  0.777401  0.042637               0.169283   \n",
      "4             Immunogenic  0.007973  0.009308               0.050366   \n",
      "..                    ...       ...       ...                    ...   \n",
      "91                   ADEX  0.009918  0.691267               0.119288   \n",
      "92            Immunogenic  0.043672  0.025038               0.033929   \n",
      "93  Pancreatic Progenitor  0.015531  0.016439               0.934639   \n",
      "94            Immunogenic  0.060583  0.013617               0.134861   \n",
      "95            Immunogenic  0.178623  0.176999               0.247001   \n",
      "\n",
      "    Immunogenic  \n",
      "0      0.412310  \n",
      "1      0.022664  \n",
      "2      0.022937  \n",
      "3      0.010679  \n",
      "4      0.932353  \n",
      "..          ...  \n",
      "91     0.179527  \n",
      "92     0.897361  \n",
      "93     0.033391  \n",
      "94     0.790940  \n",
      "95     0.397377  \n",
      "\n",
      "[96 rows x 5 columns]\n",
      "Random state: 4\n",
      "['SVC', 'SVC2']\n",
      "individual models\n",
      "cv\n",
      "individual models\n",
      "cv\n",
      "individual models\n",
      "cv\n",
      "individual models\n",
      "cv\n",
      "individual models\n",
      "cv\n",
      "individual models\n",
      "cv\n",
      "individual models\n",
      "cv\n",
      "individual models\n",
      "cv\n",
      "individual models\n",
      "cv\n",
      "individual models\n",
      "cv\n",
      "individual models\n",
      "cv\n",
      "individual models\n",
      "cv\n",
      "individual models\n",
      "cv\n",
      "individual models\n",
      "cv\n",
      "individual models\n",
      "cv\n",
      "individual models\n",
      "cv\n",
      "individual models\n",
      "cv\n",
      "individual models\n",
      "cv\n",
      "individual models\n",
      "cv\n",
      "individual models\n",
      "cv\n",
      "individual models\n",
      "cv\n",
      "individual models\n",
      "cv\n",
      "individual models\n",
      "cv\n",
      "individual models\n",
      "cv\n",
      "individual models\n",
      "cv\n",
      "individual models\n",
      "cv\n",
      "individual models\n",
      "cv\n",
      "individual models\n",
      "cv\n",
      "individual models\n",
      "cv\n",
      "individual models\n",
      "cv\n",
      "individual models\n",
      "cv\n",
      "individual models\n",
      "cv\n",
      "individual models\n",
      "cv\n",
      "individual models\n",
      "cv\n",
      "individual models\n",
      "cv\n",
      "individual models\n",
      "cv\n",
      "individual models\n",
      "cv\n",
      "individual models\n",
      "cv\n",
      "individual models\n",
      "cv\n",
      "individual models\n",
      "cv\n",
      "individual models\n",
      "cv\n",
      "individual models\n",
      "cv\n",
      "individual models\n",
      "cv\n",
      "individual models\n",
      "cv\n",
      "individual models\n",
      "cv\n",
      "individual models\n",
      "cv\n",
      "individual models\n",
      "cv\n",
      "individual models\n",
      "cv\n",
      "individual models\n",
      "cv\n",
      "individual models\n",
      "cv\n",
      "individual models\n",
      "cv\n",
      "individual models\n",
      "cv\n",
      "individual models\n",
      "cv\n",
      "individual models\n",
      "cv\n",
      "individual models\n",
      "cv\n",
      "individual models\n",
      "cv\n",
      "individual models\n",
      "cv\n",
      "individual models\n",
      "cv\n",
      "individual models\n",
      "cv\n",
      "individual models\n",
      "cv\n",
      "individual models\n",
      "cv\n",
      "individual models\n",
      "cv\n",
      "individual models\n",
      "cv\n",
      "individual models\n",
      "cv\n",
      "individual models\n",
      "cv\n",
      "individual models\n",
      "cv\n",
      "individual models\n",
      "cv\n",
      "individual models\n",
      "cv\n",
      "individual models\n",
      "cv\n",
      "individual models\n",
      "cv\n",
      "individual models\n",
      "cv\n",
      "individual models\n",
      "cv\n",
      "individual models\n",
      "cv\n",
      "individual models\n",
      "cv\n",
      "individual models\n",
      "cv\n",
      "individual models\n",
      "cv\n",
      "individual models\n",
      "cv\n",
      "individual models\n",
      "cv\n",
      "individual models\n",
      "cv\n",
      "individual models\n",
      "cv\n",
      "individual models\n",
      "cv\n",
      "individual models\n",
      "cv\n",
      "individual models\n",
      "cv\n",
      "individual models\n",
      "cv\n",
      "individual models\n",
      "cv\n",
      "individual models\n",
      "cv\n",
      "individual models\n",
      "cv\n",
      "individual models\n",
      "cv\n",
      "individual models\n",
      "cv\n",
      "individual models\n",
      "cv\n",
      "individual models\n",
      "cv\n",
      "individual models\n",
      "cv\n",
      "individual models\n",
      "cv\n",
      "individual models\n",
      "cv\n",
      "individual models\n",
      "cv\n",
      "individual models\n",
      "cv\n",
      "\n",
      "model score of oof results for SVC\n",
      "Model Accuracy: 0.8854166666666666\n",
      "Precision: 0.891441968525302\n",
      "Recall (Sensitivity): 0.8854166666666666\n",
      "F1 Score: 0.8857571122577969\n",
      "Matthews Correlation Coefficient (MCC): 0.847046869768925\n",
      "G-Measure: 0.9229308733968031\n",
      "AUC: 0.9882939762946364\n",
      "Specificity: 0.9613969803670508\n",
      "Jaccard Index: 0.7977251412244541\n",
      "Created directory: /work/wanlab/nick/stackeval/4/val_data/individual models/SVC\n",
      "Saving metrics to: /work/wanlab/nick/stackeval/4/val_data/individual models/SVC/LIMMA(4),metrics.csv\n",
      "PREDICTIONS                   subtype  Squamous      ADEX  Pancreatic Progenitor  \\\n",
      "0                Squamous  0.401397  0.385142               0.200906   \n",
      "1   Pancreatic Progenitor  0.009698  0.032763               0.803091   \n",
      "2   Pancreatic Progenitor  0.016673  0.110490               0.802496   \n",
      "3   Pancreatic Progenitor  0.039533  0.010242               0.893276   \n",
      "4   Pancreatic Progenitor  0.005150  0.009002               0.891859   \n",
      "..                    ...       ...       ...                    ...   \n",
      "91            Immunogenic  0.007256  0.049474               0.006426   \n",
      "92            Immunogenic  0.003005  0.000837               0.000608   \n",
      "93            Immunogenic  0.021020  0.027154               0.018142   \n",
      "94            Immunogenic  0.012309  0.009664               0.013798   \n",
      "95                   ADEX  0.117726  0.688538               0.170000   \n",
      "\n",
      "    Immunogenic  \n",
      "0      0.012555  \n",
      "1      0.154449  \n",
      "2      0.070341  \n",
      "3      0.056950  \n",
      "4      0.093988  \n",
      "..          ...  \n",
      "91     0.936844  \n",
      "92     0.995550  \n",
      "93     0.933684  \n",
      "94     0.964229  \n",
      "95     0.023736  \n",
      "\n",
      "[96 rows x 5 columns]\n",
      "\n",
      "model score of oof results for SVC2\n",
      "Model Accuracy: 0.9166666666666666\n",
      "Precision: 0.9179416613572927\n",
      "Recall (Sensitivity): 0.9166666666666666\n",
      "F1 Score: 0.9168905106983729\n",
      "Matthews Correlation Coefficient (MCC): 0.8877175856139377\n",
      "G-Measure: 0.9453340190753321\n",
      "AUC: 0.986242542057903\n",
      "Specificity: 0.972089735381989\n",
      "Jaccard Index: 0.8457818223443223\n",
      "Created directory: /work/wanlab/nick/stackeval/4/val_data/individual models/SVC2\n",
      "Saving metrics to: /work/wanlab/nick/stackeval/4/val_data/individual models/SVC2/LIMMA(4),metrics.csv\n",
      "PREDICTIONS                   subtype  Squamous      ADEX  Pancreatic Progenitor  \\\n",
      "0                Squamous  0.383114  0.394369               0.191517   \n",
      "1   Pancreatic Progenitor  0.005382  0.013475               0.919741   \n",
      "2   Pancreatic Progenitor  0.012756  0.046127               0.877731   \n",
      "3   Pancreatic Progenitor  0.066964  0.011031               0.862496   \n",
      "4   Pancreatic Progenitor  0.006610  0.007000               0.954447   \n",
      "..                    ...       ...       ...                    ...   \n",
      "91            Immunogenic  0.019332  0.098406               0.013297   \n",
      "92            Immunogenic  0.005517  0.000490               0.001519   \n",
      "93            Immunogenic  0.041312  0.031706               0.051671   \n",
      "94            Immunogenic  0.019289  0.008090               0.016304   \n",
      "95                   ADEX  0.242670  0.473274               0.248393   \n",
      "\n",
      "    Immunogenic  \n",
      "0      0.031000  \n",
      "1      0.061402  \n",
      "2      0.063386  \n",
      "3      0.059509  \n",
      "4      0.031942  \n",
      "..          ...  \n",
      "91     0.868965  \n",
      "92     0.992474  \n",
      "93     0.875311  \n",
      "94     0.956317  \n",
      "95     0.035663  \n",
      "\n",
      "[96 rows x 5 columns]\n",
      "运行时间为: 24.34 秒\n",
      "combining [[4.01396550e-01 3.85141835e-01 2.00906414e-01 1.25552012e-02\n",
      "  3.83114325e-01 3.94369196e-01 1.91516721e-01 3.09997578e-02]\n",
      " [9.69767882e-03 3.27625030e-02 8.03090598e-01 1.54449221e-01\n",
      "  5.38237157e-03 1.34747395e-02 9.19741200e-01 6.14016890e-02]\n",
      " [1.66729058e-02 1.10489743e-01 8.02495911e-01 7.03414395e-02\n",
      "  1.27560078e-02 4.61273358e-02 8.77730639e-01 6.33860175e-02]\n",
      " [3.95328968e-02 1.02416017e-02 8.93275667e-01 5.69498346e-02\n",
      "  6.69642341e-02 1.10307039e-02 8.62495787e-01 5.95092753e-02]\n",
      " [5.15042832e-03 9.00215682e-03 8.91859469e-01 9.39879458e-02\n",
      "  6.61037977e-03 7.00004899e-03 9.54447414e-01 3.19421577e-02]\n",
      " [5.02856761e-03 8.39305718e-01 1.46653745e-01 9.01196928e-03\n",
      "  7.96706933e-03 6.45822190e-01 3.28624355e-01 1.75863860e-02]\n",
      " [3.09895827e-03 9.85471638e-01 2.48478599e-03 8.94461781e-03\n",
      "  4.79884627e-03 9.60420256e-01 1.41095966e-02 2.06713008e-02]\n",
      " [4.35359140e-02 1.22957456e-02 9.38009114e-01 6.15922688e-03\n",
      "  5.08834610e-02 1.52810489e-02 9.29624667e-01 4.21082292e-03]\n",
      " [2.16230971e-02 3.51343484e-02 3.18504374e-01 6.24738181e-01\n",
      "  3.47906910e-02 3.02624291e-02 3.62022665e-01 5.72924215e-01]\n",
      " [8.92745703e-01 1.35649964e-02 6.59612334e-02 2.77280670e-02\n",
      "  9.64170863e-01 5.12234129e-03 2.36707597e-02 7.03603645e-03]\n",
      " [2.27792399e-02 6.43104738e-02 1.13352227e-01 7.99558060e-01\n",
      "  2.84633746e-02 7.97315699e-02 2.87332107e-01 6.04472948e-01]\n",
      " [5.14645306e-03 5.22334688e-02 9.17071463e-01 2.55486154e-02\n",
      "  1.43651762e-02 8.30806157e-02 8.43885921e-01 5.86682872e-02]\n",
      " [2.76317922e-01 4.97060512e-02 3.55187215e-01 3.18788812e-01\n",
      "  2.24323470e-01 3.87339949e-02 3.94627856e-01 3.42314679e-01]\n",
      " [2.67411290e-02 1.72781954e-02 1.15320940e-01 8.40659736e-01\n",
      "  4.29790334e-02 1.33766969e-02 1.25572229e-01 8.18072041e-01]\n",
      " [8.88056173e-01 7.27795843e-02 2.71465107e-02 1.20177315e-02\n",
      "  8.62102327e-01 9.13632836e-02 2.90841209e-02 1.74502685e-02]\n",
      " [2.63749217e-02 9.19342862e-01 3.94944620e-02 1.47877548e-02\n",
      "  4.13337102e-02 5.69042485e-01 3.46424541e-01 4.31992644e-02]\n",
      " [1.86504162e-02 1.71314652e-01 6.36256160e-01 1.73778773e-01\n",
      "  3.27050339e-02 5.32932654e-02 7.58399499e-01 1.55602202e-01]\n",
      " [9.95915233e-01 1.05678098e-03 5.26981528e-04 2.50100455e-03\n",
      "  9.98050773e-01 1.08197558e-04 1.24314068e-03 5.97888431e-04]\n",
      " [3.85367700e-02 5.50490424e-02 8.98785918e-01 7.62826945e-03\n",
      "  5.61464160e-02 5.98977545e-02 8.76866093e-01 7.08973650e-03]\n",
      " [2.55692016e-01 2.32020954e-01 4.77539021e-01 3.47480097e-02\n",
      "  3.14033112e-01 1.64244171e-01 4.83261273e-01 3.84614442e-02]\n",
      " [7.53367778e-01 2.13983688e-01 2.45158160e-02 8.13271777e-03\n",
      "  5.98508380e-01 3.62773325e-01 1.49337934e-02 2.37845011e-02]\n",
      " [3.98641556e-01 1.02886637e-01 3.34728113e-01 1.63743694e-01\n",
      "  3.97648460e-01 9.35581730e-02 3.05801748e-01 2.02991618e-01]\n",
      " [6.35415687e-03 6.58832730e-01 7.89078789e-02 2.55905234e-01\n",
      "  1.03739376e-02 6.81441999e-01 1.29662314e-01 1.78521750e-01]\n",
      " [3.94081782e-02 8.71058762e-02 8.67287432e-01 6.19851364e-03\n",
      "  6.78439960e-02 9.15246907e-02 8.29065519e-01 1.15657948e-02]\n",
      " [9.77082542e-01 2.12822405e-03 5.51907512e-03 1.52701586e-02\n",
      "  9.81130227e-01 7.82339098e-04 1.09380061e-02 7.14942753e-03]\n",
      " [3.98158077e-03 2.04860613e-03 1.07288572e-03 9.92896927e-01\n",
      "  2.08121749e-03 1.48901783e-03 7.37583282e-04 9.95692181e-01]\n",
      " [3.23831944e-01 3.13434488e-02 2.71462140e-01 3.73362467e-01\n",
      "  4.36847848e-01 1.92368276e-02 3.42197785e-01 2.01717540e-01]\n",
      " [1.49909914e-02 3.88613046e-03 3.02051895e-02 9.50917689e-01\n",
      "  1.92965672e-02 1.85518600e-03 2.15532108e-02 9.57295036e-01]\n",
      " [4.28688520e-01 1.64326618e-02 3.40926891e-01 2.13951928e-01\n",
      "  5.28046798e-01 1.39951571e-02 4.21742740e-01 3.62153047e-02]\n",
      " [4.09390454e-03 9.74958209e-01 2.14523920e-03 1.88026470e-02\n",
      "  4.08106110e-03 9.84844257e-01 1.69056414e-03 9.38411729e-03]\n",
      " [6.07364691e-03 1.87610454e-02 3.97476992e-01 5.77688315e-01\n",
      "  9.58153104e-03 2.00286899e-02 2.89560214e-01 6.80829565e-01]\n",
      " [2.05730841e-01 8.09431700e-02 6.37653639e-01 7.56723497e-02\n",
      "  3.14311091e-01 9.79339375e-02 4.51006727e-01 1.36748245e-01]\n",
      " [6.60679446e-01 4.19861734e-02 1.00812052e-02 2.87253175e-01\n",
      "  6.19756487e-01 1.32813122e-02 7.15182032e-03 3.59810380e-01]\n",
      " [8.31500625e-03 7.73120372e-01 1.68898348e-01 4.96662735e-02\n",
      "  2.63871658e-02 8.03282244e-01 9.35112403e-02 7.68193499e-02]\n",
      " [2.60472439e-03 8.46621302e-03 9.73176272e-01 1.57527902e-02\n",
      "  1.06824599e-02 1.55239501e-02 9.33460930e-01 4.03326601e-02]\n",
      " [4.53195278e-01 4.26579932e-01 1.16091773e-01 4.13301671e-03\n",
      "  2.90883636e-01 5.54612982e-01 1.46055727e-01 8.44765445e-03]\n",
      " [1.17005470e-01 3.42816351e-02 8.15741622e-01 3.29712729e-02\n",
      "  1.86864107e-01 4.09388497e-02 7.31968805e-01 4.02282381e-02]\n",
      " [3.53795110e-03 7.57392843e-01 2.08908649e-01 3.01605569e-02\n",
      "  6.71654370e-03 6.40472201e-01 3.14192937e-01 3.86183179e-02]\n",
      " [1.98752863e-01 1.26809203e-02 5.07857614e-02 7.37780456e-01\n",
      "  1.17926605e-01 3.92434517e-03 4.50210528e-02 8.33127997e-01]\n",
      " [3.74899838e-03 6.56708520e-01 7.77274475e-02 2.61815034e-01\n",
      "  5.52575153e-03 6.86321137e-01 6.82607464e-02 2.39892365e-01]\n",
      " [2.30103885e-01 1.43402164e-02 4.49975930e-01 3.05579969e-01\n",
      "  3.90783258e-01 1.03028537e-02 4.49406773e-01 1.49507115e-01]\n",
      " [8.86432173e-01 2.20639773e-02 7.16134388e-02 1.98904107e-02\n",
      "  8.64469844e-01 1.74644348e-02 1.06201314e-01 1.18644072e-02]\n",
      " [3.90337854e-01 2.35232749e-02 1.53670800e-01 4.32468072e-01\n",
      "  4.63503374e-01 4.65758395e-02 1.97327854e-01 2.92592932e-01]\n",
      " [3.53746830e-02 4.39686831e-02 4.00057047e-01 5.20599587e-01\n",
      "  8.85274504e-02 2.65464751e-02 6.77669267e-01 2.07256807e-01]\n",
      " [9.93758292e-01 5.76251511e-04 1.66853696e-04 5.49860313e-03\n",
      "  9.91160798e-01 1.18165966e-04 1.46549687e-03 7.25553872e-03]\n",
      " [7.79108739e-02 2.51874001e-02 1.65667100e-02 8.80335016e-01\n",
      "  8.60356154e-02 1.57765409e-02 1.44749426e-02 8.83712901e-01]\n",
      " [9.02547883e-02 1.09355142e-01 7.74707217e-01 2.56828521e-02\n",
      "  1.03292217e-01 9.54558186e-02 7.72643619e-01 2.86083459e-02]\n",
      " [9.92276624e-01 4.35090769e-04 1.95410592e-04 7.09287419e-03\n",
      "  9.96205730e-01 1.33270221e-04 2.84261703e-04 3.37673839e-03]\n",
      " [5.05702689e-03 6.03286948e-03 4.08653823e-02 9.48044721e-01\n",
      "  5.77606988e-03 8.43472222e-03 5.27490874e-02 9.33040120e-01]\n",
      " [1.43106888e-01 2.12006288e-02 2.43556866e-01 5.92135617e-01\n",
      "  8.88448580e-02 5.44263074e-03 5.41541988e-01 3.64170523e-01]\n",
      " [1.26490368e-01 2.48167492e-01 2.51667640e-01 3.73674500e-01\n",
      "  1.92639388e-01 1.64710501e-01 2.48939238e-01 3.93710873e-01]\n",
      " [1.24079005e-02 5.56677334e-03 1.42662563e-01 8.39362763e-01\n",
      "  1.95057131e-02 4.88343164e-03 1.15689577e-01 8.59921278e-01]\n",
      " [1.14913727e-02 2.26024409e-02 7.09240160e-01 2.56666027e-01\n",
      "  2.77353573e-02 2.99005098e-02 6.31879559e-01 3.10484574e-01]\n",
      " [2.10715954e-02 3.20553860e-03 5.49004278e-02 9.20822438e-01\n",
      "  4.10848324e-02 2.83782778e-03 4.10838120e-02 9.14993528e-01]\n",
      " [7.58217288e-01 2.65787577e-02 6.50043109e-02 1.50199643e-01\n",
      "  7.47664463e-01 1.25488308e-02 9.30017637e-02 1.46784943e-01]\n",
      " [9.77450440e-01 7.28400801e-03 5.29482709e-03 9.97072477e-03\n",
      "  9.63458747e-01 2.19543429e-03 1.45747885e-02 1.97710307e-02]\n",
      " [8.38938195e-01 7.41564076e-02 8.44801841e-02 2.42521335e-03\n",
      "  8.32087447e-01 7.06984487e-02 9.02389177e-02 6.97518706e-03]\n",
      " [8.52450580e-01 4.15133156e-02 9.68422787e-02 9.19382618e-03\n",
      "  7.70822624e-01 3.24963248e-02 1.89519516e-01 7.16153522e-03]\n",
      " [6.13776537e-01 5.11246272e-02 3.08516703e-01 2.65821323e-02\n",
      "  5.56107197e-01 2.54822814e-02 4.00784907e-01 1.76256144e-02]\n",
      " [5.30621039e-03 1.00383497e-01 8.41417468e-01 5.28928255e-02\n",
      "  5.77466502e-03 5.47156587e-02 8.92750295e-01 4.67593817e-02]\n",
      " [8.34323514e-02 9.75146425e-03 7.71740944e-02 8.29642090e-01\n",
      "  1.23030989e-01 5.79412823e-03 1.73449729e-01 6.97725154e-01]\n",
      " [1.80570738e-03 9.94044753e-01 7.77555376e-04 3.37198460e-03\n",
      "  1.49273391e-03 9.91751085e-01 1.22710134e-03 5.52907952e-03]\n",
      " [3.48049429e-01 1.36943148e-02 3.03389173e-01 3.34867083e-01\n",
      "  3.80334760e-01 1.27502498e-02 4.72973409e-01 1.33941582e-01]\n",
      " [5.74580154e-01 3.27456007e-01 9.22782188e-02 5.68562039e-03\n",
      "  5.17405189e-01 3.92427849e-01 7.71201365e-02 1.30468261e-02]\n",
      " [8.79271744e-01 6.35356289e-02 1.17249163e-02 4.54677107e-02\n",
      "  9.45705424e-01 3.28506613e-02 1.25516263e-02 8.89228844e-03]\n",
      " [8.95836932e-01 6.09814952e-02 8.98742202e-03 3.41941511e-02\n",
      "  9.11261426e-01 3.98055440e-02 9.34717543e-03 3.95858547e-02]\n",
      " [1.23953522e-02 2.19918764e-02 2.88513798e-01 6.77098973e-01\n",
      "  3.20215844e-02 3.80093664e-02 4.08459508e-01 5.21509541e-01]\n",
      " [6.91033524e-01 8.20987808e-03 2.35152737e-01 6.56038608e-02\n",
      "  6.60881088e-01 5.02865930e-03 3.04318603e-01 2.97716491e-02]\n",
      " [1.38400326e-03 6.89257604e-03 9.82687152e-01 9.03626874e-03\n",
      "  8.35537853e-07 9.73542691e-07 9.99622810e-01 3.75381233e-04]\n",
      " [1.44570925e-02 6.13135309e-02 8.64012949e-01 6.02164277e-02\n",
      "  3.03667564e-02 6.88478051e-02 7.95675144e-01 1.05110295e-01]\n",
      " [1.50057041e-01 7.96249991e-01 4.05448638e-02 1.31481043e-02\n",
      "  5.90190180e-02 9.16395803e-01 2.19966272e-02 2.58855174e-03]\n",
      " [2.26958987e-03 1.63116795e-03 6.34975427e-04 9.95464267e-01\n",
      "  1.08245526e-03 1.75544214e-03 1.68925281e-03 9.95472850e-01]\n",
      " [1.90643414e-03 2.73209119e-02 8.21336372e-01 1.49436282e-01\n",
      "  3.99917147e-03 2.41108917e-02 7.71515085e-01 2.00374852e-01]\n",
      " [5.38503514e-02 3.67099276e-02 8.87915336e-01 2.15243847e-02\n",
      "  5.71747137e-02 1.87883897e-02 9.11738114e-01 1.22987825e-02]\n",
      " [4.20480618e-02 3.71580771e-02 3.14859519e-01 6.05934342e-01\n",
      "  5.06991396e-02 2.96313005e-02 9.03438902e-02 8.29325670e-01]\n",
      " [8.54188307e-01 1.00407170e-01 1.91512991e-03 4.34893930e-02\n",
      "  8.08485548e-01 6.91615159e-02 7.48412475e-03 1.14868812e-01]\n",
      " [2.49469538e-02 2.50840959e-01 7.22340656e-01 1.87143138e-03\n",
      "  2.17232519e-02 1.57339626e-01 8.18958574e-01 1.97854794e-03]\n",
      " [1.04033392e-01 1.81240954e-01 1.03814653e-01 6.10911001e-01\n",
      "  9.13998489e-02 1.16564852e-01 1.29739329e-01 6.62295970e-01]\n",
      " [9.89135597e-02 3.00381127e-02 8.42335224e-01 2.87131031e-02\n",
      "  1.68498500e-01 2.60406891e-02 7.61623728e-01 4.38370821e-02]\n",
      " [2.43133329e-01 6.24294812e-01 1.18702137e-01 1.38697213e-02\n",
      "  1.23093483e-01 7.92856800e-01 6.96780625e-02 1.43716551e-02]\n",
      " [2.94139782e-03 1.98088510e-02 2.14837212e-01 7.62412540e-01\n",
      "  3.88582533e-03 1.72621463e-02 1.72361882e-01 8.06490147e-01]\n",
      " [9.77758894e-01 3.28089302e-03 8.57432347e-03 1.03858900e-02\n",
      "  9.83910484e-01 1.25380371e-03 8.80108997e-03 6.03462232e-03]\n",
      " [9.67228752e-03 2.45062066e-02 9.52209311e-01 1.36121948e-02\n",
      "  1.66509634e-02 5.61353094e-02 8.62240741e-01 6.49729863e-02]\n",
      " [9.92236033e-01 2.57959103e-03 3.84121923e-04 4.80025389e-03\n",
      "  9.89741633e-01 4.54978496e-03 2.11265271e-03 3.59592973e-03]\n",
      " [7.92912099e-02 7.66537724e-01 1.28744910e-01 2.54261560e-02\n",
      "  5.51906133e-02 7.54729742e-01 1.57848971e-01 3.22306742e-02]\n",
      " [4.59177302e-02 2.38937099e-02 1.51391276e-01 7.78797284e-01\n",
      "  6.93977169e-02 1.88153931e-02 2.19053747e-01 6.92733143e-01]\n",
      " [1.05968142e-01 8.03864405e-01 4.98059727e-02 4.03614796e-02\n",
      "  9.32182349e-02 7.63472758e-01 5.24170052e-02 9.08920019e-02]\n",
      " [3.23440494e-02 9.02286406e-01 1.60444223e-02 4.93251223e-02\n",
      "  8.05788093e-02 8.13987581e-01 3.28829705e-02 7.25506394e-02]\n",
      " [7.37701566e-02 1.08255138e-01 7.75435018e-01 4.25396875e-02\n",
      "  4.05785670e-02 2.07496188e-02 9.27728215e-01 1.09435988e-02]\n",
      " [9.73313756e-01 1.19573253e-02 6.98661250e-03 7.74230583e-03\n",
      "  9.78188702e-01 7.80732775e-03 9.13733318e-03 4.86663723e-03]\n",
      " [4.43792620e-03 3.27028832e-02 3.26713995e-02 9.30187791e-01\n",
      "  5.06686121e-03 3.56612129e-02 1.74680122e-02 9.41803914e-01]\n",
      " [7.25562637e-03 4.94742654e-02 6.42608082e-03 9.36844027e-01\n",
      "  1.93323528e-02 9.84055054e-02 1.32969024e-02 8.68965239e-01]\n",
      " [3.00528148e-03 8.36539470e-04 6.08164953e-04 9.95550014e-01\n",
      "  5.51711251e-03 4.89751103e-04 1.51866759e-03 9.92474469e-01]\n",
      " [2.10198981e-02 2.71542117e-02 1.81419968e-02 9.33683893e-01\n",
      "  4.13116116e-02 3.17064237e-02 5.16709459e-02 8.75311019e-01]\n",
      " [1.23086513e-02 9.66447046e-03 1.37979478e-02 9.64228930e-01\n",
      "  1.92885044e-02 8.09038024e-03 1.63041153e-02 9.56317000e-01]\n",
      " [1.17725589e-01 6.88538279e-01 1.70000453e-01 2.37356785e-02\n",
      "  2.42670056e-01 4.73274276e-01 2.48392619e-01 3.56630495e-02]] [[13.47124345 13.34951928 12.37583412 ... 10.40995247 11.01633373\n",
      "  12.42580305]\n",
      " [14.93094853 12.71597514 11.82367528 ... 10.07063814 10.49127304\n",
      "  12.50965658]\n",
      " [14.23358079 12.89234846 11.39652834 ...  9.77942076 10.39189986\n",
      "  12.2884758 ]\n",
      " ...\n",
      " [15.22953175 13.75188013 12.86887124 ...  9.96095749  9.97794247\n",
      "  11.31842048]\n",
      " [14.61944748 13.78133009 12.0614951  ...  9.41423501 10.48403022\n",
      "  11.45384525]\n",
      " [14.36488551 12.73922974 12.43992424 ...  8.50798529 10.19860468\n",
      "  11.67834933]]\n",
      "stacked\n",
      "cv\n",
      "stacked\n",
      "cv\n",
      "stacked\n",
      "cv\n",
      "stacked\n",
      "cv\n",
      "stacked\n",
      "cv\n",
      "stacked\n",
      "cv\n",
      "stacked\n",
      "cv\n",
      "stacked\n",
      "cv\n",
      "stacked\n",
      "cv\n",
      "stacked\n",
      "cv\n",
      "stacked\n",
      "cv\n",
      "stacked\n",
      "cv\n",
      "stacked\n",
      "cv\n",
      "stacked\n",
      "cv\n",
      "stacked\n",
      "cv\n",
      "stacked\n",
      "cv\n",
      "stacked\n",
      "cv\n",
      "stacked\n",
      "cv\n",
      "stacked\n",
      "cv\n",
      "stacked\n",
      "cv\n",
      "stacked\n",
      "cv\n",
      "stacked\n",
      "cv\n",
      "stacked\n",
      "cv\n",
      "stacked\n",
      "cv\n",
      "stacked\n",
      "cv\n",
      "stacked\n",
      "cv\n",
      "stacked\n",
      "cv\n",
      "stacked\n",
      "cv\n",
      "stacked\n",
      "cv\n",
      "stacked\n",
      "cv\n",
      "stacked\n",
      "cv\n",
      "stacked\n",
      "cv\n",
      "stacked\n",
      "cv\n",
      "stacked\n",
      "cv\n",
      "stacked\n",
      "cv\n",
      "stacked\n",
      "cv\n",
      "stacked\n",
      "cv\n",
      "stacked\n",
      "cv\n",
      "stacked\n",
      "cv\n",
      "stacked\n",
      "cv\n",
      "stacked\n",
      "cv\n",
      "stacked\n",
      "cv\n",
      "stacked\n",
      "cv\n",
      "stacked\n",
      "cv\n",
      "stacked\n",
      "cv\n",
      "stacked\n",
      "cv\n",
      "stacked\n",
      "cv\n",
      "stacked\n",
      "cv\n",
      "stacked\n",
      "cv\n",
      "stacked\n",
      "cv\n",
      "stacked\n",
      "cv\n",
      "stacked\n",
      "cv\n",
      "stacked\n",
      "cv\n",
      "stacked\n",
      "cv\n",
      "stacked\n",
      "cv\n",
      "stacked\n",
      "cv\n",
      "stacked\n",
      "cv\n",
      "stacked\n",
      "cv\n",
      "stacked\n",
      "cv\n",
      "stacked\n",
      "cv\n",
      "stacked\n",
      "cv\n",
      "stacked\n",
      "cv\n",
      "stacked\n",
      "cv\n",
      "stacked\n",
      "cv\n",
      "stacked\n",
      "cv\n",
      "stacked\n",
      "cv\n",
      "stacked\n",
      "cv\n",
      "stacked\n",
      "cv\n",
      "stacked\n",
      "cv\n",
      "stacked\n",
      "cv\n",
      "stacked\n",
      "cv\n",
      "stacked\n",
      "cv\n",
      "stacked\n",
      "cv\n",
      "stacked\n",
      "cv\n",
      "stacked\n",
      "cv\n",
      "stacked\n",
      "cv\n",
      "stacked\n",
      "cv\n",
      "stacked\n",
      "cv\n",
      "stacked\n",
      "cv\n",
      "stacked\n",
      "cv\n",
      "stacked\n",
      "cv\n",
      "stacked\n",
      "cv\n",
      "stacked\n",
      "cv\n",
      "stacked\n",
      "cv\n",
      "stacked\n",
      "cv\n",
      "stacked\n",
      "cv\n",
      "stacked\n",
      "cv\n",
      "stacked\n",
      "cv\n",
      "stacked\n",
      "cv\n",
      "stacked\n",
      "cv\n",
      "stacked\n",
      "cv\n",
      "stacked\n",
      "cv\n",
      "stacked\n",
      "cv\n",
      "stacked\n",
      "cv\n",
      "stacked\n",
      "cv\n",
      "stacked\n",
      "cv\n",
      "\n",
      "model score of oof results for SVC3\n",
      "Model Accuracy: 0.875\n",
      "Precision: 0.8798649267399267\n",
      "Recall (Sensitivity): 0.875\n",
      "F1 Score: 0.8751610313936894\n",
      "Matthews Correlation Coefficient (MCC): 0.8329181448543629\n",
      "G-Measure: 0.9162567046538834\n",
      "AUC: 0.9883327109119362\n",
      "Specificity: 0.9582719803670507\n",
      "Jaccard Index: 0.7779538993943889\n",
      "Created directory: /work/wanlab/nick/stackeval/4/val_data/stacked/SVC3\n",
      "Saving metrics to: /work/wanlab/nick/stackeval/4/val_data/stacked/SVC3/LIMMA(4),metrics.csv\n",
      "PREDICTIONS                   subtype  Squamous      ADEX  Pancreatic Progenitor  \\\n",
      "0                Squamous  0.979726  0.001858               0.005487   \n",
      "1             Immunogenic  0.023292  0.003599               0.051466   \n",
      "2                    ADEX  0.114005  0.686221               0.178019   \n",
      "3   Pancreatic Progenitor  0.026107  0.008422               0.903112   \n",
      "4                    ADEX  0.030840  0.927016               0.014056   \n",
      "..                    ...       ...       ...                    ...   \n",
      "91  Pancreatic Progenitor  0.193992  0.103443               0.635061   \n",
      "92               Squamous  0.770767  0.019177               0.062678   \n",
      "93  Pancreatic Progenitor  0.050359  0.028817               0.899156   \n",
      "94  Pancreatic Progenitor  0.231356  0.014572               0.456672   \n",
      "95               Squamous  0.993951  0.001880               0.000327   \n",
      "\n",
      "    Immunogenic  \n",
      "0      0.012928  \n",
      "1      0.921643  \n",
      "2      0.021755  \n",
      "3      0.062358  \n",
      "4      0.028088  \n",
      "..          ...  \n",
      "91     0.067504  \n",
      "92     0.147378  \n",
      "93     0.021669  \n",
      "94     0.297400  \n",
      "95     0.003842  \n",
      "\n",
      "[96 rows x 5 columns]\n",
      "\n",
      "model score of oof results for SVC4\n",
      "Model Accuracy: 0.9270833333333334\n",
      "Precision: 0.9282457295657727\n",
      "Recall (Sensitivity): 0.9270833333333334\n",
      "F1 Score: 0.927124353652804\n",
      "Matthews Correlation Coefficient (MCC): 0.9017909960019698\n",
      "G-Measure: 0.9519085598926197\n",
      "AUC: 0.9854368953620712\n",
      "Specificity: 0.9752147353819889\n",
      "Jaccard Index: 0.8669652957336781\n",
      "Created directory: /work/wanlab/nick/stackeval/4/val_data/stacked/SVC4\n",
      "Saving metrics to: /work/wanlab/nick/stackeval/4/val_data/stacked/SVC4/LIMMA(4),metrics.csv\n",
      "PREDICTIONS                   subtype  Squamous      ADEX  Pancreatic Progenitor  \\\n",
      "0                Squamous  0.986979  0.000834               0.004987   \n",
      "1             Immunogenic  0.036777  0.002619               0.038330   \n",
      "2                    ADEX  0.263237  0.459593               0.243782   \n",
      "3   Pancreatic Progenitor  0.075103  0.011804               0.837107   \n",
      "4                    ADEX  0.067797  0.827986               0.030075   \n",
      "..                    ...       ...       ...                    ...   \n",
      "91  Pancreatic Progenitor  0.320936  0.095378               0.451150   \n",
      "92               Squamous  0.755739  0.011369               0.088261   \n",
      "93  Pancreatic Progenitor  0.044777  0.021478               0.921096   \n",
      "94  Pancreatic Progenitor  0.397673  0.009574               0.437169   \n",
      "95               Squamous  0.993556  0.002284               0.001378   \n",
      "\n",
      "    Immunogenic  \n",
      "0      0.007199  \n",
      "1      0.922274  \n",
      "2      0.033388  \n",
      "3      0.075986  \n",
      "4      0.074143  \n",
      "..          ...  \n",
      "91     0.132537  \n",
      "92     0.144632  \n",
      "93     0.012649  \n",
      "94     0.155584  \n",
      "95     0.002782  \n",
      "\n",
      "[96 rows x 5 columns]\n",
      "Random state: 5\n",
      "['SVC', 'SVC2']\n",
      "individual models\n",
      "cv\n",
      "individual models\n",
      "cv\n",
      "individual models\n",
      "cv\n",
      "individual models\n",
      "cv\n",
      "individual models\n",
      "cv\n",
      "individual models\n",
      "cv\n",
      "individual models\n",
      "cv\n",
      "individual models\n",
      "cv\n",
      "individual models\n",
      "cv\n",
      "individual models\n",
      "cv\n",
      "individual models\n",
      "cv\n",
      "individual models\n",
      "cv\n",
      "individual models\n",
      "cv\n",
      "individual models\n",
      "cv\n",
      "individual models\n",
      "cv\n",
      "individual models\n",
      "cv\n",
      "individual models\n",
      "cv\n",
      "individual models\n",
      "cv\n",
      "individual models\n",
      "cv\n",
      "individual models\n",
      "cv\n",
      "individual models\n",
      "cv\n",
      "individual models\n",
      "cv\n",
      "individual models\n",
      "cv\n",
      "individual models\n",
      "cv\n",
      "individual models\n",
      "cv\n",
      "individual models\n",
      "cv\n",
      "individual models\n",
      "cv\n",
      "individual models\n",
      "cv\n",
      "individual models\n",
      "cv\n",
      "individual models\n",
      "cv\n",
      "individual models\n",
      "cv\n",
      "individual models\n",
      "cv\n",
      "individual models\n",
      "cv\n",
      "individual models\n",
      "cv\n",
      "individual models\n",
      "cv\n",
      "individual models\n",
      "cv\n",
      "individual models\n",
      "cv\n",
      "individual models\n",
      "cv\n",
      "individual models\n",
      "cv\n",
      "individual models\n",
      "cv\n",
      "individual models\n",
      "cv\n",
      "individual models\n",
      "cv\n",
      "individual models\n",
      "cv\n",
      "individual models\n",
      "cv\n",
      "individual models\n",
      "cv\n",
      "individual models\n",
      "cv\n",
      "individual models\n",
      "cv\n",
      "individual models\n",
      "cv\n",
      "individual models\n",
      "cv\n",
      "individual models\n",
      "cv\n",
      "individual models\n",
      "cv\n",
      "individual models\n",
      "cv\n",
      "individual models\n",
      "cv\n",
      "individual models\n",
      "cv\n",
      "individual models\n",
      "cv\n",
      "individual models\n",
      "cv\n",
      "individual models\n",
      "cv\n",
      "individual models\n",
      "cv\n",
      "individual models\n",
      "cv\n",
      "individual models\n",
      "cv\n",
      "individual models\n",
      "cv\n",
      "individual models\n",
      "cv\n",
      "individual models\n",
      "cv\n",
      "individual models\n",
      "cv\n",
      "individual models\n",
      "cv\n",
      "individual models\n",
      "cv\n",
      "individual models\n",
      "cv\n",
      "individual models\n",
      "cv\n",
      "individual models\n",
      "cv\n",
      "individual models\n",
      "cv\n",
      "individual models\n",
      "cv\n",
      "individual models\n",
      "cv\n",
      "individual models\n",
      "cv\n",
      "individual models\n",
      "cv\n",
      "individual models\n",
      "cv\n",
      "individual models\n",
      "cv\n",
      "individual models\n",
      "cv\n",
      "individual models\n",
      "cv\n",
      "individual models\n",
      "cv\n",
      "individual models\n",
      "cv\n",
      "individual models\n",
      "cv\n",
      "individual models\n",
      "cv\n",
      "individual models\n",
      "cv\n",
      "individual models\n",
      "cv\n",
      "individual models\n",
      "cv\n",
      "individual models\n",
      "cv\n",
      "individual models\n",
      "cv\n",
      "individual models\n",
      "cv\n",
      "individual models\n",
      "cv\n",
      "individual models\n",
      "cv\n",
      "individual models\n",
      "cv\n",
      "individual models\n",
      "cv\n",
      "individual models\n",
      "cv\n",
      "individual models\n",
      "cv\n",
      "individual models\n",
      "cv\n",
      "individual models\n",
      "cv\n",
      "\n",
      "model score of oof results for SVC\n",
      "Model Accuracy: 0.875\n",
      "Precision: 0.8854166666666666\n",
      "Recall (Sensitivity): 0.875\n",
      "F1 Score: 0.8759469696969697\n",
      "Matthews Correlation Coefficient (MCC): 0.8345080763582966\n",
      "G-Measure: 0.9160811379524181\n",
      "AUC: 0.988174882629108\n",
      "Specificity: 0.9585387323943662\n",
      "Jaccard Index: 0.7773606476331727\n",
      "Created directory: /work/wanlab/nick/stackeval/5/val_data/individual models/SVC\n",
      "Saving metrics to: /work/wanlab/nick/stackeval/5/val_data/individual models/SVC/LIMMA(5),metrics.csv\n",
      "PREDICTIONS                   subtype  Squamous      ADEX  Pancreatic Progenitor  \\\n",
      "0   Pancreatic Progenitor  0.026958  0.070487               0.897657   \n",
      "1             Immunogenic  0.002316  0.001239               0.005121   \n",
      "2             Immunogenic  0.003277  0.001995               0.000877   \n",
      "3                    ADEX  0.227638  0.636458               0.119804   \n",
      "4             Immunogenic  0.083094  0.009881               0.066505   \n",
      "..                    ...       ...       ...                    ...   \n",
      "91                   ADEX  0.006438  0.978776               0.003199   \n",
      "92  Pancreatic Progenitor  0.006593  0.092385               0.845319   \n",
      "93               Squamous  0.869986  0.042949               0.077948   \n",
      "94               Squamous  0.903514  0.054312               0.011084   \n",
      "95  Pancreatic Progenitor  0.042398  0.013293               0.848254   \n",
      "\n",
      "    Immunogenic  \n",
      "0      0.004898  \n",
      "1      0.991324  \n",
      "2      0.993851  \n",
      "3      0.016099  \n",
      "4      0.840521  \n",
      "..          ...  \n",
      "91     0.011587  \n",
      "92     0.055703  \n",
      "93     0.009117  \n",
      "94     0.031090  \n",
      "95     0.096055  \n",
      "\n",
      "[96 rows x 5 columns]\n",
      "\n",
      "model score of oof results for SVC2\n",
      "Model Accuracy: 0.9375\n",
      "Precision: 0.9378672542735043\n",
      "Recall (Sensitivity): 0.9375\n",
      "F1 Score: 0.9374874949979993\n",
      "Matthews Correlation Coefficient (MCC): 0.9155529545059609\n",
      "G-Measure: 0.9579504330083998\n",
      "AUC: 0.9854146660264617\n",
      "Specificity: 0.9787358621425523\n",
      "Jaccard Index: 0.882714303670186\n",
      "Created directory: /work/wanlab/nick/stackeval/5/val_data/individual models/SVC2\n",
      "Saving metrics to: /work/wanlab/nick/stackeval/5/val_data/individual models/SVC2/LIMMA(5),metrics.csv\n",
      "PREDICTIONS                   subtype  Squamous      ADEX  Pancreatic Progenitor  \\\n",
      "0   Pancreatic Progenitor  0.050093  0.059936               0.883276   \n",
      "1             Immunogenic  0.001467  0.001858               0.002422   \n",
      "2             Immunogenic  0.002368  0.000989               0.000609   \n",
      "3                    ADEX  0.120841  0.804311               0.060380   \n",
      "4             Immunogenic  0.136695  0.007072               0.183418   \n",
      "..                    ...       ...       ...                    ...   \n",
      "91                   ADEX  0.005624  0.956479               0.019303   \n",
      "92  Pancreatic Progenitor  0.013063  0.088908               0.839189   \n",
      "93               Squamous  0.774319  0.035239               0.181740   \n",
      "94               Squamous  0.902892  0.047906               0.009879   \n",
      "95  Pancreatic Progenitor  0.076871  0.011825               0.854930   \n",
      "\n",
      "    Immunogenic  \n",
      "0      0.006695  \n",
      "1      0.994252  \n",
      "2      0.996034  \n",
      "3      0.014468  \n",
      "4      0.672815  \n",
      "..          ...  \n",
      "91     0.018594  \n",
      "92     0.058840  \n",
      "93     0.008703  \n",
      "94     0.039324  \n",
      "95     0.056375  \n",
      "\n",
      "[96 rows x 5 columns]\n",
      "运行时间为: 23.93 秒\n",
      "combining [[2.69580961e-02 7.04869416e-02 8.97656561e-01 4.89840179e-03\n",
      "  5.00934435e-02 5.99357331e-02 8.83275944e-01 6.69487925e-03]\n",
      " [2.31620071e-03 1.23863750e-03 5.12137395e-03 9.91323788e-01\n",
      "  1.46675330e-03 1.85841600e-03 2.42249029e-03 9.94252340e-01]\n",
      " [3.27726592e-03 1.99475043e-03 8.76795094e-04 9.93851189e-01\n",
      "  2.36758369e-03 9.89027995e-04 6.09094087e-04 9.96034294e-01]\n",
      " [2.27638362e-01 6.36458467e-01 1.19803754e-01 1.60994182e-02\n",
      "  1.20840755e-01 8.04310627e-01 6.03802321e-02 1.44683859e-02]\n",
      " [8.30941851e-02 9.88053043e-03 6.65047814e-02 8.40520503e-01\n",
      "  1.36695295e-01 7.07176388e-03 1.83417781e-01 6.72815160e-01]\n",
      " [4.51263236e-03 7.77659761e-02 8.67968292e-01 4.97531001e-02\n",
      "  7.38331890e-03 5.61548440e-02 8.65630600e-01 7.08312370e-02]\n",
      " [2.04251228e-01 1.33763094e-02 3.83073415e-02 7.44065121e-01\n",
      "  1.28240542e-01 3.81310760e-03 4.78472155e-02 8.20099135e-01]\n",
      " [2.01991334e-02 3.78247077e-02 3.46243656e-01 5.95732503e-01\n",
      "  3.60819364e-02 3.24006830e-02 3.38482050e-01 5.93035331e-01]\n",
      " [1.07443113e-01 1.72529073e-01 1.28988268e-01 5.91039545e-01\n",
      "  7.94452066e-02 1.19920817e-01 1.24221868e-01 6.76412109e-01]\n",
      " [7.37056266e-03 7.77794998e-01 1.58429747e-01 5.64046929e-02\n",
      "  3.06370256e-02 7.84900975e-01 1.06926821e-01 7.75351780e-02]\n",
      " [4.40156994e-03 6.31025321e-03 5.88553747e-02 9.30432802e-01\n",
      "  5.07215907e-03 8.64128183e-03 2.95187177e-02 9.56767841e-01]\n",
      " [9.50782947e-03 2.05690732e-02 7.41773946e-01 2.28149152e-01\n",
      "  2.75754857e-02 3.33766856e-02 5.95729038e-01 3.43318791e-01]\n",
      " [1.20886645e-01 2.43813501e-01 2.61134881e-01 3.74164973e-01\n",
      "  1.81241564e-01 1.72599711e-01 2.72805393e-01 3.73353333e-01]\n",
      " [1.13922235e-02 1.06545611e-02 3.14106713e-02 9.46542544e-01\n",
      "  1.69055095e-02 5.20155731e-03 2.22994872e-02 9.55593446e-01]\n",
      " [1.59578099e-01 7.91249706e-01 3.43177183e-02 1.48544761e-02\n",
      "  5.13912476e-02 9.25977247e-01 1.98647511e-02 2.76675453e-03]\n",
      " [1.12751740e-02 5.23443901e-03 1.38541416e-01 8.44948971e-01\n",
      "  2.09364572e-02 4.22380125e-03 1.43976332e-01 8.30863410e-01]\n",
      " [9.92321683e-01 2.00297502e-03 4.82052638e-04 5.19328941e-03\n",
      "  9.94144587e-01 1.72385206e-03 1.33026636e-03 2.80129435e-03]\n",
      " [1.01226074e-01 8.16390524e-01 5.23254376e-02 3.00579636e-02\n",
      "  1.06073737e-01 7.51493400e-01 6.17111924e-02 8.07216706e-02]\n",
      " [8.28785443e-02 1.43563823e-01 7.24609596e-01 4.89480359e-02\n",
      "  3.94311682e-02 1.52767417e-02 9.36418698e-01 8.87339187e-03]\n",
      " [1.95004906e-02 5.68277626e-02 7.32993751e-02 8.50372372e-01\n",
      "  2.72593165e-02 7.22144205e-02 3.00453895e-01 6.00072368e-01]\n",
      " [8.51513727e-01 9.82447540e-02 4.82215533e-03 4.54193636e-02\n",
      "  7.96470954e-01 7.18818566e-02 7.43869619e-03 1.24208493e-01]\n",
      " [2.54021509e-03 6.01694324e-03 9.38939911e-01 5.25029310e-02\n",
      "  1.09935580e-02 1.00286753e-02 9.08415104e-01 7.05626627e-02]\n",
      " [8.61291481e-01 9.04460476e-02 3.71793017e-02 1.10831698e-02\n",
      "  8.60933062e-01 9.12993321e-02 3.02294198e-02 1.75381857e-02]\n",
      " [2.79276310e-03 1.74834235e-02 2.49765465e-01 7.29958348e-01\n",
      "  3.31047437e-03 1.56339797e-02 1.72854706e-01 8.08200840e-01]\n",
      " [7.36999368e-01 2.33933079e-01 2.05116965e-02 8.55585618e-03\n",
      "  5.83414421e-01 3.77103389e-01 1.45718201e-02 2.49103699e-02]\n",
      " [9.96360309e-01 8.54954655e-04 5.56478888e-04 2.22825697e-03\n",
      "  9.97755290e-01 1.92921679e-04 1.44673262e-03 6.05055326e-04]\n",
      " [3.22068839e-02 9.25664404e-01 1.25030612e-02 2.96256509e-02\n",
      "  8.57989382e-02 7.96488994e-01 3.53498058e-02 8.23622621e-02]\n",
      " [1.46928070e-02 2.13237691e-02 3.08210830e-01 6.55772594e-01\n",
      "  3.13078929e-02 3.74978093e-02 4.29305989e-01 5.01888308e-01]\n",
      " [9.78996915e-01 4.90757108e-03 7.33657185e-03 8.75894166e-03\n",
      "  9.51496634e-01 2.83154765e-03 1.55661534e-02 3.01056648e-02]\n",
      " [1.96948860e-02 3.07054682e-03 6.19751308e-02 9.15259436e-01\n",
      "  2.92895967e-02 2.34091744e-03 4.36724229e-02 9.24697063e-01]\n",
      " [8.45571987e-01 7.24815906e-02 7.87197421e-02 3.22668054e-03\n",
      "  8.41824913e-01 6.82045585e-02 8.35506476e-02 6.41988123e-03]\n",
      " [6.40167822e-01 4.83640046e-02 2.83269325e-01 2.81988478e-02\n",
      "  5.58525810e-01 2.52894054e-02 4.02005602e-01 1.41791821e-02]\n",
      " [7.89686376e-01 1.90596870e-02 5.86828526e-02 1.32571085e-01\n",
      "  7.40169088e-01 1.01681607e-02 8.80328264e-02 1.61629925e-01]\n",
      " [1.67012956e-02 1.18818226e-01 6.96164855e-01 1.68315623e-01\n",
      "  3.47292973e-02 5.96448772e-02 7.48102421e-01 1.57523404e-01]\n",
      " [1.42169272e-02 2.89443780e-03 1.26500664e-02 9.70238569e-01\n",
      "  1.71886368e-02 2.21409934e-03 2.22526723e-02 9.58344592e-01]\n",
      " [1.44263473e-02 7.78639202e-02 8.48322841e-01 5.93868913e-02\n",
      "  3.00363343e-02 6.56732539e-02 7.68997744e-01 1.35292668e-01]\n",
      " [3.86227607e-03 8.10784141e-01 1.78469363e-01 6.88421998e-03\n",
      "  6.60112948e-03 6.77143418e-01 3.02161270e-01 1.40941829e-02]\n",
      " [7.66621601e-02 2.59077035e-02 2.71079757e-02 8.70322161e-01\n",
      "  7.07786732e-02 1.50275508e-02 1.40529194e-02 9.00140857e-01]\n",
      " [1.06153796e-02 5.63026684e-02 7.72771882e-01 1.60310070e-01\n",
      "  6.61303753e-03 9.91942976e-03 9.48276672e-01 3.51908609e-02]\n",
      " [9.75440168e-01 1.01087769e-02 7.41392813e-03 7.03712731e-03\n",
      "  9.76024479e-01 7.74067357e-03 1.28448434e-02 3.39000450e-03]\n",
      " [2.85272670e-03 1.19146855e-02 9.63159287e-01 2.20733011e-02\n",
      "  1.35051525e-02 1.61513134e-02 9.28523424e-01 4.18201102e-02]\n",
      " [6.66688544e-01 4.38741569e-02 6.61836091e-03 2.82818939e-01\n",
      "  5.61170202e-01 1.59011678e-02 5.92717474e-03 4.17001455e-01]\n",
      " [7.73729300e-03 2.90183051e-02 9.52850920e-01 1.03934822e-02\n",
      "  1.69746616e-02 6.17402365e-02 8.75536980e-01 4.57481223e-02]\n",
      " [7.00951014e-01 1.05849308e-02 2.18536297e-01 6.99277586e-02\n",
      "  6.22822961e-01 4.61934881e-03 3.45554459e-01 2.70032311e-02]\n",
      " [1.27935075e-03 1.64472390e-02 8.96015898e-01 8.62575126e-02\n",
      "  3.07522644e-03 2.38600577e-02 7.58652462e-01 2.14412254e-01]\n",
      " [3.70673101e-03 7.64896176e-01 2.07718513e-01 2.36785808e-02\n",
      "  8.99819725e-03 6.77117690e-01 2.77542313e-01 3.63418007e-02]\n",
      " [3.78866741e-03 9.75437049e-01 1.68555399e-03 1.90887298e-02\n",
      "  3.85990356e-03 9.89383650e-01 1.16795934e-03 5.58848740e-03]\n",
      " [4.51790406e-01 4.23309647e-01 1.21391469e-01 3.50847798e-03\n",
      "  2.84173245e-01 5.90050009e-01 1.17454135e-01 8.32261048e-03]\n",
      " [3.96768894e-01 1.15708502e-01 3.38985160e-01 1.48537443e-01\n",
      "  4.13258030e-01 8.73324426e-02 3.13325004e-01 1.86084523e-01]\n",
      " [6.76630557e-03 6.81791043e-01 6.74337895e-02 2.44008862e-01\n",
      "  7.53480301e-03 6.81660424e-01 1.29271299e-01 1.81533474e-01]\n",
      " [8.44258164e-01 2.25634659e-02 1.11323491e-01 2.18548785e-02\n",
      "  8.81037695e-01 1.87661421e-02 8.75011281e-02 1.26950346e-02]\n",
      " [3.45170389e-01 3.03104102e-02 2.38236759e-01 3.86282442e-01\n",
      "  3.97007762e-01 1.85130746e-02 3.65563063e-01 2.18916101e-01]\n",
      " [4.84500177e-03 3.16524159e-02 3.24420489e-02 9.31060533e-01\n",
      "  5.53828906e-03 3.13137483e-02 1.41562859e-02 9.48991677e-01]\n",
      " [9.73738590e-01 3.52897432e-03 1.40381982e-02 8.69423758e-03\n",
      "  9.81929111e-01 8.12227419e-04 9.04296570e-03 8.21569632e-03]\n",
      " [2.85655087e-01 5.39244578e-02 3.24635951e-01 3.35784504e-01\n",
      "  2.18705817e-01 3.64998509e-02 3.92455946e-01 3.52338386e-01]\n",
      " [6.61839991e-02 7.46056525e-01 1.59161898e-01 2.85975773e-02\n",
      "  5.18909047e-02 7.68805067e-01 1.43148063e-01 3.61559661e-02]\n",
      " [2.20611018e-02 2.25675969e-01 7.50498420e-01 1.76450916e-03\n",
      "  2.62913806e-02 2.28477328e-01 7.42175537e-01 3.05575455e-03]\n",
      " [5.62686245e-01 3.31244360e-01 9.93560099e-02 6.71338550e-03\n",
      "  4.61930589e-01 4.30617564e-01 9.60033157e-02 1.14485316e-02]\n",
      " [2.42345614e-02 2.40214395e-02 2.41074525e-02 9.27636547e-01\n",
      "  4.40574556e-02 3.04187610e-02 4.82511661e-02 8.77272617e-01]\n",
      " [6.36350777e-03 4.73654299e-02 7.24619153e-03 9.39024871e-01\n",
      "  1.98237518e-02 9.40078826e-02 1.69834342e-02 8.69184931e-01]\n",
      " [3.38969183e-01 1.21889329e-02 3.01296819e-01 3.47545065e-01\n",
      "  3.62439506e-01 1.27912097e-02 4.71434604e-01 1.53334681e-01]\n",
      " [2.53658057e-01 2.17357534e-01 4.97156050e-01 3.18283592e-02\n",
      "  3.16852438e-01 1.62870482e-01 4.83473682e-01 3.68033973e-02]\n",
      " [8.90934856e-01 5.13591125e-02 1.12233217e-02 4.64827100e-02\n",
      "  9.62874443e-01 2.03054080e-02 8.88794941e-03 7.93219933e-03]\n",
      " [3.97709825e-01 3.99629380e-01 1.88599991e-01 1.40608046e-02\n",
      "  4.27492831e-01 3.66607368e-01 1.76715489e-01 2.91843123e-02]\n",
      " [5.15476318e-02 1.09404187e-01 8.30957238e-01 8.09094301e-03\n",
      "  7.04856029e-02 9.72545927e-02 8.19288704e-01 1.29710999e-02]\n",
      " [8.53801516e-02 2.38082275e-02 8.64909162e-01 2.59024589e-02\n",
      "  1.80699511e-01 2.68924283e-02 7.50724253e-01 4.16838076e-02]\n",
      " [9.94011189e-01 8.67864108e-04 1.64110956e-04 4.95683640e-03\n",
      "  9.94445645e-01 1.36277108e-04 2.28955799e-04 5.18912186e-03]\n",
      " [3.42198600e-03 6.52284787e-01 8.22411434e-02 2.62052084e-01\n",
      "  5.85312937e-03 7.10773874e-01 6.89916245e-02 2.14381372e-01]\n",
      " [5.07516715e-02 2.58406632e-02 9.06651435e-01 1.67562303e-02\n",
      "  4.08580289e-02 2.51248761e-02 9.16750631e-01 1.72664642e-02]\n",
      " [1.63981926e-02 8.84794390e-01 7.59154196e-02 2.28919981e-02\n",
      "  4.40053936e-02 5.69869334e-01 3.42837296e-01 4.32879757e-02]\n",
      " [9.11749886e-01 1.44872557e-02 4.77481568e-02 2.60147011e-02\n",
      "  9.44058947e-01 6.30659680e-03 4.22352427e-02 7.39921316e-03]\n",
      " [4.20397352e-01 1.57684887e-02 3.49724403e-01 2.14109757e-01\n",
      "  4.36250725e-01 1.15833918e-02 4.92178945e-01 5.99869377e-02]\n",
      " [2.02730634e-01 1.04943572e-01 6.07928491e-01 8.43973034e-02\n",
      "  2.86248123e-01 9.38681209e-02 4.83631680e-01 1.36252076e-01]\n",
      " [1.77926666e-03 9.91885925e-01 1.06316480e-03 5.27164348e-03\n",
      "  8.85574888e-04 9.92687178e-01 1.10668064e-03 5.32056644e-03]\n",
      " [4.90217703e-02 4.05368684e-02 3.38287974e-01 5.72153387e-01\n",
      "  4.88018934e-02 2.41041190e-02 6.99531888e-02 8.57140799e-01]\n",
      " [3.80892526e-02 3.38497574e-02 4.19926858e-01 5.08134132e-01\n",
      "  8.71087397e-02 2.44180381e-02 6.91388655e-01 1.97084567e-01]\n",
      " [1.12577774e-01 3.98381454e-02 8.18522241e-01 2.90618397e-02\n",
      "  1.53549313e-01 4.13541439e-02 7.69267490e-01 3.58290528e-02]\n",
      " [1.88116660e-02 1.01426146e-01 8.34870850e-01 4.48913386e-02\n",
      "  1.13145108e-02 4.16124378e-02 8.90115958e-01 5.69570936e-02]\n",
      " [3.98766061e-01 2.40164885e-02 1.62702223e-01 4.14515227e-01\n",
      "  5.03444410e-01 4.78233760e-02 1.95679579e-01 2.53052634e-01]\n",
      " [1.10945576e-01 6.80466565e-01 1.85469215e-01 2.31186434e-02\n",
      "  2.40550881e-01 4.49733986e-01 2.80948922e-01 2.87662114e-02]\n",
      " [6.48726118e-03 1.96839159e-02 3.88275936e-01 5.85552887e-01\n",
      "  1.10900065e-02 2.21056032e-02 3.07316538e-01 6.59487853e-01]\n",
      " [5.10547441e-02 2.42453264e-02 1.85097791e-01 7.39602139e-01\n",
      "  7.19858111e-02 1.87637160e-02 1.99710257e-01 7.09540216e-01]\n",
      " [9.94109312e-01 6.80001334e-04 2.00197313e-04 5.01048983e-03\n",
      "  9.90642948e-01 1.44559653e-04 1.56524402e-03 7.64724811e-03]\n",
      " [3.39257313e-03 7.34265152e-04 3.83837638e-04 9.95489324e-01\n",
      "  3.25297363e-03 5.15329569e-04 1.31889521e-03 9.94912802e-01]\n",
      " [1.59873214e-03 6.70134541e-03 9.78717352e-01 1.29825706e-02\n",
      "  4.34243386e-07 5.18035813e-07 9.99601519e-01 3.97528699e-04]\n",
      " [1.34887839e-01 2.09271885e-02 2.18695988e-01 6.25488984e-01\n",
      "  7.03200782e-02 4.89638998e-03 6.13081609e-01 3.11701923e-01]\n",
      " [9.82260891e-01 1.73661946e-03 4.29606185e-03 1.17064273e-02\n",
      "  9.90610633e-01 6.44912520e-04 3.14556523e-03 5.59888943e-03]\n",
      " [2.45160932e-02 1.57765954e-02 1.31954631e-01 8.27752681e-01\n",
      "  4.90813011e-02 1.15508857e-02 9.69522250e-02 8.42415588e-01]\n",
      " [2.29796340e-01 1.73036185e-02 4.26903157e-01 3.25996885e-01\n",
      "  3.96011387e-01 1.07380504e-02 4.42490563e-01 1.50759999e-01]\n",
      " [5.62415962e-02 1.40847194e-02 9.22444215e-01 7.22946905e-03\n",
      "  4.56438062e-02 1.54499542e-02 9.34773617e-01 4.13262234e-03]\n",
      " [6.57592131e-02 8.63502154e-02 8.24593330e-01 2.32972411e-02\n",
      "  9.37763894e-02 1.15995163e-01 7.60974034e-01 2.92544134e-02]\n",
      " [6.43806608e-03 9.78775676e-01 3.19898709e-03 1.15872713e-02\n",
      "  5.62389402e-03 9.56479384e-01 1.93028901e-02 1.85938319e-02]\n",
      " [6.59253451e-03 9.23850551e-02 8.45318996e-01 5.57034139e-02\n",
      "  1.30633933e-02 8.89078856e-02 8.39188785e-01 5.88399364e-02]\n",
      " [8.69985648e-01 4.29489831e-02 7.79481794e-02 9.11718981e-03\n",
      "  7.74318647e-01 3.52385140e-02 1.81739891e-01 8.70294790e-03]\n",
      " [9.03513889e-01 5.43124343e-02 1.10840049e-02 3.10896717e-02\n",
      "  9.02891511e-01 4.79056126e-02 9.87857424e-03 3.93243023e-02]\n",
      " [4.23983055e-02 1.32925492e-02 8.48254458e-01 9.60546870e-02\n",
      "  7.68705673e-02 1.18248337e-02 8.54929640e-01 5.63749584e-02]] [[14.29910209 12.74364721 11.97993025 ...  9.14596204 11.14949628\n",
      "  11.70163727]\n",
      " [14.78117623 13.27824321 12.6755111  ...  8.61854692 10.13650467\n",
      "  11.46498402]\n",
      " [14.32397651 13.24045726 13.72084196 ...  9.01451418 10.37500593\n",
      "  10.8596103 ]\n",
      " ...\n",
      " [13.7626806  12.78302216 12.00731228 ... 10.04299411 11.33690337\n",
      "  11.12053516]\n",
      " [14.63807279 14.37693542 13.30610055 ... 10.15790519 10.44288868\n",
      "  11.10802899]\n",
      " [13.88941035 12.82896777 13.09099777 ...  9.70178359 10.11547532\n",
      "  11.40123838]]\n",
      "stacked\n",
      "cv\n",
      "stacked\n",
      "cv\n",
      "stacked\n",
      "cv\n",
      "stacked\n",
      "cv\n",
      "stacked\n",
      "cv\n",
      "stacked\n",
      "cv\n",
      "stacked\n",
      "cv\n",
      "stacked\n",
      "cv\n",
      "stacked\n",
      "cv\n",
      "stacked\n",
      "cv\n",
      "stacked\n",
      "cv\n",
      "stacked\n",
      "cv\n",
      "stacked\n",
      "cv\n",
      "stacked\n",
      "cv\n",
      "stacked\n",
      "cv\n",
      "stacked\n",
      "cv\n",
      "stacked\n",
      "cv\n",
      "stacked\n",
      "cv\n",
      "stacked\n",
      "cv\n",
      "stacked\n",
      "cv\n",
      "stacked\n",
      "cv\n",
      "stacked\n",
      "cv\n",
      "stacked\n",
      "cv\n",
      "stacked\n",
      "cv\n",
      "stacked\n",
      "cv\n",
      "stacked\n",
      "cv\n",
      "stacked\n",
      "cv\n",
      "stacked\n",
      "cv\n",
      "stacked\n",
      "cv\n",
      "stacked\n",
      "cv\n",
      "stacked\n",
      "cv\n",
      "stacked\n",
      "cv\n",
      "stacked\n",
      "cv\n",
      "stacked\n",
      "cv\n",
      "stacked\n",
      "cv\n",
      "stacked\n",
      "cv\n",
      "stacked\n",
      "cv\n",
      "stacked\n",
      "cv\n",
      "stacked\n",
      "cv\n",
      "stacked\n",
      "cv\n",
      "stacked\n",
      "cv\n",
      "stacked\n",
      "cv\n",
      "stacked\n",
      "cv\n",
      "stacked\n",
      "cv\n",
      "stacked\n",
      "cv\n",
      "stacked\n",
      "cv\n",
      "stacked\n",
      "cv\n",
      "stacked\n",
      "cv\n",
      "stacked\n",
      "cv\n",
      "stacked\n",
      "cv\n",
      "stacked\n",
      "cv\n",
      "stacked\n",
      "cv\n",
      "stacked\n",
      "cv\n",
      "stacked\n",
      "cv\n",
      "stacked\n",
      "cv\n",
      "stacked\n",
      "cv\n",
      "stacked\n",
      "cv\n",
      "stacked\n"
     ]
    }
   ],
   "source": [
    "#models = [SVC(kernel=\"rbf\", probability=True), XGBClassifier(n_estimators=300, use_label_encoder=False, eval_metric='logloss'), RandomForestClassifier(random_state=0, n_estimators=100)]\n",
    "#OGmodels = [SVC(kernel=\"rbf\", probability=True), XGBClassifier(n_estimators=300, use_label_encoder=False, eval_metric='logloss'),RandomForestClassifier(random_state=0, n_estimators=100)]\n",
    "#OGmodels = [XGBClassifier(n_estimators=300, use_label_encoder=False, eval_metric='logloss'), GaussianNB()]\n",
    "\n",
    "mlpparameters = {\n",
    "\"activation\": \"relu\",\n",
    "\"alpha\": 0.0001,\n",
    "\"learning_rate\": \"constant\",\n",
    "\"max_iter\": 210,\n",
    "\"batch_size\": 8,\n",
    "\"solver\": \"adam\",\n",
    "\n",
    "\"hidden_layer_sizes\": (100, 100)\n",
    "}\n",
    "\n",
    "#QDA('reg_param'= 1.0, 'store_covariance'= True, 'tol'= 0.000)\n",
    "OGmodels = [SVC(kernel=\"rbf\", probability=True),\n",
    "            SVC(kernel=\"linear\", probability=True)\n",
    "            LogisticRegression(max_iter=700)\n",
    "            GaussianNB(),\n",
    "            RandomForestClassifier(random_state=0, n_estimators=100),\n",
    "            XGBClassifier(n_estimators=300, use_label_encoder=False, eval_metric='logloss'),\n",
    "            MLPClassifier(**mlpparameters),\n",
    "            KNeighborsClassifier(),\n",
    "            QuadraticDiscriminantAnalysis(reg_param= 1.0, store_covariance= True, tol= 0.000),\n",
    "            DecisionTreeClassifier()\n",
    "           ]\n",
    "           \n",
    "    \n",
    "OGstack_models = [\n",
    "    #MLPClassifier(**mlpparameters),\n",
    "    #RandomForestClassifier(),\n",
    "    #LogisticRegression(max_iter=700),\n",
    "    #GaussianNB(),\n",
    "    #SVC(kernel=\"rbf\", probability=True),\n",
    "    SVC(kernel=\"linear\", probability=True)\n",
    "    #MLPClassifier(activation='relu', alpha= 0.0001, batch_size= 1, hidden_layer_sizes=(200,), learning_rate= 'constant', solver= 'adam', max_iter=400)\n",
    "]\n",
    "number_models = len(OGmodels)\n",
    "model_names = [type(model).__name__ for model in OGmodels]\n",
    "# Dictionary to track occurrences of each model name\n",
    "name_count = {}\n",
    "# Updated list to hold the unique model names\n",
    "unique_model_names = []\n",
    "\n",
    "for name in model_names:\n",
    "    if name in name_count:\n",
    "        # If the name is already seen, increment the count and append the number\n",
    "        name_count[name] += 1\n",
    "        unique_name = f\"{name}{name_count[name]}\"\n",
    "    else:\n",
    "        # If the name is seen for the first time, just use the name\n",
    "        name_count[name] = 1\n",
    "        unique_name = name\n",
    "    # Append the unique name to the result list\n",
    "    unique_model_names.append(unique_name)\n",
    "OGmodel_names=unique_model_names\n",
    "\n",
    "\n",
    "stack_model_names = [type(model).__name__ for model in OGstack_models]\n",
    "# Updated list to hold the unique model names\n",
    "\n",
    "unique_stack_model_names = []\n",
    "for name in stack_model_names:\n",
    "    if name in name_count:\n",
    "        # If the name is already seen, increment the count and append the number\n",
    "        name_count[name] += 1\n",
    "        unique_name = f\"{name}{name_count[name]}\"\n",
    "    else:\n",
    "        # If the name is seen for the first time, just use the name\n",
    "        name_count[name] = 1\n",
    "        unique_name = name\n",
    "    unique_stack_model_names.append(unique_name)\n",
    "OGstack_model_names = unique_stack_model_names\n",
    "\n",
    "print(OGmodel_names)\n",
    "print(OGstack_model_names)\n",
    "USEDmodels = OGmodels\n",
    "USEDmodelnames = OGmodel_names\n",
    "    \n",
    "    \n",
    "\n",
    "    \n",
    "le = LabelEncoder()\n",
    "x = pd.read_csv('') #your input here\n",
    "print(x)\n",
    "data = \"LIMMA\" #give the data a name\n",
    "pd.set_option('display.max_rows', None)  # Show all rows\n",
    "pd.set_option('display.max_columns', None)  # Show all columns\n",
    "\n",
    " #Define the mapping\n",
    "mapping = {\n",
    "    'Squamous': 0,\n",
    "    'ADEX': 1,\n",
    "    'Pancreatic Progenitor': 2,\n",
    "    'Immunogenic': 3\n",
    "}\n",
    "\n",
    "# Map the values\n",
    "x['subtype'] = x['subtype'].map(mapping)\n",
    "\n",
    "classnumber = len(np.unique(x['subtype']))\n",
    "#print(classnumber)\n",
    "randomstate = 0\n",
    "# List of states\n",
    "states = list(range(20))\n",
    "run = 0\n",
    "print(\"run\", run)\n",
    "# Loop through each state and run the workflow\n",
    "for state in states:\n",
    "    workflow(x, USEDmodels, USEDmodelnames, randomstate=state)\n",
    "    run = run+1\n",
    "    "
   ]
  },
  {
   "cell_type": "markdown",
   "metadata": {},
   "source": [
    "## step 4 (2 model combinations)"
   ]
  },
  {
   "cell_type": "code",
   "execution_count": 9,
   "metadata": {
    "collapsed": true,
    "jupyter": {
     "outputs_hidden": true,
     "source_hidden": true
    },
    "tags": []
   },
   "outputs": [
    {
     "name": "stdout",
     "output_type": "stream",
     "text": [
      "['SVC', 'SVC2', 'LogisticRegression', 'GaussianNB', 'XGBClassifier', 'KNeighborsClassifier', 'QuadraticDiscriminantAnalysis']\n",
      "['SVC3', 'SVC4']\n",
      "dict {'SVC': SVC(probability=True), 'SVC2': SVC(kernel='linear', probability=True), 'LogisticRegression': LogisticRegression(max_iter=700), 'GaussianNB': GaussianNB(), 'XGBClassifier': XGBClassifier(base_score=None, booster=None, callbacks=None,\n",
      "              colsample_bylevel=None, colsample_bynode=None,\n",
      "              colsample_bytree=None, device=None, early_stopping_rounds=None,\n",
      "              enable_categorical=False, eval_metric='logloss',\n",
      "              feature_types=None, gamma=None, grow_policy=None,\n",
      "              importance_type=None, interaction_constraints=None,\n",
      "              learning_rate=None, max_bin=None, max_cat_threshold=None,\n",
      "              max_cat_to_onehot=None, max_delta_step=None, max_depth=None,\n",
      "              max_leaves=None, min_child_weight=None, missing=nan,\n",
      "              monotone_constraints=None, multi_strategy=None, n_estimators=300,\n",
      "              n_jobs=None, num_parallel_tree=None, random_state=None, ...), 'KNeighborsClassifier': KNeighborsClassifier(), 'QuadraticDiscriminantAnalysis': QuadraticDiscriminantAnalysis(reg_param=1.0, store_covariance=True, tol=0.0)}\n",
      "dict {'SVC3': SVC(probability=True), 'SVC4': SVC(kernel='linear', probability=True)}\n",
      "Model Pair: SVC + SVC\n",
      "USEDmodelnames ['SVC', 'SVC2', 'tuple', 'SVC']\n",
      "Running with: SVC and SVC\n",
      "Random state: 0\n",
      "['SVC', 'SVC2', 'tuple', 'SVC']\n",
      "individual models\n",
      "cv\n",
      "individual models\n",
      "cv\n",
      "individual models\n",
      "cv\n",
      "individual models\n",
      "cv\n",
      "individual models\n",
      "cv\n",
      "individual models\n",
      "cv\n",
      "individual models\n",
      "cv\n",
      "individual models\n"
     ]
    },
    {
     "ename": "KeyboardInterrupt",
     "evalue": "",
     "output_type": "error",
     "traceback": [
      "\u001b[0;31m---------------------------------------------------------------------------\u001b[0m",
      "\u001b[0;31mKeyboardInterrupt\u001b[0m                         Traceback (most recent call last)",
      "Cell \u001b[0;32mIn[9], line 165\u001b[0m\n\u001b[1;32m    163\u001b[0m \u001b[38;5;66;03m# Loop through each state and run the workflow\u001b[39;00m\n\u001b[1;32m    164\u001b[0m \u001b[38;5;28;01mfor\u001b[39;00m state \u001b[38;5;129;01min\u001b[39;00m states:\n\u001b[0;32m--> 165\u001b[0m     \u001b[43mworkflow\u001b[49m\u001b[43m(\u001b[49m\u001b[43mx\u001b[49m\u001b[43m,\u001b[49m\u001b[43m \u001b[49m\u001b[43mUSEDmodels\u001b[49m\u001b[43m,\u001b[49m\u001b[43m \u001b[49m\u001b[43mUSEDmodelnames\u001b[49m\u001b[43m,\u001b[49m\u001b[43m \u001b[49m\u001b[43mrandomstate\u001b[49m\u001b[38;5;241;43m=\u001b[39;49m\u001b[43mstate\u001b[49m\u001b[43m)\u001b[49m\n\u001b[1;32m    167\u001b[0m \u001b[38;5;66;03m# Placeholder: print model names for demonstration\u001b[39;00m\n\u001b[1;32m    168\u001b[0m run \u001b[38;5;241m=\u001b[39m run\u001b[38;5;241m+\u001b[39m\u001b[38;5;241m1\u001b[39m\n",
      "Cell \u001b[0;32mIn[5], line 45\u001b[0m, in \u001b[0;36mworkflow\u001b[0;34m(x, USEDmodels, USEDmodelnames, randomstate)\u001b[0m\n\u001b[1;32m     42\u001b[0m model_names \u001b[38;5;241m=\u001b[39m USEDmodelnames\n\u001b[1;32m     43\u001b[0m \u001b[38;5;28mprint\u001b[39m(model_names)\n\u001b[0;32m---> 45\u001b[0m oof_prob_pred, oofTrueLabels, oof_pred, stacked, oofOGdata \u001b[38;5;241m=\u001b[39m \u001b[43mget_oof\u001b[49m\u001b[43m(\u001b[49m\u001b[43mxtrain\u001b[49m\u001b[43m,\u001b[49m\u001b[43m \u001b[49m\u001b[43mytrain\u001b[49m\u001b[43m,\u001b[49m\u001b[43m \u001b[49m\u001b[43mstacked\u001b[49m\u001b[43m,\u001b[49m\u001b[43m \u001b[49m\u001b[43mmodels\u001b[49m\u001b[43m,\u001b[49m\u001b[43m \u001b[49m\u001b[43mmodel_names\u001b[49m\u001b[43m,\u001b[49m\u001b[43m \u001b[49m\u001b[43mrandomstate\u001b[49m\u001b[43m)\u001b[49m\n\u001b[1;32m     47\u001b[0m end_time \u001b[38;5;241m=\u001b[39m time\u001b[38;5;241m.\u001b[39mtime()\n\u001b[1;32m     48\u001b[0m \u001b[38;5;66;03m# 计算并打印运行时间\u001b[39;00m\n",
      "Cell \u001b[0;32mIn[6], line 197\u001b[0m, in \u001b[0;36mget_oof\u001b[0;34m(xtrain, ytrain, stacked, models, model_names, randomstate)\u001b[0m\n\u001b[1;32m    189\u001b[0m \u001b[38;5;66;03m# Check if the key exists in the dictionary, then update accordingly\u001b[39;00m\n\u001b[1;32m    190\u001b[0m \u001b[38;5;66;03m# Check if validation data already exists in the dictionary\u001b[39;00m\n\u001b[1;32m    191\u001b[0m \n\u001b[1;32m    192\u001b[0m \u001b[38;5;66;03m#print(\"val_index\", val_index)\u001b[39;00m\n\u001b[1;32m    193\u001b[0m \u001b[38;5;66;03m#print(\"test index\", test_index)\u001b[39;00m\n\u001b[1;32m    195\u001b[0m \u001b[38;5;28;01mfor\u001b[39;00m idx, model \u001b[38;5;129;01min\u001b[39;00m \u001b[38;5;28menumerate\u001b[39m(models):\n\u001b[1;32m    196\u001b[0m     \u001b[38;5;66;03m#print(model)\u001b[39;00m\n\u001b[0;32m--> 197\u001b[0m     \u001b[43mmodel\u001b[49m\u001b[38;5;241;43m.\u001b[39;49m\u001b[43mfit\u001b[49m\u001b[43m(\u001b[49m\u001b[43mkf_x_train\u001b[49m\u001b[43m,\u001b[49m\u001b[43m \u001b[49m\u001b[43mkf_y_train\u001b[49m\u001b[43m)\u001b[49m \u001b[38;5;66;03m#training the model\u001b[39;00m\n\u001b[1;32m    198\u001b[0m     model_name \u001b[38;5;241m=\u001b[39m model_names[idx]\n\u001b[1;32m    199\u001b[0m     \u001b[38;5;66;03m#print(kf_x_val)\u001b[39;00m\n\u001b[1;32m    200\u001b[0m     \u001b[38;5;66;03m#print(xtest)\u001b[39;00m\n",
      "File \u001b[0;32m~/.local/lib/python3.8/site-packages/sklearn/base.py:1152\u001b[0m, in \u001b[0;36m_fit_context.<locals>.decorator.<locals>.wrapper\u001b[0;34m(estimator, *args, **kwargs)\u001b[0m\n\u001b[1;32m   1145\u001b[0m     estimator\u001b[38;5;241m.\u001b[39m_validate_params()\n\u001b[1;32m   1147\u001b[0m \u001b[38;5;28;01mwith\u001b[39;00m config_context(\n\u001b[1;32m   1148\u001b[0m     skip_parameter_validation\u001b[38;5;241m=\u001b[39m(\n\u001b[1;32m   1149\u001b[0m         prefer_skip_nested_validation \u001b[38;5;129;01mor\u001b[39;00m global_skip_validation\n\u001b[1;32m   1150\u001b[0m     )\n\u001b[1;32m   1151\u001b[0m ):\n\u001b[0;32m-> 1152\u001b[0m     \u001b[38;5;28;01mreturn\u001b[39;00m \u001b[43mfit_method\u001b[49m\u001b[43m(\u001b[49m\u001b[43mestimator\u001b[49m\u001b[43m,\u001b[49m\u001b[43m \u001b[49m\u001b[38;5;241;43m*\u001b[39;49m\u001b[43margs\u001b[49m\u001b[43m,\u001b[49m\u001b[43m \u001b[49m\u001b[38;5;241;43m*\u001b[39;49m\u001b[38;5;241;43m*\u001b[39;49m\u001b[43mkwargs\u001b[49m\u001b[43m)\u001b[49m\n",
      "File \u001b[0;32m~/.local/lib/python3.8/site-packages/sklearn/svm/_base.py:250\u001b[0m, in \u001b[0;36mBaseLibSVM.fit\u001b[0;34m(self, X, y, sample_weight)\u001b[0m\n\u001b[1;32m    247\u001b[0m     \u001b[38;5;28mprint\u001b[39m(\u001b[38;5;124m\"\u001b[39m\u001b[38;5;124m[LibSVM]\u001b[39m\u001b[38;5;124m\"\u001b[39m, end\u001b[38;5;241m=\u001b[39m\u001b[38;5;124m\"\u001b[39m\u001b[38;5;124m\"\u001b[39m)\n\u001b[1;32m    249\u001b[0m seed \u001b[38;5;241m=\u001b[39m rnd\u001b[38;5;241m.\u001b[39mrandint(np\u001b[38;5;241m.\u001b[39miinfo(\u001b[38;5;124m\"\u001b[39m\u001b[38;5;124mi\u001b[39m\u001b[38;5;124m\"\u001b[39m)\u001b[38;5;241m.\u001b[39mmax)\n\u001b[0;32m--> 250\u001b[0m \u001b[43mfit\u001b[49m\u001b[43m(\u001b[49m\u001b[43mX\u001b[49m\u001b[43m,\u001b[49m\u001b[43m \u001b[49m\u001b[43my\u001b[49m\u001b[43m,\u001b[49m\u001b[43m \u001b[49m\u001b[43msample_weight\u001b[49m\u001b[43m,\u001b[49m\u001b[43m \u001b[49m\u001b[43msolver_type\u001b[49m\u001b[43m,\u001b[49m\u001b[43m \u001b[49m\u001b[43mkernel\u001b[49m\u001b[43m,\u001b[49m\u001b[43m \u001b[49m\u001b[43mrandom_seed\u001b[49m\u001b[38;5;241;43m=\u001b[39;49m\u001b[43mseed\u001b[49m\u001b[43m)\u001b[49m\n\u001b[1;32m    251\u001b[0m \u001b[38;5;66;03m# see comment on the other call to np.iinfo in this file\u001b[39;00m\n\u001b[1;32m    253\u001b[0m \u001b[38;5;28mself\u001b[39m\u001b[38;5;241m.\u001b[39mshape_fit_ \u001b[38;5;241m=\u001b[39m X\u001b[38;5;241m.\u001b[39mshape \u001b[38;5;28;01mif\u001b[39;00m \u001b[38;5;28mhasattr\u001b[39m(X, \u001b[38;5;124m\"\u001b[39m\u001b[38;5;124mshape\u001b[39m\u001b[38;5;124m\"\u001b[39m) \u001b[38;5;28;01melse\u001b[39;00m (n_samples,)\n",
      "File \u001b[0;32m~/.local/lib/python3.8/site-packages/sklearn/svm/_base.py:329\u001b[0m, in \u001b[0;36mBaseLibSVM._dense_fit\u001b[0;34m(self, X, y, sample_weight, solver_type, kernel, random_seed)\u001b[0m\n\u001b[1;32m    315\u001b[0m libsvm\u001b[38;5;241m.\u001b[39mset_verbosity_wrap(\u001b[38;5;28mself\u001b[39m\u001b[38;5;241m.\u001b[39mverbose)\n\u001b[1;32m    317\u001b[0m \u001b[38;5;66;03m# we don't pass **self.get_params() to allow subclasses to\u001b[39;00m\n\u001b[1;32m    318\u001b[0m \u001b[38;5;66;03m# add other parameters to __init__\u001b[39;00m\n\u001b[1;32m    319\u001b[0m (\n\u001b[1;32m    320\u001b[0m     \u001b[38;5;28mself\u001b[39m\u001b[38;5;241m.\u001b[39msupport_,\n\u001b[1;32m    321\u001b[0m     \u001b[38;5;28mself\u001b[39m\u001b[38;5;241m.\u001b[39msupport_vectors_,\n\u001b[1;32m    322\u001b[0m     \u001b[38;5;28mself\u001b[39m\u001b[38;5;241m.\u001b[39m_n_support,\n\u001b[1;32m    323\u001b[0m     \u001b[38;5;28mself\u001b[39m\u001b[38;5;241m.\u001b[39mdual_coef_,\n\u001b[1;32m    324\u001b[0m     \u001b[38;5;28mself\u001b[39m\u001b[38;5;241m.\u001b[39mintercept_,\n\u001b[1;32m    325\u001b[0m     \u001b[38;5;28mself\u001b[39m\u001b[38;5;241m.\u001b[39m_probA,\n\u001b[1;32m    326\u001b[0m     \u001b[38;5;28mself\u001b[39m\u001b[38;5;241m.\u001b[39m_probB,\n\u001b[1;32m    327\u001b[0m     \u001b[38;5;28mself\u001b[39m\u001b[38;5;241m.\u001b[39mfit_status_,\n\u001b[1;32m    328\u001b[0m     \u001b[38;5;28mself\u001b[39m\u001b[38;5;241m.\u001b[39m_num_iter,\n\u001b[0;32m--> 329\u001b[0m ) \u001b[38;5;241m=\u001b[39m \u001b[43mlibsvm\u001b[49m\u001b[38;5;241;43m.\u001b[39;49m\u001b[43mfit\u001b[49m\u001b[43m(\u001b[49m\n\u001b[1;32m    330\u001b[0m \u001b[43m    \u001b[49m\u001b[43mX\u001b[49m\u001b[43m,\u001b[49m\n\u001b[1;32m    331\u001b[0m \u001b[43m    \u001b[49m\u001b[43my\u001b[49m\u001b[43m,\u001b[49m\n\u001b[1;32m    332\u001b[0m \u001b[43m    \u001b[49m\u001b[43msvm_type\u001b[49m\u001b[38;5;241;43m=\u001b[39;49m\u001b[43msolver_type\u001b[49m\u001b[43m,\u001b[49m\n\u001b[1;32m    333\u001b[0m \u001b[43m    \u001b[49m\u001b[43msample_weight\u001b[49m\u001b[38;5;241;43m=\u001b[39;49m\u001b[43msample_weight\u001b[49m\u001b[43m,\u001b[49m\n\u001b[1;32m    334\u001b[0m \u001b[43m    \u001b[49m\u001b[38;5;66;43;03m# TODO(1.4): Replace \"_class_weight\" with \"class_weight_\"\u001b[39;49;00m\n\u001b[1;32m    335\u001b[0m \u001b[43m    \u001b[49m\u001b[43mclass_weight\u001b[49m\u001b[38;5;241;43m=\u001b[39;49m\u001b[38;5;28;43mgetattr\u001b[39;49m\u001b[43m(\u001b[49m\u001b[38;5;28;43mself\u001b[39;49m\u001b[43m,\u001b[49m\u001b[43m \u001b[49m\u001b[38;5;124;43m\"\u001b[39;49m\u001b[38;5;124;43m_class_weight\u001b[39;49m\u001b[38;5;124;43m\"\u001b[39;49m\u001b[43m,\u001b[49m\u001b[43m \u001b[49m\u001b[43mnp\u001b[49m\u001b[38;5;241;43m.\u001b[39;49m\u001b[43mempty\u001b[49m\u001b[43m(\u001b[49m\u001b[38;5;241;43m0\u001b[39;49m\u001b[43m)\u001b[49m\u001b[43m)\u001b[49m\u001b[43m,\u001b[49m\n\u001b[1;32m    336\u001b[0m \u001b[43m    \u001b[49m\u001b[43mkernel\u001b[49m\u001b[38;5;241;43m=\u001b[39;49m\u001b[43mkernel\u001b[49m\u001b[43m,\u001b[49m\n\u001b[1;32m    337\u001b[0m \u001b[43m    \u001b[49m\u001b[43mC\u001b[49m\u001b[38;5;241;43m=\u001b[39;49m\u001b[38;5;28;43mself\u001b[39;49m\u001b[38;5;241;43m.\u001b[39;49m\u001b[43mC\u001b[49m\u001b[43m,\u001b[49m\n\u001b[1;32m    338\u001b[0m \u001b[43m    \u001b[49m\u001b[43mnu\u001b[49m\u001b[38;5;241;43m=\u001b[39;49m\u001b[38;5;28;43mself\u001b[39;49m\u001b[38;5;241;43m.\u001b[39;49m\u001b[43mnu\u001b[49m\u001b[43m,\u001b[49m\n\u001b[1;32m    339\u001b[0m \u001b[43m    \u001b[49m\u001b[43mprobability\u001b[49m\u001b[38;5;241;43m=\u001b[39;49m\u001b[38;5;28;43mself\u001b[39;49m\u001b[38;5;241;43m.\u001b[39;49m\u001b[43mprobability\u001b[49m\u001b[43m,\u001b[49m\n\u001b[1;32m    340\u001b[0m \u001b[43m    \u001b[49m\u001b[43mdegree\u001b[49m\u001b[38;5;241;43m=\u001b[39;49m\u001b[38;5;28;43mself\u001b[39;49m\u001b[38;5;241;43m.\u001b[39;49m\u001b[43mdegree\u001b[49m\u001b[43m,\u001b[49m\n\u001b[1;32m    341\u001b[0m \u001b[43m    \u001b[49m\u001b[43mshrinking\u001b[49m\u001b[38;5;241;43m=\u001b[39;49m\u001b[38;5;28;43mself\u001b[39;49m\u001b[38;5;241;43m.\u001b[39;49m\u001b[43mshrinking\u001b[49m\u001b[43m,\u001b[49m\n\u001b[1;32m    342\u001b[0m \u001b[43m    \u001b[49m\u001b[43mtol\u001b[49m\u001b[38;5;241;43m=\u001b[39;49m\u001b[38;5;28;43mself\u001b[39;49m\u001b[38;5;241;43m.\u001b[39;49m\u001b[43mtol\u001b[49m\u001b[43m,\u001b[49m\n\u001b[1;32m    343\u001b[0m \u001b[43m    \u001b[49m\u001b[43mcache_size\u001b[49m\u001b[38;5;241;43m=\u001b[39;49m\u001b[38;5;28;43mself\u001b[39;49m\u001b[38;5;241;43m.\u001b[39;49m\u001b[43mcache_size\u001b[49m\u001b[43m,\u001b[49m\n\u001b[1;32m    344\u001b[0m \u001b[43m    \u001b[49m\u001b[43mcoef0\u001b[49m\u001b[38;5;241;43m=\u001b[39;49m\u001b[38;5;28;43mself\u001b[39;49m\u001b[38;5;241;43m.\u001b[39;49m\u001b[43mcoef0\u001b[49m\u001b[43m,\u001b[49m\n\u001b[1;32m    345\u001b[0m \u001b[43m    \u001b[49m\u001b[43mgamma\u001b[49m\u001b[38;5;241;43m=\u001b[39;49m\u001b[38;5;28;43mself\u001b[39;49m\u001b[38;5;241;43m.\u001b[39;49m\u001b[43m_gamma\u001b[49m\u001b[43m,\u001b[49m\n\u001b[1;32m    346\u001b[0m \u001b[43m    \u001b[49m\u001b[43mepsilon\u001b[49m\u001b[38;5;241;43m=\u001b[39;49m\u001b[38;5;28;43mself\u001b[39;49m\u001b[38;5;241;43m.\u001b[39;49m\u001b[43mepsilon\u001b[49m\u001b[43m,\u001b[49m\n\u001b[1;32m    347\u001b[0m \u001b[43m    \u001b[49m\u001b[43mmax_iter\u001b[49m\u001b[38;5;241;43m=\u001b[39;49m\u001b[38;5;28;43mself\u001b[39;49m\u001b[38;5;241;43m.\u001b[39;49m\u001b[43mmax_iter\u001b[49m\u001b[43m,\u001b[49m\n\u001b[1;32m    348\u001b[0m \u001b[43m    \u001b[49m\u001b[43mrandom_seed\u001b[49m\u001b[38;5;241;43m=\u001b[39;49m\u001b[43mrandom_seed\u001b[49m\u001b[43m,\u001b[49m\n\u001b[1;32m    349\u001b[0m \u001b[43m\u001b[49m\u001b[43m)\u001b[49m\n\u001b[1;32m    351\u001b[0m \u001b[38;5;28mself\u001b[39m\u001b[38;5;241m.\u001b[39m_warn_from_fit_status()\n",
      "\u001b[0;31mKeyboardInterrupt\u001b[0m: "
     ]
    }
   ],
   "source": [
    "# run for all combinations of 2 models\n",
    "# Define your models\n",
    "import itertools\n",
    "\n",
    "\n",
    "run = 0\n",
    "\n",
    "\n",
    "mlpparameters = {\n",
    "\"activation\": \"relu\",\n",
    "\"alpha\": 0.0001,\n",
    "\"learning_rate\": \"constant\",\n",
    "\"max_iter\": 210,\n",
    "\"batch_size\": 8,\n",
    "\"solver\": \"adam\",\n",
    "\n",
    "\"hidden_layer_sizes\": (100, 100)\n",
    "}\n",
    "OGmodels = [\n",
    "    SVC(kernel=\"rbf\", probability=True),\n",
    "    SVC(kernel=\"linear\", probability=True),\n",
    "    LogisticRegression(max_iter=700),\n",
    "    GaussianNB(),\n",
    "    XGBClassifier(n_estimators=300, use_label_encoder=False, eval_metric='logloss'),\n",
    "    KNeighborsClassifier(),\n",
    "    QuadraticDiscriminantAnalysis(reg_param=1.0, store_covariance=True, tol=0.000)\n",
    "]\n",
    "\n",
    "\n",
    "OGstack_models = [\n",
    "    #MLPClassifier(**mlpparameters),\n",
    "    #RandomForestClassifier(),\n",
    "    #LogisticRegression(max_iter=700),\n",
    "    #GaussianNB(),\n",
    "    SVC(kernel=\"rbf\", probability=True),\n",
    "    SVC(kernel=\"linear\", probability=True),\n",
    "    #MLPClassifier(activation='relu', alpha= 0.0001, batch_size= 1, hidden_layer_sizes=(200,), learning_rate= 'constant', solver= 'adam', max_iter=400)\n",
    "]\n",
    "\n",
    "number_models = len(OGmodels)\n",
    "model_names = [type(model).__name__ for model in OGmodels]\n",
    "# Dictionary to track occurrences of each model name\n",
    "name_count = {}\n",
    "# Updated list to hold the unique model names\n",
    "unique_model_names = []\n",
    "\n",
    "for name in model_names:\n",
    "    if name in name_count:\n",
    "        # If the name is already seen, increment the count and append the number\n",
    "        name_count[name] += 1\n",
    "        unique_name = f\"{name}{name_count[name]}\"\n",
    "    else:\n",
    "        # If the name is seen for the first time, just use the name\n",
    "        name_count[name] = 1\n",
    "        unique_name = name\n",
    "    # Append the unique name to the result list\n",
    "    unique_model_names.append(unique_name)\n",
    "OGmodel_names=unique_model_names\n",
    "\n",
    "\n",
    "stack_model_names = [type(model).__name__ for model in OGstack_models]\n",
    "# Updated list to hold the unique model names\n",
    "\n",
    "unique_stack_model_names = []\n",
    "for name in stack_model_names:\n",
    "    if name in name_count:\n",
    "        # If the name is already seen, increment the count and append the number\n",
    "        name_count[name] += 1\n",
    "        unique_name = f\"{name}{name_count[name]}\"\n",
    "    else:\n",
    "        # If the name is seen for the first time, just use the name\n",
    "        name_count[name] = 1\n",
    "        unique_name = name\n",
    "    unique_stack_model_names.append(unique_name)\n",
    "OGstack_model_names = unique_stack_model_names\n",
    "\n",
    "print(OGmodel_names)\n",
    "print(OGstack_model_names)\n",
    "\n",
    "\n",
    "\n",
    "# Create a dictionary that maps model names to model instances\n",
    "OGmodel_dict = dict(zip(OGmodel_names, OGmodels))\n",
    "\n",
    "# Print the combined dictionary\n",
    "print(\"dict\", OGmodel_dict)\n",
    "\n",
    "OGstack_model_dict = dict(zip(OGstack_model_names, OGstack_models))\n",
    "\n",
    "# Print the combined dictionary\n",
    "print(\"dict\", OGstack_model_dict)\n",
    "\n",
    "\n",
    "\n",
    "\n",
    "# Create all combinations of 2 classifiers from OGmodels\n",
    "model_combinations = list(itertools.combinations(OGmodels, 2))\n",
    "#print(\"model combinations\", model_combinations)\n",
    "\n",
    "# Iterate over each combination of models\n",
    "for model1, model2 in model_combinations:\n",
    "    print(f\"Model Pair: {type(model1).__name__} + {type(model2).__name__}\")\n",
    "    USEDmodels = [model1, model2]\n",
    "    \n",
    "    # Function to find the key corresponding to a model\n",
    "    def find_model_key(model_dict, input_model):\n",
    "        # Get the input model's parameters\n",
    "        input_params = input_model.get_params()\n",
    "\n",
    "        # Iterate through the dictionary\n",
    "        for key, model in model_dict.items():\n",
    "            # Compare parameters of the current model in the dictionary with the input model\n",
    "            if model.get_params() == input_params:\n",
    "                return key  # Return the key if the model parameters match\n",
    "\n",
    "        return None  # Return None if no match is found\n",
    "\n",
    "    # Find the key for the input model\n",
    "    \n",
    "\n",
    "    \n",
    "    model_key1 = find_model_key(OGmodel_dict, model1)\n",
    "    model_key2 = find_model_key(OGmodel_dict, model2)\n",
    "    \n",
    "    \n",
    "        #add the svms here\n",
    "    model3 = SVC(kernel=\"rbf\", probability=True),\n",
    "    model4 = SVC(kernel=\"linear\", probability=True)\n",
    "    \n",
    "    model_key3 = type(model3).__name__\n",
    "    model_key4 = type(model4).__name__\n",
    "    \n",
    "    \n",
    "  \n",
    "    USEDmodelnames = [model_key1, model_key2, model_key3, model_key4]\n",
    "    print(\"USEDmodelnames\", USEDmodelnames)\n",
    "    \n",
    "    le = LabelEncoder()\n",
    "    x = pd.read_csv('') #your file here\n",
    "    data = \"\" #give the data a name\n",
    "    pd.set_option('display.max_rows', None)  # Show all rows\n",
    "    pd.set_option('display.max_columns', None)  # Show all columns\n",
    "    #print(x['subtype'])\n",
    "    #x['subtype'] = le.fit_transform(x['subtype'])\n",
    "\n",
    "     #Define the mapping\n",
    "    mapping = {\n",
    "        'Squamous': 0,\n",
    "        'ADEX': 1,\n",
    "        'Pancreatic Progenitor': 2,\n",
    "        'Immunogenic': 3\n",
    "    }\n",
    "\n",
    "    # Map the values\n",
    "    x['subtype'] = x['subtype'].map(mapping)\n",
    "\n",
    "    classnumber = len(np.unique(x['subtype']))\n",
    "    #print(classnumber)\n",
    "    randomstate = 0\n",
    "    # List of states\n",
    "    states = list(range(1))\n",
    "    print(f\"Running with: {type(model1).__name__} and {type(model2).__name__}\")\n",
    "    models = {model1, model2}\n",
    "    # Loop through each state and run the workflow\n",
    "    for state in states:\n",
    "        workflow(x, USEDmodels, USEDmodelnames, randomstate=state)\n",
    "    \n",
    "    # Placeholder: print model names for demonstration\n",
    "    run = run+1\n",
    "    print(\"run\", run)\n",
    "    \n",
    "    # Process the models or create a stack of models\n",
    "    # Example of stacking:\n",
    "    # stack_model = [model1, model2]  # or any other combination logic\n",
    "    # You can add your desired workflow for each model pair here\n",
    "    \n",
    "    \n",
    "    "
   ]
  },
  {
   "cell_type": "markdown",
   "metadata": {},
   "source": [
    "## step 4 (4 model combinations)"
   ]
  },
  {
   "cell_type": "code",
   "execution_count": null,
   "metadata": {
    "collapsed": true,
    "jupyter": {
     "outputs_hidden": true,
     "source_hidden": true
    },
    "tags": []
   },
   "outputs": [
    {
     "name": "stdout",
     "output_type": "stream",
     "text": [
      "['SVC', 'SVC2', 'LogisticRegression', 'GaussianNB', 'XGBClassifier', 'KNeighborsClassifier', 'QuadraticDiscriminantAnalysis']\n",
      "['MLPClassifier', 'RandomForestClassifier', 'LogisticRegression2', 'GaussianNB2', 'SVC3', 'SVC4']\n",
      "dict {'SVC': SVC(probability=True), 'SVC2': SVC(kernel='linear', probability=True), 'LogisticRegression': LogisticRegression(max_iter=700), 'GaussianNB': GaussianNB(), 'XGBClassifier': XGBClassifier(base_score=None, booster=None, callbacks=None,\n",
      "              colsample_bylevel=None, colsample_bynode=None,\n",
      "              colsample_bytree=None, device=None, early_stopping_rounds=None,\n",
      "              enable_categorical=False, eval_metric='logloss',\n",
      "              feature_types=None, gamma=None, grow_policy=None,\n",
      "              importance_type=None, interaction_constraints=None,\n",
      "              learning_rate=None, max_bin=None, max_cat_threshold=None,\n",
      "              max_cat_to_onehot=None, max_delta_step=None, max_depth=None,\n",
      "              max_leaves=None, min_child_weight=None, missing=nan,\n",
      "              monotone_constraints=None, multi_strategy=None, n_estimators=300,\n",
      "              n_jobs=None, num_parallel_tree=None, random_state=None, ...), 'KNeighborsClassifier': KNeighborsClassifier(), 'QuadraticDiscriminantAnalysis': QuadraticDiscriminantAnalysis(reg_param=1.0, store_covariance=True, tol=0.0)}\n",
      "dict {'MLPClassifier': MLPClassifier(batch_size=8, hidden_layer_sizes=(100, 100), max_iter=210), 'RandomForestClassifier': RandomForestClassifier(), 'LogisticRegression2': LogisticRegression(max_iter=700), 'GaussianNB2': GaussianNB(), 'SVC3': SVC(probability=True), 'SVC4': SVC(kernel='linear', probability=True)}\n",
      "Model Pair: SVC + SVC + LogisticRegression + GaussianNB\n",
      "USEDmodelnames ['SVC', 'SVC2', 'LogisticRegression', 'GaussianNB']\n",
      "Running with: SVC and SVC and LogisticRegression and GaussianNB\n",
      "Random state: 0\n",
      "['SVC', 'SVC2', 'LogisticRegression', 'GaussianNB']\n",
      "individual models\n",
      "cv\n",
      "individual models\n",
      "cv\n",
      "individual models\n",
      "cv\n",
      "individual models\n",
      "cv\n",
      "individual models\n",
      "cv\n",
      "individual models\n",
      "cv\n",
      "individual models\n",
      "cv\n",
      "individual models\n",
      "cv\n",
      "individual models\n",
      "cv\n",
      "individual models\n",
      "cv\n",
      "individual models\n",
      "cv\n",
      "individual models\n",
      "cv\n",
      "individual models\n",
      "cv\n",
      "individual models\n",
      "cv\n",
      "individual models\n",
      "cv\n",
      "individual models\n",
      "cv\n",
      "individual models\n",
      "cv\n",
      "individual models\n",
      "cv\n",
      "individual models\n",
      "cv\n",
      "individual models\n",
      "cv\n",
      "individual models\n",
      "cv\n",
      "individual models\n",
      "cv\n",
      "individual models\n",
      "cv\n",
      "individual models\n",
      "cv\n",
      "individual models\n",
      "cv\n",
      "individual models\n",
      "cv\n",
      "individual models\n",
      "cv\n",
      "individual models\n",
      "cv\n",
      "individual models\n",
      "cv\n",
      "individual models\n",
      "cv\n",
      "individual models\n",
      "cv\n",
      "individual models\n",
      "cv\n",
      "individual models\n",
      "cv\n",
      "individual models\n",
      "cv\n",
      "individual models\n",
      "cv\n",
      "individual models\n",
      "cv\n",
      "individual models\n",
      "cv\n",
      "individual models\n",
      "cv\n",
      "individual models\n",
      "cv\n",
      "individual models\n",
      "cv\n",
      "individual models\n",
      "cv\n",
      "individual models\n",
      "cv\n",
      "individual models\n",
      "cv\n",
      "individual models\n",
      "cv\n",
      "individual models\n",
      "cv\n",
      "individual models\n",
      "cv\n",
      "individual models\n",
      "cv\n",
      "individual models\n",
      "cv\n",
      "individual models\n",
      "cv\n",
      "individual models\n",
      "cv\n",
      "individual models\n",
      "cv\n",
      "individual models\n",
      "cv\n",
      "individual models\n",
      "cv\n",
      "individual models\n",
      "cv\n",
      "individual models\n",
      "cv\n",
      "individual models\n",
      "cv\n",
      "individual models\n",
      "cv\n",
      "individual models\n",
      "cv\n",
      "individual models\n",
      "cv\n",
      "individual models\n",
      "cv\n",
      "individual models\n",
      "cv\n",
      "individual models\n",
      "cv\n",
      "individual models\n",
      "cv\n",
      "individual models\n",
      "cv\n",
      "individual models\n",
      "cv\n",
      "individual models\n",
      "cv\n",
      "individual models\n",
      "cv\n",
      "individual models\n",
      "cv\n",
      "individual models\n",
      "cv\n",
      "individual models\n",
      "cv\n",
      "individual models\n",
      "cv\n",
      "individual models\n",
      "cv\n",
      "individual models\n",
      "cv\n",
      "individual models\n",
      "cv\n",
      "individual models\n",
      "cv\n",
      "individual models\n",
      "cv\n",
      "individual models\n",
      "cv\n",
      "individual models\n",
      "cv\n",
      "individual models\n",
      "cv\n",
      "individual models\n",
      "cv\n",
      "individual models\n",
      "cv\n",
      "individual models\n",
      "cv\n",
      "individual models\n",
      "cv\n",
      "individual models\n",
      "cv\n",
      "individual models\n",
      "cv\n",
      "individual models\n",
      "cv\n",
      "individual models\n",
      "cv\n",
      "individual models\n",
      "cv\n",
      "individual models\n",
      "cv\n",
      "individual models\n",
      "cv\n",
      "individual models\n",
      "cv\n",
      "individual models\n",
      "cv\n",
      "individual models\n",
      "cv\n",
      "individual models\n",
      "cv\n",
      "individual models\n",
      "cv\n",
      "individual models\n",
      "cv\n",
      "\n",
      "model score of oof results for SVC\n",
      "Model Accuracy: 0.875\n",
      "Precision: 0.8798649267399267\n",
      "Recall (Sensitivity): 0.875\n",
      "F1 Score: 0.8751610313936894\n",
      "Matthews Correlation Coefficient (MCC): 0.8329181448543629\n",
      "G-Measure: 0.9162567046538834\n",
      "AUC: 0.9873495073979228\n",
      "Specificity: 0.9582719803670507\n",
      "Jaccard Index: 0.7779538993943889\n",
      "Saving metrics to: /work/wanlab/nick//stackeval0/val_data/individual models/SVC/limma(0),metrics.csv\n",
      "PREDICTIONS                   subtype  Squamous      ADEX  Pancreatic Progenitor  \\\n",
      "0   Pancreatic Progenitor  0.107197  0.037900               0.827239   \n",
      "1                    ADEX  0.039019  0.893834               0.018384   \n",
      "2   Pancreatic Progenitor  0.239833  0.212915               0.515814   \n",
      "3   Pancreatic Progenitor  0.005842  0.054026               0.888437   \n",
      "4                    ADEX  0.108736  0.719005               0.148974   \n",
      "..                    ...       ...       ...                    ...   \n",
      "91            Immunogenic  0.007022  0.058385               0.008986   \n",
      "92                   ADEX  0.012291  0.715215               0.234359   \n",
      "93            Immunogenic  0.046324  0.043462               0.368150   \n",
      "94               Squamous  0.609709  0.058682               0.297783   \n",
      "95  Pancreatic Progenitor  0.003107  0.019881               0.857744   \n",
      "\n",
      "    Immunogenic  \n",
      "0      0.027664  \n",
      "1      0.048763  \n",
      "2      0.031438  \n",
      "3      0.051695  \n",
      "4      0.023285  \n",
      "..          ...  \n",
      "91     0.925607  \n",
      "92     0.038135  \n",
      "93     0.542065  \n",
      "94     0.033827  \n",
      "95     0.119268  \n",
      "\n",
      "[96 rows x 5 columns]\n",
      "\n",
      "model score of oof results for SVC2\n",
      "Model Accuracy: 0.9270833333333334\n",
      "Precision: 0.9282457295657727\n",
      "Recall (Sensitivity): 0.9270833333333334\n",
      "F1 Score: 0.927124353652804\n",
      "Matthews Correlation Coefficient (MCC): 0.9017909960019698\n",
      "G-Measure: 0.9519085598926197\n",
      "AUC: 0.9866550629534784\n",
      "Specificity: 0.9752147353819889\n",
      "Jaccard Index: 0.8669652957336781\n",
      "Saving metrics to: /work/wanlab/nick//stackeval0/val_data/individual models/SVC2/limma(0),metrics.csv\n",
      "PREDICTIONS                   subtype  Squamous      ADEX  Pancreatic Progenitor  \\\n",
      "0   Pancreatic Progenitor  0.178692  0.041672               0.741834   \n",
      "1                    ADEX  0.068922  0.830466               0.030016   \n",
      "2   Pancreatic Progenitor  0.334642  0.152815               0.473128   \n",
      "3   Pancreatic Progenitor  0.013650  0.084023               0.844003   \n",
      "4                    ADEX  0.253644  0.448125               0.264078   \n",
      "..                    ...       ...       ...                    ...   \n",
      "91            Immunogenic  0.016778  0.085084               0.012259   \n",
      "92                   ADEX  0.022805  0.766810               0.122257   \n",
      "93            Immunogenic  0.073479  0.028226               0.667105   \n",
      "94               Squamous  0.571068  0.025741               0.385627   \n",
      "95  Pancreatic Progenitor  0.004588  0.027352               0.745015   \n",
      "\n",
      "    Immunogenic  \n",
      "0      0.037801  \n",
      "1      0.070596  \n",
      "2      0.039415  \n",
      "3      0.058325  \n",
      "4      0.034154  \n",
      "..          ...  \n",
      "91     0.885880  \n",
      "92     0.088128  \n",
      "93     0.231190  \n",
      "94     0.017564  \n",
      "95     0.223046  \n",
      "\n",
      "[96 rows x 5 columns]\n",
      "\n",
      "model score of oof results for LogisticRegression\n",
      "Model Accuracy: 0.90625\n",
      "Precision: 0.907241010904804\n",
      "Recall (Sensitivity): 0.90625\n",
      "F1 Score: 0.9063258253912099\n",
      "Matthews Correlation Coefficient (MCC): 0.8733101573111083\n",
      "G-Measure: 0.9352788514023854\n",
      "AUC: 0.987585527368758\n",
      "Specificity: 0.9681724818608621\n",
      "Jaccard Index: 0.8275341386554622\n",
      "Saving metrics to: /work/wanlab/nick//stackeval0/val_data/individual models/LogisticRegression/limma(0),metrics.csv\n",
      "PREDICTIONS                   subtype      Squamous      ADEX  Pancreatic Progenitor  \\\n",
      "0   Pancreatic Progenitor  3.032983e-03  0.000254           9.966280e-01   \n",
      "1                    ADEX  7.699082e-05  0.999117           5.511734e-06   \n",
      "2   Pancreatic Progenitor  1.733089e-01  0.021542           8.050540e-01   \n",
      "3   Pancreatic Progenitor  8.482411e-06  0.007792           9.913168e-01   \n",
      "4                    ADEX  7.132894e-02  0.852495           7.609491e-02   \n",
      "..                    ...           ...       ...                    ...   \n",
      "91            Immunogenic  5.533628e-08  0.000009           1.133365e-08   \n",
      "92                   ADEX  7.055326e-06  0.983643           1.421599e-02   \n",
      "93            Immunogenic  6.291252e-03  0.001291           8.522605e-01   \n",
      "94               Squamous  8.284744e-01  0.000136           1.713615e-01   \n",
      "95  Pancreatic Progenitor  4.285721e-09  0.000005           9.879981e-01   \n",
      "\n",
      "    Immunogenic  \n",
      "0      0.000085  \n",
      "1      0.000800  \n",
      "2      0.000095  \n",
      "3      0.000883  \n",
      "4      0.000081  \n",
      "..          ...  \n",
      "91     0.999991  \n",
      "92     0.002134  \n",
      "93     0.140158  \n",
      "94     0.000028  \n",
      "95     0.011997  \n",
      "\n",
      "[96 rows x 5 columns]\n",
      "\n",
      "model score of oof results for GaussianNB\n",
      "Model Accuracy: 0.8020833333333334\n",
      "Precision: 0.8112185846560847\n",
      "Recall (Sensitivity): 0.8020833333333334\n",
      "F1 Score: 0.7952737132588884\n",
      "Matthews Correlation Coefficient (MCC): 0.7333724224567384\n",
      "G-Measure: 0.8403667059102383\n",
      "AUC: 0.9361885803457106\n",
      "Specificity: 0.9310939500640205\n",
      "Jaccard Index: 0.648394185260311\n",
      "Saving metrics to: /work/wanlab/nick//stackeval0/val_data/individual models/GaussianNB/limma(0),metrics.csv\n",
      "PREDICTIONS                   subtype  Squamous           ADEX  Pancreatic Progenitor  \\\n",
      "0   Pancreatic Progenitor       0.0  1.482197e-323           1.000000e+00   \n",
      "1                    ADEX       0.0   1.000000e+00          1.346905e-266   \n",
      "2   Pancreatic Progenitor       0.0  6.020797e-100           1.000000e+00   \n",
      "3   Pancreatic Progenitor       0.0   0.000000e+00           1.000000e+00   \n",
      "4                    ADEX       0.0  1.694739e-118           1.000000e+00   \n",
      "..                    ...       ...            ...                    ...   \n",
      "91            Immunogenic       0.0   0.000000e+00           0.000000e+00   \n",
      "92                   ADEX       0.0   8.249520e-66           1.000000e+00   \n",
      "93            Immunogenic       0.0   0.000000e+00           7.728747e-43   \n",
      "94               Squamous       1.0   3.793719e-08           0.000000e+00   \n",
      "95  Pancreatic Progenitor       0.0   0.000000e+00           1.000000e+00   \n",
      "\n",
      "      Immunogenic  \n",
      "0    0.000000e+00  \n",
      "1   1.591372e-184  \n",
      "2    0.000000e+00  \n",
      "3    0.000000e+00  \n",
      "4   7.139117e-233  \n",
      "..            ...  \n",
      "91   1.000000e+00  \n",
      "92  1.307750e-236  \n",
      "93   1.000000e+00  \n",
      "94   0.000000e+00  \n",
      "95   0.000000e+00  \n",
      "\n",
      "[96 rows x 5 columns]\n",
      "运行时间为: 189.54 秒\n",
      "combining [[1.07197106e-001 3.78997700e-002 8.27238925e-001 ... 1.48219694e-323\n",
      "  1.00000000e+000 0.00000000e+000]\n",
      " [3.90189947e-002 8.93833817e-001 1.83839103e-002 ... 1.00000000e+000\n",
      "  1.34690507e-266 1.59137162e-184]\n",
      " [2.39832780e-001 2.12915140e-001 5.15813706e-001 ... 6.02079667e-100\n",
      "  1.00000000e+000 0.00000000e+000]\n",
      " ...\n",
      " [4.63236057e-002 4.34616454e-002 3.68149985e-001 ... 0.00000000e+000\n",
      "  7.72874690e-043 1.00000000e+000]\n",
      " [6.09709208e-001 5.86816502e-002 2.97782599e-001 ... 3.79371912e-008\n",
      "  0.00000000e+000 0.00000000e+000]\n",
      " [3.10701715e-003 1.98805867e-002 8.57744010e-001 ... 0.00000000e+000\n",
      "  1.00000000e+000 0.00000000e+000]] [[13.56018914 12.68466835 13.10243664 ...  9.53005478 11.16103308\n",
      "  11.24920229]\n",
      " [15.4259582  14.08525845 12.01110512 ...  9.45622747 11.12707631\n",
      "  11.78331935]\n",
      " [14.4756837  13.26517897 12.82291838 ...  9.65623065 11.33179862\n",
      "  11.68015036]\n",
      " ...\n",
      " [14.28976923 13.62192201 12.67277184 ...  9.32578912  9.67174085\n",
      "  11.45401981]\n",
      " [14.71684472 13.81278796 13.58508909 ... 10.31590684 12.7838795\n",
      "  11.90067493]\n",
      " [14.18823419 12.92657629 11.70868561 ...  9.88942006  9.76636631\n",
      "  12.84604452]]\n",
      "stacked\n",
      "cv\n",
      "stacked\n",
      "cv\n",
      "stacked\n",
      "cv\n",
      "stacked\n",
      "cv\n",
      "stacked\n",
      "cv\n",
      "stacked\n",
      "cv\n",
      "stacked\n",
      "cv\n",
      "stacked\n",
      "cv\n",
      "stacked\n",
      "cv\n",
      "stacked\n",
      "cv\n",
      "stacked\n",
      "cv\n",
      "stacked\n",
      "cv\n",
      "stacked\n",
      "cv\n",
      "stacked\n",
      "cv\n",
      "stacked\n",
      "cv\n",
      "stacked\n",
      "cv\n",
      "stacked\n",
      "cv\n",
      "stacked\n",
      "cv\n",
      "stacked\n",
      "cv\n",
      "stacked\n",
      "cv\n",
      "stacked\n",
      "cv\n",
      "stacked\n",
      "cv\n",
      "stacked\n",
      "cv\n",
      "stacked\n",
      "cv\n",
      "stacked\n",
      "cv\n",
      "stacked\n",
      "cv\n",
      "stacked\n",
      "cv\n",
      "stacked\n",
      "cv\n",
      "stacked\n",
      "cv\n",
      "stacked\n",
      "cv\n",
      "stacked\n",
      "cv\n",
      "stacked\n",
      "cv\n",
      "stacked\n",
      "cv\n",
      "stacked\n",
      "cv\n",
      "stacked\n",
      "cv\n",
      "stacked\n",
      "cv\n",
      "stacked\n",
      "cv\n",
      "stacked\n",
      "cv\n",
      "stacked\n",
      "cv\n",
      "stacked\n",
      "cv\n",
      "stacked\n",
      "cv\n",
      "stacked\n",
      "cv\n",
      "stacked\n",
      "cv\n",
      "stacked\n",
      "cv\n",
      "stacked\n",
      "cv\n",
      "stacked\n",
      "cv\n",
      "stacked\n",
      "cv\n",
      "stacked\n",
      "cv\n",
      "stacked\n",
      "cv\n",
      "stacked\n",
      "cv\n",
      "stacked\n",
      "cv\n",
      "stacked\n",
      "cv\n",
      "stacked\n",
      "cv\n",
      "stacked\n",
      "cv\n",
      "stacked\n",
      "cv\n",
      "stacked\n",
      "cv\n",
      "stacked\n",
      "cv\n",
      "stacked\n",
      "cv\n",
      "stacked\n",
      "cv\n",
      "stacked\n",
      "cv\n",
      "stacked\n",
      "cv\n",
      "stacked\n",
      "cv\n",
      "stacked\n",
      "cv\n",
      "stacked\n",
      "cv\n",
      "stacked\n",
      "cv\n",
      "stacked\n",
      "cv\n",
      "stacked\n",
      "cv\n",
      "stacked\n",
      "cv\n",
      "stacked\n",
      "cv\n",
      "stacked\n",
      "cv\n",
      "stacked\n",
      "cv\n",
      "stacked\n",
      "cv\n",
      "stacked\n",
      "cv\n",
      "stacked\n",
      "cv\n",
      "stacked\n",
      "cv\n",
      "stacked\n",
      "cv\n",
      "stacked\n",
      "cv\n",
      "stacked\n",
      "cv\n",
      "stacked\n",
      "cv\n",
      "stacked\n",
      "cv\n",
      "stacked\n",
      "cv\n",
      "stacked\n",
      "cv\n",
      "stacked\n",
      "cv\n",
      "stacked\n",
      "cv\n",
      "stacked\n",
      "cv\n",
      "stacked\n",
      "cv\n",
      "stacked\n",
      "cv\n",
      "stacked\n",
      "cv\n",
      "stacked\n",
      "cv\n",
      "stacked\n",
      "cv\n",
      "stacked\n",
      "cv\n",
      "stacked\n",
      "cv\n",
      "stacked\n",
      "cv\n",
      "stacked\n",
      "cv\n",
      "stacked\n",
      "cv\n",
      "stacked\n",
      "cv\n",
      "\n",
      "model score of oof results for MLPClassifier\n",
      "Model Accuracy: 0.6458333333333334\n",
      "Precision: 0.6467389297530427\n",
      "Recall (Sensitivity): 0.6458333333333334\n",
      "F1 Score: 0.6445935755617775\n",
      "Matthews Correlation Coefficient (MCC): 0.5192180355650061\n",
      "G-Measure: 0.7442934800405746\n",
      "AUC: 0.8331717816367905\n",
      "Specificity: 0.8787945475885617\n",
      "Jaccard Index: 0.4736219769228021\n",
      "Saving metrics to: /work/wanlab/nick//stackeval0/val_data/stacked/MLPClassifier/limma(0),metrics.csv\n",
      "PREDICTIONS                   subtype      Squamous          ADEX  Pancreatic Progenitor  \\\n",
      "0             Immunogenic  1.280358e-06  1.670898e-04           2.262190e-08   \n",
      "1                    ADEX  5.898546e-02  1.703078e-01           7.670571e-01   \n",
      "2   Pancreatic Progenitor  4.762307e-07  3.158643e-03           9.717335e-01   \n",
      "3   Pancreatic Progenitor  1.935418e-04  6.753874e-02           8.441232e-01   \n",
      "4   Pancreatic Progenitor  4.850997e-01  5.148846e-01           1.240735e-06   \n",
      "..                    ...           ...           ...                    ...   \n",
      "91                   ADEX  1.111827e-01  1.687973e-06           8.880595e-01   \n",
      "92               Squamous  9.995285e-01  1.244266e-16           2.021740e-16   \n",
      "93                   ADEX  2.746987e-01  5.459421e-01           1.793591e-01   \n",
      "94  Pancreatic Progenitor  2.039165e-05  6.637898e-01           3.351792e-01   \n",
      "95               Squamous  2.386176e-01  1.945790e-01           2.607448e-01   \n",
      "\n",
      "     Immunogenic  \n",
      "0   9.998316e-01  \n",
      "1   3.649593e-03  \n",
      "2   2.510736e-02  \n",
      "3   8.814447e-02  \n",
      "4   1.448885e-05  \n",
      "..           ...  \n",
      "91  7.561216e-04  \n",
      "92  4.715074e-04  \n",
      "93  8.571575e-08  \n",
      "94  1.010562e-03  \n",
      "95  3.060587e-01  \n",
      "\n",
      "[96 rows x 5 columns]\n",
      "\n",
      "model score of oof results for RandomForestClassifier\n",
      "Model Accuracy: 0.84375\n",
      "Precision: 0.851362345827659\n",
      "Recall (Sensitivity): 0.84375\n",
      "F1 Score: 0.8410152610354064\n",
      "Matthews Correlation Coefficient (MCC): 0.7897436025346731\n",
      "G-Measure: 0.877716998941148\n",
      "AUC: 0.9831228493117798\n",
      "Specificity: 0.9457119611609048\n",
      "Jaccard Index: 0.7156023670729553\n",
      "Saving metrics to: /work/wanlab/nick//stackeval0/val_data/stacked/RandomForestClassifier/limma(0),metrics.csv\n",
      "PREDICTIONS                   subtype  Squamous  ADEX  Pancreatic Progenitor  Immunogenic\n",
      "0             Immunogenic      0.07  0.03                   0.05         0.85\n",
      "1                    ADEX      0.17  0.37                   0.39         0.07\n",
      "2   Pancreatic Progenitor      0.04  0.14                   0.40         0.42\n",
      "3   Pancreatic Progenitor      0.08  0.08                   0.78         0.06\n",
      "4   Pancreatic Progenitor      0.07  0.11                   0.78         0.04\n",
      "..                    ...       ...   ...                    ...          ...\n",
      "91                   ADEX      0.05  0.45                   0.20         0.30\n",
      "92               Squamous      0.88  0.03                   0.03         0.06\n",
      "93                   ADEX      0.16  0.45                   0.31         0.08\n",
      "94  Pancreatic Progenitor      0.01  0.57                   0.31         0.11\n",
      "95               Squamous      0.41  0.29                   0.23         0.07\n",
      "\n",
      "[96 rows x 5 columns]\n",
      "\n",
      "model score of oof results for LogisticRegression2\n",
      "Model Accuracy: 0.90625\n",
      "Precision: 0.907241010904804\n",
      "Recall (Sensitivity): 0.90625\n",
      "F1 Score: 0.9063258253912099\n",
      "Matthews Correlation Coefficient (MCC): 0.8733101573111083\n",
      "G-Measure: 0.9352788514023854\n",
      "AUC: 0.987585527368758\n",
      "Specificity: 0.9681724818608621\n",
      "Jaccard Index: 0.8275341386554622\n",
      "Saving metrics to: /work/wanlab/nick//stackeval0/val_data/stacked/LogisticRegression2/limma(0),metrics.csv\n",
      "PREDICTIONS                   subtype      Squamous          ADEX  Pancreatic Progenitor  \\\n",
      "0             Immunogenic  3.635761e-09  9.882554e-10           2.268806e-10   \n",
      "1                    ADEX  1.170426e-04  8.843326e-01           1.143879e-01   \n",
      "2   Pancreatic Progenitor  4.259642e-09  4.516614e-06           9.880979e-01   \n",
      "3   Pancreatic Progenitor  8.446742e-06  7.698450e-03           9.914191e-01   \n",
      "4   Pancreatic Progenitor  4.406633e-05  5.493931e-04           9.994064e-01   \n",
      "..                    ...           ...           ...                    ...   \n",
      "91                   ADEX  3.304233e-07  9.374428e-01           2.244034e-02   \n",
      "92               Squamous  1.000000e+00  9.041814e-13           4.610717e-13   \n",
      "93                   ADEX  2.187262e-04  9.824226e-01           1.733093e-02   \n",
      "94  Pancreatic Progenitor  1.813115e-07  6.670870e-01           3.316260e-01   \n",
      "95               Squamous  6.533366e-01  3.247159e-01           2.193076e-02   \n",
      "\n",
      "     Immunogenic  \n",
      "0   1.000000e+00  \n",
      "1   1.162425e-03  \n",
      "2   1.189758e-02  \n",
      "3   8.739562e-04  \n",
      "4   9.292788e-08  \n",
      "..           ...  \n",
      "91  4.011658e-02  \n",
      "92  5.486477e-09  \n",
      "93  2.776455e-05  \n",
      "94  1.286850e-03  \n",
      "95  1.676234e-05  \n",
      "\n",
      "[96 rows x 5 columns]\n",
      "\n",
      "model score of oof results for GaussianNB2\n",
      "Model Accuracy: 0.7916666666666666\n",
      "Precision: 0.7900940970793912\n",
      "Recall (Sensitivity): 0.7916666666666666\n",
      "F1 Score: 0.7863292597131445\n",
      "Matthews Correlation Coefficient (MCC): 0.7176375216290142\n",
      "G-Measure: 0.835917548914833\n",
      "AUC: 0.905438740396927\n",
      "Specificity: 0.9283650768245839\n",
      "Jaccard Index: 0.6362092233235609\n",
      "Saving metrics to: /work/wanlab/nick//stackeval0/val_data/stacked/GaussianNB2/limma(0),metrics.csv\n",
      "PREDICTIONS                   subtype      Squamous          ADEX  Pancreatic Progenitor  \\\n",
      "0             Immunogenic  0.000000e+00  0.000000e+00           0.000000e+00   \n",
      "1                    ADEX  0.000000e+00  1.000000e+00           0.000000e+00   \n",
      "2   Pancreatic Progenitor  0.000000e+00  0.000000e+00           1.000000e+00   \n",
      "3   Pancreatic Progenitor  0.000000e+00  0.000000e+00           1.000000e+00   \n",
      "4   Pancreatic Progenitor  0.000000e+00  0.000000e+00           1.000000e+00   \n",
      "..                    ...           ...           ...                    ...   \n",
      "91                   ADEX  0.000000e+00  0.000000e+00           1.000000e+00   \n",
      "92               Squamous  1.000000e+00  0.000000e+00           0.000000e+00   \n",
      "93                   ADEX  0.000000e+00  1.959199e-54           1.000000e+00   \n",
      "94  Pancreatic Progenitor  0.000000e+00  1.000000e+00           0.000000e+00   \n",
      "95               Squamous  5.086260e-39  1.000000e+00          4.494780e-175   \n",
      "\n",
      "    Immunogenic  \n",
      "0           1.0  \n",
      "1           0.0  \n",
      "2           0.0  \n",
      "3           0.0  \n",
      "4           0.0  \n",
      "..          ...  \n",
      "91          0.0  \n",
      "92          0.0  \n",
      "93          0.0  \n",
      "94          0.0  \n",
      "95          0.0  \n",
      "\n",
      "[96 rows x 5 columns]\n",
      "\n",
      "model score of oof results for SVC3\n",
      "Model Accuracy: 0.8854166666666666\n",
      "Precision: 0.8957641549595573\n",
      "Recall (Sensitivity): 0.8854166666666666\n",
      "F1 Score: 0.8864625890835569\n",
      "Matthews Correlation Coefficient (MCC): 0.8481556746300509\n",
      "G-Measure: 0.9228839801674216\n",
      "AUC: 0.9893987742744343\n",
      "Specificity: 0.9616637323943662\n",
      "Jaccard Index: 0.7975490196078432\n",
      "Saving metrics to: /work/wanlab/nick//stackeval0/val_data/stacked/SVC3/limma(0),metrics.csv\n",
      "PREDICTIONS                   subtype  Squamous      ADEX  Pancreatic Progenitor  \\\n",
      "0             Immunogenic  0.003952  0.002296               0.000961   \n",
      "1                    ADEX  0.018475  0.878485               0.075659   \n",
      "2   Pancreatic Progenitor  0.001502  0.020505               0.857045   \n",
      "3   Pancreatic Progenitor  0.008458  0.083454               0.860310   \n",
      "4   Pancreatic Progenitor  0.026318  0.080909               0.887450   \n",
      "..                    ...       ...       ...                    ...   \n",
      "91                   ADEX  0.006894  0.702882               0.061405   \n",
      "92               Squamous  0.995070  0.000670               0.000178   \n",
      "93                   ADEX  0.072956  0.714802               0.186807   \n",
      "94  Pancreatic Progenitor  0.004044  0.708825               0.257288   \n",
      "95               Squamous  0.397098  0.394718               0.191459   \n",
      "\n",
      "    Immunogenic  \n",
      "0      0.992791  \n",
      "1      0.027381  \n",
      "2      0.120949  \n",
      "3      0.047779  \n",
      "4      0.005323  \n",
      "..          ...  \n",
      "91     0.228819  \n",
      "92     0.004083  \n",
      "93     0.025436  \n",
      "94     0.029842  \n",
      "95     0.016725  \n",
      "\n",
      "[96 rows x 5 columns]\n",
      "\n",
      "model score of oof results for SVC4\n",
      "Model Accuracy: 0.9270833333333334\n",
      "Precision: 0.9282457295657727\n",
      "Recall (Sensitivity): 0.9270833333333334\n",
      "F1 Score: 0.927124353652804\n",
      "Matthews Correlation Coefficient (MCC): 0.9017909960019698\n",
      "G-Measure: 0.9519085598926197\n",
      "AUC: 0.9851764786954047\n",
      "Specificity: 0.9752147353819889\n",
      "Jaccard Index: 0.8669652957336781\n",
      "Saving metrics to: /work/wanlab/nick//stackeval0/val_data/stacked/SVC4/limma(0),metrics.csv\n",
      "PREDICTIONS                   subtype  Squamous      ADEX  Pancreatic Progenitor  \\\n",
      "0             Immunogenic  0.003878  0.001221               0.001213   \n",
      "1                    ADEX  0.041303  0.543632               0.370692   \n",
      "2   Pancreatic Progenitor  0.003474  0.024930               0.775194   \n",
      "3   Pancreatic Progenitor  0.013813  0.079451               0.853336   \n",
      "4   Pancreatic Progenitor  0.045391  0.071466               0.876065   \n",
      "..                    ...       ...       ...                    ...   \n",
      "91                   ADEX  0.012885  0.680804               0.123687   \n",
      "92               Squamous  0.994948  0.000091               0.000147   \n",
      "93                   ADEX  0.049130  0.764614               0.154891   \n",
      "94  Pancreatic Progenitor  0.007835  0.692056               0.262420   \n",
      "95               Squamous  0.397143  0.389457               0.186229   \n",
      "\n",
      "    Immunogenic  \n",
      "0      0.993689  \n",
      "1      0.044372  \n",
      "2      0.196401  \n",
      "3      0.053399  \n",
      "4      0.007078  \n",
      "..          ...  \n",
      "91     0.182624  \n",
      "92     0.004813  \n",
      "93     0.031365  \n",
      "94     0.037688  \n",
      "95     0.027171  \n",
      "\n",
      "[96 rows x 5 columns]\n",
      "run 1\n",
      "Model Pair: SVC + SVC + LogisticRegression + XGBClassifier\n",
      "USEDmodelnames ['SVC', 'SVC2', 'LogisticRegression', 'XGBClassifier']\n",
      "Running with: SVC and SVC and LogisticRegression and XGBClassifier\n",
      "Random state: 0\n",
      "['SVC', 'SVC2', 'LogisticRegression', 'XGBClassifier']\n",
      "individual models\n"
     ]
    },
    {
     "name": "stderr",
     "output_type": "stream",
     "text": [
      "/home/wanlab/nick/.local/lib/python3.8/site-packages/xgboost/core.py:158: UserWarning: [09:21:24] WARNING: /workspace/src/learner.cc:740: \n",
      "Parameters: { \"use_label_encoder\" } are not used.\n",
      "\n",
      "  warnings.warn(smsg, UserWarning)\n"
     ]
    },
    {
     "name": "stdout",
     "output_type": "stream",
     "text": [
      "cv\n",
      "individual models\n"
     ]
    },
    {
     "name": "stderr",
     "output_type": "stream",
     "text": [
      "/home/wanlab/nick/.local/lib/python3.8/site-packages/xgboost/core.py:158: UserWarning: [09:21:38] WARNING: /workspace/src/learner.cc:740: \n",
      "Parameters: { \"use_label_encoder\" } are not used.\n",
      "\n",
      "  warnings.warn(smsg, UserWarning)\n"
     ]
    },
    {
     "name": "stdout",
     "output_type": "stream",
     "text": [
      "cv\n",
      "individual models\n"
     ]
    },
    {
     "name": "stderr",
     "output_type": "stream",
     "text": [
      "/home/wanlab/nick/.local/lib/python3.8/site-packages/xgboost/core.py:158: UserWarning: [09:21:52] WARNING: /workspace/src/learner.cc:740: \n",
      "Parameters: { \"use_label_encoder\" } are not used.\n",
      "\n",
      "  warnings.warn(smsg, UserWarning)\n"
     ]
    },
    {
     "name": "stdout",
     "output_type": "stream",
     "text": [
      "cv\n",
      "individual models\n"
     ]
    },
    {
     "name": "stderr",
     "output_type": "stream",
     "text": [
      "/home/wanlab/nick/.local/lib/python3.8/site-packages/xgboost/core.py:158: UserWarning: [09:22:05] WARNING: /workspace/src/learner.cc:740: \n",
      "Parameters: { \"use_label_encoder\" } are not used.\n",
      "\n",
      "  warnings.warn(smsg, UserWarning)\n"
     ]
    },
    {
     "name": "stdout",
     "output_type": "stream",
     "text": [
      "cv\n",
      "individual models\n"
     ]
    },
    {
     "name": "stderr",
     "output_type": "stream",
     "text": [
      "/home/wanlab/nick/.local/lib/python3.8/site-packages/xgboost/core.py:158: UserWarning: [09:22:19] WARNING: /workspace/src/learner.cc:740: \n",
      "Parameters: { \"use_label_encoder\" } are not used.\n",
      "\n",
      "  warnings.warn(smsg, UserWarning)\n"
     ]
    },
    {
     "name": "stdout",
     "output_type": "stream",
     "text": [
      "cv\n",
      "individual models\n"
     ]
    },
    {
     "name": "stderr",
     "output_type": "stream",
     "text": [
      "/home/wanlab/nick/.local/lib/python3.8/site-packages/xgboost/core.py:158: UserWarning: [09:22:33] WARNING: /workspace/src/learner.cc:740: \n",
      "Parameters: { \"use_label_encoder\" } are not used.\n",
      "\n",
      "  warnings.warn(smsg, UserWarning)\n"
     ]
    },
    {
     "name": "stdout",
     "output_type": "stream",
     "text": [
      "cv\n",
      "individual models\n"
     ]
    },
    {
     "name": "stderr",
     "output_type": "stream",
     "text": [
      "/home/wanlab/nick/.local/lib/python3.8/site-packages/xgboost/core.py:158: UserWarning: [09:22:47] WARNING: /workspace/src/learner.cc:740: \n",
      "Parameters: { \"use_label_encoder\" } are not used.\n",
      "\n",
      "  warnings.warn(smsg, UserWarning)\n"
     ]
    },
    {
     "name": "stdout",
     "output_type": "stream",
     "text": [
      "cv\n",
      "individual models\n"
     ]
    },
    {
     "name": "stderr",
     "output_type": "stream",
     "text": [
      "/home/wanlab/nick/.local/lib/python3.8/site-packages/xgboost/core.py:158: UserWarning: [09:23:01] WARNING: /workspace/src/learner.cc:740: \n",
      "Parameters: { \"use_label_encoder\" } are not used.\n",
      "\n",
      "  warnings.warn(smsg, UserWarning)\n"
     ]
    },
    {
     "name": "stdout",
     "output_type": "stream",
     "text": [
      "cv\n",
      "individual models\n"
     ]
    },
    {
     "name": "stderr",
     "output_type": "stream",
     "text": [
      "/home/wanlab/nick/.local/lib/python3.8/site-packages/xgboost/core.py:158: UserWarning: [09:23:14] WARNING: /workspace/src/learner.cc:740: \n",
      "Parameters: { \"use_label_encoder\" } are not used.\n",
      "\n",
      "  warnings.warn(smsg, UserWarning)\n"
     ]
    },
    {
     "name": "stdout",
     "output_type": "stream",
     "text": [
      "cv\n",
      "individual models\n"
     ]
    },
    {
     "name": "stderr",
     "output_type": "stream",
     "text": [
      "/home/wanlab/nick/.local/lib/python3.8/site-packages/xgboost/core.py:158: UserWarning: [09:23:27] WARNING: /workspace/src/learner.cc:740: \n",
      "Parameters: { \"use_label_encoder\" } are not used.\n",
      "\n",
      "  warnings.warn(smsg, UserWarning)\n"
     ]
    },
    {
     "name": "stdout",
     "output_type": "stream",
     "text": [
      "cv\n",
      "individual models\n"
     ]
    },
    {
     "name": "stderr",
     "output_type": "stream",
     "text": [
      "/home/wanlab/nick/.local/lib/python3.8/site-packages/xgboost/core.py:158: UserWarning: [09:23:41] WARNING: /workspace/src/learner.cc:740: \n",
      "Parameters: { \"use_label_encoder\" } are not used.\n",
      "\n",
      "  warnings.warn(smsg, UserWarning)\n"
     ]
    },
    {
     "name": "stdout",
     "output_type": "stream",
     "text": [
      "cv\n",
      "individual models\n"
     ]
    },
    {
     "name": "stderr",
     "output_type": "stream",
     "text": [
      "/home/wanlab/nick/.local/lib/python3.8/site-packages/xgboost/core.py:158: UserWarning: [09:23:56] WARNING: /workspace/src/learner.cc:740: \n",
      "Parameters: { \"use_label_encoder\" } are not used.\n",
      "\n",
      "  warnings.warn(smsg, UserWarning)\n"
     ]
    },
    {
     "name": "stdout",
     "output_type": "stream",
     "text": [
      "cv\n",
      "individual models\n"
     ]
    },
    {
     "name": "stderr",
     "output_type": "stream",
     "text": [
      "/home/wanlab/nick/.local/lib/python3.8/site-packages/xgboost/core.py:158: UserWarning: [09:24:10] WARNING: /workspace/src/learner.cc:740: \n",
      "Parameters: { \"use_label_encoder\" } are not used.\n",
      "\n",
      "  warnings.warn(smsg, UserWarning)\n"
     ]
    },
    {
     "name": "stdout",
     "output_type": "stream",
     "text": [
      "cv\n",
      "individual models\n"
     ]
    },
    {
     "name": "stderr",
     "output_type": "stream",
     "text": [
      "/home/wanlab/nick/.local/lib/python3.8/site-packages/xgboost/core.py:158: UserWarning: [09:24:24] WARNING: /workspace/src/learner.cc:740: \n",
      "Parameters: { \"use_label_encoder\" } are not used.\n",
      "\n",
      "  warnings.warn(smsg, UserWarning)\n"
     ]
    },
    {
     "name": "stdout",
     "output_type": "stream",
     "text": [
      "cv\n",
      "individual models\n"
     ]
    },
    {
     "name": "stderr",
     "output_type": "stream",
     "text": [
      "/home/wanlab/nick/.local/lib/python3.8/site-packages/xgboost/core.py:158: UserWarning: [09:24:37] WARNING: /workspace/src/learner.cc:740: \n",
      "Parameters: { \"use_label_encoder\" } are not used.\n",
      "\n",
      "  warnings.warn(smsg, UserWarning)\n"
     ]
    },
    {
     "name": "stdout",
     "output_type": "stream",
     "text": [
      "cv\n",
      "individual models\n"
     ]
    },
    {
     "name": "stderr",
     "output_type": "stream",
     "text": [
      "/home/wanlab/nick/.local/lib/python3.8/site-packages/xgboost/core.py:158: UserWarning: [09:24:52] WARNING: /workspace/src/learner.cc:740: \n",
      "Parameters: { \"use_label_encoder\" } are not used.\n",
      "\n",
      "  warnings.warn(smsg, UserWarning)\n"
     ]
    },
    {
     "name": "stdout",
     "output_type": "stream",
     "text": [
      "cv\n",
      "individual models\n"
     ]
    },
    {
     "name": "stderr",
     "output_type": "stream",
     "text": [
      "/home/wanlab/nick/.local/lib/python3.8/site-packages/xgboost/core.py:158: UserWarning: [09:25:06] WARNING: /workspace/src/learner.cc:740: \n",
      "Parameters: { \"use_label_encoder\" } are not used.\n",
      "\n",
      "  warnings.warn(smsg, UserWarning)\n"
     ]
    },
    {
     "name": "stdout",
     "output_type": "stream",
     "text": [
      "cv\n",
      "individual models\n"
     ]
    },
    {
     "name": "stderr",
     "output_type": "stream",
     "text": [
      "/home/wanlab/nick/.local/lib/python3.8/site-packages/xgboost/core.py:158: UserWarning: [09:25:20] WARNING: /workspace/src/learner.cc:740: \n",
      "Parameters: { \"use_label_encoder\" } are not used.\n",
      "\n",
      "  warnings.warn(smsg, UserWarning)\n"
     ]
    },
    {
     "name": "stdout",
     "output_type": "stream",
     "text": [
      "cv\n",
      "individual models\n"
     ]
    },
    {
     "name": "stderr",
     "output_type": "stream",
     "text": [
      "/home/wanlab/nick/.local/lib/python3.8/site-packages/xgboost/core.py:158: UserWarning: [09:25:34] WARNING: /workspace/src/learner.cc:740: \n",
      "Parameters: { \"use_label_encoder\" } are not used.\n",
      "\n",
      "  warnings.warn(smsg, UserWarning)\n"
     ]
    },
    {
     "name": "stdout",
     "output_type": "stream",
     "text": [
      "cv\n",
      "individual models\n",
      "cv\n",
      "individual models\n"
     ]
    },
    {
     "name": "stderr",
     "output_type": "stream",
     "text": [
      "/home/wanlab/nick/.local/lib/python3.8/site-packages/xgboost/core.py:158: UserWarning: [09:27:56] WARNING: /workspace/src/learner.cc:740: \n",
      "Parameters: { \"use_label_encoder\" } are not used.\n",
      "\n",
      "  warnings.warn(smsg, UserWarning)\n"
     ]
    },
    {
     "name": "stdout",
     "output_type": "stream",
     "text": [
      "cv\n",
      "individual models\n"
     ]
    },
    {
     "name": "stderr",
     "output_type": "stream",
     "text": [
      "/home/wanlab/nick/.local/lib/python3.8/site-packages/xgboost/core.py:158: UserWarning: [09:28:10] WARNING: /workspace/src/learner.cc:740: \n",
      "Parameters: { \"use_label_encoder\" } are not used.\n",
      "\n",
      "  warnings.warn(smsg, UserWarning)\n"
     ]
    },
    {
     "name": "stdout",
     "output_type": "stream",
     "text": [
      "cv\n",
      "individual models\n"
     ]
    },
    {
     "name": "stderr",
     "output_type": "stream",
     "text": [
      "/home/wanlab/nick/.local/lib/python3.8/site-packages/xgboost/core.py:158: UserWarning: [09:28:24] WARNING: /workspace/src/learner.cc:740: \n",
      "Parameters: { \"use_label_encoder\" } are not used.\n",
      "\n",
      "  warnings.warn(smsg, UserWarning)\n"
     ]
    },
    {
     "name": "stdout",
     "output_type": "stream",
     "text": [
      "cv\n",
      "individual models\n"
     ]
    },
    {
     "name": "stderr",
     "output_type": "stream",
     "text": [
      "/home/wanlab/nick/.local/lib/python3.8/site-packages/xgboost/core.py:158: UserWarning: [09:28:38] WARNING: /workspace/src/learner.cc:740: \n",
      "Parameters: { \"use_label_encoder\" } are not used.\n",
      "\n",
      "  warnings.warn(smsg, UserWarning)\n"
     ]
    },
    {
     "name": "stdout",
     "output_type": "stream",
     "text": [
      "cv\n",
      "individual models\n"
     ]
    },
    {
     "name": "stderr",
     "output_type": "stream",
     "text": [
      "/home/wanlab/nick/.local/lib/python3.8/site-packages/xgboost/core.py:158: UserWarning: [09:28:52] WARNING: /workspace/src/learner.cc:740: \n",
      "Parameters: { \"use_label_encoder\" } are not used.\n",
      "\n",
      "  warnings.warn(smsg, UserWarning)\n"
     ]
    },
    {
     "name": "stdout",
     "output_type": "stream",
     "text": [
      "cv\n",
      "individual models\n"
     ]
    },
    {
     "name": "stderr",
     "output_type": "stream",
     "text": [
      "/home/wanlab/nick/.local/lib/python3.8/site-packages/xgboost/core.py:158: UserWarning: [09:29:06] WARNING: /workspace/src/learner.cc:740: \n",
      "Parameters: { \"use_label_encoder\" } are not used.\n",
      "\n",
      "  warnings.warn(smsg, UserWarning)\n"
     ]
    },
    {
     "name": "stdout",
     "output_type": "stream",
     "text": [
      "cv\n",
      "individual models\n"
     ]
    },
    {
     "name": "stderr",
     "output_type": "stream",
     "text": [
      "/home/wanlab/nick/.local/lib/python3.8/site-packages/xgboost/core.py:158: UserWarning: [09:29:20] WARNING: /workspace/src/learner.cc:740: \n",
      "Parameters: { \"use_label_encoder\" } are not used.\n",
      "\n",
      "  warnings.warn(smsg, UserWarning)\n"
     ]
    },
    {
     "name": "stdout",
     "output_type": "stream",
     "text": [
      "cv\n",
      "individual models\n"
     ]
    },
    {
     "name": "stderr",
     "output_type": "stream",
     "text": [
      "/home/wanlab/nick/.local/lib/python3.8/site-packages/xgboost/core.py:158: UserWarning: [09:29:34] WARNING: /workspace/src/learner.cc:740: \n",
      "Parameters: { \"use_label_encoder\" } are not used.\n",
      "\n",
      "  warnings.warn(smsg, UserWarning)\n"
     ]
    },
    {
     "name": "stdout",
     "output_type": "stream",
     "text": [
      "cv\n",
      "individual models\n"
     ]
    },
    {
     "name": "stderr",
     "output_type": "stream",
     "text": [
      "/home/wanlab/nick/.local/lib/python3.8/site-packages/xgboost/core.py:158: UserWarning: [09:29:48] WARNING: /workspace/src/learner.cc:740: \n",
      "Parameters: { \"use_label_encoder\" } are not used.\n",
      "\n",
      "  warnings.warn(smsg, UserWarning)\n"
     ]
    },
    {
     "name": "stdout",
     "output_type": "stream",
     "text": [
      "cv\n",
      "individual models\n"
     ]
    },
    {
     "name": "stderr",
     "output_type": "stream",
     "text": [
      "/home/wanlab/nick/.local/lib/python3.8/site-packages/xgboost/core.py:158: UserWarning: [09:30:02] WARNING: /workspace/src/learner.cc:740: \n",
      "Parameters: { \"use_label_encoder\" } are not used.\n",
      "\n",
      "  warnings.warn(smsg, UserWarning)\n"
     ]
    },
    {
     "name": "stdout",
     "output_type": "stream",
     "text": [
      "cv\n",
      "individual models\n"
     ]
    },
    {
     "name": "stderr",
     "output_type": "stream",
     "text": [
      "/home/wanlab/nick/.local/lib/python3.8/site-packages/xgboost/core.py:158: UserWarning: [09:30:16] WARNING: /workspace/src/learner.cc:740: \n",
      "Parameters: { \"use_label_encoder\" } are not used.\n",
      "\n",
      "  warnings.warn(smsg, UserWarning)\n"
     ]
    },
    {
     "name": "stdout",
     "output_type": "stream",
     "text": [
      "cv\n",
      "individual models\n"
     ]
    },
    {
     "name": "stderr",
     "output_type": "stream",
     "text": [
      "/home/wanlab/nick/.local/lib/python3.8/site-packages/xgboost/core.py:158: UserWarning: [09:30:31] WARNING: /workspace/src/learner.cc:740: \n",
      "Parameters: { \"use_label_encoder\" } are not used.\n",
      "\n",
      "  warnings.warn(smsg, UserWarning)\n"
     ]
    },
    {
     "name": "stdout",
     "output_type": "stream",
     "text": [
      "cv\n",
      "individual models\n"
     ]
    },
    {
     "name": "stderr",
     "output_type": "stream",
     "text": [
      "/home/wanlab/nick/.local/lib/python3.8/site-packages/xgboost/core.py:158: UserWarning: [09:30:48] WARNING: /workspace/src/learner.cc:740: \n",
      "Parameters: { \"use_label_encoder\" } are not used.\n",
      "\n",
      "  warnings.warn(smsg, UserWarning)\n"
     ]
    },
    {
     "name": "stdout",
     "output_type": "stream",
     "text": [
      "cv\n",
      "individual models\n"
     ]
    },
    {
     "name": "stderr",
     "output_type": "stream",
     "text": [
      "/home/wanlab/nick/.local/lib/python3.8/site-packages/xgboost/core.py:158: UserWarning: [09:31:01] WARNING: /workspace/src/learner.cc:740: \n",
      "Parameters: { \"use_label_encoder\" } are not used.\n",
      "\n",
      "  warnings.warn(smsg, UserWarning)\n"
     ]
    },
    {
     "name": "stdout",
     "output_type": "stream",
     "text": [
      "cv\n",
      "individual models\n"
     ]
    },
    {
     "name": "stderr",
     "output_type": "stream",
     "text": [
      "/home/wanlab/nick/.local/lib/python3.8/site-packages/xgboost/core.py:158: UserWarning: [09:31:15] WARNING: /workspace/src/learner.cc:740: \n",
      "Parameters: { \"use_label_encoder\" } are not used.\n",
      "\n",
      "  warnings.warn(smsg, UserWarning)\n"
     ]
    },
    {
     "name": "stdout",
     "output_type": "stream",
     "text": [
      "cv\n",
      "individual models\n"
     ]
    },
    {
     "name": "stderr",
     "output_type": "stream",
     "text": [
      "/home/wanlab/nick/.local/lib/python3.8/site-packages/xgboost/core.py:158: UserWarning: [09:31:28] WARNING: /workspace/src/learner.cc:740: \n",
      "Parameters: { \"use_label_encoder\" } are not used.\n",
      "\n",
      "  warnings.warn(smsg, UserWarning)\n"
     ]
    },
    {
     "name": "stdout",
     "output_type": "stream",
     "text": [
      "cv\n",
      "individual models\n"
     ]
    },
    {
     "name": "stderr",
     "output_type": "stream",
     "text": [
      "/home/wanlab/nick/.local/lib/python3.8/site-packages/xgboost/core.py:158: UserWarning: [09:31:42] WARNING: /workspace/src/learner.cc:740: \n",
      "Parameters: { \"use_label_encoder\" } are not used.\n",
      "\n",
      "  warnings.warn(smsg, UserWarning)\n"
     ]
    },
    {
     "name": "stdout",
     "output_type": "stream",
     "text": [
      "cv\n",
      "individual models\n"
     ]
    },
    {
     "name": "stderr",
     "output_type": "stream",
     "text": [
      "/home/wanlab/nick/.local/lib/python3.8/site-packages/xgboost/core.py:158: UserWarning: [09:31:56] WARNING: /workspace/src/learner.cc:740: \n",
      "Parameters: { \"use_label_encoder\" } are not used.\n",
      "\n",
      "  warnings.warn(smsg, UserWarning)\n"
     ]
    },
    {
     "name": "stdout",
     "output_type": "stream",
     "text": [
      "cv\n",
      "individual models\n"
     ]
    },
    {
     "name": "stderr",
     "output_type": "stream",
     "text": [
      "/home/wanlab/nick/.local/lib/python3.8/site-packages/xgboost/core.py:158: UserWarning: [09:32:09] WARNING: /workspace/src/learner.cc:740: \n",
      "Parameters: { \"use_label_encoder\" } are not used.\n",
      "\n",
      "  warnings.warn(smsg, UserWarning)\n"
     ]
    },
    {
     "name": "stdout",
     "output_type": "stream",
     "text": [
      "cv\n",
      "individual models\n"
     ]
    },
    {
     "name": "stderr",
     "output_type": "stream",
     "text": [
      "/home/wanlab/nick/.local/lib/python3.8/site-packages/xgboost/core.py:158: UserWarning: [09:32:23] WARNING: /workspace/src/learner.cc:740: \n",
      "Parameters: { \"use_label_encoder\" } are not used.\n",
      "\n",
      "  warnings.warn(smsg, UserWarning)\n"
     ]
    },
    {
     "name": "stdout",
     "output_type": "stream",
     "text": [
      "cv\n",
      "individual models\n"
     ]
    },
    {
     "name": "stderr",
     "output_type": "stream",
     "text": [
      "/home/wanlab/nick/.local/lib/python3.8/site-packages/xgboost/core.py:158: UserWarning: [09:32:38] WARNING: /workspace/src/learner.cc:740: \n",
      "Parameters: { \"use_label_encoder\" } are not used.\n",
      "\n",
      "  warnings.warn(smsg, UserWarning)\n"
     ]
    },
    {
     "name": "stdout",
     "output_type": "stream",
     "text": [
      "cv\n",
      "individual models\n"
     ]
    },
    {
     "name": "stderr",
     "output_type": "stream",
     "text": [
      "/home/wanlab/nick/.local/lib/python3.8/site-packages/xgboost/core.py:158: UserWarning: [09:32:52] WARNING: /workspace/src/learner.cc:740: \n",
      "Parameters: { \"use_label_encoder\" } are not used.\n",
      "\n",
      "  warnings.warn(smsg, UserWarning)\n"
     ]
    },
    {
     "name": "stdout",
     "output_type": "stream",
     "text": [
      "cv\n",
      "individual models\n"
     ]
    },
    {
     "name": "stderr",
     "output_type": "stream",
     "text": [
      "/home/wanlab/nick/.local/lib/python3.8/site-packages/xgboost/core.py:158: UserWarning: [09:33:07] WARNING: /workspace/src/learner.cc:740: \n",
      "Parameters: { \"use_label_encoder\" } are not used.\n",
      "\n",
      "  warnings.warn(smsg, UserWarning)\n"
     ]
    },
    {
     "name": "stdout",
     "output_type": "stream",
     "text": [
      "cv\n",
      "individual models\n"
     ]
    },
    {
     "name": "stderr",
     "output_type": "stream",
     "text": [
      "/home/wanlab/nick/.local/lib/python3.8/site-packages/xgboost/core.py:158: UserWarning: [09:33:21] WARNING: /workspace/src/learner.cc:740: \n",
      "Parameters: { \"use_label_encoder\" } are not used.\n",
      "\n",
      "  warnings.warn(smsg, UserWarning)\n"
     ]
    },
    {
     "name": "stdout",
     "output_type": "stream",
     "text": [
      "cv\n",
      "individual models\n"
     ]
    },
    {
     "name": "stderr",
     "output_type": "stream",
     "text": [
      "/home/wanlab/nick/.local/lib/python3.8/site-packages/xgboost/core.py:158: UserWarning: [09:33:34] WARNING: /workspace/src/learner.cc:740: \n",
      "Parameters: { \"use_label_encoder\" } are not used.\n",
      "\n",
      "  warnings.warn(smsg, UserWarning)\n"
     ]
    },
    {
     "name": "stdout",
     "output_type": "stream",
     "text": [
      "cv\n",
      "individual models\n"
     ]
    },
    {
     "name": "stderr",
     "output_type": "stream",
     "text": [
      "/home/wanlab/nick/.local/lib/python3.8/site-packages/xgboost/core.py:158: UserWarning: [09:33:48] WARNING: /workspace/src/learner.cc:740: \n",
      "Parameters: { \"use_label_encoder\" } are not used.\n",
      "\n",
      "  warnings.warn(smsg, UserWarning)\n"
     ]
    },
    {
     "name": "stdout",
     "output_type": "stream",
     "text": [
      "cv\n",
      "individual models\n"
     ]
    },
    {
     "name": "stderr",
     "output_type": "stream",
     "text": [
      "/home/wanlab/nick/.local/lib/python3.8/site-packages/xgboost/core.py:158: UserWarning: [09:34:01] WARNING: /workspace/src/learner.cc:740: \n",
      "Parameters: { \"use_label_encoder\" } are not used.\n",
      "\n",
      "  warnings.warn(smsg, UserWarning)\n"
     ]
    },
    {
     "name": "stdout",
     "output_type": "stream",
     "text": [
      "cv\n",
      "individual models\n"
     ]
    },
    {
     "name": "stderr",
     "output_type": "stream",
     "text": [
      "/home/wanlab/nick/.local/lib/python3.8/site-packages/xgboost/core.py:158: UserWarning: [09:34:16] WARNING: /workspace/src/learner.cc:740: \n",
      "Parameters: { \"use_label_encoder\" } are not used.\n",
      "\n",
      "  warnings.warn(smsg, UserWarning)\n"
     ]
    },
    {
     "name": "stdout",
     "output_type": "stream",
     "text": [
      "cv\n",
      "individual models\n"
     ]
    },
    {
     "name": "stderr",
     "output_type": "stream",
     "text": [
      "/home/wanlab/nick/.local/lib/python3.8/site-packages/xgboost/core.py:158: UserWarning: [09:34:29] WARNING: /workspace/src/learner.cc:740: \n",
      "Parameters: { \"use_label_encoder\" } are not used.\n",
      "\n",
      "  warnings.warn(smsg, UserWarning)\n"
     ]
    },
    {
     "name": "stdout",
     "output_type": "stream",
     "text": [
      "cv\n",
      "individual models\n"
     ]
    },
    {
     "name": "stderr",
     "output_type": "stream",
     "text": [
      "/home/wanlab/nick/.local/lib/python3.8/site-packages/xgboost/core.py:158: UserWarning: [09:34:44] WARNING: /workspace/src/learner.cc:740: \n",
      "Parameters: { \"use_label_encoder\" } are not used.\n",
      "\n",
      "  warnings.warn(smsg, UserWarning)\n"
     ]
    },
    {
     "name": "stdout",
     "output_type": "stream",
     "text": [
      "cv\n",
      "individual models\n"
     ]
    },
    {
     "name": "stderr",
     "output_type": "stream",
     "text": [
      "/home/wanlab/nick/.local/lib/python3.8/site-packages/xgboost/core.py:158: UserWarning: [09:34:57] WARNING: /workspace/src/learner.cc:740: \n",
      "Parameters: { \"use_label_encoder\" } are not used.\n",
      "\n",
      "  warnings.warn(smsg, UserWarning)\n"
     ]
    },
    {
     "name": "stdout",
     "output_type": "stream",
     "text": [
      "cv\n",
      "individual models\n"
     ]
    },
    {
     "name": "stderr",
     "output_type": "stream",
     "text": [
      "/home/wanlab/nick/.local/lib/python3.8/site-packages/xgboost/core.py:158: UserWarning: [09:35:11] WARNING: /workspace/src/learner.cc:740: \n",
      "Parameters: { \"use_label_encoder\" } are not used.\n",
      "\n",
      "  warnings.warn(smsg, UserWarning)\n"
     ]
    },
    {
     "name": "stdout",
     "output_type": "stream",
     "text": [
      "cv\n",
      "individual models\n"
     ]
    },
    {
     "name": "stderr",
     "output_type": "stream",
     "text": [
      "/home/wanlab/nick/.local/lib/python3.8/site-packages/xgboost/core.py:158: UserWarning: [09:35:25] WARNING: /workspace/src/learner.cc:740: \n",
      "Parameters: { \"use_label_encoder\" } are not used.\n",
      "\n",
      "  warnings.warn(smsg, UserWarning)\n"
     ]
    },
    {
     "name": "stdout",
     "output_type": "stream",
     "text": [
      "cv\n",
      "individual models\n"
     ]
    },
    {
     "name": "stderr",
     "output_type": "stream",
     "text": [
      "/home/wanlab/nick/.local/lib/python3.8/site-packages/xgboost/core.py:158: UserWarning: [09:35:40] WARNING: /workspace/src/learner.cc:740: \n",
      "Parameters: { \"use_label_encoder\" } are not used.\n",
      "\n",
      "  warnings.warn(smsg, UserWarning)\n"
     ]
    },
    {
     "name": "stdout",
     "output_type": "stream",
     "text": [
      "cv\n",
      "individual models\n"
     ]
    },
    {
     "name": "stderr",
     "output_type": "stream",
     "text": [
      "/home/wanlab/nick/.local/lib/python3.8/site-packages/xgboost/core.py:158: UserWarning: [09:35:53] WARNING: /workspace/src/learner.cc:740: \n",
      "Parameters: { \"use_label_encoder\" } are not used.\n",
      "\n",
      "  warnings.warn(smsg, UserWarning)\n"
     ]
    },
    {
     "name": "stdout",
     "output_type": "stream",
     "text": [
      "cv\n",
      "individual models\n"
     ]
    },
    {
     "name": "stderr",
     "output_type": "stream",
     "text": [
      "/home/wanlab/nick/.local/lib/python3.8/site-packages/xgboost/core.py:158: UserWarning: [09:36:06] WARNING: /workspace/src/learner.cc:740: \n",
      "Parameters: { \"use_label_encoder\" } are not used.\n",
      "\n",
      "  warnings.warn(smsg, UserWarning)\n"
     ]
    },
    {
     "name": "stdout",
     "output_type": "stream",
     "text": [
      "cv\n",
      "individual models\n"
     ]
    },
    {
     "name": "stderr",
     "output_type": "stream",
     "text": [
      "/home/wanlab/nick/.local/lib/python3.8/site-packages/xgboost/core.py:158: UserWarning: [09:36:19] WARNING: /workspace/src/learner.cc:740: \n",
      "Parameters: { \"use_label_encoder\" } are not used.\n",
      "\n",
      "  warnings.warn(smsg, UserWarning)\n"
     ]
    },
    {
     "name": "stdout",
     "output_type": "stream",
     "text": [
      "cv\n",
      "individual models\n"
     ]
    },
    {
     "name": "stderr",
     "output_type": "stream",
     "text": [
      "/home/wanlab/nick/.local/lib/python3.8/site-packages/xgboost/core.py:158: UserWarning: [09:36:33] WARNING: /workspace/src/learner.cc:740: \n",
      "Parameters: { \"use_label_encoder\" } are not used.\n",
      "\n",
      "  warnings.warn(smsg, UserWarning)\n"
     ]
    },
    {
     "name": "stdout",
     "output_type": "stream",
     "text": [
      "cv\n",
      "individual models\n"
     ]
    },
    {
     "name": "stderr",
     "output_type": "stream",
     "text": [
      "/home/wanlab/nick/.local/lib/python3.8/site-packages/xgboost/core.py:158: UserWarning: [09:36:46] WARNING: /workspace/src/learner.cc:740: \n",
      "Parameters: { \"use_label_encoder\" } are not used.\n",
      "\n",
      "  warnings.warn(smsg, UserWarning)\n"
     ]
    },
    {
     "name": "stdout",
     "output_type": "stream",
     "text": [
      "cv\n",
      "individual models\n"
     ]
    },
    {
     "name": "stderr",
     "output_type": "stream",
     "text": [
      "/home/wanlab/nick/.local/lib/python3.8/site-packages/xgboost/core.py:158: UserWarning: [09:37:00] WARNING: /workspace/src/learner.cc:740: \n",
      "Parameters: { \"use_label_encoder\" } are not used.\n",
      "\n",
      "  warnings.warn(smsg, UserWarning)\n"
     ]
    },
    {
     "name": "stdout",
     "output_type": "stream",
     "text": [
      "cv\n",
      "individual models\n"
     ]
    },
    {
     "name": "stderr",
     "output_type": "stream",
     "text": [
      "/home/wanlab/nick/.local/lib/python3.8/site-packages/xgboost/core.py:158: UserWarning: [09:37:14] WARNING: /workspace/src/learner.cc:740: \n",
      "Parameters: { \"use_label_encoder\" } are not used.\n",
      "\n",
      "  warnings.warn(smsg, UserWarning)\n"
     ]
    },
    {
     "name": "stdout",
     "output_type": "stream",
     "text": [
      "cv\n",
      "individual models\n"
     ]
    },
    {
     "name": "stderr",
     "output_type": "stream",
     "text": [
      "/home/wanlab/nick/.local/lib/python3.8/site-packages/xgboost/core.py:158: UserWarning: [09:37:29] WARNING: /workspace/src/learner.cc:740: \n",
      "Parameters: { \"use_label_encoder\" } are not used.\n",
      "\n",
      "  warnings.warn(smsg, UserWarning)\n"
     ]
    },
    {
     "name": "stdout",
     "output_type": "stream",
     "text": [
      "cv\n",
      "individual models\n"
     ]
    },
    {
     "name": "stderr",
     "output_type": "stream",
     "text": [
      "/home/wanlab/nick/.local/lib/python3.8/site-packages/xgboost/core.py:158: UserWarning: [09:37:43] WARNING: /workspace/src/learner.cc:740: \n",
      "Parameters: { \"use_label_encoder\" } are not used.\n",
      "\n",
      "  warnings.warn(smsg, UserWarning)\n"
     ]
    },
    {
     "name": "stdout",
     "output_type": "stream",
     "text": [
      "cv\n",
      "individual models\n"
     ]
    },
    {
     "name": "stderr",
     "output_type": "stream",
     "text": [
      "/home/wanlab/nick/.local/lib/python3.8/site-packages/xgboost/core.py:158: UserWarning: [09:37:56] WARNING: /workspace/src/learner.cc:740: \n",
      "Parameters: { \"use_label_encoder\" } are not used.\n",
      "\n",
      "  warnings.warn(smsg, UserWarning)\n"
     ]
    },
    {
     "name": "stdout",
     "output_type": "stream",
     "text": [
      "cv\n",
      "individual models\n"
     ]
    },
    {
     "name": "stderr",
     "output_type": "stream",
     "text": [
      "/home/wanlab/nick/.local/lib/python3.8/site-packages/xgboost/core.py:158: UserWarning: [09:38:11] WARNING: /workspace/src/learner.cc:740: \n",
      "Parameters: { \"use_label_encoder\" } are not used.\n",
      "\n",
      "  warnings.warn(smsg, UserWarning)\n"
     ]
    },
    {
     "name": "stdout",
     "output_type": "stream",
     "text": [
      "cv\n",
      "individual models\n"
     ]
    },
    {
     "name": "stderr",
     "output_type": "stream",
     "text": [
      "/home/wanlab/nick/.local/lib/python3.8/site-packages/xgboost/core.py:158: UserWarning: [09:38:25] WARNING: /workspace/src/learner.cc:740: \n",
      "Parameters: { \"use_label_encoder\" } are not used.\n",
      "\n",
      "  warnings.warn(smsg, UserWarning)\n"
     ]
    },
    {
     "name": "stdout",
     "output_type": "stream",
     "text": [
      "cv\n",
      "individual models\n"
     ]
    },
    {
     "name": "stderr",
     "output_type": "stream",
     "text": [
      "/home/wanlab/nick/.local/lib/python3.8/site-packages/xgboost/core.py:158: UserWarning: [09:38:38] WARNING: /workspace/src/learner.cc:740: \n",
      "Parameters: { \"use_label_encoder\" } are not used.\n",
      "\n",
      "  warnings.warn(smsg, UserWarning)\n"
     ]
    },
    {
     "name": "stdout",
     "output_type": "stream",
     "text": [
      "cv\n",
      "individual models\n"
     ]
    },
    {
     "name": "stderr",
     "output_type": "stream",
     "text": [
      "/home/wanlab/nick/.local/lib/python3.8/site-packages/xgboost/core.py:158: UserWarning: [09:38:52] WARNING: /workspace/src/learner.cc:740: \n",
      "Parameters: { \"use_label_encoder\" } are not used.\n",
      "\n",
      "  warnings.warn(smsg, UserWarning)\n"
     ]
    },
    {
     "name": "stdout",
     "output_type": "stream",
     "text": [
      "cv\n",
      "individual models\n"
     ]
    },
    {
     "name": "stderr",
     "output_type": "stream",
     "text": [
      "/home/wanlab/nick/.local/lib/python3.8/site-packages/xgboost/core.py:158: UserWarning: [09:39:05] WARNING: /workspace/src/learner.cc:740: \n",
      "Parameters: { \"use_label_encoder\" } are not used.\n",
      "\n",
      "  warnings.warn(smsg, UserWarning)\n"
     ]
    },
    {
     "name": "stdout",
     "output_type": "stream",
     "text": [
      "cv\n",
      "individual models\n"
     ]
    },
    {
     "name": "stderr",
     "output_type": "stream",
     "text": [
      "/home/wanlab/nick/.local/lib/python3.8/site-packages/xgboost/core.py:158: UserWarning: [09:39:19] WARNING: /workspace/src/learner.cc:740: \n",
      "Parameters: { \"use_label_encoder\" } are not used.\n",
      "\n",
      "  warnings.warn(smsg, UserWarning)\n"
     ]
    },
    {
     "name": "stdout",
     "output_type": "stream",
     "text": [
      "cv\n",
      "individual models\n"
     ]
    },
    {
     "name": "stderr",
     "output_type": "stream",
     "text": [
      "/home/wanlab/nick/.local/lib/python3.8/site-packages/xgboost/core.py:158: UserWarning: [09:39:33] WARNING: /workspace/src/learner.cc:740: \n",
      "Parameters: { \"use_label_encoder\" } are not used.\n",
      "\n",
      "  warnings.warn(smsg, UserWarning)\n"
     ]
    },
    {
     "name": "stdout",
     "output_type": "stream",
     "text": [
      "cv\n",
      "individual models\n"
     ]
    },
    {
     "name": "stderr",
     "output_type": "stream",
     "text": [
      "/home/wanlab/nick/.local/lib/python3.8/site-packages/xgboost/core.py:158: UserWarning: [09:39:47] WARNING: /workspace/src/learner.cc:740: \n",
      "Parameters: { \"use_label_encoder\" } are not used.\n",
      "\n",
      "  warnings.warn(smsg, UserWarning)\n"
     ]
    },
    {
     "name": "stdout",
     "output_type": "stream",
     "text": [
      "cv\n",
      "individual models\n"
     ]
    },
    {
     "name": "stderr",
     "output_type": "stream",
     "text": [
      "/home/wanlab/nick/.local/lib/python3.8/site-packages/xgboost/core.py:158: UserWarning: [09:40:01] WARNING: /workspace/src/learner.cc:740: \n",
      "Parameters: { \"use_label_encoder\" } are not used.\n",
      "\n",
      "  warnings.warn(smsg, UserWarning)\n"
     ]
    },
    {
     "name": "stdout",
     "output_type": "stream",
     "text": [
      "cv\n",
      "individual models\n"
     ]
    },
    {
     "name": "stderr",
     "output_type": "stream",
     "text": [
      "/home/wanlab/nick/.local/lib/python3.8/site-packages/xgboost/core.py:158: UserWarning: [09:40:15] WARNING: /workspace/src/learner.cc:740: \n",
      "Parameters: { \"use_label_encoder\" } are not used.\n",
      "\n",
      "  warnings.warn(smsg, UserWarning)\n"
     ]
    },
    {
     "name": "stdout",
     "output_type": "stream",
     "text": [
      "cv\n",
      "individual models\n"
     ]
    },
    {
     "name": "stderr",
     "output_type": "stream",
     "text": [
      "/home/wanlab/nick/.local/lib/python3.8/site-packages/xgboost/core.py:158: UserWarning: [09:40:29] WARNING: /workspace/src/learner.cc:740: \n",
      "Parameters: { \"use_label_encoder\" } are not used.\n",
      "\n",
      "  warnings.warn(smsg, UserWarning)\n"
     ]
    },
    {
     "name": "stdout",
     "output_type": "stream",
     "text": [
      "cv\n",
      "individual models\n"
     ]
    },
    {
     "name": "stderr",
     "output_type": "stream",
     "text": [
      "/home/wanlab/nick/.local/lib/python3.8/site-packages/xgboost/core.py:158: UserWarning: [09:40:45] WARNING: /workspace/src/learner.cc:740: \n",
      "Parameters: { \"use_label_encoder\" } are not used.\n",
      "\n",
      "  warnings.warn(smsg, UserWarning)\n"
     ]
    },
    {
     "name": "stdout",
     "output_type": "stream",
     "text": [
      "cv\n",
      "individual models\n"
     ]
    },
    {
     "name": "stderr",
     "output_type": "stream",
     "text": [
      "/home/wanlab/nick/.local/lib/python3.8/site-packages/xgboost/core.py:158: UserWarning: [09:40:58] WARNING: /workspace/src/learner.cc:740: \n",
      "Parameters: { \"use_label_encoder\" } are not used.\n",
      "\n",
      "  warnings.warn(smsg, UserWarning)\n"
     ]
    },
    {
     "name": "stdout",
     "output_type": "stream",
     "text": [
      "cv\n",
      "individual models\n"
     ]
    },
    {
     "name": "stderr",
     "output_type": "stream",
     "text": [
      "/home/wanlab/nick/.local/lib/python3.8/site-packages/xgboost/core.py:158: UserWarning: [09:41:11] WARNING: /workspace/src/learner.cc:740: \n",
      "Parameters: { \"use_label_encoder\" } are not used.\n",
      "\n",
      "  warnings.warn(smsg, UserWarning)\n"
     ]
    },
    {
     "name": "stdout",
     "output_type": "stream",
     "text": [
      "cv\n",
      "individual models\n"
     ]
    },
    {
     "name": "stderr",
     "output_type": "stream",
     "text": [
      "/home/wanlab/nick/.local/lib/python3.8/site-packages/xgboost/core.py:158: UserWarning: [09:41:25] WARNING: /workspace/src/learner.cc:740: \n",
      "Parameters: { \"use_label_encoder\" } are not used.\n",
      "\n",
      "  warnings.warn(smsg, UserWarning)\n"
     ]
    },
    {
     "name": "stdout",
     "output_type": "stream",
     "text": [
      "cv\n",
      "individual models\n"
     ]
    },
    {
     "name": "stderr",
     "output_type": "stream",
     "text": [
      "/home/wanlab/nick/.local/lib/python3.8/site-packages/xgboost/core.py:158: UserWarning: [09:41:41] WARNING: /workspace/src/learner.cc:740: \n",
      "Parameters: { \"use_label_encoder\" } are not used.\n",
      "\n",
      "  warnings.warn(smsg, UserWarning)\n"
     ]
    },
    {
     "name": "stdout",
     "output_type": "stream",
     "text": [
      "cv\n",
      "individual models\n"
     ]
    },
    {
     "name": "stderr",
     "output_type": "stream",
     "text": [
      "/home/wanlab/nick/.local/lib/python3.8/site-packages/xgboost/core.py:158: UserWarning: [09:41:56] WARNING: /workspace/src/learner.cc:740: \n",
      "Parameters: { \"use_label_encoder\" } are not used.\n",
      "\n",
      "  warnings.warn(smsg, UserWarning)\n"
     ]
    },
    {
     "name": "stdout",
     "output_type": "stream",
     "text": [
      "cv\n",
      "individual models\n"
     ]
    },
    {
     "name": "stderr",
     "output_type": "stream",
     "text": [
      "/home/wanlab/nick/.local/lib/python3.8/site-packages/xgboost/core.py:158: UserWarning: [09:42:10] WARNING: /workspace/src/learner.cc:740: \n",
      "Parameters: { \"use_label_encoder\" } are not used.\n",
      "\n",
      "  warnings.warn(smsg, UserWarning)\n"
     ]
    },
    {
     "name": "stdout",
     "output_type": "stream",
     "text": [
      "cv\n",
      "individual models\n"
     ]
    },
    {
     "name": "stderr",
     "output_type": "stream",
     "text": [
      "/home/wanlab/nick/.local/lib/python3.8/site-packages/xgboost/core.py:158: UserWarning: [09:42:23] WARNING: /workspace/src/learner.cc:740: \n",
      "Parameters: { \"use_label_encoder\" } are not used.\n",
      "\n",
      "  warnings.warn(smsg, UserWarning)\n"
     ]
    },
    {
     "name": "stdout",
     "output_type": "stream",
     "text": [
      "cv\n",
      "individual models\n"
     ]
    },
    {
     "name": "stderr",
     "output_type": "stream",
     "text": [
      "/home/wanlab/nick/.local/lib/python3.8/site-packages/xgboost/core.py:158: UserWarning: [09:42:37] WARNING: /workspace/src/learner.cc:740: \n",
      "Parameters: { \"use_label_encoder\" } are not used.\n",
      "\n",
      "  warnings.warn(smsg, UserWarning)\n"
     ]
    },
    {
     "name": "stdout",
     "output_type": "stream",
     "text": [
      "cv\n",
      "individual models\n"
     ]
    },
    {
     "name": "stderr",
     "output_type": "stream",
     "text": [
      "/home/wanlab/nick/.local/lib/python3.8/site-packages/xgboost/core.py:158: UserWarning: [09:42:51] WARNING: /workspace/src/learner.cc:740: \n",
      "Parameters: { \"use_label_encoder\" } are not used.\n",
      "\n",
      "  warnings.warn(smsg, UserWarning)\n"
     ]
    },
    {
     "name": "stdout",
     "output_type": "stream",
     "text": [
      "cv\n",
      "individual models\n"
     ]
    },
    {
     "name": "stderr",
     "output_type": "stream",
     "text": [
      "/home/wanlab/nick/.local/lib/python3.8/site-packages/xgboost/core.py:158: UserWarning: [09:43:05] WARNING: /workspace/src/learner.cc:740: \n",
      "Parameters: { \"use_label_encoder\" } are not used.\n",
      "\n",
      "  warnings.warn(smsg, UserWarning)\n"
     ]
    },
    {
     "name": "stdout",
     "output_type": "stream",
     "text": [
      "cv\n",
      "individual models\n"
     ]
    },
    {
     "name": "stderr",
     "output_type": "stream",
     "text": [
      "/home/wanlab/nick/.local/lib/python3.8/site-packages/xgboost/core.py:158: UserWarning: [09:43:19] WARNING: /workspace/src/learner.cc:740: \n",
      "Parameters: { \"use_label_encoder\" } are not used.\n",
      "\n",
      "  warnings.warn(smsg, UserWarning)\n"
     ]
    },
    {
     "name": "stdout",
     "output_type": "stream",
     "text": [
      "cv\n",
      "individual models\n"
     ]
    },
    {
     "name": "stderr",
     "output_type": "stream",
     "text": [
      "/home/wanlab/nick/.local/lib/python3.8/site-packages/xgboost/core.py:158: UserWarning: [09:43:32] WARNING: /workspace/src/learner.cc:740: \n",
      "Parameters: { \"use_label_encoder\" } are not used.\n",
      "\n",
      "  warnings.warn(smsg, UserWarning)\n"
     ]
    },
    {
     "name": "stdout",
     "output_type": "stream",
     "text": [
      "cv\n",
      "\n",
      "model score of oof results for SVC\n",
      "Model Accuracy: 0.8958333333333334\n",
      "Precision: 0.9014314967439967\n",
      "Recall (Sensitivity): 0.8958333333333334\n",
      "F1 Score: 0.8959621195146911\n",
      "Matthews Correlation Coefficient (MCC): 0.8611520734979478\n",
      "G-Measure: 0.9297818443861738\n",
      "AUC: 0.987881455399061\n",
      "Specificity: 0.9649181071276142\n",
      "Jaccard Index: 0.8134476371193639\n",
      "Saving metrics to: /work/wanlab/nick//stackeval1/val_data/individual models/SVC/limma(0),metrics.csv\n",
      "PREDICTIONS                   subtype  Squamous      ADEX  Pancreatic Progenitor  \\\n",
      "0   Pancreatic Progenitor  0.120543  0.035148               0.811840   \n",
      "1                    ADEX  0.042982  0.891921               0.017902   \n",
      "2   Pancreatic Progenitor  0.261422  0.247458               0.451165   \n",
      "3   Pancreatic Progenitor  0.005306  0.063098               0.889020   \n",
      "4                    ADEX  0.108693  0.685596               0.188352   \n",
      "..                    ...       ...       ...                    ...   \n",
      "91            Immunogenic  0.007531  0.060672               0.010895   \n",
      "92                   ADEX  0.013096  0.778386               0.155264   \n",
      "93            Immunogenic  0.043716  0.038914               0.370607   \n",
      "94               Squamous  0.659591  0.059864               0.251676   \n",
      "95  Pancreatic Progenitor  0.001216  0.018132               0.894802   \n",
      "\n",
      "    Immunogenic  \n",
      "0      0.032469  \n",
      "1      0.047195  \n",
      "2      0.039956  \n",
      "3      0.042576  \n",
      "4      0.017359  \n",
      "..          ...  \n",
      "91     0.920903  \n",
      "92     0.053253  \n",
      "93     0.546763  \n",
      "94     0.028869  \n",
      "95     0.085850  \n",
      "\n",
      "[96 rows x 5 columns]\n",
      "\n",
      "model score of oof results for SVC2\n",
      "Model Accuracy: 0.9166666666666666\n",
      "Precision: 0.9179416613572927\n",
      "Recall (Sensitivity): 0.9166666666666666\n",
      "F1 Score: 0.9168905106983729\n",
      "Matthews Correlation Coefficient (MCC): 0.8877175856139377\n",
      "G-Measure: 0.9453340190753321\n",
      "AUC: 0.9856112289265898\n",
      "Specificity: 0.972089735381989\n",
      "Jaccard Index: 0.8457818223443223\n",
      "Saving metrics to: /work/wanlab/nick//stackeval1/val_data/individual models/SVC2/limma(0),metrics.csv\n",
      "PREDICTIONS                   subtype  Squamous      ADEX  Pancreatic Progenitor  \\\n",
      "0   Pancreatic Progenitor  0.151652  0.038222               0.778139   \n",
      "1                    ADEX  0.080767  0.813362               0.031334   \n",
      "2   Pancreatic Progenitor  0.366808  0.153486               0.440358   \n",
      "3   Pancreatic Progenitor  0.013126  0.083509               0.863618   \n",
      "4                    ADEX  0.249689  0.449207               0.268190   \n",
      "..                    ...       ...       ...                    ...   \n",
      "91            Immunogenic  0.018663  0.092197               0.014838   \n",
      "92                   ADEX  0.024696  0.789655               0.111576   \n",
      "93            Immunogenic  0.081106  0.024613               0.679297   \n",
      "94               Squamous  0.570326  0.026724               0.385049   \n",
      "95  Pancreatic Progenitor  0.004351  0.027419               0.746993   \n",
      "\n",
      "    Immunogenic  \n",
      "0      0.031986  \n",
      "1      0.074536  \n",
      "2      0.039348  \n",
      "3      0.039747  \n",
      "4      0.032914  \n",
      "..          ...  \n",
      "91     0.874303  \n",
      "92     0.074073  \n",
      "93     0.214984  \n",
      "94     0.017901  \n",
      "95     0.221236  \n",
      "\n",
      "[96 rows x 5 columns]\n",
      "\n",
      "model score of oof results for LogisticRegression\n",
      "Model Accuracy: 0.90625\n",
      "Precision: 0.907241010904804\n",
      "Recall (Sensitivity): 0.90625\n",
      "F1 Score: 0.9063258253912099\n",
      "Matthews Correlation Coefficient (MCC): 0.8733101573111083\n",
      "G-Measure: 0.9352788514023854\n",
      "AUC: 0.987585527368758\n",
      "Specificity: 0.9681724818608621\n",
      "Jaccard Index: 0.8275341386554622\n",
      "Saving metrics to: /work/wanlab/nick//stackeval1/val_data/individual models/LogisticRegression/limma(0),metrics.csv\n",
      "PREDICTIONS                   subtype      Squamous      ADEX  Pancreatic Progenitor  \\\n",
      "0   Pancreatic Progenitor  3.032983e-03  0.000254           9.966280e-01   \n",
      "1                    ADEX  7.699082e-05  0.999117           5.511734e-06   \n",
      "2   Pancreatic Progenitor  1.733089e-01  0.021542           8.050540e-01   \n",
      "3   Pancreatic Progenitor  8.482411e-06  0.007792           9.913168e-01   \n",
      "4                    ADEX  7.132894e-02  0.852495           7.609491e-02   \n",
      "..                    ...           ...       ...                    ...   \n",
      "91            Immunogenic  5.533628e-08  0.000009           1.133365e-08   \n",
      "92                   ADEX  7.055326e-06  0.983643           1.421599e-02   \n",
      "93            Immunogenic  6.291252e-03  0.001291           8.522605e-01   \n",
      "94               Squamous  8.284744e-01  0.000136           1.713615e-01   \n",
      "95  Pancreatic Progenitor  4.285721e-09  0.000005           9.879981e-01   \n",
      "\n",
      "    Immunogenic  \n",
      "0      0.000085  \n",
      "1      0.000800  \n",
      "2      0.000095  \n",
      "3      0.000883  \n",
      "4      0.000081  \n",
      "..          ...  \n",
      "91     0.999991  \n",
      "92     0.002134  \n",
      "93     0.140158  \n",
      "94     0.000028  \n",
      "95     0.011997  \n",
      "\n",
      "[96 rows x 5 columns]\n",
      "\n",
      "model score of oof results for XGBClassifier\n",
      "Model Accuracy: 0.8958333333333334\n",
      "Precision: 0.8980353036908744\n",
      "Recall (Sensitivity): 0.8958333333333334\n",
      "F1 Score: 0.8939833840972847\n",
      "Matthews Correlation Coefficient (MCC): 0.8599347653521981\n",
      "G-Measure: 0.9191232154034474\n",
      "AUC: 0.980168487249253\n",
      "Specificity: 0.9643846030729835\n",
      "Jaccard Index: 0.7975085541008462\n",
      "Saving metrics to: /work/wanlab/nick//stackeval1/val_data/individual models/XGBClassifier/limma(0),metrics.csv\n",
      "PREDICTIONS                   subtype  Squamous      ADEX  Pancreatic Progenitor  \\\n",
      "0   Pancreatic Progenitor  0.010496  0.004265               0.979689   \n",
      "1                    ADEX  0.009075  0.971340               0.010060   \n",
      "2   Pancreatic Progenitor  0.324684  0.116739               0.423451   \n",
      "3   Pancreatic Progenitor  0.035251  0.015652               0.932271   \n",
      "4                    ADEX  0.019062  0.938530               0.032673   \n",
      "..                    ...       ...       ...                    ...   \n",
      "91            Immunogenic  0.003353  0.144402               0.006780   \n",
      "92                   ADEX  0.085751  0.291449               0.230912   \n",
      "93            Immunogenic  0.006942  0.004306               0.017895   \n",
      "94               Squamous  0.557425  0.083944               0.236529   \n",
      "95  Pancreatic Progenitor  0.076111  0.088864               0.516777   \n",
      "\n",
      "    Immunogenic  \n",
      "0      0.005550  \n",
      "1      0.009525  \n",
      "2      0.135126  \n",
      "3      0.016826  \n",
      "4      0.009735  \n",
      "..          ...  \n",
      "91     0.845465  \n",
      "92     0.391888  \n",
      "93     0.970856  \n",
      "94     0.122102  \n",
      "95     0.318248  \n",
      "\n",
      "[96 rows x 5 columns]\n",
      "运行时间为: 1341.94 秒\n",
      "combining [[0.12054273 0.03514802 0.81183985 ... 0.004265   0.97968882 0.00555017]\n",
      " [0.04298236 0.89192065 0.01790227 ... 0.97134036 0.01005994 0.00952453]\n",
      " [0.26142168 0.24745812 0.45116456 ... 0.11673886 0.42345148 0.13512553]\n",
      " ...\n",
      " [0.0437155  0.03891434 0.37060691 ... 0.00430637 0.01789468 0.97085649]\n",
      " [0.65959071 0.05986397 0.2516761  ... 0.08394366 0.23652914 0.1221018 ]\n",
      " [0.00121609 0.0181316  0.8948025  ... 0.08886395 0.51677722 0.31824797]] [[13.56018914 12.68466835 13.10243664 ...  9.53005478 11.16103308\n",
      "  11.24920229]\n",
      " [15.4259582  14.08525845 12.01110512 ...  9.45622747 11.12707631\n",
      "  11.78331935]\n",
      " [14.4756837  13.26517897 12.82291838 ...  9.65623065 11.33179862\n",
      "  11.68015036]\n",
      " ...\n",
      " [14.28976923 13.62192201 12.67277184 ...  9.32578912  9.67174085\n",
      "  11.45401981]\n",
      " [14.71684472 13.81278796 13.58508909 ... 10.31590684 12.7838795\n",
      "  11.90067493]\n",
      " [14.18823419 12.92657629 11.70868561 ...  9.88942006  9.76636631\n",
      "  12.84604452]]\n",
      "stacked\n",
      "cv\n",
      "stacked\n",
      "cv\n",
      "stacked\n",
      "cv\n",
      "stacked\n",
      "cv\n",
      "stacked\n",
      "cv\n",
      "stacked\n",
      "cv\n",
      "stacked\n",
      "cv\n",
      "stacked\n",
      "cv\n",
      "stacked\n",
      "cv\n",
      "stacked\n",
      "cv\n",
      "stacked\n",
      "cv\n",
      "stacked\n",
      "cv\n",
      "stacked\n",
      "cv\n",
      "stacked\n",
      "cv\n",
      "stacked\n",
      "cv\n",
      "stacked\n",
      "cv\n",
      "stacked\n",
      "cv\n",
      "stacked\n",
      "cv\n",
      "stacked\n",
      "cv\n",
      "stacked\n",
      "cv\n",
      "stacked\n",
      "cv\n",
      "stacked\n",
      "cv\n",
      "stacked\n",
      "cv\n",
      "stacked\n",
      "cv\n",
      "stacked\n",
      "cv\n",
      "stacked\n",
      "cv\n",
      "stacked\n",
      "cv\n",
      "stacked\n",
      "cv\n",
      "stacked\n",
      "cv\n",
      "stacked\n",
      "cv\n",
      "stacked\n",
      "cv\n",
      "stacked\n",
      "cv\n",
      "stacked\n",
      "cv\n",
      "stacked\n",
      "cv\n",
      "stacked\n",
      "cv\n",
      "stacked\n",
      "cv\n",
      "stacked\n",
      "cv\n",
      "stacked\n",
      "cv\n",
      "stacked\n",
      "cv\n",
      "stacked\n",
      "cv\n",
      "stacked\n",
      "cv\n",
      "stacked\n",
      "cv\n",
      "stacked\n",
      "cv\n",
      "stacked\n",
      "cv\n",
      "stacked\n",
      "cv\n",
      "stacked\n",
      "cv\n",
      "stacked\n",
      "cv\n",
      "stacked\n",
      "cv\n",
      "stacked\n",
      "cv\n",
      "stacked\n",
      "cv\n",
      "stacked\n",
      "cv\n",
      "stacked\n",
      "cv\n",
      "stacked\n",
      "cv\n",
      "stacked\n",
      "cv\n",
      "stacked\n",
      "cv\n",
      "stacked\n",
      "cv\n",
      "stacked\n",
      "cv\n",
      "stacked\n",
      "cv\n",
      "stacked\n",
      "cv\n",
      "stacked\n",
      "cv\n",
      "stacked\n",
      "cv\n",
      "stacked\n",
      "cv\n",
      "stacked\n",
      "cv\n",
      "stacked\n",
      "cv\n",
      "stacked\n",
      "cv\n",
      "stacked\n",
      "cv\n",
      "stacked\n",
      "cv\n",
      "stacked\n",
      "cv\n",
      "stacked\n",
      "cv\n",
      "stacked\n",
      "cv\n",
      "stacked\n",
      "cv\n",
      "stacked\n",
      "cv\n",
      "stacked\n",
      "cv\n",
      "stacked\n",
      "cv\n",
      "stacked\n",
      "cv\n",
      "stacked\n",
      "cv\n",
      "stacked\n",
      "cv\n",
      "stacked\n",
      "cv\n",
      "stacked\n",
      "cv\n",
      "stacked\n",
      "cv\n",
      "stacked\n",
      "cv\n",
      "stacked\n",
      "cv\n",
      "stacked\n",
      "cv\n",
      "stacked\n",
      "cv\n",
      "stacked\n",
      "cv\n",
      "stacked\n",
      "cv\n",
      "stacked\n",
      "cv\n",
      "stacked\n",
      "cv\n",
      "stacked\n",
      "cv\n",
      "stacked\n",
      "cv\n",
      "stacked\n",
      "cv\n",
      "stacked\n",
      "cv\n",
      "stacked\n",
      "cv\n",
      "stacked\n",
      "cv\n",
      "stacked\n",
      "cv\n",
      "stacked\n",
      "cv\n",
      "\n",
      "model score of oof results for MLPClassifier\n",
      "Model Accuracy: 0.5833333333333334\n",
      "Precision: 0.5777098858995411\n",
      "Recall (Sensitivity): 0.5833333333333334\n",
      "F1 Score: 0.5798453464393145\n",
      "Matthews Correlation Coefficient (MCC): 0.4353666643412039\n",
      "G-Measure: 0.692458018265957\n",
      "AUC: 0.8170156116623986\n",
      "Specificity: 0.8588561673068715\n",
      "Jaccard Index: 0.4021619112761384\n",
      "Saving metrics to: /work/wanlab/nick//stackeval1/val_data/stacked/MLPClassifier/limma(0),metrics.csv\n",
      "PREDICTIONS                   subtype      Squamous          ADEX  Pancreatic Progenitor  \\\n",
      "0             Immunogenic  2.649598e-06  2.955351e-07           1.061136e-04   \n",
      "1                    ADEX  1.852355e-01  2.657819e-02           7.876981e-01   \n",
      "2   Pancreatic Progenitor  2.851056e-04  4.406411e-01           2.226207e-03   \n",
      "3   Pancreatic Progenitor  6.443999e-04  7.311671e-01           2.667847e-01   \n",
      "4   Pancreatic Progenitor  8.551838e-03  4.447768e-01           5.466695e-01   \n",
      "..                    ...           ...           ...                    ...   \n",
      "91                   ADEX  4.893825e-10  9.558468e-01           9.341856e-04   \n",
      "92               Squamous  9.999603e-01  4.213487e-09           7.637795e-08   \n",
      "93                   ADEX  9.598535e-05  3.824246e-07           4.045434e-01   \n",
      "94  Pancreatic Progenitor  3.577870e-07  7.598556e-01           2.124071e-01   \n",
      "95               Squamous  1.159014e-01  6.046163e-01           2.644225e-01   \n",
      "\n",
      "    Immunogenic  \n",
      "0      0.999891  \n",
      "1      0.000488  \n",
      "2      0.556848  \n",
      "3      0.001404  \n",
      "4      0.000002  \n",
      "..          ...  \n",
      "91     0.043219  \n",
      "92     0.000040  \n",
      "93     0.595360  \n",
      "94     0.027737  \n",
      "95     0.015060  \n",
      "\n",
      "[96 rows x 5 columns]\n",
      "\n",
      "model score of oof results for RandomForestClassifier\n",
      "Model Accuracy: 0.84375\n",
      "Precision: 0.84833184074912\n",
      "Recall (Sensitivity): 0.84375\n",
      "F1 Score: 0.8420649509803922\n",
      "Matthews Correlation Coefficient (MCC): 0.7888246981235294\n",
      "G-Measure: 0.8814218993566016\n",
      "AUC: 0.983570464770949\n",
      "Specificity: 0.9459787131882202\n",
      "Jaccard Index: 0.7187091503267973\n",
      "Saving metrics to: /work/wanlab/nick//stackeval1/val_data/stacked/RandomForestClassifier/limma(0),metrics.csv\n",
      "PREDICTIONS                   subtype  Squamous  ADEX  Pancreatic Progenitor  Immunogenic\n",
      "0             Immunogenic      0.05  0.03                   0.04         0.88\n",
      "1                    ADEX      0.10  0.48                   0.35         0.07\n",
      "2   Pancreatic Progenitor      0.03  0.08                   0.47         0.42\n",
      "3   Pancreatic Progenitor      0.06  0.11                   0.74         0.09\n",
      "4   Pancreatic Progenitor      0.11  0.13                   0.69         0.07\n",
      "..                    ...       ...   ...                    ...          ...\n",
      "91                   ADEX      0.05  0.39                   0.22         0.34\n",
      "92               Squamous      0.86  0.03                   0.02         0.09\n",
      "93                   ADEX      0.18  0.51                   0.25         0.06\n",
      "94  Pancreatic Progenitor      0.07  0.54                   0.31         0.08\n",
      "95               Squamous      0.35  0.35                   0.28         0.02\n",
      "\n",
      "[96 rows x 5 columns]\n",
      "\n",
      "model score of oof results for LogisticRegression2\n",
      "Model Accuracy: 0.90625\n",
      "Precision: 0.907241010904804\n",
      "Recall (Sensitivity): 0.90625\n",
      "F1 Score: 0.9063258253912099\n",
      "Matthews Correlation Coefficient (MCC): 0.8733101573111083\n",
      "G-Measure: 0.9352788514023854\n",
      "AUC: 0.987585527368758\n",
      "Specificity: 0.9681724818608621\n",
      "Jaccard Index: 0.8275341386554622\n",
      "Saving metrics to: /work/wanlab/nick//stackeval1/val_data/stacked/LogisticRegression2/limma(0),metrics.csv\n",
      "PREDICTIONS                   subtype      Squamous          ADEX  Pancreatic Progenitor  \\\n",
      "0             Immunogenic  3.627061e-09  9.957305e-10           2.282997e-10   \n",
      "1                    ADEX  1.171120e-04  8.835670e-01           1.151492e-01   \n",
      "2   Pancreatic Progenitor  4.357224e-09  4.600534e-06           9.880142e-01   \n",
      "3   Pancreatic Progenitor  8.472864e-06  7.670091e-03           9.914503e-01   \n",
      "4   Pancreatic Progenitor  4.409410e-05  5.494635e-04           9.994063e-01   \n",
      "..                    ...           ...           ...                    ...   \n",
      "91                   ADEX  3.316693e-07  9.370865e-01           2.259303e-02   \n",
      "92               Squamous  1.000000e+00  8.814656e-13           4.455680e-13   \n",
      "93                   ADEX  2.193552e-04  9.825336e-01           1.721922e-02   \n",
      "94  Pancreatic Progenitor  1.837464e-07  6.671957e-01           3.315097e-01   \n",
      "95               Squamous  6.544050e-01  3.235873e-01           2.199075e-02   \n",
      "\n",
      "     Immunogenic  \n",
      "0   1.000000e+00  \n",
      "1   1.166663e-03  \n",
      "2   1.198121e-02  \n",
      "3   8.711588e-04  \n",
      "4   9.346643e-08  \n",
      "..           ...  \n",
      "91  4.032015e-02  \n",
      "92  5.354585e-09  \n",
      "93  2.778380e-05  \n",
      "94  1.294377e-03  \n",
      "95  1.692239e-05  \n",
      "\n",
      "[96 rows x 5 columns]\n",
      "\n",
      "model score of oof results for GaussianNB2\n",
      "Model Accuracy: 0.8229166666666666\n",
      "Precision: 0.8281146523900147\n",
      "Recall (Sensitivity): 0.8229166666666666\n",
      "F1 Score: 0.8193442841880341\n",
      "Matthews Correlation Coefficient (MCC): 0.7612212618843984\n",
      "G-Measure: 0.8602464982659523\n",
      "AUC: 0.9378936537469769\n",
      "Specificity: 0.9385323303457106\n",
      "Jaccard Index: 0.6843869731800766\n",
      "Saving metrics to: /work/wanlab/nick//stackeval1/val_data/stacked/GaussianNB2/limma(0),metrics.csv\n",
      "PREDICTIONS                   subtype      Squamous          ADEX  Pancreatic Progenitor  \\\n",
      "0             Immunogenic  0.000000e+00  0.000000e+00           0.000000e+00   \n",
      "1                    ADEX  0.000000e+00  1.000000e+00           0.000000e+00   \n",
      "2   Pancreatic Progenitor  0.000000e+00  0.000000e+00           1.000000e+00   \n",
      "3   Pancreatic Progenitor  0.000000e+00  0.000000e+00           1.000000e+00   \n",
      "4   Pancreatic Progenitor  0.000000e+00  0.000000e+00           1.000000e+00   \n",
      "..                    ...           ...           ...                    ...   \n",
      "91                   ADEX  0.000000e+00  1.000000e+00           5.564593e-58   \n",
      "92               Squamous  1.000000e+00  0.000000e+00           0.000000e+00   \n",
      "93                   ADEX  0.000000e+00  2.954667e-42           1.000000e+00   \n",
      "94  Pancreatic Progenitor  0.000000e+00  1.000000e+00           0.000000e+00   \n",
      "95               Squamous  5.399498e-33  1.000000e+00          5.212211e-170   \n",
      "\n",
      "    Immunogenic  \n",
      "0           1.0  \n",
      "1           0.0  \n",
      "2           0.0  \n",
      "3           0.0  \n",
      "4           0.0  \n",
      "..          ...  \n",
      "91          0.0  \n",
      "92          0.0  \n",
      "93          0.0  \n",
      "94          0.0  \n",
      "95          0.0  \n",
      "\n",
      "[96 rows x 5 columns]\n",
      "\n",
      "model score of oof results for SVC3\n",
      "Model Accuracy: 0.8958333333333334\n",
      "Precision: 0.9000483312983313\n",
      "Recall (Sensitivity): 0.8958333333333334\n",
      "F1 Score: 0.8961476129250004\n",
      "Matthews Correlation Coefficient (MCC): 0.8604174274703945\n",
      "G-Measure: 0.9291226370118333\n",
      "AUC: 0.9873276115023474\n",
      "Specificity: 0.9649181071276142\n",
      "Jaccard Index: 0.8121114964339462\n",
      "Saving metrics to: /work/wanlab/nick//stackeval1/val_data/stacked/SVC3/limma(0),metrics.csv\n",
      "PREDICTIONS                   subtype  Squamous      ADEX  Pancreatic Progenitor  \\\n",
      "0             Immunogenic  0.003413  0.002128               0.000865   \n",
      "1                    ADEX  0.018572  0.861885               0.093979   \n",
      "2   Pancreatic Progenitor  0.001311  0.018358               0.879574   \n",
      "3   Pancreatic Progenitor  0.006050  0.075048               0.854380   \n",
      "4   Pancreatic Progenitor  0.024945  0.055040               0.915419   \n",
      "..                    ...       ...       ...                    ...   \n",
      "91                   ADEX  0.005509  0.659153               0.085590   \n",
      "92               Squamous  0.992063  0.000663               0.000518   \n",
      "93                   ADEX  0.095809  0.732866               0.134694   \n",
      "94  Pancreatic Progenitor  0.002610  0.778399               0.195427   \n",
      "95               Squamous  0.412309  0.401204               0.172491   \n",
      "\n",
      "    Immunogenic  \n",
      "0      0.993594  \n",
      "1      0.025563  \n",
      "2      0.100756  \n",
      "3      0.064523  \n",
      "4      0.004596  \n",
      "..          ...  \n",
      "91     0.249749  \n",
      "92     0.006756  \n",
      "93     0.036631  \n",
      "94     0.023564  \n",
      "95     0.013996  \n",
      "\n",
      "[96 rows x 5 columns]\n",
      "\n",
      "model score of oof results for SVC4\n",
      "Model Accuracy: 0.9166666666666666\n",
      "Precision: 0.9192088293650794\n",
      "Recall (Sensitivity): 0.9166666666666666\n",
      "F1 Score: 0.9167442595125234\n",
      "Matthews Correlation Coefficient (MCC): 0.8883018621349139\n",
      "G-Measure: 0.9457735985191148\n",
      "AUC: 0.9854257806942667\n",
      "Specificity: 0.9716936086214255\n",
      "Jaccard Index: 0.8517636331721017\n",
      "Saving metrics to: /work/wanlab/nick//stackeval1/val_data/stacked/SVC4/limma(0),metrics.csv\n",
      "PREDICTIONS                   subtype  Squamous      ADEX  Pancreatic Progenitor  \\\n",
      "0             Immunogenic  0.002271  0.001230               0.000610   \n",
      "1                    ADEX  0.045248  0.549062               0.361553   \n",
      "2   Pancreatic Progenitor  0.003884  0.025611               0.760228   \n",
      "3   Pancreatic Progenitor  0.014147  0.077667               0.861760   \n",
      "4   Pancreatic Progenitor  0.060016  0.073585               0.857027   \n",
      "..                    ...       ...       ...                    ...   \n",
      "91                   ADEX  0.010804  0.684764               0.131997   \n",
      "92               Squamous  0.995703  0.000119               0.000101   \n",
      "93                   ADEX  0.038753  0.768330               0.159060   \n",
      "94  Pancreatic Progenitor  0.009872  0.662281               0.283632   \n",
      "95               Squamous  0.407604  0.361033               0.205417   \n",
      "\n",
      "    Immunogenic  \n",
      "0      0.995889  \n",
      "1      0.044137  \n",
      "2      0.210277  \n",
      "3      0.046427  \n",
      "4      0.009371  \n",
      "..          ...  \n",
      "91     0.172435  \n",
      "92     0.004078  \n",
      "93     0.033857  \n",
      "94     0.044214  \n",
      "95     0.025946  \n",
      "\n",
      "[96 rows x 5 columns]\n",
      "run 2\n",
      "Model Pair: SVC + SVC + LogisticRegression + KNeighborsClassifier\n",
      "USEDmodelnames ['SVC', 'SVC2', 'LogisticRegression', 'KNeighborsClassifier']\n",
      "Running with: SVC and SVC and LogisticRegression and KNeighborsClassifier\n",
      "Random state: 0\n",
      "['SVC', 'SVC2', 'LogisticRegression', 'KNeighborsClassifier']\n",
      "individual models\n",
      "cv\n",
      "individual models\n",
      "cv\n",
      "individual models\n",
      "cv\n",
      "individual models\n",
      "cv\n",
      "individual models\n",
      "cv\n",
      "individual models\n",
      "cv\n",
      "individual models\n",
      "cv\n",
      "individual models\n",
      "cv\n",
      "individual models\n",
      "cv\n",
      "individual models\n",
      "cv\n",
      "individual models\n",
      "cv\n",
      "individual models\n",
      "cv\n",
      "individual models\n",
      "cv\n",
      "individual models\n",
      "cv\n",
      "individual models\n",
      "cv\n",
      "individual models\n",
      "cv\n",
      "individual models\n",
      "cv\n",
      "individual models\n",
      "cv\n",
      "individual models\n",
      "cv\n",
      "individual models\n",
      "cv\n",
      "individual models\n",
      "cv\n",
      "individual models\n",
      "cv\n",
      "individual models\n",
      "cv\n",
      "individual models\n",
      "cv\n",
      "individual models\n",
      "cv\n",
      "individual models\n",
      "cv\n",
      "individual models\n",
      "cv\n",
      "individual models\n",
      "cv\n",
      "individual models\n",
      "cv\n",
      "individual models\n",
      "cv\n",
      "individual models\n",
      "cv\n",
      "individual models\n",
      "cv\n",
      "individual models\n",
      "cv\n",
      "individual models\n",
      "cv\n",
      "individual models\n",
      "cv\n",
      "individual models\n",
      "cv\n",
      "individual models\n",
      "cv\n",
      "individual models\n",
      "cv\n",
      "individual models\n",
      "cv\n",
      "individual models\n",
      "cv\n",
      "individual models\n",
      "cv\n",
      "individual models\n",
      "cv\n",
      "individual models\n",
      "cv\n",
      "individual models\n",
      "cv\n",
      "individual models\n",
      "cv\n",
      "individual models\n",
      "cv\n",
      "individual models\n",
      "cv\n",
      "individual models\n",
      "cv\n",
      "individual models\n",
      "cv\n",
      "individual models\n",
      "cv\n",
      "individual models\n",
      "cv\n",
      "individual models\n",
      "cv\n",
      "individual models\n",
      "cv\n",
      "individual models\n",
      "cv\n",
      "individual models\n",
      "cv\n",
      "individual models\n",
      "cv\n",
      "individual models\n",
      "cv\n",
      "individual models\n",
      "cv\n",
      "individual models\n",
      "cv\n",
      "individual models\n",
      "cv\n",
      "individual models\n",
      "cv\n",
      "individual models\n",
      "cv\n",
      "individual models\n",
      "cv\n",
      "individual models\n",
      "cv\n",
      "individual models\n",
      "cv\n",
      "individual models\n",
      "cv\n",
      "individual models\n",
      "cv\n",
      "individual models\n",
      "cv\n",
      "individual models\n",
      "cv\n",
      "individual models\n",
      "cv\n",
      "individual models\n",
      "cv\n",
      "individual models\n",
      "cv\n",
      "individual models\n",
      "cv\n",
      "individual models\n",
      "cv\n",
      "individual models\n",
      "cv\n",
      "individual models\n",
      "cv\n",
      "individual models\n",
      "cv\n",
      "individual models\n",
      "cv\n",
      "individual models\n",
      "cv\n",
      "individual models\n",
      "cv\n",
      "individual models\n",
      "cv\n",
      "individual models\n",
      "cv\n",
      "individual models\n",
      "cv\n",
      "individual models\n",
      "cv\n",
      "individual models\n",
      "cv\n",
      "individual models\n",
      "cv\n",
      "individual models\n",
      "cv\n",
      "individual models\n",
      "cv\n",
      "individual models\n",
      "cv\n",
      "individual models\n",
      "cv\n",
      "individual models\n",
      "cv\n",
      "individual models\n",
      "cv\n",
      "individual models\n",
      "cv\n",
      "individual models\n",
      "cv\n",
      "individual models\n",
      "cv\n",
      "individual models\n",
      "cv\n",
      "\n",
      "model score of oof results for SVC\n",
      "Model Accuracy: 0.8854166666666666\n",
      "Precision: 0.891441968525302\n",
      "Recall (Sensitivity): 0.8854166666666666\n",
      "F1 Score: 0.8857571122577969\n",
      "Matthews Correlation Coefficient (MCC): 0.847046869768925\n",
      "G-Measure: 0.9229308733968031\n",
      "AUC: 0.986859517267748\n",
      "Specificity: 0.9613969803670508\n",
      "Jaccard Index: 0.7977251412244541\n",
      "Saving metrics to: /work/wanlab/nick//stackeval2/val_data/individual models/SVC/limma(0),metrics.csv\n",
      "PREDICTIONS                   subtype  Squamous      ADEX  Pancreatic Progenitor  \\\n",
      "0   Pancreatic Progenitor  0.103744  0.041821               0.826898   \n",
      "1                    ADEX  0.029018  0.914864               0.014386   \n",
      "2   Pancreatic Progenitor  0.253185  0.255247               0.453095   \n",
      "3   Pancreatic Progenitor  0.005955  0.064839               0.897655   \n",
      "4                    ADEX  0.116310  0.690037               0.176306   \n",
      "..                    ...       ...       ...                    ...   \n",
      "91            Immunogenic  0.006728  0.053309               0.007017   \n",
      "92                   ADEX  0.010875  0.758430               0.170756   \n",
      "93            Immunogenic  0.041620  0.042646               0.373162   \n",
      "94               Squamous  0.605116  0.053073               0.310749   \n",
      "95  Pancreatic Progenitor  0.001749  0.019949               0.852269   \n",
      "\n",
      "    Immunogenic  \n",
      "0      0.027538  \n",
      "1      0.041733  \n",
      "2      0.038472  \n",
      "3      0.031551  \n",
      "4      0.017347  \n",
      "..          ...  \n",
      "91     0.932946  \n",
      "92     0.059939  \n",
      "93     0.542572  \n",
      "94     0.031062  \n",
      "95     0.126033  \n",
      "\n",
      "[96 rows x 5 columns]\n",
      "\n",
      "model score of oof results for SVC2\n",
      "Model Accuracy: 0.9270833333333334\n",
      "Precision: 0.9282457295657727\n",
      "Recall (Sensitivity): 0.9270833333333334\n",
      "F1 Score: 0.927124353652804\n",
      "Matthews Correlation Coefficient (MCC): 0.9017909960019698\n",
      "G-Measure: 0.9519085598926197\n",
      "AUC: 0.9844092331768389\n",
      "Specificity: 0.9752147353819889\n",
      "Jaccard Index: 0.8669652957336781\n",
      "Saving metrics to: /work/wanlab/nick//stackeval2/val_data/individual models/SVC2/limma(0),metrics.csv\n",
      "PREDICTIONS                   subtype  Squamous      ADEX  Pancreatic Progenitor  \\\n",
      "0   Pancreatic Progenitor  0.165730  0.039255               0.757957   \n",
      "1                    ADEX  0.074298  0.820137               0.031033   \n",
      "2   Pancreatic Progenitor  0.340220  0.168415               0.450689   \n",
      "3   Pancreatic Progenitor  0.009876  0.067641               0.890726   \n",
      "4                    ADEX  0.242594  0.503787               0.221415   \n",
      "..                    ...       ...       ...                    ...   \n",
      "91            Immunogenic  0.019421  0.098769               0.014292   \n",
      "92                   ADEX  0.028783  0.776566               0.107083   \n",
      "93            Immunogenic  0.070749  0.023095               0.713023   \n",
      "94               Squamous  0.580207  0.027042               0.379041   \n",
      "95  Pancreatic Progenitor  0.003630  0.024880               0.766901   \n",
      "\n",
      "    Immunogenic  \n",
      "0      0.037058  \n",
      "1      0.074532  \n",
      "2      0.040675  \n",
      "3      0.031757  \n",
      "4      0.032205  \n",
      "..          ...  \n",
      "91     0.867518  \n",
      "92     0.087568  \n",
      "93     0.193132  \n",
      "94     0.013711  \n",
      "95     0.204590  \n",
      "\n",
      "[96 rows x 5 columns]\n",
      "\n",
      "model score of oof results for LogisticRegression\n",
      "Model Accuracy: 0.90625\n",
      "Precision: 0.907241010904804\n",
      "Recall (Sensitivity): 0.90625\n",
      "F1 Score: 0.9063258253912099\n",
      "Matthews Correlation Coefficient (MCC): 0.8733101573111083\n",
      "G-Measure: 0.9352788514023854\n",
      "AUC: 0.987585527368758\n",
      "Specificity: 0.9681724818608621\n",
      "Jaccard Index: 0.8275341386554622\n",
      "Saving metrics to: /work/wanlab/nick//stackeval2/val_data/individual models/LogisticRegression/limma(0),metrics.csv\n",
      "PREDICTIONS                   subtype      Squamous      ADEX  Pancreatic Progenitor  \\\n",
      "0   Pancreatic Progenitor  3.032983e-03  0.000254           9.966280e-01   \n",
      "1                    ADEX  7.699082e-05  0.999117           5.511734e-06   \n",
      "2   Pancreatic Progenitor  1.733089e-01  0.021542           8.050540e-01   \n",
      "3   Pancreatic Progenitor  8.482411e-06  0.007792           9.913168e-01   \n",
      "4                    ADEX  7.132894e-02  0.852495           7.609491e-02   \n",
      "..                    ...           ...       ...                    ...   \n",
      "91            Immunogenic  5.533628e-08  0.000009           1.133365e-08   \n",
      "92                   ADEX  7.055326e-06  0.983643           1.421599e-02   \n",
      "93            Immunogenic  6.291252e-03  0.001291           8.522605e-01   \n",
      "94               Squamous  8.284744e-01  0.000136           1.713615e-01   \n",
      "95  Pancreatic Progenitor  4.285721e-09  0.000005           9.879981e-01   \n",
      "\n",
      "    Immunogenic  \n",
      "0      0.000085  \n",
      "1      0.000800  \n",
      "2      0.000095  \n",
      "3      0.000883  \n",
      "4      0.000081  \n",
      "..          ...  \n",
      "91     0.999991  \n",
      "92     0.002134  \n",
      "93     0.140158  \n",
      "94     0.000028  \n",
      "95     0.011997  \n",
      "\n",
      "[96 rows x 5 columns]\n",
      "\n",
      "model score of oof results for KNeighborsClassifier\n",
      "Model Accuracy: 0.8125\n",
      "Precision: 0.8199310816498316\n",
      "Recall (Sensitivity): 0.8125\n",
      "F1 Score: 0.8125190781440782\n",
      "Matthews Correlation Coefficient (MCC): 0.7460321678003263\n",
      "G-Measure: 0.8633985462943907\n",
      "AUC: 0.9584949683898847\n",
      "Specificity: 0.9348818288518993\n",
      "Jaccard Index: 0.6830932288025566\n",
      "Saving metrics to: /work/wanlab/nick//stackeval2/val_data/individual models/KNeighborsClassifier/limma(0),metrics.csv\n",
      "PREDICTIONS                   subtype  Squamous  ADEX  Pancreatic Progenitor  Immunogenic\n",
      "0   Pancreatic Progenitor       0.2   0.0                    0.8          0.0\n",
      "1                    ADEX       0.0   1.0                    0.0          0.0\n",
      "2   Pancreatic Progenitor       0.4   0.0                    0.6          0.0\n",
      "3   Pancreatic Progenitor       0.0   0.0                    1.0          0.0\n",
      "4                    ADEX       0.4   0.2                    0.4          0.0\n",
      "..                    ...       ...   ...                    ...          ...\n",
      "91            Immunogenic       0.0   0.0                    0.0          1.0\n",
      "92                   ADEX       0.0   0.6                    0.4          0.0\n",
      "93            Immunogenic       0.0   0.0                    0.4          0.6\n",
      "94               Squamous       0.4   0.0                    0.6          0.0\n",
      "95  Pancreatic Progenitor       0.0   0.0                    0.6          0.4\n",
      "\n",
      "[96 rows x 5 columns]\n",
      "运行时间为: 217.05 秒\n",
      "combining [[0.10374368 0.04182058 0.82689813 ... 0.         0.8        0.        ]\n",
      " [0.02901761 0.91486393 0.01438556 ... 1.         0.         0.        ]\n",
      " [0.25318506 0.25524748 0.45309529 ... 0.         0.6        0.        ]\n",
      " ...\n",
      " [0.04162013 0.04264584 0.3731619  ... 0.         0.4        0.6       ]\n",
      " [0.60511633 0.05307266 0.31074869 ... 0.         0.6        0.        ]\n",
      " [0.00174909 0.01994899 0.85226876 ... 0.         0.6        0.4       ]] [[13.56018914 12.68466835 13.10243664 ...  9.53005478 11.16103308\n",
      "  11.24920229]\n",
      " [15.4259582  14.08525845 12.01110512 ...  9.45622747 11.12707631\n",
      "  11.78331935]\n",
      " [14.4756837  13.26517897 12.82291838 ...  9.65623065 11.33179862\n",
      "  11.68015036]\n",
      " ...\n",
      " [14.28976923 13.62192201 12.67277184 ...  9.32578912  9.67174085\n",
      "  11.45401981]\n",
      " [14.71684472 13.81278796 13.58508909 ... 10.31590684 12.7838795\n",
      "  11.90067493]\n",
      " [14.18823419 12.92657629 11.70868561 ...  9.88942006  9.76636631\n",
      "  12.84604452]]\n",
      "stacked\n",
      "cv\n",
      "stacked\n",
      "cv\n",
      "stacked\n",
      "cv\n",
      "stacked\n",
      "cv\n",
      "stacked\n",
      "cv\n",
      "stacked\n",
      "cv\n",
      "stacked\n",
      "cv\n",
      "stacked\n",
      "cv\n",
      "stacked\n",
      "cv\n",
      "stacked\n",
      "cv\n",
      "stacked\n",
      "cv\n",
      "stacked\n",
      "cv\n",
      "stacked\n",
      "cv\n",
      "stacked\n",
      "cv\n",
      "stacked\n",
      "cv\n",
      "stacked\n",
      "cv\n",
      "stacked\n",
      "cv\n",
      "stacked\n",
      "cv\n",
      "stacked\n",
      "cv\n",
      "stacked\n",
      "cv\n",
      "stacked\n",
      "cv\n",
      "stacked\n",
      "cv\n",
      "stacked\n",
      "cv\n",
      "stacked\n",
      "cv\n",
      "stacked\n",
      "cv\n",
      "stacked\n",
      "cv\n",
      "stacked\n",
      "cv\n",
      "stacked\n",
      "cv\n",
      "stacked\n",
      "cv\n",
      "stacked\n",
      "cv\n",
      "stacked\n",
      "cv\n",
      "stacked\n",
      "cv\n",
      "stacked\n",
      "cv\n",
      "stacked\n",
      "cv\n",
      "stacked\n",
      "cv\n",
      "stacked\n",
      "cv\n",
      "stacked\n",
      "cv\n",
      "stacked\n",
      "cv\n",
      "stacked\n",
      "cv\n",
      "stacked\n",
      "cv\n",
      "stacked\n",
      "cv\n",
      "stacked\n",
      "cv\n",
      "stacked\n",
      "cv\n",
      "stacked\n",
      "cv\n",
      "stacked\n",
      "cv\n",
      "stacked\n",
      "cv\n",
      "stacked\n",
      "cv\n",
      "stacked\n",
      "cv\n",
      "stacked\n",
      "cv\n",
      "stacked\n",
      "cv\n",
      "stacked\n",
      "cv\n",
      "stacked\n",
      "cv\n",
      "stacked\n",
      "cv\n",
      "stacked\n",
      "cv\n",
      "stacked\n",
      "cv\n",
      "stacked\n",
      "cv\n",
      "stacked\n",
      "cv\n",
      "stacked\n",
      "cv\n",
      "stacked\n",
      "cv\n",
      "stacked\n",
      "cv\n",
      "stacked\n",
      "cv\n",
      "stacked\n",
      "cv\n",
      "stacked\n",
      "cv\n",
      "stacked\n",
      "cv\n",
      "stacked\n",
      "cv\n",
      "stacked\n",
      "cv\n",
      "stacked\n",
      "cv\n",
      "stacked\n",
      "cv\n",
      "stacked\n",
      "cv\n",
      "stacked\n",
      "cv\n",
      "stacked\n",
      "cv\n",
      "stacked\n",
      "cv\n",
      "stacked\n",
      "cv\n",
      "stacked\n",
      "cv\n",
      "stacked\n",
      "cv\n",
      "stacked\n",
      "cv\n",
      "stacked\n",
      "cv\n",
      "stacked\n",
      "cv\n",
      "stacked\n",
      "cv\n",
      "stacked\n",
      "cv\n",
      "stacked\n",
      "cv\n",
      "stacked\n",
      "cv\n",
      "stacked\n",
      "cv\n",
      "stacked\n",
      "cv\n",
      "stacked\n",
      "cv\n",
      "stacked\n",
      "cv\n",
      "stacked\n",
      "cv\n",
      "stacked\n",
      "cv\n",
      "stacked\n",
      "cv\n",
      "stacked\n",
      "cv\n",
      "stacked\n",
      "cv\n",
      "stacked\n",
      "cv\n",
      "stacked\n",
      "cv\n",
      "stacked\n",
      "cv\n",
      "stacked\n",
      "cv\n",
      "stacked\n",
      "cv\n",
      "\n",
      "model score of oof results for MLPClassifier\n",
      "Model Accuracy: 0.5833333333333334\n",
      "Precision: 0.5809321513748597\n",
      "Recall (Sensitivity): 0.5833333333333334\n",
      "F1 Score: 0.5810045558136671\n",
      "Matthews Correlation Coefficient (MCC): 0.43512609118562484\n",
      "G-Measure: 0.69606876898339\n",
      "AUC: 0.8479017730118081\n",
      "Specificity: 0.8583226632522407\n",
      "Jaccard Index: 0.4068887403446227\n",
      "Saving metrics to: /work/wanlab/nick//stackeval2/val_data/stacked/MLPClassifier/limma(0),metrics.csv\n",
      "PREDICTIONS                   subtype  Squamous      ADEX  Pancreatic Progenitor  \\\n",
      "0             Immunogenic  0.000002  0.000043               0.000004   \n",
      "1                    ADEX  0.000123  0.982829               0.011052   \n",
      "2   Pancreatic Progenitor  0.002883  0.302606               0.674486   \n",
      "3   Pancreatic Progenitor  0.036927  0.008433               0.909062   \n",
      "4   Pancreatic Progenitor  0.490455  0.153791               0.354843   \n",
      "..                    ...       ...       ...                    ...   \n",
      "91                   ADEX  0.141641  0.111893               0.725705   \n",
      "92               Squamous  0.999252  0.000022               0.000656   \n",
      "93                   ADEX  0.056996  0.358104               0.584900   \n",
      "94  Pancreatic Progenitor  0.173498  0.000536               0.266957   \n",
      "95               Squamous  0.209705  0.733169               0.057125   \n",
      "\n",
      "     Immunogenic  \n",
      "0   9.999515e-01  \n",
      "1   5.995421e-03  \n",
      "2   2.002447e-02  \n",
      "3   4.557830e-02  \n",
      "4   9.112434e-04  \n",
      "..           ...  \n",
      "91  2.076132e-02  \n",
      "92  6.969828e-05  \n",
      "93  6.551258e-08  \n",
      "94  5.590080e-01  \n",
      "95  6.203197e-07  \n",
      "\n",
      "[96 rows x 5 columns]\n",
      "\n",
      "model score of oof results for RandomForestClassifier\n",
      "Model Accuracy: 0.8645833333333334\n",
      "Precision: 0.8663504464285715\n",
      "Recall (Sensitivity): 0.8645833333333334\n",
      "F1 Score: 0.8645385304659499\n",
      "Matthews Correlation Coefficient (MCC): 0.8164741333108084\n",
      "G-Measure: 0.9040378161640471\n",
      "AUC: 0.986845679506331\n",
      "Specificity: 0.9532877187366624\n",
      "Jaccard Index: 0.7614966676325702\n",
      "Saving metrics to: /work/wanlab/nick//stackeval2/val_data/stacked/RandomForestClassifier/limma(0),metrics.csv\n",
      "PREDICTIONS                   subtype  Squamous  ADEX  Pancreatic Progenitor  Immunogenic\n",
      "0             Immunogenic      0.07  0.04                   0.07         0.82\n",
      "1                    ADEX      0.28  0.37                   0.28         0.07\n",
      "2   Pancreatic Progenitor      0.03  0.19                   0.37         0.41\n",
      "3   Pancreatic Progenitor      0.08  0.11                   0.71         0.10\n",
      "4   Pancreatic Progenitor      0.13  0.11                   0.74         0.02\n",
      "..                    ...       ...   ...                    ...          ...\n",
      "91                   ADEX      0.03  0.45                   0.21         0.31\n",
      "92               Squamous      0.84  0.04                   0.05         0.07\n",
      "93                   ADEX      0.20  0.46                   0.27         0.07\n",
      "94  Pancreatic Progenitor      0.02  0.56                   0.32         0.10\n",
      "95               Squamous      0.40  0.26                   0.29         0.05\n",
      "\n",
      "[96 rows x 5 columns]\n",
      "\n",
      "model score of oof results for LogisticRegression2\n",
      "Model Accuracy: 0.90625\n",
      "Precision: 0.907241010904804\n",
      "Recall (Sensitivity): 0.90625\n",
      "F1 Score: 0.9063258253912099\n",
      "Matthews Correlation Coefficient (MCC): 0.8733101573111083\n",
      "G-Measure: 0.9352788514023854\n",
      "AUC: 0.987585527368758\n",
      "Specificity: 0.9681724818608621\n",
      "Jaccard Index: 0.8275341386554622\n",
      "Saving metrics to: /work/wanlab/nick//stackeval2/val_data/stacked/LogisticRegression2/limma(0),metrics.csv\n",
      "PREDICTIONS                   subtype      Squamous          ADEX  Pancreatic Progenitor  \\\n",
      "0             Immunogenic  3.603610e-09  9.914714e-10           2.258958e-10   \n",
      "1                    ADEX  1.163262e-04  8.832032e-01           1.155170e-01   \n",
      "2   Pancreatic Progenitor  4.302442e-09  4.567957e-06           9.880584e-01   \n",
      "3   Pancreatic Progenitor  8.504257e-06  7.664167e-03           9.914544e-01   \n",
      "4   Pancreatic Progenitor  4.401198e-05  5.500170e-04           9.994059e-01   \n",
      "..                    ...           ...           ...                    ...   \n",
      "91                   ADEX  3.292675e-07  9.374763e-01           2.270831e-02   \n",
      "92               Squamous  1.000000e+00  8.438453e-13           4.172177e-13   \n",
      "93                   ADEX  2.166979e-04  9.826859e-01           1.707003e-02   \n",
      "94  Pancreatic Progenitor  1.802970e-07  6.678542e-01           3.308571e-01   \n",
      "95               Squamous  6.533156e-01  3.247127e-01           2.195485e-02   \n",
      "\n",
      "     Immunogenic  \n",
      "0   1.000000e+00  \n",
      "1   1.163474e-03  \n",
      "2   1.193704e-02  \n",
      "3   8.729043e-04  \n",
      "4   9.252823e-08  \n",
      "..           ...  \n",
      "91  3.981505e-02  \n",
      "92  5.073590e-09  \n",
      "93  2.738061e-05  \n",
      "94  1.288585e-03  \n",
      "95  1.679071e-05  \n",
      "\n",
      "[96 rows x 5 columns]\n",
      "\n",
      "model score of oof results for GaussianNB2\n",
      "Model Accuracy: 0.8125\n",
      "Precision: 0.8151771935626103\n",
      "Recall (Sensitivity): 0.8125\n",
      "F1 Score: 0.8061469780219781\n",
      "Matthews Correlation Coefficient (MCC): 0.747043830986164\n",
      "G-Measure: 0.848015308255658\n",
      "AUC: 0.9250385678972824\n",
      "Specificity: 0.9350112035851472\n",
      "Jaccard Index: 0.6635536398467433\n",
      "Saving metrics to: /work/wanlab/nick//stackeval2/val_data/stacked/GaussianNB2/limma(0),metrics.csv\n",
      "PREDICTIONS                   subtype      Squamous          ADEX  Pancreatic Progenitor  \\\n",
      "0             Immunogenic  0.000000e+00  0.000000e+00           0.000000e+00   \n",
      "1                    ADEX  0.000000e+00  1.000000e+00           0.000000e+00   \n",
      "2   Pancreatic Progenitor  0.000000e+00  0.000000e+00           1.000000e+00   \n",
      "3   Pancreatic Progenitor  0.000000e+00  0.000000e+00           1.000000e+00   \n",
      "4   Pancreatic Progenitor  0.000000e+00  0.000000e+00           1.000000e+00   \n",
      "..                    ...           ...           ...                    ...   \n",
      "91                   ADEX  0.000000e+00  0.000000e+00           1.000000e+00   \n",
      "92               Squamous  1.000000e+00  0.000000e+00           0.000000e+00   \n",
      "93                   ADEX  0.000000e+00  1.255151e-54           1.000000e+00   \n",
      "94  Pancreatic Progenitor  0.000000e+00  1.000000e+00           0.000000e+00   \n",
      "95               Squamous  1.316298e-46  1.000000e+00          2.614520e-170   \n",
      "\n",
      "    Immunogenic  \n",
      "0           1.0  \n",
      "1           0.0  \n",
      "2           0.0  \n",
      "3           0.0  \n",
      "4           0.0  \n",
      "..          ...  \n",
      "91          0.0  \n",
      "92          0.0  \n",
      "93          0.0  \n",
      "94          0.0  \n",
      "95          0.0  \n",
      "\n",
      "[96 rows x 5 columns]\n",
      "\n",
      "model score of oof results for SVC3\n",
      "Model Accuracy: 0.8854166666666666\n",
      "Precision: 0.8899869420702754\n",
      "Recall (Sensitivity): 0.8854166666666666\n",
      "F1 Score: 0.88558836996337\n",
      "Matthews Correlation Coefficient (MCC): 0.8468764996745479\n",
      "G-Measure: 0.9232245446642893\n",
      "AUC: 0.98569947938896\n",
      "Specificity: 0.9617931071276141\n",
      "Jaccard Index: 0.7936763952892986\n",
      "Saving metrics to: /work/wanlab/nick//stackeval2/val_data/stacked/SVC3/limma(0),metrics.csv\n",
      "PREDICTIONS                   subtype  Squamous      ADEX  Pancreatic Progenitor  \\\n",
      "0             Immunogenic  0.003505  0.002484               0.000996   \n",
      "1                    ADEX  0.019770  0.892141               0.072061   \n",
      "2   Pancreatic Progenitor  0.002422  0.023337               0.831052   \n",
      "3   Pancreatic Progenitor  0.005918  0.058428               0.895055   \n",
      "4   Pancreatic Progenitor  0.037371  0.059551               0.897733   \n",
      "..                    ...       ...       ...                    ...   \n",
      "91                   ADEX  0.006309  0.750120               0.064907   \n",
      "92               Squamous  0.995079  0.000658               0.000112   \n",
      "93                   ADEX  0.092934  0.748188               0.131289   \n",
      "94  Pancreatic Progenitor  0.003484  0.795199               0.181410   \n",
      "95               Squamous  0.384707  0.404082               0.194133   \n",
      "\n",
      "    Immunogenic  \n",
      "0      0.993014  \n",
      "1      0.016028  \n",
      "2      0.143189  \n",
      "3      0.040598  \n",
      "4      0.005344  \n",
      "..          ...  \n",
      "91     0.178664  \n",
      "92     0.004152  \n",
      "93     0.027589  \n",
      "94     0.019907  \n",
      "95     0.017078  \n",
      "\n",
      "[96 rows x 5 columns]\n",
      "\n",
      "model score of oof results for SVC4\n",
      "Model Accuracy: 0.9375\n",
      "Precision: 0.9378672542735043\n",
      "Recall (Sensitivity): 0.9375\n",
      "F1 Score: 0.9374874949979993\n",
      "Matthews Correlation Coefficient (MCC): 0.9155529545059609\n",
      "G-Measure: 0.9579504330083998\n",
      "AUC: 0.9859103802105563\n",
      "Specificity: 0.9787358621425523\n",
      "Jaccard Index: 0.882714303670186\n",
      "Saving metrics to: /work/wanlab/nick//stackeval2/val_data/stacked/SVC4/limma(0),metrics.csv\n",
      "PREDICTIONS                   subtype  Squamous      ADEX  Pancreatic Progenitor  \\\n",
      "0             Immunogenic  0.002343  0.000975               0.000668   \n",
      "1                    ADEX  0.041292  0.542803               0.372342   \n",
      "2   Pancreatic Progenitor  0.005671  0.037593               0.705746   \n",
      "3   Pancreatic Progenitor  0.014917  0.073321               0.849512   \n",
      "4   Pancreatic Progenitor  0.044912  0.072367               0.875470   \n",
      "..                    ...       ...       ...                    ...   \n",
      "91                   ADEX  0.010009  0.688221               0.116998   \n",
      "92               Squamous  0.996460  0.000104               0.000216   \n",
      "93                   ADEX  0.053500  0.781230               0.133007   \n",
      "94  Pancreatic Progenitor  0.006654  0.628635               0.323759   \n",
      "95               Squamous  0.396361  0.386964               0.187562   \n",
      "\n",
      "    Immunogenic  \n",
      "0      0.996014  \n",
      "1      0.043563  \n",
      "2      0.250990  \n",
      "3      0.062250  \n",
      "4      0.007252  \n",
      "..          ...  \n",
      "91     0.184771  \n",
      "92     0.003220  \n",
      "93     0.032263  \n",
      "94     0.040953  \n",
      "95     0.029113  \n",
      "\n",
      "[96 rows x 5 columns]\n",
      "run 3\n",
      "Model Pair: SVC + SVC + LogisticRegression + QuadraticDiscriminantAnalysis\n",
      "USEDmodelnames ['SVC', 'SVC2', 'LogisticRegression', 'QuadraticDiscriminantAnalysis']\n",
      "Running with: SVC and SVC and LogisticRegression and QuadraticDiscriminantAnalysis\n",
      "Random state: 0\n",
      "['SVC', 'SVC2', 'LogisticRegression', 'QuadraticDiscriminantAnalysis']\n",
      "individual models\n"
     ]
    },
    {
     "name": "stderr",
     "output_type": "stream",
     "text": [
      "/home/wanlab/nick/.local/lib/python3.8/site-packages/sklearn/discriminant_analysis.py:935: UserWarning: Variables are collinear\n",
      "  warnings.warn(\"Variables are collinear\")\n"
     ]
    },
    {
     "name": "stdout",
     "output_type": "stream",
     "text": [
      "cv\n",
      "individual models\n"
     ]
    },
    {
     "name": "stderr",
     "output_type": "stream",
     "text": [
      "/home/wanlab/nick/.local/lib/python3.8/site-packages/sklearn/discriminant_analysis.py:935: UserWarning: Variables are collinear\n",
      "  warnings.warn(\"Variables are collinear\")\n"
     ]
    },
    {
     "name": "stdout",
     "output_type": "stream",
     "text": [
      "cv\n",
      "individual models\n"
     ]
    },
    {
     "name": "stderr",
     "output_type": "stream",
     "text": [
      "/home/wanlab/nick/.local/lib/python3.8/site-packages/sklearn/discriminant_analysis.py:935: UserWarning: Variables are collinear\n",
      "  warnings.warn(\"Variables are collinear\")\n"
     ]
    },
    {
     "name": "stdout",
     "output_type": "stream",
     "text": [
      "cv\n",
      "individual models\n"
     ]
    },
    {
     "name": "stderr",
     "output_type": "stream",
     "text": [
      "/home/wanlab/nick/.local/lib/python3.8/site-packages/sklearn/discriminant_analysis.py:935: UserWarning: Variables are collinear\n",
      "  warnings.warn(\"Variables are collinear\")\n"
     ]
    },
    {
     "name": "stdout",
     "output_type": "stream",
     "text": [
      "cv\n",
      "individual models\n"
     ]
    },
    {
     "name": "stderr",
     "output_type": "stream",
     "text": [
      "/home/wanlab/nick/.local/lib/python3.8/site-packages/sklearn/discriminant_analysis.py:935: UserWarning: Variables are collinear\n",
      "  warnings.warn(\"Variables are collinear\")\n"
     ]
    },
    {
     "name": "stdout",
     "output_type": "stream",
     "text": [
      "cv\n",
      "individual models\n"
     ]
    },
    {
     "name": "stderr",
     "output_type": "stream",
     "text": [
      "/home/wanlab/nick/.local/lib/python3.8/site-packages/sklearn/discriminant_analysis.py:935: UserWarning: Variables are collinear\n",
      "  warnings.warn(\"Variables are collinear\")\n"
     ]
    },
    {
     "name": "stdout",
     "output_type": "stream",
     "text": [
      "cv\n",
      "individual models\n"
     ]
    },
    {
     "name": "stderr",
     "output_type": "stream",
     "text": [
      "/home/wanlab/nick/.local/lib/python3.8/site-packages/sklearn/discriminant_analysis.py:935: UserWarning: Variables are collinear\n",
      "  warnings.warn(\"Variables are collinear\")\n"
     ]
    },
    {
     "name": "stdout",
     "output_type": "stream",
     "text": [
      "cv\n",
      "individual models\n"
     ]
    },
    {
     "name": "stderr",
     "output_type": "stream",
     "text": [
      "/home/wanlab/nick/.local/lib/python3.8/site-packages/sklearn/discriminant_analysis.py:935: UserWarning: Variables are collinear\n",
      "  warnings.warn(\"Variables are collinear\")\n"
     ]
    },
    {
     "name": "stdout",
     "output_type": "stream",
     "text": [
      "cv\n",
      "individual models\n"
     ]
    },
    {
     "name": "stderr",
     "output_type": "stream",
     "text": [
      "/home/wanlab/nick/.local/lib/python3.8/site-packages/sklearn/discriminant_analysis.py:935: UserWarning: Variables are collinear\n",
      "  warnings.warn(\"Variables are collinear\")\n"
     ]
    },
    {
     "name": "stdout",
     "output_type": "stream",
     "text": [
      "cv\n",
      "individual models\n"
     ]
    },
    {
     "name": "stderr",
     "output_type": "stream",
     "text": [
      "/home/wanlab/nick/.local/lib/python3.8/site-packages/sklearn/discriminant_analysis.py:935: UserWarning: Variables are collinear\n",
      "  warnings.warn(\"Variables are collinear\")\n"
     ]
    },
    {
     "name": "stdout",
     "output_type": "stream",
     "text": [
      "cv\n",
      "individual models\n"
     ]
    },
    {
     "name": "stderr",
     "output_type": "stream",
     "text": [
      "/home/wanlab/nick/.local/lib/python3.8/site-packages/sklearn/discriminant_analysis.py:935: UserWarning: Variables are collinear\n",
      "  warnings.warn(\"Variables are collinear\")\n"
     ]
    },
    {
     "name": "stdout",
     "output_type": "stream",
     "text": [
      "cv\n",
      "individual models\n"
     ]
    },
    {
     "name": "stderr",
     "output_type": "stream",
     "text": [
      "/home/wanlab/nick/.local/lib/python3.8/site-packages/sklearn/discriminant_analysis.py:935: UserWarning: Variables are collinear\n",
      "  warnings.warn(\"Variables are collinear\")\n"
     ]
    },
    {
     "name": "stdout",
     "output_type": "stream",
     "text": [
      "cv\n",
      "individual models\n"
     ]
    },
    {
     "name": "stderr",
     "output_type": "stream",
     "text": [
      "/home/wanlab/nick/.local/lib/python3.8/site-packages/sklearn/discriminant_analysis.py:935: UserWarning: Variables are collinear\n",
      "  warnings.warn(\"Variables are collinear\")\n"
     ]
    },
    {
     "name": "stdout",
     "output_type": "stream",
     "text": [
      "cv\n",
      "individual models\n"
     ]
    },
    {
     "name": "stderr",
     "output_type": "stream",
     "text": [
      "/home/wanlab/nick/.local/lib/python3.8/site-packages/sklearn/discriminant_analysis.py:935: UserWarning: Variables are collinear\n",
      "  warnings.warn(\"Variables are collinear\")\n"
     ]
    },
    {
     "name": "stdout",
     "output_type": "stream",
     "text": [
      "cv\n",
      "individual models\n"
     ]
    },
    {
     "name": "stderr",
     "output_type": "stream",
     "text": [
      "/home/wanlab/nick/.local/lib/python3.8/site-packages/sklearn/discriminant_analysis.py:935: UserWarning: Variables are collinear\n",
      "  warnings.warn(\"Variables are collinear\")\n"
     ]
    },
    {
     "name": "stdout",
     "output_type": "stream",
     "text": [
      "cv\n",
      "individual models\n"
     ]
    },
    {
     "name": "stderr",
     "output_type": "stream",
     "text": [
      "/home/wanlab/nick/.local/lib/python3.8/site-packages/sklearn/discriminant_analysis.py:935: UserWarning: Variables are collinear\n",
      "  warnings.warn(\"Variables are collinear\")\n"
     ]
    },
    {
     "name": "stdout",
     "output_type": "stream",
     "text": [
      "cv\n",
      "individual models\n"
     ]
    },
    {
     "name": "stderr",
     "output_type": "stream",
     "text": [
      "/home/wanlab/nick/.local/lib/python3.8/site-packages/sklearn/discriminant_analysis.py:935: UserWarning: Variables are collinear\n",
      "  warnings.warn(\"Variables are collinear\")\n"
     ]
    },
    {
     "name": "stdout",
     "output_type": "stream",
     "text": [
      "cv\n",
      "individual models\n"
     ]
    },
    {
     "name": "stderr",
     "output_type": "stream",
     "text": [
      "/home/wanlab/nick/.local/lib/python3.8/site-packages/sklearn/discriminant_analysis.py:935: UserWarning: Variables are collinear\n",
      "  warnings.warn(\"Variables are collinear\")\n"
     ]
    },
    {
     "name": "stdout",
     "output_type": "stream",
     "text": [
      "cv\n",
      "individual models\n"
     ]
    },
    {
     "name": "stderr",
     "output_type": "stream",
     "text": [
      "/home/wanlab/nick/.local/lib/python3.8/site-packages/sklearn/discriminant_analysis.py:935: UserWarning: Variables are collinear\n",
      "  warnings.warn(\"Variables are collinear\")\n"
     ]
    },
    {
     "name": "stdout",
     "output_type": "stream",
     "text": [
      "cv\n",
      "individual models\n"
     ]
    },
    {
     "name": "stderr",
     "output_type": "stream",
     "text": [
      "/home/wanlab/nick/.local/lib/python3.8/site-packages/sklearn/discriminant_analysis.py:935: UserWarning: Variables are collinear\n",
      "  warnings.warn(\"Variables are collinear\")\n"
     ]
    },
    {
     "name": "stdout",
     "output_type": "stream",
     "text": [
      "cv\n",
      "individual models\n"
     ]
    },
    {
     "name": "stderr",
     "output_type": "stream",
     "text": [
      "/home/wanlab/nick/.local/lib/python3.8/site-packages/sklearn/discriminant_analysis.py:935: UserWarning: Variables are collinear\n",
      "  warnings.warn(\"Variables are collinear\")\n"
     ]
    },
    {
     "name": "stdout",
     "output_type": "stream",
     "text": [
      "cv\n",
      "individual models\n"
     ]
    },
    {
     "name": "stderr",
     "output_type": "stream",
     "text": [
      "/home/wanlab/nick/.local/lib/python3.8/site-packages/sklearn/discriminant_analysis.py:935: UserWarning: Variables are collinear\n",
      "  warnings.warn(\"Variables are collinear\")\n"
     ]
    },
    {
     "name": "stdout",
     "output_type": "stream",
     "text": [
      "cv\n",
      "individual models\n"
     ]
    },
    {
     "name": "stderr",
     "output_type": "stream",
     "text": [
      "/home/wanlab/nick/.local/lib/python3.8/site-packages/sklearn/discriminant_analysis.py:935: UserWarning: Variables are collinear\n",
      "  warnings.warn(\"Variables are collinear\")\n"
     ]
    },
    {
     "name": "stdout",
     "output_type": "stream",
     "text": [
      "cv\n",
      "individual models\n"
     ]
    },
    {
     "name": "stderr",
     "output_type": "stream",
     "text": [
      "/home/wanlab/nick/.local/lib/python3.8/site-packages/sklearn/discriminant_analysis.py:935: UserWarning: Variables are collinear\n",
      "  warnings.warn(\"Variables are collinear\")\n"
     ]
    },
    {
     "name": "stdout",
     "output_type": "stream",
     "text": [
      "cv\n",
      "individual models\n"
     ]
    },
    {
     "name": "stderr",
     "output_type": "stream",
     "text": [
      "/home/wanlab/nick/.local/lib/python3.8/site-packages/sklearn/discriminant_analysis.py:935: UserWarning: Variables are collinear\n",
      "  warnings.warn(\"Variables are collinear\")\n"
     ]
    },
    {
     "name": "stdout",
     "output_type": "stream",
     "text": [
      "cv\n",
      "individual models\n"
     ]
    },
    {
     "name": "stderr",
     "output_type": "stream",
     "text": [
      "/home/wanlab/nick/.local/lib/python3.8/site-packages/sklearn/discriminant_analysis.py:935: UserWarning: Variables are collinear\n",
      "  warnings.warn(\"Variables are collinear\")\n"
     ]
    },
    {
     "name": "stdout",
     "output_type": "stream",
     "text": [
      "cv\n",
      "individual models\n"
     ]
    },
    {
     "name": "stderr",
     "output_type": "stream",
     "text": [
      "/home/wanlab/nick/.local/lib/python3.8/site-packages/sklearn/discriminant_analysis.py:935: UserWarning: Variables are collinear\n",
      "  warnings.warn(\"Variables are collinear\")\n"
     ]
    },
    {
     "name": "stdout",
     "output_type": "stream",
     "text": [
      "cv\n",
      "individual models\n"
     ]
    },
    {
     "name": "stderr",
     "output_type": "stream",
     "text": [
      "/home/wanlab/nick/.local/lib/python3.8/site-packages/sklearn/discriminant_analysis.py:935: UserWarning: Variables are collinear\n",
      "  warnings.warn(\"Variables are collinear\")\n"
     ]
    },
    {
     "name": "stdout",
     "output_type": "stream",
     "text": [
      "cv\n",
      "individual models\n"
     ]
    },
    {
     "name": "stderr",
     "output_type": "stream",
     "text": [
      "/home/wanlab/nick/.local/lib/python3.8/site-packages/sklearn/discriminant_analysis.py:935: UserWarning: Variables are collinear\n",
      "  warnings.warn(\"Variables are collinear\")\n"
     ]
    },
    {
     "name": "stdout",
     "output_type": "stream",
     "text": [
      "cv\n",
      "individual models\n"
     ]
    },
    {
     "name": "stderr",
     "output_type": "stream",
     "text": [
      "/home/wanlab/nick/.local/lib/python3.8/site-packages/sklearn/discriminant_analysis.py:935: UserWarning: Variables are collinear\n",
      "  warnings.warn(\"Variables are collinear\")\n"
     ]
    },
    {
     "name": "stdout",
     "output_type": "stream",
     "text": [
      "cv\n",
      "individual models\n"
     ]
    },
    {
     "name": "stderr",
     "output_type": "stream",
     "text": [
      "/home/wanlab/nick/.local/lib/python3.8/site-packages/sklearn/discriminant_analysis.py:935: UserWarning: Variables are collinear\n",
      "  warnings.warn(\"Variables are collinear\")\n"
     ]
    },
    {
     "name": "stdout",
     "output_type": "stream",
     "text": [
      "cv\n",
      "individual models\n"
     ]
    },
    {
     "name": "stderr",
     "output_type": "stream",
     "text": [
      "/home/wanlab/nick/.local/lib/python3.8/site-packages/sklearn/discriminant_analysis.py:935: UserWarning: Variables are collinear\n",
      "  warnings.warn(\"Variables are collinear\")\n"
     ]
    },
    {
     "name": "stdout",
     "output_type": "stream",
     "text": [
      "cv\n",
      "individual models\n"
     ]
    },
    {
     "name": "stderr",
     "output_type": "stream",
     "text": [
      "/home/wanlab/nick/.local/lib/python3.8/site-packages/sklearn/discriminant_analysis.py:935: UserWarning: Variables are collinear\n",
      "  warnings.warn(\"Variables are collinear\")\n"
     ]
    },
    {
     "name": "stdout",
     "output_type": "stream",
     "text": [
      "cv\n",
      "individual models\n"
     ]
    },
    {
     "name": "stderr",
     "output_type": "stream",
     "text": [
      "/home/wanlab/nick/.local/lib/python3.8/site-packages/sklearn/discriminant_analysis.py:935: UserWarning: Variables are collinear\n",
      "  warnings.warn(\"Variables are collinear\")\n"
     ]
    },
    {
     "name": "stdout",
     "output_type": "stream",
     "text": [
      "cv\n",
      "individual models\n"
     ]
    },
    {
     "name": "stderr",
     "output_type": "stream",
     "text": [
      "/home/wanlab/nick/.local/lib/python3.8/site-packages/sklearn/discriminant_analysis.py:935: UserWarning: Variables are collinear\n",
      "  warnings.warn(\"Variables are collinear\")\n"
     ]
    },
    {
     "name": "stdout",
     "output_type": "stream",
     "text": [
      "cv\n",
      "individual models\n"
     ]
    },
    {
     "name": "stderr",
     "output_type": "stream",
     "text": [
      "/home/wanlab/nick/.local/lib/python3.8/site-packages/sklearn/discriminant_analysis.py:935: UserWarning: Variables are collinear\n",
      "  warnings.warn(\"Variables are collinear\")\n"
     ]
    },
    {
     "name": "stdout",
     "output_type": "stream",
     "text": [
      "cv\n",
      "individual models\n"
     ]
    },
    {
     "name": "stderr",
     "output_type": "stream",
     "text": [
      "/home/wanlab/nick/.local/lib/python3.8/site-packages/sklearn/discriminant_analysis.py:935: UserWarning: Variables are collinear\n",
      "  warnings.warn(\"Variables are collinear\")\n"
     ]
    },
    {
     "name": "stdout",
     "output_type": "stream",
     "text": [
      "cv\n",
      "individual models\n"
     ]
    },
    {
     "name": "stderr",
     "output_type": "stream",
     "text": [
      "/home/wanlab/nick/.local/lib/python3.8/site-packages/sklearn/discriminant_analysis.py:935: UserWarning: Variables are collinear\n",
      "  warnings.warn(\"Variables are collinear\")\n"
     ]
    },
    {
     "name": "stdout",
     "output_type": "stream",
     "text": [
      "cv\n",
      "individual models\n"
     ]
    },
    {
     "name": "stderr",
     "output_type": "stream",
     "text": [
      "/home/wanlab/nick/.local/lib/python3.8/site-packages/sklearn/discriminant_analysis.py:935: UserWarning: Variables are collinear\n",
      "  warnings.warn(\"Variables are collinear\")\n"
     ]
    },
    {
     "name": "stdout",
     "output_type": "stream",
     "text": [
      "cv\n",
      "individual models\n"
     ]
    },
    {
     "name": "stderr",
     "output_type": "stream",
     "text": [
      "/home/wanlab/nick/.local/lib/python3.8/site-packages/sklearn/discriminant_analysis.py:935: UserWarning: Variables are collinear\n",
      "  warnings.warn(\"Variables are collinear\")\n"
     ]
    },
    {
     "name": "stdout",
     "output_type": "stream",
     "text": [
      "cv\n",
      "individual models\n"
     ]
    },
    {
     "name": "stderr",
     "output_type": "stream",
     "text": [
      "/home/wanlab/nick/.local/lib/python3.8/site-packages/sklearn/discriminant_analysis.py:935: UserWarning: Variables are collinear\n",
      "  warnings.warn(\"Variables are collinear\")\n"
     ]
    },
    {
     "name": "stdout",
     "output_type": "stream",
     "text": [
      "cv\n",
      "individual models\n"
     ]
    },
    {
     "name": "stderr",
     "output_type": "stream",
     "text": [
      "/home/wanlab/nick/.local/lib/python3.8/site-packages/sklearn/discriminant_analysis.py:935: UserWarning: Variables are collinear\n",
      "  warnings.warn(\"Variables are collinear\")\n"
     ]
    },
    {
     "name": "stdout",
     "output_type": "stream",
     "text": [
      "cv\n",
      "individual models\n"
     ]
    },
    {
     "name": "stderr",
     "output_type": "stream",
     "text": [
      "/home/wanlab/nick/.local/lib/python3.8/site-packages/sklearn/discriminant_analysis.py:935: UserWarning: Variables are collinear\n",
      "  warnings.warn(\"Variables are collinear\")\n"
     ]
    },
    {
     "name": "stdout",
     "output_type": "stream",
     "text": [
      "cv\n",
      "individual models\n"
     ]
    },
    {
     "name": "stderr",
     "output_type": "stream",
     "text": [
      "/home/wanlab/nick/.local/lib/python3.8/site-packages/sklearn/discriminant_analysis.py:935: UserWarning: Variables are collinear\n",
      "  warnings.warn(\"Variables are collinear\")\n"
     ]
    },
    {
     "name": "stdout",
     "output_type": "stream",
     "text": [
      "cv\n",
      "individual models\n"
     ]
    },
    {
     "name": "stderr",
     "output_type": "stream",
     "text": [
      "/home/wanlab/nick/.local/lib/python3.8/site-packages/sklearn/discriminant_analysis.py:935: UserWarning: Variables are collinear\n",
      "  warnings.warn(\"Variables are collinear\")\n"
     ]
    },
    {
     "name": "stdout",
     "output_type": "stream",
     "text": [
      "cv\n",
      "individual models\n"
     ]
    },
    {
     "name": "stderr",
     "output_type": "stream",
     "text": [
      "/home/wanlab/nick/.local/lib/python3.8/site-packages/sklearn/discriminant_analysis.py:935: UserWarning: Variables are collinear\n",
      "  warnings.warn(\"Variables are collinear\")\n"
     ]
    },
    {
     "name": "stdout",
     "output_type": "stream",
     "text": [
      "cv\n",
      "individual models\n"
     ]
    },
    {
     "name": "stderr",
     "output_type": "stream",
     "text": [
      "/home/wanlab/nick/.local/lib/python3.8/site-packages/sklearn/discriminant_analysis.py:935: UserWarning: Variables are collinear\n",
      "  warnings.warn(\"Variables are collinear\")\n"
     ]
    },
    {
     "name": "stdout",
     "output_type": "stream",
     "text": [
      "cv\n",
      "individual models\n"
     ]
    },
    {
     "name": "stderr",
     "output_type": "stream",
     "text": [
      "/home/wanlab/nick/.local/lib/python3.8/site-packages/sklearn/discriminant_analysis.py:935: UserWarning: Variables are collinear\n",
      "  warnings.warn(\"Variables are collinear\")\n"
     ]
    },
    {
     "name": "stdout",
     "output_type": "stream",
     "text": [
      "cv\n",
      "individual models\n"
     ]
    },
    {
     "name": "stderr",
     "output_type": "stream",
     "text": [
      "/home/wanlab/nick/.local/lib/python3.8/site-packages/sklearn/discriminant_analysis.py:935: UserWarning: Variables are collinear\n",
      "  warnings.warn(\"Variables are collinear\")\n"
     ]
    },
    {
     "name": "stdout",
     "output_type": "stream",
     "text": [
      "cv\n",
      "individual models\n"
     ]
    },
    {
     "name": "stderr",
     "output_type": "stream",
     "text": [
      "/home/wanlab/nick/.local/lib/python3.8/site-packages/sklearn/discriminant_analysis.py:935: UserWarning: Variables are collinear\n",
      "  warnings.warn(\"Variables are collinear\")\n"
     ]
    },
    {
     "name": "stdout",
     "output_type": "stream",
     "text": [
      "cv\n",
      "individual models\n"
     ]
    },
    {
     "name": "stderr",
     "output_type": "stream",
     "text": [
      "/home/wanlab/nick/.local/lib/python3.8/site-packages/sklearn/discriminant_analysis.py:935: UserWarning: Variables are collinear\n",
      "  warnings.warn(\"Variables are collinear\")\n"
     ]
    },
    {
     "name": "stdout",
     "output_type": "stream",
     "text": [
      "cv\n",
      "individual models\n"
     ]
    },
    {
     "name": "stderr",
     "output_type": "stream",
     "text": [
      "/home/wanlab/nick/.local/lib/python3.8/site-packages/sklearn/discriminant_analysis.py:935: UserWarning: Variables are collinear\n",
      "  warnings.warn(\"Variables are collinear\")\n"
     ]
    },
    {
     "name": "stdout",
     "output_type": "stream",
     "text": [
      "cv\n",
      "individual models\n"
     ]
    },
    {
     "name": "stderr",
     "output_type": "stream",
     "text": [
      "/home/wanlab/nick/.local/lib/python3.8/site-packages/sklearn/discriminant_analysis.py:935: UserWarning: Variables are collinear\n",
      "  warnings.warn(\"Variables are collinear\")\n"
     ]
    },
    {
     "name": "stdout",
     "output_type": "stream",
     "text": [
      "cv\n",
      "individual models\n"
     ]
    },
    {
     "name": "stderr",
     "output_type": "stream",
     "text": [
      "/home/wanlab/nick/.local/lib/python3.8/site-packages/sklearn/discriminant_analysis.py:935: UserWarning: Variables are collinear\n",
      "  warnings.warn(\"Variables are collinear\")\n"
     ]
    },
    {
     "name": "stdout",
     "output_type": "stream",
     "text": [
      "cv\n",
      "individual models\n"
     ]
    },
    {
     "name": "stderr",
     "output_type": "stream",
     "text": [
      "/home/wanlab/nick/.local/lib/python3.8/site-packages/sklearn/discriminant_analysis.py:935: UserWarning: Variables are collinear\n",
      "  warnings.warn(\"Variables are collinear\")\n"
     ]
    },
    {
     "name": "stdout",
     "output_type": "stream",
     "text": [
      "cv\n",
      "individual models\n"
     ]
    },
    {
     "name": "stderr",
     "output_type": "stream",
     "text": [
      "/home/wanlab/nick/.local/lib/python3.8/site-packages/sklearn/discriminant_analysis.py:935: UserWarning: Variables are collinear\n",
      "  warnings.warn(\"Variables are collinear\")\n"
     ]
    },
    {
     "name": "stdout",
     "output_type": "stream",
     "text": [
      "cv\n",
      "individual models\n"
     ]
    },
    {
     "name": "stderr",
     "output_type": "stream",
     "text": [
      "/home/wanlab/nick/.local/lib/python3.8/site-packages/sklearn/discriminant_analysis.py:935: UserWarning: Variables are collinear\n",
      "  warnings.warn(\"Variables are collinear\")\n"
     ]
    },
    {
     "name": "stdout",
     "output_type": "stream",
     "text": [
      "cv\n",
      "individual models\n"
     ]
    },
    {
     "name": "stderr",
     "output_type": "stream",
     "text": [
      "/home/wanlab/nick/.local/lib/python3.8/site-packages/sklearn/discriminant_analysis.py:935: UserWarning: Variables are collinear\n",
      "  warnings.warn(\"Variables are collinear\")\n"
     ]
    },
    {
     "name": "stdout",
     "output_type": "stream",
     "text": [
      "cv\n",
      "individual models\n"
     ]
    },
    {
     "name": "stderr",
     "output_type": "stream",
     "text": [
      "/home/wanlab/nick/.local/lib/python3.8/site-packages/sklearn/discriminant_analysis.py:935: UserWarning: Variables are collinear\n",
      "  warnings.warn(\"Variables are collinear\")\n"
     ]
    },
    {
     "name": "stdout",
     "output_type": "stream",
     "text": [
      "cv\n",
      "individual models\n"
     ]
    },
    {
     "name": "stderr",
     "output_type": "stream",
     "text": [
      "/home/wanlab/nick/.local/lib/python3.8/site-packages/sklearn/discriminant_analysis.py:935: UserWarning: Variables are collinear\n",
      "  warnings.warn(\"Variables are collinear\")\n"
     ]
    },
    {
     "name": "stdout",
     "output_type": "stream",
     "text": [
      "cv\n",
      "individual models\n"
     ]
    },
    {
     "name": "stderr",
     "output_type": "stream",
     "text": [
      "/home/wanlab/nick/.local/lib/python3.8/site-packages/sklearn/discriminant_analysis.py:935: UserWarning: Variables are collinear\n",
      "  warnings.warn(\"Variables are collinear\")\n"
     ]
    },
    {
     "name": "stdout",
     "output_type": "stream",
     "text": [
      "cv\n",
      "individual models\n"
     ]
    },
    {
     "name": "stderr",
     "output_type": "stream",
     "text": [
      "/home/wanlab/nick/.local/lib/python3.8/site-packages/sklearn/discriminant_analysis.py:935: UserWarning: Variables are collinear\n",
      "  warnings.warn(\"Variables are collinear\")\n"
     ]
    },
    {
     "name": "stdout",
     "output_type": "stream",
     "text": [
      "cv\n",
      "individual models\n"
     ]
    },
    {
     "name": "stderr",
     "output_type": "stream",
     "text": [
      "/home/wanlab/nick/.local/lib/python3.8/site-packages/sklearn/discriminant_analysis.py:935: UserWarning: Variables are collinear\n",
      "  warnings.warn(\"Variables are collinear\")\n"
     ]
    },
    {
     "name": "stdout",
     "output_type": "stream",
     "text": [
      "cv\n",
      "individual models\n"
     ]
    },
    {
     "name": "stderr",
     "output_type": "stream",
     "text": [
      "/home/wanlab/nick/.local/lib/python3.8/site-packages/sklearn/discriminant_analysis.py:935: UserWarning: Variables are collinear\n",
      "  warnings.warn(\"Variables are collinear\")\n"
     ]
    },
    {
     "name": "stdout",
     "output_type": "stream",
     "text": [
      "cv\n",
      "individual models\n"
     ]
    },
    {
     "name": "stderr",
     "output_type": "stream",
     "text": [
      "/home/wanlab/nick/.local/lib/python3.8/site-packages/sklearn/discriminant_analysis.py:935: UserWarning: Variables are collinear\n",
      "  warnings.warn(\"Variables are collinear\")\n"
     ]
    },
    {
     "name": "stdout",
     "output_type": "stream",
     "text": [
      "cv\n",
      "individual models\n"
     ]
    },
    {
     "name": "stderr",
     "output_type": "stream",
     "text": [
      "/home/wanlab/nick/.local/lib/python3.8/site-packages/sklearn/discriminant_analysis.py:935: UserWarning: Variables are collinear\n",
      "  warnings.warn(\"Variables are collinear\")\n"
     ]
    },
    {
     "name": "stdout",
     "output_type": "stream",
     "text": [
      "cv\n",
      "individual models\n"
     ]
    },
    {
     "name": "stderr",
     "output_type": "stream",
     "text": [
      "/home/wanlab/nick/.local/lib/python3.8/site-packages/sklearn/discriminant_analysis.py:935: UserWarning: Variables are collinear\n",
      "  warnings.warn(\"Variables are collinear\")\n"
     ]
    },
    {
     "name": "stdout",
     "output_type": "stream",
     "text": [
      "cv\n",
      "individual models\n"
     ]
    },
    {
     "name": "stderr",
     "output_type": "stream",
     "text": [
      "/home/wanlab/nick/.local/lib/python3.8/site-packages/sklearn/discriminant_analysis.py:935: UserWarning: Variables are collinear\n",
      "  warnings.warn(\"Variables are collinear\")\n"
     ]
    },
    {
     "name": "stdout",
     "output_type": "stream",
     "text": [
      "cv\n",
      "individual models\n"
     ]
    },
    {
     "name": "stderr",
     "output_type": "stream",
     "text": [
      "/home/wanlab/nick/.local/lib/python3.8/site-packages/sklearn/discriminant_analysis.py:935: UserWarning: Variables are collinear\n",
      "  warnings.warn(\"Variables are collinear\")\n"
     ]
    },
    {
     "name": "stdout",
     "output_type": "stream",
     "text": [
      "cv\n",
      "individual models\n"
     ]
    },
    {
     "name": "stderr",
     "output_type": "stream",
     "text": [
      "/home/wanlab/nick/.local/lib/python3.8/site-packages/sklearn/discriminant_analysis.py:935: UserWarning: Variables are collinear\n",
      "  warnings.warn(\"Variables are collinear\")\n"
     ]
    },
    {
     "name": "stdout",
     "output_type": "stream",
     "text": [
      "cv\n",
      "individual models\n"
     ]
    },
    {
     "name": "stderr",
     "output_type": "stream",
     "text": [
      "/home/wanlab/nick/.local/lib/python3.8/site-packages/sklearn/discriminant_analysis.py:935: UserWarning: Variables are collinear\n",
      "  warnings.warn(\"Variables are collinear\")\n"
     ]
    },
    {
     "name": "stdout",
     "output_type": "stream",
     "text": [
      "cv\n",
      "individual models\n"
     ]
    },
    {
     "name": "stderr",
     "output_type": "stream",
     "text": [
      "/home/wanlab/nick/.local/lib/python3.8/site-packages/sklearn/discriminant_analysis.py:935: UserWarning: Variables are collinear\n",
      "  warnings.warn(\"Variables are collinear\")\n"
     ]
    },
    {
     "name": "stdout",
     "output_type": "stream",
     "text": [
      "cv\n",
      "individual models\n"
     ]
    },
    {
     "name": "stderr",
     "output_type": "stream",
     "text": [
      "/home/wanlab/nick/.local/lib/python3.8/site-packages/sklearn/discriminant_analysis.py:935: UserWarning: Variables are collinear\n",
      "  warnings.warn(\"Variables are collinear\")\n"
     ]
    },
    {
     "name": "stdout",
     "output_type": "stream",
     "text": [
      "cv\n",
      "individual models\n"
     ]
    },
    {
     "name": "stderr",
     "output_type": "stream",
     "text": [
      "/home/wanlab/nick/.local/lib/python3.8/site-packages/sklearn/discriminant_analysis.py:935: UserWarning: Variables are collinear\n",
      "  warnings.warn(\"Variables are collinear\")\n"
     ]
    },
    {
     "name": "stdout",
     "output_type": "stream",
     "text": [
      "cv\n",
      "individual models\n"
     ]
    },
    {
     "name": "stderr",
     "output_type": "stream",
     "text": [
      "/home/wanlab/nick/.local/lib/python3.8/site-packages/sklearn/discriminant_analysis.py:935: UserWarning: Variables are collinear\n",
      "  warnings.warn(\"Variables are collinear\")\n"
     ]
    },
    {
     "name": "stdout",
     "output_type": "stream",
     "text": [
      "cv\n",
      "individual models\n"
     ]
    },
    {
     "name": "stderr",
     "output_type": "stream",
     "text": [
      "/home/wanlab/nick/.local/lib/python3.8/site-packages/sklearn/discriminant_analysis.py:935: UserWarning: Variables are collinear\n",
      "  warnings.warn(\"Variables are collinear\")\n"
     ]
    },
    {
     "name": "stdout",
     "output_type": "stream",
     "text": [
      "cv\n",
      "individual models\n"
     ]
    },
    {
     "name": "stderr",
     "output_type": "stream",
     "text": [
      "/home/wanlab/nick/.local/lib/python3.8/site-packages/sklearn/discriminant_analysis.py:935: UserWarning: Variables are collinear\n",
      "  warnings.warn(\"Variables are collinear\")\n"
     ]
    },
    {
     "name": "stdout",
     "output_type": "stream",
     "text": [
      "cv\n",
      "individual models\n"
     ]
    },
    {
     "name": "stderr",
     "output_type": "stream",
     "text": [
      "/home/wanlab/nick/.local/lib/python3.8/site-packages/sklearn/discriminant_analysis.py:935: UserWarning: Variables are collinear\n",
      "  warnings.warn(\"Variables are collinear\")\n"
     ]
    },
    {
     "name": "stdout",
     "output_type": "stream",
     "text": [
      "cv\n",
      "individual models\n"
     ]
    },
    {
     "name": "stderr",
     "output_type": "stream",
     "text": [
      "/home/wanlab/nick/.local/lib/python3.8/site-packages/sklearn/discriminant_analysis.py:935: UserWarning: Variables are collinear\n",
      "  warnings.warn(\"Variables are collinear\")\n"
     ]
    },
    {
     "name": "stdout",
     "output_type": "stream",
     "text": [
      "cv\n",
      "individual models\n"
     ]
    },
    {
     "name": "stderr",
     "output_type": "stream",
     "text": [
      "/home/wanlab/nick/.local/lib/python3.8/site-packages/sklearn/discriminant_analysis.py:935: UserWarning: Variables are collinear\n",
      "  warnings.warn(\"Variables are collinear\")\n"
     ]
    },
    {
     "name": "stdout",
     "output_type": "stream",
     "text": [
      "cv\n",
      "individual models\n"
     ]
    },
    {
     "name": "stderr",
     "output_type": "stream",
     "text": [
      "/home/wanlab/nick/.local/lib/python3.8/site-packages/sklearn/discriminant_analysis.py:935: UserWarning: Variables are collinear\n",
      "  warnings.warn(\"Variables are collinear\")\n"
     ]
    },
    {
     "name": "stdout",
     "output_type": "stream",
     "text": [
      "cv\n",
      "individual models\n"
     ]
    },
    {
     "name": "stderr",
     "output_type": "stream",
     "text": [
      "/home/wanlab/nick/.local/lib/python3.8/site-packages/sklearn/discriminant_analysis.py:935: UserWarning: Variables are collinear\n",
      "  warnings.warn(\"Variables are collinear\")\n"
     ]
    },
    {
     "name": "stdout",
     "output_type": "stream",
     "text": [
      "cv\n",
      "individual models\n"
     ]
    },
    {
     "name": "stderr",
     "output_type": "stream",
     "text": [
      "/home/wanlab/nick/.local/lib/python3.8/site-packages/sklearn/discriminant_analysis.py:935: UserWarning: Variables are collinear\n",
      "  warnings.warn(\"Variables are collinear\")\n"
     ]
    },
    {
     "name": "stdout",
     "output_type": "stream",
     "text": [
      "cv\n",
      "individual models\n"
     ]
    },
    {
     "name": "stderr",
     "output_type": "stream",
     "text": [
      "/home/wanlab/nick/.local/lib/python3.8/site-packages/sklearn/discriminant_analysis.py:935: UserWarning: Variables are collinear\n",
      "  warnings.warn(\"Variables are collinear\")\n"
     ]
    },
    {
     "name": "stdout",
     "output_type": "stream",
     "text": [
      "cv\n",
      "individual models\n"
     ]
    },
    {
     "name": "stderr",
     "output_type": "stream",
     "text": [
      "/home/wanlab/nick/.local/lib/python3.8/site-packages/sklearn/discriminant_analysis.py:935: UserWarning: Variables are collinear\n",
      "  warnings.warn(\"Variables are collinear\")\n"
     ]
    },
    {
     "name": "stdout",
     "output_type": "stream",
     "text": [
      "cv\n",
      "individual models\n"
     ]
    },
    {
     "name": "stderr",
     "output_type": "stream",
     "text": [
      "/home/wanlab/nick/.local/lib/python3.8/site-packages/sklearn/discriminant_analysis.py:935: UserWarning: Variables are collinear\n",
      "  warnings.warn(\"Variables are collinear\")\n"
     ]
    },
    {
     "name": "stdout",
     "output_type": "stream",
     "text": [
      "cv\n",
      "individual models\n"
     ]
    },
    {
     "name": "stderr",
     "output_type": "stream",
     "text": [
      "/home/wanlab/nick/.local/lib/python3.8/site-packages/sklearn/discriminant_analysis.py:935: UserWarning: Variables are collinear\n",
      "  warnings.warn(\"Variables are collinear\")\n"
     ]
    },
    {
     "name": "stdout",
     "output_type": "stream",
     "text": [
      "cv\n",
      "individual models\n"
     ]
    },
    {
     "name": "stderr",
     "output_type": "stream",
     "text": [
      "/home/wanlab/nick/.local/lib/python3.8/site-packages/sklearn/discriminant_analysis.py:935: UserWarning: Variables are collinear\n",
      "  warnings.warn(\"Variables are collinear\")\n"
     ]
    },
    {
     "name": "stdout",
     "output_type": "stream",
     "text": [
      "cv\n",
      "individual models\n"
     ]
    },
    {
     "name": "stderr",
     "output_type": "stream",
     "text": [
      "/home/wanlab/nick/.local/lib/python3.8/site-packages/sklearn/discriminant_analysis.py:935: UserWarning: Variables are collinear\n",
      "  warnings.warn(\"Variables are collinear\")\n"
     ]
    },
    {
     "name": "stdout",
     "output_type": "stream",
     "text": [
      "cv\n",
      "individual models\n"
     ]
    },
    {
     "name": "stderr",
     "output_type": "stream",
     "text": [
      "/home/wanlab/nick/.local/lib/python3.8/site-packages/sklearn/discriminant_analysis.py:935: UserWarning: Variables are collinear\n",
      "  warnings.warn(\"Variables are collinear\")\n"
     ]
    },
    {
     "name": "stdout",
     "output_type": "stream",
     "text": [
      "cv\n",
      "individual models\n"
     ]
    },
    {
     "name": "stderr",
     "output_type": "stream",
     "text": [
      "/home/wanlab/nick/.local/lib/python3.8/site-packages/sklearn/discriminant_analysis.py:935: UserWarning: Variables are collinear\n",
      "  warnings.warn(\"Variables are collinear\")\n"
     ]
    },
    {
     "name": "stdout",
     "output_type": "stream",
     "text": [
      "cv\n",
      "individual models\n"
     ]
    },
    {
     "name": "stderr",
     "output_type": "stream",
     "text": [
      "/home/wanlab/nick/.local/lib/python3.8/site-packages/sklearn/discriminant_analysis.py:935: UserWarning: Variables are collinear\n",
      "  warnings.warn(\"Variables are collinear\")\n"
     ]
    },
    {
     "name": "stdout",
     "output_type": "stream",
     "text": [
      "cv\n",
      "individual models\n"
     ]
    },
    {
     "name": "stderr",
     "output_type": "stream",
     "text": [
      "/home/wanlab/nick/.local/lib/python3.8/site-packages/sklearn/discriminant_analysis.py:935: UserWarning: Variables are collinear\n",
      "  warnings.warn(\"Variables are collinear\")\n"
     ]
    },
    {
     "name": "stdout",
     "output_type": "stream",
     "text": [
      "cv\n",
      "individual models\n"
     ]
    },
    {
     "name": "stderr",
     "output_type": "stream",
     "text": [
      "/home/wanlab/nick/.local/lib/python3.8/site-packages/sklearn/discriminant_analysis.py:935: UserWarning: Variables are collinear\n",
      "  warnings.warn(\"Variables are collinear\")\n"
     ]
    },
    {
     "name": "stdout",
     "output_type": "stream",
     "text": [
      "cv\n",
      "individual models\n"
     ]
    },
    {
     "name": "stderr",
     "output_type": "stream",
     "text": [
      "/home/wanlab/nick/.local/lib/python3.8/site-packages/sklearn/discriminant_analysis.py:935: UserWarning: Variables are collinear\n",
      "  warnings.warn(\"Variables are collinear\")\n"
     ]
    },
    {
     "name": "stdout",
     "output_type": "stream",
     "text": [
      "cv\n",
      "individual models\n"
     ]
    },
    {
     "name": "stderr",
     "output_type": "stream",
     "text": [
      "/home/wanlab/nick/.local/lib/python3.8/site-packages/sklearn/discriminant_analysis.py:935: UserWarning: Variables are collinear\n",
      "  warnings.warn(\"Variables are collinear\")\n"
     ]
    },
    {
     "name": "stdout",
     "output_type": "stream",
     "text": [
      "cv\n",
      "\n",
      "model score of oof results for SVC\n",
      "Model Accuracy: 0.8645833333333334\n",
      "Precision: 0.8667328042328042\n",
      "Recall (Sensitivity): 0.8645833333333334\n",
      "F1 Score: 0.8641385302879839\n",
      "Matthews Correlation Coefficient (MCC): 0.818222148004452\n",
      "G-Measure: 0.9091837795495616\n",
      "AUC: 0.9868430119860578\n",
      "Specificity: 0.9544841015791721\n",
      "Jaccard Index: 0.7633201628352491\n",
      "Saving metrics to: /work/wanlab/nick//stackeval3/val_data/individual models/SVC/limma(0),metrics.csv\n",
      "PREDICTIONS                   subtype  Squamous      ADEX  Pancreatic Progenitor  \\\n",
      "0   Pancreatic Progenitor  0.116490  0.056952               0.795190   \n",
      "1                    ADEX  0.032352  0.897800               0.020608   \n",
      "2   Pancreatic Progenitor  0.251166  0.191497               0.526107   \n",
      "3   Pancreatic Progenitor  0.005766  0.064986               0.888897   \n",
      "4                    ADEX  0.095509  0.732893               0.152775   \n",
      "..                    ...       ...       ...                    ...   \n",
      "91            Immunogenic  0.006003  0.050148               0.006026   \n",
      "92                   ADEX  0.011189  0.800435               0.142019   \n",
      "93            Immunogenic  0.042381  0.039963               0.358583   \n",
      "94               Squamous  0.637687  0.052527               0.281623   \n",
      "95  Pancreatic Progenitor  0.001592  0.017964               0.885575   \n",
      "\n",
      "    Immunogenic  \n",
      "0      0.031368  \n",
      "1      0.049240  \n",
      "2      0.031230  \n",
      "3      0.040351  \n",
      "4      0.018823  \n",
      "..          ...  \n",
      "91     0.937823  \n",
      "92     0.046357  \n",
      "93     0.559073  \n",
      "94     0.028163  \n",
      "95     0.094869  \n",
      "\n",
      "[96 rows x 5 columns]\n",
      "\n",
      "model score of oof results for SVC2\n",
      "Model Accuracy: 0.90625\n",
      "Precision: 0.9077716161715522\n",
      "Recall (Sensitivity): 0.90625\n",
      "F1 Score: 0.9063660502079619\n",
      "Matthews Correlation Coefficient (MCC): 0.8736799159703267\n",
      "G-Measure: 0.9382686902505604\n",
      "AUC: 0.9846753738974249\n",
      "Specificity: 0.96830185659411\n",
      "Jaccard Index: 0.8297743922743923\n",
      "Saving metrics to: /work/wanlab/nick//stackeval3/val_data/individual models/SVC2/limma(0),metrics.csv\n",
      "PREDICTIONS                   subtype  Squamous      ADEX  Pancreatic Progenitor  \\\n",
      "0   Pancreatic Progenitor  0.208386  0.042119               0.701736   \n",
      "1                    ADEX  0.075091  0.822034               0.031080   \n",
      "2   Pancreatic Progenitor  0.344356  0.167954               0.447999   \n",
      "3   Pancreatic Progenitor  0.012586  0.079020               0.850098   \n",
      "4                    ADEX  0.245209  0.460705               0.258589   \n",
      "..                    ...       ...       ...                    ...   \n",
      "91            Immunogenic  0.018589  0.080392               0.013884   \n",
      "92                   ADEX  0.026709  0.799229               0.086367   \n",
      "93            Immunogenic  0.079763  0.020758               0.697803   \n",
      "94               Squamous  0.573646  0.024896               0.382356   \n",
      "95  Pancreatic Progenitor  0.003730  0.025793               0.759594   \n",
      "\n",
      "    Immunogenic  \n",
      "0      0.047759  \n",
      "1      0.071795  \n",
      "2      0.039691  \n",
      "3      0.058295  \n",
      "4      0.035497  \n",
      "..          ...  \n",
      "91     0.887135  \n",
      "92     0.087695  \n",
      "93     0.201677  \n",
      "94     0.019102  \n",
      "95     0.210883  \n",
      "\n",
      "[96 rows x 5 columns]\n",
      "\n",
      "model score of oof results for LogisticRegression\n",
      "Model Accuracy: 0.90625\n",
      "Precision: 0.907241010904804\n",
      "Recall (Sensitivity): 0.90625\n",
      "F1 Score: 0.9063258253912099\n",
      "Matthews Correlation Coefficient (MCC): 0.8733101573111083\n",
      "G-Measure: 0.9352788514023854\n",
      "AUC: 0.987585527368758\n",
      "Specificity: 0.9681724818608621\n",
      "Jaccard Index: 0.8275341386554622\n",
      "Saving metrics to: /work/wanlab/nick//stackeval3/val_data/individual models/LogisticRegression/limma(0),metrics.csv\n",
      "PREDICTIONS                   subtype      Squamous      ADEX  Pancreatic Progenitor  \\\n",
      "0   Pancreatic Progenitor  3.032983e-03  0.000254           9.966280e-01   \n",
      "1                    ADEX  7.699082e-05  0.999117           5.511734e-06   \n",
      "2   Pancreatic Progenitor  1.733089e-01  0.021542           8.050540e-01   \n",
      "3   Pancreatic Progenitor  8.482411e-06  0.007792           9.913168e-01   \n",
      "4                    ADEX  7.132894e-02  0.852495           7.609491e-02   \n",
      "..                    ...           ...       ...                    ...   \n",
      "91            Immunogenic  5.533628e-08  0.000009           1.133365e-08   \n",
      "92                   ADEX  7.055326e-06  0.983643           1.421599e-02   \n",
      "93            Immunogenic  6.291252e-03  0.001291           8.522605e-01   \n",
      "94               Squamous  8.284744e-01  0.000136           1.713615e-01   \n",
      "95  Pancreatic Progenitor  4.285721e-09  0.000005           9.879981e-01   \n",
      "\n",
      "    Immunogenic  \n",
      "0      0.000085  \n",
      "1      0.000800  \n",
      "2      0.000095  \n",
      "3      0.000883  \n",
      "4      0.000081  \n",
      "..          ...  \n",
      "91     0.999991  \n",
      "92     0.002134  \n",
      "93     0.140158  \n",
      "94     0.000028  \n",
      "95     0.011997  \n",
      "\n",
      "[96 rows x 5 columns]\n",
      "\n",
      "model score of oof results for QuadraticDiscriminantAnalysis\n",
      "Model Accuracy: 0.8125\n",
      "Precision: 0.8422427398989898\n",
      "Recall (Sensitivity): 0.8125\n",
      "F1 Score: 0.8179834041462035\n",
      "Matthews Correlation Coefficient (MCC): 0.7565073022599094\n",
      "G-Measure: 0.8796245823209131\n",
      "AUC: 0.941972486751316\n",
      "Specificity: 0.9400474818608622\n",
      "Jaccard Index: 0.6841746794871795\n",
      "Saving metrics to: /work/wanlab/nick//stackeval3/val_data/individual models/QuadraticDiscriminantAnalysis/limma(0),metrics.csv\n",
      "PREDICTIONS                   subtype  Squamous           ADEX  Pancreatic Progenitor  \\\n",
      "0   Pancreatic Progenitor       0.0  2.272267e-213           1.000000e+00   \n",
      "1                    ADEX       0.0   1.000000e+00           0.000000e+00   \n",
      "2   Pancreatic Progenitor       0.0   9.016082e-32           1.000000e+00   \n",
      "3   Pancreatic Progenitor       0.0  1.316344e-112           1.000000e+00   \n",
      "4                    ADEX       0.0   1.000000e+00           0.000000e+00   \n",
      "..                    ...       ...            ...                    ...   \n",
      "91            Immunogenic       0.0   0.000000e+00           0.000000e+00   \n",
      "92                   ADEX       0.0   1.000000e+00          5.428026e-131   \n",
      "93            Immunogenic       0.0  1.185421e-146           0.000000e+00   \n",
      "94               Squamous       1.0  1.099996e-289           0.000000e+00   \n",
      "95  Pancreatic Progenitor       0.0   1.000000e+00           5.819005e-13   \n",
      "\n",
      "      Immunogenic  \n",
      "0   3.934384e-271  \n",
      "1    0.000000e+00  \n",
      "2    0.000000e+00  \n",
      "3   1.556498e-292  \n",
      "4    0.000000e+00  \n",
      "..            ...  \n",
      "91   1.000000e+00  \n",
      "92   0.000000e+00  \n",
      "93   1.000000e+00  \n",
      "94  2.681948e-147  \n",
      "95  2.710999e-166  \n",
      "\n",
      "[96 rows x 5 columns]\n",
      "运行时间为: 269.62 秒\n",
      "combining [[1.16490387e-001 5.69516079e-002 7.95190227e-001 ... 2.27226698e-213\n",
      "  1.00000000e+000 3.93438375e-271]\n",
      " [3.23515298e-002 8.97800489e-001 2.06084209e-002 ... 1.00000000e+000\n",
      "  0.00000000e+000 0.00000000e+000]\n",
      " [2.51166007e-001 1.91496888e-001 5.26107310e-001 ... 9.01608210e-032\n",
      "  1.00000000e+000 0.00000000e+000]\n",
      " ...\n",
      " [4.23808584e-002 3.99629536e-002 3.58583252e-001 ... 1.18542119e-146\n",
      "  0.00000000e+000 1.00000000e+000]\n",
      " [6.37687186e-001 5.25272650e-002 2.81622621e-001 ... 1.09999569e-289\n",
      "  0.00000000e+000 2.68194841e-147]\n",
      " [1.59184481e-003 1.79639480e-002 8.85575459e-001 ... 1.00000000e+000\n",
      "  5.81900495e-013 2.71099911e-166]] [[13.56018914 12.68466835 13.10243664 ...  9.53005478 11.16103308\n",
      "  11.24920229]\n",
      " [15.4259582  14.08525845 12.01110512 ...  9.45622747 11.12707631\n",
      "  11.78331935]\n",
      " [14.4756837  13.26517897 12.82291838 ...  9.65623065 11.33179862\n",
      "  11.68015036]\n",
      " ...\n",
      " [14.28976923 13.62192201 12.67277184 ...  9.32578912  9.67174085\n",
      "  11.45401981]\n",
      " [14.71684472 13.81278796 13.58508909 ... 10.31590684 12.7838795\n",
      "  11.90067493]\n",
      " [14.18823419 12.92657629 11.70868561 ...  9.88942006  9.76636631\n",
      "  12.84604452]]\n",
      "stacked\n",
      "cv\n",
      "stacked\n",
      "cv\n",
      "stacked\n",
      "cv\n",
      "stacked\n",
      "cv\n",
      "stacked\n",
      "cv\n",
      "stacked\n",
      "cv\n",
      "stacked\n",
      "cv\n",
      "stacked\n",
      "cv\n",
      "stacked\n",
      "cv\n",
      "stacked\n",
      "cv\n",
      "stacked\n",
      "cv\n",
      "stacked\n",
      "cv\n",
      "stacked\n",
      "cv\n",
      "stacked\n",
      "cv\n",
      "stacked\n",
      "cv\n",
      "stacked\n",
      "cv\n",
      "stacked\n",
      "cv\n",
      "stacked\n",
      "cv\n",
      "stacked\n",
      "cv\n",
      "stacked\n",
      "cv\n",
      "stacked\n",
      "cv\n",
      "stacked\n",
      "cv\n",
      "stacked\n",
      "cv\n",
      "stacked\n",
      "cv\n",
      "stacked\n",
      "cv\n",
      "stacked\n",
      "cv\n",
      "stacked\n",
      "cv\n",
      "stacked\n",
      "cv\n",
      "stacked\n",
      "cv\n",
      "stacked\n",
      "cv\n",
      "stacked\n",
      "cv\n",
      "stacked\n",
      "cv\n",
      "stacked\n",
      "cv\n",
      "stacked\n",
      "cv\n",
      "stacked\n",
      "cv\n",
      "stacked\n",
      "cv\n",
      "stacked\n",
      "cv\n",
      "stacked\n",
      "cv\n",
      "stacked\n",
      "cv\n",
      "stacked\n",
      "cv\n",
      "stacked\n",
      "cv\n",
      "stacked\n",
      "cv\n",
      "stacked\n",
      "cv\n",
      "stacked\n",
      "cv\n",
      "stacked\n",
      "cv\n",
      "stacked\n",
      "cv\n",
      "stacked\n",
      "cv\n",
      "stacked\n",
      "cv\n",
      "stacked\n",
      "cv\n",
      "stacked\n",
      "cv\n",
      "stacked\n",
      "cv\n",
      "stacked\n",
      "cv\n",
      "stacked\n",
      "cv\n",
      "stacked\n",
      "cv\n",
      "stacked\n",
      "cv\n",
      "stacked\n",
      "cv\n",
      "stacked\n",
      "cv\n",
      "stacked\n",
      "cv\n",
      "stacked\n",
      "cv\n",
      "stacked\n",
      "cv\n",
      "stacked\n",
      "cv\n",
      "stacked\n",
      "cv\n",
      "stacked\n",
      "cv\n",
      "stacked\n",
      "cv\n",
      "stacked\n",
      "cv\n",
      "stacked\n",
      "cv\n",
      "stacked\n",
      "cv\n",
      "stacked\n",
      "cv\n",
      "stacked\n",
      "cv\n",
      "stacked\n",
      "cv\n",
      "stacked\n",
      "cv\n",
      "stacked\n",
      "cv\n",
      "stacked\n",
      "cv\n",
      "stacked\n",
      "cv\n",
      "stacked\n",
      "cv\n",
      "stacked\n",
      "cv\n",
      "stacked\n",
      "cv\n",
      "stacked\n",
      "cv\n",
      "stacked\n",
      "cv\n",
      "stacked\n",
      "cv\n",
      "stacked\n",
      "cv\n",
      "stacked\n",
      "cv\n",
      "stacked\n",
      "cv\n",
      "stacked\n",
      "cv\n",
      "stacked\n",
      "cv\n",
      "stacked\n",
      "cv\n",
      "stacked\n",
      "cv\n",
      "stacked\n",
      "cv\n",
      "stacked\n",
      "cv\n",
      "stacked\n",
      "cv\n",
      "stacked\n",
      "cv\n",
      "stacked\n",
      "cv\n",
      "stacked\n",
      "cv\n",
      "stacked\n",
      "cv\n",
      "stacked\n",
      "cv\n",
      "stacked\n",
      "cv\n",
      "\n",
      "model score of oof results for MLPClassifier\n",
      "Model Accuracy: 0.5729166666666666\n",
      "Precision: 0.566530257936508\n",
      "Recall (Sensitivity): 0.5729166666666666\n",
      "F1 Score: 0.568800004278441\n",
      "Matthews Correlation Coefficient (MCC): 0.42093137613914927\n",
      "G-Measure: 0.6796983606388415\n",
      "AUC: 0.8189824632771376\n",
      "Specificity: 0.8549309112249254\n",
      "Jaccard Index: 0.3986053388746803\n",
      "Saving metrics to: /work/wanlab/nick//stackeval3/val_data/stacked/MLPClassifier/limma(0),metrics.csv\n",
      "PREDICTIONS                   subtype      Squamous          ADEX  Pancreatic Progenitor  \\\n",
      "0             Immunogenic  5.144491e-09  1.085984e-06           6.683138e-12   \n",
      "1                    ADEX  1.986483e-05  1.119781e-01           8.871481e-01   \n",
      "2   Pancreatic Progenitor  1.492727e-04  2.474950e-02           9.581424e-01   \n",
      "3   Pancreatic Progenitor  3.524562e-06  1.511231e-02           9.834799e-01   \n",
      "4   Pancreatic Progenitor  4.498151e-03  5.154153e-01           4.800405e-01   \n",
      "..                    ...           ...           ...                    ...   \n",
      "91                   ADEX  3.743487e-02  1.077911e-03           5.761788e-01   \n",
      "92               Squamous  9.999996e-01  1.318084e-10           1.726555e-14   \n",
      "93                   ADEX  6.469765e-03  2.155942e-09           9.935298e-01   \n",
      "94  Pancreatic Progenitor  3.424064e-05  8.456306e-01           1.394990e-01   \n",
      "95               Squamous  4.002817e-02  4.083325e-02           8.987452e-01   \n",
      "\n",
      "     Immunogenic  \n",
      "0   9.999989e-01  \n",
      "1   8.539958e-04  \n",
      "2   1.695884e-02  \n",
      "3   1.404295e-03  \n",
      "4   4.603912e-05  \n",
      "..           ...  \n",
      "91  3.853084e-01  \n",
      "92  3.942873e-07  \n",
      "93  4.171792e-07  \n",
      "94  1.483616e-02  \n",
      "95  2.039342e-02  \n",
      "\n",
      "[96 rows x 5 columns]\n",
      "\n",
      "model score of oof results for RandomForestClassifier\n",
      "Model Accuracy: 0.875\n",
      "Precision: 0.8764165521978023\n",
      "Recall (Sensitivity): 0.875\n",
      "F1 Score: 0.8745899972892383\n",
      "Matthews Correlation Coefficient (MCC): 0.8307609190082502\n",
      "G-Measure: 0.910078388028133\n",
      "AUC: 0.984554251805022\n",
      "Specificity: 0.9570755975245412\n",
      "Jaccard Index: 0.7742139959432048\n",
      "Saving metrics to: /work/wanlab/nick//stackeval3/val_data/stacked/RandomForestClassifier/limma(0),metrics.csv\n",
      "PREDICTIONS                   subtype  Squamous  ADEX  Pancreatic Progenitor  Immunogenic\n",
      "0             Immunogenic      0.05  0.02                   0.05         0.88\n",
      "1                    ADEX      0.15  0.38                   0.37         0.10\n",
      "2   Pancreatic Progenitor      0.06  0.09                   0.54         0.31\n",
      "3   Pancreatic Progenitor      0.04  0.15                   0.70         0.11\n",
      "4   Pancreatic Progenitor      0.11  0.04                   0.81         0.04\n",
      "..                    ...       ...   ...                    ...          ...\n",
      "91                   ADEX      0.04  0.35                   0.26         0.35\n",
      "92               Squamous      0.85  0.04                   0.08         0.03\n",
      "93                   ADEX      0.20  0.43                   0.28         0.09\n",
      "94  Pancreatic Progenitor      0.06  0.55                   0.29         0.10\n",
      "95               Squamous      0.39  0.32                   0.23         0.06\n",
      "\n",
      "[96 rows x 5 columns]\n",
      "\n",
      "model score of oof results for LogisticRegression2\n",
      "Model Accuracy: 0.90625\n",
      "Precision: 0.907241010904804\n",
      "Recall (Sensitivity): 0.90625\n",
      "F1 Score: 0.9063258253912099\n",
      "Matthews Correlation Coefficient (MCC): 0.8733101573111083\n",
      "G-Measure: 0.9352788514023854\n",
      "AUC: 0.987585527368758\n",
      "Specificity: 0.9681724818608621\n",
      "Jaccard Index: 0.8275341386554622\n",
      "Saving metrics to: /work/wanlab/nick//stackeval3/val_data/stacked/LogisticRegression2/limma(0),metrics.csv\n",
      "PREDICTIONS                   subtype      Squamous          ADEX  Pancreatic Progenitor  \\\n",
      "0             Immunogenic  3.625503e-09  9.952246e-10           2.301499e-10   \n",
      "1                    ADEX  1.152888e-04  8.845758e-01           1.141476e-01   \n",
      "2   Pancreatic Progenitor  4.355554e-09  4.639950e-06           9.879226e-01   \n",
      "3   Pancreatic Progenitor  8.310453e-06  7.578239e-03           9.915550e-01   \n",
      "4   Pancreatic Progenitor  4.428612e-05  5.515689e-04           9.994041e-01   \n",
      "..                    ...           ...           ...                    ...   \n",
      "91                   ADEX  3.282952e-07  9.376538e-01           2.237175e-02   \n",
      "92               Squamous  1.000000e+00  8.974250e-13           4.522799e-13   \n",
      "93                   ADEX  2.190355e-04  9.825426e-01           1.721083e-02   \n",
      "94  Pancreatic Progenitor  1.826726e-07  6.697735e-01           3.289301e-01   \n",
      "95               Squamous  6.517996e-01  3.263065e-01           2.187674e-02   \n",
      "\n",
      "     Immunogenic  \n",
      "0   1.000000e+00  \n",
      "1   1.161332e-03  \n",
      "2   1.207275e-02  \n",
      "3   8.584446e-04  \n",
      "4   9.384599e-08  \n",
      "..           ...  \n",
      "91  3.997414e-02  \n",
      "92  5.378586e-09  \n",
      "93  2.757250e-05  \n",
      "94  1.296171e-03  \n",
      "95  1.713636e-05  \n",
      "\n",
      "[96 rows x 5 columns]\n",
      "\n",
      "model score of oof results for GaussianNB2\n",
      "Model Accuracy: 0.8229166666666666\n",
      "Precision: 0.8288629395966353\n",
      "Recall (Sensitivity): 0.8229166666666666\n",
      "F1 Score: 0.8193307152406417\n",
      "Matthews Correlation Coefficient (MCC): 0.7615133844877985\n",
      "G-Measure: 0.8592464682487193\n",
      "AUC: 0.920162451984635\n",
      "Specificity: 0.9385323303457106\n",
      "Jaccard Index: 0.6821765399351606\n",
      "Saving metrics to: /work/wanlab/nick//stackeval3/val_data/stacked/GaussianNB2/limma(0),metrics.csv\n",
      "PREDICTIONS                   subtype  Squamous          ADEX  Pancreatic Progenitor  \\\n",
      "0             Immunogenic       0.0  0.000000e+00           0.000000e+00   \n",
      "1                    ADEX       0.0  1.000000e+00           0.000000e+00   \n",
      "2   Pancreatic Progenitor       0.0  0.000000e+00           1.000000e+00   \n",
      "3   Pancreatic Progenitor       0.0  0.000000e+00           1.000000e+00   \n",
      "4   Pancreatic Progenitor       0.0  0.000000e+00           1.000000e+00   \n",
      "..                    ...       ...           ...                    ...   \n",
      "91                   ADEX       0.0  1.000000e+00           2.786312e-39   \n",
      "92               Squamous       1.0  0.000000e+00           0.000000e+00   \n",
      "93                   ADEX       0.0  3.271392e-47           1.000000e+00   \n",
      "94  Pancreatic Progenitor       0.0  1.000000e+00           0.000000e+00   \n",
      "95               Squamous       0.0  1.000000e+00          5.588673e-177   \n",
      "\n",
      "    Immunogenic  \n",
      "0           1.0  \n",
      "1           0.0  \n",
      "2           0.0  \n",
      "3           0.0  \n",
      "4           0.0  \n",
      "..          ...  \n",
      "91          0.0  \n",
      "92          0.0  \n",
      "93          0.0  \n",
      "94          0.0  \n",
      "95          0.0  \n",
      "\n",
      "[96 rows x 5 columns]\n",
      "\n",
      "model score of oof results for SVC3\n",
      "Model Accuracy: 0.8854166666666666\n",
      "Precision: 0.891441968525302\n",
      "Recall (Sensitivity): 0.8854166666666666\n",
      "F1 Score: 0.8857571122577969\n",
      "Matthews Correlation Coefficient (MCC): 0.847046869768925\n",
      "G-Measure: 0.9229308733968031\n",
      "AUC: 0.9856022816190069\n",
      "Specificity: 0.9613969803670508\n",
      "Jaccard Index: 0.7977251412244541\n",
      "Saving metrics to: /work/wanlab/nick//stackeval3/val_data/stacked/SVC3/limma(0),metrics.csv\n",
      "PREDICTIONS                   subtype  Squamous      ADEX  Pancreatic Progenitor  \\\n",
      "0             Immunogenic  0.003198  0.002302               0.001081   \n",
      "1                    ADEX  0.018813  0.871676               0.092652   \n",
      "2   Pancreatic Progenitor  0.002335  0.020088               0.827578   \n",
      "3   Pancreatic Progenitor  0.004253  0.050089               0.915258   \n",
      "4   Pancreatic Progenitor  0.021071  0.049740               0.925688   \n",
      "..                    ...       ...       ...                    ...   \n",
      "91                   ADEX  0.005603  0.663144               0.083285   \n",
      "92               Squamous  0.993820  0.000965               0.000145   \n",
      "93                   ADEX  0.091073  0.708552               0.172563   \n",
      "94  Pancreatic Progenitor  0.003207  0.865561               0.107033   \n",
      "95               Squamous  0.402495  0.390233               0.190205   \n",
      "\n",
      "    Immunogenic  \n",
      "0      0.993420  \n",
      "1      0.016859  \n",
      "2      0.149999  \n",
      "3      0.030399  \n",
      "4      0.003501  \n",
      "..          ...  \n",
      "91     0.247968  \n",
      "92     0.005069  \n",
      "93     0.027812  \n",
      "94     0.024199  \n",
      "95     0.017068  \n",
      "\n",
      "[96 rows x 5 columns]\n",
      "\n",
      "model score of oof results for SVC4\n",
      "Model Accuracy: 0.9270833333333334\n",
      "Precision: 0.9282457295657727\n",
      "Recall (Sensitivity): 0.9270833333333334\n",
      "F1 Score: 0.927124353652804\n",
      "Matthews Correlation Coefficient (MCC): 0.9017909960019698\n",
      "G-Measure: 0.9519085598926197\n",
      "AUC: 0.9862314273900981\n",
      "Specificity: 0.9752147353819889\n",
      "Jaccard Index: 0.8669652957336781\n",
      "Saving metrics to: /work/wanlab/nick//stackeval3/val_data/stacked/SVC4/limma(0),metrics.csv\n",
      "PREDICTIONS                   subtype  Squamous      ADEX  Pancreatic Progenitor  \\\n",
      "0             Immunogenic  0.003876  0.001502               0.001076   \n",
      "1                    ADEX  0.044105  0.566471               0.350828   \n",
      "2   Pancreatic Progenitor  0.003515  0.024865               0.755100   \n",
      "3   Pancreatic Progenitor  0.013860  0.084121               0.844359   \n",
      "4   Pancreatic Progenitor  0.065348  0.072146               0.854822   \n",
      "..                    ...       ...       ...                    ...   \n",
      "91                   ADEX  0.009718  0.700991               0.110534   \n",
      "92               Squamous  0.996368  0.000071               0.000350   \n",
      "93                   ADEX  0.056439  0.772674               0.130899   \n",
      "94  Pancreatic Progenitor  0.008338  0.652637               0.297245   \n",
      "95               Squamous  0.413478  0.380911               0.177132   \n",
      "\n",
      "    Immunogenic  \n",
      "0      0.993546  \n",
      "1      0.038595  \n",
      "2      0.216519  \n",
      "3      0.057660  \n",
      "4      0.007685  \n",
      "..          ...  \n",
      "91     0.178756  \n",
      "92     0.003212  \n",
      "93     0.039987  \n",
      "94     0.041780  \n",
      "95     0.028478  \n",
      "\n",
      "[96 rows x 5 columns]\n",
      "run 4\n",
      "Model Pair: SVC + SVC + GaussianNB + XGBClassifier\n",
      "USEDmodelnames ['SVC', 'SVC2', 'GaussianNB', 'XGBClassifier']\n",
      "Running with: SVC and SVC and GaussianNB and XGBClassifier\n",
      "Random state: 0\n",
      "['SVC', 'SVC2', 'GaussianNB', 'XGBClassifier']\n",
      "individual models\n"
     ]
    },
    {
     "name": "stderr",
     "output_type": "stream",
     "text": [
      "/home/wanlab/nick/.local/lib/python3.8/site-packages/xgboost/core.py:158: UserWarning: [10:31:36] WARNING: /workspace/src/learner.cc:740: \n",
      "Parameters: { \"use_label_encoder\" } are not used.\n",
      "\n",
      "  warnings.warn(smsg, UserWarning)\n"
     ]
    },
    {
     "name": "stdout",
     "output_type": "stream",
     "text": [
      "cv\n",
      "individual models\n"
     ]
    },
    {
     "name": "stderr",
     "output_type": "stream",
     "text": [
      "/home/wanlab/nick/.local/lib/python3.8/site-packages/xgboost/core.py:158: UserWarning: [10:31:48] WARNING: /workspace/src/learner.cc:740: \n",
      "Parameters: { \"use_label_encoder\" } are not used.\n",
      "\n",
      "  warnings.warn(smsg, UserWarning)\n"
     ]
    },
    {
     "name": "stdout",
     "output_type": "stream",
     "text": [
      "cv\n",
      "individual models\n"
     ]
    },
    {
     "name": "stderr",
     "output_type": "stream",
     "text": [
      "/home/wanlab/nick/.local/lib/python3.8/site-packages/xgboost/core.py:158: UserWarning: [10:32:00] WARNING: /workspace/src/learner.cc:740: \n",
      "Parameters: { \"use_label_encoder\" } are not used.\n",
      "\n",
      "  warnings.warn(smsg, UserWarning)\n"
     ]
    },
    {
     "name": "stdout",
     "output_type": "stream",
     "text": [
      "cv\n",
      "individual models\n"
     ]
    },
    {
     "name": "stderr",
     "output_type": "stream",
     "text": [
      "/home/wanlab/nick/.local/lib/python3.8/site-packages/xgboost/core.py:158: UserWarning: [10:32:11] WARNING: /workspace/src/learner.cc:740: \n",
      "Parameters: { \"use_label_encoder\" } are not used.\n",
      "\n",
      "  warnings.warn(smsg, UserWarning)\n"
     ]
    },
    {
     "name": "stdout",
     "output_type": "stream",
     "text": [
      "cv\n",
      "individual models\n"
     ]
    },
    {
     "name": "stderr",
     "output_type": "stream",
     "text": [
      "/home/wanlab/nick/.local/lib/python3.8/site-packages/xgboost/core.py:158: UserWarning: [10:32:23] WARNING: /workspace/src/learner.cc:740: \n",
      "Parameters: { \"use_label_encoder\" } are not used.\n",
      "\n",
      "  warnings.warn(smsg, UserWarning)\n"
     ]
    },
    {
     "name": "stdout",
     "output_type": "stream",
     "text": [
      "cv\n",
      "individual models\n"
     ]
    },
    {
     "name": "stderr",
     "output_type": "stream",
     "text": [
      "/home/wanlab/nick/.local/lib/python3.8/site-packages/xgboost/core.py:158: UserWarning: [10:32:35] WARNING: /workspace/src/learner.cc:740: \n",
      "Parameters: { \"use_label_encoder\" } are not used.\n",
      "\n",
      "  warnings.warn(smsg, UserWarning)\n"
     ]
    },
    {
     "name": "stdout",
     "output_type": "stream",
     "text": [
      "cv\n",
      "individual models\n"
     ]
    },
    {
     "name": "stderr",
     "output_type": "stream",
     "text": [
      "/home/wanlab/nick/.local/lib/python3.8/site-packages/xgboost/core.py:158: UserWarning: [10:32:47] WARNING: /workspace/src/learner.cc:740: \n",
      "Parameters: { \"use_label_encoder\" } are not used.\n",
      "\n",
      "  warnings.warn(smsg, UserWarning)\n"
     ]
    },
    {
     "name": "stdout",
     "output_type": "stream",
     "text": [
      "cv\n",
      "individual models\n"
     ]
    },
    {
     "name": "stderr",
     "output_type": "stream",
     "text": [
      "/home/wanlab/nick/.local/lib/python3.8/site-packages/xgboost/core.py:158: UserWarning: [10:32:58] WARNING: /workspace/src/learner.cc:740: \n",
      "Parameters: { \"use_label_encoder\" } are not used.\n",
      "\n",
      "  warnings.warn(smsg, UserWarning)\n"
     ]
    },
    {
     "name": "stdout",
     "output_type": "stream",
     "text": [
      "cv\n",
      "individual models\n"
     ]
    },
    {
     "name": "stderr",
     "output_type": "stream",
     "text": [
      "/home/wanlab/nick/.local/lib/python3.8/site-packages/xgboost/core.py:158: UserWarning: [10:33:11] WARNING: /workspace/src/learner.cc:740: \n",
      "Parameters: { \"use_label_encoder\" } are not used.\n",
      "\n",
      "  warnings.warn(smsg, UserWarning)\n"
     ]
    },
    {
     "name": "stdout",
     "output_type": "stream",
     "text": [
      "cv\n",
      "individual models\n"
     ]
    },
    {
     "name": "stderr",
     "output_type": "stream",
     "text": [
      "/home/wanlab/nick/.local/lib/python3.8/site-packages/xgboost/core.py:158: UserWarning: [10:33:22] WARNING: /workspace/src/learner.cc:740: \n",
      "Parameters: { \"use_label_encoder\" } are not used.\n",
      "\n",
      "  warnings.warn(smsg, UserWarning)\n"
     ]
    },
    {
     "name": "stdout",
     "output_type": "stream",
     "text": [
      "cv\n",
      "individual models\n"
     ]
    },
    {
     "name": "stderr",
     "output_type": "stream",
     "text": [
      "/home/wanlab/nick/.local/lib/python3.8/site-packages/xgboost/core.py:158: UserWarning: [10:33:34] WARNING: /workspace/src/learner.cc:740: \n",
      "Parameters: { \"use_label_encoder\" } are not used.\n",
      "\n",
      "  warnings.warn(smsg, UserWarning)\n"
     ]
    },
    {
     "name": "stdout",
     "output_type": "stream",
     "text": [
      "cv\n",
      "individual models\n"
     ]
    },
    {
     "name": "stderr",
     "output_type": "stream",
     "text": [
      "/home/wanlab/nick/.local/lib/python3.8/site-packages/xgboost/core.py:158: UserWarning: [10:33:45] WARNING: /workspace/src/learner.cc:740: \n",
      "Parameters: { \"use_label_encoder\" } are not used.\n",
      "\n",
      "  warnings.warn(smsg, UserWarning)\n"
     ]
    },
    {
     "name": "stdout",
     "output_type": "stream",
     "text": [
      "cv\n",
      "individual models\n"
     ]
    },
    {
     "name": "stderr",
     "output_type": "stream",
     "text": [
      "/home/wanlab/nick/.local/lib/python3.8/site-packages/xgboost/core.py:158: UserWarning: [10:33:57] WARNING: /workspace/src/learner.cc:740: \n",
      "Parameters: { \"use_label_encoder\" } are not used.\n",
      "\n",
      "  warnings.warn(smsg, UserWarning)\n"
     ]
    },
    {
     "name": "stdout",
     "output_type": "stream",
     "text": [
      "cv\n",
      "individual models\n"
     ]
    },
    {
     "name": "stderr",
     "output_type": "stream",
     "text": [
      "/home/wanlab/nick/.local/lib/python3.8/site-packages/xgboost/core.py:158: UserWarning: [10:34:08] WARNING: /workspace/src/learner.cc:740: \n",
      "Parameters: { \"use_label_encoder\" } are not used.\n",
      "\n",
      "  warnings.warn(smsg, UserWarning)\n"
     ]
    },
    {
     "name": "stdout",
     "output_type": "stream",
     "text": [
      "cv\n",
      "individual models\n"
     ]
    },
    {
     "name": "stderr",
     "output_type": "stream",
     "text": [
      "/home/wanlab/nick/.local/lib/python3.8/site-packages/xgboost/core.py:158: UserWarning: [10:34:20] WARNING: /workspace/src/learner.cc:740: \n",
      "Parameters: { \"use_label_encoder\" } are not used.\n",
      "\n",
      "  warnings.warn(smsg, UserWarning)\n"
     ]
    },
    {
     "name": "stdout",
     "output_type": "stream",
     "text": [
      "cv\n",
      "individual models\n"
     ]
    },
    {
     "name": "stderr",
     "output_type": "stream",
     "text": [
      "/home/wanlab/nick/.local/lib/python3.8/site-packages/xgboost/core.py:158: UserWarning: [10:34:31] WARNING: /workspace/src/learner.cc:740: \n",
      "Parameters: { \"use_label_encoder\" } are not used.\n",
      "\n",
      "  warnings.warn(smsg, UserWarning)\n"
     ]
    },
    {
     "name": "stdout",
     "output_type": "stream",
     "text": [
      "cv\n",
      "individual models\n"
     ]
    },
    {
     "name": "stderr",
     "output_type": "stream",
     "text": [
      "/home/wanlab/nick/.local/lib/python3.8/site-packages/xgboost/core.py:158: UserWarning: [10:34:43] WARNING: /workspace/src/learner.cc:740: \n",
      "Parameters: { \"use_label_encoder\" } are not used.\n",
      "\n",
      "  warnings.warn(smsg, UserWarning)\n"
     ]
    },
    {
     "name": "stdout",
     "output_type": "stream",
     "text": [
      "cv\n",
      "individual models\n"
     ]
    },
    {
     "name": "stderr",
     "output_type": "stream",
     "text": [
      "/home/wanlab/nick/.local/lib/python3.8/site-packages/xgboost/core.py:158: UserWarning: [10:34:54] WARNING: /workspace/src/learner.cc:740: \n",
      "Parameters: { \"use_label_encoder\" } are not used.\n",
      "\n",
      "  warnings.warn(smsg, UserWarning)\n"
     ]
    },
    {
     "name": "stdout",
     "output_type": "stream",
     "text": [
      "cv\n",
      "individual models\n"
     ]
    },
    {
     "name": "stderr",
     "output_type": "stream",
     "text": [
      "/home/wanlab/nick/.local/lib/python3.8/site-packages/xgboost/core.py:158: UserWarning: [10:35:06] WARNING: /workspace/src/learner.cc:740: \n",
      "Parameters: { \"use_label_encoder\" } are not used.\n",
      "\n",
      "  warnings.warn(smsg, UserWarning)\n"
     ]
    },
    {
     "name": "stdout",
     "output_type": "stream",
     "text": [
      "cv\n",
      "individual models\n"
     ]
    },
    {
     "name": "stderr",
     "output_type": "stream",
     "text": [
      "/home/wanlab/nick/.local/lib/python3.8/site-packages/xgboost/core.py:158: UserWarning: [10:35:17] WARNING: /workspace/src/learner.cc:740: \n",
      "Parameters: { \"use_label_encoder\" } are not used.\n",
      "\n",
      "  warnings.warn(smsg, UserWarning)\n"
     ]
    },
    {
     "name": "stdout",
     "output_type": "stream",
     "text": [
      "cv\n",
      "individual models\n"
     ]
    },
    {
     "name": "stderr",
     "output_type": "stream",
     "text": [
      "/home/wanlab/nick/.local/lib/python3.8/site-packages/xgboost/core.py:158: UserWarning: [10:35:29] WARNING: /workspace/src/learner.cc:740: \n",
      "Parameters: { \"use_label_encoder\" } are not used.\n",
      "\n",
      "  warnings.warn(smsg, UserWarning)\n"
     ]
    },
    {
     "name": "stdout",
     "output_type": "stream",
     "text": [
      "cv\n",
      "individual models\n"
     ]
    },
    {
     "name": "stderr",
     "output_type": "stream",
     "text": [
      "/home/wanlab/nick/.local/lib/python3.8/site-packages/xgboost/core.py:158: UserWarning: [10:35:41] WARNING: /workspace/src/learner.cc:740: \n",
      "Parameters: { \"use_label_encoder\" } are not used.\n",
      "\n",
      "  warnings.warn(smsg, UserWarning)\n"
     ]
    },
    {
     "name": "stdout",
     "output_type": "stream",
     "text": [
      "cv\n",
      "individual models\n"
     ]
    },
    {
     "name": "stderr",
     "output_type": "stream",
     "text": [
      "/home/wanlab/nick/.local/lib/python3.8/site-packages/xgboost/core.py:158: UserWarning: [10:35:52] WARNING: /workspace/src/learner.cc:740: \n",
      "Parameters: { \"use_label_encoder\" } are not used.\n",
      "\n",
      "  warnings.warn(smsg, UserWarning)\n"
     ]
    },
    {
     "name": "stdout",
     "output_type": "stream",
     "text": [
      "cv\n",
      "individual models\n"
     ]
    },
    {
     "name": "stderr",
     "output_type": "stream",
     "text": [
      "/home/wanlab/nick/.local/lib/python3.8/site-packages/xgboost/core.py:158: UserWarning: [10:36:04] WARNING: /workspace/src/learner.cc:740: \n",
      "Parameters: { \"use_label_encoder\" } are not used.\n",
      "\n",
      "  warnings.warn(smsg, UserWarning)\n"
     ]
    },
    {
     "name": "stdout",
     "output_type": "stream",
     "text": [
      "cv\n",
      "individual models\n"
     ]
    },
    {
     "name": "stderr",
     "output_type": "stream",
     "text": [
      "/home/wanlab/nick/.local/lib/python3.8/site-packages/xgboost/core.py:158: UserWarning: [10:36:15] WARNING: /workspace/src/learner.cc:740: \n",
      "Parameters: { \"use_label_encoder\" } are not used.\n",
      "\n",
      "  warnings.warn(smsg, UserWarning)\n"
     ]
    },
    {
     "name": "stdout",
     "output_type": "stream",
     "text": [
      "cv\n",
      "individual models\n"
     ]
    },
    {
     "name": "stderr",
     "output_type": "stream",
     "text": [
      "/home/wanlab/nick/.local/lib/python3.8/site-packages/xgboost/core.py:158: UserWarning: [10:36:27] WARNING: /workspace/src/learner.cc:740: \n",
      "Parameters: { \"use_label_encoder\" } are not used.\n",
      "\n",
      "  warnings.warn(smsg, UserWarning)\n"
     ]
    },
    {
     "name": "stdout",
     "output_type": "stream",
     "text": [
      "cv\n",
      "individual models\n"
     ]
    },
    {
     "name": "stderr",
     "output_type": "stream",
     "text": [
      "/home/wanlab/nick/.local/lib/python3.8/site-packages/xgboost/core.py:158: UserWarning: [10:36:39] WARNING: /workspace/src/learner.cc:740: \n",
      "Parameters: { \"use_label_encoder\" } are not used.\n",
      "\n",
      "  warnings.warn(smsg, UserWarning)\n"
     ]
    },
    {
     "name": "stdout",
     "output_type": "stream",
     "text": [
      "cv\n",
      "individual models\n"
     ]
    },
    {
     "name": "stderr",
     "output_type": "stream",
     "text": [
      "/home/wanlab/nick/.local/lib/python3.8/site-packages/xgboost/core.py:158: UserWarning: [10:36:50] WARNING: /workspace/src/learner.cc:740: \n",
      "Parameters: { \"use_label_encoder\" } are not used.\n",
      "\n",
      "  warnings.warn(smsg, UserWarning)\n"
     ]
    },
    {
     "name": "stdout",
     "output_type": "stream",
     "text": [
      "cv\n",
      "individual models\n"
     ]
    },
    {
     "name": "stderr",
     "output_type": "stream",
     "text": [
      "/home/wanlab/nick/.local/lib/python3.8/site-packages/xgboost/core.py:158: UserWarning: [10:37:02] WARNING: /workspace/src/learner.cc:740: \n",
      "Parameters: { \"use_label_encoder\" } are not used.\n",
      "\n",
      "  warnings.warn(smsg, UserWarning)\n"
     ]
    },
    {
     "name": "stdout",
     "output_type": "stream",
     "text": [
      "cv\n",
      "individual models\n"
     ]
    },
    {
     "name": "stderr",
     "output_type": "stream",
     "text": [
      "/home/wanlab/nick/.local/lib/python3.8/site-packages/xgboost/core.py:158: UserWarning: [10:37:13] WARNING: /workspace/src/learner.cc:740: \n",
      "Parameters: { \"use_label_encoder\" } are not used.\n",
      "\n",
      "  warnings.warn(smsg, UserWarning)\n"
     ]
    },
    {
     "name": "stdout",
     "output_type": "stream",
     "text": [
      "cv\n",
      "individual models\n"
     ]
    },
    {
     "name": "stderr",
     "output_type": "stream",
     "text": [
      "/home/wanlab/nick/.local/lib/python3.8/site-packages/xgboost/core.py:158: UserWarning: [10:37:25] WARNING: /workspace/src/learner.cc:740: \n",
      "Parameters: { \"use_label_encoder\" } are not used.\n",
      "\n",
      "  warnings.warn(smsg, UserWarning)\n"
     ]
    },
    {
     "name": "stdout",
     "output_type": "stream",
     "text": [
      "cv\n",
      "individual models\n"
     ]
    },
    {
     "name": "stderr",
     "output_type": "stream",
     "text": [
      "/home/wanlab/nick/.local/lib/python3.8/site-packages/xgboost/core.py:158: UserWarning: [10:37:36] WARNING: /workspace/src/learner.cc:740: \n",
      "Parameters: { \"use_label_encoder\" } are not used.\n",
      "\n",
      "  warnings.warn(smsg, UserWarning)\n"
     ]
    },
    {
     "name": "stdout",
     "output_type": "stream",
     "text": [
      "cv\n",
      "individual models\n"
     ]
    },
    {
     "name": "stderr",
     "output_type": "stream",
     "text": [
      "/home/wanlab/nick/.local/lib/python3.8/site-packages/xgboost/core.py:158: UserWarning: [10:37:48] WARNING: /workspace/src/learner.cc:740: \n",
      "Parameters: { \"use_label_encoder\" } are not used.\n",
      "\n",
      "  warnings.warn(smsg, UserWarning)\n"
     ]
    },
    {
     "name": "stdout",
     "output_type": "stream",
     "text": [
      "cv\n",
      "individual models\n"
     ]
    },
    {
     "name": "stderr",
     "output_type": "stream",
     "text": [
      "/home/wanlab/nick/.local/lib/python3.8/site-packages/xgboost/core.py:158: UserWarning: [10:37:59] WARNING: /workspace/src/learner.cc:740: \n",
      "Parameters: { \"use_label_encoder\" } are not used.\n",
      "\n",
      "  warnings.warn(smsg, UserWarning)\n"
     ]
    },
    {
     "name": "stdout",
     "output_type": "stream",
     "text": [
      "cv\n",
      "individual models\n"
     ]
    },
    {
     "name": "stderr",
     "output_type": "stream",
     "text": [
      "/home/wanlab/nick/.local/lib/python3.8/site-packages/xgboost/core.py:158: UserWarning: [10:38:11] WARNING: /workspace/src/learner.cc:740: \n",
      "Parameters: { \"use_label_encoder\" } are not used.\n",
      "\n",
      "  warnings.warn(smsg, UserWarning)\n"
     ]
    },
    {
     "name": "stdout",
     "output_type": "stream",
     "text": [
      "cv\n",
      "individual models\n"
     ]
    },
    {
     "name": "stderr",
     "output_type": "stream",
     "text": [
      "/home/wanlab/nick/.local/lib/python3.8/site-packages/xgboost/core.py:158: UserWarning: [10:38:23] WARNING: /workspace/src/learner.cc:740: \n",
      "Parameters: { \"use_label_encoder\" } are not used.\n",
      "\n",
      "  warnings.warn(smsg, UserWarning)\n"
     ]
    },
    {
     "name": "stdout",
     "output_type": "stream",
     "text": [
      "cv\n",
      "individual models\n"
     ]
    },
    {
     "name": "stderr",
     "output_type": "stream",
     "text": [
      "/home/wanlab/nick/.local/lib/python3.8/site-packages/xgboost/core.py:158: UserWarning: [10:38:35] WARNING: /workspace/src/learner.cc:740: \n",
      "Parameters: { \"use_label_encoder\" } are not used.\n",
      "\n",
      "  warnings.warn(smsg, UserWarning)\n"
     ]
    },
    {
     "name": "stdout",
     "output_type": "stream",
     "text": [
      "cv\n",
      "individual models\n"
     ]
    },
    {
     "name": "stderr",
     "output_type": "stream",
     "text": [
      "/home/wanlab/nick/.local/lib/python3.8/site-packages/xgboost/core.py:158: UserWarning: [10:38:47] WARNING: /workspace/src/learner.cc:740: \n",
      "Parameters: { \"use_label_encoder\" } are not used.\n",
      "\n",
      "  warnings.warn(smsg, UserWarning)\n"
     ]
    },
    {
     "name": "stdout",
     "output_type": "stream",
     "text": [
      "cv\n",
      "individual models\n"
     ]
    },
    {
     "name": "stderr",
     "output_type": "stream",
     "text": [
      "/home/wanlab/nick/.local/lib/python3.8/site-packages/xgboost/core.py:158: UserWarning: [10:38:59] WARNING: /workspace/src/learner.cc:740: \n",
      "Parameters: { \"use_label_encoder\" } are not used.\n",
      "\n",
      "  warnings.warn(smsg, UserWarning)\n"
     ]
    },
    {
     "name": "stdout",
     "output_type": "stream",
     "text": [
      "cv\n",
      "individual models\n"
     ]
    },
    {
     "name": "stderr",
     "output_type": "stream",
     "text": [
      "/home/wanlab/nick/.local/lib/python3.8/site-packages/xgboost/core.py:158: UserWarning: [10:39:11] WARNING: /workspace/src/learner.cc:740: \n",
      "Parameters: { \"use_label_encoder\" } are not used.\n",
      "\n",
      "  warnings.warn(smsg, UserWarning)\n"
     ]
    },
    {
     "name": "stdout",
     "output_type": "stream",
     "text": [
      "cv\n",
      "individual models\n"
     ]
    },
    {
     "name": "stderr",
     "output_type": "stream",
     "text": [
      "/home/wanlab/nick/.local/lib/python3.8/site-packages/xgboost/core.py:158: UserWarning: [10:39:23] WARNING: /workspace/src/learner.cc:740: \n",
      "Parameters: { \"use_label_encoder\" } are not used.\n",
      "\n",
      "  warnings.warn(smsg, UserWarning)\n"
     ]
    },
    {
     "name": "stdout",
     "output_type": "stream",
     "text": [
      "cv\n",
      "individual models\n"
     ]
    },
    {
     "name": "stderr",
     "output_type": "stream",
     "text": [
      "/home/wanlab/nick/.local/lib/python3.8/site-packages/xgboost/core.py:158: UserWarning: [10:39:34] WARNING: /workspace/src/learner.cc:740: \n",
      "Parameters: { \"use_label_encoder\" } are not used.\n",
      "\n",
      "  warnings.warn(smsg, UserWarning)\n"
     ]
    },
    {
     "name": "stdout",
     "output_type": "stream",
     "text": [
      "cv\n",
      "individual models\n"
     ]
    },
    {
     "name": "stderr",
     "output_type": "stream",
     "text": [
      "/home/wanlab/nick/.local/lib/python3.8/site-packages/xgboost/core.py:158: UserWarning: [10:39:46] WARNING: /workspace/src/learner.cc:740: \n",
      "Parameters: { \"use_label_encoder\" } are not used.\n",
      "\n",
      "  warnings.warn(smsg, UserWarning)\n"
     ]
    },
    {
     "name": "stdout",
     "output_type": "stream",
     "text": [
      "cv\n",
      "individual models\n"
     ]
    },
    {
     "name": "stderr",
     "output_type": "stream",
     "text": [
      "/home/wanlab/nick/.local/lib/python3.8/site-packages/xgboost/core.py:158: UserWarning: [10:39:57] WARNING: /workspace/src/learner.cc:740: \n",
      "Parameters: { \"use_label_encoder\" } are not used.\n",
      "\n",
      "  warnings.warn(smsg, UserWarning)\n"
     ]
    },
    {
     "name": "stdout",
     "output_type": "stream",
     "text": [
      "cv\n",
      "individual models\n"
     ]
    },
    {
     "name": "stderr",
     "output_type": "stream",
     "text": [
      "/home/wanlab/nick/.local/lib/python3.8/site-packages/xgboost/core.py:158: UserWarning: [10:40:09] WARNING: /workspace/src/learner.cc:740: \n",
      "Parameters: { \"use_label_encoder\" } are not used.\n",
      "\n",
      "  warnings.warn(smsg, UserWarning)\n"
     ]
    },
    {
     "name": "stdout",
     "output_type": "stream",
     "text": [
      "cv\n",
      "individual models\n"
     ]
    },
    {
     "name": "stderr",
     "output_type": "stream",
     "text": [
      "/home/wanlab/nick/.local/lib/python3.8/site-packages/xgboost/core.py:158: UserWarning: [10:40:21] WARNING: /workspace/src/learner.cc:740: \n",
      "Parameters: { \"use_label_encoder\" } are not used.\n",
      "\n",
      "  warnings.warn(smsg, UserWarning)\n"
     ]
    },
    {
     "name": "stdout",
     "output_type": "stream",
     "text": [
      "cv\n",
      "individual models\n"
     ]
    },
    {
     "name": "stderr",
     "output_type": "stream",
     "text": [
      "/home/wanlab/nick/.local/lib/python3.8/site-packages/xgboost/core.py:158: UserWarning: [10:40:32] WARNING: /workspace/src/learner.cc:740: \n",
      "Parameters: { \"use_label_encoder\" } are not used.\n",
      "\n",
      "  warnings.warn(smsg, UserWarning)\n"
     ]
    },
    {
     "name": "stdout",
     "output_type": "stream",
     "text": [
      "cv\n",
      "individual models\n"
     ]
    },
    {
     "name": "stderr",
     "output_type": "stream",
     "text": [
      "/home/wanlab/nick/.local/lib/python3.8/site-packages/xgboost/core.py:158: UserWarning: [10:40:44] WARNING: /workspace/src/learner.cc:740: \n",
      "Parameters: { \"use_label_encoder\" } are not used.\n",
      "\n",
      "  warnings.warn(smsg, UserWarning)\n"
     ]
    },
    {
     "name": "stdout",
     "output_type": "stream",
     "text": [
      "cv\n",
      "individual models\n"
     ]
    },
    {
     "name": "stderr",
     "output_type": "stream",
     "text": [
      "/home/wanlab/nick/.local/lib/python3.8/site-packages/xgboost/core.py:158: UserWarning: [10:40:56] WARNING: /workspace/src/learner.cc:740: \n",
      "Parameters: { \"use_label_encoder\" } are not used.\n",
      "\n",
      "  warnings.warn(smsg, UserWarning)\n"
     ]
    },
    {
     "name": "stdout",
     "output_type": "stream",
     "text": [
      "cv\n",
      "individual models\n"
     ]
    },
    {
     "name": "stderr",
     "output_type": "stream",
     "text": [
      "/home/wanlab/nick/.local/lib/python3.8/site-packages/xgboost/core.py:158: UserWarning: [10:41:07] WARNING: /workspace/src/learner.cc:740: \n",
      "Parameters: { \"use_label_encoder\" } are not used.\n",
      "\n",
      "  warnings.warn(smsg, UserWarning)\n"
     ]
    },
    {
     "name": "stdout",
     "output_type": "stream",
     "text": [
      "cv\n",
      "individual models\n"
     ]
    },
    {
     "name": "stderr",
     "output_type": "stream",
     "text": [
      "/home/wanlab/nick/.local/lib/python3.8/site-packages/xgboost/core.py:158: UserWarning: [10:41:19] WARNING: /workspace/src/learner.cc:740: \n",
      "Parameters: { \"use_label_encoder\" } are not used.\n",
      "\n",
      "  warnings.warn(smsg, UserWarning)\n"
     ]
    },
    {
     "name": "stdout",
     "output_type": "stream",
     "text": [
      "cv\n",
      "individual models\n"
     ]
    },
    {
     "name": "stderr",
     "output_type": "stream",
     "text": [
      "/home/wanlab/nick/.local/lib/python3.8/site-packages/xgboost/core.py:158: UserWarning: [10:41:30] WARNING: /workspace/src/learner.cc:740: \n",
      "Parameters: { \"use_label_encoder\" } are not used.\n",
      "\n",
      "  warnings.warn(smsg, UserWarning)\n"
     ]
    },
    {
     "name": "stdout",
     "output_type": "stream",
     "text": [
      "cv\n",
      "individual models\n"
     ]
    },
    {
     "name": "stderr",
     "output_type": "stream",
     "text": [
      "/home/wanlab/nick/.local/lib/python3.8/site-packages/xgboost/core.py:158: UserWarning: [10:41:42] WARNING: /workspace/src/learner.cc:740: \n",
      "Parameters: { \"use_label_encoder\" } are not used.\n",
      "\n",
      "  warnings.warn(smsg, UserWarning)\n"
     ]
    },
    {
     "name": "stdout",
     "output_type": "stream",
     "text": [
      "cv\n",
      "individual models\n"
     ]
    },
    {
     "name": "stderr",
     "output_type": "stream",
     "text": [
      "/home/wanlab/nick/.local/lib/python3.8/site-packages/xgboost/core.py:158: UserWarning: [10:41:54] WARNING: /workspace/src/learner.cc:740: \n",
      "Parameters: { \"use_label_encoder\" } are not used.\n",
      "\n",
      "  warnings.warn(smsg, UserWarning)\n"
     ]
    },
    {
     "name": "stdout",
     "output_type": "stream",
     "text": [
      "cv\n",
      "individual models\n"
     ]
    },
    {
     "name": "stderr",
     "output_type": "stream",
     "text": [
      "/home/wanlab/nick/.local/lib/python3.8/site-packages/xgboost/core.py:158: UserWarning: [10:42:06] WARNING: /workspace/src/learner.cc:740: \n",
      "Parameters: { \"use_label_encoder\" } are not used.\n",
      "\n",
      "  warnings.warn(smsg, UserWarning)\n"
     ]
    },
    {
     "name": "stdout",
     "output_type": "stream",
     "text": [
      "cv\n",
      "individual models\n"
     ]
    },
    {
     "name": "stderr",
     "output_type": "stream",
     "text": [
      "/home/wanlab/nick/.local/lib/python3.8/site-packages/xgboost/core.py:158: UserWarning: [10:42:17] WARNING: /workspace/src/learner.cc:740: \n",
      "Parameters: { \"use_label_encoder\" } are not used.\n",
      "\n",
      "  warnings.warn(smsg, UserWarning)\n"
     ]
    },
    {
     "name": "stdout",
     "output_type": "stream",
     "text": [
      "cv\n",
      "individual models\n"
     ]
    },
    {
     "name": "stderr",
     "output_type": "stream",
     "text": [
      "/home/wanlab/nick/.local/lib/python3.8/site-packages/xgboost/core.py:158: UserWarning: [10:42:29] WARNING: /workspace/src/learner.cc:740: \n",
      "Parameters: { \"use_label_encoder\" } are not used.\n",
      "\n",
      "  warnings.warn(smsg, UserWarning)\n"
     ]
    },
    {
     "name": "stdout",
     "output_type": "stream",
     "text": [
      "cv\n",
      "individual models\n"
     ]
    },
    {
     "name": "stderr",
     "output_type": "stream",
     "text": [
      "/home/wanlab/nick/.local/lib/python3.8/site-packages/xgboost/core.py:158: UserWarning: [10:42:40] WARNING: /workspace/src/learner.cc:740: \n",
      "Parameters: { \"use_label_encoder\" } are not used.\n",
      "\n",
      "  warnings.warn(smsg, UserWarning)\n"
     ]
    },
    {
     "name": "stdout",
     "output_type": "stream",
     "text": [
      "cv\n",
      "individual models\n"
     ]
    },
    {
     "name": "stderr",
     "output_type": "stream",
     "text": [
      "/home/wanlab/nick/.local/lib/python3.8/site-packages/xgboost/core.py:158: UserWarning: [10:42:51] WARNING: /workspace/src/learner.cc:740: \n",
      "Parameters: { \"use_label_encoder\" } are not used.\n",
      "\n",
      "  warnings.warn(smsg, UserWarning)\n"
     ]
    },
    {
     "name": "stdout",
     "output_type": "stream",
     "text": [
      "cv\n",
      "individual models\n"
     ]
    },
    {
     "name": "stderr",
     "output_type": "stream",
     "text": [
      "/home/wanlab/nick/.local/lib/python3.8/site-packages/xgboost/core.py:158: UserWarning: [10:43:03] WARNING: /workspace/src/learner.cc:740: \n",
      "Parameters: { \"use_label_encoder\" } are not used.\n",
      "\n",
      "  warnings.warn(smsg, UserWarning)\n"
     ]
    },
    {
     "name": "stdout",
     "output_type": "stream",
     "text": [
      "cv\n",
      "individual models\n"
     ]
    },
    {
     "name": "stderr",
     "output_type": "stream",
     "text": [
      "/home/wanlab/nick/.local/lib/python3.8/site-packages/xgboost/core.py:158: UserWarning: [10:43:14] WARNING: /workspace/src/learner.cc:740: \n",
      "Parameters: { \"use_label_encoder\" } are not used.\n",
      "\n",
      "  warnings.warn(smsg, UserWarning)\n"
     ]
    },
    {
     "name": "stdout",
     "output_type": "stream",
     "text": [
      "cv\n",
      "individual models\n"
     ]
    },
    {
     "name": "stderr",
     "output_type": "stream",
     "text": [
      "/home/wanlab/nick/.local/lib/python3.8/site-packages/xgboost/core.py:158: UserWarning: [10:43:26] WARNING: /workspace/src/learner.cc:740: \n",
      "Parameters: { \"use_label_encoder\" } are not used.\n",
      "\n",
      "  warnings.warn(smsg, UserWarning)\n"
     ]
    },
    {
     "name": "stdout",
     "output_type": "stream",
     "text": [
      "cv\n",
      "individual models\n"
     ]
    },
    {
     "name": "stderr",
     "output_type": "stream",
     "text": [
      "/home/wanlab/nick/.local/lib/python3.8/site-packages/xgboost/core.py:158: UserWarning: [10:43:40] WARNING: /workspace/src/learner.cc:740: \n",
      "Parameters: { \"use_label_encoder\" } are not used.\n",
      "\n",
      "  warnings.warn(smsg, UserWarning)\n"
     ]
    },
    {
     "name": "stdout",
     "output_type": "stream",
     "text": [
      "cv\n",
      "individual models\n"
     ]
    },
    {
     "name": "stderr",
     "output_type": "stream",
     "text": [
      "/home/wanlab/nick/.local/lib/python3.8/site-packages/xgboost/core.py:158: UserWarning: [10:43:51] WARNING: /workspace/src/learner.cc:740: \n",
      "Parameters: { \"use_label_encoder\" } are not used.\n",
      "\n",
      "  warnings.warn(smsg, UserWarning)\n"
     ]
    },
    {
     "name": "stdout",
     "output_type": "stream",
     "text": [
      "cv\n",
      "individual models\n"
     ]
    },
    {
     "name": "stderr",
     "output_type": "stream",
     "text": [
      "/home/wanlab/nick/.local/lib/python3.8/site-packages/xgboost/core.py:158: UserWarning: [10:44:03] WARNING: /workspace/src/learner.cc:740: \n",
      "Parameters: { \"use_label_encoder\" } are not used.\n",
      "\n",
      "  warnings.warn(smsg, UserWarning)\n"
     ]
    },
    {
     "name": "stdout",
     "output_type": "stream",
     "text": [
      "cv\n",
      "individual models\n"
     ]
    },
    {
     "name": "stderr",
     "output_type": "stream",
     "text": [
      "/home/wanlab/nick/.local/lib/python3.8/site-packages/xgboost/core.py:158: UserWarning: [10:44:14] WARNING: /workspace/src/learner.cc:740: \n",
      "Parameters: { \"use_label_encoder\" } are not used.\n",
      "\n",
      "  warnings.warn(smsg, UserWarning)\n"
     ]
    },
    {
     "name": "stdout",
     "output_type": "stream",
     "text": [
      "cv\n",
      "individual models\n"
     ]
    },
    {
     "name": "stderr",
     "output_type": "stream",
     "text": [
      "/home/wanlab/nick/.local/lib/python3.8/site-packages/xgboost/core.py:158: UserWarning: [10:44:26] WARNING: /workspace/src/learner.cc:740: \n",
      "Parameters: { \"use_label_encoder\" } are not used.\n",
      "\n",
      "  warnings.warn(smsg, UserWarning)\n"
     ]
    },
    {
     "name": "stdout",
     "output_type": "stream",
     "text": [
      "cv\n",
      "individual models\n"
     ]
    },
    {
     "name": "stderr",
     "output_type": "stream",
     "text": [
      "/home/wanlab/nick/.local/lib/python3.8/site-packages/xgboost/core.py:158: UserWarning: [10:44:38] WARNING: /workspace/src/learner.cc:740: \n",
      "Parameters: { \"use_label_encoder\" } are not used.\n",
      "\n",
      "  warnings.warn(smsg, UserWarning)\n"
     ]
    },
    {
     "name": "stdout",
     "output_type": "stream",
     "text": [
      "cv\n",
      "individual models\n"
     ]
    },
    {
     "name": "stderr",
     "output_type": "stream",
     "text": [
      "/home/wanlab/nick/.local/lib/python3.8/site-packages/xgboost/core.py:158: UserWarning: [10:44:50] WARNING: /workspace/src/learner.cc:740: \n",
      "Parameters: { \"use_label_encoder\" } are not used.\n",
      "\n",
      "  warnings.warn(smsg, UserWarning)\n"
     ]
    },
    {
     "name": "stdout",
     "output_type": "stream",
     "text": [
      "cv\n",
      "individual models\n"
     ]
    },
    {
     "name": "stderr",
     "output_type": "stream",
     "text": [
      "/home/wanlab/nick/.local/lib/python3.8/site-packages/xgboost/core.py:158: UserWarning: [10:45:01] WARNING: /workspace/src/learner.cc:740: \n",
      "Parameters: { \"use_label_encoder\" } are not used.\n",
      "\n",
      "  warnings.warn(smsg, UserWarning)\n"
     ]
    },
    {
     "name": "stdout",
     "output_type": "stream",
     "text": [
      "cv\n",
      "individual models\n"
     ]
    },
    {
     "name": "stderr",
     "output_type": "stream",
     "text": [
      "/home/wanlab/nick/.local/lib/python3.8/site-packages/xgboost/core.py:158: UserWarning: [10:45:13] WARNING: /workspace/src/learner.cc:740: \n",
      "Parameters: { \"use_label_encoder\" } are not used.\n",
      "\n",
      "  warnings.warn(smsg, UserWarning)\n"
     ]
    },
    {
     "name": "stdout",
     "output_type": "stream",
     "text": [
      "cv\n",
      "individual models\n"
     ]
    },
    {
     "name": "stderr",
     "output_type": "stream",
     "text": [
      "/home/wanlab/nick/.local/lib/python3.8/site-packages/xgboost/core.py:158: UserWarning: [10:45:25] WARNING: /workspace/src/learner.cc:740: \n",
      "Parameters: { \"use_label_encoder\" } are not used.\n",
      "\n",
      "  warnings.warn(smsg, UserWarning)\n"
     ]
    },
    {
     "name": "stdout",
     "output_type": "stream",
     "text": [
      "cv\n",
      "individual models\n"
     ]
    },
    {
     "name": "stderr",
     "output_type": "stream",
     "text": [
      "/home/wanlab/nick/.local/lib/python3.8/site-packages/xgboost/core.py:158: UserWarning: [10:45:38] WARNING: /workspace/src/learner.cc:740: \n",
      "Parameters: { \"use_label_encoder\" } are not used.\n",
      "\n",
      "  warnings.warn(smsg, UserWarning)\n"
     ]
    },
    {
     "name": "stdout",
     "output_type": "stream",
     "text": [
      "cv\n",
      "individual models\n"
     ]
    },
    {
     "name": "stderr",
     "output_type": "stream",
     "text": [
      "/home/wanlab/nick/.local/lib/python3.8/site-packages/xgboost/core.py:158: UserWarning: [10:45:50] WARNING: /workspace/src/learner.cc:740: \n",
      "Parameters: { \"use_label_encoder\" } are not used.\n",
      "\n",
      "  warnings.warn(smsg, UserWarning)\n"
     ]
    },
    {
     "name": "stdout",
     "output_type": "stream",
     "text": [
      "cv\n",
      "individual models\n"
     ]
    },
    {
     "name": "stderr",
     "output_type": "stream",
     "text": [
      "/home/wanlab/nick/.local/lib/python3.8/site-packages/xgboost/core.py:158: UserWarning: [10:46:01] WARNING: /workspace/src/learner.cc:740: \n",
      "Parameters: { \"use_label_encoder\" } are not used.\n",
      "\n",
      "  warnings.warn(smsg, UserWarning)\n"
     ]
    },
    {
     "name": "stdout",
     "output_type": "stream",
     "text": [
      "cv\n",
      "individual models\n"
     ]
    },
    {
     "name": "stderr",
     "output_type": "stream",
     "text": [
      "/home/wanlab/nick/.local/lib/python3.8/site-packages/xgboost/core.py:158: UserWarning: [10:46:13] WARNING: /workspace/src/learner.cc:740: \n",
      "Parameters: { \"use_label_encoder\" } are not used.\n",
      "\n",
      "  warnings.warn(smsg, UserWarning)\n"
     ]
    },
    {
     "name": "stdout",
     "output_type": "stream",
     "text": [
      "cv\n",
      "individual models\n"
     ]
    },
    {
     "name": "stderr",
     "output_type": "stream",
     "text": [
      "/home/wanlab/nick/.local/lib/python3.8/site-packages/xgboost/core.py:158: UserWarning: [10:46:25] WARNING: /workspace/src/learner.cc:740: \n",
      "Parameters: { \"use_label_encoder\" } are not used.\n",
      "\n",
      "  warnings.warn(smsg, UserWarning)\n"
     ]
    },
    {
     "name": "stdout",
     "output_type": "stream",
     "text": [
      "cv\n",
      "individual models\n"
     ]
    },
    {
     "name": "stderr",
     "output_type": "stream",
     "text": [
      "/home/wanlab/nick/.local/lib/python3.8/site-packages/xgboost/core.py:158: UserWarning: [10:46:36] WARNING: /workspace/src/learner.cc:740: \n",
      "Parameters: { \"use_label_encoder\" } are not used.\n",
      "\n",
      "  warnings.warn(smsg, UserWarning)\n"
     ]
    },
    {
     "name": "stdout",
     "output_type": "stream",
     "text": [
      "cv\n",
      "individual models\n"
     ]
    },
    {
     "name": "stderr",
     "output_type": "stream",
     "text": [
      "/home/wanlab/nick/.local/lib/python3.8/site-packages/xgboost/core.py:158: UserWarning: [10:46:48] WARNING: /workspace/src/learner.cc:740: \n",
      "Parameters: { \"use_label_encoder\" } are not used.\n",
      "\n",
      "  warnings.warn(smsg, UserWarning)\n"
     ]
    },
    {
     "name": "stdout",
     "output_type": "stream",
     "text": [
      "cv\n",
      "individual models\n"
     ]
    },
    {
     "name": "stderr",
     "output_type": "stream",
     "text": [
      "/home/wanlab/nick/.local/lib/python3.8/site-packages/xgboost/core.py:158: UserWarning: [10:47:00] WARNING: /workspace/src/learner.cc:740: \n",
      "Parameters: { \"use_label_encoder\" } are not used.\n",
      "\n",
      "  warnings.warn(smsg, UserWarning)\n"
     ]
    },
    {
     "name": "stdout",
     "output_type": "stream",
     "text": [
      "cv\n",
      "individual models\n"
     ]
    },
    {
     "name": "stderr",
     "output_type": "stream",
     "text": [
      "/home/wanlab/nick/.local/lib/python3.8/site-packages/xgboost/core.py:158: UserWarning: [10:47:12] WARNING: /workspace/src/learner.cc:740: \n",
      "Parameters: { \"use_label_encoder\" } are not used.\n",
      "\n",
      "  warnings.warn(smsg, UserWarning)\n"
     ]
    },
    {
     "name": "stdout",
     "output_type": "stream",
     "text": [
      "cv\n",
      "individual models\n"
     ]
    },
    {
     "name": "stderr",
     "output_type": "stream",
     "text": [
      "/home/wanlab/nick/.local/lib/python3.8/site-packages/xgboost/core.py:158: UserWarning: [10:47:23] WARNING: /workspace/src/learner.cc:740: \n",
      "Parameters: { \"use_label_encoder\" } are not used.\n",
      "\n",
      "  warnings.warn(smsg, UserWarning)\n"
     ]
    },
    {
     "name": "stdout",
     "output_type": "stream",
     "text": [
      "cv\n",
      "individual models\n"
     ]
    },
    {
     "name": "stderr",
     "output_type": "stream",
     "text": [
      "/home/wanlab/nick/.local/lib/python3.8/site-packages/xgboost/core.py:158: UserWarning: [10:47:35] WARNING: /workspace/src/learner.cc:740: \n",
      "Parameters: { \"use_label_encoder\" } are not used.\n",
      "\n",
      "  warnings.warn(smsg, UserWarning)\n"
     ]
    },
    {
     "name": "stdout",
     "output_type": "stream",
     "text": [
      "cv\n",
      "individual models\n"
     ]
    },
    {
     "name": "stderr",
     "output_type": "stream",
     "text": [
      "/home/wanlab/nick/.local/lib/python3.8/site-packages/xgboost/core.py:158: UserWarning: [10:47:47] WARNING: /workspace/src/learner.cc:740: \n",
      "Parameters: { \"use_label_encoder\" } are not used.\n",
      "\n",
      "  warnings.warn(smsg, UserWarning)\n"
     ]
    },
    {
     "name": "stdout",
     "output_type": "stream",
     "text": [
      "cv\n",
      "individual models\n"
     ]
    },
    {
     "name": "stderr",
     "output_type": "stream",
     "text": [
      "/home/wanlab/nick/.local/lib/python3.8/site-packages/xgboost/core.py:158: UserWarning: [10:47:58] WARNING: /workspace/src/learner.cc:740: \n",
      "Parameters: { \"use_label_encoder\" } are not used.\n",
      "\n",
      "  warnings.warn(smsg, UserWarning)\n"
     ]
    },
    {
     "name": "stdout",
     "output_type": "stream",
     "text": [
      "cv\n",
      "individual models\n"
     ]
    },
    {
     "name": "stderr",
     "output_type": "stream",
     "text": [
      "/home/wanlab/nick/.local/lib/python3.8/site-packages/xgboost/core.py:158: UserWarning: [10:48:11] WARNING: /workspace/src/learner.cc:740: \n",
      "Parameters: { \"use_label_encoder\" } are not used.\n",
      "\n",
      "  warnings.warn(smsg, UserWarning)\n"
     ]
    },
    {
     "name": "stdout",
     "output_type": "stream",
     "text": [
      "cv\n",
      "individual models\n"
     ]
    },
    {
     "name": "stderr",
     "output_type": "stream",
     "text": [
      "/home/wanlab/nick/.local/lib/python3.8/site-packages/xgboost/core.py:158: UserWarning: [10:48:22] WARNING: /workspace/src/learner.cc:740: \n",
      "Parameters: { \"use_label_encoder\" } are not used.\n",
      "\n",
      "  warnings.warn(smsg, UserWarning)\n"
     ]
    },
    {
     "name": "stdout",
     "output_type": "stream",
     "text": [
      "cv\n",
      "individual models\n"
     ]
    },
    {
     "name": "stderr",
     "output_type": "stream",
     "text": [
      "/home/wanlab/nick/.local/lib/python3.8/site-packages/xgboost/core.py:158: UserWarning: [10:48:34] WARNING: /workspace/src/learner.cc:740: \n",
      "Parameters: { \"use_label_encoder\" } are not used.\n",
      "\n",
      "  warnings.warn(smsg, UserWarning)\n"
     ]
    },
    {
     "name": "stdout",
     "output_type": "stream",
     "text": [
      "cv\n",
      "individual models\n"
     ]
    },
    {
     "name": "stderr",
     "output_type": "stream",
     "text": [
      "/home/wanlab/nick/.local/lib/python3.8/site-packages/xgboost/core.py:158: UserWarning: [10:48:45] WARNING: /workspace/src/learner.cc:740: \n",
      "Parameters: { \"use_label_encoder\" } are not used.\n",
      "\n",
      "  warnings.warn(smsg, UserWarning)\n"
     ]
    },
    {
     "name": "stdout",
     "output_type": "stream",
     "text": [
      "cv\n",
      "individual models\n"
     ]
    },
    {
     "name": "stderr",
     "output_type": "stream",
     "text": [
      "/home/wanlab/nick/.local/lib/python3.8/site-packages/xgboost/core.py:158: UserWarning: [10:48:57] WARNING: /workspace/src/learner.cc:740: \n",
      "Parameters: { \"use_label_encoder\" } are not used.\n",
      "\n",
      "  warnings.warn(smsg, UserWarning)\n"
     ]
    },
    {
     "name": "stdout",
     "output_type": "stream",
     "text": [
      "cv\n",
      "individual models\n"
     ]
    },
    {
     "name": "stderr",
     "output_type": "stream",
     "text": [
      "/home/wanlab/nick/.local/lib/python3.8/site-packages/xgboost/core.py:158: UserWarning: [10:49:09] WARNING: /workspace/src/learner.cc:740: \n",
      "Parameters: { \"use_label_encoder\" } are not used.\n",
      "\n",
      "  warnings.warn(smsg, UserWarning)\n"
     ]
    },
    {
     "name": "stdout",
     "output_type": "stream",
     "text": [
      "cv\n",
      "individual models\n"
     ]
    },
    {
     "name": "stderr",
     "output_type": "stream",
     "text": [
      "/home/wanlab/nick/.local/lib/python3.8/site-packages/xgboost/core.py:158: UserWarning: [10:49:20] WARNING: /workspace/src/learner.cc:740: \n",
      "Parameters: { \"use_label_encoder\" } are not used.\n",
      "\n",
      "  warnings.warn(smsg, UserWarning)\n"
     ]
    },
    {
     "name": "stdout",
     "output_type": "stream",
     "text": [
      "cv\n",
      "individual models\n"
     ]
    },
    {
     "name": "stderr",
     "output_type": "stream",
     "text": [
      "/home/wanlab/nick/.local/lib/python3.8/site-packages/xgboost/core.py:158: UserWarning: [10:49:32] WARNING: /workspace/src/learner.cc:740: \n",
      "Parameters: { \"use_label_encoder\" } are not used.\n",
      "\n",
      "  warnings.warn(smsg, UserWarning)\n"
     ]
    },
    {
     "name": "stdout",
     "output_type": "stream",
     "text": [
      "cv\n",
      "individual models\n"
     ]
    },
    {
     "name": "stderr",
     "output_type": "stream",
     "text": [
      "/home/wanlab/nick/.local/lib/python3.8/site-packages/xgboost/core.py:158: UserWarning: [10:49:43] WARNING: /workspace/src/learner.cc:740: \n",
      "Parameters: { \"use_label_encoder\" } are not used.\n",
      "\n",
      "  warnings.warn(smsg, UserWarning)\n"
     ]
    },
    {
     "name": "stdout",
     "output_type": "stream",
     "text": [
      "cv\n",
      "individual models\n"
     ]
    },
    {
     "name": "stderr",
     "output_type": "stream",
     "text": [
      "/home/wanlab/nick/.local/lib/python3.8/site-packages/xgboost/core.py:158: UserWarning: [10:49:55] WARNING: /workspace/src/learner.cc:740: \n",
      "Parameters: { \"use_label_encoder\" } are not used.\n",
      "\n",
      "  warnings.warn(smsg, UserWarning)\n"
     ]
    },
    {
     "name": "stdout",
     "output_type": "stream",
     "text": [
      "cv\n",
      "individual models\n"
     ]
    },
    {
     "name": "stderr",
     "output_type": "stream",
     "text": [
      "/home/wanlab/nick/.local/lib/python3.8/site-packages/xgboost/core.py:158: UserWarning: [10:50:07] WARNING: /workspace/src/learner.cc:740: \n",
      "Parameters: { \"use_label_encoder\" } are not used.\n",
      "\n",
      "  warnings.warn(smsg, UserWarning)\n"
     ]
    },
    {
     "name": "stdout",
     "output_type": "stream",
     "text": [
      "cv\n",
      "\n",
      "model score of oof results for SVC\n",
      "Model Accuracy: 0.875\n",
      "Precision: 0.8798649267399267\n",
      "Recall (Sensitivity): 0.875\n",
      "F1 Score: 0.8751610313936894\n",
      "Matthews Correlation Coefficient (MCC): 0.8329181448543629\n",
      "G-Measure: 0.9162567046538834\n",
      "AUC: 0.9885181591442596\n",
      "Specificity: 0.9582719803670507\n",
      "Jaccard Index: 0.7779538993943889\n",
      "Saving metrics to: /work/wanlab/nick//stackeval4/val_data/individual models/SVC/limma(0),metrics.csv\n",
      "PREDICTIONS                   subtype  Squamous      ADEX  Pancreatic Progenitor  \\\n",
      "0   Pancreatic Progenitor  0.103859  0.033940               0.833073   \n",
      "1                    ADEX  0.040514  0.895463               0.021082   \n",
      "2   Pancreatic Progenitor  0.249514  0.199614               0.519583   \n",
      "3   Pancreatic Progenitor  0.006995  0.056803               0.899615   \n",
      "4                    ADEX  0.144111  0.667177               0.161602   \n",
      "..                    ...       ...       ...                    ...   \n",
      "91            Immunogenic  0.006816  0.051545               0.007561   \n",
      "92                   ADEX  0.010196  0.740529               0.192767   \n",
      "93            Immunogenic  0.041056  0.041113               0.388574   \n",
      "94               Squamous  0.614132  0.061061               0.295152   \n",
      "95  Pancreatic Progenitor  0.001720  0.013108               0.895190   \n",
      "\n",
      "    Immunogenic  \n",
      "0      0.029127  \n",
      "1      0.042942  \n",
      "2      0.031289  \n",
      "3      0.036587  \n",
      "4      0.027110  \n",
      "..          ...  \n",
      "91     0.934079  \n",
      "92     0.056507  \n",
      "93     0.529256  \n",
      "94     0.029655  \n",
      "95     0.089983  \n",
      "\n",
      "[96 rows x 5 columns]\n",
      "\n",
      "model score of oof results for SVC2\n",
      "Model Accuracy: 0.9375\n",
      "Precision: 0.9378672542735043\n",
      "Recall (Sensitivity): 0.9375\n",
      "F1 Score: 0.9374874949979993\n",
      "Matthews Correlation Coefficient (MCC): 0.9155529545059609\n",
      "G-Measure: 0.9579504330083998\n",
      "AUC: 0.9861980833866837\n",
      "Specificity: 0.9787358621425523\n",
      "Jaccard Index: 0.882714303670186\n",
      "Saving metrics to: /work/wanlab/nick//stackeval4/val_data/individual models/SVC2/limma(0),metrics.csv\n",
      "PREDICTIONS                   subtype  Squamous      ADEX  Pancreatic Progenitor  \\\n",
      "0   Pancreatic Progenitor  0.180088  0.042748               0.740318   \n",
      "1                    ADEX  0.088856  0.796103               0.036232   \n",
      "2   Pancreatic Progenitor  0.333491  0.164900               0.462281   \n",
      "3   Pancreatic Progenitor  0.018160  0.065032               0.854255   \n",
      "4                    ADEX  0.250888  0.471290               0.240994   \n",
      "..                    ...       ...       ...                    ...   \n",
      "91            Immunogenic  0.020190  0.098515               0.016135   \n",
      "92                   ADEX  0.027377  0.793365               0.100342   \n",
      "93            Immunogenic  0.067587  0.022646               0.700089   \n",
      "94               Squamous  0.573094  0.025018               0.387035   \n",
      "95  Pancreatic Progenitor  0.003743  0.023801               0.771441   \n",
      "\n",
      "    Immunogenic  \n",
      "0      0.036846  \n",
      "1      0.078810  \n",
      "2      0.039328  \n",
      "3      0.062553  \n",
      "4      0.036827  \n",
      "..          ...  \n",
      "91     0.865160  \n",
      "92     0.078916  \n",
      "93     0.209677  \n",
      "94     0.014853  \n",
      "95     0.201015  \n",
      "\n",
      "[96 rows x 5 columns]\n",
      "\n",
      "model score of oof results for GaussianNB\n",
      "Model Accuracy: 0.8020833333333334\n",
      "Precision: 0.8112185846560847\n",
      "Recall (Sensitivity): 0.8020833333333334\n",
      "F1 Score: 0.7952737132588884\n",
      "Matthews Correlation Coefficient (MCC): 0.7333724224567384\n",
      "G-Measure: 0.8403667059102383\n",
      "AUC: 0.9361885803457106\n",
      "Specificity: 0.9310939500640205\n",
      "Jaccard Index: 0.648394185260311\n",
      "Saving metrics to: /work/wanlab/nick//stackeval4/val_data/individual models/GaussianNB/limma(0),metrics.csv\n",
      "PREDICTIONS                   subtype  Squamous           ADEX  Pancreatic Progenitor  \\\n",
      "0   Pancreatic Progenitor       0.0  1.482197e-323           1.000000e+00   \n",
      "1                    ADEX       0.0   1.000000e+00          1.346905e-266   \n",
      "2   Pancreatic Progenitor       0.0  6.020797e-100           1.000000e+00   \n",
      "3   Pancreatic Progenitor       0.0   0.000000e+00           1.000000e+00   \n",
      "4                    ADEX       0.0  1.694739e-118           1.000000e+00   \n",
      "..                    ...       ...            ...                    ...   \n",
      "91            Immunogenic       0.0   0.000000e+00           0.000000e+00   \n",
      "92                   ADEX       0.0   8.249520e-66           1.000000e+00   \n",
      "93            Immunogenic       0.0   0.000000e+00           7.728747e-43   \n",
      "94               Squamous       1.0   3.793719e-08           0.000000e+00   \n",
      "95  Pancreatic Progenitor       0.0   0.000000e+00           1.000000e+00   \n",
      "\n",
      "      Immunogenic  \n",
      "0    0.000000e+00  \n",
      "1   1.591372e-184  \n",
      "2    0.000000e+00  \n",
      "3    0.000000e+00  \n",
      "4   7.139117e-233  \n",
      "..            ...  \n",
      "91   1.000000e+00  \n",
      "92  1.307750e-236  \n",
      "93   1.000000e+00  \n",
      "94   0.000000e+00  \n",
      "95   0.000000e+00  \n",
      "\n",
      "[96 rows x 5 columns]\n",
      "\n",
      "model score of oof results for XGBClassifier\n",
      "Model Accuracy: 0.8958333333333334\n",
      "Precision: 0.8980353036908744\n",
      "Recall (Sensitivity): 0.8958333333333334\n",
      "F1 Score: 0.8939833840972847\n",
      "Matthews Correlation Coefficient (MCC): 0.8599347653521981\n",
      "G-Measure: 0.9191232154034474\n",
      "AUC: 0.980168487249253\n",
      "Specificity: 0.9643846030729835\n",
      "Jaccard Index: 0.7975085541008462\n",
      "Saving metrics to: /work/wanlab/nick//stackeval4/val_data/individual models/XGBClassifier/limma(0),metrics.csv\n",
      "PREDICTIONS                   subtype  Squamous      ADEX  Pancreatic Progenitor  \\\n",
      "0   Pancreatic Progenitor  0.010496  0.004265               0.979689   \n",
      "1                    ADEX  0.009075  0.971340               0.010060   \n",
      "2   Pancreatic Progenitor  0.324684  0.116739               0.423451   \n",
      "3   Pancreatic Progenitor  0.035251  0.015652               0.932271   \n",
      "4                    ADEX  0.019062  0.938530               0.032673   \n",
      "..                    ...       ...       ...                    ...   \n",
      "91            Immunogenic  0.003353  0.144402               0.006780   \n",
      "92                   ADEX  0.085751  0.291449               0.230912   \n",
      "93            Immunogenic  0.006942  0.004306               0.017895   \n",
      "94               Squamous  0.557425  0.083944               0.236529   \n",
      "95  Pancreatic Progenitor  0.076111  0.088864               0.516777   \n",
      "\n",
      "    Immunogenic  \n",
      "0      0.005550  \n",
      "1      0.009525  \n",
      "2      0.135126  \n",
      "3      0.016826  \n",
      "4      0.009735  \n",
      "..          ...  \n",
      "91     0.845465  \n",
      "92     0.391888  \n",
      "93     0.970856  \n",
      "94     0.122102  \n",
      "95     0.318248  \n",
      "\n",
      "[96 rows x 5 columns]\n",
      "运行时间为: 1121.98 秒\n",
      "combining [[0.10385892 0.03394035 0.83307348 ... 0.004265   0.97968882 0.00555017]\n",
      " [0.04051393 0.89546301 0.02108153 ... 0.97134036 0.01005994 0.00952453]\n",
      " [0.24951361 0.19961374 0.51958343 ... 0.11673886 0.42345148 0.13512553]\n",
      " ...\n",
      " [0.04105649 0.04111322 0.3885743  ... 0.00430637 0.01789468 0.97085649]\n",
      " [0.61413166 0.06106098 0.29515205 ... 0.08394366 0.23652914 0.1221018 ]\n",
      " [0.00171979 0.01310784 0.89518973 ... 0.08886395 0.51677722 0.31824797]] [[13.56018914 12.68466835 13.10243664 ...  9.53005478 11.16103308\n",
      "  11.24920229]\n",
      " [15.4259582  14.08525845 12.01110512 ...  9.45622747 11.12707631\n",
      "  11.78331935]\n",
      " [14.4756837  13.26517897 12.82291838 ...  9.65623065 11.33179862\n",
      "  11.68015036]\n",
      " ...\n",
      " [14.28976923 13.62192201 12.67277184 ...  9.32578912  9.67174085\n",
      "  11.45401981]\n",
      " [14.71684472 13.81278796 13.58508909 ... 10.31590684 12.7838795\n",
      "  11.90067493]\n",
      " [14.18823419 12.92657629 11.70868561 ...  9.88942006  9.76636631\n",
      "  12.84604452]]\n",
      "stacked\n",
      "cv\n",
      "stacked\n",
      "cv\n",
      "stacked\n",
      "cv\n",
      "stacked\n",
      "cv\n",
      "stacked\n",
      "cv\n",
      "stacked\n",
      "cv\n",
      "stacked\n",
      "cv\n",
      "stacked\n",
      "cv\n",
      "stacked\n",
      "cv\n",
      "stacked\n",
      "cv\n",
      "stacked\n",
      "cv\n",
      "stacked\n",
      "cv\n",
      "stacked\n",
      "cv\n",
      "stacked\n",
      "cv\n",
      "stacked\n",
      "cv\n",
      "stacked\n",
      "cv\n",
      "stacked\n",
      "cv\n",
      "stacked\n",
      "cv\n",
      "stacked\n",
      "cv\n",
      "stacked\n",
      "cv\n",
      "stacked\n",
      "cv\n",
      "stacked\n",
      "cv\n",
      "stacked\n",
      "cv\n",
      "stacked\n",
      "cv\n",
      "stacked\n",
      "cv\n",
      "stacked\n",
      "cv\n",
      "stacked\n",
      "cv\n",
      "stacked\n",
      "cv\n",
      "stacked\n",
      "cv\n",
      "stacked\n",
      "cv\n",
      "stacked\n",
      "cv\n",
      "stacked\n",
      "cv\n",
      "stacked\n",
      "cv\n",
      "stacked\n",
      "cv\n",
      "stacked\n",
      "cv\n",
      "stacked\n",
      "cv\n",
      "stacked\n",
      "cv\n",
      "stacked\n",
      "cv\n",
      "stacked\n",
      "cv\n",
      "stacked\n",
      "cv\n",
      "stacked\n",
      "cv\n",
      "stacked\n",
      "cv\n",
      "stacked\n",
      "cv\n",
      "stacked\n",
      "cv\n",
      "stacked\n",
      "cv\n",
      "stacked\n",
      "cv\n",
      "stacked\n",
      "cv\n",
      "stacked\n",
      "cv\n",
      "stacked\n",
      "cv\n",
      "stacked\n",
      "cv\n",
      "stacked\n",
      "cv\n",
      "stacked\n",
      "cv\n",
      "stacked\n",
      "cv\n",
      "stacked\n",
      "cv\n",
      "stacked\n",
      "cv\n",
      "stacked\n",
      "cv\n",
      "stacked\n",
      "cv\n",
      "stacked\n",
      "cv\n",
      "stacked\n",
      "cv\n",
      "stacked\n",
      "cv\n",
      "stacked\n",
      "cv\n",
      "stacked\n",
      "cv\n",
      "stacked\n",
      "cv\n",
      "stacked\n",
      "cv\n",
      "stacked\n",
      "cv\n",
      "stacked\n",
      "cv\n",
      "stacked\n",
      "cv\n",
      "stacked\n",
      "cv\n",
      "stacked\n",
      "cv\n",
      "stacked\n",
      "cv\n",
      "stacked\n",
      "cv\n",
      "stacked\n",
      "cv\n",
      "stacked\n",
      "cv\n",
      "stacked\n",
      "cv\n",
      "stacked\n",
      "cv\n",
      "stacked\n",
      "cv\n",
      "stacked\n",
      "cv\n",
      "stacked\n",
      "cv\n",
      "stacked\n",
      "cv\n",
      "stacked\n",
      "cv\n",
      "stacked\n",
      "cv\n",
      "stacked\n",
      "cv\n",
      "stacked\n",
      "cv\n",
      "stacked\n",
      "cv\n",
      "stacked\n",
      "cv\n",
      "stacked\n",
      "cv\n",
      "stacked\n",
      "cv\n",
      "stacked\n",
      "cv\n",
      "stacked\n",
      "cv\n",
      "stacked\n",
      "cv\n",
      "stacked\n",
      "cv\n",
      "stacked\n",
      "cv\n",
      "stacked\n",
      "cv\n",
      "stacked\n",
      "cv\n",
      "stacked\n",
      "cv\n",
      "stacked\n",
      "cv\n",
      "\n",
      "model score of oof results for MLPClassifier\n",
      "Model Accuracy: 0.6145833333333334\n",
      "Precision: 0.6222604077863029\n",
      "Recall (Sensitivity): 0.6145833333333334\n",
      "F1 Score: 0.6144518097643098\n",
      "Matthews Correlation Coefficient (MCC): 0.4791449681839203\n",
      "G-Measure: 0.7308588439110377\n",
      "AUC: 0.8635097119967279\n",
      "Specificity: 0.8678270379854887\n",
      "Jaccard Index: 0.4495400544509529\n",
      "Saving metrics to: /work/wanlab/nick//stackeval4/val_data/stacked/MLPClassifier/limma(0),metrics.csv\n",
      "PREDICTIONS                   subtype      Squamous          ADEX  Pancreatic Progenitor  \\\n",
      "0             Immunogenic  1.715884e-02  1.139219e-02           1.154935e-02   \n",
      "1                    ADEX  1.204241e-06  3.935695e-01           5.876488e-01   \n",
      "2   Pancreatic Progenitor  2.468910e-10  1.469617e-03           9.985250e-01   \n",
      "3   Pancreatic Progenitor  4.180263e-03  1.284779e-04           9.953724e-01   \n",
      "4   Pancreatic Progenitor  1.243911e-01  6.882168e-02           6.050962e-01   \n",
      "..                    ...           ...           ...                    ...   \n",
      "91                   ADEX  1.142592e-03  9.983982e-01           1.145942e-05   \n",
      "92               Squamous  9.999993e-01  3.581133e-08           2.164929e-07   \n",
      "93                   ADEX  1.233939e-01  7.980466e-01           3.148210e-02   \n",
      "94  Pancreatic Progenitor  7.280145e-03  2.296701e-08           9.925540e-01   \n",
      "95               Squamous  3.730363e-02  4.183703e-01           5.432238e-01   \n",
      "\n",
      "     Immunogenic  \n",
      "0   9.598996e-01  \n",
      "1   1.878049e-02  \n",
      "2   5.356283e-06  \n",
      "3   3.188296e-04  \n",
      "4   2.016910e-01  \n",
      "..           ...  \n",
      "91  4.477854e-04  \n",
      "92  4.579366e-07  \n",
      "93  4.707736e-02  \n",
      "94  1.658733e-04  \n",
      "95  1.102233e-03  \n",
      "\n",
      "[96 rows x 5 columns]\n",
      "\n",
      "model score of oof results for RandomForestClassifier\n",
      "Model Accuracy: 0.8333333333333334\n",
      "Precision: 0.8398744388327722\n",
      "Recall (Sensitivity): 0.8333333333333334\n",
      "F1 Score: 0.8310853596757853\n",
      "Matthews Correlation Coefficient (MCC): 0.7755797036329652\n",
      "G-Measure: 0.8737484792885053\n",
      "AUC: 0.9820145779982928\n",
      "Specificity: 0.9421908344003415\n",
      "Jaccard Index: 0.7039300855477326\n",
      "Saving metrics to: /work/wanlab/nick//stackeval4/val_data/stacked/RandomForestClassifier/limma(0),metrics.csv\n",
      "PREDICTIONS                   subtype  Squamous  ADEX  Pancreatic Progenitor  Immunogenic\n",
      "0             Immunogenic      0.05  0.02                   0.03         0.90\n",
      "1                    ADEX      0.23  0.29                   0.34         0.14\n",
      "2   Pancreatic Progenitor      0.04  0.16                   0.42         0.38\n",
      "3   Pancreatic Progenitor      0.05  0.14                   0.74         0.07\n",
      "4   Pancreatic Progenitor      0.15  0.08                   0.70         0.07\n",
      "..                    ...       ...   ...                    ...          ...\n",
      "91                   ADEX      0.06  0.32                   0.24         0.38\n",
      "92               Squamous      0.88  0.03                   0.03         0.06\n",
      "93                   ADEX      0.14  0.48                   0.30         0.08\n",
      "94  Pancreatic Progenitor      0.03  0.46                   0.36         0.15\n",
      "95               Squamous      0.45  0.31                   0.20         0.04\n",
      "\n",
      "[96 rows x 5 columns]\n",
      "\n",
      "model score of oof results for LogisticRegression2\n",
      "Model Accuracy: 0.90625\n",
      "Precision: 0.907241010904804\n",
      "Recall (Sensitivity): 0.90625\n",
      "F1 Score: 0.9063258253912099\n",
      "Matthews Correlation Coefficient (MCC): 0.8733101573111083\n",
      "G-Measure: 0.9352788514023854\n",
      "AUC: 0.987585527368758\n",
      "Specificity: 0.9681724818608621\n",
      "Jaccard Index: 0.8275341386554622\n",
      "Saving metrics to: /work/wanlab/nick//stackeval4/val_data/stacked/LogisticRegression2/limma(0),metrics.csv\n",
      "PREDICTIONS                   subtype      Squamous          ADEX  Pancreatic Progenitor  \\\n",
      "0             Immunogenic  3.646564e-09  9.974150e-10           2.292627e-10   \n",
      "1                    ADEX  1.171852e-04  8.840073e-01           1.147018e-01   \n",
      "2   Pancreatic Progenitor  4.339834e-09  4.599627e-06           9.880872e-01   \n",
      "3   Pancreatic Progenitor  8.486444e-06  7.723937e-03           9.913956e-01   \n",
      "4   Pancreatic Progenitor  4.403573e-05  5.516262e-04           9.994042e-01   \n",
      "..                    ...           ...           ...                    ...   \n",
      "91                   ADEX  3.312470e-07  9.375249e-01           2.238925e-02   \n",
      "92               Squamous  1.000000e+00  8.879274e-13           4.501812e-13   \n",
      "93                   ADEX  2.196735e-04  9.822735e-01           1.747904e-02   \n",
      "94  Pancreatic Progenitor  1.803339e-07  6.653511e-01           3.333664e-01   \n",
      "95               Squamous  6.545129e-01  3.235850e-01           2.188503e-02   \n",
      "\n",
      "     Immunogenic  \n",
      "0   1.000000e+00  \n",
      "1   1.173673e-03  \n",
      "2   1.190824e-02  \n",
      "3   8.720064e-04  \n",
      "4   9.287242e-08  \n",
      "..           ...  \n",
      "91  4.008548e-02  \n",
      "92  5.392934e-09  \n",
      "93  2.779966e-05  \n",
      "94  1.282307e-03  \n",
      "95  1.699568e-05  \n",
      "\n",
      "[96 rows x 5 columns]\n",
      "\n",
      "model score of oof results for GaussianNB2\n",
      "Model Accuracy: 0.7916666666666666\n",
      "Precision: 0.7940403244631188\n",
      "Recall (Sensitivity): 0.7916666666666666\n",
      "F1 Score: 0.7853117741563244\n",
      "Matthews Correlation Coefficient (MCC): 0.7183580361797277\n",
      "G-Measure: 0.8350511819042702\n",
      "AUC: 0.9136400314767391\n",
      "Specificity: 0.9279689500640205\n",
      "Jaccard Index: 0.6354479811376363\n",
      "Saving metrics to: /work/wanlab/nick//stackeval4/val_data/stacked/GaussianNB2/limma(0),metrics.csv\n",
      "PREDICTIONS                   subtype  Squamous          ADEX  Pancreatic Progenitor  \\\n",
      "0             Immunogenic       0.0  0.000000e+00           0.000000e+00   \n",
      "1                    ADEX       0.0  1.000000e+00           0.000000e+00   \n",
      "2   Pancreatic Progenitor       0.0  0.000000e+00           1.000000e+00   \n",
      "3   Pancreatic Progenitor       0.0  0.000000e+00           1.000000e+00   \n",
      "4   Pancreatic Progenitor       0.0  0.000000e+00           1.000000e+00   \n",
      "..                    ...       ...           ...                    ...   \n",
      "91                   ADEX       0.0  0.000000e+00          6.657564e-145   \n",
      "92               Squamous       1.0  0.000000e+00           0.000000e+00   \n",
      "93                   ADEX       0.0  3.021302e-60           1.000000e+00   \n",
      "94  Pancreatic Progenitor       0.0  1.000000e+00           9.927327e-57   \n",
      "95               Squamous       1.0  3.714748e-09          5.297143e-179   \n",
      "\n",
      "    Immunogenic  \n",
      "0           1.0  \n",
      "1           0.0  \n",
      "2           0.0  \n",
      "3           0.0  \n",
      "4           0.0  \n",
      "..          ...  \n",
      "91          1.0  \n",
      "92          0.0  \n",
      "93          0.0  \n",
      "94          0.0  \n",
      "95          0.0  \n",
      "\n",
      "[96 rows x 5 columns]\n",
      "\n",
      "model score of oof results for SVC3\n",
      "Model Accuracy: 0.875\n",
      "Precision: 0.8854166666666666\n",
      "Recall (Sensitivity): 0.875\n",
      "F1 Score: 0.8759469696969697\n",
      "Matthews Correlation Coefficient (MCC): 0.8345080763582966\n",
      "G-Measure: 0.9160811379524181\n",
      "AUC: 0.9871364392161047\n",
      "Specificity: 0.9585387323943662\n",
      "Jaccard Index: 0.7773606476331727\n",
      "Saving metrics to: /work/wanlab/nick//stackeval4/val_data/stacked/SVC3/limma(0),metrics.csv\n",
      "PREDICTIONS                   subtype  Squamous      ADEX  Pancreatic Progenitor  \\\n",
      "0             Immunogenic  0.003613  0.002726               0.001162   \n",
      "1                    ADEX  0.029394  0.828381               0.121172   \n",
      "2   Pancreatic Progenitor  0.002954  0.023150               0.839805   \n",
      "3   Pancreatic Progenitor  0.005675  0.074238               0.867579   \n",
      "4   Pancreatic Progenitor  0.036080  0.068397               0.889648   \n",
      "..                    ...       ...       ...                    ...   \n",
      "91                   ADEX  0.005735  0.716101               0.065463   \n",
      "92               Squamous  0.992959  0.000697               0.000145   \n",
      "93                   ADEX  0.082199  0.702645               0.186744   \n",
      "94  Pancreatic Progenitor  0.002894  0.786437               0.178879   \n",
      "95               Squamous  0.390631  0.420770               0.172553   \n",
      "\n",
      "    Immunogenic  \n",
      "0      0.992499  \n",
      "1      0.021052  \n",
      "2      0.134091  \n",
      "3      0.052508  \n",
      "4      0.005875  \n",
      "..          ...  \n",
      "91     0.212701  \n",
      "92     0.006200  \n",
      "93     0.028411  \n",
      "94     0.031790  \n",
      "95     0.016046  \n",
      "\n",
      "[96 rows x 5 columns]\n",
      "\n",
      "model score of oof results for SVC4\n",
      "Model Accuracy: 0.9270833333333334\n",
      "Precision: 0.9282457295657727\n",
      "Recall (Sensitivity): 0.9270833333333334\n",
      "F1 Score: 0.927124353652804\n",
      "Matthews Correlation Coefficient (MCC): 0.9017909960019698\n",
      "G-Measure: 0.9519085598926197\n",
      "AUC: 0.9848608221297481\n",
      "Specificity: 0.9752147353819889\n",
      "Jaccard Index: 0.8669652957336781\n",
      "Saving metrics to: /work/wanlab/nick//stackeval4/val_data/stacked/SVC4/limma(0),metrics.csv\n",
      "PREDICTIONS                   subtype  Squamous      ADEX  Pancreatic Progenitor  \\\n",
      "0             Immunogenic  0.002247  0.001166               0.000608   \n",
      "1                    ADEX  0.036859  0.550867               0.375298   \n",
      "2   Pancreatic Progenitor  0.004149  0.023896               0.764204   \n",
      "3   Pancreatic Progenitor  0.015334  0.082266               0.840915   \n",
      "4   Pancreatic Progenitor  0.053550  0.076997               0.861890   \n",
      "..                    ...       ...       ...                    ...   \n",
      "91                   ADEX  0.009630  0.668606               0.136900   \n",
      "92               Squamous  0.995035  0.000095               0.000115   \n",
      "93                   ADEX  0.055708  0.749051               0.160838   \n",
      "94  Pancreatic Progenitor  0.009243  0.689414               0.265133   \n",
      "95               Squamous  0.413639  0.376523               0.181571   \n",
      "\n",
      "    Immunogenic  \n",
      "0      0.995979  \n",
      "1      0.036976  \n",
      "2      0.207751  \n",
      "3      0.061485  \n",
      "4      0.007563  \n",
      "..          ...  \n",
      "91     0.184864  \n",
      "92     0.004755  \n",
      "93     0.034403  \n",
      "94     0.036210  \n",
      "95     0.028267  \n",
      "\n",
      "[96 rows x 5 columns]\n",
      "run 5\n",
      "Model Pair: SVC + SVC + GaussianNB + KNeighborsClassifier\n",
      "USEDmodelnames ['SVC', 'SVC2', 'GaussianNB', 'KNeighborsClassifier']\n",
      "Running with: SVC and SVC and GaussianNB and KNeighborsClassifier\n",
      "Random state: 0\n",
      "['SVC', 'SVC2', 'GaussianNB', 'KNeighborsClassifier']\n",
      "individual models\n",
      "cv\n",
      "individual models\n",
      "cv\n",
      "individual models\n",
      "cv\n",
      "individual models\n",
      "cv\n",
      "individual models\n",
      "cv\n",
      "individual models\n",
      "cv\n",
      "individual models\n",
      "cv\n",
      "individual models\n",
      "cv\n",
      "individual models\n",
      "cv\n",
      "individual models\n",
      "cv\n",
      "individual models\n",
      "cv\n",
      "individual models\n",
      "cv\n",
      "individual models\n",
      "cv\n",
      "individual models\n",
      "cv\n",
      "individual models\n",
      "cv\n",
      "individual models\n",
      "cv\n",
      "individual models\n",
      "cv\n",
      "individual models\n",
      "cv\n",
      "individual models\n",
      "cv\n",
      "individual models\n",
      "cv\n",
      "individual models\n",
      "cv\n",
      "individual models\n",
      "cv\n",
      "individual models\n",
      "cv\n",
      "individual models\n",
      "cv\n",
      "individual models\n",
      "cv\n",
      "individual models\n",
      "cv\n",
      "individual models\n",
      "cv\n",
      "individual models\n",
      "cv\n",
      "individual models\n",
      "cv\n",
      "individual models\n",
      "cv\n",
      "individual models\n",
      "cv\n",
      "individual models\n",
      "cv\n",
      "individual models\n",
      "cv\n",
      "individual models\n",
      "cv\n",
      "individual models\n",
      "cv\n",
      "individual models\n",
      "cv\n",
      "individual models\n",
      "cv\n",
      "individual models\n",
      "cv\n",
      "individual models\n",
      "cv\n",
      "individual models\n",
      "cv\n",
      "individual models\n",
      "cv\n",
      "individual models\n",
      "cv\n",
      "individual models\n",
      "cv\n",
      "individual models\n",
      "cv\n",
      "individual models\n",
      "cv\n",
      "individual models\n",
      "cv\n",
      "individual models\n",
      "cv\n",
      "individual models\n",
      "cv\n",
      "individual models\n",
      "cv\n",
      "individual models\n",
      "cv\n",
      "individual models\n",
      "cv\n",
      "individual models\n",
      "cv\n",
      "individual models\n",
      "cv\n",
      "individual models\n",
      "cv\n",
      "individual models\n",
      "cv\n",
      "individual models\n",
      "cv\n",
      "individual models\n",
      "cv\n",
      "individual models\n",
      "cv\n",
      "individual models\n",
      "cv\n",
      "individual models\n",
      "cv\n",
      "individual models\n",
      "cv\n",
      "individual models\n",
      "cv\n",
      "individual models\n",
      "cv\n",
      "individual models\n",
      "cv\n",
      "individual models\n",
      "cv\n",
      "individual models\n",
      "cv\n",
      "individual models\n",
      "cv\n",
      "individual models\n",
      "cv\n",
      "individual models\n",
      "cv\n",
      "individual models\n",
      "cv\n",
      "individual models\n",
      "cv\n",
      "individual models\n",
      "cv\n",
      "individual models\n",
      "cv\n",
      "individual models\n",
      "cv\n",
      "individual models\n",
      "cv\n",
      "individual models\n",
      "cv\n",
      "individual models\n",
      "cv\n",
      "individual models\n",
      "cv\n",
      "individual models\n",
      "cv\n",
      "individual models\n",
      "cv\n",
      "individual models\n",
      "cv\n",
      "individual models\n",
      "cv\n",
      "individual models\n",
      "cv\n",
      "individual models\n",
      "cv\n",
      "individual models\n",
      "cv\n",
      "individual models\n",
      "cv\n",
      "individual models\n",
      "cv\n",
      "individual models\n",
      "cv\n",
      "individual models\n",
      "cv\n",
      "individual models\n",
      "cv\n",
      "individual models\n",
      "cv\n",
      "individual models\n",
      "cv\n",
      "individual models\n",
      "cv\n",
      "individual models\n",
      "cv\n",
      "individual models\n",
      "cv\n",
      "individual models\n",
      "cv\n",
      "\n",
      "model score of oof results for SVC\n",
      "Model Accuracy: 0.875\n",
      "Precision: 0.8798649267399267\n",
      "Recall (Sensitivity): 0.875\n",
      "F1 Score: 0.8751610313936894\n",
      "Matthews Correlation Coefficient (MCC): 0.8329181448543629\n",
      "G-Measure: 0.9162567046538834\n",
      "AUC: 0.9894041648883198\n",
      "Specificity: 0.9582719803670507\n",
      "Jaccard Index: 0.7779538993943889\n",
      "Saving metrics to: /work/wanlab/nick//stackeval5/val_data/individual models/SVC/limma(0),metrics.csv\n",
      "PREDICTIONS                   subtype  Squamous      ADEX  Pancreatic Progenitor  \\\n",
      "0   Pancreatic Progenitor  0.097916  0.034358               0.844149   \n",
      "1                    ADEX  0.024673  0.914251               0.014237   \n",
      "2   Pancreatic Progenitor  0.257410  0.211463               0.495531   \n",
      "3   Pancreatic Progenitor  0.006443  0.067575               0.890937   \n",
      "4                    ADEX  0.107498  0.715580               0.161175   \n",
      "..                    ...       ...       ...                    ...   \n",
      "91            Immunogenic  0.006388  0.054085               0.006908   \n",
      "92                   ADEX  0.005793  0.817213               0.135004   \n",
      "93            Immunogenic  0.042073  0.038410               0.407693   \n",
      "94               Squamous  0.602874  0.061120               0.306217   \n",
      "95  Pancreatic Progenitor  0.002230  0.019531               0.856226   \n",
      "\n",
      "    Immunogenic  \n",
      "0      0.023577  \n",
      "1      0.046839  \n",
      "2      0.035596  \n",
      "3      0.035045  \n",
      "4      0.015747  \n",
      "..          ...  \n",
      "91     0.932619  \n",
      "92     0.041990  \n",
      "93     0.511824  \n",
      "94     0.029789  \n",
      "95     0.122013  \n",
      "\n",
      "[96 rows x 5 columns]\n",
      "\n",
      "model score of oof results for SVC2\n",
      "Model Accuracy: 0.9375\n",
      "Precision: 0.9378672542735043\n",
      "Recall (Sensitivity): 0.9375\n",
      "F1 Score: 0.9374874949979993\n",
      "Matthews Correlation Coefficient (MCC): 0.9155529545059609\n",
      "G-Measure: 0.9579504330083998\n",
      "AUC: 0.986970719519135\n",
      "Specificity: 0.9787358621425523\n",
      "Jaccard Index: 0.882714303670186\n",
      "Saving metrics to: /work/wanlab/nick//stackeval5/val_data/individual models/SVC2/limma(0),metrics.csv\n",
      "PREDICTIONS                   subtype  Squamous      ADEX  Pancreatic Progenitor  \\\n",
      "0   Pancreatic Progenitor  0.173522  0.041955               0.751666   \n",
      "1                    ADEX  0.072830  0.826859               0.029502   \n",
      "2   Pancreatic Progenitor  0.331905  0.164369               0.458977   \n",
      "3   Pancreatic Progenitor  0.018953  0.081620               0.845331   \n",
      "4                    ADEX  0.251353  0.450119               0.270752   \n",
      "..                    ...       ...       ...                    ...   \n",
      "91            Immunogenic  0.020742  0.104976               0.015679   \n",
      "92                   ADEX  0.025320  0.769002               0.131044   \n",
      "93            Immunogenic  0.091819  0.027727               0.663576   \n",
      "94               Squamous  0.570970  0.023947               0.388014   \n",
      "95  Pancreatic Progenitor  0.004196  0.027169               0.754547   \n",
      "\n",
      "    Immunogenic  \n",
      "0      0.032856  \n",
      "1      0.070808  \n",
      "2      0.044749  \n",
      "3      0.054095  \n",
      "4      0.027776  \n",
      "..          ...  \n",
      "91     0.858603  \n",
      "92     0.074634  \n",
      "93     0.216878  \n",
      "94     0.017069  \n",
      "95     0.214088  \n",
      "\n",
      "[96 rows x 5 columns]\n",
      "\n",
      "model score of oof results for GaussianNB\n",
      "Model Accuracy: 0.8020833333333334\n",
      "Precision: 0.8112185846560847\n",
      "Recall (Sensitivity): 0.8020833333333334\n",
      "F1 Score: 0.7952737132588884\n",
      "Matthews Correlation Coefficient (MCC): 0.7333724224567384\n",
      "G-Measure: 0.8403667059102383\n",
      "AUC: 0.9361885803457106\n",
      "Specificity: 0.9310939500640205\n",
      "Jaccard Index: 0.648394185260311\n",
      "Saving metrics to: /work/wanlab/nick//stackeval5/val_data/individual models/GaussianNB/limma(0),metrics.csv\n",
      "PREDICTIONS                   subtype  Squamous           ADEX  Pancreatic Progenitor  \\\n",
      "0   Pancreatic Progenitor       0.0  1.482197e-323           1.000000e+00   \n",
      "1                    ADEX       0.0   1.000000e+00          1.346905e-266   \n",
      "2   Pancreatic Progenitor       0.0  6.020797e-100           1.000000e+00   \n",
      "3   Pancreatic Progenitor       0.0   0.000000e+00           1.000000e+00   \n",
      "4                    ADEX       0.0  1.694739e-118           1.000000e+00   \n",
      "..                    ...       ...            ...                    ...   \n",
      "91            Immunogenic       0.0   0.000000e+00           0.000000e+00   \n",
      "92                   ADEX       0.0   8.249520e-66           1.000000e+00   \n",
      "93            Immunogenic       0.0   0.000000e+00           7.728747e-43   \n",
      "94               Squamous       1.0   3.793719e-08           0.000000e+00   \n",
      "95  Pancreatic Progenitor       0.0   0.000000e+00           1.000000e+00   \n",
      "\n",
      "      Immunogenic  \n",
      "0    0.000000e+00  \n",
      "1   1.591372e-184  \n",
      "2    0.000000e+00  \n",
      "3    0.000000e+00  \n",
      "4   7.139117e-233  \n",
      "..            ...  \n",
      "91   1.000000e+00  \n",
      "92  1.307750e-236  \n",
      "93   1.000000e+00  \n",
      "94   0.000000e+00  \n",
      "95   0.000000e+00  \n",
      "\n",
      "[96 rows x 5 columns]\n",
      "\n",
      "model score of oof results for KNeighborsClassifier\n",
      "Model Accuracy: 0.8125\n",
      "Precision: 0.8199310816498316\n",
      "Recall (Sensitivity): 0.8125\n",
      "F1 Score: 0.8125190781440782\n",
      "Matthews Correlation Coefficient (MCC): 0.7460321678003263\n",
      "G-Measure: 0.8633985462943907\n",
      "AUC: 0.9584949683898847\n",
      "Specificity: 0.9348818288518993\n",
      "Jaccard Index: 0.6830932288025566\n",
      "Saving metrics to: /work/wanlab/nick//stackeval5/val_data/individual models/KNeighborsClassifier/limma(0),metrics.csv\n",
      "PREDICTIONS                   subtype  Squamous  ADEX  Pancreatic Progenitor  Immunogenic\n",
      "0   Pancreatic Progenitor       0.2   0.0                    0.8          0.0\n",
      "1                    ADEX       0.0   1.0                    0.0          0.0\n",
      "2   Pancreatic Progenitor       0.4   0.0                    0.6          0.0\n",
      "3   Pancreatic Progenitor       0.0   0.0                    1.0          0.0\n",
      "4                    ADEX       0.4   0.2                    0.4          0.0\n",
      "..                    ...       ...   ...                    ...          ...\n",
      "91            Immunogenic       0.0   0.0                    0.0          1.0\n",
      "92                   ADEX       0.0   0.6                    0.4          0.0\n",
      "93            Immunogenic       0.0   0.0                    0.4          0.6\n",
      "94               Squamous       0.4   0.0                    0.6          0.0\n",
      "95  Pancreatic Progenitor       0.0   0.0                    0.6          0.4\n",
      "\n",
      "[96 rows x 5 columns]\n",
      "运行时间为: 37.25 秒\n",
      "combining [[0.09791623 0.03435796 0.84414899 ... 0.         0.8        0.        ]\n",
      " [0.02467319 0.91425117 0.01423692 ... 1.         0.         0.        ]\n",
      " [0.2574099  0.21146311 0.49553067 ... 0.         0.6        0.        ]\n",
      " ...\n",
      " [0.04207264 0.0384096  0.40769339 ... 0.         0.4        0.6       ]\n",
      " [0.60287406 0.06111995 0.30621746 ... 0.         0.6        0.        ]\n",
      " [0.00222969 0.01953098 0.85622589 ... 0.         0.6        0.4       ]] [[13.56018914 12.68466835 13.10243664 ...  9.53005478 11.16103308\n",
      "  11.24920229]\n",
      " [15.4259582  14.08525845 12.01110512 ...  9.45622747 11.12707631\n",
      "  11.78331935]\n",
      " [14.4756837  13.26517897 12.82291838 ...  9.65623065 11.33179862\n",
      "  11.68015036]\n",
      " ...\n",
      " [14.28976923 13.62192201 12.67277184 ...  9.32578912  9.67174085\n",
      "  11.45401981]\n",
      " [14.71684472 13.81278796 13.58508909 ... 10.31590684 12.7838795\n",
      "  11.90067493]\n",
      " [14.18823419 12.92657629 11.70868561 ...  9.88942006  9.76636631\n",
      "  12.84604452]]\n",
      "stacked\n",
      "cv\n",
      "stacked\n",
      "cv\n",
      "stacked\n",
      "cv\n",
      "stacked\n",
      "cv\n",
      "stacked\n",
      "cv\n",
      "stacked\n",
      "cv\n",
      "stacked\n",
      "cv\n",
      "stacked\n",
      "cv\n",
      "stacked\n",
      "cv\n",
      "stacked\n",
      "cv\n",
      "stacked\n",
      "cv\n",
      "stacked\n",
      "cv\n",
      "stacked\n",
      "cv\n",
      "stacked\n",
      "cv\n",
      "stacked\n",
      "cv\n",
      "stacked\n",
      "cv\n",
      "stacked\n",
      "cv\n",
      "stacked\n",
      "cv\n",
      "stacked\n",
      "cv\n",
      "stacked\n",
      "cv\n",
      "stacked\n",
      "cv\n",
      "stacked\n",
      "cv\n",
      "stacked\n",
      "cv\n",
      "stacked\n",
      "cv\n",
      "stacked\n",
      "cv\n",
      "stacked\n",
      "cv\n",
      "stacked\n",
      "cv\n",
      "stacked\n",
      "cv\n",
      "stacked\n",
      "cv\n",
      "stacked\n",
      "cv\n",
      "stacked\n",
      "cv\n",
      "stacked\n",
      "cv\n",
      "stacked\n",
      "cv\n",
      "stacked\n",
      "cv\n",
      "stacked\n",
      "cv\n",
      "stacked\n",
      "cv\n",
      "stacked\n",
      "cv\n",
      "stacked\n",
      "cv\n",
      "stacked\n",
      "cv\n",
      "stacked\n",
      "cv\n",
      "stacked\n",
      "cv\n",
      "stacked\n",
      "cv\n",
      "stacked\n",
      "cv\n",
      "stacked\n",
      "cv\n",
      "stacked\n",
      "cv\n",
      "stacked\n",
      "cv\n",
      "stacked\n",
      "cv\n",
      "stacked\n",
      "cv\n",
      "stacked\n",
      "cv\n",
      "stacked\n",
      "cv\n",
      "stacked\n",
      "cv\n",
      "stacked\n",
      "cv\n",
      "stacked\n",
      "cv\n",
      "stacked\n",
      "cv\n",
      "stacked\n",
      "cv\n",
      "stacked\n",
      "cv\n",
      "stacked\n",
      "cv\n",
      "stacked\n",
      "cv\n",
      "stacked\n",
      "cv\n",
      "stacked\n",
      "cv\n",
      "stacked\n",
      "cv\n",
      "stacked\n",
      "cv\n",
      "stacked\n",
      "cv\n",
      "stacked\n",
      "cv\n",
      "stacked\n",
      "cv\n",
      "stacked\n",
      "cv\n",
      "stacked\n",
      "cv\n",
      "stacked\n",
      "cv\n",
      "stacked\n",
      "cv\n",
      "stacked\n",
      "cv\n",
      "stacked\n",
      "cv\n",
      "stacked\n",
      "cv\n",
      "stacked\n",
      "cv\n",
      "stacked\n",
      "cv\n",
      "stacked\n",
      "cv\n",
      "stacked\n",
      "cv\n",
      "stacked\n",
      "cv\n",
      "stacked\n",
      "cv\n",
      "stacked\n",
      "cv\n",
      "stacked\n",
      "cv\n",
      "stacked\n",
      "cv\n",
      "stacked\n",
      "cv\n",
      "stacked\n",
      "cv\n",
      "stacked\n",
      "cv\n",
      "stacked\n",
      "cv\n",
      "stacked\n",
      "cv\n",
      "stacked\n",
      "cv\n",
      "stacked\n",
      "cv\n",
      "stacked\n",
      "cv\n",
      "stacked\n",
      "cv\n",
      "stacked\n",
      "cv\n",
      "stacked\n",
      "cv\n",
      "stacked\n",
      "cv\n",
      "stacked\n",
      "cv\n",
      "stacked\n",
      "cv\n",
      "stacked\n",
      "cv\n",
      "\n",
      "model score of oof results for MLPClassifier\n",
      "Model Accuracy: 0.6354166666666666\n",
      "Precision: 0.6427940260933304\n",
      "Recall (Sensitivity): 0.6354166666666666\n",
      "F1 Score: 0.633623817681021\n",
      "Matthews Correlation Coefficient (MCC): 0.5126718692263701\n",
      "G-Measure: 0.7532476159813257\n",
      "AUC: 0.8644476232394367\n",
      "Specificity: 0.8768579278702519\n",
      "Jaccard Index: 0.47362931642001405\n",
      "Saving metrics to: /work/wanlab/nick//stackeval5/val_data/stacked/MLPClassifier/limma(0),metrics.csv\n",
      "PREDICTIONS                   subtype  Squamous          ADEX  Pancreatic Progenitor  \\\n",
      "0             Immunogenic  0.000230  4.286904e-08           9.715730e-08   \n",
      "1                    ADEX  0.003174  6.797481e-01           2.668499e-01   \n",
      "2   Pancreatic Progenitor  0.000010  4.218215e-07           9.034552e-01   \n",
      "3   Pancreatic Progenitor  0.025773  6.367158e-01           2.839349e-01   \n",
      "4   Pancreatic Progenitor  0.034750  5.041596e-01           4.598095e-01   \n",
      "..                    ...       ...           ...                    ...   \n",
      "91                   ADEX  0.000723  5.295385e-01           9.972576e-03   \n",
      "92               Squamous  1.000000  1.433291e-13           2.312791e-08   \n",
      "93                   ADEX  0.010087  2.428609e-01           7.470305e-01   \n",
      "94  Pancreatic Progenitor  0.000059  8.639657e-01           1.340117e-01   \n",
      "95               Squamous  0.189774  2.638567e-02           7.796129e-01   \n",
      "\n",
      "     Immunogenic  \n",
      "0   9.997703e-01  \n",
      "1   5.022841e-02  \n",
      "2   9.653447e-02  \n",
      "3   5.357654e-02  \n",
      "4   1.281038e-03  \n",
      "..           ...  \n",
      "91  4.597658e-01  \n",
      "92  4.526988e-12  \n",
      "93  2.194067e-05  \n",
      "94  1.963934e-03  \n",
      "95  4.226939e-03  \n",
      "\n",
      "[96 rows x 5 columns]\n",
      "\n",
      "model score of oof results for RandomForestClassifier\n",
      "Model Accuracy: 0.8958333333333334\n",
      "Precision: 0.8975234457571414\n",
      "Recall (Sensitivity): 0.8958333333333334\n",
      "F1 Score: 0.894893061391223\n",
      "Matthews Correlation Coefficient (MCC): 0.8595023656464544\n",
      "G-Measure: 0.9227167400778311\n",
      "AUC: 0.9855061953158343\n",
      "Specificity: 0.9641178510456679\n",
      "Jaccard Index: 0.8042133520074696\n",
      "Saving metrics to: /work/wanlab/nick//stackeval5/val_data/stacked/RandomForestClassifier/limma(0),metrics.csv\n",
      "PREDICTIONS                   subtype  Squamous  ADEX  Pancreatic Progenitor  Immunogenic\n",
      "0             Immunogenic      0.11  0.06                   0.06         0.77\n",
      "1                    ADEX      0.16  0.37                   0.35         0.12\n",
      "2   Pancreatic Progenitor      0.01  0.10                   0.45         0.44\n",
      "3   Pancreatic Progenitor      0.06  0.15                   0.71         0.08\n",
      "4   Pancreatic Progenitor      0.11  0.11                   0.74         0.04\n",
      "..                    ...       ...   ...                    ...          ...\n",
      "91                   ADEX      0.03  0.35                   0.27         0.35\n",
      "92               Squamous      0.83  0.03                   0.03         0.11\n",
      "93                   ADEX      0.17  0.44                   0.31         0.08\n",
      "94  Pancreatic Progenitor      0.03  0.48                   0.38         0.11\n",
      "95               Squamous      0.48  0.20                   0.24         0.08\n",
      "\n",
      "[96 rows x 5 columns]\n",
      "\n",
      "model score of oof results for LogisticRegression2\n",
      "Model Accuracy: 0.90625\n",
      "Precision: 0.907241010904804\n",
      "Recall (Sensitivity): 0.90625\n",
      "F1 Score: 0.9063258253912099\n",
      "Matthews Correlation Coefficient (MCC): 0.8733101573111083\n",
      "G-Measure: 0.9352788514023854\n",
      "AUC: 0.987585527368758\n",
      "Specificity: 0.9681724818608621\n",
      "Jaccard Index: 0.8275341386554622\n",
      "Saving metrics to: /work/wanlab/nick//stackeval5/val_data/stacked/LogisticRegression2/limma(0),metrics.csv\n",
      "PREDICTIONS                   subtype      Squamous          ADEX  Pancreatic Progenitor  \\\n",
      "0             Immunogenic  3.575309e-09  9.907982e-10           2.242741e-10   \n",
      "1                    ADEX  1.166492e-04  8.841760e-01           1.145376e-01   \n",
      "2   Pancreatic Progenitor  4.342104e-09  4.577281e-06           9.880638e-01   \n",
      "3   Pancreatic Progenitor  8.491280e-06  7.706610e-03           9.914144e-01   \n",
      "4   Pancreatic Progenitor  4.390254e-05  5.517287e-04           9.994043e-01   \n",
      "..                    ...           ...           ...                    ...   \n",
      "91                   ADEX  3.273943e-07  9.374817e-01           2.243327e-02   \n",
      "92               Squamous  1.000000e+00  8.905346e-13           4.433642e-13   \n",
      "93                   ADEX  2.202529e-04  9.823102e-01           1.744169e-02   \n",
      "94  Pancreatic Progenitor  1.813450e-07  6.664835e-01           3.322292e-01   \n",
      "95               Squamous  6.538306e-01  3.242331e-01           2.191938e-02   \n",
      "\n",
      "     Immunogenic  \n",
      "0   1.000000e+00  \n",
      "1   1.169709e-03  \n",
      "2   1.193163e-02  \n",
      "3   8.704677e-04  \n",
      "4   9.230367e-08  \n",
      "..           ...  \n",
      "91  4.008465e-02  \n",
      "92  5.435087e-09  \n",
      "93  2.781230e-05  \n",
      "94  1.287123e-03  \n",
      "95  1.690165e-05  \n",
      "\n",
      "[96 rows x 5 columns]\n",
      "\n",
      "model score of oof results for GaussianNB2\n",
      "Model Accuracy: 0.78125\n",
      "Precision: 0.7801967798904075\n",
      "Recall (Sensitivity): 0.78125\n",
      "F1 Score: 0.7758436552149349\n",
      "Matthews Correlation Coefficient (MCC): 0.7035711525954906\n",
      "G-Measure: 0.8288468337125071\n",
      "AUC: 0.9047783068359653\n",
      "Specificity: 0.9248439500640205\n",
      "Jaccard Index: 0.6212666945879287\n",
      "Saving metrics to: /work/wanlab/nick//stackeval5/val_data/stacked/GaussianNB2/limma(0),metrics.csv\n",
      "PREDICTIONS                   subtype  Squamous          ADEX  Pancreatic Progenitor  \\\n",
      "0             Immunogenic  0.000000  0.000000e+00           0.000000e+00   \n",
      "1                    ADEX  0.000000  1.000000e+00           0.000000e+00   \n",
      "2   Pancreatic Progenitor  0.000000  0.000000e+00           1.000000e+00   \n",
      "3   Pancreatic Progenitor  0.000000  0.000000e+00           1.000000e+00   \n",
      "4   Pancreatic Progenitor  0.000000  0.000000e+00           1.000000e+00   \n",
      "..                    ...       ...           ...                    ...   \n",
      "91                   ADEX  0.000000  0.000000e+00          6.969581e-150   \n",
      "92               Squamous  1.000000  0.000000e+00           0.000000e+00   \n",
      "93                   ADEX  0.000000  4.210475e-69           1.000000e+00   \n",
      "94  Pancreatic Progenitor  0.000000  1.000000e+00           1.784927e-55   \n",
      "95               Squamous  0.058558  9.414416e-01          6.522320e-171   \n",
      "\n",
      "    Immunogenic  \n",
      "0           1.0  \n",
      "1           0.0  \n",
      "2           0.0  \n",
      "3           0.0  \n",
      "4           0.0  \n",
      "..          ...  \n",
      "91          1.0  \n",
      "92          0.0  \n",
      "93          0.0  \n",
      "94          0.0  \n",
      "95          0.0  \n",
      "\n",
      "[96 rows x 5 columns]\n",
      "\n",
      "model score of oof results for SVC3\n",
      "Model Accuracy: 0.8958333333333334\n",
      "Precision: 0.9000483312983313\n",
      "Recall (Sensitivity): 0.8958333333333334\n",
      "F1 Score: 0.8961476129250004\n",
      "Matthews Correlation Coefficient (MCC): 0.8604174274703945\n",
      "G-Measure: 0.9291226370118333\n",
      "AUC: 0.987881455399061\n",
      "Specificity: 0.9649181071276142\n",
      "Jaccard Index: 0.8121114964339462\n",
      "Saving metrics to: /work/wanlab/nick//stackeval5/val_data/stacked/SVC3/limma(0),metrics.csv\n",
      "PREDICTIONS                   subtype  Squamous      ADEX  Pancreatic Progenitor  \\\n",
      "0             Immunogenic  0.003565  0.002281               0.001797   \n",
      "1                    ADEX  0.028814  0.890259               0.058007   \n",
      "2   Pancreatic Progenitor  0.001864  0.018915               0.872525   \n",
      "3   Pancreatic Progenitor  0.005478  0.056524               0.893580   \n",
      "4   Pancreatic Progenitor  0.033478  0.076263               0.885291   \n",
      "..                    ...       ...       ...                    ...   \n",
      "91                   ADEX  0.005159  0.720336               0.086080   \n",
      "92               Squamous  0.994596  0.000708               0.000134   \n",
      "93                   ADEX  0.090494  0.712022               0.168076   \n",
      "94  Pancreatic Progenitor  0.002951  0.794201               0.185156   \n",
      "95               Squamous  0.416244  0.368549               0.201370   \n",
      "\n",
      "    Immunogenic  \n",
      "0      0.992357  \n",
      "1      0.022920  \n",
      "2      0.106696  \n",
      "3      0.044419  \n",
      "4      0.004968  \n",
      "..          ...  \n",
      "91     0.188425  \n",
      "92     0.004562  \n",
      "93     0.029409  \n",
      "94     0.017692  \n",
      "95     0.013836  \n",
      "\n",
      "[96 rows x 5 columns]\n",
      "\n",
      "model score of oof results for SVC4\n",
      "Model Accuracy: 0.9375\n",
      "Precision: 0.9378672542735043\n",
      "Recall (Sensitivity): 0.9375\n",
      "F1 Score: 0.9374874949979993\n",
      "Matthews Correlation Coefficient (MCC): 0.9155529545059609\n",
      "G-Measure: 0.9579504330083998\n",
      "AUC: 0.9864861200028453\n",
      "Specificity: 0.9787358621425523\n",
      "Jaccard Index: 0.882714303670186\n",
      "Saving metrics to: /work/wanlab/nick//stackeval5/val_data/stacked/SVC4/limma(0),metrics.csv\n",
      "PREDICTIONS                   subtype  Squamous      ADEX  Pancreatic Progenitor  \\\n",
      "0             Immunogenic  0.003662  0.001460               0.001093   \n",
      "1                    ADEX  0.040853  0.558429               0.359968   \n",
      "2   Pancreatic Progenitor  0.003198  0.022973               0.764192   \n",
      "3   Pancreatic Progenitor  0.011218  0.070858               0.883943   \n",
      "4   Pancreatic Progenitor  0.042189  0.061819               0.889411   \n",
      "..                    ...       ...       ...                    ...   \n",
      "91                   ADEX  0.010726  0.681950               0.128899   \n",
      "92               Squamous  0.994827  0.000100               0.000144   \n",
      "93                   ADEX  0.052037  0.775053               0.138691   \n",
      "94  Pancreatic Progenitor  0.006581  0.651890               0.301863   \n",
      "95               Squamous  0.391454  0.386615               0.191722   \n",
      "\n",
      "    Immunogenic  \n",
      "0      0.993784  \n",
      "1      0.040750  \n",
      "2      0.209637  \n",
      "3      0.033981  \n",
      "4      0.006581  \n",
      "..          ...  \n",
      "91     0.178425  \n",
      "92     0.004928  \n",
      "93     0.034219  \n",
      "94     0.039665  \n",
      "95     0.030209  \n",
      "\n",
      "[96 rows x 5 columns]\n",
      "run 6\n",
      "Model Pair: SVC + SVC + GaussianNB + QuadraticDiscriminantAnalysis\n",
      "USEDmodelnames ['SVC', 'SVC2', 'GaussianNB', 'QuadraticDiscriminantAnalysis']\n",
      "Running with: SVC and SVC and GaussianNB and QuadraticDiscriminantAnalysis\n",
      "Random state: 0\n",
      "['SVC', 'SVC2', 'GaussianNB', 'QuadraticDiscriminantAnalysis']\n",
      "individual models\n"
     ]
    },
    {
     "name": "stderr",
     "output_type": "stream",
     "text": [
      "/home/wanlab/nick/.local/lib/python3.8/site-packages/sklearn/discriminant_analysis.py:935: UserWarning: Variables are collinear\n",
      "  warnings.warn(\"Variables are collinear\")\n"
     ]
    },
    {
     "name": "stdout",
     "output_type": "stream",
     "text": [
      "cv\n",
      "individual models\n"
     ]
    },
    {
     "name": "stderr",
     "output_type": "stream",
     "text": [
      "/home/wanlab/nick/.local/lib/python3.8/site-packages/sklearn/discriminant_analysis.py:935: UserWarning: Variables are collinear\n",
      "  warnings.warn(\"Variables are collinear\")\n"
     ]
    },
    {
     "name": "stdout",
     "output_type": "stream",
     "text": [
      "cv\n",
      "individual models\n"
     ]
    },
    {
     "name": "stderr",
     "output_type": "stream",
     "text": [
      "/home/wanlab/nick/.local/lib/python3.8/site-packages/sklearn/discriminant_analysis.py:935: UserWarning: Variables are collinear\n",
      "  warnings.warn(\"Variables are collinear\")\n"
     ]
    },
    {
     "name": "stdout",
     "output_type": "stream",
     "text": [
      "cv\n",
      "individual models\n"
     ]
    },
    {
     "name": "stderr",
     "output_type": "stream",
     "text": [
      "/home/wanlab/nick/.local/lib/python3.8/site-packages/sklearn/discriminant_analysis.py:935: UserWarning: Variables are collinear\n",
      "  warnings.warn(\"Variables are collinear\")\n"
     ]
    },
    {
     "name": "stdout",
     "output_type": "stream",
     "text": [
      "cv\n",
      "individual models\n"
     ]
    },
    {
     "name": "stderr",
     "output_type": "stream",
     "text": [
      "/home/wanlab/nick/.local/lib/python3.8/site-packages/sklearn/discriminant_analysis.py:935: UserWarning: Variables are collinear\n",
      "  warnings.warn(\"Variables are collinear\")\n"
     ]
    },
    {
     "name": "stdout",
     "output_type": "stream",
     "text": [
      "cv\n",
      "individual models\n"
     ]
    },
    {
     "name": "stderr",
     "output_type": "stream",
     "text": [
      "/home/wanlab/nick/.local/lib/python3.8/site-packages/sklearn/discriminant_analysis.py:935: UserWarning: Variables are collinear\n",
      "  warnings.warn(\"Variables are collinear\")\n"
     ]
    },
    {
     "name": "stdout",
     "output_type": "stream",
     "text": [
      "cv\n",
      "individual models\n"
     ]
    },
    {
     "name": "stderr",
     "output_type": "stream",
     "text": [
      "/home/wanlab/nick/.local/lib/python3.8/site-packages/sklearn/discriminant_analysis.py:935: UserWarning: Variables are collinear\n",
      "  warnings.warn(\"Variables are collinear\")\n"
     ]
    },
    {
     "name": "stdout",
     "output_type": "stream",
     "text": [
      "cv\n",
      "individual models\n"
     ]
    },
    {
     "name": "stderr",
     "output_type": "stream",
     "text": [
      "/home/wanlab/nick/.local/lib/python3.8/site-packages/sklearn/discriminant_analysis.py:935: UserWarning: Variables are collinear\n",
      "  warnings.warn(\"Variables are collinear\")\n"
     ]
    },
    {
     "name": "stdout",
     "output_type": "stream",
     "text": [
      "cv\n",
      "individual models\n"
     ]
    },
    {
     "name": "stderr",
     "output_type": "stream",
     "text": [
      "/home/wanlab/nick/.local/lib/python3.8/site-packages/sklearn/discriminant_analysis.py:935: UserWarning: Variables are collinear\n",
      "  warnings.warn(\"Variables are collinear\")\n"
     ]
    },
    {
     "name": "stdout",
     "output_type": "stream",
     "text": [
      "cv\n",
      "individual models\n"
     ]
    },
    {
     "name": "stderr",
     "output_type": "stream",
     "text": [
      "/home/wanlab/nick/.local/lib/python3.8/site-packages/sklearn/discriminant_analysis.py:935: UserWarning: Variables are collinear\n",
      "  warnings.warn(\"Variables are collinear\")\n"
     ]
    },
    {
     "name": "stdout",
     "output_type": "stream",
     "text": [
      "cv\n",
      "individual models\n"
     ]
    },
    {
     "name": "stderr",
     "output_type": "stream",
     "text": [
      "/home/wanlab/nick/.local/lib/python3.8/site-packages/sklearn/discriminant_analysis.py:935: UserWarning: Variables are collinear\n",
      "  warnings.warn(\"Variables are collinear\")\n"
     ]
    },
    {
     "name": "stdout",
     "output_type": "stream",
     "text": [
      "cv\n",
      "individual models\n"
     ]
    },
    {
     "name": "stderr",
     "output_type": "stream",
     "text": [
      "/home/wanlab/nick/.local/lib/python3.8/site-packages/sklearn/discriminant_analysis.py:935: UserWarning: Variables are collinear\n",
      "  warnings.warn(\"Variables are collinear\")\n"
     ]
    },
    {
     "name": "stdout",
     "output_type": "stream",
     "text": [
      "cv\n",
      "individual models\n"
     ]
    },
    {
     "name": "stderr",
     "output_type": "stream",
     "text": [
      "/home/wanlab/nick/.local/lib/python3.8/site-packages/sklearn/discriminant_analysis.py:935: UserWarning: Variables are collinear\n",
      "  warnings.warn(\"Variables are collinear\")\n"
     ]
    },
    {
     "name": "stdout",
     "output_type": "stream",
     "text": [
      "cv\n",
      "individual models\n"
     ]
    },
    {
     "name": "stderr",
     "output_type": "stream",
     "text": [
      "/home/wanlab/nick/.local/lib/python3.8/site-packages/sklearn/discriminant_analysis.py:935: UserWarning: Variables are collinear\n",
      "  warnings.warn(\"Variables are collinear\")\n"
     ]
    },
    {
     "name": "stdout",
     "output_type": "stream",
     "text": [
      "cv\n",
      "individual models\n"
     ]
    },
    {
     "name": "stderr",
     "output_type": "stream",
     "text": [
      "/home/wanlab/nick/.local/lib/python3.8/site-packages/sklearn/discriminant_analysis.py:935: UserWarning: Variables are collinear\n",
      "  warnings.warn(\"Variables are collinear\")\n"
     ]
    },
    {
     "name": "stdout",
     "output_type": "stream",
     "text": [
      "cv\n",
      "individual models\n"
     ]
    },
    {
     "name": "stderr",
     "output_type": "stream",
     "text": [
      "/home/wanlab/nick/.local/lib/python3.8/site-packages/sklearn/discriminant_analysis.py:935: UserWarning: Variables are collinear\n",
      "  warnings.warn(\"Variables are collinear\")\n"
     ]
    },
    {
     "name": "stdout",
     "output_type": "stream",
     "text": [
      "cv\n",
      "individual models\n"
     ]
    },
    {
     "name": "stderr",
     "output_type": "stream",
     "text": [
      "/home/wanlab/nick/.local/lib/python3.8/site-packages/sklearn/discriminant_analysis.py:935: UserWarning: Variables are collinear\n",
      "  warnings.warn(\"Variables are collinear\")\n"
     ]
    },
    {
     "name": "stdout",
     "output_type": "stream",
     "text": [
      "cv\n",
      "individual models\n"
     ]
    },
    {
     "name": "stderr",
     "output_type": "stream",
     "text": [
      "/home/wanlab/nick/.local/lib/python3.8/site-packages/sklearn/discriminant_analysis.py:935: UserWarning: Variables are collinear\n",
      "  warnings.warn(\"Variables are collinear\")\n"
     ]
    },
    {
     "name": "stdout",
     "output_type": "stream",
     "text": [
      "cv\n",
      "individual models\n"
     ]
    },
    {
     "name": "stderr",
     "output_type": "stream",
     "text": [
      "/home/wanlab/nick/.local/lib/python3.8/site-packages/sklearn/discriminant_analysis.py:935: UserWarning: Variables are collinear\n",
      "  warnings.warn(\"Variables are collinear\")\n"
     ]
    },
    {
     "name": "stdout",
     "output_type": "stream",
     "text": [
      "cv\n",
      "individual models\n"
     ]
    },
    {
     "name": "stderr",
     "output_type": "stream",
     "text": [
      "/home/wanlab/nick/.local/lib/python3.8/site-packages/sklearn/discriminant_analysis.py:935: UserWarning: Variables are collinear\n",
      "  warnings.warn(\"Variables are collinear\")\n"
     ]
    },
    {
     "name": "stdout",
     "output_type": "stream",
     "text": [
      "cv\n",
      "individual models\n"
     ]
    },
    {
     "name": "stderr",
     "output_type": "stream",
     "text": [
      "/home/wanlab/nick/.local/lib/python3.8/site-packages/sklearn/discriminant_analysis.py:935: UserWarning: Variables are collinear\n",
      "  warnings.warn(\"Variables are collinear\")\n"
     ]
    },
    {
     "name": "stdout",
     "output_type": "stream",
     "text": [
      "cv\n",
      "individual models\n"
     ]
    },
    {
     "name": "stderr",
     "output_type": "stream",
     "text": [
      "/home/wanlab/nick/.local/lib/python3.8/site-packages/sklearn/discriminant_analysis.py:935: UserWarning: Variables are collinear\n",
      "  warnings.warn(\"Variables are collinear\")\n"
     ]
    },
    {
     "name": "stdout",
     "output_type": "stream",
     "text": [
      "cv\n",
      "individual models\n"
     ]
    },
    {
     "name": "stderr",
     "output_type": "stream",
     "text": [
      "/home/wanlab/nick/.local/lib/python3.8/site-packages/sklearn/discriminant_analysis.py:935: UserWarning: Variables are collinear\n",
      "  warnings.warn(\"Variables are collinear\")\n"
     ]
    },
    {
     "name": "stdout",
     "output_type": "stream",
     "text": [
      "cv\n",
      "individual models\n"
     ]
    },
    {
     "name": "stderr",
     "output_type": "stream",
     "text": [
      "/home/wanlab/nick/.local/lib/python3.8/site-packages/sklearn/discriminant_analysis.py:935: UserWarning: Variables are collinear\n",
      "  warnings.warn(\"Variables are collinear\")\n"
     ]
    },
    {
     "name": "stdout",
     "output_type": "stream",
     "text": [
      "cv\n",
      "individual models\n"
     ]
    },
    {
     "name": "stderr",
     "output_type": "stream",
     "text": [
      "/home/wanlab/nick/.local/lib/python3.8/site-packages/sklearn/discriminant_analysis.py:935: UserWarning: Variables are collinear\n",
      "  warnings.warn(\"Variables are collinear\")\n"
     ]
    },
    {
     "name": "stdout",
     "output_type": "stream",
     "text": [
      "cv\n",
      "individual models\n"
     ]
    },
    {
     "name": "stderr",
     "output_type": "stream",
     "text": [
      "/home/wanlab/nick/.local/lib/python3.8/site-packages/sklearn/discriminant_analysis.py:935: UserWarning: Variables are collinear\n",
      "  warnings.warn(\"Variables are collinear\")\n"
     ]
    },
    {
     "name": "stdout",
     "output_type": "stream",
     "text": [
      "cv\n",
      "individual models\n"
     ]
    },
    {
     "name": "stderr",
     "output_type": "stream",
     "text": [
      "/home/wanlab/nick/.local/lib/python3.8/site-packages/sklearn/discriminant_analysis.py:935: UserWarning: Variables are collinear\n",
      "  warnings.warn(\"Variables are collinear\")\n"
     ]
    },
    {
     "name": "stdout",
     "output_type": "stream",
     "text": [
      "cv\n",
      "individual models\n"
     ]
    },
    {
     "name": "stderr",
     "output_type": "stream",
     "text": [
      "/home/wanlab/nick/.local/lib/python3.8/site-packages/sklearn/discriminant_analysis.py:935: UserWarning: Variables are collinear\n",
      "  warnings.warn(\"Variables are collinear\")\n"
     ]
    },
    {
     "name": "stdout",
     "output_type": "stream",
     "text": [
      "cv\n",
      "individual models\n"
     ]
    },
    {
     "name": "stderr",
     "output_type": "stream",
     "text": [
      "/home/wanlab/nick/.local/lib/python3.8/site-packages/sklearn/discriminant_analysis.py:935: UserWarning: Variables are collinear\n",
      "  warnings.warn(\"Variables are collinear\")\n"
     ]
    },
    {
     "name": "stdout",
     "output_type": "stream",
     "text": [
      "cv\n",
      "individual models\n"
     ]
    },
    {
     "name": "stderr",
     "output_type": "stream",
     "text": [
      "/home/wanlab/nick/.local/lib/python3.8/site-packages/sklearn/discriminant_analysis.py:935: UserWarning: Variables are collinear\n",
      "  warnings.warn(\"Variables are collinear\")\n"
     ]
    },
    {
     "name": "stdout",
     "output_type": "stream",
     "text": [
      "cv\n",
      "individual models\n"
     ]
    },
    {
     "name": "stderr",
     "output_type": "stream",
     "text": [
      "/home/wanlab/nick/.local/lib/python3.8/site-packages/sklearn/discriminant_analysis.py:935: UserWarning: Variables are collinear\n",
      "  warnings.warn(\"Variables are collinear\")\n"
     ]
    },
    {
     "name": "stdout",
     "output_type": "stream",
     "text": [
      "cv\n",
      "individual models\n"
     ]
    },
    {
     "name": "stderr",
     "output_type": "stream",
     "text": [
      "/home/wanlab/nick/.local/lib/python3.8/site-packages/sklearn/discriminant_analysis.py:935: UserWarning: Variables are collinear\n",
      "  warnings.warn(\"Variables are collinear\")\n"
     ]
    },
    {
     "name": "stdout",
     "output_type": "stream",
     "text": [
      "cv\n",
      "individual models\n"
     ]
    },
    {
     "name": "stderr",
     "output_type": "stream",
     "text": [
      "/home/wanlab/nick/.local/lib/python3.8/site-packages/sklearn/discriminant_analysis.py:935: UserWarning: Variables are collinear\n",
      "  warnings.warn(\"Variables are collinear\")\n"
     ]
    },
    {
     "name": "stdout",
     "output_type": "stream",
     "text": [
      "cv\n",
      "individual models\n"
     ]
    },
    {
     "name": "stderr",
     "output_type": "stream",
     "text": [
      "/home/wanlab/nick/.local/lib/python3.8/site-packages/sklearn/discriminant_analysis.py:935: UserWarning: Variables are collinear\n",
      "  warnings.warn(\"Variables are collinear\")\n"
     ]
    },
    {
     "name": "stdout",
     "output_type": "stream",
     "text": [
      "cv\n",
      "individual models\n"
     ]
    },
    {
     "name": "stderr",
     "output_type": "stream",
     "text": [
      "/home/wanlab/nick/.local/lib/python3.8/site-packages/sklearn/discriminant_analysis.py:935: UserWarning: Variables are collinear\n",
      "  warnings.warn(\"Variables are collinear\")\n"
     ]
    },
    {
     "name": "stdout",
     "output_type": "stream",
     "text": [
      "cv\n",
      "individual models\n"
     ]
    },
    {
     "name": "stderr",
     "output_type": "stream",
     "text": [
      "/home/wanlab/nick/.local/lib/python3.8/site-packages/sklearn/discriminant_analysis.py:935: UserWarning: Variables are collinear\n",
      "  warnings.warn(\"Variables are collinear\")\n"
     ]
    },
    {
     "name": "stdout",
     "output_type": "stream",
     "text": [
      "cv\n",
      "individual models\n"
     ]
    },
    {
     "name": "stderr",
     "output_type": "stream",
     "text": [
      "/home/wanlab/nick/.local/lib/python3.8/site-packages/sklearn/discriminant_analysis.py:935: UserWarning: Variables are collinear\n",
      "  warnings.warn(\"Variables are collinear\")\n"
     ]
    },
    {
     "name": "stdout",
     "output_type": "stream",
     "text": [
      "cv\n",
      "individual models\n"
     ]
    },
    {
     "name": "stderr",
     "output_type": "stream",
     "text": [
      "/home/wanlab/nick/.local/lib/python3.8/site-packages/sklearn/discriminant_analysis.py:935: UserWarning: Variables are collinear\n",
      "  warnings.warn(\"Variables are collinear\")\n"
     ]
    },
    {
     "name": "stdout",
     "output_type": "stream",
     "text": [
      "cv\n",
      "individual models\n"
     ]
    },
    {
     "name": "stderr",
     "output_type": "stream",
     "text": [
      "/home/wanlab/nick/.local/lib/python3.8/site-packages/sklearn/discriminant_analysis.py:935: UserWarning: Variables are collinear\n",
      "  warnings.warn(\"Variables are collinear\")\n"
     ]
    },
    {
     "name": "stdout",
     "output_type": "stream",
     "text": [
      "cv\n",
      "individual models\n"
     ]
    },
    {
     "name": "stderr",
     "output_type": "stream",
     "text": [
      "/home/wanlab/nick/.local/lib/python3.8/site-packages/sklearn/discriminant_analysis.py:935: UserWarning: Variables are collinear\n",
      "  warnings.warn(\"Variables are collinear\")\n"
     ]
    },
    {
     "name": "stdout",
     "output_type": "stream",
     "text": [
      "cv\n",
      "individual models\n"
     ]
    },
    {
     "name": "stderr",
     "output_type": "stream",
     "text": [
      "/home/wanlab/nick/.local/lib/python3.8/site-packages/sklearn/discriminant_analysis.py:935: UserWarning: Variables are collinear\n",
      "  warnings.warn(\"Variables are collinear\")\n"
     ]
    },
    {
     "name": "stdout",
     "output_type": "stream",
     "text": [
      "cv\n",
      "individual models\n"
     ]
    },
    {
     "name": "stderr",
     "output_type": "stream",
     "text": [
      "/home/wanlab/nick/.local/lib/python3.8/site-packages/sklearn/discriminant_analysis.py:935: UserWarning: Variables are collinear\n",
      "  warnings.warn(\"Variables are collinear\")\n"
     ]
    },
    {
     "name": "stdout",
     "output_type": "stream",
     "text": [
      "cv\n",
      "individual models\n"
     ]
    },
    {
     "name": "stderr",
     "output_type": "stream",
     "text": [
      "/home/wanlab/nick/.local/lib/python3.8/site-packages/sklearn/discriminant_analysis.py:935: UserWarning: Variables are collinear\n",
      "  warnings.warn(\"Variables are collinear\")\n"
     ]
    },
    {
     "name": "stdout",
     "output_type": "stream",
     "text": [
      "cv\n",
      "individual models\n"
     ]
    },
    {
     "name": "stderr",
     "output_type": "stream",
     "text": [
      "/home/wanlab/nick/.local/lib/python3.8/site-packages/sklearn/discriminant_analysis.py:935: UserWarning: Variables are collinear\n",
      "  warnings.warn(\"Variables are collinear\")\n"
     ]
    },
    {
     "name": "stdout",
     "output_type": "stream",
     "text": [
      "cv\n",
      "individual models\n"
     ]
    },
    {
     "name": "stderr",
     "output_type": "stream",
     "text": [
      "/home/wanlab/nick/.local/lib/python3.8/site-packages/sklearn/discriminant_analysis.py:935: UserWarning: Variables are collinear\n",
      "  warnings.warn(\"Variables are collinear\")\n"
     ]
    },
    {
     "name": "stdout",
     "output_type": "stream",
     "text": [
      "cv\n",
      "individual models\n"
     ]
    },
    {
     "name": "stderr",
     "output_type": "stream",
     "text": [
      "/home/wanlab/nick/.local/lib/python3.8/site-packages/sklearn/discriminant_analysis.py:935: UserWarning: Variables are collinear\n",
      "  warnings.warn(\"Variables are collinear\")\n"
     ]
    },
    {
     "name": "stdout",
     "output_type": "stream",
     "text": [
      "cv\n",
      "individual models\n"
     ]
    },
    {
     "name": "stderr",
     "output_type": "stream",
     "text": [
      "/home/wanlab/nick/.local/lib/python3.8/site-packages/sklearn/discriminant_analysis.py:935: UserWarning: Variables are collinear\n",
      "  warnings.warn(\"Variables are collinear\")\n"
     ]
    },
    {
     "name": "stdout",
     "output_type": "stream",
     "text": [
      "cv\n",
      "individual models\n"
     ]
    },
    {
     "name": "stderr",
     "output_type": "stream",
     "text": [
      "/home/wanlab/nick/.local/lib/python3.8/site-packages/sklearn/discriminant_analysis.py:935: UserWarning: Variables are collinear\n",
      "  warnings.warn(\"Variables are collinear\")\n"
     ]
    },
    {
     "name": "stdout",
     "output_type": "stream",
     "text": [
      "cv\n",
      "individual models\n"
     ]
    },
    {
     "name": "stderr",
     "output_type": "stream",
     "text": [
      "/home/wanlab/nick/.local/lib/python3.8/site-packages/sklearn/discriminant_analysis.py:935: UserWarning: Variables are collinear\n",
      "  warnings.warn(\"Variables are collinear\")\n"
     ]
    },
    {
     "name": "stdout",
     "output_type": "stream",
     "text": [
      "cv\n",
      "individual models\n"
     ]
    },
    {
     "name": "stderr",
     "output_type": "stream",
     "text": [
      "/home/wanlab/nick/.local/lib/python3.8/site-packages/sklearn/discriminant_analysis.py:935: UserWarning: Variables are collinear\n",
      "  warnings.warn(\"Variables are collinear\")\n"
     ]
    },
    {
     "name": "stdout",
     "output_type": "stream",
     "text": [
      "cv\n",
      "individual models\n"
     ]
    },
    {
     "name": "stderr",
     "output_type": "stream",
     "text": [
      "/home/wanlab/nick/.local/lib/python3.8/site-packages/sklearn/discriminant_analysis.py:935: UserWarning: Variables are collinear\n",
      "  warnings.warn(\"Variables are collinear\")\n"
     ]
    },
    {
     "name": "stdout",
     "output_type": "stream",
     "text": [
      "cv\n",
      "individual models\n"
     ]
    },
    {
     "name": "stderr",
     "output_type": "stream",
     "text": [
      "/home/wanlab/nick/.local/lib/python3.8/site-packages/sklearn/discriminant_analysis.py:935: UserWarning: Variables are collinear\n",
      "  warnings.warn(\"Variables are collinear\")\n"
     ]
    },
    {
     "name": "stdout",
     "output_type": "stream",
     "text": [
      "cv\n",
      "individual models\n"
     ]
    },
    {
     "name": "stderr",
     "output_type": "stream",
     "text": [
      "/home/wanlab/nick/.local/lib/python3.8/site-packages/sklearn/discriminant_analysis.py:935: UserWarning: Variables are collinear\n",
      "  warnings.warn(\"Variables are collinear\")\n"
     ]
    },
    {
     "name": "stdout",
     "output_type": "stream",
     "text": [
      "cv\n",
      "individual models\n"
     ]
    },
    {
     "name": "stderr",
     "output_type": "stream",
     "text": [
      "/home/wanlab/nick/.local/lib/python3.8/site-packages/sklearn/discriminant_analysis.py:935: UserWarning: Variables are collinear\n",
      "  warnings.warn(\"Variables are collinear\")\n"
     ]
    },
    {
     "name": "stdout",
     "output_type": "stream",
     "text": [
      "cv\n",
      "individual models\n"
     ]
    },
    {
     "name": "stderr",
     "output_type": "stream",
     "text": [
      "/home/wanlab/nick/.local/lib/python3.8/site-packages/sklearn/discriminant_analysis.py:935: UserWarning: Variables are collinear\n",
      "  warnings.warn(\"Variables are collinear\")\n"
     ]
    },
    {
     "name": "stdout",
     "output_type": "stream",
     "text": [
      "cv\n",
      "individual models\n"
     ]
    },
    {
     "name": "stderr",
     "output_type": "stream",
     "text": [
      "/home/wanlab/nick/.local/lib/python3.8/site-packages/sklearn/discriminant_analysis.py:935: UserWarning: Variables are collinear\n",
      "  warnings.warn(\"Variables are collinear\")\n"
     ]
    },
    {
     "name": "stdout",
     "output_type": "stream",
     "text": [
      "cv\n",
      "individual models\n"
     ]
    },
    {
     "name": "stderr",
     "output_type": "stream",
     "text": [
      "/home/wanlab/nick/.local/lib/python3.8/site-packages/sklearn/discriminant_analysis.py:935: UserWarning: Variables are collinear\n",
      "  warnings.warn(\"Variables are collinear\")\n"
     ]
    },
    {
     "name": "stdout",
     "output_type": "stream",
     "text": [
      "cv\n",
      "individual models\n"
     ]
    },
    {
     "name": "stderr",
     "output_type": "stream",
     "text": [
      "/home/wanlab/nick/.local/lib/python3.8/site-packages/sklearn/discriminant_analysis.py:935: UserWarning: Variables are collinear\n",
      "  warnings.warn(\"Variables are collinear\")\n"
     ]
    },
    {
     "name": "stdout",
     "output_type": "stream",
     "text": [
      "cv\n",
      "individual models\n"
     ]
    },
    {
     "name": "stderr",
     "output_type": "stream",
     "text": [
      "/home/wanlab/nick/.local/lib/python3.8/site-packages/sklearn/discriminant_analysis.py:935: UserWarning: Variables are collinear\n",
      "  warnings.warn(\"Variables are collinear\")\n"
     ]
    },
    {
     "name": "stdout",
     "output_type": "stream",
     "text": [
      "cv\n",
      "individual models\n"
     ]
    },
    {
     "name": "stderr",
     "output_type": "stream",
     "text": [
      "/home/wanlab/nick/.local/lib/python3.8/site-packages/sklearn/discriminant_analysis.py:935: UserWarning: Variables are collinear\n",
      "  warnings.warn(\"Variables are collinear\")\n"
     ]
    },
    {
     "name": "stdout",
     "output_type": "stream",
     "text": [
      "cv\n",
      "individual models\n"
     ]
    },
    {
     "name": "stderr",
     "output_type": "stream",
     "text": [
      "/home/wanlab/nick/.local/lib/python3.8/site-packages/sklearn/discriminant_analysis.py:935: UserWarning: Variables are collinear\n",
      "  warnings.warn(\"Variables are collinear\")\n"
     ]
    },
    {
     "name": "stdout",
     "output_type": "stream",
     "text": [
      "cv\n",
      "individual models\n"
     ]
    },
    {
     "name": "stderr",
     "output_type": "stream",
     "text": [
      "/home/wanlab/nick/.local/lib/python3.8/site-packages/sklearn/discriminant_analysis.py:935: UserWarning: Variables are collinear\n",
      "  warnings.warn(\"Variables are collinear\")\n"
     ]
    },
    {
     "name": "stdout",
     "output_type": "stream",
     "text": [
      "cv\n",
      "individual models\n"
     ]
    },
    {
     "name": "stderr",
     "output_type": "stream",
     "text": [
      "/home/wanlab/nick/.local/lib/python3.8/site-packages/sklearn/discriminant_analysis.py:935: UserWarning: Variables are collinear\n",
      "  warnings.warn(\"Variables are collinear\")\n"
     ]
    },
    {
     "name": "stdout",
     "output_type": "stream",
     "text": [
      "cv\n",
      "individual models\n"
     ]
    },
    {
     "name": "stderr",
     "output_type": "stream",
     "text": [
      "/home/wanlab/nick/.local/lib/python3.8/site-packages/sklearn/discriminant_analysis.py:935: UserWarning: Variables are collinear\n",
      "  warnings.warn(\"Variables are collinear\")\n"
     ]
    },
    {
     "name": "stdout",
     "output_type": "stream",
     "text": [
      "cv\n",
      "individual models\n"
     ]
    },
    {
     "name": "stderr",
     "output_type": "stream",
     "text": [
      "/home/wanlab/nick/.local/lib/python3.8/site-packages/sklearn/discriminant_analysis.py:935: UserWarning: Variables are collinear\n",
      "  warnings.warn(\"Variables are collinear\")\n"
     ]
    },
    {
     "name": "stdout",
     "output_type": "stream",
     "text": [
      "cv\n",
      "individual models\n"
     ]
    },
    {
     "name": "stderr",
     "output_type": "stream",
     "text": [
      "/home/wanlab/nick/.local/lib/python3.8/site-packages/sklearn/discriminant_analysis.py:935: UserWarning: Variables are collinear\n",
      "  warnings.warn(\"Variables are collinear\")\n"
     ]
    },
    {
     "name": "stdout",
     "output_type": "stream",
     "text": [
      "cv\n",
      "individual models\n"
     ]
    },
    {
     "name": "stderr",
     "output_type": "stream",
     "text": [
      "/home/wanlab/nick/.local/lib/python3.8/site-packages/sklearn/discriminant_analysis.py:935: UserWarning: Variables are collinear\n",
      "  warnings.warn(\"Variables are collinear\")\n"
     ]
    },
    {
     "name": "stdout",
     "output_type": "stream",
     "text": [
      "cv\n",
      "individual models\n"
     ]
    },
    {
     "name": "stderr",
     "output_type": "stream",
     "text": [
      "/home/wanlab/nick/.local/lib/python3.8/site-packages/sklearn/discriminant_analysis.py:935: UserWarning: Variables are collinear\n",
      "  warnings.warn(\"Variables are collinear\")\n"
     ]
    },
    {
     "name": "stdout",
     "output_type": "stream",
     "text": [
      "cv\n",
      "individual models\n"
     ]
    },
    {
     "name": "stderr",
     "output_type": "stream",
     "text": [
      "/home/wanlab/nick/.local/lib/python3.8/site-packages/sklearn/discriminant_analysis.py:935: UserWarning: Variables are collinear\n",
      "  warnings.warn(\"Variables are collinear\")\n"
     ]
    },
    {
     "name": "stdout",
     "output_type": "stream",
     "text": [
      "cv\n",
      "individual models\n"
     ]
    },
    {
     "name": "stderr",
     "output_type": "stream",
     "text": [
      "/home/wanlab/nick/.local/lib/python3.8/site-packages/sklearn/discriminant_analysis.py:935: UserWarning: Variables are collinear\n",
      "  warnings.warn(\"Variables are collinear\")\n"
     ]
    },
    {
     "name": "stdout",
     "output_type": "stream",
     "text": [
      "cv\n",
      "individual models\n"
     ]
    },
    {
     "name": "stderr",
     "output_type": "stream",
     "text": [
      "/home/wanlab/nick/.local/lib/python3.8/site-packages/sklearn/discriminant_analysis.py:935: UserWarning: Variables are collinear\n",
      "  warnings.warn(\"Variables are collinear\")\n"
     ]
    },
    {
     "name": "stdout",
     "output_type": "stream",
     "text": [
      "cv\n",
      "individual models\n"
     ]
    },
    {
     "name": "stderr",
     "output_type": "stream",
     "text": [
      "/home/wanlab/nick/.local/lib/python3.8/site-packages/sklearn/discriminant_analysis.py:935: UserWarning: Variables are collinear\n",
      "  warnings.warn(\"Variables are collinear\")\n"
     ]
    },
    {
     "name": "stdout",
     "output_type": "stream",
     "text": [
      "cv\n",
      "individual models\n"
     ]
    },
    {
     "name": "stderr",
     "output_type": "stream",
     "text": [
      "/home/wanlab/nick/.local/lib/python3.8/site-packages/sklearn/discriminant_analysis.py:935: UserWarning: Variables are collinear\n",
      "  warnings.warn(\"Variables are collinear\")\n"
     ]
    },
    {
     "name": "stdout",
     "output_type": "stream",
     "text": [
      "cv\n",
      "individual models\n"
     ]
    },
    {
     "name": "stderr",
     "output_type": "stream",
     "text": [
      "/home/wanlab/nick/.local/lib/python3.8/site-packages/sklearn/discriminant_analysis.py:935: UserWarning: Variables are collinear\n",
      "  warnings.warn(\"Variables are collinear\")\n"
     ]
    },
    {
     "name": "stdout",
     "output_type": "stream",
     "text": [
      "cv\n",
      "individual models\n"
     ]
    },
    {
     "name": "stderr",
     "output_type": "stream",
     "text": [
      "/home/wanlab/nick/.local/lib/python3.8/site-packages/sklearn/discriminant_analysis.py:935: UserWarning: Variables are collinear\n",
      "  warnings.warn(\"Variables are collinear\")\n"
     ]
    },
    {
     "name": "stdout",
     "output_type": "stream",
     "text": [
      "cv\n",
      "individual models\n"
     ]
    },
    {
     "name": "stderr",
     "output_type": "stream",
     "text": [
      "/home/wanlab/nick/.local/lib/python3.8/site-packages/sklearn/discriminant_analysis.py:935: UserWarning: Variables are collinear\n",
      "  warnings.warn(\"Variables are collinear\")\n"
     ]
    },
    {
     "name": "stdout",
     "output_type": "stream",
     "text": [
      "cv\n",
      "individual models\n"
     ]
    },
    {
     "name": "stderr",
     "output_type": "stream",
     "text": [
      "/home/wanlab/nick/.local/lib/python3.8/site-packages/sklearn/discriminant_analysis.py:935: UserWarning: Variables are collinear\n",
      "  warnings.warn(\"Variables are collinear\")\n"
     ]
    },
    {
     "name": "stdout",
     "output_type": "stream",
     "text": [
      "cv\n",
      "individual models\n"
     ]
    },
    {
     "name": "stderr",
     "output_type": "stream",
     "text": [
      "/home/wanlab/nick/.local/lib/python3.8/site-packages/sklearn/discriminant_analysis.py:935: UserWarning: Variables are collinear\n",
      "  warnings.warn(\"Variables are collinear\")\n"
     ]
    },
    {
     "name": "stdout",
     "output_type": "stream",
     "text": [
      "cv\n",
      "individual models\n"
     ]
    },
    {
     "name": "stderr",
     "output_type": "stream",
     "text": [
      "/home/wanlab/nick/.local/lib/python3.8/site-packages/sklearn/discriminant_analysis.py:935: UserWarning: Variables are collinear\n",
      "  warnings.warn(\"Variables are collinear\")\n"
     ]
    },
    {
     "name": "stdout",
     "output_type": "stream",
     "text": [
      "cv\n",
      "individual models\n"
     ]
    },
    {
     "name": "stderr",
     "output_type": "stream",
     "text": [
      "/home/wanlab/nick/.local/lib/python3.8/site-packages/sklearn/discriminant_analysis.py:935: UserWarning: Variables are collinear\n",
      "  warnings.warn(\"Variables are collinear\")\n"
     ]
    },
    {
     "name": "stdout",
     "output_type": "stream",
     "text": [
      "cv\n",
      "individual models\n"
     ]
    },
    {
     "name": "stderr",
     "output_type": "stream",
     "text": [
      "/home/wanlab/nick/.local/lib/python3.8/site-packages/sklearn/discriminant_analysis.py:935: UserWarning: Variables are collinear\n",
      "  warnings.warn(\"Variables are collinear\")\n"
     ]
    },
    {
     "name": "stdout",
     "output_type": "stream",
     "text": [
      "cv\n",
      "individual models\n"
     ]
    },
    {
     "name": "stderr",
     "output_type": "stream",
     "text": [
      "/home/wanlab/nick/.local/lib/python3.8/site-packages/sklearn/discriminant_analysis.py:935: UserWarning: Variables are collinear\n",
      "  warnings.warn(\"Variables are collinear\")\n"
     ]
    },
    {
     "name": "stdout",
     "output_type": "stream",
     "text": [
      "cv\n",
      "individual models\n"
     ]
    },
    {
     "name": "stderr",
     "output_type": "stream",
     "text": [
      "/home/wanlab/nick/.local/lib/python3.8/site-packages/sklearn/discriminant_analysis.py:935: UserWarning: Variables are collinear\n",
      "  warnings.warn(\"Variables are collinear\")\n"
     ]
    },
    {
     "name": "stdout",
     "output_type": "stream",
     "text": [
      "cv\n",
      "individual models\n"
     ]
    },
    {
     "name": "stderr",
     "output_type": "stream",
     "text": [
      "/home/wanlab/nick/.local/lib/python3.8/site-packages/sklearn/discriminant_analysis.py:935: UserWarning: Variables are collinear\n",
      "  warnings.warn(\"Variables are collinear\")\n"
     ]
    },
    {
     "name": "stdout",
     "output_type": "stream",
     "text": [
      "cv\n",
      "individual models\n"
     ]
    },
    {
     "name": "stderr",
     "output_type": "stream",
     "text": [
      "/home/wanlab/nick/.local/lib/python3.8/site-packages/sklearn/discriminant_analysis.py:935: UserWarning: Variables are collinear\n",
      "  warnings.warn(\"Variables are collinear\")\n"
     ]
    },
    {
     "name": "stdout",
     "output_type": "stream",
     "text": [
      "cv\n",
      "individual models\n"
     ]
    },
    {
     "name": "stderr",
     "output_type": "stream",
     "text": [
      "/home/wanlab/nick/.local/lib/python3.8/site-packages/sklearn/discriminant_analysis.py:935: UserWarning: Variables are collinear\n",
      "  warnings.warn(\"Variables are collinear\")\n"
     ]
    },
    {
     "name": "stdout",
     "output_type": "stream",
     "text": [
      "cv\n",
      "individual models\n"
     ]
    },
    {
     "name": "stderr",
     "output_type": "stream",
     "text": [
      "/home/wanlab/nick/.local/lib/python3.8/site-packages/sklearn/discriminant_analysis.py:935: UserWarning: Variables are collinear\n",
      "  warnings.warn(\"Variables are collinear\")\n"
     ]
    },
    {
     "name": "stdout",
     "output_type": "stream",
     "text": [
      "cv\n",
      "individual models\n"
     ]
    },
    {
     "name": "stderr",
     "output_type": "stream",
     "text": [
      "/home/wanlab/nick/.local/lib/python3.8/site-packages/sklearn/discriminant_analysis.py:935: UserWarning: Variables are collinear\n",
      "  warnings.warn(\"Variables are collinear\")\n"
     ]
    },
    {
     "name": "stdout",
     "output_type": "stream",
     "text": [
      "cv\n",
      "individual models\n"
     ]
    },
    {
     "name": "stderr",
     "output_type": "stream",
     "text": [
      "/home/wanlab/nick/.local/lib/python3.8/site-packages/sklearn/discriminant_analysis.py:935: UserWarning: Variables are collinear\n",
      "  warnings.warn(\"Variables are collinear\")\n"
     ]
    },
    {
     "name": "stdout",
     "output_type": "stream",
     "text": [
      "cv\n",
      "individual models\n"
     ]
    },
    {
     "name": "stderr",
     "output_type": "stream",
     "text": [
      "/home/wanlab/nick/.local/lib/python3.8/site-packages/sklearn/discriminant_analysis.py:935: UserWarning: Variables are collinear\n",
      "  warnings.warn(\"Variables are collinear\")\n"
     ]
    },
    {
     "name": "stdout",
     "output_type": "stream",
     "text": [
      "cv\n",
      "individual models\n"
     ]
    },
    {
     "name": "stderr",
     "output_type": "stream",
     "text": [
      "/home/wanlab/nick/.local/lib/python3.8/site-packages/sklearn/discriminant_analysis.py:935: UserWarning: Variables are collinear\n",
      "  warnings.warn(\"Variables are collinear\")\n"
     ]
    },
    {
     "name": "stdout",
     "output_type": "stream",
     "text": [
      "cv\n",
      "individual models\n"
     ]
    },
    {
     "name": "stderr",
     "output_type": "stream",
     "text": [
      "/home/wanlab/nick/.local/lib/python3.8/site-packages/sklearn/discriminant_analysis.py:935: UserWarning: Variables are collinear\n",
      "  warnings.warn(\"Variables are collinear\")\n"
     ]
    },
    {
     "name": "stdout",
     "output_type": "stream",
     "text": [
      "cv\n",
      "individual models\n"
     ]
    },
    {
     "name": "stderr",
     "output_type": "stream",
     "text": [
      "/home/wanlab/nick/.local/lib/python3.8/site-packages/sklearn/discriminant_analysis.py:935: UserWarning: Variables are collinear\n",
      "  warnings.warn(\"Variables are collinear\")\n"
     ]
    },
    {
     "name": "stdout",
     "output_type": "stream",
     "text": [
      "cv\n",
      "individual models\n"
     ]
    },
    {
     "name": "stderr",
     "output_type": "stream",
     "text": [
      "/home/wanlab/nick/.local/lib/python3.8/site-packages/sklearn/discriminant_analysis.py:935: UserWarning: Variables are collinear\n",
      "  warnings.warn(\"Variables are collinear\")\n"
     ]
    },
    {
     "name": "stdout",
     "output_type": "stream",
     "text": [
      "cv\n",
      "individual models\n"
     ]
    },
    {
     "name": "stderr",
     "output_type": "stream",
     "text": [
      "/home/wanlab/nick/.local/lib/python3.8/site-packages/sklearn/discriminant_analysis.py:935: UserWarning: Variables are collinear\n",
      "  warnings.warn(\"Variables are collinear\")\n"
     ]
    },
    {
     "name": "stdout",
     "output_type": "stream",
     "text": [
      "cv\n",
      "individual models\n"
     ]
    },
    {
     "name": "stderr",
     "output_type": "stream",
     "text": [
      "/home/wanlab/nick/.local/lib/python3.8/site-packages/sklearn/discriminant_analysis.py:935: UserWarning: Variables are collinear\n",
      "  warnings.warn(\"Variables are collinear\")\n"
     ]
    },
    {
     "name": "stdout",
     "output_type": "stream",
     "text": [
      "cv\n",
      "\n",
      "model score of oof results for SVC\n",
      "Model Accuracy: 0.875\n",
      "Precision: 0.8798649267399267\n",
      "Recall (Sensitivity): 0.875\n",
      "F1 Score: 0.8751610313936894\n",
      "Matthews Correlation Coefficient (MCC): 0.8329181448543629\n",
      "G-Measure: 0.9162567046538834\n",
      "AUC: 0.9869674962654714\n",
      "Specificity: 0.9582719803670507\n",
      "Jaccard Index: 0.7779538993943889\n",
      "Saving metrics to: /work/wanlab/nick//stackeval6/val_data/individual models/SVC/limma(0),metrics.csv\n",
      "PREDICTIONS                   subtype  Squamous      ADEX  Pancreatic Progenitor  \\\n",
      "0   Pancreatic Progenitor  0.111548  0.034154               0.822370   \n",
      "1                    ADEX  0.032685  0.917339               0.017109   \n",
      "2   Pancreatic Progenitor  0.243937  0.216991               0.504206   \n",
      "3   Pancreatic Progenitor  0.005584  0.067531               0.880668   \n",
      "4                    ADEX  0.117789  0.689472               0.168439   \n",
      "..                    ...       ...       ...                    ...   \n",
      "91            Immunogenic  0.007607  0.052778               0.009519   \n",
      "92                   ADEX  0.008158  0.784024               0.152735   \n",
      "93            Immunogenic  0.041447  0.036850               0.394238   \n",
      "94               Squamous  0.619622  0.063653               0.286601   \n",
      "95  Pancreatic Progenitor  0.002425  0.018209               0.857398   \n",
      "\n",
      "    Immunogenic  \n",
      "0      0.031928  \n",
      "1      0.032866  \n",
      "2      0.034866  \n",
      "3      0.046217  \n",
      "4      0.024301  \n",
      "..          ...  \n",
      "91     0.930096  \n",
      "92     0.055083  \n",
      "93     0.527465  \n",
      "94     0.030124  \n",
      "95     0.121968  \n",
      "\n",
      "[96 rows x 5 columns]\n",
      "\n",
      "model score of oof results for SVC2\n",
      "Model Accuracy: 0.9270833333333334\n",
      "Precision: 0.9282457295657727\n",
      "Recall (Sensitivity): 0.9270833333333334\n",
      "F1 Score: 0.927124353652804\n",
      "Matthews Correlation Coefficient (MCC): 0.9017909960019698\n",
      "G-Measure: 0.9519085598926197\n",
      "AUC: 0.9860793231611894\n",
      "Specificity: 0.9752147353819889\n",
      "Jaccard Index: 0.8669652957336781\n",
      "Saving metrics to: /work/wanlab/nick//stackeval6/val_data/individual models/SVC2/limma(0),metrics.csv\n",
      "PREDICTIONS                   subtype  Squamous      ADEX  Pancreatic Progenitor  \\\n",
      "0   Pancreatic Progenitor  0.174558  0.040396               0.749649   \n",
      "1                    ADEX  0.080024  0.820895               0.032330   \n",
      "2   Pancreatic Progenitor  0.312448  0.172260               0.480799   \n",
      "3   Pancreatic Progenitor  0.012687  0.079249               0.849449   \n",
      "4                    ADEX  0.259908  0.473032               0.229648   \n",
      "..                    ...       ...       ...                    ...   \n",
      "91            Immunogenic  0.017915  0.088881               0.012988   \n",
      "92                   ADEX  0.020314  0.778125               0.114262   \n",
      "93            Immunogenic  0.100420  0.024923               0.672338   \n",
      "94               Squamous  0.590124  0.023953               0.370213   \n",
      "95  Pancreatic Progenitor  0.004044  0.025374               0.765556   \n",
      "\n",
      "    Immunogenic  \n",
      "0      0.035398  \n",
      "1      0.066751  \n",
      "2      0.034492  \n",
      "3      0.058615  \n",
      "4      0.037412  \n",
      "..          ...  \n",
      "91     0.880216  \n",
      "92     0.087299  \n",
      "93     0.202318  \n",
      "94     0.015710  \n",
      "95     0.205025  \n",
      "\n",
      "[96 rows x 5 columns]\n",
      "\n",
      "model score of oof results for GaussianNB\n",
      "Model Accuracy: 0.8020833333333334\n",
      "Precision: 0.8112185846560847\n",
      "Recall (Sensitivity): 0.8020833333333334\n",
      "F1 Score: 0.7952737132588884\n",
      "Matthews Correlation Coefficient (MCC): 0.7333724224567384\n",
      "G-Measure: 0.8403667059102383\n",
      "AUC: 0.9361885803457106\n",
      "Specificity: 0.9310939500640205\n",
      "Jaccard Index: 0.648394185260311\n",
      "Saving metrics to: /work/wanlab/nick//stackeval6/val_data/individual models/GaussianNB/limma(0),metrics.csv\n",
      "PREDICTIONS                   subtype  Squamous           ADEX  Pancreatic Progenitor  \\\n",
      "0   Pancreatic Progenitor       0.0  1.482197e-323           1.000000e+00   \n",
      "1                    ADEX       0.0   1.000000e+00          1.346905e-266   \n",
      "2   Pancreatic Progenitor       0.0  6.020797e-100           1.000000e+00   \n",
      "3   Pancreatic Progenitor       0.0   0.000000e+00           1.000000e+00   \n",
      "4                    ADEX       0.0  1.694739e-118           1.000000e+00   \n",
      "..                    ...       ...            ...                    ...   \n",
      "91            Immunogenic       0.0   0.000000e+00           0.000000e+00   \n",
      "92                   ADEX       0.0   8.249520e-66           1.000000e+00   \n",
      "93            Immunogenic       0.0   0.000000e+00           7.728747e-43   \n",
      "94               Squamous       1.0   3.793719e-08           0.000000e+00   \n",
      "95  Pancreatic Progenitor       0.0   0.000000e+00           1.000000e+00   \n",
      "\n",
      "      Immunogenic  \n",
      "0    0.000000e+00  \n",
      "1   1.591372e-184  \n",
      "2    0.000000e+00  \n",
      "3    0.000000e+00  \n",
      "4   7.139117e-233  \n",
      "..            ...  \n",
      "91   1.000000e+00  \n",
      "92  1.307750e-236  \n",
      "93   1.000000e+00  \n",
      "94   0.000000e+00  \n",
      "95   0.000000e+00  \n",
      "\n",
      "[96 rows x 5 columns]\n",
      "\n",
      "model score of oof results for QuadraticDiscriminantAnalysis\n",
      "Model Accuracy: 0.8125\n",
      "Precision: 0.8422427398989898\n",
      "Recall (Sensitivity): 0.8125\n",
      "F1 Score: 0.8179834041462035\n",
      "Matthews Correlation Coefficient (MCC): 0.7565073022599094\n",
      "G-Measure: 0.8796245823209131\n",
      "AUC: 0.941972486751316\n",
      "Specificity: 0.9400474818608622\n",
      "Jaccard Index: 0.6841746794871795\n",
      "Saving metrics to: /work/wanlab/nick//stackeval6/val_data/individual models/QuadraticDiscriminantAnalysis/limma(0),metrics.csv\n",
      "PREDICTIONS                   subtype  Squamous           ADEX  Pancreatic Progenitor  \\\n",
      "0   Pancreatic Progenitor       0.0  2.272267e-213           1.000000e+00   \n",
      "1                    ADEX       0.0   1.000000e+00           0.000000e+00   \n",
      "2   Pancreatic Progenitor       0.0   9.016082e-32           1.000000e+00   \n",
      "3   Pancreatic Progenitor       0.0  1.316344e-112           1.000000e+00   \n",
      "4                    ADEX       0.0   1.000000e+00           0.000000e+00   \n",
      "..                    ...       ...            ...                    ...   \n",
      "91            Immunogenic       0.0   0.000000e+00           0.000000e+00   \n",
      "92                   ADEX       0.0   1.000000e+00          5.428026e-131   \n",
      "93            Immunogenic       0.0  1.185421e-146           0.000000e+00   \n",
      "94               Squamous       1.0  1.099996e-289           0.000000e+00   \n",
      "95  Pancreatic Progenitor       0.0   1.000000e+00           5.819005e-13   \n",
      "\n",
      "      Immunogenic  \n",
      "0   3.934384e-271  \n",
      "1    0.000000e+00  \n",
      "2    0.000000e+00  \n",
      "3   1.556498e-292  \n",
      "4    0.000000e+00  \n",
      "..            ...  \n",
      "91   1.000000e+00  \n",
      "92   0.000000e+00  \n",
      "93   1.000000e+00  \n",
      "94  2.681948e-147  \n",
      "95  2.710999e-166  \n",
      "\n",
      "[96 rows x 5 columns]\n",
      "运行时间为: 77.91 秒\n",
      "combining [[1.11548351e-001 3.41535583e-002 8.22369796e-001 ... 2.27226698e-213\n",
      "  1.00000000e+000 3.93438375e-271]\n",
      " [3.26853673e-002 9.17339382e-001 1.71092572e-002 ... 1.00000000e+000\n",
      "  0.00000000e+000 0.00000000e+000]\n",
      " [2.43936668e-001 2.16990876e-001 5.04206212e-001 ... 9.01608210e-032\n",
      "  1.00000000e+000 0.00000000e+000]\n",
      " ...\n",
      " [4.14468199e-002 3.68496868e-002 3.94238066e-001 ... 1.18542119e-146\n",
      "  0.00000000e+000 1.00000000e+000]\n",
      " [6.19621578e-001 6.36529079e-002 2.86601313e-001 ... 1.09999569e-289\n",
      "  0.00000000e+000 2.68194841e-147]\n",
      " [2.42537332e-003 1.82085275e-002 8.57397834e-001 ... 1.00000000e+000\n",
      "  5.81900495e-013 2.71099911e-166]] [[13.56018914 12.68466835 13.10243664 ...  9.53005478 11.16103308\n",
      "  11.24920229]\n",
      " [15.4259582  14.08525845 12.01110512 ...  9.45622747 11.12707631\n",
      "  11.78331935]\n",
      " [14.4756837  13.26517897 12.82291838 ...  9.65623065 11.33179862\n",
      "  11.68015036]\n",
      " ...\n",
      " [14.28976923 13.62192201 12.67277184 ...  9.32578912  9.67174085\n",
      "  11.45401981]\n",
      " [14.71684472 13.81278796 13.58508909 ... 10.31590684 12.7838795\n",
      "  11.90067493]\n",
      " [14.18823419 12.92657629 11.70868561 ...  9.88942006  9.76636631\n",
      "  12.84604452]]\n",
      "stacked\n",
      "cv\n",
      "stacked\n",
      "cv\n",
      "stacked\n",
      "cv\n",
      "stacked\n",
      "cv\n",
      "stacked\n",
      "cv\n",
      "stacked\n",
      "cv\n",
      "stacked\n",
      "cv\n",
      "stacked\n",
      "cv\n",
      "stacked\n",
      "cv\n",
      "stacked\n",
      "cv\n",
      "stacked\n",
      "cv\n",
      "stacked\n",
      "cv\n",
      "stacked\n",
      "cv\n",
      "stacked\n",
      "cv\n",
      "stacked\n",
      "cv\n",
      "stacked\n",
      "cv\n",
      "stacked\n",
      "cv\n",
      "stacked\n",
      "cv\n",
      "stacked\n",
      "cv\n",
      "stacked\n",
      "cv\n",
      "stacked\n",
      "cv\n",
      "stacked\n",
      "cv\n",
      "stacked\n",
      "cv\n",
      "stacked\n",
      "cv\n",
      "stacked\n",
      "cv\n",
      "stacked\n",
      "cv\n",
      "stacked\n",
      "cv\n",
      "stacked\n",
      "cv\n",
      "stacked\n",
      "cv\n",
      "stacked\n",
      "cv\n",
      "stacked\n",
      "cv\n",
      "stacked\n",
      "cv\n",
      "stacked\n",
      "cv\n",
      "stacked\n",
      "cv\n",
      "stacked\n",
      "cv\n",
      "stacked\n",
      "cv\n",
      "stacked\n",
      "cv\n",
      "stacked\n",
      "cv\n",
      "stacked\n",
      "cv\n",
      "stacked\n",
      "cv\n",
      "stacked\n",
      "cv\n",
      "stacked\n",
      "cv\n",
      "stacked\n",
      "cv\n",
      "stacked\n",
      "cv\n",
      "stacked\n",
      "cv\n",
      "stacked\n",
      "cv\n",
      "stacked\n",
      "cv\n",
      "stacked\n",
      "cv\n",
      "stacked\n",
      "cv\n",
      "stacked\n",
      "cv\n",
      "stacked\n",
      "cv\n",
      "stacked\n",
      "cv\n",
      "stacked\n",
      "cv\n",
      "stacked\n",
      "cv\n",
      "stacked\n",
      "cv\n",
      "stacked\n",
      "cv\n",
      "stacked\n",
      "cv\n",
      "stacked\n",
      "cv\n",
      "stacked\n",
      "cv\n",
      "stacked\n",
      "cv\n",
      "stacked\n",
      "cv\n",
      "stacked\n",
      "cv\n",
      "stacked\n",
      "cv\n",
      "stacked\n",
      "cv\n",
      "stacked\n",
      "cv\n",
      "stacked\n",
      "cv\n",
      "stacked\n",
      "cv\n",
      "stacked\n",
      "cv\n",
      "stacked\n",
      "cv\n",
      "stacked\n",
      "cv\n",
      "stacked\n",
      "cv\n",
      "stacked\n",
      "cv\n",
      "stacked\n",
      "cv\n",
      "stacked\n",
      "cv\n",
      "stacked\n",
      "cv\n",
      "stacked\n",
      "cv\n",
      "stacked\n",
      "cv\n",
      "stacked\n",
      "cv\n",
      "stacked\n",
      "cv\n",
      "stacked\n",
      "cv\n",
      "stacked\n",
      "cv\n",
      "stacked\n",
      "cv\n",
      "stacked\n",
      "cv\n",
      "stacked\n",
      "cv\n",
      "stacked\n",
      "cv\n",
      "stacked\n",
      "cv\n",
      "stacked\n",
      "cv\n",
      "stacked\n",
      "cv\n",
      "stacked\n",
      "cv\n",
      "stacked\n",
      "cv\n",
      "stacked\n",
      "cv\n",
      "stacked\n",
      "cv\n",
      "stacked\n",
      "cv\n",
      "stacked\n",
      "cv\n",
      "stacked\n",
      "cv\n",
      "stacked\n",
      "cv\n",
      "\n",
      "model score of oof results for MLPClassifier\n",
      "Model Accuracy: 0.6354166666666666\n",
      "Precision: 0.6415387426900584\n",
      "Recall (Sensitivity): 0.6354166666666666\n",
      "F1 Score: 0.6309003496503497\n",
      "Matthews Correlation Coefficient (MCC): 0.5060426830326024\n",
      "G-Measure: 0.7264957700760737\n",
      "AUC: 0.841272484972969\n",
      "Specificity: 0.8750066688006829\n",
      "Jaccard Index: 0.45126262626262625\n",
      "Saving metrics to: /work/wanlab/nick//stackeval6/val_data/stacked/MLPClassifier/limma(0),metrics.csv\n",
      "PREDICTIONS                   subtype      Squamous          ADEX  Pancreatic Progenitor  \\\n",
      "0             Immunogenic  1.924871e-03  4.110283e-03           2.840717e-02   \n",
      "1                    ADEX  4.289984e-02  4.774880e-02           9.025198e-01   \n",
      "2   Pancreatic Progenitor  4.941239e-05  3.619131e-03           9.359009e-01   \n",
      "3   Pancreatic Progenitor  8.622322e-04  8.848243e-01           1.021420e-01   \n",
      "4   Pancreatic Progenitor  2.178969e-03  3.805884e-01           6.132319e-01   \n",
      "..                    ...           ...           ...                    ...   \n",
      "91                   ADEX  2.868390e-05  4.481148e-01           8.950045e-02   \n",
      "92               Squamous  9.895582e-01  5.095382e-09           3.832481e-05   \n",
      "93                   ADEX  1.548220e-04  9.057473e-02           9.092566e-01   \n",
      "94  Pancreatic Progenitor  4.195273e-10  3.053913e-01           6.888538e-01   \n",
      "95               Squamous  2.957353e-05  9.999702e-01           2.524868e-07   \n",
      "\n",
      "     Immunogenic  \n",
      "0   9.655577e-01  \n",
      "1   6.831510e-03  \n",
      "2   6.043059e-02  \n",
      "3   1.217149e-02  \n",
      "4   4.000730e-03  \n",
      "..           ...  \n",
      "91  4.623561e-01  \n",
      "92  1.040346e-02  \n",
      "93  1.388447e-05  \n",
      "94  5.754918e-03  \n",
      "95  1.115480e-08  \n",
      "\n",
      "[96 rows x 5 columns]\n",
      "\n",
      "model score of oof results for RandomForestClassifier\n",
      "Model Accuracy: 0.8125\n",
      "Precision: 0.8145559318566565\n",
      "Recall (Sensitivity): 0.8125\n",
      "F1 Score: 0.8108890480927119\n",
      "Matthews Correlation Coefficient (MCC): 0.7461387223329802\n",
      "G-Measure: 0.8625598210033927\n",
      "AUC: 0.9810143968292077\n",
      "Specificity: 0.935544707639778\n",
      "Jaccard Index: 0.6755798902350627\n",
      "Saving metrics to: /work/wanlab/nick//stackeval6/val_data/stacked/RandomForestClassifier/limma(0),metrics.csv\n",
      "PREDICTIONS                   subtype  Squamous  ADEX  Pancreatic Progenitor  Immunogenic\n",
      "0             Immunogenic      0.02  0.04                   0.08         0.86\n",
      "1                    ADEX      0.12  0.44                   0.35         0.09\n",
      "2   Pancreatic Progenitor      0.05  0.09                   0.41         0.45\n",
      "3   Pancreatic Progenitor      0.06  0.14                   0.67         0.13\n",
      "4   Pancreatic Progenitor      0.12  0.10                   0.69         0.09\n",
      "..                    ...       ...   ...                    ...          ...\n",
      "91                   ADEX      0.06  0.44                   0.17         0.33\n",
      "92               Squamous      0.81  0.01                   0.09         0.09\n",
      "93                   ADEX      0.09  0.39                   0.42         0.10\n",
      "94  Pancreatic Progenitor      0.05  0.58                   0.31         0.06\n",
      "95               Squamous      0.50  0.19                   0.22         0.09\n",
      "\n",
      "[96 rows x 5 columns]\n",
      "\n",
      "model score of oof results for LogisticRegression2\n",
      "Model Accuracy: 0.90625\n",
      "Precision: 0.907241010904804\n",
      "Recall (Sensitivity): 0.90625\n",
      "F1 Score: 0.9063258253912099\n",
      "Matthews Correlation Coefficient (MCC): 0.8733101573111083\n",
      "G-Measure: 0.9352788514023854\n",
      "AUC: 0.987585527368758\n",
      "Specificity: 0.9681724818608621\n",
      "Jaccard Index: 0.8275341386554622\n",
      "Saving metrics to: /work/wanlab/nick//stackeval6/val_data/stacked/LogisticRegression2/limma(0),metrics.csv\n",
      "PREDICTIONS                   subtype      Squamous          ADEX  Pancreatic Progenitor  \\\n",
      "0             Immunogenic  3.640480e-09  9.993954e-10           2.300624e-10   \n",
      "1                    ADEX  1.159729e-04  8.851638e-01           1.135411e-01   \n",
      "2   Pancreatic Progenitor  4.422316e-09  4.637735e-06           9.879368e-01   \n",
      "3   Pancreatic Progenitor  8.382167e-06  7.623418e-03           9.915103e-01   \n",
      "4   Pancreatic Progenitor  4.416381e-05  5.545391e-04           9.994012e-01   \n",
      "..                    ...           ...           ...                    ...   \n",
      "91                   ADEX  3.334826e-07  9.376199e-01           2.248438e-02   \n",
      "92               Squamous  1.000000e+00  8.707865e-13           4.393059e-13   \n",
      "93                   ADEX  2.181862e-04  9.823891e-01           1.736509e-02   \n",
      "94  Pancreatic Progenitor  1.837484e-07  6.680981e-01           3.306028e-01   \n",
      "95               Squamous  6.516356e-01  3.265716e-01           2.177580e-02   \n",
      "\n",
      "     Immunogenic  \n",
      "0   1.000000e+00  \n",
      "1   1.179128e-03  \n",
      "2   1.205861e-02  \n",
      "3   8.579269e-04  \n",
      "4   9.374724e-08  \n",
      "..           ...  \n",
      "91  3.989541e-02  \n",
      "92  5.229512e-09  \n",
      "93  2.766860e-05  \n",
      "94  1.298903e-03  \n",
      "95  1.698362e-05  \n",
      "\n",
      "[96 rows x 5 columns]\n",
      "\n",
      "model score of oof results for GaussianNB2\n",
      "Model Accuracy: 0.7916666666666666\n",
      "Precision: 0.7908549783549784\n",
      "Recall (Sensitivity): 0.7916666666666666\n",
      "F1 Score: 0.7862654320987654\n",
      "Matthews Correlation Coefficient (MCC): 0.7178678232995247\n",
      "G-Measure: 0.8348797928373367\n",
      "AUC: 0.8971923793391664\n",
      "Specificity: 0.9283650768245839\n",
      "Jaccard Index: 0.6339987900786448\n",
      "Saving metrics to: /work/wanlab/nick//stackeval6/val_data/stacked/GaussianNB2/limma(0),metrics.csv\n",
      "PREDICTIONS                   subtype  Squamous          ADEX  Pancreatic Progenitor  \\\n",
      "0             Immunogenic       0.0  0.000000e+00           0.000000e+00   \n",
      "1                    ADEX       0.0  1.000000e+00           0.000000e+00   \n",
      "2   Pancreatic Progenitor       0.0  0.000000e+00           1.000000e+00   \n",
      "3   Pancreatic Progenitor       0.0  0.000000e+00           1.000000e+00   \n",
      "4   Pancreatic Progenitor       0.0  0.000000e+00           1.000000e+00   \n",
      "..                    ...       ...           ...                    ...   \n",
      "91                   ADEX       0.0  0.000000e+00          2.949910e-176   \n",
      "92               Squamous       1.0  0.000000e+00           0.000000e+00   \n",
      "93                   ADEX       0.0  2.252072e-64           1.000000e+00   \n",
      "94  Pancreatic Progenitor       0.0  1.000000e+00           4.743220e-28   \n",
      "95               Squamous       0.0  1.000000e+00          5.305282e-176   \n",
      "\n",
      "      Immunogenic  \n",
      "0    1.000000e+00  \n",
      "1    0.000000e+00  \n",
      "2    0.000000e+00  \n",
      "3    0.000000e+00  \n",
      "4    0.000000e+00  \n",
      "..            ...  \n",
      "91   1.000000e+00  \n",
      "92   0.000000e+00  \n",
      "93   0.000000e+00  \n",
      "94  3.853712e-322  \n",
      "95   0.000000e+00  \n",
      "\n",
      "[96 rows x 5 columns]\n",
      "\n",
      "model score of oof results for SVC3\n",
      "Model Accuracy: 0.8854166666666666\n",
      "Precision: 0.891441968525302\n",
      "Recall (Sensitivity): 0.8854166666666666\n",
      "F1 Score: 0.8857571122577969\n",
      "Matthews Correlation Coefficient (MCC): 0.847046869768925\n",
      "G-Measure: 0.9229308733968031\n",
      "AUC: 0.987881455399061\n",
      "Specificity: 0.9613969803670508\n",
      "Jaccard Index: 0.7977251412244541\n",
      "Saving metrics to: /work/wanlab/nick//stackeval6/val_data/stacked/SVC3/limma(0),metrics.csv\n",
      "PREDICTIONS                   subtype  Squamous      ADEX  Pancreatic Progenitor  \\\n",
      "0             Immunogenic  0.004095  0.001871               0.004838   \n",
      "1                    ADEX  0.022606  0.859169               0.089047   \n",
      "2   Pancreatic Progenitor  0.002166  0.026533               0.832522   \n",
      "3   Pancreatic Progenitor  0.006563  0.087805               0.861340   \n",
      "4   Pancreatic Progenitor  0.031099  0.055339               0.908173   \n",
      "..                    ...       ...       ...                    ...   \n",
      "91                   ADEX  0.006666  0.693155               0.076681   \n",
      "92               Squamous  0.994236  0.000618               0.000209   \n",
      "93                   ADEX  0.067500  0.732080               0.174766   \n",
      "94  Pancreatic Progenitor  0.004504  0.771257               0.193759   \n",
      "95               Squamous  0.436771  0.374540               0.172297   \n",
      "\n",
      "    Immunogenic  \n",
      "0      0.989196  \n",
      "1      0.029178  \n",
      "2      0.138778  \n",
      "3      0.044293  \n",
      "4      0.005389  \n",
      "..          ...  \n",
      "91     0.223498  \n",
      "92     0.004937  \n",
      "93     0.025653  \n",
      "94     0.030479  \n",
      "95     0.016392  \n",
      "\n",
      "[96 rows x 5 columns]\n",
      "\n",
      "model score of oof results for SVC4\n",
      "Model Accuracy: 0.9270833333333334\n",
      "Precision: 0.9282457295657727\n",
      "Recall (Sensitivity): 0.9270833333333334\n",
      "F1 Score: 0.927124353652804\n",
      "Matthews Correlation Coefficient (MCC): 0.9017909960019698\n",
      "G-Measure: 0.9519085598926197\n",
      "AUC: 0.9853178016965428\n",
      "Specificity: 0.9752147353819889\n",
      "Jaccard Index: 0.8669652957336781\n",
      "Saving metrics to: /work/wanlab/nick//stackeval6/val_data/stacked/SVC4/limma(0),metrics.csv\n",
      "PREDICTIONS                   subtype  Squamous      ADEX  Pancreatic Progenitor  \\\n",
      "0             Immunogenic  0.002406  0.001230               0.000941   \n",
      "1                    ADEX  0.038670  0.560043               0.363714   \n",
      "2   Pancreatic Progenitor  0.004532  0.026694               0.763064   \n",
      "3   Pancreatic Progenitor  0.010909  0.075569               0.880233   \n",
      "4   Pancreatic Progenitor  0.049194  0.075184               0.867692   \n",
      "..                    ...       ...       ...                    ...   \n",
      "91                   ADEX  0.010169  0.671981               0.124883   \n",
      "92               Squamous  0.995743  0.000089               0.000186   \n",
      "93                   ADEX  0.063184  0.737371               0.158687   \n",
      "94  Pancreatic Progenitor  0.008087  0.671725               0.274944   \n",
      "95               Squamous  0.391752  0.383456               0.191323   \n",
      "\n",
      "    Immunogenic  \n",
      "0      0.995424  \n",
      "1      0.037573  \n",
      "2      0.205709  \n",
      "3      0.033289  \n",
      "4      0.007930  \n",
      "..          ...  \n",
      "91     0.192966  \n",
      "92     0.003982  \n",
      "93     0.040759  \n",
      "94     0.045244  \n",
      "95     0.033469  \n",
      "\n",
      "[96 rows x 5 columns]\n",
      "run 7\n",
      "Model Pair: SVC + SVC + XGBClassifier + KNeighborsClassifier\n",
      "USEDmodelnames ['SVC', 'SVC2', 'XGBClassifier', 'KNeighborsClassifier']\n",
      "Running with: SVC and SVC and XGBClassifier and KNeighborsClassifier\n",
      "Random state: 0\n",
      "['SVC', 'SVC2', 'XGBClassifier', 'KNeighborsClassifier']\n",
      "individual models\n"
     ]
    },
    {
     "name": "stderr",
     "output_type": "stream",
     "text": [
      "/home/wanlab/nick/.local/lib/python3.8/site-packages/xgboost/core.py:158: UserWarning: [11:31:55] WARNING: /workspace/src/learner.cc:740: \n",
      "Parameters: { \"use_label_encoder\" } are not used.\n",
      "\n",
      "  warnings.warn(smsg, UserWarning)\n"
     ]
    },
    {
     "name": "stdout",
     "output_type": "stream",
     "text": [
      "cv\n",
      "individual models\n"
     ]
    },
    {
     "name": "stderr",
     "output_type": "stream",
     "text": [
      "/home/wanlab/nick/.local/lib/python3.8/site-packages/xgboost/core.py:158: UserWarning: [11:32:07] WARNING: /workspace/src/learner.cc:740: \n",
      "Parameters: { \"use_label_encoder\" } are not used.\n",
      "\n",
      "  warnings.warn(smsg, UserWarning)\n"
     ]
    },
    {
     "name": "stdout",
     "output_type": "stream",
     "text": [
      "cv\n",
      "individual models\n"
     ]
    },
    {
     "name": "stderr",
     "output_type": "stream",
     "text": [
      "/home/wanlab/nick/.local/lib/python3.8/site-packages/xgboost/core.py:158: UserWarning: [11:32:19] WARNING: /workspace/src/learner.cc:740: \n",
      "Parameters: { \"use_label_encoder\" } are not used.\n",
      "\n",
      "  warnings.warn(smsg, UserWarning)\n"
     ]
    },
    {
     "name": "stdout",
     "output_type": "stream",
     "text": [
      "cv\n",
      "individual models\n"
     ]
    },
    {
     "name": "stderr",
     "output_type": "stream",
     "text": [
      "/home/wanlab/nick/.local/lib/python3.8/site-packages/xgboost/core.py:158: UserWarning: [11:32:31] WARNING: /workspace/src/learner.cc:740: \n",
      "Parameters: { \"use_label_encoder\" } are not used.\n",
      "\n",
      "  warnings.warn(smsg, UserWarning)\n"
     ]
    },
    {
     "name": "stdout",
     "output_type": "stream",
     "text": [
      "cv\n",
      "individual models\n"
     ]
    },
    {
     "name": "stderr",
     "output_type": "stream",
     "text": [
      "/home/wanlab/nick/.local/lib/python3.8/site-packages/xgboost/core.py:158: UserWarning: [11:32:43] WARNING: /workspace/src/learner.cc:740: \n",
      "Parameters: { \"use_label_encoder\" } are not used.\n",
      "\n",
      "  warnings.warn(smsg, UserWarning)\n"
     ]
    },
    {
     "name": "stdout",
     "output_type": "stream",
     "text": [
      "cv\n",
      "individual models\n"
     ]
    },
    {
     "name": "stderr",
     "output_type": "stream",
     "text": [
      "/home/wanlab/nick/.local/lib/python3.8/site-packages/xgboost/core.py:158: UserWarning: [11:32:54] WARNING: /workspace/src/learner.cc:740: \n",
      "Parameters: { \"use_label_encoder\" } are not used.\n",
      "\n",
      "  warnings.warn(smsg, UserWarning)\n"
     ]
    },
    {
     "name": "stdout",
     "output_type": "stream",
     "text": [
      "cv\n",
      "individual models\n"
     ]
    },
    {
     "name": "stderr",
     "output_type": "stream",
     "text": [
      "/home/wanlab/nick/.local/lib/python3.8/site-packages/xgboost/core.py:158: UserWarning: [11:33:07] WARNING: /workspace/src/learner.cc:740: \n",
      "Parameters: { \"use_label_encoder\" } are not used.\n",
      "\n",
      "  warnings.warn(smsg, UserWarning)\n"
     ]
    },
    {
     "name": "stdout",
     "output_type": "stream",
     "text": [
      "cv\n",
      "individual models\n"
     ]
    },
    {
     "name": "stderr",
     "output_type": "stream",
     "text": [
      "/home/wanlab/nick/.local/lib/python3.8/site-packages/xgboost/core.py:158: UserWarning: [11:33:18] WARNING: /workspace/src/learner.cc:740: \n",
      "Parameters: { \"use_label_encoder\" } are not used.\n",
      "\n",
      "  warnings.warn(smsg, UserWarning)\n"
     ]
    },
    {
     "name": "stdout",
     "output_type": "stream",
     "text": [
      "cv\n",
      "individual models\n"
     ]
    },
    {
     "name": "stderr",
     "output_type": "stream",
     "text": [
      "/home/wanlab/nick/.local/lib/python3.8/site-packages/xgboost/core.py:158: UserWarning: [11:33:30] WARNING: /workspace/src/learner.cc:740: \n",
      "Parameters: { \"use_label_encoder\" } are not used.\n",
      "\n",
      "  warnings.warn(smsg, UserWarning)\n"
     ]
    },
    {
     "name": "stdout",
     "output_type": "stream",
     "text": [
      "cv\n",
      "individual models\n"
     ]
    },
    {
     "name": "stderr",
     "output_type": "stream",
     "text": [
      "/home/wanlab/nick/.local/lib/python3.8/site-packages/xgboost/core.py:158: UserWarning: [11:33:42] WARNING: /workspace/src/learner.cc:740: \n",
      "Parameters: { \"use_label_encoder\" } are not used.\n",
      "\n",
      "  warnings.warn(smsg, UserWarning)\n"
     ]
    },
    {
     "name": "stdout",
     "output_type": "stream",
     "text": [
      "cv\n",
      "individual models\n"
     ]
    },
    {
     "name": "stderr",
     "output_type": "stream",
     "text": [
      "/home/wanlab/nick/.local/lib/python3.8/site-packages/xgboost/core.py:158: UserWarning: [11:33:54] WARNING: /workspace/src/learner.cc:740: \n",
      "Parameters: { \"use_label_encoder\" } are not used.\n",
      "\n",
      "  warnings.warn(smsg, UserWarning)\n"
     ]
    },
    {
     "name": "stdout",
     "output_type": "stream",
     "text": [
      "cv\n",
      "individual models\n"
     ]
    },
    {
     "name": "stderr",
     "output_type": "stream",
     "text": [
      "/home/wanlab/nick/.local/lib/python3.8/site-packages/xgboost/core.py:158: UserWarning: [11:34:05] WARNING: /workspace/src/learner.cc:740: \n",
      "Parameters: { \"use_label_encoder\" } are not used.\n",
      "\n",
      "  warnings.warn(smsg, UserWarning)\n"
     ]
    },
    {
     "name": "stdout",
     "output_type": "stream",
     "text": [
      "cv\n",
      "individual models\n"
     ]
    },
    {
     "name": "stderr",
     "output_type": "stream",
     "text": [
      "/home/wanlab/nick/.local/lib/python3.8/site-packages/xgboost/core.py:158: UserWarning: [11:34:17] WARNING: /workspace/src/learner.cc:740: \n",
      "Parameters: { \"use_label_encoder\" } are not used.\n",
      "\n",
      "  warnings.warn(smsg, UserWarning)\n"
     ]
    },
    {
     "name": "stdout",
     "output_type": "stream",
     "text": [
      "cv\n",
      "individual models\n"
     ]
    },
    {
     "name": "stderr",
     "output_type": "stream",
     "text": [
      "/home/wanlab/nick/.local/lib/python3.8/site-packages/xgboost/core.py:158: UserWarning: [11:34:29] WARNING: /workspace/src/learner.cc:740: \n",
      "Parameters: { \"use_label_encoder\" } are not used.\n",
      "\n",
      "  warnings.warn(smsg, UserWarning)\n"
     ]
    },
    {
     "name": "stdout",
     "output_type": "stream",
     "text": [
      "cv\n",
      "individual models\n"
     ]
    },
    {
     "name": "stderr",
     "output_type": "stream",
     "text": [
      "/home/wanlab/nick/.local/lib/python3.8/site-packages/xgboost/core.py:158: UserWarning: [11:34:41] WARNING: /workspace/src/learner.cc:740: \n",
      "Parameters: { \"use_label_encoder\" } are not used.\n",
      "\n",
      "  warnings.warn(smsg, UserWarning)\n"
     ]
    },
    {
     "name": "stdout",
     "output_type": "stream",
     "text": [
      "cv\n",
      "individual models\n"
     ]
    },
    {
     "name": "stderr",
     "output_type": "stream",
     "text": [
      "/home/wanlab/nick/.local/lib/python3.8/site-packages/xgboost/core.py:158: UserWarning: [11:34:52] WARNING: /workspace/src/learner.cc:740: \n",
      "Parameters: { \"use_label_encoder\" } are not used.\n",
      "\n",
      "  warnings.warn(smsg, UserWarning)\n"
     ]
    },
    {
     "name": "stdout",
     "output_type": "stream",
     "text": [
      "cv\n",
      "individual models\n"
     ]
    },
    {
     "name": "stderr",
     "output_type": "stream",
     "text": [
      "/home/wanlab/nick/.local/lib/python3.8/site-packages/xgboost/core.py:158: UserWarning: [11:35:04] WARNING: /workspace/src/learner.cc:740: \n",
      "Parameters: { \"use_label_encoder\" } are not used.\n",
      "\n",
      "  warnings.warn(smsg, UserWarning)\n"
     ]
    },
    {
     "name": "stdout",
     "output_type": "stream",
     "text": [
      "cv\n",
      "individual models\n"
     ]
    },
    {
     "name": "stderr",
     "output_type": "stream",
     "text": [
      "/home/wanlab/nick/.local/lib/python3.8/site-packages/xgboost/core.py:158: UserWarning: [11:35:16] WARNING: /workspace/src/learner.cc:740: \n",
      "Parameters: { \"use_label_encoder\" } are not used.\n",
      "\n",
      "  warnings.warn(smsg, UserWarning)\n"
     ]
    },
    {
     "name": "stdout",
     "output_type": "stream",
     "text": [
      "cv\n",
      "individual models\n"
     ]
    },
    {
     "name": "stderr",
     "output_type": "stream",
     "text": [
      "/home/wanlab/nick/.local/lib/python3.8/site-packages/xgboost/core.py:158: UserWarning: [11:35:27] WARNING: /workspace/src/learner.cc:740: \n",
      "Parameters: { \"use_label_encoder\" } are not used.\n",
      "\n",
      "  warnings.warn(smsg, UserWarning)\n"
     ]
    },
    {
     "name": "stdout",
     "output_type": "stream",
     "text": [
      "cv\n",
      "individual models\n"
     ]
    },
    {
     "name": "stderr",
     "output_type": "stream",
     "text": [
      "/home/wanlab/nick/.local/lib/python3.8/site-packages/xgboost/core.py:158: UserWarning: [11:35:40] WARNING: /workspace/src/learner.cc:740: \n",
      "Parameters: { \"use_label_encoder\" } are not used.\n",
      "\n",
      "  warnings.warn(smsg, UserWarning)\n"
     ]
    },
    {
     "name": "stdout",
     "output_type": "stream",
     "text": [
      "cv\n",
      "individual models\n"
     ]
    },
    {
     "name": "stderr",
     "output_type": "stream",
     "text": [
      "/home/wanlab/nick/.local/lib/python3.8/site-packages/xgboost/core.py:158: UserWarning: [11:35:51] WARNING: /workspace/src/learner.cc:740: \n",
      "Parameters: { \"use_label_encoder\" } are not used.\n",
      "\n",
      "  warnings.warn(smsg, UserWarning)\n"
     ]
    },
    {
     "name": "stdout",
     "output_type": "stream",
     "text": [
      "cv\n",
      "individual models\n"
     ]
    },
    {
     "name": "stderr",
     "output_type": "stream",
     "text": [
      "/home/wanlab/nick/.local/lib/python3.8/site-packages/xgboost/core.py:158: UserWarning: [11:36:03] WARNING: /workspace/src/learner.cc:740: \n",
      "Parameters: { \"use_label_encoder\" } are not used.\n",
      "\n",
      "  warnings.warn(smsg, UserWarning)\n"
     ]
    },
    {
     "name": "stdout",
     "output_type": "stream",
     "text": [
      "cv\n",
      "individual models\n"
     ]
    },
    {
     "name": "stderr",
     "output_type": "stream",
     "text": [
      "/home/wanlab/nick/.local/lib/python3.8/site-packages/xgboost/core.py:158: UserWarning: [11:36:15] WARNING: /workspace/src/learner.cc:740: \n",
      "Parameters: { \"use_label_encoder\" } are not used.\n",
      "\n",
      "  warnings.warn(smsg, UserWarning)\n"
     ]
    },
    {
     "name": "stdout",
     "output_type": "stream",
     "text": [
      "cv\n",
      "individual models\n"
     ]
    },
    {
     "name": "stderr",
     "output_type": "stream",
     "text": [
      "/home/wanlab/nick/.local/lib/python3.8/site-packages/xgboost/core.py:158: UserWarning: [11:36:26] WARNING: /workspace/src/learner.cc:740: \n",
      "Parameters: { \"use_label_encoder\" } are not used.\n",
      "\n",
      "  warnings.warn(smsg, UserWarning)\n"
     ]
    },
    {
     "name": "stdout",
     "output_type": "stream",
     "text": [
      "cv\n",
      "individual models\n"
     ]
    },
    {
     "name": "stderr",
     "output_type": "stream",
     "text": [
      "/home/wanlab/nick/.local/lib/python3.8/site-packages/xgboost/core.py:158: UserWarning: [11:36:38] WARNING: /workspace/src/learner.cc:740: \n",
      "Parameters: { \"use_label_encoder\" } are not used.\n",
      "\n",
      "  warnings.warn(smsg, UserWarning)\n"
     ]
    },
    {
     "name": "stdout",
     "output_type": "stream",
     "text": [
      "cv\n",
      "individual models\n"
     ]
    },
    {
     "name": "stderr",
     "output_type": "stream",
     "text": [
      "/home/wanlab/nick/.local/lib/python3.8/site-packages/xgboost/core.py:158: UserWarning: [11:36:49] WARNING: /workspace/src/learner.cc:740: \n",
      "Parameters: { \"use_label_encoder\" } are not used.\n",
      "\n",
      "  warnings.warn(smsg, UserWarning)\n"
     ]
    },
    {
     "name": "stdout",
     "output_type": "stream",
     "text": [
      "cv\n",
      "individual models\n"
     ]
    },
    {
     "name": "stderr",
     "output_type": "stream",
     "text": [
      "/home/wanlab/nick/.local/lib/python3.8/site-packages/xgboost/core.py:158: UserWarning: [11:37:01] WARNING: /workspace/src/learner.cc:740: \n",
      "Parameters: { \"use_label_encoder\" } are not used.\n",
      "\n",
      "  warnings.warn(smsg, UserWarning)\n"
     ]
    },
    {
     "name": "stdout",
     "output_type": "stream",
     "text": [
      "cv\n",
      "individual models\n"
     ]
    },
    {
     "name": "stderr",
     "output_type": "stream",
     "text": [
      "/home/wanlab/nick/.local/lib/python3.8/site-packages/xgboost/core.py:158: UserWarning: [11:37:13] WARNING: /workspace/src/learner.cc:740: \n",
      "Parameters: { \"use_label_encoder\" } are not used.\n",
      "\n",
      "  warnings.warn(smsg, UserWarning)\n"
     ]
    },
    {
     "name": "stdout",
     "output_type": "stream",
     "text": [
      "cv\n",
      "individual models\n"
     ]
    },
    {
     "name": "stderr",
     "output_type": "stream",
     "text": [
      "/home/wanlab/nick/.local/lib/python3.8/site-packages/xgboost/core.py:158: UserWarning: [11:37:24] WARNING: /workspace/src/learner.cc:740: \n",
      "Parameters: { \"use_label_encoder\" } are not used.\n",
      "\n",
      "  warnings.warn(smsg, UserWarning)\n"
     ]
    },
    {
     "name": "stdout",
     "output_type": "stream",
     "text": [
      "cv\n",
      "individual models\n"
     ]
    },
    {
     "name": "stderr",
     "output_type": "stream",
     "text": [
      "/home/wanlab/nick/.local/lib/python3.8/site-packages/xgboost/core.py:158: UserWarning: [11:37:36] WARNING: /workspace/src/learner.cc:740: \n",
      "Parameters: { \"use_label_encoder\" } are not used.\n",
      "\n",
      "  warnings.warn(smsg, UserWarning)\n"
     ]
    },
    {
     "name": "stdout",
     "output_type": "stream",
     "text": [
      "cv\n",
      "individual models\n"
     ]
    },
    {
     "name": "stderr",
     "output_type": "stream",
     "text": [
      "/home/wanlab/nick/.local/lib/python3.8/site-packages/xgboost/core.py:158: UserWarning: [11:37:48] WARNING: /workspace/src/learner.cc:740: \n",
      "Parameters: { \"use_label_encoder\" } are not used.\n",
      "\n",
      "  warnings.warn(smsg, UserWarning)\n"
     ]
    },
    {
     "name": "stdout",
     "output_type": "stream",
     "text": [
      "cv\n",
      "individual models\n"
     ]
    },
    {
     "name": "stderr",
     "output_type": "stream",
     "text": [
      "/home/wanlab/nick/.local/lib/python3.8/site-packages/xgboost/core.py:158: UserWarning: [11:38:00] WARNING: /workspace/src/learner.cc:740: \n",
      "Parameters: { \"use_label_encoder\" } are not used.\n",
      "\n",
      "  warnings.warn(smsg, UserWarning)\n"
     ]
    },
    {
     "name": "stdout",
     "output_type": "stream",
     "text": [
      "cv\n",
      "individual models\n"
     ]
    },
    {
     "name": "stderr",
     "output_type": "stream",
     "text": [
      "/home/wanlab/nick/.local/lib/python3.8/site-packages/xgboost/core.py:158: UserWarning: [11:38:12] WARNING: /workspace/src/learner.cc:740: \n",
      "Parameters: { \"use_label_encoder\" } are not used.\n",
      "\n",
      "  warnings.warn(smsg, UserWarning)\n"
     ]
    },
    {
     "name": "stdout",
     "output_type": "stream",
     "text": [
      "cv\n",
      "individual models\n"
     ]
    },
    {
     "name": "stderr",
     "output_type": "stream",
     "text": [
      "/home/wanlab/nick/.local/lib/python3.8/site-packages/xgboost/core.py:158: UserWarning: [11:38:24] WARNING: /workspace/src/learner.cc:740: \n",
      "Parameters: { \"use_label_encoder\" } are not used.\n",
      "\n",
      "  warnings.warn(smsg, UserWarning)\n"
     ]
    },
    {
     "name": "stdout",
     "output_type": "stream",
     "text": [
      "cv\n",
      "individual models\n"
     ]
    },
    {
     "name": "stderr",
     "output_type": "stream",
     "text": [
      "/home/wanlab/nick/.local/lib/python3.8/site-packages/xgboost/core.py:158: UserWarning: [11:38:35] WARNING: /workspace/src/learner.cc:740: \n",
      "Parameters: { \"use_label_encoder\" } are not used.\n",
      "\n",
      "  warnings.warn(smsg, UserWarning)\n"
     ]
    },
    {
     "name": "stdout",
     "output_type": "stream",
     "text": [
      "cv\n",
      "individual models\n"
     ]
    },
    {
     "name": "stderr",
     "output_type": "stream",
     "text": [
      "/home/wanlab/nick/.local/lib/python3.8/site-packages/xgboost/core.py:158: UserWarning: [11:38:47] WARNING: /workspace/src/learner.cc:740: \n",
      "Parameters: { \"use_label_encoder\" } are not used.\n",
      "\n",
      "  warnings.warn(smsg, UserWarning)\n"
     ]
    },
    {
     "name": "stdout",
     "output_type": "stream",
     "text": [
      "cv\n",
      "individual models\n"
     ]
    },
    {
     "name": "stderr",
     "output_type": "stream",
     "text": [
      "/home/wanlab/nick/.local/lib/python3.8/site-packages/xgboost/core.py:158: UserWarning: [11:38:58] WARNING: /workspace/src/learner.cc:740: \n",
      "Parameters: { \"use_label_encoder\" } are not used.\n",
      "\n",
      "  warnings.warn(smsg, UserWarning)\n"
     ]
    },
    {
     "name": "stdout",
     "output_type": "stream",
     "text": [
      "cv\n",
      "individual models\n"
     ]
    },
    {
     "name": "stderr",
     "output_type": "stream",
     "text": [
      "/home/wanlab/nick/.local/lib/python3.8/site-packages/xgboost/core.py:158: UserWarning: [11:39:10] WARNING: /workspace/src/learner.cc:740: \n",
      "Parameters: { \"use_label_encoder\" } are not used.\n",
      "\n",
      "  warnings.warn(smsg, UserWarning)\n"
     ]
    },
    {
     "name": "stdout",
     "output_type": "stream",
     "text": [
      "cv\n",
      "individual models\n"
     ]
    },
    {
     "name": "stderr",
     "output_type": "stream",
     "text": [
      "/home/wanlab/nick/.local/lib/python3.8/site-packages/xgboost/core.py:158: UserWarning: [11:39:22] WARNING: /workspace/src/learner.cc:740: \n",
      "Parameters: { \"use_label_encoder\" } are not used.\n",
      "\n",
      "  warnings.warn(smsg, UserWarning)\n"
     ]
    },
    {
     "name": "stdout",
     "output_type": "stream",
     "text": [
      "cv\n",
      "individual models\n"
     ]
    },
    {
     "name": "stderr",
     "output_type": "stream",
     "text": [
      "/home/wanlab/nick/.local/lib/python3.8/site-packages/xgboost/core.py:158: UserWarning: [11:39:33] WARNING: /workspace/src/learner.cc:740: \n",
      "Parameters: { \"use_label_encoder\" } are not used.\n",
      "\n",
      "  warnings.warn(smsg, UserWarning)\n"
     ]
    },
    {
     "name": "stdout",
     "output_type": "stream",
     "text": [
      "cv\n",
      "individual models\n"
     ]
    },
    {
     "name": "stderr",
     "output_type": "stream",
     "text": [
      "/home/wanlab/nick/.local/lib/python3.8/site-packages/xgboost/core.py:158: UserWarning: [11:39:45] WARNING: /workspace/src/learner.cc:740: \n",
      "Parameters: { \"use_label_encoder\" } are not used.\n",
      "\n",
      "  warnings.warn(smsg, UserWarning)\n"
     ]
    },
    {
     "name": "stdout",
     "output_type": "stream",
     "text": [
      "cv\n",
      "individual models\n"
     ]
    },
    {
     "name": "stderr",
     "output_type": "stream",
     "text": [
      "/home/wanlab/nick/.local/lib/python3.8/site-packages/xgboost/core.py:158: UserWarning: [11:39:57] WARNING: /workspace/src/learner.cc:740: \n",
      "Parameters: { \"use_label_encoder\" } are not used.\n",
      "\n",
      "  warnings.warn(smsg, UserWarning)\n"
     ]
    },
    {
     "name": "stdout",
     "output_type": "stream",
     "text": [
      "cv\n",
      "individual models\n"
     ]
    },
    {
     "name": "stderr",
     "output_type": "stream",
     "text": [
      "/home/wanlab/nick/.local/lib/python3.8/site-packages/xgboost/core.py:158: UserWarning: [11:40:08] WARNING: /workspace/src/learner.cc:740: \n",
      "Parameters: { \"use_label_encoder\" } are not used.\n",
      "\n",
      "  warnings.warn(smsg, UserWarning)\n"
     ]
    },
    {
     "name": "stdout",
     "output_type": "stream",
     "text": [
      "cv\n",
      "individual models\n"
     ]
    },
    {
     "name": "stderr",
     "output_type": "stream",
     "text": [
      "/home/wanlab/nick/.local/lib/python3.8/site-packages/xgboost/core.py:158: UserWarning: [11:40:20] WARNING: /workspace/src/learner.cc:740: \n",
      "Parameters: { \"use_label_encoder\" } are not used.\n",
      "\n",
      "  warnings.warn(smsg, UserWarning)\n"
     ]
    },
    {
     "name": "stdout",
     "output_type": "stream",
     "text": [
      "cv\n",
      "individual models\n"
     ]
    },
    {
     "name": "stderr",
     "output_type": "stream",
     "text": [
      "/home/wanlab/nick/.local/lib/python3.8/site-packages/xgboost/core.py:158: UserWarning: [11:40:31] WARNING: /workspace/src/learner.cc:740: \n",
      "Parameters: { \"use_label_encoder\" } are not used.\n",
      "\n",
      "  warnings.warn(smsg, UserWarning)\n"
     ]
    },
    {
     "name": "stdout",
     "output_type": "stream",
     "text": [
      "cv\n",
      "individual models\n"
     ]
    },
    {
     "name": "stderr",
     "output_type": "stream",
     "text": [
      "/home/wanlab/nick/.local/lib/python3.8/site-packages/xgboost/core.py:158: UserWarning: [11:40:43] WARNING: /workspace/src/learner.cc:740: \n",
      "Parameters: { \"use_label_encoder\" } are not used.\n",
      "\n",
      "  warnings.warn(smsg, UserWarning)\n"
     ]
    },
    {
     "name": "stdout",
     "output_type": "stream",
     "text": [
      "cv\n",
      "individual models\n"
     ]
    },
    {
     "name": "stderr",
     "output_type": "stream",
     "text": [
      "/home/wanlab/nick/.local/lib/python3.8/site-packages/xgboost/core.py:158: UserWarning: [11:40:55] WARNING: /workspace/src/learner.cc:740: \n",
      "Parameters: { \"use_label_encoder\" } are not used.\n",
      "\n",
      "  warnings.warn(smsg, UserWarning)\n"
     ]
    },
    {
     "name": "stdout",
     "output_type": "stream",
     "text": [
      "cv\n",
      "individual models\n"
     ]
    },
    {
     "name": "stderr",
     "output_type": "stream",
     "text": [
      "/home/wanlab/nick/.local/lib/python3.8/site-packages/xgboost/core.py:158: UserWarning: [11:41:06] WARNING: /workspace/src/learner.cc:740: \n",
      "Parameters: { \"use_label_encoder\" } are not used.\n",
      "\n",
      "  warnings.warn(smsg, UserWarning)\n"
     ]
    },
    {
     "name": "stdout",
     "output_type": "stream",
     "text": [
      "cv\n",
      "individual models\n"
     ]
    },
    {
     "name": "stderr",
     "output_type": "stream",
     "text": [
      "/home/wanlab/nick/.local/lib/python3.8/site-packages/xgboost/core.py:158: UserWarning: [11:41:19] WARNING: /workspace/src/learner.cc:740: \n",
      "Parameters: { \"use_label_encoder\" } are not used.\n",
      "\n",
      "  warnings.warn(smsg, UserWarning)\n"
     ]
    },
    {
     "name": "stdout",
     "output_type": "stream",
     "text": [
      "cv\n",
      "individual models\n"
     ]
    },
    {
     "name": "stderr",
     "output_type": "stream",
     "text": [
      "/home/wanlab/nick/.local/lib/python3.8/site-packages/xgboost/core.py:158: UserWarning: [11:41:30] WARNING: /workspace/src/learner.cc:740: \n",
      "Parameters: { \"use_label_encoder\" } are not used.\n",
      "\n",
      "  warnings.warn(smsg, UserWarning)\n"
     ]
    },
    {
     "name": "stdout",
     "output_type": "stream",
     "text": [
      "cv\n",
      "individual models\n"
     ]
    },
    {
     "name": "stderr",
     "output_type": "stream",
     "text": [
      "/home/wanlab/nick/.local/lib/python3.8/site-packages/xgboost/core.py:158: UserWarning: [11:41:42] WARNING: /workspace/src/learner.cc:740: \n",
      "Parameters: { \"use_label_encoder\" } are not used.\n",
      "\n",
      "  warnings.warn(smsg, UserWarning)\n"
     ]
    },
    {
     "name": "stdout",
     "output_type": "stream",
     "text": [
      "cv\n",
      "individual models\n"
     ]
    },
    {
     "name": "stderr",
     "output_type": "stream",
     "text": [
      "/home/wanlab/nick/.local/lib/python3.8/site-packages/xgboost/core.py:158: UserWarning: [11:41:53] WARNING: /workspace/src/learner.cc:740: \n",
      "Parameters: { \"use_label_encoder\" } are not used.\n",
      "\n",
      "  warnings.warn(smsg, UserWarning)\n"
     ]
    },
    {
     "name": "stdout",
     "output_type": "stream",
     "text": [
      "cv\n",
      "individual models\n"
     ]
    },
    {
     "name": "stderr",
     "output_type": "stream",
     "text": [
      "/home/wanlab/nick/.local/lib/python3.8/site-packages/xgboost/core.py:158: UserWarning: [11:42:05] WARNING: /workspace/src/learner.cc:740: \n",
      "Parameters: { \"use_label_encoder\" } are not used.\n",
      "\n",
      "  warnings.warn(smsg, UserWarning)\n"
     ]
    },
    {
     "name": "stdout",
     "output_type": "stream",
     "text": [
      "cv\n",
      "individual models\n"
     ]
    },
    {
     "name": "stderr",
     "output_type": "stream",
     "text": [
      "/home/wanlab/nick/.local/lib/python3.8/site-packages/xgboost/core.py:158: UserWarning: [11:42:16] WARNING: /workspace/src/learner.cc:740: \n",
      "Parameters: { \"use_label_encoder\" } are not used.\n",
      "\n",
      "  warnings.warn(smsg, UserWarning)\n"
     ]
    },
    {
     "name": "stdout",
     "output_type": "stream",
     "text": [
      "cv\n",
      "individual models\n"
     ]
    },
    {
     "name": "stderr",
     "output_type": "stream",
     "text": [
      "/home/wanlab/nick/.local/lib/python3.8/site-packages/xgboost/core.py:158: UserWarning: [11:42:28] WARNING: /workspace/src/learner.cc:740: \n",
      "Parameters: { \"use_label_encoder\" } are not used.\n",
      "\n",
      "  warnings.warn(smsg, UserWarning)\n"
     ]
    },
    {
     "name": "stdout",
     "output_type": "stream",
     "text": [
      "cv\n",
      "individual models\n"
     ]
    },
    {
     "name": "stderr",
     "output_type": "stream",
     "text": [
      "/home/wanlab/nick/.local/lib/python3.8/site-packages/xgboost/core.py:158: UserWarning: [11:42:39] WARNING: /workspace/src/learner.cc:740: \n",
      "Parameters: { \"use_label_encoder\" } are not used.\n",
      "\n",
      "  warnings.warn(smsg, UserWarning)\n"
     ]
    },
    {
     "name": "stdout",
     "output_type": "stream",
     "text": [
      "cv\n",
      "individual models\n"
     ]
    },
    {
     "name": "stderr",
     "output_type": "stream",
     "text": [
      "/home/wanlab/nick/.local/lib/python3.8/site-packages/xgboost/core.py:158: UserWarning: [11:42:51] WARNING: /workspace/src/learner.cc:740: \n",
      "Parameters: { \"use_label_encoder\" } are not used.\n",
      "\n",
      "  warnings.warn(smsg, UserWarning)\n"
     ]
    },
    {
     "name": "stdout",
     "output_type": "stream",
     "text": [
      "cv\n",
      "individual models\n"
     ]
    },
    {
     "name": "stderr",
     "output_type": "stream",
     "text": [
      "/home/wanlab/nick/.local/lib/python3.8/site-packages/xgboost/core.py:158: UserWarning: [11:43:02] WARNING: /workspace/src/learner.cc:740: \n",
      "Parameters: { \"use_label_encoder\" } are not used.\n",
      "\n",
      "  warnings.warn(smsg, UserWarning)\n"
     ]
    },
    {
     "name": "stdout",
     "output_type": "stream",
     "text": [
      "cv\n",
      "individual models\n"
     ]
    },
    {
     "name": "stderr",
     "output_type": "stream",
     "text": [
      "/home/wanlab/nick/.local/lib/python3.8/site-packages/xgboost/core.py:158: UserWarning: [11:43:14] WARNING: /workspace/src/learner.cc:740: \n",
      "Parameters: { \"use_label_encoder\" } are not used.\n",
      "\n",
      "  warnings.warn(smsg, UserWarning)\n"
     ]
    },
    {
     "name": "stdout",
     "output_type": "stream",
     "text": [
      "cv\n",
      "individual models\n"
     ]
    },
    {
     "name": "stderr",
     "output_type": "stream",
     "text": [
      "/home/wanlab/nick/.local/lib/python3.8/site-packages/xgboost/core.py:158: UserWarning: [11:43:26] WARNING: /workspace/src/learner.cc:740: \n",
      "Parameters: { \"use_label_encoder\" } are not used.\n",
      "\n",
      "  warnings.warn(smsg, UserWarning)\n"
     ]
    },
    {
     "name": "stdout",
     "output_type": "stream",
     "text": [
      "cv\n",
      "individual models\n"
     ]
    },
    {
     "name": "stderr",
     "output_type": "stream",
     "text": [
      "/home/wanlab/nick/.local/lib/python3.8/site-packages/xgboost/core.py:158: UserWarning: [11:43:37] WARNING: /workspace/src/learner.cc:740: \n",
      "Parameters: { \"use_label_encoder\" } are not used.\n",
      "\n",
      "  warnings.warn(smsg, UserWarning)\n"
     ]
    },
    {
     "name": "stdout",
     "output_type": "stream",
     "text": [
      "cv\n",
      "individual models\n"
     ]
    },
    {
     "name": "stderr",
     "output_type": "stream",
     "text": [
      "/home/wanlab/nick/.local/lib/python3.8/site-packages/xgboost/core.py:158: UserWarning: [11:43:49] WARNING: /workspace/src/learner.cc:740: \n",
      "Parameters: { \"use_label_encoder\" } are not used.\n",
      "\n",
      "  warnings.warn(smsg, UserWarning)\n"
     ]
    },
    {
     "name": "stdout",
     "output_type": "stream",
     "text": [
      "cv\n",
      "individual models\n"
     ]
    },
    {
     "name": "stderr",
     "output_type": "stream",
     "text": [
      "/home/wanlab/nick/.local/lib/python3.8/site-packages/xgboost/core.py:158: UserWarning: [11:44:00] WARNING: /workspace/src/learner.cc:740: \n",
      "Parameters: { \"use_label_encoder\" } are not used.\n",
      "\n",
      "  warnings.warn(smsg, UserWarning)\n"
     ]
    },
    {
     "name": "stdout",
     "output_type": "stream",
     "text": [
      "cv\n",
      "individual models\n"
     ]
    },
    {
     "name": "stderr",
     "output_type": "stream",
     "text": [
      "/home/wanlab/nick/.local/lib/python3.8/site-packages/xgboost/core.py:158: UserWarning: [11:44:12] WARNING: /workspace/src/learner.cc:740: \n",
      "Parameters: { \"use_label_encoder\" } are not used.\n",
      "\n",
      "  warnings.warn(smsg, UserWarning)\n"
     ]
    },
    {
     "name": "stdout",
     "output_type": "stream",
     "text": [
      "cv\n",
      "individual models\n"
     ]
    },
    {
     "name": "stderr",
     "output_type": "stream",
     "text": [
      "/home/wanlab/nick/.local/lib/python3.8/site-packages/xgboost/core.py:158: UserWarning: [11:44:23] WARNING: /workspace/src/learner.cc:740: \n",
      "Parameters: { \"use_label_encoder\" } are not used.\n",
      "\n",
      "  warnings.warn(smsg, UserWarning)\n"
     ]
    },
    {
     "name": "stdout",
     "output_type": "stream",
     "text": [
      "cv\n",
      "individual models\n"
     ]
    },
    {
     "name": "stderr",
     "output_type": "stream",
     "text": [
      "/home/wanlab/nick/.local/lib/python3.8/site-packages/xgboost/core.py:158: UserWarning: [11:44:35] WARNING: /workspace/src/learner.cc:740: \n",
      "Parameters: { \"use_label_encoder\" } are not used.\n",
      "\n",
      "  warnings.warn(smsg, UserWarning)\n"
     ]
    },
    {
     "name": "stdout",
     "output_type": "stream",
     "text": [
      "cv\n",
      "individual models\n"
     ]
    },
    {
     "name": "stderr",
     "output_type": "stream",
     "text": [
      "/home/wanlab/nick/.local/lib/python3.8/site-packages/xgboost/core.py:158: UserWarning: [11:44:46] WARNING: /workspace/src/learner.cc:740: \n",
      "Parameters: { \"use_label_encoder\" } are not used.\n",
      "\n",
      "  warnings.warn(smsg, UserWarning)\n"
     ]
    },
    {
     "name": "stdout",
     "output_type": "stream",
     "text": [
      "cv\n",
      "individual models\n"
     ]
    },
    {
     "name": "stderr",
     "output_type": "stream",
     "text": [
      "/home/wanlab/nick/.local/lib/python3.8/site-packages/xgboost/core.py:158: UserWarning: [11:44:57] WARNING: /workspace/src/learner.cc:740: \n",
      "Parameters: { \"use_label_encoder\" } are not used.\n",
      "\n",
      "  warnings.warn(smsg, UserWarning)\n"
     ]
    },
    {
     "name": "stdout",
     "output_type": "stream",
     "text": [
      "cv\n",
      "individual models\n"
     ]
    },
    {
     "name": "stderr",
     "output_type": "stream",
     "text": [
      "/home/wanlab/nick/.local/lib/python3.8/site-packages/xgboost/core.py:158: UserWarning: [11:45:09] WARNING: /workspace/src/learner.cc:740: \n",
      "Parameters: { \"use_label_encoder\" } are not used.\n",
      "\n",
      "  warnings.warn(smsg, UserWarning)\n"
     ]
    },
    {
     "name": "stdout",
     "output_type": "stream",
     "text": [
      "cv\n",
      "individual models\n"
     ]
    },
    {
     "name": "stderr",
     "output_type": "stream",
     "text": [
      "/home/wanlab/nick/.local/lib/python3.8/site-packages/xgboost/core.py:158: UserWarning: [11:45:20] WARNING: /workspace/src/learner.cc:740: \n",
      "Parameters: { \"use_label_encoder\" } are not used.\n",
      "\n",
      "  warnings.warn(smsg, UserWarning)\n"
     ]
    },
    {
     "name": "stdout",
     "output_type": "stream",
     "text": [
      "cv\n",
      "individual models\n"
     ]
    },
    {
     "name": "stderr",
     "output_type": "stream",
     "text": [
      "/home/wanlab/nick/.local/lib/python3.8/site-packages/xgboost/core.py:158: UserWarning: [11:45:32] WARNING: /workspace/src/learner.cc:740: \n",
      "Parameters: { \"use_label_encoder\" } are not used.\n",
      "\n",
      "  warnings.warn(smsg, UserWarning)\n"
     ]
    },
    {
     "name": "stdout",
     "output_type": "stream",
     "text": [
      "cv\n",
      "individual models\n"
     ]
    },
    {
     "name": "stderr",
     "output_type": "stream",
     "text": [
      "/home/wanlab/nick/.local/lib/python3.8/site-packages/xgboost/core.py:158: UserWarning: [11:45:44] WARNING: /workspace/src/learner.cc:740: \n",
      "Parameters: { \"use_label_encoder\" } are not used.\n",
      "\n",
      "  warnings.warn(smsg, UserWarning)\n"
     ]
    },
    {
     "name": "stdout",
     "output_type": "stream",
     "text": [
      "cv\n",
      "individual models\n"
     ]
    },
    {
     "name": "stderr",
     "output_type": "stream",
     "text": [
      "/home/wanlab/nick/.local/lib/python3.8/site-packages/xgboost/core.py:158: UserWarning: [11:45:55] WARNING: /workspace/src/learner.cc:740: \n",
      "Parameters: { \"use_label_encoder\" } are not used.\n",
      "\n",
      "  warnings.warn(smsg, UserWarning)\n"
     ]
    },
    {
     "name": "stdout",
     "output_type": "stream",
     "text": [
      "cv\n",
      "individual models\n"
     ]
    },
    {
     "name": "stderr",
     "output_type": "stream",
     "text": [
      "/home/wanlab/nick/.local/lib/python3.8/site-packages/xgboost/core.py:158: UserWarning: [11:46:07] WARNING: /workspace/src/learner.cc:740: \n",
      "Parameters: { \"use_label_encoder\" } are not used.\n",
      "\n",
      "  warnings.warn(smsg, UserWarning)\n"
     ]
    },
    {
     "name": "stdout",
     "output_type": "stream",
     "text": [
      "cv\n",
      "individual models\n"
     ]
    },
    {
     "name": "stderr",
     "output_type": "stream",
     "text": [
      "/home/wanlab/nick/.local/lib/python3.8/site-packages/xgboost/core.py:158: UserWarning: [11:46:19] WARNING: /workspace/src/learner.cc:740: \n",
      "Parameters: { \"use_label_encoder\" } are not used.\n",
      "\n",
      "  warnings.warn(smsg, UserWarning)\n"
     ]
    },
    {
     "name": "stdout",
     "output_type": "stream",
     "text": [
      "cv\n",
      "individual models\n"
     ]
    },
    {
     "name": "stderr",
     "output_type": "stream",
     "text": [
      "/home/wanlab/nick/.local/lib/python3.8/site-packages/xgboost/core.py:158: UserWarning: [11:46:30] WARNING: /workspace/src/learner.cc:740: \n",
      "Parameters: { \"use_label_encoder\" } are not used.\n",
      "\n",
      "  warnings.warn(smsg, UserWarning)\n"
     ]
    },
    {
     "name": "stdout",
     "output_type": "stream",
     "text": [
      "cv\n",
      "individual models\n"
     ]
    },
    {
     "name": "stderr",
     "output_type": "stream",
     "text": [
      "/home/wanlab/nick/.local/lib/python3.8/site-packages/xgboost/core.py:158: UserWarning: [11:46:42] WARNING: /workspace/src/learner.cc:740: \n",
      "Parameters: { \"use_label_encoder\" } are not used.\n",
      "\n",
      "  warnings.warn(smsg, UserWarning)\n"
     ]
    },
    {
     "name": "stdout",
     "output_type": "stream",
     "text": [
      "cv\n",
      "individual models\n"
     ]
    },
    {
     "name": "stderr",
     "output_type": "stream",
     "text": [
      "/home/wanlab/nick/.local/lib/python3.8/site-packages/xgboost/core.py:158: UserWarning: [11:46:53] WARNING: /workspace/src/learner.cc:740: \n",
      "Parameters: { \"use_label_encoder\" } are not used.\n",
      "\n",
      "  warnings.warn(smsg, UserWarning)\n"
     ]
    },
    {
     "name": "stdout",
     "output_type": "stream",
     "text": [
      "cv\n",
      "individual models\n"
     ]
    },
    {
     "name": "stderr",
     "output_type": "stream",
     "text": [
      "/home/wanlab/nick/.local/lib/python3.8/site-packages/xgboost/core.py:158: UserWarning: [11:47:04] WARNING: /workspace/src/learner.cc:740: \n",
      "Parameters: { \"use_label_encoder\" } are not used.\n",
      "\n",
      "  warnings.warn(smsg, UserWarning)\n"
     ]
    },
    {
     "name": "stdout",
     "output_type": "stream",
     "text": [
      "cv\n",
      "individual models\n"
     ]
    },
    {
     "name": "stderr",
     "output_type": "stream",
     "text": [
      "/home/wanlab/nick/.local/lib/python3.8/site-packages/xgboost/core.py:158: UserWarning: [11:47:16] WARNING: /workspace/src/learner.cc:740: \n",
      "Parameters: { \"use_label_encoder\" } are not used.\n",
      "\n",
      "  warnings.warn(smsg, UserWarning)\n"
     ]
    },
    {
     "name": "stdout",
     "output_type": "stream",
     "text": [
      "cv\n",
      "individual models\n"
     ]
    },
    {
     "name": "stderr",
     "output_type": "stream",
     "text": [
      "/home/wanlab/nick/.local/lib/python3.8/site-packages/xgboost/core.py:158: UserWarning: [11:47:27] WARNING: /workspace/src/learner.cc:740: \n",
      "Parameters: { \"use_label_encoder\" } are not used.\n",
      "\n",
      "  warnings.warn(smsg, UserWarning)\n"
     ]
    },
    {
     "name": "stdout",
     "output_type": "stream",
     "text": [
      "cv\n",
      "individual models\n"
     ]
    },
    {
     "name": "stderr",
     "output_type": "stream",
     "text": [
      "/home/wanlab/nick/.local/lib/python3.8/site-packages/xgboost/core.py:158: UserWarning: [11:47:39] WARNING: /workspace/src/learner.cc:740: \n",
      "Parameters: { \"use_label_encoder\" } are not used.\n",
      "\n",
      "  warnings.warn(smsg, UserWarning)\n"
     ]
    },
    {
     "name": "stdout",
     "output_type": "stream",
     "text": [
      "cv\n",
      "individual models\n"
     ]
    },
    {
     "name": "stderr",
     "output_type": "stream",
     "text": [
      "/home/wanlab/nick/.local/lib/python3.8/site-packages/xgboost/core.py:158: UserWarning: [11:47:50] WARNING: /workspace/src/learner.cc:740: \n",
      "Parameters: { \"use_label_encoder\" } are not used.\n",
      "\n",
      "  warnings.warn(smsg, UserWarning)\n"
     ]
    },
    {
     "name": "stdout",
     "output_type": "stream",
     "text": [
      "cv\n",
      "individual models\n"
     ]
    },
    {
     "name": "stderr",
     "output_type": "stream",
     "text": [
      "/home/wanlab/nick/.local/lib/python3.8/site-packages/xgboost/core.py:158: UserWarning: [11:48:02] WARNING: /workspace/src/learner.cc:740: \n",
      "Parameters: { \"use_label_encoder\" } are not used.\n",
      "\n",
      "  warnings.warn(smsg, UserWarning)\n"
     ]
    },
    {
     "name": "stdout",
     "output_type": "stream",
     "text": [
      "cv\n",
      "individual models\n"
     ]
    },
    {
     "name": "stderr",
     "output_type": "stream",
     "text": [
      "/home/wanlab/nick/.local/lib/python3.8/site-packages/xgboost/core.py:158: UserWarning: [11:48:14] WARNING: /workspace/src/learner.cc:740: \n",
      "Parameters: { \"use_label_encoder\" } are not used.\n",
      "\n",
      "  warnings.warn(smsg, UserWarning)\n"
     ]
    },
    {
     "name": "stdout",
     "output_type": "stream",
     "text": [
      "cv\n",
      "individual models\n"
     ]
    },
    {
     "name": "stderr",
     "output_type": "stream",
     "text": [
      "/home/wanlab/nick/.local/lib/python3.8/site-packages/xgboost/core.py:158: UserWarning: [11:48:26] WARNING: /workspace/src/learner.cc:740: \n",
      "Parameters: { \"use_label_encoder\" } are not used.\n",
      "\n",
      "  warnings.warn(smsg, UserWarning)\n"
     ]
    },
    {
     "name": "stdout",
     "output_type": "stream",
     "text": [
      "cv\n",
      "individual models\n"
     ]
    },
    {
     "name": "stderr",
     "output_type": "stream",
     "text": [
      "/home/wanlab/nick/.local/lib/python3.8/site-packages/xgboost/core.py:158: UserWarning: [11:48:37] WARNING: /workspace/src/learner.cc:740: \n",
      "Parameters: { \"use_label_encoder\" } are not used.\n",
      "\n",
      "  warnings.warn(smsg, UserWarning)\n"
     ]
    },
    {
     "name": "stdout",
     "output_type": "stream",
     "text": [
      "cv\n",
      "individual models\n"
     ]
    },
    {
     "name": "stderr",
     "output_type": "stream",
     "text": [
      "/home/wanlab/nick/.local/lib/python3.8/site-packages/xgboost/core.py:158: UserWarning: [11:48:49] WARNING: /workspace/src/learner.cc:740: \n",
      "Parameters: { \"use_label_encoder\" } are not used.\n",
      "\n",
      "  warnings.warn(smsg, UserWarning)\n"
     ]
    },
    {
     "name": "stdout",
     "output_type": "stream",
     "text": [
      "cv\n",
      "individual models\n"
     ]
    },
    {
     "name": "stderr",
     "output_type": "stream",
     "text": [
      "/home/wanlab/nick/.local/lib/python3.8/site-packages/xgboost/core.py:158: UserWarning: [11:49:01] WARNING: /workspace/src/learner.cc:740: \n",
      "Parameters: { \"use_label_encoder\" } are not used.\n",
      "\n",
      "  warnings.warn(smsg, UserWarning)\n"
     ]
    },
    {
     "name": "stdout",
     "output_type": "stream",
     "text": [
      "cv\n",
      "individual models\n"
     ]
    },
    {
     "name": "stderr",
     "output_type": "stream",
     "text": [
      "/home/wanlab/nick/.local/lib/python3.8/site-packages/xgboost/core.py:158: UserWarning: [11:49:13] WARNING: /workspace/src/learner.cc:740: \n",
      "Parameters: { \"use_label_encoder\" } are not used.\n",
      "\n",
      "  warnings.warn(smsg, UserWarning)\n"
     ]
    },
    {
     "name": "stdout",
     "output_type": "stream",
     "text": [
      "cv\n",
      "individual models\n"
     ]
    },
    {
     "name": "stderr",
     "output_type": "stream",
     "text": [
      "/home/wanlab/nick/.local/lib/python3.8/site-packages/xgboost/core.py:158: UserWarning: [11:49:24] WARNING: /workspace/src/learner.cc:740: \n",
      "Parameters: { \"use_label_encoder\" } are not used.\n",
      "\n",
      "  warnings.warn(smsg, UserWarning)\n"
     ]
    },
    {
     "name": "stdout",
     "output_type": "stream",
     "text": [
      "cv\n",
      "individual models\n"
     ]
    },
    {
     "name": "stderr",
     "output_type": "stream",
     "text": [
      "/home/wanlab/nick/.local/lib/python3.8/site-packages/xgboost/core.py:158: UserWarning: [11:49:36] WARNING: /workspace/src/learner.cc:740: \n",
      "Parameters: { \"use_label_encoder\" } are not used.\n",
      "\n",
      "  warnings.warn(smsg, UserWarning)\n"
     ]
    },
    {
     "name": "stdout",
     "output_type": "stream",
     "text": [
      "cv\n",
      "individual models\n"
     ]
    },
    {
     "name": "stderr",
     "output_type": "stream",
     "text": [
      "/home/wanlab/nick/.local/lib/python3.8/site-packages/xgboost/core.py:158: UserWarning: [11:49:47] WARNING: /workspace/src/learner.cc:740: \n",
      "Parameters: { \"use_label_encoder\" } are not used.\n",
      "\n",
      "  warnings.warn(smsg, UserWarning)\n"
     ]
    },
    {
     "name": "stdout",
     "output_type": "stream",
     "text": [
      "cv\n",
      "individual models\n"
     ]
    },
    {
     "name": "stderr",
     "output_type": "stream",
     "text": [
      "/home/wanlab/nick/.local/lib/python3.8/site-packages/xgboost/core.py:158: UserWarning: [11:49:59] WARNING: /workspace/src/learner.cc:740: \n",
      "Parameters: { \"use_label_encoder\" } are not used.\n",
      "\n",
      "  warnings.warn(smsg, UserWarning)\n"
     ]
    },
    {
     "name": "stdout",
     "output_type": "stream",
     "text": [
      "cv\n",
      "individual models\n"
     ]
    },
    {
     "name": "stderr",
     "output_type": "stream",
     "text": [
      "/home/wanlab/nick/.local/lib/python3.8/site-packages/xgboost/core.py:158: UserWarning: [11:50:10] WARNING: /workspace/src/learner.cc:740: \n",
      "Parameters: { \"use_label_encoder\" } are not used.\n",
      "\n",
      "  warnings.warn(smsg, UserWarning)\n"
     ]
    },
    {
     "name": "stdout",
     "output_type": "stream",
     "text": [
      "cv\n",
      "individual models\n"
     ]
    },
    {
     "name": "stderr",
     "output_type": "stream",
     "text": [
      "/home/wanlab/nick/.local/lib/python3.8/site-packages/xgboost/core.py:158: UserWarning: [11:50:22] WARNING: /workspace/src/learner.cc:740: \n",
      "Parameters: { \"use_label_encoder\" } are not used.\n",
      "\n",
      "  warnings.warn(smsg, UserWarning)\n"
     ]
    },
    {
     "name": "stdout",
     "output_type": "stream",
     "text": [
      "cv\n",
      "\n",
      "model score of oof results for SVC\n",
      "Model Accuracy: 0.8854166666666666\n",
      "Precision: 0.891441968525302\n",
      "Recall (Sensitivity): 0.8854166666666666\n",
      "F1 Score: 0.8857571122577969\n",
      "Matthews Correlation Coefficient (MCC): 0.847046869768925\n",
      "G-Measure: 0.9229308733968031\n",
      "AUC: 0.9884794245269597\n",
      "Specificity: 0.9613969803670508\n",
      "Jaccard Index: 0.7977251412244541\n",
      "Saving metrics to: /work/wanlab/nick//stackeval7/val_data/individual models/SVC/limma(0),metrics.csv\n",
      "PREDICTIONS                   subtype  Squamous      ADEX  Pancreatic Progenitor  \\\n",
      "0   Pancreatic Progenitor  0.108958  0.039424               0.826961   \n",
      "1                    ADEX  0.036849  0.887648               0.020806   \n",
      "2   Pancreatic Progenitor  0.234056  0.216495               0.516802   \n",
      "3   Pancreatic Progenitor  0.004954  0.053454               0.910645   \n",
      "4                    ADEX  0.121599  0.677733               0.180381   \n",
      "..                    ...       ...       ...                    ...   \n",
      "91            Immunogenic  0.006888  0.054208               0.007965   \n",
      "92                   ADEX  0.007616  0.817637               0.128871   \n",
      "93            Immunogenic  0.042016  0.037184               0.394582   \n",
      "94               Squamous  0.607321  0.058302               0.303060   \n",
      "95  Pancreatic Progenitor  0.002219  0.037308               0.825304   \n",
      "\n",
      "    Immunogenic  \n",
      "0      0.024658  \n",
      "1      0.054697  \n",
      "2      0.032648  \n",
      "3      0.030947  \n",
      "4      0.020287  \n",
      "..          ...  \n",
      "91     0.930939  \n",
      "92     0.045877  \n",
      "93     0.526218  \n",
      "94     0.031318  \n",
      "95     0.135169  \n",
      "\n",
      "[96 rows x 5 columns]\n",
      "\n",
      "model score of oof results for SVC2\n",
      "Model Accuracy: 0.9375\n",
      "Precision: 0.9378672542735043\n",
      "Recall (Sensitivity): 0.9375\n",
      "F1 Score: 0.9374874949979993\n",
      "Matthews Correlation Coefficient (MCC): 0.9155529545059609\n",
      "G-Measure: 0.9579504330083998\n",
      "AUC: 0.987726516929862\n",
      "Specificity: 0.9787358621425523\n",
      "Jaccard Index: 0.882714303670186\n",
      "Saving metrics to: /work/wanlab/nick//stackeval7/val_data/individual models/SVC2/limma(0),metrics.csv\n",
      "PREDICTIONS                   subtype  Squamous      ADEX  Pancreatic Progenitor  \\\n",
      "0   Pancreatic Progenitor  0.166942  0.040787               0.756389   \n",
      "1                    ADEX  0.083482  0.802092               0.033381   \n",
      "2   Pancreatic Progenitor  0.335557  0.155780               0.469163   \n",
      "3   Pancreatic Progenitor  0.015906  0.085601               0.860058   \n",
      "4                    ADEX  0.259939  0.463394               0.244583   \n",
      "..                    ...       ...       ...                    ...   \n",
      "91            Immunogenic  0.019138  0.096182               0.016309   \n",
      "92                   ADEX  0.025171  0.793108               0.096761   \n",
      "93            Immunogenic  0.091832  0.025035               0.673726   \n",
      "94               Squamous  0.583371  0.025762               0.368077   \n",
      "95  Pancreatic Progenitor  0.004285  0.029291               0.745774   \n",
      "\n",
      "    Immunogenic  \n",
      "0      0.035881  \n",
      "1      0.081045  \n",
      "2      0.039500  \n",
      "3      0.038435  \n",
      "4      0.032084  \n",
      "..          ...  \n",
      "91     0.868371  \n",
      "92     0.084960  \n",
      "93     0.209407  \n",
      "94     0.022790  \n",
      "95     0.220650  \n",
      "\n",
      "[96 rows x 5 columns]\n",
      "\n",
      "model score of oof results for XGBClassifier\n",
      "Model Accuracy: 0.8958333333333334\n",
      "Precision: 0.8980353036908744\n",
      "Recall (Sensitivity): 0.8958333333333334\n",
      "F1 Score: 0.8939833840972847\n",
      "Matthews Correlation Coefficient (MCC): 0.8599347653521981\n",
      "G-Measure: 0.9191232154034474\n",
      "AUC: 0.980168487249253\n",
      "Specificity: 0.9643846030729835\n",
      "Jaccard Index: 0.7975085541008462\n",
      "Saving metrics to: /work/wanlab/nick//stackeval7/val_data/individual models/XGBClassifier/limma(0),metrics.csv\n",
      "PREDICTIONS                   subtype  Squamous      ADEX  Pancreatic Progenitor  \\\n",
      "0   Pancreatic Progenitor  0.010496  0.004265               0.979689   \n",
      "1                    ADEX  0.009075  0.971340               0.010060   \n",
      "2   Pancreatic Progenitor  0.324684  0.116739               0.423451   \n",
      "3   Pancreatic Progenitor  0.035251  0.015652               0.932271   \n",
      "4                    ADEX  0.019062  0.938530               0.032673   \n",
      "..                    ...       ...       ...                    ...   \n",
      "91            Immunogenic  0.003353  0.144402               0.006780   \n",
      "92                   ADEX  0.085751  0.291449               0.230912   \n",
      "93            Immunogenic  0.006942  0.004306               0.017895   \n",
      "94               Squamous  0.557425  0.083944               0.236529   \n",
      "95  Pancreatic Progenitor  0.076111  0.088864               0.516777   \n",
      "\n",
      "    Immunogenic  \n",
      "0      0.005550  \n",
      "1      0.009525  \n",
      "2      0.135126  \n",
      "3      0.016826  \n",
      "4      0.009735  \n",
      "..          ...  \n",
      "91     0.845465  \n",
      "92     0.391888  \n",
      "93     0.970856  \n",
      "94     0.122102  \n",
      "95     0.318248  \n",
      "\n",
      "[96 rows x 5 columns]\n",
      "\n",
      "model score of oof results for KNeighborsClassifier\n",
      "Model Accuracy: 0.8125\n",
      "Precision: 0.8199310816498316\n",
      "Recall (Sensitivity): 0.8125\n",
      "F1 Score: 0.8125190781440782\n",
      "Matthews Correlation Coefficient (MCC): 0.7460321678003263\n",
      "G-Measure: 0.8633985462943907\n",
      "AUC: 0.9584949683898847\n",
      "Specificity: 0.9348818288518993\n",
      "Jaccard Index: 0.6830932288025566\n",
      "Saving metrics to: /work/wanlab/nick//stackeval7/val_data/individual models/KNeighborsClassifier/limma(0),metrics.csv\n",
      "PREDICTIONS                   subtype  Squamous  ADEX  Pancreatic Progenitor  Immunogenic\n",
      "0   Pancreatic Progenitor       0.2   0.0                    0.8          0.0\n",
      "1                    ADEX       0.0   1.0                    0.0          0.0\n",
      "2   Pancreatic Progenitor       0.4   0.0                    0.6          0.0\n",
      "3   Pancreatic Progenitor       0.0   0.0                    1.0          0.0\n",
      "4                    ADEX       0.4   0.2                    0.4          0.0\n",
      "..                    ...       ...   ...                    ...          ...\n",
      "91            Immunogenic       0.0   0.0                    0.0          1.0\n",
      "92                   ADEX       0.0   0.6                    0.4          0.0\n",
      "93            Immunogenic       0.0   0.0                    0.4          0.6\n",
      "94               Squamous       0.4   0.0                    0.6          0.0\n",
      "95  Pancreatic Progenitor       0.0   0.0                    0.6          0.4\n",
      "\n",
      "[96 rows x 5 columns]\n",
      "运行时间为: 1120.80 秒\n",
      "combining [[0.10895793 0.03942367 0.82696082 ... 0.         0.8        0.        ]\n",
      " [0.03684857 0.88764833 0.02080602 ... 1.         0.         0.        ]\n",
      " [0.23405552 0.21649451 0.51680159 ... 0.         0.6        0.        ]\n",
      " ...\n",
      " [0.04201583 0.03718404 0.39458233 ... 0.         0.4        0.6       ]\n",
      " [0.60732092 0.05830195 0.30305955 ... 0.         0.6        0.        ]\n",
      " [0.00221932 0.03730773 0.8253039  ... 0.         0.6        0.4       ]] [[13.56018914 12.68466835 13.10243664 ...  9.53005478 11.16103308\n",
      "  11.24920229]\n",
      " [15.4259582  14.08525845 12.01110512 ...  9.45622747 11.12707631\n",
      "  11.78331935]\n",
      " [14.4756837  13.26517897 12.82291838 ...  9.65623065 11.33179862\n",
      "  11.68015036]\n",
      " ...\n",
      " [14.28976923 13.62192201 12.67277184 ...  9.32578912  9.67174085\n",
      "  11.45401981]\n",
      " [14.71684472 13.81278796 13.58508909 ... 10.31590684 12.7838795\n",
      "  11.90067493]\n",
      " [14.18823419 12.92657629 11.70868561 ...  9.88942006  9.76636631\n",
      "  12.84604452]]\n",
      "stacked\n",
      "cv\n",
      "stacked\n",
      "cv\n",
      "stacked\n",
      "cv\n",
      "stacked\n",
      "cv\n",
      "stacked\n",
      "cv\n",
      "stacked\n",
      "cv\n",
      "stacked\n",
      "cv\n",
      "stacked\n",
      "cv\n",
      "stacked\n",
      "cv\n",
      "stacked\n",
      "cv\n",
      "stacked\n",
      "cv\n",
      "stacked\n",
      "cv\n",
      "stacked\n",
      "cv\n",
      "stacked\n",
      "cv\n",
      "stacked\n",
      "cv\n",
      "stacked\n",
      "cv\n",
      "stacked\n",
      "cv\n",
      "stacked\n",
      "cv\n",
      "stacked\n",
      "cv\n",
      "stacked\n",
      "cv\n",
      "stacked\n",
      "cv\n",
      "stacked\n",
      "cv\n",
      "stacked\n",
      "cv\n",
      "stacked\n",
      "cv\n",
      "stacked\n",
      "cv\n",
      "stacked\n",
      "cv\n",
      "stacked\n",
      "cv\n",
      "stacked\n",
      "cv\n",
      "stacked\n",
      "cv\n",
      "stacked\n",
      "cv\n",
      "stacked\n",
      "cv\n",
      "stacked\n",
      "cv\n",
      "stacked\n",
      "cv\n",
      "stacked\n",
      "cv\n",
      "stacked\n",
      "cv\n",
      "stacked\n",
      "cv\n",
      "stacked\n",
      "cv\n",
      "stacked\n",
      "cv\n",
      "stacked\n",
      "cv\n",
      "stacked\n",
      "cv\n",
      "stacked\n",
      "cv\n",
      "stacked\n",
      "cv\n",
      "stacked\n",
      "cv\n",
      "stacked\n",
      "cv\n",
      "stacked\n",
      "cv\n",
      "stacked\n",
      "cv\n",
      "stacked\n",
      "cv\n",
      "stacked\n",
      "cv\n",
      "stacked\n",
      "cv\n",
      "stacked\n",
      "cv\n",
      "stacked\n",
      "cv\n",
      "stacked\n",
      "cv\n",
      "stacked\n",
      "cv\n",
      "stacked\n",
      "cv\n",
      "stacked\n",
      "cv\n",
      "stacked\n",
      "cv\n",
      "stacked\n",
      "cv\n",
      "stacked\n",
      "cv\n",
      "stacked\n",
      "cv\n",
      "stacked\n",
      "cv\n",
      "stacked\n",
      "cv\n",
      "stacked\n",
      "cv\n",
      "stacked\n",
      "cv\n",
      "stacked\n",
      "cv\n",
      "stacked\n",
      "cv\n",
      "stacked\n",
      "cv\n",
      "stacked\n",
      "cv\n",
      "stacked\n",
      "cv\n",
      "stacked\n",
      "cv\n",
      "stacked\n",
      "cv\n",
      "stacked\n",
      "cv\n",
      "stacked\n",
      "cv\n",
      "stacked\n",
      "cv\n",
      "stacked\n",
      "cv\n",
      "stacked\n",
      "cv\n",
      "stacked\n",
      "cv\n",
      "stacked\n",
      "cv\n",
      "stacked\n",
      "cv\n",
      "stacked\n",
      "cv\n",
      "stacked\n",
      "cv\n",
      "stacked\n",
      "cv\n",
      "stacked\n",
      "cv\n",
      "stacked\n",
      "cv\n",
      "stacked\n",
      "cv\n",
      "stacked\n",
      "cv\n",
      "stacked\n",
      "cv\n",
      "stacked\n",
      "cv\n",
      "stacked\n",
      "cv\n",
      "stacked\n",
      "cv\n",
      "stacked\n",
      "cv\n",
      "stacked\n",
      "cv\n",
      "stacked\n",
      "cv\n",
      "stacked\n",
      "cv\n",
      "stacked\n",
      "cv\n",
      "stacked\n",
      "cv\n",
      "stacked\n",
      "cv\n",
      "\n",
      "model score of oof results for MLPClassifier\n",
      "Model Accuracy: 0.5833333333333334\n",
      "Precision: 0.5825531376518219\n",
      "Recall (Sensitivity): 0.5833333333333334\n",
      "F1 Score: 0.5814980158730159\n",
      "Matthews Correlation Coefficient (MCC): 0.44082951926378666\n",
      "G-Measure: 0.7097051184940449\n",
      "AUC: 0.8115093496585574\n",
      "Specificity: 0.8596484208279982\n",
      "Jaccard Index: 0.4159077356751775\n",
      "Saving metrics to: /work/wanlab/nick//stackeval7/val_data/stacked/MLPClassifier/limma(0),metrics.csv\n",
      "PREDICTIONS                   subtype      Squamous          ADEX  Pancreatic Progenitor  \\\n",
      "0             Immunogenic  1.812072e-05  9.215822e-07               0.002013   \n",
      "1                    ADEX  4.851806e-02  3.257890e-03               0.947494   \n",
      "2   Pancreatic Progenitor  1.178112e-10  2.658929e-03               0.053225   \n",
      "3   Pancreatic Progenitor  4.638828e-05  2.100123e-05               0.257867   \n",
      "4   Pancreatic Progenitor  8.732720e-02  3.001006e-05               0.888061   \n",
      "..                    ...           ...           ...                    ...   \n",
      "91                   ADEX  1.275336e-05  7.427390e-01               0.014146   \n",
      "92               Squamous  9.989842e-01  1.547146e-08               0.000982   \n",
      "93                   ADEX  3.318048e-04  8.707971e-01               0.092248   \n",
      "94  Pancreatic Progenitor  9.393386e-06  1.761469e-01               0.003271   \n",
      "95               Squamous  9.349003e-01  9.340796e-03               0.000006   \n",
      "\n",
      "    Immunogenic  \n",
      "0      0.997967  \n",
      "1      0.000730  \n",
      "2      0.944116  \n",
      "3      0.742066  \n",
      "4      0.024582  \n",
      "..          ...  \n",
      "91     0.243102  \n",
      "92     0.000033  \n",
      "93     0.036623  \n",
      "94     0.820572  \n",
      "95     0.055753  \n",
      "\n",
      "[96 rows x 5 columns]\n",
      "\n",
      "model score of oof results for RandomForestClassifier\n",
      "Model Accuracy: 0.84375\n",
      "Precision: 0.8506670714551149\n",
      "Recall (Sensitivity): 0.84375\n",
      "F1 Score: 0.8424672753716872\n",
      "Matthews Correlation Coefficient (MCC): 0.7893865706811334\n",
      "G-Measure: 0.881824699779002\n",
      "AUC: 0.9853577589273012\n",
      "Specificity: 0.9454452091335894\n",
      "Jaccard Index: 0.7233248562582928\n",
      "Saving metrics to: /work/wanlab/nick//stackeval7/val_data/stacked/RandomForestClassifier/limma(0),metrics.csv\n",
      "PREDICTIONS                   subtype  Squamous  ADEX  Pancreatic Progenitor  Immunogenic\n",
      "0             Immunogenic      0.07  0.11                   0.01         0.81\n",
      "1                    ADEX      0.16  0.36                   0.38         0.10\n",
      "2   Pancreatic Progenitor      0.06  0.10                   0.47         0.37\n",
      "3   Pancreatic Progenitor      0.03  0.16                   0.76         0.05\n",
      "4   Pancreatic Progenitor      0.15  0.09                   0.71         0.05\n",
      "..                    ...       ...   ...                    ...          ...\n",
      "91                   ADEX      0.07  0.40                   0.17         0.36\n",
      "92               Squamous      0.89  0.02                   0.06         0.03\n",
      "93                   ADEX      0.19  0.47                   0.27         0.07\n",
      "94  Pancreatic Progenitor      0.04  0.49                   0.41         0.06\n",
      "95               Squamous      0.46  0.26                   0.23         0.05\n",
      "\n",
      "[96 rows x 5 columns]\n",
      "\n",
      "model score of oof results for LogisticRegression2\n",
      "Model Accuracy: 0.90625\n",
      "Precision: 0.907241010904804\n",
      "Recall (Sensitivity): 0.90625\n",
      "F1 Score: 0.9063258253912099\n",
      "Matthews Correlation Coefficient (MCC): 0.8733101573111083\n",
      "G-Measure: 0.9352788514023854\n",
      "AUC: 0.987585527368758\n",
      "Specificity: 0.9681724818608621\n",
      "Jaccard Index: 0.8275341386554622\n",
      "Saving metrics to: /work/wanlab/nick//stackeval7/val_data/stacked/LogisticRegression2/limma(0),metrics.csv\n",
      "PREDICTIONS                   subtype      Squamous          ADEX  Pancreatic Progenitor  \\\n",
      "0             Immunogenic  3.646520e-09  9.967530e-10           2.281232e-10   \n",
      "1                    ADEX  1.160583e-04  8.835996e-01           1.151134e-01   \n",
      "2   Pancreatic Progenitor  4.303360e-09  4.564909e-06           9.879905e-01   \n",
      "3   Pancreatic Progenitor  8.366371e-06  7.663407e-03           9.914631e-01   \n",
      "4   Pancreatic Progenitor  4.393659e-05  5.480990e-04           9.994079e-01   \n",
      "..                    ...           ...           ...                    ...   \n",
      "91                   ADEX  3.292983e-07  9.373864e-01           2.261520e-02   \n",
      "92               Squamous  1.000000e+00  8.969299e-13           4.632078e-13   \n",
      "93                   ADEX  2.205240e-04  9.823618e-01           1.738988e-02   \n",
      "94  Pancreatic Progenitor  1.807691e-07  6.661702e-01           3.325387e-01   \n",
      "95               Squamous  6.532170e-01  3.247640e-01           2.200202e-02   \n",
      "\n",
      "     Immunogenic  \n",
      "0   1.000000e+00  \n",
      "1   1.170889e-03  \n",
      "2   1.200498e-02  \n",
      "3   8.651683e-04  \n",
      "4   9.152910e-08  \n",
      "..           ...  \n",
      "91  3.999803e-02  \n",
      "92  5.580528e-09  \n",
      "93  2.779654e-05  \n",
      "94  1.290889e-03  \n",
      "95  1.699213e-05  \n",
      "\n",
      "[96 rows x 5 columns]\n",
      "\n",
      "model score of oof results for GaussianNB2\n",
      "Model Accuracy: 0.8020833333333334\n",
      "Precision: 0.8036991648511257\n",
      "Recall (Sensitivity): 0.8020833333333334\n",
      "F1 Score: 0.7958233173076922\n",
      "Matthews Correlation Coefficient (MCC): 0.7323446571583454\n",
      "G-Measure: 0.8421602509277905\n",
      "AUC: 0.9294049651444016\n",
      "Specificity: 0.9314900768245838\n",
      "Jaccard Index: 0.6506778661951076\n",
      "Saving metrics to: /work/wanlab/nick//stackeval7/val_data/stacked/GaussianNB2/limma(0),metrics.csv\n",
      "PREDICTIONS                   subtype  Squamous          ADEX  Pancreatic Progenitor  \\\n",
      "0             Immunogenic    0.0000  0.000000e+00           0.000000e+00   \n",
      "1                    ADEX    0.0000  1.000000e+00           0.000000e+00   \n",
      "2   Pancreatic Progenitor    0.0000  0.000000e+00           1.000000e+00   \n",
      "3   Pancreatic Progenitor    0.0000  0.000000e+00           1.000000e+00   \n",
      "4   Pancreatic Progenitor    0.0000  0.000000e+00           1.000000e+00   \n",
      "..                    ...       ...           ...                    ...   \n",
      "91                   ADEX    0.0000  0.000000e+00          2.631575e-121   \n",
      "92               Squamous    1.0000  0.000000e+00           0.000000e+00   \n",
      "93                   ADEX    0.0000  1.205065e-57           1.000000e+00   \n",
      "94  Pancreatic Progenitor    0.0000  1.000000e+00           2.388250e-88   \n",
      "95               Squamous    0.9948  5.199573e-03          4.346961e-168   \n",
      "\n",
      "    Immunogenic  \n",
      "0           1.0  \n",
      "1           0.0  \n",
      "2           0.0  \n",
      "3           0.0  \n",
      "4           0.0  \n",
      "..          ...  \n",
      "91          1.0  \n",
      "92          0.0  \n",
      "93          0.0  \n",
      "94          0.0  \n",
      "95          0.0  \n",
      "\n",
      "[96 rows x 5 columns]\n",
      "\n",
      "model score of oof results for SVC3\n",
      "Model Accuracy: 0.8958333333333334\n",
      "Precision: 0.9014314967439967\n",
      "Recall (Sensitivity): 0.8958333333333334\n",
      "F1 Score: 0.8959621195146911\n",
      "Matthews Correlation Coefficient (MCC): 0.8611520734979478\n",
      "G-Measure: 0.9297818443861738\n",
      "AUC: 0.9858852610613175\n",
      "Specificity: 0.9649181071276142\n",
      "Jaccard Index: 0.8134476371193639\n",
      "Saving metrics to: /work/wanlab/nick//stackeval7/val_data/stacked/SVC3/limma(0),metrics.csv\n",
      "PREDICTIONS                   subtype  Squamous      ADEX  Pancreatic Progenitor  \\\n",
      "0             Immunogenic  0.003299  0.002587               0.001556   \n",
      "1                    ADEX  0.017292  0.903842               0.062694   \n",
      "2   Pancreatic Progenitor  0.002051  0.022609               0.854788   \n",
      "3   Pancreatic Progenitor  0.007827  0.073859               0.849323   \n",
      "4   Pancreatic Progenitor  0.027167  0.054844               0.913417   \n",
      "..                    ...       ...       ...                    ...   \n",
      "91                   ADEX  0.006838  0.690132               0.087259   \n",
      "92               Squamous  0.993122  0.000717               0.000286   \n",
      "93                   ADEX  0.079912  0.739489               0.150345   \n",
      "94  Pancreatic Progenitor  0.002984  0.747030               0.217701   \n",
      "95               Squamous  0.407153  0.398792               0.176530   \n",
      "\n",
      "    Immunogenic  \n",
      "0      0.992558  \n",
      "1      0.016171  \n",
      "2      0.120553  \n",
      "3      0.068991  \n",
      "4      0.004572  \n",
      "..          ...  \n",
      "91     0.215771  \n",
      "92     0.005875  \n",
      "93     0.030253  \n",
      "94     0.032285  \n",
      "95     0.017525  \n",
      "\n",
      "[96 rows x 5 columns]\n",
      "\n",
      "model score of oof results for SVC4\n",
      "Model Accuracy: 0.9375\n",
      "Precision: 0.9378672542735043\n",
      "Recall (Sensitivity): 0.9375\n",
      "F1 Score: 0.9374874949979993\n",
      "Matthews Correlation Coefficient (MCC): 0.9155529545059609\n",
      "G-Measure: 0.9579504330083998\n",
      "AUC: 0.9859326095461659\n",
      "Specificity: 0.9787358621425523\n",
      "Jaccard Index: 0.882714303670186\n",
      "Saving metrics to: /work/wanlab/nick//stackeval7/val_data/stacked/SVC4/limma(0),metrics.csv\n",
      "PREDICTIONS                   subtype  Squamous      ADEX  Pancreatic Progenitor  \\\n",
      "0             Immunogenic  0.003238  0.001219               0.000955   \n",
      "1                    ADEX  0.041122  0.575836               0.344681   \n",
      "2   Pancreatic Progenitor  0.003546  0.024884               0.757095   \n",
      "3   Pancreatic Progenitor  0.013763  0.078629               0.849881   \n",
      "4   Pancreatic Progenitor  0.036247  0.046817               0.911615   \n",
      "..                    ...       ...       ...                    ...   \n",
      "91                   ADEX  0.009463  0.698067               0.115868   \n",
      "92               Squamous  0.994879  0.000097               0.000185   \n",
      "93                   ADEX  0.054758  0.795030               0.116119   \n",
      "94  Pancreatic Progenitor  0.009709  0.642975               0.305417   \n",
      "95               Squamous  0.394384  0.393297               0.185363   \n",
      "\n",
      "    Immunogenic  \n",
      "0      0.994587  \n",
      "1      0.038361  \n",
      "2      0.214475  \n",
      "3      0.057727  \n",
      "4      0.005321  \n",
      "..          ...  \n",
      "91     0.176602  \n",
      "92     0.004839  \n",
      "93     0.034093  \n",
      "94     0.041899  \n",
      "95     0.026956  \n",
      "\n",
      "[96 rows x 5 columns]\n",
      "run 8\n",
      "Model Pair: SVC + SVC + XGBClassifier + QuadraticDiscriminantAnalysis\n",
      "USEDmodelnames ['SVC', 'SVC2', 'XGBClassifier', 'QuadraticDiscriminantAnalysis']\n",
      "Running with: SVC and SVC and XGBClassifier and QuadraticDiscriminantAnalysis\n",
      "Random state: 0\n",
      "['SVC', 'SVC2', 'XGBClassifier', 'QuadraticDiscriminantAnalysis']\n",
      "individual models\n"
     ]
    },
    {
     "name": "stderr",
     "output_type": "stream",
     "text": [
      "/home/wanlab/nick/.local/lib/python3.8/site-packages/xgboost/core.py:158: UserWarning: [12:03:09] WARNING: /workspace/src/learner.cc:740: \n",
      "Parameters: { \"use_label_encoder\" } are not used.\n",
      "\n",
      "  warnings.warn(smsg, UserWarning)\n",
      "/home/wanlab/nick/.local/lib/python3.8/site-packages/sklearn/discriminant_analysis.py:935: UserWarning: Variables are collinear\n",
      "  warnings.warn(\"Variables are collinear\")\n"
     ]
    },
    {
     "name": "stdout",
     "output_type": "stream",
     "text": [
      "cv\n",
      "individual models\n"
     ]
    },
    {
     "name": "stderr",
     "output_type": "stream",
     "text": [
      "/home/wanlab/nick/.local/lib/python3.8/site-packages/xgboost/core.py:158: UserWarning: [12:03:21] WARNING: /workspace/src/learner.cc:740: \n",
      "Parameters: { \"use_label_encoder\" } are not used.\n",
      "\n",
      "  warnings.warn(smsg, UserWarning)\n",
      "/home/wanlab/nick/.local/lib/python3.8/site-packages/sklearn/discriminant_analysis.py:935: UserWarning: Variables are collinear\n",
      "  warnings.warn(\"Variables are collinear\")\n"
     ]
    },
    {
     "name": "stdout",
     "output_type": "stream",
     "text": [
      "cv\n",
      "individual models\n"
     ]
    },
    {
     "name": "stderr",
     "output_type": "stream",
     "text": [
      "/home/wanlab/nick/.local/lib/python3.8/site-packages/xgboost/core.py:158: UserWarning: [12:03:33] WARNING: /workspace/src/learner.cc:740: \n",
      "Parameters: { \"use_label_encoder\" } are not used.\n",
      "\n",
      "  warnings.warn(smsg, UserWarning)\n",
      "/home/wanlab/nick/.local/lib/python3.8/site-packages/sklearn/discriminant_analysis.py:935: UserWarning: Variables are collinear\n",
      "  warnings.warn(\"Variables are collinear\")\n"
     ]
    },
    {
     "name": "stdout",
     "output_type": "stream",
     "text": [
      "cv\n",
      "individual models\n"
     ]
    },
    {
     "name": "stderr",
     "output_type": "stream",
     "text": [
      "/home/wanlab/nick/.local/lib/python3.8/site-packages/xgboost/core.py:158: UserWarning: [12:03:45] WARNING: /workspace/src/learner.cc:740: \n",
      "Parameters: { \"use_label_encoder\" } are not used.\n",
      "\n",
      "  warnings.warn(smsg, UserWarning)\n",
      "/home/wanlab/nick/.local/lib/python3.8/site-packages/sklearn/discriminant_analysis.py:935: UserWarning: Variables are collinear\n",
      "  warnings.warn(\"Variables are collinear\")\n"
     ]
    },
    {
     "name": "stdout",
     "output_type": "stream",
     "text": [
      "cv\n",
      "individual models\n"
     ]
    },
    {
     "name": "stderr",
     "output_type": "stream",
     "text": [
      "/home/wanlab/nick/.local/lib/python3.8/site-packages/xgboost/core.py:158: UserWarning: [12:03:57] WARNING: /workspace/src/learner.cc:740: \n",
      "Parameters: { \"use_label_encoder\" } are not used.\n",
      "\n",
      "  warnings.warn(smsg, UserWarning)\n",
      "/home/wanlab/nick/.local/lib/python3.8/site-packages/sklearn/discriminant_analysis.py:935: UserWarning: Variables are collinear\n",
      "  warnings.warn(\"Variables are collinear\")\n"
     ]
    },
    {
     "name": "stdout",
     "output_type": "stream",
     "text": [
      "cv\n",
      "individual models\n"
     ]
    },
    {
     "name": "stderr",
     "output_type": "stream",
     "text": [
      "/home/wanlab/nick/.local/lib/python3.8/site-packages/xgboost/core.py:158: UserWarning: [12:04:10] WARNING: /workspace/src/learner.cc:740: \n",
      "Parameters: { \"use_label_encoder\" } are not used.\n",
      "\n",
      "  warnings.warn(smsg, UserWarning)\n",
      "/home/wanlab/nick/.local/lib/python3.8/site-packages/sklearn/discriminant_analysis.py:935: UserWarning: Variables are collinear\n",
      "  warnings.warn(\"Variables are collinear\")\n"
     ]
    },
    {
     "name": "stdout",
     "output_type": "stream",
     "text": [
      "cv\n",
      "individual models\n"
     ]
    },
    {
     "name": "stderr",
     "output_type": "stream",
     "text": [
      "/home/wanlab/nick/.local/lib/python3.8/site-packages/xgboost/core.py:158: UserWarning: [12:04:22] WARNING: /workspace/src/learner.cc:740: \n",
      "Parameters: { \"use_label_encoder\" } are not used.\n",
      "\n",
      "  warnings.warn(smsg, UserWarning)\n",
      "/home/wanlab/nick/.local/lib/python3.8/site-packages/sklearn/discriminant_analysis.py:935: UserWarning: Variables are collinear\n",
      "  warnings.warn(\"Variables are collinear\")\n"
     ]
    },
    {
     "name": "stdout",
     "output_type": "stream",
     "text": [
      "cv\n",
      "individual models\n"
     ]
    },
    {
     "name": "stderr",
     "output_type": "stream",
     "text": [
      "/home/wanlab/nick/.local/lib/python3.8/site-packages/xgboost/core.py:158: UserWarning: [12:04:33] WARNING: /workspace/src/learner.cc:740: \n",
      "Parameters: { \"use_label_encoder\" } are not used.\n",
      "\n",
      "  warnings.warn(smsg, UserWarning)\n",
      "/home/wanlab/nick/.local/lib/python3.8/site-packages/sklearn/discriminant_analysis.py:935: UserWarning: Variables are collinear\n",
      "  warnings.warn(\"Variables are collinear\")\n"
     ]
    },
    {
     "name": "stdout",
     "output_type": "stream",
     "text": [
      "cv\n",
      "individual models\n"
     ]
    },
    {
     "name": "stderr",
     "output_type": "stream",
     "text": [
      "/home/wanlab/nick/.local/lib/python3.8/site-packages/xgboost/core.py:158: UserWarning: [12:04:45] WARNING: /workspace/src/learner.cc:740: \n",
      "Parameters: { \"use_label_encoder\" } are not used.\n",
      "\n",
      "  warnings.warn(smsg, UserWarning)\n",
      "/home/wanlab/nick/.local/lib/python3.8/site-packages/sklearn/discriminant_analysis.py:935: UserWarning: Variables are collinear\n",
      "  warnings.warn(\"Variables are collinear\")\n"
     ]
    },
    {
     "name": "stdout",
     "output_type": "stream",
     "text": [
      "cv\n",
      "individual models\n"
     ]
    },
    {
     "name": "stderr",
     "output_type": "stream",
     "text": [
      "/home/wanlab/nick/.local/lib/python3.8/site-packages/xgboost/core.py:158: UserWarning: [12:04:57] WARNING: /workspace/src/learner.cc:740: \n",
      "Parameters: { \"use_label_encoder\" } are not used.\n",
      "\n",
      "  warnings.warn(smsg, UserWarning)\n",
      "/home/wanlab/nick/.local/lib/python3.8/site-packages/sklearn/discriminant_analysis.py:935: UserWarning: Variables are collinear\n",
      "  warnings.warn(\"Variables are collinear\")\n"
     ]
    },
    {
     "name": "stdout",
     "output_type": "stream",
     "text": [
      "cv\n",
      "individual models\n"
     ]
    },
    {
     "name": "stderr",
     "output_type": "stream",
     "text": [
      "/home/wanlab/nick/.local/lib/python3.8/site-packages/xgboost/core.py:158: UserWarning: [12:05:09] WARNING: /workspace/src/learner.cc:740: \n",
      "Parameters: { \"use_label_encoder\" } are not used.\n",
      "\n",
      "  warnings.warn(smsg, UserWarning)\n",
      "/home/wanlab/nick/.local/lib/python3.8/site-packages/sklearn/discriminant_analysis.py:935: UserWarning: Variables are collinear\n",
      "  warnings.warn(\"Variables are collinear\")\n"
     ]
    },
    {
     "name": "stdout",
     "output_type": "stream",
     "text": [
      "cv\n",
      "individual models\n"
     ]
    },
    {
     "name": "stderr",
     "output_type": "stream",
     "text": [
      "/home/wanlab/nick/.local/lib/python3.8/site-packages/xgboost/core.py:158: UserWarning: [12:05:21] WARNING: /workspace/src/learner.cc:740: \n",
      "Parameters: { \"use_label_encoder\" } are not used.\n",
      "\n",
      "  warnings.warn(smsg, UserWarning)\n",
      "/home/wanlab/nick/.local/lib/python3.8/site-packages/sklearn/discriminant_analysis.py:935: UserWarning: Variables are collinear\n",
      "  warnings.warn(\"Variables are collinear\")\n"
     ]
    },
    {
     "name": "stdout",
     "output_type": "stream",
     "text": [
      "cv\n",
      "individual models\n"
     ]
    },
    {
     "name": "stderr",
     "output_type": "stream",
     "text": [
      "/home/wanlab/nick/.local/lib/python3.8/site-packages/xgboost/core.py:158: UserWarning: [12:05:34] WARNING: /workspace/src/learner.cc:740: \n",
      "Parameters: { \"use_label_encoder\" } are not used.\n",
      "\n",
      "  warnings.warn(smsg, UserWarning)\n",
      "/home/wanlab/nick/.local/lib/python3.8/site-packages/sklearn/discriminant_analysis.py:935: UserWarning: Variables are collinear\n",
      "  warnings.warn(\"Variables are collinear\")\n"
     ]
    },
    {
     "name": "stdout",
     "output_type": "stream",
     "text": [
      "cv\n",
      "individual models\n"
     ]
    },
    {
     "name": "stderr",
     "output_type": "stream",
     "text": [
      "/home/wanlab/nick/.local/lib/python3.8/site-packages/xgboost/core.py:158: UserWarning: [12:05:46] WARNING: /workspace/src/learner.cc:740: \n",
      "Parameters: { \"use_label_encoder\" } are not used.\n",
      "\n",
      "  warnings.warn(smsg, UserWarning)\n",
      "/home/wanlab/nick/.local/lib/python3.8/site-packages/sklearn/discriminant_analysis.py:935: UserWarning: Variables are collinear\n",
      "  warnings.warn(\"Variables are collinear\")\n"
     ]
    },
    {
     "name": "stdout",
     "output_type": "stream",
     "text": [
      "cv\n",
      "individual models\n"
     ]
    },
    {
     "name": "stderr",
     "output_type": "stream",
     "text": [
      "/home/wanlab/nick/.local/lib/python3.8/site-packages/xgboost/core.py:158: UserWarning: [12:05:58] WARNING: /workspace/src/learner.cc:740: \n",
      "Parameters: { \"use_label_encoder\" } are not used.\n",
      "\n",
      "  warnings.warn(smsg, UserWarning)\n",
      "/home/wanlab/nick/.local/lib/python3.8/site-packages/sklearn/discriminant_analysis.py:935: UserWarning: Variables are collinear\n",
      "  warnings.warn(\"Variables are collinear\")\n"
     ]
    },
    {
     "name": "stdout",
     "output_type": "stream",
     "text": [
      "cv\n",
      "individual models\n"
     ]
    },
    {
     "name": "stderr",
     "output_type": "stream",
     "text": [
      "/home/wanlab/nick/.local/lib/python3.8/site-packages/xgboost/core.py:158: UserWarning: [12:06:10] WARNING: /workspace/src/learner.cc:740: \n",
      "Parameters: { \"use_label_encoder\" } are not used.\n",
      "\n",
      "  warnings.warn(smsg, UserWarning)\n",
      "/home/wanlab/nick/.local/lib/python3.8/site-packages/sklearn/discriminant_analysis.py:935: UserWarning: Variables are collinear\n",
      "  warnings.warn(\"Variables are collinear\")\n"
     ]
    },
    {
     "name": "stdout",
     "output_type": "stream",
     "text": [
      "cv\n",
      "individual models\n"
     ]
    },
    {
     "name": "stderr",
     "output_type": "stream",
     "text": [
      "/home/wanlab/nick/.local/lib/python3.8/site-packages/xgboost/core.py:158: UserWarning: [12:06:22] WARNING: /workspace/src/learner.cc:740: \n",
      "Parameters: { \"use_label_encoder\" } are not used.\n",
      "\n",
      "  warnings.warn(smsg, UserWarning)\n",
      "/home/wanlab/nick/.local/lib/python3.8/site-packages/sklearn/discriminant_analysis.py:935: UserWarning: Variables are collinear\n",
      "  warnings.warn(\"Variables are collinear\")\n"
     ]
    },
    {
     "name": "stdout",
     "output_type": "stream",
     "text": [
      "cv\n",
      "individual models\n"
     ]
    },
    {
     "name": "stderr",
     "output_type": "stream",
     "text": [
      "/home/wanlab/nick/.local/lib/python3.8/site-packages/xgboost/core.py:158: UserWarning: [12:06:33] WARNING: /workspace/src/learner.cc:740: \n",
      "Parameters: { \"use_label_encoder\" } are not used.\n",
      "\n",
      "  warnings.warn(smsg, UserWarning)\n",
      "/home/wanlab/nick/.local/lib/python3.8/site-packages/sklearn/discriminant_analysis.py:935: UserWarning: Variables are collinear\n",
      "  warnings.warn(\"Variables are collinear\")\n"
     ]
    },
    {
     "name": "stdout",
     "output_type": "stream",
     "text": [
      "cv\n",
      "individual models\n"
     ]
    },
    {
     "name": "stderr",
     "output_type": "stream",
     "text": [
      "/home/wanlab/nick/.local/lib/python3.8/site-packages/xgboost/core.py:158: UserWarning: [12:06:45] WARNING: /workspace/src/learner.cc:740: \n",
      "Parameters: { \"use_label_encoder\" } are not used.\n",
      "\n",
      "  warnings.warn(smsg, UserWarning)\n",
      "/home/wanlab/nick/.local/lib/python3.8/site-packages/sklearn/discriminant_analysis.py:935: UserWarning: Variables are collinear\n",
      "  warnings.warn(\"Variables are collinear\")\n"
     ]
    },
    {
     "name": "stdout",
     "output_type": "stream",
     "text": [
      "cv\n",
      "individual models\n"
     ]
    },
    {
     "name": "stderr",
     "output_type": "stream",
     "text": [
      "/home/wanlab/nick/.local/lib/python3.8/site-packages/xgboost/core.py:158: UserWarning: [12:06:57] WARNING: /workspace/src/learner.cc:740: \n",
      "Parameters: { \"use_label_encoder\" } are not used.\n",
      "\n",
      "  warnings.warn(smsg, UserWarning)\n",
      "/home/wanlab/nick/.local/lib/python3.8/site-packages/sklearn/discriminant_analysis.py:935: UserWarning: Variables are collinear\n",
      "  warnings.warn(\"Variables are collinear\")\n"
     ]
    },
    {
     "name": "stdout",
     "output_type": "stream",
     "text": [
      "cv\n",
      "individual models\n"
     ]
    },
    {
     "name": "stderr",
     "output_type": "stream",
     "text": [
      "/home/wanlab/nick/.local/lib/python3.8/site-packages/xgboost/core.py:158: UserWarning: [12:07:09] WARNING: /workspace/src/learner.cc:740: \n",
      "Parameters: { \"use_label_encoder\" } are not used.\n",
      "\n",
      "  warnings.warn(smsg, UserWarning)\n",
      "/home/wanlab/nick/.local/lib/python3.8/site-packages/sklearn/discriminant_analysis.py:935: UserWarning: Variables are collinear\n",
      "  warnings.warn(\"Variables are collinear\")\n"
     ]
    },
    {
     "name": "stdout",
     "output_type": "stream",
     "text": [
      "cv\n",
      "individual models\n"
     ]
    },
    {
     "name": "stderr",
     "output_type": "stream",
     "text": [
      "/home/wanlab/nick/.local/lib/python3.8/site-packages/xgboost/core.py:158: UserWarning: [12:07:21] WARNING: /workspace/src/learner.cc:740: \n",
      "Parameters: { \"use_label_encoder\" } are not used.\n",
      "\n",
      "  warnings.warn(smsg, UserWarning)\n",
      "/home/wanlab/nick/.local/lib/python3.8/site-packages/sklearn/discriminant_analysis.py:935: UserWarning: Variables are collinear\n",
      "  warnings.warn(\"Variables are collinear\")\n"
     ]
    },
    {
     "name": "stdout",
     "output_type": "stream",
     "text": [
      "cv\n",
      "individual models\n"
     ]
    },
    {
     "name": "stderr",
     "output_type": "stream",
     "text": [
      "/home/wanlab/nick/.local/lib/python3.8/site-packages/xgboost/core.py:158: UserWarning: [12:07:33] WARNING: /workspace/src/learner.cc:740: \n",
      "Parameters: { \"use_label_encoder\" } are not used.\n",
      "\n",
      "  warnings.warn(smsg, UserWarning)\n",
      "/home/wanlab/nick/.local/lib/python3.8/site-packages/sklearn/discriminant_analysis.py:935: UserWarning: Variables are collinear\n",
      "  warnings.warn(\"Variables are collinear\")\n"
     ]
    },
    {
     "name": "stdout",
     "output_type": "stream",
     "text": [
      "cv\n",
      "individual models\n"
     ]
    },
    {
     "name": "stderr",
     "output_type": "stream",
     "text": [
      "/home/wanlab/nick/.local/lib/python3.8/site-packages/xgboost/core.py:158: UserWarning: [12:07:45] WARNING: /workspace/src/learner.cc:740: \n",
      "Parameters: { \"use_label_encoder\" } are not used.\n",
      "\n",
      "  warnings.warn(smsg, UserWarning)\n",
      "/home/wanlab/nick/.local/lib/python3.8/site-packages/sklearn/discriminant_analysis.py:935: UserWarning: Variables are collinear\n",
      "  warnings.warn(\"Variables are collinear\")\n"
     ]
    },
    {
     "name": "stdout",
     "output_type": "stream",
     "text": [
      "cv\n",
      "individual models\n"
     ]
    },
    {
     "name": "stderr",
     "output_type": "stream",
     "text": [
      "/home/wanlab/nick/.local/lib/python3.8/site-packages/xgboost/core.py:158: UserWarning: [12:07:57] WARNING: /workspace/src/learner.cc:740: \n",
      "Parameters: { \"use_label_encoder\" } are not used.\n",
      "\n",
      "  warnings.warn(smsg, UserWarning)\n",
      "/home/wanlab/nick/.local/lib/python3.8/site-packages/sklearn/discriminant_analysis.py:935: UserWarning: Variables are collinear\n",
      "  warnings.warn(\"Variables are collinear\")\n"
     ]
    },
    {
     "name": "stdout",
     "output_type": "stream",
     "text": [
      "cv\n",
      "individual models\n"
     ]
    },
    {
     "name": "stderr",
     "output_type": "stream",
     "text": [
      "/home/wanlab/nick/.local/lib/python3.8/site-packages/xgboost/core.py:158: UserWarning: [12:08:09] WARNING: /workspace/src/learner.cc:740: \n",
      "Parameters: { \"use_label_encoder\" } are not used.\n",
      "\n",
      "  warnings.warn(smsg, UserWarning)\n",
      "/home/wanlab/nick/.local/lib/python3.8/site-packages/sklearn/discriminant_analysis.py:935: UserWarning: Variables are collinear\n",
      "  warnings.warn(\"Variables are collinear\")\n"
     ]
    },
    {
     "name": "stdout",
     "output_type": "stream",
     "text": [
      "cv\n",
      "individual models\n"
     ]
    },
    {
     "name": "stderr",
     "output_type": "stream",
     "text": [
      "/home/wanlab/nick/.local/lib/python3.8/site-packages/xgboost/core.py:158: UserWarning: [12:08:21] WARNING: /workspace/src/learner.cc:740: \n",
      "Parameters: { \"use_label_encoder\" } are not used.\n",
      "\n",
      "  warnings.warn(smsg, UserWarning)\n",
      "/home/wanlab/nick/.local/lib/python3.8/site-packages/sklearn/discriminant_analysis.py:935: UserWarning: Variables are collinear\n",
      "  warnings.warn(\"Variables are collinear\")\n"
     ]
    },
    {
     "name": "stdout",
     "output_type": "stream",
     "text": [
      "cv\n",
      "individual models\n"
     ]
    },
    {
     "name": "stderr",
     "output_type": "stream",
     "text": [
      "/home/wanlab/nick/.local/lib/python3.8/site-packages/xgboost/core.py:158: UserWarning: [12:08:33] WARNING: /workspace/src/learner.cc:740: \n",
      "Parameters: { \"use_label_encoder\" } are not used.\n",
      "\n",
      "  warnings.warn(smsg, UserWarning)\n",
      "/home/wanlab/nick/.local/lib/python3.8/site-packages/sklearn/discriminant_analysis.py:935: UserWarning: Variables are collinear\n",
      "  warnings.warn(\"Variables are collinear\")\n"
     ]
    },
    {
     "name": "stdout",
     "output_type": "stream",
     "text": [
      "cv\n",
      "individual models\n"
     ]
    },
    {
     "name": "stderr",
     "output_type": "stream",
     "text": [
      "/home/wanlab/nick/.local/lib/python3.8/site-packages/xgboost/core.py:158: UserWarning: [12:08:45] WARNING: /workspace/src/learner.cc:740: \n",
      "Parameters: { \"use_label_encoder\" } are not used.\n",
      "\n",
      "  warnings.warn(smsg, UserWarning)\n",
      "/home/wanlab/nick/.local/lib/python3.8/site-packages/sklearn/discriminant_analysis.py:935: UserWarning: Variables are collinear\n",
      "  warnings.warn(\"Variables are collinear\")\n"
     ]
    },
    {
     "name": "stdout",
     "output_type": "stream",
     "text": [
      "cv\n",
      "individual models\n"
     ]
    },
    {
     "name": "stderr",
     "output_type": "stream",
     "text": [
      "/home/wanlab/nick/.local/lib/python3.8/site-packages/xgboost/core.py:158: UserWarning: [12:08:57] WARNING: /workspace/src/learner.cc:740: \n",
      "Parameters: { \"use_label_encoder\" } are not used.\n",
      "\n",
      "  warnings.warn(smsg, UserWarning)\n",
      "/home/wanlab/nick/.local/lib/python3.8/site-packages/sklearn/discriminant_analysis.py:935: UserWarning: Variables are collinear\n",
      "  warnings.warn(\"Variables are collinear\")\n"
     ]
    },
    {
     "name": "stdout",
     "output_type": "stream",
     "text": [
      "cv\n",
      "individual models\n"
     ]
    },
    {
     "name": "stderr",
     "output_type": "stream",
     "text": [
      "/home/wanlab/nick/.local/lib/python3.8/site-packages/xgboost/core.py:158: UserWarning: [12:09:09] WARNING: /workspace/src/learner.cc:740: \n",
      "Parameters: { \"use_label_encoder\" } are not used.\n",
      "\n",
      "  warnings.warn(smsg, UserWarning)\n",
      "/home/wanlab/nick/.local/lib/python3.8/site-packages/sklearn/discriminant_analysis.py:935: UserWarning: Variables are collinear\n",
      "  warnings.warn(\"Variables are collinear\")\n"
     ]
    },
    {
     "name": "stdout",
     "output_type": "stream",
     "text": [
      "cv\n",
      "individual models\n"
     ]
    },
    {
     "name": "stderr",
     "output_type": "stream",
     "text": [
      "/home/wanlab/nick/.local/lib/python3.8/site-packages/xgboost/core.py:158: UserWarning: [12:09:21] WARNING: /workspace/src/learner.cc:740: \n",
      "Parameters: { \"use_label_encoder\" } are not used.\n",
      "\n",
      "  warnings.warn(smsg, UserWarning)\n",
      "/home/wanlab/nick/.local/lib/python3.8/site-packages/sklearn/discriminant_analysis.py:935: UserWarning: Variables are collinear\n",
      "  warnings.warn(\"Variables are collinear\")\n"
     ]
    },
    {
     "name": "stdout",
     "output_type": "stream",
     "text": [
      "cv\n",
      "individual models\n"
     ]
    },
    {
     "name": "stderr",
     "output_type": "stream",
     "text": [
      "/home/wanlab/nick/.local/lib/python3.8/site-packages/xgboost/core.py:158: UserWarning: [12:09:33] WARNING: /workspace/src/learner.cc:740: \n",
      "Parameters: { \"use_label_encoder\" } are not used.\n",
      "\n",
      "  warnings.warn(smsg, UserWarning)\n",
      "/home/wanlab/nick/.local/lib/python3.8/site-packages/sklearn/discriminant_analysis.py:935: UserWarning: Variables are collinear\n",
      "  warnings.warn(\"Variables are collinear\")\n"
     ]
    },
    {
     "name": "stdout",
     "output_type": "stream",
     "text": [
      "cv\n",
      "individual models\n"
     ]
    },
    {
     "name": "stderr",
     "output_type": "stream",
     "text": [
      "/home/wanlab/nick/.local/lib/python3.8/site-packages/xgboost/core.py:158: UserWarning: [12:09:45] WARNING: /workspace/src/learner.cc:740: \n",
      "Parameters: { \"use_label_encoder\" } are not used.\n",
      "\n",
      "  warnings.warn(smsg, UserWarning)\n",
      "/home/wanlab/nick/.local/lib/python3.8/site-packages/sklearn/discriminant_analysis.py:935: UserWarning: Variables are collinear\n",
      "  warnings.warn(\"Variables are collinear\")\n"
     ]
    },
    {
     "name": "stdout",
     "output_type": "stream",
     "text": [
      "cv\n",
      "individual models\n"
     ]
    },
    {
     "name": "stderr",
     "output_type": "stream",
     "text": [
      "/home/wanlab/nick/.local/lib/python3.8/site-packages/xgboost/core.py:158: UserWarning: [12:09:57] WARNING: /workspace/src/learner.cc:740: \n",
      "Parameters: { \"use_label_encoder\" } are not used.\n",
      "\n",
      "  warnings.warn(smsg, UserWarning)\n",
      "/home/wanlab/nick/.local/lib/python3.8/site-packages/sklearn/discriminant_analysis.py:935: UserWarning: Variables are collinear\n",
      "  warnings.warn(\"Variables are collinear\")\n"
     ]
    },
    {
     "name": "stdout",
     "output_type": "stream",
     "text": [
      "cv\n",
      "individual models\n"
     ]
    },
    {
     "name": "stderr",
     "output_type": "stream",
     "text": [
      "/home/wanlab/nick/.local/lib/python3.8/site-packages/xgboost/core.py:158: UserWarning: [12:10:09] WARNING: /workspace/src/learner.cc:740: \n",
      "Parameters: { \"use_label_encoder\" } are not used.\n",
      "\n",
      "  warnings.warn(smsg, UserWarning)\n",
      "/home/wanlab/nick/.local/lib/python3.8/site-packages/sklearn/discriminant_analysis.py:935: UserWarning: Variables are collinear\n",
      "  warnings.warn(\"Variables are collinear\")\n"
     ]
    },
    {
     "name": "stdout",
     "output_type": "stream",
     "text": [
      "cv\n",
      "individual models\n"
     ]
    },
    {
     "name": "stderr",
     "output_type": "stream",
     "text": [
      "/home/wanlab/nick/.local/lib/python3.8/site-packages/xgboost/core.py:158: UserWarning: [12:10:21] WARNING: /workspace/src/learner.cc:740: \n",
      "Parameters: { \"use_label_encoder\" } are not used.\n",
      "\n",
      "  warnings.warn(smsg, UserWarning)\n",
      "/home/wanlab/nick/.local/lib/python3.8/site-packages/sklearn/discriminant_analysis.py:935: UserWarning: Variables are collinear\n",
      "  warnings.warn(\"Variables are collinear\")\n"
     ]
    },
    {
     "name": "stdout",
     "output_type": "stream",
     "text": [
      "cv\n",
      "individual models\n"
     ]
    },
    {
     "name": "stderr",
     "output_type": "stream",
     "text": [
      "/home/wanlab/nick/.local/lib/python3.8/site-packages/xgboost/core.py:158: UserWarning: [12:10:34] WARNING: /workspace/src/learner.cc:740: \n",
      "Parameters: { \"use_label_encoder\" } are not used.\n",
      "\n",
      "  warnings.warn(smsg, UserWarning)\n",
      "/home/wanlab/nick/.local/lib/python3.8/site-packages/sklearn/discriminant_analysis.py:935: UserWarning: Variables are collinear\n",
      "  warnings.warn(\"Variables are collinear\")\n"
     ]
    },
    {
     "name": "stdout",
     "output_type": "stream",
     "text": [
      "cv\n",
      "individual models\n"
     ]
    },
    {
     "name": "stderr",
     "output_type": "stream",
     "text": [
      "/home/wanlab/nick/.local/lib/python3.8/site-packages/xgboost/core.py:158: UserWarning: [12:10:47] WARNING: /workspace/src/learner.cc:740: \n",
      "Parameters: { \"use_label_encoder\" } are not used.\n",
      "\n",
      "  warnings.warn(smsg, UserWarning)\n",
      "/home/wanlab/nick/.local/lib/python3.8/site-packages/sklearn/discriminant_analysis.py:935: UserWarning: Variables are collinear\n",
      "  warnings.warn(\"Variables are collinear\")\n"
     ]
    },
    {
     "name": "stdout",
     "output_type": "stream",
     "text": [
      "cv\n",
      "individual models\n"
     ]
    },
    {
     "name": "stderr",
     "output_type": "stream",
     "text": [
      "/home/wanlab/nick/.local/lib/python3.8/site-packages/xgboost/core.py:158: UserWarning: [12:10:59] WARNING: /workspace/src/learner.cc:740: \n",
      "Parameters: { \"use_label_encoder\" } are not used.\n",
      "\n",
      "  warnings.warn(smsg, UserWarning)\n",
      "/home/wanlab/nick/.local/lib/python3.8/site-packages/sklearn/discriminant_analysis.py:935: UserWarning: Variables are collinear\n",
      "  warnings.warn(\"Variables are collinear\")\n"
     ]
    },
    {
     "name": "stdout",
     "output_type": "stream",
     "text": [
      "cv\n",
      "individual models\n"
     ]
    },
    {
     "name": "stderr",
     "output_type": "stream",
     "text": [
      "/home/wanlab/nick/.local/lib/python3.8/site-packages/xgboost/core.py:158: UserWarning: [12:11:11] WARNING: /workspace/src/learner.cc:740: \n",
      "Parameters: { \"use_label_encoder\" } are not used.\n",
      "\n",
      "  warnings.warn(smsg, UserWarning)\n",
      "/home/wanlab/nick/.local/lib/python3.8/site-packages/sklearn/discriminant_analysis.py:935: UserWarning: Variables are collinear\n",
      "  warnings.warn(\"Variables are collinear\")\n"
     ]
    },
    {
     "name": "stdout",
     "output_type": "stream",
     "text": [
      "cv\n",
      "individual models\n"
     ]
    },
    {
     "name": "stderr",
     "output_type": "stream",
     "text": [
      "/home/wanlab/nick/.local/lib/python3.8/site-packages/xgboost/core.py:158: UserWarning: [12:11:26] WARNING: /workspace/src/learner.cc:740: \n",
      "Parameters: { \"use_label_encoder\" } are not used.\n",
      "\n",
      "  warnings.warn(smsg, UserWarning)\n",
      "/home/wanlab/nick/.local/lib/python3.8/site-packages/sklearn/discriminant_analysis.py:935: UserWarning: Variables are collinear\n",
      "  warnings.warn(\"Variables are collinear\")\n"
     ]
    },
    {
     "name": "stdout",
     "output_type": "stream",
     "text": [
      "cv\n",
      "individual models\n"
     ]
    },
    {
     "name": "stderr",
     "output_type": "stream",
     "text": [
      "/home/wanlab/nick/.local/lib/python3.8/site-packages/xgboost/core.py:158: UserWarning: [12:11:43] WARNING: /workspace/src/learner.cc:740: \n",
      "Parameters: { \"use_label_encoder\" } are not used.\n",
      "\n",
      "  warnings.warn(smsg, UserWarning)\n",
      "/home/wanlab/nick/.local/lib/python3.8/site-packages/sklearn/discriminant_analysis.py:935: UserWarning: Variables are collinear\n",
      "  warnings.warn(\"Variables are collinear\")\n"
     ]
    },
    {
     "name": "stdout",
     "output_type": "stream",
     "text": [
      "cv\n",
      "individual models\n"
     ]
    },
    {
     "name": "stderr",
     "output_type": "stream",
     "text": [
      "/home/wanlab/nick/.local/lib/python3.8/site-packages/xgboost/core.py:158: UserWarning: [12:11:55] WARNING: /workspace/src/learner.cc:740: \n",
      "Parameters: { \"use_label_encoder\" } are not used.\n",
      "\n",
      "  warnings.warn(smsg, UserWarning)\n",
      "/home/wanlab/nick/.local/lib/python3.8/site-packages/sklearn/discriminant_analysis.py:935: UserWarning: Variables are collinear\n",
      "  warnings.warn(\"Variables are collinear\")\n"
     ]
    },
    {
     "name": "stdout",
     "output_type": "stream",
     "text": [
      "cv\n",
      "individual models\n"
     ]
    },
    {
     "name": "stderr",
     "output_type": "stream",
     "text": [
      "/home/wanlab/nick/.local/lib/python3.8/site-packages/xgboost/core.py:158: UserWarning: [12:12:07] WARNING: /workspace/src/learner.cc:740: \n",
      "Parameters: { \"use_label_encoder\" } are not used.\n",
      "\n",
      "  warnings.warn(smsg, UserWarning)\n",
      "/home/wanlab/nick/.local/lib/python3.8/site-packages/sklearn/discriminant_analysis.py:935: UserWarning: Variables are collinear\n",
      "  warnings.warn(\"Variables are collinear\")\n"
     ]
    },
    {
     "name": "stdout",
     "output_type": "stream",
     "text": [
      "cv\n",
      "individual models\n"
     ]
    },
    {
     "name": "stderr",
     "output_type": "stream",
     "text": [
      "/home/wanlab/nick/.local/lib/python3.8/site-packages/xgboost/core.py:158: UserWarning: [12:12:19] WARNING: /workspace/src/learner.cc:740: \n",
      "Parameters: { \"use_label_encoder\" } are not used.\n",
      "\n",
      "  warnings.warn(smsg, UserWarning)\n",
      "/home/wanlab/nick/.local/lib/python3.8/site-packages/sklearn/discriminant_analysis.py:935: UserWarning: Variables are collinear\n",
      "  warnings.warn(\"Variables are collinear\")\n"
     ]
    },
    {
     "name": "stdout",
     "output_type": "stream",
     "text": [
      "cv\n",
      "individual models\n"
     ]
    },
    {
     "name": "stderr",
     "output_type": "stream",
     "text": [
      "/home/wanlab/nick/.local/lib/python3.8/site-packages/xgboost/core.py:158: UserWarning: [12:12:31] WARNING: /workspace/src/learner.cc:740: \n",
      "Parameters: { \"use_label_encoder\" } are not used.\n",
      "\n",
      "  warnings.warn(smsg, UserWarning)\n",
      "/home/wanlab/nick/.local/lib/python3.8/site-packages/sklearn/discriminant_analysis.py:935: UserWarning: Variables are collinear\n",
      "  warnings.warn(\"Variables are collinear\")\n"
     ]
    },
    {
     "name": "stdout",
     "output_type": "stream",
     "text": [
      "cv\n",
      "individual models\n"
     ]
    },
    {
     "name": "stderr",
     "output_type": "stream",
     "text": [
      "/home/wanlab/nick/.local/lib/python3.8/site-packages/xgboost/core.py:158: UserWarning: [12:12:43] WARNING: /workspace/src/learner.cc:740: \n",
      "Parameters: { \"use_label_encoder\" } are not used.\n",
      "\n",
      "  warnings.warn(smsg, UserWarning)\n",
      "/home/wanlab/nick/.local/lib/python3.8/site-packages/sklearn/discriminant_analysis.py:935: UserWarning: Variables are collinear\n",
      "  warnings.warn(\"Variables are collinear\")\n"
     ]
    },
    {
     "name": "stdout",
     "output_type": "stream",
     "text": [
      "cv\n",
      "individual models\n"
     ]
    },
    {
     "name": "stderr",
     "output_type": "stream",
     "text": [
      "/home/wanlab/nick/.local/lib/python3.8/site-packages/xgboost/core.py:158: UserWarning: [12:12:55] WARNING: /workspace/src/learner.cc:740: \n",
      "Parameters: { \"use_label_encoder\" } are not used.\n",
      "\n",
      "  warnings.warn(smsg, UserWarning)\n",
      "/home/wanlab/nick/.local/lib/python3.8/site-packages/sklearn/discriminant_analysis.py:935: UserWarning: Variables are collinear\n",
      "  warnings.warn(\"Variables are collinear\")\n"
     ]
    },
    {
     "name": "stdout",
     "output_type": "stream",
     "text": [
      "cv\n",
      "individual models\n"
     ]
    },
    {
     "name": "stderr",
     "output_type": "stream",
     "text": [
      "/home/wanlab/nick/.local/lib/python3.8/site-packages/xgboost/core.py:158: UserWarning: [12:13:07] WARNING: /workspace/src/learner.cc:740: \n",
      "Parameters: { \"use_label_encoder\" } are not used.\n",
      "\n",
      "  warnings.warn(smsg, UserWarning)\n",
      "/home/wanlab/nick/.local/lib/python3.8/site-packages/sklearn/discriminant_analysis.py:935: UserWarning: Variables are collinear\n",
      "  warnings.warn(\"Variables are collinear\")\n"
     ]
    },
    {
     "name": "stdout",
     "output_type": "stream",
     "text": [
      "cv\n",
      "individual models\n"
     ]
    },
    {
     "name": "stderr",
     "output_type": "stream",
     "text": [
      "/home/wanlab/nick/.local/lib/python3.8/site-packages/xgboost/core.py:158: UserWarning: [12:13:19] WARNING: /workspace/src/learner.cc:740: \n",
      "Parameters: { \"use_label_encoder\" } are not used.\n",
      "\n",
      "  warnings.warn(smsg, UserWarning)\n",
      "/home/wanlab/nick/.local/lib/python3.8/site-packages/sklearn/discriminant_analysis.py:935: UserWarning: Variables are collinear\n",
      "  warnings.warn(\"Variables are collinear\")\n"
     ]
    },
    {
     "name": "stdout",
     "output_type": "stream",
     "text": [
      "cv\n",
      "individual models\n"
     ]
    },
    {
     "name": "stderr",
     "output_type": "stream",
     "text": [
      "/home/wanlab/nick/.local/lib/python3.8/site-packages/xgboost/core.py:158: UserWarning: [12:13:31] WARNING: /workspace/src/learner.cc:740: \n",
      "Parameters: { \"use_label_encoder\" } are not used.\n",
      "\n",
      "  warnings.warn(smsg, UserWarning)\n",
      "/home/wanlab/nick/.local/lib/python3.8/site-packages/sklearn/discriminant_analysis.py:935: UserWarning: Variables are collinear\n",
      "  warnings.warn(\"Variables are collinear\")\n"
     ]
    },
    {
     "name": "stdout",
     "output_type": "stream",
     "text": [
      "cv\n",
      "individual models\n"
     ]
    },
    {
     "name": "stderr",
     "output_type": "stream",
     "text": [
      "/home/wanlab/nick/.local/lib/python3.8/site-packages/xgboost/core.py:158: UserWarning: [12:13:43] WARNING: /workspace/src/learner.cc:740: \n",
      "Parameters: { \"use_label_encoder\" } are not used.\n",
      "\n",
      "  warnings.warn(smsg, UserWarning)\n",
      "/home/wanlab/nick/.local/lib/python3.8/site-packages/sklearn/discriminant_analysis.py:935: UserWarning: Variables are collinear\n",
      "  warnings.warn(\"Variables are collinear\")\n"
     ]
    },
    {
     "name": "stdout",
     "output_type": "stream",
     "text": [
      "cv\n",
      "individual models\n"
     ]
    },
    {
     "name": "stderr",
     "output_type": "stream",
     "text": [
      "/home/wanlab/nick/.local/lib/python3.8/site-packages/xgboost/core.py:158: UserWarning: [12:13:55] WARNING: /workspace/src/learner.cc:740: \n",
      "Parameters: { \"use_label_encoder\" } are not used.\n",
      "\n",
      "  warnings.warn(smsg, UserWarning)\n",
      "/home/wanlab/nick/.local/lib/python3.8/site-packages/sklearn/discriminant_analysis.py:935: UserWarning: Variables are collinear\n",
      "  warnings.warn(\"Variables are collinear\")\n"
     ]
    },
    {
     "name": "stdout",
     "output_type": "stream",
     "text": [
      "cv\n",
      "individual models\n"
     ]
    },
    {
     "name": "stderr",
     "output_type": "stream",
     "text": [
      "/home/wanlab/nick/.local/lib/python3.8/site-packages/xgboost/core.py:158: UserWarning: [12:14:07] WARNING: /workspace/src/learner.cc:740: \n",
      "Parameters: { \"use_label_encoder\" } are not used.\n",
      "\n",
      "  warnings.warn(smsg, UserWarning)\n",
      "/home/wanlab/nick/.local/lib/python3.8/site-packages/sklearn/discriminant_analysis.py:935: UserWarning: Variables are collinear\n",
      "  warnings.warn(\"Variables are collinear\")\n"
     ]
    },
    {
     "name": "stdout",
     "output_type": "stream",
     "text": [
      "cv\n",
      "individual models\n"
     ]
    },
    {
     "name": "stderr",
     "output_type": "stream",
     "text": [
      "/home/wanlab/nick/.local/lib/python3.8/site-packages/xgboost/core.py:158: UserWarning: [12:14:19] WARNING: /workspace/src/learner.cc:740: \n",
      "Parameters: { \"use_label_encoder\" } are not used.\n",
      "\n",
      "  warnings.warn(smsg, UserWarning)\n",
      "/home/wanlab/nick/.local/lib/python3.8/site-packages/sklearn/discriminant_analysis.py:935: UserWarning: Variables are collinear\n",
      "  warnings.warn(\"Variables are collinear\")\n"
     ]
    },
    {
     "name": "stdout",
     "output_type": "stream",
     "text": [
      "cv\n",
      "individual models\n"
     ]
    },
    {
     "name": "stderr",
     "output_type": "stream",
     "text": [
      "/home/wanlab/nick/.local/lib/python3.8/site-packages/xgboost/core.py:158: UserWarning: [12:14:30] WARNING: /workspace/src/learner.cc:740: \n",
      "Parameters: { \"use_label_encoder\" } are not used.\n",
      "\n",
      "  warnings.warn(smsg, UserWarning)\n",
      "/home/wanlab/nick/.local/lib/python3.8/site-packages/sklearn/discriminant_analysis.py:935: UserWarning: Variables are collinear\n",
      "  warnings.warn(\"Variables are collinear\")\n"
     ]
    },
    {
     "name": "stdout",
     "output_type": "stream",
     "text": [
      "cv\n",
      "individual models\n"
     ]
    },
    {
     "name": "stderr",
     "output_type": "stream",
     "text": [
      "/home/wanlab/nick/.local/lib/python3.8/site-packages/xgboost/core.py:158: UserWarning: [12:14:42] WARNING: /workspace/src/learner.cc:740: \n",
      "Parameters: { \"use_label_encoder\" } are not used.\n",
      "\n",
      "  warnings.warn(smsg, UserWarning)\n",
      "/home/wanlab/nick/.local/lib/python3.8/site-packages/sklearn/discriminant_analysis.py:935: UserWarning: Variables are collinear\n",
      "  warnings.warn(\"Variables are collinear\")\n"
     ]
    },
    {
     "name": "stdout",
     "output_type": "stream",
     "text": [
      "cv\n",
      "individual models\n"
     ]
    },
    {
     "name": "stderr",
     "output_type": "stream",
     "text": [
      "/home/wanlab/nick/.local/lib/python3.8/site-packages/xgboost/core.py:158: UserWarning: [12:14:54] WARNING: /workspace/src/learner.cc:740: \n",
      "Parameters: { \"use_label_encoder\" } are not used.\n",
      "\n",
      "  warnings.warn(smsg, UserWarning)\n",
      "/home/wanlab/nick/.local/lib/python3.8/site-packages/sklearn/discriminant_analysis.py:935: UserWarning: Variables are collinear\n",
      "  warnings.warn(\"Variables are collinear\")\n"
     ]
    },
    {
     "name": "stdout",
     "output_type": "stream",
     "text": [
      "cv\n",
      "individual models\n"
     ]
    },
    {
     "name": "stderr",
     "output_type": "stream",
     "text": [
      "/home/wanlab/nick/.local/lib/python3.8/site-packages/xgboost/core.py:158: UserWarning: [12:15:06] WARNING: /workspace/src/learner.cc:740: \n",
      "Parameters: { \"use_label_encoder\" } are not used.\n",
      "\n",
      "  warnings.warn(smsg, UserWarning)\n",
      "/home/wanlab/nick/.local/lib/python3.8/site-packages/sklearn/discriminant_analysis.py:935: UserWarning: Variables are collinear\n",
      "  warnings.warn(\"Variables are collinear\")\n"
     ]
    },
    {
     "name": "stdout",
     "output_type": "stream",
     "text": [
      "cv\n",
      "individual models\n"
     ]
    },
    {
     "name": "stderr",
     "output_type": "stream",
     "text": [
      "/home/wanlab/nick/.local/lib/python3.8/site-packages/xgboost/core.py:158: UserWarning: [12:15:18] WARNING: /workspace/src/learner.cc:740: \n",
      "Parameters: { \"use_label_encoder\" } are not used.\n",
      "\n",
      "  warnings.warn(smsg, UserWarning)\n",
      "/home/wanlab/nick/.local/lib/python3.8/site-packages/sklearn/discriminant_analysis.py:935: UserWarning: Variables are collinear\n",
      "  warnings.warn(\"Variables are collinear\")\n"
     ]
    },
    {
     "name": "stdout",
     "output_type": "stream",
     "text": [
      "cv\n",
      "individual models\n"
     ]
    },
    {
     "name": "stderr",
     "output_type": "stream",
     "text": [
      "/home/wanlab/nick/.local/lib/python3.8/site-packages/xgboost/core.py:158: UserWarning: [12:15:30] WARNING: /workspace/src/learner.cc:740: \n",
      "Parameters: { \"use_label_encoder\" } are not used.\n",
      "\n",
      "  warnings.warn(smsg, UserWarning)\n",
      "/home/wanlab/nick/.local/lib/python3.8/site-packages/sklearn/discriminant_analysis.py:935: UserWarning: Variables are collinear\n",
      "  warnings.warn(\"Variables are collinear\")\n"
     ]
    },
    {
     "name": "stdout",
     "output_type": "stream",
     "text": [
      "cv\n",
      "individual models\n"
     ]
    },
    {
     "name": "stderr",
     "output_type": "stream",
     "text": [
      "/home/wanlab/nick/.local/lib/python3.8/site-packages/xgboost/core.py:158: UserWarning: [12:15:42] WARNING: /workspace/src/learner.cc:740: \n",
      "Parameters: { \"use_label_encoder\" } are not used.\n",
      "\n",
      "  warnings.warn(smsg, UserWarning)\n",
      "/home/wanlab/nick/.local/lib/python3.8/site-packages/sklearn/discriminant_analysis.py:935: UserWarning: Variables are collinear\n",
      "  warnings.warn(\"Variables are collinear\")\n"
     ]
    },
    {
     "name": "stdout",
     "output_type": "stream",
     "text": [
      "cv\n",
      "individual models\n"
     ]
    },
    {
     "name": "stderr",
     "output_type": "stream",
     "text": [
      "/home/wanlab/nick/.local/lib/python3.8/site-packages/xgboost/core.py:158: UserWarning: [12:15:55] WARNING: /workspace/src/learner.cc:740: \n",
      "Parameters: { \"use_label_encoder\" } are not used.\n",
      "\n",
      "  warnings.warn(smsg, UserWarning)\n",
      "/home/wanlab/nick/.local/lib/python3.8/site-packages/sklearn/discriminant_analysis.py:935: UserWarning: Variables are collinear\n",
      "  warnings.warn(\"Variables are collinear\")\n"
     ]
    },
    {
     "name": "stdout",
     "output_type": "stream",
     "text": [
      "cv\n",
      "individual models\n"
     ]
    },
    {
     "name": "stderr",
     "output_type": "stream",
     "text": [
      "/home/wanlab/nick/.local/lib/python3.8/site-packages/xgboost/core.py:158: UserWarning: [12:16:06] WARNING: /workspace/src/learner.cc:740: \n",
      "Parameters: { \"use_label_encoder\" } are not used.\n",
      "\n",
      "  warnings.warn(smsg, UserWarning)\n",
      "/home/wanlab/nick/.local/lib/python3.8/site-packages/sklearn/discriminant_analysis.py:935: UserWarning: Variables are collinear\n",
      "  warnings.warn(\"Variables are collinear\")\n"
     ]
    },
    {
     "name": "stdout",
     "output_type": "stream",
     "text": [
      "cv\n",
      "individual models\n"
     ]
    },
    {
     "name": "stderr",
     "output_type": "stream",
     "text": [
      "/home/wanlab/nick/.local/lib/python3.8/site-packages/xgboost/core.py:158: UserWarning: [12:16:18] WARNING: /workspace/src/learner.cc:740: \n",
      "Parameters: { \"use_label_encoder\" } are not used.\n",
      "\n",
      "  warnings.warn(smsg, UserWarning)\n",
      "/home/wanlab/nick/.local/lib/python3.8/site-packages/sklearn/discriminant_analysis.py:935: UserWarning: Variables are collinear\n",
      "  warnings.warn(\"Variables are collinear\")\n"
     ]
    },
    {
     "name": "stdout",
     "output_type": "stream",
     "text": [
      "cv\n",
      "individual models\n"
     ]
    },
    {
     "name": "stderr",
     "output_type": "stream",
     "text": [
      "/home/wanlab/nick/.local/lib/python3.8/site-packages/xgboost/core.py:158: UserWarning: [12:16:30] WARNING: /workspace/src/learner.cc:740: \n",
      "Parameters: { \"use_label_encoder\" } are not used.\n",
      "\n",
      "  warnings.warn(smsg, UserWarning)\n",
      "/home/wanlab/nick/.local/lib/python3.8/site-packages/sklearn/discriminant_analysis.py:935: UserWarning: Variables are collinear\n",
      "  warnings.warn(\"Variables are collinear\")\n"
     ]
    },
    {
     "name": "stdout",
     "output_type": "stream",
     "text": [
      "cv\n",
      "individual models\n"
     ]
    },
    {
     "name": "stderr",
     "output_type": "stream",
     "text": [
      "/home/wanlab/nick/.local/lib/python3.8/site-packages/xgboost/core.py:158: UserWarning: [12:16:42] WARNING: /workspace/src/learner.cc:740: \n",
      "Parameters: { \"use_label_encoder\" } are not used.\n",
      "\n",
      "  warnings.warn(smsg, UserWarning)\n",
      "/home/wanlab/nick/.local/lib/python3.8/site-packages/sklearn/discriminant_analysis.py:935: UserWarning: Variables are collinear\n",
      "  warnings.warn(\"Variables are collinear\")\n"
     ]
    },
    {
     "name": "stdout",
     "output_type": "stream",
     "text": [
      "cv\n",
      "individual models\n"
     ]
    },
    {
     "name": "stderr",
     "output_type": "stream",
     "text": [
      "/home/wanlab/nick/.local/lib/python3.8/site-packages/xgboost/core.py:158: UserWarning: [12:16:54] WARNING: /workspace/src/learner.cc:740: \n",
      "Parameters: { \"use_label_encoder\" } are not used.\n",
      "\n",
      "  warnings.warn(smsg, UserWarning)\n",
      "/home/wanlab/nick/.local/lib/python3.8/site-packages/sklearn/discriminant_analysis.py:935: UserWarning: Variables are collinear\n",
      "  warnings.warn(\"Variables are collinear\")\n"
     ]
    },
    {
     "name": "stdout",
     "output_type": "stream",
     "text": [
      "cv\n",
      "individual models\n"
     ]
    },
    {
     "name": "stderr",
     "output_type": "stream",
     "text": [
      "/home/wanlab/nick/.local/lib/python3.8/site-packages/xgboost/core.py:158: UserWarning: [12:17:05] WARNING: /workspace/src/learner.cc:740: \n",
      "Parameters: { \"use_label_encoder\" } are not used.\n",
      "\n",
      "  warnings.warn(smsg, UserWarning)\n",
      "/home/wanlab/nick/.local/lib/python3.8/site-packages/sklearn/discriminant_analysis.py:935: UserWarning: Variables are collinear\n",
      "  warnings.warn(\"Variables are collinear\")\n"
     ]
    },
    {
     "name": "stdout",
     "output_type": "stream",
     "text": [
      "cv\n",
      "individual models\n"
     ]
    },
    {
     "name": "stderr",
     "output_type": "stream",
     "text": [
      "/home/wanlab/nick/.local/lib/python3.8/site-packages/xgboost/core.py:158: UserWarning: [12:17:17] WARNING: /workspace/src/learner.cc:740: \n",
      "Parameters: { \"use_label_encoder\" } are not used.\n",
      "\n",
      "  warnings.warn(smsg, UserWarning)\n",
      "/home/wanlab/nick/.local/lib/python3.8/site-packages/sklearn/discriminant_analysis.py:935: UserWarning: Variables are collinear\n",
      "  warnings.warn(\"Variables are collinear\")\n"
     ]
    },
    {
     "name": "stdout",
     "output_type": "stream",
     "text": [
      "cv\n",
      "individual models\n"
     ]
    },
    {
     "name": "stderr",
     "output_type": "stream",
     "text": [
      "/home/wanlab/nick/.local/lib/python3.8/site-packages/xgboost/core.py:158: UserWarning: [12:17:29] WARNING: /workspace/src/learner.cc:740: \n",
      "Parameters: { \"use_label_encoder\" } are not used.\n",
      "\n",
      "  warnings.warn(smsg, UserWarning)\n",
      "/home/wanlab/nick/.local/lib/python3.8/site-packages/sklearn/discriminant_analysis.py:935: UserWarning: Variables are collinear\n",
      "  warnings.warn(\"Variables are collinear\")\n"
     ]
    },
    {
     "name": "stdout",
     "output_type": "stream",
     "text": [
      "cv\n",
      "individual models\n"
     ]
    },
    {
     "name": "stderr",
     "output_type": "stream",
     "text": [
      "/home/wanlab/nick/.local/lib/python3.8/site-packages/xgboost/core.py:158: UserWarning: [12:17:41] WARNING: /workspace/src/learner.cc:740: \n",
      "Parameters: { \"use_label_encoder\" } are not used.\n",
      "\n",
      "  warnings.warn(smsg, UserWarning)\n",
      "/home/wanlab/nick/.local/lib/python3.8/site-packages/sklearn/discriminant_analysis.py:935: UserWarning: Variables are collinear\n",
      "  warnings.warn(\"Variables are collinear\")\n"
     ]
    },
    {
     "name": "stdout",
     "output_type": "stream",
     "text": [
      "cv\n",
      "individual models\n"
     ]
    },
    {
     "name": "stderr",
     "output_type": "stream",
     "text": [
      "/home/wanlab/nick/.local/lib/python3.8/site-packages/xgboost/core.py:158: UserWarning: [12:17:52] WARNING: /workspace/src/learner.cc:740: \n",
      "Parameters: { \"use_label_encoder\" } are not used.\n",
      "\n",
      "  warnings.warn(smsg, UserWarning)\n",
      "/home/wanlab/nick/.local/lib/python3.8/site-packages/sklearn/discriminant_analysis.py:935: UserWarning: Variables are collinear\n",
      "  warnings.warn(\"Variables are collinear\")\n"
     ]
    },
    {
     "name": "stdout",
     "output_type": "stream",
     "text": [
      "cv\n",
      "individual models\n"
     ]
    },
    {
     "name": "stderr",
     "output_type": "stream",
     "text": [
      "/home/wanlab/nick/.local/lib/python3.8/site-packages/xgboost/core.py:158: UserWarning: [12:18:04] WARNING: /workspace/src/learner.cc:740: \n",
      "Parameters: { \"use_label_encoder\" } are not used.\n",
      "\n",
      "  warnings.warn(smsg, UserWarning)\n",
      "/home/wanlab/nick/.local/lib/python3.8/site-packages/sklearn/discriminant_analysis.py:935: UserWarning: Variables are collinear\n",
      "  warnings.warn(\"Variables are collinear\")\n"
     ]
    },
    {
     "name": "stdout",
     "output_type": "stream",
     "text": [
      "cv\n",
      "individual models\n"
     ]
    },
    {
     "name": "stderr",
     "output_type": "stream",
     "text": [
      "/home/wanlab/nick/.local/lib/python3.8/site-packages/xgboost/core.py:158: UserWarning: [12:18:16] WARNING: /workspace/src/learner.cc:740: \n",
      "Parameters: { \"use_label_encoder\" } are not used.\n",
      "\n",
      "  warnings.warn(smsg, UserWarning)\n",
      "/home/wanlab/nick/.local/lib/python3.8/site-packages/sklearn/discriminant_analysis.py:935: UserWarning: Variables are collinear\n",
      "  warnings.warn(\"Variables are collinear\")\n"
     ]
    },
    {
     "name": "stdout",
     "output_type": "stream",
     "text": [
      "cv\n",
      "individual models\n"
     ]
    },
    {
     "name": "stderr",
     "output_type": "stream",
     "text": [
      "/home/wanlab/nick/.local/lib/python3.8/site-packages/xgboost/core.py:158: UserWarning: [12:18:28] WARNING: /workspace/src/learner.cc:740: \n",
      "Parameters: { \"use_label_encoder\" } are not used.\n",
      "\n",
      "  warnings.warn(smsg, UserWarning)\n",
      "/home/wanlab/nick/.local/lib/python3.8/site-packages/sklearn/discriminant_analysis.py:935: UserWarning: Variables are collinear\n",
      "  warnings.warn(\"Variables are collinear\")\n"
     ]
    },
    {
     "name": "stdout",
     "output_type": "stream",
     "text": [
      "cv\n",
      "individual models\n"
     ]
    },
    {
     "name": "stderr",
     "output_type": "stream",
     "text": [
      "/home/wanlab/nick/.local/lib/python3.8/site-packages/xgboost/core.py:158: UserWarning: [12:18:40] WARNING: /workspace/src/learner.cc:740: \n",
      "Parameters: { \"use_label_encoder\" } are not used.\n",
      "\n",
      "  warnings.warn(smsg, UserWarning)\n",
      "/home/wanlab/nick/.local/lib/python3.8/site-packages/sklearn/discriminant_analysis.py:935: UserWarning: Variables are collinear\n",
      "  warnings.warn(\"Variables are collinear\")\n"
     ]
    },
    {
     "name": "stdout",
     "output_type": "stream",
     "text": [
      "cv\n",
      "individual models\n"
     ]
    },
    {
     "name": "stderr",
     "output_type": "stream",
     "text": [
      "/home/wanlab/nick/.local/lib/python3.8/site-packages/xgboost/core.py:158: UserWarning: [12:18:51] WARNING: /workspace/src/learner.cc:740: \n",
      "Parameters: { \"use_label_encoder\" } are not used.\n",
      "\n",
      "  warnings.warn(smsg, UserWarning)\n",
      "/home/wanlab/nick/.local/lib/python3.8/site-packages/sklearn/discriminant_analysis.py:935: UserWarning: Variables are collinear\n",
      "  warnings.warn(\"Variables are collinear\")\n"
     ]
    },
    {
     "name": "stdout",
     "output_type": "stream",
     "text": [
      "cv\n",
      "individual models\n"
     ]
    },
    {
     "name": "stderr",
     "output_type": "stream",
     "text": [
      "/home/wanlab/nick/.local/lib/python3.8/site-packages/xgboost/core.py:158: UserWarning: [12:19:03] WARNING: /workspace/src/learner.cc:740: \n",
      "Parameters: { \"use_label_encoder\" } are not used.\n",
      "\n",
      "  warnings.warn(smsg, UserWarning)\n",
      "/home/wanlab/nick/.local/lib/python3.8/site-packages/sklearn/discriminant_analysis.py:935: UserWarning: Variables are collinear\n",
      "  warnings.warn(\"Variables are collinear\")\n"
     ]
    },
    {
     "name": "stdout",
     "output_type": "stream",
     "text": [
      "cv\n",
      "individual models\n"
     ]
    },
    {
     "name": "stderr",
     "output_type": "stream",
     "text": [
      "/home/wanlab/nick/.local/lib/python3.8/site-packages/xgboost/core.py:158: UserWarning: [12:19:15] WARNING: /workspace/src/learner.cc:740: \n",
      "Parameters: { \"use_label_encoder\" } are not used.\n",
      "\n",
      "  warnings.warn(smsg, UserWarning)\n",
      "/home/wanlab/nick/.local/lib/python3.8/site-packages/sklearn/discriminant_analysis.py:935: UserWarning: Variables are collinear\n",
      "  warnings.warn(\"Variables are collinear\")\n"
     ]
    },
    {
     "name": "stdout",
     "output_type": "stream",
     "text": [
      "cv\n",
      "individual models\n"
     ]
    },
    {
     "name": "stderr",
     "output_type": "stream",
     "text": [
      "/home/wanlab/nick/.local/lib/python3.8/site-packages/xgboost/core.py:158: UserWarning: [12:19:27] WARNING: /workspace/src/learner.cc:740: \n",
      "Parameters: { \"use_label_encoder\" } are not used.\n",
      "\n",
      "  warnings.warn(smsg, UserWarning)\n",
      "/home/wanlab/nick/.local/lib/python3.8/site-packages/sklearn/discriminant_analysis.py:935: UserWarning: Variables are collinear\n",
      "  warnings.warn(\"Variables are collinear\")\n"
     ]
    },
    {
     "name": "stdout",
     "output_type": "stream",
     "text": [
      "cv\n",
      "individual models\n"
     ]
    },
    {
     "name": "stderr",
     "output_type": "stream",
     "text": [
      "/home/wanlab/nick/.local/lib/python3.8/site-packages/xgboost/core.py:158: UserWarning: [12:19:40] WARNING: /workspace/src/learner.cc:740: \n",
      "Parameters: { \"use_label_encoder\" } are not used.\n",
      "\n",
      "  warnings.warn(smsg, UserWarning)\n",
      "/home/wanlab/nick/.local/lib/python3.8/site-packages/sklearn/discriminant_analysis.py:935: UserWarning: Variables are collinear\n",
      "  warnings.warn(\"Variables are collinear\")\n"
     ]
    },
    {
     "name": "stdout",
     "output_type": "stream",
     "text": [
      "cv\n",
      "individual models\n"
     ]
    },
    {
     "name": "stderr",
     "output_type": "stream",
     "text": [
      "/home/wanlab/nick/.local/lib/python3.8/site-packages/xgboost/core.py:158: UserWarning: [12:19:51] WARNING: /workspace/src/learner.cc:740: \n",
      "Parameters: { \"use_label_encoder\" } are not used.\n",
      "\n",
      "  warnings.warn(smsg, UserWarning)\n",
      "/home/wanlab/nick/.local/lib/python3.8/site-packages/sklearn/discriminant_analysis.py:935: UserWarning: Variables are collinear\n",
      "  warnings.warn(\"Variables are collinear\")\n"
     ]
    },
    {
     "name": "stdout",
     "output_type": "stream",
     "text": [
      "cv\n",
      "individual models\n"
     ]
    },
    {
     "name": "stderr",
     "output_type": "stream",
     "text": [
      "/home/wanlab/nick/.local/lib/python3.8/site-packages/xgboost/core.py:158: UserWarning: [12:20:03] WARNING: /workspace/src/learner.cc:740: \n",
      "Parameters: { \"use_label_encoder\" } are not used.\n",
      "\n",
      "  warnings.warn(smsg, UserWarning)\n",
      "/home/wanlab/nick/.local/lib/python3.8/site-packages/sklearn/discriminant_analysis.py:935: UserWarning: Variables are collinear\n",
      "  warnings.warn(\"Variables are collinear\")\n"
     ]
    },
    {
     "name": "stdout",
     "output_type": "stream",
     "text": [
      "cv\n",
      "individual models\n"
     ]
    },
    {
     "name": "stderr",
     "output_type": "stream",
     "text": [
      "/home/wanlab/nick/.local/lib/python3.8/site-packages/xgboost/core.py:158: UserWarning: [12:20:16] WARNING: /workspace/src/learner.cc:740: \n",
      "Parameters: { \"use_label_encoder\" } are not used.\n",
      "\n",
      "  warnings.warn(smsg, UserWarning)\n",
      "/home/wanlab/nick/.local/lib/python3.8/site-packages/sklearn/discriminant_analysis.py:935: UserWarning: Variables are collinear\n",
      "  warnings.warn(\"Variables are collinear\")\n"
     ]
    },
    {
     "name": "stdout",
     "output_type": "stream",
     "text": [
      "cv\n",
      "individual models\n"
     ]
    },
    {
     "name": "stderr",
     "output_type": "stream",
     "text": [
      "/home/wanlab/nick/.local/lib/python3.8/site-packages/xgboost/core.py:158: UserWarning: [12:20:28] WARNING: /workspace/src/learner.cc:740: \n",
      "Parameters: { \"use_label_encoder\" } are not used.\n",
      "\n",
      "  warnings.warn(smsg, UserWarning)\n",
      "/home/wanlab/nick/.local/lib/python3.8/site-packages/sklearn/discriminant_analysis.py:935: UserWarning: Variables are collinear\n",
      "  warnings.warn(\"Variables are collinear\")\n"
     ]
    },
    {
     "name": "stdout",
     "output_type": "stream",
     "text": [
      "cv\n",
      "individual models\n"
     ]
    },
    {
     "name": "stderr",
     "output_type": "stream",
     "text": [
      "/home/wanlab/nick/.local/lib/python3.8/site-packages/xgboost/core.py:158: UserWarning: [12:20:41] WARNING: /workspace/src/learner.cc:740: \n",
      "Parameters: { \"use_label_encoder\" } are not used.\n",
      "\n",
      "  warnings.warn(smsg, UserWarning)\n",
      "/home/wanlab/nick/.local/lib/python3.8/site-packages/sklearn/discriminant_analysis.py:935: UserWarning: Variables are collinear\n",
      "  warnings.warn(\"Variables are collinear\")\n"
     ]
    },
    {
     "name": "stdout",
     "output_type": "stream",
     "text": [
      "cv\n",
      "individual models\n"
     ]
    },
    {
     "name": "stderr",
     "output_type": "stream",
     "text": [
      "/home/wanlab/nick/.local/lib/python3.8/site-packages/xgboost/core.py:158: UserWarning: [12:20:53] WARNING: /workspace/src/learner.cc:740: \n",
      "Parameters: { \"use_label_encoder\" } are not used.\n",
      "\n",
      "  warnings.warn(smsg, UserWarning)\n",
      "/home/wanlab/nick/.local/lib/python3.8/site-packages/sklearn/discriminant_analysis.py:935: UserWarning: Variables are collinear\n",
      "  warnings.warn(\"Variables are collinear\")\n"
     ]
    },
    {
     "name": "stdout",
     "output_type": "stream",
     "text": [
      "cv\n",
      "individual models\n"
     ]
    },
    {
     "name": "stderr",
     "output_type": "stream",
     "text": [
      "/home/wanlab/nick/.local/lib/python3.8/site-packages/xgboost/core.py:158: UserWarning: [12:21:05] WARNING: /workspace/src/learner.cc:740: \n",
      "Parameters: { \"use_label_encoder\" } are not used.\n",
      "\n",
      "  warnings.warn(smsg, UserWarning)\n",
      "/home/wanlab/nick/.local/lib/python3.8/site-packages/sklearn/discriminant_analysis.py:935: UserWarning: Variables are collinear\n",
      "  warnings.warn(\"Variables are collinear\")\n"
     ]
    },
    {
     "name": "stdout",
     "output_type": "stream",
     "text": [
      "cv\n",
      "individual models\n"
     ]
    },
    {
     "name": "stderr",
     "output_type": "stream",
     "text": [
      "/home/wanlab/nick/.local/lib/python3.8/site-packages/xgboost/core.py:158: UserWarning: [12:21:17] WARNING: /workspace/src/learner.cc:740: \n",
      "Parameters: { \"use_label_encoder\" } are not used.\n",
      "\n",
      "  warnings.warn(smsg, UserWarning)\n",
      "/home/wanlab/nick/.local/lib/python3.8/site-packages/sklearn/discriminant_analysis.py:935: UserWarning: Variables are collinear\n",
      "  warnings.warn(\"Variables are collinear\")\n"
     ]
    },
    {
     "name": "stdout",
     "output_type": "stream",
     "text": [
      "cv\n",
      "individual models\n"
     ]
    },
    {
     "name": "stderr",
     "output_type": "stream",
     "text": [
      "/home/wanlab/nick/.local/lib/python3.8/site-packages/xgboost/core.py:158: UserWarning: [12:21:29] WARNING: /workspace/src/learner.cc:740: \n",
      "Parameters: { \"use_label_encoder\" } are not used.\n",
      "\n",
      "  warnings.warn(smsg, UserWarning)\n",
      "/home/wanlab/nick/.local/lib/python3.8/site-packages/sklearn/discriminant_analysis.py:935: UserWarning: Variables are collinear\n",
      "  warnings.warn(\"Variables are collinear\")\n"
     ]
    },
    {
     "name": "stdout",
     "output_type": "stream",
     "text": [
      "cv\n",
      "individual models\n"
     ]
    },
    {
     "name": "stderr",
     "output_type": "stream",
     "text": [
      "/home/wanlab/nick/.local/lib/python3.8/site-packages/xgboost/core.py:158: UserWarning: [12:21:41] WARNING: /workspace/src/learner.cc:740: \n",
      "Parameters: { \"use_label_encoder\" } are not used.\n",
      "\n",
      "  warnings.warn(smsg, UserWarning)\n",
      "/home/wanlab/nick/.local/lib/python3.8/site-packages/sklearn/discriminant_analysis.py:935: UserWarning: Variables are collinear\n",
      "  warnings.warn(\"Variables are collinear\")\n"
     ]
    },
    {
     "name": "stdout",
     "output_type": "stream",
     "text": [
      "cv\n",
      "individual models\n"
     ]
    },
    {
     "name": "stderr",
     "output_type": "stream",
     "text": [
      "/home/wanlab/nick/.local/lib/python3.8/site-packages/xgboost/core.py:158: UserWarning: [12:21:53] WARNING: /workspace/src/learner.cc:740: \n",
      "Parameters: { \"use_label_encoder\" } are not used.\n",
      "\n",
      "  warnings.warn(smsg, UserWarning)\n",
      "/home/wanlab/nick/.local/lib/python3.8/site-packages/sklearn/discriminant_analysis.py:935: UserWarning: Variables are collinear\n",
      "  warnings.warn(\"Variables are collinear\")\n"
     ]
    },
    {
     "name": "stdout",
     "output_type": "stream",
     "text": [
      "cv\n",
      "individual models\n"
     ]
    },
    {
     "name": "stderr",
     "output_type": "stream",
     "text": [
      "/home/wanlab/nick/.local/lib/python3.8/site-packages/xgboost/core.py:158: UserWarning: [12:22:04] WARNING: /workspace/src/learner.cc:740: \n",
      "Parameters: { \"use_label_encoder\" } are not used.\n",
      "\n",
      "  warnings.warn(smsg, UserWarning)\n",
      "/home/wanlab/nick/.local/lib/python3.8/site-packages/sklearn/discriminant_analysis.py:935: UserWarning: Variables are collinear\n",
      "  warnings.warn(\"Variables are collinear\")\n"
     ]
    },
    {
     "name": "stdout",
     "output_type": "stream",
     "text": [
      "cv\n",
      "individual models\n"
     ]
    },
    {
     "name": "stderr",
     "output_type": "stream",
     "text": [
      "/home/wanlab/nick/.local/lib/python3.8/site-packages/xgboost/core.py:158: UserWarning: [12:22:16] WARNING: /workspace/src/learner.cc:740: \n",
      "Parameters: { \"use_label_encoder\" } are not used.\n",
      "\n",
      "  warnings.warn(smsg, UserWarning)\n",
      "/home/wanlab/nick/.local/lib/python3.8/site-packages/sklearn/discriminant_analysis.py:935: UserWarning: Variables are collinear\n",
      "  warnings.warn(\"Variables are collinear\")\n"
     ]
    },
    {
     "name": "stdout",
     "output_type": "stream",
     "text": [
      "cv\n",
      "\n",
      "model score of oof results for SVC\n",
      "Model Accuracy: 0.875\n",
      "Precision: 0.880581343943413\n",
      "Recall (Sensitivity): 0.875\n",
      "F1 Score: 0.8750826719576721\n",
      "Matthews Correlation Coefficient (MCC): 0.8332845580159479\n",
      "G-Measure: 0.9161415862502547\n",
      "AUC: 0.9866410584720445\n",
      "Specificity: 0.9582719803670509\n",
      "Jaccard Index: 0.7770918304288716\n",
      "Saving metrics to: /work/wanlab/nick//stackeval8/val_data/individual models/SVC/limma(0),metrics.csv\n",
      "PREDICTIONS                   subtype  Squamous      ADEX  Pancreatic Progenitor  \\\n",
      "0   Pancreatic Progenitor  0.101497  0.038263               0.830308   \n",
      "1                    ADEX  0.035456  0.882607               0.022600   \n",
      "2   Pancreatic Progenitor  0.239067  0.194239               0.533529   \n",
      "3   Pancreatic Progenitor  0.005399  0.053369               0.900871   \n",
      "4                    ADEX  0.118796  0.708597               0.148949   \n",
      "..                    ...       ...       ...                    ...   \n",
      "91            Immunogenic  0.006434  0.054448               0.007517   \n",
      "92                   ADEX  0.009975  0.776609               0.159194   \n",
      "93            Immunogenic  0.038897  0.036129               0.386666   \n",
      "94               Squamous  0.644270  0.057172               0.267581   \n",
      "95  Pancreatic Progenitor  0.001717  0.022037               0.840664   \n",
      "\n",
      "    Immunogenic  \n",
      "0      0.029931  \n",
      "1      0.059336  \n",
      "2      0.033165  \n",
      "3      0.040360  \n",
      "4      0.023658  \n",
      "..          ...  \n",
      "91     0.931601  \n",
      "92     0.054221  \n",
      "93     0.538308  \n",
      "94     0.030978  \n",
      "95     0.135582  \n",
      "\n",
      "[96 rows x 5 columns]\n",
      "\n",
      "model score of oof results for SVC2\n",
      "Model Accuracy: 0.9270833333333334\n",
      "Precision: 0.9278747957516341\n",
      "Recall (Sensitivity): 0.9270833333333334\n",
      "F1 Score: 0.9272379406307977\n",
      "Matthews Correlation Coefficient (MCC): 0.9015846628852522\n",
      "G-Measure: 0.9513389154107484\n",
      "AUC: 0.9860570938255798\n",
      "Specificity: 0.9756108621425523\n",
      "Jaccard Index: 0.8612001424501424\n",
      "Saving metrics to: /work/wanlab/nick//stackeval8/val_data/individual models/SVC2/limma(0),metrics.csv\n",
      "PREDICTIONS                   subtype  Squamous      ADEX  Pancreatic Progenitor  \\\n",
      "0   Pancreatic Progenitor  0.184917  0.041473               0.733742   \n",
      "1                    ADEX  0.080140  0.818623               0.032072   \n",
      "2   Pancreatic Progenitor  0.345524  0.151416               0.465281   \n",
      "3   Pancreatic Progenitor  0.013742  0.081149               0.846099   \n",
      "4                    ADEX  0.251856  0.453323               0.261865   \n",
      "..                    ...       ...       ...                    ...   \n",
      "91            Immunogenic  0.018268  0.092418               0.015073   \n",
      "92                   ADEX  0.028476  0.785580               0.103606   \n",
      "93            Immunogenic  0.075079  0.025440               0.682659   \n",
      "94               Squamous  0.586364  0.028163               0.369784   \n",
      "95  Pancreatic Progenitor  0.003756  0.025765               0.767911   \n",
      "\n",
      "    Immunogenic  \n",
      "0      0.039868  \n",
      "1      0.069165  \n",
      "2      0.037779  \n",
      "3      0.059010  \n",
      "4      0.032955  \n",
      "..          ...  \n",
      "91     0.874242  \n",
      "92     0.082338  \n",
      "93     0.216822  \n",
      "94     0.015688  \n",
      "95     0.202568  \n",
      "\n",
      "[96 rows x 5 columns]\n",
      "\n",
      "model score of oof results for XGBClassifier\n",
      "Model Accuracy: 0.8958333333333334\n",
      "Precision: 0.8980353036908744\n",
      "Recall (Sensitivity): 0.8958333333333334\n",
      "F1 Score: 0.8939833840972847\n",
      "Matthews Correlation Coefficient (MCC): 0.8599347653521981\n",
      "G-Measure: 0.9191232154034474\n",
      "AUC: 0.980168487249253\n",
      "Specificity: 0.9643846030729835\n",
      "Jaccard Index: 0.7975085541008462\n",
      "Saving metrics to: /work/wanlab/nick//stackeval8/val_data/individual models/XGBClassifier/limma(0),metrics.csv\n",
      "PREDICTIONS                   subtype  Squamous      ADEX  Pancreatic Progenitor  \\\n",
      "0   Pancreatic Progenitor  0.010496  0.004265               0.979689   \n",
      "1                    ADEX  0.009075  0.971340               0.010060   \n",
      "2   Pancreatic Progenitor  0.324684  0.116739               0.423451   \n",
      "3   Pancreatic Progenitor  0.035251  0.015652               0.932271   \n",
      "4                    ADEX  0.019062  0.938530               0.032673   \n",
      "..                    ...       ...       ...                    ...   \n",
      "91            Immunogenic  0.003353  0.144402               0.006780   \n",
      "92                   ADEX  0.085751  0.291449               0.230912   \n",
      "93            Immunogenic  0.006942  0.004306               0.017895   \n",
      "94               Squamous  0.557425  0.083944               0.236529   \n",
      "95  Pancreatic Progenitor  0.076111  0.088864               0.516777   \n",
      "\n",
      "    Immunogenic  \n",
      "0      0.005550  \n",
      "1      0.009525  \n",
      "2      0.135126  \n",
      "3      0.016826  \n",
      "4      0.009735  \n",
      "..          ...  \n",
      "91     0.845465  \n",
      "92     0.391888  \n",
      "93     0.970856  \n",
      "94     0.122102  \n",
      "95     0.318248  \n",
      "\n",
      "[96 rows x 5 columns]\n",
      "\n",
      "model score of oof results for QuadraticDiscriminantAnalysis\n",
      "Model Accuracy: 0.8125\n",
      "Precision: 0.8422427398989898\n",
      "Recall (Sensitivity): 0.8125\n",
      "F1 Score: 0.8179834041462035\n",
      "Matthews Correlation Coefficient (MCC): 0.7565073022599094\n",
      "G-Measure: 0.8796245823209131\n",
      "AUC: 0.941972486751316\n",
      "Specificity: 0.9400474818608622\n",
      "Jaccard Index: 0.6841746794871795\n",
      "Saving metrics to: /work/wanlab/nick//stackeval8/val_data/individual models/QuadraticDiscriminantAnalysis/limma(0),metrics.csv\n",
      "PREDICTIONS                   subtype  Squamous           ADEX  Pancreatic Progenitor  \\\n",
      "0   Pancreatic Progenitor       0.0  2.272267e-213           1.000000e+00   \n",
      "1                    ADEX       0.0   1.000000e+00           0.000000e+00   \n",
      "2   Pancreatic Progenitor       0.0   9.016082e-32           1.000000e+00   \n",
      "3   Pancreatic Progenitor       0.0  1.316344e-112           1.000000e+00   \n",
      "4                    ADEX       0.0   1.000000e+00           0.000000e+00   \n",
      "..                    ...       ...            ...                    ...   \n",
      "91            Immunogenic       0.0   0.000000e+00           0.000000e+00   \n",
      "92                   ADEX       0.0   1.000000e+00          5.428026e-131   \n",
      "93            Immunogenic       0.0  1.185421e-146           0.000000e+00   \n",
      "94               Squamous       1.0  1.099996e-289           0.000000e+00   \n",
      "95  Pancreatic Progenitor       0.0   1.000000e+00           5.819005e-13   \n",
      "\n",
      "      Immunogenic  \n",
      "0   3.934384e-271  \n",
      "1    0.000000e+00  \n",
      "2    0.000000e+00  \n",
      "3   1.556498e-292  \n",
      "4    0.000000e+00  \n",
      "..            ...  \n",
      "91   1.000000e+00  \n",
      "92   0.000000e+00  \n",
      "93   1.000000e+00  \n",
      "94  2.681948e-147  \n",
      "95  2.710999e-166  \n",
      "\n",
      "[96 rows x 5 columns]\n",
      "运行时间为: 1160.08 秒\n",
      "combining [[1.01497345e-001 3.82633511e-002 8.30307835e-001 ... 2.27226698e-213\n",
      "  1.00000000e+000 3.93438375e-271]\n",
      " [3.54563946e-002 8.82607373e-001 2.26002107e-002 ... 1.00000000e+000\n",
      "  0.00000000e+000 0.00000000e+000]\n",
      " [2.39066502e-001 1.94239417e-001 5.33529031e-001 ... 9.01608210e-032\n",
      "  1.00000000e+000 0.00000000e+000]\n",
      " ...\n",
      " [3.88968982e-002 3.61289768e-002 3.86666466e-001 ... 1.18542119e-146\n",
      "  0.00000000e+000 1.00000000e+000]\n",
      " [6.44269641e-001 5.71716331e-002 2.67580704e-001 ... 1.09999569e-289\n",
      "  0.00000000e+000 2.68194841e-147]\n",
      " [1.71675337e-003 2.20372902e-002 8.40663512e-001 ... 1.00000000e+000\n",
      "  5.81900495e-013 2.71099911e-166]] [[13.56018914 12.68466835 13.10243664 ...  9.53005478 11.16103308\n",
      "  11.24920229]\n",
      " [15.4259582  14.08525845 12.01110512 ...  9.45622747 11.12707631\n",
      "  11.78331935]\n",
      " [14.4756837  13.26517897 12.82291838 ...  9.65623065 11.33179862\n",
      "  11.68015036]\n",
      " ...\n",
      " [14.28976923 13.62192201 12.67277184 ...  9.32578912  9.67174085\n",
      "  11.45401981]\n",
      " [14.71684472 13.81278796 13.58508909 ... 10.31590684 12.7838795\n",
      "  11.90067493]\n",
      " [14.18823419 12.92657629 11.70868561 ...  9.88942006  9.76636631\n",
      "  12.84604452]]\n",
      "stacked\n",
      "cv\n",
      "stacked\n",
      "cv\n",
      "stacked\n",
      "cv\n",
      "stacked\n",
      "cv\n",
      "stacked\n",
      "cv\n",
      "stacked\n",
      "cv\n",
      "stacked\n",
      "cv\n",
      "stacked\n",
      "cv\n",
      "stacked\n",
      "cv\n",
      "stacked\n",
      "cv\n",
      "stacked\n",
      "cv\n",
      "stacked\n",
      "cv\n",
      "stacked\n",
      "cv\n",
      "stacked\n",
      "cv\n",
      "stacked\n",
      "cv\n",
      "stacked\n",
      "cv\n",
      "stacked\n",
      "cv\n",
      "stacked\n",
      "cv\n",
      "stacked\n",
      "cv\n",
      "stacked\n",
      "cv\n",
      "stacked\n",
      "cv\n",
      "stacked\n",
      "cv\n",
      "stacked\n",
      "cv\n",
      "stacked\n",
      "cv\n",
      "stacked\n",
      "cv\n",
      "stacked\n",
      "cv\n",
      "stacked\n",
      "cv\n",
      "stacked\n",
      "cv\n",
      "stacked\n",
      "cv\n",
      "stacked\n",
      "cv\n",
      "stacked\n",
      "cv\n",
      "stacked\n",
      "cv\n",
      "stacked\n",
      "cv\n",
      "stacked\n",
      "cv\n",
      "stacked\n",
      "cv\n",
      "stacked\n",
      "cv\n",
      "stacked\n",
      "cv\n",
      "stacked\n",
      "cv\n",
      "stacked\n",
      "cv\n",
      "stacked\n",
      "cv\n",
      "stacked\n",
      "cv\n",
      "stacked\n",
      "cv\n",
      "stacked\n",
      "cv\n",
      "stacked\n",
      "cv\n",
      "stacked\n",
      "cv\n",
      "stacked\n",
      "cv\n",
      "stacked\n",
      "cv\n",
      "stacked\n",
      "cv\n",
      "stacked\n",
      "cv\n",
      "stacked\n",
      "cv\n",
      "stacked\n",
      "cv\n",
      "stacked\n",
      "cv\n",
      "stacked\n",
      "cv\n",
      "stacked\n",
      "cv\n",
      "stacked\n",
      "cv\n",
      "stacked\n",
      "cv\n",
      "stacked\n",
      "cv\n",
      "stacked\n",
      "cv\n",
      "stacked\n",
      "cv\n",
      "stacked\n",
      "cv\n",
      "stacked\n",
      "cv\n",
      "stacked\n",
      "cv\n",
      "stacked\n",
      "cv\n",
      "stacked\n",
      "cv\n",
      "stacked\n",
      "cv\n",
      "stacked\n",
      "cv\n",
      "stacked\n",
      "cv\n",
      "stacked\n",
      "cv\n",
      "stacked\n",
      "cv\n",
      "stacked\n",
      "cv\n",
      "stacked\n",
      "cv\n",
      "stacked\n",
      "cv\n",
      "stacked\n",
      "cv\n",
      "stacked\n",
      "cv\n",
      "stacked\n",
      "cv\n",
      "stacked\n",
      "cv\n",
      "stacked\n",
      "cv\n",
      "stacked\n",
      "cv\n",
      "stacked\n",
      "cv\n",
      "stacked\n",
      "cv\n",
      "stacked\n",
      "cv\n",
      "stacked\n",
      "cv\n",
      "stacked\n",
      "cv\n",
      "stacked\n",
      "cv\n",
      "stacked\n",
      "cv\n",
      "stacked\n",
      "cv\n",
      "stacked\n",
      "cv\n",
      "stacked\n",
      "cv\n",
      "stacked\n",
      "cv\n",
      "stacked\n",
      "cv\n",
      "stacked\n",
      "cv\n",
      "stacked\n",
      "cv\n",
      "stacked\n",
      "cv\n",
      "stacked\n",
      "cv\n",
      "stacked\n",
      "cv\n",
      "stacked\n",
      "cv\n",
      "\n",
      "model score of oof results for MLPClassifier\n",
      "Model Accuracy: 0.6145833333333334\n",
      "Precision: 0.6108885234389266\n",
      "Recall (Sensitivity): 0.6145833333333334\n",
      "F1 Score: 0.6094505480990898\n",
      "Matthews Correlation Coefficient (MCC): 0.4758474019720884\n",
      "G-Measure: 0.7094658178276878\n",
      "AUC: 0.8141648105171432\n",
      "Specificity: 0.8687646713615023\n",
      "Jaccard Index: 0.42572106078203636\n",
      "Saving metrics to: /work/wanlab/nick//stackeval8/val_data/stacked/MLPClassifier/limma(0),metrics.csv\n",
      "PREDICTIONS                   subtype      Squamous          ADEX  Pancreatic Progenitor  \\\n",
      "0             Immunogenic  9.134941e-02  1.018764e-03               0.007624   \n",
      "1                    ADEX  3.924604e-01  1.253042e-01               0.019342   \n",
      "2   Pancreatic Progenitor  3.908827e-08  3.137215e-02               0.943808   \n",
      "3   Pancreatic Progenitor  5.302346e-04  3.709455e-03               0.995297   \n",
      "4   Pancreatic Progenitor  3.971801e-01  2.180137e-02               0.580943   \n",
      "..                    ...           ...           ...                    ...   \n",
      "91                   ADEX  8.110172e-06  5.707052e-05               0.019469   \n",
      "92               Squamous  9.999913e-01  5.028506e-07               0.000002   \n",
      "93                   ADEX  8.793991e-01  8.560116e-02               0.034944   \n",
      "94  Pancreatic Progenitor  1.404244e-02  2.497396e-02               0.959831   \n",
      "95               Squamous  7.215805e-01  3.051942e-02               0.241815   \n",
      "\n",
      "    Immunogenic  \n",
      "0      0.900008  \n",
      "1      0.462893  \n",
      "2      0.024819  \n",
      "3      0.000463  \n",
      "4      0.000076  \n",
      "..          ...  \n",
      "91     0.980466  \n",
      "92     0.000006  \n",
      "93     0.000056  \n",
      "94     0.001152  \n",
      "95     0.006085  \n",
      "\n",
      "[96 rows x 5 columns]\n",
      "\n",
      "model score of oof results for RandomForestClassifier\n",
      "Model Accuracy: 0.8333333333333334\n",
      "Precision: 0.8349085810023311\n",
      "Recall (Sensitivity): 0.8333333333333334\n",
      "F1 Score: 0.8319689944943495\n",
      "Matthews Correlation Coefficient (MCC): 0.7742164680987698\n",
      "G-Measure: 0.875964432005703\n",
      "AUC: 0.9827852412772088\n",
      "Specificity: 0.9428537131882202\n",
      "Jaccard Index: 0.7027777777777777\n",
      "Saving metrics to: /work/wanlab/nick//stackeval8/val_data/stacked/RandomForestClassifier/limma(0),metrics.csv\n",
      "PREDICTIONS                   subtype  Squamous  ADEX  Pancreatic Progenitor  Immunogenic\n",
      "0             Immunogenic      0.12  0.07                   0.01         0.80\n",
      "1                    ADEX      0.20  0.37                   0.38         0.05\n",
      "2   Pancreatic Progenitor      0.01  0.08                   0.45         0.46\n",
      "3   Pancreatic Progenitor      0.10  0.22                   0.65         0.03\n",
      "4   Pancreatic Progenitor      0.14  0.10                   0.72         0.04\n",
      "..                    ...       ...   ...                    ...          ...\n",
      "91                   ADEX      0.02  0.37                   0.19         0.42\n",
      "92               Squamous      0.88  0.03                   0.04         0.05\n",
      "93                   ADEX      0.25  0.45                   0.26         0.04\n",
      "94  Pancreatic Progenitor      0.01  0.53                   0.35         0.11\n",
      "95               Squamous      0.41  0.28                   0.21         0.10\n",
      "\n",
      "[96 rows x 5 columns]\n",
      "\n",
      "model score of oof results for LogisticRegression2\n",
      "Model Accuracy: 0.90625\n",
      "Precision: 0.907241010904804\n",
      "Recall (Sensitivity): 0.90625\n",
      "F1 Score: 0.9063258253912099\n",
      "Matthews Correlation Coefficient (MCC): 0.8733101573111083\n",
      "G-Measure: 0.9352788514023854\n",
      "AUC: 0.9877433556515861\n",
      "Specificity: 0.9681724818608621\n",
      "Jaccard Index: 0.8275341386554622\n",
      "Saving metrics to: /work/wanlab/nick//stackeval8/val_data/stacked/LogisticRegression2/limma(0),metrics.csv\n",
      "PREDICTIONS                   subtype      Squamous          ADEX  Pancreatic Progenitor  \\\n",
      "0             Immunogenic  3.645193e-09  1.000039e-09           2.311409e-10   \n",
      "1                    ADEX  1.168450e-04  8.845041e-01           1.142030e-01   \n",
      "2   Pancreatic Progenitor  4.436999e-09  4.682370e-06           9.877915e-01   \n",
      "3   Pancreatic Progenitor  8.562526e-06  7.668905e-03           9.914542e-01   \n",
      "4   Pancreatic Progenitor  4.417522e-05  5.525490e-04           9.994032e-01   \n",
      "..                    ...           ...           ...                    ...   \n",
      "91                   ADEX  3.311350e-07  9.375785e-01           2.256012e-02   \n",
      "92               Squamous  1.000000e+00  8.929393e-13           4.487663e-13   \n",
      "93                   ADEX  2.196966e-04  9.825530e-01           1.719964e-02   \n",
      "94  Pancreatic Progenitor  1.837171e-07  6.670728e-01           3.316322e-01   \n",
      "95               Squamous  6.522724e-01  3.258867e-01           2.182367e-02   \n",
      "\n",
      "     Immunogenic  \n",
      "0   1.000000e+00  \n",
      "1   1.175973e-03  \n",
      "2   1.220378e-02  \n",
      "3   8.683172e-04  \n",
      "4   9.377285e-08  \n",
      "..           ...  \n",
      "91  3.986109e-02  \n",
      "92  5.440576e-09  \n",
      "93  2.766448e-05  \n",
      "94  1.294809e-03  \n",
      "95  1.724346e-05  \n",
      "\n",
      "[96 rows x 5 columns]\n",
      "\n",
      "model score of oof results for GaussianNB2\n",
      "Model Accuracy: 0.7916666666666666\n",
      "Precision: 0.7908549783549784\n",
      "Recall (Sensitivity): 0.7916666666666666\n",
      "F1 Score: 0.7862654320987654\n",
      "Matthews Correlation Coefficient (MCC): 0.7178678232995247\n",
      "G-Measure: 0.8348797928373367\n",
      "AUC: 0.9259606963117086\n",
      "Specificity: 0.9283650768245839\n",
      "Jaccard Index: 0.6339987900786448\n",
      "Saving metrics to: /work/wanlab/nick//stackeval8/val_data/stacked/GaussianNB2/limma(0),metrics.csv\n",
      "PREDICTIONS                   subtype  Squamous          ADEX  Pancreatic Progenitor  \\\n",
      "0             Immunogenic       0.0  0.000000e+00           0.000000e+00   \n",
      "1                    ADEX       0.0  1.000000e+00           0.000000e+00   \n",
      "2   Pancreatic Progenitor       0.0  0.000000e+00           1.000000e+00   \n",
      "3   Pancreatic Progenitor       0.0  0.000000e+00           1.000000e+00   \n",
      "4   Pancreatic Progenitor       0.0  0.000000e+00           1.000000e+00   \n",
      "..                    ...       ...           ...                    ...   \n",
      "91                   ADEX       0.0  1.403758e-96          1.296941e-144   \n",
      "92               Squamous       1.0  0.000000e+00           0.000000e+00   \n",
      "93                   ADEX       0.0  3.926068e-53           1.000000e+00   \n",
      "94  Pancreatic Progenitor       0.0  1.000000e+00           1.262383e-73   \n",
      "95               Squamous       0.0  1.000000e+00          6.022082e-172   \n",
      "\n",
      "    Immunogenic  \n",
      "0           1.0  \n",
      "1           0.0  \n",
      "2           0.0  \n",
      "3           0.0  \n",
      "4           0.0  \n",
      "..          ...  \n",
      "91          1.0  \n",
      "92          0.0  \n",
      "93          0.0  \n",
      "94          0.0  \n",
      "95          0.0  \n",
      "\n",
      "[96 rows x 5 columns]\n",
      "\n",
      "model score of oof results for SVC3\n",
      "Model Accuracy: 0.8854166666666666\n",
      "Precision: 0.891441968525302\n",
      "Recall (Sensitivity): 0.8854166666666666\n",
      "F1 Score: 0.8857571122577969\n",
      "Matthews Correlation Coefficient (MCC): 0.847046869768925\n",
      "G-Measure: 0.9229308733968031\n",
      "AUC: 0.9891329669938824\n",
      "Specificity: 0.9613969803670508\n",
      "Jaccard Index: 0.7977251412244541\n",
      "Saving metrics to: /work/wanlab/nick//stackeval8/val_data/stacked/SVC3/limma(0),metrics.csv\n",
      "PREDICTIONS                   subtype  Squamous      ADEX  Pancreatic Progenitor  \\\n",
      "0             Immunogenic  0.003124  0.001619               0.000747   \n",
      "1                    ADEX  0.016737  0.911674               0.057003   \n",
      "2   Pancreatic Progenitor  0.001742  0.020756               0.867231   \n",
      "3   Pancreatic Progenitor  0.006017  0.066860               0.883071   \n",
      "4   Pancreatic Progenitor  0.025705  0.049850               0.921123   \n",
      "..                    ...       ...       ...                    ...   \n",
      "91                   ADEX  0.006643  0.637891               0.102107   \n",
      "92               Squamous  0.993994  0.000396               0.000105   \n",
      "93                   ADEX  0.082643  0.731708               0.150163   \n",
      "94  Pancreatic Progenitor  0.004529  0.753019               0.208209   \n",
      "95               Squamous  0.404759  0.382470               0.198077   \n",
      "\n",
      "    Immunogenic  \n",
      "0      0.994509  \n",
      "1      0.014586  \n",
      "2      0.110271  \n",
      "3      0.044051  \n",
      "4      0.003323  \n",
      "..          ...  \n",
      "91     0.253359  \n",
      "92     0.005504  \n",
      "93     0.035486  \n",
      "94     0.034243  \n",
      "95     0.014694  \n",
      "\n",
      "[96 rows x 5 columns]\n",
      "\n",
      "model score of oof results for SVC4\n",
      "Model Accuracy: 0.9479166666666666\n",
      "Precision: 0.9480953839869283\n",
      "Recall (Sensitivity): 0.9479166666666666\n",
      "F1 Score: 0.9477556173984745\n",
      "Matthews Correlation Coefficient (MCC): 0.9297454332242742\n",
      "G-Measure: 0.9675827216791117\n",
      "AUC: 0.9866884069568927\n",
      "Specificity: 0.9822569889031157\n",
      "Jaccard Index: 0.9059671945701357\n",
      "Saving metrics to: /work/wanlab/nick//stackeval8/val_data/stacked/SVC4/limma(0),metrics.csv\n",
      "PREDICTIONS                   subtype  Squamous      ADEX  Pancreatic Progenitor  \\\n",
      "0             Immunogenic  0.001988  0.001390               0.000751   \n",
      "1                    ADEX  0.046532  0.597036               0.320827   \n",
      "2   Pancreatic Progenitor  0.004486  0.028594               0.727783   \n",
      "3   Pancreatic Progenitor  0.013422  0.079222               0.853960   \n",
      "4   Pancreatic Progenitor  0.052124  0.071998               0.868529   \n",
      "..                    ...       ...       ...                    ...   \n",
      "91                   ADEX  0.008596  0.689565               0.119600   \n",
      "92               Squamous  0.996100  0.000078               0.000200   \n",
      "93                   ADEX  0.051110  0.761570               0.156927   \n",
      "94  Pancreatic Progenitor  0.008561  0.640351               0.310618   \n",
      "95               Squamous  0.413357  0.378170               0.179326   \n",
      "\n",
      "    Immunogenic  \n",
      "0      0.995871  \n",
      "1      0.035605  \n",
      "2      0.239138  \n",
      "3      0.053396  \n",
      "4      0.007349  \n",
      "..          ...  \n",
      "91     0.182240  \n",
      "92     0.003622  \n",
      "93     0.030393  \n",
      "94     0.040471  \n",
      "95     0.029147  \n",
      "\n",
      "[96 rows x 5 columns]\n",
      "run 9\n",
      "Model Pair: SVC + SVC + KNeighborsClassifier + QuadraticDiscriminantAnalysis\n",
      "USEDmodelnames ['SVC', 'SVC2', 'KNeighborsClassifier', 'QuadraticDiscriminantAnalysis']\n",
      "Running with: SVC and SVC and KNeighborsClassifier and QuadraticDiscriminantAnalysis\n",
      "Random state: 0\n",
      "['SVC', 'SVC2', 'KNeighborsClassifier', 'QuadraticDiscriminantAnalysis']\n",
      "individual models\n"
     ]
    },
    {
     "name": "stderr",
     "output_type": "stream",
     "text": [
      "/home/wanlab/nick/.local/lib/python3.8/site-packages/sklearn/discriminant_analysis.py:935: UserWarning: Variables are collinear\n",
      "  warnings.warn(\"Variables are collinear\")\n"
     ]
    },
    {
     "name": "stdout",
     "output_type": "stream",
     "text": [
      "cv\n",
      "individual models\n"
     ]
    },
    {
     "name": "stderr",
     "output_type": "stream",
     "text": [
      "/home/wanlab/nick/.local/lib/python3.8/site-packages/sklearn/discriminant_analysis.py:935: UserWarning: Variables are collinear\n",
      "  warnings.warn(\"Variables are collinear\")\n"
     ]
    },
    {
     "name": "stdout",
     "output_type": "stream",
     "text": [
      "cv\n",
      "individual models\n"
     ]
    },
    {
     "name": "stderr",
     "output_type": "stream",
     "text": [
      "/home/wanlab/nick/.local/lib/python3.8/site-packages/sklearn/discriminant_analysis.py:935: UserWarning: Variables are collinear\n",
      "  warnings.warn(\"Variables are collinear\")\n"
     ]
    },
    {
     "name": "stdout",
     "output_type": "stream",
     "text": [
      "cv\n",
      "individual models\n"
     ]
    },
    {
     "name": "stderr",
     "output_type": "stream",
     "text": [
      "/home/wanlab/nick/.local/lib/python3.8/site-packages/sklearn/discriminant_analysis.py:935: UserWarning: Variables are collinear\n",
      "  warnings.warn(\"Variables are collinear\")\n"
     ]
    },
    {
     "name": "stdout",
     "output_type": "stream",
     "text": [
      "cv\n",
      "individual models\n"
     ]
    },
    {
     "name": "stderr",
     "output_type": "stream",
     "text": [
      "/home/wanlab/nick/.local/lib/python3.8/site-packages/sklearn/discriminant_analysis.py:935: UserWarning: Variables are collinear\n",
      "  warnings.warn(\"Variables are collinear\")\n"
     ]
    },
    {
     "name": "stdout",
     "output_type": "stream",
     "text": [
      "cv\n",
      "individual models\n"
     ]
    },
    {
     "name": "stderr",
     "output_type": "stream",
     "text": [
      "/home/wanlab/nick/.local/lib/python3.8/site-packages/sklearn/discriminant_analysis.py:935: UserWarning: Variables are collinear\n",
      "  warnings.warn(\"Variables are collinear\")\n"
     ]
    },
    {
     "name": "stdout",
     "output_type": "stream",
     "text": [
      "cv\n",
      "individual models\n"
     ]
    },
    {
     "name": "stderr",
     "output_type": "stream",
     "text": [
      "/home/wanlab/nick/.local/lib/python3.8/site-packages/sklearn/discriminant_analysis.py:935: UserWarning: Variables are collinear\n",
      "  warnings.warn(\"Variables are collinear\")\n"
     ]
    },
    {
     "name": "stdout",
     "output_type": "stream",
     "text": [
      "cv\n",
      "individual models\n"
     ]
    },
    {
     "name": "stderr",
     "output_type": "stream",
     "text": [
      "/home/wanlab/nick/.local/lib/python3.8/site-packages/sklearn/discriminant_analysis.py:935: UserWarning: Variables are collinear\n",
      "  warnings.warn(\"Variables are collinear\")\n"
     ]
    },
    {
     "name": "stdout",
     "output_type": "stream",
     "text": [
      "cv\n",
      "individual models\n"
     ]
    },
    {
     "name": "stderr",
     "output_type": "stream",
     "text": [
      "/home/wanlab/nick/.local/lib/python3.8/site-packages/sklearn/discriminant_analysis.py:935: UserWarning: Variables are collinear\n",
      "  warnings.warn(\"Variables are collinear\")\n"
     ]
    },
    {
     "name": "stdout",
     "output_type": "stream",
     "text": [
      "cv\n",
      "individual models\n"
     ]
    },
    {
     "name": "stderr",
     "output_type": "stream",
     "text": [
      "/home/wanlab/nick/.local/lib/python3.8/site-packages/sklearn/discriminant_analysis.py:935: UserWarning: Variables are collinear\n",
      "  warnings.warn(\"Variables are collinear\")\n"
     ]
    },
    {
     "name": "stdout",
     "output_type": "stream",
     "text": [
      "cv\n",
      "individual models\n"
     ]
    },
    {
     "name": "stderr",
     "output_type": "stream",
     "text": [
      "/home/wanlab/nick/.local/lib/python3.8/site-packages/sklearn/discriminant_analysis.py:935: UserWarning: Variables are collinear\n",
      "  warnings.warn(\"Variables are collinear\")\n"
     ]
    },
    {
     "name": "stdout",
     "output_type": "stream",
     "text": [
      "cv\n",
      "individual models\n"
     ]
    },
    {
     "name": "stderr",
     "output_type": "stream",
     "text": [
      "/home/wanlab/nick/.local/lib/python3.8/site-packages/sklearn/discriminant_analysis.py:935: UserWarning: Variables are collinear\n",
      "  warnings.warn(\"Variables are collinear\")\n"
     ]
    },
    {
     "name": "stdout",
     "output_type": "stream",
     "text": [
      "cv\n",
      "individual models\n"
     ]
    },
    {
     "name": "stderr",
     "output_type": "stream",
     "text": [
      "/home/wanlab/nick/.local/lib/python3.8/site-packages/sklearn/discriminant_analysis.py:935: UserWarning: Variables are collinear\n",
      "  warnings.warn(\"Variables are collinear\")\n"
     ]
    },
    {
     "name": "stdout",
     "output_type": "stream",
     "text": [
      "cv\n",
      "individual models\n"
     ]
    },
    {
     "name": "stderr",
     "output_type": "stream",
     "text": [
      "/home/wanlab/nick/.local/lib/python3.8/site-packages/sklearn/discriminant_analysis.py:935: UserWarning: Variables are collinear\n",
      "  warnings.warn(\"Variables are collinear\")\n"
     ]
    },
    {
     "name": "stdout",
     "output_type": "stream",
     "text": [
      "cv\n",
      "individual models\n"
     ]
    },
    {
     "name": "stderr",
     "output_type": "stream",
     "text": [
      "/home/wanlab/nick/.local/lib/python3.8/site-packages/sklearn/discriminant_analysis.py:935: UserWarning: Variables are collinear\n",
      "  warnings.warn(\"Variables are collinear\")\n"
     ]
    },
    {
     "name": "stdout",
     "output_type": "stream",
     "text": [
      "cv\n",
      "individual models\n"
     ]
    },
    {
     "name": "stderr",
     "output_type": "stream",
     "text": [
      "/home/wanlab/nick/.local/lib/python3.8/site-packages/sklearn/discriminant_analysis.py:935: UserWarning: Variables are collinear\n",
      "  warnings.warn(\"Variables are collinear\")\n"
     ]
    },
    {
     "name": "stdout",
     "output_type": "stream",
     "text": [
      "cv\n",
      "individual models\n"
     ]
    },
    {
     "name": "stderr",
     "output_type": "stream",
     "text": [
      "/home/wanlab/nick/.local/lib/python3.8/site-packages/sklearn/discriminant_analysis.py:935: UserWarning: Variables are collinear\n",
      "  warnings.warn(\"Variables are collinear\")\n"
     ]
    },
    {
     "name": "stdout",
     "output_type": "stream",
     "text": [
      "cv\n",
      "individual models\n"
     ]
    },
    {
     "name": "stderr",
     "output_type": "stream",
     "text": [
      "/home/wanlab/nick/.local/lib/python3.8/site-packages/sklearn/discriminant_analysis.py:935: UserWarning: Variables are collinear\n",
      "  warnings.warn(\"Variables are collinear\")\n"
     ]
    },
    {
     "name": "stdout",
     "output_type": "stream",
     "text": [
      "cv\n",
      "individual models\n"
     ]
    },
    {
     "name": "stderr",
     "output_type": "stream",
     "text": [
      "/home/wanlab/nick/.local/lib/python3.8/site-packages/sklearn/discriminant_analysis.py:935: UserWarning: Variables are collinear\n",
      "  warnings.warn(\"Variables are collinear\")\n"
     ]
    },
    {
     "name": "stdout",
     "output_type": "stream",
     "text": [
      "cv\n",
      "individual models\n"
     ]
    },
    {
     "name": "stderr",
     "output_type": "stream",
     "text": [
      "/home/wanlab/nick/.local/lib/python3.8/site-packages/sklearn/discriminant_analysis.py:935: UserWarning: Variables are collinear\n",
      "  warnings.warn(\"Variables are collinear\")\n"
     ]
    },
    {
     "name": "stdout",
     "output_type": "stream",
     "text": [
      "cv\n",
      "individual models\n"
     ]
    },
    {
     "name": "stderr",
     "output_type": "stream",
     "text": [
      "/home/wanlab/nick/.local/lib/python3.8/site-packages/sklearn/discriminant_analysis.py:935: UserWarning: Variables are collinear\n",
      "  warnings.warn(\"Variables are collinear\")\n"
     ]
    },
    {
     "name": "stdout",
     "output_type": "stream",
     "text": [
      "cv\n",
      "individual models\n"
     ]
    },
    {
     "name": "stderr",
     "output_type": "stream",
     "text": [
      "/home/wanlab/nick/.local/lib/python3.8/site-packages/sklearn/discriminant_analysis.py:935: UserWarning: Variables are collinear\n",
      "  warnings.warn(\"Variables are collinear\")\n"
     ]
    },
    {
     "name": "stdout",
     "output_type": "stream",
     "text": [
      "cv\n",
      "individual models\n"
     ]
    },
    {
     "name": "stderr",
     "output_type": "stream",
     "text": [
      "/home/wanlab/nick/.local/lib/python3.8/site-packages/sklearn/discriminant_analysis.py:935: UserWarning: Variables are collinear\n",
      "  warnings.warn(\"Variables are collinear\")\n"
     ]
    },
    {
     "name": "stdout",
     "output_type": "stream",
     "text": [
      "cv\n",
      "individual models\n"
     ]
    },
    {
     "name": "stderr",
     "output_type": "stream",
     "text": [
      "/home/wanlab/nick/.local/lib/python3.8/site-packages/sklearn/discriminant_analysis.py:935: UserWarning: Variables are collinear\n",
      "  warnings.warn(\"Variables are collinear\")\n"
     ]
    },
    {
     "name": "stdout",
     "output_type": "stream",
     "text": [
      "cv\n",
      "individual models\n"
     ]
    },
    {
     "name": "stderr",
     "output_type": "stream",
     "text": [
      "/home/wanlab/nick/.local/lib/python3.8/site-packages/sklearn/discriminant_analysis.py:935: UserWarning: Variables are collinear\n",
      "  warnings.warn(\"Variables are collinear\")\n"
     ]
    },
    {
     "name": "stdout",
     "output_type": "stream",
     "text": [
      "cv\n",
      "individual models\n"
     ]
    },
    {
     "name": "stderr",
     "output_type": "stream",
     "text": [
      "/home/wanlab/nick/.local/lib/python3.8/site-packages/sklearn/discriminant_analysis.py:935: UserWarning: Variables are collinear\n",
      "  warnings.warn(\"Variables are collinear\")\n"
     ]
    },
    {
     "name": "stdout",
     "output_type": "stream",
     "text": [
      "cv\n",
      "individual models\n"
     ]
    },
    {
     "name": "stderr",
     "output_type": "stream",
     "text": [
      "/home/wanlab/nick/.local/lib/python3.8/site-packages/sklearn/discriminant_analysis.py:935: UserWarning: Variables are collinear\n",
      "  warnings.warn(\"Variables are collinear\")\n"
     ]
    },
    {
     "name": "stdout",
     "output_type": "stream",
     "text": [
      "cv\n",
      "individual models\n"
     ]
    },
    {
     "name": "stderr",
     "output_type": "stream",
     "text": [
      "/home/wanlab/nick/.local/lib/python3.8/site-packages/sklearn/discriminant_analysis.py:935: UserWarning: Variables are collinear\n",
      "  warnings.warn(\"Variables are collinear\")\n"
     ]
    },
    {
     "name": "stdout",
     "output_type": "stream",
     "text": [
      "cv\n",
      "individual models\n"
     ]
    },
    {
     "name": "stderr",
     "output_type": "stream",
     "text": [
      "/home/wanlab/nick/.local/lib/python3.8/site-packages/sklearn/discriminant_analysis.py:935: UserWarning: Variables are collinear\n",
      "  warnings.warn(\"Variables are collinear\")\n"
     ]
    },
    {
     "name": "stdout",
     "output_type": "stream",
     "text": [
      "cv\n",
      "individual models\n"
     ]
    },
    {
     "name": "stderr",
     "output_type": "stream",
     "text": [
      "/home/wanlab/nick/.local/lib/python3.8/site-packages/sklearn/discriminant_analysis.py:935: UserWarning: Variables are collinear\n",
      "  warnings.warn(\"Variables are collinear\")\n"
     ]
    },
    {
     "name": "stdout",
     "output_type": "stream",
     "text": [
      "cv\n",
      "individual models\n"
     ]
    },
    {
     "name": "stderr",
     "output_type": "stream",
     "text": [
      "/home/wanlab/nick/.local/lib/python3.8/site-packages/sklearn/discriminant_analysis.py:935: UserWarning: Variables are collinear\n",
      "  warnings.warn(\"Variables are collinear\")\n"
     ]
    },
    {
     "name": "stdout",
     "output_type": "stream",
     "text": [
      "cv\n",
      "individual models\n"
     ]
    },
    {
     "name": "stderr",
     "output_type": "stream",
     "text": [
      "/home/wanlab/nick/.local/lib/python3.8/site-packages/sklearn/discriminant_analysis.py:935: UserWarning: Variables are collinear\n",
      "  warnings.warn(\"Variables are collinear\")\n"
     ]
    },
    {
     "name": "stdout",
     "output_type": "stream",
     "text": [
      "cv\n",
      "individual models\n"
     ]
    },
    {
     "name": "stderr",
     "output_type": "stream",
     "text": [
      "/home/wanlab/nick/.local/lib/python3.8/site-packages/sklearn/discriminant_analysis.py:935: UserWarning: Variables are collinear\n",
      "  warnings.warn(\"Variables are collinear\")\n"
     ]
    },
    {
     "name": "stdout",
     "output_type": "stream",
     "text": [
      "cv\n",
      "individual models\n"
     ]
    },
    {
     "name": "stderr",
     "output_type": "stream",
     "text": [
      "/home/wanlab/nick/.local/lib/python3.8/site-packages/sklearn/discriminant_analysis.py:935: UserWarning: Variables are collinear\n",
      "  warnings.warn(\"Variables are collinear\")\n"
     ]
    },
    {
     "name": "stdout",
     "output_type": "stream",
     "text": [
      "cv\n",
      "individual models\n"
     ]
    },
    {
     "name": "stderr",
     "output_type": "stream",
     "text": [
      "/home/wanlab/nick/.local/lib/python3.8/site-packages/sklearn/discriminant_analysis.py:935: UserWarning: Variables are collinear\n",
      "  warnings.warn(\"Variables are collinear\")\n"
     ]
    },
    {
     "name": "stdout",
     "output_type": "stream",
     "text": [
      "cv\n",
      "individual models\n"
     ]
    },
    {
     "name": "stderr",
     "output_type": "stream",
     "text": [
      "/home/wanlab/nick/.local/lib/python3.8/site-packages/sklearn/discriminant_analysis.py:935: UserWarning: Variables are collinear\n",
      "  warnings.warn(\"Variables are collinear\")\n"
     ]
    },
    {
     "name": "stdout",
     "output_type": "stream",
     "text": [
      "cv\n",
      "individual models\n"
     ]
    },
    {
     "name": "stderr",
     "output_type": "stream",
     "text": [
      "/home/wanlab/nick/.local/lib/python3.8/site-packages/sklearn/discriminant_analysis.py:935: UserWarning: Variables are collinear\n",
      "  warnings.warn(\"Variables are collinear\")\n"
     ]
    },
    {
     "name": "stdout",
     "output_type": "stream",
     "text": [
      "cv\n",
      "individual models\n"
     ]
    },
    {
     "name": "stderr",
     "output_type": "stream",
     "text": [
      "/home/wanlab/nick/.local/lib/python3.8/site-packages/sklearn/discriminant_analysis.py:935: UserWarning: Variables are collinear\n",
      "  warnings.warn(\"Variables are collinear\")\n"
     ]
    },
    {
     "name": "stdout",
     "output_type": "stream",
     "text": [
      "cv\n",
      "individual models\n"
     ]
    },
    {
     "name": "stderr",
     "output_type": "stream",
     "text": [
      "/home/wanlab/nick/.local/lib/python3.8/site-packages/sklearn/discriminant_analysis.py:935: UserWarning: Variables are collinear\n",
      "  warnings.warn(\"Variables are collinear\")\n"
     ]
    },
    {
     "name": "stdout",
     "output_type": "stream",
     "text": [
      "cv\n",
      "individual models\n"
     ]
    },
    {
     "name": "stderr",
     "output_type": "stream",
     "text": [
      "/home/wanlab/nick/.local/lib/python3.8/site-packages/sklearn/discriminant_analysis.py:935: UserWarning: Variables are collinear\n",
      "  warnings.warn(\"Variables are collinear\")\n"
     ]
    },
    {
     "name": "stdout",
     "output_type": "stream",
     "text": [
      "cv\n",
      "individual models\n"
     ]
    },
    {
     "name": "stderr",
     "output_type": "stream",
     "text": [
      "/home/wanlab/nick/.local/lib/python3.8/site-packages/sklearn/discriminant_analysis.py:935: UserWarning: Variables are collinear\n",
      "  warnings.warn(\"Variables are collinear\")\n"
     ]
    },
    {
     "name": "stdout",
     "output_type": "stream",
     "text": [
      "cv\n",
      "individual models\n"
     ]
    },
    {
     "name": "stderr",
     "output_type": "stream",
     "text": [
      "/home/wanlab/nick/.local/lib/python3.8/site-packages/sklearn/discriminant_analysis.py:935: UserWarning: Variables are collinear\n",
      "  warnings.warn(\"Variables are collinear\")\n"
     ]
    },
    {
     "name": "stdout",
     "output_type": "stream",
     "text": [
      "cv\n",
      "individual models\n"
     ]
    },
    {
     "name": "stderr",
     "output_type": "stream",
     "text": [
      "/home/wanlab/nick/.local/lib/python3.8/site-packages/sklearn/discriminant_analysis.py:935: UserWarning: Variables are collinear\n",
      "  warnings.warn(\"Variables are collinear\")\n"
     ]
    },
    {
     "name": "stdout",
     "output_type": "stream",
     "text": [
      "cv\n",
      "individual models\n"
     ]
    },
    {
     "name": "stderr",
     "output_type": "stream",
     "text": [
      "/home/wanlab/nick/.local/lib/python3.8/site-packages/sklearn/discriminant_analysis.py:935: UserWarning: Variables are collinear\n",
      "  warnings.warn(\"Variables are collinear\")\n"
     ]
    },
    {
     "name": "stdout",
     "output_type": "stream",
     "text": [
      "cv\n",
      "individual models\n"
     ]
    },
    {
     "name": "stderr",
     "output_type": "stream",
     "text": [
      "/home/wanlab/nick/.local/lib/python3.8/site-packages/sklearn/discriminant_analysis.py:935: UserWarning: Variables are collinear\n",
      "  warnings.warn(\"Variables are collinear\")\n"
     ]
    },
    {
     "name": "stdout",
     "output_type": "stream",
     "text": [
      "cv\n",
      "individual models\n"
     ]
    },
    {
     "name": "stderr",
     "output_type": "stream",
     "text": [
      "/home/wanlab/nick/.local/lib/python3.8/site-packages/sklearn/discriminant_analysis.py:935: UserWarning: Variables are collinear\n",
      "  warnings.warn(\"Variables are collinear\")\n"
     ]
    },
    {
     "name": "stdout",
     "output_type": "stream",
     "text": [
      "cv\n",
      "individual models\n"
     ]
    },
    {
     "name": "stderr",
     "output_type": "stream",
     "text": [
      "/home/wanlab/nick/.local/lib/python3.8/site-packages/sklearn/discriminant_analysis.py:935: UserWarning: Variables are collinear\n",
      "  warnings.warn(\"Variables are collinear\")\n"
     ]
    },
    {
     "name": "stdout",
     "output_type": "stream",
     "text": [
      "cv\n",
      "individual models\n"
     ]
    },
    {
     "name": "stderr",
     "output_type": "stream",
     "text": [
      "/home/wanlab/nick/.local/lib/python3.8/site-packages/sklearn/discriminant_analysis.py:935: UserWarning: Variables are collinear\n",
      "  warnings.warn(\"Variables are collinear\")\n"
     ]
    },
    {
     "name": "stdout",
     "output_type": "stream",
     "text": [
      "cv\n",
      "individual models\n"
     ]
    },
    {
     "name": "stderr",
     "output_type": "stream",
     "text": [
      "/home/wanlab/nick/.local/lib/python3.8/site-packages/sklearn/discriminant_analysis.py:935: UserWarning: Variables are collinear\n",
      "  warnings.warn(\"Variables are collinear\")\n"
     ]
    },
    {
     "name": "stdout",
     "output_type": "stream",
     "text": [
      "cv\n",
      "individual models\n"
     ]
    },
    {
     "name": "stderr",
     "output_type": "stream",
     "text": [
      "/home/wanlab/nick/.local/lib/python3.8/site-packages/sklearn/discriminant_analysis.py:935: UserWarning: Variables are collinear\n",
      "  warnings.warn(\"Variables are collinear\")\n"
     ]
    },
    {
     "name": "stdout",
     "output_type": "stream",
     "text": [
      "cv\n",
      "individual models\n"
     ]
    },
    {
     "name": "stderr",
     "output_type": "stream",
     "text": [
      "/home/wanlab/nick/.local/lib/python3.8/site-packages/sklearn/discriminant_analysis.py:935: UserWarning: Variables are collinear\n",
      "  warnings.warn(\"Variables are collinear\")\n"
     ]
    },
    {
     "name": "stdout",
     "output_type": "stream",
     "text": [
      "cv\n",
      "individual models\n"
     ]
    },
    {
     "name": "stderr",
     "output_type": "stream",
     "text": [
      "/home/wanlab/nick/.local/lib/python3.8/site-packages/sklearn/discriminant_analysis.py:935: UserWarning: Variables are collinear\n",
      "  warnings.warn(\"Variables are collinear\")\n"
     ]
    },
    {
     "name": "stdout",
     "output_type": "stream",
     "text": [
      "cv\n",
      "individual models\n"
     ]
    },
    {
     "name": "stderr",
     "output_type": "stream",
     "text": [
      "/home/wanlab/nick/.local/lib/python3.8/site-packages/sklearn/discriminant_analysis.py:935: UserWarning: Variables are collinear\n",
      "  warnings.warn(\"Variables are collinear\")\n"
     ]
    },
    {
     "name": "stdout",
     "output_type": "stream",
     "text": [
      "cv\n",
      "individual models\n"
     ]
    },
    {
     "name": "stderr",
     "output_type": "stream",
     "text": [
      "/home/wanlab/nick/.local/lib/python3.8/site-packages/sklearn/discriminant_analysis.py:935: UserWarning: Variables are collinear\n",
      "  warnings.warn(\"Variables are collinear\")\n"
     ]
    },
    {
     "name": "stdout",
     "output_type": "stream",
     "text": [
      "cv\n",
      "individual models\n"
     ]
    },
    {
     "name": "stderr",
     "output_type": "stream",
     "text": [
      "/home/wanlab/nick/.local/lib/python3.8/site-packages/sklearn/discriminant_analysis.py:935: UserWarning: Variables are collinear\n",
      "  warnings.warn(\"Variables are collinear\")\n"
     ]
    },
    {
     "name": "stdout",
     "output_type": "stream",
     "text": [
      "cv\n",
      "individual models\n"
     ]
    },
    {
     "name": "stderr",
     "output_type": "stream",
     "text": [
      "/home/wanlab/nick/.local/lib/python3.8/site-packages/sklearn/discriminant_analysis.py:935: UserWarning: Variables are collinear\n",
      "  warnings.warn(\"Variables are collinear\")\n"
     ]
    },
    {
     "name": "stdout",
     "output_type": "stream",
     "text": [
      "cv\n",
      "individual models\n"
     ]
    },
    {
     "name": "stderr",
     "output_type": "stream",
     "text": [
      "/home/wanlab/nick/.local/lib/python3.8/site-packages/sklearn/discriminant_analysis.py:935: UserWarning: Variables are collinear\n",
      "  warnings.warn(\"Variables are collinear\")\n"
     ]
    },
    {
     "name": "stdout",
     "output_type": "stream",
     "text": [
      "cv\n",
      "individual models\n"
     ]
    },
    {
     "name": "stderr",
     "output_type": "stream",
     "text": [
      "/home/wanlab/nick/.local/lib/python3.8/site-packages/sklearn/discriminant_analysis.py:935: UserWarning: Variables are collinear\n",
      "  warnings.warn(\"Variables are collinear\")\n"
     ]
    },
    {
     "name": "stdout",
     "output_type": "stream",
     "text": [
      "cv\n",
      "individual models\n"
     ]
    },
    {
     "name": "stderr",
     "output_type": "stream",
     "text": [
      "/home/wanlab/nick/.local/lib/python3.8/site-packages/sklearn/discriminant_analysis.py:935: UserWarning: Variables are collinear\n",
      "  warnings.warn(\"Variables are collinear\")\n"
     ]
    },
    {
     "name": "stdout",
     "output_type": "stream",
     "text": [
      "cv\n",
      "individual models\n"
     ]
    },
    {
     "name": "stderr",
     "output_type": "stream",
     "text": [
      "/home/wanlab/nick/.local/lib/python3.8/site-packages/sklearn/discriminant_analysis.py:935: UserWarning: Variables are collinear\n",
      "  warnings.warn(\"Variables are collinear\")\n"
     ]
    },
    {
     "name": "stdout",
     "output_type": "stream",
     "text": [
      "cv\n",
      "individual models\n"
     ]
    },
    {
     "name": "stderr",
     "output_type": "stream",
     "text": [
      "/home/wanlab/nick/.local/lib/python3.8/site-packages/sklearn/discriminant_analysis.py:935: UserWarning: Variables are collinear\n",
      "  warnings.warn(\"Variables are collinear\")\n"
     ]
    },
    {
     "name": "stdout",
     "output_type": "stream",
     "text": [
      "cv\n",
      "individual models\n"
     ]
    },
    {
     "name": "stderr",
     "output_type": "stream",
     "text": [
      "/home/wanlab/nick/.local/lib/python3.8/site-packages/sklearn/discriminant_analysis.py:935: UserWarning: Variables are collinear\n",
      "  warnings.warn(\"Variables are collinear\")\n"
     ]
    },
    {
     "name": "stdout",
     "output_type": "stream",
     "text": [
      "cv\n",
      "individual models\n"
     ]
    },
    {
     "name": "stderr",
     "output_type": "stream",
     "text": [
      "/home/wanlab/nick/.local/lib/python3.8/site-packages/sklearn/discriminant_analysis.py:935: UserWarning: Variables are collinear\n",
      "  warnings.warn(\"Variables are collinear\")\n"
     ]
    },
    {
     "name": "stdout",
     "output_type": "stream",
     "text": [
      "cv\n",
      "individual models\n"
     ]
    },
    {
     "name": "stderr",
     "output_type": "stream",
     "text": [
      "/home/wanlab/nick/.local/lib/python3.8/site-packages/sklearn/discriminant_analysis.py:935: UserWarning: Variables are collinear\n",
      "  warnings.warn(\"Variables are collinear\")\n"
     ]
    },
    {
     "name": "stdout",
     "output_type": "stream",
     "text": [
      "cv\n",
      "individual models\n"
     ]
    },
    {
     "name": "stderr",
     "output_type": "stream",
     "text": [
      "/home/wanlab/nick/.local/lib/python3.8/site-packages/sklearn/discriminant_analysis.py:935: UserWarning: Variables are collinear\n",
      "  warnings.warn(\"Variables are collinear\")\n"
     ]
    },
    {
     "name": "stdout",
     "output_type": "stream",
     "text": [
      "cv\n",
      "individual models\n"
     ]
    },
    {
     "name": "stderr",
     "output_type": "stream",
     "text": [
      "/home/wanlab/nick/.local/lib/python3.8/site-packages/sklearn/discriminant_analysis.py:935: UserWarning: Variables are collinear\n",
      "  warnings.warn(\"Variables are collinear\")\n"
     ]
    },
    {
     "name": "stdout",
     "output_type": "stream",
     "text": [
      "cv\n",
      "individual models\n"
     ]
    },
    {
     "name": "stderr",
     "output_type": "stream",
     "text": [
      "/home/wanlab/nick/.local/lib/python3.8/site-packages/sklearn/discriminant_analysis.py:935: UserWarning: Variables are collinear\n",
      "  warnings.warn(\"Variables are collinear\")\n"
     ]
    },
    {
     "name": "stdout",
     "output_type": "stream",
     "text": [
      "cv\n",
      "individual models\n"
     ]
    },
    {
     "name": "stderr",
     "output_type": "stream",
     "text": [
      "/home/wanlab/nick/.local/lib/python3.8/site-packages/sklearn/discriminant_analysis.py:935: UserWarning: Variables are collinear\n",
      "  warnings.warn(\"Variables are collinear\")\n"
     ]
    },
    {
     "name": "stdout",
     "output_type": "stream",
     "text": [
      "cv\n",
      "individual models\n"
     ]
    },
    {
     "name": "stderr",
     "output_type": "stream",
     "text": [
      "/home/wanlab/nick/.local/lib/python3.8/site-packages/sklearn/discriminant_analysis.py:935: UserWarning: Variables are collinear\n",
      "  warnings.warn(\"Variables are collinear\")\n"
     ]
    },
    {
     "name": "stdout",
     "output_type": "stream",
     "text": [
      "cv\n",
      "individual models\n"
     ]
    },
    {
     "name": "stderr",
     "output_type": "stream",
     "text": [
      "/home/wanlab/nick/.local/lib/python3.8/site-packages/sklearn/discriminant_analysis.py:935: UserWarning: Variables are collinear\n",
      "  warnings.warn(\"Variables are collinear\")\n"
     ]
    },
    {
     "name": "stdout",
     "output_type": "stream",
     "text": [
      "cv\n",
      "individual models\n"
     ]
    },
    {
     "name": "stderr",
     "output_type": "stream",
     "text": [
      "/home/wanlab/nick/.local/lib/python3.8/site-packages/sklearn/discriminant_analysis.py:935: UserWarning: Variables are collinear\n",
      "  warnings.warn(\"Variables are collinear\")\n"
     ]
    },
    {
     "name": "stdout",
     "output_type": "stream",
     "text": [
      "cv\n",
      "individual models\n"
     ]
    },
    {
     "name": "stderr",
     "output_type": "stream",
     "text": [
      "/home/wanlab/nick/.local/lib/python3.8/site-packages/sklearn/discriminant_analysis.py:935: UserWarning: Variables are collinear\n",
      "  warnings.warn(\"Variables are collinear\")\n"
     ]
    },
    {
     "name": "stdout",
     "output_type": "stream",
     "text": [
      "cv\n",
      "individual models\n"
     ]
    },
    {
     "name": "stderr",
     "output_type": "stream",
     "text": [
      "/home/wanlab/nick/.local/lib/python3.8/site-packages/sklearn/discriminant_analysis.py:935: UserWarning: Variables are collinear\n",
      "  warnings.warn(\"Variables are collinear\")\n"
     ]
    },
    {
     "name": "stdout",
     "output_type": "stream",
     "text": [
      "cv\n",
      "individual models\n"
     ]
    },
    {
     "name": "stderr",
     "output_type": "stream",
     "text": [
      "/home/wanlab/nick/.local/lib/python3.8/site-packages/sklearn/discriminant_analysis.py:935: UserWarning: Variables are collinear\n",
      "  warnings.warn(\"Variables are collinear\")\n"
     ]
    },
    {
     "name": "stdout",
     "output_type": "stream",
     "text": [
      "cv\n",
      "individual models\n"
     ]
    },
    {
     "name": "stderr",
     "output_type": "stream",
     "text": [
      "/home/wanlab/nick/.local/lib/python3.8/site-packages/sklearn/discriminant_analysis.py:935: UserWarning: Variables are collinear\n",
      "  warnings.warn(\"Variables are collinear\")\n"
     ]
    },
    {
     "name": "stdout",
     "output_type": "stream",
     "text": [
      "cv\n",
      "individual models\n"
     ]
    },
    {
     "name": "stderr",
     "output_type": "stream",
     "text": [
      "/home/wanlab/nick/.local/lib/python3.8/site-packages/sklearn/discriminant_analysis.py:935: UserWarning: Variables are collinear\n",
      "  warnings.warn(\"Variables are collinear\")\n"
     ]
    },
    {
     "name": "stdout",
     "output_type": "stream",
     "text": [
      "cv\n",
      "individual models\n"
     ]
    },
    {
     "name": "stderr",
     "output_type": "stream",
     "text": [
      "/home/wanlab/nick/.local/lib/python3.8/site-packages/sklearn/discriminant_analysis.py:935: UserWarning: Variables are collinear\n",
      "  warnings.warn(\"Variables are collinear\")\n"
     ]
    },
    {
     "name": "stdout",
     "output_type": "stream",
     "text": [
      "cv\n",
      "individual models\n"
     ]
    },
    {
     "name": "stderr",
     "output_type": "stream",
     "text": [
      "/home/wanlab/nick/.local/lib/python3.8/site-packages/sklearn/discriminant_analysis.py:935: UserWarning: Variables are collinear\n",
      "  warnings.warn(\"Variables are collinear\")\n"
     ]
    },
    {
     "name": "stdout",
     "output_type": "stream",
     "text": [
      "cv\n",
      "individual models\n"
     ]
    },
    {
     "name": "stderr",
     "output_type": "stream",
     "text": [
      "/home/wanlab/nick/.local/lib/python3.8/site-packages/sklearn/discriminant_analysis.py:935: UserWarning: Variables are collinear\n",
      "  warnings.warn(\"Variables are collinear\")\n"
     ]
    },
    {
     "name": "stdout",
     "output_type": "stream",
     "text": [
      "cv\n",
      "individual models\n"
     ]
    },
    {
     "name": "stderr",
     "output_type": "stream",
     "text": [
      "/home/wanlab/nick/.local/lib/python3.8/site-packages/sklearn/discriminant_analysis.py:935: UserWarning: Variables are collinear\n",
      "  warnings.warn(\"Variables are collinear\")\n"
     ]
    },
    {
     "name": "stdout",
     "output_type": "stream",
     "text": [
      "cv\n",
      "individual models\n"
     ]
    },
    {
     "name": "stderr",
     "output_type": "stream",
     "text": [
      "/home/wanlab/nick/.local/lib/python3.8/site-packages/sklearn/discriminant_analysis.py:935: UserWarning: Variables are collinear\n",
      "  warnings.warn(\"Variables are collinear\")\n"
     ]
    },
    {
     "name": "stdout",
     "output_type": "stream",
     "text": [
      "cv\n",
      "individual models\n"
     ]
    },
    {
     "name": "stderr",
     "output_type": "stream",
     "text": [
      "/home/wanlab/nick/.local/lib/python3.8/site-packages/sklearn/discriminant_analysis.py:935: UserWarning: Variables are collinear\n",
      "  warnings.warn(\"Variables are collinear\")\n"
     ]
    },
    {
     "name": "stdout",
     "output_type": "stream",
     "text": [
      "cv\n",
      "individual models\n"
     ]
    },
    {
     "name": "stderr",
     "output_type": "stream",
     "text": [
      "/home/wanlab/nick/.local/lib/python3.8/site-packages/sklearn/discriminant_analysis.py:935: UserWarning: Variables are collinear\n",
      "  warnings.warn(\"Variables are collinear\")\n"
     ]
    },
    {
     "name": "stdout",
     "output_type": "stream",
     "text": [
      "cv\n",
      "individual models\n"
     ]
    },
    {
     "name": "stderr",
     "output_type": "stream",
     "text": [
      "/home/wanlab/nick/.local/lib/python3.8/site-packages/sklearn/discriminant_analysis.py:935: UserWarning: Variables are collinear\n",
      "  warnings.warn(\"Variables are collinear\")\n"
     ]
    },
    {
     "name": "stdout",
     "output_type": "stream",
     "text": [
      "cv\n",
      "individual models\n"
     ]
    },
    {
     "name": "stderr",
     "output_type": "stream",
     "text": [
      "/home/wanlab/nick/.local/lib/python3.8/site-packages/sklearn/discriminant_analysis.py:935: UserWarning: Variables are collinear\n",
      "  warnings.warn(\"Variables are collinear\")\n"
     ]
    },
    {
     "name": "stdout",
     "output_type": "stream",
     "text": [
      "cv\n",
      "individual models\n"
     ]
    },
    {
     "name": "stderr",
     "output_type": "stream",
     "text": [
      "/home/wanlab/nick/.local/lib/python3.8/site-packages/sklearn/discriminant_analysis.py:935: UserWarning: Variables are collinear\n",
      "  warnings.warn(\"Variables are collinear\")\n"
     ]
    },
    {
     "name": "stdout",
     "output_type": "stream",
     "text": [
      "cv\n",
      "individual models\n"
     ]
    },
    {
     "name": "stderr",
     "output_type": "stream",
     "text": [
      "/home/wanlab/nick/.local/lib/python3.8/site-packages/sklearn/discriminant_analysis.py:935: UserWarning: Variables are collinear\n",
      "  warnings.warn(\"Variables are collinear\")\n"
     ]
    },
    {
     "name": "stdout",
     "output_type": "stream",
     "text": [
      "cv\n",
      "individual models\n"
     ]
    },
    {
     "name": "stderr",
     "output_type": "stream",
     "text": [
      "/home/wanlab/nick/.local/lib/python3.8/site-packages/sklearn/discriminant_analysis.py:935: UserWarning: Variables are collinear\n",
      "  warnings.warn(\"Variables are collinear\")\n"
     ]
    },
    {
     "name": "stdout",
     "output_type": "stream",
     "text": [
      "cv\n",
      "individual models\n"
     ]
    },
    {
     "name": "stderr",
     "output_type": "stream",
     "text": [
      "/home/wanlab/nick/.local/lib/python3.8/site-packages/sklearn/discriminant_analysis.py:935: UserWarning: Variables are collinear\n",
      "  warnings.warn(\"Variables are collinear\")\n"
     ]
    },
    {
     "name": "stdout",
     "output_type": "stream",
     "text": [
      "cv\n",
      "individual models\n"
     ]
    },
    {
     "name": "stderr",
     "output_type": "stream",
     "text": [
      "/home/wanlab/nick/.local/lib/python3.8/site-packages/sklearn/discriminant_analysis.py:935: UserWarning: Variables are collinear\n",
      "  warnings.warn(\"Variables are collinear\")\n"
     ]
    },
    {
     "name": "stdout",
     "output_type": "stream",
     "text": [
      "cv\n",
      "individual models\n"
     ]
    },
    {
     "name": "stderr",
     "output_type": "stream",
     "text": [
      "/home/wanlab/nick/.local/lib/python3.8/site-packages/sklearn/discriminant_analysis.py:935: UserWarning: Variables are collinear\n",
      "  warnings.warn(\"Variables are collinear\")\n"
     ]
    },
    {
     "name": "stdout",
     "output_type": "stream",
     "text": [
      "cv\n",
      "individual models\n"
     ]
    },
    {
     "name": "stderr",
     "output_type": "stream",
     "text": [
      "/home/wanlab/nick/.local/lib/python3.8/site-packages/sklearn/discriminant_analysis.py:935: UserWarning: Variables are collinear\n",
      "  warnings.warn(\"Variables are collinear\")\n"
     ]
    },
    {
     "name": "stdout",
     "output_type": "stream",
     "text": [
      "cv\n",
      "individual models\n"
     ]
    },
    {
     "name": "stderr",
     "output_type": "stream",
     "text": [
      "/home/wanlab/nick/.local/lib/python3.8/site-packages/sklearn/discriminant_analysis.py:935: UserWarning: Variables are collinear\n",
      "  warnings.warn(\"Variables are collinear\")\n"
     ]
    },
    {
     "name": "stdout",
     "output_type": "stream",
     "text": [
      "cv\n",
      "individual models\n"
     ]
    },
    {
     "name": "stderr",
     "output_type": "stream",
     "text": [
      "/home/wanlab/nick/.local/lib/python3.8/site-packages/sklearn/discriminant_analysis.py:935: UserWarning: Variables are collinear\n",
      "  warnings.warn(\"Variables are collinear\")\n"
     ]
    },
    {
     "name": "stdout",
     "output_type": "stream",
     "text": [
      "cv\n",
      "individual models\n"
     ]
    },
    {
     "name": "stderr",
     "output_type": "stream",
     "text": [
      "/home/wanlab/nick/.local/lib/python3.8/site-packages/sklearn/discriminant_analysis.py:935: UserWarning: Variables are collinear\n",
      "  warnings.warn(\"Variables are collinear\")\n"
     ]
    },
    {
     "name": "stdout",
     "output_type": "stream",
     "text": [
      "cv\n",
      "individual models\n"
     ]
    },
    {
     "name": "stderr",
     "output_type": "stream",
     "text": [
      "/home/wanlab/nick/.local/lib/python3.8/site-packages/sklearn/discriminant_analysis.py:935: UserWarning: Variables are collinear\n",
      "  warnings.warn(\"Variables are collinear\")\n"
     ]
    },
    {
     "name": "stdout",
     "output_type": "stream",
     "text": [
      "cv\n",
      "\n",
      "model score of oof results for SVC\n",
      "Model Accuracy: 0.8854166666666666\n",
      "Precision: 0.8919061302681993\n",
      "Recall (Sensitivity): 0.8854166666666666\n",
      "F1 Score: 0.8857101756473199\n",
      "Matthews Correlation Coefficient (MCC): 0.8472960378489632\n",
      "G-Measure: 0.922854990857229\n",
      "AUC: 0.9881307573979227\n",
      "Specificity: 0.9613969803670508\n",
      "Jaccard Index: 0.797150428580776\n",
      "Saving metrics to: /work/wanlab/nick//stackeval9/val_data/individual models/SVC/limma(0),metrics.csv\n",
      "PREDICTIONS                   subtype  Squamous      ADEX  Pancreatic Progenitor  \\\n",
      "0   Pancreatic Progenitor  0.123801  0.043076               0.798995   \n",
      "1                    ADEX  0.029669  0.902184               0.016707   \n",
      "2   Pancreatic Progenitor  0.254808  0.207487               0.501463   \n",
      "3   Pancreatic Progenitor  0.005286  0.078044               0.868099   \n",
      "4                    ADEX  0.112719  0.675705               0.189945   \n",
      "..                    ...       ...       ...                    ...   \n",
      "91            Immunogenic  0.006274  0.046906               0.006382   \n",
      "92                   ADEX  0.010075  0.786525               0.157589   \n",
      "93            Immunogenic  0.043831  0.035639               0.441532   \n",
      "94               Squamous  0.646339  0.061632               0.263024   \n",
      "95  Pancreatic Progenitor  0.001637  0.018027               0.874868   \n",
      "\n",
      "    Immunogenic  \n",
      "0      0.034128  \n",
      "1      0.051441  \n",
      "2      0.036242  \n",
      "3      0.048571  \n",
      "4      0.021631  \n",
      "..          ...  \n",
      "91     0.940437  \n",
      "92     0.045811  \n",
      "93     0.478998  \n",
      "94     0.029005  \n",
      "95     0.105468  \n",
      "\n",
      "[96 rows x 5 columns]\n",
      "\n",
      "model score of oof results for SVC2\n",
      "Model Accuracy: 0.9270833333333334\n",
      "Precision: 0.9282457295657727\n",
      "Recall (Sensitivity): 0.9270833333333334\n",
      "F1 Score: 0.927124353652804\n",
      "Matthews Correlation Coefficient (MCC): 0.9017909960019698\n",
      "G-Measure: 0.9519085598926197\n",
      "AUC: 0.9858713121532224\n",
      "Specificity: 0.9752147353819889\n",
      "Jaccard Index: 0.8669652957336781\n",
      "Saving metrics to: /work/wanlab/nick//stackeval9/val_data/individual models/SVC2/limma(0),metrics.csv\n",
      "PREDICTIONS                   subtype  Squamous      ADEX  Pancreatic Progenitor  \\\n",
      "0   Pancreatic Progenitor  0.186197  0.042772               0.732372   \n",
      "1                    ADEX  0.083454  0.809539               0.033095   \n",
      "2   Pancreatic Progenitor  0.309265  0.163840               0.490048   \n",
      "3   Pancreatic Progenitor  0.014372  0.090531               0.827674   \n",
      "4                    ADEX  0.247502  0.438872               0.280010   \n",
      "..                    ...       ...       ...                    ...   \n",
      "91            Immunogenic  0.017037  0.087744               0.012347   \n",
      "92                   ADEX  0.026416  0.780923               0.113782   \n",
      "93            Immunogenic  0.089966  0.026837               0.670659   \n",
      "94               Squamous  0.598757  0.027075               0.355787   \n",
      "95  Pancreatic Progenitor  0.003937  0.025435               0.751732   \n",
      "\n",
      "    Immunogenic  \n",
      "0      0.038659  \n",
      "1      0.073913  \n",
      "2      0.036848  \n",
      "3      0.067423  \n",
      "4      0.033616  \n",
      "..          ...  \n",
      "91     0.882871  \n",
      "92     0.078879  \n",
      "93     0.212537  \n",
      "94     0.018381  \n",
      "95     0.218896  \n",
      "\n",
      "[96 rows x 5 columns]\n",
      "\n",
      "model score of oof results for KNeighborsClassifier\n",
      "Model Accuracy: 0.8125\n",
      "Precision: 0.8199310816498316\n",
      "Recall (Sensitivity): 0.8125\n",
      "F1 Score: 0.8125190781440782\n",
      "Matthews Correlation Coefficient (MCC): 0.7460321678003263\n",
      "G-Measure: 0.8633985462943907\n",
      "AUC: 0.9584949683898847\n",
      "Specificity: 0.9348818288518993\n",
      "Jaccard Index: 0.6830932288025566\n",
      "Saving metrics to: /work/wanlab/nick//stackeval9/val_data/individual models/KNeighborsClassifier/limma(0),metrics.csv\n",
      "PREDICTIONS                   subtype  Squamous  ADEX  Pancreatic Progenitor  Immunogenic\n",
      "0   Pancreatic Progenitor       0.2   0.0                    0.8          0.0\n",
      "1                    ADEX       0.0   1.0                    0.0          0.0\n",
      "2   Pancreatic Progenitor       0.4   0.0                    0.6          0.0\n",
      "3   Pancreatic Progenitor       0.0   0.0                    1.0          0.0\n",
      "4                    ADEX       0.4   0.2                    0.4          0.0\n",
      "..                    ...       ...   ...                    ...          ...\n",
      "91            Immunogenic       0.0   0.0                    0.0          1.0\n",
      "92                   ADEX       0.0   0.6                    0.4          0.0\n",
      "93            Immunogenic       0.0   0.0                    0.4          0.6\n",
      "94               Squamous       0.4   0.0                    0.6          0.0\n",
      "95  Pancreatic Progenitor       0.0   0.0                    0.6          0.4\n",
      "\n",
      "[96 rows x 5 columns]\n",
      "\n",
      "model score of oof results for QuadraticDiscriminantAnalysis\n",
      "Model Accuracy: 0.8125\n",
      "Precision: 0.8422427398989898\n",
      "Recall (Sensitivity): 0.8125\n",
      "F1 Score: 0.8179834041462035\n",
      "Matthews Correlation Coefficient (MCC): 0.7565073022599094\n",
      "G-Measure: 0.8796245823209131\n",
      "AUC: 0.941972486751316\n",
      "Specificity: 0.9400474818608622\n",
      "Jaccard Index: 0.6841746794871795\n",
      "Saving metrics to: /work/wanlab/nick//stackeval9/val_data/individual models/QuadraticDiscriminantAnalysis/limma(0),metrics.csv\n",
      "PREDICTIONS                   subtype  Squamous           ADEX  Pancreatic Progenitor  \\\n",
      "0   Pancreatic Progenitor       0.0  2.272267e-213           1.000000e+00   \n",
      "1                    ADEX       0.0   1.000000e+00           0.000000e+00   \n",
      "2   Pancreatic Progenitor       0.0   9.016082e-32           1.000000e+00   \n",
      "3   Pancreatic Progenitor       0.0  1.316344e-112           1.000000e+00   \n",
      "4                    ADEX       0.0   1.000000e+00           0.000000e+00   \n",
      "..                    ...       ...            ...                    ...   \n",
      "91            Immunogenic       0.0   0.000000e+00           0.000000e+00   \n",
      "92                   ADEX       0.0   1.000000e+00          5.428026e-131   \n",
      "93            Immunogenic       0.0  1.185421e-146           0.000000e+00   \n",
      "94               Squamous       1.0  1.099996e-289           0.000000e+00   \n",
      "95  Pancreatic Progenitor       0.0   1.000000e+00           5.819005e-13   \n",
      "\n",
      "      Immunogenic  \n",
      "0   3.934384e-271  \n",
      "1    0.000000e+00  \n",
      "2    0.000000e+00  \n",
      "3   1.556498e-292  \n",
      "4    0.000000e+00  \n",
      "..            ...  \n",
      "91   1.000000e+00  \n",
      "92   0.000000e+00  \n",
      "93   1.000000e+00  \n",
      "94  2.681948e-147  \n",
      "95  2.710999e-166  \n",
      "\n",
      "[96 rows x 5 columns]\n",
      "运行时间为: 73.14 秒\n",
      "combining [[1.23801129e-001 4.30759759e-002 7.98995120e-001 ... 2.27226698e-213\n",
      "  1.00000000e+000 3.93438375e-271]\n",
      " [2.96685365e-002 9.02183919e-001 1.67065677e-002 ... 1.00000000e+000\n",
      "  0.00000000e+000 0.00000000e+000]\n",
      " [2.54807672e-001 2.07486990e-001 5.01463418e-001 ... 9.01608210e-032\n",
      "  1.00000000e+000 0.00000000e+000]\n",
      " ...\n",
      " [4.38313550e-002 3.56390652e-002 4.41531554e-001 ... 1.18542119e-146\n",
      "  0.00000000e+000 1.00000000e+000]\n",
      " [6.46339351e-001 6.16320657e-002 2.63023870e-001 ... 1.09999569e-289\n",
      "  0.00000000e+000 2.68194841e-147]\n",
      " [1.63681967e-003 1.80271343e-002 8.74867948e-001 ... 1.00000000e+000\n",
      "  5.81900495e-013 2.71099911e-166]] [[13.56018914 12.68466835 13.10243664 ...  9.53005478 11.16103308\n",
      "  11.24920229]\n",
      " [15.4259582  14.08525845 12.01110512 ...  9.45622747 11.12707631\n",
      "  11.78331935]\n",
      " [14.4756837  13.26517897 12.82291838 ...  9.65623065 11.33179862\n",
      "  11.68015036]\n",
      " ...\n",
      " [14.28976923 13.62192201 12.67277184 ...  9.32578912  9.67174085\n",
      "  11.45401981]\n",
      " [14.71684472 13.81278796 13.58508909 ... 10.31590684 12.7838795\n",
      "  11.90067493]\n",
      " [14.18823419 12.92657629 11.70868561 ...  9.88942006  9.76636631\n",
      "  12.84604452]]\n",
      "stacked\n",
      "cv\n",
      "stacked\n",
      "cv\n",
      "stacked\n",
      "cv\n",
      "stacked\n",
      "cv\n",
      "stacked\n",
      "cv\n",
      "stacked\n",
      "cv\n",
      "stacked\n",
      "cv\n",
      "stacked\n",
      "cv\n",
      "stacked\n",
      "cv\n",
      "stacked\n",
      "cv\n",
      "stacked\n",
      "cv\n",
      "stacked\n",
      "cv\n",
      "stacked\n",
      "cv\n",
      "stacked\n",
      "cv\n",
      "stacked\n",
      "cv\n",
      "stacked\n",
      "cv\n",
      "stacked\n",
      "cv\n",
      "stacked\n",
      "cv\n",
      "stacked\n",
      "cv\n",
      "stacked\n",
      "cv\n",
      "stacked\n",
      "cv\n",
      "stacked\n",
      "cv\n",
      "stacked\n",
      "cv\n",
      "stacked\n",
      "cv\n",
      "stacked\n",
      "cv\n",
      "stacked\n",
      "cv\n",
      "stacked\n",
      "cv\n",
      "stacked\n",
      "cv\n",
      "stacked\n",
      "cv\n",
      "stacked\n",
      "cv\n",
      "stacked\n",
      "cv\n",
      "stacked\n",
      "cv\n",
      "stacked\n",
      "cv\n",
      "stacked\n",
      "cv\n",
      "stacked\n",
      "cv\n",
      "stacked\n",
      "cv\n",
      "stacked\n",
      "cv\n",
      "stacked\n",
      "cv\n",
      "stacked\n",
      "cv\n",
      "stacked\n",
      "cv\n",
      "stacked\n",
      "cv\n",
      "stacked\n",
      "cv\n",
      "stacked\n",
      "cv\n",
      "stacked\n",
      "cv\n",
      "stacked\n",
      "cv\n",
      "stacked\n",
      "cv\n",
      "stacked\n",
      "cv\n",
      "stacked\n",
      "cv\n",
      "stacked\n",
      "cv\n",
      "stacked\n",
      "cv\n",
      "stacked\n",
      "cv\n",
      "stacked\n",
      "cv\n",
      "stacked\n",
      "cv\n",
      "stacked\n",
      "cv\n",
      "stacked\n",
      "cv\n",
      "stacked\n",
      "cv\n",
      "stacked\n",
      "cv\n",
      "stacked\n",
      "cv\n",
      "stacked\n",
      "cv\n",
      "stacked\n",
      "cv\n",
      "stacked\n",
      "cv\n",
      "stacked\n",
      "cv\n",
      "stacked\n",
      "cv\n",
      "stacked\n",
      "cv\n",
      "stacked\n",
      "cv\n",
      "stacked\n",
      "cv\n",
      "stacked\n",
      "cv\n",
      "stacked\n",
      "cv\n",
      "stacked\n",
      "cv\n",
      "stacked\n",
      "cv\n",
      "stacked\n",
      "cv\n",
      "stacked\n",
      "cv\n",
      "stacked\n",
      "cv\n",
      "stacked\n",
      "cv\n",
      "stacked\n",
      "cv\n",
      "stacked\n",
      "cv\n",
      "stacked\n",
      "cv\n",
      "stacked\n",
      "cv\n",
      "stacked\n",
      "cv\n",
      "stacked\n",
      "cv\n",
      "stacked\n",
      "cv\n",
      "stacked\n",
      "cv\n",
      "stacked\n",
      "cv\n",
      "stacked\n",
      "cv\n",
      "stacked\n",
      "cv\n",
      "stacked\n",
      "cv\n",
      "stacked\n",
      "cv\n",
      "stacked\n",
      "cv\n",
      "stacked\n",
      "cv\n",
      "stacked\n",
      "cv\n",
      "stacked\n",
      "cv\n",
      "stacked\n",
      "cv\n",
      "stacked\n",
      "cv\n",
      "stacked\n",
      "cv\n",
      "stacked\n",
      "cv\n",
      "stacked\n",
      "cv\n",
      "\n",
      "model score of oof results for MLPClassifier\n",
      "Model Accuracy: 0.625\n",
      "Precision: 0.6233974358974359\n",
      "Recall (Sensitivity): 0.625\n",
      "F1 Score: 0.6221381619297068\n",
      "Matthews Correlation Coefficient (MCC): 0.4918146809221432\n",
      "G-Measure: 0.7294490924817444\n",
      "AUC: 0.8464331919547589\n",
      "Specificity: 0.8722857981220657\n",
      "Jaccard Index: 0.4478513356562137\n",
      "Saving metrics to: /work/wanlab/nick//stackeval9/val_data/stacked/MLPClassifier/limma(0),metrics.csv\n",
      "PREDICTIONS                   subtype      Squamous          ADEX  Pancreatic Progenitor  \\\n",
      "0             Immunogenic  1.462602e-06  1.080969e-09           4.613570e-06   \n",
      "1                    ADEX  1.648519e-03  9.901817e-01           7.886705e-03   \n",
      "2   Pancreatic Progenitor  6.781507e-07  4.498296e-04           8.123620e-01   \n",
      "3   Pancreatic Progenitor  7.646319e-06  6.096791e-03           9.648123e-01   \n",
      "4   Pancreatic Progenitor  1.733678e-03  2.634136e-02           9.600160e-01   \n",
      "..                    ...           ...           ...                    ...   \n",
      "91                   ADEX  1.577283e-04  1.266326e-04           4.524581e-03   \n",
      "92               Squamous  9.999990e-01  1.721060e-09           6.862053e-07   \n",
      "93                   ADEX  5.829386e-04  9.860568e-01           1.325568e-02   \n",
      "94  Pancreatic Progenitor  2.819856e-06  3.166017e-01           6.312426e-01   \n",
      "95               Squamous  5.470651e-03  5.022895e-02           9.526657e-03   \n",
      "\n",
      "     Immunogenic  \n",
      "0   9.999939e-01  \n",
      "1   2.830586e-04  \n",
      "2   1.871875e-01  \n",
      "3   2.908323e-02  \n",
      "4   1.190899e-02  \n",
      "..           ...  \n",
      "91  9.951911e-01  \n",
      "92  2.840385e-07  \n",
      "93  1.045849e-04  \n",
      "94  5.215294e-02  \n",
      "95  9.347737e-01  \n",
      "\n",
      "[96 rows x 5 columns]\n",
      "\n",
      "model score of oof results for RandomForestClassifier\n",
      "Model Accuracy: 0.8333333333333334\n",
      "Precision: 0.8411852904040403\n",
      "Recall (Sensitivity): 0.8333333333333334\n",
      "F1 Score: 0.8305725909892576\n",
      "Matthews Correlation Coefficient (MCC): 0.7756041173078153\n",
      "G-Measure: 0.8696324014916567\n",
      "AUC: 0.9825544174135722\n",
      "Specificity: 0.941924082373026\n",
      "Jaccard Index: 0.699803832603822\n",
      "Saving metrics to: /work/wanlab/nick//stackeval9/val_data/stacked/RandomForestClassifier/limma(0),metrics.csv\n",
      "PREDICTIONS                   subtype  Squamous  ADEX  Pancreatic Progenitor  Immunogenic\n",
      "0             Immunogenic      0.09  0.04                   0.05         0.82\n",
      "1                    ADEX      0.16  0.34                   0.41         0.09\n",
      "2   Pancreatic Progenitor      0.01  0.07                   0.49         0.43\n",
      "3   Pancreatic Progenitor      0.03  0.18                   0.69         0.10\n",
      "4   Pancreatic Progenitor      0.11  0.14                   0.72         0.03\n",
      "..                    ...       ...   ...                    ...          ...\n",
      "91                   ADEX      0.05  0.34                   0.17         0.44\n",
      "92               Squamous      0.82  0.05                   0.07         0.06\n",
      "93                   ADEX      0.19  0.38                   0.34         0.09\n",
      "94  Pancreatic Progenitor      0.08  0.54                   0.27         0.11\n",
      "95               Squamous      0.40  0.21                   0.30         0.09\n",
      "\n",
      "[96 rows x 5 columns]\n",
      "\n",
      "model score of oof results for LogisticRegression2\n",
      "Model Accuracy: 0.90625\n",
      "Precision: 0.907241010904804\n",
      "Recall (Sensitivity): 0.90625\n",
      "F1 Score: 0.9063258253912099\n",
      "Matthews Correlation Coefficient (MCC): 0.8733101573111083\n",
      "G-Measure: 0.9352788514023854\n",
      "AUC: 0.987585527368758\n",
      "Specificity: 0.9681724818608621\n",
      "Jaccard Index: 0.8275341386554622\n",
      "Saving metrics to: /work/wanlab/nick//stackeval9/val_data/stacked/LogisticRegression2/limma(0),metrics.csv\n",
      "PREDICTIONS                   subtype      Squamous          ADEX  Pancreatic Progenitor  \\\n",
      "0             Immunogenic  3.604753e-09  9.920981e-10           2.276389e-10   \n",
      "1                    ADEX  1.175384e-04  8.843275e-01           1.143759e-01   \n",
      "2   Pancreatic Progenitor  4.388548e-09  4.646449e-06           9.879228e-01   \n",
      "3   Pancreatic Progenitor  8.453944e-06  7.683142e-03           9.914433e-01   \n",
      "4   Pancreatic Progenitor  4.439452e-05  5.550202e-04           9.994005e-01   \n",
      "..                    ...           ...           ...                    ...   \n",
      "91                   ADEX  3.296749e-07  9.375473e-01           2.272386e-02   \n",
      "92               Squamous  1.000000e+00  8.974857e-13           4.542691e-13   \n",
      "93                   ADEX  2.200507e-04  9.825278e-01           1.722456e-02   \n",
      "94  Pancreatic Progenitor  1.830727e-07  6.696094e-01           3.290931e-01   \n",
      "95               Squamous  6.511675e-01  3.268804e-01           2.193521e-02   \n",
      "\n",
      "     Immunogenic  \n",
      "0   1.000000e+00  \n",
      "1   1.178991e-03  \n",
      "2   1.207257e-02  \n",
      "3   8.650611e-04  \n",
      "4   9.406943e-08  \n",
      "..           ...  \n",
      "91  3.972846e-02  \n",
      "92  5.408755e-09  \n",
      "93  2.757903e-05  \n",
      "94  1.297263e-03  \n",
      "95  1.692037e-05  \n",
      "\n",
      "[96 rows x 5 columns]\n",
      "\n",
      "model score of oof results for GaussianNB2\n",
      "Model Accuracy: 0.8020833333333334\n",
      "Precision: 0.8052083333333333\n",
      "Recall (Sensitivity): 0.8020833333333334\n",
      "F1 Score: 0.7957459207459207\n",
      "Matthews Correlation Coefficient (MCC): 0.7328533310202527\n",
      "G-Measure: 0.840122464833061\n",
      "AUC: 0.9147944008749467\n",
      "Specificity: 0.9314900768245838\n",
      "Jaccard Index: 0.6462569997052756\n",
      "Saving metrics to: /work/wanlab/nick//stackeval9/val_data/stacked/GaussianNB2/limma(0),metrics.csv\n",
      "PREDICTIONS                   subtype  Squamous          ADEX  Pancreatic Progenitor  \\\n",
      "0             Immunogenic       0.0  0.000000e+00           0.000000e+00   \n",
      "1                    ADEX       0.0  1.000000e+00           0.000000e+00   \n",
      "2   Pancreatic Progenitor       0.0  0.000000e+00           1.000000e+00   \n",
      "3   Pancreatic Progenitor       0.0  0.000000e+00           1.000000e+00   \n",
      "4   Pancreatic Progenitor       0.0  0.000000e+00           1.000000e+00   \n",
      "..                    ...       ...           ...                    ...   \n",
      "91                   ADEX       0.0  0.000000e+00          6.195933e-128   \n",
      "92               Squamous       1.0  0.000000e+00           0.000000e+00   \n",
      "93                   ADEX       0.0  2.644638e-60           1.000000e+00   \n",
      "94  Pancreatic Progenitor       0.0  1.000000e+00           1.850785e-58   \n",
      "95               Squamous       0.0  1.000000e+00          2.573242e-169   \n",
      "\n",
      "    Immunogenic  \n",
      "0           1.0  \n",
      "1           0.0  \n",
      "2           0.0  \n",
      "3           0.0  \n",
      "4           0.0  \n",
      "..          ...  \n",
      "91          1.0  \n",
      "92          0.0  \n",
      "93          0.0  \n",
      "94          0.0  \n",
      "95          0.0  \n",
      "\n",
      "[96 rows x 5 columns]\n",
      "\n",
      "model score of oof results for SVC3\n",
      "Model Accuracy: 0.8854166666666666\n",
      "Precision: 0.8899869420702754\n",
      "Recall (Sensitivity): 0.8854166666666666\n",
      "F1 Score: 0.88558836996337\n",
      "Matthews Correlation Coefficient (MCC): 0.8468764996745479\n",
      "G-Measure: 0.9232245446642893\n",
      "AUC: 0.9886759874270877\n",
      "Specificity: 0.9617931071276141\n",
      "Jaccard Index: 0.7936763952892986\n",
      "Saving metrics to: /work/wanlab/nick//stackeval9/val_data/stacked/SVC3/limma(0),metrics.csv\n",
      "PREDICTIONS                   subtype  Squamous      ADEX  Pancreatic Progenitor  \\\n",
      "0             Immunogenic  0.003691  0.001671               0.000874   \n",
      "1                    ADEX  0.017087  0.876765               0.082789   \n",
      "2   Pancreatic Progenitor  0.002509  0.024247               0.801938   \n",
      "3   Pancreatic Progenitor  0.007213  0.064579               0.883537   \n",
      "4   Pancreatic Progenitor  0.031247  0.059055               0.904693   \n",
      "..                    ...       ...       ...                    ...   \n",
      "91                   ADEX  0.005956  0.722646               0.076526   \n",
      "92               Squamous  0.994473  0.000963               0.000186   \n",
      "93                   ADEX  0.084538  0.668679               0.216460   \n",
      "94  Pancreatic Progenitor  0.004236  0.728878               0.238201   \n",
      "95               Squamous  0.376292  0.407865               0.199061   \n",
      "\n",
      "    Immunogenic  \n",
      "0      0.993764  \n",
      "1      0.023359  \n",
      "2      0.171307  \n",
      "3      0.044671  \n",
      "4      0.005005  \n",
      "..          ...  \n",
      "91     0.194872  \n",
      "92     0.004378  \n",
      "93     0.030324  \n",
      "94     0.028685  \n",
      "95     0.016782  \n",
      "\n",
      "[96 rows x 5 columns]\n",
      "\n",
      "model score of oof results for SVC4\n",
      "Model Accuracy: 0.9375\n",
      "Precision: 0.9378672542735043\n",
      "Recall (Sensitivity): 0.9375\n",
      "F1 Score: 0.9374874949979993\n",
      "Matthews Correlation Coefficient (MCC): 0.9155529545059609\n",
      "G-Measure: 0.9579504330083998\n",
      "AUC: 0.9848497074619433\n",
      "Specificity: 0.9787358621425523\n",
      "Jaccard Index: 0.882714303670186\n",
      "Saving metrics to: /work/wanlab/nick//stackeval9/val_data/stacked/SVC4/limma(0),metrics.csv\n",
      "PREDICTIONS                   subtype  Squamous      ADEX  Pancreatic Progenitor  \\\n",
      "0             Immunogenic  0.001874  0.001204               0.000695   \n",
      "1                    ADEX  0.042276  0.588364               0.326133   \n",
      "2   Pancreatic Progenitor  0.003626  0.025621               0.785364   \n",
      "3   Pancreatic Progenitor  0.013458  0.075850               0.866755   \n",
      "4   Pancreatic Progenitor  0.043643  0.067180               0.882145   \n",
      "..                    ...       ...       ...                    ...   \n",
      "91                   ADEX  0.012910  0.686565               0.121216   \n",
      "92               Squamous  0.995217  0.000078               0.000142   \n",
      "93                   ADEX  0.048569  0.762060               0.153178   \n",
      "94  Pancreatic Progenitor  0.008421  0.694930               0.255383   \n",
      "95               Squamous  0.419000  0.372984               0.180179   \n",
      "\n",
      "    Immunogenic  \n",
      "0      0.996227  \n",
      "1      0.043227  \n",
      "2      0.185389  \n",
      "3      0.043937  \n",
      "4      0.007032  \n",
      "..          ...  \n",
      "91     0.179309  \n",
      "92     0.004563  \n",
      "93     0.036193  \n",
      "94     0.041266  \n",
      "95     0.027836  \n",
      "\n",
      "[96 rows x 5 columns]\n",
      "run 10\n",
      "Model Pair: SVC + LogisticRegression + GaussianNB + XGBClassifier\n",
      "USEDmodelnames ['SVC', 'LogisticRegression', 'GaussianNB', 'XGBClassifier']\n",
      "Running with: SVC and LogisticRegression and GaussianNB and XGBClassifier\n",
      "Random state: 0\n",
      "['SVC', 'LogisticRegression', 'GaussianNB', 'XGBClassifier']\n",
      "individual models\n"
     ]
    },
    {
     "name": "stderr",
     "output_type": "stream",
     "text": [
      "/home/wanlab/nick/.local/lib/python3.8/site-packages/xgboost/core.py:158: UserWarning: [12:50:22] WARNING: /workspace/src/learner.cc:740: \n",
      "Parameters: { \"use_label_encoder\" } are not used.\n",
      "\n",
      "  warnings.warn(smsg, UserWarning)\n"
     ]
    },
    {
     "name": "stdout",
     "output_type": "stream",
     "text": [
      "cv\n",
      "individual models\n"
     ]
    },
    {
     "name": "stderr",
     "output_type": "stream",
     "text": [
      "/home/wanlab/nick/.local/lib/python3.8/site-packages/xgboost/core.py:158: UserWarning: [12:50:38] WARNING: /workspace/src/learner.cc:740: \n",
      "Parameters: { \"use_label_encoder\" } are not used.\n",
      "\n",
      "  warnings.warn(smsg, UserWarning)\n"
     ]
    },
    {
     "name": "stdout",
     "output_type": "stream",
     "text": [
      "cv\n",
      "individual models\n"
     ]
    },
    {
     "name": "stderr",
     "output_type": "stream",
     "text": [
      "/home/wanlab/nick/.local/lib/python3.8/site-packages/xgboost/core.py:158: UserWarning: [12:50:52] WARNING: /workspace/src/learner.cc:740: \n",
      "Parameters: { \"use_label_encoder\" } are not used.\n",
      "\n",
      "  warnings.warn(smsg, UserWarning)\n"
     ]
    },
    {
     "name": "stdout",
     "output_type": "stream",
     "text": [
      "cv\n",
      "individual models\n"
     ]
    },
    {
     "name": "stderr",
     "output_type": "stream",
     "text": [
      "/home/wanlab/nick/.local/lib/python3.8/site-packages/xgboost/core.py:158: UserWarning: [12:51:06] WARNING: /workspace/src/learner.cc:740: \n",
      "Parameters: { \"use_label_encoder\" } are not used.\n",
      "\n",
      "  warnings.warn(smsg, UserWarning)\n"
     ]
    },
    {
     "name": "stdout",
     "output_type": "stream",
     "text": [
      "cv\n",
      "individual models\n"
     ]
    },
    {
     "name": "stderr",
     "output_type": "stream",
     "text": [
      "/home/wanlab/nick/.local/lib/python3.8/site-packages/xgboost/core.py:158: UserWarning: [12:51:18] WARNING: /workspace/src/learner.cc:740: \n",
      "Parameters: { \"use_label_encoder\" } are not used.\n",
      "\n",
      "  warnings.warn(smsg, UserWarning)\n"
     ]
    },
    {
     "name": "stdout",
     "output_type": "stream",
     "text": [
      "cv\n",
      "individual models\n"
     ]
    },
    {
     "name": "stderr",
     "output_type": "stream",
     "text": [
      "/home/wanlab/nick/.local/lib/python3.8/site-packages/xgboost/core.py:158: UserWarning: [12:51:31] WARNING: /workspace/src/learner.cc:740: \n",
      "Parameters: { \"use_label_encoder\" } are not used.\n",
      "\n",
      "  warnings.warn(smsg, UserWarning)\n"
     ]
    },
    {
     "name": "stdout",
     "output_type": "stream",
     "text": [
      "cv\n",
      "individual models\n"
     ]
    },
    {
     "name": "stderr",
     "output_type": "stream",
     "text": [
      "/home/wanlab/nick/.local/lib/python3.8/site-packages/xgboost/core.py:158: UserWarning: [12:51:43] WARNING: /workspace/src/learner.cc:740: \n",
      "Parameters: { \"use_label_encoder\" } are not used.\n",
      "\n",
      "  warnings.warn(smsg, UserWarning)\n"
     ]
    },
    {
     "name": "stdout",
     "output_type": "stream",
     "text": [
      "cv\n",
      "individual models\n"
     ]
    },
    {
     "name": "stderr",
     "output_type": "stream",
     "text": [
      "/home/wanlab/nick/.local/lib/python3.8/site-packages/xgboost/core.py:158: UserWarning: [12:51:56] WARNING: /workspace/src/learner.cc:740: \n",
      "Parameters: { \"use_label_encoder\" } are not used.\n",
      "\n",
      "  warnings.warn(smsg, UserWarning)\n"
     ]
    },
    {
     "name": "stdout",
     "output_type": "stream",
     "text": [
      "cv\n",
      "individual models\n"
     ]
    },
    {
     "name": "stderr",
     "output_type": "stream",
     "text": [
      "/home/wanlab/nick/.local/lib/python3.8/site-packages/xgboost/core.py:158: UserWarning: [12:52:09] WARNING: /workspace/src/learner.cc:740: \n",
      "Parameters: { \"use_label_encoder\" } are not used.\n",
      "\n",
      "  warnings.warn(smsg, UserWarning)\n"
     ]
    },
    {
     "name": "stdout",
     "output_type": "stream",
     "text": [
      "cv\n",
      "individual models\n"
     ]
    },
    {
     "name": "stderr",
     "output_type": "stream",
     "text": [
      "/home/wanlab/nick/.local/lib/python3.8/site-packages/xgboost/core.py:158: UserWarning: [12:52:22] WARNING: /workspace/src/learner.cc:740: \n",
      "Parameters: { \"use_label_encoder\" } are not used.\n",
      "\n",
      "  warnings.warn(smsg, UserWarning)\n"
     ]
    },
    {
     "name": "stdout",
     "output_type": "stream",
     "text": [
      "cv\n",
      "individual models\n"
     ]
    },
    {
     "name": "stderr",
     "output_type": "stream",
     "text": [
      "/home/wanlab/nick/.local/lib/python3.8/site-packages/xgboost/core.py:158: UserWarning: [12:52:35] WARNING: /workspace/src/learner.cc:740: \n",
      "Parameters: { \"use_label_encoder\" } are not used.\n",
      "\n",
      "  warnings.warn(smsg, UserWarning)\n"
     ]
    },
    {
     "name": "stdout",
     "output_type": "stream",
     "text": [
      "cv\n",
      "individual models\n"
     ]
    },
    {
     "name": "stderr",
     "output_type": "stream",
     "text": [
      "/home/wanlab/nick/.local/lib/python3.8/site-packages/xgboost/core.py:158: UserWarning: [12:52:49] WARNING: /workspace/src/learner.cc:740: \n",
      "Parameters: { \"use_label_encoder\" } are not used.\n",
      "\n",
      "  warnings.warn(smsg, UserWarning)\n"
     ]
    },
    {
     "name": "stdout",
     "output_type": "stream",
     "text": [
      "cv\n",
      "individual models\n"
     ]
    },
    {
     "name": "stderr",
     "output_type": "stream",
     "text": [
      "/home/wanlab/nick/.local/lib/python3.8/site-packages/xgboost/core.py:158: UserWarning: [12:53:02] WARNING: /workspace/src/learner.cc:740: \n",
      "Parameters: { \"use_label_encoder\" } are not used.\n",
      "\n",
      "  warnings.warn(smsg, UserWarning)\n"
     ]
    },
    {
     "name": "stdout",
     "output_type": "stream",
     "text": [
      "cv\n",
      "individual models\n"
     ]
    },
    {
     "name": "stderr",
     "output_type": "stream",
     "text": [
      "/home/wanlab/nick/.local/lib/python3.8/site-packages/xgboost/core.py:158: UserWarning: [12:53:16] WARNING: /workspace/src/learner.cc:740: \n",
      "Parameters: { \"use_label_encoder\" } are not used.\n",
      "\n",
      "  warnings.warn(smsg, UserWarning)\n"
     ]
    },
    {
     "name": "stdout",
     "output_type": "stream",
     "text": [
      "cv\n",
      "individual models\n"
     ]
    },
    {
     "name": "stderr",
     "output_type": "stream",
     "text": [
      "/home/wanlab/nick/.local/lib/python3.8/site-packages/xgboost/core.py:158: UserWarning: [12:53:29] WARNING: /workspace/src/learner.cc:740: \n",
      "Parameters: { \"use_label_encoder\" } are not used.\n",
      "\n",
      "  warnings.warn(smsg, UserWarning)\n"
     ]
    },
    {
     "name": "stdout",
     "output_type": "stream",
     "text": [
      "cv\n",
      "individual models\n"
     ]
    },
    {
     "name": "stderr",
     "output_type": "stream",
     "text": [
      "/home/wanlab/nick/.local/lib/python3.8/site-packages/xgboost/core.py:158: UserWarning: [12:53:42] WARNING: /workspace/src/learner.cc:740: \n",
      "Parameters: { \"use_label_encoder\" } are not used.\n",
      "\n",
      "  warnings.warn(smsg, UserWarning)\n"
     ]
    },
    {
     "name": "stdout",
     "output_type": "stream",
     "text": [
      "cv\n",
      "individual models\n"
     ]
    },
    {
     "name": "stderr",
     "output_type": "stream",
     "text": [
      "/home/wanlab/nick/.local/lib/python3.8/site-packages/xgboost/core.py:158: UserWarning: [12:53:56] WARNING: /workspace/src/learner.cc:740: \n",
      "Parameters: { \"use_label_encoder\" } are not used.\n",
      "\n",
      "  warnings.warn(smsg, UserWarning)\n"
     ]
    },
    {
     "name": "stdout",
     "output_type": "stream",
     "text": [
      "cv\n",
      "individual models\n"
     ]
    },
    {
     "name": "stderr",
     "output_type": "stream",
     "text": [
      "/home/wanlab/nick/.local/lib/python3.8/site-packages/xgboost/core.py:158: UserWarning: [12:54:09] WARNING: /workspace/src/learner.cc:740: \n",
      "Parameters: { \"use_label_encoder\" } are not used.\n",
      "\n",
      "  warnings.warn(smsg, UserWarning)\n"
     ]
    },
    {
     "name": "stdout",
     "output_type": "stream",
     "text": [
      "cv\n",
      "individual models\n"
     ]
    },
    {
     "name": "stderr",
     "output_type": "stream",
     "text": [
      "/home/wanlab/nick/.local/lib/python3.8/site-packages/xgboost/core.py:158: UserWarning: [12:54:23] WARNING: /workspace/src/learner.cc:740: \n",
      "Parameters: { \"use_label_encoder\" } are not used.\n",
      "\n",
      "  warnings.warn(smsg, UserWarning)\n"
     ]
    },
    {
     "name": "stdout",
     "output_type": "stream",
     "text": [
      "cv\n",
      "individual models\n"
     ]
    },
    {
     "name": "stderr",
     "output_type": "stream",
     "text": [
      "/home/wanlab/nick/.local/lib/python3.8/site-packages/xgboost/core.py:158: UserWarning: [12:54:38] WARNING: /workspace/src/learner.cc:740: \n",
      "Parameters: { \"use_label_encoder\" } are not used.\n",
      "\n",
      "  warnings.warn(smsg, UserWarning)\n"
     ]
    },
    {
     "name": "stdout",
     "output_type": "stream",
     "text": [
      "cv\n",
      "individual models\n"
     ]
    },
    {
     "name": "stderr",
     "output_type": "stream",
     "text": [
      "/home/wanlab/nick/.local/lib/python3.8/site-packages/xgboost/core.py:158: UserWarning: [12:54:51] WARNING: /workspace/src/learner.cc:740: \n",
      "Parameters: { \"use_label_encoder\" } are not used.\n",
      "\n",
      "  warnings.warn(smsg, UserWarning)\n"
     ]
    },
    {
     "name": "stdout",
     "output_type": "stream",
     "text": [
      "cv\n",
      "individual models\n"
     ]
    },
    {
     "name": "stderr",
     "output_type": "stream",
     "text": [
      "/home/wanlab/nick/.local/lib/python3.8/site-packages/xgboost/core.py:158: UserWarning: [12:55:04] WARNING: /workspace/src/learner.cc:740: \n",
      "Parameters: { \"use_label_encoder\" } are not used.\n",
      "\n",
      "  warnings.warn(smsg, UserWarning)\n"
     ]
    },
    {
     "name": "stdout",
     "output_type": "stream",
     "text": [
      "cv\n",
      "individual models\n"
     ]
    },
    {
     "name": "stderr",
     "output_type": "stream",
     "text": [
      "/home/wanlab/nick/.local/lib/python3.8/site-packages/xgboost/core.py:158: UserWarning: [12:55:17] WARNING: /workspace/src/learner.cc:740: \n",
      "Parameters: { \"use_label_encoder\" } are not used.\n",
      "\n",
      "  warnings.warn(smsg, UserWarning)\n"
     ]
    },
    {
     "name": "stdout",
     "output_type": "stream",
     "text": [
      "cv\n",
      "individual models\n"
     ]
    },
    {
     "name": "stderr",
     "output_type": "stream",
     "text": [
      "/home/wanlab/nick/.local/lib/python3.8/site-packages/xgboost/core.py:158: UserWarning: [12:55:31] WARNING: /workspace/src/learner.cc:740: \n",
      "Parameters: { \"use_label_encoder\" } are not used.\n",
      "\n",
      "  warnings.warn(smsg, UserWarning)\n"
     ]
    },
    {
     "name": "stdout",
     "output_type": "stream",
     "text": [
      "cv\n",
      "individual models\n"
     ]
    },
    {
     "name": "stderr",
     "output_type": "stream",
     "text": [
      "/home/wanlab/nick/.local/lib/python3.8/site-packages/xgboost/core.py:158: UserWarning: [12:55:43] WARNING: /workspace/src/learner.cc:740: \n",
      "Parameters: { \"use_label_encoder\" } are not used.\n",
      "\n",
      "  warnings.warn(smsg, UserWarning)\n"
     ]
    },
    {
     "name": "stdout",
     "output_type": "stream",
     "text": [
      "cv\n",
      "individual models\n"
     ]
    },
    {
     "name": "stderr",
     "output_type": "stream",
     "text": [
      "/home/wanlab/nick/.local/lib/python3.8/site-packages/xgboost/core.py:158: UserWarning: [12:55:57] WARNING: /workspace/src/learner.cc:740: \n",
      "Parameters: { \"use_label_encoder\" } are not used.\n",
      "\n",
      "  warnings.warn(smsg, UserWarning)\n"
     ]
    },
    {
     "name": "stdout",
     "output_type": "stream",
     "text": [
      "cv\n",
      "individual models\n"
     ]
    },
    {
     "name": "stderr",
     "output_type": "stream",
     "text": [
      "/home/wanlab/nick/.local/lib/python3.8/site-packages/xgboost/core.py:158: UserWarning: [12:56:11] WARNING: /workspace/src/learner.cc:740: \n",
      "Parameters: { \"use_label_encoder\" } are not used.\n",
      "\n",
      "  warnings.warn(smsg, UserWarning)\n"
     ]
    },
    {
     "name": "stdout",
     "output_type": "stream",
     "text": [
      "cv\n",
      "individual models\n"
     ]
    },
    {
     "name": "stderr",
     "output_type": "stream",
     "text": [
      "/home/wanlab/nick/.local/lib/python3.8/site-packages/xgboost/core.py:158: UserWarning: [12:56:24] WARNING: /workspace/src/learner.cc:740: \n",
      "Parameters: { \"use_label_encoder\" } are not used.\n",
      "\n",
      "  warnings.warn(smsg, UserWarning)\n"
     ]
    },
    {
     "name": "stdout",
     "output_type": "stream",
     "text": [
      "cv\n",
      "individual models\n"
     ]
    },
    {
     "name": "stderr",
     "output_type": "stream",
     "text": [
      "/home/wanlab/nick/.local/lib/python3.8/site-packages/xgboost/core.py:158: UserWarning: [12:56:37] WARNING: /workspace/src/learner.cc:740: \n",
      "Parameters: { \"use_label_encoder\" } are not used.\n",
      "\n",
      "  warnings.warn(smsg, UserWarning)\n"
     ]
    },
    {
     "name": "stdout",
     "output_type": "stream",
     "text": [
      "cv\n",
      "individual models\n"
     ]
    },
    {
     "name": "stderr",
     "output_type": "stream",
     "text": [
      "/home/wanlab/nick/.local/lib/python3.8/site-packages/xgboost/core.py:158: UserWarning: [12:56:52] WARNING: /workspace/src/learner.cc:740: \n",
      "Parameters: { \"use_label_encoder\" } are not used.\n",
      "\n",
      "  warnings.warn(smsg, UserWarning)\n"
     ]
    },
    {
     "name": "stdout",
     "output_type": "stream",
     "text": [
      "cv\n",
      "individual models\n"
     ]
    },
    {
     "name": "stderr",
     "output_type": "stream",
     "text": [
      "/home/wanlab/nick/.local/lib/python3.8/site-packages/xgboost/core.py:158: UserWarning: [12:57:05] WARNING: /workspace/src/learner.cc:740: \n",
      "Parameters: { \"use_label_encoder\" } are not used.\n",
      "\n",
      "  warnings.warn(smsg, UserWarning)\n"
     ]
    },
    {
     "name": "stdout",
     "output_type": "stream",
     "text": [
      "cv\n",
      "individual models\n"
     ]
    },
    {
     "name": "stderr",
     "output_type": "stream",
     "text": [
      "/home/wanlab/nick/.local/lib/python3.8/site-packages/xgboost/core.py:158: UserWarning: [12:57:19] WARNING: /workspace/src/learner.cc:740: \n",
      "Parameters: { \"use_label_encoder\" } are not used.\n",
      "\n",
      "  warnings.warn(smsg, UserWarning)\n"
     ]
    },
    {
     "name": "stdout",
     "output_type": "stream",
     "text": [
      "cv\n",
      "individual models\n"
     ]
    },
    {
     "name": "stderr",
     "output_type": "stream",
     "text": [
      "/home/wanlab/nick/.local/lib/python3.8/site-packages/xgboost/core.py:158: UserWarning: [12:57:32] WARNING: /workspace/src/learner.cc:740: \n",
      "Parameters: { \"use_label_encoder\" } are not used.\n",
      "\n",
      "  warnings.warn(smsg, UserWarning)\n"
     ]
    },
    {
     "name": "stdout",
     "output_type": "stream",
     "text": [
      "cv\n",
      "individual models\n"
     ]
    },
    {
     "name": "stderr",
     "output_type": "stream",
     "text": [
      "/home/wanlab/nick/.local/lib/python3.8/site-packages/xgboost/core.py:158: UserWarning: [12:57:48] WARNING: /workspace/src/learner.cc:740: \n",
      "Parameters: { \"use_label_encoder\" } are not used.\n",
      "\n",
      "  warnings.warn(smsg, UserWarning)\n"
     ]
    },
    {
     "name": "stdout",
     "output_type": "stream",
     "text": [
      "cv\n",
      "individual models\n"
     ]
    },
    {
     "name": "stderr",
     "output_type": "stream",
     "text": [
      "/home/wanlab/nick/.local/lib/python3.8/site-packages/xgboost/core.py:158: UserWarning: [12:58:03] WARNING: /workspace/src/learner.cc:740: \n",
      "Parameters: { \"use_label_encoder\" } are not used.\n",
      "\n",
      "  warnings.warn(smsg, UserWarning)\n"
     ]
    },
    {
     "name": "stdout",
     "output_type": "stream",
     "text": [
      "cv\n",
      "individual models\n"
     ]
    },
    {
     "name": "stderr",
     "output_type": "stream",
     "text": [
      "/home/wanlab/nick/.local/lib/python3.8/site-packages/xgboost/core.py:158: UserWarning: [12:58:21] WARNING: /workspace/src/learner.cc:740: \n",
      "Parameters: { \"use_label_encoder\" } are not used.\n",
      "\n",
      "  warnings.warn(smsg, UserWarning)\n"
     ]
    },
    {
     "name": "stdout",
     "output_type": "stream",
     "text": [
      "cv\n",
      "individual models\n"
     ]
    },
    {
     "name": "stderr",
     "output_type": "stream",
     "text": [
      "/home/wanlab/nick/.local/lib/python3.8/site-packages/xgboost/core.py:158: UserWarning: [12:58:36] WARNING: /workspace/src/learner.cc:740: \n",
      "Parameters: { \"use_label_encoder\" } are not used.\n",
      "\n",
      "  warnings.warn(smsg, UserWarning)\n"
     ]
    },
    {
     "name": "stdout",
     "output_type": "stream",
     "text": [
      "cv\n",
      "individual models\n"
     ]
    },
    {
     "name": "stderr",
     "output_type": "stream",
     "text": [
      "/home/wanlab/nick/.local/lib/python3.8/site-packages/xgboost/core.py:158: UserWarning: [12:58:50] WARNING: /workspace/src/learner.cc:740: \n",
      "Parameters: { \"use_label_encoder\" } are not used.\n",
      "\n",
      "  warnings.warn(smsg, UserWarning)\n"
     ]
    },
    {
     "name": "stdout",
     "output_type": "stream",
     "text": [
      "cv\n",
      "individual models\n"
     ]
    },
    {
     "name": "stderr",
     "output_type": "stream",
     "text": [
      "/home/wanlab/nick/.local/lib/python3.8/site-packages/xgboost/core.py:158: UserWarning: [12:59:07] WARNING: /workspace/src/learner.cc:740: \n",
      "Parameters: { \"use_label_encoder\" } are not used.\n",
      "\n",
      "  warnings.warn(smsg, UserWarning)\n"
     ]
    },
    {
     "name": "stdout",
     "output_type": "stream",
     "text": [
      "cv\n",
      "individual models\n"
     ]
    },
    {
     "name": "stderr",
     "output_type": "stream",
     "text": [
      "/home/wanlab/nick/.local/lib/python3.8/site-packages/xgboost/core.py:158: UserWarning: [12:59:21] WARNING: /workspace/src/learner.cc:740: \n",
      "Parameters: { \"use_label_encoder\" } are not used.\n",
      "\n",
      "  warnings.warn(smsg, UserWarning)\n"
     ]
    },
    {
     "name": "stdout",
     "output_type": "stream",
     "text": [
      "cv\n",
      "individual models\n"
     ]
    },
    {
     "name": "stderr",
     "output_type": "stream",
     "text": [
      "/home/wanlab/nick/.local/lib/python3.8/site-packages/xgboost/core.py:158: UserWarning: [12:59:34] WARNING: /workspace/src/learner.cc:740: \n",
      "Parameters: { \"use_label_encoder\" } are not used.\n",
      "\n",
      "  warnings.warn(smsg, UserWarning)\n"
     ]
    },
    {
     "name": "stdout",
     "output_type": "stream",
     "text": [
      "cv\n",
      "individual models\n"
     ]
    },
    {
     "name": "stderr",
     "output_type": "stream",
     "text": [
      "/home/wanlab/nick/.local/lib/python3.8/site-packages/xgboost/core.py:158: UserWarning: [12:59:48] WARNING: /workspace/src/learner.cc:740: \n",
      "Parameters: { \"use_label_encoder\" } are not used.\n",
      "\n",
      "  warnings.warn(smsg, UserWarning)\n"
     ]
    },
    {
     "name": "stdout",
     "output_type": "stream",
     "text": [
      "cv\n",
      "individual models\n"
     ]
    },
    {
     "name": "stderr",
     "output_type": "stream",
     "text": [
      "/home/wanlab/nick/.local/lib/python3.8/site-packages/xgboost/core.py:158: UserWarning: [13:00:03] WARNING: /workspace/src/learner.cc:740: \n",
      "Parameters: { \"use_label_encoder\" } are not used.\n",
      "\n",
      "  warnings.warn(smsg, UserWarning)\n"
     ]
    },
    {
     "name": "stdout",
     "output_type": "stream",
     "text": [
      "cv\n",
      "individual models\n"
     ]
    },
    {
     "name": "stderr",
     "output_type": "stream",
     "text": [
      "/home/wanlab/nick/.local/lib/python3.8/site-packages/xgboost/core.py:158: UserWarning: [13:00:18] WARNING: /workspace/src/learner.cc:740: \n",
      "Parameters: { \"use_label_encoder\" } are not used.\n",
      "\n",
      "  warnings.warn(smsg, UserWarning)\n"
     ]
    },
    {
     "name": "stdout",
     "output_type": "stream",
     "text": [
      "cv\n",
      "individual models\n"
     ]
    },
    {
     "name": "stderr",
     "output_type": "stream",
     "text": [
      "/home/wanlab/nick/.local/lib/python3.8/site-packages/xgboost/core.py:158: UserWarning: [13:00:31] WARNING: /workspace/src/learner.cc:740: \n",
      "Parameters: { \"use_label_encoder\" } are not used.\n",
      "\n",
      "  warnings.warn(smsg, UserWarning)\n"
     ]
    },
    {
     "name": "stdout",
     "output_type": "stream",
     "text": [
      "cv\n",
      "individual models\n"
     ]
    },
    {
     "name": "stderr",
     "output_type": "stream",
     "text": [
      "/home/wanlab/nick/.local/lib/python3.8/site-packages/xgboost/core.py:158: UserWarning: [13:00:45] WARNING: /workspace/src/learner.cc:740: \n",
      "Parameters: { \"use_label_encoder\" } are not used.\n",
      "\n",
      "  warnings.warn(smsg, UserWarning)\n"
     ]
    },
    {
     "name": "stdout",
     "output_type": "stream",
     "text": [
      "cv\n",
      "individual models\n"
     ]
    },
    {
     "name": "stderr",
     "output_type": "stream",
     "text": [
      "/home/wanlab/nick/.local/lib/python3.8/site-packages/xgboost/core.py:158: UserWarning: [13:00:59] WARNING: /workspace/src/learner.cc:740: \n",
      "Parameters: { \"use_label_encoder\" } are not used.\n",
      "\n",
      "  warnings.warn(smsg, UserWarning)\n"
     ]
    },
    {
     "name": "stdout",
     "output_type": "stream",
     "text": [
      "cv\n",
      "individual models\n"
     ]
    },
    {
     "name": "stderr",
     "output_type": "stream",
     "text": [
      "/home/wanlab/nick/.local/lib/python3.8/site-packages/xgboost/core.py:158: UserWarning: [13:01:12] WARNING: /workspace/src/learner.cc:740: \n",
      "Parameters: { \"use_label_encoder\" } are not used.\n",
      "\n",
      "  warnings.warn(smsg, UserWarning)\n"
     ]
    },
    {
     "name": "stdout",
     "output_type": "stream",
     "text": [
      "cv\n",
      "individual models\n"
     ]
    },
    {
     "name": "stderr",
     "output_type": "stream",
     "text": [
      "/home/wanlab/nick/.local/lib/python3.8/site-packages/xgboost/core.py:158: UserWarning: [13:01:26] WARNING: /workspace/src/learner.cc:740: \n",
      "Parameters: { \"use_label_encoder\" } are not used.\n",
      "\n",
      "  warnings.warn(smsg, UserWarning)\n"
     ]
    },
    {
     "name": "stdout",
     "output_type": "stream",
     "text": [
      "cv\n",
      "individual models\n"
     ]
    },
    {
     "name": "stderr",
     "output_type": "stream",
     "text": [
      "/home/wanlab/nick/.local/lib/python3.8/site-packages/xgboost/core.py:158: UserWarning: [13:01:39] WARNING: /workspace/src/learner.cc:740: \n",
      "Parameters: { \"use_label_encoder\" } are not used.\n",
      "\n",
      "  warnings.warn(smsg, UserWarning)\n"
     ]
    },
    {
     "name": "stdout",
     "output_type": "stream",
     "text": [
      "cv\n",
      "individual models\n"
     ]
    },
    {
     "name": "stderr",
     "output_type": "stream",
     "text": [
      "/home/wanlab/nick/.local/lib/python3.8/site-packages/xgboost/core.py:158: UserWarning: [13:01:53] WARNING: /workspace/src/learner.cc:740: \n",
      "Parameters: { \"use_label_encoder\" } are not used.\n",
      "\n",
      "  warnings.warn(smsg, UserWarning)\n"
     ]
    },
    {
     "name": "stdout",
     "output_type": "stream",
     "text": [
      "cv\n",
      "individual models\n"
     ]
    },
    {
     "name": "stderr",
     "output_type": "stream",
     "text": [
      "/home/wanlab/nick/.local/lib/python3.8/site-packages/xgboost/core.py:158: UserWarning: [13:02:06] WARNING: /workspace/src/learner.cc:740: \n",
      "Parameters: { \"use_label_encoder\" } are not used.\n",
      "\n",
      "  warnings.warn(smsg, UserWarning)\n"
     ]
    },
    {
     "name": "stdout",
     "output_type": "stream",
     "text": [
      "cv\n",
      "individual models\n"
     ]
    },
    {
     "name": "stderr",
     "output_type": "stream",
     "text": [
      "/home/wanlab/nick/.local/lib/python3.8/site-packages/xgboost/core.py:158: UserWarning: [13:02:20] WARNING: /workspace/src/learner.cc:740: \n",
      "Parameters: { \"use_label_encoder\" } are not used.\n",
      "\n",
      "  warnings.warn(smsg, UserWarning)\n"
     ]
    },
    {
     "name": "stdout",
     "output_type": "stream",
     "text": [
      "cv\n",
      "individual models\n"
     ]
    },
    {
     "name": "stderr",
     "output_type": "stream",
     "text": [
      "/home/wanlab/nick/.local/lib/python3.8/site-packages/xgboost/core.py:158: UserWarning: [13:02:33] WARNING: /workspace/src/learner.cc:740: \n",
      "Parameters: { \"use_label_encoder\" } are not used.\n",
      "\n",
      "  warnings.warn(smsg, UserWarning)\n"
     ]
    },
    {
     "name": "stdout",
     "output_type": "stream",
     "text": [
      "cv\n",
      "individual models\n"
     ]
    },
    {
     "name": "stderr",
     "output_type": "stream",
     "text": [
      "/home/wanlab/nick/.local/lib/python3.8/site-packages/xgboost/core.py:158: UserWarning: [13:02:45] WARNING: /workspace/src/learner.cc:740: \n",
      "Parameters: { \"use_label_encoder\" } are not used.\n",
      "\n",
      "  warnings.warn(smsg, UserWarning)\n"
     ]
    },
    {
     "name": "stdout",
     "output_type": "stream",
     "text": [
      "cv\n",
      "individual models\n"
     ]
    },
    {
     "name": "stderr",
     "output_type": "stream",
     "text": [
      "/home/wanlab/nick/.local/lib/python3.8/site-packages/xgboost/core.py:158: UserWarning: [13:02:58] WARNING: /workspace/src/learner.cc:740: \n",
      "Parameters: { \"use_label_encoder\" } are not used.\n",
      "\n",
      "  warnings.warn(smsg, UserWarning)\n"
     ]
    },
    {
     "name": "stdout",
     "output_type": "stream",
     "text": [
      "cv\n",
      "individual models\n"
     ]
    },
    {
     "name": "stderr",
     "output_type": "stream",
     "text": [
      "/home/wanlab/nick/.local/lib/python3.8/site-packages/xgboost/core.py:158: UserWarning: [13:03:12] WARNING: /workspace/src/learner.cc:740: \n",
      "Parameters: { \"use_label_encoder\" } are not used.\n",
      "\n",
      "  warnings.warn(smsg, UserWarning)\n"
     ]
    },
    {
     "name": "stdout",
     "output_type": "stream",
     "text": [
      "cv\n",
      "individual models\n"
     ]
    },
    {
     "name": "stderr",
     "output_type": "stream",
     "text": [
      "/home/wanlab/nick/.local/lib/python3.8/site-packages/xgboost/core.py:158: UserWarning: [13:03:26] WARNING: /workspace/src/learner.cc:740: \n",
      "Parameters: { \"use_label_encoder\" } are not used.\n",
      "\n",
      "  warnings.warn(smsg, UserWarning)\n"
     ]
    },
    {
     "name": "stdout",
     "output_type": "stream",
     "text": [
      "cv\n",
      "individual models\n"
     ]
    },
    {
     "name": "stderr",
     "output_type": "stream",
     "text": [
      "/home/wanlab/nick/.local/lib/python3.8/site-packages/xgboost/core.py:158: UserWarning: [13:03:40] WARNING: /workspace/src/learner.cc:740: \n",
      "Parameters: { \"use_label_encoder\" } are not used.\n",
      "\n",
      "  warnings.warn(smsg, UserWarning)\n"
     ]
    },
    {
     "name": "stdout",
     "output_type": "stream",
     "text": [
      "cv\n",
      "individual models\n"
     ]
    },
    {
     "name": "stderr",
     "output_type": "stream",
     "text": [
      "/home/wanlab/nick/.local/lib/python3.8/site-packages/xgboost/core.py:158: UserWarning: [13:03:54] WARNING: /workspace/src/learner.cc:740: \n",
      "Parameters: { \"use_label_encoder\" } are not used.\n",
      "\n",
      "  warnings.warn(smsg, UserWarning)\n"
     ]
    },
    {
     "name": "stdout",
     "output_type": "stream",
     "text": [
      "cv\n",
      "individual models\n"
     ]
    },
    {
     "name": "stderr",
     "output_type": "stream",
     "text": [
      "/home/wanlab/nick/.local/lib/python3.8/site-packages/xgboost/core.py:158: UserWarning: [13:04:07] WARNING: /workspace/src/learner.cc:740: \n",
      "Parameters: { \"use_label_encoder\" } are not used.\n",
      "\n",
      "  warnings.warn(smsg, UserWarning)\n"
     ]
    },
    {
     "name": "stdout",
     "output_type": "stream",
     "text": [
      "cv\n",
      "individual models\n"
     ]
    },
    {
     "name": "stderr",
     "output_type": "stream",
     "text": [
      "/home/wanlab/nick/.local/lib/python3.8/site-packages/xgboost/core.py:158: UserWarning: [13:04:21] WARNING: /workspace/src/learner.cc:740: \n",
      "Parameters: { \"use_label_encoder\" } are not used.\n",
      "\n",
      "  warnings.warn(smsg, UserWarning)\n"
     ]
    },
    {
     "name": "stdout",
     "output_type": "stream",
     "text": [
      "cv\n",
      "individual models\n"
     ]
    },
    {
     "name": "stderr",
     "output_type": "stream",
     "text": [
      "/home/wanlab/nick/.local/lib/python3.8/site-packages/xgboost/core.py:158: UserWarning: [13:04:34] WARNING: /workspace/src/learner.cc:740: \n",
      "Parameters: { \"use_label_encoder\" } are not used.\n",
      "\n",
      "  warnings.warn(smsg, UserWarning)\n"
     ]
    },
    {
     "name": "stdout",
     "output_type": "stream",
     "text": [
      "cv\n",
      "individual models\n"
     ]
    },
    {
     "name": "stderr",
     "output_type": "stream",
     "text": [
      "/home/wanlab/nick/.local/lib/python3.8/site-packages/xgboost/core.py:158: UserWarning: [13:04:48] WARNING: /workspace/src/learner.cc:740: \n",
      "Parameters: { \"use_label_encoder\" } are not used.\n",
      "\n",
      "  warnings.warn(smsg, UserWarning)\n"
     ]
    },
    {
     "name": "stdout",
     "output_type": "stream",
     "text": [
      "cv\n",
      "individual models\n"
     ]
    },
    {
     "name": "stderr",
     "output_type": "stream",
     "text": [
      "/home/wanlab/nick/.local/lib/python3.8/site-packages/xgboost/core.py:158: UserWarning: [13:05:01] WARNING: /workspace/src/learner.cc:740: \n",
      "Parameters: { \"use_label_encoder\" } are not used.\n",
      "\n",
      "  warnings.warn(smsg, UserWarning)\n"
     ]
    },
    {
     "name": "stdout",
     "output_type": "stream",
     "text": [
      "cv\n",
      "individual models\n"
     ]
    },
    {
     "name": "stderr",
     "output_type": "stream",
     "text": [
      "/home/wanlab/nick/.local/lib/python3.8/site-packages/xgboost/core.py:158: UserWarning: [13:05:15] WARNING: /workspace/src/learner.cc:740: \n",
      "Parameters: { \"use_label_encoder\" } are not used.\n",
      "\n",
      "  warnings.warn(smsg, UserWarning)\n"
     ]
    },
    {
     "name": "stdout",
     "output_type": "stream",
     "text": [
      "cv\n",
      "individual models\n"
     ]
    },
    {
     "name": "stderr",
     "output_type": "stream",
     "text": [
      "/home/wanlab/nick/.local/lib/python3.8/site-packages/xgboost/core.py:158: UserWarning: [13:05:28] WARNING: /workspace/src/learner.cc:740: \n",
      "Parameters: { \"use_label_encoder\" } are not used.\n",
      "\n",
      "  warnings.warn(smsg, UserWarning)\n"
     ]
    },
    {
     "name": "stdout",
     "output_type": "stream",
     "text": [
      "cv\n",
      "individual models\n"
     ]
    },
    {
     "name": "stderr",
     "output_type": "stream",
     "text": [
      "/home/wanlab/nick/.local/lib/python3.8/site-packages/xgboost/core.py:158: UserWarning: [13:05:42] WARNING: /workspace/src/learner.cc:740: \n",
      "Parameters: { \"use_label_encoder\" } are not used.\n",
      "\n",
      "  warnings.warn(smsg, UserWarning)\n"
     ]
    },
    {
     "name": "stdout",
     "output_type": "stream",
     "text": [
      "cv\n",
      "individual models\n"
     ]
    },
    {
     "name": "stderr",
     "output_type": "stream",
     "text": [
      "/home/wanlab/nick/.local/lib/python3.8/site-packages/xgboost/core.py:158: UserWarning: [13:05:56] WARNING: /workspace/src/learner.cc:740: \n",
      "Parameters: { \"use_label_encoder\" } are not used.\n",
      "\n",
      "  warnings.warn(smsg, UserWarning)\n"
     ]
    },
    {
     "name": "stdout",
     "output_type": "stream",
     "text": [
      "cv\n",
      "individual models\n"
     ]
    },
    {
     "name": "stderr",
     "output_type": "stream",
     "text": [
      "/home/wanlab/nick/.local/lib/python3.8/site-packages/xgboost/core.py:158: UserWarning: [13:06:09] WARNING: /workspace/src/learner.cc:740: \n",
      "Parameters: { \"use_label_encoder\" } are not used.\n",
      "\n",
      "  warnings.warn(smsg, UserWarning)\n"
     ]
    },
    {
     "name": "stdout",
     "output_type": "stream",
     "text": [
      "cv\n",
      "individual models\n"
     ]
    },
    {
     "name": "stderr",
     "output_type": "stream",
     "text": [
      "/home/wanlab/nick/.local/lib/python3.8/site-packages/xgboost/core.py:158: UserWarning: [13:06:22] WARNING: /workspace/src/learner.cc:740: \n",
      "Parameters: { \"use_label_encoder\" } are not used.\n",
      "\n",
      "  warnings.warn(smsg, UserWarning)\n"
     ]
    },
    {
     "name": "stdout",
     "output_type": "stream",
     "text": [
      "cv\n",
      "individual models\n"
     ]
    },
    {
     "name": "stderr",
     "output_type": "stream",
     "text": [
      "/home/wanlab/nick/.local/lib/python3.8/site-packages/xgboost/core.py:158: UserWarning: [13:06:36] WARNING: /workspace/src/learner.cc:740: \n",
      "Parameters: { \"use_label_encoder\" } are not used.\n",
      "\n",
      "  warnings.warn(smsg, UserWarning)\n"
     ]
    },
    {
     "name": "stdout",
     "output_type": "stream",
     "text": [
      "cv\n",
      "individual models\n"
     ]
    },
    {
     "name": "stderr",
     "output_type": "stream",
     "text": [
      "/home/wanlab/nick/.local/lib/python3.8/site-packages/xgboost/core.py:158: UserWarning: [13:06:49] WARNING: /workspace/src/learner.cc:740: \n",
      "Parameters: { \"use_label_encoder\" } are not used.\n",
      "\n",
      "  warnings.warn(smsg, UserWarning)\n"
     ]
    },
    {
     "name": "stdout",
     "output_type": "stream",
     "text": [
      "cv\n",
      "individual models\n"
     ]
    },
    {
     "name": "stderr",
     "output_type": "stream",
     "text": [
      "/home/wanlab/nick/.local/lib/python3.8/site-packages/xgboost/core.py:158: UserWarning: [13:07:02] WARNING: /workspace/src/learner.cc:740: \n",
      "Parameters: { \"use_label_encoder\" } are not used.\n",
      "\n",
      "  warnings.warn(smsg, UserWarning)\n"
     ]
    },
    {
     "name": "stdout",
     "output_type": "stream",
     "text": [
      "cv\n",
      "individual models\n"
     ]
    },
    {
     "name": "stderr",
     "output_type": "stream",
     "text": [
      "/home/wanlab/nick/.local/lib/python3.8/site-packages/xgboost/core.py:158: UserWarning: [13:07:15] WARNING: /workspace/src/learner.cc:740: \n",
      "Parameters: { \"use_label_encoder\" } are not used.\n",
      "\n",
      "  warnings.warn(smsg, UserWarning)\n"
     ]
    },
    {
     "name": "stdout",
     "output_type": "stream",
     "text": [
      "cv\n",
      "individual models\n"
     ]
    },
    {
     "name": "stderr",
     "output_type": "stream",
     "text": [
      "/home/wanlab/nick/.local/lib/python3.8/site-packages/xgboost/core.py:158: UserWarning: [13:07:28] WARNING: /workspace/src/learner.cc:740: \n",
      "Parameters: { \"use_label_encoder\" } are not used.\n",
      "\n",
      "  warnings.warn(smsg, UserWarning)\n"
     ]
    },
    {
     "name": "stdout",
     "output_type": "stream",
     "text": [
      "cv\n",
      "individual models\n"
     ]
    },
    {
     "name": "stderr",
     "output_type": "stream",
     "text": [
      "/home/wanlab/nick/.local/lib/python3.8/site-packages/xgboost/core.py:158: UserWarning: [13:07:42] WARNING: /workspace/src/learner.cc:740: \n",
      "Parameters: { \"use_label_encoder\" } are not used.\n",
      "\n",
      "  warnings.warn(smsg, UserWarning)\n"
     ]
    },
    {
     "name": "stdout",
     "output_type": "stream",
     "text": [
      "cv\n",
      "individual models\n"
     ]
    },
    {
     "name": "stderr",
     "output_type": "stream",
     "text": [
      "/home/wanlab/nick/.local/lib/python3.8/site-packages/xgboost/core.py:158: UserWarning: [13:07:55] WARNING: /workspace/src/learner.cc:740: \n",
      "Parameters: { \"use_label_encoder\" } are not used.\n",
      "\n",
      "  warnings.warn(smsg, UserWarning)\n"
     ]
    },
    {
     "name": "stdout",
     "output_type": "stream",
     "text": [
      "cv\n",
      "individual models\n"
     ]
    },
    {
     "name": "stderr",
     "output_type": "stream",
     "text": [
      "/home/wanlab/nick/.local/lib/python3.8/site-packages/xgboost/core.py:158: UserWarning: [13:08:10] WARNING: /workspace/src/learner.cc:740: \n",
      "Parameters: { \"use_label_encoder\" } are not used.\n",
      "\n",
      "  warnings.warn(smsg, UserWarning)\n"
     ]
    },
    {
     "name": "stdout",
     "output_type": "stream",
     "text": [
      "cv\n",
      "individual models\n"
     ]
    },
    {
     "name": "stderr",
     "output_type": "stream",
     "text": [
      "/home/wanlab/nick/.local/lib/python3.8/site-packages/xgboost/core.py:158: UserWarning: [13:08:23] WARNING: /workspace/src/learner.cc:740: \n",
      "Parameters: { \"use_label_encoder\" } are not used.\n",
      "\n",
      "  warnings.warn(smsg, UserWarning)\n"
     ]
    },
    {
     "name": "stdout",
     "output_type": "stream",
     "text": [
      "cv\n",
      "individual models\n"
     ]
    },
    {
     "name": "stderr",
     "output_type": "stream",
     "text": [
      "/home/wanlab/nick/.local/lib/python3.8/site-packages/xgboost/core.py:158: UserWarning: [13:08:36] WARNING: /workspace/src/learner.cc:740: \n",
      "Parameters: { \"use_label_encoder\" } are not used.\n",
      "\n",
      "  warnings.warn(smsg, UserWarning)\n"
     ]
    },
    {
     "name": "stdout",
     "output_type": "stream",
     "text": [
      "cv\n",
      "individual models\n"
     ]
    },
    {
     "name": "stderr",
     "output_type": "stream",
     "text": [
      "/home/wanlab/nick/.local/lib/python3.8/site-packages/xgboost/core.py:158: UserWarning: [13:08:48] WARNING: /workspace/src/learner.cc:740: \n",
      "Parameters: { \"use_label_encoder\" } are not used.\n",
      "\n",
      "  warnings.warn(smsg, UserWarning)\n"
     ]
    },
    {
     "name": "stdout",
     "output_type": "stream",
     "text": [
      "cv\n",
      "individual models\n"
     ]
    },
    {
     "name": "stderr",
     "output_type": "stream",
     "text": [
      "/home/wanlab/nick/.local/lib/python3.8/site-packages/xgboost/core.py:158: UserWarning: [13:09:01] WARNING: /workspace/src/learner.cc:740: \n",
      "Parameters: { \"use_label_encoder\" } are not used.\n",
      "\n",
      "  warnings.warn(smsg, UserWarning)\n"
     ]
    },
    {
     "name": "stdout",
     "output_type": "stream",
     "text": [
      "cv\n",
      "individual models\n"
     ]
    },
    {
     "name": "stderr",
     "output_type": "stream",
     "text": [
      "/home/wanlab/nick/.local/lib/python3.8/site-packages/xgboost/core.py:158: UserWarning: [13:09:14] WARNING: /workspace/src/learner.cc:740: \n",
      "Parameters: { \"use_label_encoder\" } are not used.\n",
      "\n",
      "  warnings.warn(smsg, UserWarning)\n"
     ]
    },
    {
     "name": "stdout",
     "output_type": "stream",
     "text": [
      "cv\n",
      "individual models\n"
     ]
    },
    {
     "name": "stderr",
     "output_type": "stream",
     "text": [
      "/home/wanlab/nick/.local/lib/python3.8/site-packages/xgboost/core.py:158: UserWarning: [13:09:27] WARNING: /workspace/src/learner.cc:740: \n",
      "Parameters: { \"use_label_encoder\" } are not used.\n",
      "\n",
      "  warnings.warn(smsg, UserWarning)\n"
     ]
    },
    {
     "name": "stdout",
     "output_type": "stream",
     "text": [
      "cv\n",
      "individual models\n"
     ]
    },
    {
     "name": "stderr",
     "output_type": "stream",
     "text": [
      "/home/wanlab/nick/.local/lib/python3.8/site-packages/xgboost/core.py:158: UserWarning: [13:09:40] WARNING: /workspace/src/learner.cc:740: \n",
      "Parameters: { \"use_label_encoder\" } are not used.\n",
      "\n",
      "  warnings.warn(smsg, UserWarning)\n"
     ]
    },
    {
     "name": "stdout",
     "output_type": "stream",
     "text": [
      "cv\n",
      "individual models\n"
     ]
    },
    {
     "name": "stderr",
     "output_type": "stream",
     "text": [
      "/home/wanlab/nick/.local/lib/python3.8/site-packages/xgboost/core.py:158: UserWarning: [13:09:53] WARNING: /workspace/src/learner.cc:740: \n",
      "Parameters: { \"use_label_encoder\" } are not used.\n",
      "\n",
      "  warnings.warn(smsg, UserWarning)\n"
     ]
    },
    {
     "name": "stdout",
     "output_type": "stream",
     "text": [
      "cv\n",
      "individual models\n"
     ]
    },
    {
     "name": "stderr",
     "output_type": "stream",
     "text": [
      "/home/wanlab/nick/.local/lib/python3.8/site-packages/xgboost/core.py:158: UserWarning: [13:10:06] WARNING: /workspace/src/learner.cc:740: \n",
      "Parameters: { \"use_label_encoder\" } are not used.\n",
      "\n",
      "  warnings.warn(smsg, UserWarning)\n"
     ]
    }
   ],
   "source": [
    "# run for all combinations of 4 models\n",
    "# Define your models\n",
    "import itertools\n",
    "\n",
    "\n",
    "run = 0\n",
    "\n",
    "\n",
    "mlpparameters = {\n",
    "\"activation\": \"relu\",\n",
    "\"alpha\": 0.0001,\n",
    "\"learning_rate\": \"constant\",\n",
    "\"max_iter\": 210,\n",
    "\"batch_size\": 8,\n",
    "\"solver\": \"adam\",\n",
    "\n",
    "\"hidden_layer_sizes\": (100, 100)\n",
    "}\n",
    "OGmodels = [\n",
    "    SVC(kernel=\"rbf\", probability=True),\n",
    "    SVC(kernel=\"linear\", probability=True),\n",
    "    LogisticRegression(max_iter=700),\n",
    "    GaussianNB(),\n",
    "    XGBClassifier(n_estimators=300, use_label_encoder=False, eval_metric='logloss'),\n",
    "    KNeighborsClassifier(),\n",
    "    QuadraticDiscriminantAnalysis(reg_param=1.0, store_covariance=True, tol=0.000)\n",
    "]\n",
    "\n",
    "\n",
    "OGstack_models = [\n",
    "    MLPClassifier(**mlpparameters),\n",
    "    RandomForestClassifier(),\n",
    "    LogisticRegression(max_iter=700),\n",
    "    GaussianNB(),\n",
    "    SVC(kernel=\"rbf\", probability=True),\n",
    "    SVC(kernel=\"linear\", probability=True),\n",
    "    #MLPClassifier(activation='relu', alpha= 0.0001, batch_size= 1, hidden_layer_sizes=(200,), learning_rate= 'constant', solver= 'adam', max_iter=400)\n",
    "]\n",
    "\n",
    "number_models = len(OGmodels)\n",
    "model_names = [type(model).__name__ for model in OGmodels]\n",
    "# Dictionary to track occurrences of each model name\n",
    "name_count = {}\n",
    "# Updated list to hold the unique model names\n",
    "unique_model_names = []\n",
    "\n",
    "for name in model_names:\n",
    "    if name in name_count:\n",
    "        # If the name is already seen, increment the count and append the number\n",
    "        name_count[name] += 1\n",
    "        unique_name = f\"{name}{name_count[name]}\"\n",
    "    else:\n",
    "        # If the name is seen for the first time, just use the name\n",
    "        name_count[name] = 1\n",
    "        unique_name = name\n",
    "    # Append the unique name to the result list\n",
    "    unique_model_names.append(unique_name)\n",
    "OGmodel_names=unique_model_names\n",
    "\n",
    "\n",
    "stack_model_names = [type(model).__name__ for model in OGstack_models]\n",
    "# Updated list to hold the unique model names\n",
    "\n",
    "unique_stack_model_names = []\n",
    "for name in stack_model_names:\n",
    "    if name in name_count:\n",
    "        # If the name is already seen, increment the count and append the number\n",
    "        name_count[name] += 1\n",
    "        unique_name = f\"{name}{name_count[name]}\"\n",
    "    else:\n",
    "        # If the name is seen for the first time, just use the name\n",
    "        name_count[name] = 1\n",
    "        unique_name = name\n",
    "    unique_stack_model_names.append(unique_name)\n",
    "OGstack_model_names = unique_stack_model_names\n",
    "\n",
    "print(OGmodel_names)\n",
    "print(OGstack_model_names)\n",
    "\n",
    "\n",
    "\n",
    "# Create a dictionary that maps model names to model instances\n",
    "OGmodel_dict = dict(zip(OGmodel_names, OGmodels))\n",
    "\n",
    "# Print the combined dictionary\n",
    "print(\"dict\", OGmodel_dict)\n",
    "\n",
    "OGstack_model_dict = dict(zip(OGstack_model_names, OGstack_models))\n",
    "\n",
    "# Print the combined dictionary\n",
    "print(\"dict\", OGstack_model_dict)\n",
    "\n",
    "\n",
    "\n",
    "\n",
    "# Create all combinations of 2 classifiers from OGmodels\n",
    "model_combinations = list(itertools.combinations(OGmodels, 4))\n",
    "#print(\"model combinations\", model_combinations)\n",
    "\n",
    "# Iterate over each combination of models\n",
    "for model1, model2, model3, model4 in model_combinations:\n",
    "    print(f\"Model Pair: {type(model1).__name__} + {type(model2).__name__} + {type(model3).__name__} + {type(model4).__name__}\")\n",
    "    USEDmodels = [model1, model2, model3, model4]\n",
    "    \n",
    "    # Function to find the key corresponding to a model\n",
    "    def find_model_key(model_dict, input_model):\n",
    "        # Get the input model's parameters\n",
    "        input_params = input_model.get_params()\n",
    "\n",
    "        # Iterate through the dictionary\n",
    "        for key, model in model_dict.items():\n",
    "            # Compare parameters of the current model in the dictionary with the input model\n",
    "            if model.get_params() == input_params:\n",
    "                return key  # Return the key if the model parameters match\n",
    "\n",
    "        return None  # Return None if no match is found\n",
    "\n",
    "    # Find the key for the input model\n",
    "    model_key1 = find_model_key(OGmodel_dict, model1)\n",
    "    model_key2 = find_model_key(OGmodel_dict, model2)\n",
    "    model_key3 = find_model_key(OGmodel_dict, model3)\n",
    "    model_key4 = find_model_key(OGmodel_dict, model4)\n",
    "    \n",
    "    \n",
    "    USEDmodelnames = [model_key1, model_key2, model_key3, model_key4]\n",
    "    print(\"USEDmodelnames\", USEDmodelnames)\n",
    "    \n",
    "    le = LabelEncoder()\n",
    "    x = pd.read_csv('') #your file here\n",
    "    data = \"\" #give the data a name\n",
    "    pd.set_option('display.max_rows', None)  # Show all rows\n",
    "    pd.set_option('display.max_columns', None)  # Show all columns\n",
    "   \n",
    "    #Define the mapping\n",
    "    mapping = {\n",
    "        'Squamous': 0,\n",
    "        'ADEX': 1,\n",
    "        'Pancreatic Progenitor': 2,\n",
    "        'Immunogenic': 3\n",
    "    }\n",
    "\n",
    "    # Map the values\n",
    "    x['subtype'] = x['subtype'].map(mapping)\n",
    "\n",
    "    classnumber = len(np.unique(x['subtype']))\n",
    "    #print(classnumber)\n",
    "    randomstate = 0\n",
    "    # List of states\n",
    "    states = list(range(1))\n",
    "    print(f\"Running with: {type(model1).__name__} and {type(model2).__name__} and {type(model3).__name__} and {type(model4).__name__}\")\n",
    "    models = {model1, model2, model3, model4}\n",
    "    # Loop through each state and run the workflow\n",
    "    for state in states:\n",
    "        workflow(x, USEDmodels, USEDmodelnames, randomstate=state)\n",
    "    \n",
    "    # Placeholder: print model names for demonstration\n",
    "    run = run+1\n",
    "    print(\"run\", run)\n",
    "    \n",
    "    # Process the models or create a stack of models\n",
    "    # Example of stacking:\n",
    "    # stack_model = [model1, model2]  # or any other combination logic\n",
    "    # You can add your desired workflow for each model pair here\n",
    "    \n",
    "    \n",
    "    "
   ]
  }
 ],
 "metadata": {
  "kernelspec": {
   "display_name": "Python 3 (ipykernel)",
   "language": "python",
   "name": "python3"
  },
  "language_info": {
   "codemirror_mode": {
    "name": "ipython",
    "version": 3
   },
   "file_extension": ".py",
   "mimetype": "text/x-python",
   "name": "python",
   "nbconvert_exporter": "python",
   "pygments_lexer": "ipython3",
   "version": "3.8.18"
  }
 },
 "nbformat": 4,
 "nbformat_minor": 4
}

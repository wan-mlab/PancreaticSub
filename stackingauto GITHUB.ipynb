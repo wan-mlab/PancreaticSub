{
 "cells": [
  {
   "cell_type": "markdown",
   "metadata": {
    "tags": []
   },
   "source": [
    "# notes\n",
    "\n",
    "#re-add the averaging for test values due to each fold having different testing data\n",
    "#add multi-layer perceptron for secondary classifier\n",
    "#add functionality for \"leave one out cross validation\", more effective with small sample sizes.\n",
    "above is complete\n",
    "\n"
   ]
  },
  {
   "cell_type": "markdown",
   "metadata": {
    "tags": []
   },
   "source": [
    "# predict label"
   ]
  },
  {
   "cell_type": "markdown",
   "metadata": {},
   "source": [
    "## step 1"
   ]
  },
  {
   "cell_type": "code",
   "execution_count": 10,
   "metadata": {
    "collapsed": true,
    "jupyter": {
     "outputs_hidden": true
    },
    "tags": []
   },
   "outputs": [
    {
     "name": "stdout",
     "output_type": "stream",
     "text": [
      "Defaulting to user installation because normal site-packages is not writeable\n",
      "Requirement already satisfied: torch in /home/wanlab/nick/.local/lib/python3.8/site-packages (2.4.1)\n",
      "Requirement already satisfied: torchvision in /home/wanlab/nick/.local/lib/python3.8/site-packages (0.19.1)\n",
      "Requirement already satisfied: torchaudio in /home/wanlab/nick/.local/lib/python3.8/site-packages (2.4.1)\n",
      "Requirement already satisfied: filelock in /home/wanlab/nick/.local/lib/python3.8/site-packages (from torch) (3.16.1)\n",
      "Requirement already satisfied: typing-extensions>=4.8.0 in /home/wanlab/nick/.local/lib/python3.8/site-packages (from torch) (4.12.2)\n",
      "Requirement already satisfied: sympy in /home/wanlab/nick/.local/lib/python3.8/site-packages (from torch) (1.13.3)\n",
      "Requirement already satisfied: networkx in /home/wanlab/nick/.local/lib/python3.8/site-packages (from torch) (3.1)\n",
      "Requirement already satisfied: jinja2 in /home/wanlab/nick/.local/lib/python3.8/site-packages (from torch) (3.1.4)\n",
      "Requirement already satisfied: fsspec in /home/wanlab/nick/.local/lib/python3.8/site-packages (from torch) (2024.9.0)\n",
      "Requirement already satisfied: nvidia-cuda-nvrtc-cu12==12.1.105 in /home/wanlab/nick/.local/lib/python3.8/site-packages (from torch) (12.1.105)\n",
      "Requirement already satisfied: nvidia-cuda-runtime-cu12==12.1.105 in /home/wanlab/nick/.local/lib/python3.8/site-packages (from torch) (12.1.105)\n",
      "Requirement already satisfied: nvidia-cuda-cupti-cu12==12.1.105 in /home/wanlab/nick/.local/lib/python3.8/site-packages (from torch) (12.1.105)\n",
      "Requirement already satisfied: nvidia-cudnn-cu12==9.1.0.70 in /home/wanlab/nick/.local/lib/python3.8/site-packages (from torch) (9.1.0.70)\n",
      "Requirement already satisfied: nvidia-cublas-cu12==12.1.3.1 in /home/wanlab/nick/.local/lib/python3.8/site-packages (from torch) (12.1.3.1)\n",
      "Requirement already satisfied: nvidia-cufft-cu12==11.0.2.54 in /home/wanlab/nick/.local/lib/python3.8/site-packages (from torch) (11.0.2.54)\n",
      "Requirement already satisfied: nvidia-curand-cu12==10.3.2.106 in /home/wanlab/nick/.local/lib/python3.8/site-packages (from torch) (10.3.2.106)\n",
      "Requirement already satisfied: nvidia-cusolver-cu12==11.4.5.107 in /home/wanlab/nick/.local/lib/python3.8/site-packages (from torch) (11.4.5.107)\n",
      "Requirement already satisfied: nvidia-cusparse-cu12==12.1.0.106 in /home/wanlab/nick/.local/lib/python3.8/site-packages (from torch) (12.1.0.106)\n",
      "Requirement already satisfied: nvidia-nccl-cu12==2.20.5 in /home/wanlab/nick/.local/lib/python3.8/site-packages (from torch) (2.20.5)\n",
      "Requirement already satisfied: nvidia-nvtx-cu12==12.1.105 in /home/wanlab/nick/.local/lib/python3.8/site-packages (from torch) (12.1.105)\n",
      "Requirement already satisfied: triton==3.0.0 in /home/wanlab/nick/.local/lib/python3.8/site-packages (from torch) (3.0.0)\n",
      "Requirement already satisfied: nvidia-nvjitlink-cu12 in /home/wanlab/nick/.local/lib/python3.8/site-packages (from nvidia-cusolver-cu12==11.4.5.107->torch) (12.6.77)\n",
      "Requirement already satisfied: numpy in /home/wanlab/nick/.local/lib/python3.8/site-packages (from torchvision) (1.24.3)\n",
      "Requirement already satisfied: pillow!=8.3.*,>=5.3.0 in /home/wanlab/nick/.local/lib/python3.8/site-packages (from torchvision) (10.4.0)\n",
      "Requirement already satisfied: MarkupSafe>=2.0 in /home/wanlab/nick/.local/lib/python3.8/site-packages (from jinja2->torch) (2.1.5)\n",
      "Requirement already satisfied: mpmath<1.4,>=1.1.0 in /home/wanlab/nick/.local/lib/python3.8/site-packages (from sympy->torch) (1.3.0)\n",
      "Defaulting to user installation because normal site-packages is not writeable\n",
      "Requirement already satisfied: lightGBM in /home/wanlab/nick/.local/lib/python3.8/site-packages (4.5.0)\n",
      "Requirement already satisfied: numpy>=1.17.0 in /home/wanlab/nick/.local/lib/python3.8/site-packages (from lightGBM) (1.24.3)\n",
      "Requirement already satisfied: scipy in /home/wanlab/nick/.local/lib/python3.8/site-packages (from lightGBM) (1.10.1)\n",
      "Defaulting to user installation because normal site-packages is not writeable\n",
      "Requirement already satisfied: statsmodels in /home/wanlab/nick/.local/lib/python3.8/site-packages (0.14.1)\n",
      "Requirement already satisfied: numpy<2,>=1.18 in /home/wanlab/nick/.local/lib/python3.8/site-packages (from statsmodels) (1.24.3)\n",
      "Requirement already satisfied: scipy!=1.9.2,>=1.4 in /home/wanlab/nick/.local/lib/python3.8/site-packages (from statsmodels) (1.10.1)\n",
      "Requirement already satisfied: pandas!=2.1.0,>=1.0 in /home/wanlab/nick/.local/lib/python3.8/site-packages (from statsmodels) (2.0.3)\n",
      "Requirement already satisfied: patsy>=0.5.4 in /home/wanlab/nick/.local/lib/python3.8/site-packages (from statsmodels) (1.0.1)\n",
      "Requirement already satisfied: packaging>=21.3 in /util/opt/anaconda/deployed-conda-envs/packages/jupyterlab/envs/jupyterlab-3.4.5/lib/python3.8/site-packages (from statsmodels) (23.1)\n",
      "Requirement already satisfied: python-dateutil>=2.8.2 in /util/opt/anaconda/deployed-conda-envs/packages/jupyterlab/envs/jupyterlab-3.4.5/lib/python3.8/site-packages (from pandas!=2.1.0,>=1.0->statsmodels) (2.8.2)\n",
      "Requirement already satisfied: pytz>=2020.1 in /util/opt/anaconda/deployed-conda-envs/packages/jupyterlab/envs/jupyterlab-3.4.5/lib/python3.8/site-packages (from pandas!=2.1.0,>=1.0->statsmodels) (2023.3)\n",
      "Requirement already satisfied: tzdata>=2022.1 in /home/wanlab/nick/.local/lib/python3.8/site-packages (from pandas!=2.1.0,>=1.0->statsmodels) (2024.2)\n",
      "Requirement already satisfied: six>=1.5 in /util/opt/anaconda/deployed-conda-envs/packages/jupyterlab/envs/jupyterlab-3.4.5/lib/python3.8/site-packages (from python-dateutil>=2.8.2->pandas!=2.1.0,>=1.0->statsmodels) (1.16.0)\n"
     ]
    }
   ],
   "source": [
    "\n",
    "\n",
    "import os\n",
    "os.chdir()\n",
    "#change to your directory\n",
    "import pandas as pd\n",
    "!pip install torch torchvision torchaudio\n",
    "!pip install lightGBM\n",
    "!pip install statsmodels\n",
    "from sklearn.model_selection import train_test_split\n",
    "from sklearn.model_selection import GridSearchCV\n",
    "from sklearn.naive_bayes import GaussianNB\n",
    "from sklearn.ensemble import RandomForestRegressor\n",
    "from sklearn.ensemble import RandomForestClassifier\n",
    "import numpy as np\n",
    "from sklearn.preprocessing import StandardScaler\n",
    "from sklearn.preprocessing import MinMaxScaler\n",
    "from sklearn.linear_model import LinearRegression\n",
    "from sklearn.linear_model import RidgeCV\n",
    "from sklearn.linear_model import BayesianRidge\n",
    "from sklearn.ensemble import GradientBoostingRegressor,RandomForestRegressor,AdaBoostRegressor,ExtraTreesRegressor,AdaBoostClassifier\n",
    "from xgboost import XGBRegressor\n",
    "from lightgbm import LGBMRegressor\n",
    "from sklearn.svm import SVR\n",
    "from sklearn.model_selection import KFold\n",
    "from sklearn.neural_network import MLPClassifier\n",
    "from sklearn.decomposition import PCA\n",
    "\n",
    "import pandas as pd\n",
    "from sklearn.model_selection import train_test_split, KFold\n",
    "from sklearn.model_selection import StratifiedKFold\n",
    "skf = StratifiedKFold(n_splits=10)\n",
    "from sklearn.ensemble import RandomForestClassifier\n",
    "from xgboost import XGBClassifier\n",
    "from sklearn.svm import SVC\n",
    "from sklearn.linear_model import LogisticRegression\n",
    "import numpy as np\n",
    "from sklearn.preprocessing import LabelEncoder\n",
    "from sklearn.metrics import roc_auc_score, accuracy_score, precision_score, recall_score, f1_score, jaccard_score, matthews_corrcoef, confusion_matrix\n",
    "import torch\n",
    "import torch.nn as nn\n",
    "import torch.nn.functional as F\n",
    "import torch.optim as optim\n",
    "from torch.utils.data import DataLoader, TensorDataset\n",
    "kf = KFold(n_splits=96, shuffle=True, random_state=23)\n",
    "from sklearn.neighbors import KNeighborsClassifier\n",
    "from sklearn.metrics import classification_report\n",
    "from sklearn.tree import DecisionTreeClassifier\n",
    "from sklearn.gaussian_process import GaussianProcessClassifier\n",
    "from sklearn.discriminant_analysis import QuadraticDiscriminantAnalysis\n",
    "from statsmodels.stats.contingency_tables import mcnemar\n",
    "from sklearn.metrics import confusion_matrix\n",
    "import json\n"
   ]
  },
  {
   "cell_type": "markdown",
   "metadata": {},
   "source": [
    "## step 2"
   ]
  },
  {
   "cell_type": "code",
   "execution_count": 11,
   "metadata": {
    "tags": []
   },
   "outputs": [],
   "source": [
    "def workflow(x, USEDmodels, USEDmodelnames, randomstate):\n",
    "    x = x.sample(frac=1, random_state=randomstate).reset_index(drop=True)\n",
    "\n",
    "    y = x['subtype']\n",
    "\n",
    "    \n",
    "    \n",
    "   \n",
    "    \n",
    "    #CVgridsearch can go here when needed\n",
    "    \n",
    "    \n",
    "    \n",
    "\n",
    "\n",
    "    #print(y)\n",
    "    ytrain = y\n",
    "    pd.set_option('display.max_rows', None)  # Show all rows\n",
    "    pd.set_option('display.max_columns', None)  # Show all columns\n",
    "    #print(y)\n",
    "    pd.reset_option('display.max_rows')\n",
    "    pd.reset_option('display.max_columns')\n",
    "    x = x.drop(['subtype'], axis=1)\n",
    "    xtrain = x\n",
    "    print(f\"Random state: {randomstate}\")\n",
    "    #print(x, y)\n",
    "    def resetidx(x):\n",
    "        x.reset_index(drop=True, inplace=True)  # Reset the index\n",
    "        return x\n",
    "\n",
    "    resetidx(xtrain)\n",
    "    resetidx(ytrain)\n",
    "    #print(xtrain, ytrain)\n",
    "\n",
    "    #Block A\n",
    "    import time\n",
    "    start_time = time.time()\n",
    "    stacked = \"individual models\"\n",
    "    models = USEDmodels\n",
    "    model_names = USEDmodelnames\n",
    "    print(model_names)\n",
    "\n",
    "    oof_prob_pred, oofTrueLabels, oof_pred, stacked, oofOGdata = get_oof(xtrain, ytrain, stacked, models, model_names, randomstate)\n",
    "\n",
    "    end_time = time.time()\n",
    "    \n",
    "    total_time = end_time - start_time\n",
    "    print(f\"运行时间为: {total_time:.2f} 秒\")\n",
    "\n",
    "    #Block B\n",
    "    #get oof probabilities into the right order.\n",
    "    #these were combined through adding each set of #subtypenumber as a new column for the #classifiers created datasets for a total of subtype x classifiers.\n",
    "    models = OGstack_models\n",
    "    model_names = OGstack_model_names\n",
    "    oof_prob_pred_combined1 = np.concatenate([oof_prob_pred[key] for key in oof_prob_pred], axis=1)\n",
    "    print(\"combining\", oof_prob_pred_combined1, oofOGdata)\n",
    "    oof_prob_pred_combined1 = np.concatenate([oof_prob_pred_combined1, oofOGdata], axis=1) #CURRENT STATUS:COMBINING\n",
    "    oof_prob_pred_combined1 = pd.DataFrame(oof_prob_pred_combined1)\n",
    "\n",
    "    stacked = \"stacked\"\n",
    "\n",
    "    #makes it into a list for the initial code to easier read it\n",
    "    oof_prob_pred2, oofTrueLabels2, oof_pred2, stacked, oofOGdata = get_oof(oof_prob_pred_combined1, oofTrueLabels, stacked, models, model_names, randomstate)\n"
   ]
  },
  {
   "cell_type": "markdown",
   "metadata": {},
   "source": [
    "## step 3"
   ]
  },
  {
   "cell_type": "code",
   "execution_count": 12,
   "metadata": {
    "tags": []
   },
   "outputs": [],
   "source": [
    "\n",
    "def evaluate_classifier(Truelabels, PredictedLabels, reg, ProbaPredictions, stacked, model_name, randomstate):\n",
    "    \n",
    "    reverse_mapping = {v: k for k, v in mapping.items()}\n",
    "    Tl = Truelabels.map(reverse_mapping)\n",
    "    Tl.name = 'subtype'\n",
    "    ProP = pd.DataFrame(ProbaPredictions)\n",
    "    ProP = ProP.rename(columns=reverse_mapping)\n",
    "    predictions = pd.concat([Tl, ProP], axis=1)\n",
    "    \n",
    "    accuracy = accuracy_score(Truelabels, PredictedLabels)\n",
    "    precision = precision_score(Truelabels, PredictedLabels, average='weighted')\n",
    "    recall = recall_score(Truelabels, PredictedLabels, average='weighted')\n",
    "    f1 = f1_score(Truelabels, PredictedLabels, average='weighted')\n",
    "    mcc = matthews_corrcoef(Truelabels, PredictedLabels)\n",
    "    if len(Truelabels) > (len(x)/2):\n",
    "        print(\"\")\n",
    "        print(\"model score of oof results for\", model_name)\n",
    "        auc = roc_auc_score(Truelabels, ProbaPredictions, multi_class='ovr', average='weighted')\n",
    "        testing = \"val_data\"\n",
    "        #print(\"true labels\", Truelabels,\"predicted labels\", PredictedLabels)\n",
    "    cm = confusion_matrix(Truelabels, PredictedLabels)\n",
    "    if cm.shape == (2, 2):  # Binary classification\n",
    "        tn, fp, fn, tp = cm.ravel()\n",
    "\n",
    "        # Sensitivity and Specificity for binary classification\n",
    "        Sensitivity = tp / (tp + fn)\n",
    "        Specificity = tn / (tn + fp)\n",
    "\n",
    "    else:  # Multi-class classification\n",
    "        sensitivities = []\n",
    "        specificities = []\n",
    "\n",
    "        # Calculate for each class\n",
    "        for i in range(cm.shape[0]):  # Loop over each class\n",
    "            tp = cm[i, i]\n",
    "            fn = cm[i].sum() - tp  # All positives for this class\n",
    "            fp = cm[:, i].sum() - tp  # All predicted positives for this class\n",
    "            tn = cm.sum() - (fp + fn + tp)  # Total - (FP + FN + TP)\n",
    "\n",
    "            # Sensitivity for this class\n",
    "            sensitivity1 = tp / (tp + fn) if (tp + fn) > 0 else 0\n",
    "            sensitivities.append(sensitivity1)\n",
    "\n",
    "            # Specificity for this class\n",
    "            specificity1 = tn / (tn + fp) if (tn + fp) > 0 else 0\n",
    "            specificities.append(specificity1)\n",
    "\n",
    "        # Average sensitivity and specificity across classes\n",
    "        sensitivity = np.mean(sensitivities)\n",
    "        specificity = np.mean(specificities)\n",
    "\n",
    "    \n",
    "    if cm.shape == (2, 2):  # Binary classification\n",
    "        tn, fp, fn, tp = cm.ravel()\n",
    "\n",
    "        # G-measure for binary classification\n",
    "        G_measure = np.sqrt((tp / (tp + fn)) * (tn / (tn + fp)))\n",
    "\n",
    "        # Jaccard for binary classification\n",
    "        Jaccard = tp / (tp + fp + fn)\n",
    "\n",
    "    else:  # Multi-class classification\n",
    "        G_measures = []\n",
    "        Jaccard_testices = []\n",
    "\n",
    "        # Calculate for each class\n",
    "        for i in range(cm.shape[0]):  # Loop over each class\n",
    "            tp = cm[i, i]\n",
    "            fn = cm[i].sum() - tp  # All positives for this class\n",
    "            fp = cm[:, i].sum() - tp  # All predicted positives for this class\n",
    "            tn = cm.sum() - (fp + fn + tp)  # Total - (FP + FN + TP)\n",
    "\n",
    "            # G-measure for this class\n",
    "            G_measure = np.sqrt((tp / (tp + fn)) * (tn / (tn + fp))) if (tp + fn) > 0 and (tn + fp) > 0 else 0\n",
    "            G_measures.append(G_measure)\n",
    "\n",
    "            # Jaccard for this class\n",
    "            Jaccard = tp / (tp + fp + fn) if (tp + fp + fn) > 0 else 0\n",
    "            Jaccard_testices.append(Jaccard)\n",
    "\n",
    "        # Average G-measure and Jaccard index across classes\n",
    "        g_measure = np.mean(G_measures)\n",
    "        jaccard = np.mean(Jaccard_testices)\n",
    "    # Now G_measure and Jaccard contain the values for your model\n",
    "\n",
    "# Print all metrics\n",
    "    print(\"Model Accuracy:\", accuracy)\n",
    "    print(\"Precision:\", precision)\n",
    "    print(\"Recall (Sensitivity):\", recall)\n",
    "    print(\"F1 Score:\", f1)\n",
    "    print(\"Matthews Correlation Coefficient (MCC):\", mcc)\n",
    "    print(\"G-Measure:\", g_measure)\n",
    "    print(\"AUC:\", auc)\n",
    "    print(\"Specificity:\", specificity)\n",
    "    print(\"Jaccard Index:\", jaccard)\n",
    "\n",
    "\n",
    "    metrics = {\n",
    "    \"Accuracy\": [accuracy],\n",
    "    \"Precision\": [precision],\n",
    "    \"Recall (Sensitivity)\": [sensitivity],\n",
    "    \"F1 Score\": [f1],\n",
    "    \"MCC\": [mcc],\n",
    "    \"G-Measure\": [g_measure],\n",
    "    \"AUC\": [auc],\n",
    "    \"Specificity\": [specificity],\n",
    "    \"Jaccard Index\": [jaccard],\n",
    "    }\n",
    "\n",
    "# Convert metrics to DataFrame and save as CSV\n",
    "    metrics_df = pd.DataFrame(metrics).T\n",
    "    \n",
    "    \n",
    "    \n",
    "    # Define base file path and subdirectories\n",
    "    \n",
    "    #filepath = '//' #for combination testing\n",
    "    folderpath = \"//\"\n",
    "    #folderpath = \"/\" #for combination testing\n",
    "    foldername = f\"{run}/\"\n",
    "    filepath = f\"{folderpath}{foldername}\"\n",
    "    subdir = f\"{testing}/{stacked}/{model_name}/\"    \n",
    "    filename = f\"{data}({randomstate}),metrics.csv\"\n",
    "    filename2 = f\"predictions.csv\"\n",
    "    full_path = os.path.join(filepath, subdir, filename)  #evaluation\n",
    "    full_path2 = os.path.join(filepath, subdir, filename2) #predictions\n",
    "    \n",
    "    # Check if the subdirectory exists; if not, create it\n",
    "    if not os.path.exists(os.path.dirname(full_path)):\n",
    "        os.makedirs(os.path.dirname(full_path), exist_ok=True)\n",
    "        print(f\"Created directory: {os.path.dirname(full_path)}\")\n",
    "    \n",
    "    print(f\"Saving metrics to: {full_path}\")\n",
    "    print(\"PREDICTIONS\", predictions)\n",
    "    # Save the metrics DataFrame to CSV\n",
    "    metrics_df.to_csv(full_path, index=False)\n",
    "    predictions.to_csv(full_path2) \n",
    "    return metrics\n",
    "\n",
    "\n",
    "def oofindividualscore(X, models, oofTrueLabels, oof_pred, stacked, model_names, randomstate):\n",
    "    #it is in dictionary format and will automatically reference set of predictions for a particular model by name.\n",
    "    for idx, model in enumerate(models):\n",
    "        model_name = model_names[idx]\n",
    "        classy = oof_pred[model_name]\n",
    "        x1 = X[model_name]\n",
    "        #print(\"true labels\", oofTrueLabels, \"predicted labels\", classy, model, \"probabilities\", x1, stacked, model_name)\n",
    "        evaluate_classifier(oofTrueLabels, classy, model, x1, stacked, model_name, randomstate)\n",
    "        \n",
    "\n",
    "def get_oof(xtrain, ytrain, stacked, models, model_names, randomstate):\n",
    "    #note: empty arrays initialized so they can take shape as data is added to them. \n",
    "    #allows for more flexibility when removing or adding models\n",
    "    oofTrueLabels = pd.Series(dtype=int)\n",
    "    oofOGdata = pd.DataFrame()\n",
    "    oof_pred = {}\n",
    "    oof_prob_pred = {}\n",
    "\n",
    "    #splits training data into training and validation indexs\n",
    "    for fold_idx, (train_index, val_index) in enumerate(kf.split(xtrain, ytrain)): \n",
    "        kf_x_train = xtrain.iloc[train_index]\n",
    "        kf_y_train = ytrain[train_index]\n",
    "        kf_x_val = xtrain.iloc[val_index]\n",
    "        kf_y_val = ytrain[val_index]\n",
    "        oof_predictions = pd.Series(index=val_index, dtype=int)\n",
    "        # Ensure 'data' is used as a string key\n",
    "        print(stacked)\n",
    "        if stacked == \"individual models\":\n",
    "            oofOGdataNew = kf_x_val\n",
    "            oofOGdata = pd.concat([oofOGdata, oofOGdataNew], axis=0)\n",
    "\n",
    "        # Check if the key exists in the dictionary, then update accordingly\n",
    "        # Check if validation data already exists in the dictionary\n",
    "    \n",
    "        #print(\"val_index\", val_index)\n",
    "        #print(\"test index\", test_index)\n",
    "\n",
    "        for idx, model in enumerate(models):\n",
    "\n",
    "            model.fit(kf_x_train, kf_y_train) #training the model\n",
    "            model_name = model_names[idx]\n",
    "            proba_val = model.predict_proba(kf_x_val)\n",
    "            oof_predictions[val_index] = np.argmax(proba_val, axis=1)  # Assuming max probability class \n",
    "            #this section builds the arrays and dictionaries, adding and shaping it as it goes.\n",
    "            #if an array does not exist for a model, it will be created.\n",
    "            #if it does, values/probabilities are added as rows.\n",
    "            if model_name in oof_pred:\n",
    "                #print(\"Adding new labels to the existing true label Series\")\n",
    "                oof_pred[model_name] = pd.concat([oof_pred[model_name], pd.Series(oof_predictions[val_index])], ignore_index=True)\n",
    "            else:\n",
    "                #print(\"Creating a new true label Series for this model\")\n",
    "                oof_pred[model_name] = pd.Series(oof_predictions[val_index])\n",
    "            if model_name in oof_prob_pred:\n",
    "                #print(\"Adding the new oof predictions with the existing list for the model\")\n",
    "                oof_prob_pred[model_name] = np.concatenate([oof_prob_pred[model_name], proba_val], axis=0)\n",
    "                #print(oof_prob_pred)\n",
    "            else:\n",
    "                #print(\"Creating a new oof data entry in the dictionary for the model\")\n",
    "                oof_prob_pred[model_name] = proba_val  # Directly assign\n",
    "                #print(oof_prob_pred)\n",
    "    \n",
    "                \n",
    "        print(\"cv\")\n",
    "        # assembles a list of the corresponding true labels for the oof data\n",
    "        oofTrueLabelsCurrent = kf_y_val  \n",
    "        oofTrueLabels = pd.concat([oofTrueLabels, oofTrueLabelsCurrent], ignore_index=True)\n",
    "    \n",
    "    #print(oof_prob_pred, oofTrueLabels, oof_pred, test_prob_pred_mean, test_pred, stacked)\n",
    "    num_models = len(models)\n",
    "    \n",
    "    \n",
    "    oofOGdata_numpy = oofOGdata.to_numpy()\n",
    "    \n",
    "    #evaluate the performance of the individual classifiers\n",
    "    oofindividualscore(oof_prob_pred, models, oofTrueLabels, oof_pred, stacked, model_names, randomstate)\n",
    "    \n",
    "    #evaluate the test score for each model\n",
    "    return oof_prob_pred, oofTrueLabels, oof_pred, stacked, oofOGdata_numpy\n",
    "\n",
    "\n",
    "\n",
    "        \n",
    "    \n",
    "        "
   ]
  },
  {
   "cell_type": "markdown",
   "metadata": {},
   "source": [
    "## step 4"
   ]
  },
  {
   "cell_type": "code",
   "execution_count": null,
   "metadata": {
    "collapsed": true,
    "jupyter": {
     "outputs_hidden": true
    },
    "tags": []
   },
   "outputs": [
    {
     "name": "stdout",
     "output_type": "stream",
     "text": [
      "['SVC', 'SVC2']\n",
      "['SVC3', 'SVC4']\n",
      "run 0\n",
      "Random state: 0\n",
      "['SVC', 'SVC2']\n",
      "individual models\n",
      "cv\n",
      "individual models\n",
      "cv\n",
      "individual models\n",
      "cv\n",
      "individual models\n",
      "cv\n",
      "individual models\n",
      "cv\n",
      "individual models\n",
      "cv\n",
      "individual models\n",
      "cv\n",
      "individual models\n",
      "cv\n",
      "individual models\n",
      "cv\n",
      "individual models\n",
      "cv\n",
      "individual models\n",
      "cv\n",
      "individual models\n",
      "cv\n",
      "individual models\n",
      "cv\n",
      "individual models\n",
      "cv\n",
      "individual models\n",
      "cv\n",
      "individual models\n",
      "cv\n",
      "individual models\n",
      "cv\n",
      "individual models\n",
      "cv\n",
      "individual models\n",
      "cv\n",
      "individual models\n",
      "cv\n",
      "individual models\n",
      "cv\n",
      "individual models\n",
      "cv\n",
      "individual models\n",
      "cv\n",
      "individual models\n",
      "cv\n",
      "individual models\n",
      "cv\n",
      "individual models\n",
      "cv\n",
      "individual models\n",
      "cv\n",
      "individual models\n",
      "cv\n",
      "individual models\n",
      "cv\n",
      "individual models\n",
      "cv\n",
      "individual models\n",
      "cv\n",
      "individual models\n",
      "cv\n",
      "individual models\n",
      "cv\n",
      "individual models\n",
      "cv\n",
      "individual models\n",
      "cv\n",
      "individual models\n",
      "cv\n",
      "individual models\n",
      "cv\n",
      "individual models\n",
      "cv\n",
      "individual models\n",
      "cv\n",
      "individual models\n",
      "cv\n",
      "individual models\n",
      "cv\n",
      "individual models\n",
      "cv\n",
      "individual models\n",
      "cv\n",
      "individual models\n",
      "cv\n",
      "individual models\n",
      "cv\n",
      "individual models\n",
      "cv\n",
      "individual models\n",
      "cv\n",
      "individual models\n",
      "cv\n",
      "individual models\n",
      "cv\n",
      "individual models\n",
      "cv\n",
      "individual models\n",
      "cv\n",
      "individual models\n",
      "cv\n",
      "individual models\n",
      "cv\n",
      "individual models\n",
      "cv\n",
      "individual models\n",
      "cv\n",
      "individual models\n",
      "cv\n",
      "individual models\n",
      "cv\n",
      "individual models\n",
      "cv\n",
      "individual models\n",
      "cv\n",
      "individual models\n",
      "cv\n",
      "individual models\n",
      "cv\n",
      "individual models\n",
      "cv\n",
      "individual models\n",
      "cv\n",
      "individual models\n",
      "cv\n",
      "individual models\n",
      "cv\n",
      "individual models\n",
      "cv\n",
      "individual models\n",
      "cv\n",
      "individual models\n",
      "cv\n",
      "individual models\n",
      "cv\n",
      "individual models\n",
      "cv\n",
      "individual models\n",
      "cv\n",
      "individual models\n",
      "cv\n",
      "individual models\n",
      "cv\n",
      "individual models\n",
      "cv\n",
      "individual models\n",
      "cv\n",
      "individual models\n",
      "cv\n",
      "individual models\n",
      "cv\n",
      "individual models\n",
      "cv\n",
      "individual models\n",
      "cv\n",
      "individual models\n",
      "cv\n",
      "individual models\n",
      "cv\n",
      "individual models\n",
      "cv\n",
      "individual models\n",
      "cv\n",
      "individual models\n",
      "cv\n",
      "individual models\n",
      "cv\n",
      "individual models\n",
      "cv\n",
      "individual models\n",
      "cv\n",
      "individual models\n",
      "cv\n",
      "individual models\n",
      "cv\n",
      "individual models\n",
      "cv\n",
      "individual models\n",
      "cv\n",
      "individual models\n",
      "cv\n",
      "individual models\n",
      "cv\n",
      "individual models\n",
      "cv\n",
      "individual models\n",
      "cv\n",
      "individual models\n",
      "cv\n",
      "\n",
      "model score of oof results for SVC\n",
      "Model Accuracy: 0.875\n",
      "Precision: 0.880581343943413\n",
      "Recall (Sensitivity): 0.875\n",
      "F1 Score: 0.8750826719576721\n",
      "Matthews Correlation Coefficient (MCC): 0.8332845580159479\n",
      "G-Measure: 0.9161415862502547\n",
      "AUC: 0.9894263942239294\n",
      "Specificity: 0.9582719803670509\n",
      "Jaccard Index: 0.7770918304288716\n",
      "Saving metrics to: /work/wanlab/nick/stackeval0/val_data/individual models/SVC/limma(0),metrics.csv\n",
      "PREDICTIONS                   subtype  Squamous      ADEX  Pancreatic Progenitor  \\\n",
      "0   Pancreatic Progenitor  0.121891  0.034110               0.806467   \n",
      "1                    ADEX  0.034802  0.912362               0.014984   \n",
      "2   Pancreatic Progenitor  0.272802  0.237398               0.454515   \n",
      "3   Pancreatic Progenitor  0.005502  0.077095               0.879427   \n",
      "4                    ADEX  0.126648  0.665353               0.184899   \n",
      "..                    ...       ...       ...                    ...   \n",
      "91            Immunogenic  0.006298  0.053635               0.007206   \n",
      "92                   ADEX  0.008327  0.803494               0.125820   \n",
      "93            Immunogenic  0.038509  0.035288               0.406792   \n",
      "94               Squamous  0.623996  0.060016               0.286597   \n",
      "95  Pancreatic Progenitor  0.001804  0.020136               0.844708   \n",
      "\n",
      "    Immunogenic  \n",
      "0      0.037532  \n",
      "1      0.037852  \n",
      "2      0.035284  \n",
      "3      0.037976  \n",
      "4      0.023100  \n",
      "..          ...  \n",
      "91     0.932861  \n",
      "92     0.062359  \n",
      "93     0.519410  \n",
      "94     0.029390  \n",
      "95     0.133352  \n",
      "\n",
      "[96 rows x 5 columns]\n",
      "\n",
      "model score of oof results for SVC2\n",
      "Model Accuracy: 0.9375\n",
      "Precision: 0.9378672542735043\n",
      "Recall (Sensitivity): 0.9375\n",
      "F1 Score: 0.9374874949979993\n",
      "Matthews Correlation Coefficient (MCC): 0.9155529545059609\n",
      "G-Measure: 0.9579504330083998\n",
      "AUC: 0.9862038074406031\n",
      "Specificity: 0.9787358621425523\n",
      "Jaccard Index: 0.882714303670186\n",
      "Saving metrics to: /work/wanlab/nick/stackeval0/val_data/individual models/SVC2/limma(0),metrics.csv\n",
      "PREDICTIONS                   subtype  Squamous      ADEX  Pancreatic Progenitor  \\\n",
      "0   Pancreatic Progenitor  0.170332  0.043322               0.747629   \n",
      "1                    ADEX  0.084927  0.813410               0.034194   \n",
      "2   Pancreatic Progenitor  0.340005  0.170573               0.445534   \n",
      "3   Pancreatic Progenitor  0.021428  0.079101               0.832341   \n",
      "4                    ADEX  0.246502  0.459073               0.261498   \n",
      "..                    ...       ...       ...                    ...   \n",
      "91            Immunogenic  0.019327  0.095786               0.014510   \n",
      "92                   ADEX  0.026954  0.775685               0.120260   \n",
      "93            Immunogenic  0.075153  0.024796               0.710859   \n",
      "94               Squamous  0.581762  0.024822               0.376806   \n",
      "95  Pancreatic Progenitor  0.003516  0.024657               0.791473   \n",
      "\n",
      "    Immunogenic  \n",
      "0      0.038717  \n",
      "1      0.067469  \n",
      "2      0.043887  \n",
      "3      0.067130  \n",
      "4      0.032927  \n",
      "..          ...  \n",
      "91     0.870377  \n",
      "92     0.077101  \n",
      "93     0.189191  \n",
      "94     0.016610  \n",
      "95     0.180353  \n",
      "\n",
      "[96 rows x 5 columns]\n",
      "运行时间为: 25.14 秒\n",
      "combining [[1.21890666e-01 3.41099280e-02 8.06467375e-01 3.75320307e-02\n",
      "  1.70331945e-01 4.33223026e-02 7.47628781e-01 3.87169715e-02]\n",
      " [3.48015902e-02 9.12362375e-01 1.49843523e-02 3.78516822e-02\n",
      "  8.49268898e-02 8.13409840e-01 3.41944800e-02 6.74687898e-02]\n",
      " [2.72802194e-01 2.37398355e-01 4.54515084e-01 3.52843668e-02\n",
      "  3.40005480e-01 1.70573055e-01 4.45534365e-01 4.38871000e-02]\n",
      " [5.50228443e-03 7.70948183e-02 8.79426618e-01 3.79762792e-02\n",
      "  2.14281538e-02 7.91007861e-02 8.32341140e-01 6.71299203e-02]\n",
      " [1.26648014e-01 6.65353329e-01 1.84898708e-01 2.30999494e-02\n",
      "  2.46501650e-01 4.59073326e-01 2.61498148e-01 3.29268758e-02]\n",
      " [4.23032753e-03 6.71537162e-03 1.35159352e-01 8.53894949e-01\n",
      "  6.19579416e-03 8.35426133e-03 5.64000975e-02 9.29049847e-01]\n",
      " [9.47972585e-02 3.41913602e-02 8.43628386e-01 2.73829949e-02\n",
      "  1.77880783e-01 2.34920977e-02 7.61730436e-01 3.68966828e-02]\n",
      " [1.43344323e-02 4.44476407e-02 9.17380663e-01 2.38372642e-02\n",
      "  1.86354918e-02 7.63120161e-02 8.35887340e-01 6.91651526e-02]\n",
      " [3.44108545e-01 3.00066559e-02 2.55844007e-01 3.70040792e-01\n",
      "  3.94032700e-01 1.70796661e-02 3.56228620e-01 2.32659014e-01]\n",
      " [1.93581867e-01 9.48348173e-02 6.37128121e-01 7.44551944e-02\n",
      "  2.93022364e-01 9.96863036e-02 4.74135444e-01 1.33155888e-01]\n",
      " [3.30426654e-03 9.75833989e-01 1.99290393e-03 1.88688401e-02\n",
      "  8.25641032e-03 9.80382382e-01 2.52069375e-03 8.84051412e-03]\n",
      " [6.51607987e-02 9.80407894e-02 8.08107820e-01 2.86905919e-02\n",
      "  8.94349680e-02 9.38112899e-02 7.92886311e-01 2.38674316e-02]\n",
      " [1.60431215e-02 3.21884492e-03 1.34013937e-02 9.67336640e-01\n",
      "  1.64187791e-02 1.71907669e-03 1.77917608e-02 9.64070383e-01]\n",
      " [7.93714511e-01 1.93608467e-02 6.07642790e-02 1.26160363e-01\n",
      "  7.45780176e-01 1.00790552e-02 8.70662277e-02 1.57074541e-01]\n",
      " [5.49905314e-02 1.57424294e-02 9.19307742e-01 9.95929755e-03\n",
      "  3.99410421e-02 1.51320983e-02 9.41424342e-01 3.50251775e-03]\n",
      " [1.18280010e-01 2.66726589e-01 2.49478665e-01 3.65514737e-01\n",
      "  1.73615661e-01 1.76317267e-01 2.30564206e-01 4.19502867e-01]\n",
      " [1.14429128e-03 6.56742467e-03 9.80738052e-01 1.15502321e-02\n",
      "  5.71672509e-07 6.96621505e-07 9.99650225e-01 3.48506672e-04]\n",
      " [8.84559281e-01 8.37247378e-02 1.99631874e-02 1.17527935e-02\n",
      "  8.11981743e-01 1.18021786e-01 4.59524109e-02 2.40440600e-02]\n",
      " [2.16550253e-01 1.53474877e-02 4.56638314e-01 3.11463944e-01\n",
      "  3.97075506e-01 9.51483888e-03 4.47856843e-01 1.45552812e-01]\n",
      " [1.01759696e-02 8.14736992e-02 8.63020969e-01 4.53293622e-02\n",
      "  1.19251474e-02 4.29814796e-02 8.83865076e-01 6.12282970e-02]\n",
      " [7.33116349e-02 2.31164807e-02 1.54960398e-02 8.88075845e-01\n",
      "  7.70784231e-02 1.62013792e-02 1.11388603e-02 8.95581338e-01]\n",
      " [9.06422996e-01 5.45184494e-02 8.85179005e-03 3.02067648e-02\n",
      "  8.93573058e-01 5.65800420e-02 1.28211872e-02 3.70257131e-02]\n",
      " [7.88172460e-02 1.00079158e-02 7.40678121e-02 8.37107026e-01\n",
      "  1.42275928e-01 6.51659645e-03 1.50096209e-01 7.01111266e-01]\n",
      " [5.64401359e-03 9.79323967e-01 4.24279283e-03 1.07892266e-02\n",
      "  4.65716741e-03 9.62993306e-01 1.43276200e-02 1.80219067e-02]\n",
      " [3.90815982e-03 2.18531729e-03 1.24713574e-03 9.92659387e-01\n",
      "  3.31561830e-03 1.31110413e-03 7.93429412e-04 9.94579848e-01]\n",
      " [1.74818655e-02 5.81018297e-02 8.47748182e-01 7.66681223e-02\n",
      "  3.08168546e-02 6.69079581e-02 8.05532096e-01 9.67430917e-02]\n",
      " [4.65349243e-02 2.40703057e-02 1.81375295e-01 7.48019475e-01\n",
      "  5.99662794e-02 1.88647052e-02 1.96106998e-01 7.25062017e-01]\n",
      " [1.42410464e-01 1.81862171e-02 2.74218911e-01 5.65184408e-01\n",
      "  8.07454614e-02 6.35680224e-03 5.34744982e-01 3.78152754e-01]\n",
      " [5.89504815e-03 1.27510031e-01 8.19538256e-01 4.70566647e-02\n",
      "  6.52789911e-03 5.89997499e-02 8.69778843e-01 6.46935082e-02]\n",
      " [2.52561480e-03 1.80680526e-02 2.65033420e-01 7.14372913e-01\n",
      "  3.44230465e-03 1.95818299e-02 1.54675079e-01 8.22300787e-01]\n",
      " [2.46317731e-02 1.59638414e-02 1.25431575e-01 8.33972810e-01\n",
      "  5.76616484e-02 1.44445896e-02 1.05279702e-01 8.22614060e-01]\n",
      " [5.28636544e-03 6.38973704e-01 9.57780558e-02 2.59961875e-01\n",
      "  9.61324865e-03 6.90729943e-01 1.12670565e-01 1.86986243e-01]\n",
      " [1.81064258e-01 7.64334920e-01 4.05127932e-02 1.40880283e-02\n",
      "  5.46530106e-02 9.19935311e-01 2.20957659e-02 3.31591228e-03]\n",
      " [9.76565194e-01 1.13285824e-02 4.55034617e-03 7.55587742e-03\n",
      "  9.79442872e-01 5.47431227e-03 9.53371832e-03 5.54909758e-03]\n",
      " [3.33995965e-03 6.26908830e-01 7.44692834e-02 2.95281927e-01\n",
      "  5.90609070e-03 7.08228107e-01 8.24055486e-02 2.03460254e-01]\n",
      " [8.52851705e-01 1.08137283e-01 2.00419002e-03 3.70068220e-02\n",
      "  7.81127338e-01 7.55351206e-02 9.82836044e-03 1.33509181e-01]\n",
      " [9.84584558e-01 1.51756107e-03 3.61590121e-03 1.02819797e-02\n",
      "  9.83833509e-01 7.78568222e-04 7.82629164e-03 7.56163066e-03]\n",
      " [6.30787671e-03 8.28102060e-01 1.56050049e-01 9.54001469e-03\n",
      "  6.97446138e-03 6.86244200e-01 2.93822052e-01 1.29592864e-02]\n",
      " [8.36626455e-01 5.10182269e-02 1.01439757e-01 1.09155607e-02\n",
      "  7.41066744e-01 3.72680656e-02 2.12866915e-01 8.79827542e-03]\n",
      " [9.93322021e-01 1.94222111e-03 3.55384165e-04 4.38037414e-03\n",
      "  9.95185748e-01 1.52051674e-03 6.99276279e-04 2.59445943e-03]\n",
      " [3.82798261e-03 7.20533126e-01 2.47793644e-01 2.78452471e-02\n",
      "  9.08566451e-03 6.40724320e-01 3.06391118e-01 4.37988976e-02]\n",
      " [4.86047142e-02 4.28227776e-02 3.78022357e-01 5.30550151e-01\n",
      "  5.38949667e-02 2.82384834e-02 8.42630460e-02 8.33603504e-01]\n",
      " [9.93214855e-01 7.16629423e-04 3.32893992e-04 5.73562183e-03\n",
      "  9.92377865e-01 1.17741207e-04 1.31193611e-03 6.19245812e-03]\n",
      " [4.17109160e-02 1.40016184e-01 8.10569269e-01 7.70363135e-03\n",
      "  7.81388943e-02 1.02049278e-01 8.05489156e-01 1.43226719e-02]\n",
      " [1.99001502e-01 1.26191240e-02 3.22009930e-02 7.56178381e-01\n",
      "  1.37928902e-01 3.70241744e-03 3.78713317e-02 8.20497349e-01]\n",
      " [4.60528087e-01 4.23831418e-01 1.11563679e-01 4.07681640e-03\n",
      "  2.98537898e-01 5.42673337e-01 1.49528377e-01 9.26038721e-03]\n",
      " [7.06602490e-01 8.52972828e-03 2.03505790e-01 8.13619919e-02\n",
      "  6.42633434e-01 5.15731515e-03 3.25370615e-01 2.68386354e-02]\n",
      " [4.98251637e-02 2.43314140e-02 9.04715356e-01 2.11280664e-02\n",
      "  4.01683570e-02 1.93454936e-02 9.23210241e-01 1.72759080e-02]\n",
      " [1.18787655e-02 6.40037992e-03 1.34637784e-01 8.47083071e-01\n",
      "  2.00696097e-02 4.17867589e-03 1.30910139e-01 8.44841576e-01]\n",
      " [1.39821922e-02 9.69798536e-02 7.43568919e-01 1.45469035e-01\n",
      "  4.24883351e-02 6.20310812e-02 7.29282884e-01 1.66197699e-01]\n",
      " [4.29248518e-01 1.50546334e-02 3.34903818e-01 2.20793030e-01\n",
      "  4.59198614e-01 1.15409923e-02 4.68812241e-01 6.04481536e-02]\n",
      " [8.53239795e-01 7.78807573e-02 6.53815134e-02 3.49793423e-03\n",
      "  8.51938813e-01 6.79021249e-02 7.45082143e-02 5.65084756e-03]\n",
      " [4.67080267e-03 3.17841825e-02 1.62951767e-02 9.47249838e-01\n",
      "  5.58019139e-03 3.39091282e-02 1.99961413e-02 9.40514539e-01]\n",
      " [2.48151725e-02 8.53046986e-01 9.79686368e-02 2.41692043e-02\n",
      "  4.01633990e-02 5.74873823e-01 3.43635266e-01 4.13275123e-02]\n",
      " [9.95122460e-01 5.55013575e-04 1.89803883e-04 4.13272206e-03\n",
      "  9.95013523e-01 6.11883095e-05 1.33762756e-04 4.79152587e-03]\n",
      " [3.72832404e-02 1.08392595e-02 8.86522889e-01 6.53546110e-02\n",
      "  6.70030114e-02 1.02103997e-02 8.64227025e-01 5.85595640e-02]\n",
      " [9.17621059e-01 1.36698886e-02 4.32931735e-02 2.54158786e-02\n",
      "  9.54707325e-01 5.58607606e-03 3.13438043e-02 8.36279487e-03]\n",
      " [9.79686274e-01 3.22376040e-03 7.54442278e-03 9.54554287e-03\n",
      "  9.84732418e-01 9.72973910e-04 7.91203163e-03 6.38257662e-03]\n",
      " [7.70106853e-02 1.15806459e-01 7.59000423e-01 4.81824324e-02\n",
      "  4.95802518e-02 1.99169183e-02 9.18384773e-01 1.21180574e-02]\n",
      " [8.62631640e-01 6.24628827e-02 1.53398061e-02 5.95656711e-02\n",
      "  9.62729047e-01 1.70726518e-02 1.15372008e-02 8.66110035e-03]\n",
      " [4.80806784e-03 1.81167124e-02 4.02334757e-01 5.74740462e-01\n",
      "  1.02488846e-02 1.89028079e-02 3.02061440e-01 6.68786868e-01]\n",
      " [1.04739169e-01 8.03872761e-01 5.29599551e-02 3.84281156e-02\n",
      "  8.96969336e-02 7.77321929e-01 4.90717160e-02 8.39094214e-02]\n",
      " [2.83028615e-01 5.86575027e-02 3.30243657e-01 3.28070225e-01\n",
      "  2.20648262e-01 4.55437388e-02 4.10897790e-01 3.22910209e-01]\n",
      " [2.29841034e-03 1.58650938e-03 9.81460073e-04 9.95133620e-01\n",
      "  1.27965646e-03 1.64042851e-03 2.39426795e-03 9.94685647e-01]\n",
      " [3.32689609e-01 1.44363161e-02 2.88508894e-01 3.64365181e-01\n",
      "  3.66053827e-01 1.13298384e-02 4.80592914e-01 1.42023420e-01]\n",
      " [2.01127172e-02 3.60186615e-03 2.73812499e-02 9.48904167e-01\n",
      "  3.09382390e-02 1.98900694e-03 3.74555853e-02 9.29617169e-01]\n",
      " [2.40963693e-01 6.32104494e-01 1.09734637e-01 1.71971760e-02\n",
      "  1.45503270e-01 7.51190658e-01 8.86278194e-02 1.46782524e-02]\n",
      " [8.59529437e-01 2.48028919e-02 9.39008483e-02 2.17668229e-02\n",
      "  9.07531441e-01 1.51693814e-02 6.72744413e-02 1.00247365e-02]\n",
      " [5.98796518e-01 3.00800142e-01 9.41903108e-02 6.21302913e-03\n",
      "  4.43480403e-01 4.43318295e-01 1.01675749e-01 1.15255531e-02]\n",
      " [9.76232873e-02 1.68457635e-01 1.15845496e-01 6.18073581e-01\n",
      "  8.41827886e-02 1.29122578e-01 1.46887173e-01 6.39807461e-01]\n",
      " [4.84402076e-03 1.66483659e-02 9.45788600e-01 3.27190135e-02\n",
      "  1.14533549e-02 1.41263414e-02 9.54223799e-01 2.01965050e-02]\n",
      " [1.59451057e-02 2.49552237e-02 2.46414989e-01 7.12684681e-01\n",
      "  3.14911477e-02 4.10538548e-02 4.28066017e-01 4.99388981e-01]\n",
      " [3.90544459e-01 1.05807086e-01 3.56218197e-01 1.47430258e-01\n",
      "  4.00238843e-01 9.77040730e-02 3.15898984e-01 1.86158100e-01]\n",
      " [8.30416276e-02 7.15950326e-01 1.71389715e-01 2.96183309e-02\n",
      "  5.34059664e-02 7.73197888e-01 1.42882181e-01 3.05139647e-02]\n",
      " [1.99130888e-02 5.70933180e-02 9.14226905e-02 8.31570903e-01\n",
      "  2.46564829e-02 7.24446223e-02 2.85187123e-01 6.17711772e-01]\n",
      " [1.11845190e-02 1.99207383e-02 7.29171321e-01 2.39723421e-01\n",
      "  3.17613664e-02 3.12357006e-02 6.14060578e-01 3.22942355e-01]\n",
      " [2.05120553e-03 9.94094565e-01 8.15889999e-04 3.03833985e-03\n",
      "  1.06915960e-03 9.93681828e-01 9.81415428e-04 4.26759715e-03]\n",
      " [7.91565102e-03 2.66409253e-02 8.46353138e-01 1.19090286e-01\n",
      "  6.26479040e-03 1.40643305e-02 9.20299985e-01 5.93708945e-02]\n",
      " [3.76060485e-03 7.37754298e-03 9.24190264e-01 6.46715878e-02\n",
      "  8.12797191e-03 1.05001179e-02 9.19656333e-01 6.17155772e-02]\n",
      " [1.11690898e-02 1.22127657e-02 3.51121461e-02 9.41505998e-01\n",
      "  1.50501562e-02 6.90066224e-03 2.35641354e-02 9.54485046e-01]\n",
      " [9.96516178e-01 8.88411926e-04 4.21477854e-04 2.17393261e-03\n",
      "  9.97280831e-01 7.88794327e-05 1.81769565e-03 8.22593921e-04]\n",
      " [7.22685117e-01 2.50695607e-01 1.69622265e-02 9.65704896e-03\n",
      "  6.08443700e-01 3.49537633e-01 1.97464151e-02 2.22722516e-02]\n",
      " [3.32130172e-03 8.59184492e-04 7.34186877e-04 9.95085327e-01\n",
      "  3.43812393e-03 3.97478936e-04 8.93864103e-04 9.95270533e-01]\n",
      " [3.95203445e-01 4.12872945e-01 1.77117989e-01 1.48056212e-02\n",
      "  3.96145774e-01 3.79470500e-01 1.95856960e-01 2.85267660e-02]\n",
      " [7.00365089e-01 4.01233950e-02 7.35121672e-03 2.52160299e-01\n",
      "  5.94617607e-01 1.38869089e-02 9.13665459e-03 3.82358830e-01]\n",
      " [3.88874388e-01 2.40276937e-02 1.67320101e-01 4.19777818e-01\n",
      "  4.93069657e-01 4.98105168e-02 1.89535544e-01 2.67584282e-01]\n",
      " [9.75749877e-01 6.82208597e-03 7.42404387e-03 1.00039928e-02\n",
      "  9.62859562e-01 1.81430690e-03 8.99169668e-03 2.63344340e-02]\n",
      " [3.42717082e-02 6.77720284e-02 8.92813890e-01 5.14237301e-03\n",
      "  4.41615464e-02 4.96786828e-02 9.00561170e-01 5.59860088e-03]\n",
      " [1.95611511e-02 1.90295596e-01 7.88504209e-01 1.63904398e-03\n",
      "  2.37408890e-02 2.26471710e-01 7.46823336e-01 2.96406530e-03]\n",
      " [2.44228375e-02 2.59232316e-02 1.94186969e-02 9.30235234e-01\n",
      "  5.61345695e-02 2.89585629e-02 4.53313501e-02 8.69575518e-01]\n",
      " [2.32428770e-02 4.06710290e-02 3.62306972e-01 5.73779122e-01\n",
      "  3.97395331e-02 2.84048406e-02 3.49536578e-01 5.82319048e-01]\n",
      " [6.29845233e-03 5.36346456e-02 7.20591615e-03 9.32860986e-01\n",
      "  1.93265780e-02 9.57863451e-02 1.45102712e-02 8.70376806e-01]\n",
      " [8.32706043e-03 8.03494300e-01 1.25820000e-01 6.23586395e-02\n",
      "  2.69540954e-02 7.75685475e-01 1.20259639e-01 7.71007903e-02]\n",
      " [3.85092819e-02 3.52882676e-02 4.06791999e-01 5.19410451e-01\n",
      "  7.51530352e-02 2.47961604e-02 7.10859411e-01 1.89191393e-01]\n",
      " [6.23996057e-01 6.00164689e-02 2.86597496e-01 2.93899787e-02\n",
      "  5.81762082e-01 2.48218009e-02 3.76806207e-01 1.66099101e-02]\n",
      " [1.80419551e-03 2.01358241e-02 8.44708073e-01 1.33351908e-01\n",
      "  3.51633710e-03 2.46572520e-02 7.91473220e-01 1.80353191e-01]] [[13.56018914 12.68466835 13.10243664 ...  9.53005478 11.16103308\n",
      "  11.24920229]\n",
      " [15.4259582  14.08525845 12.01110512 ...  9.45622747 11.12707631\n",
      "  11.78331935]\n",
      " [14.4756837  13.26517897 12.82291838 ...  9.65623065 11.33179862\n",
      "  11.68015036]\n",
      " ...\n",
      " [14.28976923 13.62192201 12.67277184 ...  9.32578912  9.67174085\n",
      "  11.45401981]\n",
      " [14.71684472 13.81278796 13.58508909 ... 10.31590684 12.7838795\n",
      "  11.90067493]\n",
      " [14.18823419 12.92657629 11.70868561 ...  9.88942006  9.76636631\n",
      "  12.84604452]]\n",
      "stacked\n",
      "cv\n",
      "stacked\n",
      "cv\n",
      "stacked\n",
      "cv\n",
      "stacked\n",
      "cv\n",
      "stacked\n",
      "cv\n",
      "stacked\n",
      "cv\n",
      "stacked\n",
      "cv\n",
      "stacked\n",
      "cv\n",
      "stacked\n",
      "cv\n",
      "stacked\n",
      "cv\n",
      "stacked\n",
      "cv\n",
      "stacked\n",
      "cv\n",
      "stacked\n",
      "cv\n",
      "stacked\n",
      "cv\n",
      "stacked\n",
      "cv\n",
      "stacked\n",
      "cv\n",
      "stacked\n",
      "cv\n",
      "stacked\n",
      "cv\n",
      "stacked\n",
      "cv\n",
      "stacked\n",
      "cv\n",
      "stacked\n",
      "cv\n",
      "stacked\n",
      "cv\n",
      "stacked\n",
      "cv\n",
      "stacked\n",
      "cv\n",
      "stacked\n",
      "cv\n",
      "stacked\n",
      "cv\n",
      "stacked\n",
      "cv\n",
      "stacked\n",
      "cv\n",
      "stacked\n",
      "cv\n",
      "stacked\n",
      "cv\n",
      "stacked\n",
      "cv\n",
      "stacked\n",
      "cv\n",
      "stacked\n",
      "cv\n",
      "stacked\n",
      "cv\n",
      "stacked\n",
      "cv\n",
      "stacked\n",
      "cv\n",
      "stacked\n",
      "cv\n",
      "stacked\n",
      "cv\n",
      "stacked\n",
      "cv\n",
      "stacked\n",
      "cv\n",
      "stacked\n",
      "cv\n",
      "stacked\n",
      "cv\n",
      "stacked\n",
      "cv\n",
      "stacked\n",
      "cv\n",
      "stacked\n",
      "cv\n",
      "stacked\n",
      "cv\n",
      "stacked\n",
      "cv\n",
      "stacked\n",
      "cv\n",
      "stacked\n",
      "cv\n",
      "stacked\n",
      "cv\n",
      "stacked\n",
      "cv\n",
      "stacked\n",
      "cv\n",
      "stacked\n",
      "cv\n",
      "stacked\n",
      "cv\n",
      "stacked\n",
      "cv\n",
      "stacked\n",
      "cv\n",
      "stacked\n",
      "cv\n",
      "stacked\n",
      "cv\n",
      "stacked\n",
      "cv\n",
      "stacked\n",
      "cv\n",
      "stacked\n",
      "cv\n",
      "stacked\n",
      "cv\n",
      "stacked\n",
      "cv\n",
      "stacked\n",
      "cv\n",
      "stacked\n",
      "cv\n",
      "stacked\n",
      "cv\n",
      "stacked\n",
      "cv\n",
      "stacked\n",
      "cv\n",
      "stacked\n",
      "cv\n",
      "stacked\n",
      "cv\n",
      "stacked\n",
      "cv\n",
      "stacked\n",
      "cv\n",
      "stacked\n",
      "cv\n",
      "stacked\n",
      "cv\n",
      "stacked\n",
      "cv\n",
      "stacked\n",
      "cv\n",
      "stacked\n",
      "cv\n",
      "stacked\n",
      "cv\n",
      "stacked\n",
      "cv\n",
      "stacked\n",
      "cv\n",
      "stacked\n",
      "cv\n",
      "stacked\n",
      "cv\n",
      "stacked\n",
      "cv\n",
      "stacked\n",
      "cv\n",
      "stacked\n",
      "cv\n",
      "stacked\n",
      "cv\n",
      "stacked\n",
      "cv\n",
      "stacked\n",
      "cv\n",
      "stacked\n",
      "cv\n",
      "stacked\n",
      "cv\n",
      "stacked\n",
      "cv\n",
      "stacked\n",
      "cv\n",
      "stacked\n",
      "cv\n",
      "stacked\n",
      "cv\n",
      "stacked\n",
      "cv\n",
      "stacked\n",
      "cv\n",
      "\n",
      "model score of oof results for SVC3\n",
      "Model Accuracy: 0.875\n",
      "Precision: 0.8798649267399267\n",
      "Recall (Sensitivity): 0.875\n",
      "F1 Score: 0.8751610313936894\n",
      "Matthews Correlation Coefficient (MCC): 0.8329181448543629\n",
      "G-Measure: 0.9162567046538834\n",
      "AUC: 0.9871697832195192\n",
      "Specificity: 0.9582719803670507\n",
      "Jaccard Index: 0.7779538993943889\n",
      "Saving metrics to: /work/wanlab/nick/stackeval0/val_data/stacked/SVC3/limma(0),metrics.csv\n",
      "PREDICTIONS                   subtype  Squamous      ADEX  Pancreatic Progenitor  \\\n",
      "0             Immunogenic  0.004285  0.002212               0.001716   \n",
      "1                    ADEX  0.016927  0.868409               0.090257   \n",
      "2   Pancreatic Progenitor  0.002403  0.021397               0.830782   \n",
      "3   Pancreatic Progenitor  0.005865  0.078496               0.876030   \n",
      "4   Pancreatic Progenitor  0.028841  0.064871               0.901016   \n",
      "..                    ...       ...       ...                    ...   \n",
      "91                   ADEX  0.009255  0.643349               0.088116   \n",
      "92               Squamous  0.994644  0.000622               0.000156   \n",
      "93                   ADEX  0.098058  0.666268               0.202982   \n",
      "94  Pancreatic Progenitor  0.004348  0.774209               0.190045   \n",
      "95               Squamous  0.389897  0.414863               0.177737   \n",
      "\n",
      "    Immunogenic  \n",
      "0      0.991787  \n",
      "1      0.024407  \n",
      "2      0.145419  \n",
      "3      0.039609  \n",
      "4      0.005272  \n",
      "..          ...  \n",
      "91     0.259281  \n",
      "92     0.004577  \n",
      "93     0.032691  \n",
      "94     0.031397  \n",
      "95     0.017502  \n",
      "\n",
      "[96 rows x 5 columns]\n",
      "\n",
      "model score of oof results for SVC4\n",
      "Model Accuracy: 0.9270833333333334\n",
      "Precision: 0.9280887702303143\n",
      "Recall (Sensitivity): 0.9270833333333334\n",
      "F1 Score: 0.9266459799095269\n",
      "Matthews Correlation Coefficient (MCC): 0.9022586397158306\n",
      "G-Measure: 0.9554315292502638\n",
      "AUC: 0.9851212387964149\n",
      "Specificity: 0.9752147353819889\n",
      "Jaccard Index: 0.8738586780866192\n",
      "Saving metrics to: /work/wanlab/nick/stackeval0/val_data/stacked/SVC4/limma(0),metrics.csv\n",
      "PREDICTIONS                   subtype  Squamous      ADEX  Pancreatic Progenitor  \\\n",
      "0             Immunogenic  0.002629  0.001904               0.000974   \n",
      "1                    ADEX  0.048956  0.574519               0.332589   \n",
      "2   Pancreatic Progenitor  0.002384  0.017643               0.847210   \n",
      "3   Pancreatic Progenitor  0.014386  0.073878               0.846974   \n",
      "4   Pancreatic Progenitor  0.040851  0.064411               0.888224   \n",
      "..                    ...       ...       ...                    ...   \n",
      "91                   ADEX  0.011269  0.696835               0.108488   \n",
      "92               Squamous  0.995190  0.000085               0.000225   \n",
      "93                   ADEX  0.050444  0.748938               0.164927   \n",
      "94  Pancreatic Progenitor  0.010648  0.653459               0.291543   \n",
      "95               Squamous  0.403231  0.389496               0.179106   \n",
      "\n",
      "    Immunogenic  \n",
      "0      0.994493  \n",
      "1      0.043935  \n",
      "2      0.132764  \n",
      "3      0.064762  \n",
      "4      0.006515  \n",
      "..          ...  \n",
      "91     0.183408  \n",
      "92     0.004501  \n",
      "93     0.035691  \n",
      "94     0.044350  \n",
      "95     0.028168  \n",
      "\n",
      "[96 rows x 5 columns]\n",
      "Random state: 1\n",
      "['SVC', 'SVC2']\n",
      "individual models\n",
      "cv\n",
      "individual models\n",
      "cv\n",
      "individual models\n",
      "cv\n",
      "individual models\n",
      "cv\n",
      "individual models\n",
      "cv\n",
      "individual models\n",
      "cv\n",
      "individual models\n",
      "cv\n",
      "individual models\n",
      "cv\n",
      "individual models\n",
      "cv\n",
      "individual models\n",
      "cv\n",
      "individual models\n",
      "cv\n",
      "individual models\n",
      "cv\n",
      "individual models\n",
      "cv\n",
      "individual models\n",
      "cv\n",
      "individual models\n",
      "cv\n",
      "individual models\n",
      "cv\n",
      "individual models\n",
      "cv\n",
      "individual models\n",
      "cv\n",
      "individual models\n",
      "cv\n",
      "individual models\n",
      "cv\n",
      "individual models\n",
      "cv\n",
      "individual models\n",
      "cv\n",
      "individual models\n",
      "cv\n",
      "individual models\n",
      "cv\n",
      "individual models\n",
      "cv\n",
      "individual models\n",
      "cv\n",
      "individual models\n",
      "cv\n",
      "individual models\n",
      "cv\n",
      "individual models\n",
      "cv\n",
      "individual models\n",
      "cv\n",
      "individual models\n",
      "cv\n",
      "individual models\n",
      "cv\n",
      "individual models\n",
      "cv\n",
      "individual models\n",
      "cv\n",
      "individual models\n",
      "cv\n",
      "individual models\n",
      "cv\n",
      "individual models\n",
      "cv\n",
      "individual models\n",
      "cv\n",
      "individual models\n",
      "cv\n",
      "individual models\n",
      "cv\n",
      "individual models\n",
      "cv\n",
      "individual models\n",
      "cv\n",
      "individual models\n",
      "cv\n",
      "individual models\n",
      "cv\n",
      "individual models\n",
      "cv\n",
      "individual models\n",
      "cv\n",
      "individual models\n",
      "cv\n",
      "individual models\n",
      "cv\n",
      "individual models\n",
      "cv\n",
      "individual models\n",
      "cv\n",
      "individual models\n",
      "cv\n",
      "individual models\n",
      "cv\n",
      "individual models\n",
      "cv\n",
      "individual models\n",
      "cv\n",
      "individual models\n",
      "cv\n",
      "individual models\n",
      "cv\n",
      "individual models\n",
      "cv\n",
      "individual models\n",
      "cv\n",
      "individual models\n",
      "cv\n",
      "individual models\n",
      "cv\n",
      "individual models\n",
      "cv\n",
      "individual models\n",
      "cv\n",
      "individual models\n",
      "cv\n",
      "individual models\n",
      "cv\n",
      "individual models\n",
      "cv\n",
      "individual models\n",
      "cv\n",
      "individual models\n",
      "cv\n",
      "individual models\n",
      "cv\n",
      "individual models\n",
      "cv\n",
      "individual models\n",
      "cv\n",
      "individual models\n",
      "cv\n",
      "individual models\n",
      "cv\n",
      "individual models\n",
      "cv\n",
      "individual models\n",
      "cv\n",
      "individual models\n",
      "cv\n",
      "individual models\n",
      "cv\n",
      "individual models\n",
      "cv\n",
      "individual models\n",
      "cv\n",
      "individual models\n",
      "cv\n",
      "individual models\n",
      "cv\n",
      "individual models\n",
      "cv\n",
      "individual models\n",
      "cv\n",
      "individual models\n",
      "cv\n",
      "individual models\n",
      "cv\n",
      "individual models\n",
      "cv\n",
      "individual models\n",
      "cv\n",
      "individual models\n",
      "cv\n",
      "individual models\n",
      "cv\n",
      "individual models\n",
      "cv\n",
      "individual models\n",
      "cv\n",
      "individual models\n",
      "cv\n",
      "individual models\n",
      "cv\n",
      "individual models\n",
      "cv\n",
      "individual models\n",
      "cv\n",
      "individual models\n",
      "cv\n",
      "individual models\n",
      "cv\n",
      "\n",
      "model score of oof results for SVC\n",
      "Model Accuracy: 0.875\n",
      "Precision: 0.8854166666666666\n",
      "Recall (Sensitivity): 0.875\n",
      "F1 Score: 0.8759469696969697\n",
      "Matthews Correlation Coefficient (MCC): 0.8345080763582966\n",
      "G-Measure: 0.9160811379524181\n",
      "AUC: 0.9882301225280977\n",
      "Specificity: 0.9585387323943662\n",
      "Jaccard Index: 0.7773606476331727\n",
      "Created directory: /work/wanlab/nick/stackeval1/val_data/individual models/SVC\n",
      "Saving metrics to: /work/wanlab/nick/stackeval1/val_data/individual models/SVC/limma(1),metrics.csv\n",
      "PREDICTIONS                   subtype  Squamous      ADEX  Pancreatic Progenitor  \\\n",
      "0             Immunogenic  0.002359  0.017578               0.275870   \n",
      "1   Pancreatic Progenitor  0.041551  0.125620               0.824530   \n",
      "2                    ADEX  0.097253  0.824141               0.045734   \n",
      "3   Pancreatic Progenitor  0.025337  0.067937               0.902217   \n",
      "4                Squamous  0.975531  0.005966               0.006918   \n",
      "..                    ...       ...       ...                    ...   \n",
      "91                   ADEX  0.107695  0.713734               0.155774   \n",
      "92                   ADEX  0.555973  0.347441               0.091258   \n",
      "93  Pancreatic Progenitor  0.223125  0.017293               0.426220   \n",
      "94            Immunogenic  0.022880  0.057091               0.069772   \n",
      "95               Squamous  0.893921  0.076104               0.018858   \n",
      "\n",
      "    Immunogenic  \n",
      "0      0.704193  \n",
      "1      0.008299  \n",
      "2      0.032872  \n",
      "3      0.004509  \n",
      "4      0.011585  \n",
      "..          ...  \n",
      "91     0.022797  \n",
      "92     0.005327  \n",
      "93     0.333362  \n",
      "94     0.850257  \n",
      "95     0.011117  \n",
      "\n",
      "[96 rows x 5 columns]\n",
      "\n",
      "model score of oof results for SVC2\n",
      "Model Accuracy: 0.9270833333333334\n",
      "Precision: 0.9282457295657727\n",
      "Recall (Sensitivity): 0.9270833333333334\n",
      "F1 Score: 0.927124353652804\n",
      "Matthews Correlation Coefficient (MCC): 0.9017909960019698\n",
      "G-Measure: 0.9519085598926197\n",
      "AUC: 0.987253032081377\n",
      "Specificity: 0.9752147353819889\n",
      "Jaccard Index: 0.8669652957336781\n",
      "Created directory: /work/wanlab/nick/stackeval1/val_data/individual models/SVC2\n",
      "Saving metrics to: /work/wanlab/nick/stackeval1/val_data/individual models/SVC2/limma(1),metrics.csv\n",
      "PREDICTIONS                   subtype  Squamous      ADEX  Pancreatic Progenitor  \\\n",
      "0             Immunogenic  0.003852  0.018172               0.172815   \n",
      "1   Pancreatic Progenitor  0.073004  0.093380               0.820247   \n",
      "2                    ADEX  0.088677  0.789390               0.046762   \n",
      "3   Pancreatic Progenitor  0.057100  0.066666               0.868421   \n",
      "4                Squamous  0.970924  0.001393               0.009513   \n",
      "..                    ...       ...       ...                    ...   \n",
      "91                   ADEX  0.244238  0.477252               0.245425   \n",
      "92                   ADEX  0.508602  0.408904               0.071073   \n",
      "93  Pancreatic Progenitor  0.376174  0.009582               0.473879   \n",
      "94            Immunogenic  0.024821  0.075746               0.286536   \n",
      "95               Squamous  0.865258  0.090252               0.028247   \n",
      "\n",
      "    Immunogenic  \n",
      "0      0.805161  \n",
      "1      0.013370  \n",
      "2      0.075170  \n",
      "3      0.007813  \n",
      "4      0.018170  \n",
      "..          ...  \n",
      "91     0.033085  \n",
      "92     0.011421  \n",
      "93     0.140365  \n",
      "94     0.612898  \n",
      "95     0.016243  \n",
      "\n",
      "[96 rows x 5 columns]\n",
      "运行时间为: 25.22 秒\n",
      "combining [[2.35869674e-03 1.75783420e-02 2.75870158e-01 7.04192804e-01\n",
      "  3.85193951e-03 1.81715938e-02 1.72815282e-01 8.05161185e-01]\n",
      " [4.15505792e-02 1.25620455e-01 8.24529647e-01 8.29931821e-03\n",
      "  7.30035302e-02 9.33795667e-02 8.20247051e-01 1.33698516e-02]\n",
      " [9.72528508e-02 8.24140641e-01 4.57340088e-02 3.28724996e-02\n",
      "  8.86774560e-02 7.89390463e-01 4.67622099e-02 7.51698707e-02]\n",
      " [2.53372700e-02 6.79368346e-02 9.02216804e-01 4.50909109e-03\n",
      "  5.71004628e-02 6.66655624e-02 8.68420982e-01 7.81299292e-03]\n",
      " [9.75530999e-01 5.96565275e-03 6.91790595e-03 1.15854427e-02\n",
      "  9.70923630e-01 1.39345151e-03 9.51262990e-03 1.81702889e-02]\n",
      " [9.78568372e-01 3.30769455e-03 7.35313111e-03 1.07708028e-02\n",
      "  9.81413546e-01 1.02848162e-03 1.20619069e-02 5.49606593e-03]\n",
      " [5.89993778e-02 3.35786002e-02 8.81149135e-01 2.62728869e-02\n",
      "  5.50701090e-02 1.92122879e-02 9.05773103e-01 1.99444999e-02]\n",
      " [1.40500045e-02 6.35474292e-03 1.22601049e-01 8.56994204e-01\n",
      "  1.77660542e-02 4.13533490e-03 1.34793575e-01 8.43305035e-01]\n",
      " [9.83322091e-01 1.53708034e-03 4.56512272e-03 1.05757056e-02\n",
      "  9.82024026e-01 7.50372339e-04 6.47525393e-03 1.07503480e-02]\n",
      " [4.82206785e-03 3.08452019e-02 1.46140721e-02 9.49718658e-01\n",
      "  4.96731885e-03 3.03280572e-02 2.35399684e-02 9.41164656e-01]\n",
      " [3.70723984e-03 6.40508317e-01 7.53398597e-02 2.80444583e-01\n",
      "  4.94139215e-03 7.26256581e-01 6.58331735e-02 2.02968854e-01]\n",
      " [7.87426482e-01 1.99540790e-02 6.31189296e-02 1.29500509e-01\n",
      "  7.79967781e-01 8.84811625e-03 7.41912551e-02 1.36992847e-01]\n",
      " [9.76304062e-01 9.97367623e-03 7.27115905e-03 6.45110257e-03\n",
      "  9.80670658e-01 7.52702873e-03 6.81059870e-03 4.99171489e-03]\n",
      " [1.17202301e-02 8.99314035e-03 9.74257162e-03 9.69544058e-01\n",
      "  1.51740282e-02 6.78957263e-03 1.92730572e-02 9.58763342e-01]\n",
      " [1.95278398e-01 9.23737682e-02 6.32989122e-01 7.93587113e-02\n",
      "  3.14276451e-01 9.81435421e-02 4.61149244e-01 1.26430762e-01]\n",
      " [7.43453230e-02 9.70354768e-02 7.80029240e-01 4.85899599e-02\n",
      "  3.90630738e-02 1.57924752e-02 9.35896163e-01 9.24828802e-03]\n",
      " [8.38784092e-02 9.96534013e-03 9.06685902e-02 8.15487660e-01\n",
      "  1.16566344e-01 6.56219187e-03 1.41498652e-01 7.35372813e-01]\n",
      " [2.02178445e-01 7.33262528e-01 4.76361509e-02 1.69228758e-02\n",
      "  5.85655691e-02 9.17607950e-01 2.08745034e-02 2.95197760e-03]\n",
      " [3.65155234e-03 2.54340990e-03 9.57599015e-04 9.92847439e-01\n",
      "  3.02198787e-03 1.40622126e-03 9.18819141e-04 9.94652972e-01]\n",
      " [1.38278559e-02 6.56474274e-02 8.61584289e-01 5.89404281e-02\n",
      "  3.02205250e-02 6.11636065e-02 7.79982793e-01 1.28633076e-01]\n",
      " [2.46070198e-03 1.73301982e-03 4.19074698e-04 9.95387203e-01\n",
      "  1.24708561e-03 1.49153300e-03 4.75409837e-04 9.96785972e-01]\n",
      " [8.63145839e-01 9.13924553e-02 2.42183357e-03 4.30398717e-02\n",
      "  8.34320866e-01 5.92381783e-02 8.17769629e-03 9.82632596e-02]\n",
      " [1.84004686e-02 3.13325994e-03 3.18474878e-02 9.46618784e-01\n",
      "  3.23666124e-02 2.26837365e-03 3.15030985e-02 9.33861916e-01]\n",
      " [9.94927676e-01 7.70775098e-04 1.72156272e-04 4.12939272e-03\n",
      "  9.95402795e-01 1.20563855e-04 1.69207278e-04 4.30743385e-03]\n",
      " [2.41539424e-01 2.43645355e-01 4.81134419e-01 3.36808012e-02\n",
      "  3.27197671e-01 1.67094673e-01 4.71049719e-01 3.46579373e-02]\n",
      " [2.59880981e-02 2.86377259e-02 6.88173464e-02 8.76556830e-01\n",
      "  4.00293128e-02 2.97499226e-02 3.08757997e-02 8.99344965e-01]\n",
      " [2.38818907e-02 8.53883350e-01 9.62125235e-02 2.60222362e-02\n",
      "  4.54134678e-02 5.71699244e-01 3.35480034e-01 4.74072544e-02]\n",
      " [1.95705098e-03 3.86397062e-03 9.86856207e-01 7.32277131e-03\n",
      "  6.18189860e-07 7.08181845e-07 9.99702081e-01 2.96593104e-04]\n",
      " [2.22890899e-01 1.36660972e-02 3.91004291e-02 7.24342574e-01\n",
      "  1.12380285e-01 4.11275038e-03 4.05613890e-02 8.42945576e-01]\n",
      " [2.33192948e-02 1.83271916e-01 7.91645491e-01 1.76329761e-03\n",
      "  1.90702007e-02 1.67599237e-01 8.11528915e-01 1.80164676e-03]\n",
      " [2.14294017e-02 3.32183263e-02 3.84227496e-01 5.61124776e-01\n",
      "  3.38633932e-02 2.68759148e-02 3.70190960e-01 5.69069732e-01]\n",
      " [6.67115955e-01 8.52094159e-03 2.54238416e-01 7.01246872e-02\n",
      "  6.75526188e-01 5.08230280e-03 2.97055555e-01 2.23359543e-02]\n",
      " [9.05018426e-01 1.49455701e-02 4.89065523e-02 3.11294515e-02\n",
      "  9.60259476e-01 5.44440655e-03 2.62838839e-02 8.01223380e-03]\n",
      " [3.37912578e-03 7.61837194e-01 2.05784115e-01 2.89995649e-02\n",
      "  7.53689823e-03 6.27422590e-01 3.22623765e-01 4.24167463e-02]\n",
      " [8.79206728e-01 2.49605928e-02 8.00807155e-02 1.57519638e-02\n",
      "  9.03010264e-01 1.87117445e-02 6.77723318e-02 1.05056597e-02]\n",
      " [1.75850795e-03 9.89880828e-01 9.37763396e-04 7.42290099e-03\n",
      "  6.37485271e-03 9.82007738e-01 1.79869612e-03 9.81871358e-03]\n",
      " [3.44969636e-01 3.41054928e-02 2.45293318e-01 3.75631553e-01\n",
      "  4.23185700e-01 2.24539596e-02 3.69452126e-01 1.84908214e-01]\n",
      " [3.81332145e-01 1.00396851e-01 3.59844805e-01 1.58426199e-01\n",
      "  4.15074693e-01 7.89611605e-02 3.34040097e-01 1.71924049e-01]\n",
      " [3.89326599e-01 4.13866689e-01 1.82157481e-01 1.46492305e-02\n",
      "  4.17544492e-01 3.60674060e-01 1.92629265e-01 2.91521831e-02]\n",
      " [4.24075004e-01 1.59803381e-02 3.38979204e-01 2.20965454e-01\n",
      "  4.85172087e-01 1.20483838e-02 4.48964799e-01 5.38147302e-02]\n",
      " [4.34969767e-03 6.54607318e-03 9.41578768e-02 8.94946352e-01\n",
      "  5.17107187e-03 7.68553263e-03 2.80028684e-02 9.59140527e-01]\n",
      " [8.87465164e-01 5.09312263e-02 1.27392425e-02 4.88643673e-02\n",
      "  9.63475030e-01 2.04620407e-02 8.87026415e-03 7.19266516e-03]\n",
      " [2.88626832e-01 6.15136186e-02 3.21642719e-01 3.28216831e-01\n",
      "  2.08384463e-01 3.80555137e-02 3.77025997e-01 3.76534026e-01]\n",
      " [6.10831882e-01 6.10731430e-02 2.94435502e-01 3.36594724e-02\n",
      "  5.75775228e-01 2.27386475e-02 3.83367620e-01 1.81185046e-02]\n",
      " [9.43921509e-03 7.77608211e-01 1.59446388e-01 5.35061865e-02\n",
      "  2.60393871e-02 7.50795942e-01 1.30046013e-01 9.31186574e-02]\n",
      " [4.90398094e-03 9.85780262e-01 1.88306360e-03 7.43269324e-03\n",
      "  6.61675443e-03 9.55917724e-01 1.64758720e-02 2.09896495e-02]\n",
      " [2.13827137e-01 6.58532915e-01 1.12952602e-01 1.46873455e-02\n",
      "  1.08174212e-01 8.03400229e-01 7.09042954e-02 1.75212628e-02]\n",
      " [4.07044121e-03 5.62580868e-02 9.09304505e-01 3.03669666e-02\n",
      "  1.45067695e-02 8.43865339e-02 8.50149261e-01 5.09574359e-02]\n",
      " [1.18276395e-01 2.71613469e-01 2.41369878e-01 3.68740258e-01\n",
      "  1.81419064e-01 1.64561926e-01 2.35959267e-01 4.18059743e-01]\n",
      " [4.92841295e-02 2.32888097e-02 1.89718116e-01 7.37708944e-01\n",
      "  7.50722165e-02 2.06450172e-02 2.12355527e-01 6.91927239e-01]\n",
      " [7.90149632e-02 2.43072627e-02 1.80252235e-02 8.78652551e-01\n",
      "  8.69284401e-02 1.70643724e-02 1.24949381e-02 8.83512249e-01]\n",
      " [1.50560389e-02 2.84268518e-03 9.38088714e-03 9.72720389e-01\n",
      "  1.91986265e-02 2.20020639e-03 2.14631293e-02 9.57138038e-01]\n",
      " [1.03307527e-01 5.82705873e-02 8.10961375e-01 2.74605110e-02\n",
      "  1.86601422e-01 4.41202716e-02 7.30311749e-01 3.89665581e-02]\n",
      " [2.84528398e-02 9.14833074e-01 1.59320953e-02 4.07819908e-02\n",
      "  8.19296828e-02 8.06384682e-01 3.27173227e-02 7.89683129e-02]\n",
      " [3.93788591e-02 3.61182315e-02 3.97964978e-01 5.26537932e-01\n",
      "  8.75225783e-02 2.20263541e-02 6.57098833e-01 2.33352235e-01]\n",
      " [1.13492455e-02 4.12379643e-02 7.36539758e-01 2.10873032e-01\n",
      "  6.32237794e-03 1.61764020e-02 9.13531162e-01 6.39700576e-02]\n",
      " [1.23444780e-02 9.80436318e-02 8.24232974e-01 6.53789163e-02\n",
      "  1.45273374e-02 4.71772185e-02 8.81820732e-01 5.64747124e-02]\n",
      " [4.63905644e-03 8.19305452e-02 8.53652946e-01 5.97774520e-02\n",
      "  6.76092293e-03 5.68857567e-02 8.84925025e-01 5.14282949e-02]\n",
      " [8.63287924e-01 4.30519941e-02 8.46698199e-02 8.99026234e-03\n",
      "  7.29912215e-01 3.86906033e-02 2.21754602e-01 9.64257894e-03]\n",
      " [4.05852962e-02 3.62999555e-02 3.64473343e-01 5.58641406e-01\n",
      "  5.35937309e-02 2.89869520e-02 7.80818156e-02 8.39337502e-01]\n",
      " [8.28299049e-01 8.19572903e-02 8.66566747e-02 3.08698550e-03\n",
      "  8.01993696e-01 5.93072048e-02 1.34276471e-01 4.42262878e-03]\n",
      " [7.33219448e-01 2.45074987e-01 1.35404717e-02 8.16509299e-03\n",
      "  5.77620874e-01 3.83597486e-01 1.51368035e-02 2.36448368e-02]\n",
      " [9.96599287e-01 6.87724916e-04 6.73044800e-04 2.03994377e-03\n",
      "  9.98414915e-01 1.02143704e-04 7.02928289e-04 7.80012663e-04]\n",
      " [1.18392633e-02 2.18475294e-02 7.15135707e-01 2.51177500e-01\n",
      "  2.72184389e-02 2.96431004e-02 6.48736651e-01 2.94401810e-01]\n",
      " [4.76668752e-01 3.88539237e-01 1.31145348e-01 3.64666279e-03\n",
      "  3.06020383e-01 5.49121555e-01 1.37973772e-01 6.88429054e-03]\n",
      " [4.55131628e-03 8.09518438e-01 1.76064492e-01 9.86575441e-03\n",
      "  8.45564556e-03 6.44101924e-01 3.28933116e-01 1.85093142e-02]\n",
      " [2.67881005e-02 1.48709887e-02 1.33699771e-01 8.24641139e-01\n",
      "  5.19534091e-02 1.35696461e-02 1.09152388e-01 8.25324557e-01]\n",
      " [2.88445504e-03 8.93128531e-04 4.43038489e-04 9.95779378e-01\n",
      "  4.98540966e-03 5.35928615e-04 1.40046824e-03 9.93078193e-01]\n",
      " [3.62662420e-02 1.35908074e-02 9.44026411e-01 6.11653990e-03\n",
      "  3.81152738e-02 1.63308950e-02 9.42370609e-01 3.18322235e-03]\n",
      " [5.62242191e-03 4.77186059e-02 8.76501016e-03 9.37893962e-01\n",
      "  1.86472768e-02 9.38122666e-02 1.46783509e-02 8.72862106e-01]\n",
      " [4.77380324e-03 1.89735074e-02 3.82930137e-01 5.93322553e-01\n",
      "  1.07717204e-02 1.95977429e-02 3.07119252e-01 6.62511284e-01]\n",
      " [3.03613606e-02 8.51118735e-03 9.03467416e-01 5.76600363e-02\n",
      "  7.16439021e-02 1.22430840e-02 8.55700906e-01 6.04121082e-02]\n",
      " [3.39305633e-03 9.94064826e-01 6.64359473e-04 1.87775840e-03\n",
      "  1.05552044e-03 9.92255753e-01 1.23064968e-03 5.45807700e-03]\n",
      " [8.03611590e-02 1.02440153e-01 7.86876667e-01 3.03220202e-02\n",
      "  8.74396097e-02 9.19725991e-02 7.95978360e-01 2.46094309e-02]\n",
      " [9.92270375e-01 2.32936641e-03 4.79906875e-04 4.92035152e-03\n",
      "  9.92997861e-01 2.82015280e-03 1.17524149e-03 3.00674483e-03]\n",
      " [3.38171024e-01 1.55103385e-02 2.97163733e-01 3.49154905e-01\n",
      "  3.59776873e-01 1.18890364e-02 4.91218506e-01 1.37115585e-01]\n",
      " [3.89164112e-03 1.33324431e-02 9.49466908e-01 3.33090082e-02\n",
      "  1.15083260e-02 1.69277892e-02 9.24828488e-01 4.67353965e-02]\n",
      " [4.01573430e-03 7.81063789e-03 8.98659275e-01 8.95143528e-02\n",
      "  1.06930662e-02 1.27337710e-02 9.07649998e-01 6.89231651e-02]\n",
      " [6.79959265e-01 4.21496522e-02 5.11758097e-03 2.72773501e-01\n",
      "  5.71244689e-01 1.21053664e-02 7.00908711e-03 4.09640857e-01]\n",
      " [9.93912933e-01 6.76186548e-04 2.46468019e-04 5.16441264e-03\n",
      "  9.92196041e-01 1.10260917e-04 1.36781483e-03 6.32588344e-03]\n",
      " [1.35753707e-02 1.05936711e-01 7.33035048e-01 1.47452870e-01\n",
      "  3.39057206e-02 5.47500042e-02 7.56152809e-01 1.55191466e-01]\n",
      " [9.06870269e-01 5.49469140e-02 7.37237232e-03 3.08104447e-02\n",
      "  9.08780799e-01 4.34580695e-02 1.07176222e-02 3.70435095e-02]\n",
      " [9.13761236e-02 2.51866028e-02 8.52466033e-01 3.09712407e-02\n",
      "  1.89081623e-01 2.36927678e-02 7.48809468e-01 3.84161414e-02]\n",
      " [7.53454139e-03 2.88871928e-02 9.45413295e-01 1.81649707e-02\n",
      "  1.87585662e-02 4.49992532e-02 8.71370142e-01 6.48720388e-02]\n",
      " [1.41926060e-02 2.31326818e-02 2.73869847e-01 6.88804865e-01\n",
      "  3.03490489e-02 4.10950411e-02 4.33055488e-01 4.95500422e-01]\n",
      " [1.29795376e-01 1.97126019e-02 2.71017297e-01 5.79474725e-01\n",
      "  8.26063488e-02 5.21574033e-03 5.70622453e-01 3.41555458e-01]\n",
      " [2.25116836e-03 1.94954859e-02 8.64134373e-01 1.14118973e-01\n",
      "  3.18954900e-03 2.37277912e-02 7.66467985e-01 2.06614675e-01]\n",
      " [9.88651979e-02 1.68591323e-01 1.21221891e-01 6.11321589e-01\n",
      "  7.58132520e-02 1.10184927e-01 1.32971088e-01 6.81030732e-01]\n",
      " [7.36830366e-02 7.52325638e-01 1.44785526e-01 2.92057994e-02\n",
      "  4.82197532e-02 7.54733001e-01 1.59707747e-01 3.73394990e-02]\n",
      " [3.91570643e-01 2.42728909e-02 1.57452998e-01 4.26703468e-01\n",
      "  4.87923744e-01 5.61371240e-02 2.13532429e-01 2.42406704e-01]\n",
      " [6.15254459e-03 6.40021301e-01 8.40080657e-02 2.69818088e-01\n",
      "  1.10867526e-02 6.80715193e-01 1.45330053e-01 1.62868001e-01]\n",
      " [1.07694588e-01 7.13734250e-01 1.55774043e-01 2.27971193e-02\n",
      "  2.44238163e-01 4.77251979e-01 2.45425262e-01 3.30845965e-02]\n",
      " [5.55973432e-01 3.47441164e-01 9.12583580e-02 5.32704582e-03\n",
      "  5.08601668e-01 4.08903828e-01 7.10730858e-02 1.14214189e-02]\n",
      " [2.23125220e-01 1.72925655e-02 4.26220476e-01 3.33361739e-01\n",
      "  3.76174204e-01 9.58174741e-03 4.73878914e-01 1.40365135e-01]\n",
      " [2.28799687e-02 5.70913924e-02 6.97718309e-02 8.50256808e-01\n",
      "  2.48209182e-02 7.57457923e-02 2.86535576e-01 6.12897713e-01]\n",
      " [8.93921194e-01 7.61038013e-02 1.88580394e-02 1.11169655e-02\n",
      "  8.65258357e-01 9.02520756e-02 2.82467830e-02 1.62427847e-02]] [[14.21543207 13.31866795 13.12886217 ...  8.89097369  9.38665858\n",
      "  12.34163781]\n",
      " [13.94924414 13.22893568 11.87941106 ...  9.32157235 11.95882865\n",
      "  11.46298506]\n",
      " [13.88973652 12.79041426 11.0431719  ...  8.4989168  10.44126289\n",
      "  11.85337843]\n",
      " ...\n",
      " [14.4739656  13.45741667 13.13326691 ...  9.71752378 12.58710718\n",
      "  11.22962302]\n",
      " [14.54534702 13.78992351 13.33971903 ... 10.17999469 10.50926548\n",
      "  11.77098666]\n",
      " [13.11348613 13.41187919 12.02456506 ...  8.94364804 12.27905323\n",
      "  10.73232453]]\n",
      "stacked\n",
      "cv\n",
      "stacked\n",
      "cv\n",
      "stacked\n",
      "cv\n",
      "stacked\n",
      "cv\n",
      "stacked\n",
      "cv\n",
      "stacked\n",
      "cv\n",
      "stacked\n",
      "cv\n",
      "stacked\n",
      "cv\n",
      "stacked\n",
      "cv\n",
      "stacked\n",
      "cv\n",
      "stacked\n",
      "cv\n",
      "stacked\n",
      "cv\n",
      "stacked\n",
      "cv\n",
      "stacked\n",
      "cv\n",
      "stacked\n",
      "cv\n",
      "stacked\n",
      "cv\n",
      "stacked\n",
      "cv\n",
      "stacked\n",
      "cv\n",
      "stacked\n",
      "cv\n",
      "stacked\n",
      "cv\n",
      "stacked\n",
      "cv\n",
      "stacked\n",
      "cv\n",
      "stacked\n",
      "cv\n",
      "stacked\n",
      "cv\n",
      "stacked\n",
      "cv\n",
      "stacked\n",
      "cv\n",
      "stacked\n",
      "cv\n",
      "stacked\n",
      "cv\n",
      "stacked\n",
      "cv\n",
      "stacked\n",
      "cv\n",
      "stacked\n",
      "cv\n",
      "stacked\n",
      "cv\n",
      "stacked\n",
      "cv\n",
      "stacked\n",
      "cv\n",
      "stacked\n",
      "cv\n",
      "stacked\n",
      "cv\n",
      "stacked\n",
      "cv\n",
      "stacked\n",
      "cv\n",
      "stacked\n",
      "cv\n",
      "stacked\n",
      "cv\n",
      "stacked\n",
      "cv\n",
      "stacked\n",
      "cv\n",
      "stacked\n",
      "cv\n",
      "stacked\n",
      "cv\n",
      "stacked\n",
      "cv\n",
      "stacked\n",
      "cv\n",
      "stacked\n",
      "cv\n",
      "stacked\n",
      "cv\n",
      "stacked\n",
      "cv\n",
      "stacked\n",
      "cv\n",
      "stacked\n",
      "cv\n",
      "stacked\n",
      "cv\n",
      "stacked\n",
      "cv\n",
      "stacked\n",
      "cv\n",
      "stacked\n",
      "cv\n",
      "stacked\n",
      "cv\n",
      "stacked\n",
      "cv\n",
      "stacked\n",
      "cv\n",
      "stacked\n",
      "cv\n",
      "stacked\n",
      "cv\n",
      "stacked\n",
      "cv\n",
      "stacked\n",
      "cv\n",
      "stacked\n",
      "cv\n",
      "stacked\n",
      "cv\n",
      "stacked\n",
      "cv\n",
      "stacked\n",
      "cv\n",
      "stacked\n",
      "cv\n",
      "stacked\n",
      "cv\n",
      "stacked\n",
      "cv\n",
      "stacked\n",
      "cv\n",
      "stacked\n",
      "cv\n",
      "stacked\n",
      "cv\n",
      "stacked\n",
      "cv\n",
      "stacked\n",
      "cv\n",
      "stacked\n",
      "cv\n",
      "stacked\n",
      "cv\n",
      "stacked\n",
      "cv\n",
      "stacked\n",
      "cv\n",
      "stacked\n",
      "cv\n",
      "stacked\n",
      "cv\n",
      "stacked\n",
      "cv\n",
      "stacked\n",
      "cv\n",
      "stacked\n",
      "cv\n",
      "stacked\n",
      "cv\n",
      "stacked\n",
      "cv\n",
      "stacked\n",
      "cv\n",
      "stacked\n",
      "cv\n",
      "stacked\n",
      "cv\n",
      "stacked\n",
      "cv\n",
      "stacked\n",
      "cv\n",
      "stacked\n",
      "cv\n",
      "stacked\n",
      "cv\n",
      "stacked\n",
      "cv\n",
      "stacked\n",
      "cv\n",
      "stacked\n",
      "cv\n",
      "stacked\n",
      "cv\n",
      "\n",
      "model score of oof results for SVC3\n",
      "Model Accuracy: 0.8958333333333334\n",
      "Precision: 0.9014314967439967\n",
      "Recall (Sensitivity): 0.8958333333333334\n",
      "F1 Score: 0.8959621195146911\n",
      "Matthews Correlation Coefficient (MCC): 0.8611520734979478\n",
      "G-Measure: 0.9297818443861738\n",
      "AUC: 0.9882190078602932\n",
      "Specificity: 0.9649181071276142\n",
      "Jaccard Index: 0.8134476371193639\n",
      "Created directory: /work/wanlab/nick/stackeval1/val_data/stacked/SVC3\n",
      "Saving metrics to: /work/wanlab/nick/stackeval1/val_data/stacked/SVC3/limma(1),metrics.csv\n",
      "PREDICTIONS                   subtype  Squamous      ADEX  Pancreatic Progenitor  \\\n",
      "0   Pancreatic Progenitor  0.240443  0.225541               0.502343   \n",
      "1                    ADEX  0.031830  0.926343               0.012926   \n",
      "2                Squamous  0.893829  0.075278               0.022082   \n",
      "3   Pancreatic Progenitor  0.036240  0.109947               0.846833   \n",
      "4             Immunogenic  0.101513  0.156762               0.126549   \n",
      "..                    ...       ...       ...                    ...   \n",
      "91               Squamous  0.678250  0.008729               0.248688   \n",
      "92            Immunogenic  0.037984  0.035590               0.432501   \n",
      "93  Pancreatic Progenitor  0.070856  0.111678               0.792966   \n",
      "94            Immunogenic  0.004504  0.008418               0.045985   \n",
      "95  Pancreatic Progenitor  0.010353  0.034181               0.931625   \n",
      "\n",
      "    Immunogenic  \n",
      "0      0.031674  \n",
      "1      0.028902  \n",
      "2      0.008812  \n",
      "3      0.006981  \n",
      "4      0.615177  \n",
      "..          ...  \n",
      "91     0.064333  \n",
      "92     0.493925  \n",
      "93     0.024499  \n",
      "94     0.941094  \n",
      "95     0.023842  \n",
      "\n",
      "[96 rows x 5 columns]\n",
      "\n",
      "model score of oof results for SVC4\n",
      "Model Accuracy: 0.9270833333333334\n",
      "Precision: 0.9282457295657727\n",
      "Recall (Sensitivity): 0.9270833333333334\n",
      "F1 Score: 0.927124353652804\n",
      "Matthews Correlation Coefficient (MCC): 0.9017909960019698\n",
      "G-Measure: 0.9519085598926197\n",
      "AUC: 0.9866772922890882\n",
      "Specificity: 0.9752147353819889\n",
      "Jaccard Index: 0.8669652957336781\n",
      "Created directory: /work/wanlab/nick/stackeval1/val_data/stacked/SVC4\n",
      "Saving metrics to: /work/wanlab/nick/stackeval1/val_data/stacked/SVC4/limma(1),metrics.csv\n",
      "PREDICTIONS                   subtype  Squamous      ADEX  Pancreatic Progenitor  \\\n",
      "0   Pancreatic Progenitor  0.325753  0.156264               0.482096   \n",
      "1                    ADEX  0.077583  0.817729               0.035030   \n",
      "2                Squamous  0.869096  0.088377               0.027493   \n",
      "3   Pancreatic Progenitor  0.051416  0.070475               0.870899   \n",
      "4             Immunogenic  0.079828  0.134185               0.102817   \n",
      "..                    ...       ...       ...                    ...   \n",
      "91               Squamous  0.632965  0.004428               0.345168   \n",
      "92            Immunogenic  0.091139  0.032074               0.687848   \n",
      "93  Pancreatic Progenitor  0.083162  0.085254               0.807008   \n",
      "94            Immunogenic  0.006451  0.007986               0.038263   \n",
      "95  Pancreatic Progenitor  0.017742  0.066247               0.858102   \n",
      "\n",
      "    Immunogenic  \n",
      "0      0.035887  \n",
      "1      0.069657  \n",
      "2      0.015034  \n",
      "3      0.007210  \n",
      "4      0.683170  \n",
      "..          ...  \n",
      "91     0.017439  \n",
      "92     0.188939  \n",
      "93     0.024577  \n",
      "94     0.947300  \n",
      "95     0.057909  \n",
      "\n",
      "[96 rows x 5 columns]\n",
      "Random state: 2\n",
      "['SVC', 'SVC2']\n",
      "individual models\n",
      "cv\n",
      "individual models\n",
      "cv\n",
      "individual models\n",
      "cv\n",
      "individual models\n",
      "cv\n",
      "individual models\n",
      "cv\n",
      "individual models\n",
      "cv\n",
      "individual models\n",
      "cv\n",
      "individual models\n",
      "cv\n",
      "individual models\n",
      "cv\n",
      "individual models\n",
      "cv\n",
      "individual models\n",
      "cv\n",
      "individual models\n",
      "cv\n",
      "individual models\n",
      "cv\n",
      "individual models\n",
      "cv\n",
      "individual models\n",
      "cv\n",
      "individual models\n",
      "cv\n",
      "individual models\n",
      "cv\n",
      "individual models\n",
      "cv\n",
      "individual models\n",
      "cv\n",
      "individual models\n",
      "cv\n",
      "individual models\n",
      "cv\n",
      "individual models\n",
      "cv\n",
      "individual models\n",
      "cv\n",
      "individual models\n",
      "cv\n",
      "individual models\n",
      "cv\n",
      "individual models\n",
      "cv\n",
      "individual models\n",
      "cv\n",
      "individual models\n",
      "cv\n",
      "individual models\n",
      "cv\n",
      "individual models\n",
      "cv\n",
      "individual models\n",
      "cv\n",
      "individual models\n",
      "cv\n",
      "individual models\n",
      "cv\n",
      "individual models\n",
      "cv\n",
      "individual models\n",
      "cv\n",
      "individual models\n",
      "cv\n",
      "individual models\n",
      "cv\n",
      "individual models\n",
      "cv\n",
      "individual models\n",
      "cv\n",
      "individual models\n",
      "cv\n",
      "individual models\n",
      "cv\n",
      "individual models\n",
      "cv\n",
      "individual models\n",
      "cv\n",
      "individual models\n",
      "cv\n",
      "individual models\n",
      "cv\n",
      "individual models\n",
      "cv\n",
      "individual models\n",
      "cv\n",
      "individual models\n",
      "cv\n",
      "individual models\n",
      "cv\n",
      "individual models\n",
      "cv\n",
      "individual models\n",
      "cv\n",
      "individual models\n",
      "cv\n",
      "individual models\n",
      "cv\n",
      "individual models\n",
      "cv\n",
      "individual models\n",
      "cv\n",
      "individual models\n",
      "cv\n",
      "individual models\n",
      "cv\n",
      "individual models\n",
      "cv\n",
      "individual models\n",
      "cv\n",
      "individual models\n",
      "cv\n",
      "individual models\n",
      "cv\n",
      "individual models\n",
      "cv\n",
      "individual models\n",
      "cv\n",
      "individual models\n",
      "cv\n",
      "individual models\n",
      "cv\n",
      "individual models\n",
      "cv\n",
      "individual models\n",
      "cv\n",
      "individual models\n",
      "cv\n",
      "individual models\n",
      "cv\n",
      "individual models\n",
      "cv\n",
      "individual models\n",
      "cv\n",
      "individual models\n",
      "cv\n",
      "individual models\n",
      "cv\n",
      "individual models\n",
      "cv\n",
      "individual models\n",
      "cv\n",
      "individual models\n",
      "cv\n",
      "individual models\n",
      "cv\n",
      "individual models\n",
      "cv\n",
      "individual models\n",
      "cv\n",
      "individual models\n",
      "cv\n",
      "individual models\n",
      "cv\n",
      "individual models\n",
      "cv\n",
      "individual models\n",
      "cv\n",
      "individual models\n",
      "cv\n",
      "individual models\n",
      "cv\n",
      "individual models\n",
      "cv\n",
      "individual models\n",
      "cv\n",
      "individual models\n",
      "cv\n",
      "individual models\n",
      "cv\n",
      "individual models\n",
      "cv\n",
      "individual models\n",
      "cv\n",
      "individual models\n",
      "cv\n",
      "individual models\n",
      "cv\n",
      "individual models\n",
      "cv\n",
      "individual models\n",
      "cv\n",
      "individual models\n",
      "cv\n",
      "\n",
      "model score of oof results for SVC\n",
      "Model Accuracy: 0.875\n",
      "Precision: 0.880581343943413\n",
      "Recall (Sensitivity): 0.875\n",
      "F1 Score: 0.8750826719576721\n",
      "Matthews Correlation Coefficient (MCC): 0.8332845580159479\n",
      "G-Measure: 0.9161415862502547\n",
      "AUC: 0.9895508785033433\n",
      "Specificity: 0.9582719803670509\n",
      "Jaccard Index: 0.7770918304288716\n",
      "Created directory: /work/wanlab/nick/stackeval2/val_data/individual models/SVC\n",
      "Saving metrics to: /work/wanlab/nick/stackeval2/val_data/individual models/SVC/limma(2),metrics.csv\n",
      "PREDICTIONS                   subtype  Squamous      ADEX  Pancreatic Progenitor  \\\n",
      "0                Squamous  0.384665  0.401873               0.200219   \n",
      "1   Pancreatic Progenitor  0.333697  0.015060               0.301711   \n",
      "2                    ADEX  0.007184  0.975570               0.002593   \n",
      "3                Squamous  0.871791  0.063812               0.013375   \n",
      "4                    ADEX  0.032980  0.893219               0.019415   \n",
      "..                    ...       ...       ...                    ...   \n",
      "91               Squamous  0.342541  0.029039               0.233108   \n",
      "92  Pancreatic Progenitor  0.011405  0.021653               0.725958   \n",
      "93                   ADEX  0.150970  0.801428               0.034265   \n",
      "94            Immunogenic  0.005477  0.034549               0.022872   \n",
      "95  Pancreatic Progenitor  0.012765  0.092466               0.748160   \n",
      "\n",
      "    Immunogenic  \n",
      "0      0.013244  \n",
      "1      0.349532  \n",
      "2      0.014652  \n",
      "3      0.051023  \n",
      "4      0.054386  \n",
      "..          ...  \n",
      "91     0.395312  \n",
      "92     0.240984  \n",
      "93     0.013337  \n",
      "94     0.937102  \n",
      "95     0.146609  \n",
      "\n",
      "[96 rows x 5 columns]\n",
      "\n",
      "model score of oof results for SVC2\n",
      "Model Accuracy: 0.9270833333333334\n",
      "Precision: 0.9282457295657727\n",
      "Recall (Sensitivity): 0.9270833333333334\n",
      "F1 Score: 0.927124353652804\n",
      "Matthews Correlation Coefficient (MCC): 0.9017909960019698\n",
      "G-Measure: 0.9519085598926197\n",
      "AUC: 0.9857636665955328\n",
      "Specificity: 0.9752147353819889\n",
      "Jaccard Index: 0.8669652957336781\n",
      "Created directory: /work/wanlab/nick/stackeval2/val_data/individual models/SVC2\n",
      "Saving metrics to: /work/wanlab/nick/stackeval2/val_data/individual models/SVC2/limma(2),metrics.csv\n",
      "PREDICTIONS                   subtype  Squamous      ADEX  Pancreatic Progenitor  \\\n",
      "0                Squamous  0.393456  0.376847               0.200867   \n",
      "1   Pancreatic Progenitor  0.399493  0.013314               0.443891   \n",
      "2                    ADEX  0.004092  0.960954               0.015556   \n",
      "3                Squamous  0.961114  0.021540               0.010431   \n",
      "4                    ADEX  0.077690  0.815749               0.031895   \n",
      "..                    ...       ...       ...                    ...   \n",
      "91               Squamous  0.411188  0.018163               0.354666   \n",
      "92  Pancreatic Progenitor  0.029433  0.036972               0.602613   \n",
      "93                   ADEX  0.050311  0.924972               0.021464   \n",
      "94            Immunogenic  0.005666  0.033461               0.022074   \n",
      "95  Pancreatic Progenitor  0.036358  0.059031               0.730429   \n",
      "\n",
      "    Immunogenic  \n",
      "0      0.028830  \n",
      "1      0.143303  \n",
      "2      0.019398  \n",
      "3      0.006916  \n",
      "4      0.074666  \n",
      "..          ...  \n",
      "91     0.215984  \n",
      "92     0.330982  \n",
      "93     0.003253  \n",
      "94     0.938799  \n",
      "95     0.174183  \n",
      "\n",
      "[96 rows x 5 columns]\n",
      "运行时间为: 25.02 秒\n",
      "combining [[3.84664992e-01 4.01872647e-01 2.00218729e-01 1.32436320e-02\n",
      "  3.93455637e-01 3.76846951e-01 2.00867394e-01 2.88300183e-02]\n",
      " [3.33697271e-01 1.50602513e-02 3.01710504e-01 3.49531974e-01\n",
      "  3.99492951e-01 1.33136222e-02 4.43890817e-01 1.43302609e-01]\n",
      " [7.18443362e-03 9.75569980e-01 2.59316312e-03 1.46524234e-02\n",
      "  4.09240247e-03 9.60954378e-01 1.55556451e-02 1.93975748e-02]\n",
      " [8.71790779e-01 6.38117797e-02 1.33745308e-02 5.10229106e-02\n",
      "  9.61114015e-01 2.15398099e-02 1.04306557e-02 6.91551929e-03]\n",
      " [3.29797375e-02 8.93219134e-01 1.94153415e-02 5.43857874e-02\n",
      "  7.76902064e-02 8.15749076e-01 3.18951458e-02 7.46655718e-02]\n",
      " [9.92367358e-01 2.70545144e-03 3.51727517e-04 4.57546347e-03\n",
      "  9.91989836e-01 2.83941827e-03 2.34011465e-03 2.83063144e-03]\n",
      " [1.76726476e-02 3.20641994e-03 2.21307193e-02 9.56990213e-01\n",
      "  1.91714816e-02 1.97667470e-03 1.93861534e-02 9.59465690e-01]\n",
      " [3.32864840e-03 2.41823058e-03 1.01577715e-03 9.93237344e-01\n",
      "  3.19205633e-03 1.35996769e-03 1.02647860e-03 9.94421497e-01]\n",
      " [1.96232958e-02 8.67086378e-01 9.11529505e-02 2.21373755e-02\n",
      "  3.67209856e-02 5.89137964e-01 3.33308422e-01 4.08326277e-02]\n",
      " [8.24057119e-01 7.03234622e-02 1.02975356e-01 2.64406350e-03\n",
      "  8.41423843e-01 6.27396821e-02 9.03365125e-02 5.49996237e-03]\n",
      " [4.06508719e-03 8.68027690e-01 1.21374667e-01 6.53255506e-03\n",
      "  9.64593894e-03 6.19248944e-01 3.53872591e-01 1.72325259e-02]\n",
      " [3.86269500e-01 2.54050417e-02 1.59432804e-01 4.28892654e-01\n",
      "  5.63234471e-01 4.26823966e-02 1.68560844e-01 2.25522288e-01]\n",
      " [6.24299593e-02 9.64637190e-02 8.00914788e-01 4.01915337e-02\n",
      "  3.30623229e-02 1.51627807e-02 9.41404163e-01 1.03707336e-02]\n",
      " [2.50789159e-02 6.05149359e-02 8.87429799e-02 8.25663168e-01\n",
      "  2.73751873e-02 7.39531954e-02 3.00089614e-01 5.98582003e-01]\n",
      " [5.85576521e-03 6.84183648e-03 4.47919105e-02 9.42510488e-01\n",
      "  5.99451997e-03 7.42227729e-03 5.88654676e-02 9.27717735e-01]\n",
      " [6.52117784e-01 6.08520548e-02 2.56281367e-01 3.07487937e-02\n",
      "  5.50211957e-01 2.49608749e-02 4.08315595e-01 1.65115734e-02]\n",
      " [2.27656798e-02 3.56556223e-03 5.51347000e-02 9.18534058e-01\n",
      "  3.15987211e-02 2.50675837e-03 3.62873568e-02 9.29607164e-01]\n",
      " [4.25955545e-02 1.33102747e-02 9.38234184e-01 5.85998698e-03\n",
      "  4.26102379e-02 1.38101253e-02 9.40367854e-01 3.21178319e-03]\n",
      " [9.73897064e-01 6.97321287e-03 6.00702716e-03 1.31226961e-02\n",
      "  9.57949435e-01 2.61388420e-03 1.11753186e-02 2.82613617e-02]\n",
      " [7.16787795e-01 2.53292824e-01 2.28307811e-02 7.08859984e-03\n",
      "  5.99405471e-01 3.64580367e-01 1.27477744e-02 2.32663879e-02]\n",
      " [8.39188198e-02 8.38627165e-03 7.30340421e-02 8.34660867e-01\n",
      "  1.29227819e-01 7.14230082e-03 1.74457007e-01 6.89172873e-01]\n",
      " [2.08071563e-02 3.86987211e-02 3.22017087e-01 6.18477035e-01\n",
      "  3.94634054e-02 3.58565130e-02 3.22513309e-01 6.02166773e-01]\n",
      " [1.01443697e-01 1.59183611e-01 1.27142982e-01 6.12229709e-01\n",
      "  7.51135451e-02 1.23204273e-01 1.38177674e-01 6.63504508e-01]\n",
      " [3.26486220e-02 1.06763566e-02 8.77458338e-01 7.92166832e-02\n",
      "  7.41353703e-02 1.08475302e-02 8.56502847e-01 5.85142522e-02]\n",
      " [3.90391971e-03 7.02840885e-01 7.53733333e-02 2.17881862e-01\n",
      "  5.59593949e-03 7.02111971e-01 6.60051163e-02 2.26286974e-01]\n",
      " [1.55503848e-01 4.57475811e-02 7.41856896e-01 5.68916753e-02\n",
      "  1.86698444e-01 4.05019172e-02 7.34079694e-01 3.87199451e-02]\n",
      " [4.40277381e-02 2.23704829e-02 1.76825608e-01 7.56776171e-01\n",
      "  7.00073815e-02 1.86153546e-02 1.96035989e-01 7.15341275e-01]\n",
      " [9.78373696e-01 8.90756487e-03 5.99935037e-03 6.71938910e-03\n",
      "  9.75623739e-01 7.59092592e-03 1.27212496e-02 4.06408508e-03]\n",
      " [2.04136263e-01 1.39471889e-02 3.94163431e-02 7.42500205e-01\n",
      "  1.22544036e-01 3.70085071e-03 3.45548460e-02 8.39200267e-01]\n",
      " [3.41261686e-03 2.00367912e-02 2.59470223e-01 7.17080369e-01\n",
      "  3.48427704e-03 1.83318540e-02 1.21020389e-01 8.57163480e-01]\n",
      " [3.59872997e-03 7.19273033e-01 8.42168716e-02 1.92911365e-01\n",
      "  1.01782081e-02 6.65504698e-01 1.33278471e-01 1.91038623e-01]\n",
      " [4.29425363e-01 1.73509656e-02 3.45361323e-01 2.07862349e-01\n",
      "  4.70439373e-01 1.21141389e-02 4.63824483e-01 5.36220055e-02]\n",
      " [2.80903458e-03 1.59172240e-03 8.73614353e-04 9.94725629e-01\n",
      "  1.32279402e-03 2.56837761e-03 2.59077277e-03 9.93518056e-01]\n",
      " [4.11128875e-03 8.53396473e-02 8.46779641e-01 6.37694229e-02\n",
      "  7.92736073e-03 5.18696787e-02 8.63014757e-01 7.71882036e-02]\n",
      " [8.27967034e-03 9.82319105e-01 1.68555931e-03 7.71566583e-03\n",
      "  4.11696012e-03 9.85645110e-01 1.39546079e-03 8.84246941e-03]\n",
      " [2.88578335e-01 5.10313585e-02 3.40770819e-01 3.19619487e-01\n",
      "  2.33221141e-01 4.47444874e-02 4.20554402e-01 3.01479969e-01]\n",
      " [2.64400340e-02 1.51867345e-02 1.16008435e-01 8.42364796e-01\n",
      "  6.32035209e-02 1.40196443e-02 1.25438558e-01 7.97338276e-01]\n",
      " [4.35115039e-02 4.38552994e-02 3.82750254e-01 5.29882942e-01\n",
      "  9.92784681e-02 2.30837708e-02 6.78010790e-01 1.99626971e-01]\n",
      " [3.02693603e-03 8.25462862e-04 5.28765465e-04 9.95618836e-01\n",
      "  3.43870535e-03 4.72292883e-04 1.30996332e-03 9.94779038e-01]\n",
      " [6.39496468e-03 2.08659946e-02 3.51190160e-01 6.21548880e-01\n",
      "  1.01866212e-02 2.08113077e-02 2.71981330e-01 6.97020741e-01]\n",
      " [1.41083748e-02 2.32004861e-02 2.39444653e-01 7.23246486e-01\n",
      "  2.86236032e-02 4.25550400e-02 4.15949404e-01 5.12871953e-01]\n",
      " [5.48374684e-02 2.34229037e-02 8.99672035e-01 2.20675935e-02\n",
      "  5.01198310e-02 2.30692571e-02 9.08731857e-01 1.80790554e-02]\n",
      " [5.69166206e-03 5.84054978e-02 8.90870678e-01 4.50321625e-02\n",
      "  1.51802525e-02 7.51482352e-02 8.67178556e-01 4.24929560e-02]\n",
      " [8.50598455e-03 3.36610735e-02 9.42153049e-01 1.56798932e-02\n",
      "  1.54177463e-02 5.00357273e-02 8.68151772e-01 6.63947546e-02]\n",
      " [9.93478648e-01 7.53120563e-04 2.01150544e-04 5.56708104e-03\n",
      "  9.95463684e-01 1.02911912e-04 3.05044090e-04 4.12836017e-03]\n",
      " [1.04370163e-01 7.40165119e-01 1.35323347e-01 2.01413706e-02\n",
      "  2.47359479e-01 4.57523834e-01 2.63060727e-01 3.20559612e-02]\n",
      " [9.93664675e-01 3.69304671e-04 1.27567601e-04 5.83845251e-03\n",
      "  9.96221353e-01 9.27713629e-05 1.62365804e-04 3.52351008e-03]\n",
      " [8.40111428e-01 2.55622306e-02 1.13581516e-01 2.07448263e-02\n",
      "  8.90326237e-01 1.82950239e-02 7.90854861e-02 1.22932529e-02]\n",
      " [1.45829178e-01 2.17739524e-02 2.28693247e-01 6.03703622e-01\n",
      "  8.50646883e-02 5.43703036e-03 5.39349289e-01 3.70148992e-01]\n",
      " [9.85115040e-01 2.06862063e-03 3.47354245e-03 9.34279708e-03\n",
      "  9.82683324e-01 9.30794299e-04 7.85562311e-03 8.53025852e-03]\n",
      " [1.44441476e-03 9.92710082e-01 1.03647029e-03 4.80903339e-03\n",
      "  6.23501011e-04 9.92485960e-01 1.15114290e-03 5.73939631e-03]\n",
      " [9.07681837e-01 5.44289990e-02 9.41686632e-03 2.84722973e-02\n",
      "  9.11012118e-01 3.95371390e-02 1.57498792e-02 3.37008637e-02]\n",
      " [2.44482942e-01 2.41320081e-01 4.78476347e-01 3.57206301e-02\n",
      "  3.42555441e-01 1.77821946e-01 4.42316729e-01 3.73058835e-02]\n",
      " [8.97375203e-01 7.17527669e-02 2.09861141e-02 9.88591596e-03\n",
      "  8.44986956e-01 1.02302537e-01 3.41648732e-02 1.85456344e-02]\n",
      " [9.95914042e-01 1.05939963e-03 6.84872850e-04 2.34168599e-03\n",
      "  9.98086134e-01 8.90032453e-05 1.15221122e-03 6.72651727e-04]\n",
      " [2.77049470e-02 6.96042059e-02 8.97953543e-01 4.73730396e-03\n",
      "  4.23573337e-02 6.91519178e-02 8.81133904e-01 7.35684412e-03]\n",
      " [1.10051505e-03 4.50839133e-03 9.89266670e-01 5.12442317e-03\n",
      "  1.93226358e-07 2.28264389e-07 9.99949568e-01 5.00106364e-05]\n",
      " [7.15413202e-01 8.70574772e-03 2.07343701e-01 6.85373484e-02\n",
      "  6.00611671e-01 4.80028659e-03 3.73670681e-01 2.09173611e-02]\n",
      " [8.44850019e-01 1.11167541e-01 2.07741246e-03 4.19050274e-02\n",
      "  8.37052420e-01 5.71763475e-02 7.16325555e-03 9.86079772e-02]\n",
      " [4.20107548e-02 1.14264719e-01 8.37022206e-01 6.70232071e-03\n",
      "  7.45209094e-02 1.08306206e-01 8.01699628e-01 1.54732567e-02]\n",
      " [5.69040246e-03 6.98176383e-03 9.10315379e-01 7.70124543e-02\n",
      "  1.20399699e-02 9.72833042e-03 9.14119668e-01 6.41120315e-02]\n",
      " [9.35124515e-02 8.29673069e-01 4.95842703e-02 2.72302092e-02\n",
      "  1.01738675e-01 7.57837870e-01 5.48120559e-02 8.56113983e-02]\n",
      " [5.81431777e-01 3.32143595e-01 8.11685923e-02 5.25603619e-03\n",
      "  4.92499296e-01 4.12942326e-01 8.32958841e-02 1.12624937e-02]\n",
      " [1.46527852e-02 1.15381466e-01 8.15491845e-01 5.44739035e-02\n",
      "  1.16460031e-02 5.34117376e-02 8.71835693e-01 6.31065665e-02]\n",
      " [2.30583008e-01 6.31954062e-01 1.22369412e-01 1.50935174e-02\n",
      "  1.28830451e-01 7.91049276e-01 6.41741913e-02 1.59460816e-02]\n",
      " [6.16457393e-03 7.92663756e-01 1.43652046e-01 5.75196240e-02\n",
      "  2.66040076e-02 7.91080297e-01 1.12478401e-01 6.98372944e-02]\n",
      " [3.86433012e-03 1.12006347e-02 9.48590440e-01 3.63445955e-02\n",
      "  1.36004531e-02 1.75840264e-02 9.28224187e-01 4.05913333e-02]\n",
      " [1.71739034e-02 1.91363021e-01 7.89983441e-01 1.47963409e-03\n",
      "  2.30520694e-02 2.06465582e-01 7.67853397e-01 2.62895079e-03]\n",
      " [9.73518915e-01 3.40805766e-03 1.18976206e-02 1.11754066e-02\n",
      "  9.69682659e-01 9.36152243e-04 2.18476810e-02 7.53350797e-03]\n",
      " [1.24864646e-01 2.48156302e-01 2.26687343e-01 4.00291708e-01\n",
      "  1.75564782e-01 1.64424094e-01 2.59691126e-01 4.00319998e-01]\n",
      " [6.80800856e-03 5.23600860e-02 7.28603533e-03 9.33545870e-01\n",
      "  1.90759062e-02 9.44049984e-02 1.51259865e-02 8.71393109e-01]\n",
      " [7.37500948e-02 6.81109286e-01 2.18378158e-01 2.67624612e-02\n",
      "  5.47596179e-02 7.51006021e-01 1.62760393e-01 3.14739683e-02]\n",
      " [6.77185357e-01 4.39176276e-02 5.23134336e-03 2.73665672e-01\n",
      "  6.12750121e-01 1.35179389e-02 5.55701980e-03 3.68174920e-01]\n",
      " [4.08861855e-01 1.10743869e-01 3.27518769e-01 1.52875507e-01\n",
      "  4.24012851e-01 9.01905913e-02 3.03083036e-01 1.82713521e-01]\n",
      " [4.94117346e-01 3.91480555e-01 1.09724394e-01 4.67770468e-03\n",
      "  2.86266961e-01 5.60922176e-01 1.44211893e-01 8.59897021e-03]\n",
      " [1.53985075e-03 1.51167709e-02 8.92444301e-01 9.08990774e-02\n",
      "  3.97012030e-03 2.55870007e-02 7.52573313e-01 2.17869566e-01]\n",
      " [8.53230208e-01 4.89077987e-02 8.74867402e-02 1.03752533e-02\n",
      "  7.78953211e-01 3.70234131e-02 1.74927879e-01 9.09549682e-03]\n",
      " [8.03987090e-02 2.31546730e-02 1.55797322e-02 8.80866886e-01\n",
      "  7.89746185e-02 1.82528935e-02 1.16940297e-02 8.91078458e-01]\n",
      " [6.97865051e-02 1.10858916e-01 7.96478236e-01 2.28763438e-02\n",
      "  1.02130258e-01 8.49807225e-02 7.88630319e-01 2.42587003e-02]\n",
      " [1.45491687e-02 5.54379154e-02 8.52757665e-01 7.72552505e-02\n",
      "  3.07429598e-02 5.84647057e-02 7.85474261e-01 1.25318073e-01]\n",
      " [2.08036746e-01 1.59200214e-02 4.69504123e-01 3.06539109e-01\n",
      "  4.10887004e-01 9.51188110e-03 4.17093476e-01 1.62507639e-01]\n",
      " [4.46049397e-02 4.37106944e-02 3.20881453e-01 5.90802913e-01\n",
      "  4.67822085e-02 2.90124199e-02 8.11937253e-02 8.43011646e-01]\n",
      " [1.95390413e-01 9.51968112e-02 6.19132872e-01 9.02799038e-02\n",
      "  3.01218052e-01 9.54083254e-02 4.90953190e-01 1.12420433e-01]\n",
      " [1.42121452e-02 5.98215247e-03 9.78670678e-02 8.81938635e-01\n",
      "  1.63312557e-02 4.67127325e-03 9.04427513e-02 8.88554720e-01]\n",
      " [1.24467553e-02 9.34095539e-03 1.25636544e-02 9.65648635e-01\n",
      "  1.69527586e-02 7.02290025e-03 2.33098020e-02 9.52714539e-01]\n",
      " [9.99496154e-03 2.87360872e-02 8.25304140e-01 1.35964811e-01\n",
      "  9.75643859e-03 1.40467185e-02 9.15942901e-01 6.02539424e-02]\n",
      " [9.11749783e-01 1.57264839e-02 4.60635850e-02 2.64601476e-02\n",
      "  9.51967074e-01 5.07590007e-03 3.48475928e-02 8.10943296e-03]\n",
      " [1.02314387e-01 2.60041544e-02 8.43623404e-01 2.80580541e-02\n",
      "  1.99985058e-01 2.89095093e-02 7.22856336e-01 4.82490965e-02]\n",
      " [2.32843886e-02 1.88693021e-02 1.58082288e-02 9.42038081e-01\n",
      "  4.55330858e-02 2.85321123e-02 4.04434717e-02 8.85491330e-01]\n",
      " [7.86719595e-01 1.61224601e-02 5.66248206e-02 1.40533124e-01\n",
      "  7.61011587e-01 8.87875832e-03 8.54653280e-02 1.44644326e-01]\n",
      " [5.99295828e-03 7.32145136e-01 2.45213330e-01 1.66485764e-02\n",
      "  9.26406069e-03 6.18966703e-01 3.30978798e-01 4.07904388e-02]\n",
      " [3.42540789e-01 2.90393700e-02 2.33108035e-01 3.95311806e-01\n",
      "  4.11188086e-01 1.81626816e-02 3.54665703e-01 2.15983529e-01]\n",
      " [1.14050792e-02 2.16528738e-02 7.25958023e-01 2.40984024e-01\n",
      "  2.94326464e-02 3.69720252e-02 6.02613113e-01 3.30982215e-01]\n",
      " [1.50970072e-01 8.01428045e-01 3.42648669e-02 1.33370158e-02\n",
      "  5.03108392e-02 9.24972157e-01 2.14640092e-02 3.25299444e-03]\n",
      " [5.47687020e-03 3.45489563e-02 2.28724589e-02 9.37101715e-01\n",
      "  5.66556854e-03 3.34611793e-02 2.20738939e-02 9.38799358e-01]\n",
      " [1.27649856e-02 9.24661603e-02 7.48159912e-01 1.46608942e-01\n",
      "  3.63575983e-02 5.90310121e-02 7.30428855e-01 1.74182535e-01]] [[13.47124345 13.34951928 12.37583412 ... 10.40995247 11.01633373\n",
      "  12.42580305]\n",
      " [14.12406695 12.77794479 12.8257087  ...  9.63294029 11.45888932\n",
      "  11.09366617]\n",
      " [14.4363962  13.08102975 12.5921628  ...  8.41923912 11.70777448\n",
      "  12.31146154]\n",
      " ...\n",
      " [15.26497995 13.60413493 11.58475358 ...  9.63311303 10.9057336\n",
      "  12.00437715]\n",
      " [14.33306155 12.9978275  11.94216655 ...  8.90868609  9.13220801\n",
      "  11.91489414]\n",
      " [13.7698887  12.99558754 12.18339301 ...  9.00938273 10.91909702\n",
      "  11.4806333 ]]\n",
      "stacked\n",
      "cv\n",
      "stacked\n",
      "cv\n",
      "stacked\n",
      "cv\n",
      "stacked\n",
      "cv\n",
      "stacked\n",
      "cv\n",
      "stacked\n",
      "cv\n",
      "stacked\n",
      "cv\n",
      "stacked\n",
      "cv\n",
      "stacked\n",
      "cv\n",
      "stacked\n",
      "cv\n",
      "stacked\n",
      "cv\n",
      "stacked\n",
      "cv\n",
      "stacked\n",
      "cv\n",
      "stacked\n",
      "cv\n",
      "stacked\n",
      "cv\n",
      "stacked\n",
      "cv\n",
      "stacked\n",
      "cv\n",
      "stacked\n",
      "cv\n",
      "stacked\n",
      "cv\n",
      "stacked\n",
      "cv\n",
      "stacked\n",
      "cv\n",
      "stacked\n",
      "cv\n",
      "stacked\n",
      "cv\n",
      "stacked\n",
      "cv\n",
      "stacked\n",
      "cv\n",
      "stacked\n",
      "cv\n",
      "stacked\n",
      "cv\n",
      "stacked\n",
      "cv\n",
      "stacked\n",
      "cv\n",
      "stacked\n",
      "cv\n",
      "stacked\n",
      "cv\n",
      "stacked\n",
      "cv\n",
      "stacked\n",
      "cv\n",
      "stacked\n",
      "cv\n",
      "stacked\n",
      "cv\n",
      "stacked\n",
      "cv\n",
      "stacked\n",
      "cv\n",
      "stacked\n",
      "cv\n",
      "stacked\n",
      "cv\n",
      "stacked\n",
      "cv\n",
      "stacked\n",
      "cv\n",
      "stacked\n",
      "cv\n",
      "stacked\n",
      "cv\n",
      "stacked\n",
      "cv\n",
      "stacked\n",
      "cv\n",
      "stacked\n",
      "cv\n",
      "stacked\n",
      "cv\n",
      "stacked\n",
      "cv\n",
      "stacked\n",
      "cv\n",
      "stacked\n",
      "cv\n",
      "stacked\n",
      "cv\n",
      "stacked\n",
      "cv\n",
      "stacked\n",
      "cv\n",
      "stacked\n",
      "cv\n",
      "stacked\n",
      "cv\n",
      "stacked\n",
      "cv\n",
      "stacked\n",
      "cv\n",
      "stacked\n",
      "cv\n",
      "stacked\n",
      "cv\n",
      "stacked\n",
      "cv\n",
      "stacked\n",
      "cv\n",
      "stacked\n",
      "cv\n",
      "stacked\n",
      "cv\n",
      "stacked\n",
      "cv\n",
      "stacked\n",
      "cv\n",
      "stacked\n",
      "cv\n",
      "stacked\n",
      "cv\n",
      "stacked\n",
      "cv\n",
      "stacked\n",
      "cv\n",
      "stacked\n",
      "cv\n",
      "stacked\n",
      "cv\n",
      "stacked\n",
      "cv\n",
      "stacked\n",
      "cv\n",
      "stacked\n",
      "cv\n",
      "stacked\n",
      "cv\n",
      "stacked\n",
      "cv\n",
      "stacked\n",
      "cv\n",
      "stacked\n",
      "cv\n",
      "stacked\n",
      "cv\n",
      "stacked\n",
      "cv\n",
      "stacked\n",
      "cv\n",
      "stacked\n",
      "cv\n",
      "stacked\n",
      "cv\n",
      "stacked\n",
      "cv\n",
      "stacked\n",
      "cv\n",
      "stacked\n",
      "cv\n",
      "stacked\n",
      "cv\n",
      "stacked\n",
      "cv\n",
      "stacked\n",
      "cv\n",
      "stacked\n",
      "cv\n",
      "stacked\n",
      "cv\n",
      "stacked\n",
      "cv\n",
      "stacked\n",
      "cv\n",
      "stacked\n",
      "cv\n",
      "stacked\n",
      "cv\n",
      "stacked\n",
      "cv\n",
      "\n",
      "model score of oof results for SVC3\n",
      "Model Accuracy: 0.8958333333333334\n",
      "Precision: 0.901087030253697\n",
      "Recall (Sensitivity): 0.8958333333333334\n",
      "F1 Score: 0.8957731378988226\n",
      "Matthews Correlation Coefficient (MCC): 0.8611520734979478\n",
      "G-Measure: 0.9297575683715831\n",
      "AUC: 0.9873053821667378\n",
      "Specificity: 0.9649181071276142\n",
      "Jaccard Index: 0.8126676699600863\n",
      "Created directory: /work/wanlab/nick/stackeval2/val_data/stacked/SVC3\n",
      "Saving metrics to: /work/wanlab/nick/stackeval2/val_data/stacked/SVC3/limma(2),metrics.csv\n",
      "PREDICTIONS                   subtype  Squamous      ADEX  Pancreatic Progenitor  \\\n",
      "0                    ADEX  0.004028  0.607863               0.083363   \n",
      "1                Squamous  0.889241  0.077380               0.022048   \n",
      "2   Pancreatic Progenitor  0.016426  0.138018               0.707925   \n",
      "3                Squamous  0.893056  0.050074               0.011173   \n",
      "4   Pancreatic Progenitor  0.095221  0.032954               0.841685   \n",
      "..                    ...       ...       ...                    ...   \n",
      "91  Pancreatic Progenitor  0.431268  0.015470               0.348374   \n",
      "92               Squamous  0.995578  0.001187               0.000703   \n",
      "93               Squamous  0.403137  0.107518               0.330318   \n",
      "94            Immunogenic  0.014182  0.023005               0.264176   \n",
      "95            Immunogenic  0.011279  0.005151               0.154877   \n",
      "\n",
      "    Immunogenic  \n",
      "0      0.304746  \n",
      "1      0.011331  \n",
      "2      0.137632  \n",
      "3      0.045698  \n",
      "4      0.030141  \n",
      "..          ...  \n",
      "91     0.204888  \n",
      "92     0.002531  \n",
      "93     0.159028  \n",
      "94     0.698637  \n",
      "95     0.828693  \n",
      "\n",
      "[96 rows x 5 columns]\n",
      "\n",
      "model score of oof results for SVC4\n",
      "Model Accuracy: 0.9270833333333334\n",
      "Precision: 0.9282457295657727\n",
      "Recall (Sensitivity): 0.9270833333333334\n",
      "F1 Score: 0.927124353652804\n",
      "Matthews Correlation Coefficient (MCC): 0.9017909960019698\n",
      "G-Measure: 0.9519085598926197\n",
      "AUC: 0.9854921352610613\n",
      "Specificity: 0.9752147353819889\n",
      "Jaccard Index: 0.8669652957336781\n",
      "Created directory: /work/wanlab/nick/stackeval2/val_data/stacked/SVC4\n",
      "Saving metrics to: /work/wanlab/nick/stackeval2/val_data/stacked/SVC4/limma(2),metrics.csv\n",
      "PREDICTIONS                   subtype  Squamous      ADEX  Pancreatic Progenitor  \\\n",
      "0                    ADEX  0.005697  0.710802               0.073437   \n",
      "1                Squamous  0.862785  0.092462               0.028913   \n",
      "2   Pancreatic Progenitor  0.037333  0.059287               0.749278   \n",
      "3                Squamous  0.955698  0.022109               0.014415   \n",
      "4   Pancreatic Progenitor  0.177117  0.027204               0.757869   \n",
      "..                    ...       ...       ...                    ...   \n",
      "91  Pancreatic Progenitor  0.501033  0.012657               0.445052   \n",
      "92               Squamous  0.998008  0.000119               0.001230   \n",
      "93               Squamous  0.415559  0.079570               0.313895   \n",
      "94            Immunogenic  0.031674  0.040175               0.398280   \n",
      "95            Immunogenic  0.016292  0.003925               0.151871   \n",
      "\n",
      "    Immunogenic  \n",
      "0      0.210065  \n",
      "1      0.015839  \n",
      "2      0.154102  \n",
      "3      0.007778  \n",
      "4      0.037810  \n",
      "..          ...  \n",
      "91     0.041258  \n",
      "92     0.000643  \n",
      "93     0.190975  \n",
      "94     0.529871  \n",
      "95     0.827913  \n",
      "\n",
      "[96 rows x 5 columns]\n",
      "Random state: 3\n",
      "['SVC', 'SVC2']\n",
      "individual models\n",
      "cv\n",
      "individual models\n",
      "cv\n",
      "individual models\n",
      "cv\n",
      "individual models\n",
      "cv\n",
      "individual models\n",
      "cv\n",
      "individual models\n",
      "cv\n",
      "individual models\n",
      "cv\n",
      "individual models\n",
      "cv\n",
      "individual models\n",
      "cv\n",
      "individual models\n",
      "cv\n",
      "individual models\n",
      "cv\n",
      "individual models\n",
      "cv\n",
      "individual models\n",
      "cv\n",
      "individual models\n",
      "cv\n",
      "individual models\n",
      "cv\n",
      "individual models\n",
      "cv\n",
      "individual models\n",
      "cv\n",
      "individual models\n",
      "cv\n",
      "individual models\n",
      "cv\n",
      "individual models\n",
      "cv\n",
      "individual models\n",
      "cv\n",
      "individual models\n",
      "cv\n",
      "individual models\n",
      "cv\n",
      "individual models\n",
      "cv\n",
      "individual models\n",
      "cv\n",
      "individual models\n",
      "cv\n",
      "individual models\n",
      "cv\n",
      "individual models\n",
      "cv\n",
      "individual models\n",
      "cv\n",
      "individual models\n",
      "cv\n",
      "individual models\n",
      "cv\n",
      "individual models\n",
      "cv\n",
      "individual models\n",
      "cv\n",
      "individual models\n",
      "cv\n",
      "individual models\n",
      "cv\n",
      "individual models\n",
      "cv\n",
      "individual models\n",
      "cv\n",
      "individual models\n",
      "cv\n",
      "individual models\n",
      "cv\n",
      "individual models\n",
      "cv\n",
      "individual models\n",
      "cv\n",
      "individual models\n",
      "cv\n",
      "individual models\n",
      "cv\n",
      "individual models\n",
      "cv\n",
      "individual models\n",
      "cv\n",
      "individual models\n",
      "cv\n",
      "individual models\n",
      "cv\n",
      "individual models\n",
      "cv\n",
      "individual models\n",
      "cv\n",
      "individual models\n",
      "cv\n",
      "individual models\n",
      "cv\n",
      "individual models\n",
      "cv\n",
      "individual models\n",
      "cv\n",
      "individual models\n",
      "cv\n",
      "individual models\n",
      "cv\n",
      "individual models\n",
      "cv\n",
      "individual models\n",
      "cv\n",
      "individual models\n",
      "cv\n",
      "individual models\n",
      "cv\n",
      "individual models\n",
      "cv\n",
      "individual models\n",
      "cv\n",
      "individual models\n",
      "cv\n",
      "individual models\n",
      "cv\n",
      "individual models\n",
      "cv\n",
      "individual models\n",
      "cv\n",
      "individual models\n",
      "cv\n",
      "individual models\n",
      "cv\n",
      "individual models\n",
      "cv\n",
      "individual models\n",
      "cv\n",
      "individual models\n",
      "cv\n",
      "individual models\n",
      "cv\n",
      "individual models\n",
      "cv\n",
      "individual models\n",
      "cv\n",
      "individual models\n",
      "cv\n",
      "individual models\n",
      "cv\n",
      "individual models\n",
      "cv\n",
      "individual models\n",
      "cv\n",
      "individual models\n",
      "cv\n",
      "individual models\n",
      "cv\n",
      "individual models\n",
      "cv\n",
      "individual models\n",
      "cv\n",
      "individual models\n",
      "cv\n",
      "individual models\n",
      "cv\n",
      "individual models\n",
      "cv\n",
      "individual models\n",
      "cv\n",
      "individual models\n",
      "cv\n",
      "individual models\n",
      "cv\n",
      "individual models\n",
      "cv\n",
      "individual models\n",
      "cv\n",
      "individual models\n",
      "cv\n",
      "individual models\n",
      "cv\n",
      "individual models\n",
      "cv\n",
      "individual models\n",
      "cv\n",
      "individual models\n",
      "cv\n",
      "individual models\n",
      "cv\n",
      "individual models\n",
      "cv\n",
      "\n",
      "model score of oof results for SVC\n",
      "Model Accuracy: 0.875\n",
      "Precision: 0.880581343943413\n",
      "Recall (Sensitivity): 0.875\n",
      "F1 Score: 0.8750826719576721\n",
      "Matthews Correlation Coefficient (MCC): 0.8332845580159479\n",
      "G-Measure: 0.9161415862502547\n",
      "AUC: 0.9880281690140844\n",
      "Specificity: 0.9582719803670509\n",
      "Jaccard Index: 0.7770918304288716\n",
      "Created directory: /work/wanlab/nick/stackeval3/val_data/individual models/SVC\n",
      "Saving metrics to: /work/wanlab/nick/stackeval3/val_data/individual models/SVC/limma(3),metrics.csv\n",
      "PREDICTIONS                   subtype  Squamous      ADEX  Pancreatic Progenitor  \\\n",
      "0                    ADEX  0.038122  0.894420               0.018890   \n",
      "1             Immunogenic  0.014285  0.024693               0.277086   \n",
      "2                Squamous  0.317822  0.028062               0.291136   \n",
      "3                Squamous  0.877439  0.041690               0.073178   \n",
      "4   Pancreatic Progenitor  0.338699  0.015402               0.306873   \n",
      "..                    ...       ...       ...                    ...   \n",
      "91                   ADEX  0.003560  0.819232               0.171321   \n",
      "92  Pancreatic Progenitor  0.001466  0.008466               0.986294   \n",
      "93               Squamous  0.618542  0.063694               0.288310   \n",
      "94                   ADEX  0.081471  0.728532               0.161092   \n",
      "95               Squamous  0.709771  0.257648               0.022931   \n",
      "\n",
      "    Immunogenic  \n",
      "0      0.048568  \n",
      "1      0.683936  \n",
      "2      0.362980  \n",
      "3      0.007694  \n",
      "4      0.339025  \n",
      "..          ...  \n",
      "91     0.005887  \n",
      "92     0.003774  \n",
      "93     0.029454  \n",
      "94     0.028905  \n",
      "95     0.009649  \n",
      "\n",
      "[96 rows x 5 columns]\n",
      "\n",
      "model score of oof results for SVC2\n",
      "Model Accuracy: 0.9166666666666666\n",
      "Precision: 0.9179416613572927\n",
      "Recall (Sensitivity): 0.9166666666666666\n",
      "F1 Score: 0.9168905106983729\n",
      "Matthews Correlation Coefficient (MCC): 0.8877175856139377\n",
      "G-Measure: 0.9453340190753321\n",
      "AUC: 0.9863394063878218\n",
      "Specificity: 0.972089735381989\n",
      "Jaccard Index: 0.8457818223443223\n",
      "Created directory: /work/wanlab/nick/stackeval3/val_data/individual models/SVC2\n",
      "Saving metrics to: /work/wanlab/nick/stackeval3/val_data/individual models/SVC2/limma(3),metrics.csv\n",
      "PREDICTIONS                   subtype      Squamous          ADEX  Pancreatic Progenitor  \\\n",
      "0                    ADEX  7.902376e-02  8.112184e-01               0.035116   \n",
      "1             Immunogenic  2.898166e-02  3.844902e-02               0.421840   \n",
      "2                Squamous  4.073380e-01  1.972383e-02               0.359949   \n",
      "3                Squamous  7.765442e-01  3.550708e-02               0.178557   \n",
      "4   Pancreatic Progenitor  3.695995e-01  1.149436e-02               0.492036   \n",
      "..                    ...           ...           ...                    ...   \n",
      "91                   ADEX  5.838251e-03  6.551011e-01               0.322719   \n",
      "92  Pancreatic Progenitor  4.782983e-07  5.641542e-07               0.999928   \n",
      "93               Squamous  5.566241e-01  2.479262e-02               0.403419   \n",
      "94                   ADEX  4.538184e-02  7.765536e-01               0.148066   \n",
      "95               Squamous  5.929131e-01  3.661260e-01               0.017540   \n",
      "\n",
      "    Immunogenic  \n",
      "0      0.074642  \n",
      "1      0.510729  \n",
      "2      0.212989  \n",
      "3      0.009392  \n",
      "4      0.126870  \n",
      "..          ...  \n",
      "91     0.016341  \n",
      "92     0.000071  \n",
      "93     0.015164  \n",
      "94     0.029998  \n",
      "95     0.023421  \n",
      "\n",
      "[96 rows x 5 columns]\n",
      "运行时间为: 24.60 秒\n",
      "combining [[3.81221170e-02 8.94419559e-01 1.88903589e-02 4.85679653e-02\n",
      "  7.90237648e-02 8.11218365e-01 3.51158284e-02 7.46420419e-02]\n",
      " [1.42847348e-02 2.46931679e-02 2.77086016e-01 6.83936082e-01\n",
      "  2.89816555e-02 3.84490198e-02 4.21839861e-01 5.10729463e-01]\n",
      " [3.17821734e-01 2.80618117e-02 2.91136168e-01 3.62980286e-01\n",
      "  4.07338000e-01 1.97238316e-02 3.59948938e-01 2.12989231e-01]\n",
      " [8.77438913e-01 4.16897260e-02 7.31777569e-02 7.69360387e-03\n",
      "  7.76544173e-01 3.55070786e-02 1.78556882e-01 9.39186618e-03]\n",
      " [3.38699087e-01 1.54023928e-02 3.06873066e-01 3.39025454e-01\n",
      "  3.69599502e-01 1.14943572e-02 4.92036123e-01 1.26870018e-01]\n",
      " [8.56326646e-01 2.43867652e-02 1.01694852e-01 1.75917368e-02\n",
      "  8.96884945e-01 2.01766490e-02 7.12342433e-02 1.17041626e-02]\n",
      " [1.02589045e-01 8.25650014e-01 3.91207275e-02 3.26402139e-02\n",
      "  9.99792976e-02 7.63148837e-01 5.66148645e-02 8.02570006e-02]\n",
      " [4.36360662e-01 1.81753900e-02 3.43608833e-01 2.01855116e-01\n",
      "  4.74626456e-01 1.11197178e-02 4.69533506e-01 4.47203202e-02]\n",
      " [2.29063184e-02 6.45927242e-02 1.50302943e-01 7.62198014e-01\n",
      "  2.42362296e-02 6.44332741e-02 2.70648227e-01 6.40682269e-01]\n",
      " [4.97978326e-03 1.00587913e-01 8.40901483e-01 5.35308207e-02\n",
      "  8.01909694e-03 5.72033432e-02 8.36598393e-01 9.81791665e-02]\n",
      " [2.51756280e-01 2.29854139e-01 4.86255157e-01 3.21344248e-02\n",
      "  3.42238686e-01 1.63863341e-01 4.56975019e-01 3.69229534e-02]\n",
      " [2.73369319e-01 5.24686061e-02 3.69597151e-01 3.04564924e-01\n",
      "  2.46824958e-01 4.28685786e-02 3.78599335e-01 3.31707129e-01]\n",
      " [8.61871473e-01 9.95794386e-02 1.75837276e-03 3.67907160e-02\n",
      "  8.10667689e-01 6.81117051e-02 8.45352278e-03 1.12767083e-01]\n",
      " [2.26891235e-02 3.77336668e-02 3.65935180e-01 5.73642029e-01\n",
      "  3.52291196e-02 3.31372556e-02 3.44971784e-01 5.86661841e-01]\n",
      " [2.04307317e-02 2.80442866e-03 5.41983742e-02 9.22566465e-01\n",
      "  2.80984405e-02 1.94445480e-03 3.73862911e-02 9.32570814e-01]\n",
      " [3.77930482e-01 4.02916327e-01 2.02968171e-01 1.61850199e-02\n",
      "  3.96026136e-01 3.96703285e-01 1.74321283e-01 3.29492949e-02]\n",
      " [8.86251669e-02 2.82693289e-02 8.51076765e-01 3.20287393e-02\n",
      "  1.86282467e-01 2.84746024e-02 7.40608188e-01 4.46347420e-02]\n",
      " [2.17458672e-01 1.55862521e-02 4.89086751e-01 2.77868325e-01\n",
      "  3.69759442e-01 1.12861111e-02 4.74516424e-01 1.44438023e-01]\n",
      " [3.57842335e-03 6.79347720e-01 8.18481947e-02 2.35225662e-01\n",
      "  4.98221360e-03 7.09550150e-01 6.74462027e-02 2.18021434e-01]\n",
      " [2.23546102e-03 9.82624502e-01 1.33772943e-03 1.38023076e-02\n",
      "  5.06156312e-03 9.83137028e-01 1.83334187e-03 9.96806731e-03]\n",
      " [8.93726172e-01 7.74195168e-02 2.02988899e-02 8.55542137e-03\n",
      "  8.61106441e-01 8.83207545e-02 3.39497517e-02 1.66230528e-02]\n",
      " [7.00117157e-01 7.46964071e-03 2.22980380e-01 6.94328220e-02\n",
      "  6.02287886e-01 4.96596647e-03 3.72430631e-01 2.03155165e-02]\n",
      " [5.45697729e-03 9.80027949e-01 3.70647028e-03 1.08086039e-02\n",
      "  4.68825897e-03 9.59783604e-01 1.59623531e-02 1.95657837e-02]\n",
      " [4.65995141e-02 2.47560416e-02 2.10548464e-01 7.18095980e-01\n",
      "  6.19107272e-02 2.01681874e-02 1.72842066e-01 7.45079020e-01]\n",
      " [6.84885179e-01 3.81913937e-02 8.74661537e-03 2.68176812e-01\n",
      "  6.00905510e-01 1.10648236e-02 6.24202530e-03 3.81787641e-01]\n",
      " [5.44160453e-03 6.47284450e-02 8.95432405e-01 3.43975449e-02\n",
      "  1.48538481e-02 8.65849934e-02 8.33409135e-01 6.51520238e-02]\n",
      " [1.41841857e-02 2.83625963e-03 7.47231632e-03 9.75507238e-01\n",
      "  1.57153923e-02 1.98434513e-03 2.21307760e-02 9.60169487e-01]\n",
      " [7.76338593e-01 1.92446198e-02 5.93810971e-02 1.45035690e-01\n",
      "  7.27559246e-01 9.95020646e-03 8.36287585e-02 1.78861789e-01]\n",
      " [4.70029860e-02 1.10397682e-02 9.35662975e-01 6.29427050e-03\n",
      "  4.86460347e-02 1.68531873e-02 9.30566015e-01 3.93476349e-03]\n",
      " [2.85215413e-03 1.09674225e-03 8.66421126e-04 9.95184682e-01\n",
      "  3.91771802e-03 4.99014446e-04 1.02866274e-03 9.94554605e-01]\n",
      " [1.31581188e-02 1.06305207e-02 2.43578462e-02 9.51853514e-01\n",
      "  1.51053646e-02 6.89478111e-03 2.10811349e-02 9.56918719e-01]\n",
      " [6.63624922e-03 6.52828734e-01 1.05830246e-01 2.34704771e-01\n",
      "  1.06022983e-02 6.81015733e-01 1.37708140e-01 1.70673828e-01]\n",
      " [3.31545814e-03 7.39762613e-01 2.28234707e-01 2.86872223e-02\n",
      "  8.17626882e-03 6.52060032e-01 2.94277168e-01 4.54865304e-02]\n",
      " [5.99599113e-03 7.97321728e-01 1.55220299e-01 4.14619818e-02\n",
      "  2.39962716e-02 7.80312003e-01 1.09018631e-01 8.66730941e-02]\n",
      " [4.66118967e-01 4.21865858e-01 1.07391194e-01 4.62398121e-03\n",
      "  2.93779282e-01 5.53950858e-01 1.43344083e-01 8.92577699e-03]\n",
      " [2.94470280e-03 2.90563044e-03 9.79646747e-04 9.93170020e-01\n",
      "  2.82062592e-03 1.35885940e-03 1.00633814e-03 9.94814177e-01]\n",
      " [1.01726287e-02 4.75463875e-02 9.25703466e-01 1.65775176e-02\n",
      "  1.85804285e-02 5.55376918e-02 8.68606979e-01 5.72749006e-02]\n",
      " [6.17771268e-01 2.74294280e-01 1.01416443e-01 6.51800881e-03\n",
      "  4.84214998e-01 4.30465185e-01 7.36103101e-02 1.17095070e-02]\n",
      " [9.73535470e-01 3.88244203e-03 1.08474252e-02 1.17346629e-02\n",
      "  9.71593127e-01 1.21615981e-03 2.03369354e-02 6.85377770e-03]\n",
      " [1.22396535e-02 8.59860323e-02 8.49575151e-01 5.21991627e-02\n",
      "  1.28763405e-02 4.61217577e-02 8.77767023e-01 6.32348793e-02]\n",
      " [2.50959388e-02 1.53646567e-02 1.32100224e-01 8.27439181e-01\n",
      "  4.89411326e-02 1.21056847e-02 1.28313557e-01 8.10639625e-01]\n",
      " [1.28794236e-02 5.89182598e-02 8.71760756e-01 5.64415607e-02\n",
      "  2.66806425e-02 6.40708793e-02 8.18786462e-01 9.04620164e-02]\n",
      " [3.32582079e-02 1.22712517e-02 8.76059559e-01 7.84109814e-02\n",
      "  9.57155929e-02 1.29337365e-02 8.20299090e-01 7.10515808e-02]\n",
      " [9.83807941e-01 1.48441897e-03 4.85048992e-03 9.85715019e-03\n",
      "  9.87950617e-01 8.97814418e-04 5.40146064e-03 5.75010768e-03]\n",
      " [1.99506972e-01 9.34227315e-02 6.28086625e-01 7.89836720e-02\n",
      "  3.25166359e-01 9.85423565e-02 4.50503752e-01 1.25787533e-01]\n",
      " [9.81323025e-03 1.96039478e-02 7.50103379e-01 2.20479443e-01\n",
      "  3.11989586e-02 3.16680158e-02 6.01444485e-01 3.35688541e-01]\n",
      " [7.64705029e-02 2.36658688e-02 1.67891892e-02 8.83074439e-01\n",
      "  7.92879747e-02 1.69086193e-02 1.29216701e-02 8.90881736e-01]\n",
      " [8.22141897e-01 7.42881383e-02 1.00964905e-01 2.60506011e-03\n",
      "  8.43942162e-01 6.15913481e-02 8.89665743e-02 5.49991540e-03]\n",
      " [9.94584108e-01 5.08754287e-04 1.53693046e-04 4.75344433e-03\n",
      "  9.91880564e-01 1.46011317e-04 1.49574552e-03 6.47767891e-03]\n",
      " [9.71941973e-01 5.53134740e-03 1.21631403e-02 1.03635391e-02\n",
      "  9.60616404e-01 2.48072874e-03 1.08252428e-02 2.60776242e-02]\n",
      " [4.64640496e-02 3.18779845e-02 8.74435799e-01 4.72221668e-02\n",
      "  4.14342941e-02 1.92097027e-02 9.23729596e-01 1.56264071e-02]\n",
      " [3.62912831e-02 6.62296764e-02 8.92118315e-01 5.36072586e-03\n",
      "  8.48764825e-02 1.04164366e-01 7.96265911e-01 1.46932412e-02]\n",
      " [1.16044803e-02 6.69095947e-03 1.21849225e-01 8.59855335e-01\n",
      "  2.04344413e-02 4.24619942e-03 9.94861966e-02 8.75833163e-01]\n",
      " [8.48955722e-02 1.16414266e-01 7.63687675e-01 3.50024862e-02\n",
      "  8.12486775e-02 1.02830875e-01 7.90158964e-01 2.57614835e-02]\n",
      " [2.43646722e-02 2.31766633e-02 2.08045758e-02 9.31654089e-01\n",
      "  5.12280407e-02 3.09473519e-02 5.66073748e-02 8.61217233e-01]\n",
      " [3.92587654e-01 2.29567274e-02 1.61014369e-01 4.23441250e-01\n",
      "  4.90015928e-01 4.47713244e-02 1.73429731e-01 2.91783017e-01]\n",
      " [3.95214082e-02 3.68341907e-02 4.23873619e-01 4.99770782e-01\n",
      "  7.58902826e-02 2.26761577e-02 6.94016223e-01 2.07417337e-01]\n",
      " [2.51426275e-03 1.24970967e-03 2.65634266e-04 9.95970393e-01\n",
      "  1.00393935e-03 1.36698971e-03 1.60328256e-03 9.96025788e-01]\n",
      " [2.11723548e-01 1.36670143e-02 3.78363316e-02 7.36773106e-01\n",
      "  1.33777632e-01 3.98054089e-03 4.95841097e-02 8.12657717e-01]\n",
      " [8.59934474e-02 1.04729032e-02 9.16755986e-02 8.11858051e-01\n",
      "  1.36191056e-01 7.08756268e-03 1.51233289e-01 7.05488092e-01]\n",
      " [4.28314795e-02 3.95865855e-02 3.00131998e-01 6.17449937e-01\n",
      "  4.86074425e-02 2.65189688e-02 7.72071406e-02 8.47666448e-01]\n",
      " [9.05171637e-01 5.44057557e-02 8.20755579e-03 3.22150518e-02\n",
      "  9.16233008e-01 3.66888136e-02 8.71847134e-03 3.83597067e-02]\n",
      " [9.95550818e-01 8.13287167e-04 1.09941872e-04 3.52595262e-03\n",
      "  9.94686183e-01 1.20081217e-04 1.34058765e-04 5.05967681e-03]\n",
      " [1.06420351e-02 3.38404442e-02 7.99925050e-01 1.55592470e-01\n",
      "  9.68369658e-03 1.40551823e-02 9.18155027e-01 5.81060942e-02]\n",
      " [2.91274622e-02 6.24145486e-02 9.02734104e-01 5.72388533e-03\n",
      "  4.22138713e-02 5.93016277e-02 8.92433693e-01 6.05080824e-03]\n",
      " [8.93088866e-01 5.18780332e-02 9.09641022e-03 4.59366902e-02\n",
      "  9.62177137e-01 1.97809671e-02 8.87000529e-03 9.17189028e-03]\n",
      " [1.31727336e-01 8.25556130e-01 2.85977526e-02 1.41187807e-02\n",
      "  4.85486621e-02 9.27286250e-01 2.09945930e-02 3.17049465e-03]\n",
      " [2.48339649e-01 6.25162463e-01 1.11558535e-01 1.49393527e-02\n",
      "  1.25619466e-01 7.80716758e-01 7.70629607e-02 1.66008155e-02]\n",
      " [1.07394331e-01 3.37185932e-02 8.31822498e-01 2.70645781e-02\n",
      "  1.73741673e-01 4.31517090e-02 7.41424580e-01 4.16820379e-02]\n",
      " [9.95878699e-01 9.45262444e-04 4.99601139e-04 2.67643699e-03\n",
      "  9.97928618e-01 1.53143817e-04 1.10396642e-03 8.14271883e-04]\n",
      " [5.91065957e-03 3.51750117e-02 3.69667823e-02 9.21947546e-01\n",
      "  5.80654480e-03 3.45883204e-02 2.66973678e-02 9.32907767e-01]\n",
      " [9.75780012e-01 1.03809793e-02 6.42885482e-03 7.41015341e-03\n",
      "  9.78308556e-01 6.57033876e-03 9.31754855e-03 5.80355640e-03]\n",
      " [5.74717697e-03 2.12371117e-02 3.41457673e-01 6.31558039e-01\n",
      "  9.10096207e-03 1.88303856e-02 3.38042228e-01 6.34026425e-01]\n",
      " [5.13341198e-03 2.09676948e-02 9.38506262e-01 3.53926308e-02\n",
      "  1.20970499e-02 2.05939889e-02 9.31377217e-01 3.59317443e-02]\n",
      " [9.98803406e-02 1.60250740e-01 1.32109871e-01 6.07759048e-01\n",
      "  8.71439159e-02 1.22648935e-01 1.48178170e-01 6.42028979e-01]\n",
      " [8.35501721e-02 7.26833098e-01 1.73580009e-01 1.60367206e-02\n",
      "  2.45609033e-01 4.90681431e-01 2.30046494e-01 3.36630427e-02]\n",
      " [6.83441364e-02 1.43297452e-01 7.39810425e-01 4.85479861e-02\n",
      "  3.33790581e-02 1.87910509e-02 9.39686752e-01 8.14313917e-03]\n",
      " [3.82928264e-01 1.05256562e-01 3.56277864e-01 1.55537310e-01\n",
      "  4.23505056e-01 8.33720592e-02 3.22587298e-01 1.70535587e-01]\n",
      " [2.60615734e-03 9.93717519e-01 7.58200640e-04 2.91812349e-03\n",
      "  1.02257712e-03 9.93163234e-01 1.08920226e-03 4.72498642e-03]\n",
      " [2.39310179e-02 2.13777037e-01 7.60412151e-01 1.87979426e-03\n",
      "  2.11498077e-02 2.10991093e-01 7.65240131e-01 2.61896861e-03]\n",
      " [2.70319643e-03 1.88451796e-02 2.34600171e-01 7.43851453e-01\n",
      "  4.01980841e-03 1.82126551e-02 1.56939904e-01 8.20827632e-01]\n",
      " [1.32859501e-02 1.00720596e-01 7.33364064e-01 1.52629390e-01\n",
      "  3.93019119e-02 6.53254655e-02 7.64559894e-01 1.30812728e-01]\n",
      " [1.28621874e-01 2.04503736e-02 2.46750595e-01 6.04177157e-01\n",
      "  7.71553962e-02 5.11459314e-03 5.99973454e-01 3.17756557e-01]\n",
      " [1.26634326e-01 2.43102432e-01 2.80193478e-01 3.50069765e-01\n",
      "  1.91404367e-01 1.64924464e-01 2.32489652e-01 4.11181516e-01]\n",
      " [3.62407109e-03 6.77039088e-03 9.32417064e-01 5.71884744e-02\n",
      "  7.85801176e-03 7.27454585e-03 9.48266072e-01 3.66013703e-02]\n",
      " [1.66657183e-03 1.82800128e-02 8.56235723e-01 1.23817692e-01\n",
      "  2.64694913e-03 1.90677143e-02 8.40268156e-01 1.38017181e-01]\n",
      " [6.50533349e-03 4.14726729e-02 7.18034947e-03 9.44841644e-01\n",
      "  2.08118714e-02 1.06414642e-01 1.54033501e-02 8.57370136e-01]\n",
      " [3.99703856e-03 4.71705763e-03 7.41581130e-02 9.17127791e-01\n",
      "  6.51200849e-03 9.67647550e-03 7.17918182e-02 9.12019698e-01]\n",
      " [9.92182118e-01 2.97048937e-03 7.15353468e-04 4.13203953e-03\n",
      "  9.93280759e-01 1.80935710e-03 1.15483195e-03 3.75505170e-03]\n",
      " [1.67610382e-02 8.75598803e-01 8.77983144e-02 1.98418443e-02\n",
      "  4.94548299e-02 6.08459459e-01 3.00566687e-01 4.15190234e-02]\n",
      " [9.23570802e-01 1.28732846e-02 4.17201534e-02 2.18357602e-02\n",
      "  9.60224450e-01 5.82082999e-03 2.79228376e-02 6.03188225e-03]\n",
      " [3.56039816e-03 8.19231860e-01 1.71320891e-01 5.88684998e-03\n",
      "  5.83825146e-03 6.55101143e-01 3.22719266e-01 1.63413393e-02]\n",
      " [1.46596777e-03 8.46606379e-03 9.86293852e-01 3.77411676e-03\n",
      "  4.78298299e-07 5.64154157e-07 9.99928417e-01 7.05404896e-05]\n",
      " [6.18541916e-01 6.36941120e-02 2.88309847e-01 2.94541245e-02\n",
      "  5.56624096e-01 2.47926172e-02 4.03419242e-01 1.51640451e-02]\n",
      " [8.14711765e-02 7.28532056e-01 1.61091512e-01 2.89052551e-02\n",
      "  4.53818387e-02 7.76553554e-01 1.48066167e-01 2.99984404e-02]\n",
      " [7.09771208e-01 2.57648026e-01 2.29314450e-02 9.64932097e-03\n",
      "  5.92913067e-01 3.66126035e-01 1.75403844e-02 2.34205134e-02]] [[15.4259582  14.08525845 12.01110512 ...  9.45622747 11.12707631\n",
      "  11.78331935]\n",
      " [14.5220391  13.2376512  13.02501251 ...  9.19301413 10.68491557\n",
      "  11.92621369]\n",
      " [13.73459676 13.43753459 13.68458097 ...  9.06620233  9.92329586\n",
      "  10.98766112]\n",
      " ...\n",
      " [14.71684472 13.81278796 13.58508909 ... 10.31590684 12.7838795\n",
      "  11.90067493]\n",
      " [14.40478708 12.90705323 12.30088111 ...  8.98026881 10.78334035\n",
      "  11.06108212]\n",
      " [14.33271606 13.3818689  12.82586149 ...  8.62757054 10.70902877\n",
      "  11.54604027]]\n",
      "stacked\n",
      "cv\n",
      "stacked\n",
      "cv\n",
      "stacked\n",
      "cv\n",
      "stacked\n",
      "cv\n",
      "stacked\n",
      "cv\n",
      "stacked\n",
      "cv\n",
      "stacked\n",
      "cv\n",
      "stacked\n",
      "cv\n",
      "stacked\n",
      "cv\n",
      "stacked\n",
      "cv\n",
      "stacked\n",
      "cv\n",
      "stacked\n",
      "cv\n",
      "stacked\n",
      "cv\n",
      "stacked\n",
      "cv\n",
      "stacked\n",
      "cv\n",
      "stacked\n",
      "cv\n",
      "stacked\n",
      "cv\n",
      "stacked\n",
      "cv\n",
      "stacked\n",
      "cv\n",
      "stacked\n",
      "cv\n",
      "stacked\n",
      "cv\n",
      "stacked\n",
      "cv\n",
      "stacked\n",
      "cv\n",
      "stacked\n",
      "cv\n",
      "stacked\n",
      "cv\n",
      "stacked\n",
      "cv\n",
      "stacked\n",
      "cv\n",
      "stacked\n",
      "cv\n",
      "stacked\n",
      "cv\n",
      "stacked\n",
      "cv\n",
      "stacked\n",
      "cv\n",
      "stacked\n",
      "cv\n",
      "stacked\n",
      "cv\n",
      "stacked\n",
      "cv\n",
      "stacked\n",
      "cv\n",
      "stacked\n",
      "cv\n",
      "stacked\n",
      "cv\n",
      "stacked\n",
      "cv\n",
      "stacked\n",
      "cv\n",
      "stacked\n",
      "cv\n",
      "stacked\n",
      "cv\n",
      "stacked\n",
      "cv\n",
      "stacked\n",
      "cv\n",
      "stacked\n",
      "cv\n",
      "stacked\n",
      "cv\n",
      "stacked\n",
      "cv\n",
      "stacked\n",
      "cv\n",
      "stacked\n",
      "cv\n",
      "stacked\n",
      "cv\n",
      "stacked\n",
      "cv\n",
      "stacked\n",
      "cv\n",
      "stacked\n",
      "cv\n",
      "stacked\n",
      "cv\n",
      "stacked\n",
      "cv\n",
      "stacked\n",
      "cv\n",
      "stacked\n",
      "cv\n",
      "stacked\n",
      "cv\n",
      "stacked\n",
      "cv\n",
      "stacked\n",
      "cv\n",
      "stacked\n",
      "cv\n",
      "stacked\n",
      "cv\n",
      "stacked\n",
      "cv\n",
      "stacked\n",
      "cv\n",
      "stacked\n",
      "cv\n",
      "stacked\n",
      "cv\n",
      "stacked\n",
      "cv\n",
      "stacked\n",
      "cv\n",
      "stacked\n",
      "cv\n",
      "stacked\n",
      "cv\n",
      "stacked\n",
      "cv\n",
      "stacked\n",
      "cv\n",
      "stacked\n",
      "cv\n",
      "stacked\n",
      "cv\n",
      "stacked\n",
      "cv\n",
      "stacked\n",
      "cv\n",
      "stacked\n",
      "cv\n",
      "stacked\n",
      "cv\n",
      "stacked\n",
      "cv\n",
      "stacked\n",
      "cv\n",
      "stacked\n",
      "cv\n",
      "stacked\n",
      "cv\n",
      "stacked\n",
      "cv\n",
      "stacked\n",
      "cv\n",
      "stacked\n",
      "cv\n",
      "stacked\n",
      "cv\n",
      "stacked\n",
      "cv\n",
      "stacked\n",
      "cv\n",
      "stacked\n",
      "cv\n",
      "stacked\n",
      "cv\n",
      "stacked\n",
      "cv\n",
      "stacked\n",
      "cv\n",
      "stacked\n",
      "cv\n",
      "stacked\n",
      "cv\n",
      "stacked\n",
      "cv\n",
      "stacked\n",
      "cv\n",
      "stacked\n",
      "cv\n",
      "\n",
      "model score of oof results for SVC3\n",
      "Model Accuracy: 0.8854166666666666\n",
      "Precision: 0.8919061302681993\n",
      "Recall (Sensitivity): 0.8854166666666666\n",
      "F1 Score: 0.8857101756473199\n",
      "Matthews Correlation Coefficient (MCC): 0.8472960378489632\n",
      "G-Measure: 0.922854990857229\n",
      "AUC: 0.9878703407312561\n",
      "Specificity: 0.9613969803670508\n",
      "Jaccard Index: 0.797150428580776\n",
      "Created directory: /work/wanlab/nick/stackeval3/val_data/stacked/SVC3\n",
      "Saving metrics to: /work/wanlab/nick/stackeval3/val_data/stacked/SVC3/limma(3),metrics.csv\n",
      "PREDICTIONS                   subtype  Squamous      ADEX  Pancreatic Progenitor  \\\n",
      "0             Immunogenic  0.665168  0.048171               0.005538   \n",
      "1   Pancreatic Progenitor  0.081200  0.087655               0.804294   \n",
      "2                Squamous  0.762582  0.214149               0.014995   \n",
      "3                Squamous  0.839767  0.046830               0.104328   \n",
      "4             Immunogenic  0.004002  0.006482               0.067714   \n",
      "..                    ...       ...       ...                    ...   \n",
      "91                   ADEX  0.004595  0.669469               0.076212   \n",
      "92            Immunogenic  0.023731  0.022772               0.016410   \n",
      "93  Pancreatic Progenitor  0.002982  0.013049               0.953956   \n",
      "94            Immunogenic  0.025806  0.016715               0.123536   \n",
      "95            Immunogenic  0.127205  0.251574               0.263467   \n",
      "\n",
      "    Immunogenic  \n",
      "0      0.281124  \n",
      "1      0.026851  \n",
      "2      0.008274  \n",
      "3      0.009075  \n",
      "4      0.921802  \n",
      "..          ...  \n",
      "91     0.249725  \n",
      "92     0.937087  \n",
      "93     0.030014  \n",
      "94     0.833944  \n",
      "95     0.357754  \n",
      "\n",
      "[96 rows x 5 columns]\n",
      "\n",
      "model score of oof results for SVC4\n",
      "Model Accuracy: 0.9375\n",
      "Precision: 0.9378672542735043\n",
      "Recall (Sensitivity): 0.9375\n",
      "F1 Score: 0.9374874949979993\n",
      "Matthews Correlation Coefficient (MCC): 0.9155529545059609\n",
      "G-Measure: 0.9579504330083998\n",
      "AUC: 0.9875686886470337\n",
      "Specificity: 0.9787358621425523\n",
      "Jaccard Index: 0.882714303670186\n",
      "Created directory: /work/wanlab/nick/stackeval3/val_data/stacked/SVC4\n",
      "Saving metrics to: /work/wanlab/nick/stackeval3/val_data/stacked/SVC4/limma(3),metrics.csv\n",
      "PREDICTIONS                   subtype  Squamous      ADEX  Pancreatic Progenitor  \\\n",
      "0             Immunogenic  0.573791  0.012350               0.006293   \n",
      "1   Pancreatic Progenitor  0.088189  0.094241               0.791905   \n",
      "2                Squamous  0.606647  0.353247               0.016160   \n",
      "3                Squamous  0.772049  0.045276               0.172017   \n",
      "4             Immunogenic  0.005440  0.008240               0.056280   \n",
      "..                    ...       ...       ...                    ...   \n",
      "91                   ADEX  0.009907  0.700730               0.119439   \n",
      "92            Immunogenic  0.036157  0.031280               0.047704   \n",
      "93  Pancreatic Progenitor  0.009663  0.015372               0.951870   \n",
      "94            Immunogenic  0.051782  0.013238               0.103261   \n",
      "95            Immunogenic  0.179045  0.161914               0.245117   \n",
      "\n",
      "    Immunogenic  \n",
      "0      0.407566  \n",
      "1      0.025664  \n",
      "2      0.023946  \n",
      "3      0.010658  \n",
      "4      0.930041  \n",
      "..          ...  \n",
      "91     0.169924  \n",
      "92     0.884859  \n",
      "93     0.023095  \n",
      "94     0.831720  \n",
      "95     0.413924  \n",
      "\n",
      "[96 rows x 5 columns]\n",
      "Random state: 4\n",
      "['SVC', 'SVC2']\n",
      "individual models\n",
      "cv\n",
      "individual models\n",
      "cv\n",
      "individual models\n",
      "cv\n",
      "individual models\n",
      "cv\n",
      "individual models\n",
      "cv\n",
      "individual models\n",
      "cv\n",
      "individual models\n",
      "cv\n",
      "individual models\n",
      "cv\n",
      "individual models\n",
      "cv\n",
      "individual models\n",
      "cv\n",
      "individual models\n",
      "cv\n",
      "individual models\n",
      "cv\n",
      "individual models\n",
      "cv\n",
      "individual models\n",
      "cv\n",
      "individual models\n",
      "cv\n",
      "individual models\n",
      "cv\n",
      "individual models\n",
      "cv\n",
      "individual models\n",
      "cv\n",
      "individual models\n",
      "cv\n",
      "individual models\n",
      "cv\n",
      "individual models\n",
      "cv\n",
      "individual models\n",
      "cv\n",
      "individual models\n",
      "cv\n",
      "individual models\n",
      "cv\n",
      "individual models\n",
      "cv\n",
      "individual models\n",
      "cv\n",
      "individual models\n",
      "cv\n",
      "individual models\n",
      "cv\n",
      "individual models\n",
      "cv\n",
      "individual models\n",
      "cv\n",
      "individual models\n",
      "cv\n",
      "individual models\n",
      "cv\n",
      "individual models\n",
      "cv\n",
      "individual models\n",
      "cv\n",
      "individual models\n",
      "cv\n",
      "individual models\n",
      "cv\n",
      "individual models\n",
      "cv\n",
      "individual models\n",
      "cv\n",
      "individual models\n",
      "cv\n",
      "individual models\n",
      "cv\n",
      "individual models\n",
      "cv\n",
      "individual models\n",
      "cv\n",
      "individual models\n",
      "cv\n",
      "individual models\n",
      "cv\n",
      "individual models\n",
      "cv\n",
      "individual models\n",
      "cv\n",
      "individual models\n",
      "cv\n",
      "individual models\n",
      "cv\n",
      "individual models\n",
      "cv\n",
      "individual models\n",
      "cv\n",
      "individual models\n",
      "cv\n",
      "individual models\n",
      "cv\n",
      "individual models\n",
      "cv\n",
      "individual models\n",
      "cv\n",
      "individual models\n",
      "cv\n",
      "individual models\n",
      "cv\n",
      "individual models\n",
      "cv\n",
      "individual models\n",
      "cv\n",
      "individual models\n",
      "cv\n",
      "individual models\n",
      "cv\n",
      "individual models\n",
      "cv\n",
      "individual models\n",
      "cv\n",
      "individual models\n",
      "cv\n",
      "individual models\n",
      "cv\n",
      "individual models\n",
      "cv\n",
      "individual models\n",
      "cv\n",
      "individual models\n",
      "cv\n",
      "individual models\n",
      "cv\n",
      "individual models\n",
      "cv\n",
      "individual models\n",
      "cv\n",
      "individual models\n",
      "cv\n",
      "individual models\n",
      "cv\n",
      "individual models\n",
      "cv\n",
      "individual models\n",
      "cv\n",
      "individual models\n",
      "cv\n",
      "individual models\n",
      "cv\n",
      "individual models\n",
      "cv\n",
      "individual models\n",
      "cv\n",
      "individual models\n",
      "cv\n",
      "individual models\n",
      "cv\n",
      "individual models\n",
      "cv\n",
      "individual models\n",
      "cv\n",
      "individual models\n",
      "cv\n",
      "individual models\n",
      "cv\n",
      "individual models\n",
      "cv\n",
      "individual models\n",
      "cv\n",
      "individual models\n",
      "cv\n",
      "individual models\n",
      "cv\n",
      "individual models\n",
      "cv\n",
      "individual models\n",
      "cv\n",
      "individual models\n",
      "cv\n",
      "individual models\n",
      "cv\n",
      "individual models\n",
      "cv\n",
      "individual models\n",
      "cv\n",
      "individual models\n",
      "cv\n",
      "individual models\n",
      "cv\n",
      "\n",
      "model score of oof results for SVC\n",
      "Model Accuracy: 0.8854166666666666\n",
      "Precision: 0.891441968525302\n",
      "Recall (Sensitivity): 0.8854166666666666\n",
      "F1 Score: 0.8857571122577969\n",
      "Matthews Correlation Coefficient (MCC): 0.847046869768925\n",
      "G-Measure: 0.9229308733968031\n",
      "AUC: 0.9871253245482999\n",
      "Specificity: 0.9613969803670508\n",
      "Jaccard Index: 0.7977251412244541\n",
      "Created directory: /work/wanlab/nick/stackeval4/val_data/individual models/SVC\n",
      "Saving metrics to: /work/wanlab/nick/stackeval4/val_data/individual models/SVC/limma(4),metrics.csv\n",
      "PREDICTIONS                   subtype  Squamous      ADEX  Pancreatic Progenitor  \\\n",
      "0                Squamous  0.413012  0.389238               0.179113   \n",
      "1   Pancreatic Progenitor  0.009092  0.033763               0.760434   \n",
      "2   Pancreatic Progenitor  0.013965  0.090490               0.836321   \n",
      "3   Pancreatic Progenitor  0.030397  0.010358               0.899428   \n",
      "4   Pancreatic Progenitor  0.003516  0.007269               0.922995   \n",
      "..                    ...       ...       ...                    ...   \n",
      "91            Immunogenic  0.006898  0.054093               0.006355   \n",
      "92            Immunogenic  0.003718  0.001062               0.000537   \n",
      "93            Immunogenic  0.025182  0.025243               0.016868   \n",
      "94            Immunogenic  0.012972  0.009745               0.022624   \n",
      "95                   ADEX  0.119982  0.669578               0.189407   \n",
      "\n",
      "    Immunogenic  \n",
      "0      0.018637  \n",
      "1      0.196711  \n",
      "2      0.059224  \n",
      "3      0.059817  \n",
      "4      0.066220  \n",
      "..          ...  \n",
      "91     0.932654  \n",
      "92     0.994683  \n",
      "93     0.932708  \n",
      "94     0.954659  \n",
      "95     0.021034  \n",
      "\n",
      "[96 rows x 5 columns]\n",
      "\n",
      "model score of oof results for SVC2\n",
      "Model Accuracy: 0.9166666666666666\n",
      "Precision: 0.9179416613572927\n",
      "Recall (Sensitivity): 0.9166666666666666\n",
      "F1 Score: 0.9168905106983729\n",
      "Matthews Correlation Coefficient (MCC): 0.8877175856139377\n",
      "G-Measure: 0.9453340190753321\n",
      "AUC: 0.9850021451308861\n",
      "Specificity: 0.972089735381989\n",
      "Jaccard Index: 0.8457818223443223\n",
      "Created directory: /work/wanlab/nick/stackeval4/val_data/individual models/SVC2\n",
      "Saving metrics to: /work/wanlab/nick/stackeval4/val_data/individual models/SVC2/limma(4),metrics.csv\n",
      "PREDICTIONS                   subtype  Squamous      ADEX  Pancreatic Progenitor  \\\n",
      "0                Squamous  0.365726  0.404194               0.204612   \n",
      "1   Pancreatic Progenitor  0.006543  0.013648               0.924915   \n",
      "2   Pancreatic Progenitor  0.012592  0.047047               0.868966   \n",
      "3   Pancreatic Progenitor  0.062137  0.009730               0.869811   \n",
      "4   Pancreatic Progenitor  0.010898  0.011230               0.909387   \n",
      "..                    ...       ...       ...                    ...   \n",
      "91            Immunogenic  0.017777  0.089943               0.013559   \n",
      "92            Immunogenic  0.003704  0.000461               0.001087   \n",
      "93            Immunogenic  0.038832  0.028469               0.042034   \n",
      "94            Immunogenic  0.016294  0.005290               0.029831   \n",
      "95                   ADEX  0.259169  0.423644               0.282015   \n",
      "\n",
      "    Immunogenic  \n",
      "0      0.025468  \n",
      "1      0.054893  \n",
      "2      0.071395  \n",
      "3      0.058322  \n",
      "4      0.068485  \n",
      "..          ...  \n",
      "91     0.878721  \n",
      "92     0.994748  \n",
      "93     0.890664  \n",
      "94     0.948584  \n",
      "95     0.035172  \n",
      "\n",
      "[96 rows x 5 columns]\n",
      "运行时间为: 23.24 秒\n",
      "combining [[4.13011602e-01 3.89237932e-01 1.79113426e-01 1.86370399e-02\n",
      "  3.65725567e-01 4.04193925e-01 2.04612447e-01 2.54680615e-02]\n",
      " [9.09246924e-03 3.37625628e-02 7.60433643e-01 1.96711325e-01\n",
      "  6.54341060e-03 1.36483884e-02 9.24915345e-01 5.48928563e-02]\n",
      " [1.39648668e-02 9.04902854e-02 8.36321151e-01 5.92236972e-02\n",
      "  1.25917940e-02 4.70471561e-02 8.68966306e-01 7.13947443e-02]\n",
      " [3.03970201e-02 1.03583616e-02 8.99427804e-01 5.98168138e-02\n",
      "  6.21365576e-02 9.73040909e-03 8.69810694e-01 5.83223397e-02]\n",
      " [3.51568297e-03 7.26935298e-03 9.22995148e-01 6.62198159e-02\n",
      "  1.08975628e-02 1.12303997e-02 9.09387494e-01 6.84845430e-02]\n",
      " [2.25860529e-03 8.43459254e-01 1.45379876e-01 8.90226509e-03\n",
      "  6.79924242e-03 6.90914109e-01 2.87610690e-01 1.46759580e-02]\n",
      " [5.36357399e-03 9.81144733e-01 2.83108116e-03 1.06606115e-02\n",
      "  6.19121303e-03 9.63067068e-01 1.17577509e-02 1.89839678e-02]\n",
      " [4.47870792e-02 1.27798629e-02 9.36497094e-01 5.93596373e-03\n",
      "  4.66694044e-02 1.47211055e-02 9.35018383e-01 3.59110702e-03]\n",
      " [2.24531324e-02 3.61505429e-02 3.60175508e-01 5.81220817e-01\n",
      "  3.45862488e-02 2.95180290e-02 3.89750829e-01 5.46144893e-01]\n",
      " [9.10203650e-01 1.50543533e-02 4.80442627e-02 2.66977344e-02\n",
      "  9.45495917e-01 6.30863341e-03 4.10563809e-02 7.13906905e-03]\n",
      " [2.41748540e-02 7.23230877e-02 9.97403750e-02 8.03761683e-01\n",
      "  3.05970050e-02 6.77281657e-02 2.88954093e-01 6.12720737e-01]\n",
      " [5.18531157e-03 5.24852169e-02 9.12594811e-01 2.97346607e-02\n",
      "  1.60839212e-02 7.30459229e-02 8.63438116e-01 4.74320399e-02]\n",
      " [2.73255838e-01 5.22663210e-02 3.56313210e-01 3.18164631e-01\n",
      "  2.34121044e-01 4.42219587e-02 4.01031745e-01 3.20625253e-01]\n",
      " [2.42067931e-02 1.88178395e-02 1.42528977e-01 8.14446391e-01\n",
      "  4.79568917e-02 1.35026901e-02 1.11420325e-01 8.27120093e-01]\n",
      " [8.83696055e-01 8.32466757e-02 2.20793094e-02 1.09779597e-02\n",
      "  8.63586944e-01 8.89957851e-02 2.97624886e-02 1.76547822e-02]\n",
      " [2.52682078e-02 8.68674759e-01 8.51879731e-02 2.08690600e-02\n",
      "  4.05641688e-02 5.76313187e-01 3.42735357e-01 4.03872872e-02]\n",
      " [1.54546639e-02 1.29265519e-01 7.09068899e-01 1.46210918e-01\n",
      "  3.76925626e-02 5.13700882e-02 7.33056329e-01 1.77881020e-01]\n",
      " [9.94927653e-01 1.79113841e-03 7.69365609e-04 2.51184328e-03\n",
      "  9.98339940e-01 1.93548286e-04 8.21045209e-04 6.45466500e-04]\n",
      " [2.35572251e-02 6.36601796e-02 9.08967960e-01 3.81463500e-03\n",
      "  4.41899828e-02 8.81732803e-02 8.59660729e-01 7.97600757e-03]\n",
      " [2.38794382e-01 2.48958388e-01 4.77952156e-01 3.42950735e-02\n",
      "  3.42615717e-01 1.67021472e-01 4.45859267e-01 4.45035434e-02]\n",
      " [7.11955820e-01 2.65911479e-01 1.48083002e-02 7.32440097e-03\n",
      "  5.90569130e-01 3.66641283e-01 1.61718871e-02 2.66176997e-02]\n",
      " [3.72449298e-01 1.01758833e-01 3.63809968e-01 1.61981901e-01\n",
      "  4.12862089e-01 8.55789827e-02 3.04466938e-01 1.97091990e-01]\n",
      " [6.47951421e-03 6.53291112e-01 7.66840334e-02 2.63545341e-01\n",
      "  1.07086755e-02 6.61006788e-01 1.37419633e-01 1.90864903e-01]\n",
      " [3.57022676e-02 9.46952096e-02 8.63649676e-01 5.95284683e-03\n",
      "  7.72641155e-02 8.72447882e-02 8.23150662e-01 1.23404342e-02]\n",
      " [9.84782045e-01 1.95601707e-03 3.95237288e-03 9.30956462e-03\n",
      "  9.88870649e-01 1.03991386e-03 5.22592428e-03 4.86351307e-03]\n",
      " [3.46542999e-03 2.27163369e-03 9.41766001e-04 9.93321170e-01\n",
      "  2.31075855e-03 1.34896386e-03 7.88340868e-04 9.95551937e-01]\n",
      " [3.14830559e-01 2.63284598e-02 2.59570316e-01 3.99270665e-01\n",
      "  4.39979166e-01 2.34726139e-02 3.17625073e-01 2.18923147e-01]\n",
      " [1.35327279e-02 3.38753702e-03 1.02695691e-02 9.72810166e-01\n",
      "  2.13894044e-02 2.43562057e-03 1.71448763e-02 9.59030099e-01]\n",
      " [4.22136406e-01 1.59633469e-02 3.45099781e-01 2.16800466e-01\n",
      "  4.79749392e-01 1.34745040e-02 4.42304117e-01 6.44719875e-02]\n",
      " [3.07524437e-03 9.80122569e-01 1.67473385e-03 1.51274528e-02\n",
      "  4.17526653e-03 9.86453320e-01 1.66589523e-03 7.70551853e-03]\n",
      " [5.41172303e-03 1.71000137e-02 3.81608110e-01 5.95880154e-01\n",
      "  1.11704611e-02 2.11945361e-02 3.23645246e-01 6.43989757e-01]\n",
      " [2.08706358e-01 9.58702766e-02 6.19620174e-01 7.58031912e-02\n",
      "  3.10951561e-01 9.41821342e-02 4.66894352e-01 1.27971952e-01]\n",
      " [6.85011588e-01 3.86494071e-02 5.72413791e-03 2.70614867e-01\n",
      "  5.95272507e-01 1.46466494e-02 8.21873964e-03 3.81862104e-01]\n",
      " [9.64574387e-03 7.43762721e-01 1.92373830e-01 5.42177050e-02\n",
      "  2.37687098e-02 7.60200707e-01 1.24855983e-01 9.11746003e-02]\n",
      " [5.11912443e-03 1.47635704e-02 9.37898663e-01 4.22186424e-02\n",
      "  1.28385186e-02 2.24469972e-02 9.30951703e-01 3.37627809e-02]\n",
      " [4.88264860e-01 3.82391063e-01 1.22456326e-01 6.88775201e-03\n",
      "  3.07916785e-01 5.76504879e-01 1.07927892e-01 7.65044450e-03]\n",
      " [1.14786127e-01 3.76214044e-02 8.20458584e-01 2.71338847e-02\n",
      "  1.86742756e-01 4.53829237e-02 7.28357001e-01 3.95173193e-02]\n",
      " [4.25978734e-03 7.88393913e-01 1.85650931e-01 2.16953688e-02\n",
      "  9.05539653e-03 6.70984107e-01 2.68036851e-01 5.19236454e-02]\n",
      " [2.07979345e-01 1.50411597e-02 4.77677952e-02 7.29211700e-01\n",
      "  1.37217410e-01 3.83927608e-03 4.88283134e-02 8.10115000e-01]\n",
      " [4.33312540e-03 6.47449678e-01 7.05471473e-02 2.77670049e-01\n",
      "  5.93671542e-03 7.13734326e-01 7.20034116e-02 2.08325547e-01]\n",
      " [2.19612444e-01 1.48038037e-02 4.76527717e-01 2.89056035e-01\n",
      "  3.90111691e-01 1.35534895e-02 4.26057771e-01 1.70277048e-01]\n",
      " [8.66379432e-01 2.54941461e-02 8.97128380e-02 1.84135842e-02\n",
      "  9.06879641e-01 1.45013940e-02 6.57282117e-02 1.28907530e-02]\n",
      " [4.03761558e-01 2.41573927e-02 1.50288841e-01 4.21792208e-01\n",
      "  5.21030238e-01 4.57140951e-02 1.98652184e-01 2.34603482e-01]\n",
      " [4.02172921e-02 3.35942101e-02 3.94813955e-01 5.31374543e-01\n",
      "  9.07662636e-02 2.40132770e-02 6.91567544e-01 1.93652916e-01]\n",
      " [9.94859025e-01 7.57160246e-04 1.66071169e-04 4.21774384e-03\n",
      "  9.93224508e-01 1.02121647e-04 1.16483182e-03 5.50853891e-03]\n",
      " [8.56314968e-02 2.42930978e-02 1.95273941e-02 8.70548011e-01\n",
      "  7.58834355e-02 1.52647727e-02 1.19623504e-02 8.96889441e-01]\n",
      " [8.16397191e-02 1.31002876e-01 7.60397696e-01 2.69597088e-02\n",
      "  7.59093332e-02 9.19478627e-02 8.07731544e-01 2.44112596e-02]\n",
      " [9.93937993e-01 8.22162956e-04 2.11083632e-04 5.02876016e-03\n",
      "  9.95712022e-01 1.02292632e-04 1.54657505e-04 4.03102773e-03]\n",
      " [4.64074535e-03 7.67095941e-03 4.59233768e-02 9.41764918e-01\n",
      "  5.41746583e-03 8.53168676e-03 3.96225635e-02 9.46428284e-01]\n",
      " [1.48047536e-01 1.96597669e-02 2.51325192e-01 5.80967506e-01\n",
      "  7.75520945e-02 5.24448768e-03 6.16491383e-01 3.00712034e-01]\n",
      " [1.26733659e-01 2.68962172e-01 2.29820243e-01 3.74483926e-01\n",
      "  1.93559650e-01 1.52549537e-01 2.48670492e-01 4.05220321e-01]\n",
      " [1.31568017e-02 6.23299423e-03 1.09844366e-01 8.70765838e-01\n",
      "  1.85867244e-02 4.25208597e-03 1.29718354e-01 8.47442835e-01]\n",
      " [1.06385156e-02 2.16517212e-02 7.04906457e-01 2.62803306e-01\n",
      "  3.19390947e-02 3.32724403e-02 6.00479207e-01 3.34309258e-01]\n",
      " [2.01343423e-02 3.15093160e-03 5.34948599e-02 9.23219866e-01\n",
      "  3.21263617e-02 2.18501589e-03 4.19098586e-02 9.23778764e-01]\n",
      " [7.83050251e-01 2.09645709e-02 6.82307813e-02 1.27754397e-01\n",
      "  7.57187719e-01 9.86609974e-03 8.35962011e-02 1.49349980e-01]\n",
      " [9.77856315e-01 6.52539230e-03 5.35788396e-03 1.02604086e-02\n",
      "  9.56737617e-01 2.41205266e-03 1.67827421e-02 2.40675886e-02]\n",
      " [8.27526404e-01 7.69841089e-02 9.29483739e-02 2.54111279e-03\n",
      "  8.25238771e-01 6.03965157e-02 1.09230874e-01 5.13383838e-03]\n",
      " [8.43460432e-01 4.75642766e-02 9.94864608e-02 9.48883088e-03\n",
      "  7.29326522e-01 4.31200627e-02 2.17654581e-01 9.89883419e-03]\n",
      " [5.85063265e-01 5.70844880e-02 3.25989964e-01 3.18622835e-02\n",
      "  5.48939834e-01 2.58159573e-02 4.08944786e-01 1.62994221e-02]\n",
      " [4.39748442e-03 9.49966917e-02 8.46607026e-01 5.39987975e-02\n",
      "  7.03367741e-03 5.92664019e-02 8.81363344e-01 5.23365772e-02]\n",
      " [8.47640671e-02 9.66456073e-03 1.31565276e-01 7.74006096e-01\n",
      "  1.31805973e-01 7.87312376e-03 1.61238902e-01 6.99082002e-01]\n",
      " [1.19404019e-03 9.93886965e-01 9.02118957e-04 4.01687558e-03\n",
      "  9.84078706e-04 9.93957317e-01 9.48645436e-04 4.10995926e-03]\n",
      " [3.48740674e-01 1.62566956e-02 2.87324136e-01 3.47678495e-01\n",
      "  3.33195569e-01 1.05693767e-02 5.22976136e-01 1.33258918e-01]\n",
      " [5.83112804e-01 3.21362454e-01 8.92127074e-02 6.31203458e-03\n",
      "  4.57808295e-01 4.35844203e-01 9.56052215e-02 1.07422808e-02]\n",
      " [8.75153330e-01 6.59937413e-02 1.00413693e-02 4.88115593e-02\n",
      "  9.54295134e-01 2.25931626e-02 1.48922673e-02 8.21943638e-03]\n",
      " [8.99601386e-01 5.71277762e-02 7.68191351e-03 3.55889238e-02\n",
      "  9.03125839e-01 4.01934112e-02 1.14849890e-02 4.51957606e-02]\n",
      " [1.44906783e-02 2.52714038e-02 2.77063471e-01 6.83174447e-01\n",
      "  2.71969245e-02 4.17816138e-02 4.18813715e-01 5.12207746e-01]\n",
      " [7.08870026e-01 8.92757494e-03 2.17320318e-01 6.48820804e-02\n",
      "  5.99423791e-01 3.88201032e-03 3.71485377e-01 2.52088210e-02]\n",
      " [1.45079703e-03 4.94329538e-03 9.84377074e-01 9.22883325e-03\n",
      "  8.67099562e-07 1.02425851e-06 9.99341991e-01 6.56117316e-04]\n",
      " [1.10195610e-02 5.28998801e-02 8.82253516e-01 5.38270424e-02\n",
      "  3.58305712e-02 6.47653855e-02 7.69679119e-01 1.29724925e-01]\n",
      " [1.43709725e-01 8.08553813e-01 3.46815922e-02 1.30548705e-02\n",
      "  5.26986987e-02 9.22403819e-01 2.19899836e-02 2.90749905e-03]\n",
      " [2.35679787e-03 1.39600090e-03 1.15245137e-03 9.95094750e-01\n",
      "  1.21691943e-03 2.01291557e-03 1.89215271e-03 9.94878012e-01]\n",
      " [1.94702936e-03 1.95582793e-02 8.65895349e-01 1.12599343e-01\n",
      "  4.15980006e-03 2.79600607e-02 7.70742059e-01 1.97138081e-01]\n",
      " [4.72544238e-02 2.91554220e-02 8.96074667e-01 2.75154868e-02\n",
      "  5.66222279e-02 2.31831122e-02 9.01111746e-01 1.90829140e-02]\n",
      " [4.52980368e-02 3.96176246e-02 3.58158168e-01 5.56926171e-01\n",
      "  4.44824198e-02 2.48778725e-02 7.35716383e-02 8.57068069e-01]\n",
      " [8.64078674e-01 9.29383714e-02 2.62939480e-03 4.03535596e-02\n",
      "  7.70149962e-01 6.85514328e-02 1.15334059e-02 1.49765200e-01]\n",
      " [2.97260428e-02 1.93029857e-01 7.75205818e-01 2.03828168e-03\n",
      "  2.34952300e-02 2.06737487e-01 7.67008124e-01 2.75915858e-03]\n",
      " [1.06086837e-01 1.80032464e-01 1.34517497e-01 5.79363202e-01\n",
      "  8.11672750e-02 1.16314370e-01 1.29356394e-01 6.73161961e-01]\n",
      " [9.17030745e-02 2.78834298e-02 8.55874021e-01 2.45394749e-02\n",
      "  1.97033081e-01 2.87794667e-02 7.23525187e-01 5.06622654e-02]\n",
      " [2.20433232e-01 6.48263743e-01 1.19223972e-01 1.20790529e-02\n",
      "  1.25025757e-01 7.87553820e-01 7.15498151e-02 1.58706075e-02]\n",
      " [2.63870750e-03 2.09162147e-02 2.58521275e-01 7.17923802e-01\n",
      "  3.97021565e-03 1.87994605e-02 1.87045301e-01 7.90185023e-01]\n",
      " [9.75571416e-01 2.45130651e-03 1.18842335e-02 1.00930437e-02\n",
      "  9.81465886e-01 8.96099553e-04 1.08776041e-02 6.76041027e-03]\n",
      " [9.44717967e-03 2.65281120e-02 9.46821003e-01 1.72037056e-02\n",
      "  1.85396294e-02 6.51548697e-02 8.46348140e-01 6.99573607e-02]\n",
      " [9.90921220e-01 3.08709735e-03 7.80445287e-04 5.21123781e-03\n",
      "  9.93309946e-01 1.97704582e-03 1.51315214e-03 3.19985581e-03]\n",
      " [8.00621874e-02 6.89907385e-01 2.00940311e-01 2.90901167e-02\n",
      "  4.74145273e-02 7.50670813e-01 1.73511817e-01 2.84028424e-02]\n",
      " [4.45625734e-02 2.48891116e-02 1.70877434e-01 7.59670881e-01\n",
      "  6.40475900e-02 2.02543094e-02 1.88768212e-01 7.26929888e-01]\n",
      " [9.51772682e-02 8.20563391e-01 4.29306231e-02 4.13287181e-02\n",
      "  1.03639193e-01 7.39260250e-01 6.62688299e-02 9.08317272e-02]\n",
      " [3.48688843e-02 8.88888522e-01 2.23215557e-02 5.39210384e-02\n",
      "  7.01974761e-02 8.36031567e-01 3.09307442e-02 6.28402130e-02]\n",
      " [7.63352778e-02 1.36985037e-01 7.27019027e-01 5.96606582e-02\n",
      "  4.44865242e-02 1.73115726e-02 9.29862726e-01 8.33917703e-03]\n",
      " [9.76420795e-01 1.13849236e-02 5.37809433e-03 6.81618741e-03\n",
      "  9.79293049e-01 7.51452376e-03 9.15269636e-03 4.03973066e-03]\n",
      " [5.63400871e-03 3.08025326e-02 1.82387169e-02 9.45324742e-01\n",
      "  5.29051577e-03 3.30203738e-02 2.08293982e-02 9.40859712e-01]\n",
      " [6.89825315e-03 5.40926200e-02 6.35473015e-03 9.32654397e-01\n",
      "  1.77773477e-02 8.99433934e-02 1.35586980e-02 8.78720561e-01]\n",
      " [3.71771824e-03 1.06167724e-03 5.37389802e-04 9.94683215e-01\n",
      "  3.70421266e-03 4.61257457e-04 1.08653504e-03 9.94747995e-01]\n",
      " [2.51818169e-02 2.52428361e-02 1.68675380e-02 9.32707809e-01\n",
      "  3.88322490e-02 2.84692307e-02 4.20342364e-02 8.90664284e-01]\n",
      " [1.29719505e-02 9.74529782e-03 2.26240974e-02 9.54658654e-01\n",
      "  1.62939076e-02 5.29028639e-03 2.98314831e-02 9.48584323e-01]\n",
      " [1.19981717e-01 6.69577830e-01 1.89406679e-01 2.10337732e-02\n",
      "  2.59169092e-01 4.23644473e-01 2.82014566e-01 3.51718689e-02]] [[13.47124345 13.34951928 12.37583412 ... 10.40995247 11.01633373\n",
      "  12.42580305]\n",
      " [14.93094853 12.71597514 11.82367528 ... 10.07063814 10.49127304\n",
      "  12.50965658]\n",
      " [14.23358079 12.89234846 11.39652834 ...  9.77942076 10.39189986\n",
      "  12.2884758 ]\n",
      " ...\n",
      " [15.22953175 13.75188013 12.86887124 ...  9.96095749  9.97794247\n",
      "  11.31842048]\n",
      " [14.61944748 13.78133009 12.0614951  ...  9.41423501 10.48403022\n",
      "  11.45384525]\n",
      " [14.36488551 12.73922974 12.43992424 ...  8.50798529 10.19860468\n",
      "  11.67834933]]\n",
      "stacked\n",
      "cv\n",
      "stacked\n",
      "cv\n",
      "stacked\n",
      "cv\n",
      "stacked\n",
      "cv\n",
      "stacked\n",
      "cv\n",
      "stacked\n",
      "cv\n",
      "stacked\n",
      "cv\n",
      "stacked\n",
      "cv\n",
      "stacked\n",
      "cv\n",
      "stacked\n",
      "cv\n",
      "stacked\n",
      "cv\n",
      "stacked\n",
      "cv\n",
      "stacked\n",
      "cv\n",
      "stacked\n",
      "cv\n",
      "stacked\n",
      "cv\n",
      "stacked\n",
      "cv\n",
      "stacked\n",
      "cv\n",
      "stacked\n",
      "cv\n",
      "stacked\n",
      "cv\n",
      "stacked\n",
      "cv\n",
      "stacked\n",
      "cv\n",
      "stacked\n",
      "cv\n",
      "stacked\n",
      "cv\n",
      "stacked\n",
      "cv\n",
      "stacked\n",
      "cv\n",
      "stacked\n",
      "cv\n",
      "stacked\n",
      "cv\n",
      "stacked\n",
      "cv\n",
      "stacked\n",
      "cv\n",
      "stacked\n",
      "cv\n",
      "stacked\n",
      "cv\n",
      "stacked\n",
      "cv\n",
      "stacked\n",
      "cv\n",
      "stacked\n",
      "cv\n",
      "stacked\n",
      "cv\n",
      "stacked\n",
      "cv\n",
      "stacked\n",
      "cv\n",
      "stacked\n",
      "cv\n",
      "stacked\n",
      "cv\n",
      "stacked\n",
      "cv\n",
      "stacked\n",
      "cv\n",
      "stacked\n",
      "cv\n",
      "stacked\n",
      "cv\n",
      "stacked\n",
      "cv\n",
      "stacked\n",
      "cv\n",
      "stacked\n",
      "cv\n",
      "stacked\n",
      "cv\n",
      "stacked\n",
      "cv\n",
      "stacked\n",
      "cv\n",
      "stacked\n",
      "cv\n",
      "stacked\n",
      "cv\n",
      "stacked\n",
      "cv\n",
      "stacked\n",
      "cv\n",
      "stacked\n",
      "cv\n",
      "stacked\n",
      "cv\n",
      "stacked\n",
      "cv\n",
      "stacked\n",
      "cv\n",
      "stacked\n",
      "cv\n",
      "stacked\n",
      "cv\n",
      "stacked\n",
      "cv\n",
      "stacked\n",
      "cv\n",
      "stacked\n",
      "cv\n",
      "stacked\n",
      "cv\n",
      "stacked\n",
      "cv\n",
      "stacked\n",
      "cv\n",
      "stacked\n",
      "cv\n",
      "stacked\n",
      "cv\n",
      "stacked\n",
      "cv\n",
      "stacked\n",
      "cv\n",
      "stacked\n",
      "cv\n",
      "stacked\n",
      "cv\n",
      "stacked\n",
      "cv\n",
      "stacked\n",
      "cv\n",
      "stacked\n",
      "cv\n",
      "stacked\n",
      "cv\n",
      "stacked\n",
      "cv\n",
      "stacked\n",
      "cv\n",
      "stacked\n",
      "cv\n",
      "stacked\n",
      "cv\n",
      "stacked\n",
      "cv\n",
      "stacked\n",
      "cv\n",
      "stacked\n",
      "cv\n",
      "stacked\n",
      "cv\n",
      "stacked\n",
      "cv\n",
      "stacked\n",
      "cv\n",
      "stacked\n",
      "cv\n",
      "stacked\n",
      "cv\n",
      "stacked\n",
      "cv\n",
      "stacked\n",
      "cv\n",
      "stacked\n",
      "cv\n",
      "stacked\n",
      "cv\n",
      "stacked\n",
      "cv\n",
      "stacked\n",
      "cv\n",
      "stacked\n",
      "cv\n",
      "stacked\n",
      "cv\n",
      "stacked\n",
      "cv\n",
      "\n",
      "model score of oof results for SVC3\n",
      "Model Accuracy: 0.8854166666666666\n",
      "Precision: 0.888723544973545\n",
      "Recall (Sensitivity): 0.8854166666666666\n",
      "F1 Score: 0.8855201092353525\n",
      "Matthews Correlation Coefficient (MCC): 0.8463911730029915\n",
      "G-Measure: 0.922409232404859\n",
      "AUC: 0.9884962632486841\n",
      "Specificity: 0.9617931071276142\n",
      "Jaccard Index: 0.7920528982820417\n",
      "Created directory: /work/wanlab/nick/stackeval4/val_data/stacked/SVC3\n",
      "Saving metrics to: /work/wanlab/nick/stackeval4/val_data/stacked/SVC3/limma(4),metrics.csv\n",
      "PREDICTIONS                   subtype  Squamous      ADEX  Pancreatic Progenitor  \\\n",
      "0                Squamous  0.979573  0.001937               0.006747   \n",
      "1             Immunogenic  0.018950  0.002919               0.035792   \n",
      "2                    ADEX  0.120369  0.734171               0.123493   \n",
      "3   Pancreatic Progenitor  0.038313  0.008641               0.906825   \n",
      "4                    ADEX  0.039631  0.882411               0.019487   \n",
      "..                    ...       ...       ...                    ...   \n",
      "91  Pancreatic Progenitor  0.195722  0.090520               0.630451   \n",
      "92               Squamous  0.795787  0.020879               0.046147   \n",
      "93  Pancreatic Progenitor  0.046251  0.023055               0.910233   \n",
      "94  Pancreatic Progenitor  0.235903  0.014478               0.457102   \n",
      "95               Squamous  0.991078  0.003477               0.000926   \n",
      "\n",
      "    Immunogenic  \n",
      "0      0.011743  \n",
      "1      0.942339  \n",
      "2      0.021967  \n",
      "3      0.046222  \n",
      "4      0.058472  \n",
      "..          ...  \n",
      "91     0.083308  \n",
      "92     0.137186  \n",
      "93     0.020460  \n",
      "94     0.292518  \n",
      "95     0.004519  \n",
      "\n",
      "[96 rows x 5 columns]\n",
      "\n",
      "model score of oof results for SVC4\n",
      "Model Accuracy: 0.9166666666666666\n",
      "Precision: 0.919973544973545\n",
      "Recall (Sensitivity): 0.9166666666666666\n",
      "F1 Score: 0.9167701092353525\n",
      "Matthews Correlation Coefficient (MCC): 0.8886447105008007\n",
      "G-Measure: 0.945850347661052\n",
      "AUC: 0.9863616357234316\n",
      "Specificity: 0.9719603606487409\n",
      "Jaccard Index: 0.8501251693360572\n",
      "Created directory: /work/wanlab/nick/stackeval4/val_data/stacked/SVC4\n",
      "Saving metrics to: /work/wanlab/nick/stackeval4/val_data/stacked/SVC4/limma(4),metrics.csv\n",
      "PREDICTIONS                   subtype  Squamous      ADEX  Pancreatic Progenitor  \\\n",
      "0                Squamous  0.983074  0.000818               0.008117   \n",
      "1             Immunogenic  0.022266  0.001824               0.016604   \n",
      "2                    ADEX  0.253316  0.443213               0.269093   \n",
      "3   Pancreatic Progenitor  0.068014  0.010859               0.857502   \n",
      "4                    ADEX  0.087736  0.804759               0.034791   \n",
      "..                    ...       ...       ...                    ...   \n",
      "91  Pancreatic Progenitor  0.310120  0.091275               0.469286   \n",
      "92               Squamous  0.755264  0.008968               0.067620   \n",
      "93  Pancreatic Progenitor  0.035194  0.020221               0.926975   \n",
      "94  Pancreatic Progenitor  0.425470  0.010506               0.417244   \n",
      "95               Squamous  0.993936  0.001625               0.001467   \n",
      "\n",
      "    Immunogenic  \n",
      "0      0.007992  \n",
      "1      0.959306  \n",
      "2      0.034378  \n",
      "3      0.063626  \n",
      "4      0.072714  \n",
      "..          ...  \n",
      "91     0.129320  \n",
      "92     0.168148  \n",
      "93     0.017610  \n",
      "94     0.146779  \n",
      "95     0.002972  \n",
      "\n",
      "[96 rows x 5 columns]\n",
      "Random state: 5\n",
      "['SVC', 'SVC2']\n",
      "individual models\n",
      "cv\n",
      "individual models\n",
      "cv\n",
      "individual models\n",
      "cv\n",
      "individual models\n",
      "cv\n",
      "individual models\n",
      "cv\n",
      "individual models\n",
      "cv\n",
      "individual models\n",
      "cv\n",
      "individual models\n",
      "cv\n",
      "individual models\n",
      "cv\n",
      "individual models\n",
      "cv\n",
      "individual models\n",
      "cv\n",
      "individual models\n",
      "cv\n",
      "individual models\n",
      "cv\n",
      "individual models\n",
      "cv\n",
      "individual models\n",
      "cv\n",
      "individual models\n",
      "cv\n",
      "individual models\n",
      "cv\n",
      "individual models\n",
      "cv\n",
      "individual models\n",
      "cv\n",
      "individual models\n",
      "cv\n",
      "individual models\n",
      "cv\n",
      "individual models\n",
      "cv\n",
      "individual models\n",
      "cv\n",
      "individual models\n",
      "cv\n",
      "individual models\n",
      "cv\n",
      "individual models\n",
      "cv\n",
      "individual models\n",
      "cv\n",
      "individual models\n",
      "cv\n",
      "individual models\n",
      "cv\n",
      "individual models\n",
      "cv\n",
      "individual models\n",
      "cv\n",
      "individual models\n",
      "cv\n",
      "individual models\n",
      "cv\n",
      "individual models\n",
      "cv\n",
      "individual models\n",
      "cv\n",
      "individual models\n",
      "cv\n",
      "individual models\n",
      "cv\n",
      "individual models\n",
      "cv\n",
      "individual models\n",
      "cv\n",
      "individual models\n",
      "cv\n",
      "individual models\n",
      "cv\n",
      "individual models\n",
      "cv\n",
      "individual models\n",
      "cv\n",
      "individual models\n",
      "cv\n",
      "individual models\n",
      "cv\n",
      "individual models\n",
      "cv\n",
      "individual models\n",
      "cv\n",
      "individual models\n",
      "cv\n",
      "individual models\n",
      "cv\n",
      "individual models\n",
      "cv\n",
      "individual models\n",
      "cv\n",
      "individual models\n",
      "cv\n",
      "individual models\n",
      "cv\n",
      "individual models\n",
      "cv\n",
      "individual models\n",
      "cv\n",
      "individual models\n",
      "cv\n",
      "individual models\n",
      "cv\n",
      "individual models\n",
      "cv\n",
      "individual models\n",
      "cv\n",
      "individual models\n",
      "cv\n",
      "individual models\n",
      "cv\n",
      "individual models\n",
      "cv\n",
      "individual models\n",
      "cv\n",
      "individual models\n",
      "cv\n",
      "individual models\n",
      "cv\n",
      "individual models\n",
      "cv\n",
      "individual models\n",
      "cv\n",
      "individual models\n",
      "cv\n",
      "individual models\n",
      "cv\n",
      "individual models\n",
      "cv\n",
      "individual models\n",
      "cv\n",
      "individual models\n",
      "cv\n",
      "individual models\n",
      "cv\n",
      "individual models\n",
      "cv\n",
      "individual models\n",
      "cv\n",
      "individual models\n",
      "cv\n",
      "individual models\n",
      "cv\n",
      "individual models\n",
      "cv\n",
      "individual models\n",
      "cv\n",
      "individual models\n",
      "cv\n",
      "individual models\n",
      "cv\n",
      "individual models\n",
      "cv\n",
      "individual models\n",
      "cv\n",
      "individual models\n",
      "cv\n",
      "individual models\n",
      "cv\n",
      "individual models\n",
      "cv\n",
      "individual models\n",
      "cv\n",
      "individual models\n",
      "cv\n",
      "individual models\n",
      "cv\n",
      "individual models\n",
      "cv\n",
      "individual models\n",
      "cv\n",
      "individual models\n",
      "cv\n",
      "individual models\n",
      "cv\n",
      "individual models\n",
      "cv\n",
      "individual models\n",
      "cv\n",
      "individual models\n",
      "cv\n",
      "\n",
      "model score of oof results for SVC\n",
      "Model Accuracy: 0.8854166666666666\n",
      "Precision: 0.8898809523809524\n",
      "Recall (Sensitivity): 0.8854166666666666\n",
      "F1 Score: 0.8853734496943431\n",
      "Matthews Correlation Coefficient (MCC): 0.8470005932351341\n",
      "G-Measure: 0.9231619148285044\n",
      "AUC: 0.9877512470657277\n",
      "Specificity: 0.9617931071276142\n",
      "Jaccard Index: 0.792609071808182\n",
      "Created directory: /work/wanlab/nick/stackeval5/val_data/individual models/SVC\n",
      "Saving metrics to: /work/wanlab/nick/stackeval5/val_data/individual models/SVC/limma(5),metrics.csv\n",
      "PREDICTIONS                   subtype  Squamous      ADEX  Pancreatic Progenitor  \\\n",
      "0   Pancreatic Progenitor  0.034470  0.058628               0.901117   \n",
      "1             Immunogenic  0.002902  0.001502               0.000317   \n",
      "2             Immunogenic  0.003445  0.002478               0.000898   \n",
      "3                    ADEX  0.203233  0.686536               0.096828   \n",
      "4             Immunogenic  0.084431  0.009298               0.095738   \n",
      "..                    ...       ...       ...                    ...   \n",
      "91                   ADEX  0.006098  0.981103               0.002182   \n",
      "92  Pancreatic Progenitor  0.005659  0.062564               0.887375   \n",
      "93               Squamous  0.861459  0.044726               0.083912   \n",
      "94               Squamous  0.898170  0.058167               0.009031   \n",
      "95  Pancreatic Progenitor  0.027570  0.009642               0.896000   \n",
      "\n",
      "    Immunogenic  \n",
      "0      0.005785  \n",
      "1      0.995279  \n",
      "2      0.993179  \n",
      "3      0.013403  \n",
      "4      0.810533  \n",
      "..          ...  \n",
      "91     0.010617  \n",
      "92     0.044402  \n",
      "93     0.009903  \n",
      "94     0.034633  \n",
      "95     0.066788  \n",
      "\n",
      "[96 rows x 5 columns]\n",
      "\n",
      "model score of oof results for SVC2\n",
      "Model Accuracy: 0.9166666666666666\n",
      "Precision: 0.9179416613572927\n",
      "Recall (Sensitivity): 0.9166666666666666\n",
      "F1 Score: 0.9168905106983729\n",
      "Matthews Correlation Coefficient (MCC): 0.8877175856139377\n",
      "G-Measure: 0.9453340190753321\n",
      "AUC: 0.985192983977095\n",
      "Specificity: 0.972089735381989\n",
      "Jaccard Index: 0.8457818223443223\n",
      "Created directory: /work/wanlab/nick/stackeval5/val_data/individual models/SVC2\n",
      "Saving metrics to: /work/wanlab/nick/stackeval5/val_data/individual models/SVC2/limma(5),metrics.csv\n",
      "PREDICTIONS                   subtype  Squamous      ADEX  Pancreatic Progenitor  \\\n",
      "0   Pancreatic Progenitor  0.048390  0.077191               0.867320   \n",
      "1             Immunogenic  0.001448  0.001685               0.001769   \n",
      "2             Immunogenic  0.002593  0.001366               0.000660   \n",
      "3                    ADEX  0.121758  0.788890               0.075886   \n",
      "4             Immunogenic  0.141365  0.006133               0.168480   \n",
      "..                    ...       ...       ...                    ...   \n",
      "91                   ADEX  0.004985  0.960428               0.014684   \n",
      "92  Pancreatic Progenitor  0.011458  0.082085               0.847748   \n",
      "93               Squamous  0.772229  0.038427               0.181591   \n",
      "94               Squamous  0.915323  0.037898               0.011318   \n",
      "95  Pancreatic Progenitor  0.078286  0.011017               0.847698   \n",
      "\n",
      "    Immunogenic  \n",
      "0      0.007099  \n",
      "1      0.995098  \n",
      "2      0.995382  \n",
      "3      0.013466  \n",
      "4      0.684022  \n",
      "..          ...  \n",
      "91     0.019903  \n",
      "92     0.058709  \n",
      "93     0.007753  \n",
      "94     0.035460  \n",
      "95     0.062999  \n",
      "\n",
      "[96 rows x 5 columns]\n",
      "运行时间为: 23.77 秒\n",
      "combining [[3.44698022e-02 5.86276699e-02 9.01117335e-01 5.78519245e-03\n",
      "  4.83902840e-02 7.71908476e-02 8.67320313e-01 7.09855519e-03]\n",
      " [2.90207152e-03 1.50226647e-03 3.16730622e-04 9.95278931e-01\n",
      "  1.44782807e-03 1.68495284e-03 1.76938975e-03 9.95097829e-01]\n",
      " [3.44516000e-03 2.47768398e-03 8.97749932e-04 9.93179406e-01\n",
      "  2.59288378e-03 1.36550131e-03 6.60048466e-04 9.95381566e-01]\n",
      " [2.03232629e-01 6.86536189e-01 9.68283153e-02 1.34028673e-02\n",
      "  1.21758424e-01 7.88889767e-01 7.58859907e-02 1.34658185e-02]\n",
      " [8.44313691e-02 9.29750690e-03 9.57380310e-02 8.10533093e-01\n",
      "  1.41365345e-01 6.13329587e-03 1.68479621e-01 6.84021738e-01]\n",
      " [3.73144673e-03 9.33109932e-02 8.66842339e-01 3.61152214e-02\n",
      "  7.30178432e-03 6.36856768e-02 8.82095915e-01 4.69166238e-02]\n",
      " [2.05070763e-01 1.47210305e-02 4.08406626e-02 7.39367544e-01\n",
      "  1.36500543e-01 3.65717963e-03 3.15246842e-02 8.28317593e-01]\n",
      " [2.22064942e-02 3.80239310e-02 2.94190522e-01 6.45579052e-01\n",
      "  3.92248400e-02 3.04687807e-02 3.69389099e-01 5.60917280e-01]\n",
      " [1.09402285e-01 1.69204834e-01 1.47178604e-01 5.74214276e-01\n",
      "  8.10699667e-02 1.16683499e-01 1.30708339e-01 6.71538196e-01]\n",
      " [7.63036199e-03 7.75876181e-01 1.60162394e-01 5.63310635e-02\n",
      "  2.46473892e-02 7.57399809e-01 1.29888514e-01 8.80642877e-02]\n",
      " [4.61974323e-03 6.87599531e-03 1.17259120e-01 8.71245141e-01\n",
      "  6.80854149e-03 9.16577175e-03 8.26222096e-02 9.01403477e-01]\n",
      " [6.49989505e-03 1.84797385e-02 7.67373324e-01 2.07647042e-01\n",
      "  2.84907420e-02 3.07849954e-02 6.27823961e-01 3.12900301e-01]\n",
      " [1.31623146e-01 2.56742361e-01 2.64264419e-01 3.47370073e-01\n",
      "  1.79065986e-01 1.66918498e-01 2.51856749e-01 4.02158767e-01]\n",
      " [1.10887396e-02 1.13474258e-02 1.44937673e-02 9.63070067e-01\n",
      "  1.93202547e-02 7.26983450e-03 2.39473225e-02 9.49462588e-01]\n",
      " [1.32089932e-01 8.26005429e-01 3.04800737e-02 1.14245649e-02\n",
      "  4.03491149e-02 9.43291092e-01 1.32600722e-02 3.09972065e-03]\n",
      " [1.29281534e-02 5.95852767e-03 1.32011929e-01 8.49101390e-01\n",
      "  1.59401444e-02 4.54370251e-03 1.36324504e-01 8.43191649e-01]\n",
      " [9.91353764e-01 2.77343497e-03 8.53816171e-04 5.01898511e-03\n",
      "  9.93061240e-01 1.93849912e-03 1.18436556e-03 3.81589571e-03]\n",
      " [1.01516896e-01 8.14367843e-01 4.46704165e-02 3.94448453e-02\n",
      "  1.02381426e-01 7.52300277e-01 5.82924954e-02 8.70258012e-02]\n",
      " [7.95621707e-02 1.27329240e-01 7.36660106e-01 5.64484837e-02\n",
      "  3.64415399e-02 1.48198192e-02 9.39938972e-01 8.79966874e-03]\n",
      " [2.35708170e-02 5.97966354e-02 7.46604288e-02 8.41972119e-01\n",
      "  2.62761337e-02 7.62242473e-02 2.67597988e-01 6.29901632e-01]\n",
      " [8.56074371e-01 1.00172636e-01 2.06613294e-03 4.16868604e-02\n",
      "  8.12635461e-01 6.67941287e-02 9.01202225e-03 1.11558388e-01]\n",
      " [3.41858794e-03 7.90552103e-03 9.19585763e-01 6.90901279e-02\n",
      "  8.00201784e-03 7.00879284e-03 9.46612952e-01 3.83762375e-02]\n",
      " [8.73806710e-01 8.91686739e-02 2.58807837e-02 1.11438326e-02\n",
      "  8.62219165e-01 9.38041441e-02 2.67718603e-02 1.72048301e-02]\n",
      " [2.64107288e-03 1.78761436e-02 2.14532441e-01 7.64950343e-01\n",
      "  3.47081055e-03 1.66769832e-02 1.45947676e-01 8.33904531e-01]\n",
      " [7.18538076e-01 2.59433598e-01 1.19736156e-02 1.00547101e-02\n",
      "  6.25667552e-01 3.35906623e-01 1.43912439e-02 2.40345806e-02]\n",
      " [9.96057284e-01 1.17119886e-03 5.84164739e-04 2.18735277e-03\n",
      "  9.97062270e-01 1.74852472e-04 1.98144234e-03 7.81434968e-04]\n",
      " [3.72470039e-02 8.95584552e-01 1.94224799e-02 4.77459636e-02\n",
      "  8.34601821e-02 8.01201197e-01 3.52440582e-02 8.00945627e-02]\n",
      " [1.41826222e-02 2.60587605e-02 3.25179908e-01 6.34578710e-01\n",
      "  3.01709918e-02 4.17373742e-02 4.21712417e-01 5.06379217e-01]\n",
      " [9.71168700e-01 6.83450420e-03 8.92319406e-03 1.30736015e-02\n",
      "  9.69893618e-01 1.29219534e-03 7.28940870e-03 2.15247778e-02]\n",
      " [2.18110431e-02 3.22350453e-03 5.63300091e-02 9.18635443e-01\n",
      "  2.97688803e-02 2.19293582e-03 1.91275672e-02 9.48910617e-01]\n",
      " [8.28736120e-01 7.98629233e-02 8.83492823e-02 3.05167429e-03\n",
      "  8.15936029e-01 6.99240348e-02 1.07979482e-01 6.16045425e-03]\n",
      " [6.29907468e-01 5.37416854e-02 2.88982595e-01 2.73682515e-02\n",
      "  5.61376405e-01 2.40800719e-02 3.97086400e-01 1.74571239e-02]\n",
      " [7.83345907e-01 1.71793217e-02 5.04084012e-02 1.49066370e-01\n",
      "  7.66218078e-01 1.02627376e-02 7.29373079e-02 1.50581876e-01]\n",
      " [1.74852394e-02 1.28912194e-01 6.98107272e-01 1.55495294e-01\n",
      "  4.14998827e-02 5.86988053e-02 7.44191286e-01 1.55610026e-01]\n",
      " [1.33291589e-02 2.68921189e-03 1.28341618e-02 9.71147467e-01\n",
      "  1.49690901e-02 1.98246317e-03 1.79289186e-02 9.65119528e-01]\n",
      " [1.47524027e-02 4.88005651e-02 8.75849364e-01 6.05976687e-02\n",
      "  3.12813121e-02 7.17770508e-02 7.57926070e-01 1.39015568e-01]\n",
      " [3.27713595e-03 8.69423133e-01 1.20245350e-01 7.05438014e-03\n",
      "  7.38910406e-03 6.24781392e-01 3.53120077e-01 1.47094269e-02]\n",
      " [8.05523989e-02 2.54575621e-02 1.70979726e-02 8.76892066e-01\n",
      "  8.49591063e-02 1.88521957e-02 1.57239036e-02 8.80464794e-01]\n",
      " [9.22264758e-03 3.70098133e-02 7.89045147e-01 1.64722392e-01\n",
      "  6.71478282e-03 1.52947868e-02 9.14987123e-01 6.30033073e-02]\n",
      " [9.79000875e-01 9.15851061e-03 4.87897940e-03 6.96163469e-03\n",
      "  9.82476717e-01 5.90026729e-03 7.94660488e-03 3.67641037e-03]\n",
      " [5.49086908e-03 1.44689018e-02 9.37113636e-01 4.29265932e-02\n",
      "  1.22505585e-02 1.50419944e-02 9.40456896e-01 3.22505508e-02]\n",
      " [6.95139404e-01 4.09662583e-02 8.36131902e-03 2.55533018e-01\n",
      "  5.84308022e-01 1.18102747e-02 6.71394310e-03 3.97167761e-01]\n",
      " [1.06164211e-02 3.32345899e-02 9.42871320e-01 1.32776690e-02\n",
      "  1.98892258e-02 5.29172069e-02 8.56376195e-01 7.08173721e-02]\n",
      " [6.66127315e-01 8.33355816e-03 2.49326310e-01 7.62128170e-02\n",
      "  6.09264331e-01 5.09271218e-03 3.55032222e-01 3.06107353e-02]\n",
      " [1.85453427e-03 3.75780306e-02 8.43019277e-01 1.17548158e-01\n",
      "  3.48534942e-03 2.48098118e-02 7.67183620e-01 2.04521219e-01]\n",
      " [3.89233583e-03 7.84294354e-01 1.85078452e-01 2.67348576e-02\n",
      "  9.60191531e-03 7.31367705e-01 2.14772979e-01 4.42574014e-02]\n",
      " [5.76827587e-03 9.75489193e-01 1.95282549e-03 1.67897054e-02\n",
      "  4.36721994e-03 9.86843248e-01 1.38974544e-03 7.39978703e-03]\n",
      " [4.77060715e-01 4.05186304e-01 1.12924915e-01 4.82806518e-03\n",
      "  3.19182452e-01 5.48846928e-01 1.24748024e-01 7.22259556e-03]\n",
      " [4.06491606e-01 1.10448429e-01 3.22979637e-01 1.60080328e-01\n",
      "  4.07234299e-01 8.56371116e-02 3.06551951e-01 2.00576638e-01]\n",
      " [5.97057275e-03 6.80996231e-01 8.54973005e-02 2.27535896e-01\n",
      "  1.04919737e-02 6.70702323e-01 1.37621457e-01 1.81184247e-01]\n",
      " [8.62295484e-01 2.86191834e-02 8.67413034e-02 2.23440291e-02\n",
      "  8.84338957e-01 1.83803002e-02 8.61533506e-02 1.11273922e-02]\n",
      " [3.58312037e-01 3.19782591e-02 2.31031630e-01 3.78678074e-01\n",
      "  4.23252182e-01 1.80475881e-02 3.37569567e-01 2.21130663e-01]\n",
      " [5.94642202e-03 2.49963718e-02 1.79550611e-02 9.51102145e-01\n",
      "  6.04878735e-03 3.71814915e-02 1.58240977e-02 9.40945623e-01]\n",
      " [9.80774375e-01 2.47036121e-03 7.91394000e-03 8.84132428e-03\n",
      "  9.77076510e-01 7.67892225e-04 1.29612665e-02 9.19433101e-03]\n",
      " [2.70835746e-01 5.50649176e-02 3.57709839e-01 3.16389497e-01\n",
      "  2.28608341e-01 4.21328629e-02 4.03331594e-01 3.25927202e-01]\n",
      " [7.97978579e-02 7.07958061e-01 1.86182745e-01 2.60613366e-02\n",
      "  5.64068492e-02 7.65788031e-01 1.40617277e-01 3.71878429e-02]\n",
      " [2.24949660e-02 2.58600836e-01 7.17433836e-01 1.47036208e-03\n",
      "  2.57235776e-02 1.87413824e-01 7.84694148e-01 2.16845079e-03]\n",
      " [5.40942188e-01 3.53453685e-01 9.92413207e-02 6.36280606e-03\n",
      "  4.85224512e-01 4.25616223e-01 7.89134561e-02 1.02458085e-02]\n",
      " [2.27452159e-02 2.32975192e-02 1.85300908e-02 9.35427174e-01\n",
      "  4.52157212e-02 2.87161260e-02 4.64092290e-02 8.79658924e-01]\n",
      " [5.16771629e-03 4.17726934e-02 6.91739578e-03 9.46142195e-01\n",
      "  2.22317055e-02 1.15207164e-01 1.82037653e-02 8.44357365e-01]\n",
      " [3.31360019e-01 1.26914414e-02 3.17319018e-01 3.38629522e-01\n",
      "  3.82948594e-01 1.24112570e-02 4.54665067e-01 1.49975082e-01]\n",
      " [2.45022298e-01 2.18399140e-01 5.09450018e-01 2.71285440e-02\n",
      "  3.20653835e-01 1.59001883e-01 4.81090639e-01 3.92536431e-02]\n",
      " [8.95665793e-01 4.53290829e-02 1.12054532e-02 4.77996707e-02\n",
      "  9.57429934e-01 2.04228205e-02 1.55398188e-02 6.60742687e-03]\n",
      " [3.83506878e-01 3.94694747e-01 2.04174119e-01 1.76242560e-02\n",
      "  3.88718355e-01 3.90845045e-01 1.90712903e-01 2.97236974e-02]\n",
      " [3.62782487e-02 1.04331644e-01 8.52792802e-01 6.59730528e-03\n",
      "  7.36633556e-02 1.06467175e-01 8.07161599e-01 1.27078702e-02]\n",
      " [9.68507294e-02 2.72267000e-02 8.48029010e-01 2.78935611e-02\n",
      "  1.56519449e-01 2.24784904e-02 7.82186715e-01 3.88153457e-02]\n",
      " [9.95247975e-01 5.60877814e-04 3.79400506e-04 3.81174665e-03\n",
      "  9.91397143e-01 1.74239929e-04 1.28289023e-03 7.14572710e-03]\n",
      " [3.58010590e-03 6.24455922e-01 8.21969756e-02 2.89766997e-01\n",
      "  4.70850823e-03 6.99545317e-01 6.29544595e-02 2.32791715e-01]\n",
      " [4.84648666e-02 2.46094685e-02 9.10791632e-01 1.61340333e-02\n",
      "  3.64499339e-02 2.12234343e-02 9.22839150e-01 1.94874817e-02]\n",
      " [1.89347259e-02 8.91343752e-01 6.32756524e-02 2.64458693e-02\n",
      "  4.79196974e-02 5.62169273e-01 3.45446380e-01 4.44646493e-02]\n",
      " [9.14074074e-01 1.78325319e-02 4.33965901e-02 2.46968044e-02\n",
      "  9.61356861e-01 5.06550600e-03 2.73992165e-02 6.17841627e-03]\n",
      " [4.47978215e-01 1.48469062e-02 3.38152659e-01 1.99022220e-01\n",
      "  4.93459075e-01 1.20568529e-02 4.44802633e-01 4.96814388e-02]\n",
      " [2.04865476e-01 9.00279099e-02 6.22858804e-01 8.22478103e-02\n",
      "  3.31628838e-01 9.99283907e-02 4.42698376e-01 1.25744395e-01]\n",
      " [3.74396776e-03 9.90601174e-01 1.18784484e-03 4.46701324e-03\n",
      "  8.62236316e-04 9.92050265e-01 1.23971112e-03 5.84778767e-03]\n",
      " [4.61777717e-02 3.79035311e-02 3.35792508e-01 5.80126189e-01\n",
      "  4.91450651e-02 2.71164841e-02 9.69374163e-02 8.26801035e-01]\n",
      " [4.06806897e-02 4.21979086e-02 3.85064760e-01 5.32056642e-01\n",
      "  8.78942030e-02 2.43032231e-02 6.92706390e-01 1.95096184e-01]\n",
      " [1.06756515e-01 3.61847673e-02 8.27351366e-01 2.97073511e-02\n",
      "  1.78217962e-01 4.19249295e-02 7.40917267e-01 3.89398417e-02]\n",
      " [1.38256812e-02 1.22296381e-01 8.11897634e-01 5.19803034e-02\n",
      "  1.42550969e-02 5.59922650e-02 8.75879752e-01 5.38728865e-02]\n",
      " [4.08636523e-01 2.46520642e-02 1.75952709e-01 3.90758704e-01\n",
      "  4.88625702e-01 4.40761907e-02 1.96004167e-01 2.71293940e-01]\n",
      " [1.18246482e-01 6.73449853e-01 1.86767771e-01 2.15358942e-02\n",
      "  2.55191484e-01 4.21507569e-01 2.90097143e-01 3.32038047e-02]\n",
      " [5.56627831e-03 2.03290277e-02 4.13618223e-01 5.60486471e-01\n",
      "  9.73781466e-03 1.96757699e-02 2.85397574e-01 6.85188841e-01]\n",
      " [4.79702056e-02 2.40100295e-02 2.09597951e-01 7.18421814e-01\n",
      "  6.59906405e-02 1.88196495e-02 1.96900537e-01 7.18289173e-01]\n",
      " [9.94469498e-01 4.90799597e-04 9.43026266e-05 4.94539962e-03\n",
      "  9.95332812e-01 9.92764544e-05 1.84037184e-04 4.38387387e-03]\n",
      " [3.61476247e-03 1.08977837e-03 4.91638659e-04 9.94803820e-01\n",
      "  3.80797282e-03 4.25136372e-04 7.33442838e-04 9.95033448e-01]\n",
      " [2.19108596e-03 7.16641888e-03 9.76589829e-01 1.40526666e-02\n",
      "  3.04673795e-07 3.63226968e-07 9.99941701e-01 5.76313557e-05]\n",
      " [1.36840010e-01 2.03299369e-02 2.70655132e-01 5.72174922e-01\n",
      "  7.92721855e-02 5.59207415e-03 5.57482464e-01 3.57653277e-01]\n",
      " [9.83969385e-01 1.68753966e-03 3.51034211e-03 1.08327332e-02\n",
      "  9.87637397e-01 5.60427368e-04 6.17402512e-03 5.62815036e-03]\n",
      " [2.52709146e-02 1.63130833e-02 1.59615323e-01 7.98800679e-01\n",
      "  5.35007540e-02 1.16187078e-02 1.30133434e-01 8.04747104e-01]\n",
      " [2.11638070e-01 1.28122108e-02 4.79957835e-01 2.95591884e-01\n",
      "  4.11851321e-01 1.12182944e-02 4.31932128e-01 1.44998257e-01]\n",
      " [5.23028193e-02 1.52379984e-02 9.25990137e-01 6.46904479e-03\n",
      "  6.44531716e-02 2.12121098e-02 9.09449423e-01 4.88529547e-03]\n",
      " [7.75541693e-02 1.18407973e-01 7.79451397e-01 2.45864606e-02\n",
      "  8.62301809e-02 9.31852050e-02 7.95702952e-01 2.48816622e-02]\n",
      " [6.09811390e-03 9.81102784e-01 2.18198578e-03 1.06171163e-02\n",
      "  4.98480103e-03 9.60428315e-01 1.46840325e-02 1.99028516e-02]\n",
      " [5.65889064e-03 6.25644411e-02 8.87375120e-01 4.44015486e-02\n",
      "  1.14584769e-02 8.20847888e-02 8.47748129e-01 5.87086053e-02]\n",
      " [8.61459320e-01 4.47255237e-02 8.39123000e-02 9.90285667e-03\n",
      "  7.72228559e-01 3.84272923e-02 1.81591178e-01 7.75297024e-03]\n",
      " [8.98169725e-01 5.81667097e-02 9.03080442e-03 3.46327605e-02\n",
      "  9.15323189e-01 3.78983123e-02 1.13183003e-02 3.54601988e-02]\n",
      " [2.75698723e-02 9.64224266e-03 8.96000297e-01 6.67875881e-02\n",
      "  7.82864596e-02 1.10167767e-02 8.47698234e-01 6.29985294e-02]] [[14.29910209 12.74364721 11.97993025 ...  9.14596204 11.14949628\n",
      "  11.70163727]\n",
      " [14.78117623 13.27824321 12.6755111  ...  8.61854692 10.13650467\n",
      "  11.46498402]\n",
      " [14.32397651 13.24045726 13.72084196 ...  9.01451418 10.37500593\n",
      "  10.8596103 ]\n",
      " ...\n",
      " [13.7626806  12.78302216 12.00731228 ... 10.04299411 11.33690337\n",
      "  11.12053516]\n",
      " [14.63807279 14.37693542 13.30610055 ... 10.15790519 10.44288868\n",
      "  11.10802899]\n",
      " [13.88941035 12.82896777 13.09099777 ...  9.70178359 10.11547532\n",
      "  11.40123838]]\n",
      "stacked\n",
      "cv\n",
      "stacked\n",
      "cv\n",
      "stacked\n",
      "cv\n",
      "stacked\n",
      "cv\n",
      "stacked\n",
      "cv\n",
      "stacked\n",
      "cv\n",
      "stacked\n",
      "cv\n",
      "stacked\n",
      "cv\n",
      "stacked\n",
      "cv\n",
      "stacked\n",
      "cv\n",
      "stacked\n",
      "cv\n",
      "stacked\n",
      "cv\n",
      "stacked\n",
      "cv\n",
      "stacked\n",
      "cv\n",
      "stacked\n",
      "cv\n",
      "stacked\n",
      "cv\n",
      "stacked\n",
      "cv\n",
      "stacked\n",
      "cv\n",
      "stacked\n",
      "cv\n",
      "stacked\n",
      "cv\n",
      "stacked\n",
      "cv\n",
      "stacked\n",
      "cv\n",
      "stacked\n",
      "cv\n",
      "stacked\n",
      "cv\n",
      "stacked\n",
      "cv\n",
      "stacked\n",
      "cv\n",
      "stacked\n",
      "cv\n",
      "stacked\n",
      "cv\n",
      "stacked\n",
      "cv\n",
      "stacked\n",
      "cv\n",
      "stacked\n",
      "cv\n",
      "stacked\n",
      "cv\n",
      "stacked\n",
      "cv\n",
      "stacked\n",
      "cv\n",
      "stacked\n",
      "cv\n",
      "stacked\n",
      "cv\n",
      "stacked\n",
      "cv\n",
      "stacked\n",
      "cv\n",
      "stacked\n",
      "cv\n",
      "stacked\n",
      "cv\n",
      "stacked\n",
      "cv\n",
      "stacked\n",
      "cv\n",
      "stacked\n",
      "cv\n",
      "stacked\n",
      "cv\n",
      "stacked\n",
      "cv\n",
      "stacked\n",
      "cv\n",
      "stacked\n",
      "cv\n",
      "stacked\n",
      "cv\n",
      "stacked\n",
      "cv\n",
      "stacked\n",
      "cv\n",
      "stacked\n",
      "cv\n",
      "stacked\n",
      "cv\n",
      "stacked\n",
      "cv\n",
      "stacked\n",
      "cv\n",
      "stacked\n",
      "cv\n",
      "stacked\n",
      "cv\n",
      "stacked\n",
      "cv\n",
      "stacked\n",
      "cv\n",
      "stacked\n",
      "cv\n",
      "stacked\n",
      "cv\n",
      "stacked\n",
      "cv\n",
      "stacked\n",
      "cv\n",
      "stacked\n",
      "cv\n",
      "stacked\n",
      "cv\n",
      "stacked\n",
      "cv\n",
      "stacked\n",
      "cv\n",
      "stacked\n",
      "cv\n",
      "stacked\n",
      "cv\n",
      "stacked\n",
      "cv\n",
      "stacked\n",
      "cv\n",
      "stacked\n",
      "cv\n",
      "stacked\n",
      "cv\n",
      "stacked\n",
      "cv\n",
      "stacked\n",
      "cv\n",
      "stacked\n",
      "cv\n",
      "stacked\n",
      "cv\n",
      "stacked\n",
      "cv\n",
      "stacked\n",
      "cv\n",
      "stacked\n",
      "cv\n",
      "stacked\n",
      "cv\n",
      "stacked\n",
      "cv\n",
      "stacked\n",
      "cv\n",
      "stacked\n",
      "cv\n",
      "stacked\n",
      "cv\n",
      "stacked\n",
      "cv\n",
      "stacked\n",
      "cv\n",
      "stacked\n",
      "cv\n",
      "stacked\n",
      "cv\n",
      "stacked\n",
      "cv\n",
      "stacked\n",
      "cv\n",
      "stacked\n",
      "cv\n",
      "stacked\n",
      "cv\n",
      "stacked\n",
      "cv\n",
      "stacked\n",
      "cv\n",
      "stacked\n",
      "cv\n",
      "stacked\n",
      "cv\n",
      "\n",
      "model score of oof results for SVC3\n",
      "Model Accuracy: 0.8854166666666666\n",
      "Precision: 0.891441968525302\n",
      "Recall (Sensitivity): 0.8854166666666666\n",
      "F1 Score: 0.8857571122577969\n",
      "Matthews Correlation Coefficient (MCC): 0.847046869768925\n",
      "G-Measure: 0.9229308733968031\n",
      "AUC: 0.9862170894686301\n",
      "Specificity: 0.9613969803670508\n",
      "Jaccard Index: 0.7977251412244541\n",
      "Created directory: /work/wanlab/nick/stackeval5/val_data/stacked/SVC3\n",
      "Saving metrics to: /work/wanlab/nick/stackeval5/val_data/stacked/SVC3/limma(5),metrics.csv\n",
      "PREDICTIONS                   subtype  Squamous      ADEX  Pancreatic Progenitor  \\\n",
      "0                Squamous  0.753944  0.222502               0.015031   \n",
      "1                Squamous  0.977525  0.002675               0.010287   \n",
      "2   Pancreatic Progenitor  0.029754  0.010806               0.901171   \n",
      "3                    ADEX  0.271711  0.582287               0.126131   \n",
      "4             Immunogenic  0.024198  0.014588               0.124494   \n",
      "..                    ...       ...       ...                    ...   \n",
      "91               Squamous  0.625351  0.065100               0.279155   \n",
      "92               Squamous  0.286381  0.056567               0.341792   \n",
      "93                   ADEX  0.002024  0.993673               0.000835   \n",
      "94  Pancreatic Progenitor  0.004077  0.014865               0.962799   \n",
      "95            Immunogenic  0.002896  0.001012               0.001059   \n",
      "\n",
      "    Immunogenic  \n",
      "0      0.008523  \n",
      "1      0.009513  \n",
      "2      0.058268  \n",
      "3      0.019872  \n",
      "4      0.836720  \n",
      "..          ...  \n",
      "91     0.030394  \n",
      "92     0.315261  \n",
      "93     0.003468  \n",
      "94     0.018259  \n",
      "95     0.995033  \n",
      "\n",
      "[96 rows x 5 columns]\n",
      "\n",
      "model score of oof results for SVC4\n",
      "Model Accuracy: 0.9166666666666666\n",
      "Precision: 0.9175981380455408\n",
      "Recall (Sensitivity): 0.9166666666666666\n",
      "F1 Score: 0.9167167239474031\n",
      "Matthews Correlation Coefficient (MCC): 0.8875514181715627\n",
      "G-Measure: 0.9442774898347915\n",
      "AUC: 0.98649723467065\n",
      "Specificity: 0.9718229833546735\n",
      "Jaccard Index: 0.8453120953120953\n",
      "Created directory: /work/wanlab/nick/stackeval5/val_data/stacked/SVC4\n",
      "Saving metrics to: /work/wanlab/nick/stackeval5/val_data/stacked/SVC4/limma(5),metrics.csv\n",
      "PREDICTIONS                   subtype  Squamous      ADEX  Pancreatic Progenitor  \\\n",
      "0                Squamous  0.579814  0.378094               0.015350   \n",
      "1                Squamous  0.982737  0.001207               0.010743   \n",
      "2   Pancreatic Progenitor  0.065258  0.009140               0.860460   \n",
      "3                    ADEX  0.116577  0.795944               0.070813   \n",
      "4             Immunogenic  0.053805  0.013881               0.116892   \n",
      "..                    ...       ...       ...                    ...   \n",
      "91               Squamous  0.597361  0.028409               0.355947   \n",
      "92               Squamous  0.212928  0.038914               0.386383   \n",
      "93                   ADEX  0.001180  0.992602               0.001175   \n",
      "94  Pancreatic Progenitor  0.015627  0.018152               0.927000   \n",
      "95            Immunogenic  0.004171  0.000353               0.001135   \n",
      "\n",
      "    Immunogenic  \n",
      "0      0.026743  \n",
      "1      0.005313  \n",
      "2      0.065141  \n",
      "3      0.016666  \n",
      "4      0.815422  \n",
      "..          ...  \n",
      "91     0.018283  \n",
      "92     0.361775  \n",
      "93     0.005042  \n",
      "94     0.039221  \n",
      "95     0.994340  \n",
      "\n",
      "[96 rows x 5 columns]\n",
      "Random state: 6\n",
      "['SVC', 'SVC2']\n",
      "individual models\n",
      "cv\n",
      "individual models\n",
      "cv\n",
      "individual models\n",
      "cv\n",
      "individual models\n",
      "cv\n",
      "individual models\n",
      "cv\n",
      "individual models\n",
      "cv\n",
      "individual models\n",
      "cv\n",
      "individual models\n",
      "cv\n",
      "individual models\n",
      "cv\n",
      "individual models\n",
      "cv\n",
      "individual models\n",
      "cv\n",
      "individual models\n",
      "cv\n",
      "individual models\n",
      "cv\n",
      "individual models\n",
      "cv\n",
      "individual models\n",
      "cv\n",
      "individual models\n",
      "cv\n",
      "individual models\n",
      "cv\n",
      "individual models\n",
      "cv\n",
      "individual models\n",
      "cv\n",
      "individual models\n",
      "cv\n",
      "individual models\n",
      "cv\n",
      "individual models\n",
      "cv\n",
      "individual models\n",
      "cv\n",
      "individual models\n",
      "cv\n",
      "individual models\n",
      "cv\n",
      "individual models\n",
      "cv\n",
      "individual models\n",
      "cv\n",
      "individual models\n",
      "cv\n",
      "individual models\n",
      "cv\n",
      "individual models\n",
      "cv\n",
      "individual models\n",
      "cv\n",
      "individual models\n",
      "cv\n",
      "individual models\n",
      "cv\n",
      "individual models\n",
      "cv\n",
      "individual models\n",
      "cv\n",
      "individual models\n",
      "cv\n",
      "individual models\n",
      "cv\n",
      "individual models\n",
      "cv\n",
      "individual models\n",
      "cv\n",
      "individual models\n",
      "cv\n",
      "individual models\n",
      "cv\n",
      "individual models\n",
      "cv\n",
      "individual models\n",
      "cv\n",
      "individual models\n",
      "cv\n",
      "individual models\n",
      "cv\n",
      "individual models\n",
      "cv\n",
      "individual models\n",
      "cv\n",
      "individual models\n",
      "cv\n",
      "individual models\n",
      "cv\n",
      "individual models\n",
      "cv\n",
      "individual models\n",
      "cv\n",
      "individual models\n",
      "cv\n",
      "individual models\n",
      "cv\n",
      "individual models\n",
      "cv\n",
      "individual models\n",
      "cv\n",
      "individual models\n",
      "cv\n",
      "individual models\n",
      "cv\n",
      "individual models\n",
      "cv\n",
      "individual models\n",
      "cv\n",
      "individual models\n",
      "cv\n",
      "individual models\n",
      "cv\n",
      "individual models\n",
      "cv\n",
      "individual models\n",
      "cv\n",
      "individual models\n",
      "cv\n",
      "individual models\n",
      "cv\n",
      "individual models\n",
      "cv\n",
      "individual models\n",
      "cv\n",
      "individual models\n",
      "cv\n",
      "individual models\n",
      "cv\n",
      "individual models\n",
      "cv\n",
      "individual models\n",
      "cv\n",
      "individual models\n",
      "cv\n",
      "individual models\n",
      "cv\n",
      "individual models\n",
      "cv\n",
      "individual models\n",
      "cv\n",
      "individual models\n",
      "cv\n",
      "individual models\n",
      "cv\n",
      "individual models\n",
      "cv\n",
      "individual models\n",
      "cv\n",
      "individual models\n",
      "cv\n",
      "individual models\n",
      "cv\n",
      "individual models\n",
      "cv\n",
      "individual models\n",
      "cv\n",
      "individual models\n",
      "cv\n",
      "individual models\n",
      "cv\n",
      "individual models\n",
      "cv\n",
      "individual models\n",
      "cv\n",
      "individual models\n",
      "cv\n",
      "individual models\n",
      "cv\n",
      "individual models\n",
      "cv\n",
      "individual models\n",
      "cv\n",
      "individual models\n",
      "cv\n",
      "individual models\n",
      "cv\n",
      "individual models\n",
      "cv\n",
      "individual models\n",
      "cv\n",
      "individual models\n",
      "cv\n",
      "\n",
      "model score of oof results for SVC\n",
      "Model Accuracy: 0.8854166666666666\n",
      "Precision: 0.891441968525302\n",
      "Recall (Sensitivity): 0.8854166666666666\n",
      "F1 Score: 0.8857571122577969\n",
      "Matthews Correlation Coefficient (MCC): 0.847046869768925\n",
      "G-Measure: 0.9229308733968031\n",
      "AUC: 0.9873107727806231\n",
      "Specificity: 0.9613969803670508\n",
      "Jaccard Index: 0.7977251412244541\n",
      "Created directory: /work/wanlab/nick/stackeval6/val_data/individual models/SVC\n",
      "Saving metrics to: /work/wanlab/nick/stackeval6/val_data/individual models/SVC/limma(6),metrics.csv\n",
      "PREDICTIONS                   subtype  Squamous      ADEX  Pancreatic Progenitor  \\\n",
      "0                Squamous  0.850267  0.051477               0.087336   \n",
      "1   Pancreatic Progenitor  0.002804  0.006131               0.945117   \n",
      "2                Squamous  0.982900  0.002014               0.005084   \n",
      "3                    ADEX  0.550975  0.342943               0.101346   \n",
      "4             Immunogenic  0.119137  0.252398               0.242644   \n",
      "..                    ...       ...       ...                    ...   \n",
      "91  Pancreatic Progenitor  0.032567  0.008556               0.908601   \n",
      "92                   ADEX  0.007675  0.976808               0.002661   \n",
      "93               Squamous  0.386323  0.021733               0.188919   \n",
      "94               Squamous  0.324233  0.027224               0.243953   \n",
      "95                   ADEX  0.139564  0.816841               0.029214   \n",
      "\n",
      "    Immunogenic  \n",
      "0      0.010920  \n",
      "1      0.045947  \n",
      "2      0.010003  \n",
      "3      0.004736  \n",
      "4      0.385822  \n",
      "..          ...  \n",
      "91     0.050277  \n",
      "92     0.012856  \n",
      "93     0.403026  \n",
      "94     0.404590  \n",
      "95     0.014381  \n",
      "\n",
      "[96 rows x 5 columns]\n",
      "\n",
      "model score of oof results for SVC2\n",
      "Model Accuracy: 0.9270833333333334\n",
      "Precision: 0.9282457295657727\n",
      "Recall (Sensitivity): 0.9270833333333334\n",
      "F1 Score: 0.927124353652804\n",
      "Matthews Correlation Coefficient (MCC): 0.9017909960019698\n",
      "G-Measure: 0.9519085598926197\n",
      "AUC: 0.9854146660264617\n",
      "Specificity: 0.9752147353819889\n",
      "Jaccard Index: 0.8669652957336781\n",
      "Created directory: /work/wanlab/nick/stackeval6/val_data/individual models/SVC2\n",
      "Saving metrics to: /work/wanlab/nick/stackeval6/val_data/individual models/SVC2/limma(6),metrics.csv\n",
      "PREDICTIONS                   subtype  Squamous      ADEX  Pancreatic Progenitor  \\\n",
      "0                Squamous  0.745120  0.033882               0.212906   \n",
      "1   Pancreatic Progenitor  0.009840  0.009935               0.911041   \n",
      "2                Squamous  0.989447  0.001234               0.005122   \n",
      "3                    ADEX  0.476411  0.433320               0.079461   \n",
      "4             Immunogenic  0.182193  0.174259               0.227548   \n",
      "..                    ...       ...       ...                    ...   \n",
      "91  Pancreatic Progenitor  0.057904  0.009187               0.892703   \n",
      "92                   ADEX  0.004354  0.962718               0.015110   \n",
      "93               Squamous  0.506045  0.048249               0.186691   \n",
      "94               Squamous  0.404654  0.019520               0.342127   \n",
      "95                   ADEX  0.047195  0.930564               0.019484   \n",
      "\n",
      "    Immunogenic  \n",
      "0      0.008092  \n",
      "1      0.069184  \n",
      "2      0.004198  \n",
      "3      0.010808  \n",
      "4      0.416000  \n",
      "..          ...  \n",
      "91     0.040206  \n",
      "92     0.017818  \n",
      "93     0.259015  \n",
      "94     0.233699  \n",
      "95     0.002757  \n",
      "\n",
      "[96 rows x 5 columns]\n",
      "运行时间为: 23.34 秒\n",
      "combining [[8.50266601e-01 5.14771993e-02 8.73363905e-02 1.09198095e-02\n",
      "  7.45120225e-01 3.38817851e-02 2.12905504e-01 8.09248588e-03]\n",
      " [2.80393437e-03 6.13120049e-03 9.45117391e-01 4.59474738e-02\n",
      "  9.84038730e-03 9.93496042e-03 9.11040510e-01 6.91841426e-02]\n",
      " [9.82900017e-01 2.01352719e-03 5.08389138e-03 1.00025643e-02\n",
      "  9.89446557e-01 1.23353514e-03 5.12173577e-03 4.19817165e-03]\n",
      " [5.50974679e-01 3.42942826e-01 1.01346207e-01 4.73628924e-03\n",
      "  4.76410749e-01 4.33319874e-01 7.94609131e-02 1.08084633e-02]\n",
      " [1.19136559e-01 2.52397869e-01 2.42643723e-01 3.85821849e-01\n",
      "  1.82192868e-01 1.74258801e-01 2.27547878e-01 4.16000453e-01]\n",
      " [4.48306318e-02 1.18643134e-02 9.36997329e-01 6.30772561e-03\n",
      "  4.83651841e-02 1.44696853e-02 9.33394629e-01 3.77050161e-03]\n",
      " [9.78940650e-01 2.43530733e-03 9.14638597e-03 9.47765634e-03\n",
      "  9.82375252e-01 1.15939384e-03 9.88748376e-03 6.57786997e-03]\n",
      " [4.34562001e-01 1.63383236e-02 3.35868755e-01 2.13230921e-01\n",
      "  5.02549301e-01 1.23830835e-02 4.29414118e-01 5.56534976e-02]\n",
      " [2.24977811e-02 6.13581871e-02 6.08465954e-02 8.55297436e-01\n",
      "  2.98442744e-02 7.14088043e-02 2.86927707e-01 6.11819215e-01]\n",
      " [3.42136339e-02 7.07940337e-02 8.89941994e-01 5.05033881e-03\n",
      "  4.80182389e-02 7.26558340e-02 8.72440033e-01 6.88589404e-03]\n",
      " [2.28101123e-01 1.51519888e-02 4.52976296e-01 3.03770592e-01\n",
      "  3.93389129e-01 1.14734861e-02 4.36537903e-01 1.58599482e-01]\n",
      " [2.78091658e-02 2.39842811e-02 2.23394643e-02 9.25867089e-01\n",
      "  4.50872327e-02 3.58779109e-02 4.09216613e-02 8.78113195e-01]\n",
      " [1.10684457e-02 9.39685659e-03 1.17970772e-02 9.67737621e-01\n",
      "  1.52743554e-02 7.91261763e-03 2.33167784e-02 9.53496249e-01]\n",
      " [1.11784043e-01 3.22561006e-02 8.25519734e-01 3.04401224e-02\n",
      "  1.64449184e-01 2.67375696e-02 7.68664185e-01 4.01490609e-02]\n",
      " [1.23218698e-01 7.02418852e-01 1.52406312e-01 2.19561367e-02\n",
      "  2.79519994e-01 4.53440400e-01 2.31210226e-01 3.58293795e-02]\n",
      " [8.37221841e-03 6.74302403e-01 7.09262186e-02 2.46399160e-01\n",
      "  1.24520807e-02 6.90967329e-01 1.05355712e-01 1.91224878e-01]\n",
      " [3.81094927e-03 9.79379642e-01 1.71201065e-03 1.50973980e-02\n",
      "  3.82435314e-03 9.83425388e-01 1.70018726e-03 1.10500717e-02]\n",
      " [6.37043595e-03 1.76979567e-02 9.23613938e-01 5.23176695e-02\n",
      "  1.04016276e-02 1.60780647e-02 9.56671525e-01 1.68487830e-02]\n",
      " [9.94172114e-01 5.03714785e-04 1.53543547e-04 5.17062732e-03\n",
      "  9.94713923e-01 1.30497195e-04 1.48545884e-04 5.00703383e-03]\n",
      " [1.02416068e-01 1.52827734e-01 1.12587569e-01 6.32168629e-01\n",
      "  7.81507518e-02 1.11353457e-01 1.13865792e-01 6.96629999e-01]\n",
      " [1.85005455e-03 9.93502131e-01 8.81560306e-04 3.76625397e-03\n",
      "  9.69125334e-04 9.92617560e-01 1.09442112e-03 5.31889320e-03]\n",
      " [3.34497391e-03 2.41184531e-03 1.01184034e-03 9.93231340e-01\n",
      "  3.15997195e-03 1.41966633e-03 9.30107791e-04 9.94490254e-01]\n",
      " [6.34643814e-02 1.02876980e-01 8.08639056e-01 2.50195827e-02\n",
      "  1.02317039e-01 8.77573256e-02 7.83952356e-01 2.59732796e-02]\n",
      " [2.29024790e-03 1.56898127e-02 8.70006160e-01 1.12013779e-01\n",
      "  4.56153328e-03 2.84269912e-02 7.47961583e-01 2.19049892e-01]\n",
      " [5.01155949e-03 1.01506962e-01 8.17040046e-01 7.64414319e-02\n",
      "  7.37217064e-03 5.60051834e-02 8.68325322e-01 6.82973243e-02]\n",
      " [9.17555595e-01 4.56353478e-02 1.17148812e-02 2.50941761e-02\n",
      "  9.12879192e-01 4.04407403e-02 1.05991499e-02 3.60809181e-02]\n",
      " [2.98613954e-03 8.62720141e-04 4.08191799e-04 9.95742949e-01\n",
      "  5.00060935e-03 4.06851236e-04 9.78109896e-04 9.93614430e-01]\n",
      " [1.31292820e-02 2.29029497e-02 2.96469396e-01 6.67498372e-01\n",
      "  3.18043007e-02 4.11920376e-02 4.38831746e-01 4.88171916e-01]\n",
      " [2.25083265e-02 4.16510050e-03 2.99749572e-02 9.43351616e-01\n",
      "  2.79284189e-02 2.26815343e-03 2.74121551e-02 9.42391273e-01]\n",
      " [2.63729957e-02 8.73967042e-01 7.48925913e-02 2.47673708e-02\n",
      "  3.56267296e-02 5.91363559e-01 3.30725433e-01 4.22842784e-02]\n",
      " [9.73439330e-01 7.05048846e-03 8.51540724e-03 1.09947748e-02\n",
      "  9.61762507e-01 1.74295627e-03 1.15526067e-02 2.49419301e-02]\n",
      " [1.15723676e-02 3.34048028e-02 9.35309156e-01 1.97136738e-02\n",
      "  2.03575547e-02 5.78417897e-02 8.62095577e-01 5.97050782e-02]\n",
      " [1.81760227e-03 7.77625244e-03 9.77295595e-01 1.31105505e-02\n",
      "  2.78967105e-07 3.28806556e-07 9.99714616e-01 2.84776435e-04]\n",
      " [2.74582417e-03 1.07674343e-03 4.14263091e-04 9.95763169e-01\n",
      "  3.43566421e-03 1.77557198e-03 8.97811266e-04 9.93890953e-01]\n",
      " [9.24602721e-01 1.46854542e-02 3.74841540e-02 2.32276713e-02\n",
      "  9.58849469e-01 5.77087818e-03 2.84492622e-02 6.93039050e-03]\n",
      " [1.12741245e-02 6.81385238e-03 1.58065257e-01 8.23846767e-01\n",
      "  2.62510061e-02 5.23566279e-03 1.13585715e-01 8.54927616e-01]\n",
      " [1.96943722e-01 1.36787675e-02 4.03623464e-02 7.49015165e-01\n",
      "  1.26048284e-01 3.69162445e-03 4.15993712e-02 8.28660720e-01]\n",
      " [5.89000388e-03 7.64468585e-01 1.87590162e-01 4.20512490e-02\n",
      "  2.65704450e-02 7.85203075e-01 1.03089432e-01 8.51370483e-02]\n",
      " [1.18701445e-02 3.05022242e-02 7.78891628e-01 1.78736003e-01\n",
      "  6.51237500e-03 1.38241107e-02 9.12861379e-01 6.68021353e-02]\n",
      " [9.71979094e-01 1.28335185e-02 6.97999282e-03 8.20739463e-03\n",
      "  9.82193729e-01 6.93048208e-03 7.21592645e-03 3.65986250e-03]\n",
      " [8.40330750e-01 1.10761433e-01 2.85427147e-03 4.60535452e-02\n",
      "  8.30122458e-01 7.07313868e-02 7.96468596e-03 9.11814691e-02]\n",
      " [7.68119586e-01 2.10466316e-02 6.70619089e-02 1.43771873e-01\n",
      "  7.40974932e-01 9.39429593e-03 6.97822360e-02 1.79848536e-01]\n",
      " [8.82195759e-01 8.16355947e-02 2.70603536e-02 9.10829299e-03\n",
      "  8.63232287e-01 8.78943144e-02 3.26207682e-02 1.62526302e-02]\n",
      " [1.38544246e-02 2.78365993e-03 1.25382591e-02 9.70823656e-01\n",
      "  1.57236073e-02 2.05903343e-03 1.83250596e-02 9.63892300e-01]\n",
      " [2.20736984e-03 8.52618211e-01 1.38581814e-01 6.59260538e-03\n",
      "  7.82091117e-03 6.92415993e-01 2.84272085e-01 1.54910107e-02]\n",
      " [4.88765517e-03 5.77179772e-02 8.95279150e-01 4.21152174e-02\n",
      "  1.03262542e-02 7.48162560e-02 8.79237485e-01 3.56200046e-02]\n",
      " [3.99728766e-02 4.56818752e-02 3.50314668e-01 5.64030580e-01\n",
      "  4.56223721e-02 2.41536215e-02 6.76222249e-02 8.62601782e-01]\n",
      " [2.11122772e-01 6.68205556e-01 1.07519715e-01 1.31519568e-02\n",
      "  1.34467693e-01 7.73784812e-01 7.74210933e-02 1.43264014e-02]\n",
      " [8.89576499e-02 1.01346941e-02 8.37250423e-02 8.17182614e-01\n",
      "  1.47540406e-01 6.64225915e-03 1.74999760e-01 6.70817575e-01]\n",
      " [6.74339801e-01 9.76217027e-03 2.45886868e-01 7.00111608e-02\n",
      "  6.72512838e-01 4.40177305e-03 2.97894419e-01 2.51909697e-02]\n",
      " [4.17825347e-03 2.31158587e-02 3.76719389e-01 5.95986499e-01\n",
      "  8.96993801e-03 2.17724196e-02 2.56534797e-01 7.12722845e-01]\n",
      " [4.32667830e-02 8.80412014e-01 2.34707368e-02 5.28504660e-02\n",
      "  7.85113267e-02 8.15414389e-01 3.43251197e-02 7.17491645e-02]\n",
      " [4.25797255e-02 3.74156637e-02 3.95481046e-01 5.24523565e-01\n",
      "  8.17745871e-02 2.29926640e-02 6.99586342e-01 1.95646407e-01]\n",
      " [8.86568571e-02 2.61278543e-02 2.09443652e-02 8.64270923e-01\n",
      "  7.82415351e-02 1.63499209e-02 1.39532049e-02 8.91455339e-01]\n",
      " [8.27942210e-01 2.83075525e-02 1.24322633e-01 1.94276049e-02\n",
      "  8.95160492e-01 1.78181051e-02 7.50920990e-02 1.19293038e-02]\n",
      " [9.92624098e-01 2.24626998e-03 4.98029454e-04 4.63160284e-03\n",
      "  9.92430174e-01 2.04836251e-03 1.75501476e-03 3.76644889e-03]\n",
      " [8.84406500e-01 5.17448881e-02 1.36687803e-02 5.01798317e-02\n",
      "  9.63543287e-01 2.07677558e-02 9.17645800e-03 6.51249933e-03]\n",
      " [6.46092359e-01 5.84873069e-02 2.66764781e-01 2.86555530e-02\n",
      "  5.49327519e-01 2.47098280e-02 4.00768153e-01 2.51944994e-02]\n",
      " [5.74997923e-03 4.76206785e-02 9.96062215e-03 9.36668720e-01\n",
      "  1.97284057e-02 9.64913378e-02 1.56261252e-02 8.68154131e-01]\n",
      " [3.30509031e-03 5.50935384e-03 3.41336672e-02 9.57051889e-01\n",
      "  5.71750713e-03 6.98559985e-03 7.29165274e-02 9.14380366e-01]\n",
      " [1.33556561e-01 1.89428338e-02 2.57990487e-01 5.89510119e-01\n",
      "  7.82184010e-02 5.02413028e-03 5.79317055e-01 3.37440413e-01]\n",
      " [4.08028088e-01 1.02874289e-01 3.38311358e-01 1.50786265e-01\n",
      "  3.98133786e-01 8.64105144e-02 3.27378475e-01 1.88077224e-01]\n",
      " [2.60718842e-02 1.70170852e-02 1.16239583e-01 8.40671447e-01\n",
      "  5.47753695e-02 1.21058443e-02 1.16471814e-01 8.16646973e-01]\n",
      " [2.15593311e-02 3.30421428e-02 3.35372003e-01 6.10026523e-01\n",
      "  3.63960351e-02 2.96461830e-02 3.46350118e-01 5.87607664e-01]\n",
      " [8.89384779e-02 6.86243882e-01 1.95284028e-01 2.95336119e-02\n",
      "  5.19919585e-02 7.90033526e-01 1.21451208e-01 3.65233077e-02]\n",
      " [7.40658894e-01 2.36651218e-01 1.42704416e-02 8.41944665e-03\n",
      "  6.17453980e-01 3.46065410e-01 1.61862855e-02 2.02943251e-02]\n",
      " [1.22596236e-02 9.62855319e-02 7.57494629e-01 1.33960216e-01\n",
      "  3.58408442e-02 5.39085879e-02 7.48566530e-01 1.61684037e-01]\n",
      " [1.47828247e-02 1.08975855e-01 8.10177853e-01 6.60634669e-02\n",
      "  1.40411081e-02 4.92608742e-02 8.67345400e-01 6.93526174e-02]\n",
      " [2.58046541e-01 1.99528194e-01 5.10873446e-01 3.15518189e-02\n",
      "  3.35724707e-01 1.64705735e-01 4.60637194e-01 3.89323632e-02]\n",
      " [5.84114480e-03 6.48376610e-01 7.16783411e-02 2.74103905e-01\n",
      "  4.74070133e-03 7.09921892e-01 8.03177793e-02 2.05019628e-01]\n",
      " [4.92924859e-03 3.07615804e-02 2.11468413e-02 9.43162330e-01\n",
      "  5.28610446e-03 3.69583843e-02 2.13364984e-02 9.36419013e-01]\n",
      " [6.79354484e-01 3.98598457e-02 6.83852078e-03 2.73947149e-01\n",
      "  5.92509368e-01 1.09213419e-02 5.10386414e-03 3.91465426e-01]\n",
      " [8.32449854e-01 8.06373171e-02 8.35256356e-02 3.38719308e-03\n",
      "  8.26391695e-01 6.68538824e-02 1.00883780e-01 5.87064246e-03]\n",
      " [1.13200066e-02 6.72695737e-02 8.79554391e-01 4.18560283e-02\n",
      "  3.02162446e-02 7.45604373e-02 7.73526656e-01 1.21696662e-01]\n",
      " [4.08899742e-02 2.78584260e-02 9.09524137e-01 2.17274624e-02\n",
      "  4.54353249e-02 2.25830285e-02 9.18321969e-01 1.36596773e-02]\n",
      " [3.46969928e-01 1.39166874e-02 3.08468059e-01 3.30645326e-01\n",
      "  3.57753219e-01 1.20953087e-02 5.01394843e-01 1.28756629e-01]\n",
      " [2.84124402e-01 6.04138384e-02 3.55537846e-01 2.99923914e-01\n",
      "  2.11919491e-01 3.76322993e-02 4.01761498e-01 3.48686711e-01]\n",
      " [3.26854236e-02 9.88407193e-02 8.62834866e-01 5.63899149e-03\n",
      "  8.26911181e-02 8.68007530e-02 8.17375454e-01 1.31326748e-02]\n",
      " [4.65545184e-01 4.18965288e-01 1.10812660e-01 4.67686904e-03\n",
      "  2.99271308e-01 5.83870978e-01 1.08609425e-01 8.24829011e-03]\n",
      " [9.94870266e-01 1.43625257e-03 1.22274151e-03 2.47074041e-03\n",
      "  9.97257636e-01 1.19172072e-04 1.54182552e-03 1.08136672e-03]\n",
      " [9.96240975e-01 4.97083348e-04 1.01113874e-04 3.16082785e-03\n",
      "  9.95733228e-01 1.13928929e-04 1.69500051e-04 3.98334293e-03]\n",
      " [4.00181405e-01 3.80121316e-01 1.99900663e-01 1.97966164e-02\n",
      "  4.13001597e-01 3.72443785e-01 1.85377350e-01 2.91772681e-02]\n",
      " [6.35112259e-02 1.03363981e-01 7.90540623e-01 4.25841700e-02\n",
      "  2.73922413e-02 1.51867715e-02 9.50334650e-01 7.08633723e-03]\n",
      " [3.24148228e-03 1.48308264e-02 2.70897009e-01 7.11030683e-01\n",
      "  4.08873697e-03 1.93970856e-02 1.84481750e-01 7.92032428e-01]\n",
      " [9.35951422e-03 1.92175084e-02 7.29629290e-01 2.41793687e-01\n",
      "  3.33841394e-02 3.13051373e-02 5.88878603e-01 3.46432120e-01]\n",
      " [4.38756109e-02 2.40116786e-02 1.92727329e-01 7.39385382e-01\n",
      "  6.17273007e-02 2.05243569e-02 1.47351477e-01 7.70396865e-01]\n",
      " [1.05885398e-01 8.00262175e-01 5.48452780e-02 3.90071487e-02\n",
      "  1.02381111e-01 7.50568270e-01 5.53311114e-02 9.17195075e-02]\n",
      " [2.20192050e-03 8.17610752e-01 1.60506356e-01 1.96809718e-02\n",
      "  7.69365461e-03 6.26830476e-01 3.24513247e-01 4.09626228e-02]\n",
      " [1.12765920e-01 3.59716387e-02 8.17486499e-01 3.37759428e-02\n",
      "  2.01212877e-01 4.09145184e-02 7.21015451e-01 3.68571538e-02]\n",
      " [2.19584824e-02 2.02986407e-01 7.73186702e-01 1.86840850e-03\n",
      "  2.31066822e-02 1.92332167e-01 7.82046064e-01 2.51508662e-03]\n",
      " [1.99690409e-01 1.05676939e-01 6.06970340e-01 8.76623123e-02\n",
      "  3.12757596e-01 9.55331332e-02 4.57227150e-01 1.34482121e-01]\n",
      " [3.25667946e-02 8.55574995e-03 9.08600679e-01 5.02767770e-02\n",
      "  5.79040802e-02 9.18696804e-03 8.92703335e-01 4.02056168e-02]\n",
      " [7.67471635e-03 9.76807666e-01 2.66115781e-03 1.28564595e-02\n",
      "  4.35358862e-03 9.62717791e-01 1.51101373e-02 1.78184832e-02]\n",
      " [3.86322834e-01 2.17325337e-02 1.88918808e-01 4.03025823e-01\n",
      "  5.06045340e-01 4.82489325e-02 1.86690789e-01 2.59014938e-01]\n",
      " [3.24232737e-01 2.72237623e-02 2.43953318e-01 4.04590182e-01\n",
      "  4.04653866e-01 1.95197285e-02 3.42127498e-01 2.33698908e-01]\n",
      " [1.39564135e-01 8.16840534e-01 2.92141428e-02 1.43811877e-02\n",
      "  4.71946293e-02 9.30564372e-01 1.94836822e-02 2.75731673e-03]] [[13.7626806  12.78302216 12.00731228 ... 10.04299411 11.33690337\n",
      "  11.12053516]\n",
      " [14.70326154 13.21182461 11.78079545 ...  9.99880753  9.66981358\n",
      "  11.64620175]\n",
      " [13.66137795 13.15653889 13.28631291 ... 10.0601598  11.89792143\n",
      "  11.0575537 ]\n",
      " ...\n",
      " [13.98447137 12.66218924 14.38800561 ...  9.03795021 10.0253966\n",
      "  10.55268059]\n",
      " [13.73459676 13.43753459 13.68458097 ...  9.06620233  9.92329586\n",
      "  10.98766112]\n",
      " [15.26497995 13.60413493 11.58475358 ...  9.63311303 10.9057336\n",
      "  12.00437715]]\n",
      "stacked\n",
      "cv\n",
      "stacked\n",
      "cv\n",
      "stacked\n",
      "cv\n",
      "stacked\n",
      "cv\n",
      "stacked\n",
      "cv\n",
      "stacked\n",
      "cv\n",
      "stacked\n",
      "cv\n",
      "stacked\n",
      "cv\n",
      "stacked\n",
      "cv\n",
      "stacked\n",
      "cv\n",
      "stacked\n",
      "cv\n",
      "stacked\n",
      "cv\n",
      "stacked\n",
      "cv\n",
      "stacked\n",
      "cv\n",
      "stacked\n",
      "cv\n",
      "stacked\n",
      "cv\n",
      "stacked\n",
      "cv\n",
      "stacked\n",
      "cv\n",
      "stacked\n",
      "cv\n",
      "stacked\n",
      "cv\n",
      "stacked\n",
      "cv\n",
      "stacked\n",
      "cv\n",
      "stacked\n",
      "cv\n",
      "stacked\n",
      "cv\n",
      "stacked\n",
      "cv\n",
      "stacked\n",
      "cv\n",
      "stacked\n",
      "cv\n",
      "stacked\n",
      "cv\n",
      "stacked\n",
      "cv\n",
      "stacked\n",
      "cv\n",
      "stacked\n",
      "cv\n",
      "stacked\n",
      "cv\n",
      "stacked\n",
      "cv\n",
      "stacked\n",
      "cv\n",
      "stacked\n",
      "cv\n",
      "stacked\n",
      "cv\n",
      "stacked\n",
      "cv\n",
      "stacked\n",
      "cv\n",
      "stacked\n",
      "cv\n",
      "stacked\n",
      "cv\n",
      "stacked\n",
      "cv\n",
      "stacked\n",
      "cv\n",
      "stacked\n",
      "cv\n",
      "stacked\n",
      "cv\n",
      "stacked\n",
      "cv\n",
      "stacked\n",
      "cv\n",
      "stacked\n",
      "cv\n",
      "stacked\n",
      "cv\n",
      "stacked\n",
      "cv\n",
      "stacked\n",
      "cv\n",
      "stacked\n",
      "cv\n",
      "stacked\n",
      "cv\n",
      "stacked\n",
      "cv\n",
      "stacked\n",
      "cv\n",
      "stacked\n",
      "cv\n",
      "stacked\n",
      "cv\n",
      "stacked\n",
      "cv\n",
      "stacked\n",
      "cv\n",
      "stacked\n",
      "cv\n",
      "stacked\n",
      "cv\n",
      "stacked\n",
      "cv\n",
      "stacked\n",
      "cv\n",
      "stacked\n",
      "cv\n",
      "stacked\n",
      "cv\n",
      "stacked\n",
      "cv\n",
      "stacked\n",
      "cv\n",
      "stacked\n",
      "cv\n",
      "stacked\n",
      "cv\n",
      "stacked\n",
      "cv\n",
      "stacked\n",
      "cv\n",
      "stacked\n",
      "cv\n",
      "stacked\n",
      "cv\n",
      "stacked\n",
      "cv\n",
      "stacked\n",
      "cv\n",
      "stacked\n",
      "cv\n",
      "stacked\n",
      "cv\n",
      "stacked\n",
      "cv\n",
      "stacked\n",
      "cv\n",
      "stacked\n",
      "cv\n",
      "stacked\n",
      "cv\n",
      "stacked\n",
      "cv\n",
      "stacked\n",
      "cv\n",
      "stacked\n",
      "cv\n",
      "stacked\n",
      "cv\n",
      "stacked\n",
      "cv\n",
      "stacked\n",
      "cv\n",
      "stacked\n",
      "cv\n",
      "stacked\n",
      "cv\n",
      "stacked\n",
      "cv\n",
      "stacked\n",
      "cv\n",
      "stacked\n",
      "cv\n",
      "stacked\n",
      "cv\n",
      "stacked\n",
      "cv\n",
      "stacked\n",
      "cv\n",
      "stacked\n",
      "cv\n",
      "stacked\n",
      "cv\n",
      "\n",
      "model score of oof results for SVC3\n",
      "Model Accuracy: 0.8854166666666666\n",
      "Precision: 0.891441968525302\n",
      "Recall (Sensitivity): 0.8854166666666666\n",
      "F1 Score: 0.8857571122577969\n",
      "Matthews Correlation Coefficient (MCC): 0.847046869768925\n",
      "G-Measure: 0.9229308733968031\n",
      "AUC: 0.9863641365236875\n",
      "Specificity: 0.9613969803670508\n",
      "Jaccard Index: 0.7977251412244541\n",
      "Created directory: /work/wanlab/nick/stackeval6/val_data/stacked/SVC3\n",
      "Saving metrics to: /work/wanlab/nick/stackeval6/val_data/stacked/SVC3/limma(6),metrics.csv\n",
      "PREDICTIONS                   subtype  Squamous      ADEX  Pancreatic Progenitor  \\\n",
      "0   Pancreatic Progenitor  0.004020  0.100989               0.841992   \n",
      "1             Immunogenic  0.076602  0.023480               0.016304   \n",
      "2                    ADEX  0.164180  0.784479               0.037705   \n",
      "3                    ADEX  0.570921  0.325114               0.097433   \n",
      "4   Pancreatic Progenitor  0.003933  0.733640               0.238221   \n",
      "..                    ...       ...       ...                    ...   \n",
      "91  Pancreatic Progenitor  0.009345  0.021372               0.953398   \n",
      "92               Squamous  0.858232  0.026331               0.095301   \n",
      "93  Pancreatic Progenitor  0.015765  0.062627               0.848727   \n",
      "94               Squamous  0.852224  0.103908               0.001508   \n",
      "95            Immunogenic  0.002665  0.018810               0.265540   \n",
      "\n",
      "    Immunogenic  \n",
      "0      0.052999  \n",
      "1      0.883615  \n",
      "2      0.013637  \n",
      "3      0.006532  \n",
      "4      0.024207  \n",
      "..          ...  \n",
      "91     0.015885  \n",
      "92     0.020136  \n",
      "93     0.072880  \n",
      "94     0.042360  \n",
      "95     0.712985  \n",
      "\n",
      "[96 rows x 5 columns]\n",
      "\n",
      "model score of oof results for SVC4\n",
      "Model Accuracy: 0.9270833333333334\n",
      "Precision: 0.9282457295657727\n",
      "Recall (Sensitivity): 0.9270833333333334\n",
      "F1 Score: 0.927124353652804\n",
      "Matthews Correlation Coefficient (MCC): 0.9017909960019698\n",
      "G-Measure: 0.9519085598926197\n",
      "AUC: 0.9857525519277278\n",
      "Specificity: 0.9752147353819889\n",
      "Jaccard Index: 0.8669652957336781\n",
      "Created directory: /work/wanlab/nick/stackeval6/val_data/stacked/SVC4\n",
      "Saving metrics to: /work/wanlab/nick/stackeval6/val_data/stacked/SVC4/limma(6),metrics.csv\n",
      "PREDICTIONS                   subtype  Squamous      ADEX  Pancreatic Progenitor  \\\n",
      "0   Pancreatic Progenitor  0.007810  0.057658               0.842131   \n",
      "1             Immunogenic  0.082174  0.015819               0.013273   \n",
      "2                    ADEX  0.048282  0.927114               0.021537   \n",
      "3                    ADEX  0.472120  0.432702               0.082609   \n",
      "4   Pancreatic Progenitor  0.007253  0.627986               0.321154   \n",
      "..                    ...       ...       ...                    ...   \n",
      "91  Pancreatic Progenitor  0.019008  0.059191               0.847692   \n",
      "92               Squamous  0.879212  0.017494               0.092403   \n",
      "93  Pancreatic Progenitor  0.030281  0.078660               0.766881   \n",
      "94               Squamous  0.821332  0.066005               0.008401   \n",
      "95            Immunogenic  0.003345  0.018330               0.146945   \n",
      "\n",
      "    Immunogenic  \n",
      "0      0.092402  \n",
      "1      0.888734  \n",
      "2      0.003067  \n",
      "3      0.012570  \n",
      "4      0.043607  \n",
      "..          ...  \n",
      "91     0.074108  \n",
      "92     0.010891  \n",
      "93     0.124178  \n",
      "94     0.104262  \n",
      "95     0.831380  \n",
      "\n",
      "[96 rows x 5 columns]\n",
      "Random state: 7\n",
      "['SVC', 'SVC2']\n",
      "individual models\n",
      "cv\n",
      "individual models\n",
      "cv\n",
      "individual models\n",
      "cv\n",
      "individual models\n",
      "cv\n",
      "individual models\n",
      "cv\n",
      "individual models\n",
      "cv\n",
      "individual models\n",
      "cv\n",
      "individual models\n",
      "cv\n",
      "individual models\n",
      "cv\n",
      "individual models\n",
      "cv\n",
      "individual models\n",
      "cv\n",
      "individual models\n",
      "cv\n",
      "individual models\n",
      "cv\n",
      "individual models\n",
      "cv\n",
      "individual models\n",
      "cv\n",
      "individual models\n",
      "cv\n",
      "individual models\n",
      "cv\n",
      "individual models\n",
      "cv\n",
      "individual models\n",
      "cv\n",
      "individual models\n",
      "cv\n",
      "individual models\n",
      "cv\n",
      "individual models\n",
      "cv\n",
      "individual models\n",
      "cv\n",
      "individual models\n",
      "cv\n",
      "individual models\n",
      "cv\n",
      "individual models\n",
      "cv\n",
      "individual models\n",
      "cv\n",
      "individual models\n",
      "cv\n",
      "individual models\n",
      "cv\n",
      "individual models\n",
      "cv\n",
      "individual models\n",
      "cv\n",
      "individual models\n",
      "cv\n",
      "individual models\n",
      "cv\n",
      "individual models\n",
      "cv\n",
      "individual models\n",
      "cv\n",
      "individual models\n",
      "cv\n",
      "individual models\n",
      "cv\n",
      "individual models\n",
      "cv\n",
      "individual models\n",
      "cv\n",
      "individual models\n",
      "cv\n",
      "individual models\n",
      "cv\n",
      "individual models\n",
      "cv\n",
      "individual models\n",
      "cv\n",
      "individual models\n",
      "cv\n",
      "individual models\n",
      "cv\n",
      "individual models\n",
      "cv\n",
      "individual models\n",
      "cv\n",
      "individual models\n",
      "cv\n",
      "individual models\n",
      "cv\n",
      "individual models\n",
      "cv\n",
      "individual models\n",
      "cv\n",
      "individual models\n",
      "cv\n",
      "individual models\n",
      "cv\n",
      "individual models\n",
      "cv\n",
      "individual models\n",
      "cv\n",
      "individual models\n",
      "cv\n",
      "individual models\n",
      "cv\n",
      "individual models\n",
      "cv\n",
      "individual models\n",
      "cv\n",
      "individual models\n",
      "cv\n",
      "individual models\n",
      "cv\n",
      "individual models\n",
      "cv\n",
      "individual models\n",
      "cv\n",
      "individual models\n",
      "cv\n",
      "individual models\n",
      "cv\n",
      "individual models\n",
      "cv\n",
      "individual models\n",
      "cv\n",
      "individual models\n",
      "cv\n",
      "individual models\n",
      "cv\n",
      "individual models\n",
      "cv\n",
      "individual models\n",
      "cv\n",
      "individual models\n",
      "cv\n",
      "individual models\n",
      "cv\n",
      "individual models\n",
      "cv\n",
      "individual models\n",
      "cv\n",
      "individual models\n",
      "cv\n",
      "individual models\n",
      "cv\n",
      "individual models\n",
      "cv\n",
      "individual models\n",
      "cv\n",
      "individual models\n",
      "cv\n",
      "individual models\n",
      "cv\n",
      "individual models\n",
      "cv\n",
      "individual models\n",
      "cv\n",
      "individual models\n",
      "cv\n",
      "individual models\n",
      "cv\n",
      "individual models\n",
      "cv\n",
      "individual models\n",
      "cv\n",
      "individual models\n",
      "cv\n",
      "individual models\n",
      "cv\n",
      "individual models\n",
      "cv\n",
      "individual models\n",
      "cv\n",
      "individual models\n",
      "cv\n",
      "individual models\n",
      "cv\n",
      "individual models\n",
      "cv\n",
      "individual models\n",
      "cv\n",
      "individual models\n",
      "cv\n",
      "\n",
      "model score of oof results for SVC\n",
      "Model Accuracy: 0.8854166666666666\n",
      "Precision: 0.891441968525302\n",
      "Recall (Sensitivity): 0.8854166666666666\n",
      "F1 Score: 0.8857571122577969\n",
      "Matthews Correlation Coefficient (MCC): 0.847046869768925\n",
      "G-Measure: 0.9229308733968031\n",
      "AUC: 0.9884629192452695\n",
      "Specificity: 0.9613969803670508\n",
      "Jaccard Index: 0.7977251412244541\n",
      "Created directory: /work/wanlab/nick/stackeval7/val_data/individual models/SVC\n",
      "Saving metrics to: /work/wanlab/nick/stackeval7/val_data/individual models/SVC/limma(7),metrics.csv\n",
      "PREDICTIONS                   subtype  Squamous      ADEX  Pancreatic Progenitor  \\\n",
      "0   Pancreatic Progenitor  0.117609  0.038629               0.812194   \n",
      "1                Squamous  0.282899  0.051780               0.345969   \n",
      "2   Pancreatic Progenitor  0.076079  0.101623               0.800074   \n",
      "3             Immunogenic  0.025956  0.029660               0.051844   \n",
      "4             Immunogenic  0.022811  0.030379               0.365394   \n",
      "..                    ...       ...       ...                    ...   \n",
      "91                   ADEX  0.020210  0.875240               0.078111   \n",
      "92                   ADEX  0.073704  0.738224               0.168824   \n",
      "93  Pancreatic Progenitor  0.044794  0.028755               0.909937   \n",
      "94               Squamous  0.984666  0.002146               0.002987   \n",
      "95                   ADEX  0.003197  0.985094               0.001270   \n",
      "\n",
      "    Immunogenic  \n",
      "0      0.031569  \n",
      "1      0.319352  \n",
      "2      0.022224  \n",
      "3      0.892540  \n",
      "4      0.581416  \n",
      "..          ...  \n",
      "91     0.026439  \n",
      "92     0.019248  \n",
      "93     0.016514  \n",
      "94     0.010201  \n",
      "95     0.010440  \n",
      "\n",
      "[96 rows x 5 columns]\n",
      "\n",
      "model score of oof results for SVC2\n",
      "Model Accuracy: 0.9270833333333334\n",
      "Precision: 0.9282457295657727\n",
      "Recall (Sensitivity): 0.9270833333333334\n",
      "F1 Score: 0.927124353652804\n",
      "Matthews Correlation Coefficient (MCC): 0.9017909960019698\n",
      "G-Measure: 0.9519085598926197\n",
      "AUC: 0.9851710880815193\n",
      "Specificity: 0.9752147353819889\n",
      "Jaccard Index: 0.8669652957336781\n",
      "Created directory: /work/wanlab/nick/stackeval7/val_data/individual models/SVC2\n",
      "Saving metrics to: /work/wanlab/nick/stackeval7/val_data/individual models/SVC2/limma(7),metrics.csv\n",
      "PREDICTIONS                   subtype  Squamous      ADEX  Pancreatic Progenitor  \\\n",
      "0   Pancreatic Progenitor  0.177596  0.042449               0.739514   \n",
      "1                Squamous  0.219149  0.041658               0.378393   \n",
      "2   Pancreatic Progenitor  0.075290  0.083083               0.818331   \n",
      "3             Immunogenic  0.043043  0.029123               0.050639   \n",
      "4             Immunogenic  0.035107  0.028699               0.351439   \n",
      "..                    ...       ...       ...                    ...   \n",
      "91                   ADEX  0.039412  0.539675               0.375539   \n",
      "92                   ADEX  0.053349  0.755378               0.157016   \n",
      "93  Pancreatic Progenitor  0.064619  0.024002               0.886005   \n",
      "94               Squamous  0.987243  0.000901               0.004452   \n",
      "95                   ADEX  0.004692  0.984597               0.001630   \n",
      "\n",
      "    Immunogenic  \n",
      "0      0.040441  \n",
      "1      0.360800  \n",
      "2      0.023296  \n",
      "3      0.877194  \n",
      "4      0.584754  \n",
      "..          ...  \n",
      "91     0.045375  \n",
      "92     0.034258  \n",
      "93     0.025374  \n",
      "94     0.007404  \n",
      "95     0.009081  \n",
      "\n",
      "[96 rows x 5 columns]\n",
      "运行时间为: 23.41 秒\n",
      "combining [[1.17608631e-01 3.86290735e-02 8.12193529e-01 3.15687669e-02\n",
      "  1.77596496e-01 4.24486582e-02 7.39514119e-01 4.04407265e-02]\n",
      " [2.82898531e-01 5.17801652e-02 3.45969397e-01 3.19351906e-01\n",
      "  2.19148862e-01 4.16583995e-02 3.78392571e-01 3.60800168e-01]\n",
      " [7.60791499e-02 1.01622772e-01 8.00073909e-01 2.22241692e-02\n",
      "  7.52901989e-02 8.30826549e-02 8.18330797e-01 2.32963489e-02]\n",
      " [2.59561960e-02 2.96598375e-02 5.18436353e-02 8.92540331e-01\n",
      "  4.30429810e-02 2.91234452e-02 5.06392772e-02 8.77194297e-01]\n",
      " [2.28113674e-02 3.03787465e-02 3.65393790e-01 5.81416096e-01\n",
      "  3.51073619e-02 2.86992308e-02 3.51438934e-01 5.84754474e-01]\n",
      " [8.51516908e-02 2.69126173e-02 1.73408584e-02 8.70594834e-01\n",
      "  6.94173261e-02 1.63774832e-02 1.22059788e-02 9.01999212e-01]\n",
      " [3.17567921e-02 8.99876364e-01 1.71625673e-02 5.12042766e-02\n",
      "  7.23791790e-02 8.23504764e-01 3.05007959e-02 7.36152611e-02]\n",
      " [1.49315531e-02 1.16509994e-01 6.98837552e-01 1.69720901e-01\n",
      "  3.79926572e-02 5.20129262e-02 7.95234749e-01 1.14759667e-01]\n",
      " [6.66928473e-01 4.58125709e-02 4.58418811e-03 2.82674768e-01\n",
      "  5.78572148e-01 1.38114580e-02 5.13639630e-03 4.02479998e-01]\n",
      " [1.43957553e-01 8.08214035e-01 3.21166374e-02 1.57117751e-02\n",
      "  4.57592386e-02 9.31490183e-01 1.97144076e-02 3.03617101e-03]\n",
      " [4.51629283e-02 4.28262738e-02 3.71676926e-01 5.40333872e-01\n",
      "  9.02344592e-02 2.76383453e-02 6.74591137e-01 2.07536059e-01]\n",
      " [2.05590333e-01 1.24308620e-02 4.85476595e-01 2.96502210e-01\n",
      "  4.17282457e-01 9.97113215e-03 4.12784769e-01 1.59961642e-01]\n",
      " [9.95334565e-01 4.76140230e-04 1.05285045e-04 4.08400979e-03\n",
      "  9.95365063e-01 1.08209262e-04 2.10556129e-04 4.31617203e-03]\n",
      " [4.25672395e-03 7.05441757e-01 2.64678039e-01 2.56234801e-02\n",
      "  1.00285360e-02 6.60284551e-01 2.91871599e-01 3.78153139e-02]\n",
      " [5.63837928e-03 3.02353410e-02 1.68330470e-02 9.47293233e-01\n",
      "  5.68386199e-03 3.29639878e-02 2.21140497e-02 9.39238100e-01]\n",
      " [8.69398878e-03 2.56624333e-02 9.52262304e-01 1.33812738e-02\n",
      "  1.49332033e-02 5.09032021e-02 8.87008993e-01 4.71546014e-02]\n",
      " [4.75297971e-01 4.12916660e-01 1.08175099e-01 3.61027006e-03\n",
      "  3.11003393e-01 5.61963053e-01 1.19257497e-01 7.77605735e-03]\n",
      " [3.71053776e-03 6.62529601e-03 9.46644111e-01 4.30200551e-02\n",
      "  1.46852002e-02 1.23196694e-02 8.91548657e-01 8.14464729e-02]\n",
      " [1.08996508e-01 8.13724112e-01 4.32649132e-02 3.40144664e-02\n",
      "  9.97141170e-02 7.59790169e-01 5.69986048e-02 8.34971094e-02]\n",
      " [2.51258807e-02 2.13581047e-01 7.59503307e-01 1.78976563e-03\n",
      "  2.35891194e-02 2.03051116e-01 7.70597984e-01 2.76178039e-03]\n",
      " [3.90317765e-01 2.40205819e-02 1.74527253e-01 4.11134401e-01\n",
      "  5.31690615e-01 4.53014914e-02 1.80200452e-01 2.42807442e-01]\n",
      " [1.26274577e-02 9.21730838e-03 1.06060659e-02 9.67549168e-01\n",
      "  1.53735311e-02 6.48223696e-03 2.49554729e-02 9.53188759e-01]\n",
      " [4.83605360e-02 4.13635723e-02 3.54312976e-01 5.55962916e-01\n",
      "  4.79756785e-02 2.53394854e-02 9.24678677e-02 8.34216968e-01]\n",
      " [9.78902858e-01 5.20274295e-03 5.53184378e-03 1.03625555e-02\n",
      "  9.64454305e-01 1.63840570e-03 9.75782989e-03 2.41494594e-02]\n",
      " [1.21166048e-01 6.81816504e-01 1.77867097e-01 1.91503502e-02\n",
      "  2.69570082e-01 4.57682897e-01 2.37011907e-01 3.57351138e-02]\n",
      " [4.52053360e-03 7.15913705e-03 4.78566440e-02 9.40463685e-01\n",
      "  5.23496484e-03 8.90998751e-03 5.76564613e-02 9.28198586e-01]\n",
      " [8.72237120e-01 8.64994811e-02 1.61843648e-03 3.96449624e-02\n",
      "  8.27184356e-01 6.20828050e-02 8.26132439e-03 1.02471515e-01]\n",
      " [9.02914694e-01 1.46928947e-02 5.97953039e-02 2.25971075e-02\n",
      "  9.60228949e-01 5.31532720e-03 2.70910171e-02 7.36470672e-03]\n",
      " [3.40961472e-03 6.80960433e-01 6.66891944e-02 2.48940758e-01\n",
      "  5.03335289e-03 6.96317902e-01 8.11709784e-02 2.17477767e-01]\n",
      " [5.98349541e-01 2.89803639e-01 1.05582091e-01 6.26472912e-03\n",
      "  4.85409853e-01 4.24843978e-01 7.92860072e-02 1.04601623e-02]\n",
      " [4.10195769e-01 4.00434062e-01 1.70257324e-01 1.91128446e-02\n",
      "  4.08210026e-01 3.69187242e-01 1.94463851e-01 2.81388806e-02]\n",
      " [4.50809049e-01 1.86488046e-02 3.18130915e-01 2.12411232e-01\n",
      "  4.54079385e-01 1.14608536e-02 4.90027228e-01 4.44325327e-02]\n",
      " [8.59318857e-01 2.68834231e-02 9.35762331e-02 2.02214868e-02\n",
      "  8.81985480e-01 2.17264784e-02 8.43537410e-02 1.19343002e-02]\n",
      " [2.32607102e-03 2.16035679e-02 8.16989020e-01 1.59081341e-01\n",
      "  3.46553806e-03 2.49771900e-02 7.79708514e-01 1.91848758e-01]\n",
      " [2.50076693e-01 2.24430893e-01 4.94565467e-01 3.09269473e-02\n",
      "  3.02343182e-01 1.85263354e-01 4.72662428e-01 3.97310362e-02]\n",
      " [9.78452582e-01 9.41847098e-03 6.03452242e-03 6.09442445e-03\n",
      "  9.80264348e-01 7.24175644e-03 8.45069896e-03 4.04319646e-03]\n",
      " [4.41609317e-02 1.97372911e-02 1.78811152e-01 7.57290625e-01\n",
      "  6.69559304e-02 1.91954219e-02 2.03824202e-01 7.10024446e-01]\n",
      " [8.42423759e-01 4.36560318e-02 1.04894645e-01 9.02556425e-03\n",
      "  8.02219152e-01 3.40812039e-02 1.54715545e-01 8.98409934e-03]\n",
      " [8.96469616e-01 4.46099738e-02 1.02625274e-02 4.86578827e-02\n",
      "  9.57940782e-01 2.25142649e-02 1.24743242e-02 7.07062851e-03]\n",
      " [4.45279312e-03 7.93278386e-01 1.95208723e-01 7.06009721e-03\n",
      "  6.02288100e-03 6.17698266e-01 3.59195017e-01 1.70838363e-02]\n",
      " [8.03101908e-02 9.61442351e-03 8.23097413e-02 8.27765644e-01\n",
      "  1.46026689e-01 6.51352116e-03 1.71183276e-01 6.76276513e-01]\n",
      " [2.33748965e-01 6.49592952e-01 1.03165862e-01 1.34922220e-02\n",
      "  1.22592971e-01 7.93202875e-01 6.93475832e-02 1.48565711e-02]\n",
      " [2.10298310e-02 3.48189511e-03 3.35308135e-02 9.41957460e-01\n",
      "  2.69491443e-02 2.23285173e-03 3.10650347e-02 9.39752969e-01]\n",
      " [2.01596233e-01 1.16925512e-02 3.59758919e-02 7.50735324e-01\n",
      "  1.25969999e-01 3.48363856e-03 4.59639161e-02 8.24582446e-01]\n",
      " [1.32883534e-01 2.46647865e-01 2.68341503e-01 3.52127098e-01\n",
      "  1.89392213e-01 1.75421462e-01 2.41331343e-01 3.93854982e-01]\n",
      " [7.26945613e-01 2.45569554e-01 1.87020516e-02 8.78278197e-03\n",
      "  5.64665079e-01 3.96345621e-01 1.66513968e-02 2.23379025e-02]\n",
      " [3.23949070e-02 5.45764738e-02 9.08210350e-01 4.81826925e-03\n",
      "  4.63444280e-02 5.90022268e-02 8.88062175e-01 6.59117034e-03]\n",
      " [2.22376736e-02 6.24126576e-02 8.53347219e-02 8.30014947e-01\n",
      "  2.53315223e-02 6.94180665e-02 2.97110403e-01 6.08140008e-01]\n",
      " [9.37167361e-02 1.56198603e-01 1.02891564e-01 6.47193097e-01\n",
      "  8.02646390e-02 1.15217101e-01 1.31194676e-01 6.73323585e-01]\n",
      " [1.51012731e-02 6.42446314e-02 8.76706086e-01 4.39480097e-02\n",
      "  3.42219055e-02 8.52028093e-02 7.53670420e-01 1.26904865e-01]\n",
      " [9.95889301e-01 7.80726056e-04 8.26088383e-04 2.50388468e-03\n",
      "  9.97634527e-01 1.18343373e-04 1.65478490e-03 5.92344593e-04]\n",
      " [7.90912270e-01 2.08897981e-02 6.40140007e-02 1.24183931e-01\n",
      "  7.37070787e-01 1.05349149e-02 8.99951217e-02 1.62399176e-01]\n",
      " [2.03341134e-01 1.11618693e-01 5.81652057e-01 1.03388117e-01\n",
      "  3.10919335e-01 9.25469383e-02 4.66486278e-01 1.30047449e-01]\n",
      " [1.30965449e-01 2.12286623e-02 2.53042598e-01 5.94763290e-01\n",
      "  8.48994354e-02 5.10108011e-03 5.72073299e-01 3.37926185e-01]\n",
      " [2.17336725e-02 1.60248739e-02 1.65271381e-01 7.96970072e-01\n",
      "  5.13428218e-02 1.40506775e-02 1.23333966e-01 8.11272535e-01]\n",
      " [8.47664539e-01 6.82196032e-02 8.13922776e-02 2.72357978e-03\n",
      "  8.29363574e-01 5.81624298e-02 1.07343117e-01 5.13087965e-03]\n",
      " [1.55382334e-02 3.27760897e-03 1.44297538e-02 9.66754404e-01\n",
      "  1.92122322e-02 1.99668283e-03 1.96237918e-02 9.59167293e-01]\n",
      " [9.21362255e-01 4.50061402e-02 6.57329552e-03 2.70583088e-02\n",
      "  9.22437765e-01 3.12540075e-02 1.04275442e-02 3.58806834e-02]\n",
      " [8.29192554e-02 1.27355652e-01 7.21247298e-01 6.84777949e-02\n",
      "  3.97504887e-02 1.72622264e-02 9.32494951e-01 1.04923342e-02]\n",
      " [9.94329674e-01 4.45917263e-04 1.06548471e-04 5.11785980e-03\n",
      "  9.95319834e-01 9.38305308e-05 1.31281939e-04 4.45505335e-03]\n",
      " [7.75363028e-03 5.15336183e-02 9.14324678e-03 9.31569505e-01\n",
      "  1.84446398e-02 9.06875732e-02 1.39181883e-02 8.76949599e-01]\n",
      " [7.08976016e-01 7.59390850e-03 2.23477150e-01 5.99529251e-02\n",
      "  6.28305756e-01 3.67254658e-03 3.44757407e-01 2.32642910e-02]\n",
      " [1.07108785e-02 3.18862172e-02 8.03548867e-01 1.53854037e-01\n",
      "  6.41792021e-03 1.36442788e-02 9.18207751e-01 6.17300502e-02]\n",
      " [3.28115457e-01 2.56569030e-02 2.55621982e-01 3.90605658e-01\n",
      "  4.16185006e-01 2.28297302e-02 3.52610229e-01 2.08375035e-01]\n",
      " [1.04068592e-02 7.79218968e-01 1.54604144e-01 5.57700291e-02\n",
      "  2.41589107e-02 7.84537954e-01 1.12256966e-01 7.90461697e-02]\n",
      " [3.27631385e-03 9.53205019e-04 5.88800284e-04 9.95181681e-01\n",
      "  6.32799575e-03 5.06637513e-04 1.65639678e-03 9.91508970e-01]\n",
      " [1.10214319e-02 2.07260100e-02 7.27902269e-01 2.40350289e-01\n",
      "  3.45835804e-02 3.33014849e-02 5.88503053e-01 3.43611882e-01]\n",
      " [3.40766315e-01 1.44892105e-02 3.19323098e-01 3.25421377e-01\n",
      "  3.92909923e-01 1.37611075e-02 4.60364846e-01 1.32964124e-01]\n",
      " [6.91258197e-03 9.74713643e-01 3.66867504e-03 1.47050997e-02\n",
      "  4.61137063e-03 9.64337620e-01 1.35071946e-02 1.75438148e-02]\n",
      " [1.00571397e-01 2.94865025e-02 8.29208136e-01 4.07339639e-02\n",
      "  1.72692996e-01 2.49568682e-02 7.64904022e-01 3.74461140e-02]\n",
      " [2.38475297e-03 9.94119440e-01 7.77741162e-04 2.71806548e-03\n",
      "  8.07984597e-04 9.92782195e-01 1.06342290e-03 5.34639785e-03]\n",
      " [9.79097191e-01 2.31594494e-03 8.66703681e-03 9.91982708e-03\n",
      "  9.84579943e-01 9.93393562e-04 7.69703544e-03 6.72962825e-03]\n",
      " [5.19325150e-03 1.83970625e-02 3.88926964e-01 5.87482722e-01\n",
      "  1.10985373e-02 1.89578962e-02 3.07889873e-01 6.62053694e-01]\n",
      " [1.12687215e-02 1.03198537e-01 8.30716790e-01 5.48159517e-02\n",
      "  1.34520096e-02 5.50790998e-02 8.70290988e-01 6.11779030e-02]\n",
      " [3.56093017e-02 1.01671952e-01 8.56590996e-01 6.12775041e-03\n",
      "  7.72897657e-02 8.77569475e-02 8.20871752e-01 1.40815350e-02]\n",
      " [1.49859657e-02 5.98189053e-03 1.47421690e-01 8.31610454e-01\n",
      "  2.13552697e-02 4.40436283e-03 1.56258515e-01 8.17981852e-01]\n",
      " [3.59826273e-03 2.29935160e-03 1.03577064e-03 9.93066615e-01\n",
      "  2.24609907e-03 1.17835862e-03 5.39689404e-04 9.96035853e-01]\n",
      " [9.92145726e-01 1.96877317e-03 3.17160087e-04 5.56834085e-03\n",
      "  9.93509807e-01 1.56743546e-03 1.43388692e-03 3.48887091e-03]\n",
      " [3.74917350e-01 9.98928601e-02 3.64788667e-01 1.60401123e-01\n",
      "  3.92663314e-01 8.83063633e-02 3.27415561e-01 1.91614761e-01]\n",
      " [5.34300867e-03 1.27246023e-01 8.28771363e-01 3.86396055e-02\n",
      "  7.85773469e-03 5.43153287e-02 8.54754567e-01 8.30723700e-02]\n",
      " [4.13045070e-02 1.17510520e-02 9.39876544e-01 7.06789746e-03\n",
      "  5.28041493e-02 1.86023384e-02 9.24256311e-01 4.33720120e-03]\n",
      " [8.85315690e-01 8.59192345e-02 1.93051658e-02 9.45990983e-03\n",
      "  8.42777768e-01 1.05818475e-01 3.26521370e-02 1.87516196e-02]\n",
      " [4.11441863e-02 1.28910131e-02 8.49647097e-01 9.63177040e-02\n",
      "  6.19756270e-02 9.28193436e-03 8.94034866e-01 3.47075722e-02]\n",
      " [5.98379149e-01 5.99061510e-02 3.15835488e-01 2.58792125e-02\n",
      "  5.64459440e-01 2.61657081e-02 3.92206545e-01 1.71683067e-02]\n",
      " [2.49509082e-03 1.88653144e-02 2.58482811e-01 7.20156783e-01\n",
      "  3.60014119e-03 1.77949570e-02 1.66408237e-01 8.12196665e-01]\n",
      " [6.94394493e-03 6.63388062e-01 8.33402023e-02 2.46327791e-01\n",
      "  1.15195439e-02 7.02287933e-01 1.23432469e-01 1.62760054e-01]\n",
      " [5.97126825e-03 1.52236334e-02 9.29872086e-01 4.89330119e-02\n",
      "  1.20511568e-02 1.44465452e-02 9.29835952e-01 4.36663461e-02]\n",
      " [2.37093369e-03 1.45729164e-03 4.97443362e-04 9.95674331e-01\n",
      "  1.14076393e-03 1.43551879e-03 4.39468723e-03 9.93029030e-01]\n",
      " [1.34139061e-02 2.54028881e-02 3.06828696e-01 6.54354510e-01\n",
      "  2.83397100e-02 3.59545370e-02 4.30020354e-01 5.05685399e-01]\n",
      " [1.40066477e-03 4.18262492e-03 9.79611612e-01 1.48050988e-02\n",
      "  4.85384098e-07 5.88402574e-07 9.99937237e-01 6.16891894e-05]\n",
      " [5.94308886e-03 6.65111368e-02 8.87131587e-01 4.04141868e-02\n",
      "  1.12603460e-02 7.18990311e-02 8.68468133e-01 4.83724897e-02]\n",
      " [2.02099289e-02 8.75239773e-01 7.81110433e-02 2.64392543e-02\n",
      "  3.94115705e-02 5.39674553e-01 3.75539337e-01 4.53745392e-02]\n",
      " [7.37044487e-02 7.38223819e-01 1.68824221e-01 1.92475114e-02\n",
      "  5.33485970e-02 7.55378245e-01 1.57015628e-01 3.42575293e-02]\n",
      " [4.47939577e-02 2.87553452e-02 9.09937101e-01 1.65135964e-02\n",
      "  6.46192262e-02 2.40024240e-02 8.86004789e-01 2.53735611e-02]\n",
      " [9.84666263e-01 2.14566970e-03 2.98695882e-03 1.02011085e-02\n",
      "  9.87242565e-01 9.01403507e-04 4.45185684e-03 7.40417508e-03]\n",
      " [3.19665298e-03 9.85093670e-01 1.26978311e-03 1.04398935e-02\n",
      "  4.69228998e-03 9.84596568e-01 1.63003663e-03 9.08110505e-03]] [[13.56018914 12.68466835 13.10243664 ...  9.53005478 11.16103308\n",
      "  11.24920229]\n",
      " [13.91094552 13.15763628 13.85303588 ...  8.69880747 10.5493544\n",
      "  11.79201629]\n",
      " [14.1859303  13.29487879 12.61108754 ...  9.39749926 10.6532866\n",
      "  10.88820413]\n",
      " ...\n",
      " [14.86945845 12.73863468 13.09483138 ...  9.38127858 10.15547159\n",
      "  11.35204411]\n",
      " [13.66137795 13.15653889 13.28631291 ... 10.0601598  11.89792143\n",
      "  11.0575537 ]\n",
      " [14.16434061 12.72247015 12.72365812 ... 10.11224221 10.07107693\n",
      "  13.67477796]]\n",
      "stacked\n",
      "cv\n",
      "stacked\n",
      "cv\n",
      "stacked\n",
      "cv\n",
      "stacked\n",
      "cv\n",
      "stacked\n",
      "cv\n",
      "stacked\n",
      "cv\n",
      "stacked\n",
      "cv\n",
      "stacked\n",
      "cv\n",
      "stacked\n",
      "cv\n",
      "stacked\n",
      "cv\n",
      "stacked\n",
      "cv\n",
      "stacked\n",
      "cv\n",
      "stacked\n",
      "cv\n",
      "stacked\n",
      "cv\n",
      "stacked\n",
      "cv\n",
      "stacked\n",
      "cv\n",
      "stacked\n",
      "cv\n",
      "stacked\n",
      "cv\n",
      "stacked\n",
      "cv\n",
      "stacked\n",
      "cv\n",
      "stacked\n",
      "cv\n",
      "stacked\n",
      "cv\n",
      "stacked\n",
      "cv\n",
      "stacked\n",
      "cv\n",
      "stacked\n",
      "cv\n",
      "stacked\n",
      "cv\n",
      "stacked\n",
      "cv\n",
      "stacked\n",
      "cv\n",
      "stacked\n",
      "cv\n",
      "stacked\n",
      "cv\n",
      "stacked\n",
      "cv\n",
      "stacked\n",
      "cv\n",
      "stacked\n",
      "cv\n",
      "stacked\n",
      "cv\n",
      "stacked\n",
      "cv\n",
      "stacked\n",
      "cv\n",
      "stacked\n",
      "cv\n",
      "stacked\n",
      "cv\n",
      "stacked\n",
      "cv\n",
      "stacked\n",
      "cv\n",
      "stacked\n",
      "cv\n",
      "stacked\n",
      "cv\n",
      "stacked\n",
      "cv\n",
      "stacked\n",
      "cv\n",
      "stacked\n",
      "cv\n",
      "stacked\n",
      "cv\n",
      "stacked\n",
      "cv\n",
      "stacked\n",
      "cv\n",
      "stacked\n",
      "cv\n",
      "stacked\n",
      "cv\n",
      "stacked\n",
      "cv\n",
      "stacked\n",
      "cv\n",
      "stacked\n",
      "cv\n",
      "stacked\n",
      "cv\n",
      "stacked\n",
      "cv\n",
      "stacked\n",
      "cv\n",
      "stacked\n",
      "cv\n",
      "stacked\n",
      "cv\n",
      "stacked\n",
      "cv\n",
      "stacked\n",
      "cv\n",
      "stacked\n"
     ]
    }
   ],
   "source": [
    "#models = [SVC(kernel=\"rbf\", probability=True), XGBClassifier(n_estimators=300, use_label_encoder=False, eval_metric='logloss'), RandomForestClassifier(random_state=0, n_estimators=100)]\n",
    "#OGmodels = [SVC(kernel=\"rbf\", probability=True), XGBClassifier(n_estimators=300, use_label_encoder=False, eval_metric='logloss'),RandomForestClassifier(random_state=0, n_estimators=100)]\n",
    "#OGmodels = [XGBClassifier(n_estimators=300, use_label_encoder=False, eval_metric='logloss'), GaussianNB()]\n",
    "\n",
    "mlpparameters = {\n",
    "\"activation\": \"relu\",\n",
    "\"alpha\": 0.0001,\n",
    "\"learning_rate\": \"constant\",\n",
    "\"max_iter\": 210,\n",
    "\"batch_size\": 8,\n",
    "\"solver\": \"adam\",\n",
    "\n",
    "\"hidden_layer_sizes\": (100, 100)\n",
    "}\n",
    "\n",
    "#QDA('reg_param'= 1.0, 'store_covariance'= True, 'tol'= 0.000)\n",
    "OGmodels = [SVC(kernel=\"rbf\", probability=True),\n",
    "            SVC(kernel=\"linear\", probability=True)\n",
    "            #LogisticRegression(max_iter=700)\n",
    "            #GaussianNB(),\n",
    "            #RandomForestClassifier(random_state=0, n_estimators=100),\n",
    "            #XGBClassifier(n_estimators=300, use_label_encoder=False, eval_metric='logloss'),\n",
    "            #MLPClassifier(**mlpparameters),\n",
    "            #KNeighborsClassifier(),\n",
    "            #QuadraticDiscriminantAnalysis(reg_param= 1.0, store_covariance= True, tol= 0.000),\n",
    "            #DecisionTreeClassifier()\n",
    "           ]\n",
    "           \n",
    "    \n",
    "OGstack_models = [\n",
    "    #MLPClassifier(**mlpparameters),\n",
    "    #RandomForestClassifier(),\n",
    "    #LogisticRegression(max_iter=700),\n",
    "    #GaussianNB(),\n",
    "    SVC(kernel=\"rbf\", probability=True),\n",
    "    SVC(kernel=\"linear\", probability=True)\n",
    "    #MLPClassifier(activation='relu', alpha= 0.0001, batch_size= 1, hidden_layer_sizes=(200,), learning_rate= 'constant', solver= 'adam', max_iter=400)\n",
    "]\n",
    "number_models = len(OGmodels)\n",
    "model_names = [type(model).__name__ for model in OGmodels]\n",
    "# Dictionary to track occurrences of each model name\n",
    "name_count = {}\n",
    "# Updated list to hold the unique model names\n",
    "unique_model_names = []\n",
    "\n",
    "for name in model_names:\n",
    "    if name in name_count:\n",
    "        # If the name is already seen, increment the count and append the number\n",
    "        name_count[name] += 1\n",
    "        unique_name = f\"{name}{name_count[name]}\"\n",
    "    else:\n",
    "        # If the name is seen for the first time, just use the name\n",
    "        name_count[name] = 1\n",
    "        unique_name = name\n",
    "    # Append the unique name to the result list\n",
    "    unique_model_names.append(unique_name)\n",
    "OGmodel_names=unique_model_names\n",
    "\n",
    "\n",
    "stack_model_names = [type(model).__name__ for model in OGstack_models]\n",
    "# Updated list to hold the unique model names\n",
    "\n",
    "unique_stack_model_names = []\n",
    "for name in stack_model_names:\n",
    "    if name in name_count:\n",
    "        # If the name is already seen, increment the count and append the number\n",
    "        name_count[name] += 1\n",
    "        unique_name = f\"{name}{name_count[name]}\"\n",
    "    else:\n",
    "        # If the name is seen for the first time, just use the name\n",
    "        name_count[name] = 1\n",
    "        unique_name = name\n",
    "    unique_stack_model_names.append(unique_name)\n",
    "OGstack_model_names = unique_stack_model_names\n",
    "\n",
    "print(OGmodel_names)\n",
    "print(OGstack_model_names)\n",
    "USEDmodels = OGmodels\n",
    "USEDmodelnames = OGmodel_names\n",
    "    \n",
    "    \n",
    "\n",
    "    \n",
    "le = LabelEncoder()\n",
    "x = pd.read_csv('') #your file here\n",
    "data = \"\" #give the data a name\n",
    "pd.set_option('display.max_rows', None)  # Show all rows\n",
    "pd.set_option('display.max_columns', None)  # Show all columns\n",
    "\n",
    " #Define the mapping\n",
    "mapping = {\n",
    "    'Squamous': 0,\n",
    "    'ADEX': 1,\n",
    "    'Pancreatic Progenitor': 2,\n",
    "    'Immunogenic': 3\n",
    "}\n",
    "\n",
    "# Map the values\n",
    "x['subtype'] = x['subtype'].map(mapping)\n",
    "\n",
    "classnumber = len(np.unique(x['subtype']))\n",
    "#print(classnumber)\n",
    "randomstate = 0\n",
    "# List of states\n",
    "states = list(range(20))\n",
    "run = 0\n",
    "print(\"run\", run)\n",
    "# Loop through each state and run the workflow\n",
    "for state in states:\n",
    "    workflow(x, USEDmodels, USEDmodelnames, randomstate=state)\n",
    "    run = run+1\n",
    "    "
   ]
  },
  {
   "cell_type": "markdown",
   "metadata": {},
   "source": [
    "## step 4 (2 model combinations)"
   ]
  },
  {
   "cell_type": "code",
   "execution_count": 9,
   "metadata": {
    "collapsed": true,
    "jupyter": {
     "outputs_hidden": true
    },
    "tags": []
   },
   "outputs": [
    {
     "name": "stdout",
     "output_type": "stream",
     "text": [
      "['SVC', 'SVC2', 'LogisticRegression', 'GaussianNB', 'XGBClassifier', 'KNeighborsClassifier', 'QuadraticDiscriminantAnalysis']\n",
      "['SVC3', 'SVC4']\n",
      "dict {'SVC': SVC(probability=True), 'SVC2': SVC(kernel='linear', probability=True), 'LogisticRegression': LogisticRegression(max_iter=700), 'GaussianNB': GaussianNB(), 'XGBClassifier': XGBClassifier(base_score=None, booster=None, callbacks=None,\n",
      "              colsample_bylevel=None, colsample_bynode=None,\n",
      "              colsample_bytree=None, device=None, early_stopping_rounds=None,\n",
      "              enable_categorical=False, eval_metric='logloss',\n",
      "              feature_types=None, gamma=None, grow_policy=None,\n",
      "              importance_type=None, interaction_constraints=None,\n",
      "              learning_rate=None, max_bin=None, max_cat_threshold=None,\n",
      "              max_cat_to_onehot=None, max_delta_step=None, max_depth=None,\n",
      "              max_leaves=None, min_child_weight=None, missing=nan,\n",
      "              monotone_constraints=None, multi_strategy=None, n_estimators=300,\n",
      "              n_jobs=None, num_parallel_tree=None, random_state=None, ...), 'KNeighborsClassifier': KNeighborsClassifier(), 'QuadraticDiscriminantAnalysis': QuadraticDiscriminantAnalysis(reg_param=1.0, store_covariance=True, tol=0.0)}\n",
      "dict {'SVC3': SVC(probability=True), 'SVC4': SVC(kernel='linear', probability=True)}\n",
      "Model Pair: SVC + SVC\n",
      "USEDmodelnames ['SVC', 'SVC2', 'tuple', 'SVC']\n",
      "Running with: SVC and SVC\n",
      "Random state: 0\n",
      "['SVC', 'SVC2', 'tuple', 'SVC']\n",
      "individual models\n",
      "cv\n",
      "individual models\n",
      "cv\n",
      "individual models\n",
      "cv\n",
      "individual models\n",
      "cv\n",
      "individual models\n",
      "cv\n",
      "individual models\n",
      "cv\n",
      "individual models\n",
      "cv\n",
      "individual models\n"
     ]
    },
    {
     "ename": "KeyboardInterrupt",
     "evalue": "",
     "output_type": "error",
     "traceback": [
      "\u001b[0;31m---------------------------------------------------------------------------\u001b[0m",
      "\u001b[0;31mKeyboardInterrupt\u001b[0m                         Traceback (most recent call last)",
      "Cell \u001b[0;32mIn[9], line 165\u001b[0m\n\u001b[1;32m    163\u001b[0m \u001b[38;5;66;03m# Loop through each state and run the workflow\u001b[39;00m\n\u001b[1;32m    164\u001b[0m \u001b[38;5;28;01mfor\u001b[39;00m state \u001b[38;5;129;01min\u001b[39;00m states:\n\u001b[0;32m--> 165\u001b[0m     \u001b[43mworkflow\u001b[49m\u001b[43m(\u001b[49m\u001b[43mx\u001b[49m\u001b[43m,\u001b[49m\u001b[43m \u001b[49m\u001b[43mUSEDmodels\u001b[49m\u001b[43m,\u001b[49m\u001b[43m \u001b[49m\u001b[43mUSEDmodelnames\u001b[49m\u001b[43m,\u001b[49m\u001b[43m \u001b[49m\u001b[43mrandomstate\u001b[49m\u001b[38;5;241;43m=\u001b[39;49m\u001b[43mstate\u001b[49m\u001b[43m)\u001b[49m\n\u001b[1;32m    167\u001b[0m \u001b[38;5;66;03m# Placeholder: print model names for demonstration\u001b[39;00m\n\u001b[1;32m    168\u001b[0m run \u001b[38;5;241m=\u001b[39m run\u001b[38;5;241m+\u001b[39m\u001b[38;5;241m1\u001b[39m\n",
      "Cell \u001b[0;32mIn[5], line 45\u001b[0m, in \u001b[0;36mworkflow\u001b[0;34m(x, USEDmodels, USEDmodelnames, randomstate)\u001b[0m\n\u001b[1;32m     42\u001b[0m model_names \u001b[38;5;241m=\u001b[39m USEDmodelnames\n\u001b[1;32m     43\u001b[0m \u001b[38;5;28mprint\u001b[39m(model_names)\n\u001b[0;32m---> 45\u001b[0m oof_prob_pred, oofTrueLabels, oof_pred, stacked, oofOGdata \u001b[38;5;241m=\u001b[39m \u001b[43mget_oof\u001b[49m\u001b[43m(\u001b[49m\u001b[43mxtrain\u001b[49m\u001b[43m,\u001b[49m\u001b[43m \u001b[49m\u001b[43mytrain\u001b[49m\u001b[43m,\u001b[49m\u001b[43m \u001b[49m\u001b[43mstacked\u001b[49m\u001b[43m,\u001b[49m\u001b[43m \u001b[49m\u001b[43mmodels\u001b[49m\u001b[43m,\u001b[49m\u001b[43m \u001b[49m\u001b[43mmodel_names\u001b[49m\u001b[43m,\u001b[49m\u001b[43m \u001b[49m\u001b[43mrandomstate\u001b[49m\u001b[43m)\u001b[49m\n\u001b[1;32m     47\u001b[0m end_time \u001b[38;5;241m=\u001b[39m time\u001b[38;5;241m.\u001b[39mtime()\n\u001b[1;32m     48\u001b[0m \u001b[38;5;66;03m# 计算并打印运行时间\u001b[39;00m\n",
      "Cell \u001b[0;32mIn[6], line 197\u001b[0m, in \u001b[0;36mget_oof\u001b[0;34m(xtrain, ytrain, stacked, models, model_names, randomstate)\u001b[0m\n\u001b[1;32m    189\u001b[0m \u001b[38;5;66;03m# Check if the key exists in the dictionary, then update accordingly\u001b[39;00m\n\u001b[1;32m    190\u001b[0m \u001b[38;5;66;03m# Check if validation data already exists in the dictionary\u001b[39;00m\n\u001b[1;32m    191\u001b[0m \n\u001b[1;32m    192\u001b[0m \u001b[38;5;66;03m#print(\"val_index\", val_index)\u001b[39;00m\n\u001b[1;32m    193\u001b[0m \u001b[38;5;66;03m#print(\"test index\", test_index)\u001b[39;00m\n\u001b[1;32m    195\u001b[0m \u001b[38;5;28;01mfor\u001b[39;00m idx, model \u001b[38;5;129;01min\u001b[39;00m \u001b[38;5;28menumerate\u001b[39m(models):\n\u001b[1;32m    196\u001b[0m     \u001b[38;5;66;03m#print(model)\u001b[39;00m\n\u001b[0;32m--> 197\u001b[0m     \u001b[43mmodel\u001b[49m\u001b[38;5;241;43m.\u001b[39;49m\u001b[43mfit\u001b[49m\u001b[43m(\u001b[49m\u001b[43mkf_x_train\u001b[49m\u001b[43m,\u001b[49m\u001b[43m \u001b[49m\u001b[43mkf_y_train\u001b[49m\u001b[43m)\u001b[49m \u001b[38;5;66;03m#training the model\u001b[39;00m\n\u001b[1;32m    198\u001b[0m     model_name \u001b[38;5;241m=\u001b[39m model_names[idx]\n\u001b[1;32m    199\u001b[0m     \u001b[38;5;66;03m#print(kf_x_val)\u001b[39;00m\n\u001b[1;32m    200\u001b[0m     \u001b[38;5;66;03m#print(xtest)\u001b[39;00m\n",
      "File \u001b[0;32m~/.local/lib/python3.8/site-packages/sklearn/base.py:1152\u001b[0m, in \u001b[0;36m_fit_context.<locals>.decorator.<locals>.wrapper\u001b[0;34m(estimator, *args, **kwargs)\u001b[0m\n\u001b[1;32m   1145\u001b[0m     estimator\u001b[38;5;241m.\u001b[39m_validate_params()\n\u001b[1;32m   1147\u001b[0m \u001b[38;5;28;01mwith\u001b[39;00m config_context(\n\u001b[1;32m   1148\u001b[0m     skip_parameter_validation\u001b[38;5;241m=\u001b[39m(\n\u001b[1;32m   1149\u001b[0m         prefer_skip_nested_validation \u001b[38;5;129;01mor\u001b[39;00m global_skip_validation\n\u001b[1;32m   1150\u001b[0m     )\n\u001b[1;32m   1151\u001b[0m ):\n\u001b[0;32m-> 1152\u001b[0m     \u001b[38;5;28;01mreturn\u001b[39;00m \u001b[43mfit_method\u001b[49m\u001b[43m(\u001b[49m\u001b[43mestimator\u001b[49m\u001b[43m,\u001b[49m\u001b[43m \u001b[49m\u001b[38;5;241;43m*\u001b[39;49m\u001b[43margs\u001b[49m\u001b[43m,\u001b[49m\u001b[43m \u001b[49m\u001b[38;5;241;43m*\u001b[39;49m\u001b[38;5;241;43m*\u001b[39;49m\u001b[43mkwargs\u001b[49m\u001b[43m)\u001b[49m\n",
      "File \u001b[0;32m~/.local/lib/python3.8/site-packages/sklearn/svm/_base.py:250\u001b[0m, in \u001b[0;36mBaseLibSVM.fit\u001b[0;34m(self, X, y, sample_weight)\u001b[0m\n\u001b[1;32m    247\u001b[0m     \u001b[38;5;28mprint\u001b[39m(\u001b[38;5;124m\"\u001b[39m\u001b[38;5;124m[LibSVM]\u001b[39m\u001b[38;5;124m\"\u001b[39m, end\u001b[38;5;241m=\u001b[39m\u001b[38;5;124m\"\u001b[39m\u001b[38;5;124m\"\u001b[39m)\n\u001b[1;32m    249\u001b[0m seed \u001b[38;5;241m=\u001b[39m rnd\u001b[38;5;241m.\u001b[39mrandint(np\u001b[38;5;241m.\u001b[39miinfo(\u001b[38;5;124m\"\u001b[39m\u001b[38;5;124mi\u001b[39m\u001b[38;5;124m\"\u001b[39m)\u001b[38;5;241m.\u001b[39mmax)\n\u001b[0;32m--> 250\u001b[0m \u001b[43mfit\u001b[49m\u001b[43m(\u001b[49m\u001b[43mX\u001b[49m\u001b[43m,\u001b[49m\u001b[43m \u001b[49m\u001b[43my\u001b[49m\u001b[43m,\u001b[49m\u001b[43m \u001b[49m\u001b[43msample_weight\u001b[49m\u001b[43m,\u001b[49m\u001b[43m \u001b[49m\u001b[43msolver_type\u001b[49m\u001b[43m,\u001b[49m\u001b[43m \u001b[49m\u001b[43mkernel\u001b[49m\u001b[43m,\u001b[49m\u001b[43m \u001b[49m\u001b[43mrandom_seed\u001b[49m\u001b[38;5;241;43m=\u001b[39;49m\u001b[43mseed\u001b[49m\u001b[43m)\u001b[49m\n\u001b[1;32m    251\u001b[0m \u001b[38;5;66;03m# see comment on the other call to np.iinfo in this file\u001b[39;00m\n\u001b[1;32m    253\u001b[0m \u001b[38;5;28mself\u001b[39m\u001b[38;5;241m.\u001b[39mshape_fit_ \u001b[38;5;241m=\u001b[39m X\u001b[38;5;241m.\u001b[39mshape \u001b[38;5;28;01mif\u001b[39;00m \u001b[38;5;28mhasattr\u001b[39m(X, \u001b[38;5;124m\"\u001b[39m\u001b[38;5;124mshape\u001b[39m\u001b[38;5;124m\"\u001b[39m) \u001b[38;5;28;01melse\u001b[39;00m (n_samples,)\n",
      "File \u001b[0;32m~/.local/lib/python3.8/site-packages/sklearn/svm/_base.py:329\u001b[0m, in \u001b[0;36mBaseLibSVM._dense_fit\u001b[0;34m(self, X, y, sample_weight, solver_type, kernel, random_seed)\u001b[0m\n\u001b[1;32m    315\u001b[0m libsvm\u001b[38;5;241m.\u001b[39mset_verbosity_wrap(\u001b[38;5;28mself\u001b[39m\u001b[38;5;241m.\u001b[39mverbose)\n\u001b[1;32m    317\u001b[0m \u001b[38;5;66;03m# we don't pass **self.get_params() to allow subclasses to\u001b[39;00m\n\u001b[1;32m    318\u001b[0m \u001b[38;5;66;03m# add other parameters to __init__\u001b[39;00m\n\u001b[1;32m    319\u001b[0m (\n\u001b[1;32m    320\u001b[0m     \u001b[38;5;28mself\u001b[39m\u001b[38;5;241m.\u001b[39msupport_,\n\u001b[1;32m    321\u001b[0m     \u001b[38;5;28mself\u001b[39m\u001b[38;5;241m.\u001b[39msupport_vectors_,\n\u001b[1;32m    322\u001b[0m     \u001b[38;5;28mself\u001b[39m\u001b[38;5;241m.\u001b[39m_n_support,\n\u001b[1;32m    323\u001b[0m     \u001b[38;5;28mself\u001b[39m\u001b[38;5;241m.\u001b[39mdual_coef_,\n\u001b[1;32m    324\u001b[0m     \u001b[38;5;28mself\u001b[39m\u001b[38;5;241m.\u001b[39mintercept_,\n\u001b[1;32m    325\u001b[0m     \u001b[38;5;28mself\u001b[39m\u001b[38;5;241m.\u001b[39m_probA,\n\u001b[1;32m    326\u001b[0m     \u001b[38;5;28mself\u001b[39m\u001b[38;5;241m.\u001b[39m_probB,\n\u001b[1;32m    327\u001b[0m     \u001b[38;5;28mself\u001b[39m\u001b[38;5;241m.\u001b[39mfit_status_,\n\u001b[1;32m    328\u001b[0m     \u001b[38;5;28mself\u001b[39m\u001b[38;5;241m.\u001b[39m_num_iter,\n\u001b[0;32m--> 329\u001b[0m ) \u001b[38;5;241m=\u001b[39m \u001b[43mlibsvm\u001b[49m\u001b[38;5;241;43m.\u001b[39;49m\u001b[43mfit\u001b[49m\u001b[43m(\u001b[49m\n\u001b[1;32m    330\u001b[0m \u001b[43m    \u001b[49m\u001b[43mX\u001b[49m\u001b[43m,\u001b[49m\n\u001b[1;32m    331\u001b[0m \u001b[43m    \u001b[49m\u001b[43my\u001b[49m\u001b[43m,\u001b[49m\n\u001b[1;32m    332\u001b[0m \u001b[43m    \u001b[49m\u001b[43msvm_type\u001b[49m\u001b[38;5;241;43m=\u001b[39;49m\u001b[43msolver_type\u001b[49m\u001b[43m,\u001b[49m\n\u001b[1;32m    333\u001b[0m \u001b[43m    \u001b[49m\u001b[43msample_weight\u001b[49m\u001b[38;5;241;43m=\u001b[39;49m\u001b[43msample_weight\u001b[49m\u001b[43m,\u001b[49m\n\u001b[1;32m    334\u001b[0m \u001b[43m    \u001b[49m\u001b[38;5;66;43;03m# TODO(1.4): Replace \"_class_weight\" with \"class_weight_\"\u001b[39;49;00m\n\u001b[1;32m    335\u001b[0m \u001b[43m    \u001b[49m\u001b[43mclass_weight\u001b[49m\u001b[38;5;241;43m=\u001b[39;49m\u001b[38;5;28;43mgetattr\u001b[39;49m\u001b[43m(\u001b[49m\u001b[38;5;28;43mself\u001b[39;49m\u001b[43m,\u001b[49m\u001b[43m \u001b[49m\u001b[38;5;124;43m\"\u001b[39;49m\u001b[38;5;124;43m_class_weight\u001b[39;49m\u001b[38;5;124;43m\"\u001b[39;49m\u001b[43m,\u001b[49m\u001b[43m \u001b[49m\u001b[43mnp\u001b[49m\u001b[38;5;241;43m.\u001b[39;49m\u001b[43mempty\u001b[49m\u001b[43m(\u001b[49m\u001b[38;5;241;43m0\u001b[39;49m\u001b[43m)\u001b[49m\u001b[43m)\u001b[49m\u001b[43m,\u001b[49m\n\u001b[1;32m    336\u001b[0m \u001b[43m    \u001b[49m\u001b[43mkernel\u001b[49m\u001b[38;5;241;43m=\u001b[39;49m\u001b[43mkernel\u001b[49m\u001b[43m,\u001b[49m\n\u001b[1;32m    337\u001b[0m \u001b[43m    \u001b[49m\u001b[43mC\u001b[49m\u001b[38;5;241;43m=\u001b[39;49m\u001b[38;5;28;43mself\u001b[39;49m\u001b[38;5;241;43m.\u001b[39;49m\u001b[43mC\u001b[49m\u001b[43m,\u001b[49m\n\u001b[1;32m    338\u001b[0m \u001b[43m    \u001b[49m\u001b[43mnu\u001b[49m\u001b[38;5;241;43m=\u001b[39;49m\u001b[38;5;28;43mself\u001b[39;49m\u001b[38;5;241;43m.\u001b[39;49m\u001b[43mnu\u001b[49m\u001b[43m,\u001b[49m\n\u001b[1;32m    339\u001b[0m \u001b[43m    \u001b[49m\u001b[43mprobability\u001b[49m\u001b[38;5;241;43m=\u001b[39;49m\u001b[38;5;28;43mself\u001b[39;49m\u001b[38;5;241;43m.\u001b[39;49m\u001b[43mprobability\u001b[49m\u001b[43m,\u001b[49m\n\u001b[1;32m    340\u001b[0m \u001b[43m    \u001b[49m\u001b[43mdegree\u001b[49m\u001b[38;5;241;43m=\u001b[39;49m\u001b[38;5;28;43mself\u001b[39;49m\u001b[38;5;241;43m.\u001b[39;49m\u001b[43mdegree\u001b[49m\u001b[43m,\u001b[49m\n\u001b[1;32m    341\u001b[0m \u001b[43m    \u001b[49m\u001b[43mshrinking\u001b[49m\u001b[38;5;241;43m=\u001b[39;49m\u001b[38;5;28;43mself\u001b[39;49m\u001b[38;5;241;43m.\u001b[39;49m\u001b[43mshrinking\u001b[49m\u001b[43m,\u001b[49m\n\u001b[1;32m    342\u001b[0m \u001b[43m    \u001b[49m\u001b[43mtol\u001b[49m\u001b[38;5;241;43m=\u001b[39;49m\u001b[38;5;28;43mself\u001b[39;49m\u001b[38;5;241;43m.\u001b[39;49m\u001b[43mtol\u001b[49m\u001b[43m,\u001b[49m\n\u001b[1;32m    343\u001b[0m \u001b[43m    \u001b[49m\u001b[43mcache_size\u001b[49m\u001b[38;5;241;43m=\u001b[39;49m\u001b[38;5;28;43mself\u001b[39;49m\u001b[38;5;241;43m.\u001b[39;49m\u001b[43mcache_size\u001b[49m\u001b[43m,\u001b[49m\n\u001b[1;32m    344\u001b[0m \u001b[43m    \u001b[49m\u001b[43mcoef0\u001b[49m\u001b[38;5;241;43m=\u001b[39;49m\u001b[38;5;28;43mself\u001b[39;49m\u001b[38;5;241;43m.\u001b[39;49m\u001b[43mcoef0\u001b[49m\u001b[43m,\u001b[49m\n\u001b[1;32m    345\u001b[0m \u001b[43m    \u001b[49m\u001b[43mgamma\u001b[49m\u001b[38;5;241;43m=\u001b[39;49m\u001b[38;5;28;43mself\u001b[39;49m\u001b[38;5;241;43m.\u001b[39;49m\u001b[43m_gamma\u001b[49m\u001b[43m,\u001b[49m\n\u001b[1;32m    346\u001b[0m \u001b[43m    \u001b[49m\u001b[43mepsilon\u001b[49m\u001b[38;5;241;43m=\u001b[39;49m\u001b[38;5;28;43mself\u001b[39;49m\u001b[38;5;241;43m.\u001b[39;49m\u001b[43mepsilon\u001b[49m\u001b[43m,\u001b[49m\n\u001b[1;32m    347\u001b[0m \u001b[43m    \u001b[49m\u001b[43mmax_iter\u001b[49m\u001b[38;5;241;43m=\u001b[39;49m\u001b[38;5;28;43mself\u001b[39;49m\u001b[38;5;241;43m.\u001b[39;49m\u001b[43mmax_iter\u001b[49m\u001b[43m,\u001b[49m\n\u001b[1;32m    348\u001b[0m \u001b[43m    \u001b[49m\u001b[43mrandom_seed\u001b[49m\u001b[38;5;241;43m=\u001b[39;49m\u001b[43mrandom_seed\u001b[49m\u001b[43m,\u001b[49m\n\u001b[1;32m    349\u001b[0m \u001b[43m\u001b[49m\u001b[43m)\u001b[49m\n\u001b[1;32m    351\u001b[0m \u001b[38;5;28mself\u001b[39m\u001b[38;5;241m.\u001b[39m_warn_from_fit_status()\n",
      "\u001b[0;31mKeyboardInterrupt\u001b[0m: "
     ]
    }
   ],
   "source": [
    "# run for all combinations of 2 models\n",
    "# Define your models\n",
    "import itertools\n",
    "\n",
    "\n",
    "run = 0\n",
    "\n",
    "\n",
    "mlpparameters = {\n",
    "\"activation\": \"relu\",\n",
    "\"alpha\": 0.0001,\n",
    "\"learning_rate\": \"constant\",\n",
    "\"max_iter\": 210,\n",
    "\"batch_size\": 8,\n",
    "\"solver\": \"adam\",\n",
    "\n",
    "\"hidden_layer_sizes\": (100, 100)\n",
    "}\n",
    "OGmodels = [\n",
    "    SVC(kernel=\"rbf\", probability=True),\n",
    "    SVC(kernel=\"linear\", probability=True),\n",
    "    LogisticRegression(max_iter=700),\n",
    "    GaussianNB(),\n",
    "    XGBClassifier(n_estimators=300, use_label_encoder=False, eval_metric='logloss'),\n",
    "    KNeighborsClassifier(),\n",
    "    QuadraticDiscriminantAnalysis(reg_param=1.0, store_covariance=True, tol=0.000)\n",
    "]\n",
    "\n",
    "\n",
    "OGstack_models = [\n",
    "    #MLPClassifier(**mlpparameters),\n",
    "    #RandomForestClassifier(),\n",
    "    #LogisticRegression(max_iter=700),\n",
    "    #GaussianNB(),\n",
    "    SVC(kernel=\"rbf\", probability=True),\n",
    "    SVC(kernel=\"linear\", probability=True),\n",
    "    #MLPClassifier(activation='relu', alpha= 0.0001, batch_size= 1, hidden_layer_sizes=(200,), learning_rate= 'constant', solver= 'adam', max_iter=400)\n",
    "]\n",
    "\n",
    "number_models = len(OGmodels)\n",
    "model_names = [type(model).__name__ for model in OGmodels]\n",
    "# Dictionary to track occurrences of each model name\n",
    "name_count = {}\n",
    "# Updated list to hold the unique model names\n",
    "unique_model_names = []\n",
    "\n",
    "for name in model_names:\n",
    "    if name in name_count:\n",
    "        # If the name is already seen, increment the count and append the number\n",
    "        name_count[name] += 1\n",
    "        unique_name = f\"{name}{name_count[name]}\"\n",
    "    else:\n",
    "        # If the name is seen for the first time, just use the name\n",
    "        name_count[name] = 1\n",
    "        unique_name = name\n",
    "    # Append the unique name to the result list\n",
    "    unique_model_names.append(unique_name)\n",
    "OGmodel_names=unique_model_names\n",
    "\n",
    "\n",
    "stack_model_names = [type(model).__name__ for model in OGstack_models]\n",
    "# Updated list to hold the unique model names\n",
    "\n",
    "unique_stack_model_names = []\n",
    "for name in stack_model_names:\n",
    "    if name in name_count:\n",
    "        # If the name is already seen, increment the count and append the number\n",
    "        name_count[name] += 1\n",
    "        unique_name = f\"{name}{name_count[name]}\"\n",
    "    else:\n",
    "        # If the name is seen for the first time, just use the name\n",
    "        name_count[name] = 1\n",
    "        unique_name = name\n",
    "    unique_stack_model_names.append(unique_name)\n",
    "OGstack_model_names = unique_stack_model_names\n",
    "\n",
    "print(OGmodel_names)\n",
    "print(OGstack_model_names)\n",
    "\n",
    "\n",
    "\n",
    "# Create a dictionary that maps model names to model instances\n",
    "OGmodel_dict = dict(zip(OGmodel_names, OGmodels))\n",
    "\n",
    "# Print the combined dictionary\n",
    "print(\"dict\", OGmodel_dict)\n",
    "\n",
    "OGstack_model_dict = dict(zip(OGstack_model_names, OGstack_models))\n",
    "\n",
    "# Print the combined dictionary\n",
    "print(\"dict\", OGstack_model_dict)\n",
    "\n",
    "\n",
    "\n",
    "\n",
    "# Create all combinations of 2 classifiers from OGmodels\n",
    "model_combinations = list(itertools.combinations(OGmodels, 2))\n",
    "#print(\"model combinations\", model_combinations)\n",
    "\n",
    "# Iterate over each combination of models\n",
    "for model1, model2 in model_combinations:\n",
    "    print(f\"Model Pair: {type(model1).__name__} + {type(model2).__name__}\")\n",
    "    USEDmodels = [model1, model2]\n",
    "    \n",
    "    # Function to find the key corresponding to a model\n",
    "    def find_model_key(model_dict, input_model):\n",
    "        # Get the input model's parameters\n",
    "        input_params = input_model.get_params()\n",
    "\n",
    "        # Iterate through the dictionary\n",
    "        for key, model in model_dict.items():\n",
    "            # Compare parameters of the current model in the dictionary with the input model\n",
    "            if model.get_params() == input_params:\n",
    "                return key  # Return the key if the model parameters match\n",
    "\n",
    "        return None  # Return None if no match is found\n",
    "\n",
    "    # Find the key for the input model\n",
    "    \n",
    "\n",
    "    \n",
    "    model_key1 = find_model_key(OGmodel_dict, model1)\n",
    "    model_key2 = find_model_key(OGmodel_dict, model2)\n",
    "    \n",
    "    \n",
    "        #add the svms here\n",
    "    model3 = SVC(kernel=\"rbf\", probability=True),\n",
    "    model4 = SVC(kernel=\"linear\", probability=True)\n",
    "    \n",
    "    model_key3 = type(model3).__name__\n",
    "    model_key4 = type(model4).__name__\n",
    "    \n",
    "    \n",
    "  \n",
    "    USEDmodelnames = [model_key1, model_key2, model_key3, model_key4]\n",
    "    print(\"USEDmodelnames\", USEDmodelnames)\n",
    "    \n",
    "    le = LabelEncoder()\n",
    "    x = pd.read_csv('') #your file here\n",
    "    data = \"\" #give the data a name\n",
    "    pd.set_option('display.max_rows', None)  # Show all rows\n",
    "    pd.set_option('display.max_columns', None)  # Show all columns\n",
    "    #print(x['subtype'])\n",
    "    #x['subtype'] = le.fit_transform(x['subtype'])\n",
    "\n",
    "     #Define the mapping\n",
    "    mapping = {\n",
    "        'Squamous': 0,\n",
    "        'ADEX': 1,\n",
    "        'Pancreatic Progenitor': 2,\n",
    "        'Immunogenic': 3\n",
    "    }\n",
    "\n",
    "    # Map the values\n",
    "    x['subtype'] = x['subtype'].map(mapping)\n",
    "\n",
    "    classnumber = len(np.unique(x['subtype']))\n",
    "    #print(classnumber)\n",
    "    randomstate = 0\n",
    "    # List of states\n",
    "    states = list(range(1))\n",
    "    print(f\"Running with: {type(model1).__name__} and {type(model2).__name__}\")\n",
    "    models = {model1, model2}\n",
    "    # Loop through each state and run the workflow\n",
    "    for state in states:\n",
    "        workflow(x, USEDmodels, USEDmodelnames, randomstate=state)\n",
    "    \n",
    "    # Placeholder: print model names for demonstration\n",
    "    run = run+1\n",
    "    print(\"run\", run)\n",
    "    \n",
    "    # Process the models or create a stack of models\n",
    "    # Example of stacking:\n",
    "    # stack_model = [model1, model2]  # or any other combination logic\n",
    "    # You can add your desired workflow for each model pair here\n",
    "    \n",
    "    \n",
    "    "
   ]
  },
  {
   "cell_type": "markdown",
   "metadata": {},
   "source": [
    "## step 4 (4 model combinations)"
   ]
  },
  {
   "cell_type": "code",
   "execution_count": null,
   "metadata": {
    "collapsed": true,
    "jupyter": {
     "outputs_hidden": true
    },
    "tags": []
   },
   "outputs": [
    {
     "name": "stdout",
     "output_type": "stream",
     "text": [
      "['SVC', 'SVC2', 'LogisticRegression', 'GaussianNB', 'XGBClassifier', 'KNeighborsClassifier', 'QuadraticDiscriminantAnalysis']\n",
      "['MLPClassifier', 'RandomForestClassifier', 'LogisticRegression2', 'GaussianNB2', 'SVC3', 'SVC4']\n",
      "dict {'SVC': SVC(probability=True), 'SVC2': SVC(kernel='linear', probability=True), 'LogisticRegression': LogisticRegression(max_iter=700), 'GaussianNB': GaussianNB(), 'XGBClassifier': XGBClassifier(base_score=None, booster=None, callbacks=None,\n",
      "              colsample_bylevel=None, colsample_bynode=None,\n",
      "              colsample_bytree=None, device=None, early_stopping_rounds=None,\n",
      "              enable_categorical=False, eval_metric='logloss',\n",
      "              feature_types=None, gamma=None, grow_policy=None,\n",
      "              importance_type=None, interaction_constraints=None,\n",
      "              learning_rate=None, max_bin=None, max_cat_threshold=None,\n",
      "              max_cat_to_onehot=None, max_delta_step=None, max_depth=None,\n",
      "              max_leaves=None, min_child_weight=None, missing=nan,\n",
      "              monotone_constraints=None, multi_strategy=None, n_estimators=300,\n",
      "              n_jobs=None, num_parallel_tree=None, random_state=None, ...), 'KNeighborsClassifier': KNeighborsClassifier(), 'QuadraticDiscriminantAnalysis': QuadraticDiscriminantAnalysis(reg_param=1.0, store_covariance=True, tol=0.0)}\n",
      "dict {'MLPClassifier': MLPClassifier(batch_size=8, hidden_layer_sizes=(100, 100), max_iter=210), 'RandomForestClassifier': RandomForestClassifier(), 'LogisticRegression2': LogisticRegression(max_iter=700), 'GaussianNB2': GaussianNB(), 'SVC3': SVC(probability=True), 'SVC4': SVC(kernel='linear', probability=True)}\n",
      "Model Pair: SVC + SVC + LogisticRegression + GaussianNB\n",
      "USEDmodelnames ['SVC', 'SVC2', 'LogisticRegression', 'GaussianNB']\n",
      "Running with: SVC and SVC and LogisticRegression and GaussianNB\n",
      "Random state: 0\n",
      "['SVC', 'SVC2', 'LogisticRegression', 'GaussianNB']\n",
      "individual models\n",
      "cv\n",
      "individual models\n",
      "cv\n",
      "individual models\n",
      "cv\n",
      "individual models\n",
      "cv\n",
      "individual models\n",
      "cv\n",
      "individual models\n",
      "cv\n",
      "individual models\n",
      "cv\n",
      "individual models\n",
      "cv\n",
      "individual models\n",
      "cv\n",
      "individual models\n",
      "cv\n",
      "individual models\n",
      "cv\n",
      "individual models\n",
      "cv\n",
      "individual models\n",
      "cv\n",
      "individual models\n",
      "cv\n",
      "individual models\n",
      "cv\n",
      "individual models\n",
      "cv\n",
      "individual models\n",
      "cv\n",
      "individual models\n",
      "cv\n",
      "individual models\n",
      "cv\n",
      "individual models\n",
      "cv\n",
      "individual models\n",
      "cv\n",
      "individual models\n",
      "cv\n",
      "individual models\n",
      "cv\n",
      "individual models\n",
      "cv\n",
      "individual models\n",
      "cv\n",
      "individual models\n",
      "cv\n",
      "individual models\n",
      "cv\n",
      "individual models\n",
      "cv\n",
      "individual models\n",
      "cv\n",
      "individual models\n",
      "cv\n",
      "individual models\n",
      "cv\n",
      "individual models\n",
      "cv\n",
      "individual models\n",
      "cv\n",
      "individual models\n",
      "cv\n",
      "individual models\n",
      "cv\n",
      "individual models\n",
      "cv\n",
      "individual models\n",
      "cv\n",
      "individual models\n",
      "cv\n",
      "individual models\n",
      "cv\n",
      "individual models\n",
      "cv\n",
      "individual models\n",
      "cv\n",
      "individual models\n",
      "cv\n",
      "individual models\n",
      "cv\n",
      "individual models\n",
      "cv\n",
      "individual models\n",
      "cv\n",
      "individual models\n",
      "cv\n",
      "individual models\n",
      "cv\n",
      "individual models\n",
      "cv\n",
      "individual models\n",
      "cv\n",
      "individual models\n",
      "cv\n",
      "individual models\n",
      "cv\n",
      "individual models\n",
      "cv\n",
      "individual models\n",
      "cv\n",
      "individual models\n",
      "cv\n",
      "individual models\n",
      "cv\n",
      "individual models\n",
      "cv\n",
      "individual models\n",
      "cv\n",
      "individual models\n",
      "cv\n",
      "individual models\n",
      "cv\n",
      "individual models\n",
      "cv\n",
      "individual models\n",
      "cv\n",
      "individual models\n",
      "cv\n",
      "individual models\n",
      "cv\n",
      "individual models\n",
      "cv\n",
      "individual models\n",
      "cv\n",
      "individual models\n",
      "cv\n",
      "individual models\n",
      "cv\n",
      "individual models\n",
      "cv\n",
      "individual models\n",
      "cv\n",
      "individual models\n",
      "cv\n",
      "individual models\n",
      "cv\n",
      "individual models\n",
      "cv\n",
      "individual models\n",
      "cv\n",
      "individual models\n",
      "cv\n",
      "individual models\n",
      "cv\n",
      "individual models\n",
      "cv\n",
      "individual models\n",
      "cv\n",
      "individual models\n",
      "cv\n",
      "individual models\n",
      "cv\n",
      "individual models\n",
      "cv\n",
      "individual models\n",
      "cv\n",
      "individual models\n",
      "cv\n",
      "individual models\n",
      "cv\n",
      "individual models\n",
      "cv\n",
      "individual models\n",
      "cv\n",
      "individual models\n",
      "cv\n",
      "individual models\n",
      "cv\n",
      "individual models\n",
      "cv\n",
      "individual models\n",
      "cv\n",
      "individual models\n",
      "cv\n",
      "individual models\n",
      "cv\n",
      "individual models\n",
      "cv\n",
      "individual models\n",
      "cv\n",
      "individual models\n",
      "cv\n",
      "individual models\n",
      "cv\n",
      "individual models\n",
      "cv\n",
      "\n",
      "model score of oof results for SVC\n",
      "Model Accuracy: 0.875\n",
      "Precision: 0.8798649267399267\n",
      "Recall (Sensitivity): 0.875\n",
      "F1 Score: 0.8751610313936894\n",
      "Matthews Correlation Coefficient (MCC): 0.8329181448543629\n",
      "G-Measure: 0.9162567046538834\n",
      "AUC: 0.9873495073979228\n",
      "Specificity: 0.9582719803670507\n",
      "Jaccard Index: 0.7779538993943889\n",
      "Saving metrics to: /work/wanlab/nick//stackeval0/val_data/individual models/SVC/limma(0),metrics.csv\n",
      "PREDICTIONS                   subtype  Squamous      ADEX  Pancreatic Progenitor  \\\n",
      "0   Pancreatic Progenitor  0.107197  0.037900               0.827239   \n",
      "1                    ADEX  0.039019  0.893834               0.018384   \n",
      "2   Pancreatic Progenitor  0.239833  0.212915               0.515814   \n",
      "3   Pancreatic Progenitor  0.005842  0.054026               0.888437   \n",
      "4                    ADEX  0.108736  0.719005               0.148974   \n",
      "..                    ...       ...       ...                    ...   \n",
      "91            Immunogenic  0.007022  0.058385               0.008986   \n",
      "92                   ADEX  0.012291  0.715215               0.234359   \n",
      "93            Immunogenic  0.046324  0.043462               0.368150   \n",
      "94               Squamous  0.609709  0.058682               0.297783   \n",
      "95  Pancreatic Progenitor  0.003107  0.019881               0.857744   \n",
      "\n",
      "    Immunogenic  \n",
      "0      0.027664  \n",
      "1      0.048763  \n",
      "2      0.031438  \n",
      "3      0.051695  \n",
      "4      0.023285  \n",
      "..          ...  \n",
      "91     0.925607  \n",
      "92     0.038135  \n",
      "93     0.542065  \n",
      "94     0.033827  \n",
      "95     0.119268  \n",
      "\n",
      "[96 rows x 5 columns]\n",
      "\n",
      "model score of oof results for SVC2\n",
      "Model Accuracy: 0.9270833333333334\n",
      "Precision: 0.9282457295657727\n",
      "Recall (Sensitivity): 0.9270833333333334\n",
      "F1 Score: 0.927124353652804\n",
      "Matthews Correlation Coefficient (MCC): 0.9017909960019698\n",
      "G-Measure: 0.9519085598926197\n",
      "AUC: 0.9866550629534784\n",
      "Specificity: 0.9752147353819889\n",
      "Jaccard Index: 0.8669652957336781\n",
      "Saving metrics to: /work/wanlab/nick//stackeval0/val_data/individual models/SVC2/limma(0),metrics.csv\n",
      "PREDICTIONS                   subtype  Squamous      ADEX  Pancreatic Progenitor  \\\n",
      "0   Pancreatic Progenitor  0.178692  0.041672               0.741834   \n",
      "1                    ADEX  0.068922  0.830466               0.030016   \n",
      "2   Pancreatic Progenitor  0.334642  0.152815               0.473128   \n",
      "3   Pancreatic Progenitor  0.013650  0.084023               0.844003   \n",
      "4                    ADEX  0.253644  0.448125               0.264078   \n",
      "..                    ...       ...       ...                    ...   \n",
      "91            Immunogenic  0.016778  0.085084               0.012259   \n",
      "92                   ADEX  0.022805  0.766810               0.122257   \n",
      "93            Immunogenic  0.073479  0.028226               0.667105   \n",
      "94               Squamous  0.571068  0.025741               0.385627   \n",
      "95  Pancreatic Progenitor  0.004588  0.027352               0.745015   \n",
      "\n",
      "    Immunogenic  \n",
      "0      0.037801  \n",
      "1      0.070596  \n",
      "2      0.039415  \n",
      "3      0.058325  \n",
      "4      0.034154  \n",
      "..          ...  \n",
      "91     0.885880  \n",
      "92     0.088128  \n",
      "93     0.231190  \n",
      "94     0.017564  \n",
      "95     0.223046  \n",
      "\n",
      "[96 rows x 5 columns]\n",
      "\n",
      "model score of oof results for LogisticRegression\n",
      "Model Accuracy: 0.90625\n",
      "Precision: 0.907241010904804\n",
      "Recall (Sensitivity): 0.90625\n",
      "F1 Score: 0.9063258253912099\n",
      "Matthews Correlation Coefficient (MCC): 0.8733101573111083\n",
      "G-Measure: 0.9352788514023854\n",
      "AUC: 0.987585527368758\n",
      "Specificity: 0.9681724818608621\n",
      "Jaccard Index: 0.8275341386554622\n",
      "Saving metrics to: /work/wanlab/nick//stackeval0/val_data/individual models/LogisticRegression/limma(0),metrics.csv\n",
      "PREDICTIONS                   subtype      Squamous      ADEX  Pancreatic Progenitor  \\\n",
      "0   Pancreatic Progenitor  3.032983e-03  0.000254           9.966280e-01   \n",
      "1                    ADEX  7.699082e-05  0.999117           5.511734e-06   \n",
      "2   Pancreatic Progenitor  1.733089e-01  0.021542           8.050540e-01   \n",
      "3   Pancreatic Progenitor  8.482411e-06  0.007792           9.913168e-01   \n",
      "4                    ADEX  7.132894e-02  0.852495           7.609491e-02   \n",
      "..                    ...           ...       ...                    ...   \n",
      "91            Immunogenic  5.533628e-08  0.000009           1.133365e-08   \n",
      "92                   ADEX  7.055326e-06  0.983643           1.421599e-02   \n",
      "93            Immunogenic  6.291252e-03  0.001291           8.522605e-01   \n",
      "94               Squamous  8.284744e-01  0.000136           1.713615e-01   \n",
      "95  Pancreatic Progenitor  4.285721e-09  0.000005           9.879981e-01   \n",
      "\n",
      "    Immunogenic  \n",
      "0      0.000085  \n",
      "1      0.000800  \n",
      "2      0.000095  \n",
      "3      0.000883  \n",
      "4      0.000081  \n",
      "..          ...  \n",
      "91     0.999991  \n",
      "92     0.002134  \n",
      "93     0.140158  \n",
      "94     0.000028  \n",
      "95     0.011997  \n",
      "\n",
      "[96 rows x 5 columns]\n",
      "\n",
      "model score of oof results for GaussianNB\n",
      "Model Accuracy: 0.8020833333333334\n",
      "Precision: 0.8112185846560847\n",
      "Recall (Sensitivity): 0.8020833333333334\n",
      "F1 Score: 0.7952737132588884\n",
      "Matthews Correlation Coefficient (MCC): 0.7333724224567384\n",
      "G-Measure: 0.8403667059102383\n",
      "AUC: 0.9361885803457106\n",
      "Specificity: 0.9310939500640205\n",
      "Jaccard Index: 0.648394185260311\n",
      "Saving metrics to: /work/wanlab/nick//stackeval0/val_data/individual models/GaussianNB/limma(0),metrics.csv\n",
      "PREDICTIONS                   subtype  Squamous           ADEX  Pancreatic Progenitor  \\\n",
      "0   Pancreatic Progenitor       0.0  1.482197e-323           1.000000e+00   \n",
      "1                    ADEX       0.0   1.000000e+00          1.346905e-266   \n",
      "2   Pancreatic Progenitor       0.0  6.020797e-100           1.000000e+00   \n",
      "3   Pancreatic Progenitor       0.0   0.000000e+00           1.000000e+00   \n",
      "4                    ADEX       0.0  1.694739e-118           1.000000e+00   \n",
      "..                    ...       ...            ...                    ...   \n",
      "91            Immunogenic       0.0   0.000000e+00           0.000000e+00   \n",
      "92                   ADEX       0.0   8.249520e-66           1.000000e+00   \n",
      "93            Immunogenic       0.0   0.000000e+00           7.728747e-43   \n",
      "94               Squamous       1.0   3.793719e-08           0.000000e+00   \n",
      "95  Pancreatic Progenitor       0.0   0.000000e+00           1.000000e+00   \n",
      "\n",
      "      Immunogenic  \n",
      "0    0.000000e+00  \n",
      "1   1.591372e-184  \n",
      "2    0.000000e+00  \n",
      "3    0.000000e+00  \n",
      "4   7.139117e-233  \n",
      "..            ...  \n",
      "91   1.000000e+00  \n",
      "92  1.307750e-236  \n",
      "93   1.000000e+00  \n",
      "94   0.000000e+00  \n",
      "95   0.000000e+00  \n",
      "\n",
      "[96 rows x 5 columns]\n",
      "运行时间为: 189.54 秒\n",
      "combining [[1.07197106e-001 3.78997700e-002 8.27238925e-001 ... 1.48219694e-323\n",
      "  1.00000000e+000 0.00000000e+000]\n",
      " [3.90189947e-002 8.93833817e-001 1.83839103e-002 ... 1.00000000e+000\n",
      "  1.34690507e-266 1.59137162e-184]\n",
      " [2.39832780e-001 2.12915140e-001 5.15813706e-001 ... 6.02079667e-100\n",
      "  1.00000000e+000 0.00000000e+000]\n",
      " ...\n",
      " [4.63236057e-002 4.34616454e-002 3.68149985e-001 ... 0.00000000e+000\n",
      "  7.72874690e-043 1.00000000e+000]\n",
      " [6.09709208e-001 5.86816502e-002 2.97782599e-001 ... 3.79371912e-008\n",
      "  0.00000000e+000 0.00000000e+000]\n",
      " [3.10701715e-003 1.98805867e-002 8.57744010e-001 ... 0.00000000e+000\n",
      "  1.00000000e+000 0.00000000e+000]] [[13.56018914 12.68466835 13.10243664 ...  9.53005478 11.16103308\n",
      "  11.24920229]\n",
      " [15.4259582  14.08525845 12.01110512 ...  9.45622747 11.12707631\n",
      "  11.78331935]\n",
      " [14.4756837  13.26517897 12.82291838 ...  9.65623065 11.33179862\n",
      "  11.68015036]\n",
      " ...\n",
      " [14.28976923 13.62192201 12.67277184 ...  9.32578912  9.67174085\n",
      "  11.45401981]\n",
      " [14.71684472 13.81278796 13.58508909 ... 10.31590684 12.7838795\n",
      "  11.90067493]\n",
      " [14.18823419 12.92657629 11.70868561 ...  9.88942006  9.76636631\n",
      "  12.84604452]]\n",
      "stacked\n",
      "cv\n",
      "stacked\n",
      "cv\n",
      "stacked\n",
      "cv\n",
      "stacked\n",
      "cv\n",
      "stacked\n",
      "cv\n",
      "stacked\n",
      "cv\n",
      "stacked\n",
      "cv\n",
      "stacked\n",
      "cv\n",
      "stacked\n",
      "cv\n",
      "stacked\n",
      "cv\n",
      "stacked\n",
      "cv\n",
      "stacked\n",
      "cv\n",
      "stacked\n",
      "cv\n",
      "stacked\n",
      "cv\n",
      "stacked\n",
      "cv\n",
      "stacked\n",
      "cv\n",
      "stacked\n",
      "cv\n",
      "stacked\n",
      "cv\n",
      "stacked\n",
      "cv\n",
      "stacked\n",
      "cv\n",
      "stacked\n",
      "cv\n",
      "stacked\n",
      "cv\n",
      "stacked\n",
      "cv\n",
      "stacked\n",
      "cv\n",
      "stacked\n",
      "cv\n",
      "stacked\n",
      "cv\n",
      "stacked\n",
      "cv\n",
      "stacked\n",
      "cv\n",
      "stacked\n",
      "cv\n",
      "stacked\n",
      "cv\n",
      "stacked\n",
      "cv\n",
      "stacked\n",
      "cv\n",
      "stacked\n",
      "cv\n",
      "stacked\n",
      "cv\n",
      "stacked\n",
      "cv\n",
      "stacked\n",
      "cv\n",
      "stacked\n",
      "cv\n",
      "stacked\n",
      "cv\n",
      "stacked\n",
      "cv\n",
      "stacked\n",
      "cv\n",
      "stacked\n",
      "cv\n",
      "stacked\n",
      "cv\n",
      "stacked\n",
      "cv\n",
      "stacked\n",
      "cv\n",
      "stacked\n",
      "cv\n",
      "stacked\n",
      "cv\n",
      "stacked\n",
      "cv\n",
      "stacked\n",
      "cv\n",
      "stacked\n",
      "cv\n",
      "stacked\n",
      "cv\n",
      "stacked\n",
      "cv\n",
      "stacked\n",
      "cv\n",
      "stacked\n",
      "cv\n",
      "stacked\n",
      "cv\n",
      "stacked\n",
      "cv\n",
      "stacked\n",
      "cv\n",
      "stacked\n",
      "cv\n",
      "stacked\n",
      "cv\n",
      "stacked\n",
      "cv\n",
      "stacked\n",
      "cv\n",
      "stacked\n",
      "cv\n",
      "stacked\n",
      "cv\n",
      "stacked\n",
      "cv\n",
      "stacked\n",
      "cv\n",
      "stacked\n",
      "cv\n",
      "stacked\n",
      "cv\n",
      "stacked\n",
      "cv\n",
      "stacked\n",
      "cv\n",
      "stacked\n",
      "cv\n",
      "stacked\n",
      "cv\n",
      "stacked\n",
      "cv\n",
      "stacked\n",
      "cv\n",
      "stacked\n",
      "cv\n",
      "stacked\n",
      "cv\n",
      "stacked\n",
      "cv\n",
      "stacked\n",
      "cv\n",
      "stacked\n",
      "cv\n",
      "stacked\n",
      "cv\n",
      "stacked\n",
      "cv\n",
      "stacked\n",
      "cv\n",
      "stacked\n",
      "cv\n",
      "stacked\n",
      "cv\n",
      "stacked\n",
      "cv\n",
      "stacked\n",
      "cv\n",
      "stacked\n",
      "cv\n",
      "stacked\n",
      "cv\n",
      "stacked\n",
      "cv\n",
      "stacked\n",
      "cv\n",
      "stacked\n",
      "cv\n",
      "stacked\n",
      "cv\n",
      "stacked\n",
      "cv\n",
      "stacked\n",
      "cv\n",
      "stacked\n",
      "cv\n",
      "stacked\n",
      "cv\n",
      "stacked\n",
      "cv\n",
      "stacked\n",
      "cv\n",
      "\n",
      "model score of oof results for MLPClassifier\n",
      "Model Accuracy: 0.6458333333333334\n",
      "Precision: 0.6467389297530427\n",
      "Recall (Sensitivity): 0.6458333333333334\n",
      "F1 Score: 0.6445935755617775\n",
      "Matthews Correlation Coefficient (MCC): 0.5192180355650061\n",
      "G-Measure: 0.7442934800405746\n",
      "AUC: 0.8331717816367905\n",
      "Specificity: 0.8787945475885617\n",
      "Jaccard Index: 0.4736219769228021\n",
      "Saving metrics to: /work/wanlab/nick//stackeval0/val_data/stacked/MLPClassifier/limma(0),metrics.csv\n",
      "PREDICTIONS                   subtype      Squamous          ADEX  Pancreatic Progenitor  \\\n",
      "0             Immunogenic  1.280358e-06  1.670898e-04           2.262190e-08   \n",
      "1                    ADEX  5.898546e-02  1.703078e-01           7.670571e-01   \n",
      "2   Pancreatic Progenitor  4.762307e-07  3.158643e-03           9.717335e-01   \n",
      "3   Pancreatic Progenitor  1.935418e-04  6.753874e-02           8.441232e-01   \n",
      "4   Pancreatic Progenitor  4.850997e-01  5.148846e-01           1.240735e-06   \n",
      "..                    ...           ...           ...                    ...   \n",
      "91                   ADEX  1.111827e-01  1.687973e-06           8.880595e-01   \n",
      "92               Squamous  9.995285e-01  1.244266e-16           2.021740e-16   \n",
      "93                   ADEX  2.746987e-01  5.459421e-01           1.793591e-01   \n",
      "94  Pancreatic Progenitor  2.039165e-05  6.637898e-01           3.351792e-01   \n",
      "95               Squamous  2.386176e-01  1.945790e-01           2.607448e-01   \n",
      "\n",
      "     Immunogenic  \n",
      "0   9.998316e-01  \n",
      "1   3.649593e-03  \n",
      "2   2.510736e-02  \n",
      "3   8.814447e-02  \n",
      "4   1.448885e-05  \n",
      "..           ...  \n",
      "91  7.561216e-04  \n",
      "92  4.715074e-04  \n",
      "93  8.571575e-08  \n",
      "94  1.010562e-03  \n",
      "95  3.060587e-01  \n",
      "\n",
      "[96 rows x 5 columns]\n",
      "\n",
      "model score of oof results for RandomForestClassifier\n",
      "Model Accuracy: 0.84375\n",
      "Precision: 0.851362345827659\n",
      "Recall (Sensitivity): 0.84375\n",
      "F1 Score: 0.8410152610354064\n",
      "Matthews Correlation Coefficient (MCC): 0.7897436025346731\n",
      "G-Measure: 0.877716998941148\n",
      "AUC: 0.9831228493117798\n",
      "Specificity: 0.9457119611609048\n",
      "Jaccard Index: 0.7156023670729553\n",
      "Saving metrics to: /work/wanlab/nick//stackeval0/val_data/stacked/RandomForestClassifier/limma(0),metrics.csv\n",
      "PREDICTIONS                   subtype  Squamous  ADEX  Pancreatic Progenitor  Immunogenic\n",
      "0             Immunogenic      0.07  0.03                   0.05         0.85\n",
      "1                    ADEX      0.17  0.37                   0.39         0.07\n",
      "2   Pancreatic Progenitor      0.04  0.14                   0.40         0.42\n",
      "3   Pancreatic Progenitor      0.08  0.08                   0.78         0.06\n",
      "4   Pancreatic Progenitor      0.07  0.11                   0.78         0.04\n",
      "..                    ...       ...   ...                    ...          ...\n",
      "91                   ADEX      0.05  0.45                   0.20         0.30\n",
      "92               Squamous      0.88  0.03                   0.03         0.06\n",
      "93                   ADEX      0.16  0.45                   0.31         0.08\n",
      "94  Pancreatic Progenitor      0.01  0.57                   0.31         0.11\n",
      "95               Squamous      0.41  0.29                   0.23         0.07\n",
      "\n",
      "[96 rows x 5 columns]\n",
      "\n",
      "model score of oof results for LogisticRegression2\n",
      "Model Accuracy: 0.90625\n",
      "Precision: 0.907241010904804\n",
      "Recall (Sensitivity): 0.90625\n",
      "F1 Score: 0.9063258253912099\n",
      "Matthews Correlation Coefficient (MCC): 0.8733101573111083\n",
      "G-Measure: 0.9352788514023854\n",
      "AUC: 0.987585527368758\n",
      "Specificity: 0.9681724818608621\n",
      "Jaccard Index: 0.8275341386554622\n",
      "Saving metrics to: /work/wanlab/nick//stackeval0/val_data/stacked/LogisticRegression2/limma(0),metrics.csv\n",
      "PREDICTIONS                   subtype      Squamous          ADEX  Pancreatic Progenitor  \\\n",
      "0             Immunogenic  3.635761e-09  9.882554e-10           2.268806e-10   \n",
      "1                    ADEX  1.170426e-04  8.843326e-01           1.143879e-01   \n",
      "2   Pancreatic Progenitor  4.259642e-09  4.516614e-06           9.880979e-01   \n",
      "3   Pancreatic Progenitor  8.446742e-06  7.698450e-03           9.914191e-01   \n",
      "4   Pancreatic Progenitor  4.406633e-05  5.493931e-04           9.994064e-01   \n",
      "..                    ...           ...           ...                    ...   \n",
      "91                   ADEX  3.304233e-07  9.374428e-01           2.244034e-02   \n",
      "92               Squamous  1.000000e+00  9.041814e-13           4.610717e-13   \n",
      "93                   ADEX  2.187262e-04  9.824226e-01           1.733093e-02   \n",
      "94  Pancreatic Progenitor  1.813115e-07  6.670870e-01           3.316260e-01   \n",
      "95               Squamous  6.533366e-01  3.247159e-01           2.193076e-02   \n",
      "\n",
      "     Immunogenic  \n",
      "0   1.000000e+00  \n",
      "1   1.162425e-03  \n",
      "2   1.189758e-02  \n",
      "3   8.739562e-04  \n",
      "4   9.292788e-08  \n",
      "..           ...  \n",
      "91  4.011658e-02  \n",
      "92  5.486477e-09  \n",
      "93  2.776455e-05  \n",
      "94  1.286850e-03  \n",
      "95  1.676234e-05  \n",
      "\n",
      "[96 rows x 5 columns]\n",
      "\n",
      "model score of oof results for GaussianNB2\n",
      "Model Accuracy: 0.7916666666666666\n",
      "Precision: 0.7900940970793912\n",
      "Recall (Sensitivity): 0.7916666666666666\n",
      "F1 Score: 0.7863292597131445\n",
      "Matthews Correlation Coefficient (MCC): 0.7176375216290142\n",
      "G-Measure: 0.835917548914833\n",
      "AUC: 0.905438740396927\n",
      "Specificity: 0.9283650768245839\n",
      "Jaccard Index: 0.6362092233235609\n",
      "Saving metrics to: /work/wanlab/nick//stackeval0/val_data/stacked/GaussianNB2/limma(0),metrics.csv\n",
      "PREDICTIONS                   subtype      Squamous          ADEX  Pancreatic Progenitor  \\\n",
      "0             Immunogenic  0.000000e+00  0.000000e+00           0.000000e+00   \n",
      "1                    ADEX  0.000000e+00  1.000000e+00           0.000000e+00   \n",
      "2   Pancreatic Progenitor  0.000000e+00  0.000000e+00           1.000000e+00   \n",
      "3   Pancreatic Progenitor  0.000000e+00  0.000000e+00           1.000000e+00   \n",
      "4   Pancreatic Progenitor  0.000000e+00  0.000000e+00           1.000000e+00   \n",
      "..                    ...           ...           ...                    ...   \n",
      "91                   ADEX  0.000000e+00  0.000000e+00           1.000000e+00   \n",
      "92               Squamous  1.000000e+00  0.000000e+00           0.000000e+00   \n",
      "93                   ADEX  0.000000e+00  1.959199e-54           1.000000e+00   \n",
      "94  Pancreatic Progenitor  0.000000e+00  1.000000e+00           0.000000e+00   \n",
      "95               Squamous  5.086260e-39  1.000000e+00          4.494780e-175   \n",
      "\n",
      "    Immunogenic  \n",
      "0           1.0  \n",
      "1           0.0  \n",
      "2           0.0  \n",
      "3           0.0  \n",
      "4           0.0  \n",
      "..          ...  \n",
      "91          0.0  \n",
      "92          0.0  \n",
      "93          0.0  \n",
      "94          0.0  \n",
      "95          0.0  \n",
      "\n",
      "[96 rows x 5 columns]\n",
      "\n",
      "model score of oof results for SVC3\n",
      "Model Accuracy: 0.8854166666666666\n",
      "Precision: 0.8957641549595573\n",
      "Recall (Sensitivity): 0.8854166666666666\n",
      "F1 Score: 0.8864625890835569\n",
      "Matthews Correlation Coefficient (MCC): 0.8481556746300509\n",
      "G-Measure: 0.9228839801674216\n",
      "AUC: 0.9893987742744343\n",
      "Specificity: 0.9616637323943662\n",
      "Jaccard Index: 0.7975490196078432\n",
      "Saving metrics to: /work/wanlab/nick//stackeval0/val_data/stacked/SVC3/limma(0),metrics.csv\n",
      "PREDICTIONS                   subtype  Squamous      ADEX  Pancreatic Progenitor  \\\n",
      "0             Immunogenic  0.003952  0.002296               0.000961   \n",
      "1                    ADEX  0.018475  0.878485               0.075659   \n",
      "2   Pancreatic Progenitor  0.001502  0.020505               0.857045   \n",
      "3   Pancreatic Progenitor  0.008458  0.083454               0.860310   \n",
      "4   Pancreatic Progenitor  0.026318  0.080909               0.887450   \n",
      "..                    ...       ...       ...                    ...   \n",
      "91                   ADEX  0.006894  0.702882               0.061405   \n",
      "92               Squamous  0.995070  0.000670               0.000178   \n",
      "93                   ADEX  0.072956  0.714802               0.186807   \n",
      "94  Pancreatic Progenitor  0.004044  0.708825               0.257288   \n",
      "95               Squamous  0.397098  0.394718               0.191459   \n",
      "\n",
      "    Immunogenic  \n",
      "0      0.992791  \n",
      "1      0.027381  \n",
      "2      0.120949  \n",
      "3      0.047779  \n",
      "4      0.005323  \n",
      "..          ...  \n",
      "91     0.228819  \n",
      "92     0.004083  \n",
      "93     0.025436  \n",
      "94     0.029842  \n",
      "95     0.016725  \n",
      "\n",
      "[96 rows x 5 columns]\n",
      "\n",
      "model score of oof results for SVC4\n",
      "Model Accuracy: 0.9270833333333334\n",
      "Precision: 0.9282457295657727\n",
      "Recall (Sensitivity): 0.9270833333333334\n",
      "F1 Score: 0.927124353652804\n",
      "Matthews Correlation Coefficient (MCC): 0.9017909960019698\n",
      "G-Measure: 0.9519085598926197\n",
      "AUC: 0.9851764786954047\n",
      "Specificity: 0.9752147353819889\n",
      "Jaccard Index: 0.8669652957336781\n",
      "Saving metrics to: /work/wanlab/nick//stackeval0/val_data/stacked/SVC4/limma(0),metrics.csv\n",
      "PREDICTIONS                   subtype  Squamous      ADEX  Pancreatic Progenitor  \\\n",
      "0             Immunogenic  0.003878  0.001221               0.001213   \n",
      "1                    ADEX  0.041303  0.543632               0.370692   \n",
      "2   Pancreatic Progenitor  0.003474  0.024930               0.775194   \n",
      "3   Pancreatic Progenitor  0.013813  0.079451               0.853336   \n",
      "4   Pancreatic Progenitor  0.045391  0.071466               0.876065   \n",
      "..                    ...       ...       ...                    ...   \n",
      "91                   ADEX  0.012885  0.680804               0.123687   \n",
      "92               Squamous  0.994948  0.000091               0.000147   \n",
      "93                   ADEX  0.049130  0.764614               0.154891   \n",
      "94  Pancreatic Progenitor  0.007835  0.692056               0.262420   \n",
      "95               Squamous  0.397143  0.389457               0.186229   \n",
      "\n",
      "    Immunogenic  \n",
      "0      0.993689  \n",
      "1      0.044372  \n",
      "2      0.196401  \n",
      "3      0.053399  \n",
      "4      0.007078  \n",
      "..          ...  \n",
      "91     0.182624  \n",
      "92     0.004813  \n",
      "93     0.031365  \n",
      "94     0.037688  \n",
      "95     0.027171  \n",
      "\n",
      "[96 rows x 5 columns]\n",
      "run 1\n",
      "Model Pair: SVC + SVC + LogisticRegression + XGBClassifier\n",
      "USEDmodelnames ['SVC', 'SVC2', 'LogisticRegression', 'XGBClassifier']\n",
      "Running with: SVC and SVC and LogisticRegression and XGBClassifier\n",
      "Random state: 0\n",
      "['SVC', 'SVC2', 'LogisticRegression', 'XGBClassifier']\n",
      "individual models\n"
     ]
    },
    {
     "name": "stderr",
     "output_type": "stream",
     "text": [
      "/home/wanlab/nick/.local/lib/python3.8/site-packages/xgboost/core.py:158: UserWarning: [09:21:24] WARNING: /workspace/src/learner.cc:740: \n",
      "Parameters: { \"use_label_encoder\" } are not used.\n",
      "\n",
      "  warnings.warn(smsg, UserWarning)\n"
     ]
    },
    {
     "name": "stdout",
     "output_type": "stream",
     "text": [
      "cv\n",
      "individual models\n"
     ]
    },
    {
     "name": "stderr",
     "output_type": "stream",
     "text": [
      "/home/wanlab/nick/.local/lib/python3.8/site-packages/xgboost/core.py:158: UserWarning: [09:21:38] WARNING: /workspace/src/learner.cc:740: \n",
      "Parameters: { \"use_label_encoder\" } are not used.\n",
      "\n",
      "  warnings.warn(smsg, UserWarning)\n"
     ]
    },
    {
     "name": "stdout",
     "output_type": "stream",
     "text": [
      "cv\n",
      "individual models\n"
     ]
    },
    {
     "name": "stderr",
     "output_type": "stream",
     "text": [
      "/home/wanlab/nick/.local/lib/python3.8/site-packages/xgboost/core.py:158: UserWarning: [09:21:52] WARNING: /workspace/src/learner.cc:740: \n",
      "Parameters: { \"use_label_encoder\" } are not used.\n",
      "\n",
      "  warnings.warn(smsg, UserWarning)\n"
     ]
    },
    {
     "name": "stdout",
     "output_type": "stream",
     "text": [
      "cv\n",
      "individual models\n"
     ]
    },
    {
     "name": "stderr",
     "output_type": "stream",
     "text": [
      "/home/wanlab/nick/.local/lib/python3.8/site-packages/xgboost/core.py:158: UserWarning: [09:22:05] WARNING: /workspace/src/learner.cc:740: \n",
      "Parameters: { \"use_label_encoder\" } are not used.\n",
      "\n",
      "  warnings.warn(smsg, UserWarning)\n"
     ]
    },
    {
     "name": "stdout",
     "output_type": "stream",
     "text": [
      "cv\n",
      "individual models\n"
     ]
    },
    {
     "name": "stderr",
     "output_type": "stream",
     "text": [
      "/home/wanlab/nick/.local/lib/python3.8/site-packages/xgboost/core.py:158: UserWarning: [09:22:19] WARNING: /workspace/src/learner.cc:740: \n",
      "Parameters: { \"use_label_encoder\" } are not used.\n",
      "\n",
      "  warnings.warn(smsg, UserWarning)\n"
     ]
    },
    {
     "name": "stdout",
     "output_type": "stream",
     "text": [
      "cv\n",
      "individual models\n"
     ]
    },
    {
     "name": "stderr",
     "output_type": "stream",
     "text": [
      "/home/wanlab/nick/.local/lib/python3.8/site-packages/xgboost/core.py:158: UserWarning: [09:22:33] WARNING: /workspace/src/learner.cc:740: \n",
      "Parameters: { \"use_label_encoder\" } are not used.\n",
      "\n",
      "  warnings.warn(smsg, UserWarning)\n"
     ]
    },
    {
     "name": "stdout",
     "output_type": "stream",
     "text": [
      "cv\n",
      "individual models\n"
     ]
    },
    {
     "name": "stderr",
     "output_type": "stream",
     "text": [
      "/home/wanlab/nick/.local/lib/python3.8/site-packages/xgboost/core.py:158: UserWarning: [09:22:47] WARNING: /workspace/src/learner.cc:740: \n",
      "Parameters: { \"use_label_encoder\" } are not used.\n",
      "\n",
      "  warnings.warn(smsg, UserWarning)\n"
     ]
    },
    {
     "name": "stdout",
     "output_type": "stream",
     "text": [
      "cv\n",
      "individual models\n"
     ]
    },
    {
     "name": "stderr",
     "output_type": "stream",
     "text": [
      "/home/wanlab/nick/.local/lib/python3.8/site-packages/xgboost/core.py:158: UserWarning: [09:23:01] WARNING: /workspace/src/learner.cc:740: \n",
      "Parameters: { \"use_label_encoder\" } are not used.\n",
      "\n",
      "  warnings.warn(smsg, UserWarning)\n"
     ]
    },
    {
     "name": "stdout",
     "output_type": "stream",
     "text": [
      "cv\n",
      "individual models\n"
     ]
    },
    {
     "name": "stderr",
     "output_type": "stream",
     "text": [
      "/home/wanlab/nick/.local/lib/python3.8/site-packages/xgboost/core.py:158: UserWarning: [09:23:14] WARNING: /workspace/src/learner.cc:740: \n",
      "Parameters: { \"use_label_encoder\" } are not used.\n",
      "\n",
      "  warnings.warn(smsg, UserWarning)\n"
     ]
    },
    {
     "name": "stdout",
     "output_type": "stream",
     "text": [
      "cv\n",
      "individual models\n"
     ]
    },
    {
     "name": "stderr",
     "output_type": "stream",
     "text": [
      "/home/wanlab/nick/.local/lib/python3.8/site-packages/xgboost/core.py:158: UserWarning: [09:23:27] WARNING: /workspace/src/learner.cc:740: \n",
      "Parameters: { \"use_label_encoder\" } are not used.\n",
      "\n",
      "  warnings.warn(smsg, UserWarning)\n"
     ]
    },
    {
     "name": "stdout",
     "output_type": "stream",
     "text": [
      "cv\n",
      "individual models\n"
     ]
    },
    {
     "name": "stderr",
     "output_type": "stream",
     "text": [
      "/home/wanlab/nick/.local/lib/python3.8/site-packages/xgboost/core.py:158: UserWarning: [09:23:41] WARNING: /workspace/src/learner.cc:740: \n",
      "Parameters: { \"use_label_encoder\" } are not used.\n",
      "\n",
      "  warnings.warn(smsg, UserWarning)\n"
     ]
    },
    {
     "name": "stdout",
     "output_type": "stream",
     "text": [
      "cv\n",
      "individual models\n"
     ]
    },
    {
     "name": "stderr",
     "output_type": "stream",
     "text": [
      "/home/wanlab/nick/.local/lib/python3.8/site-packages/xgboost/core.py:158: UserWarning: [09:23:56] WARNING: /workspace/src/learner.cc:740: \n",
      "Parameters: { \"use_label_encoder\" } are not used.\n",
      "\n",
      "  warnings.warn(smsg, UserWarning)\n"
     ]
    },
    {
     "name": "stdout",
     "output_type": "stream",
     "text": [
      "cv\n",
      "individual models\n"
     ]
    },
    {
     "name": "stderr",
     "output_type": "stream",
     "text": [
      "/home/wanlab/nick/.local/lib/python3.8/site-packages/xgboost/core.py:158: UserWarning: [09:24:10] WARNING: /workspace/src/learner.cc:740: \n",
      "Parameters: { \"use_label_encoder\" } are not used.\n",
      "\n",
      "  warnings.warn(smsg, UserWarning)\n"
     ]
    },
    {
     "name": "stdout",
     "output_type": "stream",
     "text": [
      "cv\n",
      "individual models\n"
     ]
    },
    {
     "name": "stderr",
     "output_type": "stream",
     "text": [
      "/home/wanlab/nick/.local/lib/python3.8/site-packages/xgboost/core.py:158: UserWarning: [09:24:24] WARNING: /workspace/src/learner.cc:740: \n",
      "Parameters: { \"use_label_encoder\" } are not used.\n",
      "\n",
      "  warnings.warn(smsg, UserWarning)\n"
     ]
    },
    {
     "name": "stdout",
     "output_type": "stream",
     "text": [
      "cv\n",
      "individual models\n"
     ]
    },
    {
     "name": "stderr",
     "output_type": "stream",
     "text": [
      "/home/wanlab/nick/.local/lib/python3.8/site-packages/xgboost/core.py:158: UserWarning: [09:24:37] WARNING: /workspace/src/learner.cc:740: \n",
      "Parameters: { \"use_label_encoder\" } are not used.\n",
      "\n",
      "  warnings.warn(smsg, UserWarning)\n"
     ]
    },
    {
     "name": "stdout",
     "output_type": "stream",
     "text": [
      "cv\n",
      "individual models\n"
     ]
    },
    {
     "name": "stderr",
     "output_type": "stream",
     "text": [
      "/home/wanlab/nick/.local/lib/python3.8/site-packages/xgboost/core.py:158: UserWarning: [09:24:52] WARNING: /workspace/src/learner.cc:740: \n",
      "Parameters: { \"use_label_encoder\" } are not used.\n",
      "\n",
      "  warnings.warn(smsg, UserWarning)\n"
     ]
    },
    {
     "name": "stdout",
     "output_type": "stream",
     "text": [
      "cv\n",
      "individual models\n"
     ]
    },
    {
     "name": "stderr",
     "output_type": "stream",
     "text": [
      "/home/wanlab/nick/.local/lib/python3.8/site-packages/xgboost/core.py:158: UserWarning: [09:25:06] WARNING: /workspace/src/learner.cc:740: \n",
      "Parameters: { \"use_label_encoder\" } are not used.\n",
      "\n",
      "  warnings.warn(smsg, UserWarning)\n"
     ]
    },
    {
     "name": "stdout",
     "output_type": "stream",
     "text": [
      "cv\n",
      "individual models\n"
     ]
    },
    {
     "name": "stderr",
     "output_type": "stream",
     "text": [
      "/home/wanlab/nick/.local/lib/python3.8/site-packages/xgboost/core.py:158: UserWarning: [09:25:20] WARNING: /workspace/src/learner.cc:740: \n",
      "Parameters: { \"use_label_encoder\" } are not used.\n",
      "\n",
      "  warnings.warn(smsg, UserWarning)\n"
     ]
    },
    {
     "name": "stdout",
     "output_type": "stream",
     "text": [
      "cv\n",
      "individual models\n"
     ]
    },
    {
     "name": "stderr",
     "output_type": "stream",
     "text": [
      "/home/wanlab/nick/.local/lib/python3.8/site-packages/xgboost/core.py:158: UserWarning: [09:25:34] WARNING: /workspace/src/learner.cc:740: \n",
      "Parameters: { \"use_label_encoder\" } are not used.\n",
      "\n",
      "  warnings.warn(smsg, UserWarning)\n"
     ]
    },
    {
     "name": "stdout",
     "output_type": "stream",
     "text": [
      "cv\n",
      "individual models\n",
      "cv\n",
      "individual models\n"
     ]
    },
    {
     "name": "stderr",
     "output_type": "stream",
     "text": [
      "/home/wanlab/nick/.local/lib/python3.8/site-packages/xgboost/core.py:158: UserWarning: [09:27:56] WARNING: /workspace/src/learner.cc:740: \n",
      "Parameters: { \"use_label_encoder\" } are not used.\n",
      "\n",
      "  warnings.warn(smsg, UserWarning)\n"
     ]
    },
    {
     "name": "stdout",
     "output_type": "stream",
     "text": [
      "cv\n",
      "individual models\n"
     ]
    },
    {
     "name": "stderr",
     "output_type": "stream",
     "text": [
      "/home/wanlab/nick/.local/lib/python3.8/site-packages/xgboost/core.py:158: UserWarning: [09:28:10] WARNING: /workspace/src/learner.cc:740: \n",
      "Parameters: { \"use_label_encoder\" } are not used.\n",
      "\n",
      "  warnings.warn(smsg, UserWarning)\n"
     ]
    },
    {
     "name": "stdout",
     "output_type": "stream",
     "text": [
      "cv\n",
      "individual models\n"
     ]
    },
    {
     "name": "stderr",
     "output_type": "stream",
     "text": [
      "/home/wanlab/nick/.local/lib/python3.8/site-packages/xgboost/core.py:158: UserWarning: [09:28:24] WARNING: /workspace/src/learner.cc:740: \n",
      "Parameters: { \"use_label_encoder\" } are not used.\n",
      "\n",
      "  warnings.warn(smsg, UserWarning)\n"
     ]
    },
    {
     "name": "stdout",
     "output_type": "stream",
     "text": [
      "cv\n",
      "individual models\n"
     ]
    },
    {
     "name": "stderr",
     "output_type": "stream",
     "text": [
      "/home/wanlab/nick/.local/lib/python3.8/site-packages/xgboost/core.py:158: UserWarning: [09:28:38] WARNING: /workspace/src/learner.cc:740: \n",
      "Parameters: { \"use_label_encoder\" } are not used.\n",
      "\n",
      "  warnings.warn(smsg, UserWarning)\n"
     ]
    },
    {
     "name": "stdout",
     "output_type": "stream",
     "text": [
      "cv\n",
      "individual models\n"
     ]
    },
    {
     "name": "stderr",
     "output_type": "stream",
     "text": [
      "/home/wanlab/nick/.local/lib/python3.8/site-packages/xgboost/core.py:158: UserWarning: [09:28:52] WARNING: /workspace/src/learner.cc:740: \n",
      "Parameters: { \"use_label_encoder\" } are not used.\n",
      "\n",
      "  warnings.warn(smsg, UserWarning)\n"
     ]
    },
    {
     "name": "stdout",
     "output_type": "stream",
     "text": [
      "cv\n",
      "individual models\n"
     ]
    },
    {
     "name": "stderr",
     "output_type": "stream",
     "text": [
      "/home/wanlab/nick/.local/lib/python3.8/site-packages/xgboost/core.py:158: UserWarning: [09:29:06] WARNING: /workspace/src/learner.cc:740: \n",
      "Parameters: { \"use_label_encoder\" } are not used.\n",
      "\n",
      "  warnings.warn(smsg, UserWarning)\n"
     ]
    },
    {
     "name": "stdout",
     "output_type": "stream",
     "text": [
      "cv\n",
      "individual models\n"
     ]
    },
    {
     "name": "stderr",
     "output_type": "stream",
     "text": [
      "/home/wanlab/nick/.local/lib/python3.8/site-packages/xgboost/core.py:158: UserWarning: [09:29:20] WARNING: /workspace/src/learner.cc:740: \n",
      "Parameters: { \"use_label_encoder\" } are not used.\n",
      "\n",
      "  warnings.warn(smsg, UserWarning)\n"
     ]
    },
    {
     "name": "stdout",
     "output_type": "stream",
     "text": [
      "cv\n",
      "individual models\n"
     ]
    },
    {
     "name": "stderr",
     "output_type": "stream",
     "text": [
      "/home/wanlab/nick/.local/lib/python3.8/site-packages/xgboost/core.py:158: UserWarning: [09:29:34] WARNING: /workspace/src/learner.cc:740: \n",
      "Parameters: { \"use_label_encoder\" } are not used.\n",
      "\n",
      "  warnings.warn(smsg, UserWarning)\n"
     ]
    },
    {
     "name": "stdout",
     "output_type": "stream",
     "text": [
      "cv\n",
      "individual models\n"
     ]
    },
    {
     "name": "stderr",
     "output_type": "stream",
     "text": [
      "/home/wanlab/nick/.local/lib/python3.8/site-packages/xgboost/core.py:158: UserWarning: [09:29:48] WARNING: /workspace/src/learner.cc:740: \n",
      "Parameters: { \"use_label_encoder\" } are not used.\n",
      "\n",
      "  warnings.warn(smsg, UserWarning)\n"
     ]
    },
    {
     "name": "stdout",
     "output_type": "stream",
     "text": [
      "cv\n",
      "individual models\n"
     ]
    },
    {
     "name": "stderr",
     "output_type": "stream",
     "text": [
      "/home/wanlab/nick/.local/lib/python3.8/site-packages/xgboost/core.py:158: UserWarning: [09:30:02] WARNING: /workspace/src/learner.cc:740: \n",
      "Parameters: { \"use_label_encoder\" } are not used.\n",
      "\n",
      "  warnings.warn(smsg, UserWarning)\n"
     ]
    },
    {
     "name": "stdout",
     "output_type": "stream",
     "text": [
      "cv\n",
      "individual models\n"
     ]
    },
    {
     "name": "stderr",
     "output_type": "stream",
     "text": [
      "/home/wanlab/nick/.local/lib/python3.8/site-packages/xgboost/core.py:158: UserWarning: [09:30:16] WARNING: /workspace/src/learner.cc:740: \n",
      "Parameters: { \"use_label_encoder\" } are not used.\n",
      "\n",
      "  warnings.warn(smsg, UserWarning)\n"
     ]
    },
    {
     "name": "stdout",
     "output_type": "stream",
     "text": [
      "cv\n",
      "individual models\n"
     ]
    },
    {
     "name": "stderr",
     "output_type": "stream",
     "text": [
      "/home/wanlab/nick/.local/lib/python3.8/site-packages/xgboost/core.py:158: UserWarning: [09:30:31] WARNING: /workspace/src/learner.cc:740: \n",
      "Parameters: { \"use_label_encoder\" } are not used.\n",
      "\n",
      "  warnings.warn(smsg, UserWarning)\n"
     ]
    },
    {
     "name": "stdout",
     "output_type": "stream",
     "text": [
      "cv\n",
      "individual models\n"
     ]
    },
    {
     "name": "stderr",
     "output_type": "stream",
     "text": [
      "/home/wanlab/nick/.local/lib/python3.8/site-packages/xgboost/core.py:158: UserWarning: [09:30:48] WARNING: /workspace/src/learner.cc:740: \n",
      "Parameters: { \"use_label_encoder\" } are not used.\n",
      "\n",
      "  warnings.warn(smsg, UserWarning)\n"
     ]
    },
    {
     "name": "stdout",
     "output_type": "stream",
     "text": [
      "cv\n",
      "individual models\n"
     ]
    },
    {
     "name": "stderr",
     "output_type": "stream",
     "text": [
      "/home/wanlab/nick/.local/lib/python3.8/site-packages/xgboost/core.py:158: UserWarning: [09:31:01] WARNING: /workspace/src/learner.cc:740: \n",
      "Parameters: { \"use_label_encoder\" } are not used.\n",
      "\n",
      "  warnings.warn(smsg, UserWarning)\n"
     ]
    },
    {
     "name": "stdout",
     "output_type": "stream",
     "text": [
      "cv\n",
      "individual models\n"
     ]
    },
    {
     "name": "stderr",
     "output_type": "stream",
     "text": [
      "/home/wanlab/nick/.local/lib/python3.8/site-packages/xgboost/core.py:158: UserWarning: [09:31:15] WARNING: /workspace/src/learner.cc:740: \n",
      "Parameters: { \"use_label_encoder\" } are not used.\n",
      "\n",
      "  warnings.warn(smsg, UserWarning)\n"
     ]
    },
    {
     "name": "stdout",
     "output_type": "stream",
     "text": [
      "cv\n",
      "individual models\n"
     ]
    },
    {
     "name": "stderr",
     "output_type": "stream",
     "text": [
      "/home/wanlab/nick/.local/lib/python3.8/site-packages/xgboost/core.py:158: UserWarning: [09:31:28] WARNING: /workspace/src/learner.cc:740: \n",
      "Parameters: { \"use_label_encoder\" } are not used.\n",
      "\n",
      "  warnings.warn(smsg, UserWarning)\n"
     ]
    },
    {
     "name": "stdout",
     "output_type": "stream",
     "text": [
      "cv\n",
      "individual models\n"
     ]
    },
    {
     "name": "stderr",
     "output_type": "stream",
     "text": [
      "/home/wanlab/nick/.local/lib/python3.8/site-packages/xgboost/core.py:158: UserWarning: [09:31:42] WARNING: /workspace/src/learner.cc:740: \n",
      "Parameters: { \"use_label_encoder\" } are not used.\n",
      "\n",
      "  warnings.warn(smsg, UserWarning)\n"
     ]
    },
    {
     "name": "stdout",
     "output_type": "stream",
     "text": [
      "cv\n",
      "individual models\n"
     ]
    },
    {
     "name": "stderr",
     "output_type": "stream",
     "text": [
      "/home/wanlab/nick/.local/lib/python3.8/site-packages/xgboost/core.py:158: UserWarning: [09:31:56] WARNING: /workspace/src/learner.cc:740: \n",
      "Parameters: { \"use_label_encoder\" } are not used.\n",
      "\n",
      "  warnings.warn(smsg, UserWarning)\n"
     ]
    },
    {
     "name": "stdout",
     "output_type": "stream",
     "text": [
      "cv\n",
      "individual models\n"
     ]
    },
    {
     "name": "stderr",
     "output_type": "stream",
     "text": [
      "/home/wanlab/nick/.local/lib/python3.8/site-packages/xgboost/core.py:158: UserWarning: [09:32:09] WARNING: /workspace/src/learner.cc:740: \n",
      "Parameters: { \"use_label_encoder\" } are not used.\n",
      "\n",
      "  warnings.warn(smsg, UserWarning)\n"
     ]
    },
    {
     "name": "stdout",
     "output_type": "stream",
     "text": [
      "cv\n",
      "individual models\n"
     ]
    },
    {
     "name": "stderr",
     "output_type": "stream",
     "text": [
      "/home/wanlab/nick/.local/lib/python3.8/site-packages/xgboost/core.py:158: UserWarning: [09:32:23] WARNING: /workspace/src/learner.cc:740: \n",
      "Parameters: { \"use_label_encoder\" } are not used.\n",
      "\n",
      "  warnings.warn(smsg, UserWarning)\n"
     ]
    },
    {
     "name": "stdout",
     "output_type": "stream",
     "text": [
      "cv\n",
      "individual models\n"
     ]
    },
    {
     "name": "stderr",
     "output_type": "stream",
     "text": [
      "/home/wanlab/nick/.local/lib/python3.8/site-packages/xgboost/core.py:158: UserWarning: [09:32:38] WARNING: /workspace/src/learner.cc:740: \n",
      "Parameters: { \"use_label_encoder\" } are not used.\n",
      "\n",
      "  warnings.warn(smsg, UserWarning)\n"
     ]
    },
    {
     "name": "stdout",
     "output_type": "stream",
     "text": [
      "cv\n",
      "individual models\n"
     ]
    },
    {
     "name": "stderr",
     "output_type": "stream",
     "text": [
      "/home/wanlab/nick/.local/lib/python3.8/site-packages/xgboost/core.py:158: UserWarning: [09:32:52] WARNING: /workspace/src/learner.cc:740: \n",
      "Parameters: { \"use_label_encoder\" } are not used.\n",
      "\n",
      "  warnings.warn(smsg, UserWarning)\n"
     ]
    },
    {
     "name": "stdout",
     "output_type": "stream",
     "text": [
      "cv\n",
      "individual models\n"
     ]
    },
    {
     "name": "stderr",
     "output_type": "stream",
     "text": [
      "/home/wanlab/nick/.local/lib/python3.8/site-packages/xgboost/core.py:158: UserWarning: [09:33:07] WARNING: /workspace/src/learner.cc:740: \n",
      "Parameters: { \"use_label_encoder\" } are not used.\n",
      "\n",
      "  warnings.warn(smsg, UserWarning)\n"
     ]
    },
    {
     "name": "stdout",
     "output_type": "stream",
     "text": [
      "cv\n",
      "individual models\n"
     ]
    },
    {
     "name": "stderr",
     "output_type": "stream",
     "text": [
      "/home/wanlab/nick/.local/lib/python3.8/site-packages/xgboost/core.py:158: UserWarning: [09:33:21] WARNING: /workspace/src/learner.cc:740: \n",
      "Parameters: { \"use_label_encoder\" } are not used.\n",
      "\n",
      "  warnings.warn(smsg, UserWarning)\n"
     ]
    },
    {
     "name": "stdout",
     "output_type": "stream",
     "text": [
      "cv\n",
      "individual models\n"
     ]
    },
    {
     "name": "stderr",
     "output_type": "stream",
     "text": [
      "/home/wanlab/nick/.local/lib/python3.8/site-packages/xgboost/core.py:158: UserWarning: [09:33:34] WARNING: /workspace/src/learner.cc:740: \n",
      "Parameters: { \"use_label_encoder\" } are not used.\n",
      "\n",
      "  warnings.warn(smsg, UserWarning)\n"
     ]
    },
    {
     "name": "stdout",
     "output_type": "stream",
     "text": [
      "cv\n",
      "individual models\n"
     ]
    },
    {
     "name": "stderr",
     "output_type": "stream",
     "text": [
      "/home/wanlab/nick/.local/lib/python3.8/site-packages/xgboost/core.py:158: UserWarning: [09:33:48] WARNING: /workspace/src/learner.cc:740: \n",
      "Parameters: { \"use_label_encoder\" } are not used.\n",
      "\n",
      "  warnings.warn(smsg, UserWarning)\n"
     ]
    },
    {
     "name": "stdout",
     "output_type": "stream",
     "text": [
      "cv\n",
      "individual models\n"
     ]
    },
    {
     "name": "stderr",
     "output_type": "stream",
     "text": [
      "/home/wanlab/nick/.local/lib/python3.8/site-packages/xgboost/core.py:158: UserWarning: [09:34:01] WARNING: /workspace/src/learner.cc:740: \n",
      "Parameters: { \"use_label_encoder\" } are not used.\n",
      "\n",
      "  warnings.warn(smsg, UserWarning)\n"
     ]
    },
    {
     "name": "stdout",
     "output_type": "stream",
     "text": [
      "cv\n",
      "individual models\n"
     ]
    },
    {
     "name": "stderr",
     "output_type": "stream",
     "text": [
      "/home/wanlab/nick/.local/lib/python3.8/site-packages/xgboost/core.py:158: UserWarning: [09:34:16] WARNING: /workspace/src/learner.cc:740: \n",
      "Parameters: { \"use_label_encoder\" } are not used.\n",
      "\n",
      "  warnings.warn(smsg, UserWarning)\n"
     ]
    },
    {
     "name": "stdout",
     "output_type": "stream",
     "text": [
      "cv\n",
      "individual models\n"
     ]
    },
    {
     "name": "stderr",
     "output_type": "stream",
     "text": [
      "/home/wanlab/nick/.local/lib/python3.8/site-packages/xgboost/core.py:158: UserWarning: [09:34:29] WARNING: /workspace/src/learner.cc:740: \n",
      "Parameters: { \"use_label_encoder\" } are not used.\n",
      "\n",
      "  warnings.warn(smsg, UserWarning)\n"
     ]
    },
    {
     "name": "stdout",
     "output_type": "stream",
     "text": [
      "cv\n",
      "individual models\n"
     ]
    },
    {
     "name": "stderr",
     "output_type": "stream",
     "text": [
      "/home/wanlab/nick/.local/lib/python3.8/site-packages/xgboost/core.py:158: UserWarning: [09:34:44] WARNING: /workspace/src/learner.cc:740: \n",
      "Parameters: { \"use_label_encoder\" } are not used.\n",
      "\n",
      "  warnings.warn(smsg, UserWarning)\n"
     ]
    },
    {
     "name": "stdout",
     "output_type": "stream",
     "text": [
      "cv\n",
      "individual models\n"
     ]
    },
    {
     "name": "stderr",
     "output_type": "stream",
     "text": [
      "/home/wanlab/nick/.local/lib/python3.8/site-packages/xgboost/core.py:158: UserWarning: [09:34:57] WARNING: /workspace/src/learner.cc:740: \n",
      "Parameters: { \"use_label_encoder\" } are not used.\n",
      "\n",
      "  warnings.warn(smsg, UserWarning)\n"
     ]
    },
    {
     "name": "stdout",
     "output_type": "stream",
     "text": [
      "cv\n",
      "individual models\n"
     ]
    },
    {
     "name": "stderr",
     "output_type": "stream",
     "text": [
      "/home/wanlab/nick/.local/lib/python3.8/site-packages/xgboost/core.py:158: UserWarning: [09:35:11] WARNING: /workspace/src/learner.cc:740: \n",
      "Parameters: { \"use_label_encoder\" } are not used.\n",
      "\n",
      "  warnings.warn(smsg, UserWarning)\n"
     ]
    },
    {
     "name": "stdout",
     "output_type": "stream",
     "text": [
      "cv\n",
      "individual models\n"
     ]
    },
    {
     "name": "stderr",
     "output_type": "stream",
     "text": [
      "/home/wanlab/nick/.local/lib/python3.8/site-packages/xgboost/core.py:158: UserWarning: [09:35:25] WARNING: /workspace/src/learner.cc:740: \n",
      "Parameters: { \"use_label_encoder\" } are not used.\n",
      "\n",
      "  warnings.warn(smsg, UserWarning)\n"
     ]
    },
    {
     "name": "stdout",
     "output_type": "stream",
     "text": [
      "cv\n",
      "individual models\n"
     ]
    },
    {
     "name": "stderr",
     "output_type": "stream",
     "text": [
      "/home/wanlab/nick/.local/lib/python3.8/site-packages/xgboost/core.py:158: UserWarning: [09:35:40] WARNING: /workspace/src/learner.cc:740: \n",
      "Parameters: { \"use_label_encoder\" } are not used.\n",
      "\n",
      "  warnings.warn(smsg, UserWarning)\n"
     ]
    },
    {
     "name": "stdout",
     "output_type": "stream",
     "text": [
      "cv\n",
      "individual models\n"
     ]
    },
    {
     "name": "stderr",
     "output_type": "stream",
     "text": [
      "/home/wanlab/nick/.local/lib/python3.8/site-packages/xgboost/core.py:158: UserWarning: [09:35:53] WARNING: /workspace/src/learner.cc:740: \n",
      "Parameters: { \"use_label_encoder\" } are not used.\n",
      "\n",
      "  warnings.warn(smsg, UserWarning)\n"
     ]
    },
    {
     "name": "stdout",
     "output_type": "stream",
     "text": [
      "cv\n",
      "individual models\n"
     ]
    },
    {
     "name": "stderr",
     "output_type": "stream",
     "text": [
      "/home/wanlab/nick/.local/lib/python3.8/site-packages/xgboost/core.py:158: UserWarning: [09:36:06] WARNING: /workspace/src/learner.cc:740: \n",
      "Parameters: { \"use_label_encoder\" } are not used.\n",
      "\n",
      "  warnings.warn(smsg, UserWarning)\n"
     ]
    },
    {
     "name": "stdout",
     "output_type": "stream",
     "text": [
      "cv\n",
      "individual models\n"
     ]
    },
    {
     "name": "stderr",
     "output_type": "stream",
     "text": [
      "/home/wanlab/nick/.local/lib/python3.8/site-packages/xgboost/core.py:158: UserWarning: [09:36:19] WARNING: /workspace/src/learner.cc:740: \n",
      "Parameters: { \"use_label_encoder\" } are not used.\n",
      "\n",
      "  warnings.warn(smsg, UserWarning)\n"
     ]
    },
    {
     "name": "stdout",
     "output_type": "stream",
     "text": [
      "cv\n",
      "individual models\n"
     ]
    },
    {
     "name": "stderr",
     "output_type": "stream",
     "text": [
      "/home/wanlab/nick/.local/lib/python3.8/site-packages/xgboost/core.py:158: UserWarning: [09:36:33] WARNING: /workspace/src/learner.cc:740: \n",
      "Parameters: { \"use_label_encoder\" } are not used.\n",
      "\n",
      "  warnings.warn(smsg, UserWarning)\n"
     ]
    },
    {
     "name": "stdout",
     "output_type": "stream",
     "text": [
      "cv\n",
      "individual models\n"
     ]
    },
    {
     "name": "stderr",
     "output_type": "stream",
     "text": [
      "/home/wanlab/nick/.local/lib/python3.8/site-packages/xgboost/core.py:158: UserWarning: [09:36:46] WARNING: /workspace/src/learner.cc:740: \n",
      "Parameters: { \"use_label_encoder\" } are not used.\n",
      "\n",
      "  warnings.warn(smsg, UserWarning)\n"
     ]
    },
    {
     "name": "stdout",
     "output_type": "stream",
     "text": [
      "cv\n",
      "individual models\n"
     ]
    },
    {
     "name": "stderr",
     "output_type": "stream",
     "text": [
      "/home/wanlab/nick/.local/lib/python3.8/site-packages/xgboost/core.py:158: UserWarning: [09:37:00] WARNING: /workspace/src/learner.cc:740: \n",
      "Parameters: { \"use_label_encoder\" } are not used.\n",
      "\n",
      "  warnings.warn(smsg, UserWarning)\n"
     ]
    },
    {
     "name": "stdout",
     "output_type": "stream",
     "text": [
      "cv\n",
      "individual models\n"
     ]
    },
    {
     "name": "stderr",
     "output_type": "stream",
     "text": [
      "/home/wanlab/nick/.local/lib/python3.8/site-packages/xgboost/core.py:158: UserWarning: [09:37:14] WARNING: /workspace/src/learner.cc:740: \n",
      "Parameters: { \"use_label_encoder\" } are not used.\n",
      "\n",
      "  warnings.warn(smsg, UserWarning)\n"
     ]
    },
    {
     "name": "stdout",
     "output_type": "stream",
     "text": [
      "cv\n",
      "individual models\n"
     ]
    },
    {
     "name": "stderr",
     "output_type": "stream",
     "text": [
      "/home/wanlab/nick/.local/lib/python3.8/site-packages/xgboost/core.py:158: UserWarning: [09:37:29] WARNING: /workspace/src/learner.cc:740: \n",
      "Parameters: { \"use_label_encoder\" } are not used.\n",
      "\n",
      "  warnings.warn(smsg, UserWarning)\n"
     ]
    },
    {
     "name": "stdout",
     "output_type": "stream",
     "text": [
      "cv\n",
      "individual models\n"
     ]
    },
    {
     "name": "stderr",
     "output_type": "stream",
     "text": [
      "/home/wanlab/nick/.local/lib/python3.8/site-packages/xgboost/core.py:158: UserWarning: [09:37:43] WARNING: /workspace/src/learner.cc:740: \n",
      "Parameters: { \"use_label_encoder\" } are not used.\n",
      "\n",
      "  warnings.warn(smsg, UserWarning)\n"
     ]
    },
    {
     "name": "stdout",
     "output_type": "stream",
     "text": [
      "cv\n",
      "individual models\n"
     ]
    },
    {
     "name": "stderr",
     "output_type": "stream",
     "text": [
      "/home/wanlab/nick/.local/lib/python3.8/site-packages/xgboost/core.py:158: UserWarning: [09:37:56] WARNING: /workspace/src/learner.cc:740: \n",
      "Parameters: { \"use_label_encoder\" } are not used.\n",
      "\n",
      "  warnings.warn(smsg, UserWarning)\n"
     ]
    },
    {
     "name": "stdout",
     "output_type": "stream",
     "text": [
      "cv\n",
      "individual models\n"
     ]
    },
    {
     "name": "stderr",
     "output_type": "stream",
     "text": [
      "/home/wanlab/nick/.local/lib/python3.8/site-packages/xgboost/core.py:158: UserWarning: [09:38:11] WARNING: /workspace/src/learner.cc:740: \n",
      "Parameters: { \"use_label_encoder\" } are not used.\n",
      "\n",
      "  warnings.warn(smsg, UserWarning)\n"
     ]
    },
    {
     "name": "stdout",
     "output_type": "stream",
     "text": [
      "cv\n",
      "individual models\n"
     ]
    },
    {
     "name": "stderr",
     "output_type": "stream",
     "text": [
      "/home/wanlab/nick/.local/lib/python3.8/site-packages/xgboost/core.py:158: UserWarning: [09:38:25] WARNING: /workspace/src/learner.cc:740: \n",
      "Parameters: { \"use_label_encoder\" } are not used.\n",
      "\n",
      "  warnings.warn(smsg, UserWarning)\n"
     ]
    },
    {
     "name": "stdout",
     "output_type": "stream",
     "text": [
      "cv\n",
      "individual models\n"
     ]
    },
    {
     "name": "stderr",
     "output_type": "stream",
     "text": [
      "/home/wanlab/nick/.local/lib/python3.8/site-packages/xgboost/core.py:158: UserWarning: [09:38:38] WARNING: /workspace/src/learner.cc:740: \n",
      "Parameters: { \"use_label_encoder\" } are not used.\n",
      "\n",
      "  warnings.warn(smsg, UserWarning)\n"
     ]
    },
    {
     "name": "stdout",
     "output_type": "stream",
     "text": [
      "cv\n",
      "individual models\n"
     ]
    },
    {
     "name": "stderr",
     "output_type": "stream",
     "text": [
      "/home/wanlab/nick/.local/lib/python3.8/site-packages/xgboost/core.py:158: UserWarning: [09:38:52] WARNING: /workspace/src/learner.cc:740: \n",
      "Parameters: { \"use_label_encoder\" } are not used.\n",
      "\n",
      "  warnings.warn(smsg, UserWarning)\n"
     ]
    },
    {
     "name": "stdout",
     "output_type": "stream",
     "text": [
      "cv\n",
      "individual models\n"
     ]
    },
    {
     "name": "stderr",
     "output_type": "stream",
     "text": [
      "/home/wanlab/nick/.local/lib/python3.8/site-packages/xgboost/core.py:158: UserWarning: [09:39:05] WARNING: /workspace/src/learner.cc:740: \n",
      "Parameters: { \"use_label_encoder\" } are not used.\n",
      "\n",
      "  warnings.warn(smsg, UserWarning)\n"
     ]
    },
    {
     "name": "stdout",
     "output_type": "stream",
     "text": [
      "cv\n",
      "individual models\n"
     ]
    },
    {
     "name": "stderr",
     "output_type": "stream",
     "text": [
      "/home/wanlab/nick/.local/lib/python3.8/site-packages/xgboost/core.py:158: UserWarning: [09:39:19] WARNING: /workspace/src/learner.cc:740: \n",
      "Parameters: { \"use_label_encoder\" } are not used.\n",
      "\n",
      "  warnings.warn(smsg, UserWarning)\n"
     ]
    },
    {
     "name": "stdout",
     "output_type": "stream",
     "text": [
      "cv\n",
      "individual models\n"
     ]
    },
    {
     "name": "stderr",
     "output_type": "stream",
     "text": [
      "/home/wanlab/nick/.local/lib/python3.8/site-packages/xgboost/core.py:158: UserWarning: [09:39:33] WARNING: /workspace/src/learner.cc:740: \n",
      "Parameters: { \"use_label_encoder\" } are not used.\n",
      "\n",
      "  warnings.warn(smsg, UserWarning)\n"
     ]
    },
    {
     "name": "stdout",
     "output_type": "stream",
     "text": [
      "cv\n",
      "individual models\n"
     ]
    },
    {
     "name": "stderr",
     "output_type": "stream",
     "text": [
      "/home/wanlab/nick/.local/lib/python3.8/site-packages/xgboost/core.py:158: UserWarning: [09:39:47] WARNING: /workspace/src/learner.cc:740: \n",
      "Parameters: { \"use_label_encoder\" } are not used.\n",
      "\n",
      "  warnings.warn(smsg, UserWarning)\n"
     ]
    },
    {
     "name": "stdout",
     "output_type": "stream",
     "text": [
      "cv\n",
      "individual models\n"
     ]
    },
    {
     "name": "stderr",
     "output_type": "stream",
     "text": [
      "/home/wanlab/nick/.local/lib/python3.8/site-packages/xgboost/core.py:158: UserWarning: [09:40:01] WARNING: /workspace/src/learner.cc:740: \n",
      "Parameters: { \"use_label_encoder\" } are not used.\n",
      "\n",
      "  warnings.warn(smsg, UserWarning)\n"
     ]
    },
    {
     "name": "stdout",
     "output_type": "stream",
     "text": [
      "cv\n",
      "individual models\n"
     ]
    },
    {
     "name": "stderr",
     "output_type": "stream",
     "text": [
      "/home/wanlab/nick/.local/lib/python3.8/site-packages/xgboost/core.py:158: UserWarning: [09:40:15] WARNING: /workspace/src/learner.cc:740: \n",
      "Parameters: { \"use_label_encoder\" } are not used.\n",
      "\n",
      "  warnings.warn(smsg, UserWarning)\n"
     ]
    },
    {
     "name": "stdout",
     "output_type": "stream",
     "text": [
      "cv\n",
      "individual models\n"
     ]
    },
    {
     "name": "stderr",
     "output_type": "stream",
     "text": [
      "/home/wanlab/nick/.local/lib/python3.8/site-packages/xgboost/core.py:158: UserWarning: [09:40:29] WARNING: /workspace/src/learner.cc:740: \n",
      "Parameters: { \"use_label_encoder\" } are not used.\n",
      "\n",
      "  warnings.warn(smsg, UserWarning)\n"
     ]
    },
    {
     "name": "stdout",
     "output_type": "stream",
     "text": [
      "cv\n",
      "individual models\n"
     ]
    },
    {
     "name": "stderr",
     "output_type": "stream",
     "text": [
      "/home/wanlab/nick/.local/lib/python3.8/site-packages/xgboost/core.py:158: UserWarning: [09:40:45] WARNING: /workspace/src/learner.cc:740: \n",
      "Parameters: { \"use_label_encoder\" } are not used.\n",
      "\n",
      "  warnings.warn(smsg, UserWarning)\n"
     ]
    },
    {
     "name": "stdout",
     "output_type": "stream",
     "text": [
      "cv\n",
      "individual models\n"
     ]
    },
    {
     "name": "stderr",
     "output_type": "stream",
     "text": [
      "/home/wanlab/nick/.local/lib/python3.8/site-packages/xgboost/core.py:158: UserWarning: [09:40:58] WARNING: /workspace/src/learner.cc:740: \n",
      "Parameters: { \"use_label_encoder\" } are not used.\n",
      "\n",
      "  warnings.warn(smsg, UserWarning)\n"
     ]
    },
    {
     "name": "stdout",
     "output_type": "stream",
     "text": [
      "cv\n",
      "individual models\n"
     ]
    },
    {
     "name": "stderr",
     "output_type": "stream",
     "text": [
      "/home/wanlab/nick/.local/lib/python3.8/site-packages/xgboost/core.py:158: UserWarning: [09:41:11] WARNING: /workspace/src/learner.cc:740: \n",
      "Parameters: { \"use_label_encoder\" } are not used.\n",
      "\n",
      "  warnings.warn(smsg, UserWarning)\n"
     ]
    },
    {
     "name": "stdout",
     "output_type": "stream",
     "text": [
      "cv\n",
      "individual models\n"
     ]
    },
    {
     "name": "stderr",
     "output_type": "stream",
     "text": [
      "/home/wanlab/nick/.local/lib/python3.8/site-packages/xgboost/core.py:158: UserWarning: [09:41:25] WARNING: /workspace/src/learner.cc:740: \n",
      "Parameters: { \"use_label_encoder\" } are not used.\n",
      "\n",
      "  warnings.warn(smsg, UserWarning)\n"
     ]
    },
    {
     "name": "stdout",
     "output_type": "stream",
     "text": [
      "cv\n",
      "individual models\n"
     ]
    },
    {
     "name": "stderr",
     "output_type": "stream",
     "text": [
      "/home/wanlab/nick/.local/lib/python3.8/site-packages/xgboost/core.py:158: UserWarning: [09:41:41] WARNING: /workspace/src/learner.cc:740: \n",
      "Parameters: { \"use_label_encoder\" } are not used.\n",
      "\n",
      "  warnings.warn(smsg, UserWarning)\n"
     ]
    },
    {
     "name": "stdout",
     "output_type": "stream",
     "text": [
      "cv\n",
      "individual models\n"
     ]
    },
    {
     "name": "stderr",
     "output_type": "stream",
     "text": [
      "/home/wanlab/nick/.local/lib/python3.8/site-packages/xgboost/core.py:158: UserWarning: [09:41:56] WARNING: /workspace/src/learner.cc:740: \n",
      "Parameters: { \"use_label_encoder\" } are not used.\n",
      "\n",
      "  warnings.warn(smsg, UserWarning)\n"
     ]
    },
    {
     "name": "stdout",
     "output_type": "stream",
     "text": [
      "cv\n",
      "individual models\n"
     ]
    },
    {
     "name": "stderr",
     "output_type": "stream",
     "text": [
      "/home/wanlab/nick/.local/lib/python3.8/site-packages/xgboost/core.py:158: UserWarning: [09:42:10] WARNING: /workspace/src/learner.cc:740: \n",
      "Parameters: { \"use_label_encoder\" } are not used.\n",
      "\n",
      "  warnings.warn(smsg, UserWarning)\n"
     ]
    },
    {
     "name": "stdout",
     "output_type": "stream",
     "text": [
      "cv\n",
      "individual models\n"
     ]
    },
    {
     "name": "stderr",
     "output_type": "stream",
     "text": [
      "/home/wanlab/nick/.local/lib/python3.8/site-packages/xgboost/core.py:158: UserWarning: [09:42:23] WARNING: /workspace/src/learner.cc:740: \n",
      "Parameters: { \"use_label_encoder\" } are not used.\n",
      "\n",
      "  warnings.warn(smsg, UserWarning)\n"
     ]
    },
    {
     "name": "stdout",
     "output_type": "stream",
     "text": [
      "cv\n",
      "individual models\n"
     ]
    },
    {
     "name": "stderr",
     "output_type": "stream",
     "text": [
      "/home/wanlab/nick/.local/lib/python3.8/site-packages/xgboost/core.py:158: UserWarning: [09:42:37] WARNING: /workspace/src/learner.cc:740: \n",
      "Parameters: { \"use_label_encoder\" } are not used.\n",
      "\n",
      "  warnings.warn(smsg, UserWarning)\n"
     ]
    },
    {
     "name": "stdout",
     "output_type": "stream",
     "text": [
      "cv\n",
      "individual models\n"
     ]
    },
    {
     "name": "stderr",
     "output_type": "stream",
     "text": [
      "/home/wanlab/nick/.local/lib/python3.8/site-packages/xgboost/core.py:158: UserWarning: [09:42:51] WARNING: /workspace/src/learner.cc:740: \n",
      "Parameters: { \"use_label_encoder\" } are not used.\n",
      "\n",
      "  warnings.warn(smsg, UserWarning)\n"
     ]
    },
    {
     "name": "stdout",
     "output_type": "stream",
     "text": [
      "cv\n",
      "individual models\n"
     ]
    },
    {
     "name": "stderr",
     "output_type": "stream",
     "text": [
      "/home/wanlab/nick/.local/lib/python3.8/site-packages/xgboost/core.py:158: UserWarning: [09:43:05] WARNING: /workspace/src/learner.cc:740: \n",
      "Parameters: { \"use_label_encoder\" } are not used.\n",
      "\n",
      "  warnings.warn(smsg, UserWarning)\n"
     ]
    },
    {
     "name": "stdout",
     "output_type": "stream",
     "text": [
      "cv\n",
      "individual models\n"
     ]
    },
    {
     "name": "stderr",
     "output_type": "stream",
     "text": [
      "/home/wanlab/nick/.local/lib/python3.8/site-packages/xgboost/core.py:158: UserWarning: [09:43:19] WARNING: /workspace/src/learner.cc:740: \n",
      "Parameters: { \"use_label_encoder\" } are not used.\n",
      "\n",
      "  warnings.warn(smsg, UserWarning)\n"
     ]
    },
    {
     "name": "stdout",
     "output_type": "stream",
     "text": [
      "cv\n",
      "individual models\n"
     ]
    },
    {
     "name": "stderr",
     "output_type": "stream",
     "text": [
      "/home/wanlab/nick/.local/lib/python3.8/site-packages/xgboost/core.py:158: UserWarning: [09:43:32] WARNING: /workspace/src/learner.cc:740: \n",
      "Parameters: { \"use_label_encoder\" } are not used.\n",
      "\n",
      "  warnings.warn(smsg, UserWarning)\n"
     ]
    },
    {
     "name": "stdout",
     "output_type": "stream",
     "text": [
      "cv\n",
      "\n",
      "model score of oof results for SVC\n",
      "Model Accuracy: 0.8958333333333334\n",
      "Precision: 0.9014314967439967\n",
      "Recall (Sensitivity): 0.8958333333333334\n",
      "F1 Score: 0.8959621195146911\n",
      "Matthews Correlation Coefficient (MCC): 0.8611520734979478\n",
      "G-Measure: 0.9297818443861738\n",
      "AUC: 0.987881455399061\n",
      "Specificity: 0.9649181071276142\n",
      "Jaccard Index: 0.8134476371193639\n",
      "Saving metrics to: /work/wanlab/nick//stackeval1/val_data/individual models/SVC/limma(0),metrics.csv\n",
      "PREDICTIONS                   subtype  Squamous      ADEX  Pancreatic Progenitor  \\\n",
      "0   Pancreatic Progenitor  0.120543  0.035148               0.811840   \n",
      "1                    ADEX  0.042982  0.891921               0.017902   \n",
      "2   Pancreatic Progenitor  0.261422  0.247458               0.451165   \n",
      "3   Pancreatic Progenitor  0.005306  0.063098               0.889020   \n",
      "4                    ADEX  0.108693  0.685596               0.188352   \n",
      "..                    ...       ...       ...                    ...   \n",
      "91            Immunogenic  0.007531  0.060672               0.010895   \n",
      "92                   ADEX  0.013096  0.778386               0.155264   \n",
      "93            Immunogenic  0.043716  0.038914               0.370607   \n",
      "94               Squamous  0.659591  0.059864               0.251676   \n",
      "95  Pancreatic Progenitor  0.001216  0.018132               0.894802   \n",
      "\n",
      "    Immunogenic  \n",
      "0      0.032469  \n",
      "1      0.047195  \n",
      "2      0.039956  \n",
      "3      0.042576  \n",
      "4      0.017359  \n",
      "..          ...  \n",
      "91     0.920903  \n",
      "92     0.053253  \n",
      "93     0.546763  \n",
      "94     0.028869  \n",
      "95     0.085850  \n",
      "\n",
      "[96 rows x 5 columns]\n",
      "\n",
      "model score of oof results for SVC2\n",
      "Model Accuracy: 0.9166666666666666\n",
      "Precision: 0.9179416613572927\n",
      "Recall (Sensitivity): 0.9166666666666666\n",
      "F1 Score: 0.9168905106983729\n",
      "Matthews Correlation Coefficient (MCC): 0.8877175856139377\n",
      "G-Measure: 0.9453340190753321\n",
      "AUC: 0.9856112289265898\n",
      "Specificity: 0.972089735381989\n",
      "Jaccard Index: 0.8457818223443223\n",
      "Saving metrics to: /work/wanlab/nick//stackeval1/val_data/individual models/SVC2/limma(0),metrics.csv\n",
      "PREDICTIONS                   subtype  Squamous      ADEX  Pancreatic Progenitor  \\\n",
      "0   Pancreatic Progenitor  0.151652  0.038222               0.778139   \n",
      "1                    ADEX  0.080767  0.813362               0.031334   \n",
      "2   Pancreatic Progenitor  0.366808  0.153486               0.440358   \n",
      "3   Pancreatic Progenitor  0.013126  0.083509               0.863618   \n",
      "4                    ADEX  0.249689  0.449207               0.268190   \n",
      "..                    ...       ...       ...                    ...   \n",
      "91            Immunogenic  0.018663  0.092197               0.014838   \n",
      "92                   ADEX  0.024696  0.789655               0.111576   \n",
      "93            Immunogenic  0.081106  0.024613               0.679297   \n",
      "94               Squamous  0.570326  0.026724               0.385049   \n",
      "95  Pancreatic Progenitor  0.004351  0.027419               0.746993   \n",
      "\n",
      "    Immunogenic  \n",
      "0      0.031986  \n",
      "1      0.074536  \n",
      "2      0.039348  \n",
      "3      0.039747  \n",
      "4      0.032914  \n",
      "..          ...  \n",
      "91     0.874303  \n",
      "92     0.074073  \n",
      "93     0.214984  \n",
      "94     0.017901  \n",
      "95     0.221236  \n",
      "\n",
      "[96 rows x 5 columns]\n",
      "\n",
      "model score of oof results for LogisticRegression\n",
      "Model Accuracy: 0.90625\n",
      "Precision: 0.907241010904804\n",
      "Recall (Sensitivity): 0.90625\n",
      "F1 Score: 0.9063258253912099\n",
      "Matthews Correlation Coefficient (MCC): 0.8733101573111083\n",
      "G-Measure: 0.9352788514023854\n",
      "AUC: 0.987585527368758\n",
      "Specificity: 0.9681724818608621\n",
      "Jaccard Index: 0.8275341386554622\n",
      "Saving metrics to: /work/wanlab/nick//stackeval1/val_data/individual models/LogisticRegression/limma(0),metrics.csv\n",
      "PREDICTIONS                   subtype      Squamous      ADEX  Pancreatic Progenitor  \\\n",
      "0   Pancreatic Progenitor  3.032983e-03  0.000254           9.966280e-01   \n",
      "1                    ADEX  7.699082e-05  0.999117           5.511734e-06   \n",
      "2   Pancreatic Progenitor  1.733089e-01  0.021542           8.050540e-01   \n",
      "3   Pancreatic Progenitor  8.482411e-06  0.007792           9.913168e-01   \n",
      "4                    ADEX  7.132894e-02  0.852495           7.609491e-02   \n",
      "..                    ...           ...       ...                    ...   \n",
      "91            Immunogenic  5.533628e-08  0.000009           1.133365e-08   \n",
      "92                   ADEX  7.055326e-06  0.983643           1.421599e-02   \n",
      "93            Immunogenic  6.291252e-03  0.001291           8.522605e-01   \n",
      "94               Squamous  8.284744e-01  0.000136           1.713615e-01   \n",
      "95  Pancreatic Progenitor  4.285721e-09  0.000005           9.879981e-01   \n",
      "\n",
      "    Immunogenic  \n",
      "0      0.000085  \n",
      "1      0.000800  \n",
      "2      0.000095  \n",
      "3      0.000883  \n",
      "4      0.000081  \n",
      "..          ...  \n",
      "91     0.999991  \n",
      "92     0.002134  \n",
      "93     0.140158  \n",
      "94     0.000028  \n",
      "95     0.011997  \n",
      "\n",
      "[96 rows x 5 columns]\n",
      "\n",
      "model score of oof results for XGBClassifier\n",
      "Model Accuracy: 0.8958333333333334\n",
      "Precision: 0.8980353036908744\n",
      "Recall (Sensitivity): 0.8958333333333334\n",
      "F1 Score: 0.8939833840972847\n",
      "Matthews Correlation Coefficient (MCC): 0.8599347653521981\n",
      "G-Measure: 0.9191232154034474\n",
      "AUC: 0.980168487249253\n",
      "Specificity: 0.9643846030729835\n",
      "Jaccard Index: 0.7975085541008462\n",
      "Saving metrics to: /work/wanlab/nick//stackeval1/val_data/individual models/XGBClassifier/limma(0),metrics.csv\n",
      "PREDICTIONS                   subtype  Squamous      ADEX  Pancreatic Progenitor  \\\n",
      "0   Pancreatic Progenitor  0.010496  0.004265               0.979689   \n",
      "1                    ADEX  0.009075  0.971340               0.010060   \n",
      "2   Pancreatic Progenitor  0.324684  0.116739               0.423451   \n",
      "3   Pancreatic Progenitor  0.035251  0.015652               0.932271   \n",
      "4                    ADEX  0.019062  0.938530               0.032673   \n",
      "..                    ...       ...       ...                    ...   \n",
      "91            Immunogenic  0.003353  0.144402               0.006780   \n",
      "92                   ADEX  0.085751  0.291449               0.230912   \n",
      "93            Immunogenic  0.006942  0.004306               0.017895   \n",
      "94               Squamous  0.557425  0.083944               0.236529   \n",
      "95  Pancreatic Progenitor  0.076111  0.088864               0.516777   \n",
      "\n",
      "    Immunogenic  \n",
      "0      0.005550  \n",
      "1      0.009525  \n",
      "2      0.135126  \n",
      "3      0.016826  \n",
      "4      0.009735  \n",
      "..          ...  \n",
      "91     0.845465  \n",
      "92     0.391888  \n",
      "93     0.970856  \n",
      "94     0.122102  \n",
      "95     0.318248  \n",
      "\n",
      "[96 rows x 5 columns]\n",
      "运行时间为: 1341.94 秒\n",
      "combining [[0.12054273 0.03514802 0.81183985 ... 0.004265   0.97968882 0.00555017]\n",
      " [0.04298236 0.89192065 0.01790227 ... 0.97134036 0.01005994 0.00952453]\n",
      " [0.26142168 0.24745812 0.45116456 ... 0.11673886 0.42345148 0.13512553]\n",
      " ...\n",
      " [0.0437155  0.03891434 0.37060691 ... 0.00430637 0.01789468 0.97085649]\n",
      " [0.65959071 0.05986397 0.2516761  ... 0.08394366 0.23652914 0.1221018 ]\n",
      " [0.00121609 0.0181316  0.8948025  ... 0.08886395 0.51677722 0.31824797]] [[13.56018914 12.68466835 13.10243664 ...  9.53005478 11.16103308\n",
      "  11.24920229]\n",
      " [15.4259582  14.08525845 12.01110512 ...  9.45622747 11.12707631\n",
      "  11.78331935]\n",
      " [14.4756837  13.26517897 12.82291838 ...  9.65623065 11.33179862\n",
      "  11.68015036]\n",
      " ...\n",
      " [14.28976923 13.62192201 12.67277184 ...  9.32578912  9.67174085\n",
      "  11.45401981]\n",
      " [14.71684472 13.81278796 13.58508909 ... 10.31590684 12.7838795\n",
      "  11.90067493]\n",
      " [14.18823419 12.92657629 11.70868561 ...  9.88942006  9.76636631\n",
      "  12.84604452]]\n",
      "stacked\n",
      "cv\n",
      "stacked\n",
      "cv\n",
      "stacked\n",
      "cv\n",
      "stacked\n",
      "cv\n",
      "stacked\n",
      "cv\n",
      "stacked\n",
      "cv\n",
      "stacked\n",
      "cv\n",
      "stacked\n",
      "cv\n",
      "stacked\n",
      "cv\n",
      "stacked\n",
      "cv\n",
      "stacked\n",
      "cv\n",
      "stacked\n",
      "cv\n",
      "stacked\n",
      "cv\n",
      "stacked\n",
      "cv\n",
      "stacked\n",
      "cv\n",
      "stacked\n",
      "cv\n",
      "stacked\n",
      "cv\n",
      "stacked\n",
      "cv\n",
      "stacked\n",
      "cv\n",
      "stacked\n",
      "cv\n",
      "stacked\n",
      "cv\n",
      "stacked\n",
      "cv\n",
      "stacked\n",
      "cv\n",
      "stacked\n",
      "cv\n",
      "stacked\n",
      "cv\n",
      "stacked\n",
      "cv\n",
      "stacked\n",
      "cv\n",
      "stacked\n",
      "cv\n",
      "stacked\n",
      "cv\n",
      "stacked\n",
      "cv\n",
      "stacked\n",
      "cv\n",
      "stacked\n",
      "cv\n",
      "stacked\n",
      "cv\n",
      "stacked\n",
      "cv\n",
      "stacked\n",
      "cv\n",
      "stacked\n",
      "cv\n",
      "stacked\n",
      "cv\n",
      "stacked\n",
      "cv\n",
      "stacked\n",
      "cv\n",
      "stacked\n",
      "cv\n",
      "stacked\n",
      "cv\n",
      "stacked\n",
      "cv\n",
      "stacked\n",
      "cv\n",
      "stacked\n",
      "cv\n",
      "stacked\n",
      "cv\n",
      "stacked\n",
      "cv\n",
      "stacked\n",
      "cv\n",
      "stacked\n",
      "cv\n",
      "stacked\n",
      "cv\n",
      "stacked\n",
      "cv\n",
      "stacked\n",
      "cv\n",
      "stacked\n",
      "cv\n",
      "stacked\n",
      "cv\n",
      "stacked\n",
      "cv\n",
      "stacked\n",
      "cv\n",
      "stacked\n",
      "cv\n",
      "stacked\n",
      "cv\n",
      "stacked\n",
      "cv\n",
      "stacked\n",
      "cv\n",
      "stacked\n",
      "cv\n",
      "stacked\n",
      "cv\n",
      "stacked\n",
      "cv\n",
      "stacked\n",
      "cv\n",
      "stacked\n",
      "cv\n",
      "stacked\n",
      "cv\n",
      "stacked\n",
      "cv\n",
      "stacked\n",
      "cv\n",
      "stacked\n",
      "cv\n",
      "stacked\n",
      "cv\n",
      "stacked\n",
      "cv\n",
      "stacked\n",
      "cv\n",
      "stacked\n",
      "cv\n",
      "stacked\n",
      "cv\n",
      "stacked\n",
      "cv\n",
      "stacked\n",
      "cv\n",
      "stacked\n",
      "cv\n",
      "stacked\n",
      "cv\n",
      "stacked\n",
      "cv\n",
      "stacked\n",
      "cv\n",
      "stacked\n",
      "cv\n",
      "stacked\n",
      "cv\n",
      "stacked\n",
      "cv\n",
      "stacked\n",
      "cv\n",
      "stacked\n",
      "cv\n",
      "stacked\n",
      "cv\n",
      "stacked\n",
      "cv\n",
      "stacked\n",
      "cv\n",
      "stacked\n",
      "cv\n",
      "stacked\n",
      "cv\n",
      "stacked\n",
      "cv\n",
      "stacked\n",
      "cv\n",
      "stacked\n",
      "cv\n",
      "stacked\n",
      "cv\n",
      "stacked\n",
      "cv\n",
      "stacked\n",
      "cv\n",
      "stacked\n",
      "cv\n",
      "\n",
      "model score of oof results for MLPClassifier\n",
      "Model Accuracy: 0.5833333333333334\n",
      "Precision: 0.5777098858995411\n",
      "Recall (Sensitivity): 0.5833333333333334\n",
      "F1 Score: 0.5798453464393145\n",
      "Matthews Correlation Coefficient (MCC): 0.4353666643412039\n",
      "G-Measure: 0.692458018265957\n",
      "AUC: 0.8170156116623986\n",
      "Specificity: 0.8588561673068715\n",
      "Jaccard Index: 0.4021619112761384\n",
      "Saving metrics to: /work/wanlab/nick//stackeval1/val_data/stacked/MLPClassifier/limma(0),metrics.csv\n",
      "PREDICTIONS                   subtype      Squamous          ADEX  Pancreatic Progenitor  \\\n",
      "0             Immunogenic  2.649598e-06  2.955351e-07           1.061136e-04   \n",
      "1                    ADEX  1.852355e-01  2.657819e-02           7.876981e-01   \n",
      "2   Pancreatic Progenitor  2.851056e-04  4.406411e-01           2.226207e-03   \n",
      "3   Pancreatic Progenitor  6.443999e-04  7.311671e-01           2.667847e-01   \n",
      "4   Pancreatic Progenitor  8.551838e-03  4.447768e-01           5.466695e-01   \n",
      "..                    ...           ...           ...                    ...   \n",
      "91                   ADEX  4.893825e-10  9.558468e-01           9.341856e-04   \n",
      "92               Squamous  9.999603e-01  4.213487e-09           7.637795e-08   \n",
      "93                   ADEX  9.598535e-05  3.824246e-07           4.045434e-01   \n",
      "94  Pancreatic Progenitor  3.577870e-07  7.598556e-01           2.124071e-01   \n",
      "95               Squamous  1.159014e-01  6.046163e-01           2.644225e-01   \n",
      "\n",
      "    Immunogenic  \n",
      "0      0.999891  \n",
      "1      0.000488  \n",
      "2      0.556848  \n",
      "3      0.001404  \n",
      "4      0.000002  \n",
      "..          ...  \n",
      "91     0.043219  \n",
      "92     0.000040  \n",
      "93     0.595360  \n",
      "94     0.027737  \n",
      "95     0.015060  \n",
      "\n",
      "[96 rows x 5 columns]\n",
      "\n",
      "model score of oof results for RandomForestClassifier\n",
      "Model Accuracy: 0.84375\n",
      "Precision: 0.84833184074912\n",
      "Recall (Sensitivity): 0.84375\n",
      "F1 Score: 0.8420649509803922\n",
      "Matthews Correlation Coefficient (MCC): 0.7888246981235294\n",
      "G-Measure: 0.8814218993566016\n",
      "AUC: 0.983570464770949\n",
      "Specificity: 0.9459787131882202\n",
      "Jaccard Index: 0.7187091503267973\n",
      "Saving metrics to: /work/wanlab/nick//stackeval1/val_data/stacked/RandomForestClassifier/limma(0),metrics.csv\n",
      "PREDICTIONS                   subtype  Squamous  ADEX  Pancreatic Progenitor  Immunogenic\n",
      "0             Immunogenic      0.05  0.03                   0.04         0.88\n",
      "1                    ADEX      0.10  0.48                   0.35         0.07\n",
      "2   Pancreatic Progenitor      0.03  0.08                   0.47         0.42\n",
      "3   Pancreatic Progenitor      0.06  0.11                   0.74         0.09\n",
      "4   Pancreatic Progenitor      0.11  0.13                   0.69         0.07\n",
      "..                    ...       ...   ...                    ...          ...\n",
      "91                   ADEX      0.05  0.39                   0.22         0.34\n",
      "92               Squamous      0.86  0.03                   0.02         0.09\n",
      "93                   ADEX      0.18  0.51                   0.25         0.06\n",
      "94  Pancreatic Progenitor      0.07  0.54                   0.31         0.08\n",
      "95               Squamous      0.35  0.35                   0.28         0.02\n",
      "\n",
      "[96 rows x 5 columns]\n",
      "\n",
      "model score of oof results for LogisticRegression2\n",
      "Model Accuracy: 0.90625\n",
      "Precision: 0.907241010904804\n",
      "Recall (Sensitivity): 0.90625\n",
      "F1 Score: 0.9063258253912099\n",
      "Matthews Correlation Coefficient (MCC): 0.8733101573111083\n",
      "G-Measure: 0.9352788514023854\n",
      "AUC: 0.987585527368758\n",
      "Specificity: 0.9681724818608621\n",
      "Jaccard Index: 0.8275341386554622\n",
      "Saving metrics to: /work/wanlab/nick//stackeval1/val_data/stacked/LogisticRegression2/limma(0),metrics.csv\n",
      "PREDICTIONS                   subtype      Squamous          ADEX  Pancreatic Progenitor  \\\n",
      "0             Immunogenic  3.627061e-09  9.957305e-10           2.282997e-10   \n",
      "1                    ADEX  1.171120e-04  8.835670e-01           1.151492e-01   \n",
      "2   Pancreatic Progenitor  4.357224e-09  4.600534e-06           9.880142e-01   \n",
      "3   Pancreatic Progenitor  8.472864e-06  7.670091e-03           9.914503e-01   \n",
      "4   Pancreatic Progenitor  4.409410e-05  5.494635e-04           9.994063e-01   \n",
      "..                    ...           ...           ...                    ...   \n",
      "91                   ADEX  3.316693e-07  9.370865e-01           2.259303e-02   \n",
      "92               Squamous  1.000000e+00  8.814656e-13           4.455680e-13   \n",
      "93                   ADEX  2.193552e-04  9.825336e-01           1.721922e-02   \n",
      "94  Pancreatic Progenitor  1.837464e-07  6.671957e-01           3.315097e-01   \n",
      "95               Squamous  6.544050e-01  3.235873e-01           2.199075e-02   \n",
      "\n",
      "     Immunogenic  \n",
      "0   1.000000e+00  \n",
      "1   1.166663e-03  \n",
      "2   1.198121e-02  \n",
      "3   8.711588e-04  \n",
      "4   9.346643e-08  \n",
      "..           ...  \n",
      "91  4.032015e-02  \n",
      "92  5.354585e-09  \n",
      "93  2.778380e-05  \n",
      "94  1.294377e-03  \n",
      "95  1.692239e-05  \n",
      "\n",
      "[96 rows x 5 columns]\n",
      "\n",
      "model score of oof results for GaussianNB2\n",
      "Model Accuracy: 0.8229166666666666\n",
      "Precision: 0.8281146523900147\n",
      "Recall (Sensitivity): 0.8229166666666666\n",
      "F1 Score: 0.8193442841880341\n",
      "Matthews Correlation Coefficient (MCC): 0.7612212618843984\n",
      "G-Measure: 0.8602464982659523\n",
      "AUC: 0.9378936537469769\n",
      "Specificity: 0.9385323303457106\n",
      "Jaccard Index: 0.6843869731800766\n",
      "Saving metrics to: /work/wanlab/nick//stackeval1/val_data/stacked/GaussianNB2/limma(0),metrics.csv\n",
      "PREDICTIONS                   subtype      Squamous          ADEX  Pancreatic Progenitor  \\\n",
      "0             Immunogenic  0.000000e+00  0.000000e+00           0.000000e+00   \n",
      "1                    ADEX  0.000000e+00  1.000000e+00           0.000000e+00   \n",
      "2   Pancreatic Progenitor  0.000000e+00  0.000000e+00           1.000000e+00   \n",
      "3   Pancreatic Progenitor  0.000000e+00  0.000000e+00           1.000000e+00   \n",
      "4   Pancreatic Progenitor  0.000000e+00  0.000000e+00           1.000000e+00   \n",
      "..                    ...           ...           ...                    ...   \n",
      "91                   ADEX  0.000000e+00  1.000000e+00           5.564593e-58   \n",
      "92               Squamous  1.000000e+00  0.000000e+00           0.000000e+00   \n",
      "93                   ADEX  0.000000e+00  2.954667e-42           1.000000e+00   \n",
      "94  Pancreatic Progenitor  0.000000e+00  1.000000e+00           0.000000e+00   \n",
      "95               Squamous  5.399498e-33  1.000000e+00          5.212211e-170   \n",
      "\n",
      "    Immunogenic  \n",
      "0           1.0  \n",
      "1           0.0  \n",
      "2           0.0  \n",
      "3           0.0  \n",
      "4           0.0  \n",
      "..          ...  \n",
      "91          0.0  \n",
      "92          0.0  \n",
      "93          0.0  \n",
      "94          0.0  \n",
      "95          0.0  \n",
      "\n",
      "[96 rows x 5 columns]\n",
      "\n",
      "model score of oof results for SVC3\n",
      "Model Accuracy: 0.8958333333333334\n",
      "Precision: 0.9000483312983313\n",
      "Recall (Sensitivity): 0.8958333333333334\n",
      "F1 Score: 0.8961476129250004\n",
      "Matthews Correlation Coefficient (MCC): 0.8604174274703945\n",
      "G-Measure: 0.9291226370118333\n",
      "AUC: 0.9873276115023474\n",
      "Specificity: 0.9649181071276142\n",
      "Jaccard Index: 0.8121114964339462\n",
      "Saving metrics to: /work/wanlab/nick//stackeval1/val_data/stacked/SVC3/limma(0),metrics.csv\n",
      "PREDICTIONS                   subtype  Squamous      ADEX  Pancreatic Progenitor  \\\n",
      "0             Immunogenic  0.003413  0.002128               0.000865   \n",
      "1                    ADEX  0.018572  0.861885               0.093979   \n",
      "2   Pancreatic Progenitor  0.001311  0.018358               0.879574   \n",
      "3   Pancreatic Progenitor  0.006050  0.075048               0.854380   \n",
      "4   Pancreatic Progenitor  0.024945  0.055040               0.915419   \n",
      "..                    ...       ...       ...                    ...   \n",
      "91                   ADEX  0.005509  0.659153               0.085590   \n",
      "92               Squamous  0.992063  0.000663               0.000518   \n",
      "93                   ADEX  0.095809  0.732866               0.134694   \n",
      "94  Pancreatic Progenitor  0.002610  0.778399               0.195427   \n",
      "95               Squamous  0.412309  0.401204               0.172491   \n",
      "\n",
      "    Immunogenic  \n",
      "0      0.993594  \n",
      "1      0.025563  \n",
      "2      0.100756  \n",
      "3      0.064523  \n",
      "4      0.004596  \n",
      "..          ...  \n",
      "91     0.249749  \n",
      "92     0.006756  \n",
      "93     0.036631  \n",
      "94     0.023564  \n",
      "95     0.013996  \n",
      "\n",
      "[96 rows x 5 columns]\n",
      "\n",
      "model score of oof results for SVC4\n",
      "Model Accuracy: 0.9166666666666666\n",
      "Precision: 0.9192088293650794\n",
      "Recall (Sensitivity): 0.9166666666666666\n",
      "F1 Score: 0.9167442595125234\n",
      "Matthews Correlation Coefficient (MCC): 0.8883018621349139\n",
      "G-Measure: 0.9457735985191148\n",
      "AUC: 0.9854257806942667\n",
      "Specificity: 0.9716936086214255\n",
      "Jaccard Index: 0.8517636331721017\n",
      "Saving metrics to: /work/wanlab/nick//stackeval1/val_data/stacked/SVC4/limma(0),metrics.csv\n",
      "PREDICTIONS                   subtype  Squamous      ADEX  Pancreatic Progenitor  \\\n",
      "0             Immunogenic  0.002271  0.001230               0.000610   \n",
      "1                    ADEX  0.045248  0.549062               0.361553   \n",
      "2   Pancreatic Progenitor  0.003884  0.025611               0.760228   \n",
      "3   Pancreatic Progenitor  0.014147  0.077667               0.861760   \n",
      "4   Pancreatic Progenitor  0.060016  0.073585               0.857027   \n",
      "..                    ...       ...       ...                    ...   \n",
      "91                   ADEX  0.010804  0.684764               0.131997   \n",
      "92               Squamous  0.995703  0.000119               0.000101   \n",
      "93                   ADEX  0.038753  0.768330               0.159060   \n",
      "94  Pancreatic Progenitor  0.009872  0.662281               0.283632   \n",
      "95               Squamous  0.407604  0.361033               0.205417   \n",
      "\n",
      "    Immunogenic  \n",
      "0      0.995889  \n",
      "1      0.044137  \n",
      "2      0.210277  \n",
      "3      0.046427  \n",
      "4      0.009371  \n",
      "..          ...  \n",
      "91     0.172435  \n",
      "92     0.004078  \n",
      "93     0.033857  \n",
      "94     0.044214  \n",
      "95     0.025946  \n",
      "\n",
      "[96 rows x 5 columns]\n",
      "run 2\n",
      "Model Pair: SVC + SVC + LogisticRegression + KNeighborsClassifier\n",
      "USEDmodelnames ['SVC', 'SVC2', 'LogisticRegression', 'KNeighborsClassifier']\n",
      "Running with: SVC and SVC and LogisticRegression and KNeighborsClassifier\n",
      "Random state: 0\n",
      "['SVC', 'SVC2', 'LogisticRegression', 'KNeighborsClassifier']\n",
      "individual models\n",
      "cv\n",
      "individual models\n",
      "cv\n",
      "individual models\n",
      "cv\n",
      "individual models\n",
      "cv\n",
      "individual models\n",
      "cv\n",
      "individual models\n",
      "cv\n",
      "individual models\n",
      "cv\n",
      "individual models\n",
      "cv\n",
      "individual models\n",
      "cv\n",
      "individual models\n",
      "cv\n",
      "individual models\n",
      "cv\n",
      "individual models\n",
      "cv\n",
      "individual models\n",
      "cv\n",
      "individual models\n",
      "cv\n",
      "individual models\n",
      "cv\n",
      "individual models\n",
      "cv\n",
      "individual models\n",
      "cv\n",
      "individual models\n",
      "cv\n",
      "individual models\n",
      "cv\n",
      "individual models\n",
      "cv\n",
      "individual models\n",
      "cv\n",
      "individual models\n",
      "cv\n",
      "individual models\n",
      "cv\n",
      "individual models\n",
      "cv\n",
      "individual models\n",
      "cv\n",
      "individual models\n",
      "cv\n",
      "individual models\n",
      "cv\n",
      "individual models\n",
      "cv\n",
      "individual models\n",
      "cv\n",
      "individual models\n",
      "cv\n",
      "individual models\n",
      "cv\n",
      "individual models\n",
      "cv\n",
      "individual models\n",
      "cv\n",
      "individual models\n",
      "cv\n",
      "individual models\n",
      "cv\n",
      "individual models\n",
      "cv\n",
      "individual models\n",
      "cv\n",
      "individual models\n",
      "cv\n",
      "individual models\n",
      "cv\n",
      "individual models\n",
      "cv\n",
      "individual models\n",
      "cv\n",
      "individual models\n",
      "cv\n",
      "individual models\n",
      "cv\n",
      "individual models\n",
      "cv\n",
      "individual models\n",
      "cv\n",
      "individual models\n",
      "cv\n",
      "individual models\n",
      "cv\n",
      "individual models\n",
      "cv\n",
      "individual models\n",
      "cv\n",
      "individual models\n",
      "cv\n",
      "individual models\n",
      "cv\n",
      "individual models\n",
      "cv\n",
      "individual models\n",
      "cv\n",
      "individual models\n",
      "cv\n",
      "individual models\n",
      "cv\n",
      "individual models\n",
      "cv\n",
      "individual models\n",
      "cv\n",
      "individual models\n",
      "cv\n",
      "individual models\n",
      "cv\n",
      "individual models\n",
      "cv\n",
      "individual models\n",
      "cv\n",
      "individual models\n",
      "cv\n",
      "individual models\n",
      "cv\n",
      "individual models\n",
      "cv\n",
      "individual models\n",
      "cv\n",
      "individual models\n",
      "cv\n",
      "individual models\n",
      "cv\n",
      "individual models\n",
      "cv\n",
      "individual models\n",
      "cv\n",
      "individual models\n",
      "cv\n",
      "individual models\n",
      "cv\n",
      "individual models\n",
      "cv\n",
      "individual models\n",
      "cv\n",
      "individual models\n",
      "cv\n",
      "individual models\n",
      "cv\n",
      "individual models\n",
      "cv\n",
      "individual models\n",
      "cv\n",
      "individual models\n",
      "cv\n",
      "individual models\n",
      "cv\n",
      "individual models\n",
      "cv\n",
      "individual models\n",
      "cv\n",
      "individual models\n",
      "cv\n",
      "individual models\n",
      "cv\n",
      "individual models\n",
      "cv\n",
      "individual models\n",
      "cv\n",
      "individual models\n",
      "cv\n",
      "individual models\n",
      "cv\n",
      "individual models\n",
      "cv\n",
      "individual models\n",
      "cv\n",
      "individual models\n",
      "cv\n",
      "individual models\n",
      "cv\n",
      "individual models\n",
      "cv\n",
      "individual models\n",
      "cv\n",
      "individual models\n",
      "cv\n",
      "individual models\n",
      "cv\n",
      "individual models\n",
      "cv\n",
      "\n",
      "model score of oof results for SVC\n",
      "Model Accuracy: 0.8854166666666666\n",
      "Precision: 0.891441968525302\n",
      "Recall (Sensitivity): 0.8854166666666666\n",
      "F1 Score: 0.8857571122577969\n",
      "Matthews Correlation Coefficient (MCC): 0.847046869768925\n",
      "G-Measure: 0.9229308733968031\n",
      "AUC: 0.986859517267748\n",
      "Specificity: 0.9613969803670508\n",
      "Jaccard Index: 0.7977251412244541\n",
      "Saving metrics to: /work/wanlab/nick//stackeval2/val_data/individual models/SVC/limma(0),metrics.csv\n",
      "PREDICTIONS                   subtype  Squamous      ADEX  Pancreatic Progenitor  \\\n",
      "0   Pancreatic Progenitor  0.103744  0.041821               0.826898   \n",
      "1                    ADEX  0.029018  0.914864               0.014386   \n",
      "2   Pancreatic Progenitor  0.253185  0.255247               0.453095   \n",
      "3   Pancreatic Progenitor  0.005955  0.064839               0.897655   \n",
      "4                    ADEX  0.116310  0.690037               0.176306   \n",
      "..                    ...       ...       ...                    ...   \n",
      "91            Immunogenic  0.006728  0.053309               0.007017   \n",
      "92                   ADEX  0.010875  0.758430               0.170756   \n",
      "93            Immunogenic  0.041620  0.042646               0.373162   \n",
      "94               Squamous  0.605116  0.053073               0.310749   \n",
      "95  Pancreatic Progenitor  0.001749  0.019949               0.852269   \n",
      "\n",
      "    Immunogenic  \n",
      "0      0.027538  \n",
      "1      0.041733  \n",
      "2      0.038472  \n",
      "3      0.031551  \n",
      "4      0.017347  \n",
      "..          ...  \n",
      "91     0.932946  \n",
      "92     0.059939  \n",
      "93     0.542572  \n",
      "94     0.031062  \n",
      "95     0.126033  \n",
      "\n",
      "[96 rows x 5 columns]\n",
      "\n",
      "model score of oof results for SVC2\n",
      "Model Accuracy: 0.9270833333333334\n",
      "Precision: 0.9282457295657727\n",
      "Recall (Sensitivity): 0.9270833333333334\n",
      "F1 Score: 0.927124353652804\n",
      "Matthews Correlation Coefficient (MCC): 0.9017909960019698\n",
      "G-Measure: 0.9519085598926197\n",
      "AUC: 0.9844092331768389\n",
      "Specificity: 0.9752147353819889\n",
      "Jaccard Index: 0.8669652957336781\n",
      "Saving metrics to: /work/wanlab/nick//stackeval2/val_data/individual models/SVC2/limma(0),metrics.csv\n",
      "PREDICTIONS                   subtype  Squamous      ADEX  Pancreatic Progenitor  \\\n",
      "0   Pancreatic Progenitor  0.165730  0.039255               0.757957   \n",
      "1                    ADEX  0.074298  0.820137               0.031033   \n",
      "2   Pancreatic Progenitor  0.340220  0.168415               0.450689   \n",
      "3   Pancreatic Progenitor  0.009876  0.067641               0.890726   \n",
      "4                    ADEX  0.242594  0.503787               0.221415   \n",
      "..                    ...       ...       ...                    ...   \n",
      "91            Immunogenic  0.019421  0.098769               0.014292   \n",
      "92                   ADEX  0.028783  0.776566               0.107083   \n",
      "93            Immunogenic  0.070749  0.023095               0.713023   \n",
      "94               Squamous  0.580207  0.027042               0.379041   \n",
      "95  Pancreatic Progenitor  0.003630  0.024880               0.766901   \n",
      "\n",
      "    Immunogenic  \n",
      "0      0.037058  \n",
      "1      0.074532  \n",
      "2      0.040675  \n",
      "3      0.031757  \n",
      "4      0.032205  \n",
      "..          ...  \n",
      "91     0.867518  \n",
      "92     0.087568  \n",
      "93     0.193132  \n",
      "94     0.013711  \n",
      "95     0.204590  \n",
      "\n",
      "[96 rows x 5 columns]\n",
      "\n",
      "model score of oof results for LogisticRegression\n",
      "Model Accuracy: 0.90625\n",
      "Precision: 0.907241010904804\n",
      "Recall (Sensitivity): 0.90625\n",
      "F1 Score: 0.9063258253912099\n",
      "Matthews Correlation Coefficient (MCC): 0.8733101573111083\n",
      "G-Measure: 0.9352788514023854\n",
      "AUC: 0.987585527368758\n",
      "Specificity: 0.9681724818608621\n",
      "Jaccard Index: 0.8275341386554622\n",
      "Saving metrics to: /work/wanlab/nick//stackeval2/val_data/individual models/LogisticRegression/limma(0),metrics.csv\n",
      "PREDICTIONS                   subtype      Squamous      ADEX  Pancreatic Progenitor  \\\n",
      "0   Pancreatic Progenitor  3.032983e-03  0.000254           9.966280e-01   \n",
      "1                    ADEX  7.699082e-05  0.999117           5.511734e-06   \n",
      "2   Pancreatic Progenitor  1.733089e-01  0.021542           8.050540e-01   \n",
      "3   Pancreatic Progenitor  8.482411e-06  0.007792           9.913168e-01   \n",
      "4                    ADEX  7.132894e-02  0.852495           7.609491e-02   \n",
      "..                    ...           ...       ...                    ...   \n",
      "91            Immunogenic  5.533628e-08  0.000009           1.133365e-08   \n",
      "92                   ADEX  7.055326e-06  0.983643           1.421599e-02   \n",
      "93            Immunogenic  6.291252e-03  0.001291           8.522605e-01   \n",
      "94               Squamous  8.284744e-01  0.000136           1.713615e-01   \n",
      "95  Pancreatic Progenitor  4.285721e-09  0.000005           9.879981e-01   \n",
      "\n",
      "    Immunogenic  \n",
      "0      0.000085  \n",
      "1      0.000800  \n",
      "2      0.000095  \n",
      "3      0.000883  \n",
      "4      0.000081  \n",
      "..          ...  \n",
      "91     0.999991  \n",
      "92     0.002134  \n",
      "93     0.140158  \n",
      "94     0.000028  \n",
      "95     0.011997  \n",
      "\n",
      "[96 rows x 5 columns]\n",
      "\n",
      "model score of oof results for KNeighborsClassifier\n",
      "Model Accuracy: 0.8125\n",
      "Precision: 0.8199310816498316\n",
      "Recall (Sensitivity): 0.8125\n",
      "F1 Score: 0.8125190781440782\n",
      "Matthews Correlation Coefficient (MCC): 0.7460321678003263\n",
      "G-Measure: 0.8633985462943907\n",
      "AUC: 0.9584949683898847\n",
      "Specificity: 0.9348818288518993\n",
      "Jaccard Index: 0.6830932288025566\n",
      "Saving metrics to: /work/wanlab/nick//stackeval2/val_data/individual models/KNeighborsClassifier/limma(0),metrics.csv\n",
      "PREDICTIONS                   subtype  Squamous  ADEX  Pancreatic Progenitor  Immunogenic\n",
      "0   Pancreatic Progenitor       0.2   0.0                    0.8          0.0\n",
      "1                    ADEX       0.0   1.0                    0.0          0.0\n",
      "2   Pancreatic Progenitor       0.4   0.0                    0.6          0.0\n",
      "3   Pancreatic Progenitor       0.0   0.0                    1.0          0.0\n",
      "4                    ADEX       0.4   0.2                    0.4          0.0\n",
      "..                    ...       ...   ...                    ...          ...\n",
      "91            Immunogenic       0.0   0.0                    0.0          1.0\n",
      "92                   ADEX       0.0   0.6                    0.4          0.0\n",
      "93            Immunogenic       0.0   0.0                    0.4          0.6\n",
      "94               Squamous       0.4   0.0                    0.6          0.0\n",
      "95  Pancreatic Progenitor       0.0   0.0                    0.6          0.4\n",
      "\n",
      "[96 rows x 5 columns]\n",
      "运行时间为: 217.05 秒\n",
      "combining [[0.10374368 0.04182058 0.82689813 ... 0.         0.8        0.        ]\n",
      " [0.02901761 0.91486393 0.01438556 ... 1.         0.         0.        ]\n",
      " [0.25318506 0.25524748 0.45309529 ... 0.         0.6        0.        ]\n",
      " ...\n",
      " [0.04162013 0.04264584 0.3731619  ... 0.         0.4        0.6       ]\n",
      " [0.60511633 0.05307266 0.31074869 ... 0.         0.6        0.        ]\n",
      " [0.00174909 0.01994899 0.85226876 ... 0.         0.6        0.4       ]] [[13.56018914 12.68466835 13.10243664 ...  9.53005478 11.16103308\n",
      "  11.24920229]\n",
      " [15.4259582  14.08525845 12.01110512 ...  9.45622747 11.12707631\n",
      "  11.78331935]\n",
      " [14.4756837  13.26517897 12.82291838 ...  9.65623065 11.33179862\n",
      "  11.68015036]\n",
      " ...\n",
      " [14.28976923 13.62192201 12.67277184 ...  9.32578912  9.67174085\n",
      "  11.45401981]\n",
      " [14.71684472 13.81278796 13.58508909 ... 10.31590684 12.7838795\n",
      "  11.90067493]\n",
      " [14.18823419 12.92657629 11.70868561 ...  9.88942006  9.76636631\n",
      "  12.84604452]]\n",
      "stacked\n",
      "cv\n",
      "stacked\n",
      "cv\n",
      "stacked\n",
      "cv\n",
      "stacked\n",
      "cv\n",
      "stacked\n",
      "cv\n",
      "stacked\n",
      "cv\n",
      "stacked\n",
      "cv\n",
      "stacked\n",
      "cv\n",
      "stacked\n",
      "cv\n",
      "stacked\n",
      "cv\n",
      "stacked\n",
      "cv\n",
      "stacked\n",
      "cv\n",
      "stacked\n",
      "cv\n",
      "stacked\n",
      "cv\n",
      "stacked\n",
      "cv\n",
      "stacked\n",
      "cv\n",
      "stacked\n",
      "cv\n",
      "stacked\n",
      "cv\n",
      "stacked\n",
      "cv\n",
      "stacked\n",
      "cv\n",
      "stacked\n",
      "cv\n",
      "stacked\n",
      "cv\n",
      "stacked\n",
      "cv\n",
      "stacked\n",
      "cv\n",
      "stacked\n",
      "cv\n",
      "stacked\n",
      "cv\n",
      "stacked\n",
      "cv\n",
      "stacked\n",
      "cv\n",
      "stacked\n",
      "cv\n",
      "stacked\n",
      "cv\n",
      "stacked\n",
      "cv\n",
      "stacked\n",
      "cv\n",
      "stacked\n",
      "cv\n",
      "stacked\n",
      "cv\n",
      "stacked\n",
      "cv\n",
      "stacked\n",
      "cv\n",
      "stacked\n",
      "cv\n",
      "stacked\n",
      "cv\n",
      "stacked\n",
      "cv\n",
      "stacked\n",
      "cv\n",
      "stacked\n",
      "cv\n",
      "stacked\n",
      "cv\n",
      "stacked\n",
      "cv\n",
      "stacked\n",
      "cv\n",
      "stacked\n",
      "cv\n",
      "stacked\n",
      "cv\n",
      "stacked\n",
      "cv\n",
      "stacked\n",
      "cv\n",
      "stacked\n",
      "cv\n",
      "stacked\n",
      "cv\n",
      "stacked\n",
      "cv\n",
      "stacked\n",
      "cv\n",
      "stacked\n",
      "cv\n",
      "stacked\n",
      "cv\n",
      "stacked\n",
      "cv\n",
      "stacked\n",
      "cv\n",
      "stacked\n",
      "cv\n",
      "stacked\n",
      "cv\n",
      "stacked\n",
      "cv\n",
      "stacked\n",
      "cv\n",
      "stacked\n",
      "cv\n",
      "stacked\n",
      "cv\n",
      "stacked\n",
      "cv\n",
      "stacked\n",
      "cv\n",
      "stacked\n",
      "cv\n",
      "stacked\n",
      "cv\n",
      "stacked\n",
      "cv\n",
      "stacked\n",
      "cv\n",
      "stacked\n",
      "cv\n",
      "stacked\n",
      "cv\n",
      "stacked\n",
      "cv\n",
      "stacked\n",
      "cv\n",
      "stacked\n",
      "cv\n",
      "stacked\n",
      "cv\n",
      "stacked\n",
      "cv\n",
      "stacked\n",
      "cv\n",
      "stacked\n",
      "cv\n",
      "stacked\n",
      "cv\n",
      "stacked\n",
      "cv\n",
      "stacked\n",
      "cv\n",
      "stacked\n",
      "cv\n",
      "stacked\n",
      "cv\n",
      "stacked\n",
      "cv\n",
      "stacked\n",
      "cv\n",
      "stacked\n",
      "cv\n",
      "stacked\n",
      "cv\n",
      "stacked\n",
      "cv\n",
      "stacked\n",
      "cv\n",
      "stacked\n",
      "cv\n",
      "stacked\n",
      "cv\n",
      "stacked\n",
      "cv\n",
      "stacked\n",
      "cv\n",
      "stacked\n",
      "cv\n",
      "stacked\n",
      "cv\n",
      "stacked\n",
      "cv\n",
      "stacked\n",
      "cv\n",
      "\n",
      "model score of oof results for MLPClassifier\n",
      "Model Accuracy: 0.5833333333333334\n",
      "Precision: 0.5809321513748597\n",
      "Recall (Sensitivity): 0.5833333333333334\n",
      "F1 Score: 0.5810045558136671\n",
      "Matthews Correlation Coefficient (MCC): 0.43512609118562484\n",
      "G-Measure: 0.69606876898339\n",
      "AUC: 0.8479017730118081\n",
      "Specificity: 0.8583226632522407\n",
      "Jaccard Index: 0.4068887403446227\n",
      "Saving metrics to: /work/wanlab/nick//stackeval2/val_data/stacked/MLPClassifier/limma(0),metrics.csv\n",
      "PREDICTIONS                   subtype  Squamous      ADEX  Pancreatic Progenitor  \\\n",
      "0             Immunogenic  0.000002  0.000043               0.000004   \n",
      "1                    ADEX  0.000123  0.982829               0.011052   \n",
      "2   Pancreatic Progenitor  0.002883  0.302606               0.674486   \n",
      "3   Pancreatic Progenitor  0.036927  0.008433               0.909062   \n",
      "4   Pancreatic Progenitor  0.490455  0.153791               0.354843   \n",
      "..                    ...       ...       ...                    ...   \n",
      "91                   ADEX  0.141641  0.111893               0.725705   \n",
      "92               Squamous  0.999252  0.000022               0.000656   \n",
      "93                   ADEX  0.056996  0.358104               0.584900   \n",
      "94  Pancreatic Progenitor  0.173498  0.000536               0.266957   \n",
      "95               Squamous  0.209705  0.733169               0.057125   \n",
      "\n",
      "     Immunogenic  \n",
      "0   9.999515e-01  \n",
      "1   5.995421e-03  \n",
      "2   2.002447e-02  \n",
      "3   4.557830e-02  \n",
      "4   9.112434e-04  \n",
      "..           ...  \n",
      "91  2.076132e-02  \n",
      "92  6.969828e-05  \n",
      "93  6.551258e-08  \n",
      "94  5.590080e-01  \n",
      "95  6.203197e-07  \n",
      "\n",
      "[96 rows x 5 columns]\n",
      "\n",
      "model score of oof results for RandomForestClassifier\n",
      "Model Accuracy: 0.8645833333333334\n",
      "Precision: 0.8663504464285715\n",
      "Recall (Sensitivity): 0.8645833333333334\n",
      "F1 Score: 0.8645385304659499\n",
      "Matthews Correlation Coefficient (MCC): 0.8164741333108084\n",
      "G-Measure: 0.9040378161640471\n",
      "AUC: 0.986845679506331\n",
      "Specificity: 0.9532877187366624\n",
      "Jaccard Index: 0.7614966676325702\n",
      "Saving metrics to: /work/wanlab/nick//stackeval2/val_data/stacked/RandomForestClassifier/limma(0),metrics.csv\n",
      "PREDICTIONS                   subtype  Squamous  ADEX  Pancreatic Progenitor  Immunogenic\n",
      "0             Immunogenic      0.07  0.04                   0.07         0.82\n",
      "1                    ADEX      0.28  0.37                   0.28         0.07\n",
      "2   Pancreatic Progenitor      0.03  0.19                   0.37         0.41\n",
      "3   Pancreatic Progenitor      0.08  0.11                   0.71         0.10\n",
      "4   Pancreatic Progenitor      0.13  0.11                   0.74         0.02\n",
      "..                    ...       ...   ...                    ...          ...\n",
      "91                   ADEX      0.03  0.45                   0.21         0.31\n",
      "92               Squamous      0.84  0.04                   0.05         0.07\n",
      "93                   ADEX      0.20  0.46                   0.27         0.07\n",
      "94  Pancreatic Progenitor      0.02  0.56                   0.32         0.10\n",
      "95               Squamous      0.40  0.26                   0.29         0.05\n",
      "\n",
      "[96 rows x 5 columns]\n",
      "\n",
      "model score of oof results for LogisticRegression2\n",
      "Model Accuracy: 0.90625\n",
      "Precision: 0.907241010904804\n",
      "Recall (Sensitivity): 0.90625\n",
      "F1 Score: 0.9063258253912099\n",
      "Matthews Correlation Coefficient (MCC): 0.8733101573111083\n",
      "G-Measure: 0.9352788514023854\n",
      "AUC: 0.987585527368758\n",
      "Specificity: 0.9681724818608621\n",
      "Jaccard Index: 0.8275341386554622\n",
      "Saving metrics to: /work/wanlab/nick//stackeval2/val_data/stacked/LogisticRegression2/limma(0),metrics.csv\n",
      "PREDICTIONS                   subtype      Squamous          ADEX  Pancreatic Progenitor  \\\n",
      "0             Immunogenic  3.603610e-09  9.914714e-10           2.258958e-10   \n",
      "1                    ADEX  1.163262e-04  8.832032e-01           1.155170e-01   \n",
      "2   Pancreatic Progenitor  4.302442e-09  4.567957e-06           9.880584e-01   \n",
      "3   Pancreatic Progenitor  8.504257e-06  7.664167e-03           9.914544e-01   \n",
      "4   Pancreatic Progenitor  4.401198e-05  5.500170e-04           9.994059e-01   \n",
      "..                    ...           ...           ...                    ...   \n",
      "91                   ADEX  3.292675e-07  9.374763e-01           2.270831e-02   \n",
      "92               Squamous  1.000000e+00  8.438453e-13           4.172177e-13   \n",
      "93                   ADEX  2.166979e-04  9.826859e-01           1.707003e-02   \n",
      "94  Pancreatic Progenitor  1.802970e-07  6.678542e-01           3.308571e-01   \n",
      "95               Squamous  6.533156e-01  3.247127e-01           2.195485e-02   \n",
      "\n",
      "     Immunogenic  \n",
      "0   1.000000e+00  \n",
      "1   1.163474e-03  \n",
      "2   1.193704e-02  \n",
      "3   8.729043e-04  \n",
      "4   9.252823e-08  \n",
      "..           ...  \n",
      "91  3.981505e-02  \n",
      "92  5.073590e-09  \n",
      "93  2.738061e-05  \n",
      "94  1.288585e-03  \n",
      "95  1.679071e-05  \n",
      "\n",
      "[96 rows x 5 columns]\n",
      "\n",
      "model score of oof results for GaussianNB2\n",
      "Model Accuracy: 0.8125\n",
      "Precision: 0.8151771935626103\n",
      "Recall (Sensitivity): 0.8125\n",
      "F1 Score: 0.8061469780219781\n",
      "Matthews Correlation Coefficient (MCC): 0.747043830986164\n",
      "G-Measure: 0.848015308255658\n",
      "AUC: 0.9250385678972824\n",
      "Specificity: 0.9350112035851472\n",
      "Jaccard Index: 0.6635536398467433\n",
      "Saving metrics to: /work/wanlab/nick//stackeval2/val_data/stacked/GaussianNB2/limma(0),metrics.csv\n",
      "PREDICTIONS                   subtype      Squamous          ADEX  Pancreatic Progenitor  \\\n",
      "0             Immunogenic  0.000000e+00  0.000000e+00           0.000000e+00   \n",
      "1                    ADEX  0.000000e+00  1.000000e+00           0.000000e+00   \n",
      "2   Pancreatic Progenitor  0.000000e+00  0.000000e+00           1.000000e+00   \n",
      "3   Pancreatic Progenitor  0.000000e+00  0.000000e+00           1.000000e+00   \n",
      "4   Pancreatic Progenitor  0.000000e+00  0.000000e+00           1.000000e+00   \n",
      "..                    ...           ...           ...                    ...   \n",
      "91                   ADEX  0.000000e+00  0.000000e+00           1.000000e+00   \n",
      "92               Squamous  1.000000e+00  0.000000e+00           0.000000e+00   \n",
      "93                   ADEX  0.000000e+00  1.255151e-54           1.000000e+00   \n",
      "94  Pancreatic Progenitor  0.000000e+00  1.000000e+00           0.000000e+00   \n",
      "95               Squamous  1.316298e-46  1.000000e+00          2.614520e-170   \n",
      "\n",
      "    Immunogenic  \n",
      "0           1.0  \n",
      "1           0.0  \n",
      "2           0.0  \n",
      "3           0.0  \n",
      "4           0.0  \n",
      "..          ...  \n",
      "91          0.0  \n",
      "92          0.0  \n",
      "93          0.0  \n",
      "94          0.0  \n",
      "95          0.0  \n",
      "\n",
      "[96 rows x 5 columns]\n",
      "\n",
      "model score of oof results for SVC3\n",
      "Model Accuracy: 0.8854166666666666\n",
      "Precision: 0.8899869420702754\n",
      "Recall (Sensitivity): 0.8854166666666666\n",
      "F1 Score: 0.88558836996337\n",
      "Matthews Correlation Coefficient (MCC): 0.8468764996745479\n",
      "G-Measure: 0.9232245446642893\n",
      "AUC: 0.98569947938896\n",
      "Specificity: 0.9617931071276141\n",
      "Jaccard Index: 0.7936763952892986\n",
      "Saving metrics to: /work/wanlab/nick//stackeval2/val_data/stacked/SVC3/limma(0),metrics.csv\n",
      "PREDICTIONS                   subtype  Squamous      ADEX  Pancreatic Progenitor  \\\n",
      "0             Immunogenic  0.003505  0.002484               0.000996   \n",
      "1                    ADEX  0.019770  0.892141               0.072061   \n",
      "2   Pancreatic Progenitor  0.002422  0.023337               0.831052   \n",
      "3   Pancreatic Progenitor  0.005918  0.058428               0.895055   \n",
      "4   Pancreatic Progenitor  0.037371  0.059551               0.897733   \n",
      "..                    ...       ...       ...                    ...   \n",
      "91                   ADEX  0.006309  0.750120               0.064907   \n",
      "92               Squamous  0.995079  0.000658               0.000112   \n",
      "93                   ADEX  0.092934  0.748188               0.131289   \n",
      "94  Pancreatic Progenitor  0.003484  0.795199               0.181410   \n",
      "95               Squamous  0.384707  0.404082               0.194133   \n",
      "\n",
      "    Immunogenic  \n",
      "0      0.993014  \n",
      "1      0.016028  \n",
      "2      0.143189  \n",
      "3      0.040598  \n",
      "4      0.005344  \n",
      "..          ...  \n",
      "91     0.178664  \n",
      "92     0.004152  \n",
      "93     0.027589  \n",
      "94     0.019907  \n",
      "95     0.017078  \n",
      "\n",
      "[96 rows x 5 columns]\n",
      "\n",
      "model score of oof results for SVC4\n",
      "Model Accuracy: 0.9375\n",
      "Precision: 0.9378672542735043\n",
      "Recall (Sensitivity): 0.9375\n",
      "F1 Score: 0.9374874949979993\n",
      "Matthews Correlation Coefficient (MCC): 0.9155529545059609\n",
      "G-Measure: 0.9579504330083998\n",
      "AUC: 0.9859103802105563\n",
      "Specificity: 0.9787358621425523\n",
      "Jaccard Index: 0.882714303670186\n",
      "Saving metrics to: /work/wanlab/nick//stackeval2/val_data/stacked/SVC4/limma(0),metrics.csv\n",
      "PREDICTIONS                   subtype  Squamous      ADEX  Pancreatic Progenitor  \\\n",
      "0             Immunogenic  0.002343  0.000975               0.000668   \n",
      "1                    ADEX  0.041292  0.542803               0.372342   \n",
      "2   Pancreatic Progenitor  0.005671  0.037593               0.705746   \n",
      "3   Pancreatic Progenitor  0.014917  0.073321               0.849512   \n",
      "4   Pancreatic Progenitor  0.044912  0.072367               0.875470   \n",
      "..                    ...       ...       ...                    ...   \n",
      "91                   ADEX  0.010009  0.688221               0.116998   \n",
      "92               Squamous  0.996460  0.000104               0.000216   \n",
      "93                   ADEX  0.053500  0.781230               0.133007   \n",
      "94  Pancreatic Progenitor  0.006654  0.628635               0.323759   \n",
      "95               Squamous  0.396361  0.386964               0.187562   \n",
      "\n",
      "    Immunogenic  \n",
      "0      0.996014  \n",
      "1      0.043563  \n",
      "2      0.250990  \n",
      "3      0.062250  \n",
      "4      0.007252  \n",
      "..          ...  \n",
      "91     0.184771  \n",
      "92     0.003220  \n",
      "93     0.032263  \n",
      "94     0.040953  \n",
      "95     0.029113  \n",
      "\n",
      "[96 rows x 5 columns]\n",
      "run 3\n",
      "Model Pair: SVC + SVC + LogisticRegression + QuadraticDiscriminantAnalysis\n",
      "USEDmodelnames ['SVC', 'SVC2', 'LogisticRegression', 'QuadraticDiscriminantAnalysis']\n",
      "Running with: SVC and SVC and LogisticRegression and QuadraticDiscriminantAnalysis\n",
      "Random state: 0\n",
      "['SVC', 'SVC2', 'LogisticRegression', 'QuadraticDiscriminantAnalysis']\n",
      "individual models\n"
     ]
    },
    {
     "name": "stderr",
     "output_type": "stream",
     "text": [
      "/home/wanlab/nick/.local/lib/python3.8/site-packages/sklearn/discriminant_analysis.py:935: UserWarning: Variables are collinear\n",
      "  warnings.warn(\"Variables are collinear\")\n"
     ]
    },
    {
     "name": "stdout",
     "output_type": "stream",
     "text": [
      "cv\n",
      "individual models\n"
     ]
    },
    {
     "name": "stderr",
     "output_type": "stream",
     "text": [
      "/home/wanlab/nick/.local/lib/python3.8/site-packages/sklearn/discriminant_analysis.py:935: UserWarning: Variables are collinear\n",
      "  warnings.warn(\"Variables are collinear\")\n"
     ]
    },
    {
     "name": "stdout",
     "output_type": "stream",
     "text": [
      "cv\n",
      "individual models\n"
     ]
    },
    {
     "name": "stderr",
     "output_type": "stream",
     "text": [
      "/home/wanlab/nick/.local/lib/python3.8/site-packages/sklearn/discriminant_analysis.py:935: UserWarning: Variables are collinear\n",
      "  warnings.warn(\"Variables are collinear\")\n"
     ]
    },
    {
     "name": "stdout",
     "output_type": "stream",
     "text": [
      "cv\n",
      "individual models\n"
     ]
    },
    {
     "name": "stderr",
     "output_type": "stream",
     "text": [
      "/home/wanlab/nick/.local/lib/python3.8/site-packages/sklearn/discriminant_analysis.py:935: UserWarning: Variables are collinear\n",
      "  warnings.warn(\"Variables are collinear\")\n"
     ]
    },
    {
     "name": "stdout",
     "output_type": "stream",
     "text": [
      "cv\n",
      "individual models\n"
     ]
    },
    {
     "name": "stderr",
     "output_type": "stream",
     "text": [
      "/home/wanlab/nick/.local/lib/python3.8/site-packages/sklearn/discriminant_analysis.py:935: UserWarning: Variables are collinear\n",
      "  warnings.warn(\"Variables are collinear\")\n"
     ]
    },
    {
     "name": "stdout",
     "output_type": "stream",
     "text": [
      "cv\n",
      "individual models\n"
     ]
    },
    {
     "name": "stderr",
     "output_type": "stream",
     "text": [
      "/home/wanlab/nick/.local/lib/python3.8/site-packages/sklearn/discriminant_analysis.py:935: UserWarning: Variables are collinear\n",
      "  warnings.warn(\"Variables are collinear\")\n"
     ]
    },
    {
     "name": "stdout",
     "output_type": "stream",
     "text": [
      "cv\n",
      "individual models\n"
     ]
    },
    {
     "name": "stderr",
     "output_type": "stream",
     "text": [
      "/home/wanlab/nick/.local/lib/python3.8/site-packages/sklearn/discriminant_analysis.py:935: UserWarning: Variables are collinear\n",
      "  warnings.warn(\"Variables are collinear\")\n"
     ]
    },
    {
     "name": "stdout",
     "output_type": "stream",
     "text": [
      "cv\n",
      "individual models\n"
     ]
    },
    {
     "name": "stderr",
     "output_type": "stream",
     "text": [
      "/home/wanlab/nick/.local/lib/python3.8/site-packages/sklearn/discriminant_analysis.py:935: UserWarning: Variables are collinear\n",
      "  warnings.warn(\"Variables are collinear\")\n"
     ]
    },
    {
     "name": "stdout",
     "output_type": "stream",
     "text": [
      "cv\n",
      "individual models\n"
     ]
    },
    {
     "name": "stderr",
     "output_type": "stream",
     "text": [
      "/home/wanlab/nick/.local/lib/python3.8/site-packages/sklearn/discriminant_analysis.py:935: UserWarning: Variables are collinear\n",
      "  warnings.warn(\"Variables are collinear\")\n"
     ]
    },
    {
     "name": "stdout",
     "output_type": "stream",
     "text": [
      "cv\n",
      "individual models\n"
     ]
    },
    {
     "name": "stderr",
     "output_type": "stream",
     "text": [
      "/home/wanlab/nick/.local/lib/python3.8/site-packages/sklearn/discriminant_analysis.py:935: UserWarning: Variables are collinear\n",
      "  warnings.warn(\"Variables are collinear\")\n"
     ]
    },
    {
     "name": "stdout",
     "output_type": "stream",
     "text": [
      "cv\n",
      "individual models\n"
     ]
    },
    {
     "name": "stderr",
     "output_type": "stream",
     "text": [
      "/home/wanlab/nick/.local/lib/python3.8/site-packages/sklearn/discriminant_analysis.py:935: UserWarning: Variables are collinear\n",
      "  warnings.warn(\"Variables are collinear\")\n"
     ]
    },
    {
     "name": "stdout",
     "output_type": "stream",
     "text": [
      "cv\n",
      "individual models\n"
     ]
    },
    {
     "name": "stderr",
     "output_type": "stream",
     "text": [
      "/home/wanlab/nick/.local/lib/python3.8/site-packages/sklearn/discriminant_analysis.py:935: UserWarning: Variables are collinear\n",
      "  warnings.warn(\"Variables are collinear\")\n"
     ]
    },
    {
     "name": "stdout",
     "output_type": "stream",
     "text": [
      "cv\n",
      "individual models\n"
     ]
    },
    {
     "name": "stderr",
     "output_type": "stream",
     "text": [
      "/home/wanlab/nick/.local/lib/python3.8/site-packages/sklearn/discriminant_analysis.py:935: UserWarning: Variables are collinear\n",
      "  warnings.warn(\"Variables are collinear\")\n"
     ]
    },
    {
     "name": "stdout",
     "output_type": "stream",
     "text": [
      "cv\n",
      "individual models\n"
     ]
    },
    {
     "name": "stderr",
     "output_type": "stream",
     "text": [
      "/home/wanlab/nick/.local/lib/python3.8/site-packages/sklearn/discriminant_analysis.py:935: UserWarning: Variables are collinear\n",
      "  warnings.warn(\"Variables are collinear\")\n"
     ]
    },
    {
     "name": "stdout",
     "output_type": "stream",
     "text": [
      "cv\n",
      "individual models\n"
     ]
    },
    {
     "name": "stderr",
     "output_type": "stream",
     "text": [
      "/home/wanlab/nick/.local/lib/python3.8/site-packages/sklearn/discriminant_analysis.py:935: UserWarning: Variables are collinear\n",
      "  warnings.warn(\"Variables are collinear\")\n"
     ]
    },
    {
     "name": "stdout",
     "output_type": "stream",
     "text": [
      "cv\n",
      "individual models\n"
     ]
    },
    {
     "name": "stderr",
     "output_type": "stream",
     "text": [
      "/home/wanlab/nick/.local/lib/python3.8/site-packages/sklearn/discriminant_analysis.py:935: UserWarning: Variables are collinear\n",
      "  warnings.warn(\"Variables are collinear\")\n"
     ]
    },
    {
     "name": "stdout",
     "output_type": "stream",
     "text": [
      "cv\n",
      "individual models\n"
     ]
    },
    {
     "name": "stderr",
     "output_type": "stream",
     "text": [
      "/home/wanlab/nick/.local/lib/python3.8/site-packages/sklearn/discriminant_analysis.py:935: UserWarning: Variables are collinear\n",
      "  warnings.warn(\"Variables are collinear\")\n"
     ]
    },
    {
     "name": "stdout",
     "output_type": "stream",
     "text": [
      "cv\n",
      "individual models\n"
     ]
    },
    {
     "name": "stderr",
     "output_type": "stream",
     "text": [
      "/home/wanlab/nick/.local/lib/python3.8/site-packages/sklearn/discriminant_analysis.py:935: UserWarning: Variables are collinear\n",
      "  warnings.warn(\"Variables are collinear\")\n"
     ]
    },
    {
     "name": "stdout",
     "output_type": "stream",
     "text": [
      "cv\n",
      "individual models\n"
     ]
    },
    {
     "name": "stderr",
     "output_type": "stream",
     "text": [
      "/home/wanlab/nick/.local/lib/python3.8/site-packages/sklearn/discriminant_analysis.py:935: UserWarning: Variables are collinear\n",
      "  warnings.warn(\"Variables are collinear\")\n"
     ]
    },
    {
     "name": "stdout",
     "output_type": "stream",
     "text": [
      "cv\n",
      "individual models\n"
     ]
    },
    {
     "name": "stderr",
     "output_type": "stream",
     "text": [
      "/home/wanlab/nick/.local/lib/python3.8/site-packages/sklearn/discriminant_analysis.py:935: UserWarning: Variables are collinear\n",
      "  warnings.warn(\"Variables are collinear\")\n"
     ]
    },
    {
     "name": "stdout",
     "output_type": "stream",
     "text": [
      "cv\n",
      "individual models\n"
     ]
    },
    {
     "name": "stderr",
     "output_type": "stream",
     "text": [
      "/home/wanlab/nick/.local/lib/python3.8/site-packages/sklearn/discriminant_analysis.py:935: UserWarning: Variables are collinear\n",
      "  warnings.warn(\"Variables are collinear\")\n"
     ]
    },
    {
     "name": "stdout",
     "output_type": "stream",
     "text": [
      "cv\n",
      "individual models\n"
     ]
    },
    {
     "name": "stderr",
     "output_type": "stream",
     "text": [
      "/home/wanlab/nick/.local/lib/python3.8/site-packages/sklearn/discriminant_analysis.py:935: UserWarning: Variables are collinear\n",
      "  warnings.warn(\"Variables are collinear\")\n"
     ]
    },
    {
     "name": "stdout",
     "output_type": "stream",
     "text": [
      "cv\n",
      "individual models\n"
     ]
    },
    {
     "name": "stderr",
     "output_type": "stream",
     "text": [
      "/home/wanlab/nick/.local/lib/python3.8/site-packages/sklearn/discriminant_analysis.py:935: UserWarning: Variables are collinear\n",
      "  warnings.warn(\"Variables are collinear\")\n"
     ]
    },
    {
     "name": "stdout",
     "output_type": "stream",
     "text": [
      "cv\n",
      "individual models\n"
     ]
    },
    {
     "name": "stderr",
     "output_type": "stream",
     "text": [
      "/home/wanlab/nick/.local/lib/python3.8/site-packages/sklearn/discriminant_analysis.py:935: UserWarning: Variables are collinear\n",
      "  warnings.warn(\"Variables are collinear\")\n"
     ]
    },
    {
     "name": "stdout",
     "output_type": "stream",
     "text": [
      "cv\n",
      "individual models\n"
     ]
    },
    {
     "name": "stderr",
     "output_type": "stream",
     "text": [
      "/home/wanlab/nick/.local/lib/python3.8/site-packages/sklearn/discriminant_analysis.py:935: UserWarning: Variables are collinear\n",
      "  warnings.warn(\"Variables are collinear\")\n"
     ]
    },
    {
     "name": "stdout",
     "output_type": "stream",
     "text": [
      "cv\n",
      "individual models\n"
     ]
    },
    {
     "name": "stderr",
     "output_type": "stream",
     "text": [
      "/home/wanlab/nick/.local/lib/python3.8/site-packages/sklearn/discriminant_analysis.py:935: UserWarning: Variables are collinear\n",
      "  warnings.warn(\"Variables are collinear\")\n"
     ]
    },
    {
     "name": "stdout",
     "output_type": "stream",
     "text": [
      "cv\n",
      "individual models\n"
     ]
    },
    {
     "name": "stderr",
     "output_type": "stream",
     "text": [
      "/home/wanlab/nick/.local/lib/python3.8/site-packages/sklearn/discriminant_analysis.py:935: UserWarning: Variables are collinear\n",
      "  warnings.warn(\"Variables are collinear\")\n"
     ]
    },
    {
     "name": "stdout",
     "output_type": "stream",
     "text": [
      "cv\n",
      "individual models\n"
     ]
    },
    {
     "name": "stderr",
     "output_type": "stream",
     "text": [
      "/home/wanlab/nick/.local/lib/python3.8/site-packages/sklearn/discriminant_analysis.py:935: UserWarning: Variables are collinear\n",
      "  warnings.warn(\"Variables are collinear\")\n"
     ]
    },
    {
     "name": "stdout",
     "output_type": "stream",
     "text": [
      "cv\n",
      "individual models\n"
     ]
    },
    {
     "name": "stderr",
     "output_type": "stream",
     "text": [
      "/home/wanlab/nick/.local/lib/python3.8/site-packages/sklearn/discriminant_analysis.py:935: UserWarning: Variables are collinear\n",
      "  warnings.warn(\"Variables are collinear\")\n"
     ]
    },
    {
     "name": "stdout",
     "output_type": "stream",
     "text": [
      "cv\n",
      "individual models\n"
     ]
    },
    {
     "name": "stderr",
     "output_type": "stream",
     "text": [
      "/home/wanlab/nick/.local/lib/python3.8/site-packages/sklearn/discriminant_analysis.py:935: UserWarning: Variables are collinear\n",
      "  warnings.warn(\"Variables are collinear\")\n"
     ]
    },
    {
     "name": "stdout",
     "output_type": "stream",
     "text": [
      "cv\n",
      "individual models\n"
     ]
    },
    {
     "name": "stderr",
     "output_type": "stream",
     "text": [
      "/home/wanlab/nick/.local/lib/python3.8/site-packages/sklearn/discriminant_analysis.py:935: UserWarning: Variables are collinear\n",
      "  warnings.warn(\"Variables are collinear\")\n"
     ]
    },
    {
     "name": "stdout",
     "output_type": "stream",
     "text": [
      "cv\n",
      "individual models\n"
     ]
    },
    {
     "name": "stderr",
     "output_type": "stream",
     "text": [
      "/home/wanlab/nick/.local/lib/python3.8/site-packages/sklearn/discriminant_analysis.py:935: UserWarning: Variables are collinear\n",
      "  warnings.warn(\"Variables are collinear\")\n"
     ]
    },
    {
     "name": "stdout",
     "output_type": "stream",
     "text": [
      "cv\n",
      "individual models\n"
     ]
    },
    {
     "name": "stderr",
     "output_type": "stream",
     "text": [
      "/home/wanlab/nick/.local/lib/python3.8/site-packages/sklearn/discriminant_analysis.py:935: UserWarning: Variables are collinear\n",
      "  warnings.warn(\"Variables are collinear\")\n"
     ]
    },
    {
     "name": "stdout",
     "output_type": "stream",
     "text": [
      "cv\n",
      "individual models\n"
     ]
    },
    {
     "name": "stderr",
     "output_type": "stream",
     "text": [
      "/home/wanlab/nick/.local/lib/python3.8/site-packages/sklearn/discriminant_analysis.py:935: UserWarning: Variables are collinear\n",
      "  warnings.warn(\"Variables are collinear\")\n"
     ]
    },
    {
     "name": "stdout",
     "output_type": "stream",
     "text": [
      "cv\n",
      "individual models\n"
     ]
    },
    {
     "name": "stderr",
     "output_type": "stream",
     "text": [
      "/home/wanlab/nick/.local/lib/python3.8/site-packages/sklearn/discriminant_analysis.py:935: UserWarning: Variables are collinear\n",
      "  warnings.warn(\"Variables are collinear\")\n"
     ]
    },
    {
     "name": "stdout",
     "output_type": "stream",
     "text": [
      "cv\n",
      "individual models\n"
     ]
    },
    {
     "name": "stderr",
     "output_type": "stream",
     "text": [
      "/home/wanlab/nick/.local/lib/python3.8/site-packages/sklearn/discriminant_analysis.py:935: UserWarning: Variables are collinear\n",
      "  warnings.warn(\"Variables are collinear\")\n"
     ]
    },
    {
     "name": "stdout",
     "output_type": "stream",
     "text": [
      "cv\n",
      "individual models\n"
     ]
    },
    {
     "name": "stderr",
     "output_type": "stream",
     "text": [
      "/home/wanlab/nick/.local/lib/python3.8/site-packages/sklearn/discriminant_analysis.py:935: UserWarning: Variables are collinear\n",
      "  warnings.warn(\"Variables are collinear\")\n"
     ]
    },
    {
     "name": "stdout",
     "output_type": "stream",
     "text": [
      "cv\n",
      "individual models\n"
     ]
    },
    {
     "name": "stderr",
     "output_type": "stream",
     "text": [
      "/home/wanlab/nick/.local/lib/python3.8/site-packages/sklearn/discriminant_analysis.py:935: UserWarning: Variables are collinear\n",
      "  warnings.warn(\"Variables are collinear\")\n"
     ]
    },
    {
     "name": "stdout",
     "output_type": "stream",
     "text": [
      "cv\n",
      "individual models\n"
     ]
    },
    {
     "name": "stderr",
     "output_type": "stream",
     "text": [
      "/home/wanlab/nick/.local/lib/python3.8/site-packages/sklearn/discriminant_analysis.py:935: UserWarning: Variables are collinear\n",
      "  warnings.warn(\"Variables are collinear\")\n"
     ]
    },
    {
     "name": "stdout",
     "output_type": "stream",
     "text": [
      "cv\n",
      "individual models\n"
     ]
    },
    {
     "name": "stderr",
     "output_type": "stream",
     "text": [
      "/home/wanlab/nick/.local/lib/python3.8/site-packages/sklearn/discriminant_analysis.py:935: UserWarning: Variables are collinear\n",
      "  warnings.warn(\"Variables are collinear\")\n"
     ]
    },
    {
     "name": "stdout",
     "output_type": "stream",
     "text": [
      "cv\n",
      "individual models\n"
     ]
    },
    {
     "name": "stderr",
     "output_type": "stream",
     "text": [
      "/home/wanlab/nick/.local/lib/python3.8/site-packages/sklearn/discriminant_analysis.py:935: UserWarning: Variables are collinear\n",
      "  warnings.warn(\"Variables are collinear\")\n"
     ]
    },
    {
     "name": "stdout",
     "output_type": "stream",
     "text": [
      "cv\n",
      "individual models\n"
     ]
    },
    {
     "name": "stderr",
     "output_type": "stream",
     "text": [
      "/home/wanlab/nick/.local/lib/python3.8/site-packages/sklearn/discriminant_analysis.py:935: UserWarning: Variables are collinear\n",
      "  warnings.warn(\"Variables are collinear\")\n"
     ]
    },
    {
     "name": "stdout",
     "output_type": "stream",
     "text": [
      "cv\n",
      "individual models\n"
     ]
    },
    {
     "name": "stderr",
     "output_type": "stream",
     "text": [
      "/home/wanlab/nick/.local/lib/python3.8/site-packages/sklearn/discriminant_analysis.py:935: UserWarning: Variables are collinear\n",
      "  warnings.warn(\"Variables are collinear\")\n"
     ]
    },
    {
     "name": "stdout",
     "output_type": "stream",
     "text": [
      "cv\n",
      "individual models\n"
     ]
    },
    {
     "name": "stderr",
     "output_type": "stream",
     "text": [
      "/home/wanlab/nick/.local/lib/python3.8/site-packages/sklearn/discriminant_analysis.py:935: UserWarning: Variables are collinear\n",
      "  warnings.warn(\"Variables are collinear\")\n"
     ]
    },
    {
     "name": "stdout",
     "output_type": "stream",
     "text": [
      "cv\n",
      "individual models\n"
     ]
    },
    {
     "name": "stderr",
     "output_type": "stream",
     "text": [
      "/home/wanlab/nick/.local/lib/python3.8/site-packages/sklearn/discriminant_analysis.py:935: UserWarning: Variables are collinear\n",
      "  warnings.warn(\"Variables are collinear\")\n"
     ]
    },
    {
     "name": "stdout",
     "output_type": "stream",
     "text": [
      "cv\n",
      "individual models\n"
     ]
    },
    {
     "name": "stderr",
     "output_type": "stream",
     "text": [
      "/home/wanlab/nick/.local/lib/python3.8/site-packages/sklearn/discriminant_analysis.py:935: UserWarning: Variables are collinear\n",
      "  warnings.warn(\"Variables are collinear\")\n"
     ]
    },
    {
     "name": "stdout",
     "output_type": "stream",
     "text": [
      "cv\n",
      "individual models\n"
     ]
    },
    {
     "name": "stderr",
     "output_type": "stream",
     "text": [
      "/home/wanlab/nick/.local/lib/python3.8/site-packages/sklearn/discriminant_analysis.py:935: UserWarning: Variables are collinear\n",
      "  warnings.warn(\"Variables are collinear\")\n"
     ]
    },
    {
     "name": "stdout",
     "output_type": "stream",
     "text": [
      "cv\n",
      "individual models\n"
     ]
    },
    {
     "name": "stderr",
     "output_type": "stream",
     "text": [
      "/home/wanlab/nick/.local/lib/python3.8/site-packages/sklearn/discriminant_analysis.py:935: UserWarning: Variables are collinear\n",
      "  warnings.warn(\"Variables are collinear\")\n"
     ]
    },
    {
     "name": "stdout",
     "output_type": "stream",
     "text": [
      "cv\n",
      "individual models\n"
     ]
    },
    {
     "name": "stderr",
     "output_type": "stream",
     "text": [
      "/home/wanlab/nick/.local/lib/python3.8/site-packages/sklearn/discriminant_analysis.py:935: UserWarning: Variables are collinear\n",
      "  warnings.warn(\"Variables are collinear\")\n"
     ]
    },
    {
     "name": "stdout",
     "output_type": "stream",
     "text": [
      "cv\n",
      "individual models\n"
     ]
    },
    {
     "name": "stderr",
     "output_type": "stream",
     "text": [
      "/home/wanlab/nick/.local/lib/python3.8/site-packages/sklearn/discriminant_analysis.py:935: UserWarning: Variables are collinear\n",
      "  warnings.warn(\"Variables are collinear\")\n"
     ]
    },
    {
     "name": "stdout",
     "output_type": "stream",
     "text": [
      "cv\n",
      "individual models\n"
     ]
    },
    {
     "name": "stderr",
     "output_type": "stream",
     "text": [
      "/home/wanlab/nick/.local/lib/python3.8/site-packages/sklearn/discriminant_analysis.py:935: UserWarning: Variables are collinear\n",
      "  warnings.warn(\"Variables are collinear\")\n"
     ]
    },
    {
     "name": "stdout",
     "output_type": "stream",
     "text": [
      "cv\n",
      "individual models\n"
     ]
    },
    {
     "name": "stderr",
     "output_type": "stream",
     "text": [
      "/home/wanlab/nick/.local/lib/python3.8/site-packages/sklearn/discriminant_analysis.py:935: UserWarning: Variables are collinear\n",
      "  warnings.warn(\"Variables are collinear\")\n"
     ]
    },
    {
     "name": "stdout",
     "output_type": "stream",
     "text": [
      "cv\n",
      "individual models\n"
     ]
    },
    {
     "name": "stderr",
     "output_type": "stream",
     "text": [
      "/home/wanlab/nick/.local/lib/python3.8/site-packages/sklearn/discriminant_analysis.py:935: UserWarning: Variables are collinear\n",
      "  warnings.warn(\"Variables are collinear\")\n"
     ]
    },
    {
     "name": "stdout",
     "output_type": "stream",
     "text": [
      "cv\n",
      "individual models\n"
     ]
    },
    {
     "name": "stderr",
     "output_type": "stream",
     "text": [
      "/home/wanlab/nick/.local/lib/python3.8/site-packages/sklearn/discriminant_analysis.py:935: UserWarning: Variables are collinear\n",
      "  warnings.warn(\"Variables are collinear\")\n"
     ]
    },
    {
     "name": "stdout",
     "output_type": "stream",
     "text": [
      "cv\n",
      "individual models\n"
     ]
    },
    {
     "name": "stderr",
     "output_type": "stream",
     "text": [
      "/home/wanlab/nick/.local/lib/python3.8/site-packages/sklearn/discriminant_analysis.py:935: UserWarning: Variables are collinear\n",
      "  warnings.warn(\"Variables are collinear\")\n"
     ]
    },
    {
     "name": "stdout",
     "output_type": "stream",
     "text": [
      "cv\n",
      "individual models\n"
     ]
    },
    {
     "name": "stderr",
     "output_type": "stream",
     "text": [
      "/home/wanlab/nick/.local/lib/python3.8/site-packages/sklearn/discriminant_analysis.py:935: UserWarning: Variables are collinear\n",
      "  warnings.warn(\"Variables are collinear\")\n"
     ]
    },
    {
     "name": "stdout",
     "output_type": "stream",
     "text": [
      "cv\n",
      "individual models\n"
     ]
    },
    {
     "name": "stderr",
     "output_type": "stream",
     "text": [
      "/home/wanlab/nick/.local/lib/python3.8/site-packages/sklearn/discriminant_analysis.py:935: UserWarning: Variables are collinear\n",
      "  warnings.warn(\"Variables are collinear\")\n"
     ]
    },
    {
     "name": "stdout",
     "output_type": "stream",
     "text": [
      "cv\n",
      "individual models\n"
     ]
    },
    {
     "name": "stderr",
     "output_type": "stream",
     "text": [
      "/home/wanlab/nick/.local/lib/python3.8/site-packages/sklearn/discriminant_analysis.py:935: UserWarning: Variables are collinear\n",
      "  warnings.warn(\"Variables are collinear\")\n"
     ]
    },
    {
     "name": "stdout",
     "output_type": "stream",
     "text": [
      "cv\n",
      "individual models\n"
     ]
    },
    {
     "name": "stderr",
     "output_type": "stream",
     "text": [
      "/home/wanlab/nick/.local/lib/python3.8/site-packages/sklearn/discriminant_analysis.py:935: UserWarning: Variables are collinear\n",
      "  warnings.warn(\"Variables are collinear\")\n"
     ]
    },
    {
     "name": "stdout",
     "output_type": "stream",
     "text": [
      "cv\n",
      "individual models\n"
     ]
    },
    {
     "name": "stderr",
     "output_type": "stream",
     "text": [
      "/home/wanlab/nick/.local/lib/python3.8/site-packages/sklearn/discriminant_analysis.py:935: UserWarning: Variables are collinear\n",
      "  warnings.warn(\"Variables are collinear\")\n"
     ]
    },
    {
     "name": "stdout",
     "output_type": "stream",
     "text": [
      "cv\n",
      "individual models\n"
     ]
    },
    {
     "name": "stderr",
     "output_type": "stream",
     "text": [
      "/home/wanlab/nick/.local/lib/python3.8/site-packages/sklearn/discriminant_analysis.py:935: UserWarning: Variables are collinear\n",
      "  warnings.warn(\"Variables are collinear\")\n"
     ]
    },
    {
     "name": "stdout",
     "output_type": "stream",
     "text": [
      "cv\n",
      "individual models\n"
     ]
    },
    {
     "name": "stderr",
     "output_type": "stream",
     "text": [
      "/home/wanlab/nick/.local/lib/python3.8/site-packages/sklearn/discriminant_analysis.py:935: UserWarning: Variables are collinear\n",
      "  warnings.warn(\"Variables are collinear\")\n"
     ]
    },
    {
     "name": "stdout",
     "output_type": "stream",
     "text": [
      "cv\n",
      "individual models\n"
     ]
    },
    {
     "name": "stderr",
     "output_type": "stream",
     "text": [
      "/home/wanlab/nick/.local/lib/python3.8/site-packages/sklearn/discriminant_analysis.py:935: UserWarning: Variables are collinear\n",
      "  warnings.warn(\"Variables are collinear\")\n"
     ]
    },
    {
     "name": "stdout",
     "output_type": "stream",
     "text": [
      "cv\n",
      "individual models\n"
     ]
    },
    {
     "name": "stderr",
     "output_type": "stream",
     "text": [
      "/home/wanlab/nick/.local/lib/python3.8/site-packages/sklearn/discriminant_analysis.py:935: UserWarning: Variables are collinear\n",
      "  warnings.warn(\"Variables are collinear\")\n"
     ]
    },
    {
     "name": "stdout",
     "output_type": "stream",
     "text": [
      "cv\n",
      "individual models\n"
     ]
    },
    {
     "name": "stderr",
     "output_type": "stream",
     "text": [
      "/home/wanlab/nick/.local/lib/python3.8/site-packages/sklearn/discriminant_analysis.py:935: UserWarning: Variables are collinear\n",
      "  warnings.warn(\"Variables are collinear\")\n"
     ]
    },
    {
     "name": "stdout",
     "output_type": "stream",
     "text": [
      "cv\n",
      "individual models\n"
     ]
    },
    {
     "name": "stderr",
     "output_type": "stream",
     "text": [
      "/home/wanlab/nick/.local/lib/python3.8/site-packages/sklearn/discriminant_analysis.py:935: UserWarning: Variables are collinear\n",
      "  warnings.warn(\"Variables are collinear\")\n"
     ]
    },
    {
     "name": "stdout",
     "output_type": "stream",
     "text": [
      "cv\n",
      "individual models\n"
     ]
    },
    {
     "name": "stderr",
     "output_type": "stream",
     "text": [
      "/home/wanlab/nick/.local/lib/python3.8/site-packages/sklearn/discriminant_analysis.py:935: UserWarning: Variables are collinear\n",
      "  warnings.warn(\"Variables are collinear\")\n"
     ]
    },
    {
     "name": "stdout",
     "output_type": "stream",
     "text": [
      "cv\n",
      "individual models\n"
     ]
    },
    {
     "name": "stderr",
     "output_type": "stream",
     "text": [
      "/home/wanlab/nick/.local/lib/python3.8/site-packages/sklearn/discriminant_analysis.py:935: UserWarning: Variables are collinear\n",
      "  warnings.warn(\"Variables are collinear\")\n"
     ]
    },
    {
     "name": "stdout",
     "output_type": "stream",
     "text": [
      "cv\n",
      "individual models\n"
     ]
    },
    {
     "name": "stderr",
     "output_type": "stream",
     "text": [
      "/home/wanlab/nick/.local/lib/python3.8/site-packages/sklearn/discriminant_analysis.py:935: UserWarning: Variables are collinear\n",
      "  warnings.warn(\"Variables are collinear\")\n"
     ]
    },
    {
     "name": "stdout",
     "output_type": "stream",
     "text": [
      "cv\n",
      "individual models\n"
     ]
    },
    {
     "name": "stderr",
     "output_type": "stream",
     "text": [
      "/home/wanlab/nick/.local/lib/python3.8/site-packages/sklearn/discriminant_analysis.py:935: UserWarning: Variables are collinear\n",
      "  warnings.warn(\"Variables are collinear\")\n"
     ]
    },
    {
     "name": "stdout",
     "output_type": "stream",
     "text": [
      "cv\n",
      "individual models\n"
     ]
    },
    {
     "name": "stderr",
     "output_type": "stream",
     "text": [
      "/home/wanlab/nick/.local/lib/python3.8/site-packages/sklearn/discriminant_analysis.py:935: UserWarning: Variables are collinear\n",
      "  warnings.warn(\"Variables are collinear\")\n"
     ]
    },
    {
     "name": "stdout",
     "output_type": "stream",
     "text": [
      "cv\n",
      "individual models\n"
     ]
    },
    {
     "name": "stderr",
     "output_type": "stream",
     "text": [
      "/home/wanlab/nick/.local/lib/python3.8/site-packages/sklearn/discriminant_analysis.py:935: UserWarning: Variables are collinear\n",
      "  warnings.warn(\"Variables are collinear\")\n"
     ]
    },
    {
     "name": "stdout",
     "output_type": "stream",
     "text": [
      "cv\n",
      "individual models\n"
     ]
    },
    {
     "name": "stderr",
     "output_type": "stream",
     "text": [
      "/home/wanlab/nick/.local/lib/python3.8/site-packages/sklearn/discriminant_analysis.py:935: UserWarning: Variables are collinear\n",
      "  warnings.warn(\"Variables are collinear\")\n"
     ]
    },
    {
     "name": "stdout",
     "output_type": "stream",
     "text": [
      "cv\n",
      "individual models\n"
     ]
    },
    {
     "name": "stderr",
     "output_type": "stream",
     "text": [
      "/home/wanlab/nick/.local/lib/python3.8/site-packages/sklearn/discriminant_analysis.py:935: UserWarning: Variables are collinear\n",
      "  warnings.warn(\"Variables are collinear\")\n"
     ]
    },
    {
     "name": "stdout",
     "output_type": "stream",
     "text": [
      "cv\n",
      "individual models\n"
     ]
    },
    {
     "name": "stderr",
     "output_type": "stream",
     "text": [
      "/home/wanlab/nick/.local/lib/python3.8/site-packages/sklearn/discriminant_analysis.py:935: UserWarning: Variables are collinear\n",
      "  warnings.warn(\"Variables are collinear\")\n"
     ]
    },
    {
     "name": "stdout",
     "output_type": "stream",
     "text": [
      "cv\n",
      "individual models\n"
     ]
    },
    {
     "name": "stderr",
     "output_type": "stream",
     "text": [
      "/home/wanlab/nick/.local/lib/python3.8/site-packages/sklearn/discriminant_analysis.py:935: UserWarning: Variables are collinear\n",
      "  warnings.warn(\"Variables are collinear\")\n"
     ]
    },
    {
     "name": "stdout",
     "output_type": "stream",
     "text": [
      "cv\n",
      "individual models\n"
     ]
    },
    {
     "name": "stderr",
     "output_type": "stream",
     "text": [
      "/home/wanlab/nick/.local/lib/python3.8/site-packages/sklearn/discriminant_analysis.py:935: UserWarning: Variables are collinear\n",
      "  warnings.warn(\"Variables are collinear\")\n"
     ]
    },
    {
     "name": "stdout",
     "output_type": "stream",
     "text": [
      "cv\n",
      "individual models\n"
     ]
    },
    {
     "name": "stderr",
     "output_type": "stream",
     "text": [
      "/home/wanlab/nick/.local/lib/python3.8/site-packages/sklearn/discriminant_analysis.py:935: UserWarning: Variables are collinear\n",
      "  warnings.warn(\"Variables are collinear\")\n"
     ]
    },
    {
     "name": "stdout",
     "output_type": "stream",
     "text": [
      "cv\n",
      "individual models\n"
     ]
    },
    {
     "name": "stderr",
     "output_type": "stream",
     "text": [
      "/home/wanlab/nick/.local/lib/python3.8/site-packages/sklearn/discriminant_analysis.py:935: UserWarning: Variables are collinear\n",
      "  warnings.warn(\"Variables are collinear\")\n"
     ]
    },
    {
     "name": "stdout",
     "output_type": "stream",
     "text": [
      "cv\n",
      "individual models\n"
     ]
    },
    {
     "name": "stderr",
     "output_type": "stream",
     "text": [
      "/home/wanlab/nick/.local/lib/python3.8/site-packages/sklearn/discriminant_analysis.py:935: UserWarning: Variables are collinear\n",
      "  warnings.warn(\"Variables are collinear\")\n"
     ]
    },
    {
     "name": "stdout",
     "output_type": "stream",
     "text": [
      "cv\n",
      "individual models\n"
     ]
    },
    {
     "name": "stderr",
     "output_type": "stream",
     "text": [
      "/home/wanlab/nick/.local/lib/python3.8/site-packages/sklearn/discriminant_analysis.py:935: UserWarning: Variables are collinear\n",
      "  warnings.warn(\"Variables are collinear\")\n"
     ]
    },
    {
     "name": "stdout",
     "output_type": "stream",
     "text": [
      "cv\n",
      "individual models\n"
     ]
    },
    {
     "name": "stderr",
     "output_type": "stream",
     "text": [
      "/home/wanlab/nick/.local/lib/python3.8/site-packages/sklearn/discriminant_analysis.py:935: UserWarning: Variables are collinear\n",
      "  warnings.warn(\"Variables are collinear\")\n"
     ]
    },
    {
     "name": "stdout",
     "output_type": "stream",
     "text": [
      "cv\n",
      "individual models\n"
     ]
    },
    {
     "name": "stderr",
     "output_type": "stream",
     "text": [
      "/home/wanlab/nick/.local/lib/python3.8/site-packages/sklearn/discriminant_analysis.py:935: UserWarning: Variables are collinear\n",
      "  warnings.warn(\"Variables are collinear\")\n"
     ]
    },
    {
     "name": "stdout",
     "output_type": "stream",
     "text": [
      "cv\n",
      "individual models\n"
     ]
    },
    {
     "name": "stderr",
     "output_type": "stream",
     "text": [
      "/home/wanlab/nick/.local/lib/python3.8/site-packages/sklearn/discriminant_analysis.py:935: UserWarning: Variables are collinear\n",
      "  warnings.warn(\"Variables are collinear\")\n"
     ]
    },
    {
     "name": "stdout",
     "output_type": "stream",
     "text": [
      "cv\n",
      "individual models\n"
     ]
    },
    {
     "name": "stderr",
     "output_type": "stream",
     "text": [
      "/home/wanlab/nick/.local/lib/python3.8/site-packages/sklearn/discriminant_analysis.py:935: UserWarning: Variables are collinear\n",
      "  warnings.warn(\"Variables are collinear\")\n"
     ]
    },
    {
     "name": "stdout",
     "output_type": "stream",
     "text": [
      "cv\n",
      "individual models\n"
     ]
    },
    {
     "name": "stderr",
     "output_type": "stream",
     "text": [
      "/home/wanlab/nick/.local/lib/python3.8/site-packages/sklearn/discriminant_analysis.py:935: UserWarning: Variables are collinear\n",
      "  warnings.warn(\"Variables are collinear\")\n"
     ]
    },
    {
     "name": "stdout",
     "output_type": "stream",
     "text": [
      "cv\n",
      "individual models\n"
     ]
    },
    {
     "name": "stderr",
     "output_type": "stream",
     "text": [
      "/home/wanlab/nick/.local/lib/python3.8/site-packages/sklearn/discriminant_analysis.py:935: UserWarning: Variables are collinear\n",
      "  warnings.warn(\"Variables are collinear\")\n"
     ]
    },
    {
     "name": "stdout",
     "output_type": "stream",
     "text": [
      "cv\n",
      "individual models\n"
     ]
    },
    {
     "name": "stderr",
     "output_type": "stream",
     "text": [
      "/home/wanlab/nick/.local/lib/python3.8/site-packages/sklearn/discriminant_analysis.py:935: UserWarning: Variables are collinear\n",
      "  warnings.warn(\"Variables are collinear\")\n"
     ]
    },
    {
     "name": "stdout",
     "output_type": "stream",
     "text": [
      "cv\n",
      "individual models\n"
     ]
    },
    {
     "name": "stderr",
     "output_type": "stream",
     "text": [
      "/home/wanlab/nick/.local/lib/python3.8/site-packages/sklearn/discriminant_analysis.py:935: UserWarning: Variables are collinear\n",
      "  warnings.warn(\"Variables are collinear\")\n"
     ]
    },
    {
     "name": "stdout",
     "output_type": "stream",
     "text": [
      "cv\n",
      "individual models\n"
     ]
    },
    {
     "name": "stderr",
     "output_type": "stream",
     "text": [
      "/home/wanlab/nick/.local/lib/python3.8/site-packages/sklearn/discriminant_analysis.py:935: UserWarning: Variables are collinear\n",
      "  warnings.warn(\"Variables are collinear\")\n"
     ]
    },
    {
     "name": "stdout",
     "output_type": "stream",
     "text": [
      "cv\n",
      "individual models\n"
     ]
    },
    {
     "name": "stderr",
     "output_type": "stream",
     "text": [
      "/home/wanlab/nick/.local/lib/python3.8/site-packages/sklearn/discriminant_analysis.py:935: UserWarning: Variables are collinear\n",
      "  warnings.warn(\"Variables are collinear\")\n"
     ]
    },
    {
     "name": "stdout",
     "output_type": "stream",
     "text": [
      "cv\n",
      "individual models\n"
     ]
    },
    {
     "name": "stderr",
     "output_type": "stream",
     "text": [
      "/home/wanlab/nick/.local/lib/python3.8/site-packages/sklearn/discriminant_analysis.py:935: UserWarning: Variables are collinear\n",
      "  warnings.warn(\"Variables are collinear\")\n"
     ]
    },
    {
     "name": "stdout",
     "output_type": "stream",
     "text": [
      "cv\n",
      "individual models\n"
     ]
    },
    {
     "name": "stderr",
     "output_type": "stream",
     "text": [
      "/home/wanlab/nick/.local/lib/python3.8/site-packages/sklearn/discriminant_analysis.py:935: UserWarning: Variables are collinear\n",
      "  warnings.warn(\"Variables are collinear\")\n"
     ]
    },
    {
     "name": "stdout",
     "output_type": "stream",
     "text": [
      "cv\n",
      "individual models\n"
     ]
    },
    {
     "name": "stderr",
     "output_type": "stream",
     "text": [
      "/home/wanlab/nick/.local/lib/python3.8/site-packages/sklearn/discriminant_analysis.py:935: UserWarning: Variables are collinear\n",
      "  warnings.warn(\"Variables are collinear\")\n"
     ]
    },
    {
     "name": "stdout",
     "output_type": "stream",
     "text": [
      "cv\n",
      "individual models\n"
     ]
    },
    {
     "name": "stderr",
     "output_type": "stream",
     "text": [
      "/home/wanlab/nick/.local/lib/python3.8/site-packages/sklearn/discriminant_analysis.py:935: UserWarning: Variables are collinear\n",
      "  warnings.warn(\"Variables are collinear\")\n"
     ]
    },
    {
     "name": "stdout",
     "output_type": "stream",
     "text": [
      "cv\n",
      "individual models\n"
     ]
    },
    {
     "name": "stderr",
     "output_type": "stream",
     "text": [
      "/home/wanlab/nick/.local/lib/python3.8/site-packages/sklearn/discriminant_analysis.py:935: UserWarning: Variables are collinear\n",
      "  warnings.warn(\"Variables are collinear\")\n"
     ]
    },
    {
     "name": "stdout",
     "output_type": "stream",
     "text": [
      "cv\n",
      "\n",
      "model score of oof results for SVC\n",
      "Model Accuracy: 0.8645833333333334\n",
      "Precision: 0.8667328042328042\n",
      "Recall (Sensitivity): 0.8645833333333334\n",
      "F1 Score: 0.8641385302879839\n",
      "Matthews Correlation Coefficient (MCC): 0.818222148004452\n",
      "G-Measure: 0.9091837795495616\n",
      "AUC: 0.9868430119860578\n",
      "Specificity: 0.9544841015791721\n",
      "Jaccard Index: 0.7633201628352491\n",
      "Saving metrics to: /work/wanlab/nick//stackeval3/val_data/individual models/SVC/limma(0),metrics.csv\n",
      "PREDICTIONS                   subtype  Squamous      ADEX  Pancreatic Progenitor  \\\n",
      "0   Pancreatic Progenitor  0.116490  0.056952               0.795190   \n",
      "1                    ADEX  0.032352  0.897800               0.020608   \n",
      "2   Pancreatic Progenitor  0.251166  0.191497               0.526107   \n",
      "3   Pancreatic Progenitor  0.005766  0.064986               0.888897   \n",
      "4                    ADEX  0.095509  0.732893               0.152775   \n",
      "..                    ...       ...       ...                    ...   \n",
      "91            Immunogenic  0.006003  0.050148               0.006026   \n",
      "92                   ADEX  0.011189  0.800435               0.142019   \n",
      "93            Immunogenic  0.042381  0.039963               0.358583   \n",
      "94               Squamous  0.637687  0.052527               0.281623   \n",
      "95  Pancreatic Progenitor  0.001592  0.017964               0.885575   \n",
      "\n",
      "    Immunogenic  \n",
      "0      0.031368  \n",
      "1      0.049240  \n",
      "2      0.031230  \n",
      "3      0.040351  \n",
      "4      0.018823  \n",
      "..          ...  \n",
      "91     0.937823  \n",
      "92     0.046357  \n",
      "93     0.559073  \n",
      "94     0.028163  \n",
      "95     0.094869  \n",
      "\n",
      "[96 rows x 5 columns]\n",
      "\n",
      "model score of oof results for SVC2\n",
      "Model Accuracy: 0.90625\n",
      "Precision: 0.9077716161715522\n",
      "Recall (Sensitivity): 0.90625\n",
      "F1 Score: 0.9063660502079619\n",
      "Matthews Correlation Coefficient (MCC): 0.8736799159703267\n",
      "G-Measure: 0.9382686902505604\n",
      "AUC: 0.9846753738974249\n",
      "Specificity: 0.96830185659411\n",
      "Jaccard Index: 0.8297743922743923\n",
      "Saving metrics to: /work/wanlab/nick//stackeval3/val_data/individual models/SVC2/limma(0),metrics.csv\n",
      "PREDICTIONS                   subtype  Squamous      ADEX  Pancreatic Progenitor  \\\n",
      "0   Pancreatic Progenitor  0.208386  0.042119               0.701736   \n",
      "1                    ADEX  0.075091  0.822034               0.031080   \n",
      "2   Pancreatic Progenitor  0.344356  0.167954               0.447999   \n",
      "3   Pancreatic Progenitor  0.012586  0.079020               0.850098   \n",
      "4                    ADEX  0.245209  0.460705               0.258589   \n",
      "..                    ...       ...       ...                    ...   \n",
      "91            Immunogenic  0.018589  0.080392               0.013884   \n",
      "92                   ADEX  0.026709  0.799229               0.086367   \n",
      "93            Immunogenic  0.079763  0.020758               0.697803   \n",
      "94               Squamous  0.573646  0.024896               0.382356   \n",
      "95  Pancreatic Progenitor  0.003730  0.025793               0.759594   \n",
      "\n",
      "    Immunogenic  \n",
      "0      0.047759  \n",
      "1      0.071795  \n",
      "2      0.039691  \n",
      "3      0.058295  \n",
      "4      0.035497  \n",
      "..          ...  \n",
      "91     0.887135  \n",
      "92     0.087695  \n",
      "93     0.201677  \n",
      "94     0.019102  \n",
      "95     0.210883  \n",
      "\n",
      "[96 rows x 5 columns]\n",
      "\n",
      "model score of oof results for LogisticRegression\n",
      "Model Accuracy: 0.90625\n",
      "Precision: 0.907241010904804\n",
      "Recall (Sensitivity): 0.90625\n",
      "F1 Score: 0.9063258253912099\n",
      "Matthews Correlation Coefficient (MCC): 0.8733101573111083\n",
      "G-Measure: 0.9352788514023854\n",
      "AUC: 0.987585527368758\n",
      "Specificity: 0.9681724818608621\n",
      "Jaccard Index: 0.8275341386554622\n",
      "Saving metrics to: /work/wanlab/nick//stackeval3/val_data/individual models/LogisticRegression/limma(0),metrics.csv\n",
      "PREDICTIONS                   subtype      Squamous      ADEX  Pancreatic Progenitor  \\\n",
      "0   Pancreatic Progenitor  3.032983e-03  0.000254           9.966280e-01   \n",
      "1                    ADEX  7.699082e-05  0.999117           5.511734e-06   \n",
      "2   Pancreatic Progenitor  1.733089e-01  0.021542           8.050540e-01   \n",
      "3   Pancreatic Progenitor  8.482411e-06  0.007792           9.913168e-01   \n",
      "4                    ADEX  7.132894e-02  0.852495           7.609491e-02   \n",
      "..                    ...           ...       ...                    ...   \n",
      "91            Immunogenic  5.533628e-08  0.000009           1.133365e-08   \n",
      "92                   ADEX  7.055326e-06  0.983643           1.421599e-02   \n",
      "93            Immunogenic  6.291252e-03  0.001291           8.522605e-01   \n",
      "94               Squamous  8.284744e-01  0.000136           1.713615e-01   \n",
      "95  Pancreatic Progenitor  4.285721e-09  0.000005           9.879981e-01   \n",
      "\n",
      "    Immunogenic  \n",
      "0      0.000085  \n",
      "1      0.000800  \n",
      "2      0.000095  \n",
      "3      0.000883  \n",
      "4      0.000081  \n",
      "..          ...  \n",
      "91     0.999991  \n",
      "92     0.002134  \n",
      "93     0.140158  \n",
      "94     0.000028  \n",
      "95     0.011997  \n",
      "\n",
      "[96 rows x 5 columns]\n",
      "\n",
      "model score of oof results for QuadraticDiscriminantAnalysis\n",
      "Model Accuracy: 0.8125\n",
      "Precision: 0.8422427398989898\n",
      "Recall (Sensitivity): 0.8125\n",
      "F1 Score: 0.8179834041462035\n",
      "Matthews Correlation Coefficient (MCC): 0.7565073022599094\n",
      "G-Measure: 0.8796245823209131\n",
      "AUC: 0.941972486751316\n",
      "Specificity: 0.9400474818608622\n",
      "Jaccard Index: 0.6841746794871795\n",
      "Saving metrics to: /work/wanlab/nick//stackeval3/val_data/individual models/QuadraticDiscriminantAnalysis/limma(0),metrics.csv\n",
      "PREDICTIONS                   subtype  Squamous           ADEX  Pancreatic Progenitor  \\\n",
      "0   Pancreatic Progenitor       0.0  2.272267e-213           1.000000e+00   \n",
      "1                    ADEX       0.0   1.000000e+00           0.000000e+00   \n",
      "2   Pancreatic Progenitor       0.0   9.016082e-32           1.000000e+00   \n",
      "3   Pancreatic Progenitor       0.0  1.316344e-112           1.000000e+00   \n",
      "4                    ADEX       0.0   1.000000e+00           0.000000e+00   \n",
      "..                    ...       ...            ...                    ...   \n",
      "91            Immunogenic       0.0   0.000000e+00           0.000000e+00   \n",
      "92                   ADEX       0.0   1.000000e+00          5.428026e-131   \n",
      "93            Immunogenic       0.0  1.185421e-146           0.000000e+00   \n",
      "94               Squamous       1.0  1.099996e-289           0.000000e+00   \n",
      "95  Pancreatic Progenitor       0.0   1.000000e+00           5.819005e-13   \n",
      "\n",
      "      Immunogenic  \n",
      "0   3.934384e-271  \n",
      "1    0.000000e+00  \n",
      "2    0.000000e+00  \n",
      "3   1.556498e-292  \n",
      "4    0.000000e+00  \n",
      "..            ...  \n",
      "91   1.000000e+00  \n",
      "92   0.000000e+00  \n",
      "93   1.000000e+00  \n",
      "94  2.681948e-147  \n",
      "95  2.710999e-166  \n",
      "\n",
      "[96 rows x 5 columns]\n",
      "运行时间为: 269.62 秒\n",
      "combining [[1.16490387e-001 5.69516079e-002 7.95190227e-001 ... 2.27226698e-213\n",
      "  1.00000000e+000 3.93438375e-271]\n",
      " [3.23515298e-002 8.97800489e-001 2.06084209e-002 ... 1.00000000e+000\n",
      "  0.00000000e+000 0.00000000e+000]\n",
      " [2.51166007e-001 1.91496888e-001 5.26107310e-001 ... 9.01608210e-032\n",
      "  1.00000000e+000 0.00000000e+000]\n",
      " ...\n",
      " [4.23808584e-002 3.99629536e-002 3.58583252e-001 ... 1.18542119e-146\n",
      "  0.00000000e+000 1.00000000e+000]\n",
      " [6.37687186e-001 5.25272650e-002 2.81622621e-001 ... 1.09999569e-289\n",
      "  0.00000000e+000 2.68194841e-147]\n",
      " [1.59184481e-003 1.79639480e-002 8.85575459e-001 ... 1.00000000e+000\n",
      "  5.81900495e-013 2.71099911e-166]] [[13.56018914 12.68466835 13.10243664 ...  9.53005478 11.16103308\n",
      "  11.24920229]\n",
      " [15.4259582  14.08525845 12.01110512 ...  9.45622747 11.12707631\n",
      "  11.78331935]\n",
      " [14.4756837  13.26517897 12.82291838 ...  9.65623065 11.33179862\n",
      "  11.68015036]\n",
      " ...\n",
      " [14.28976923 13.62192201 12.67277184 ...  9.32578912  9.67174085\n",
      "  11.45401981]\n",
      " [14.71684472 13.81278796 13.58508909 ... 10.31590684 12.7838795\n",
      "  11.90067493]\n",
      " [14.18823419 12.92657629 11.70868561 ...  9.88942006  9.76636631\n",
      "  12.84604452]]\n",
      "stacked\n",
      "cv\n",
      "stacked\n",
      "cv\n",
      "stacked\n",
      "cv\n",
      "stacked\n",
      "cv\n",
      "stacked\n",
      "cv\n",
      "stacked\n",
      "cv\n",
      "stacked\n",
      "cv\n",
      "stacked\n",
      "cv\n",
      "stacked\n",
      "cv\n",
      "stacked\n",
      "cv\n",
      "stacked\n",
      "cv\n",
      "stacked\n",
      "cv\n",
      "stacked\n",
      "cv\n",
      "stacked\n",
      "cv\n",
      "stacked\n",
      "cv\n",
      "stacked\n",
      "cv\n",
      "stacked\n",
      "cv\n",
      "stacked\n",
      "cv\n",
      "stacked\n",
      "cv\n",
      "stacked\n",
      "cv\n",
      "stacked\n",
      "cv\n",
      "stacked\n",
      "cv\n",
      "stacked\n",
      "cv\n",
      "stacked\n",
      "cv\n",
      "stacked\n",
      "cv\n",
      "stacked\n",
      "cv\n",
      "stacked\n",
      "cv\n",
      "stacked\n",
      "cv\n",
      "stacked\n",
      "cv\n",
      "stacked\n",
      "cv\n",
      "stacked\n",
      "cv\n",
      "stacked\n",
      "cv\n",
      "stacked\n",
      "cv\n",
      "stacked\n",
      "cv\n",
      "stacked\n",
      "cv\n",
      "stacked\n",
      "cv\n",
      "stacked\n",
      "cv\n",
      "stacked\n",
      "cv\n",
      "stacked\n",
      "cv\n",
      "stacked\n",
      "cv\n",
      "stacked\n",
      "cv\n",
      "stacked\n",
      "cv\n",
      "stacked\n",
      "cv\n",
      "stacked\n",
      "cv\n",
      "stacked\n",
      "cv\n",
      "stacked\n",
      "cv\n",
      "stacked\n",
      "cv\n",
      "stacked\n",
      "cv\n",
      "stacked\n",
      "cv\n",
      "stacked\n",
      "cv\n",
      "stacked\n",
      "cv\n",
      "stacked\n",
      "cv\n",
      "stacked\n",
      "cv\n",
      "stacked\n",
      "cv\n",
      "stacked\n",
      "cv\n",
      "stacked\n",
      "cv\n",
      "stacked\n",
      "cv\n",
      "stacked\n",
      "cv\n",
      "stacked\n",
      "cv\n",
      "stacked\n",
      "cv\n",
      "stacked\n",
      "cv\n",
      "stacked\n",
      "cv\n",
      "stacked\n",
      "cv\n",
      "stacked\n",
      "cv\n",
      "stacked\n",
      "cv\n",
      "stacked\n",
      "cv\n",
      "stacked\n",
      "cv\n",
      "stacked\n",
      "cv\n",
      "stacked\n",
      "cv\n",
      "stacked\n",
      "cv\n",
      "stacked\n",
      "cv\n",
      "stacked\n",
      "cv\n",
      "stacked\n",
      "cv\n",
      "stacked\n",
      "cv\n",
      "stacked\n",
      "cv\n",
      "stacked\n",
      "cv\n",
      "stacked\n",
      "cv\n",
      "stacked\n",
      "cv\n",
      "stacked\n",
      "cv\n",
      "stacked\n",
      "cv\n",
      "stacked\n",
      "cv\n",
      "stacked\n",
      "cv\n",
      "stacked\n",
      "cv\n",
      "stacked\n",
      "cv\n",
      "stacked\n",
      "cv\n",
      "stacked\n",
      "cv\n",
      "stacked\n",
      "cv\n",
      "stacked\n",
      "cv\n",
      "stacked\n",
      "cv\n",
      "stacked\n",
      "cv\n",
      "stacked\n",
      "cv\n",
      "stacked\n",
      "cv\n",
      "stacked\n",
      "cv\n",
      "stacked\n",
      "cv\n",
      "stacked\n",
      "cv\n",
      "stacked\n",
      "cv\n",
      "\n",
      "model score of oof results for MLPClassifier\n",
      "Model Accuracy: 0.5729166666666666\n",
      "Precision: 0.566530257936508\n",
      "Recall (Sensitivity): 0.5729166666666666\n",
      "F1 Score: 0.568800004278441\n",
      "Matthews Correlation Coefficient (MCC): 0.42093137613914927\n",
      "G-Measure: 0.6796983606388415\n",
      "AUC: 0.8189824632771376\n",
      "Specificity: 0.8549309112249254\n",
      "Jaccard Index: 0.3986053388746803\n",
      "Saving metrics to: /work/wanlab/nick//stackeval3/val_data/stacked/MLPClassifier/limma(0),metrics.csv\n",
      "PREDICTIONS                   subtype      Squamous          ADEX  Pancreatic Progenitor  \\\n",
      "0             Immunogenic  5.144491e-09  1.085984e-06           6.683138e-12   \n",
      "1                    ADEX  1.986483e-05  1.119781e-01           8.871481e-01   \n",
      "2   Pancreatic Progenitor  1.492727e-04  2.474950e-02           9.581424e-01   \n",
      "3   Pancreatic Progenitor  3.524562e-06  1.511231e-02           9.834799e-01   \n",
      "4   Pancreatic Progenitor  4.498151e-03  5.154153e-01           4.800405e-01   \n",
      "..                    ...           ...           ...                    ...   \n",
      "91                   ADEX  3.743487e-02  1.077911e-03           5.761788e-01   \n",
      "92               Squamous  9.999996e-01  1.318084e-10           1.726555e-14   \n",
      "93                   ADEX  6.469765e-03  2.155942e-09           9.935298e-01   \n",
      "94  Pancreatic Progenitor  3.424064e-05  8.456306e-01           1.394990e-01   \n",
      "95               Squamous  4.002817e-02  4.083325e-02           8.987452e-01   \n",
      "\n",
      "     Immunogenic  \n",
      "0   9.999989e-01  \n",
      "1   8.539958e-04  \n",
      "2   1.695884e-02  \n",
      "3   1.404295e-03  \n",
      "4   4.603912e-05  \n",
      "..           ...  \n",
      "91  3.853084e-01  \n",
      "92  3.942873e-07  \n",
      "93  4.171792e-07  \n",
      "94  1.483616e-02  \n",
      "95  2.039342e-02  \n",
      "\n",
      "[96 rows x 5 columns]\n",
      "\n",
      "model score of oof results for RandomForestClassifier\n",
      "Model Accuracy: 0.875\n",
      "Precision: 0.8764165521978023\n",
      "Recall (Sensitivity): 0.875\n",
      "F1 Score: 0.8745899972892383\n",
      "Matthews Correlation Coefficient (MCC): 0.8307609190082502\n",
      "G-Measure: 0.910078388028133\n",
      "AUC: 0.984554251805022\n",
      "Specificity: 0.9570755975245412\n",
      "Jaccard Index: 0.7742139959432048\n",
      "Saving metrics to: /work/wanlab/nick//stackeval3/val_data/stacked/RandomForestClassifier/limma(0),metrics.csv\n",
      "PREDICTIONS                   subtype  Squamous  ADEX  Pancreatic Progenitor  Immunogenic\n",
      "0             Immunogenic      0.05  0.02                   0.05         0.88\n",
      "1                    ADEX      0.15  0.38                   0.37         0.10\n",
      "2   Pancreatic Progenitor      0.06  0.09                   0.54         0.31\n",
      "3   Pancreatic Progenitor      0.04  0.15                   0.70         0.11\n",
      "4   Pancreatic Progenitor      0.11  0.04                   0.81         0.04\n",
      "..                    ...       ...   ...                    ...          ...\n",
      "91                   ADEX      0.04  0.35                   0.26         0.35\n",
      "92               Squamous      0.85  0.04                   0.08         0.03\n",
      "93                   ADEX      0.20  0.43                   0.28         0.09\n",
      "94  Pancreatic Progenitor      0.06  0.55                   0.29         0.10\n",
      "95               Squamous      0.39  0.32                   0.23         0.06\n",
      "\n",
      "[96 rows x 5 columns]\n",
      "\n",
      "model score of oof results for LogisticRegression2\n",
      "Model Accuracy: 0.90625\n",
      "Precision: 0.907241010904804\n",
      "Recall (Sensitivity): 0.90625\n",
      "F1 Score: 0.9063258253912099\n",
      "Matthews Correlation Coefficient (MCC): 0.8733101573111083\n",
      "G-Measure: 0.9352788514023854\n",
      "AUC: 0.987585527368758\n",
      "Specificity: 0.9681724818608621\n",
      "Jaccard Index: 0.8275341386554622\n",
      "Saving metrics to: /work/wanlab/nick//stackeval3/val_data/stacked/LogisticRegression2/limma(0),metrics.csv\n",
      "PREDICTIONS                   subtype      Squamous          ADEX  Pancreatic Progenitor  \\\n",
      "0             Immunogenic  3.625503e-09  9.952246e-10           2.301499e-10   \n",
      "1                    ADEX  1.152888e-04  8.845758e-01           1.141476e-01   \n",
      "2   Pancreatic Progenitor  4.355554e-09  4.639950e-06           9.879226e-01   \n",
      "3   Pancreatic Progenitor  8.310453e-06  7.578239e-03           9.915550e-01   \n",
      "4   Pancreatic Progenitor  4.428612e-05  5.515689e-04           9.994041e-01   \n",
      "..                    ...           ...           ...                    ...   \n",
      "91                   ADEX  3.282952e-07  9.376538e-01           2.237175e-02   \n",
      "92               Squamous  1.000000e+00  8.974250e-13           4.522799e-13   \n",
      "93                   ADEX  2.190355e-04  9.825426e-01           1.721083e-02   \n",
      "94  Pancreatic Progenitor  1.826726e-07  6.697735e-01           3.289301e-01   \n",
      "95               Squamous  6.517996e-01  3.263065e-01           2.187674e-02   \n",
      "\n",
      "     Immunogenic  \n",
      "0   1.000000e+00  \n",
      "1   1.161332e-03  \n",
      "2   1.207275e-02  \n",
      "3   8.584446e-04  \n",
      "4   9.384599e-08  \n",
      "..           ...  \n",
      "91  3.997414e-02  \n",
      "92  5.378586e-09  \n",
      "93  2.757250e-05  \n",
      "94  1.296171e-03  \n",
      "95  1.713636e-05  \n",
      "\n",
      "[96 rows x 5 columns]\n",
      "\n",
      "model score of oof results for GaussianNB2\n",
      "Model Accuracy: 0.8229166666666666\n",
      "Precision: 0.8288629395966353\n",
      "Recall (Sensitivity): 0.8229166666666666\n",
      "F1 Score: 0.8193307152406417\n",
      "Matthews Correlation Coefficient (MCC): 0.7615133844877985\n",
      "G-Measure: 0.8592464682487193\n",
      "AUC: 0.920162451984635\n",
      "Specificity: 0.9385323303457106\n",
      "Jaccard Index: 0.6821765399351606\n",
      "Saving metrics to: /work/wanlab/nick//stackeval3/val_data/stacked/GaussianNB2/limma(0),metrics.csv\n",
      "PREDICTIONS                   subtype  Squamous          ADEX  Pancreatic Progenitor  \\\n",
      "0             Immunogenic       0.0  0.000000e+00           0.000000e+00   \n",
      "1                    ADEX       0.0  1.000000e+00           0.000000e+00   \n",
      "2   Pancreatic Progenitor       0.0  0.000000e+00           1.000000e+00   \n",
      "3   Pancreatic Progenitor       0.0  0.000000e+00           1.000000e+00   \n",
      "4   Pancreatic Progenitor       0.0  0.000000e+00           1.000000e+00   \n",
      "..                    ...       ...           ...                    ...   \n",
      "91                   ADEX       0.0  1.000000e+00           2.786312e-39   \n",
      "92               Squamous       1.0  0.000000e+00           0.000000e+00   \n",
      "93                   ADEX       0.0  3.271392e-47           1.000000e+00   \n",
      "94  Pancreatic Progenitor       0.0  1.000000e+00           0.000000e+00   \n",
      "95               Squamous       0.0  1.000000e+00          5.588673e-177   \n",
      "\n",
      "    Immunogenic  \n",
      "0           1.0  \n",
      "1           0.0  \n",
      "2           0.0  \n",
      "3           0.0  \n",
      "4           0.0  \n",
      "..          ...  \n",
      "91          0.0  \n",
      "92          0.0  \n",
      "93          0.0  \n",
      "94          0.0  \n",
      "95          0.0  \n",
      "\n",
      "[96 rows x 5 columns]\n",
      "\n",
      "model score of oof results for SVC3\n",
      "Model Accuracy: 0.8854166666666666\n",
      "Precision: 0.891441968525302\n",
      "Recall (Sensitivity): 0.8854166666666666\n",
      "F1 Score: 0.8857571122577969\n",
      "Matthews Correlation Coefficient (MCC): 0.847046869768925\n",
      "G-Measure: 0.9229308733968031\n",
      "AUC: 0.9856022816190069\n",
      "Specificity: 0.9613969803670508\n",
      "Jaccard Index: 0.7977251412244541\n",
      "Saving metrics to: /work/wanlab/nick//stackeval3/val_data/stacked/SVC3/limma(0),metrics.csv\n",
      "PREDICTIONS                   subtype  Squamous      ADEX  Pancreatic Progenitor  \\\n",
      "0             Immunogenic  0.003198  0.002302               0.001081   \n",
      "1                    ADEX  0.018813  0.871676               0.092652   \n",
      "2   Pancreatic Progenitor  0.002335  0.020088               0.827578   \n",
      "3   Pancreatic Progenitor  0.004253  0.050089               0.915258   \n",
      "4   Pancreatic Progenitor  0.021071  0.049740               0.925688   \n",
      "..                    ...       ...       ...                    ...   \n",
      "91                   ADEX  0.005603  0.663144               0.083285   \n",
      "92               Squamous  0.993820  0.000965               0.000145   \n",
      "93                   ADEX  0.091073  0.708552               0.172563   \n",
      "94  Pancreatic Progenitor  0.003207  0.865561               0.107033   \n",
      "95               Squamous  0.402495  0.390233               0.190205   \n",
      "\n",
      "    Immunogenic  \n",
      "0      0.993420  \n",
      "1      0.016859  \n",
      "2      0.149999  \n",
      "3      0.030399  \n",
      "4      0.003501  \n",
      "..          ...  \n",
      "91     0.247968  \n",
      "92     0.005069  \n",
      "93     0.027812  \n",
      "94     0.024199  \n",
      "95     0.017068  \n",
      "\n",
      "[96 rows x 5 columns]\n",
      "\n",
      "model score of oof results for SVC4\n",
      "Model Accuracy: 0.9270833333333334\n",
      "Precision: 0.9282457295657727\n",
      "Recall (Sensitivity): 0.9270833333333334\n",
      "F1 Score: 0.927124353652804\n",
      "Matthews Correlation Coefficient (MCC): 0.9017909960019698\n",
      "G-Measure: 0.9519085598926197\n",
      "AUC: 0.9862314273900981\n",
      "Specificity: 0.9752147353819889\n",
      "Jaccard Index: 0.8669652957336781\n",
      "Saving metrics to: /work/wanlab/nick//stackeval3/val_data/stacked/SVC4/limma(0),metrics.csv\n",
      "PREDICTIONS                   subtype  Squamous      ADEX  Pancreatic Progenitor  \\\n",
      "0             Immunogenic  0.003876  0.001502               0.001076   \n",
      "1                    ADEX  0.044105  0.566471               0.350828   \n",
      "2   Pancreatic Progenitor  0.003515  0.024865               0.755100   \n",
      "3   Pancreatic Progenitor  0.013860  0.084121               0.844359   \n",
      "4   Pancreatic Progenitor  0.065348  0.072146               0.854822   \n",
      "..                    ...       ...       ...                    ...   \n",
      "91                   ADEX  0.009718  0.700991               0.110534   \n",
      "92               Squamous  0.996368  0.000071               0.000350   \n",
      "93                   ADEX  0.056439  0.772674               0.130899   \n",
      "94  Pancreatic Progenitor  0.008338  0.652637               0.297245   \n",
      "95               Squamous  0.413478  0.380911               0.177132   \n",
      "\n",
      "    Immunogenic  \n",
      "0      0.993546  \n",
      "1      0.038595  \n",
      "2      0.216519  \n",
      "3      0.057660  \n",
      "4      0.007685  \n",
      "..          ...  \n",
      "91     0.178756  \n",
      "92     0.003212  \n",
      "93     0.039987  \n",
      "94     0.041780  \n",
      "95     0.028478  \n",
      "\n",
      "[96 rows x 5 columns]\n",
      "run 4\n",
      "Model Pair: SVC + SVC + GaussianNB + XGBClassifier\n",
      "USEDmodelnames ['SVC', 'SVC2', 'GaussianNB', 'XGBClassifier']\n",
      "Running with: SVC and SVC and GaussianNB and XGBClassifier\n",
      "Random state: 0\n",
      "['SVC', 'SVC2', 'GaussianNB', 'XGBClassifier']\n",
      "individual models\n"
     ]
    },
    {
     "name": "stderr",
     "output_type": "stream",
     "text": [
      "/home/wanlab/nick/.local/lib/python3.8/site-packages/xgboost/core.py:158: UserWarning: [10:31:36] WARNING: /workspace/src/learner.cc:740: \n",
      "Parameters: { \"use_label_encoder\" } are not used.\n",
      "\n",
      "  warnings.warn(smsg, UserWarning)\n"
     ]
    },
    {
     "name": "stdout",
     "output_type": "stream",
     "text": [
      "cv\n",
      "individual models\n"
     ]
    },
    {
     "name": "stderr",
     "output_type": "stream",
     "text": [
      "/home/wanlab/nick/.local/lib/python3.8/site-packages/xgboost/core.py:158: UserWarning: [10:31:48] WARNING: /workspace/src/learner.cc:740: \n",
      "Parameters: { \"use_label_encoder\" } are not used.\n",
      "\n",
      "  warnings.warn(smsg, UserWarning)\n"
     ]
    },
    {
     "name": "stdout",
     "output_type": "stream",
     "text": [
      "cv\n",
      "individual models\n"
     ]
    },
    {
     "name": "stderr",
     "output_type": "stream",
     "text": [
      "/home/wanlab/nick/.local/lib/python3.8/site-packages/xgboost/core.py:158: UserWarning: [10:32:00] WARNING: /workspace/src/learner.cc:740: \n",
      "Parameters: { \"use_label_encoder\" } are not used.\n",
      "\n",
      "  warnings.warn(smsg, UserWarning)\n"
     ]
    },
    {
     "name": "stdout",
     "output_type": "stream",
     "text": [
      "cv\n",
      "individual models\n"
     ]
    },
    {
     "name": "stderr",
     "output_type": "stream",
     "text": [
      "/home/wanlab/nick/.local/lib/python3.8/site-packages/xgboost/core.py:158: UserWarning: [10:32:11] WARNING: /workspace/src/learner.cc:740: \n",
      "Parameters: { \"use_label_encoder\" } are not used.\n",
      "\n",
      "  warnings.warn(smsg, UserWarning)\n"
     ]
    },
    {
     "name": "stdout",
     "output_type": "stream",
     "text": [
      "cv\n",
      "individual models\n"
     ]
    },
    {
     "name": "stderr",
     "output_type": "stream",
     "text": [
      "/home/wanlab/nick/.local/lib/python3.8/site-packages/xgboost/core.py:158: UserWarning: [10:32:23] WARNING: /workspace/src/learner.cc:740: \n",
      "Parameters: { \"use_label_encoder\" } are not used.\n",
      "\n",
      "  warnings.warn(smsg, UserWarning)\n"
     ]
    },
    {
     "name": "stdout",
     "output_type": "stream",
     "text": [
      "cv\n",
      "individual models\n"
     ]
    },
    {
     "name": "stderr",
     "output_type": "stream",
     "text": [
      "/home/wanlab/nick/.local/lib/python3.8/site-packages/xgboost/core.py:158: UserWarning: [10:32:35] WARNING: /workspace/src/learner.cc:740: \n",
      "Parameters: { \"use_label_encoder\" } are not used.\n",
      "\n",
      "  warnings.warn(smsg, UserWarning)\n"
     ]
    },
    {
     "name": "stdout",
     "output_type": "stream",
     "text": [
      "cv\n",
      "individual models\n"
     ]
    },
    {
     "name": "stderr",
     "output_type": "stream",
     "text": [
      "/home/wanlab/nick/.local/lib/python3.8/site-packages/xgboost/core.py:158: UserWarning: [10:32:47] WARNING: /workspace/src/learner.cc:740: \n",
      "Parameters: { \"use_label_encoder\" } are not used.\n",
      "\n",
      "  warnings.warn(smsg, UserWarning)\n"
     ]
    },
    {
     "name": "stdout",
     "output_type": "stream",
     "text": [
      "cv\n",
      "individual models\n"
     ]
    },
    {
     "name": "stderr",
     "output_type": "stream",
     "text": [
      "/home/wanlab/nick/.local/lib/python3.8/site-packages/xgboost/core.py:158: UserWarning: [10:32:58] WARNING: /workspace/src/learner.cc:740: \n",
      "Parameters: { \"use_label_encoder\" } are not used.\n",
      "\n",
      "  warnings.warn(smsg, UserWarning)\n"
     ]
    },
    {
     "name": "stdout",
     "output_type": "stream",
     "text": [
      "cv\n",
      "individual models\n"
     ]
    },
    {
     "name": "stderr",
     "output_type": "stream",
     "text": [
      "/home/wanlab/nick/.local/lib/python3.8/site-packages/xgboost/core.py:158: UserWarning: [10:33:11] WARNING: /workspace/src/learner.cc:740: \n",
      "Parameters: { \"use_label_encoder\" } are not used.\n",
      "\n",
      "  warnings.warn(smsg, UserWarning)\n"
     ]
    },
    {
     "name": "stdout",
     "output_type": "stream",
     "text": [
      "cv\n",
      "individual models\n"
     ]
    },
    {
     "name": "stderr",
     "output_type": "stream",
     "text": [
      "/home/wanlab/nick/.local/lib/python3.8/site-packages/xgboost/core.py:158: UserWarning: [10:33:22] WARNING: /workspace/src/learner.cc:740: \n",
      "Parameters: { \"use_label_encoder\" } are not used.\n",
      "\n",
      "  warnings.warn(smsg, UserWarning)\n"
     ]
    },
    {
     "name": "stdout",
     "output_type": "stream",
     "text": [
      "cv\n",
      "individual models\n"
     ]
    },
    {
     "name": "stderr",
     "output_type": "stream",
     "text": [
      "/home/wanlab/nick/.local/lib/python3.8/site-packages/xgboost/core.py:158: UserWarning: [10:33:34] WARNING: /workspace/src/learner.cc:740: \n",
      "Parameters: { \"use_label_encoder\" } are not used.\n",
      "\n",
      "  warnings.warn(smsg, UserWarning)\n"
     ]
    },
    {
     "name": "stdout",
     "output_type": "stream",
     "text": [
      "cv\n",
      "individual models\n"
     ]
    },
    {
     "name": "stderr",
     "output_type": "stream",
     "text": [
      "/home/wanlab/nick/.local/lib/python3.8/site-packages/xgboost/core.py:158: UserWarning: [10:33:45] WARNING: /workspace/src/learner.cc:740: \n",
      "Parameters: { \"use_label_encoder\" } are not used.\n",
      "\n",
      "  warnings.warn(smsg, UserWarning)\n"
     ]
    },
    {
     "name": "stdout",
     "output_type": "stream",
     "text": [
      "cv\n",
      "individual models\n"
     ]
    },
    {
     "name": "stderr",
     "output_type": "stream",
     "text": [
      "/home/wanlab/nick/.local/lib/python3.8/site-packages/xgboost/core.py:158: UserWarning: [10:33:57] WARNING: /workspace/src/learner.cc:740: \n",
      "Parameters: { \"use_label_encoder\" } are not used.\n",
      "\n",
      "  warnings.warn(smsg, UserWarning)\n"
     ]
    },
    {
     "name": "stdout",
     "output_type": "stream",
     "text": [
      "cv\n",
      "individual models\n"
     ]
    },
    {
     "name": "stderr",
     "output_type": "stream",
     "text": [
      "/home/wanlab/nick/.local/lib/python3.8/site-packages/xgboost/core.py:158: UserWarning: [10:34:08] WARNING: /workspace/src/learner.cc:740: \n",
      "Parameters: { \"use_label_encoder\" } are not used.\n",
      "\n",
      "  warnings.warn(smsg, UserWarning)\n"
     ]
    },
    {
     "name": "stdout",
     "output_type": "stream",
     "text": [
      "cv\n",
      "individual models\n"
     ]
    },
    {
     "name": "stderr",
     "output_type": "stream",
     "text": [
      "/home/wanlab/nick/.local/lib/python3.8/site-packages/xgboost/core.py:158: UserWarning: [10:34:20] WARNING: /workspace/src/learner.cc:740: \n",
      "Parameters: { \"use_label_encoder\" } are not used.\n",
      "\n",
      "  warnings.warn(smsg, UserWarning)\n"
     ]
    },
    {
     "name": "stdout",
     "output_type": "stream",
     "text": [
      "cv\n",
      "individual models\n"
     ]
    },
    {
     "name": "stderr",
     "output_type": "stream",
     "text": [
      "/home/wanlab/nick/.local/lib/python3.8/site-packages/xgboost/core.py:158: UserWarning: [10:34:31] WARNING: /workspace/src/learner.cc:740: \n",
      "Parameters: { \"use_label_encoder\" } are not used.\n",
      "\n",
      "  warnings.warn(smsg, UserWarning)\n"
     ]
    },
    {
     "name": "stdout",
     "output_type": "stream",
     "text": [
      "cv\n",
      "individual models\n"
     ]
    },
    {
     "name": "stderr",
     "output_type": "stream",
     "text": [
      "/home/wanlab/nick/.local/lib/python3.8/site-packages/xgboost/core.py:158: UserWarning: [10:34:43] WARNING: /workspace/src/learner.cc:740: \n",
      "Parameters: { \"use_label_encoder\" } are not used.\n",
      "\n",
      "  warnings.warn(smsg, UserWarning)\n"
     ]
    },
    {
     "name": "stdout",
     "output_type": "stream",
     "text": [
      "cv\n",
      "individual models\n"
     ]
    },
    {
     "name": "stderr",
     "output_type": "stream",
     "text": [
      "/home/wanlab/nick/.local/lib/python3.8/site-packages/xgboost/core.py:158: UserWarning: [10:34:54] WARNING: /workspace/src/learner.cc:740: \n",
      "Parameters: { \"use_label_encoder\" } are not used.\n",
      "\n",
      "  warnings.warn(smsg, UserWarning)\n"
     ]
    },
    {
     "name": "stdout",
     "output_type": "stream",
     "text": [
      "cv\n",
      "individual models\n"
     ]
    },
    {
     "name": "stderr",
     "output_type": "stream",
     "text": [
      "/home/wanlab/nick/.local/lib/python3.8/site-packages/xgboost/core.py:158: UserWarning: [10:35:06] WARNING: /workspace/src/learner.cc:740: \n",
      "Parameters: { \"use_label_encoder\" } are not used.\n",
      "\n",
      "  warnings.warn(smsg, UserWarning)\n"
     ]
    },
    {
     "name": "stdout",
     "output_type": "stream",
     "text": [
      "cv\n",
      "individual models\n"
     ]
    },
    {
     "name": "stderr",
     "output_type": "stream",
     "text": [
      "/home/wanlab/nick/.local/lib/python3.8/site-packages/xgboost/core.py:158: UserWarning: [10:35:17] WARNING: /workspace/src/learner.cc:740: \n",
      "Parameters: { \"use_label_encoder\" } are not used.\n",
      "\n",
      "  warnings.warn(smsg, UserWarning)\n"
     ]
    },
    {
     "name": "stdout",
     "output_type": "stream",
     "text": [
      "cv\n",
      "individual models\n"
     ]
    },
    {
     "name": "stderr",
     "output_type": "stream",
     "text": [
      "/home/wanlab/nick/.local/lib/python3.8/site-packages/xgboost/core.py:158: UserWarning: [10:35:29] WARNING: /workspace/src/learner.cc:740: \n",
      "Parameters: { \"use_label_encoder\" } are not used.\n",
      "\n",
      "  warnings.warn(smsg, UserWarning)\n"
     ]
    },
    {
     "name": "stdout",
     "output_type": "stream",
     "text": [
      "cv\n",
      "individual models\n"
     ]
    },
    {
     "name": "stderr",
     "output_type": "stream",
     "text": [
      "/home/wanlab/nick/.local/lib/python3.8/site-packages/xgboost/core.py:158: UserWarning: [10:35:41] WARNING: /workspace/src/learner.cc:740: \n",
      "Parameters: { \"use_label_encoder\" } are not used.\n",
      "\n",
      "  warnings.warn(smsg, UserWarning)\n"
     ]
    },
    {
     "name": "stdout",
     "output_type": "stream",
     "text": [
      "cv\n",
      "individual models\n"
     ]
    },
    {
     "name": "stderr",
     "output_type": "stream",
     "text": [
      "/home/wanlab/nick/.local/lib/python3.8/site-packages/xgboost/core.py:158: UserWarning: [10:35:52] WARNING: /workspace/src/learner.cc:740: \n",
      "Parameters: { \"use_label_encoder\" } are not used.\n",
      "\n",
      "  warnings.warn(smsg, UserWarning)\n"
     ]
    },
    {
     "name": "stdout",
     "output_type": "stream",
     "text": [
      "cv\n",
      "individual models\n"
     ]
    },
    {
     "name": "stderr",
     "output_type": "stream",
     "text": [
      "/home/wanlab/nick/.local/lib/python3.8/site-packages/xgboost/core.py:158: UserWarning: [10:36:04] WARNING: /workspace/src/learner.cc:740: \n",
      "Parameters: { \"use_label_encoder\" } are not used.\n",
      "\n",
      "  warnings.warn(smsg, UserWarning)\n"
     ]
    },
    {
     "name": "stdout",
     "output_type": "stream",
     "text": [
      "cv\n",
      "individual models\n"
     ]
    },
    {
     "name": "stderr",
     "output_type": "stream",
     "text": [
      "/home/wanlab/nick/.local/lib/python3.8/site-packages/xgboost/core.py:158: UserWarning: [10:36:15] WARNING: /workspace/src/learner.cc:740: \n",
      "Parameters: { \"use_label_encoder\" } are not used.\n",
      "\n",
      "  warnings.warn(smsg, UserWarning)\n"
     ]
    },
    {
     "name": "stdout",
     "output_type": "stream",
     "text": [
      "cv\n",
      "individual models\n"
     ]
    },
    {
     "name": "stderr",
     "output_type": "stream",
     "text": [
      "/home/wanlab/nick/.local/lib/python3.8/site-packages/xgboost/core.py:158: UserWarning: [10:36:27] WARNING: /workspace/src/learner.cc:740: \n",
      "Parameters: { \"use_label_encoder\" } are not used.\n",
      "\n",
      "  warnings.warn(smsg, UserWarning)\n"
     ]
    },
    {
     "name": "stdout",
     "output_type": "stream",
     "text": [
      "cv\n",
      "individual models\n"
     ]
    },
    {
     "name": "stderr",
     "output_type": "stream",
     "text": [
      "/home/wanlab/nick/.local/lib/python3.8/site-packages/xgboost/core.py:158: UserWarning: [10:36:39] WARNING: /workspace/src/learner.cc:740: \n",
      "Parameters: { \"use_label_encoder\" } are not used.\n",
      "\n",
      "  warnings.warn(smsg, UserWarning)\n"
     ]
    },
    {
     "name": "stdout",
     "output_type": "stream",
     "text": [
      "cv\n",
      "individual models\n"
     ]
    },
    {
     "name": "stderr",
     "output_type": "stream",
     "text": [
      "/home/wanlab/nick/.local/lib/python3.8/site-packages/xgboost/core.py:158: UserWarning: [10:36:50] WARNING: /workspace/src/learner.cc:740: \n",
      "Parameters: { \"use_label_encoder\" } are not used.\n",
      "\n",
      "  warnings.warn(smsg, UserWarning)\n"
     ]
    },
    {
     "name": "stdout",
     "output_type": "stream",
     "text": [
      "cv\n",
      "individual models\n"
     ]
    },
    {
     "name": "stderr",
     "output_type": "stream",
     "text": [
      "/home/wanlab/nick/.local/lib/python3.8/site-packages/xgboost/core.py:158: UserWarning: [10:37:02] WARNING: /workspace/src/learner.cc:740: \n",
      "Parameters: { \"use_label_encoder\" } are not used.\n",
      "\n",
      "  warnings.warn(smsg, UserWarning)\n"
     ]
    },
    {
     "name": "stdout",
     "output_type": "stream",
     "text": [
      "cv\n",
      "individual models\n"
     ]
    },
    {
     "name": "stderr",
     "output_type": "stream",
     "text": [
      "/home/wanlab/nick/.local/lib/python3.8/site-packages/xgboost/core.py:158: UserWarning: [10:37:13] WARNING: /workspace/src/learner.cc:740: \n",
      "Parameters: { \"use_label_encoder\" } are not used.\n",
      "\n",
      "  warnings.warn(smsg, UserWarning)\n"
     ]
    },
    {
     "name": "stdout",
     "output_type": "stream",
     "text": [
      "cv\n",
      "individual models\n"
     ]
    },
    {
     "name": "stderr",
     "output_type": "stream",
     "text": [
      "/home/wanlab/nick/.local/lib/python3.8/site-packages/xgboost/core.py:158: UserWarning: [10:37:25] WARNING: /workspace/src/learner.cc:740: \n",
      "Parameters: { \"use_label_encoder\" } are not used.\n",
      "\n",
      "  warnings.warn(smsg, UserWarning)\n"
     ]
    },
    {
     "name": "stdout",
     "output_type": "stream",
     "text": [
      "cv\n",
      "individual models\n"
     ]
    },
    {
     "name": "stderr",
     "output_type": "stream",
     "text": [
      "/home/wanlab/nick/.local/lib/python3.8/site-packages/xgboost/core.py:158: UserWarning: [10:37:36] WARNING: /workspace/src/learner.cc:740: \n",
      "Parameters: { \"use_label_encoder\" } are not used.\n",
      "\n",
      "  warnings.warn(smsg, UserWarning)\n"
     ]
    },
    {
     "name": "stdout",
     "output_type": "stream",
     "text": [
      "cv\n",
      "individual models\n"
     ]
    },
    {
     "name": "stderr",
     "output_type": "stream",
     "text": [
      "/home/wanlab/nick/.local/lib/python3.8/site-packages/xgboost/core.py:158: UserWarning: [10:37:48] WARNING: /workspace/src/learner.cc:740: \n",
      "Parameters: { \"use_label_encoder\" } are not used.\n",
      "\n",
      "  warnings.warn(smsg, UserWarning)\n"
     ]
    },
    {
     "name": "stdout",
     "output_type": "stream",
     "text": [
      "cv\n",
      "individual models\n"
     ]
    },
    {
     "name": "stderr",
     "output_type": "stream",
     "text": [
      "/home/wanlab/nick/.local/lib/python3.8/site-packages/xgboost/core.py:158: UserWarning: [10:37:59] WARNING: /workspace/src/learner.cc:740: \n",
      "Parameters: { \"use_label_encoder\" } are not used.\n",
      "\n",
      "  warnings.warn(smsg, UserWarning)\n"
     ]
    },
    {
     "name": "stdout",
     "output_type": "stream",
     "text": [
      "cv\n",
      "individual models\n"
     ]
    },
    {
     "name": "stderr",
     "output_type": "stream",
     "text": [
      "/home/wanlab/nick/.local/lib/python3.8/site-packages/xgboost/core.py:158: UserWarning: [10:38:11] WARNING: /workspace/src/learner.cc:740: \n",
      "Parameters: { \"use_label_encoder\" } are not used.\n",
      "\n",
      "  warnings.warn(smsg, UserWarning)\n"
     ]
    },
    {
     "name": "stdout",
     "output_type": "stream",
     "text": [
      "cv\n",
      "individual models\n"
     ]
    },
    {
     "name": "stderr",
     "output_type": "stream",
     "text": [
      "/home/wanlab/nick/.local/lib/python3.8/site-packages/xgboost/core.py:158: UserWarning: [10:38:23] WARNING: /workspace/src/learner.cc:740: \n",
      "Parameters: { \"use_label_encoder\" } are not used.\n",
      "\n",
      "  warnings.warn(smsg, UserWarning)\n"
     ]
    },
    {
     "name": "stdout",
     "output_type": "stream",
     "text": [
      "cv\n",
      "individual models\n"
     ]
    },
    {
     "name": "stderr",
     "output_type": "stream",
     "text": [
      "/home/wanlab/nick/.local/lib/python3.8/site-packages/xgboost/core.py:158: UserWarning: [10:38:35] WARNING: /workspace/src/learner.cc:740: \n",
      "Parameters: { \"use_label_encoder\" } are not used.\n",
      "\n",
      "  warnings.warn(smsg, UserWarning)\n"
     ]
    },
    {
     "name": "stdout",
     "output_type": "stream",
     "text": [
      "cv\n",
      "individual models\n"
     ]
    },
    {
     "name": "stderr",
     "output_type": "stream",
     "text": [
      "/home/wanlab/nick/.local/lib/python3.8/site-packages/xgboost/core.py:158: UserWarning: [10:38:47] WARNING: /workspace/src/learner.cc:740: \n",
      "Parameters: { \"use_label_encoder\" } are not used.\n",
      "\n",
      "  warnings.warn(smsg, UserWarning)\n"
     ]
    },
    {
     "name": "stdout",
     "output_type": "stream",
     "text": [
      "cv\n",
      "individual models\n"
     ]
    },
    {
     "name": "stderr",
     "output_type": "stream",
     "text": [
      "/home/wanlab/nick/.local/lib/python3.8/site-packages/xgboost/core.py:158: UserWarning: [10:38:59] WARNING: /workspace/src/learner.cc:740: \n",
      "Parameters: { \"use_label_encoder\" } are not used.\n",
      "\n",
      "  warnings.warn(smsg, UserWarning)\n"
     ]
    },
    {
     "name": "stdout",
     "output_type": "stream",
     "text": [
      "cv\n",
      "individual models\n"
     ]
    },
    {
     "name": "stderr",
     "output_type": "stream",
     "text": [
      "/home/wanlab/nick/.local/lib/python3.8/site-packages/xgboost/core.py:158: UserWarning: [10:39:11] WARNING: /workspace/src/learner.cc:740: \n",
      "Parameters: { \"use_label_encoder\" } are not used.\n",
      "\n",
      "  warnings.warn(smsg, UserWarning)\n"
     ]
    },
    {
     "name": "stdout",
     "output_type": "stream",
     "text": [
      "cv\n",
      "individual models\n"
     ]
    },
    {
     "name": "stderr",
     "output_type": "stream",
     "text": [
      "/home/wanlab/nick/.local/lib/python3.8/site-packages/xgboost/core.py:158: UserWarning: [10:39:23] WARNING: /workspace/src/learner.cc:740: \n",
      "Parameters: { \"use_label_encoder\" } are not used.\n",
      "\n",
      "  warnings.warn(smsg, UserWarning)\n"
     ]
    },
    {
     "name": "stdout",
     "output_type": "stream",
     "text": [
      "cv\n",
      "individual models\n"
     ]
    },
    {
     "name": "stderr",
     "output_type": "stream",
     "text": [
      "/home/wanlab/nick/.local/lib/python3.8/site-packages/xgboost/core.py:158: UserWarning: [10:39:34] WARNING: /workspace/src/learner.cc:740: \n",
      "Parameters: { \"use_label_encoder\" } are not used.\n",
      "\n",
      "  warnings.warn(smsg, UserWarning)\n"
     ]
    },
    {
     "name": "stdout",
     "output_type": "stream",
     "text": [
      "cv\n",
      "individual models\n"
     ]
    },
    {
     "name": "stderr",
     "output_type": "stream",
     "text": [
      "/home/wanlab/nick/.local/lib/python3.8/site-packages/xgboost/core.py:158: UserWarning: [10:39:46] WARNING: /workspace/src/learner.cc:740: \n",
      "Parameters: { \"use_label_encoder\" } are not used.\n",
      "\n",
      "  warnings.warn(smsg, UserWarning)\n"
     ]
    },
    {
     "name": "stdout",
     "output_type": "stream",
     "text": [
      "cv\n",
      "individual models\n"
     ]
    },
    {
     "name": "stderr",
     "output_type": "stream",
     "text": [
      "/home/wanlab/nick/.local/lib/python3.8/site-packages/xgboost/core.py:158: UserWarning: [10:39:57] WARNING: /workspace/src/learner.cc:740: \n",
      "Parameters: { \"use_label_encoder\" } are not used.\n",
      "\n",
      "  warnings.warn(smsg, UserWarning)\n"
     ]
    },
    {
     "name": "stdout",
     "output_type": "stream",
     "text": [
      "cv\n",
      "individual models\n"
     ]
    },
    {
     "name": "stderr",
     "output_type": "stream",
     "text": [
      "/home/wanlab/nick/.local/lib/python3.8/site-packages/xgboost/core.py:158: UserWarning: [10:40:09] WARNING: /workspace/src/learner.cc:740: \n",
      "Parameters: { \"use_label_encoder\" } are not used.\n",
      "\n",
      "  warnings.warn(smsg, UserWarning)\n"
     ]
    },
    {
     "name": "stdout",
     "output_type": "stream",
     "text": [
      "cv\n",
      "individual models\n"
     ]
    },
    {
     "name": "stderr",
     "output_type": "stream",
     "text": [
      "/home/wanlab/nick/.local/lib/python3.8/site-packages/xgboost/core.py:158: UserWarning: [10:40:21] WARNING: /workspace/src/learner.cc:740: \n",
      "Parameters: { \"use_label_encoder\" } are not used.\n",
      "\n",
      "  warnings.warn(smsg, UserWarning)\n"
     ]
    },
    {
     "name": "stdout",
     "output_type": "stream",
     "text": [
      "cv\n",
      "individual models\n"
     ]
    },
    {
     "name": "stderr",
     "output_type": "stream",
     "text": [
      "/home/wanlab/nick/.local/lib/python3.8/site-packages/xgboost/core.py:158: UserWarning: [10:40:32] WARNING: /workspace/src/learner.cc:740: \n",
      "Parameters: { \"use_label_encoder\" } are not used.\n",
      "\n",
      "  warnings.warn(smsg, UserWarning)\n"
     ]
    },
    {
     "name": "stdout",
     "output_type": "stream",
     "text": [
      "cv\n",
      "individual models\n"
     ]
    },
    {
     "name": "stderr",
     "output_type": "stream",
     "text": [
      "/home/wanlab/nick/.local/lib/python3.8/site-packages/xgboost/core.py:158: UserWarning: [10:40:44] WARNING: /workspace/src/learner.cc:740: \n",
      "Parameters: { \"use_label_encoder\" } are not used.\n",
      "\n",
      "  warnings.warn(smsg, UserWarning)\n"
     ]
    },
    {
     "name": "stdout",
     "output_type": "stream",
     "text": [
      "cv\n",
      "individual models\n"
     ]
    },
    {
     "name": "stderr",
     "output_type": "stream",
     "text": [
      "/home/wanlab/nick/.local/lib/python3.8/site-packages/xgboost/core.py:158: UserWarning: [10:40:56] WARNING: /workspace/src/learner.cc:740: \n",
      "Parameters: { \"use_label_encoder\" } are not used.\n",
      "\n",
      "  warnings.warn(smsg, UserWarning)\n"
     ]
    },
    {
     "name": "stdout",
     "output_type": "stream",
     "text": [
      "cv\n",
      "individual models\n"
     ]
    },
    {
     "name": "stderr",
     "output_type": "stream",
     "text": [
      "/home/wanlab/nick/.local/lib/python3.8/site-packages/xgboost/core.py:158: UserWarning: [10:41:07] WARNING: /workspace/src/learner.cc:740: \n",
      "Parameters: { \"use_label_encoder\" } are not used.\n",
      "\n",
      "  warnings.warn(smsg, UserWarning)\n"
     ]
    },
    {
     "name": "stdout",
     "output_type": "stream",
     "text": [
      "cv\n",
      "individual models\n"
     ]
    },
    {
     "name": "stderr",
     "output_type": "stream",
     "text": [
      "/home/wanlab/nick/.local/lib/python3.8/site-packages/xgboost/core.py:158: UserWarning: [10:41:19] WARNING: /workspace/src/learner.cc:740: \n",
      "Parameters: { \"use_label_encoder\" } are not used.\n",
      "\n",
      "  warnings.warn(smsg, UserWarning)\n"
     ]
    },
    {
     "name": "stdout",
     "output_type": "stream",
     "text": [
      "cv\n",
      "individual models\n"
     ]
    },
    {
     "name": "stderr",
     "output_type": "stream",
     "text": [
      "/home/wanlab/nick/.local/lib/python3.8/site-packages/xgboost/core.py:158: UserWarning: [10:41:30] WARNING: /workspace/src/learner.cc:740: \n",
      "Parameters: { \"use_label_encoder\" } are not used.\n",
      "\n",
      "  warnings.warn(smsg, UserWarning)\n"
     ]
    },
    {
     "name": "stdout",
     "output_type": "stream",
     "text": [
      "cv\n",
      "individual models\n"
     ]
    },
    {
     "name": "stderr",
     "output_type": "stream",
     "text": [
      "/home/wanlab/nick/.local/lib/python3.8/site-packages/xgboost/core.py:158: UserWarning: [10:41:42] WARNING: /workspace/src/learner.cc:740: \n",
      "Parameters: { \"use_label_encoder\" } are not used.\n",
      "\n",
      "  warnings.warn(smsg, UserWarning)\n"
     ]
    },
    {
     "name": "stdout",
     "output_type": "stream",
     "text": [
      "cv\n",
      "individual models\n"
     ]
    },
    {
     "name": "stderr",
     "output_type": "stream",
     "text": [
      "/home/wanlab/nick/.local/lib/python3.8/site-packages/xgboost/core.py:158: UserWarning: [10:41:54] WARNING: /workspace/src/learner.cc:740: \n",
      "Parameters: { \"use_label_encoder\" } are not used.\n",
      "\n",
      "  warnings.warn(smsg, UserWarning)\n"
     ]
    },
    {
     "name": "stdout",
     "output_type": "stream",
     "text": [
      "cv\n",
      "individual models\n"
     ]
    },
    {
     "name": "stderr",
     "output_type": "stream",
     "text": [
      "/home/wanlab/nick/.local/lib/python3.8/site-packages/xgboost/core.py:158: UserWarning: [10:42:06] WARNING: /workspace/src/learner.cc:740: \n",
      "Parameters: { \"use_label_encoder\" } are not used.\n",
      "\n",
      "  warnings.warn(smsg, UserWarning)\n"
     ]
    },
    {
     "name": "stdout",
     "output_type": "stream",
     "text": [
      "cv\n",
      "individual models\n"
     ]
    },
    {
     "name": "stderr",
     "output_type": "stream",
     "text": [
      "/home/wanlab/nick/.local/lib/python3.8/site-packages/xgboost/core.py:158: UserWarning: [10:42:17] WARNING: /workspace/src/learner.cc:740: \n",
      "Parameters: { \"use_label_encoder\" } are not used.\n",
      "\n",
      "  warnings.warn(smsg, UserWarning)\n"
     ]
    },
    {
     "name": "stdout",
     "output_type": "stream",
     "text": [
      "cv\n",
      "individual models\n"
     ]
    },
    {
     "name": "stderr",
     "output_type": "stream",
     "text": [
      "/home/wanlab/nick/.local/lib/python3.8/site-packages/xgboost/core.py:158: UserWarning: [10:42:29] WARNING: /workspace/src/learner.cc:740: \n",
      "Parameters: { \"use_label_encoder\" } are not used.\n",
      "\n",
      "  warnings.warn(smsg, UserWarning)\n"
     ]
    },
    {
     "name": "stdout",
     "output_type": "stream",
     "text": [
      "cv\n",
      "individual models\n"
     ]
    },
    {
     "name": "stderr",
     "output_type": "stream",
     "text": [
      "/home/wanlab/nick/.local/lib/python3.8/site-packages/xgboost/core.py:158: UserWarning: [10:42:40] WARNING: /workspace/src/learner.cc:740: \n",
      "Parameters: { \"use_label_encoder\" } are not used.\n",
      "\n",
      "  warnings.warn(smsg, UserWarning)\n"
     ]
    },
    {
     "name": "stdout",
     "output_type": "stream",
     "text": [
      "cv\n",
      "individual models\n"
     ]
    },
    {
     "name": "stderr",
     "output_type": "stream",
     "text": [
      "/home/wanlab/nick/.local/lib/python3.8/site-packages/xgboost/core.py:158: UserWarning: [10:42:51] WARNING: /workspace/src/learner.cc:740: \n",
      "Parameters: { \"use_label_encoder\" } are not used.\n",
      "\n",
      "  warnings.warn(smsg, UserWarning)\n"
     ]
    },
    {
     "name": "stdout",
     "output_type": "stream",
     "text": [
      "cv\n",
      "individual models\n"
     ]
    },
    {
     "name": "stderr",
     "output_type": "stream",
     "text": [
      "/home/wanlab/nick/.local/lib/python3.8/site-packages/xgboost/core.py:158: UserWarning: [10:43:03] WARNING: /workspace/src/learner.cc:740: \n",
      "Parameters: { \"use_label_encoder\" } are not used.\n",
      "\n",
      "  warnings.warn(smsg, UserWarning)\n"
     ]
    },
    {
     "name": "stdout",
     "output_type": "stream",
     "text": [
      "cv\n",
      "individual models\n"
     ]
    },
    {
     "name": "stderr",
     "output_type": "stream",
     "text": [
      "/home/wanlab/nick/.local/lib/python3.8/site-packages/xgboost/core.py:158: UserWarning: [10:43:14] WARNING: /workspace/src/learner.cc:740: \n",
      "Parameters: { \"use_label_encoder\" } are not used.\n",
      "\n",
      "  warnings.warn(smsg, UserWarning)\n"
     ]
    },
    {
     "name": "stdout",
     "output_type": "stream",
     "text": [
      "cv\n",
      "individual models\n"
     ]
    },
    {
     "name": "stderr",
     "output_type": "stream",
     "text": [
      "/home/wanlab/nick/.local/lib/python3.8/site-packages/xgboost/core.py:158: UserWarning: [10:43:26] WARNING: /workspace/src/learner.cc:740: \n",
      "Parameters: { \"use_label_encoder\" } are not used.\n",
      "\n",
      "  warnings.warn(smsg, UserWarning)\n"
     ]
    },
    {
     "name": "stdout",
     "output_type": "stream",
     "text": [
      "cv\n",
      "individual models\n"
     ]
    },
    {
     "name": "stderr",
     "output_type": "stream",
     "text": [
      "/home/wanlab/nick/.local/lib/python3.8/site-packages/xgboost/core.py:158: UserWarning: [10:43:40] WARNING: /workspace/src/learner.cc:740: \n",
      "Parameters: { \"use_label_encoder\" } are not used.\n",
      "\n",
      "  warnings.warn(smsg, UserWarning)\n"
     ]
    },
    {
     "name": "stdout",
     "output_type": "stream",
     "text": [
      "cv\n",
      "individual models\n"
     ]
    },
    {
     "name": "stderr",
     "output_type": "stream",
     "text": [
      "/home/wanlab/nick/.local/lib/python3.8/site-packages/xgboost/core.py:158: UserWarning: [10:43:51] WARNING: /workspace/src/learner.cc:740: \n",
      "Parameters: { \"use_label_encoder\" } are not used.\n",
      "\n",
      "  warnings.warn(smsg, UserWarning)\n"
     ]
    },
    {
     "name": "stdout",
     "output_type": "stream",
     "text": [
      "cv\n",
      "individual models\n"
     ]
    },
    {
     "name": "stderr",
     "output_type": "stream",
     "text": [
      "/home/wanlab/nick/.local/lib/python3.8/site-packages/xgboost/core.py:158: UserWarning: [10:44:03] WARNING: /workspace/src/learner.cc:740: \n",
      "Parameters: { \"use_label_encoder\" } are not used.\n",
      "\n",
      "  warnings.warn(smsg, UserWarning)\n"
     ]
    },
    {
     "name": "stdout",
     "output_type": "stream",
     "text": [
      "cv\n",
      "individual models\n"
     ]
    },
    {
     "name": "stderr",
     "output_type": "stream",
     "text": [
      "/home/wanlab/nick/.local/lib/python3.8/site-packages/xgboost/core.py:158: UserWarning: [10:44:14] WARNING: /workspace/src/learner.cc:740: \n",
      "Parameters: { \"use_label_encoder\" } are not used.\n",
      "\n",
      "  warnings.warn(smsg, UserWarning)\n"
     ]
    },
    {
     "name": "stdout",
     "output_type": "stream",
     "text": [
      "cv\n",
      "individual models\n"
     ]
    },
    {
     "name": "stderr",
     "output_type": "stream",
     "text": [
      "/home/wanlab/nick/.local/lib/python3.8/site-packages/xgboost/core.py:158: UserWarning: [10:44:26] WARNING: /workspace/src/learner.cc:740: \n",
      "Parameters: { \"use_label_encoder\" } are not used.\n",
      "\n",
      "  warnings.warn(smsg, UserWarning)\n"
     ]
    },
    {
     "name": "stdout",
     "output_type": "stream",
     "text": [
      "cv\n",
      "individual models\n"
     ]
    },
    {
     "name": "stderr",
     "output_type": "stream",
     "text": [
      "/home/wanlab/nick/.local/lib/python3.8/site-packages/xgboost/core.py:158: UserWarning: [10:44:38] WARNING: /workspace/src/learner.cc:740: \n",
      "Parameters: { \"use_label_encoder\" } are not used.\n",
      "\n",
      "  warnings.warn(smsg, UserWarning)\n"
     ]
    },
    {
     "name": "stdout",
     "output_type": "stream",
     "text": [
      "cv\n",
      "individual models\n"
     ]
    },
    {
     "name": "stderr",
     "output_type": "stream",
     "text": [
      "/home/wanlab/nick/.local/lib/python3.8/site-packages/xgboost/core.py:158: UserWarning: [10:44:50] WARNING: /workspace/src/learner.cc:740: \n",
      "Parameters: { \"use_label_encoder\" } are not used.\n",
      "\n",
      "  warnings.warn(smsg, UserWarning)\n"
     ]
    },
    {
     "name": "stdout",
     "output_type": "stream",
     "text": [
      "cv\n",
      "individual models\n"
     ]
    },
    {
     "name": "stderr",
     "output_type": "stream",
     "text": [
      "/home/wanlab/nick/.local/lib/python3.8/site-packages/xgboost/core.py:158: UserWarning: [10:45:01] WARNING: /workspace/src/learner.cc:740: \n",
      "Parameters: { \"use_label_encoder\" } are not used.\n",
      "\n",
      "  warnings.warn(smsg, UserWarning)\n"
     ]
    },
    {
     "name": "stdout",
     "output_type": "stream",
     "text": [
      "cv\n",
      "individual models\n"
     ]
    },
    {
     "name": "stderr",
     "output_type": "stream",
     "text": [
      "/home/wanlab/nick/.local/lib/python3.8/site-packages/xgboost/core.py:158: UserWarning: [10:45:13] WARNING: /workspace/src/learner.cc:740: \n",
      "Parameters: { \"use_label_encoder\" } are not used.\n",
      "\n",
      "  warnings.warn(smsg, UserWarning)\n"
     ]
    },
    {
     "name": "stdout",
     "output_type": "stream",
     "text": [
      "cv\n",
      "individual models\n"
     ]
    },
    {
     "name": "stderr",
     "output_type": "stream",
     "text": [
      "/home/wanlab/nick/.local/lib/python3.8/site-packages/xgboost/core.py:158: UserWarning: [10:45:25] WARNING: /workspace/src/learner.cc:740: \n",
      "Parameters: { \"use_label_encoder\" } are not used.\n",
      "\n",
      "  warnings.warn(smsg, UserWarning)\n"
     ]
    },
    {
     "name": "stdout",
     "output_type": "stream",
     "text": [
      "cv\n",
      "individual models\n"
     ]
    },
    {
     "name": "stderr",
     "output_type": "stream",
     "text": [
      "/home/wanlab/nick/.local/lib/python3.8/site-packages/xgboost/core.py:158: UserWarning: [10:45:38] WARNING: /workspace/src/learner.cc:740: \n",
      "Parameters: { \"use_label_encoder\" } are not used.\n",
      "\n",
      "  warnings.warn(smsg, UserWarning)\n"
     ]
    },
    {
     "name": "stdout",
     "output_type": "stream",
     "text": [
      "cv\n",
      "individual models\n"
     ]
    },
    {
     "name": "stderr",
     "output_type": "stream",
     "text": [
      "/home/wanlab/nick/.local/lib/python3.8/site-packages/xgboost/core.py:158: UserWarning: [10:45:50] WARNING: /workspace/src/learner.cc:740: \n",
      "Parameters: { \"use_label_encoder\" } are not used.\n",
      "\n",
      "  warnings.warn(smsg, UserWarning)\n"
     ]
    },
    {
     "name": "stdout",
     "output_type": "stream",
     "text": [
      "cv\n",
      "individual models\n"
     ]
    },
    {
     "name": "stderr",
     "output_type": "stream",
     "text": [
      "/home/wanlab/nick/.local/lib/python3.8/site-packages/xgboost/core.py:158: UserWarning: [10:46:01] WARNING: /workspace/src/learner.cc:740: \n",
      "Parameters: { \"use_label_encoder\" } are not used.\n",
      "\n",
      "  warnings.warn(smsg, UserWarning)\n"
     ]
    },
    {
     "name": "stdout",
     "output_type": "stream",
     "text": [
      "cv\n",
      "individual models\n"
     ]
    },
    {
     "name": "stderr",
     "output_type": "stream",
     "text": [
      "/home/wanlab/nick/.local/lib/python3.8/site-packages/xgboost/core.py:158: UserWarning: [10:46:13] WARNING: /workspace/src/learner.cc:740: \n",
      "Parameters: { \"use_label_encoder\" } are not used.\n",
      "\n",
      "  warnings.warn(smsg, UserWarning)\n"
     ]
    },
    {
     "name": "stdout",
     "output_type": "stream",
     "text": [
      "cv\n",
      "individual models\n"
     ]
    },
    {
     "name": "stderr",
     "output_type": "stream",
     "text": [
      "/home/wanlab/nick/.local/lib/python3.8/site-packages/xgboost/core.py:158: UserWarning: [10:46:25] WARNING: /workspace/src/learner.cc:740: \n",
      "Parameters: { \"use_label_encoder\" } are not used.\n",
      "\n",
      "  warnings.warn(smsg, UserWarning)\n"
     ]
    },
    {
     "name": "stdout",
     "output_type": "stream",
     "text": [
      "cv\n",
      "individual models\n"
     ]
    },
    {
     "name": "stderr",
     "output_type": "stream",
     "text": [
      "/home/wanlab/nick/.local/lib/python3.8/site-packages/xgboost/core.py:158: UserWarning: [10:46:36] WARNING: /workspace/src/learner.cc:740: \n",
      "Parameters: { \"use_label_encoder\" } are not used.\n",
      "\n",
      "  warnings.warn(smsg, UserWarning)\n"
     ]
    },
    {
     "name": "stdout",
     "output_type": "stream",
     "text": [
      "cv\n",
      "individual models\n"
     ]
    },
    {
     "name": "stderr",
     "output_type": "stream",
     "text": [
      "/home/wanlab/nick/.local/lib/python3.8/site-packages/xgboost/core.py:158: UserWarning: [10:46:48] WARNING: /workspace/src/learner.cc:740: \n",
      "Parameters: { \"use_label_encoder\" } are not used.\n",
      "\n",
      "  warnings.warn(smsg, UserWarning)\n"
     ]
    },
    {
     "name": "stdout",
     "output_type": "stream",
     "text": [
      "cv\n",
      "individual models\n"
     ]
    },
    {
     "name": "stderr",
     "output_type": "stream",
     "text": [
      "/home/wanlab/nick/.local/lib/python3.8/site-packages/xgboost/core.py:158: UserWarning: [10:47:00] WARNING: /workspace/src/learner.cc:740: \n",
      "Parameters: { \"use_label_encoder\" } are not used.\n",
      "\n",
      "  warnings.warn(smsg, UserWarning)\n"
     ]
    },
    {
     "name": "stdout",
     "output_type": "stream",
     "text": [
      "cv\n",
      "individual models\n"
     ]
    },
    {
     "name": "stderr",
     "output_type": "stream",
     "text": [
      "/home/wanlab/nick/.local/lib/python3.8/site-packages/xgboost/core.py:158: UserWarning: [10:47:12] WARNING: /workspace/src/learner.cc:740: \n",
      "Parameters: { \"use_label_encoder\" } are not used.\n",
      "\n",
      "  warnings.warn(smsg, UserWarning)\n"
     ]
    },
    {
     "name": "stdout",
     "output_type": "stream",
     "text": [
      "cv\n",
      "individual models\n"
     ]
    },
    {
     "name": "stderr",
     "output_type": "stream",
     "text": [
      "/home/wanlab/nick/.local/lib/python3.8/site-packages/xgboost/core.py:158: UserWarning: [10:47:23] WARNING: /workspace/src/learner.cc:740: \n",
      "Parameters: { \"use_label_encoder\" } are not used.\n",
      "\n",
      "  warnings.warn(smsg, UserWarning)\n"
     ]
    },
    {
     "name": "stdout",
     "output_type": "stream",
     "text": [
      "cv\n",
      "individual models\n"
     ]
    },
    {
     "name": "stderr",
     "output_type": "stream",
     "text": [
      "/home/wanlab/nick/.local/lib/python3.8/site-packages/xgboost/core.py:158: UserWarning: [10:47:35] WARNING: /workspace/src/learner.cc:740: \n",
      "Parameters: { \"use_label_encoder\" } are not used.\n",
      "\n",
      "  warnings.warn(smsg, UserWarning)\n"
     ]
    },
    {
     "name": "stdout",
     "output_type": "stream",
     "text": [
      "cv\n",
      "individual models\n"
     ]
    },
    {
     "name": "stderr",
     "output_type": "stream",
     "text": [
      "/home/wanlab/nick/.local/lib/python3.8/site-packages/xgboost/core.py:158: UserWarning: [10:47:47] WARNING: /workspace/src/learner.cc:740: \n",
      "Parameters: { \"use_label_encoder\" } are not used.\n",
      "\n",
      "  warnings.warn(smsg, UserWarning)\n"
     ]
    },
    {
     "name": "stdout",
     "output_type": "stream",
     "text": [
      "cv\n",
      "individual models\n"
     ]
    },
    {
     "name": "stderr",
     "output_type": "stream",
     "text": [
      "/home/wanlab/nick/.local/lib/python3.8/site-packages/xgboost/core.py:158: UserWarning: [10:47:58] WARNING: /workspace/src/learner.cc:740: \n",
      "Parameters: { \"use_label_encoder\" } are not used.\n",
      "\n",
      "  warnings.warn(smsg, UserWarning)\n"
     ]
    },
    {
     "name": "stdout",
     "output_type": "stream",
     "text": [
      "cv\n",
      "individual models\n"
     ]
    },
    {
     "name": "stderr",
     "output_type": "stream",
     "text": [
      "/home/wanlab/nick/.local/lib/python3.8/site-packages/xgboost/core.py:158: UserWarning: [10:48:11] WARNING: /workspace/src/learner.cc:740: \n",
      "Parameters: { \"use_label_encoder\" } are not used.\n",
      "\n",
      "  warnings.warn(smsg, UserWarning)\n"
     ]
    },
    {
     "name": "stdout",
     "output_type": "stream",
     "text": [
      "cv\n",
      "individual models\n"
     ]
    },
    {
     "name": "stderr",
     "output_type": "stream",
     "text": [
      "/home/wanlab/nick/.local/lib/python3.8/site-packages/xgboost/core.py:158: UserWarning: [10:48:22] WARNING: /workspace/src/learner.cc:740: \n",
      "Parameters: { \"use_label_encoder\" } are not used.\n",
      "\n",
      "  warnings.warn(smsg, UserWarning)\n"
     ]
    },
    {
     "name": "stdout",
     "output_type": "stream",
     "text": [
      "cv\n",
      "individual models\n"
     ]
    },
    {
     "name": "stderr",
     "output_type": "stream",
     "text": [
      "/home/wanlab/nick/.local/lib/python3.8/site-packages/xgboost/core.py:158: UserWarning: [10:48:34] WARNING: /workspace/src/learner.cc:740: \n",
      "Parameters: { \"use_label_encoder\" } are not used.\n",
      "\n",
      "  warnings.warn(smsg, UserWarning)\n"
     ]
    },
    {
     "name": "stdout",
     "output_type": "stream",
     "text": [
      "cv\n",
      "individual models\n"
     ]
    },
    {
     "name": "stderr",
     "output_type": "stream",
     "text": [
      "/home/wanlab/nick/.local/lib/python3.8/site-packages/xgboost/core.py:158: UserWarning: [10:48:45] WARNING: /workspace/src/learner.cc:740: \n",
      "Parameters: { \"use_label_encoder\" } are not used.\n",
      "\n",
      "  warnings.warn(smsg, UserWarning)\n"
     ]
    },
    {
     "name": "stdout",
     "output_type": "stream",
     "text": [
      "cv\n",
      "individual models\n"
     ]
    },
    {
     "name": "stderr",
     "output_type": "stream",
     "text": [
      "/home/wanlab/nick/.local/lib/python3.8/site-packages/xgboost/core.py:158: UserWarning: [10:48:57] WARNING: /workspace/src/learner.cc:740: \n",
      "Parameters: { \"use_label_encoder\" } are not used.\n",
      "\n",
      "  warnings.warn(smsg, UserWarning)\n"
     ]
    },
    {
     "name": "stdout",
     "output_type": "stream",
     "text": [
      "cv\n",
      "individual models\n"
     ]
    },
    {
     "name": "stderr",
     "output_type": "stream",
     "text": [
      "/home/wanlab/nick/.local/lib/python3.8/site-packages/xgboost/core.py:158: UserWarning: [10:49:09] WARNING: /workspace/src/learner.cc:740: \n",
      "Parameters: { \"use_label_encoder\" } are not used.\n",
      "\n",
      "  warnings.warn(smsg, UserWarning)\n"
     ]
    },
    {
     "name": "stdout",
     "output_type": "stream",
     "text": [
      "cv\n",
      "individual models\n"
     ]
    },
    {
     "name": "stderr",
     "output_type": "stream",
     "text": [
      "/home/wanlab/nick/.local/lib/python3.8/site-packages/xgboost/core.py:158: UserWarning: [10:49:20] WARNING: /workspace/src/learner.cc:740: \n",
      "Parameters: { \"use_label_encoder\" } are not used.\n",
      "\n",
      "  warnings.warn(smsg, UserWarning)\n"
     ]
    },
    {
     "name": "stdout",
     "output_type": "stream",
     "text": [
      "cv\n",
      "individual models\n"
     ]
    },
    {
     "name": "stderr",
     "output_type": "stream",
     "text": [
      "/home/wanlab/nick/.local/lib/python3.8/site-packages/xgboost/core.py:158: UserWarning: [10:49:32] WARNING: /workspace/src/learner.cc:740: \n",
      "Parameters: { \"use_label_encoder\" } are not used.\n",
      "\n",
      "  warnings.warn(smsg, UserWarning)\n"
     ]
    },
    {
     "name": "stdout",
     "output_type": "stream",
     "text": [
      "cv\n",
      "individual models\n"
     ]
    },
    {
     "name": "stderr",
     "output_type": "stream",
     "text": [
      "/home/wanlab/nick/.local/lib/python3.8/site-packages/xgboost/core.py:158: UserWarning: [10:49:43] WARNING: /workspace/src/learner.cc:740: \n",
      "Parameters: { \"use_label_encoder\" } are not used.\n",
      "\n",
      "  warnings.warn(smsg, UserWarning)\n"
     ]
    },
    {
     "name": "stdout",
     "output_type": "stream",
     "text": [
      "cv\n",
      "individual models\n"
     ]
    },
    {
     "name": "stderr",
     "output_type": "stream",
     "text": [
      "/home/wanlab/nick/.local/lib/python3.8/site-packages/xgboost/core.py:158: UserWarning: [10:49:55] WARNING: /workspace/src/learner.cc:740: \n",
      "Parameters: { \"use_label_encoder\" } are not used.\n",
      "\n",
      "  warnings.warn(smsg, UserWarning)\n"
     ]
    },
    {
     "name": "stdout",
     "output_type": "stream",
     "text": [
      "cv\n",
      "individual models\n"
     ]
    },
    {
     "name": "stderr",
     "output_type": "stream",
     "text": [
      "/home/wanlab/nick/.local/lib/python3.8/site-packages/xgboost/core.py:158: UserWarning: [10:50:07] WARNING: /workspace/src/learner.cc:740: \n",
      "Parameters: { \"use_label_encoder\" } are not used.\n",
      "\n",
      "  warnings.warn(smsg, UserWarning)\n"
     ]
    },
    {
     "name": "stdout",
     "output_type": "stream",
     "text": [
      "cv\n",
      "\n",
      "model score of oof results for SVC\n",
      "Model Accuracy: 0.875\n",
      "Precision: 0.8798649267399267\n",
      "Recall (Sensitivity): 0.875\n",
      "F1 Score: 0.8751610313936894\n",
      "Matthews Correlation Coefficient (MCC): 0.8329181448543629\n",
      "G-Measure: 0.9162567046538834\n",
      "AUC: 0.9885181591442596\n",
      "Specificity: 0.9582719803670507\n",
      "Jaccard Index: 0.7779538993943889\n",
      "Saving metrics to: /work/wanlab/nick//stackeval4/val_data/individual models/SVC/limma(0),metrics.csv\n",
      "PREDICTIONS                   subtype  Squamous      ADEX  Pancreatic Progenitor  \\\n",
      "0   Pancreatic Progenitor  0.103859  0.033940               0.833073   \n",
      "1                    ADEX  0.040514  0.895463               0.021082   \n",
      "2   Pancreatic Progenitor  0.249514  0.199614               0.519583   \n",
      "3   Pancreatic Progenitor  0.006995  0.056803               0.899615   \n",
      "4                    ADEX  0.144111  0.667177               0.161602   \n",
      "..                    ...       ...       ...                    ...   \n",
      "91            Immunogenic  0.006816  0.051545               0.007561   \n",
      "92                   ADEX  0.010196  0.740529               0.192767   \n",
      "93            Immunogenic  0.041056  0.041113               0.388574   \n",
      "94               Squamous  0.614132  0.061061               0.295152   \n",
      "95  Pancreatic Progenitor  0.001720  0.013108               0.895190   \n",
      "\n",
      "    Immunogenic  \n",
      "0      0.029127  \n",
      "1      0.042942  \n",
      "2      0.031289  \n",
      "3      0.036587  \n",
      "4      0.027110  \n",
      "..          ...  \n",
      "91     0.934079  \n",
      "92     0.056507  \n",
      "93     0.529256  \n",
      "94     0.029655  \n",
      "95     0.089983  \n",
      "\n",
      "[96 rows x 5 columns]\n",
      "\n",
      "model score of oof results for SVC2\n",
      "Model Accuracy: 0.9375\n",
      "Precision: 0.9378672542735043\n",
      "Recall (Sensitivity): 0.9375\n",
      "F1 Score: 0.9374874949979993\n",
      "Matthews Correlation Coefficient (MCC): 0.9155529545059609\n",
      "G-Measure: 0.9579504330083998\n",
      "AUC: 0.9861980833866837\n",
      "Specificity: 0.9787358621425523\n",
      "Jaccard Index: 0.882714303670186\n",
      "Saving metrics to: /work/wanlab/nick//stackeval4/val_data/individual models/SVC2/limma(0),metrics.csv\n",
      "PREDICTIONS                   subtype  Squamous      ADEX  Pancreatic Progenitor  \\\n",
      "0   Pancreatic Progenitor  0.180088  0.042748               0.740318   \n",
      "1                    ADEX  0.088856  0.796103               0.036232   \n",
      "2   Pancreatic Progenitor  0.333491  0.164900               0.462281   \n",
      "3   Pancreatic Progenitor  0.018160  0.065032               0.854255   \n",
      "4                    ADEX  0.250888  0.471290               0.240994   \n",
      "..                    ...       ...       ...                    ...   \n",
      "91            Immunogenic  0.020190  0.098515               0.016135   \n",
      "92                   ADEX  0.027377  0.793365               0.100342   \n",
      "93            Immunogenic  0.067587  0.022646               0.700089   \n",
      "94               Squamous  0.573094  0.025018               0.387035   \n",
      "95  Pancreatic Progenitor  0.003743  0.023801               0.771441   \n",
      "\n",
      "    Immunogenic  \n",
      "0      0.036846  \n",
      "1      0.078810  \n",
      "2      0.039328  \n",
      "3      0.062553  \n",
      "4      0.036827  \n",
      "..          ...  \n",
      "91     0.865160  \n",
      "92     0.078916  \n",
      "93     0.209677  \n",
      "94     0.014853  \n",
      "95     0.201015  \n",
      "\n",
      "[96 rows x 5 columns]\n",
      "\n",
      "model score of oof results for GaussianNB\n",
      "Model Accuracy: 0.8020833333333334\n",
      "Precision: 0.8112185846560847\n",
      "Recall (Sensitivity): 0.8020833333333334\n",
      "F1 Score: 0.7952737132588884\n",
      "Matthews Correlation Coefficient (MCC): 0.7333724224567384\n",
      "G-Measure: 0.8403667059102383\n",
      "AUC: 0.9361885803457106\n",
      "Specificity: 0.9310939500640205\n",
      "Jaccard Index: 0.648394185260311\n",
      "Saving metrics to: /work/wanlab/nick//stackeval4/val_data/individual models/GaussianNB/limma(0),metrics.csv\n",
      "PREDICTIONS                   subtype  Squamous           ADEX  Pancreatic Progenitor  \\\n",
      "0   Pancreatic Progenitor       0.0  1.482197e-323           1.000000e+00   \n",
      "1                    ADEX       0.0   1.000000e+00          1.346905e-266   \n",
      "2   Pancreatic Progenitor       0.0  6.020797e-100           1.000000e+00   \n",
      "3   Pancreatic Progenitor       0.0   0.000000e+00           1.000000e+00   \n",
      "4                    ADEX       0.0  1.694739e-118           1.000000e+00   \n",
      "..                    ...       ...            ...                    ...   \n",
      "91            Immunogenic       0.0   0.000000e+00           0.000000e+00   \n",
      "92                   ADEX       0.0   8.249520e-66           1.000000e+00   \n",
      "93            Immunogenic       0.0   0.000000e+00           7.728747e-43   \n",
      "94               Squamous       1.0   3.793719e-08           0.000000e+00   \n",
      "95  Pancreatic Progenitor       0.0   0.000000e+00           1.000000e+00   \n",
      "\n",
      "      Immunogenic  \n",
      "0    0.000000e+00  \n",
      "1   1.591372e-184  \n",
      "2    0.000000e+00  \n",
      "3    0.000000e+00  \n",
      "4   7.139117e-233  \n",
      "..            ...  \n",
      "91   1.000000e+00  \n",
      "92  1.307750e-236  \n",
      "93   1.000000e+00  \n",
      "94   0.000000e+00  \n",
      "95   0.000000e+00  \n",
      "\n",
      "[96 rows x 5 columns]\n",
      "\n",
      "model score of oof results for XGBClassifier\n",
      "Model Accuracy: 0.8958333333333334\n",
      "Precision: 0.8980353036908744\n",
      "Recall (Sensitivity): 0.8958333333333334\n",
      "F1 Score: 0.8939833840972847\n",
      "Matthews Correlation Coefficient (MCC): 0.8599347653521981\n",
      "G-Measure: 0.9191232154034474\n",
      "AUC: 0.980168487249253\n",
      "Specificity: 0.9643846030729835\n",
      "Jaccard Index: 0.7975085541008462\n",
      "Saving metrics to: /work/wanlab/nick//stackeval4/val_data/individual models/XGBClassifier/limma(0),metrics.csv\n",
      "PREDICTIONS                   subtype  Squamous      ADEX  Pancreatic Progenitor  \\\n",
      "0   Pancreatic Progenitor  0.010496  0.004265               0.979689   \n",
      "1                    ADEX  0.009075  0.971340               0.010060   \n",
      "2   Pancreatic Progenitor  0.324684  0.116739               0.423451   \n",
      "3   Pancreatic Progenitor  0.035251  0.015652               0.932271   \n",
      "4                    ADEX  0.019062  0.938530               0.032673   \n",
      "..                    ...       ...       ...                    ...   \n",
      "91            Immunogenic  0.003353  0.144402               0.006780   \n",
      "92                   ADEX  0.085751  0.291449               0.230912   \n",
      "93            Immunogenic  0.006942  0.004306               0.017895   \n",
      "94               Squamous  0.557425  0.083944               0.236529   \n",
      "95  Pancreatic Progenitor  0.076111  0.088864               0.516777   \n",
      "\n",
      "    Immunogenic  \n",
      "0      0.005550  \n",
      "1      0.009525  \n",
      "2      0.135126  \n",
      "3      0.016826  \n",
      "4      0.009735  \n",
      "..          ...  \n",
      "91     0.845465  \n",
      "92     0.391888  \n",
      "93     0.970856  \n",
      "94     0.122102  \n",
      "95     0.318248  \n",
      "\n",
      "[96 rows x 5 columns]\n",
      "运行时间为: 1121.98 秒\n",
      "combining [[0.10385892 0.03394035 0.83307348 ... 0.004265   0.97968882 0.00555017]\n",
      " [0.04051393 0.89546301 0.02108153 ... 0.97134036 0.01005994 0.00952453]\n",
      " [0.24951361 0.19961374 0.51958343 ... 0.11673886 0.42345148 0.13512553]\n",
      " ...\n",
      " [0.04105649 0.04111322 0.3885743  ... 0.00430637 0.01789468 0.97085649]\n",
      " [0.61413166 0.06106098 0.29515205 ... 0.08394366 0.23652914 0.1221018 ]\n",
      " [0.00171979 0.01310784 0.89518973 ... 0.08886395 0.51677722 0.31824797]] [[13.56018914 12.68466835 13.10243664 ...  9.53005478 11.16103308\n",
      "  11.24920229]\n",
      " [15.4259582  14.08525845 12.01110512 ...  9.45622747 11.12707631\n",
      "  11.78331935]\n",
      " [14.4756837  13.26517897 12.82291838 ...  9.65623065 11.33179862\n",
      "  11.68015036]\n",
      " ...\n",
      " [14.28976923 13.62192201 12.67277184 ...  9.32578912  9.67174085\n",
      "  11.45401981]\n",
      " [14.71684472 13.81278796 13.58508909 ... 10.31590684 12.7838795\n",
      "  11.90067493]\n",
      " [14.18823419 12.92657629 11.70868561 ...  9.88942006  9.76636631\n",
      "  12.84604452]]\n",
      "stacked\n",
      "cv\n",
      "stacked\n",
      "cv\n",
      "stacked\n",
      "cv\n",
      "stacked\n",
      "cv\n",
      "stacked\n",
      "cv\n",
      "stacked\n",
      "cv\n",
      "stacked\n",
      "cv\n",
      "stacked\n",
      "cv\n",
      "stacked\n",
      "cv\n",
      "stacked\n",
      "cv\n",
      "stacked\n",
      "cv\n",
      "stacked\n",
      "cv\n",
      "stacked\n",
      "cv\n",
      "stacked\n",
      "cv\n",
      "stacked\n",
      "cv\n",
      "stacked\n",
      "cv\n",
      "stacked\n",
      "cv\n",
      "stacked\n",
      "cv\n",
      "stacked\n",
      "cv\n",
      "stacked\n",
      "cv\n",
      "stacked\n",
      "cv\n",
      "stacked\n",
      "cv\n",
      "stacked\n",
      "cv\n",
      "stacked\n",
      "cv\n",
      "stacked\n",
      "cv\n",
      "stacked\n",
      "cv\n",
      "stacked\n",
      "cv\n",
      "stacked\n",
      "cv\n",
      "stacked\n",
      "cv\n",
      "stacked\n",
      "cv\n",
      "stacked\n",
      "cv\n",
      "stacked\n",
      "cv\n",
      "stacked\n",
      "cv\n",
      "stacked\n",
      "cv\n",
      "stacked\n",
      "cv\n",
      "stacked\n",
      "cv\n",
      "stacked\n",
      "cv\n",
      "stacked\n",
      "cv\n",
      "stacked\n",
      "cv\n",
      "stacked\n",
      "cv\n",
      "stacked\n",
      "cv\n",
      "stacked\n",
      "cv\n",
      "stacked\n",
      "cv\n",
      "stacked\n",
      "cv\n",
      "stacked\n",
      "cv\n",
      "stacked\n",
      "cv\n",
      "stacked\n",
      "cv\n",
      "stacked\n",
      "cv\n",
      "stacked\n",
      "cv\n",
      "stacked\n",
      "cv\n",
      "stacked\n",
      "cv\n",
      "stacked\n",
      "cv\n",
      "stacked\n",
      "cv\n",
      "stacked\n",
      "cv\n",
      "stacked\n",
      "cv\n",
      "stacked\n",
      "cv\n",
      "stacked\n",
      "cv\n",
      "stacked\n",
      "cv\n",
      "stacked\n",
      "cv\n",
      "stacked\n",
      "cv\n",
      "stacked\n",
      "cv\n",
      "stacked\n",
      "cv\n",
      "stacked\n",
      "cv\n",
      "stacked\n",
      "cv\n",
      "stacked\n",
      "cv\n",
      "stacked\n",
      "cv\n",
      "stacked\n",
      "cv\n",
      "stacked\n",
      "cv\n",
      "stacked\n",
      "cv\n",
      "stacked\n",
      "cv\n",
      "stacked\n",
      "cv\n",
      "stacked\n",
      "cv\n",
      "stacked\n",
      "cv\n",
      "stacked\n",
      "cv\n",
      "stacked\n",
      "cv\n",
      "stacked\n",
      "cv\n",
      "stacked\n",
      "cv\n",
      "stacked\n",
      "cv\n",
      "stacked\n",
      "cv\n",
      "stacked\n",
      "cv\n",
      "stacked\n",
      "cv\n",
      "stacked\n",
      "cv\n",
      "stacked\n",
      "cv\n",
      "stacked\n",
      "cv\n",
      "stacked\n",
      "cv\n",
      "stacked\n",
      "cv\n",
      "stacked\n",
      "cv\n",
      "stacked\n",
      "cv\n",
      "stacked\n",
      "cv\n",
      "stacked\n",
      "cv\n",
      "stacked\n",
      "cv\n",
      "stacked\n",
      "cv\n",
      "stacked\n",
      "cv\n",
      "stacked\n",
      "cv\n",
      "stacked\n",
      "cv\n",
      "stacked\n",
      "cv\n",
      "\n",
      "model score of oof results for MLPClassifier\n",
      "Model Accuracy: 0.6145833333333334\n",
      "Precision: 0.6222604077863029\n",
      "Recall (Sensitivity): 0.6145833333333334\n",
      "F1 Score: 0.6144518097643098\n",
      "Matthews Correlation Coefficient (MCC): 0.4791449681839203\n",
      "G-Measure: 0.7308588439110377\n",
      "AUC: 0.8635097119967279\n",
      "Specificity: 0.8678270379854887\n",
      "Jaccard Index: 0.4495400544509529\n",
      "Saving metrics to: /work/wanlab/nick//stackeval4/val_data/stacked/MLPClassifier/limma(0),metrics.csv\n",
      "PREDICTIONS                   subtype      Squamous          ADEX  Pancreatic Progenitor  \\\n",
      "0             Immunogenic  1.715884e-02  1.139219e-02           1.154935e-02   \n",
      "1                    ADEX  1.204241e-06  3.935695e-01           5.876488e-01   \n",
      "2   Pancreatic Progenitor  2.468910e-10  1.469617e-03           9.985250e-01   \n",
      "3   Pancreatic Progenitor  4.180263e-03  1.284779e-04           9.953724e-01   \n",
      "4   Pancreatic Progenitor  1.243911e-01  6.882168e-02           6.050962e-01   \n",
      "..                    ...           ...           ...                    ...   \n",
      "91                   ADEX  1.142592e-03  9.983982e-01           1.145942e-05   \n",
      "92               Squamous  9.999993e-01  3.581133e-08           2.164929e-07   \n",
      "93                   ADEX  1.233939e-01  7.980466e-01           3.148210e-02   \n",
      "94  Pancreatic Progenitor  7.280145e-03  2.296701e-08           9.925540e-01   \n",
      "95               Squamous  3.730363e-02  4.183703e-01           5.432238e-01   \n",
      "\n",
      "     Immunogenic  \n",
      "0   9.598996e-01  \n",
      "1   1.878049e-02  \n",
      "2   5.356283e-06  \n",
      "3   3.188296e-04  \n",
      "4   2.016910e-01  \n",
      "..           ...  \n",
      "91  4.477854e-04  \n",
      "92  4.579366e-07  \n",
      "93  4.707736e-02  \n",
      "94  1.658733e-04  \n",
      "95  1.102233e-03  \n",
      "\n",
      "[96 rows x 5 columns]\n",
      "\n",
      "model score of oof results for RandomForestClassifier\n",
      "Model Accuracy: 0.8333333333333334\n",
      "Precision: 0.8398744388327722\n",
      "Recall (Sensitivity): 0.8333333333333334\n",
      "F1 Score: 0.8310853596757853\n",
      "Matthews Correlation Coefficient (MCC): 0.7755797036329652\n",
      "G-Measure: 0.8737484792885053\n",
      "AUC: 0.9820145779982928\n",
      "Specificity: 0.9421908344003415\n",
      "Jaccard Index: 0.7039300855477326\n",
      "Saving metrics to: /work/wanlab/nick//stackeval4/val_data/stacked/RandomForestClassifier/limma(0),metrics.csv\n",
      "PREDICTIONS                   subtype  Squamous  ADEX  Pancreatic Progenitor  Immunogenic\n",
      "0             Immunogenic      0.05  0.02                   0.03         0.90\n",
      "1                    ADEX      0.23  0.29                   0.34         0.14\n",
      "2   Pancreatic Progenitor      0.04  0.16                   0.42         0.38\n",
      "3   Pancreatic Progenitor      0.05  0.14                   0.74         0.07\n",
      "4   Pancreatic Progenitor      0.15  0.08                   0.70         0.07\n",
      "..                    ...       ...   ...                    ...          ...\n",
      "91                   ADEX      0.06  0.32                   0.24         0.38\n",
      "92               Squamous      0.88  0.03                   0.03         0.06\n",
      "93                   ADEX      0.14  0.48                   0.30         0.08\n",
      "94  Pancreatic Progenitor      0.03  0.46                   0.36         0.15\n",
      "95               Squamous      0.45  0.31                   0.20         0.04\n",
      "\n",
      "[96 rows x 5 columns]\n",
      "\n",
      "model score of oof results for LogisticRegression2\n",
      "Model Accuracy: 0.90625\n",
      "Precision: 0.907241010904804\n",
      "Recall (Sensitivity): 0.90625\n",
      "F1 Score: 0.9063258253912099\n",
      "Matthews Correlation Coefficient (MCC): 0.8733101573111083\n",
      "G-Measure: 0.9352788514023854\n",
      "AUC: 0.987585527368758\n",
      "Specificity: 0.9681724818608621\n",
      "Jaccard Index: 0.8275341386554622\n",
      "Saving metrics to: /work/wanlab/nick//stackeval4/val_data/stacked/LogisticRegression2/limma(0),metrics.csv\n",
      "PREDICTIONS                   subtype      Squamous          ADEX  Pancreatic Progenitor  \\\n",
      "0             Immunogenic  3.646564e-09  9.974150e-10           2.292627e-10   \n",
      "1                    ADEX  1.171852e-04  8.840073e-01           1.147018e-01   \n",
      "2   Pancreatic Progenitor  4.339834e-09  4.599627e-06           9.880872e-01   \n",
      "3   Pancreatic Progenitor  8.486444e-06  7.723937e-03           9.913956e-01   \n",
      "4   Pancreatic Progenitor  4.403573e-05  5.516262e-04           9.994042e-01   \n",
      "..                    ...           ...           ...                    ...   \n",
      "91                   ADEX  3.312470e-07  9.375249e-01           2.238925e-02   \n",
      "92               Squamous  1.000000e+00  8.879274e-13           4.501812e-13   \n",
      "93                   ADEX  2.196735e-04  9.822735e-01           1.747904e-02   \n",
      "94  Pancreatic Progenitor  1.803339e-07  6.653511e-01           3.333664e-01   \n",
      "95               Squamous  6.545129e-01  3.235850e-01           2.188503e-02   \n",
      "\n",
      "     Immunogenic  \n",
      "0   1.000000e+00  \n",
      "1   1.173673e-03  \n",
      "2   1.190824e-02  \n",
      "3   8.720064e-04  \n",
      "4   9.287242e-08  \n",
      "..           ...  \n",
      "91  4.008548e-02  \n",
      "92  5.392934e-09  \n",
      "93  2.779966e-05  \n",
      "94  1.282307e-03  \n",
      "95  1.699568e-05  \n",
      "\n",
      "[96 rows x 5 columns]\n",
      "\n",
      "model score of oof results for GaussianNB2\n",
      "Model Accuracy: 0.7916666666666666\n",
      "Precision: 0.7940403244631188\n",
      "Recall (Sensitivity): 0.7916666666666666\n",
      "F1 Score: 0.7853117741563244\n",
      "Matthews Correlation Coefficient (MCC): 0.7183580361797277\n",
      "G-Measure: 0.8350511819042702\n",
      "AUC: 0.9136400314767391\n",
      "Specificity: 0.9279689500640205\n",
      "Jaccard Index: 0.6354479811376363\n",
      "Saving metrics to: /work/wanlab/nick//stackeval4/val_data/stacked/GaussianNB2/limma(0),metrics.csv\n",
      "PREDICTIONS                   subtype  Squamous          ADEX  Pancreatic Progenitor  \\\n",
      "0             Immunogenic       0.0  0.000000e+00           0.000000e+00   \n",
      "1                    ADEX       0.0  1.000000e+00           0.000000e+00   \n",
      "2   Pancreatic Progenitor       0.0  0.000000e+00           1.000000e+00   \n",
      "3   Pancreatic Progenitor       0.0  0.000000e+00           1.000000e+00   \n",
      "4   Pancreatic Progenitor       0.0  0.000000e+00           1.000000e+00   \n",
      "..                    ...       ...           ...                    ...   \n",
      "91                   ADEX       0.0  0.000000e+00          6.657564e-145   \n",
      "92               Squamous       1.0  0.000000e+00           0.000000e+00   \n",
      "93                   ADEX       0.0  3.021302e-60           1.000000e+00   \n",
      "94  Pancreatic Progenitor       0.0  1.000000e+00           9.927327e-57   \n",
      "95               Squamous       1.0  3.714748e-09          5.297143e-179   \n",
      "\n",
      "    Immunogenic  \n",
      "0           1.0  \n",
      "1           0.0  \n",
      "2           0.0  \n",
      "3           0.0  \n",
      "4           0.0  \n",
      "..          ...  \n",
      "91          1.0  \n",
      "92          0.0  \n",
      "93          0.0  \n",
      "94          0.0  \n",
      "95          0.0  \n",
      "\n",
      "[96 rows x 5 columns]\n",
      "\n",
      "model score of oof results for SVC3\n",
      "Model Accuracy: 0.875\n",
      "Precision: 0.8854166666666666\n",
      "Recall (Sensitivity): 0.875\n",
      "F1 Score: 0.8759469696969697\n",
      "Matthews Correlation Coefficient (MCC): 0.8345080763582966\n",
      "G-Measure: 0.9160811379524181\n",
      "AUC: 0.9871364392161047\n",
      "Specificity: 0.9585387323943662\n",
      "Jaccard Index: 0.7773606476331727\n",
      "Saving metrics to: /work/wanlab/nick//stackeval4/val_data/stacked/SVC3/limma(0),metrics.csv\n",
      "PREDICTIONS                   subtype  Squamous      ADEX  Pancreatic Progenitor  \\\n",
      "0             Immunogenic  0.003613  0.002726               0.001162   \n",
      "1                    ADEX  0.029394  0.828381               0.121172   \n",
      "2   Pancreatic Progenitor  0.002954  0.023150               0.839805   \n",
      "3   Pancreatic Progenitor  0.005675  0.074238               0.867579   \n",
      "4   Pancreatic Progenitor  0.036080  0.068397               0.889648   \n",
      "..                    ...       ...       ...                    ...   \n",
      "91                   ADEX  0.005735  0.716101               0.065463   \n",
      "92               Squamous  0.992959  0.000697               0.000145   \n",
      "93                   ADEX  0.082199  0.702645               0.186744   \n",
      "94  Pancreatic Progenitor  0.002894  0.786437               0.178879   \n",
      "95               Squamous  0.390631  0.420770               0.172553   \n",
      "\n",
      "    Immunogenic  \n",
      "0      0.992499  \n",
      "1      0.021052  \n",
      "2      0.134091  \n",
      "3      0.052508  \n",
      "4      0.005875  \n",
      "..          ...  \n",
      "91     0.212701  \n",
      "92     0.006200  \n",
      "93     0.028411  \n",
      "94     0.031790  \n",
      "95     0.016046  \n",
      "\n",
      "[96 rows x 5 columns]\n",
      "\n",
      "model score of oof results for SVC4\n",
      "Model Accuracy: 0.9270833333333334\n",
      "Precision: 0.9282457295657727\n",
      "Recall (Sensitivity): 0.9270833333333334\n",
      "F1 Score: 0.927124353652804\n",
      "Matthews Correlation Coefficient (MCC): 0.9017909960019698\n",
      "G-Measure: 0.9519085598926197\n",
      "AUC: 0.9848608221297481\n",
      "Specificity: 0.9752147353819889\n",
      "Jaccard Index: 0.8669652957336781\n",
      "Saving metrics to: /work/wanlab/nick//stackeval4/val_data/stacked/SVC4/limma(0),metrics.csv\n",
      "PREDICTIONS                   subtype  Squamous      ADEX  Pancreatic Progenitor  \\\n",
      "0             Immunogenic  0.002247  0.001166               0.000608   \n",
      "1                    ADEX  0.036859  0.550867               0.375298   \n",
      "2   Pancreatic Progenitor  0.004149  0.023896               0.764204   \n",
      "3   Pancreatic Progenitor  0.015334  0.082266               0.840915   \n",
      "4   Pancreatic Progenitor  0.053550  0.076997               0.861890   \n",
      "..                    ...       ...       ...                    ...   \n",
      "91                   ADEX  0.009630  0.668606               0.136900   \n",
      "92               Squamous  0.995035  0.000095               0.000115   \n",
      "93                   ADEX  0.055708  0.749051               0.160838   \n",
      "94  Pancreatic Progenitor  0.009243  0.689414               0.265133   \n",
      "95               Squamous  0.413639  0.376523               0.181571   \n",
      "\n",
      "    Immunogenic  \n",
      "0      0.995979  \n",
      "1      0.036976  \n",
      "2      0.207751  \n",
      "3      0.061485  \n",
      "4      0.007563  \n",
      "..          ...  \n",
      "91     0.184864  \n",
      "92     0.004755  \n",
      "93     0.034403  \n",
      "94     0.036210  \n",
      "95     0.028267  \n",
      "\n",
      "[96 rows x 5 columns]\n",
      "run 5\n",
      "Model Pair: SVC + SVC + GaussianNB + KNeighborsClassifier\n",
      "USEDmodelnames ['SVC', 'SVC2', 'GaussianNB', 'KNeighborsClassifier']\n",
      "Running with: SVC and SVC and GaussianNB and KNeighborsClassifier\n",
      "Random state: 0\n",
      "['SVC', 'SVC2', 'GaussianNB', 'KNeighborsClassifier']\n",
      "individual models\n",
      "cv\n",
      "individual models\n",
      "cv\n",
      "individual models\n",
      "cv\n",
      "individual models\n",
      "cv\n",
      "individual models\n",
      "cv\n",
      "individual models\n",
      "cv\n",
      "individual models\n",
      "cv\n",
      "individual models\n",
      "cv\n",
      "individual models\n",
      "cv\n",
      "individual models\n",
      "cv\n",
      "individual models\n",
      "cv\n",
      "individual models\n",
      "cv\n",
      "individual models\n",
      "cv\n",
      "individual models\n",
      "cv\n",
      "individual models\n",
      "cv\n",
      "individual models\n",
      "cv\n",
      "individual models\n",
      "cv\n",
      "individual models\n",
      "cv\n",
      "individual models\n",
      "cv\n",
      "individual models\n",
      "cv\n",
      "individual models\n",
      "cv\n",
      "individual models\n",
      "cv\n",
      "individual models\n",
      "cv\n",
      "individual models\n",
      "cv\n",
      "individual models\n",
      "cv\n",
      "individual models\n",
      "cv\n",
      "individual models\n",
      "cv\n",
      "individual models\n",
      "cv\n",
      "individual models\n",
      "cv\n",
      "individual models\n",
      "cv\n",
      "individual models\n",
      "cv\n",
      "individual models\n",
      "cv\n",
      "individual models\n",
      "cv\n",
      "individual models\n",
      "cv\n",
      "individual models\n",
      "cv\n",
      "individual models\n",
      "cv\n",
      "individual models\n",
      "cv\n",
      "individual models\n",
      "cv\n",
      "individual models\n",
      "cv\n",
      "individual models\n",
      "cv\n",
      "individual models\n",
      "cv\n",
      "individual models\n",
      "cv\n",
      "individual models\n",
      "cv\n",
      "individual models\n",
      "cv\n",
      "individual models\n",
      "cv\n",
      "individual models\n",
      "cv\n",
      "individual models\n",
      "cv\n",
      "individual models\n",
      "cv\n",
      "individual models\n",
      "cv\n",
      "individual models\n",
      "cv\n",
      "individual models\n",
      "cv\n",
      "individual models\n",
      "cv\n",
      "individual models\n",
      "cv\n",
      "individual models\n",
      "cv\n",
      "individual models\n",
      "cv\n",
      "individual models\n",
      "cv\n",
      "individual models\n",
      "cv\n",
      "individual models\n",
      "cv\n",
      "individual models\n",
      "cv\n",
      "individual models\n",
      "cv\n",
      "individual models\n",
      "cv\n",
      "individual models\n",
      "cv\n",
      "individual models\n",
      "cv\n",
      "individual models\n",
      "cv\n",
      "individual models\n",
      "cv\n",
      "individual models\n",
      "cv\n",
      "individual models\n",
      "cv\n",
      "individual models\n",
      "cv\n",
      "individual models\n",
      "cv\n",
      "individual models\n",
      "cv\n",
      "individual models\n",
      "cv\n",
      "individual models\n",
      "cv\n",
      "individual models\n",
      "cv\n",
      "individual models\n",
      "cv\n",
      "individual models\n",
      "cv\n",
      "individual models\n",
      "cv\n",
      "individual models\n",
      "cv\n",
      "individual models\n",
      "cv\n",
      "individual models\n",
      "cv\n",
      "individual models\n",
      "cv\n",
      "individual models\n",
      "cv\n",
      "individual models\n",
      "cv\n",
      "individual models\n",
      "cv\n",
      "individual models\n",
      "cv\n",
      "individual models\n",
      "cv\n",
      "individual models\n",
      "cv\n",
      "individual models\n",
      "cv\n",
      "individual models\n",
      "cv\n",
      "individual models\n",
      "cv\n",
      "individual models\n",
      "cv\n",
      "individual models\n",
      "cv\n",
      "individual models\n",
      "cv\n",
      "individual models\n",
      "cv\n",
      "individual models\n",
      "cv\n",
      "individual models\n",
      "cv\n",
      "individual models\n",
      "cv\n",
      "\n",
      "model score of oof results for SVC\n",
      "Model Accuracy: 0.875\n",
      "Precision: 0.8798649267399267\n",
      "Recall (Sensitivity): 0.875\n",
      "F1 Score: 0.8751610313936894\n",
      "Matthews Correlation Coefficient (MCC): 0.8329181448543629\n",
      "G-Measure: 0.9162567046538834\n",
      "AUC: 0.9894041648883198\n",
      "Specificity: 0.9582719803670507\n",
      "Jaccard Index: 0.7779538993943889\n",
      "Saving metrics to: /work/wanlab/nick//stackeval5/val_data/individual models/SVC/limma(0),metrics.csv\n",
      "PREDICTIONS                   subtype  Squamous      ADEX  Pancreatic Progenitor  \\\n",
      "0   Pancreatic Progenitor  0.097916  0.034358               0.844149   \n",
      "1                    ADEX  0.024673  0.914251               0.014237   \n",
      "2   Pancreatic Progenitor  0.257410  0.211463               0.495531   \n",
      "3   Pancreatic Progenitor  0.006443  0.067575               0.890937   \n",
      "4                    ADEX  0.107498  0.715580               0.161175   \n",
      "..                    ...       ...       ...                    ...   \n",
      "91            Immunogenic  0.006388  0.054085               0.006908   \n",
      "92                   ADEX  0.005793  0.817213               0.135004   \n",
      "93            Immunogenic  0.042073  0.038410               0.407693   \n",
      "94               Squamous  0.602874  0.061120               0.306217   \n",
      "95  Pancreatic Progenitor  0.002230  0.019531               0.856226   \n",
      "\n",
      "    Immunogenic  \n",
      "0      0.023577  \n",
      "1      0.046839  \n",
      "2      0.035596  \n",
      "3      0.035045  \n",
      "4      0.015747  \n",
      "..          ...  \n",
      "91     0.932619  \n",
      "92     0.041990  \n",
      "93     0.511824  \n",
      "94     0.029789  \n",
      "95     0.122013  \n",
      "\n",
      "[96 rows x 5 columns]\n",
      "\n",
      "model score of oof results for SVC2\n",
      "Model Accuracy: 0.9375\n",
      "Precision: 0.9378672542735043\n",
      "Recall (Sensitivity): 0.9375\n",
      "F1 Score: 0.9374874949979993\n",
      "Matthews Correlation Coefficient (MCC): 0.9155529545059609\n",
      "G-Measure: 0.9579504330083998\n",
      "AUC: 0.986970719519135\n",
      "Specificity: 0.9787358621425523\n",
      "Jaccard Index: 0.882714303670186\n",
      "Saving metrics to: /work/wanlab/nick//stackeval5/val_data/individual models/SVC2/limma(0),metrics.csv\n",
      "PREDICTIONS                   subtype  Squamous      ADEX  Pancreatic Progenitor  \\\n",
      "0   Pancreatic Progenitor  0.173522  0.041955               0.751666   \n",
      "1                    ADEX  0.072830  0.826859               0.029502   \n",
      "2   Pancreatic Progenitor  0.331905  0.164369               0.458977   \n",
      "3   Pancreatic Progenitor  0.018953  0.081620               0.845331   \n",
      "4                    ADEX  0.251353  0.450119               0.270752   \n",
      "..                    ...       ...       ...                    ...   \n",
      "91            Immunogenic  0.020742  0.104976               0.015679   \n",
      "92                   ADEX  0.025320  0.769002               0.131044   \n",
      "93            Immunogenic  0.091819  0.027727               0.663576   \n",
      "94               Squamous  0.570970  0.023947               0.388014   \n",
      "95  Pancreatic Progenitor  0.004196  0.027169               0.754547   \n",
      "\n",
      "    Immunogenic  \n",
      "0      0.032856  \n",
      "1      0.070808  \n",
      "2      0.044749  \n",
      "3      0.054095  \n",
      "4      0.027776  \n",
      "..          ...  \n",
      "91     0.858603  \n",
      "92     0.074634  \n",
      "93     0.216878  \n",
      "94     0.017069  \n",
      "95     0.214088  \n",
      "\n",
      "[96 rows x 5 columns]\n",
      "\n",
      "model score of oof results for GaussianNB\n",
      "Model Accuracy: 0.8020833333333334\n",
      "Precision: 0.8112185846560847\n",
      "Recall (Sensitivity): 0.8020833333333334\n",
      "F1 Score: 0.7952737132588884\n",
      "Matthews Correlation Coefficient (MCC): 0.7333724224567384\n",
      "G-Measure: 0.8403667059102383\n",
      "AUC: 0.9361885803457106\n",
      "Specificity: 0.9310939500640205\n",
      "Jaccard Index: 0.648394185260311\n",
      "Saving metrics to: /work/wanlab/nick//stackeval5/val_data/individual models/GaussianNB/limma(0),metrics.csv\n",
      "PREDICTIONS                   subtype  Squamous           ADEX  Pancreatic Progenitor  \\\n",
      "0   Pancreatic Progenitor       0.0  1.482197e-323           1.000000e+00   \n",
      "1                    ADEX       0.0   1.000000e+00          1.346905e-266   \n",
      "2   Pancreatic Progenitor       0.0  6.020797e-100           1.000000e+00   \n",
      "3   Pancreatic Progenitor       0.0   0.000000e+00           1.000000e+00   \n",
      "4                    ADEX       0.0  1.694739e-118           1.000000e+00   \n",
      "..                    ...       ...            ...                    ...   \n",
      "91            Immunogenic       0.0   0.000000e+00           0.000000e+00   \n",
      "92                   ADEX       0.0   8.249520e-66           1.000000e+00   \n",
      "93            Immunogenic       0.0   0.000000e+00           7.728747e-43   \n",
      "94               Squamous       1.0   3.793719e-08           0.000000e+00   \n",
      "95  Pancreatic Progenitor       0.0   0.000000e+00           1.000000e+00   \n",
      "\n",
      "      Immunogenic  \n",
      "0    0.000000e+00  \n",
      "1   1.591372e-184  \n",
      "2    0.000000e+00  \n",
      "3    0.000000e+00  \n",
      "4   7.139117e-233  \n",
      "..            ...  \n",
      "91   1.000000e+00  \n",
      "92  1.307750e-236  \n",
      "93   1.000000e+00  \n",
      "94   0.000000e+00  \n",
      "95   0.000000e+00  \n",
      "\n",
      "[96 rows x 5 columns]\n",
      "\n",
      "model score of oof results for KNeighborsClassifier\n",
      "Model Accuracy: 0.8125\n",
      "Precision: 0.8199310816498316\n",
      "Recall (Sensitivity): 0.8125\n",
      "F1 Score: 0.8125190781440782\n",
      "Matthews Correlation Coefficient (MCC): 0.7460321678003263\n",
      "G-Measure: 0.8633985462943907\n",
      "AUC: 0.9584949683898847\n",
      "Specificity: 0.9348818288518993\n",
      "Jaccard Index: 0.6830932288025566\n",
      "Saving metrics to: /work/wanlab/nick//stackeval5/val_data/individual models/KNeighborsClassifier/limma(0),metrics.csv\n",
      "PREDICTIONS                   subtype  Squamous  ADEX  Pancreatic Progenitor  Immunogenic\n",
      "0   Pancreatic Progenitor       0.2   0.0                    0.8          0.0\n",
      "1                    ADEX       0.0   1.0                    0.0          0.0\n",
      "2   Pancreatic Progenitor       0.4   0.0                    0.6          0.0\n",
      "3   Pancreatic Progenitor       0.0   0.0                    1.0          0.0\n",
      "4                    ADEX       0.4   0.2                    0.4          0.0\n",
      "..                    ...       ...   ...                    ...          ...\n",
      "91            Immunogenic       0.0   0.0                    0.0          1.0\n",
      "92                   ADEX       0.0   0.6                    0.4          0.0\n",
      "93            Immunogenic       0.0   0.0                    0.4          0.6\n",
      "94               Squamous       0.4   0.0                    0.6          0.0\n",
      "95  Pancreatic Progenitor       0.0   0.0                    0.6          0.4\n",
      "\n",
      "[96 rows x 5 columns]\n",
      "运行时间为: 37.25 秒\n",
      "combining [[0.09791623 0.03435796 0.84414899 ... 0.         0.8        0.        ]\n",
      " [0.02467319 0.91425117 0.01423692 ... 1.         0.         0.        ]\n",
      " [0.2574099  0.21146311 0.49553067 ... 0.         0.6        0.        ]\n",
      " ...\n",
      " [0.04207264 0.0384096  0.40769339 ... 0.         0.4        0.6       ]\n",
      " [0.60287406 0.06111995 0.30621746 ... 0.         0.6        0.        ]\n",
      " [0.00222969 0.01953098 0.85622589 ... 0.         0.6        0.4       ]] [[13.56018914 12.68466835 13.10243664 ...  9.53005478 11.16103308\n",
      "  11.24920229]\n",
      " [15.4259582  14.08525845 12.01110512 ...  9.45622747 11.12707631\n",
      "  11.78331935]\n",
      " [14.4756837  13.26517897 12.82291838 ...  9.65623065 11.33179862\n",
      "  11.68015036]\n",
      " ...\n",
      " [14.28976923 13.62192201 12.67277184 ...  9.32578912  9.67174085\n",
      "  11.45401981]\n",
      " [14.71684472 13.81278796 13.58508909 ... 10.31590684 12.7838795\n",
      "  11.90067493]\n",
      " [14.18823419 12.92657629 11.70868561 ...  9.88942006  9.76636631\n",
      "  12.84604452]]\n",
      "stacked\n",
      "cv\n",
      "stacked\n",
      "cv\n",
      "stacked\n",
      "cv\n",
      "stacked\n",
      "cv\n",
      "stacked\n",
      "cv\n",
      "stacked\n",
      "cv\n",
      "stacked\n",
      "cv\n",
      "stacked\n",
      "cv\n",
      "stacked\n",
      "cv\n",
      "stacked\n",
      "cv\n",
      "stacked\n",
      "cv\n",
      "stacked\n",
      "cv\n",
      "stacked\n",
      "cv\n",
      "stacked\n",
      "cv\n",
      "stacked\n",
      "cv\n",
      "stacked\n",
      "cv\n",
      "stacked\n",
      "cv\n",
      "stacked\n",
      "cv\n",
      "stacked\n",
      "cv\n",
      "stacked\n",
      "cv\n",
      "stacked\n",
      "cv\n",
      "stacked\n",
      "cv\n",
      "stacked\n",
      "cv\n",
      "stacked\n",
      "cv\n",
      "stacked\n",
      "cv\n",
      "stacked\n",
      "cv\n",
      "stacked\n",
      "cv\n",
      "stacked\n",
      "cv\n",
      "stacked\n",
      "cv\n",
      "stacked\n",
      "cv\n",
      "stacked\n",
      "cv\n",
      "stacked\n",
      "cv\n",
      "stacked\n",
      "cv\n",
      "stacked\n",
      "cv\n",
      "stacked\n",
      "cv\n",
      "stacked\n",
      "cv\n",
      "stacked\n",
      "cv\n",
      "stacked\n",
      "cv\n",
      "stacked\n",
      "cv\n",
      "stacked\n",
      "cv\n",
      "stacked\n",
      "cv\n",
      "stacked\n",
      "cv\n",
      "stacked\n",
      "cv\n",
      "stacked\n",
      "cv\n",
      "stacked\n",
      "cv\n",
      "stacked\n",
      "cv\n",
      "stacked\n",
      "cv\n",
      "stacked\n",
      "cv\n",
      "stacked\n",
      "cv\n",
      "stacked\n",
      "cv\n",
      "stacked\n",
      "cv\n",
      "stacked\n",
      "cv\n",
      "stacked\n",
      "cv\n",
      "stacked\n",
      "cv\n",
      "stacked\n",
      "cv\n",
      "stacked\n",
      "cv\n",
      "stacked\n",
      "cv\n",
      "stacked\n",
      "cv\n",
      "stacked\n",
      "cv\n",
      "stacked\n",
      "cv\n",
      "stacked\n",
      "cv\n",
      "stacked\n",
      "cv\n",
      "stacked\n",
      "cv\n",
      "stacked\n",
      "cv\n",
      "stacked\n",
      "cv\n",
      "stacked\n",
      "cv\n",
      "stacked\n",
      "cv\n",
      "stacked\n",
      "cv\n",
      "stacked\n",
      "cv\n",
      "stacked\n",
      "cv\n",
      "stacked\n",
      "cv\n",
      "stacked\n",
      "cv\n",
      "stacked\n",
      "cv\n",
      "stacked\n",
      "cv\n",
      "stacked\n",
      "cv\n",
      "stacked\n",
      "cv\n",
      "stacked\n",
      "cv\n",
      "stacked\n",
      "cv\n",
      "stacked\n",
      "cv\n",
      "stacked\n",
      "cv\n",
      "stacked\n",
      "cv\n",
      "stacked\n",
      "cv\n",
      "stacked\n",
      "cv\n",
      "stacked\n",
      "cv\n",
      "stacked\n",
      "cv\n",
      "stacked\n",
      "cv\n",
      "stacked\n",
      "cv\n",
      "stacked\n",
      "cv\n",
      "stacked\n",
      "cv\n",
      "stacked\n",
      "cv\n",
      "stacked\n",
      "cv\n",
      "stacked\n",
      "cv\n",
      "stacked\n",
      "cv\n",
      "stacked\n",
      "cv\n",
      "stacked\n",
      "cv\n",
      "stacked\n",
      "cv\n",
      "\n",
      "model score of oof results for MLPClassifier\n",
      "Model Accuracy: 0.6354166666666666\n",
      "Precision: 0.6427940260933304\n",
      "Recall (Sensitivity): 0.6354166666666666\n",
      "F1 Score: 0.633623817681021\n",
      "Matthews Correlation Coefficient (MCC): 0.5126718692263701\n",
      "G-Measure: 0.7532476159813257\n",
      "AUC: 0.8644476232394367\n",
      "Specificity: 0.8768579278702519\n",
      "Jaccard Index: 0.47362931642001405\n",
      "Saving metrics to: /work/wanlab/nick//stackeval5/val_data/stacked/MLPClassifier/limma(0),metrics.csv\n",
      "PREDICTIONS                   subtype  Squamous          ADEX  Pancreatic Progenitor  \\\n",
      "0             Immunogenic  0.000230  4.286904e-08           9.715730e-08   \n",
      "1                    ADEX  0.003174  6.797481e-01           2.668499e-01   \n",
      "2   Pancreatic Progenitor  0.000010  4.218215e-07           9.034552e-01   \n",
      "3   Pancreatic Progenitor  0.025773  6.367158e-01           2.839349e-01   \n",
      "4   Pancreatic Progenitor  0.034750  5.041596e-01           4.598095e-01   \n",
      "..                    ...       ...           ...                    ...   \n",
      "91                   ADEX  0.000723  5.295385e-01           9.972576e-03   \n",
      "92               Squamous  1.000000  1.433291e-13           2.312791e-08   \n",
      "93                   ADEX  0.010087  2.428609e-01           7.470305e-01   \n",
      "94  Pancreatic Progenitor  0.000059  8.639657e-01           1.340117e-01   \n",
      "95               Squamous  0.189774  2.638567e-02           7.796129e-01   \n",
      "\n",
      "     Immunogenic  \n",
      "0   9.997703e-01  \n",
      "1   5.022841e-02  \n",
      "2   9.653447e-02  \n",
      "3   5.357654e-02  \n",
      "4   1.281038e-03  \n",
      "..           ...  \n",
      "91  4.597658e-01  \n",
      "92  4.526988e-12  \n",
      "93  2.194067e-05  \n",
      "94  1.963934e-03  \n",
      "95  4.226939e-03  \n",
      "\n",
      "[96 rows x 5 columns]\n",
      "\n",
      "model score of oof results for RandomForestClassifier\n",
      "Model Accuracy: 0.8958333333333334\n",
      "Precision: 0.8975234457571414\n",
      "Recall (Sensitivity): 0.8958333333333334\n",
      "F1 Score: 0.894893061391223\n",
      "Matthews Correlation Coefficient (MCC): 0.8595023656464544\n",
      "G-Measure: 0.9227167400778311\n",
      "AUC: 0.9855061953158343\n",
      "Specificity: 0.9641178510456679\n",
      "Jaccard Index: 0.8042133520074696\n",
      "Saving metrics to: /work/wanlab/nick//stackeval5/val_data/stacked/RandomForestClassifier/limma(0),metrics.csv\n",
      "PREDICTIONS                   subtype  Squamous  ADEX  Pancreatic Progenitor  Immunogenic\n",
      "0             Immunogenic      0.11  0.06                   0.06         0.77\n",
      "1                    ADEX      0.16  0.37                   0.35         0.12\n",
      "2   Pancreatic Progenitor      0.01  0.10                   0.45         0.44\n",
      "3   Pancreatic Progenitor      0.06  0.15                   0.71         0.08\n",
      "4   Pancreatic Progenitor      0.11  0.11                   0.74         0.04\n",
      "..                    ...       ...   ...                    ...          ...\n",
      "91                   ADEX      0.03  0.35                   0.27         0.35\n",
      "92               Squamous      0.83  0.03                   0.03         0.11\n",
      "93                   ADEX      0.17  0.44                   0.31         0.08\n",
      "94  Pancreatic Progenitor      0.03  0.48                   0.38         0.11\n",
      "95               Squamous      0.48  0.20                   0.24         0.08\n",
      "\n",
      "[96 rows x 5 columns]\n",
      "\n",
      "model score of oof results for LogisticRegression2\n",
      "Model Accuracy: 0.90625\n",
      "Precision: 0.907241010904804\n",
      "Recall (Sensitivity): 0.90625\n",
      "F1 Score: 0.9063258253912099\n",
      "Matthews Correlation Coefficient (MCC): 0.8733101573111083\n",
      "G-Measure: 0.9352788514023854\n",
      "AUC: 0.987585527368758\n",
      "Specificity: 0.9681724818608621\n",
      "Jaccard Index: 0.8275341386554622\n",
      "Saving metrics to: /work/wanlab/nick//stackeval5/val_data/stacked/LogisticRegression2/limma(0),metrics.csv\n",
      "PREDICTIONS                   subtype      Squamous          ADEX  Pancreatic Progenitor  \\\n",
      "0             Immunogenic  3.575309e-09  9.907982e-10           2.242741e-10   \n",
      "1                    ADEX  1.166492e-04  8.841760e-01           1.145376e-01   \n",
      "2   Pancreatic Progenitor  4.342104e-09  4.577281e-06           9.880638e-01   \n",
      "3   Pancreatic Progenitor  8.491280e-06  7.706610e-03           9.914144e-01   \n",
      "4   Pancreatic Progenitor  4.390254e-05  5.517287e-04           9.994043e-01   \n",
      "..                    ...           ...           ...                    ...   \n",
      "91                   ADEX  3.273943e-07  9.374817e-01           2.243327e-02   \n",
      "92               Squamous  1.000000e+00  8.905346e-13           4.433642e-13   \n",
      "93                   ADEX  2.202529e-04  9.823102e-01           1.744169e-02   \n",
      "94  Pancreatic Progenitor  1.813450e-07  6.664835e-01           3.322292e-01   \n",
      "95               Squamous  6.538306e-01  3.242331e-01           2.191938e-02   \n",
      "\n",
      "     Immunogenic  \n",
      "0   1.000000e+00  \n",
      "1   1.169709e-03  \n",
      "2   1.193163e-02  \n",
      "3   8.704677e-04  \n",
      "4   9.230367e-08  \n",
      "..           ...  \n",
      "91  4.008465e-02  \n",
      "92  5.435087e-09  \n",
      "93  2.781230e-05  \n",
      "94  1.287123e-03  \n",
      "95  1.690165e-05  \n",
      "\n",
      "[96 rows x 5 columns]\n",
      "\n",
      "model score of oof results for GaussianNB2\n",
      "Model Accuracy: 0.78125\n",
      "Precision: 0.7801967798904075\n",
      "Recall (Sensitivity): 0.78125\n",
      "F1 Score: 0.7758436552149349\n",
      "Matthews Correlation Coefficient (MCC): 0.7035711525954906\n",
      "G-Measure: 0.8288468337125071\n",
      "AUC: 0.9047783068359653\n",
      "Specificity: 0.9248439500640205\n",
      "Jaccard Index: 0.6212666945879287\n",
      "Saving metrics to: /work/wanlab/nick//stackeval5/val_data/stacked/GaussianNB2/limma(0),metrics.csv\n",
      "PREDICTIONS                   subtype  Squamous          ADEX  Pancreatic Progenitor  \\\n",
      "0             Immunogenic  0.000000  0.000000e+00           0.000000e+00   \n",
      "1                    ADEX  0.000000  1.000000e+00           0.000000e+00   \n",
      "2   Pancreatic Progenitor  0.000000  0.000000e+00           1.000000e+00   \n",
      "3   Pancreatic Progenitor  0.000000  0.000000e+00           1.000000e+00   \n",
      "4   Pancreatic Progenitor  0.000000  0.000000e+00           1.000000e+00   \n",
      "..                    ...       ...           ...                    ...   \n",
      "91                   ADEX  0.000000  0.000000e+00          6.969581e-150   \n",
      "92               Squamous  1.000000  0.000000e+00           0.000000e+00   \n",
      "93                   ADEX  0.000000  4.210475e-69           1.000000e+00   \n",
      "94  Pancreatic Progenitor  0.000000  1.000000e+00           1.784927e-55   \n",
      "95               Squamous  0.058558  9.414416e-01          6.522320e-171   \n",
      "\n",
      "    Immunogenic  \n",
      "0           1.0  \n",
      "1           0.0  \n",
      "2           0.0  \n",
      "3           0.0  \n",
      "4           0.0  \n",
      "..          ...  \n",
      "91          1.0  \n",
      "92          0.0  \n",
      "93          0.0  \n",
      "94          0.0  \n",
      "95          0.0  \n",
      "\n",
      "[96 rows x 5 columns]\n",
      "\n",
      "model score of oof results for SVC3\n",
      "Model Accuracy: 0.8958333333333334\n",
      "Precision: 0.9000483312983313\n",
      "Recall (Sensitivity): 0.8958333333333334\n",
      "F1 Score: 0.8961476129250004\n",
      "Matthews Correlation Coefficient (MCC): 0.8604174274703945\n",
      "G-Measure: 0.9291226370118333\n",
      "AUC: 0.987881455399061\n",
      "Specificity: 0.9649181071276142\n",
      "Jaccard Index: 0.8121114964339462\n",
      "Saving metrics to: /work/wanlab/nick//stackeval5/val_data/stacked/SVC3/limma(0),metrics.csv\n",
      "PREDICTIONS                   subtype  Squamous      ADEX  Pancreatic Progenitor  \\\n",
      "0             Immunogenic  0.003565  0.002281               0.001797   \n",
      "1                    ADEX  0.028814  0.890259               0.058007   \n",
      "2   Pancreatic Progenitor  0.001864  0.018915               0.872525   \n",
      "3   Pancreatic Progenitor  0.005478  0.056524               0.893580   \n",
      "4   Pancreatic Progenitor  0.033478  0.076263               0.885291   \n",
      "..                    ...       ...       ...                    ...   \n",
      "91                   ADEX  0.005159  0.720336               0.086080   \n",
      "92               Squamous  0.994596  0.000708               0.000134   \n",
      "93                   ADEX  0.090494  0.712022               0.168076   \n",
      "94  Pancreatic Progenitor  0.002951  0.794201               0.185156   \n",
      "95               Squamous  0.416244  0.368549               0.201370   \n",
      "\n",
      "    Immunogenic  \n",
      "0      0.992357  \n",
      "1      0.022920  \n",
      "2      0.106696  \n",
      "3      0.044419  \n",
      "4      0.004968  \n",
      "..          ...  \n",
      "91     0.188425  \n",
      "92     0.004562  \n",
      "93     0.029409  \n",
      "94     0.017692  \n",
      "95     0.013836  \n",
      "\n",
      "[96 rows x 5 columns]\n",
      "\n",
      "model score of oof results for SVC4\n",
      "Model Accuracy: 0.9375\n",
      "Precision: 0.9378672542735043\n",
      "Recall (Sensitivity): 0.9375\n",
      "F1 Score: 0.9374874949979993\n",
      "Matthews Correlation Coefficient (MCC): 0.9155529545059609\n",
      "G-Measure: 0.9579504330083998\n",
      "AUC: 0.9864861200028453\n",
      "Specificity: 0.9787358621425523\n",
      "Jaccard Index: 0.882714303670186\n",
      "Saving metrics to: /work/wanlab/nick//stackeval5/val_data/stacked/SVC4/limma(0),metrics.csv\n",
      "PREDICTIONS                   subtype  Squamous      ADEX  Pancreatic Progenitor  \\\n",
      "0             Immunogenic  0.003662  0.001460               0.001093   \n",
      "1                    ADEX  0.040853  0.558429               0.359968   \n",
      "2   Pancreatic Progenitor  0.003198  0.022973               0.764192   \n",
      "3   Pancreatic Progenitor  0.011218  0.070858               0.883943   \n",
      "4   Pancreatic Progenitor  0.042189  0.061819               0.889411   \n",
      "..                    ...       ...       ...                    ...   \n",
      "91                   ADEX  0.010726  0.681950               0.128899   \n",
      "92               Squamous  0.994827  0.000100               0.000144   \n",
      "93                   ADEX  0.052037  0.775053               0.138691   \n",
      "94  Pancreatic Progenitor  0.006581  0.651890               0.301863   \n",
      "95               Squamous  0.391454  0.386615               0.191722   \n",
      "\n",
      "    Immunogenic  \n",
      "0      0.993784  \n",
      "1      0.040750  \n",
      "2      0.209637  \n",
      "3      0.033981  \n",
      "4      0.006581  \n",
      "..          ...  \n",
      "91     0.178425  \n",
      "92     0.004928  \n",
      "93     0.034219  \n",
      "94     0.039665  \n",
      "95     0.030209  \n",
      "\n",
      "[96 rows x 5 columns]\n",
      "run 6\n",
      "Model Pair: SVC + SVC + GaussianNB + QuadraticDiscriminantAnalysis\n",
      "USEDmodelnames ['SVC', 'SVC2', 'GaussianNB', 'QuadraticDiscriminantAnalysis']\n",
      "Running with: SVC and SVC and GaussianNB and QuadraticDiscriminantAnalysis\n",
      "Random state: 0\n",
      "['SVC', 'SVC2', 'GaussianNB', 'QuadraticDiscriminantAnalysis']\n",
      "individual models\n"
     ]
    },
    {
     "name": "stderr",
     "output_type": "stream",
     "text": [
      "/home/wanlab/nick/.local/lib/python3.8/site-packages/sklearn/discriminant_analysis.py:935: UserWarning: Variables are collinear\n",
      "  warnings.warn(\"Variables are collinear\")\n"
     ]
    },
    {
     "name": "stdout",
     "output_type": "stream",
     "text": [
      "cv\n",
      "individual models\n"
     ]
    },
    {
     "name": "stderr",
     "output_type": "stream",
     "text": [
      "/home/wanlab/nick/.local/lib/python3.8/site-packages/sklearn/discriminant_analysis.py:935: UserWarning: Variables are collinear\n",
      "  warnings.warn(\"Variables are collinear\")\n"
     ]
    },
    {
     "name": "stdout",
     "output_type": "stream",
     "text": [
      "cv\n",
      "individual models\n"
     ]
    },
    {
     "name": "stderr",
     "output_type": "stream",
     "text": [
      "/home/wanlab/nick/.local/lib/python3.8/site-packages/sklearn/discriminant_analysis.py:935: UserWarning: Variables are collinear\n",
      "  warnings.warn(\"Variables are collinear\")\n"
     ]
    },
    {
     "name": "stdout",
     "output_type": "stream",
     "text": [
      "cv\n",
      "individual models\n"
     ]
    },
    {
     "name": "stderr",
     "output_type": "stream",
     "text": [
      "/home/wanlab/nick/.local/lib/python3.8/site-packages/sklearn/discriminant_analysis.py:935: UserWarning: Variables are collinear\n",
      "  warnings.warn(\"Variables are collinear\")\n"
     ]
    },
    {
     "name": "stdout",
     "output_type": "stream",
     "text": [
      "cv\n",
      "individual models\n"
     ]
    },
    {
     "name": "stderr",
     "output_type": "stream",
     "text": [
      "/home/wanlab/nick/.local/lib/python3.8/site-packages/sklearn/discriminant_analysis.py:935: UserWarning: Variables are collinear\n",
      "  warnings.warn(\"Variables are collinear\")\n"
     ]
    },
    {
     "name": "stdout",
     "output_type": "stream",
     "text": [
      "cv\n",
      "individual models\n"
     ]
    },
    {
     "name": "stderr",
     "output_type": "stream",
     "text": [
      "/home/wanlab/nick/.local/lib/python3.8/site-packages/sklearn/discriminant_analysis.py:935: UserWarning: Variables are collinear\n",
      "  warnings.warn(\"Variables are collinear\")\n"
     ]
    },
    {
     "name": "stdout",
     "output_type": "stream",
     "text": [
      "cv\n",
      "individual models\n"
     ]
    },
    {
     "name": "stderr",
     "output_type": "stream",
     "text": [
      "/home/wanlab/nick/.local/lib/python3.8/site-packages/sklearn/discriminant_analysis.py:935: UserWarning: Variables are collinear\n",
      "  warnings.warn(\"Variables are collinear\")\n"
     ]
    },
    {
     "name": "stdout",
     "output_type": "stream",
     "text": [
      "cv\n",
      "individual models\n"
     ]
    },
    {
     "name": "stderr",
     "output_type": "stream",
     "text": [
      "/home/wanlab/nick/.local/lib/python3.8/site-packages/sklearn/discriminant_analysis.py:935: UserWarning: Variables are collinear\n",
      "  warnings.warn(\"Variables are collinear\")\n"
     ]
    },
    {
     "name": "stdout",
     "output_type": "stream",
     "text": [
      "cv\n",
      "individual models\n"
     ]
    },
    {
     "name": "stderr",
     "output_type": "stream",
     "text": [
      "/home/wanlab/nick/.local/lib/python3.8/site-packages/sklearn/discriminant_analysis.py:935: UserWarning: Variables are collinear\n",
      "  warnings.warn(\"Variables are collinear\")\n"
     ]
    },
    {
     "name": "stdout",
     "output_type": "stream",
     "text": [
      "cv\n",
      "individual models\n"
     ]
    },
    {
     "name": "stderr",
     "output_type": "stream",
     "text": [
      "/home/wanlab/nick/.local/lib/python3.8/site-packages/sklearn/discriminant_analysis.py:935: UserWarning: Variables are collinear\n",
      "  warnings.warn(\"Variables are collinear\")\n"
     ]
    },
    {
     "name": "stdout",
     "output_type": "stream",
     "text": [
      "cv\n",
      "individual models\n"
     ]
    },
    {
     "name": "stderr",
     "output_type": "stream",
     "text": [
      "/home/wanlab/nick/.local/lib/python3.8/site-packages/sklearn/discriminant_analysis.py:935: UserWarning: Variables are collinear\n",
      "  warnings.warn(\"Variables are collinear\")\n"
     ]
    },
    {
     "name": "stdout",
     "output_type": "stream",
     "text": [
      "cv\n",
      "individual models\n"
     ]
    },
    {
     "name": "stderr",
     "output_type": "stream",
     "text": [
      "/home/wanlab/nick/.local/lib/python3.8/site-packages/sklearn/discriminant_analysis.py:935: UserWarning: Variables are collinear\n",
      "  warnings.warn(\"Variables are collinear\")\n"
     ]
    },
    {
     "name": "stdout",
     "output_type": "stream",
     "text": [
      "cv\n",
      "individual models\n"
     ]
    },
    {
     "name": "stderr",
     "output_type": "stream",
     "text": [
      "/home/wanlab/nick/.local/lib/python3.8/site-packages/sklearn/discriminant_analysis.py:935: UserWarning: Variables are collinear\n",
      "  warnings.warn(\"Variables are collinear\")\n"
     ]
    },
    {
     "name": "stdout",
     "output_type": "stream",
     "text": [
      "cv\n",
      "individual models\n"
     ]
    },
    {
     "name": "stderr",
     "output_type": "stream",
     "text": [
      "/home/wanlab/nick/.local/lib/python3.8/site-packages/sklearn/discriminant_analysis.py:935: UserWarning: Variables are collinear\n",
      "  warnings.warn(\"Variables are collinear\")\n"
     ]
    },
    {
     "name": "stdout",
     "output_type": "stream",
     "text": [
      "cv\n",
      "individual models\n"
     ]
    },
    {
     "name": "stderr",
     "output_type": "stream",
     "text": [
      "/home/wanlab/nick/.local/lib/python3.8/site-packages/sklearn/discriminant_analysis.py:935: UserWarning: Variables are collinear\n",
      "  warnings.warn(\"Variables are collinear\")\n"
     ]
    },
    {
     "name": "stdout",
     "output_type": "stream",
     "text": [
      "cv\n",
      "individual models\n"
     ]
    },
    {
     "name": "stderr",
     "output_type": "stream",
     "text": [
      "/home/wanlab/nick/.local/lib/python3.8/site-packages/sklearn/discriminant_analysis.py:935: UserWarning: Variables are collinear\n",
      "  warnings.warn(\"Variables are collinear\")\n"
     ]
    },
    {
     "name": "stdout",
     "output_type": "stream",
     "text": [
      "cv\n",
      "individual models\n"
     ]
    },
    {
     "name": "stderr",
     "output_type": "stream",
     "text": [
      "/home/wanlab/nick/.local/lib/python3.8/site-packages/sklearn/discriminant_analysis.py:935: UserWarning: Variables are collinear\n",
      "  warnings.warn(\"Variables are collinear\")\n"
     ]
    },
    {
     "name": "stdout",
     "output_type": "stream",
     "text": [
      "cv\n",
      "individual models\n"
     ]
    },
    {
     "name": "stderr",
     "output_type": "stream",
     "text": [
      "/home/wanlab/nick/.local/lib/python3.8/site-packages/sklearn/discriminant_analysis.py:935: UserWarning: Variables are collinear\n",
      "  warnings.warn(\"Variables are collinear\")\n"
     ]
    },
    {
     "name": "stdout",
     "output_type": "stream",
     "text": [
      "cv\n",
      "individual models\n"
     ]
    },
    {
     "name": "stderr",
     "output_type": "stream",
     "text": [
      "/home/wanlab/nick/.local/lib/python3.8/site-packages/sklearn/discriminant_analysis.py:935: UserWarning: Variables are collinear\n",
      "  warnings.warn(\"Variables are collinear\")\n"
     ]
    },
    {
     "name": "stdout",
     "output_type": "stream",
     "text": [
      "cv\n",
      "individual models\n"
     ]
    },
    {
     "name": "stderr",
     "output_type": "stream",
     "text": [
      "/home/wanlab/nick/.local/lib/python3.8/site-packages/sklearn/discriminant_analysis.py:935: UserWarning: Variables are collinear\n",
      "  warnings.warn(\"Variables are collinear\")\n"
     ]
    },
    {
     "name": "stdout",
     "output_type": "stream",
     "text": [
      "cv\n",
      "individual models\n"
     ]
    },
    {
     "name": "stderr",
     "output_type": "stream",
     "text": [
      "/home/wanlab/nick/.local/lib/python3.8/site-packages/sklearn/discriminant_analysis.py:935: UserWarning: Variables are collinear\n",
      "  warnings.warn(\"Variables are collinear\")\n"
     ]
    },
    {
     "name": "stdout",
     "output_type": "stream",
     "text": [
      "cv\n",
      "individual models\n"
     ]
    },
    {
     "name": "stderr",
     "output_type": "stream",
     "text": [
      "/home/wanlab/nick/.local/lib/python3.8/site-packages/sklearn/discriminant_analysis.py:935: UserWarning: Variables are collinear\n",
      "  warnings.warn(\"Variables are collinear\")\n"
     ]
    },
    {
     "name": "stdout",
     "output_type": "stream",
     "text": [
      "cv\n",
      "individual models\n"
     ]
    },
    {
     "name": "stderr",
     "output_type": "stream",
     "text": [
      "/home/wanlab/nick/.local/lib/python3.8/site-packages/sklearn/discriminant_analysis.py:935: UserWarning: Variables are collinear\n",
      "  warnings.warn(\"Variables are collinear\")\n"
     ]
    },
    {
     "name": "stdout",
     "output_type": "stream",
     "text": [
      "cv\n",
      "individual models\n"
     ]
    },
    {
     "name": "stderr",
     "output_type": "stream",
     "text": [
      "/home/wanlab/nick/.local/lib/python3.8/site-packages/sklearn/discriminant_analysis.py:935: UserWarning: Variables are collinear\n",
      "  warnings.warn(\"Variables are collinear\")\n"
     ]
    },
    {
     "name": "stdout",
     "output_type": "stream",
     "text": [
      "cv\n",
      "individual models\n"
     ]
    },
    {
     "name": "stderr",
     "output_type": "stream",
     "text": [
      "/home/wanlab/nick/.local/lib/python3.8/site-packages/sklearn/discriminant_analysis.py:935: UserWarning: Variables are collinear\n",
      "  warnings.warn(\"Variables are collinear\")\n"
     ]
    },
    {
     "name": "stdout",
     "output_type": "stream",
     "text": [
      "cv\n",
      "individual models\n"
     ]
    },
    {
     "name": "stderr",
     "output_type": "stream",
     "text": [
      "/home/wanlab/nick/.local/lib/python3.8/site-packages/sklearn/discriminant_analysis.py:935: UserWarning: Variables are collinear\n",
      "  warnings.warn(\"Variables are collinear\")\n"
     ]
    },
    {
     "name": "stdout",
     "output_type": "stream",
     "text": [
      "cv\n",
      "individual models\n"
     ]
    },
    {
     "name": "stderr",
     "output_type": "stream",
     "text": [
      "/home/wanlab/nick/.local/lib/python3.8/site-packages/sklearn/discriminant_analysis.py:935: UserWarning: Variables are collinear\n",
      "  warnings.warn(\"Variables are collinear\")\n"
     ]
    },
    {
     "name": "stdout",
     "output_type": "stream",
     "text": [
      "cv\n",
      "individual models\n"
     ]
    },
    {
     "name": "stderr",
     "output_type": "stream",
     "text": [
      "/home/wanlab/nick/.local/lib/python3.8/site-packages/sklearn/discriminant_analysis.py:935: UserWarning: Variables are collinear\n",
      "  warnings.warn(\"Variables are collinear\")\n"
     ]
    },
    {
     "name": "stdout",
     "output_type": "stream",
     "text": [
      "cv\n",
      "individual models\n"
     ]
    },
    {
     "name": "stderr",
     "output_type": "stream",
     "text": [
      "/home/wanlab/nick/.local/lib/python3.8/site-packages/sklearn/discriminant_analysis.py:935: UserWarning: Variables are collinear\n",
      "  warnings.warn(\"Variables are collinear\")\n"
     ]
    },
    {
     "name": "stdout",
     "output_type": "stream",
     "text": [
      "cv\n",
      "individual models\n"
     ]
    },
    {
     "name": "stderr",
     "output_type": "stream",
     "text": [
      "/home/wanlab/nick/.local/lib/python3.8/site-packages/sklearn/discriminant_analysis.py:935: UserWarning: Variables are collinear\n",
      "  warnings.warn(\"Variables are collinear\")\n"
     ]
    },
    {
     "name": "stdout",
     "output_type": "stream",
     "text": [
      "cv\n",
      "individual models\n"
     ]
    },
    {
     "name": "stderr",
     "output_type": "stream",
     "text": [
      "/home/wanlab/nick/.local/lib/python3.8/site-packages/sklearn/discriminant_analysis.py:935: UserWarning: Variables are collinear\n",
      "  warnings.warn(\"Variables are collinear\")\n"
     ]
    },
    {
     "name": "stdout",
     "output_type": "stream",
     "text": [
      "cv\n",
      "individual models\n"
     ]
    },
    {
     "name": "stderr",
     "output_type": "stream",
     "text": [
      "/home/wanlab/nick/.local/lib/python3.8/site-packages/sklearn/discriminant_analysis.py:935: UserWarning: Variables are collinear\n",
      "  warnings.warn(\"Variables are collinear\")\n"
     ]
    },
    {
     "name": "stdout",
     "output_type": "stream",
     "text": [
      "cv\n",
      "individual models\n"
     ]
    },
    {
     "name": "stderr",
     "output_type": "stream",
     "text": [
      "/home/wanlab/nick/.local/lib/python3.8/site-packages/sklearn/discriminant_analysis.py:935: UserWarning: Variables are collinear\n",
      "  warnings.warn(\"Variables are collinear\")\n"
     ]
    },
    {
     "name": "stdout",
     "output_type": "stream",
     "text": [
      "cv\n",
      "individual models\n"
     ]
    },
    {
     "name": "stderr",
     "output_type": "stream",
     "text": [
      "/home/wanlab/nick/.local/lib/python3.8/site-packages/sklearn/discriminant_analysis.py:935: UserWarning: Variables are collinear\n",
      "  warnings.warn(\"Variables are collinear\")\n"
     ]
    },
    {
     "name": "stdout",
     "output_type": "stream",
     "text": [
      "cv\n",
      "individual models\n"
     ]
    },
    {
     "name": "stderr",
     "output_type": "stream",
     "text": [
      "/home/wanlab/nick/.local/lib/python3.8/site-packages/sklearn/discriminant_analysis.py:935: UserWarning: Variables are collinear\n",
      "  warnings.warn(\"Variables are collinear\")\n"
     ]
    },
    {
     "name": "stdout",
     "output_type": "stream",
     "text": [
      "cv\n",
      "individual models\n"
     ]
    },
    {
     "name": "stderr",
     "output_type": "stream",
     "text": [
      "/home/wanlab/nick/.local/lib/python3.8/site-packages/sklearn/discriminant_analysis.py:935: UserWarning: Variables are collinear\n",
      "  warnings.warn(\"Variables are collinear\")\n"
     ]
    },
    {
     "name": "stdout",
     "output_type": "stream",
     "text": [
      "cv\n",
      "individual models\n"
     ]
    },
    {
     "name": "stderr",
     "output_type": "stream",
     "text": [
      "/home/wanlab/nick/.local/lib/python3.8/site-packages/sklearn/discriminant_analysis.py:935: UserWarning: Variables are collinear\n",
      "  warnings.warn(\"Variables are collinear\")\n"
     ]
    },
    {
     "name": "stdout",
     "output_type": "stream",
     "text": [
      "cv\n",
      "individual models\n"
     ]
    },
    {
     "name": "stderr",
     "output_type": "stream",
     "text": [
      "/home/wanlab/nick/.local/lib/python3.8/site-packages/sklearn/discriminant_analysis.py:935: UserWarning: Variables are collinear\n",
      "  warnings.warn(\"Variables are collinear\")\n"
     ]
    },
    {
     "name": "stdout",
     "output_type": "stream",
     "text": [
      "cv\n",
      "individual models\n"
     ]
    },
    {
     "name": "stderr",
     "output_type": "stream",
     "text": [
      "/home/wanlab/nick/.local/lib/python3.8/site-packages/sklearn/discriminant_analysis.py:935: UserWarning: Variables are collinear\n",
      "  warnings.warn(\"Variables are collinear\")\n"
     ]
    },
    {
     "name": "stdout",
     "output_type": "stream",
     "text": [
      "cv\n",
      "individual models\n"
     ]
    },
    {
     "name": "stderr",
     "output_type": "stream",
     "text": [
      "/home/wanlab/nick/.local/lib/python3.8/site-packages/sklearn/discriminant_analysis.py:935: UserWarning: Variables are collinear\n",
      "  warnings.warn(\"Variables are collinear\")\n"
     ]
    },
    {
     "name": "stdout",
     "output_type": "stream",
     "text": [
      "cv\n",
      "individual models\n"
     ]
    },
    {
     "name": "stderr",
     "output_type": "stream",
     "text": [
      "/home/wanlab/nick/.local/lib/python3.8/site-packages/sklearn/discriminant_analysis.py:935: UserWarning: Variables are collinear\n",
      "  warnings.warn(\"Variables are collinear\")\n"
     ]
    },
    {
     "name": "stdout",
     "output_type": "stream",
     "text": [
      "cv\n",
      "individual models\n"
     ]
    },
    {
     "name": "stderr",
     "output_type": "stream",
     "text": [
      "/home/wanlab/nick/.local/lib/python3.8/site-packages/sklearn/discriminant_analysis.py:935: UserWarning: Variables are collinear\n",
      "  warnings.warn(\"Variables are collinear\")\n"
     ]
    },
    {
     "name": "stdout",
     "output_type": "stream",
     "text": [
      "cv\n",
      "individual models\n"
     ]
    },
    {
     "name": "stderr",
     "output_type": "stream",
     "text": [
      "/home/wanlab/nick/.local/lib/python3.8/site-packages/sklearn/discriminant_analysis.py:935: UserWarning: Variables are collinear\n",
      "  warnings.warn(\"Variables are collinear\")\n"
     ]
    },
    {
     "name": "stdout",
     "output_type": "stream",
     "text": [
      "cv\n",
      "individual models\n"
     ]
    },
    {
     "name": "stderr",
     "output_type": "stream",
     "text": [
      "/home/wanlab/nick/.local/lib/python3.8/site-packages/sklearn/discriminant_analysis.py:935: UserWarning: Variables are collinear\n",
      "  warnings.warn(\"Variables are collinear\")\n"
     ]
    },
    {
     "name": "stdout",
     "output_type": "stream",
     "text": [
      "cv\n",
      "individual models\n"
     ]
    },
    {
     "name": "stderr",
     "output_type": "stream",
     "text": [
      "/home/wanlab/nick/.local/lib/python3.8/site-packages/sklearn/discriminant_analysis.py:935: UserWarning: Variables are collinear\n",
      "  warnings.warn(\"Variables are collinear\")\n"
     ]
    },
    {
     "name": "stdout",
     "output_type": "stream",
     "text": [
      "cv\n",
      "individual models\n"
     ]
    },
    {
     "name": "stderr",
     "output_type": "stream",
     "text": [
      "/home/wanlab/nick/.local/lib/python3.8/site-packages/sklearn/discriminant_analysis.py:935: UserWarning: Variables are collinear\n",
      "  warnings.warn(\"Variables are collinear\")\n"
     ]
    },
    {
     "name": "stdout",
     "output_type": "stream",
     "text": [
      "cv\n",
      "individual models\n"
     ]
    },
    {
     "name": "stderr",
     "output_type": "stream",
     "text": [
      "/home/wanlab/nick/.local/lib/python3.8/site-packages/sklearn/discriminant_analysis.py:935: UserWarning: Variables are collinear\n",
      "  warnings.warn(\"Variables are collinear\")\n"
     ]
    },
    {
     "name": "stdout",
     "output_type": "stream",
     "text": [
      "cv\n",
      "individual models\n"
     ]
    },
    {
     "name": "stderr",
     "output_type": "stream",
     "text": [
      "/home/wanlab/nick/.local/lib/python3.8/site-packages/sklearn/discriminant_analysis.py:935: UserWarning: Variables are collinear\n",
      "  warnings.warn(\"Variables are collinear\")\n"
     ]
    },
    {
     "name": "stdout",
     "output_type": "stream",
     "text": [
      "cv\n",
      "individual models\n"
     ]
    },
    {
     "name": "stderr",
     "output_type": "stream",
     "text": [
      "/home/wanlab/nick/.local/lib/python3.8/site-packages/sklearn/discriminant_analysis.py:935: UserWarning: Variables are collinear\n",
      "  warnings.warn(\"Variables are collinear\")\n"
     ]
    },
    {
     "name": "stdout",
     "output_type": "stream",
     "text": [
      "cv\n",
      "individual models\n"
     ]
    },
    {
     "name": "stderr",
     "output_type": "stream",
     "text": [
      "/home/wanlab/nick/.local/lib/python3.8/site-packages/sklearn/discriminant_analysis.py:935: UserWarning: Variables are collinear\n",
      "  warnings.warn(\"Variables are collinear\")\n"
     ]
    },
    {
     "name": "stdout",
     "output_type": "stream",
     "text": [
      "cv\n",
      "individual models\n"
     ]
    },
    {
     "name": "stderr",
     "output_type": "stream",
     "text": [
      "/home/wanlab/nick/.local/lib/python3.8/site-packages/sklearn/discriminant_analysis.py:935: UserWarning: Variables are collinear\n",
      "  warnings.warn(\"Variables are collinear\")\n"
     ]
    },
    {
     "name": "stdout",
     "output_type": "stream",
     "text": [
      "cv\n",
      "individual models\n"
     ]
    },
    {
     "name": "stderr",
     "output_type": "stream",
     "text": [
      "/home/wanlab/nick/.local/lib/python3.8/site-packages/sklearn/discriminant_analysis.py:935: UserWarning: Variables are collinear\n",
      "  warnings.warn(\"Variables are collinear\")\n"
     ]
    },
    {
     "name": "stdout",
     "output_type": "stream",
     "text": [
      "cv\n",
      "individual models\n"
     ]
    },
    {
     "name": "stderr",
     "output_type": "stream",
     "text": [
      "/home/wanlab/nick/.local/lib/python3.8/site-packages/sklearn/discriminant_analysis.py:935: UserWarning: Variables are collinear\n",
      "  warnings.warn(\"Variables are collinear\")\n"
     ]
    },
    {
     "name": "stdout",
     "output_type": "stream",
     "text": [
      "cv\n",
      "individual models\n"
     ]
    },
    {
     "name": "stderr",
     "output_type": "stream",
     "text": [
      "/home/wanlab/nick/.local/lib/python3.8/site-packages/sklearn/discriminant_analysis.py:935: UserWarning: Variables are collinear\n",
      "  warnings.warn(\"Variables are collinear\")\n"
     ]
    },
    {
     "name": "stdout",
     "output_type": "stream",
     "text": [
      "cv\n",
      "individual models\n"
     ]
    },
    {
     "name": "stderr",
     "output_type": "stream",
     "text": [
      "/home/wanlab/nick/.local/lib/python3.8/site-packages/sklearn/discriminant_analysis.py:935: UserWarning: Variables are collinear\n",
      "  warnings.warn(\"Variables are collinear\")\n"
     ]
    },
    {
     "name": "stdout",
     "output_type": "stream",
     "text": [
      "cv\n",
      "individual models\n"
     ]
    },
    {
     "name": "stderr",
     "output_type": "stream",
     "text": [
      "/home/wanlab/nick/.local/lib/python3.8/site-packages/sklearn/discriminant_analysis.py:935: UserWarning: Variables are collinear\n",
      "  warnings.warn(\"Variables are collinear\")\n"
     ]
    },
    {
     "name": "stdout",
     "output_type": "stream",
     "text": [
      "cv\n",
      "individual models\n"
     ]
    },
    {
     "name": "stderr",
     "output_type": "stream",
     "text": [
      "/home/wanlab/nick/.local/lib/python3.8/site-packages/sklearn/discriminant_analysis.py:935: UserWarning: Variables are collinear\n",
      "  warnings.warn(\"Variables are collinear\")\n"
     ]
    },
    {
     "name": "stdout",
     "output_type": "stream",
     "text": [
      "cv\n",
      "individual models\n"
     ]
    },
    {
     "name": "stderr",
     "output_type": "stream",
     "text": [
      "/home/wanlab/nick/.local/lib/python3.8/site-packages/sklearn/discriminant_analysis.py:935: UserWarning: Variables are collinear\n",
      "  warnings.warn(\"Variables are collinear\")\n"
     ]
    },
    {
     "name": "stdout",
     "output_type": "stream",
     "text": [
      "cv\n",
      "individual models\n"
     ]
    },
    {
     "name": "stderr",
     "output_type": "stream",
     "text": [
      "/home/wanlab/nick/.local/lib/python3.8/site-packages/sklearn/discriminant_analysis.py:935: UserWarning: Variables are collinear\n",
      "  warnings.warn(\"Variables are collinear\")\n"
     ]
    },
    {
     "name": "stdout",
     "output_type": "stream",
     "text": [
      "cv\n",
      "individual models\n"
     ]
    },
    {
     "name": "stderr",
     "output_type": "stream",
     "text": [
      "/home/wanlab/nick/.local/lib/python3.8/site-packages/sklearn/discriminant_analysis.py:935: UserWarning: Variables are collinear\n",
      "  warnings.warn(\"Variables are collinear\")\n"
     ]
    },
    {
     "name": "stdout",
     "output_type": "stream",
     "text": [
      "cv\n",
      "individual models\n"
     ]
    },
    {
     "name": "stderr",
     "output_type": "stream",
     "text": [
      "/home/wanlab/nick/.local/lib/python3.8/site-packages/sklearn/discriminant_analysis.py:935: UserWarning: Variables are collinear\n",
      "  warnings.warn(\"Variables are collinear\")\n"
     ]
    },
    {
     "name": "stdout",
     "output_type": "stream",
     "text": [
      "cv\n",
      "individual models\n"
     ]
    },
    {
     "name": "stderr",
     "output_type": "stream",
     "text": [
      "/home/wanlab/nick/.local/lib/python3.8/site-packages/sklearn/discriminant_analysis.py:935: UserWarning: Variables are collinear\n",
      "  warnings.warn(\"Variables are collinear\")\n"
     ]
    },
    {
     "name": "stdout",
     "output_type": "stream",
     "text": [
      "cv\n",
      "individual models\n"
     ]
    },
    {
     "name": "stderr",
     "output_type": "stream",
     "text": [
      "/home/wanlab/nick/.local/lib/python3.8/site-packages/sklearn/discriminant_analysis.py:935: UserWarning: Variables are collinear\n",
      "  warnings.warn(\"Variables are collinear\")\n"
     ]
    },
    {
     "name": "stdout",
     "output_type": "stream",
     "text": [
      "cv\n",
      "individual models\n"
     ]
    },
    {
     "name": "stderr",
     "output_type": "stream",
     "text": [
      "/home/wanlab/nick/.local/lib/python3.8/site-packages/sklearn/discriminant_analysis.py:935: UserWarning: Variables are collinear\n",
      "  warnings.warn(\"Variables are collinear\")\n"
     ]
    },
    {
     "name": "stdout",
     "output_type": "stream",
     "text": [
      "cv\n",
      "individual models\n"
     ]
    },
    {
     "name": "stderr",
     "output_type": "stream",
     "text": [
      "/home/wanlab/nick/.local/lib/python3.8/site-packages/sklearn/discriminant_analysis.py:935: UserWarning: Variables are collinear\n",
      "  warnings.warn(\"Variables are collinear\")\n"
     ]
    },
    {
     "name": "stdout",
     "output_type": "stream",
     "text": [
      "cv\n",
      "individual models\n"
     ]
    },
    {
     "name": "stderr",
     "output_type": "stream",
     "text": [
      "/home/wanlab/nick/.local/lib/python3.8/site-packages/sklearn/discriminant_analysis.py:935: UserWarning: Variables are collinear\n",
      "  warnings.warn(\"Variables are collinear\")\n"
     ]
    },
    {
     "name": "stdout",
     "output_type": "stream",
     "text": [
      "cv\n",
      "individual models\n"
     ]
    },
    {
     "name": "stderr",
     "output_type": "stream",
     "text": [
      "/home/wanlab/nick/.local/lib/python3.8/site-packages/sklearn/discriminant_analysis.py:935: UserWarning: Variables are collinear\n",
      "  warnings.warn(\"Variables are collinear\")\n"
     ]
    },
    {
     "name": "stdout",
     "output_type": "stream",
     "text": [
      "cv\n",
      "individual models\n"
     ]
    },
    {
     "name": "stderr",
     "output_type": "stream",
     "text": [
      "/home/wanlab/nick/.local/lib/python3.8/site-packages/sklearn/discriminant_analysis.py:935: UserWarning: Variables are collinear\n",
      "  warnings.warn(\"Variables are collinear\")\n"
     ]
    },
    {
     "name": "stdout",
     "output_type": "stream",
     "text": [
      "cv\n",
      "individual models\n"
     ]
    },
    {
     "name": "stderr",
     "output_type": "stream",
     "text": [
      "/home/wanlab/nick/.local/lib/python3.8/site-packages/sklearn/discriminant_analysis.py:935: UserWarning: Variables are collinear\n",
      "  warnings.warn(\"Variables are collinear\")\n"
     ]
    },
    {
     "name": "stdout",
     "output_type": "stream",
     "text": [
      "cv\n",
      "individual models\n"
     ]
    },
    {
     "name": "stderr",
     "output_type": "stream",
     "text": [
      "/home/wanlab/nick/.local/lib/python3.8/site-packages/sklearn/discriminant_analysis.py:935: UserWarning: Variables are collinear\n",
      "  warnings.warn(\"Variables are collinear\")\n"
     ]
    },
    {
     "name": "stdout",
     "output_type": "stream",
     "text": [
      "cv\n",
      "individual models\n"
     ]
    },
    {
     "name": "stderr",
     "output_type": "stream",
     "text": [
      "/home/wanlab/nick/.local/lib/python3.8/site-packages/sklearn/discriminant_analysis.py:935: UserWarning: Variables are collinear\n",
      "  warnings.warn(\"Variables are collinear\")\n"
     ]
    },
    {
     "name": "stdout",
     "output_type": "stream",
     "text": [
      "cv\n",
      "individual models\n"
     ]
    },
    {
     "name": "stderr",
     "output_type": "stream",
     "text": [
      "/home/wanlab/nick/.local/lib/python3.8/site-packages/sklearn/discriminant_analysis.py:935: UserWarning: Variables are collinear\n",
      "  warnings.warn(\"Variables are collinear\")\n"
     ]
    },
    {
     "name": "stdout",
     "output_type": "stream",
     "text": [
      "cv\n",
      "individual models\n"
     ]
    },
    {
     "name": "stderr",
     "output_type": "stream",
     "text": [
      "/home/wanlab/nick/.local/lib/python3.8/site-packages/sklearn/discriminant_analysis.py:935: UserWarning: Variables are collinear\n",
      "  warnings.warn(\"Variables are collinear\")\n"
     ]
    },
    {
     "name": "stdout",
     "output_type": "stream",
     "text": [
      "cv\n",
      "individual models\n"
     ]
    },
    {
     "name": "stderr",
     "output_type": "stream",
     "text": [
      "/home/wanlab/nick/.local/lib/python3.8/site-packages/sklearn/discriminant_analysis.py:935: UserWarning: Variables are collinear\n",
      "  warnings.warn(\"Variables are collinear\")\n"
     ]
    },
    {
     "name": "stdout",
     "output_type": "stream",
     "text": [
      "cv\n",
      "individual models\n"
     ]
    },
    {
     "name": "stderr",
     "output_type": "stream",
     "text": [
      "/home/wanlab/nick/.local/lib/python3.8/site-packages/sklearn/discriminant_analysis.py:935: UserWarning: Variables are collinear\n",
      "  warnings.warn(\"Variables are collinear\")\n"
     ]
    },
    {
     "name": "stdout",
     "output_type": "stream",
     "text": [
      "cv\n",
      "individual models\n"
     ]
    },
    {
     "name": "stderr",
     "output_type": "stream",
     "text": [
      "/home/wanlab/nick/.local/lib/python3.8/site-packages/sklearn/discriminant_analysis.py:935: UserWarning: Variables are collinear\n",
      "  warnings.warn(\"Variables are collinear\")\n"
     ]
    },
    {
     "name": "stdout",
     "output_type": "stream",
     "text": [
      "cv\n",
      "individual models\n"
     ]
    },
    {
     "name": "stderr",
     "output_type": "stream",
     "text": [
      "/home/wanlab/nick/.local/lib/python3.8/site-packages/sklearn/discriminant_analysis.py:935: UserWarning: Variables are collinear\n",
      "  warnings.warn(\"Variables are collinear\")\n"
     ]
    },
    {
     "name": "stdout",
     "output_type": "stream",
     "text": [
      "cv\n",
      "individual models\n"
     ]
    },
    {
     "name": "stderr",
     "output_type": "stream",
     "text": [
      "/home/wanlab/nick/.local/lib/python3.8/site-packages/sklearn/discriminant_analysis.py:935: UserWarning: Variables are collinear\n",
      "  warnings.warn(\"Variables are collinear\")\n"
     ]
    },
    {
     "name": "stdout",
     "output_type": "stream",
     "text": [
      "cv\n",
      "individual models\n"
     ]
    },
    {
     "name": "stderr",
     "output_type": "stream",
     "text": [
      "/home/wanlab/nick/.local/lib/python3.8/site-packages/sklearn/discriminant_analysis.py:935: UserWarning: Variables are collinear\n",
      "  warnings.warn(\"Variables are collinear\")\n"
     ]
    },
    {
     "name": "stdout",
     "output_type": "stream",
     "text": [
      "cv\n",
      "individual models\n"
     ]
    },
    {
     "name": "stderr",
     "output_type": "stream",
     "text": [
      "/home/wanlab/nick/.local/lib/python3.8/site-packages/sklearn/discriminant_analysis.py:935: UserWarning: Variables are collinear\n",
      "  warnings.warn(\"Variables are collinear\")\n"
     ]
    },
    {
     "name": "stdout",
     "output_type": "stream",
     "text": [
      "cv\n",
      "individual models\n"
     ]
    },
    {
     "name": "stderr",
     "output_type": "stream",
     "text": [
      "/home/wanlab/nick/.local/lib/python3.8/site-packages/sklearn/discriminant_analysis.py:935: UserWarning: Variables are collinear\n",
      "  warnings.warn(\"Variables are collinear\")\n"
     ]
    },
    {
     "name": "stdout",
     "output_type": "stream",
     "text": [
      "cv\n",
      "individual models\n"
     ]
    },
    {
     "name": "stderr",
     "output_type": "stream",
     "text": [
      "/home/wanlab/nick/.local/lib/python3.8/site-packages/sklearn/discriminant_analysis.py:935: UserWarning: Variables are collinear\n",
      "  warnings.warn(\"Variables are collinear\")\n"
     ]
    },
    {
     "name": "stdout",
     "output_type": "stream",
     "text": [
      "cv\n",
      "individual models\n"
     ]
    },
    {
     "name": "stderr",
     "output_type": "stream",
     "text": [
      "/home/wanlab/nick/.local/lib/python3.8/site-packages/sklearn/discriminant_analysis.py:935: UserWarning: Variables are collinear\n",
      "  warnings.warn(\"Variables are collinear\")\n"
     ]
    },
    {
     "name": "stdout",
     "output_type": "stream",
     "text": [
      "cv\n",
      "individual models\n"
     ]
    },
    {
     "name": "stderr",
     "output_type": "stream",
     "text": [
      "/home/wanlab/nick/.local/lib/python3.8/site-packages/sklearn/discriminant_analysis.py:935: UserWarning: Variables are collinear\n",
      "  warnings.warn(\"Variables are collinear\")\n"
     ]
    },
    {
     "name": "stdout",
     "output_type": "stream",
     "text": [
      "cv\n",
      "individual models\n"
     ]
    },
    {
     "name": "stderr",
     "output_type": "stream",
     "text": [
      "/home/wanlab/nick/.local/lib/python3.8/site-packages/sklearn/discriminant_analysis.py:935: UserWarning: Variables are collinear\n",
      "  warnings.warn(\"Variables are collinear\")\n"
     ]
    },
    {
     "name": "stdout",
     "output_type": "stream",
     "text": [
      "cv\n",
      "individual models\n"
     ]
    },
    {
     "name": "stderr",
     "output_type": "stream",
     "text": [
      "/home/wanlab/nick/.local/lib/python3.8/site-packages/sklearn/discriminant_analysis.py:935: UserWarning: Variables are collinear\n",
      "  warnings.warn(\"Variables are collinear\")\n"
     ]
    },
    {
     "name": "stdout",
     "output_type": "stream",
     "text": [
      "cv\n",
      "individual models\n"
     ]
    },
    {
     "name": "stderr",
     "output_type": "stream",
     "text": [
      "/home/wanlab/nick/.local/lib/python3.8/site-packages/sklearn/discriminant_analysis.py:935: UserWarning: Variables are collinear\n",
      "  warnings.warn(\"Variables are collinear\")\n"
     ]
    },
    {
     "name": "stdout",
     "output_type": "stream",
     "text": [
      "cv\n",
      "individual models\n"
     ]
    },
    {
     "name": "stderr",
     "output_type": "stream",
     "text": [
      "/home/wanlab/nick/.local/lib/python3.8/site-packages/sklearn/discriminant_analysis.py:935: UserWarning: Variables are collinear\n",
      "  warnings.warn(\"Variables are collinear\")\n"
     ]
    },
    {
     "name": "stdout",
     "output_type": "stream",
     "text": [
      "cv\n",
      "individual models\n"
     ]
    },
    {
     "name": "stderr",
     "output_type": "stream",
     "text": [
      "/home/wanlab/nick/.local/lib/python3.8/site-packages/sklearn/discriminant_analysis.py:935: UserWarning: Variables are collinear\n",
      "  warnings.warn(\"Variables are collinear\")\n"
     ]
    },
    {
     "name": "stdout",
     "output_type": "stream",
     "text": [
      "cv\n",
      "individual models\n"
     ]
    },
    {
     "name": "stderr",
     "output_type": "stream",
     "text": [
      "/home/wanlab/nick/.local/lib/python3.8/site-packages/sklearn/discriminant_analysis.py:935: UserWarning: Variables are collinear\n",
      "  warnings.warn(\"Variables are collinear\")\n"
     ]
    },
    {
     "name": "stdout",
     "output_type": "stream",
     "text": [
      "cv\n",
      "individual models\n"
     ]
    },
    {
     "name": "stderr",
     "output_type": "stream",
     "text": [
      "/home/wanlab/nick/.local/lib/python3.8/site-packages/sklearn/discriminant_analysis.py:935: UserWarning: Variables are collinear\n",
      "  warnings.warn(\"Variables are collinear\")\n"
     ]
    },
    {
     "name": "stdout",
     "output_type": "stream",
     "text": [
      "cv\n",
      "individual models\n"
     ]
    },
    {
     "name": "stderr",
     "output_type": "stream",
     "text": [
      "/home/wanlab/nick/.local/lib/python3.8/site-packages/sklearn/discriminant_analysis.py:935: UserWarning: Variables are collinear\n",
      "  warnings.warn(\"Variables are collinear\")\n"
     ]
    },
    {
     "name": "stdout",
     "output_type": "stream",
     "text": [
      "cv\n",
      "individual models\n"
     ]
    },
    {
     "name": "stderr",
     "output_type": "stream",
     "text": [
      "/home/wanlab/nick/.local/lib/python3.8/site-packages/sklearn/discriminant_analysis.py:935: UserWarning: Variables are collinear\n",
      "  warnings.warn(\"Variables are collinear\")\n"
     ]
    },
    {
     "name": "stdout",
     "output_type": "stream",
     "text": [
      "cv\n",
      "individual models\n"
     ]
    },
    {
     "name": "stderr",
     "output_type": "stream",
     "text": [
      "/home/wanlab/nick/.local/lib/python3.8/site-packages/sklearn/discriminant_analysis.py:935: UserWarning: Variables are collinear\n",
      "  warnings.warn(\"Variables are collinear\")\n"
     ]
    },
    {
     "name": "stdout",
     "output_type": "stream",
     "text": [
      "cv\n",
      "individual models\n"
     ]
    },
    {
     "name": "stderr",
     "output_type": "stream",
     "text": [
      "/home/wanlab/nick/.local/lib/python3.8/site-packages/sklearn/discriminant_analysis.py:935: UserWarning: Variables are collinear\n",
      "  warnings.warn(\"Variables are collinear\")\n"
     ]
    },
    {
     "name": "stdout",
     "output_type": "stream",
     "text": [
      "cv\n",
      "individual models\n"
     ]
    },
    {
     "name": "stderr",
     "output_type": "stream",
     "text": [
      "/home/wanlab/nick/.local/lib/python3.8/site-packages/sklearn/discriminant_analysis.py:935: UserWarning: Variables are collinear\n",
      "  warnings.warn(\"Variables are collinear\")\n"
     ]
    },
    {
     "name": "stdout",
     "output_type": "stream",
     "text": [
      "cv\n",
      "\n",
      "model score of oof results for SVC\n",
      "Model Accuracy: 0.875\n",
      "Precision: 0.8798649267399267\n",
      "Recall (Sensitivity): 0.875\n",
      "F1 Score: 0.8751610313936894\n",
      "Matthews Correlation Coefficient (MCC): 0.8329181448543629\n",
      "G-Measure: 0.9162567046538834\n",
      "AUC: 0.9869674962654714\n",
      "Specificity: 0.9582719803670507\n",
      "Jaccard Index: 0.7779538993943889\n",
      "Saving metrics to: /work/wanlab/nick//stackeval6/val_data/individual models/SVC/limma(0),metrics.csv\n",
      "PREDICTIONS                   subtype  Squamous      ADEX  Pancreatic Progenitor  \\\n",
      "0   Pancreatic Progenitor  0.111548  0.034154               0.822370   \n",
      "1                    ADEX  0.032685  0.917339               0.017109   \n",
      "2   Pancreatic Progenitor  0.243937  0.216991               0.504206   \n",
      "3   Pancreatic Progenitor  0.005584  0.067531               0.880668   \n",
      "4                    ADEX  0.117789  0.689472               0.168439   \n",
      "..                    ...       ...       ...                    ...   \n",
      "91            Immunogenic  0.007607  0.052778               0.009519   \n",
      "92                   ADEX  0.008158  0.784024               0.152735   \n",
      "93            Immunogenic  0.041447  0.036850               0.394238   \n",
      "94               Squamous  0.619622  0.063653               0.286601   \n",
      "95  Pancreatic Progenitor  0.002425  0.018209               0.857398   \n",
      "\n",
      "    Immunogenic  \n",
      "0      0.031928  \n",
      "1      0.032866  \n",
      "2      0.034866  \n",
      "3      0.046217  \n",
      "4      0.024301  \n",
      "..          ...  \n",
      "91     0.930096  \n",
      "92     0.055083  \n",
      "93     0.527465  \n",
      "94     0.030124  \n",
      "95     0.121968  \n",
      "\n",
      "[96 rows x 5 columns]\n",
      "\n",
      "model score of oof results for SVC2\n",
      "Model Accuracy: 0.9270833333333334\n",
      "Precision: 0.9282457295657727\n",
      "Recall (Sensitivity): 0.9270833333333334\n",
      "F1 Score: 0.927124353652804\n",
      "Matthews Correlation Coefficient (MCC): 0.9017909960019698\n",
      "G-Measure: 0.9519085598926197\n",
      "AUC: 0.9860793231611894\n",
      "Specificity: 0.9752147353819889\n",
      "Jaccard Index: 0.8669652957336781\n",
      "Saving metrics to: /work/wanlab/nick//stackeval6/val_data/individual models/SVC2/limma(0),metrics.csv\n",
      "PREDICTIONS                   subtype  Squamous      ADEX  Pancreatic Progenitor  \\\n",
      "0   Pancreatic Progenitor  0.174558  0.040396               0.749649   \n",
      "1                    ADEX  0.080024  0.820895               0.032330   \n",
      "2   Pancreatic Progenitor  0.312448  0.172260               0.480799   \n",
      "3   Pancreatic Progenitor  0.012687  0.079249               0.849449   \n",
      "4                    ADEX  0.259908  0.473032               0.229648   \n",
      "..                    ...       ...       ...                    ...   \n",
      "91            Immunogenic  0.017915  0.088881               0.012988   \n",
      "92                   ADEX  0.020314  0.778125               0.114262   \n",
      "93            Immunogenic  0.100420  0.024923               0.672338   \n",
      "94               Squamous  0.590124  0.023953               0.370213   \n",
      "95  Pancreatic Progenitor  0.004044  0.025374               0.765556   \n",
      "\n",
      "    Immunogenic  \n",
      "0      0.035398  \n",
      "1      0.066751  \n",
      "2      0.034492  \n",
      "3      0.058615  \n",
      "4      0.037412  \n",
      "..          ...  \n",
      "91     0.880216  \n",
      "92     0.087299  \n",
      "93     0.202318  \n",
      "94     0.015710  \n",
      "95     0.205025  \n",
      "\n",
      "[96 rows x 5 columns]\n",
      "\n",
      "model score of oof results for GaussianNB\n",
      "Model Accuracy: 0.8020833333333334\n",
      "Precision: 0.8112185846560847\n",
      "Recall (Sensitivity): 0.8020833333333334\n",
      "F1 Score: 0.7952737132588884\n",
      "Matthews Correlation Coefficient (MCC): 0.7333724224567384\n",
      "G-Measure: 0.8403667059102383\n",
      "AUC: 0.9361885803457106\n",
      "Specificity: 0.9310939500640205\n",
      "Jaccard Index: 0.648394185260311\n",
      "Saving metrics to: /work/wanlab/nick//stackeval6/val_data/individual models/GaussianNB/limma(0),metrics.csv\n",
      "PREDICTIONS                   subtype  Squamous           ADEX  Pancreatic Progenitor  \\\n",
      "0   Pancreatic Progenitor       0.0  1.482197e-323           1.000000e+00   \n",
      "1                    ADEX       0.0   1.000000e+00          1.346905e-266   \n",
      "2   Pancreatic Progenitor       0.0  6.020797e-100           1.000000e+00   \n",
      "3   Pancreatic Progenitor       0.0   0.000000e+00           1.000000e+00   \n",
      "4                    ADEX       0.0  1.694739e-118           1.000000e+00   \n",
      "..                    ...       ...            ...                    ...   \n",
      "91            Immunogenic       0.0   0.000000e+00           0.000000e+00   \n",
      "92                   ADEX       0.0   8.249520e-66           1.000000e+00   \n",
      "93            Immunogenic       0.0   0.000000e+00           7.728747e-43   \n",
      "94               Squamous       1.0   3.793719e-08           0.000000e+00   \n",
      "95  Pancreatic Progenitor       0.0   0.000000e+00           1.000000e+00   \n",
      "\n",
      "      Immunogenic  \n",
      "0    0.000000e+00  \n",
      "1   1.591372e-184  \n",
      "2    0.000000e+00  \n",
      "3    0.000000e+00  \n",
      "4   7.139117e-233  \n",
      "..            ...  \n",
      "91   1.000000e+00  \n",
      "92  1.307750e-236  \n",
      "93   1.000000e+00  \n",
      "94   0.000000e+00  \n",
      "95   0.000000e+00  \n",
      "\n",
      "[96 rows x 5 columns]\n",
      "\n",
      "model score of oof results for QuadraticDiscriminantAnalysis\n",
      "Model Accuracy: 0.8125\n",
      "Precision: 0.8422427398989898\n",
      "Recall (Sensitivity): 0.8125\n",
      "F1 Score: 0.8179834041462035\n",
      "Matthews Correlation Coefficient (MCC): 0.7565073022599094\n",
      "G-Measure: 0.8796245823209131\n",
      "AUC: 0.941972486751316\n",
      "Specificity: 0.9400474818608622\n",
      "Jaccard Index: 0.6841746794871795\n",
      "Saving metrics to: /work/wanlab/nick//stackeval6/val_data/individual models/QuadraticDiscriminantAnalysis/limma(0),metrics.csv\n",
      "PREDICTIONS                   subtype  Squamous           ADEX  Pancreatic Progenitor  \\\n",
      "0   Pancreatic Progenitor       0.0  2.272267e-213           1.000000e+00   \n",
      "1                    ADEX       0.0   1.000000e+00           0.000000e+00   \n",
      "2   Pancreatic Progenitor       0.0   9.016082e-32           1.000000e+00   \n",
      "3   Pancreatic Progenitor       0.0  1.316344e-112           1.000000e+00   \n",
      "4                    ADEX       0.0   1.000000e+00           0.000000e+00   \n",
      "..                    ...       ...            ...                    ...   \n",
      "91            Immunogenic       0.0   0.000000e+00           0.000000e+00   \n",
      "92                   ADEX       0.0   1.000000e+00          5.428026e-131   \n",
      "93            Immunogenic       0.0  1.185421e-146           0.000000e+00   \n",
      "94               Squamous       1.0  1.099996e-289           0.000000e+00   \n",
      "95  Pancreatic Progenitor       0.0   1.000000e+00           5.819005e-13   \n",
      "\n",
      "      Immunogenic  \n",
      "0   3.934384e-271  \n",
      "1    0.000000e+00  \n",
      "2    0.000000e+00  \n",
      "3   1.556498e-292  \n",
      "4    0.000000e+00  \n",
      "..            ...  \n",
      "91   1.000000e+00  \n",
      "92   0.000000e+00  \n",
      "93   1.000000e+00  \n",
      "94  2.681948e-147  \n",
      "95  2.710999e-166  \n",
      "\n",
      "[96 rows x 5 columns]\n",
      "运行时间为: 77.91 秒\n",
      "combining [[1.11548351e-001 3.41535583e-002 8.22369796e-001 ... 2.27226698e-213\n",
      "  1.00000000e+000 3.93438375e-271]\n",
      " [3.26853673e-002 9.17339382e-001 1.71092572e-002 ... 1.00000000e+000\n",
      "  0.00000000e+000 0.00000000e+000]\n",
      " [2.43936668e-001 2.16990876e-001 5.04206212e-001 ... 9.01608210e-032\n",
      "  1.00000000e+000 0.00000000e+000]\n",
      " ...\n",
      " [4.14468199e-002 3.68496868e-002 3.94238066e-001 ... 1.18542119e-146\n",
      "  0.00000000e+000 1.00000000e+000]\n",
      " [6.19621578e-001 6.36529079e-002 2.86601313e-001 ... 1.09999569e-289\n",
      "  0.00000000e+000 2.68194841e-147]\n",
      " [2.42537332e-003 1.82085275e-002 8.57397834e-001 ... 1.00000000e+000\n",
      "  5.81900495e-013 2.71099911e-166]] [[13.56018914 12.68466835 13.10243664 ...  9.53005478 11.16103308\n",
      "  11.24920229]\n",
      " [15.4259582  14.08525845 12.01110512 ...  9.45622747 11.12707631\n",
      "  11.78331935]\n",
      " [14.4756837  13.26517897 12.82291838 ...  9.65623065 11.33179862\n",
      "  11.68015036]\n",
      " ...\n",
      " [14.28976923 13.62192201 12.67277184 ...  9.32578912  9.67174085\n",
      "  11.45401981]\n",
      " [14.71684472 13.81278796 13.58508909 ... 10.31590684 12.7838795\n",
      "  11.90067493]\n",
      " [14.18823419 12.92657629 11.70868561 ...  9.88942006  9.76636631\n",
      "  12.84604452]]\n",
      "stacked\n",
      "cv\n",
      "stacked\n",
      "cv\n",
      "stacked\n",
      "cv\n",
      "stacked\n",
      "cv\n",
      "stacked\n",
      "cv\n",
      "stacked\n",
      "cv\n",
      "stacked\n",
      "cv\n",
      "stacked\n",
      "cv\n",
      "stacked\n",
      "cv\n",
      "stacked\n",
      "cv\n",
      "stacked\n",
      "cv\n",
      "stacked\n",
      "cv\n",
      "stacked\n",
      "cv\n",
      "stacked\n",
      "cv\n",
      "stacked\n",
      "cv\n",
      "stacked\n",
      "cv\n",
      "stacked\n",
      "cv\n",
      "stacked\n",
      "cv\n",
      "stacked\n",
      "cv\n",
      "stacked\n",
      "cv\n",
      "stacked\n",
      "cv\n",
      "stacked\n",
      "cv\n",
      "stacked\n",
      "cv\n",
      "stacked\n",
      "cv\n",
      "stacked\n",
      "cv\n",
      "stacked\n",
      "cv\n",
      "stacked\n",
      "cv\n",
      "stacked\n",
      "cv\n",
      "stacked\n",
      "cv\n",
      "stacked\n",
      "cv\n",
      "stacked\n",
      "cv\n",
      "stacked\n",
      "cv\n",
      "stacked\n",
      "cv\n",
      "stacked\n",
      "cv\n",
      "stacked\n",
      "cv\n",
      "stacked\n",
      "cv\n",
      "stacked\n",
      "cv\n",
      "stacked\n",
      "cv\n",
      "stacked\n",
      "cv\n",
      "stacked\n",
      "cv\n",
      "stacked\n",
      "cv\n",
      "stacked\n",
      "cv\n",
      "stacked\n",
      "cv\n",
      "stacked\n",
      "cv\n",
      "stacked\n",
      "cv\n",
      "stacked\n",
      "cv\n",
      "stacked\n",
      "cv\n",
      "stacked\n",
      "cv\n",
      "stacked\n",
      "cv\n",
      "stacked\n",
      "cv\n",
      "stacked\n",
      "cv\n",
      "stacked\n",
      "cv\n",
      "stacked\n",
      "cv\n",
      "stacked\n",
      "cv\n",
      "stacked\n",
      "cv\n",
      "stacked\n",
      "cv\n",
      "stacked\n",
      "cv\n",
      "stacked\n",
      "cv\n",
      "stacked\n",
      "cv\n",
      "stacked\n",
      "cv\n",
      "stacked\n",
      "cv\n",
      "stacked\n",
      "cv\n",
      "stacked\n",
      "cv\n",
      "stacked\n",
      "cv\n",
      "stacked\n",
      "cv\n",
      "stacked\n",
      "cv\n",
      "stacked\n",
      "cv\n",
      "stacked\n",
      "cv\n",
      "stacked\n",
      "cv\n",
      "stacked\n",
      "cv\n",
      "stacked\n",
      "cv\n",
      "stacked\n",
      "cv\n",
      "stacked\n",
      "cv\n",
      "stacked\n",
      "cv\n",
      "stacked\n",
      "cv\n",
      "stacked\n",
      "cv\n",
      "stacked\n",
      "cv\n",
      "stacked\n",
      "cv\n",
      "stacked\n",
      "cv\n",
      "stacked\n",
      "cv\n",
      "stacked\n",
      "cv\n",
      "stacked\n",
      "cv\n",
      "stacked\n",
      "cv\n",
      "stacked\n",
      "cv\n",
      "stacked\n",
      "cv\n",
      "stacked\n",
      "cv\n",
      "stacked\n",
      "cv\n",
      "stacked\n",
      "cv\n",
      "stacked\n",
      "cv\n",
      "stacked\n",
      "cv\n",
      "stacked\n",
      "cv\n",
      "stacked\n",
      "cv\n",
      "stacked\n",
      "cv\n",
      "stacked\n",
      "cv\n",
      "stacked\n",
      "cv\n",
      "stacked\n",
      "cv\n",
      "\n",
      "model score of oof results for MLPClassifier\n",
      "Model Accuracy: 0.6354166666666666\n",
      "Precision: 0.6415387426900584\n",
      "Recall (Sensitivity): 0.6354166666666666\n",
      "F1 Score: 0.6309003496503497\n",
      "Matthews Correlation Coefficient (MCC): 0.5060426830326024\n",
      "G-Measure: 0.7264957700760737\n",
      "AUC: 0.841272484972969\n",
      "Specificity: 0.8750066688006829\n",
      "Jaccard Index: 0.45126262626262625\n",
      "Saving metrics to: /work/wanlab/nick//stackeval6/val_data/stacked/MLPClassifier/limma(0),metrics.csv\n",
      "PREDICTIONS                   subtype      Squamous          ADEX  Pancreatic Progenitor  \\\n",
      "0             Immunogenic  1.924871e-03  4.110283e-03           2.840717e-02   \n",
      "1                    ADEX  4.289984e-02  4.774880e-02           9.025198e-01   \n",
      "2   Pancreatic Progenitor  4.941239e-05  3.619131e-03           9.359009e-01   \n",
      "3   Pancreatic Progenitor  8.622322e-04  8.848243e-01           1.021420e-01   \n",
      "4   Pancreatic Progenitor  2.178969e-03  3.805884e-01           6.132319e-01   \n",
      "..                    ...           ...           ...                    ...   \n",
      "91                   ADEX  2.868390e-05  4.481148e-01           8.950045e-02   \n",
      "92               Squamous  9.895582e-01  5.095382e-09           3.832481e-05   \n",
      "93                   ADEX  1.548220e-04  9.057473e-02           9.092566e-01   \n",
      "94  Pancreatic Progenitor  4.195273e-10  3.053913e-01           6.888538e-01   \n",
      "95               Squamous  2.957353e-05  9.999702e-01           2.524868e-07   \n",
      "\n",
      "     Immunogenic  \n",
      "0   9.655577e-01  \n",
      "1   6.831510e-03  \n",
      "2   6.043059e-02  \n",
      "3   1.217149e-02  \n",
      "4   4.000730e-03  \n",
      "..           ...  \n",
      "91  4.623561e-01  \n",
      "92  1.040346e-02  \n",
      "93  1.388447e-05  \n",
      "94  5.754918e-03  \n",
      "95  1.115480e-08  \n",
      "\n",
      "[96 rows x 5 columns]\n",
      "\n",
      "model score of oof results for RandomForestClassifier\n",
      "Model Accuracy: 0.8125\n",
      "Precision: 0.8145559318566565\n",
      "Recall (Sensitivity): 0.8125\n",
      "F1 Score: 0.8108890480927119\n",
      "Matthews Correlation Coefficient (MCC): 0.7461387223329802\n",
      "G-Measure: 0.8625598210033927\n",
      "AUC: 0.9810143968292077\n",
      "Specificity: 0.935544707639778\n",
      "Jaccard Index: 0.6755798902350627\n",
      "Saving metrics to: /work/wanlab/nick//stackeval6/val_data/stacked/RandomForestClassifier/limma(0),metrics.csv\n",
      "PREDICTIONS                   subtype  Squamous  ADEX  Pancreatic Progenitor  Immunogenic\n",
      "0             Immunogenic      0.02  0.04                   0.08         0.86\n",
      "1                    ADEX      0.12  0.44                   0.35         0.09\n",
      "2   Pancreatic Progenitor      0.05  0.09                   0.41         0.45\n",
      "3   Pancreatic Progenitor      0.06  0.14                   0.67         0.13\n",
      "4   Pancreatic Progenitor      0.12  0.10                   0.69         0.09\n",
      "..                    ...       ...   ...                    ...          ...\n",
      "91                   ADEX      0.06  0.44                   0.17         0.33\n",
      "92               Squamous      0.81  0.01                   0.09         0.09\n",
      "93                   ADEX      0.09  0.39                   0.42         0.10\n",
      "94  Pancreatic Progenitor      0.05  0.58                   0.31         0.06\n",
      "95               Squamous      0.50  0.19                   0.22         0.09\n",
      "\n",
      "[96 rows x 5 columns]\n",
      "\n",
      "model score of oof results for LogisticRegression2\n",
      "Model Accuracy: 0.90625\n",
      "Precision: 0.907241010904804\n",
      "Recall (Sensitivity): 0.90625\n",
      "F1 Score: 0.9063258253912099\n",
      "Matthews Correlation Coefficient (MCC): 0.8733101573111083\n",
      "G-Measure: 0.9352788514023854\n",
      "AUC: 0.987585527368758\n",
      "Specificity: 0.9681724818608621\n",
      "Jaccard Index: 0.8275341386554622\n",
      "Saving metrics to: /work/wanlab/nick//stackeval6/val_data/stacked/LogisticRegression2/limma(0),metrics.csv\n",
      "PREDICTIONS                   subtype      Squamous          ADEX  Pancreatic Progenitor  \\\n",
      "0             Immunogenic  3.640480e-09  9.993954e-10           2.300624e-10   \n",
      "1                    ADEX  1.159729e-04  8.851638e-01           1.135411e-01   \n",
      "2   Pancreatic Progenitor  4.422316e-09  4.637735e-06           9.879368e-01   \n",
      "3   Pancreatic Progenitor  8.382167e-06  7.623418e-03           9.915103e-01   \n",
      "4   Pancreatic Progenitor  4.416381e-05  5.545391e-04           9.994012e-01   \n",
      "..                    ...           ...           ...                    ...   \n",
      "91                   ADEX  3.334826e-07  9.376199e-01           2.248438e-02   \n",
      "92               Squamous  1.000000e+00  8.707865e-13           4.393059e-13   \n",
      "93                   ADEX  2.181862e-04  9.823891e-01           1.736509e-02   \n",
      "94  Pancreatic Progenitor  1.837484e-07  6.680981e-01           3.306028e-01   \n",
      "95               Squamous  6.516356e-01  3.265716e-01           2.177580e-02   \n",
      "\n",
      "     Immunogenic  \n",
      "0   1.000000e+00  \n",
      "1   1.179128e-03  \n",
      "2   1.205861e-02  \n",
      "3   8.579269e-04  \n",
      "4   9.374724e-08  \n",
      "..           ...  \n",
      "91  3.989541e-02  \n",
      "92  5.229512e-09  \n",
      "93  2.766860e-05  \n",
      "94  1.298903e-03  \n",
      "95  1.698362e-05  \n",
      "\n",
      "[96 rows x 5 columns]\n",
      "\n",
      "model score of oof results for GaussianNB2\n",
      "Model Accuracy: 0.7916666666666666\n",
      "Precision: 0.7908549783549784\n",
      "Recall (Sensitivity): 0.7916666666666666\n",
      "F1 Score: 0.7862654320987654\n",
      "Matthews Correlation Coefficient (MCC): 0.7178678232995247\n",
      "G-Measure: 0.8348797928373367\n",
      "AUC: 0.8971923793391664\n",
      "Specificity: 0.9283650768245839\n",
      "Jaccard Index: 0.6339987900786448\n",
      "Saving metrics to: /work/wanlab/nick//stackeval6/val_data/stacked/GaussianNB2/limma(0),metrics.csv\n",
      "PREDICTIONS                   subtype  Squamous          ADEX  Pancreatic Progenitor  \\\n",
      "0             Immunogenic       0.0  0.000000e+00           0.000000e+00   \n",
      "1                    ADEX       0.0  1.000000e+00           0.000000e+00   \n",
      "2   Pancreatic Progenitor       0.0  0.000000e+00           1.000000e+00   \n",
      "3   Pancreatic Progenitor       0.0  0.000000e+00           1.000000e+00   \n",
      "4   Pancreatic Progenitor       0.0  0.000000e+00           1.000000e+00   \n",
      "..                    ...       ...           ...                    ...   \n",
      "91                   ADEX       0.0  0.000000e+00          2.949910e-176   \n",
      "92               Squamous       1.0  0.000000e+00           0.000000e+00   \n",
      "93                   ADEX       0.0  2.252072e-64           1.000000e+00   \n",
      "94  Pancreatic Progenitor       0.0  1.000000e+00           4.743220e-28   \n",
      "95               Squamous       0.0  1.000000e+00          5.305282e-176   \n",
      "\n",
      "      Immunogenic  \n",
      "0    1.000000e+00  \n",
      "1    0.000000e+00  \n",
      "2    0.000000e+00  \n",
      "3    0.000000e+00  \n",
      "4    0.000000e+00  \n",
      "..            ...  \n",
      "91   1.000000e+00  \n",
      "92   0.000000e+00  \n",
      "93   0.000000e+00  \n",
      "94  3.853712e-322  \n",
      "95   0.000000e+00  \n",
      "\n",
      "[96 rows x 5 columns]\n",
      "\n",
      "model score of oof results for SVC3\n",
      "Model Accuracy: 0.8854166666666666\n",
      "Precision: 0.891441968525302\n",
      "Recall (Sensitivity): 0.8854166666666666\n",
      "F1 Score: 0.8857571122577969\n",
      "Matthews Correlation Coefficient (MCC): 0.847046869768925\n",
      "G-Measure: 0.9229308733968031\n",
      "AUC: 0.987881455399061\n",
      "Specificity: 0.9613969803670508\n",
      "Jaccard Index: 0.7977251412244541\n",
      "Saving metrics to: /work/wanlab/nick//stackeval6/val_data/stacked/SVC3/limma(0),metrics.csv\n",
      "PREDICTIONS                   subtype  Squamous      ADEX  Pancreatic Progenitor  \\\n",
      "0             Immunogenic  0.004095  0.001871               0.004838   \n",
      "1                    ADEX  0.022606  0.859169               0.089047   \n",
      "2   Pancreatic Progenitor  0.002166  0.026533               0.832522   \n",
      "3   Pancreatic Progenitor  0.006563  0.087805               0.861340   \n",
      "4   Pancreatic Progenitor  0.031099  0.055339               0.908173   \n",
      "..                    ...       ...       ...                    ...   \n",
      "91                   ADEX  0.006666  0.693155               0.076681   \n",
      "92               Squamous  0.994236  0.000618               0.000209   \n",
      "93                   ADEX  0.067500  0.732080               0.174766   \n",
      "94  Pancreatic Progenitor  0.004504  0.771257               0.193759   \n",
      "95               Squamous  0.436771  0.374540               0.172297   \n",
      "\n",
      "    Immunogenic  \n",
      "0      0.989196  \n",
      "1      0.029178  \n",
      "2      0.138778  \n",
      "3      0.044293  \n",
      "4      0.005389  \n",
      "..          ...  \n",
      "91     0.223498  \n",
      "92     0.004937  \n",
      "93     0.025653  \n",
      "94     0.030479  \n",
      "95     0.016392  \n",
      "\n",
      "[96 rows x 5 columns]\n",
      "\n",
      "model score of oof results for SVC4\n",
      "Model Accuracy: 0.9270833333333334\n",
      "Precision: 0.9282457295657727\n",
      "Recall (Sensitivity): 0.9270833333333334\n",
      "F1 Score: 0.927124353652804\n",
      "Matthews Correlation Coefficient (MCC): 0.9017909960019698\n",
      "G-Measure: 0.9519085598926197\n",
      "AUC: 0.9853178016965428\n",
      "Specificity: 0.9752147353819889\n",
      "Jaccard Index: 0.8669652957336781\n",
      "Saving metrics to: /work/wanlab/nick//stackeval6/val_data/stacked/SVC4/limma(0),metrics.csv\n",
      "PREDICTIONS                   subtype  Squamous      ADEX  Pancreatic Progenitor  \\\n",
      "0             Immunogenic  0.002406  0.001230               0.000941   \n",
      "1                    ADEX  0.038670  0.560043               0.363714   \n",
      "2   Pancreatic Progenitor  0.004532  0.026694               0.763064   \n",
      "3   Pancreatic Progenitor  0.010909  0.075569               0.880233   \n",
      "4   Pancreatic Progenitor  0.049194  0.075184               0.867692   \n",
      "..                    ...       ...       ...                    ...   \n",
      "91                   ADEX  0.010169  0.671981               0.124883   \n",
      "92               Squamous  0.995743  0.000089               0.000186   \n",
      "93                   ADEX  0.063184  0.737371               0.158687   \n",
      "94  Pancreatic Progenitor  0.008087  0.671725               0.274944   \n",
      "95               Squamous  0.391752  0.383456               0.191323   \n",
      "\n",
      "    Immunogenic  \n",
      "0      0.995424  \n",
      "1      0.037573  \n",
      "2      0.205709  \n",
      "3      0.033289  \n",
      "4      0.007930  \n",
      "..          ...  \n",
      "91     0.192966  \n",
      "92     0.003982  \n",
      "93     0.040759  \n",
      "94     0.045244  \n",
      "95     0.033469  \n",
      "\n",
      "[96 rows x 5 columns]\n",
      "run 7\n",
      "Model Pair: SVC + SVC + XGBClassifier + KNeighborsClassifier\n",
      "USEDmodelnames ['SVC', 'SVC2', 'XGBClassifier', 'KNeighborsClassifier']\n",
      "Running with: SVC and SVC and XGBClassifier and KNeighborsClassifier\n",
      "Random state: 0\n",
      "['SVC', 'SVC2', 'XGBClassifier', 'KNeighborsClassifier']\n",
      "individual models\n"
     ]
    },
    {
     "name": "stderr",
     "output_type": "stream",
     "text": [
      "/home/wanlab/nick/.local/lib/python3.8/site-packages/xgboost/core.py:158: UserWarning: [11:31:55] WARNING: /workspace/src/learner.cc:740: \n",
      "Parameters: { \"use_label_encoder\" } are not used.\n",
      "\n",
      "  warnings.warn(smsg, UserWarning)\n"
     ]
    },
    {
     "name": "stdout",
     "output_type": "stream",
     "text": [
      "cv\n",
      "individual models\n"
     ]
    },
    {
     "name": "stderr",
     "output_type": "stream",
     "text": [
      "/home/wanlab/nick/.local/lib/python3.8/site-packages/xgboost/core.py:158: UserWarning: [11:32:07] WARNING: /workspace/src/learner.cc:740: \n",
      "Parameters: { \"use_label_encoder\" } are not used.\n",
      "\n",
      "  warnings.warn(smsg, UserWarning)\n"
     ]
    },
    {
     "name": "stdout",
     "output_type": "stream",
     "text": [
      "cv\n",
      "individual models\n"
     ]
    },
    {
     "name": "stderr",
     "output_type": "stream",
     "text": [
      "/home/wanlab/nick/.local/lib/python3.8/site-packages/xgboost/core.py:158: UserWarning: [11:32:19] WARNING: /workspace/src/learner.cc:740: \n",
      "Parameters: { \"use_label_encoder\" } are not used.\n",
      "\n",
      "  warnings.warn(smsg, UserWarning)\n"
     ]
    },
    {
     "name": "stdout",
     "output_type": "stream",
     "text": [
      "cv\n",
      "individual models\n"
     ]
    },
    {
     "name": "stderr",
     "output_type": "stream",
     "text": [
      "/home/wanlab/nick/.local/lib/python3.8/site-packages/xgboost/core.py:158: UserWarning: [11:32:31] WARNING: /workspace/src/learner.cc:740: \n",
      "Parameters: { \"use_label_encoder\" } are not used.\n",
      "\n",
      "  warnings.warn(smsg, UserWarning)\n"
     ]
    },
    {
     "name": "stdout",
     "output_type": "stream",
     "text": [
      "cv\n",
      "individual models\n"
     ]
    },
    {
     "name": "stderr",
     "output_type": "stream",
     "text": [
      "/home/wanlab/nick/.local/lib/python3.8/site-packages/xgboost/core.py:158: UserWarning: [11:32:43] WARNING: /workspace/src/learner.cc:740: \n",
      "Parameters: { \"use_label_encoder\" } are not used.\n",
      "\n",
      "  warnings.warn(smsg, UserWarning)\n"
     ]
    },
    {
     "name": "stdout",
     "output_type": "stream",
     "text": [
      "cv\n",
      "individual models\n"
     ]
    },
    {
     "name": "stderr",
     "output_type": "stream",
     "text": [
      "/home/wanlab/nick/.local/lib/python3.8/site-packages/xgboost/core.py:158: UserWarning: [11:32:54] WARNING: /workspace/src/learner.cc:740: \n",
      "Parameters: { \"use_label_encoder\" } are not used.\n",
      "\n",
      "  warnings.warn(smsg, UserWarning)\n"
     ]
    },
    {
     "name": "stdout",
     "output_type": "stream",
     "text": [
      "cv\n",
      "individual models\n"
     ]
    },
    {
     "name": "stderr",
     "output_type": "stream",
     "text": [
      "/home/wanlab/nick/.local/lib/python3.8/site-packages/xgboost/core.py:158: UserWarning: [11:33:07] WARNING: /workspace/src/learner.cc:740: \n",
      "Parameters: { \"use_label_encoder\" } are not used.\n",
      "\n",
      "  warnings.warn(smsg, UserWarning)\n"
     ]
    },
    {
     "name": "stdout",
     "output_type": "stream",
     "text": [
      "cv\n",
      "individual models\n"
     ]
    },
    {
     "name": "stderr",
     "output_type": "stream",
     "text": [
      "/home/wanlab/nick/.local/lib/python3.8/site-packages/xgboost/core.py:158: UserWarning: [11:33:18] WARNING: /workspace/src/learner.cc:740: \n",
      "Parameters: { \"use_label_encoder\" } are not used.\n",
      "\n",
      "  warnings.warn(smsg, UserWarning)\n"
     ]
    },
    {
     "name": "stdout",
     "output_type": "stream",
     "text": [
      "cv\n",
      "individual models\n"
     ]
    },
    {
     "name": "stderr",
     "output_type": "stream",
     "text": [
      "/home/wanlab/nick/.local/lib/python3.8/site-packages/xgboost/core.py:158: UserWarning: [11:33:30] WARNING: /workspace/src/learner.cc:740: \n",
      "Parameters: { \"use_label_encoder\" } are not used.\n",
      "\n",
      "  warnings.warn(smsg, UserWarning)\n"
     ]
    },
    {
     "name": "stdout",
     "output_type": "stream",
     "text": [
      "cv\n",
      "individual models\n"
     ]
    },
    {
     "name": "stderr",
     "output_type": "stream",
     "text": [
      "/home/wanlab/nick/.local/lib/python3.8/site-packages/xgboost/core.py:158: UserWarning: [11:33:42] WARNING: /workspace/src/learner.cc:740: \n",
      "Parameters: { \"use_label_encoder\" } are not used.\n",
      "\n",
      "  warnings.warn(smsg, UserWarning)\n"
     ]
    },
    {
     "name": "stdout",
     "output_type": "stream",
     "text": [
      "cv\n",
      "individual models\n"
     ]
    },
    {
     "name": "stderr",
     "output_type": "stream",
     "text": [
      "/home/wanlab/nick/.local/lib/python3.8/site-packages/xgboost/core.py:158: UserWarning: [11:33:54] WARNING: /workspace/src/learner.cc:740: \n",
      "Parameters: { \"use_label_encoder\" } are not used.\n",
      "\n",
      "  warnings.warn(smsg, UserWarning)\n"
     ]
    },
    {
     "name": "stdout",
     "output_type": "stream",
     "text": [
      "cv\n",
      "individual models\n"
     ]
    },
    {
     "name": "stderr",
     "output_type": "stream",
     "text": [
      "/home/wanlab/nick/.local/lib/python3.8/site-packages/xgboost/core.py:158: UserWarning: [11:34:05] WARNING: /workspace/src/learner.cc:740: \n",
      "Parameters: { \"use_label_encoder\" } are not used.\n",
      "\n",
      "  warnings.warn(smsg, UserWarning)\n"
     ]
    },
    {
     "name": "stdout",
     "output_type": "stream",
     "text": [
      "cv\n",
      "individual models\n"
     ]
    },
    {
     "name": "stderr",
     "output_type": "stream",
     "text": [
      "/home/wanlab/nick/.local/lib/python3.8/site-packages/xgboost/core.py:158: UserWarning: [11:34:17] WARNING: /workspace/src/learner.cc:740: \n",
      "Parameters: { \"use_label_encoder\" } are not used.\n",
      "\n",
      "  warnings.warn(smsg, UserWarning)\n"
     ]
    },
    {
     "name": "stdout",
     "output_type": "stream",
     "text": [
      "cv\n",
      "individual models\n"
     ]
    },
    {
     "name": "stderr",
     "output_type": "stream",
     "text": [
      "/home/wanlab/nick/.local/lib/python3.8/site-packages/xgboost/core.py:158: UserWarning: [11:34:29] WARNING: /workspace/src/learner.cc:740: \n",
      "Parameters: { \"use_label_encoder\" } are not used.\n",
      "\n",
      "  warnings.warn(smsg, UserWarning)\n"
     ]
    },
    {
     "name": "stdout",
     "output_type": "stream",
     "text": [
      "cv\n",
      "individual models\n"
     ]
    },
    {
     "name": "stderr",
     "output_type": "stream",
     "text": [
      "/home/wanlab/nick/.local/lib/python3.8/site-packages/xgboost/core.py:158: UserWarning: [11:34:41] WARNING: /workspace/src/learner.cc:740: \n",
      "Parameters: { \"use_label_encoder\" } are not used.\n",
      "\n",
      "  warnings.warn(smsg, UserWarning)\n"
     ]
    },
    {
     "name": "stdout",
     "output_type": "stream",
     "text": [
      "cv\n",
      "individual models\n"
     ]
    },
    {
     "name": "stderr",
     "output_type": "stream",
     "text": [
      "/home/wanlab/nick/.local/lib/python3.8/site-packages/xgboost/core.py:158: UserWarning: [11:34:52] WARNING: /workspace/src/learner.cc:740: \n",
      "Parameters: { \"use_label_encoder\" } are not used.\n",
      "\n",
      "  warnings.warn(smsg, UserWarning)\n"
     ]
    },
    {
     "name": "stdout",
     "output_type": "stream",
     "text": [
      "cv\n",
      "individual models\n"
     ]
    },
    {
     "name": "stderr",
     "output_type": "stream",
     "text": [
      "/home/wanlab/nick/.local/lib/python3.8/site-packages/xgboost/core.py:158: UserWarning: [11:35:04] WARNING: /workspace/src/learner.cc:740: \n",
      "Parameters: { \"use_label_encoder\" } are not used.\n",
      "\n",
      "  warnings.warn(smsg, UserWarning)\n"
     ]
    },
    {
     "name": "stdout",
     "output_type": "stream",
     "text": [
      "cv\n",
      "individual models\n"
     ]
    },
    {
     "name": "stderr",
     "output_type": "stream",
     "text": [
      "/home/wanlab/nick/.local/lib/python3.8/site-packages/xgboost/core.py:158: UserWarning: [11:35:16] WARNING: /workspace/src/learner.cc:740: \n",
      "Parameters: { \"use_label_encoder\" } are not used.\n",
      "\n",
      "  warnings.warn(smsg, UserWarning)\n"
     ]
    },
    {
     "name": "stdout",
     "output_type": "stream",
     "text": [
      "cv\n",
      "individual models\n"
     ]
    },
    {
     "name": "stderr",
     "output_type": "stream",
     "text": [
      "/home/wanlab/nick/.local/lib/python3.8/site-packages/xgboost/core.py:158: UserWarning: [11:35:27] WARNING: /workspace/src/learner.cc:740: \n",
      "Parameters: { \"use_label_encoder\" } are not used.\n",
      "\n",
      "  warnings.warn(smsg, UserWarning)\n"
     ]
    },
    {
     "name": "stdout",
     "output_type": "stream",
     "text": [
      "cv\n",
      "individual models\n"
     ]
    },
    {
     "name": "stderr",
     "output_type": "stream",
     "text": [
      "/home/wanlab/nick/.local/lib/python3.8/site-packages/xgboost/core.py:158: UserWarning: [11:35:40] WARNING: /workspace/src/learner.cc:740: \n",
      "Parameters: { \"use_label_encoder\" } are not used.\n",
      "\n",
      "  warnings.warn(smsg, UserWarning)\n"
     ]
    },
    {
     "name": "stdout",
     "output_type": "stream",
     "text": [
      "cv\n",
      "individual models\n"
     ]
    },
    {
     "name": "stderr",
     "output_type": "stream",
     "text": [
      "/home/wanlab/nick/.local/lib/python3.8/site-packages/xgboost/core.py:158: UserWarning: [11:35:51] WARNING: /workspace/src/learner.cc:740: \n",
      "Parameters: { \"use_label_encoder\" } are not used.\n",
      "\n",
      "  warnings.warn(smsg, UserWarning)\n"
     ]
    },
    {
     "name": "stdout",
     "output_type": "stream",
     "text": [
      "cv\n",
      "individual models\n"
     ]
    },
    {
     "name": "stderr",
     "output_type": "stream",
     "text": [
      "/home/wanlab/nick/.local/lib/python3.8/site-packages/xgboost/core.py:158: UserWarning: [11:36:03] WARNING: /workspace/src/learner.cc:740: \n",
      "Parameters: { \"use_label_encoder\" } are not used.\n",
      "\n",
      "  warnings.warn(smsg, UserWarning)\n"
     ]
    },
    {
     "name": "stdout",
     "output_type": "stream",
     "text": [
      "cv\n",
      "individual models\n"
     ]
    },
    {
     "name": "stderr",
     "output_type": "stream",
     "text": [
      "/home/wanlab/nick/.local/lib/python3.8/site-packages/xgboost/core.py:158: UserWarning: [11:36:15] WARNING: /workspace/src/learner.cc:740: \n",
      "Parameters: { \"use_label_encoder\" } are not used.\n",
      "\n",
      "  warnings.warn(smsg, UserWarning)\n"
     ]
    },
    {
     "name": "stdout",
     "output_type": "stream",
     "text": [
      "cv\n",
      "individual models\n"
     ]
    },
    {
     "name": "stderr",
     "output_type": "stream",
     "text": [
      "/home/wanlab/nick/.local/lib/python3.8/site-packages/xgboost/core.py:158: UserWarning: [11:36:26] WARNING: /workspace/src/learner.cc:740: \n",
      "Parameters: { \"use_label_encoder\" } are not used.\n",
      "\n",
      "  warnings.warn(smsg, UserWarning)\n"
     ]
    },
    {
     "name": "stdout",
     "output_type": "stream",
     "text": [
      "cv\n",
      "individual models\n"
     ]
    },
    {
     "name": "stderr",
     "output_type": "stream",
     "text": [
      "/home/wanlab/nick/.local/lib/python3.8/site-packages/xgboost/core.py:158: UserWarning: [11:36:38] WARNING: /workspace/src/learner.cc:740: \n",
      "Parameters: { \"use_label_encoder\" } are not used.\n",
      "\n",
      "  warnings.warn(smsg, UserWarning)\n"
     ]
    },
    {
     "name": "stdout",
     "output_type": "stream",
     "text": [
      "cv\n",
      "individual models\n"
     ]
    },
    {
     "name": "stderr",
     "output_type": "stream",
     "text": [
      "/home/wanlab/nick/.local/lib/python3.8/site-packages/xgboost/core.py:158: UserWarning: [11:36:49] WARNING: /workspace/src/learner.cc:740: \n",
      "Parameters: { \"use_label_encoder\" } are not used.\n",
      "\n",
      "  warnings.warn(smsg, UserWarning)\n"
     ]
    },
    {
     "name": "stdout",
     "output_type": "stream",
     "text": [
      "cv\n",
      "individual models\n"
     ]
    },
    {
     "name": "stderr",
     "output_type": "stream",
     "text": [
      "/home/wanlab/nick/.local/lib/python3.8/site-packages/xgboost/core.py:158: UserWarning: [11:37:01] WARNING: /workspace/src/learner.cc:740: \n",
      "Parameters: { \"use_label_encoder\" } are not used.\n",
      "\n",
      "  warnings.warn(smsg, UserWarning)\n"
     ]
    },
    {
     "name": "stdout",
     "output_type": "stream",
     "text": [
      "cv\n",
      "individual models\n"
     ]
    },
    {
     "name": "stderr",
     "output_type": "stream",
     "text": [
      "/home/wanlab/nick/.local/lib/python3.8/site-packages/xgboost/core.py:158: UserWarning: [11:37:13] WARNING: /workspace/src/learner.cc:740: \n",
      "Parameters: { \"use_label_encoder\" } are not used.\n",
      "\n",
      "  warnings.warn(smsg, UserWarning)\n"
     ]
    },
    {
     "name": "stdout",
     "output_type": "stream",
     "text": [
      "cv\n",
      "individual models\n"
     ]
    },
    {
     "name": "stderr",
     "output_type": "stream",
     "text": [
      "/home/wanlab/nick/.local/lib/python3.8/site-packages/xgboost/core.py:158: UserWarning: [11:37:24] WARNING: /workspace/src/learner.cc:740: \n",
      "Parameters: { \"use_label_encoder\" } are not used.\n",
      "\n",
      "  warnings.warn(smsg, UserWarning)\n"
     ]
    },
    {
     "name": "stdout",
     "output_type": "stream",
     "text": [
      "cv\n",
      "individual models\n"
     ]
    },
    {
     "name": "stderr",
     "output_type": "stream",
     "text": [
      "/home/wanlab/nick/.local/lib/python3.8/site-packages/xgboost/core.py:158: UserWarning: [11:37:36] WARNING: /workspace/src/learner.cc:740: \n",
      "Parameters: { \"use_label_encoder\" } are not used.\n",
      "\n",
      "  warnings.warn(smsg, UserWarning)\n"
     ]
    },
    {
     "name": "stdout",
     "output_type": "stream",
     "text": [
      "cv\n",
      "individual models\n"
     ]
    },
    {
     "name": "stderr",
     "output_type": "stream",
     "text": [
      "/home/wanlab/nick/.local/lib/python3.8/site-packages/xgboost/core.py:158: UserWarning: [11:37:48] WARNING: /workspace/src/learner.cc:740: \n",
      "Parameters: { \"use_label_encoder\" } are not used.\n",
      "\n",
      "  warnings.warn(smsg, UserWarning)\n"
     ]
    },
    {
     "name": "stdout",
     "output_type": "stream",
     "text": [
      "cv\n",
      "individual models\n"
     ]
    },
    {
     "name": "stderr",
     "output_type": "stream",
     "text": [
      "/home/wanlab/nick/.local/lib/python3.8/site-packages/xgboost/core.py:158: UserWarning: [11:38:00] WARNING: /workspace/src/learner.cc:740: \n",
      "Parameters: { \"use_label_encoder\" } are not used.\n",
      "\n",
      "  warnings.warn(smsg, UserWarning)\n"
     ]
    },
    {
     "name": "stdout",
     "output_type": "stream",
     "text": [
      "cv\n",
      "individual models\n"
     ]
    },
    {
     "name": "stderr",
     "output_type": "stream",
     "text": [
      "/home/wanlab/nick/.local/lib/python3.8/site-packages/xgboost/core.py:158: UserWarning: [11:38:12] WARNING: /workspace/src/learner.cc:740: \n",
      "Parameters: { \"use_label_encoder\" } are not used.\n",
      "\n",
      "  warnings.warn(smsg, UserWarning)\n"
     ]
    },
    {
     "name": "stdout",
     "output_type": "stream",
     "text": [
      "cv\n",
      "individual models\n"
     ]
    },
    {
     "name": "stderr",
     "output_type": "stream",
     "text": [
      "/home/wanlab/nick/.local/lib/python3.8/site-packages/xgboost/core.py:158: UserWarning: [11:38:24] WARNING: /workspace/src/learner.cc:740: \n",
      "Parameters: { \"use_label_encoder\" } are not used.\n",
      "\n",
      "  warnings.warn(smsg, UserWarning)\n"
     ]
    },
    {
     "name": "stdout",
     "output_type": "stream",
     "text": [
      "cv\n",
      "individual models\n"
     ]
    },
    {
     "name": "stderr",
     "output_type": "stream",
     "text": [
      "/home/wanlab/nick/.local/lib/python3.8/site-packages/xgboost/core.py:158: UserWarning: [11:38:35] WARNING: /workspace/src/learner.cc:740: \n",
      "Parameters: { \"use_label_encoder\" } are not used.\n",
      "\n",
      "  warnings.warn(smsg, UserWarning)\n"
     ]
    },
    {
     "name": "stdout",
     "output_type": "stream",
     "text": [
      "cv\n",
      "individual models\n"
     ]
    },
    {
     "name": "stderr",
     "output_type": "stream",
     "text": [
      "/home/wanlab/nick/.local/lib/python3.8/site-packages/xgboost/core.py:158: UserWarning: [11:38:47] WARNING: /workspace/src/learner.cc:740: \n",
      "Parameters: { \"use_label_encoder\" } are not used.\n",
      "\n",
      "  warnings.warn(smsg, UserWarning)\n"
     ]
    },
    {
     "name": "stdout",
     "output_type": "stream",
     "text": [
      "cv\n",
      "individual models\n"
     ]
    },
    {
     "name": "stderr",
     "output_type": "stream",
     "text": [
      "/home/wanlab/nick/.local/lib/python3.8/site-packages/xgboost/core.py:158: UserWarning: [11:38:58] WARNING: /workspace/src/learner.cc:740: \n",
      "Parameters: { \"use_label_encoder\" } are not used.\n",
      "\n",
      "  warnings.warn(smsg, UserWarning)\n"
     ]
    },
    {
     "name": "stdout",
     "output_type": "stream",
     "text": [
      "cv\n",
      "individual models\n"
     ]
    },
    {
     "name": "stderr",
     "output_type": "stream",
     "text": [
      "/home/wanlab/nick/.local/lib/python3.8/site-packages/xgboost/core.py:158: UserWarning: [11:39:10] WARNING: /workspace/src/learner.cc:740: \n",
      "Parameters: { \"use_label_encoder\" } are not used.\n",
      "\n",
      "  warnings.warn(smsg, UserWarning)\n"
     ]
    },
    {
     "name": "stdout",
     "output_type": "stream",
     "text": [
      "cv\n",
      "individual models\n"
     ]
    },
    {
     "name": "stderr",
     "output_type": "stream",
     "text": [
      "/home/wanlab/nick/.local/lib/python3.8/site-packages/xgboost/core.py:158: UserWarning: [11:39:22] WARNING: /workspace/src/learner.cc:740: \n",
      "Parameters: { \"use_label_encoder\" } are not used.\n",
      "\n",
      "  warnings.warn(smsg, UserWarning)\n"
     ]
    },
    {
     "name": "stdout",
     "output_type": "stream",
     "text": [
      "cv\n",
      "individual models\n"
     ]
    },
    {
     "name": "stderr",
     "output_type": "stream",
     "text": [
      "/home/wanlab/nick/.local/lib/python3.8/site-packages/xgboost/core.py:158: UserWarning: [11:39:33] WARNING: /workspace/src/learner.cc:740: \n",
      "Parameters: { \"use_label_encoder\" } are not used.\n",
      "\n",
      "  warnings.warn(smsg, UserWarning)\n"
     ]
    },
    {
     "name": "stdout",
     "output_type": "stream",
     "text": [
      "cv\n",
      "individual models\n"
     ]
    },
    {
     "name": "stderr",
     "output_type": "stream",
     "text": [
      "/home/wanlab/nick/.local/lib/python3.8/site-packages/xgboost/core.py:158: UserWarning: [11:39:45] WARNING: /workspace/src/learner.cc:740: \n",
      "Parameters: { \"use_label_encoder\" } are not used.\n",
      "\n",
      "  warnings.warn(smsg, UserWarning)\n"
     ]
    },
    {
     "name": "stdout",
     "output_type": "stream",
     "text": [
      "cv\n",
      "individual models\n"
     ]
    },
    {
     "name": "stderr",
     "output_type": "stream",
     "text": [
      "/home/wanlab/nick/.local/lib/python3.8/site-packages/xgboost/core.py:158: UserWarning: [11:39:57] WARNING: /workspace/src/learner.cc:740: \n",
      "Parameters: { \"use_label_encoder\" } are not used.\n",
      "\n",
      "  warnings.warn(smsg, UserWarning)\n"
     ]
    },
    {
     "name": "stdout",
     "output_type": "stream",
     "text": [
      "cv\n",
      "individual models\n"
     ]
    },
    {
     "name": "stderr",
     "output_type": "stream",
     "text": [
      "/home/wanlab/nick/.local/lib/python3.8/site-packages/xgboost/core.py:158: UserWarning: [11:40:08] WARNING: /workspace/src/learner.cc:740: \n",
      "Parameters: { \"use_label_encoder\" } are not used.\n",
      "\n",
      "  warnings.warn(smsg, UserWarning)\n"
     ]
    },
    {
     "name": "stdout",
     "output_type": "stream",
     "text": [
      "cv\n",
      "individual models\n"
     ]
    },
    {
     "name": "stderr",
     "output_type": "stream",
     "text": [
      "/home/wanlab/nick/.local/lib/python3.8/site-packages/xgboost/core.py:158: UserWarning: [11:40:20] WARNING: /workspace/src/learner.cc:740: \n",
      "Parameters: { \"use_label_encoder\" } are not used.\n",
      "\n",
      "  warnings.warn(smsg, UserWarning)\n"
     ]
    },
    {
     "name": "stdout",
     "output_type": "stream",
     "text": [
      "cv\n",
      "individual models\n"
     ]
    },
    {
     "name": "stderr",
     "output_type": "stream",
     "text": [
      "/home/wanlab/nick/.local/lib/python3.8/site-packages/xgboost/core.py:158: UserWarning: [11:40:31] WARNING: /workspace/src/learner.cc:740: \n",
      "Parameters: { \"use_label_encoder\" } are not used.\n",
      "\n",
      "  warnings.warn(smsg, UserWarning)\n"
     ]
    },
    {
     "name": "stdout",
     "output_type": "stream",
     "text": [
      "cv\n",
      "individual models\n"
     ]
    },
    {
     "name": "stderr",
     "output_type": "stream",
     "text": [
      "/home/wanlab/nick/.local/lib/python3.8/site-packages/xgboost/core.py:158: UserWarning: [11:40:43] WARNING: /workspace/src/learner.cc:740: \n",
      "Parameters: { \"use_label_encoder\" } are not used.\n",
      "\n",
      "  warnings.warn(smsg, UserWarning)\n"
     ]
    },
    {
     "name": "stdout",
     "output_type": "stream",
     "text": [
      "cv\n",
      "individual models\n"
     ]
    },
    {
     "name": "stderr",
     "output_type": "stream",
     "text": [
      "/home/wanlab/nick/.local/lib/python3.8/site-packages/xgboost/core.py:158: UserWarning: [11:40:55] WARNING: /workspace/src/learner.cc:740: \n",
      "Parameters: { \"use_label_encoder\" } are not used.\n",
      "\n",
      "  warnings.warn(smsg, UserWarning)\n"
     ]
    },
    {
     "name": "stdout",
     "output_type": "stream",
     "text": [
      "cv\n",
      "individual models\n"
     ]
    },
    {
     "name": "stderr",
     "output_type": "stream",
     "text": [
      "/home/wanlab/nick/.local/lib/python3.8/site-packages/xgboost/core.py:158: UserWarning: [11:41:06] WARNING: /workspace/src/learner.cc:740: \n",
      "Parameters: { \"use_label_encoder\" } are not used.\n",
      "\n",
      "  warnings.warn(smsg, UserWarning)\n"
     ]
    },
    {
     "name": "stdout",
     "output_type": "stream",
     "text": [
      "cv\n",
      "individual models\n"
     ]
    },
    {
     "name": "stderr",
     "output_type": "stream",
     "text": [
      "/home/wanlab/nick/.local/lib/python3.8/site-packages/xgboost/core.py:158: UserWarning: [11:41:19] WARNING: /workspace/src/learner.cc:740: \n",
      "Parameters: { \"use_label_encoder\" } are not used.\n",
      "\n",
      "  warnings.warn(smsg, UserWarning)\n"
     ]
    },
    {
     "name": "stdout",
     "output_type": "stream",
     "text": [
      "cv\n",
      "individual models\n"
     ]
    },
    {
     "name": "stderr",
     "output_type": "stream",
     "text": [
      "/home/wanlab/nick/.local/lib/python3.8/site-packages/xgboost/core.py:158: UserWarning: [11:41:30] WARNING: /workspace/src/learner.cc:740: \n",
      "Parameters: { \"use_label_encoder\" } are not used.\n",
      "\n",
      "  warnings.warn(smsg, UserWarning)\n"
     ]
    },
    {
     "name": "stdout",
     "output_type": "stream",
     "text": [
      "cv\n",
      "individual models\n"
     ]
    },
    {
     "name": "stderr",
     "output_type": "stream",
     "text": [
      "/home/wanlab/nick/.local/lib/python3.8/site-packages/xgboost/core.py:158: UserWarning: [11:41:42] WARNING: /workspace/src/learner.cc:740: \n",
      "Parameters: { \"use_label_encoder\" } are not used.\n",
      "\n",
      "  warnings.warn(smsg, UserWarning)\n"
     ]
    },
    {
     "name": "stdout",
     "output_type": "stream",
     "text": [
      "cv\n",
      "individual models\n"
     ]
    },
    {
     "name": "stderr",
     "output_type": "stream",
     "text": [
      "/home/wanlab/nick/.local/lib/python3.8/site-packages/xgboost/core.py:158: UserWarning: [11:41:53] WARNING: /workspace/src/learner.cc:740: \n",
      "Parameters: { \"use_label_encoder\" } are not used.\n",
      "\n",
      "  warnings.warn(smsg, UserWarning)\n"
     ]
    },
    {
     "name": "stdout",
     "output_type": "stream",
     "text": [
      "cv\n",
      "individual models\n"
     ]
    },
    {
     "name": "stderr",
     "output_type": "stream",
     "text": [
      "/home/wanlab/nick/.local/lib/python3.8/site-packages/xgboost/core.py:158: UserWarning: [11:42:05] WARNING: /workspace/src/learner.cc:740: \n",
      "Parameters: { \"use_label_encoder\" } are not used.\n",
      "\n",
      "  warnings.warn(smsg, UserWarning)\n"
     ]
    },
    {
     "name": "stdout",
     "output_type": "stream",
     "text": [
      "cv\n",
      "individual models\n"
     ]
    },
    {
     "name": "stderr",
     "output_type": "stream",
     "text": [
      "/home/wanlab/nick/.local/lib/python3.8/site-packages/xgboost/core.py:158: UserWarning: [11:42:16] WARNING: /workspace/src/learner.cc:740: \n",
      "Parameters: { \"use_label_encoder\" } are not used.\n",
      "\n",
      "  warnings.warn(smsg, UserWarning)\n"
     ]
    },
    {
     "name": "stdout",
     "output_type": "stream",
     "text": [
      "cv\n",
      "individual models\n"
     ]
    },
    {
     "name": "stderr",
     "output_type": "stream",
     "text": [
      "/home/wanlab/nick/.local/lib/python3.8/site-packages/xgboost/core.py:158: UserWarning: [11:42:28] WARNING: /workspace/src/learner.cc:740: \n",
      "Parameters: { \"use_label_encoder\" } are not used.\n",
      "\n",
      "  warnings.warn(smsg, UserWarning)\n"
     ]
    },
    {
     "name": "stdout",
     "output_type": "stream",
     "text": [
      "cv\n",
      "individual models\n"
     ]
    },
    {
     "name": "stderr",
     "output_type": "stream",
     "text": [
      "/home/wanlab/nick/.local/lib/python3.8/site-packages/xgboost/core.py:158: UserWarning: [11:42:39] WARNING: /workspace/src/learner.cc:740: \n",
      "Parameters: { \"use_label_encoder\" } are not used.\n",
      "\n",
      "  warnings.warn(smsg, UserWarning)\n"
     ]
    },
    {
     "name": "stdout",
     "output_type": "stream",
     "text": [
      "cv\n",
      "individual models\n"
     ]
    },
    {
     "name": "stderr",
     "output_type": "stream",
     "text": [
      "/home/wanlab/nick/.local/lib/python3.8/site-packages/xgboost/core.py:158: UserWarning: [11:42:51] WARNING: /workspace/src/learner.cc:740: \n",
      "Parameters: { \"use_label_encoder\" } are not used.\n",
      "\n",
      "  warnings.warn(smsg, UserWarning)\n"
     ]
    },
    {
     "name": "stdout",
     "output_type": "stream",
     "text": [
      "cv\n",
      "individual models\n"
     ]
    },
    {
     "name": "stderr",
     "output_type": "stream",
     "text": [
      "/home/wanlab/nick/.local/lib/python3.8/site-packages/xgboost/core.py:158: UserWarning: [11:43:02] WARNING: /workspace/src/learner.cc:740: \n",
      "Parameters: { \"use_label_encoder\" } are not used.\n",
      "\n",
      "  warnings.warn(smsg, UserWarning)\n"
     ]
    },
    {
     "name": "stdout",
     "output_type": "stream",
     "text": [
      "cv\n",
      "individual models\n"
     ]
    },
    {
     "name": "stderr",
     "output_type": "stream",
     "text": [
      "/home/wanlab/nick/.local/lib/python3.8/site-packages/xgboost/core.py:158: UserWarning: [11:43:14] WARNING: /workspace/src/learner.cc:740: \n",
      "Parameters: { \"use_label_encoder\" } are not used.\n",
      "\n",
      "  warnings.warn(smsg, UserWarning)\n"
     ]
    },
    {
     "name": "stdout",
     "output_type": "stream",
     "text": [
      "cv\n",
      "individual models\n"
     ]
    },
    {
     "name": "stderr",
     "output_type": "stream",
     "text": [
      "/home/wanlab/nick/.local/lib/python3.8/site-packages/xgboost/core.py:158: UserWarning: [11:43:26] WARNING: /workspace/src/learner.cc:740: \n",
      "Parameters: { \"use_label_encoder\" } are not used.\n",
      "\n",
      "  warnings.warn(smsg, UserWarning)\n"
     ]
    },
    {
     "name": "stdout",
     "output_type": "stream",
     "text": [
      "cv\n",
      "individual models\n"
     ]
    },
    {
     "name": "stderr",
     "output_type": "stream",
     "text": [
      "/home/wanlab/nick/.local/lib/python3.8/site-packages/xgboost/core.py:158: UserWarning: [11:43:37] WARNING: /workspace/src/learner.cc:740: \n",
      "Parameters: { \"use_label_encoder\" } are not used.\n",
      "\n",
      "  warnings.warn(smsg, UserWarning)\n"
     ]
    },
    {
     "name": "stdout",
     "output_type": "stream",
     "text": [
      "cv\n",
      "individual models\n"
     ]
    },
    {
     "name": "stderr",
     "output_type": "stream",
     "text": [
      "/home/wanlab/nick/.local/lib/python3.8/site-packages/xgboost/core.py:158: UserWarning: [11:43:49] WARNING: /workspace/src/learner.cc:740: \n",
      "Parameters: { \"use_label_encoder\" } are not used.\n",
      "\n",
      "  warnings.warn(smsg, UserWarning)\n"
     ]
    },
    {
     "name": "stdout",
     "output_type": "stream",
     "text": [
      "cv\n",
      "individual models\n"
     ]
    },
    {
     "name": "stderr",
     "output_type": "stream",
     "text": [
      "/home/wanlab/nick/.local/lib/python3.8/site-packages/xgboost/core.py:158: UserWarning: [11:44:00] WARNING: /workspace/src/learner.cc:740: \n",
      "Parameters: { \"use_label_encoder\" } are not used.\n",
      "\n",
      "  warnings.warn(smsg, UserWarning)\n"
     ]
    },
    {
     "name": "stdout",
     "output_type": "stream",
     "text": [
      "cv\n",
      "individual models\n"
     ]
    },
    {
     "name": "stderr",
     "output_type": "stream",
     "text": [
      "/home/wanlab/nick/.local/lib/python3.8/site-packages/xgboost/core.py:158: UserWarning: [11:44:12] WARNING: /workspace/src/learner.cc:740: \n",
      "Parameters: { \"use_label_encoder\" } are not used.\n",
      "\n",
      "  warnings.warn(smsg, UserWarning)\n"
     ]
    },
    {
     "name": "stdout",
     "output_type": "stream",
     "text": [
      "cv\n",
      "individual models\n"
     ]
    },
    {
     "name": "stderr",
     "output_type": "stream",
     "text": [
      "/home/wanlab/nick/.local/lib/python3.8/site-packages/xgboost/core.py:158: UserWarning: [11:44:23] WARNING: /workspace/src/learner.cc:740: \n",
      "Parameters: { \"use_label_encoder\" } are not used.\n",
      "\n",
      "  warnings.warn(smsg, UserWarning)\n"
     ]
    },
    {
     "name": "stdout",
     "output_type": "stream",
     "text": [
      "cv\n",
      "individual models\n"
     ]
    },
    {
     "name": "stderr",
     "output_type": "stream",
     "text": [
      "/home/wanlab/nick/.local/lib/python3.8/site-packages/xgboost/core.py:158: UserWarning: [11:44:35] WARNING: /workspace/src/learner.cc:740: \n",
      "Parameters: { \"use_label_encoder\" } are not used.\n",
      "\n",
      "  warnings.warn(smsg, UserWarning)\n"
     ]
    },
    {
     "name": "stdout",
     "output_type": "stream",
     "text": [
      "cv\n",
      "individual models\n"
     ]
    },
    {
     "name": "stderr",
     "output_type": "stream",
     "text": [
      "/home/wanlab/nick/.local/lib/python3.8/site-packages/xgboost/core.py:158: UserWarning: [11:44:46] WARNING: /workspace/src/learner.cc:740: \n",
      "Parameters: { \"use_label_encoder\" } are not used.\n",
      "\n",
      "  warnings.warn(smsg, UserWarning)\n"
     ]
    },
    {
     "name": "stdout",
     "output_type": "stream",
     "text": [
      "cv\n",
      "individual models\n"
     ]
    },
    {
     "name": "stderr",
     "output_type": "stream",
     "text": [
      "/home/wanlab/nick/.local/lib/python3.8/site-packages/xgboost/core.py:158: UserWarning: [11:44:57] WARNING: /workspace/src/learner.cc:740: \n",
      "Parameters: { \"use_label_encoder\" } are not used.\n",
      "\n",
      "  warnings.warn(smsg, UserWarning)\n"
     ]
    },
    {
     "name": "stdout",
     "output_type": "stream",
     "text": [
      "cv\n",
      "individual models\n"
     ]
    },
    {
     "name": "stderr",
     "output_type": "stream",
     "text": [
      "/home/wanlab/nick/.local/lib/python3.8/site-packages/xgboost/core.py:158: UserWarning: [11:45:09] WARNING: /workspace/src/learner.cc:740: \n",
      "Parameters: { \"use_label_encoder\" } are not used.\n",
      "\n",
      "  warnings.warn(smsg, UserWarning)\n"
     ]
    },
    {
     "name": "stdout",
     "output_type": "stream",
     "text": [
      "cv\n",
      "individual models\n"
     ]
    },
    {
     "name": "stderr",
     "output_type": "stream",
     "text": [
      "/home/wanlab/nick/.local/lib/python3.8/site-packages/xgboost/core.py:158: UserWarning: [11:45:20] WARNING: /workspace/src/learner.cc:740: \n",
      "Parameters: { \"use_label_encoder\" } are not used.\n",
      "\n",
      "  warnings.warn(smsg, UserWarning)\n"
     ]
    },
    {
     "name": "stdout",
     "output_type": "stream",
     "text": [
      "cv\n",
      "individual models\n"
     ]
    },
    {
     "name": "stderr",
     "output_type": "stream",
     "text": [
      "/home/wanlab/nick/.local/lib/python3.8/site-packages/xgboost/core.py:158: UserWarning: [11:45:32] WARNING: /workspace/src/learner.cc:740: \n",
      "Parameters: { \"use_label_encoder\" } are not used.\n",
      "\n",
      "  warnings.warn(smsg, UserWarning)\n"
     ]
    },
    {
     "name": "stdout",
     "output_type": "stream",
     "text": [
      "cv\n",
      "individual models\n"
     ]
    },
    {
     "name": "stderr",
     "output_type": "stream",
     "text": [
      "/home/wanlab/nick/.local/lib/python3.8/site-packages/xgboost/core.py:158: UserWarning: [11:45:44] WARNING: /workspace/src/learner.cc:740: \n",
      "Parameters: { \"use_label_encoder\" } are not used.\n",
      "\n",
      "  warnings.warn(smsg, UserWarning)\n"
     ]
    },
    {
     "name": "stdout",
     "output_type": "stream",
     "text": [
      "cv\n",
      "individual models\n"
     ]
    },
    {
     "name": "stderr",
     "output_type": "stream",
     "text": [
      "/home/wanlab/nick/.local/lib/python3.8/site-packages/xgboost/core.py:158: UserWarning: [11:45:55] WARNING: /workspace/src/learner.cc:740: \n",
      "Parameters: { \"use_label_encoder\" } are not used.\n",
      "\n",
      "  warnings.warn(smsg, UserWarning)\n"
     ]
    },
    {
     "name": "stdout",
     "output_type": "stream",
     "text": [
      "cv\n",
      "individual models\n"
     ]
    },
    {
     "name": "stderr",
     "output_type": "stream",
     "text": [
      "/home/wanlab/nick/.local/lib/python3.8/site-packages/xgboost/core.py:158: UserWarning: [11:46:07] WARNING: /workspace/src/learner.cc:740: \n",
      "Parameters: { \"use_label_encoder\" } are not used.\n",
      "\n",
      "  warnings.warn(smsg, UserWarning)\n"
     ]
    },
    {
     "name": "stdout",
     "output_type": "stream",
     "text": [
      "cv\n",
      "individual models\n"
     ]
    },
    {
     "name": "stderr",
     "output_type": "stream",
     "text": [
      "/home/wanlab/nick/.local/lib/python3.8/site-packages/xgboost/core.py:158: UserWarning: [11:46:19] WARNING: /workspace/src/learner.cc:740: \n",
      "Parameters: { \"use_label_encoder\" } are not used.\n",
      "\n",
      "  warnings.warn(smsg, UserWarning)\n"
     ]
    },
    {
     "name": "stdout",
     "output_type": "stream",
     "text": [
      "cv\n",
      "individual models\n"
     ]
    },
    {
     "name": "stderr",
     "output_type": "stream",
     "text": [
      "/home/wanlab/nick/.local/lib/python3.8/site-packages/xgboost/core.py:158: UserWarning: [11:46:30] WARNING: /workspace/src/learner.cc:740: \n",
      "Parameters: { \"use_label_encoder\" } are not used.\n",
      "\n",
      "  warnings.warn(smsg, UserWarning)\n"
     ]
    },
    {
     "name": "stdout",
     "output_type": "stream",
     "text": [
      "cv\n",
      "individual models\n"
     ]
    },
    {
     "name": "stderr",
     "output_type": "stream",
     "text": [
      "/home/wanlab/nick/.local/lib/python3.8/site-packages/xgboost/core.py:158: UserWarning: [11:46:42] WARNING: /workspace/src/learner.cc:740: \n",
      "Parameters: { \"use_label_encoder\" } are not used.\n",
      "\n",
      "  warnings.warn(smsg, UserWarning)\n"
     ]
    },
    {
     "name": "stdout",
     "output_type": "stream",
     "text": [
      "cv\n",
      "individual models\n"
     ]
    },
    {
     "name": "stderr",
     "output_type": "stream",
     "text": [
      "/home/wanlab/nick/.local/lib/python3.8/site-packages/xgboost/core.py:158: UserWarning: [11:46:53] WARNING: /workspace/src/learner.cc:740: \n",
      "Parameters: { \"use_label_encoder\" } are not used.\n",
      "\n",
      "  warnings.warn(smsg, UserWarning)\n"
     ]
    },
    {
     "name": "stdout",
     "output_type": "stream",
     "text": [
      "cv\n",
      "individual models\n"
     ]
    },
    {
     "name": "stderr",
     "output_type": "stream",
     "text": [
      "/home/wanlab/nick/.local/lib/python3.8/site-packages/xgboost/core.py:158: UserWarning: [11:47:04] WARNING: /workspace/src/learner.cc:740: \n",
      "Parameters: { \"use_label_encoder\" } are not used.\n",
      "\n",
      "  warnings.warn(smsg, UserWarning)\n"
     ]
    },
    {
     "name": "stdout",
     "output_type": "stream",
     "text": [
      "cv\n",
      "individual models\n"
     ]
    },
    {
     "name": "stderr",
     "output_type": "stream",
     "text": [
      "/home/wanlab/nick/.local/lib/python3.8/site-packages/xgboost/core.py:158: UserWarning: [11:47:16] WARNING: /workspace/src/learner.cc:740: \n",
      "Parameters: { \"use_label_encoder\" } are not used.\n",
      "\n",
      "  warnings.warn(smsg, UserWarning)\n"
     ]
    },
    {
     "name": "stdout",
     "output_type": "stream",
     "text": [
      "cv\n",
      "individual models\n"
     ]
    },
    {
     "name": "stderr",
     "output_type": "stream",
     "text": [
      "/home/wanlab/nick/.local/lib/python3.8/site-packages/xgboost/core.py:158: UserWarning: [11:47:27] WARNING: /workspace/src/learner.cc:740: \n",
      "Parameters: { \"use_label_encoder\" } are not used.\n",
      "\n",
      "  warnings.warn(smsg, UserWarning)\n"
     ]
    },
    {
     "name": "stdout",
     "output_type": "stream",
     "text": [
      "cv\n",
      "individual models\n"
     ]
    },
    {
     "name": "stderr",
     "output_type": "stream",
     "text": [
      "/home/wanlab/nick/.local/lib/python3.8/site-packages/xgboost/core.py:158: UserWarning: [11:47:39] WARNING: /workspace/src/learner.cc:740: \n",
      "Parameters: { \"use_label_encoder\" } are not used.\n",
      "\n",
      "  warnings.warn(smsg, UserWarning)\n"
     ]
    },
    {
     "name": "stdout",
     "output_type": "stream",
     "text": [
      "cv\n",
      "individual models\n"
     ]
    },
    {
     "name": "stderr",
     "output_type": "stream",
     "text": [
      "/home/wanlab/nick/.local/lib/python3.8/site-packages/xgboost/core.py:158: UserWarning: [11:47:50] WARNING: /workspace/src/learner.cc:740: \n",
      "Parameters: { \"use_label_encoder\" } are not used.\n",
      "\n",
      "  warnings.warn(smsg, UserWarning)\n"
     ]
    },
    {
     "name": "stdout",
     "output_type": "stream",
     "text": [
      "cv\n",
      "individual models\n"
     ]
    },
    {
     "name": "stderr",
     "output_type": "stream",
     "text": [
      "/home/wanlab/nick/.local/lib/python3.8/site-packages/xgboost/core.py:158: UserWarning: [11:48:02] WARNING: /workspace/src/learner.cc:740: \n",
      "Parameters: { \"use_label_encoder\" } are not used.\n",
      "\n",
      "  warnings.warn(smsg, UserWarning)\n"
     ]
    },
    {
     "name": "stdout",
     "output_type": "stream",
     "text": [
      "cv\n",
      "individual models\n"
     ]
    },
    {
     "name": "stderr",
     "output_type": "stream",
     "text": [
      "/home/wanlab/nick/.local/lib/python3.8/site-packages/xgboost/core.py:158: UserWarning: [11:48:14] WARNING: /workspace/src/learner.cc:740: \n",
      "Parameters: { \"use_label_encoder\" } are not used.\n",
      "\n",
      "  warnings.warn(smsg, UserWarning)\n"
     ]
    },
    {
     "name": "stdout",
     "output_type": "stream",
     "text": [
      "cv\n",
      "individual models\n"
     ]
    },
    {
     "name": "stderr",
     "output_type": "stream",
     "text": [
      "/home/wanlab/nick/.local/lib/python3.8/site-packages/xgboost/core.py:158: UserWarning: [11:48:26] WARNING: /workspace/src/learner.cc:740: \n",
      "Parameters: { \"use_label_encoder\" } are not used.\n",
      "\n",
      "  warnings.warn(smsg, UserWarning)\n"
     ]
    },
    {
     "name": "stdout",
     "output_type": "stream",
     "text": [
      "cv\n",
      "individual models\n"
     ]
    },
    {
     "name": "stderr",
     "output_type": "stream",
     "text": [
      "/home/wanlab/nick/.local/lib/python3.8/site-packages/xgboost/core.py:158: UserWarning: [11:48:37] WARNING: /workspace/src/learner.cc:740: \n",
      "Parameters: { \"use_label_encoder\" } are not used.\n",
      "\n",
      "  warnings.warn(smsg, UserWarning)\n"
     ]
    },
    {
     "name": "stdout",
     "output_type": "stream",
     "text": [
      "cv\n",
      "individual models\n"
     ]
    },
    {
     "name": "stderr",
     "output_type": "stream",
     "text": [
      "/home/wanlab/nick/.local/lib/python3.8/site-packages/xgboost/core.py:158: UserWarning: [11:48:49] WARNING: /workspace/src/learner.cc:740: \n",
      "Parameters: { \"use_label_encoder\" } are not used.\n",
      "\n",
      "  warnings.warn(smsg, UserWarning)\n"
     ]
    },
    {
     "name": "stdout",
     "output_type": "stream",
     "text": [
      "cv\n",
      "individual models\n"
     ]
    },
    {
     "name": "stderr",
     "output_type": "stream",
     "text": [
      "/home/wanlab/nick/.local/lib/python3.8/site-packages/xgboost/core.py:158: UserWarning: [11:49:01] WARNING: /workspace/src/learner.cc:740: \n",
      "Parameters: { \"use_label_encoder\" } are not used.\n",
      "\n",
      "  warnings.warn(smsg, UserWarning)\n"
     ]
    },
    {
     "name": "stdout",
     "output_type": "stream",
     "text": [
      "cv\n",
      "individual models\n"
     ]
    },
    {
     "name": "stderr",
     "output_type": "stream",
     "text": [
      "/home/wanlab/nick/.local/lib/python3.8/site-packages/xgboost/core.py:158: UserWarning: [11:49:13] WARNING: /workspace/src/learner.cc:740: \n",
      "Parameters: { \"use_label_encoder\" } are not used.\n",
      "\n",
      "  warnings.warn(smsg, UserWarning)\n"
     ]
    },
    {
     "name": "stdout",
     "output_type": "stream",
     "text": [
      "cv\n",
      "individual models\n"
     ]
    },
    {
     "name": "stderr",
     "output_type": "stream",
     "text": [
      "/home/wanlab/nick/.local/lib/python3.8/site-packages/xgboost/core.py:158: UserWarning: [11:49:24] WARNING: /workspace/src/learner.cc:740: \n",
      "Parameters: { \"use_label_encoder\" } are not used.\n",
      "\n",
      "  warnings.warn(smsg, UserWarning)\n"
     ]
    },
    {
     "name": "stdout",
     "output_type": "stream",
     "text": [
      "cv\n",
      "individual models\n"
     ]
    },
    {
     "name": "stderr",
     "output_type": "stream",
     "text": [
      "/home/wanlab/nick/.local/lib/python3.8/site-packages/xgboost/core.py:158: UserWarning: [11:49:36] WARNING: /workspace/src/learner.cc:740: \n",
      "Parameters: { \"use_label_encoder\" } are not used.\n",
      "\n",
      "  warnings.warn(smsg, UserWarning)\n"
     ]
    },
    {
     "name": "stdout",
     "output_type": "stream",
     "text": [
      "cv\n",
      "individual models\n"
     ]
    },
    {
     "name": "stderr",
     "output_type": "stream",
     "text": [
      "/home/wanlab/nick/.local/lib/python3.8/site-packages/xgboost/core.py:158: UserWarning: [11:49:47] WARNING: /workspace/src/learner.cc:740: \n",
      "Parameters: { \"use_label_encoder\" } are not used.\n",
      "\n",
      "  warnings.warn(smsg, UserWarning)\n"
     ]
    },
    {
     "name": "stdout",
     "output_type": "stream",
     "text": [
      "cv\n",
      "individual models\n"
     ]
    },
    {
     "name": "stderr",
     "output_type": "stream",
     "text": [
      "/home/wanlab/nick/.local/lib/python3.8/site-packages/xgboost/core.py:158: UserWarning: [11:49:59] WARNING: /workspace/src/learner.cc:740: \n",
      "Parameters: { \"use_label_encoder\" } are not used.\n",
      "\n",
      "  warnings.warn(smsg, UserWarning)\n"
     ]
    },
    {
     "name": "stdout",
     "output_type": "stream",
     "text": [
      "cv\n",
      "individual models\n"
     ]
    },
    {
     "name": "stderr",
     "output_type": "stream",
     "text": [
      "/home/wanlab/nick/.local/lib/python3.8/site-packages/xgboost/core.py:158: UserWarning: [11:50:10] WARNING: /workspace/src/learner.cc:740: \n",
      "Parameters: { \"use_label_encoder\" } are not used.\n",
      "\n",
      "  warnings.warn(smsg, UserWarning)\n"
     ]
    },
    {
     "name": "stdout",
     "output_type": "stream",
     "text": [
      "cv\n",
      "individual models\n"
     ]
    },
    {
     "name": "stderr",
     "output_type": "stream",
     "text": [
      "/home/wanlab/nick/.local/lib/python3.8/site-packages/xgboost/core.py:158: UserWarning: [11:50:22] WARNING: /workspace/src/learner.cc:740: \n",
      "Parameters: { \"use_label_encoder\" } are not used.\n",
      "\n",
      "  warnings.warn(smsg, UserWarning)\n"
     ]
    },
    {
     "name": "stdout",
     "output_type": "stream",
     "text": [
      "cv\n",
      "\n",
      "model score of oof results for SVC\n",
      "Model Accuracy: 0.8854166666666666\n",
      "Precision: 0.891441968525302\n",
      "Recall (Sensitivity): 0.8854166666666666\n",
      "F1 Score: 0.8857571122577969\n",
      "Matthews Correlation Coefficient (MCC): 0.847046869768925\n",
      "G-Measure: 0.9229308733968031\n",
      "AUC: 0.9884794245269597\n",
      "Specificity: 0.9613969803670508\n",
      "Jaccard Index: 0.7977251412244541\n",
      "Saving metrics to: /work/wanlab/nick//stackeval7/val_data/individual models/SVC/limma(0),metrics.csv\n",
      "PREDICTIONS                   subtype  Squamous      ADEX  Pancreatic Progenitor  \\\n",
      "0   Pancreatic Progenitor  0.108958  0.039424               0.826961   \n",
      "1                    ADEX  0.036849  0.887648               0.020806   \n",
      "2   Pancreatic Progenitor  0.234056  0.216495               0.516802   \n",
      "3   Pancreatic Progenitor  0.004954  0.053454               0.910645   \n",
      "4                    ADEX  0.121599  0.677733               0.180381   \n",
      "..                    ...       ...       ...                    ...   \n",
      "91            Immunogenic  0.006888  0.054208               0.007965   \n",
      "92                   ADEX  0.007616  0.817637               0.128871   \n",
      "93            Immunogenic  0.042016  0.037184               0.394582   \n",
      "94               Squamous  0.607321  0.058302               0.303060   \n",
      "95  Pancreatic Progenitor  0.002219  0.037308               0.825304   \n",
      "\n",
      "    Immunogenic  \n",
      "0      0.024658  \n",
      "1      0.054697  \n",
      "2      0.032648  \n",
      "3      0.030947  \n",
      "4      0.020287  \n",
      "..          ...  \n",
      "91     0.930939  \n",
      "92     0.045877  \n",
      "93     0.526218  \n",
      "94     0.031318  \n",
      "95     0.135169  \n",
      "\n",
      "[96 rows x 5 columns]\n",
      "\n",
      "model score of oof results for SVC2\n",
      "Model Accuracy: 0.9375\n",
      "Precision: 0.9378672542735043\n",
      "Recall (Sensitivity): 0.9375\n",
      "F1 Score: 0.9374874949979993\n",
      "Matthews Correlation Coefficient (MCC): 0.9155529545059609\n",
      "G-Measure: 0.9579504330083998\n",
      "AUC: 0.987726516929862\n",
      "Specificity: 0.9787358621425523\n",
      "Jaccard Index: 0.882714303670186\n",
      "Saving metrics to: /work/wanlab/nick//stackeval7/val_data/individual models/SVC2/limma(0),metrics.csv\n",
      "PREDICTIONS                   subtype  Squamous      ADEX  Pancreatic Progenitor  \\\n",
      "0   Pancreatic Progenitor  0.166942  0.040787               0.756389   \n",
      "1                    ADEX  0.083482  0.802092               0.033381   \n",
      "2   Pancreatic Progenitor  0.335557  0.155780               0.469163   \n",
      "3   Pancreatic Progenitor  0.015906  0.085601               0.860058   \n",
      "4                    ADEX  0.259939  0.463394               0.244583   \n",
      "..                    ...       ...       ...                    ...   \n",
      "91            Immunogenic  0.019138  0.096182               0.016309   \n",
      "92                   ADEX  0.025171  0.793108               0.096761   \n",
      "93            Immunogenic  0.091832  0.025035               0.673726   \n",
      "94               Squamous  0.583371  0.025762               0.368077   \n",
      "95  Pancreatic Progenitor  0.004285  0.029291               0.745774   \n",
      "\n",
      "    Immunogenic  \n",
      "0      0.035881  \n",
      "1      0.081045  \n",
      "2      0.039500  \n",
      "3      0.038435  \n",
      "4      0.032084  \n",
      "..          ...  \n",
      "91     0.868371  \n",
      "92     0.084960  \n",
      "93     0.209407  \n",
      "94     0.022790  \n",
      "95     0.220650  \n",
      "\n",
      "[96 rows x 5 columns]\n",
      "\n",
      "model score of oof results for XGBClassifier\n",
      "Model Accuracy: 0.8958333333333334\n",
      "Precision: 0.8980353036908744\n",
      "Recall (Sensitivity): 0.8958333333333334\n",
      "F1 Score: 0.8939833840972847\n",
      "Matthews Correlation Coefficient (MCC): 0.8599347653521981\n",
      "G-Measure: 0.9191232154034474\n",
      "AUC: 0.980168487249253\n",
      "Specificity: 0.9643846030729835\n",
      "Jaccard Index: 0.7975085541008462\n",
      "Saving metrics to: /work/wanlab/nick//stackeval7/val_data/individual models/XGBClassifier/limma(0),metrics.csv\n",
      "PREDICTIONS                   subtype  Squamous      ADEX  Pancreatic Progenitor  \\\n",
      "0   Pancreatic Progenitor  0.010496  0.004265               0.979689   \n",
      "1                    ADEX  0.009075  0.971340               0.010060   \n",
      "2   Pancreatic Progenitor  0.324684  0.116739               0.423451   \n",
      "3   Pancreatic Progenitor  0.035251  0.015652               0.932271   \n",
      "4                    ADEX  0.019062  0.938530               0.032673   \n",
      "..                    ...       ...       ...                    ...   \n",
      "91            Immunogenic  0.003353  0.144402               0.006780   \n",
      "92                   ADEX  0.085751  0.291449               0.230912   \n",
      "93            Immunogenic  0.006942  0.004306               0.017895   \n",
      "94               Squamous  0.557425  0.083944               0.236529   \n",
      "95  Pancreatic Progenitor  0.076111  0.088864               0.516777   \n",
      "\n",
      "    Immunogenic  \n",
      "0      0.005550  \n",
      "1      0.009525  \n",
      "2      0.135126  \n",
      "3      0.016826  \n",
      "4      0.009735  \n",
      "..          ...  \n",
      "91     0.845465  \n",
      "92     0.391888  \n",
      "93     0.970856  \n",
      "94     0.122102  \n",
      "95     0.318248  \n",
      "\n",
      "[96 rows x 5 columns]\n",
      "\n",
      "model score of oof results for KNeighborsClassifier\n",
      "Model Accuracy: 0.8125\n",
      "Precision: 0.8199310816498316\n",
      "Recall (Sensitivity): 0.8125\n",
      "F1 Score: 0.8125190781440782\n",
      "Matthews Correlation Coefficient (MCC): 0.7460321678003263\n",
      "G-Measure: 0.8633985462943907\n",
      "AUC: 0.9584949683898847\n",
      "Specificity: 0.9348818288518993\n",
      "Jaccard Index: 0.6830932288025566\n",
      "Saving metrics to: /work/wanlab/nick//stackeval7/val_data/individual models/KNeighborsClassifier/limma(0),metrics.csv\n",
      "PREDICTIONS                   subtype  Squamous  ADEX  Pancreatic Progenitor  Immunogenic\n",
      "0   Pancreatic Progenitor       0.2   0.0                    0.8          0.0\n",
      "1                    ADEX       0.0   1.0                    0.0          0.0\n",
      "2   Pancreatic Progenitor       0.4   0.0                    0.6          0.0\n",
      "3   Pancreatic Progenitor       0.0   0.0                    1.0          0.0\n",
      "4                    ADEX       0.4   0.2                    0.4          0.0\n",
      "..                    ...       ...   ...                    ...          ...\n",
      "91            Immunogenic       0.0   0.0                    0.0          1.0\n",
      "92                   ADEX       0.0   0.6                    0.4          0.0\n",
      "93            Immunogenic       0.0   0.0                    0.4          0.6\n",
      "94               Squamous       0.4   0.0                    0.6          0.0\n",
      "95  Pancreatic Progenitor       0.0   0.0                    0.6          0.4\n",
      "\n",
      "[96 rows x 5 columns]\n",
      "运行时间为: 1120.80 秒\n",
      "combining [[0.10895793 0.03942367 0.82696082 ... 0.         0.8        0.        ]\n",
      " [0.03684857 0.88764833 0.02080602 ... 1.         0.         0.        ]\n",
      " [0.23405552 0.21649451 0.51680159 ... 0.         0.6        0.        ]\n",
      " ...\n",
      " [0.04201583 0.03718404 0.39458233 ... 0.         0.4        0.6       ]\n",
      " [0.60732092 0.05830195 0.30305955 ... 0.         0.6        0.        ]\n",
      " [0.00221932 0.03730773 0.8253039  ... 0.         0.6        0.4       ]] [[13.56018914 12.68466835 13.10243664 ...  9.53005478 11.16103308\n",
      "  11.24920229]\n",
      " [15.4259582  14.08525845 12.01110512 ...  9.45622747 11.12707631\n",
      "  11.78331935]\n",
      " [14.4756837  13.26517897 12.82291838 ...  9.65623065 11.33179862\n",
      "  11.68015036]\n",
      " ...\n",
      " [14.28976923 13.62192201 12.67277184 ...  9.32578912  9.67174085\n",
      "  11.45401981]\n",
      " [14.71684472 13.81278796 13.58508909 ... 10.31590684 12.7838795\n",
      "  11.90067493]\n",
      " [14.18823419 12.92657629 11.70868561 ...  9.88942006  9.76636631\n",
      "  12.84604452]]\n",
      "stacked\n",
      "cv\n",
      "stacked\n",
      "cv\n",
      "stacked\n",
      "cv\n",
      "stacked\n",
      "cv\n",
      "stacked\n",
      "cv\n",
      "stacked\n",
      "cv\n",
      "stacked\n",
      "cv\n",
      "stacked\n",
      "cv\n",
      "stacked\n",
      "cv\n",
      "stacked\n",
      "cv\n",
      "stacked\n",
      "cv\n",
      "stacked\n",
      "cv\n",
      "stacked\n",
      "cv\n",
      "stacked\n",
      "cv\n",
      "stacked\n",
      "cv\n",
      "stacked\n",
      "cv\n",
      "stacked\n",
      "cv\n",
      "stacked\n",
      "cv\n",
      "stacked\n",
      "cv\n",
      "stacked\n",
      "cv\n",
      "stacked\n",
      "cv\n",
      "stacked\n",
      "cv\n",
      "stacked\n",
      "cv\n",
      "stacked\n",
      "cv\n",
      "stacked\n",
      "cv\n",
      "stacked\n",
      "cv\n",
      "stacked\n",
      "cv\n",
      "stacked\n",
      "cv\n",
      "stacked\n",
      "cv\n",
      "stacked\n",
      "cv\n",
      "stacked\n",
      "cv\n",
      "stacked\n",
      "cv\n",
      "stacked\n",
      "cv\n",
      "stacked\n",
      "cv\n",
      "stacked\n",
      "cv\n",
      "stacked\n",
      "cv\n",
      "stacked\n",
      "cv\n",
      "stacked\n",
      "cv\n",
      "stacked\n",
      "cv\n",
      "stacked\n",
      "cv\n",
      "stacked\n",
      "cv\n",
      "stacked\n",
      "cv\n",
      "stacked\n",
      "cv\n",
      "stacked\n",
      "cv\n",
      "stacked\n",
      "cv\n",
      "stacked\n",
      "cv\n",
      "stacked\n",
      "cv\n",
      "stacked\n",
      "cv\n",
      "stacked\n",
      "cv\n",
      "stacked\n",
      "cv\n",
      "stacked\n",
      "cv\n",
      "stacked\n",
      "cv\n",
      "stacked\n",
      "cv\n",
      "stacked\n",
      "cv\n",
      "stacked\n",
      "cv\n",
      "stacked\n",
      "cv\n",
      "stacked\n",
      "cv\n",
      "stacked\n",
      "cv\n",
      "stacked\n",
      "cv\n",
      "stacked\n",
      "cv\n",
      "stacked\n",
      "cv\n",
      "stacked\n",
      "cv\n",
      "stacked\n",
      "cv\n",
      "stacked\n",
      "cv\n",
      "stacked\n",
      "cv\n",
      "stacked\n",
      "cv\n",
      "stacked\n",
      "cv\n",
      "stacked\n",
      "cv\n",
      "stacked\n",
      "cv\n",
      "stacked\n",
      "cv\n",
      "stacked\n",
      "cv\n",
      "stacked\n",
      "cv\n",
      "stacked\n",
      "cv\n",
      "stacked\n",
      "cv\n",
      "stacked\n",
      "cv\n",
      "stacked\n",
      "cv\n",
      "stacked\n",
      "cv\n",
      "stacked\n",
      "cv\n",
      "stacked\n",
      "cv\n",
      "stacked\n",
      "cv\n",
      "stacked\n",
      "cv\n",
      "stacked\n",
      "cv\n",
      "stacked\n",
      "cv\n",
      "stacked\n",
      "cv\n",
      "stacked\n",
      "cv\n",
      "stacked\n",
      "cv\n",
      "stacked\n",
      "cv\n",
      "stacked\n",
      "cv\n",
      "stacked\n",
      "cv\n",
      "stacked\n",
      "cv\n",
      "stacked\n",
      "cv\n",
      "stacked\n",
      "cv\n",
      "stacked\n",
      "cv\n",
      "stacked\n",
      "cv\n",
      "stacked\n",
      "cv\n",
      "stacked\n",
      "cv\n",
      "\n",
      "model score of oof results for MLPClassifier\n",
      "Model Accuracy: 0.5833333333333334\n",
      "Precision: 0.5825531376518219\n",
      "Recall (Sensitivity): 0.5833333333333334\n",
      "F1 Score: 0.5814980158730159\n",
      "Matthews Correlation Coefficient (MCC): 0.44082951926378666\n",
      "G-Measure: 0.7097051184940449\n",
      "AUC: 0.8115093496585574\n",
      "Specificity: 0.8596484208279982\n",
      "Jaccard Index: 0.4159077356751775\n",
      "Saving metrics to: /work/wanlab/nick//stackeval7/val_data/stacked/MLPClassifier/limma(0),metrics.csv\n",
      "PREDICTIONS                   subtype      Squamous          ADEX  Pancreatic Progenitor  \\\n",
      "0             Immunogenic  1.812072e-05  9.215822e-07               0.002013   \n",
      "1                    ADEX  4.851806e-02  3.257890e-03               0.947494   \n",
      "2   Pancreatic Progenitor  1.178112e-10  2.658929e-03               0.053225   \n",
      "3   Pancreatic Progenitor  4.638828e-05  2.100123e-05               0.257867   \n",
      "4   Pancreatic Progenitor  8.732720e-02  3.001006e-05               0.888061   \n",
      "..                    ...           ...           ...                    ...   \n",
      "91                   ADEX  1.275336e-05  7.427390e-01               0.014146   \n",
      "92               Squamous  9.989842e-01  1.547146e-08               0.000982   \n",
      "93                   ADEX  3.318048e-04  8.707971e-01               0.092248   \n",
      "94  Pancreatic Progenitor  9.393386e-06  1.761469e-01               0.003271   \n",
      "95               Squamous  9.349003e-01  9.340796e-03               0.000006   \n",
      "\n",
      "    Immunogenic  \n",
      "0      0.997967  \n",
      "1      0.000730  \n",
      "2      0.944116  \n",
      "3      0.742066  \n",
      "4      0.024582  \n",
      "..          ...  \n",
      "91     0.243102  \n",
      "92     0.000033  \n",
      "93     0.036623  \n",
      "94     0.820572  \n",
      "95     0.055753  \n",
      "\n",
      "[96 rows x 5 columns]\n",
      "\n",
      "model score of oof results for RandomForestClassifier\n",
      "Model Accuracy: 0.84375\n",
      "Precision: 0.8506670714551149\n",
      "Recall (Sensitivity): 0.84375\n",
      "F1 Score: 0.8424672753716872\n",
      "Matthews Correlation Coefficient (MCC): 0.7893865706811334\n",
      "G-Measure: 0.881824699779002\n",
      "AUC: 0.9853577589273012\n",
      "Specificity: 0.9454452091335894\n",
      "Jaccard Index: 0.7233248562582928\n",
      "Saving metrics to: /work/wanlab/nick//stackeval7/val_data/stacked/RandomForestClassifier/limma(0),metrics.csv\n",
      "PREDICTIONS                   subtype  Squamous  ADEX  Pancreatic Progenitor  Immunogenic\n",
      "0             Immunogenic      0.07  0.11                   0.01         0.81\n",
      "1                    ADEX      0.16  0.36                   0.38         0.10\n",
      "2   Pancreatic Progenitor      0.06  0.10                   0.47         0.37\n",
      "3   Pancreatic Progenitor      0.03  0.16                   0.76         0.05\n",
      "4   Pancreatic Progenitor      0.15  0.09                   0.71         0.05\n",
      "..                    ...       ...   ...                    ...          ...\n",
      "91                   ADEX      0.07  0.40                   0.17         0.36\n",
      "92               Squamous      0.89  0.02                   0.06         0.03\n",
      "93                   ADEX      0.19  0.47                   0.27         0.07\n",
      "94  Pancreatic Progenitor      0.04  0.49                   0.41         0.06\n",
      "95               Squamous      0.46  0.26                   0.23         0.05\n",
      "\n",
      "[96 rows x 5 columns]\n",
      "\n",
      "model score of oof results for LogisticRegression2\n",
      "Model Accuracy: 0.90625\n",
      "Precision: 0.907241010904804\n",
      "Recall (Sensitivity): 0.90625\n",
      "F1 Score: 0.9063258253912099\n",
      "Matthews Correlation Coefficient (MCC): 0.8733101573111083\n",
      "G-Measure: 0.9352788514023854\n",
      "AUC: 0.987585527368758\n",
      "Specificity: 0.9681724818608621\n",
      "Jaccard Index: 0.8275341386554622\n",
      "Saving metrics to: /work/wanlab/nick//stackeval7/val_data/stacked/LogisticRegression2/limma(0),metrics.csv\n",
      "PREDICTIONS                   subtype      Squamous          ADEX  Pancreatic Progenitor  \\\n",
      "0             Immunogenic  3.646520e-09  9.967530e-10           2.281232e-10   \n",
      "1                    ADEX  1.160583e-04  8.835996e-01           1.151134e-01   \n",
      "2   Pancreatic Progenitor  4.303360e-09  4.564909e-06           9.879905e-01   \n",
      "3   Pancreatic Progenitor  8.366371e-06  7.663407e-03           9.914631e-01   \n",
      "4   Pancreatic Progenitor  4.393659e-05  5.480990e-04           9.994079e-01   \n",
      "..                    ...           ...           ...                    ...   \n",
      "91                   ADEX  3.292983e-07  9.373864e-01           2.261520e-02   \n",
      "92               Squamous  1.000000e+00  8.969299e-13           4.632078e-13   \n",
      "93                   ADEX  2.205240e-04  9.823618e-01           1.738988e-02   \n",
      "94  Pancreatic Progenitor  1.807691e-07  6.661702e-01           3.325387e-01   \n",
      "95               Squamous  6.532170e-01  3.247640e-01           2.200202e-02   \n",
      "\n",
      "     Immunogenic  \n",
      "0   1.000000e+00  \n",
      "1   1.170889e-03  \n",
      "2   1.200498e-02  \n",
      "3   8.651683e-04  \n",
      "4   9.152910e-08  \n",
      "..           ...  \n",
      "91  3.999803e-02  \n",
      "92  5.580528e-09  \n",
      "93  2.779654e-05  \n",
      "94  1.290889e-03  \n",
      "95  1.699213e-05  \n",
      "\n",
      "[96 rows x 5 columns]\n",
      "\n",
      "model score of oof results for GaussianNB2\n",
      "Model Accuracy: 0.8020833333333334\n",
      "Precision: 0.8036991648511257\n",
      "Recall (Sensitivity): 0.8020833333333334\n",
      "F1 Score: 0.7958233173076922\n",
      "Matthews Correlation Coefficient (MCC): 0.7323446571583454\n",
      "G-Measure: 0.8421602509277905\n",
      "AUC: 0.9294049651444016\n",
      "Specificity: 0.9314900768245838\n",
      "Jaccard Index: 0.6506778661951076\n",
      "Saving metrics to: /work/wanlab/nick//stackeval7/val_data/stacked/GaussianNB2/limma(0),metrics.csv\n",
      "PREDICTIONS                   subtype  Squamous          ADEX  Pancreatic Progenitor  \\\n",
      "0             Immunogenic    0.0000  0.000000e+00           0.000000e+00   \n",
      "1                    ADEX    0.0000  1.000000e+00           0.000000e+00   \n",
      "2   Pancreatic Progenitor    0.0000  0.000000e+00           1.000000e+00   \n",
      "3   Pancreatic Progenitor    0.0000  0.000000e+00           1.000000e+00   \n",
      "4   Pancreatic Progenitor    0.0000  0.000000e+00           1.000000e+00   \n",
      "..                    ...       ...           ...                    ...   \n",
      "91                   ADEX    0.0000  0.000000e+00          2.631575e-121   \n",
      "92               Squamous    1.0000  0.000000e+00           0.000000e+00   \n",
      "93                   ADEX    0.0000  1.205065e-57           1.000000e+00   \n",
      "94  Pancreatic Progenitor    0.0000  1.000000e+00           2.388250e-88   \n",
      "95               Squamous    0.9948  5.199573e-03          4.346961e-168   \n",
      "\n",
      "    Immunogenic  \n",
      "0           1.0  \n",
      "1           0.0  \n",
      "2           0.0  \n",
      "3           0.0  \n",
      "4           0.0  \n",
      "..          ...  \n",
      "91          1.0  \n",
      "92          0.0  \n",
      "93          0.0  \n",
      "94          0.0  \n",
      "95          0.0  \n",
      "\n",
      "[96 rows x 5 columns]\n",
      "\n",
      "model score of oof results for SVC3\n",
      "Model Accuracy: 0.8958333333333334\n",
      "Precision: 0.9014314967439967\n",
      "Recall (Sensitivity): 0.8958333333333334\n",
      "F1 Score: 0.8959621195146911\n",
      "Matthews Correlation Coefficient (MCC): 0.8611520734979478\n",
      "G-Measure: 0.9297818443861738\n",
      "AUC: 0.9858852610613175\n",
      "Specificity: 0.9649181071276142\n",
      "Jaccard Index: 0.8134476371193639\n",
      "Saving metrics to: /work/wanlab/nick//stackeval7/val_data/stacked/SVC3/limma(0),metrics.csv\n",
      "PREDICTIONS                   subtype  Squamous      ADEX  Pancreatic Progenitor  \\\n",
      "0             Immunogenic  0.003299  0.002587               0.001556   \n",
      "1                    ADEX  0.017292  0.903842               0.062694   \n",
      "2   Pancreatic Progenitor  0.002051  0.022609               0.854788   \n",
      "3   Pancreatic Progenitor  0.007827  0.073859               0.849323   \n",
      "4   Pancreatic Progenitor  0.027167  0.054844               0.913417   \n",
      "..                    ...       ...       ...                    ...   \n",
      "91                   ADEX  0.006838  0.690132               0.087259   \n",
      "92               Squamous  0.993122  0.000717               0.000286   \n",
      "93                   ADEX  0.079912  0.739489               0.150345   \n",
      "94  Pancreatic Progenitor  0.002984  0.747030               0.217701   \n",
      "95               Squamous  0.407153  0.398792               0.176530   \n",
      "\n",
      "    Immunogenic  \n",
      "0      0.992558  \n",
      "1      0.016171  \n",
      "2      0.120553  \n",
      "3      0.068991  \n",
      "4      0.004572  \n",
      "..          ...  \n",
      "91     0.215771  \n",
      "92     0.005875  \n",
      "93     0.030253  \n",
      "94     0.032285  \n",
      "95     0.017525  \n",
      "\n",
      "[96 rows x 5 columns]\n",
      "\n",
      "model score of oof results for SVC4\n",
      "Model Accuracy: 0.9375\n",
      "Precision: 0.9378672542735043\n",
      "Recall (Sensitivity): 0.9375\n",
      "F1 Score: 0.9374874949979993\n",
      "Matthews Correlation Coefficient (MCC): 0.9155529545059609\n",
      "G-Measure: 0.9579504330083998\n",
      "AUC: 0.9859326095461659\n",
      "Specificity: 0.9787358621425523\n",
      "Jaccard Index: 0.882714303670186\n",
      "Saving metrics to: /work/wanlab/nick//stackeval7/val_data/stacked/SVC4/limma(0),metrics.csv\n",
      "PREDICTIONS                   subtype  Squamous      ADEX  Pancreatic Progenitor  \\\n",
      "0             Immunogenic  0.003238  0.001219               0.000955   \n",
      "1                    ADEX  0.041122  0.575836               0.344681   \n",
      "2   Pancreatic Progenitor  0.003546  0.024884               0.757095   \n",
      "3   Pancreatic Progenitor  0.013763  0.078629               0.849881   \n",
      "4   Pancreatic Progenitor  0.036247  0.046817               0.911615   \n",
      "..                    ...       ...       ...                    ...   \n",
      "91                   ADEX  0.009463  0.698067               0.115868   \n",
      "92               Squamous  0.994879  0.000097               0.000185   \n",
      "93                   ADEX  0.054758  0.795030               0.116119   \n",
      "94  Pancreatic Progenitor  0.009709  0.642975               0.305417   \n",
      "95               Squamous  0.394384  0.393297               0.185363   \n",
      "\n",
      "    Immunogenic  \n",
      "0      0.994587  \n",
      "1      0.038361  \n",
      "2      0.214475  \n",
      "3      0.057727  \n",
      "4      0.005321  \n",
      "..          ...  \n",
      "91     0.176602  \n",
      "92     0.004839  \n",
      "93     0.034093  \n",
      "94     0.041899  \n",
      "95     0.026956  \n",
      "\n",
      "[96 rows x 5 columns]\n",
      "run 8\n",
      "Model Pair: SVC + SVC + XGBClassifier + QuadraticDiscriminantAnalysis\n",
      "USEDmodelnames ['SVC', 'SVC2', 'XGBClassifier', 'QuadraticDiscriminantAnalysis']\n",
      "Running with: SVC and SVC and XGBClassifier and QuadraticDiscriminantAnalysis\n",
      "Random state: 0\n",
      "['SVC', 'SVC2', 'XGBClassifier', 'QuadraticDiscriminantAnalysis']\n",
      "individual models\n"
     ]
    },
    {
     "name": "stderr",
     "output_type": "stream",
     "text": [
      "/home/wanlab/nick/.local/lib/python3.8/site-packages/xgboost/core.py:158: UserWarning: [12:03:09] WARNING: /workspace/src/learner.cc:740: \n",
      "Parameters: { \"use_label_encoder\" } are not used.\n",
      "\n",
      "  warnings.warn(smsg, UserWarning)\n",
      "/home/wanlab/nick/.local/lib/python3.8/site-packages/sklearn/discriminant_analysis.py:935: UserWarning: Variables are collinear\n",
      "  warnings.warn(\"Variables are collinear\")\n"
     ]
    },
    {
     "name": "stdout",
     "output_type": "stream",
     "text": [
      "cv\n",
      "individual models\n"
     ]
    },
    {
     "name": "stderr",
     "output_type": "stream",
     "text": [
      "/home/wanlab/nick/.local/lib/python3.8/site-packages/xgboost/core.py:158: UserWarning: [12:03:21] WARNING: /workspace/src/learner.cc:740: \n",
      "Parameters: { \"use_label_encoder\" } are not used.\n",
      "\n",
      "  warnings.warn(smsg, UserWarning)\n",
      "/home/wanlab/nick/.local/lib/python3.8/site-packages/sklearn/discriminant_analysis.py:935: UserWarning: Variables are collinear\n",
      "  warnings.warn(\"Variables are collinear\")\n"
     ]
    },
    {
     "name": "stdout",
     "output_type": "stream",
     "text": [
      "cv\n",
      "individual models\n"
     ]
    },
    {
     "name": "stderr",
     "output_type": "stream",
     "text": [
      "/home/wanlab/nick/.local/lib/python3.8/site-packages/xgboost/core.py:158: UserWarning: [12:03:33] WARNING: /workspace/src/learner.cc:740: \n",
      "Parameters: { \"use_label_encoder\" } are not used.\n",
      "\n",
      "  warnings.warn(smsg, UserWarning)\n",
      "/home/wanlab/nick/.local/lib/python3.8/site-packages/sklearn/discriminant_analysis.py:935: UserWarning: Variables are collinear\n",
      "  warnings.warn(\"Variables are collinear\")\n"
     ]
    },
    {
     "name": "stdout",
     "output_type": "stream",
     "text": [
      "cv\n",
      "individual models\n"
     ]
    },
    {
     "name": "stderr",
     "output_type": "stream",
     "text": [
      "/home/wanlab/nick/.local/lib/python3.8/site-packages/xgboost/core.py:158: UserWarning: [12:03:45] WARNING: /workspace/src/learner.cc:740: \n",
      "Parameters: { \"use_label_encoder\" } are not used.\n",
      "\n",
      "  warnings.warn(smsg, UserWarning)\n",
      "/home/wanlab/nick/.local/lib/python3.8/site-packages/sklearn/discriminant_analysis.py:935: UserWarning: Variables are collinear\n",
      "  warnings.warn(\"Variables are collinear\")\n"
     ]
    },
    {
     "name": "stdout",
     "output_type": "stream",
     "text": [
      "cv\n",
      "individual models\n"
     ]
    },
    {
     "name": "stderr",
     "output_type": "stream",
     "text": [
      "/home/wanlab/nick/.local/lib/python3.8/site-packages/xgboost/core.py:158: UserWarning: [12:03:57] WARNING: /workspace/src/learner.cc:740: \n",
      "Parameters: { \"use_label_encoder\" } are not used.\n",
      "\n",
      "  warnings.warn(smsg, UserWarning)\n",
      "/home/wanlab/nick/.local/lib/python3.8/site-packages/sklearn/discriminant_analysis.py:935: UserWarning: Variables are collinear\n",
      "  warnings.warn(\"Variables are collinear\")\n"
     ]
    },
    {
     "name": "stdout",
     "output_type": "stream",
     "text": [
      "cv\n",
      "individual models\n"
     ]
    },
    {
     "name": "stderr",
     "output_type": "stream",
     "text": [
      "/home/wanlab/nick/.local/lib/python3.8/site-packages/xgboost/core.py:158: UserWarning: [12:04:10] WARNING: /workspace/src/learner.cc:740: \n",
      "Parameters: { \"use_label_encoder\" } are not used.\n",
      "\n",
      "  warnings.warn(smsg, UserWarning)\n",
      "/home/wanlab/nick/.local/lib/python3.8/site-packages/sklearn/discriminant_analysis.py:935: UserWarning: Variables are collinear\n",
      "  warnings.warn(\"Variables are collinear\")\n"
     ]
    },
    {
     "name": "stdout",
     "output_type": "stream",
     "text": [
      "cv\n",
      "individual models\n"
     ]
    },
    {
     "name": "stderr",
     "output_type": "stream",
     "text": [
      "/home/wanlab/nick/.local/lib/python3.8/site-packages/xgboost/core.py:158: UserWarning: [12:04:22] WARNING: /workspace/src/learner.cc:740: \n",
      "Parameters: { \"use_label_encoder\" } are not used.\n",
      "\n",
      "  warnings.warn(smsg, UserWarning)\n",
      "/home/wanlab/nick/.local/lib/python3.8/site-packages/sklearn/discriminant_analysis.py:935: UserWarning: Variables are collinear\n",
      "  warnings.warn(\"Variables are collinear\")\n"
     ]
    },
    {
     "name": "stdout",
     "output_type": "stream",
     "text": [
      "cv\n",
      "individual models\n"
     ]
    },
    {
     "name": "stderr",
     "output_type": "stream",
     "text": [
      "/home/wanlab/nick/.local/lib/python3.8/site-packages/xgboost/core.py:158: UserWarning: [12:04:33] WARNING: /workspace/src/learner.cc:740: \n",
      "Parameters: { \"use_label_encoder\" } are not used.\n",
      "\n",
      "  warnings.warn(smsg, UserWarning)\n",
      "/home/wanlab/nick/.local/lib/python3.8/site-packages/sklearn/discriminant_analysis.py:935: UserWarning: Variables are collinear\n",
      "  warnings.warn(\"Variables are collinear\")\n"
     ]
    },
    {
     "name": "stdout",
     "output_type": "stream",
     "text": [
      "cv\n",
      "individual models\n"
     ]
    },
    {
     "name": "stderr",
     "output_type": "stream",
     "text": [
      "/home/wanlab/nick/.local/lib/python3.8/site-packages/xgboost/core.py:158: UserWarning: [12:04:45] WARNING: /workspace/src/learner.cc:740: \n",
      "Parameters: { \"use_label_encoder\" } are not used.\n",
      "\n",
      "  warnings.warn(smsg, UserWarning)\n",
      "/home/wanlab/nick/.local/lib/python3.8/site-packages/sklearn/discriminant_analysis.py:935: UserWarning: Variables are collinear\n",
      "  warnings.warn(\"Variables are collinear\")\n"
     ]
    },
    {
     "name": "stdout",
     "output_type": "stream",
     "text": [
      "cv\n",
      "individual models\n"
     ]
    },
    {
     "name": "stderr",
     "output_type": "stream",
     "text": [
      "/home/wanlab/nick/.local/lib/python3.8/site-packages/xgboost/core.py:158: UserWarning: [12:04:57] WARNING: /workspace/src/learner.cc:740: \n",
      "Parameters: { \"use_label_encoder\" } are not used.\n",
      "\n",
      "  warnings.warn(smsg, UserWarning)\n",
      "/home/wanlab/nick/.local/lib/python3.8/site-packages/sklearn/discriminant_analysis.py:935: UserWarning: Variables are collinear\n",
      "  warnings.warn(\"Variables are collinear\")\n"
     ]
    },
    {
     "name": "stdout",
     "output_type": "stream",
     "text": [
      "cv\n",
      "individual models\n"
     ]
    },
    {
     "name": "stderr",
     "output_type": "stream",
     "text": [
      "/home/wanlab/nick/.local/lib/python3.8/site-packages/xgboost/core.py:158: UserWarning: [12:05:09] WARNING: /workspace/src/learner.cc:740: \n",
      "Parameters: { \"use_label_encoder\" } are not used.\n",
      "\n",
      "  warnings.warn(smsg, UserWarning)\n",
      "/home/wanlab/nick/.local/lib/python3.8/site-packages/sklearn/discriminant_analysis.py:935: UserWarning: Variables are collinear\n",
      "  warnings.warn(\"Variables are collinear\")\n"
     ]
    },
    {
     "name": "stdout",
     "output_type": "stream",
     "text": [
      "cv\n",
      "individual models\n"
     ]
    },
    {
     "name": "stderr",
     "output_type": "stream",
     "text": [
      "/home/wanlab/nick/.local/lib/python3.8/site-packages/xgboost/core.py:158: UserWarning: [12:05:21] WARNING: /workspace/src/learner.cc:740: \n",
      "Parameters: { \"use_label_encoder\" } are not used.\n",
      "\n",
      "  warnings.warn(smsg, UserWarning)\n",
      "/home/wanlab/nick/.local/lib/python3.8/site-packages/sklearn/discriminant_analysis.py:935: UserWarning: Variables are collinear\n",
      "  warnings.warn(\"Variables are collinear\")\n"
     ]
    },
    {
     "name": "stdout",
     "output_type": "stream",
     "text": [
      "cv\n",
      "individual models\n"
     ]
    },
    {
     "name": "stderr",
     "output_type": "stream",
     "text": [
      "/home/wanlab/nick/.local/lib/python3.8/site-packages/xgboost/core.py:158: UserWarning: [12:05:34] WARNING: /workspace/src/learner.cc:740: \n",
      "Parameters: { \"use_label_encoder\" } are not used.\n",
      "\n",
      "  warnings.warn(smsg, UserWarning)\n",
      "/home/wanlab/nick/.local/lib/python3.8/site-packages/sklearn/discriminant_analysis.py:935: UserWarning: Variables are collinear\n",
      "  warnings.warn(\"Variables are collinear\")\n"
     ]
    },
    {
     "name": "stdout",
     "output_type": "stream",
     "text": [
      "cv\n",
      "individual models\n"
     ]
    },
    {
     "name": "stderr",
     "output_type": "stream",
     "text": [
      "/home/wanlab/nick/.local/lib/python3.8/site-packages/xgboost/core.py:158: UserWarning: [12:05:46] WARNING: /workspace/src/learner.cc:740: \n",
      "Parameters: { \"use_label_encoder\" } are not used.\n",
      "\n",
      "  warnings.warn(smsg, UserWarning)\n",
      "/home/wanlab/nick/.local/lib/python3.8/site-packages/sklearn/discriminant_analysis.py:935: UserWarning: Variables are collinear\n",
      "  warnings.warn(\"Variables are collinear\")\n"
     ]
    },
    {
     "name": "stdout",
     "output_type": "stream",
     "text": [
      "cv\n",
      "individual models\n"
     ]
    },
    {
     "name": "stderr",
     "output_type": "stream",
     "text": [
      "/home/wanlab/nick/.local/lib/python3.8/site-packages/xgboost/core.py:158: UserWarning: [12:05:58] WARNING: /workspace/src/learner.cc:740: \n",
      "Parameters: { \"use_label_encoder\" } are not used.\n",
      "\n",
      "  warnings.warn(smsg, UserWarning)\n",
      "/home/wanlab/nick/.local/lib/python3.8/site-packages/sklearn/discriminant_analysis.py:935: UserWarning: Variables are collinear\n",
      "  warnings.warn(\"Variables are collinear\")\n"
     ]
    },
    {
     "name": "stdout",
     "output_type": "stream",
     "text": [
      "cv\n",
      "individual models\n"
     ]
    },
    {
     "name": "stderr",
     "output_type": "stream",
     "text": [
      "/home/wanlab/nick/.local/lib/python3.8/site-packages/xgboost/core.py:158: UserWarning: [12:06:10] WARNING: /workspace/src/learner.cc:740: \n",
      "Parameters: { \"use_label_encoder\" } are not used.\n",
      "\n",
      "  warnings.warn(smsg, UserWarning)\n",
      "/home/wanlab/nick/.local/lib/python3.8/site-packages/sklearn/discriminant_analysis.py:935: UserWarning: Variables are collinear\n",
      "  warnings.warn(\"Variables are collinear\")\n"
     ]
    },
    {
     "name": "stdout",
     "output_type": "stream",
     "text": [
      "cv\n",
      "individual models\n"
     ]
    },
    {
     "name": "stderr",
     "output_type": "stream",
     "text": [
      "/home/wanlab/nick/.local/lib/python3.8/site-packages/xgboost/core.py:158: UserWarning: [12:06:22] WARNING: /workspace/src/learner.cc:740: \n",
      "Parameters: { \"use_label_encoder\" } are not used.\n",
      "\n",
      "  warnings.warn(smsg, UserWarning)\n",
      "/home/wanlab/nick/.local/lib/python3.8/site-packages/sklearn/discriminant_analysis.py:935: UserWarning: Variables are collinear\n",
      "  warnings.warn(\"Variables are collinear\")\n"
     ]
    },
    {
     "name": "stdout",
     "output_type": "stream",
     "text": [
      "cv\n",
      "individual models\n"
     ]
    },
    {
     "name": "stderr",
     "output_type": "stream",
     "text": [
      "/home/wanlab/nick/.local/lib/python3.8/site-packages/xgboost/core.py:158: UserWarning: [12:06:33] WARNING: /workspace/src/learner.cc:740: \n",
      "Parameters: { \"use_label_encoder\" } are not used.\n",
      "\n",
      "  warnings.warn(smsg, UserWarning)\n",
      "/home/wanlab/nick/.local/lib/python3.8/site-packages/sklearn/discriminant_analysis.py:935: UserWarning: Variables are collinear\n",
      "  warnings.warn(\"Variables are collinear\")\n"
     ]
    },
    {
     "name": "stdout",
     "output_type": "stream",
     "text": [
      "cv\n",
      "individual models\n"
     ]
    },
    {
     "name": "stderr",
     "output_type": "stream",
     "text": [
      "/home/wanlab/nick/.local/lib/python3.8/site-packages/xgboost/core.py:158: UserWarning: [12:06:45] WARNING: /workspace/src/learner.cc:740: \n",
      "Parameters: { \"use_label_encoder\" } are not used.\n",
      "\n",
      "  warnings.warn(smsg, UserWarning)\n",
      "/home/wanlab/nick/.local/lib/python3.8/site-packages/sklearn/discriminant_analysis.py:935: UserWarning: Variables are collinear\n",
      "  warnings.warn(\"Variables are collinear\")\n"
     ]
    },
    {
     "name": "stdout",
     "output_type": "stream",
     "text": [
      "cv\n",
      "individual models\n"
     ]
    },
    {
     "name": "stderr",
     "output_type": "stream",
     "text": [
      "/home/wanlab/nick/.local/lib/python3.8/site-packages/xgboost/core.py:158: UserWarning: [12:06:57] WARNING: /workspace/src/learner.cc:740: \n",
      "Parameters: { \"use_label_encoder\" } are not used.\n",
      "\n",
      "  warnings.warn(smsg, UserWarning)\n",
      "/home/wanlab/nick/.local/lib/python3.8/site-packages/sklearn/discriminant_analysis.py:935: UserWarning: Variables are collinear\n",
      "  warnings.warn(\"Variables are collinear\")\n"
     ]
    },
    {
     "name": "stdout",
     "output_type": "stream",
     "text": [
      "cv\n",
      "individual models\n"
     ]
    },
    {
     "name": "stderr",
     "output_type": "stream",
     "text": [
      "/home/wanlab/nick/.local/lib/python3.8/site-packages/xgboost/core.py:158: UserWarning: [12:07:09] WARNING: /workspace/src/learner.cc:740: \n",
      "Parameters: { \"use_label_encoder\" } are not used.\n",
      "\n",
      "  warnings.warn(smsg, UserWarning)\n",
      "/home/wanlab/nick/.local/lib/python3.8/site-packages/sklearn/discriminant_analysis.py:935: UserWarning: Variables are collinear\n",
      "  warnings.warn(\"Variables are collinear\")\n"
     ]
    },
    {
     "name": "stdout",
     "output_type": "stream",
     "text": [
      "cv\n",
      "individual models\n"
     ]
    },
    {
     "name": "stderr",
     "output_type": "stream",
     "text": [
      "/home/wanlab/nick/.local/lib/python3.8/site-packages/xgboost/core.py:158: UserWarning: [12:07:21] WARNING: /workspace/src/learner.cc:740: \n",
      "Parameters: { \"use_label_encoder\" } are not used.\n",
      "\n",
      "  warnings.warn(smsg, UserWarning)\n",
      "/home/wanlab/nick/.local/lib/python3.8/site-packages/sklearn/discriminant_analysis.py:935: UserWarning: Variables are collinear\n",
      "  warnings.warn(\"Variables are collinear\")\n"
     ]
    },
    {
     "name": "stdout",
     "output_type": "stream",
     "text": [
      "cv\n",
      "individual models\n"
     ]
    },
    {
     "name": "stderr",
     "output_type": "stream",
     "text": [
      "/home/wanlab/nick/.local/lib/python3.8/site-packages/xgboost/core.py:158: UserWarning: [12:07:33] WARNING: /workspace/src/learner.cc:740: \n",
      "Parameters: { \"use_label_encoder\" } are not used.\n",
      "\n",
      "  warnings.warn(smsg, UserWarning)\n",
      "/home/wanlab/nick/.local/lib/python3.8/site-packages/sklearn/discriminant_analysis.py:935: UserWarning: Variables are collinear\n",
      "  warnings.warn(\"Variables are collinear\")\n"
     ]
    },
    {
     "name": "stdout",
     "output_type": "stream",
     "text": [
      "cv\n",
      "individual models\n"
     ]
    },
    {
     "name": "stderr",
     "output_type": "stream",
     "text": [
      "/home/wanlab/nick/.local/lib/python3.8/site-packages/xgboost/core.py:158: UserWarning: [12:07:45] WARNING: /workspace/src/learner.cc:740: \n",
      "Parameters: { \"use_label_encoder\" } are not used.\n",
      "\n",
      "  warnings.warn(smsg, UserWarning)\n",
      "/home/wanlab/nick/.local/lib/python3.8/site-packages/sklearn/discriminant_analysis.py:935: UserWarning: Variables are collinear\n",
      "  warnings.warn(\"Variables are collinear\")\n"
     ]
    },
    {
     "name": "stdout",
     "output_type": "stream",
     "text": [
      "cv\n",
      "individual models\n"
     ]
    },
    {
     "name": "stderr",
     "output_type": "stream",
     "text": [
      "/home/wanlab/nick/.local/lib/python3.8/site-packages/xgboost/core.py:158: UserWarning: [12:07:57] WARNING: /workspace/src/learner.cc:740: \n",
      "Parameters: { \"use_label_encoder\" } are not used.\n",
      "\n",
      "  warnings.warn(smsg, UserWarning)\n",
      "/home/wanlab/nick/.local/lib/python3.8/site-packages/sklearn/discriminant_analysis.py:935: UserWarning: Variables are collinear\n",
      "  warnings.warn(\"Variables are collinear\")\n"
     ]
    },
    {
     "name": "stdout",
     "output_type": "stream",
     "text": [
      "cv\n",
      "individual models\n"
     ]
    },
    {
     "name": "stderr",
     "output_type": "stream",
     "text": [
      "/home/wanlab/nick/.local/lib/python3.8/site-packages/xgboost/core.py:158: UserWarning: [12:08:09] WARNING: /workspace/src/learner.cc:740: \n",
      "Parameters: { \"use_label_encoder\" } are not used.\n",
      "\n",
      "  warnings.warn(smsg, UserWarning)\n",
      "/home/wanlab/nick/.local/lib/python3.8/site-packages/sklearn/discriminant_analysis.py:935: UserWarning: Variables are collinear\n",
      "  warnings.warn(\"Variables are collinear\")\n"
     ]
    },
    {
     "name": "stdout",
     "output_type": "stream",
     "text": [
      "cv\n",
      "individual models\n"
     ]
    },
    {
     "name": "stderr",
     "output_type": "stream",
     "text": [
      "/home/wanlab/nick/.local/lib/python3.8/site-packages/xgboost/core.py:158: UserWarning: [12:08:21] WARNING: /workspace/src/learner.cc:740: \n",
      "Parameters: { \"use_label_encoder\" } are not used.\n",
      "\n",
      "  warnings.warn(smsg, UserWarning)\n",
      "/home/wanlab/nick/.local/lib/python3.8/site-packages/sklearn/discriminant_analysis.py:935: UserWarning: Variables are collinear\n",
      "  warnings.warn(\"Variables are collinear\")\n"
     ]
    },
    {
     "name": "stdout",
     "output_type": "stream",
     "text": [
      "cv\n",
      "individual models\n"
     ]
    },
    {
     "name": "stderr",
     "output_type": "stream",
     "text": [
      "/home/wanlab/nick/.local/lib/python3.8/site-packages/xgboost/core.py:158: UserWarning: [12:08:33] WARNING: /workspace/src/learner.cc:740: \n",
      "Parameters: { \"use_label_encoder\" } are not used.\n",
      "\n",
      "  warnings.warn(smsg, UserWarning)\n",
      "/home/wanlab/nick/.local/lib/python3.8/site-packages/sklearn/discriminant_analysis.py:935: UserWarning: Variables are collinear\n",
      "  warnings.warn(\"Variables are collinear\")\n"
     ]
    },
    {
     "name": "stdout",
     "output_type": "stream",
     "text": [
      "cv\n",
      "individual models\n"
     ]
    },
    {
     "name": "stderr",
     "output_type": "stream",
     "text": [
      "/home/wanlab/nick/.local/lib/python3.8/site-packages/xgboost/core.py:158: UserWarning: [12:08:45] WARNING: /workspace/src/learner.cc:740: \n",
      "Parameters: { \"use_label_encoder\" } are not used.\n",
      "\n",
      "  warnings.warn(smsg, UserWarning)\n",
      "/home/wanlab/nick/.local/lib/python3.8/site-packages/sklearn/discriminant_analysis.py:935: UserWarning: Variables are collinear\n",
      "  warnings.warn(\"Variables are collinear\")\n"
     ]
    },
    {
     "name": "stdout",
     "output_type": "stream",
     "text": [
      "cv\n",
      "individual models\n"
     ]
    },
    {
     "name": "stderr",
     "output_type": "stream",
     "text": [
      "/home/wanlab/nick/.local/lib/python3.8/site-packages/xgboost/core.py:158: UserWarning: [12:08:57] WARNING: /workspace/src/learner.cc:740: \n",
      "Parameters: { \"use_label_encoder\" } are not used.\n",
      "\n",
      "  warnings.warn(smsg, UserWarning)\n",
      "/home/wanlab/nick/.local/lib/python3.8/site-packages/sklearn/discriminant_analysis.py:935: UserWarning: Variables are collinear\n",
      "  warnings.warn(\"Variables are collinear\")\n"
     ]
    },
    {
     "name": "stdout",
     "output_type": "stream",
     "text": [
      "cv\n",
      "individual models\n"
     ]
    },
    {
     "name": "stderr",
     "output_type": "stream",
     "text": [
      "/home/wanlab/nick/.local/lib/python3.8/site-packages/xgboost/core.py:158: UserWarning: [12:09:09] WARNING: /workspace/src/learner.cc:740: \n",
      "Parameters: { \"use_label_encoder\" } are not used.\n",
      "\n",
      "  warnings.warn(smsg, UserWarning)\n",
      "/home/wanlab/nick/.local/lib/python3.8/site-packages/sklearn/discriminant_analysis.py:935: UserWarning: Variables are collinear\n",
      "  warnings.warn(\"Variables are collinear\")\n"
     ]
    },
    {
     "name": "stdout",
     "output_type": "stream",
     "text": [
      "cv\n",
      "individual models\n"
     ]
    },
    {
     "name": "stderr",
     "output_type": "stream",
     "text": [
      "/home/wanlab/nick/.local/lib/python3.8/site-packages/xgboost/core.py:158: UserWarning: [12:09:21] WARNING: /workspace/src/learner.cc:740: \n",
      "Parameters: { \"use_label_encoder\" } are not used.\n",
      "\n",
      "  warnings.warn(smsg, UserWarning)\n",
      "/home/wanlab/nick/.local/lib/python3.8/site-packages/sklearn/discriminant_analysis.py:935: UserWarning: Variables are collinear\n",
      "  warnings.warn(\"Variables are collinear\")\n"
     ]
    },
    {
     "name": "stdout",
     "output_type": "stream",
     "text": [
      "cv\n",
      "individual models\n"
     ]
    },
    {
     "name": "stderr",
     "output_type": "stream",
     "text": [
      "/home/wanlab/nick/.local/lib/python3.8/site-packages/xgboost/core.py:158: UserWarning: [12:09:33] WARNING: /workspace/src/learner.cc:740: \n",
      "Parameters: { \"use_label_encoder\" } are not used.\n",
      "\n",
      "  warnings.warn(smsg, UserWarning)\n",
      "/home/wanlab/nick/.local/lib/python3.8/site-packages/sklearn/discriminant_analysis.py:935: UserWarning: Variables are collinear\n",
      "  warnings.warn(\"Variables are collinear\")\n"
     ]
    },
    {
     "name": "stdout",
     "output_type": "stream",
     "text": [
      "cv\n",
      "individual models\n"
     ]
    },
    {
     "name": "stderr",
     "output_type": "stream",
     "text": [
      "/home/wanlab/nick/.local/lib/python3.8/site-packages/xgboost/core.py:158: UserWarning: [12:09:45] WARNING: /workspace/src/learner.cc:740: \n",
      "Parameters: { \"use_label_encoder\" } are not used.\n",
      "\n",
      "  warnings.warn(smsg, UserWarning)\n",
      "/home/wanlab/nick/.local/lib/python3.8/site-packages/sklearn/discriminant_analysis.py:935: UserWarning: Variables are collinear\n",
      "  warnings.warn(\"Variables are collinear\")\n"
     ]
    },
    {
     "name": "stdout",
     "output_type": "stream",
     "text": [
      "cv\n",
      "individual models\n"
     ]
    },
    {
     "name": "stderr",
     "output_type": "stream",
     "text": [
      "/home/wanlab/nick/.local/lib/python3.8/site-packages/xgboost/core.py:158: UserWarning: [12:09:57] WARNING: /workspace/src/learner.cc:740: \n",
      "Parameters: { \"use_label_encoder\" } are not used.\n",
      "\n",
      "  warnings.warn(smsg, UserWarning)\n",
      "/home/wanlab/nick/.local/lib/python3.8/site-packages/sklearn/discriminant_analysis.py:935: UserWarning: Variables are collinear\n",
      "  warnings.warn(\"Variables are collinear\")\n"
     ]
    },
    {
     "name": "stdout",
     "output_type": "stream",
     "text": [
      "cv\n",
      "individual models\n"
     ]
    },
    {
     "name": "stderr",
     "output_type": "stream",
     "text": [
      "/home/wanlab/nick/.local/lib/python3.8/site-packages/xgboost/core.py:158: UserWarning: [12:10:09] WARNING: /workspace/src/learner.cc:740: \n",
      "Parameters: { \"use_label_encoder\" } are not used.\n",
      "\n",
      "  warnings.warn(smsg, UserWarning)\n",
      "/home/wanlab/nick/.local/lib/python3.8/site-packages/sklearn/discriminant_analysis.py:935: UserWarning: Variables are collinear\n",
      "  warnings.warn(\"Variables are collinear\")\n"
     ]
    },
    {
     "name": "stdout",
     "output_type": "stream",
     "text": [
      "cv\n",
      "individual models\n"
     ]
    },
    {
     "name": "stderr",
     "output_type": "stream",
     "text": [
      "/home/wanlab/nick/.local/lib/python3.8/site-packages/xgboost/core.py:158: UserWarning: [12:10:21] WARNING: /workspace/src/learner.cc:740: \n",
      "Parameters: { \"use_label_encoder\" } are not used.\n",
      "\n",
      "  warnings.warn(smsg, UserWarning)\n",
      "/home/wanlab/nick/.local/lib/python3.8/site-packages/sklearn/discriminant_analysis.py:935: UserWarning: Variables are collinear\n",
      "  warnings.warn(\"Variables are collinear\")\n"
     ]
    },
    {
     "name": "stdout",
     "output_type": "stream",
     "text": [
      "cv\n",
      "individual models\n"
     ]
    },
    {
     "name": "stderr",
     "output_type": "stream",
     "text": [
      "/home/wanlab/nick/.local/lib/python3.8/site-packages/xgboost/core.py:158: UserWarning: [12:10:34] WARNING: /workspace/src/learner.cc:740: \n",
      "Parameters: { \"use_label_encoder\" } are not used.\n",
      "\n",
      "  warnings.warn(smsg, UserWarning)\n",
      "/home/wanlab/nick/.local/lib/python3.8/site-packages/sklearn/discriminant_analysis.py:935: UserWarning: Variables are collinear\n",
      "  warnings.warn(\"Variables are collinear\")\n"
     ]
    },
    {
     "name": "stdout",
     "output_type": "stream",
     "text": [
      "cv\n",
      "individual models\n"
     ]
    },
    {
     "name": "stderr",
     "output_type": "stream",
     "text": [
      "/home/wanlab/nick/.local/lib/python3.8/site-packages/xgboost/core.py:158: UserWarning: [12:10:47] WARNING: /workspace/src/learner.cc:740: \n",
      "Parameters: { \"use_label_encoder\" } are not used.\n",
      "\n",
      "  warnings.warn(smsg, UserWarning)\n",
      "/home/wanlab/nick/.local/lib/python3.8/site-packages/sklearn/discriminant_analysis.py:935: UserWarning: Variables are collinear\n",
      "  warnings.warn(\"Variables are collinear\")\n"
     ]
    },
    {
     "name": "stdout",
     "output_type": "stream",
     "text": [
      "cv\n",
      "individual models\n"
     ]
    },
    {
     "name": "stderr",
     "output_type": "stream",
     "text": [
      "/home/wanlab/nick/.local/lib/python3.8/site-packages/xgboost/core.py:158: UserWarning: [12:10:59] WARNING: /workspace/src/learner.cc:740: \n",
      "Parameters: { \"use_label_encoder\" } are not used.\n",
      "\n",
      "  warnings.warn(smsg, UserWarning)\n",
      "/home/wanlab/nick/.local/lib/python3.8/site-packages/sklearn/discriminant_analysis.py:935: UserWarning: Variables are collinear\n",
      "  warnings.warn(\"Variables are collinear\")\n"
     ]
    },
    {
     "name": "stdout",
     "output_type": "stream",
     "text": [
      "cv\n",
      "individual models\n"
     ]
    },
    {
     "name": "stderr",
     "output_type": "stream",
     "text": [
      "/home/wanlab/nick/.local/lib/python3.8/site-packages/xgboost/core.py:158: UserWarning: [12:11:11] WARNING: /workspace/src/learner.cc:740: \n",
      "Parameters: { \"use_label_encoder\" } are not used.\n",
      "\n",
      "  warnings.warn(smsg, UserWarning)\n",
      "/home/wanlab/nick/.local/lib/python3.8/site-packages/sklearn/discriminant_analysis.py:935: UserWarning: Variables are collinear\n",
      "  warnings.warn(\"Variables are collinear\")\n"
     ]
    },
    {
     "name": "stdout",
     "output_type": "stream",
     "text": [
      "cv\n",
      "individual models\n"
     ]
    },
    {
     "name": "stderr",
     "output_type": "stream",
     "text": [
      "/home/wanlab/nick/.local/lib/python3.8/site-packages/xgboost/core.py:158: UserWarning: [12:11:26] WARNING: /workspace/src/learner.cc:740: \n",
      "Parameters: { \"use_label_encoder\" } are not used.\n",
      "\n",
      "  warnings.warn(smsg, UserWarning)\n",
      "/home/wanlab/nick/.local/lib/python3.8/site-packages/sklearn/discriminant_analysis.py:935: UserWarning: Variables are collinear\n",
      "  warnings.warn(\"Variables are collinear\")\n"
     ]
    },
    {
     "name": "stdout",
     "output_type": "stream",
     "text": [
      "cv\n",
      "individual models\n"
     ]
    },
    {
     "name": "stderr",
     "output_type": "stream",
     "text": [
      "/home/wanlab/nick/.local/lib/python3.8/site-packages/xgboost/core.py:158: UserWarning: [12:11:43] WARNING: /workspace/src/learner.cc:740: \n",
      "Parameters: { \"use_label_encoder\" } are not used.\n",
      "\n",
      "  warnings.warn(smsg, UserWarning)\n",
      "/home/wanlab/nick/.local/lib/python3.8/site-packages/sklearn/discriminant_analysis.py:935: UserWarning: Variables are collinear\n",
      "  warnings.warn(\"Variables are collinear\")\n"
     ]
    },
    {
     "name": "stdout",
     "output_type": "stream",
     "text": [
      "cv\n",
      "individual models\n"
     ]
    },
    {
     "name": "stderr",
     "output_type": "stream",
     "text": [
      "/home/wanlab/nick/.local/lib/python3.8/site-packages/xgboost/core.py:158: UserWarning: [12:11:55] WARNING: /workspace/src/learner.cc:740: \n",
      "Parameters: { \"use_label_encoder\" } are not used.\n",
      "\n",
      "  warnings.warn(smsg, UserWarning)\n",
      "/home/wanlab/nick/.local/lib/python3.8/site-packages/sklearn/discriminant_analysis.py:935: UserWarning: Variables are collinear\n",
      "  warnings.warn(\"Variables are collinear\")\n"
     ]
    },
    {
     "name": "stdout",
     "output_type": "stream",
     "text": [
      "cv\n",
      "individual models\n"
     ]
    },
    {
     "name": "stderr",
     "output_type": "stream",
     "text": [
      "/home/wanlab/nick/.local/lib/python3.8/site-packages/xgboost/core.py:158: UserWarning: [12:12:07] WARNING: /workspace/src/learner.cc:740: \n",
      "Parameters: { \"use_label_encoder\" } are not used.\n",
      "\n",
      "  warnings.warn(smsg, UserWarning)\n",
      "/home/wanlab/nick/.local/lib/python3.8/site-packages/sklearn/discriminant_analysis.py:935: UserWarning: Variables are collinear\n",
      "  warnings.warn(\"Variables are collinear\")\n"
     ]
    },
    {
     "name": "stdout",
     "output_type": "stream",
     "text": [
      "cv\n",
      "individual models\n"
     ]
    },
    {
     "name": "stderr",
     "output_type": "stream",
     "text": [
      "/home/wanlab/nick/.local/lib/python3.8/site-packages/xgboost/core.py:158: UserWarning: [12:12:19] WARNING: /workspace/src/learner.cc:740: \n",
      "Parameters: { \"use_label_encoder\" } are not used.\n",
      "\n",
      "  warnings.warn(smsg, UserWarning)\n",
      "/home/wanlab/nick/.local/lib/python3.8/site-packages/sklearn/discriminant_analysis.py:935: UserWarning: Variables are collinear\n",
      "  warnings.warn(\"Variables are collinear\")\n"
     ]
    },
    {
     "name": "stdout",
     "output_type": "stream",
     "text": [
      "cv\n",
      "individual models\n"
     ]
    },
    {
     "name": "stderr",
     "output_type": "stream",
     "text": [
      "/home/wanlab/nick/.local/lib/python3.8/site-packages/xgboost/core.py:158: UserWarning: [12:12:31] WARNING: /workspace/src/learner.cc:740: \n",
      "Parameters: { \"use_label_encoder\" } are not used.\n",
      "\n",
      "  warnings.warn(smsg, UserWarning)\n",
      "/home/wanlab/nick/.local/lib/python3.8/site-packages/sklearn/discriminant_analysis.py:935: UserWarning: Variables are collinear\n",
      "  warnings.warn(\"Variables are collinear\")\n"
     ]
    },
    {
     "name": "stdout",
     "output_type": "stream",
     "text": [
      "cv\n",
      "individual models\n"
     ]
    },
    {
     "name": "stderr",
     "output_type": "stream",
     "text": [
      "/home/wanlab/nick/.local/lib/python3.8/site-packages/xgboost/core.py:158: UserWarning: [12:12:43] WARNING: /workspace/src/learner.cc:740: \n",
      "Parameters: { \"use_label_encoder\" } are not used.\n",
      "\n",
      "  warnings.warn(smsg, UserWarning)\n",
      "/home/wanlab/nick/.local/lib/python3.8/site-packages/sklearn/discriminant_analysis.py:935: UserWarning: Variables are collinear\n",
      "  warnings.warn(\"Variables are collinear\")\n"
     ]
    },
    {
     "name": "stdout",
     "output_type": "stream",
     "text": [
      "cv\n",
      "individual models\n"
     ]
    },
    {
     "name": "stderr",
     "output_type": "stream",
     "text": [
      "/home/wanlab/nick/.local/lib/python3.8/site-packages/xgboost/core.py:158: UserWarning: [12:12:55] WARNING: /workspace/src/learner.cc:740: \n",
      "Parameters: { \"use_label_encoder\" } are not used.\n",
      "\n",
      "  warnings.warn(smsg, UserWarning)\n",
      "/home/wanlab/nick/.local/lib/python3.8/site-packages/sklearn/discriminant_analysis.py:935: UserWarning: Variables are collinear\n",
      "  warnings.warn(\"Variables are collinear\")\n"
     ]
    },
    {
     "name": "stdout",
     "output_type": "stream",
     "text": [
      "cv\n",
      "individual models\n"
     ]
    },
    {
     "name": "stderr",
     "output_type": "stream",
     "text": [
      "/home/wanlab/nick/.local/lib/python3.8/site-packages/xgboost/core.py:158: UserWarning: [12:13:07] WARNING: /workspace/src/learner.cc:740: \n",
      "Parameters: { \"use_label_encoder\" } are not used.\n",
      "\n",
      "  warnings.warn(smsg, UserWarning)\n",
      "/home/wanlab/nick/.local/lib/python3.8/site-packages/sklearn/discriminant_analysis.py:935: UserWarning: Variables are collinear\n",
      "  warnings.warn(\"Variables are collinear\")\n"
     ]
    },
    {
     "name": "stdout",
     "output_type": "stream",
     "text": [
      "cv\n",
      "individual models\n"
     ]
    },
    {
     "name": "stderr",
     "output_type": "stream",
     "text": [
      "/home/wanlab/nick/.local/lib/python3.8/site-packages/xgboost/core.py:158: UserWarning: [12:13:19] WARNING: /workspace/src/learner.cc:740: \n",
      "Parameters: { \"use_label_encoder\" } are not used.\n",
      "\n",
      "  warnings.warn(smsg, UserWarning)\n",
      "/home/wanlab/nick/.local/lib/python3.8/site-packages/sklearn/discriminant_analysis.py:935: UserWarning: Variables are collinear\n",
      "  warnings.warn(\"Variables are collinear\")\n"
     ]
    },
    {
     "name": "stdout",
     "output_type": "stream",
     "text": [
      "cv\n",
      "individual models\n"
     ]
    },
    {
     "name": "stderr",
     "output_type": "stream",
     "text": [
      "/home/wanlab/nick/.local/lib/python3.8/site-packages/xgboost/core.py:158: UserWarning: [12:13:31] WARNING: /workspace/src/learner.cc:740: \n",
      "Parameters: { \"use_label_encoder\" } are not used.\n",
      "\n",
      "  warnings.warn(smsg, UserWarning)\n",
      "/home/wanlab/nick/.local/lib/python3.8/site-packages/sklearn/discriminant_analysis.py:935: UserWarning: Variables are collinear\n",
      "  warnings.warn(\"Variables are collinear\")\n"
     ]
    },
    {
     "name": "stdout",
     "output_type": "stream",
     "text": [
      "cv\n",
      "individual models\n"
     ]
    },
    {
     "name": "stderr",
     "output_type": "stream",
     "text": [
      "/home/wanlab/nick/.local/lib/python3.8/site-packages/xgboost/core.py:158: UserWarning: [12:13:43] WARNING: /workspace/src/learner.cc:740: \n",
      "Parameters: { \"use_label_encoder\" } are not used.\n",
      "\n",
      "  warnings.warn(smsg, UserWarning)\n",
      "/home/wanlab/nick/.local/lib/python3.8/site-packages/sklearn/discriminant_analysis.py:935: UserWarning: Variables are collinear\n",
      "  warnings.warn(\"Variables are collinear\")\n"
     ]
    },
    {
     "name": "stdout",
     "output_type": "stream",
     "text": [
      "cv\n",
      "individual models\n"
     ]
    },
    {
     "name": "stderr",
     "output_type": "stream",
     "text": [
      "/home/wanlab/nick/.local/lib/python3.8/site-packages/xgboost/core.py:158: UserWarning: [12:13:55] WARNING: /workspace/src/learner.cc:740: \n",
      "Parameters: { \"use_label_encoder\" } are not used.\n",
      "\n",
      "  warnings.warn(smsg, UserWarning)\n",
      "/home/wanlab/nick/.local/lib/python3.8/site-packages/sklearn/discriminant_analysis.py:935: UserWarning: Variables are collinear\n",
      "  warnings.warn(\"Variables are collinear\")\n"
     ]
    },
    {
     "name": "stdout",
     "output_type": "stream",
     "text": [
      "cv\n",
      "individual models\n"
     ]
    },
    {
     "name": "stderr",
     "output_type": "stream",
     "text": [
      "/home/wanlab/nick/.local/lib/python3.8/site-packages/xgboost/core.py:158: UserWarning: [12:14:07] WARNING: /workspace/src/learner.cc:740: \n",
      "Parameters: { \"use_label_encoder\" } are not used.\n",
      "\n",
      "  warnings.warn(smsg, UserWarning)\n",
      "/home/wanlab/nick/.local/lib/python3.8/site-packages/sklearn/discriminant_analysis.py:935: UserWarning: Variables are collinear\n",
      "  warnings.warn(\"Variables are collinear\")\n"
     ]
    },
    {
     "name": "stdout",
     "output_type": "stream",
     "text": [
      "cv\n",
      "individual models\n"
     ]
    },
    {
     "name": "stderr",
     "output_type": "stream",
     "text": [
      "/home/wanlab/nick/.local/lib/python3.8/site-packages/xgboost/core.py:158: UserWarning: [12:14:19] WARNING: /workspace/src/learner.cc:740: \n",
      "Parameters: { \"use_label_encoder\" } are not used.\n",
      "\n",
      "  warnings.warn(smsg, UserWarning)\n",
      "/home/wanlab/nick/.local/lib/python3.8/site-packages/sklearn/discriminant_analysis.py:935: UserWarning: Variables are collinear\n",
      "  warnings.warn(\"Variables are collinear\")\n"
     ]
    },
    {
     "name": "stdout",
     "output_type": "stream",
     "text": [
      "cv\n",
      "individual models\n"
     ]
    },
    {
     "name": "stderr",
     "output_type": "stream",
     "text": [
      "/home/wanlab/nick/.local/lib/python3.8/site-packages/xgboost/core.py:158: UserWarning: [12:14:30] WARNING: /workspace/src/learner.cc:740: \n",
      "Parameters: { \"use_label_encoder\" } are not used.\n",
      "\n",
      "  warnings.warn(smsg, UserWarning)\n",
      "/home/wanlab/nick/.local/lib/python3.8/site-packages/sklearn/discriminant_analysis.py:935: UserWarning: Variables are collinear\n",
      "  warnings.warn(\"Variables are collinear\")\n"
     ]
    },
    {
     "name": "stdout",
     "output_type": "stream",
     "text": [
      "cv\n",
      "individual models\n"
     ]
    },
    {
     "name": "stderr",
     "output_type": "stream",
     "text": [
      "/home/wanlab/nick/.local/lib/python3.8/site-packages/xgboost/core.py:158: UserWarning: [12:14:42] WARNING: /workspace/src/learner.cc:740: \n",
      "Parameters: { \"use_label_encoder\" } are not used.\n",
      "\n",
      "  warnings.warn(smsg, UserWarning)\n",
      "/home/wanlab/nick/.local/lib/python3.8/site-packages/sklearn/discriminant_analysis.py:935: UserWarning: Variables are collinear\n",
      "  warnings.warn(\"Variables are collinear\")\n"
     ]
    },
    {
     "name": "stdout",
     "output_type": "stream",
     "text": [
      "cv\n",
      "individual models\n"
     ]
    },
    {
     "name": "stderr",
     "output_type": "stream",
     "text": [
      "/home/wanlab/nick/.local/lib/python3.8/site-packages/xgboost/core.py:158: UserWarning: [12:14:54] WARNING: /workspace/src/learner.cc:740: \n",
      "Parameters: { \"use_label_encoder\" } are not used.\n",
      "\n",
      "  warnings.warn(smsg, UserWarning)\n",
      "/home/wanlab/nick/.local/lib/python3.8/site-packages/sklearn/discriminant_analysis.py:935: UserWarning: Variables are collinear\n",
      "  warnings.warn(\"Variables are collinear\")\n"
     ]
    },
    {
     "name": "stdout",
     "output_type": "stream",
     "text": [
      "cv\n",
      "individual models\n"
     ]
    },
    {
     "name": "stderr",
     "output_type": "stream",
     "text": [
      "/home/wanlab/nick/.local/lib/python3.8/site-packages/xgboost/core.py:158: UserWarning: [12:15:06] WARNING: /workspace/src/learner.cc:740: \n",
      "Parameters: { \"use_label_encoder\" } are not used.\n",
      "\n",
      "  warnings.warn(smsg, UserWarning)\n",
      "/home/wanlab/nick/.local/lib/python3.8/site-packages/sklearn/discriminant_analysis.py:935: UserWarning: Variables are collinear\n",
      "  warnings.warn(\"Variables are collinear\")\n"
     ]
    },
    {
     "name": "stdout",
     "output_type": "stream",
     "text": [
      "cv\n",
      "individual models\n"
     ]
    },
    {
     "name": "stderr",
     "output_type": "stream",
     "text": [
      "/home/wanlab/nick/.local/lib/python3.8/site-packages/xgboost/core.py:158: UserWarning: [12:15:18] WARNING: /workspace/src/learner.cc:740: \n",
      "Parameters: { \"use_label_encoder\" } are not used.\n",
      "\n",
      "  warnings.warn(smsg, UserWarning)\n",
      "/home/wanlab/nick/.local/lib/python3.8/site-packages/sklearn/discriminant_analysis.py:935: UserWarning: Variables are collinear\n",
      "  warnings.warn(\"Variables are collinear\")\n"
     ]
    },
    {
     "name": "stdout",
     "output_type": "stream",
     "text": [
      "cv\n",
      "individual models\n"
     ]
    },
    {
     "name": "stderr",
     "output_type": "stream",
     "text": [
      "/home/wanlab/nick/.local/lib/python3.8/site-packages/xgboost/core.py:158: UserWarning: [12:15:30] WARNING: /workspace/src/learner.cc:740: \n",
      "Parameters: { \"use_label_encoder\" } are not used.\n",
      "\n",
      "  warnings.warn(smsg, UserWarning)\n",
      "/home/wanlab/nick/.local/lib/python3.8/site-packages/sklearn/discriminant_analysis.py:935: UserWarning: Variables are collinear\n",
      "  warnings.warn(\"Variables are collinear\")\n"
     ]
    },
    {
     "name": "stdout",
     "output_type": "stream",
     "text": [
      "cv\n",
      "individual models\n"
     ]
    },
    {
     "name": "stderr",
     "output_type": "stream",
     "text": [
      "/home/wanlab/nick/.local/lib/python3.8/site-packages/xgboost/core.py:158: UserWarning: [12:15:42] WARNING: /workspace/src/learner.cc:740: \n",
      "Parameters: { \"use_label_encoder\" } are not used.\n",
      "\n",
      "  warnings.warn(smsg, UserWarning)\n",
      "/home/wanlab/nick/.local/lib/python3.8/site-packages/sklearn/discriminant_analysis.py:935: UserWarning: Variables are collinear\n",
      "  warnings.warn(\"Variables are collinear\")\n"
     ]
    },
    {
     "name": "stdout",
     "output_type": "stream",
     "text": [
      "cv\n",
      "individual models\n"
     ]
    },
    {
     "name": "stderr",
     "output_type": "stream",
     "text": [
      "/home/wanlab/nick/.local/lib/python3.8/site-packages/xgboost/core.py:158: UserWarning: [12:15:55] WARNING: /workspace/src/learner.cc:740: \n",
      "Parameters: { \"use_label_encoder\" } are not used.\n",
      "\n",
      "  warnings.warn(smsg, UserWarning)\n",
      "/home/wanlab/nick/.local/lib/python3.8/site-packages/sklearn/discriminant_analysis.py:935: UserWarning: Variables are collinear\n",
      "  warnings.warn(\"Variables are collinear\")\n"
     ]
    },
    {
     "name": "stdout",
     "output_type": "stream",
     "text": [
      "cv\n",
      "individual models\n"
     ]
    },
    {
     "name": "stderr",
     "output_type": "stream",
     "text": [
      "/home/wanlab/nick/.local/lib/python3.8/site-packages/xgboost/core.py:158: UserWarning: [12:16:06] WARNING: /workspace/src/learner.cc:740: \n",
      "Parameters: { \"use_label_encoder\" } are not used.\n",
      "\n",
      "  warnings.warn(smsg, UserWarning)\n",
      "/home/wanlab/nick/.local/lib/python3.8/site-packages/sklearn/discriminant_analysis.py:935: UserWarning: Variables are collinear\n",
      "  warnings.warn(\"Variables are collinear\")\n"
     ]
    },
    {
     "name": "stdout",
     "output_type": "stream",
     "text": [
      "cv\n",
      "individual models\n"
     ]
    },
    {
     "name": "stderr",
     "output_type": "stream",
     "text": [
      "/home/wanlab/nick/.local/lib/python3.8/site-packages/xgboost/core.py:158: UserWarning: [12:16:18] WARNING: /workspace/src/learner.cc:740: \n",
      "Parameters: { \"use_label_encoder\" } are not used.\n",
      "\n",
      "  warnings.warn(smsg, UserWarning)\n",
      "/home/wanlab/nick/.local/lib/python3.8/site-packages/sklearn/discriminant_analysis.py:935: UserWarning: Variables are collinear\n",
      "  warnings.warn(\"Variables are collinear\")\n"
     ]
    },
    {
     "name": "stdout",
     "output_type": "stream",
     "text": [
      "cv\n",
      "individual models\n"
     ]
    },
    {
     "name": "stderr",
     "output_type": "stream",
     "text": [
      "/home/wanlab/nick/.local/lib/python3.8/site-packages/xgboost/core.py:158: UserWarning: [12:16:30] WARNING: /workspace/src/learner.cc:740: \n",
      "Parameters: { \"use_label_encoder\" } are not used.\n",
      "\n",
      "  warnings.warn(smsg, UserWarning)\n",
      "/home/wanlab/nick/.local/lib/python3.8/site-packages/sklearn/discriminant_analysis.py:935: UserWarning: Variables are collinear\n",
      "  warnings.warn(\"Variables are collinear\")\n"
     ]
    },
    {
     "name": "stdout",
     "output_type": "stream",
     "text": [
      "cv\n",
      "individual models\n"
     ]
    },
    {
     "name": "stderr",
     "output_type": "stream",
     "text": [
      "/home/wanlab/nick/.local/lib/python3.8/site-packages/xgboost/core.py:158: UserWarning: [12:16:42] WARNING: /workspace/src/learner.cc:740: \n",
      "Parameters: { \"use_label_encoder\" } are not used.\n",
      "\n",
      "  warnings.warn(smsg, UserWarning)\n",
      "/home/wanlab/nick/.local/lib/python3.8/site-packages/sklearn/discriminant_analysis.py:935: UserWarning: Variables are collinear\n",
      "  warnings.warn(\"Variables are collinear\")\n"
     ]
    },
    {
     "name": "stdout",
     "output_type": "stream",
     "text": [
      "cv\n",
      "individual models\n"
     ]
    },
    {
     "name": "stderr",
     "output_type": "stream",
     "text": [
      "/home/wanlab/nick/.local/lib/python3.8/site-packages/xgboost/core.py:158: UserWarning: [12:16:54] WARNING: /workspace/src/learner.cc:740: \n",
      "Parameters: { \"use_label_encoder\" } are not used.\n",
      "\n",
      "  warnings.warn(smsg, UserWarning)\n",
      "/home/wanlab/nick/.local/lib/python3.8/site-packages/sklearn/discriminant_analysis.py:935: UserWarning: Variables are collinear\n",
      "  warnings.warn(\"Variables are collinear\")\n"
     ]
    },
    {
     "name": "stdout",
     "output_type": "stream",
     "text": [
      "cv\n",
      "individual models\n"
     ]
    },
    {
     "name": "stderr",
     "output_type": "stream",
     "text": [
      "/home/wanlab/nick/.local/lib/python3.8/site-packages/xgboost/core.py:158: UserWarning: [12:17:05] WARNING: /workspace/src/learner.cc:740: \n",
      "Parameters: { \"use_label_encoder\" } are not used.\n",
      "\n",
      "  warnings.warn(smsg, UserWarning)\n",
      "/home/wanlab/nick/.local/lib/python3.8/site-packages/sklearn/discriminant_analysis.py:935: UserWarning: Variables are collinear\n",
      "  warnings.warn(\"Variables are collinear\")\n"
     ]
    },
    {
     "name": "stdout",
     "output_type": "stream",
     "text": [
      "cv\n",
      "individual models\n"
     ]
    },
    {
     "name": "stderr",
     "output_type": "stream",
     "text": [
      "/home/wanlab/nick/.local/lib/python3.8/site-packages/xgboost/core.py:158: UserWarning: [12:17:17] WARNING: /workspace/src/learner.cc:740: \n",
      "Parameters: { \"use_label_encoder\" } are not used.\n",
      "\n",
      "  warnings.warn(smsg, UserWarning)\n",
      "/home/wanlab/nick/.local/lib/python3.8/site-packages/sklearn/discriminant_analysis.py:935: UserWarning: Variables are collinear\n",
      "  warnings.warn(\"Variables are collinear\")\n"
     ]
    },
    {
     "name": "stdout",
     "output_type": "stream",
     "text": [
      "cv\n",
      "individual models\n"
     ]
    },
    {
     "name": "stderr",
     "output_type": "stream",
     "text": [
      "/home/wanlab/nick/.local/lib/python3.8/site-packages/xgboost/core.py:158: UserWarning: [12:17:29] WARNING: /workspace/src/learner.cc:740: \n",
      "Parameters: { \"use_label_encoder\" } are not used.\n",
      "\n",
      "  warnings.warn(smsg, UserWarning)\n",
      "/home/wanlab/nick/.local/lib/python3.8/site-packages/sklearn/discriminant_analysis.py:935: UserWarning: Variables are collinear\n",
      "  warnings.warn(\"Variables are collinear\")\n"
     ]
    },
    {
     "name": "stdout",
     "output_type": "stream",
     "text": [
      "cv\n",
      "individual models\n"
     ]
    },
    {
     "name": "stderr",
     "output_type": "stream",
     "text": [
      "/home/wanlab/nick/.local/lib/python3.8/site-packages/xgboost/core.py:158: UserWarning: [12:17:41] WARNING: /workspace/src/learner.cc:740: \n",
      "Parameters: { \"use_label_encoder\" } are not used.\n",
      "\n",
      "  warnings.warn(smsg, UserWarning)\n",
      "/home/wanlab/nick/.local/lib/python3.8/site-packages/sklearn/discriminant_analysis.py:935: UserWarning: Variables are collinear\n",
      "  warnings.warn(\"Variables are collinear\")\n"
     ]
    },
    {
     "name": "stdout",
     "output_type": "stream",
     "text": [
      "cv\n",
      "individual models\n"
     ]
    },
    {
     "name": "stderr",
     "output_type": "stream",
     "text": [
      "/home/wanlab/nick/.local/lib/python3.8/site-packages/xgboost/core.py:158: UserWarning: [12:17:52] WARNING: /workspace/src/learner.cc:740: \n",
      "Parameters: { \"use_label_encoder\" } are not used.\n",
      "\n",
      "  warnings.warn(smsg, UserWarning)\n",
      "/home/wanlab/nick/.local/lib/python3.8/site-packages/sklearn/discriminant_analysis.py:935: UserWarning: Variables are collinear\n",
      "  warnings.warn(\"Variables are collinear\")\n"
     ]
    },
    {
     "name": "stdout",
     "output_type": "stream",
     "text": [
      "cv\n",
      "individual models\n"
     ]
    },
    {
     "name": "stderr",
     "output_type": "stream",
     "text": [
      "/home/wanlab/nick/.local/lib/python3.8/site-packages/xgboost/core.py:158: UserWarning: [12:18:04] WARNING: /workspace/src/learner.cc:740: \n",
      "Parameters: { \"use_label_encoder\" } are not used.\n",
      "\n",
      "  warnings.warn(smsg, UserWarning)\n",
      "/home/wanlab/nick/.local/lib/python3.8/site-packages/sklearn/discriminant_analysis.py:935: UserWarning: Variables are collinear\n",
      "  warnings.warn(\"Variables are collinear\")\n"
     ]
    },
    {
     "name": "stdout",
     "output_type": "stream",
     "text": [
      "cv\n",
      "individual models\n"
     ]
    },
    {
     "name": "stderr",
     "output_type": "stream",
     "text": [
      "/home/wanlab/nick/.local/lib/python3.8/site-packages/xgboost/core.py:158: UserWarning: [12:18:16] WARNING: /workspace/src/learner.cc:740: \n",
      "Parameters: { \"use_label_encoder\" } are not used.\n",
      "\n",
      "  warnings.warn(smsg, UserWarning)\n",
      "/home/wanlab/nick/.local/lib/python3.8/site-packages/sklearn/discriminant_analysis.py:935: UserWarning: Variables are collinear\n",
      "  warnings.warn(\"Variables are collinear\")\n"
     ]
    },
    {
     "name": "stdout",
     "output_type": "stream",
     "text": [
      "cv\n",
      "individual models\n"
     ]
    },
    {
     "name": "stderr",
     "output_type": "stream",
     "text": [
      "/home/wanlab/nick/.local/lib/python3.8/site-packages/xgboost/core.py:158: UserWarning: [12:18:28] WARNING: /workspace/src/learner.cc:740: \n",
      "Parameters: { \"use_label_encoder\" } are not used.\n",
      "\n",
      "  warnings.warn(smsg, UserWarning)\n",
      "/home/wanlab/nick/.local/lib/python3.8/site-packages/sklearn/discriminant_analysis.py:935: UserWarning: Variables are collinear\n",
      "  warnings.warn(\"Variables are collinear\")\n"
     ]
    },
    {
     "name": "stdout",
     "output_type": "stream",
     "text": [
      "cv\n",
      "individual models\n"
     ]
    },
    {
     "name": "stderr",
     "output_type": "stream",
     "text": [
      "/home/wanlab/nick/.local/lib/python3.8/site-packages/xgboost/core.py:158: UserWarning: [12:18:40] WARNING: /workspace/src/learner.cc:740: \n",
      "Parameters: { \"use_label_encoder\" } are not used.\n",
      "\n",
      "  warnings.warn(smsg, UserWarning)\n",
      "/home/wanlab/nick/.local/lib/python3.8/site-packages/sklearn/discriminant_analysis.py:935: UserWarning: Variables are collinear\n",
      "  warnings.warn(\"Variables are collinear\")\n"
     ]
    },
    {
     "name": "stdout",
     "output_type": "stream",
     "text": [
      "cv\n",
      "individual models\n"
     ]
    },
    {
     "name": "stderr",
     "output_type": "stream",
     "text": [
      "/home/wanlab/nick/.local/lib/python3.8/site-packages/xgboost/core.py:158: UserWarning: [12:18:51] WARNING: /workspace/src/learner.cc:740: \n",
      "Parameters: { \"use_label_encoder\" } are not used.\n",
      "\n",
      "  warnings.warn(smsg, UserWarning)\n",
      "/home/wanlab/nick/.local/lib/python3.8/site-packages/sklearn/discriminant_analysis.py:935: UserWarning: Variables are collinear\n",
      "  warnings.warn(\"Variables are collinear\")\n"
     ]
    },
    {
     "name": "stdout",
     "output_type": "stream",
     "text": [
      "cv\n",
      "individual models\n"
     ]
    },
    {
     "name": "stderr",
     "output_type": "stream",
     "text": [
      "/home/wanlab/nick/.local/lib/python3.8/site-packages/xgboost/core.py:158: UserWarning: [12:19:03] WARNING: /workspace/src/learner.cc:740: \n",
      "Parameters: { \"use_label_encoder\" } are not used.\n",
      "\n",
      "  warnings.warn(smsg, UserWarning)\n",
      "/home/wanlab/nick/.local/lib/python3.8/site-packages/sklearn/discriminant_analysis.py:935: UserWarning: Variables are collinear\n",
      "  warnings.warn(\"Variables are collinear\")\n"
     ]
    },
    {
     "name": "stdout",
     "output_type": "stream",
     "text": [
      "cv\n",
      "individual models\n"
     ]
    },
    {
     "name": "stderr",
     "output_type": "stream",
     "text": [
      "/home/wanlab/nick/.local/lib/python3.8/site-packages/xgboost/core.py:158: UserWarning: [12:19:15] WARNING: /workspace/src/learner.cc:740: \n",
      "Parameters: { \"use_label_encoder\" } are not used.\n",
      "\n",
      "  warnings.warn(smsg, UserWarning)\n",
      "/home/wanlab/nick/.local/lib/python3.8/site-packages/sklearn/discriminant_analysis.py:935: UserWarning: Variables are collinear\n",
      "  warnings.warn(\"Variables are collinear\")\n"
     ]
    },
    {
     "name": "stdout",
     "output_type": "stream",
     "text": [
      "cv\n",
      "individual models\n"
     ]
    },
    {
     "name": "stderr",
     "output_type": "stream",
     "text": [
      "/home/wanlab/nick/.local/lib/python3.8/site-packages/xgboost/core.py:158: UserWarning: [12:19:27] WARNING: /workspace/src/learner.cc:740: \n",
      "Parameters: { \"use_label_encoder\" } are not used.\n",
      "\n",
      "  warnings.warn(smsg, UserWarning)\n",
      "/home/wanlab/nick/.local/lib/python3.8/site-packages/sklearn/discriminant_analysis.py:935: UserWarning: Variables are collinear\n",
      "  warnings.warn(\"Variables are collinear\")\n"
     ]
    },
    {
     "name": "stdout",
     "output_type": "stream",
     "text": [
      "cv\n",
      "individual models\n"
     ]
    },
    {
     "name": "stderr",
     "output_type": "stream",
     "text": [
      "/home/wanlab/nick/.local/lib/python3.8/site-packages/xgboost/core.py:158: UserWarning: [12:19:40] WARNING: /workspace/src/learner.cc:740: \n",
      "Parameters: { \"use_label_encoder\" } are not used.\n",
      "\n",
      "  warnings.warn(smsg, UserWarning)\n",
      "/home/wanlab/nick/.local/lib/python3.8/site-packages/sklearn/discriminant_analysis.py:935: UserWarning: Variables are collinear\n",
      "  warnings.warn(\"Variables are collinear\")\n"
     ]
    },
    {
     "name": "stdout",
     "output_type": "stream",
     "text": [
      "cv\n",
      "individual models\n"
     ]
    },
    {
     "name": "stderr",
     "output_type": "stream",
     "text": [
      "/home/wanlab/nick/.local/lib/python3.8/site-packages/xgboost/core.py:158: UserWarning: [12:19:51] WARNING: /workspace/src/learner.cc:740: \n",
      "Parameters: { \"use_label_encoder\" } are not used.\n",
      "\n",
      "  warnings.warn(smsg, UserWarning)\n",
      "/home/wanlab/nick/.local/lib/python3.8/site-packages/sklearn/discriminant_analysis.py:935: UserWarning: Variables are collinear\n",
      "  warnings.warn(\"Variables are collinear\")\n"
     ]
    },
    {
     "name": "stdout",
     "output_type": "stream",
     "text": [
      "cv\n",
      "individual models\n"
     ]
    },
    {
     "name": "stderr",
     "output_type": "stream",
     "text": [
      "/home/wanlab/nick/.local/lib/python3.8/site-packages/xgboost/core.py:158: UserWarning: [12:20:03] WARNING: /workspace/src/learner.cc:740: \n",
      "Parameters: { \"use_label_encoder\" } are not used.\n",
      "\n",
      "  warnings.warn(smsg, UserWarning)\n",
      "/home/wanlab/nick/.local/lib/python3.8/site-packages/sklearn/discriminant_analysis.py:935: UserWarning: Variables are collinear\n",
      "  warnings.warn(\"Variables are collinear\")\n"
     ]
    },
    {
     "name": "stdout",
     "output_type": "stream",
     "text": [
      "cv\n",
      "individual models\n"
     ]
    },
    {
     "name": "stderr",
     "output_type": "stream",
     "text": [
      "/home/wanlab/nick/.local/lib/python3.8/site-packages/xgboost/core.py:158: UserWarning: [12:20:16] WARNING: /workspace/src/learner.cc:740: \n",
      "Parameters: { \"use_label_encoder\" } are not used.\n",
      "\n",
      "  warnings.warn(smsg, UserWarning)\n",
      "/home/wanlab/nick/.local/lib/python3.8/site-packages/sklearn/discriminant_analysis.py:935: UserWarning: Variables are collinear\n",
      "  warnings.warn(\"Variables are collinear\")\n"
     ]
    },
    {
     "name": "stdout",
     "output_type": "stream",
     "text": [
      "cv\n",
      "individual models\n"
     ]
    },
    {
     "name": "stderr",
     "output_type": "stream",
     "text": [
      "/home/wanlab/nick/.local/lib/python3.8/site-packages/xgboost/core.py:158: UserWarning: [12:20:28] WARNING: /workspace/src/learner.cc:740: \n",
      "Parameters: { \"use_label_encoder\" } are not used.\n",
      "\n",
      "  warnings.warn(smsg, UserWarning)\n",
      "/home/wanlab/nick/.local/lib/python3.8/site-packages/sklearn/discriminant_analysis.py:935: UserWarning: Variables are collinear\n",
      "  warnings.warn(\"Variables are collinear\")\n"
     ]
    },
    {
     "name": "stdout",
     "output_type": "stream",
     "text": [
      "cv\n",
      "individual models\n"
     ]
    },
    {
     "name": "stderr",
     "output_type": "stream",
     "text": [
      "/home/wanlab/nick/.local/lib/python3.8/site-packages/xgboost/core.py:158: UserWarning: [12:20:41] WARNING: /workspace/src/learner.cc:740: \n",
      "Parameters: { \"use_label_encoder\" } are not used.\n",
      "\n",
      "  warnings.warn(smsg, UserWarning)\n",
      "/home/wanlab/nick/.local/lib/python3.8/site-packages/sklearn/discriminant_analysis.py:935: UserWarning: Variables are collinear\n",
      "  warnings.warn(\"Variables are collinear\")\n"
     ]
    },
    {
     "name": "stdout",
     "output_type": "stream",
     "text": [
      "cv\n",
      "individual models\n"
     ]
    },
    {
     "name": "stderr",
     "output_type": "stream",
     "text": [
      "/home/wanlab/nick/.local/lib/python3.8/site-packages/xgboost/core.py:158: UserWarning: [12:20:53] WARNING: /workspace/src/learner.cc:740: \n",
      "Parameters: { \"use_label_encoder\" } are not used.\n",
      "\n",
      "  warnings.warn(smsg, UserWarning)\n",
      "/home/wanlab/nick/.local/lib/python3.8/site-packages/sklearn/discriminant_analysis.py:935: UserWarning: Variables are collinear\n",
      "  warnings.warn(\"Variables are collinear\")\n"
     ]
    },
    {
     "name": "stdout",
     "output_type": "stream",
     "text": [
      "cv\n",
      "individual models\n"
     ]
    },
    {
     "name": "stderr",
     "output_type": "stream",
     "text": [
      "/home/wanlab/nick/.local/lib/python3.8/site-packages/xgboost/core.py:158: UserWarning: [12:21:05] WARNING: /workspace/src/learner.cc:740: \n",
      "Parameters: { \"use_label_encoder\" } are not used.\n",
      "\n",
      "  warnings.warn(smsg, UserWarning)\n",
      "/home/wanlab/nick/.local/lib/python3.8/site-packages/sklearn/discriminant_analysis.py:935: UserWarning: Variables are collinear\n",
      "  warnings.warn(\"Variables are collinear\")\n"
     ]
    },
    {
     "name": "stdout",
     "output_type": "stream",
     "text": [
      "cv\n",
      "individual models\n"
     ]
    },
    {
     "name": "stderr",
     "output_type": "stream",
     "text": [
      "/home/wanlab/nick/.local/lib/python3.8/site-packages/xgboost/core.py:158: UserWarning: [12:21:17] WARNING: /workspace/src/learner.cc:740: \n",
      "Parameters: { \"use_label_encoder\" } are not used.\n",
      "\n",
      "  warnings.warn(smsg, UserWarning)\n",
      "/home/wanlab/nick/.local/lib/python3.8/site-packages/sklearn/discriminant_analysis.py:935: UserWarning: Variables are collinear\n",
      "  warnings.warn(\"Variables are collinear\")\n"
     ]
    },
    {
     "name": "stdout",
     "output_type": "stream",
     "text": [
      "cv\n",
      "individual models\n"
     ]
    },
    {
     "name": "stderr",
     "output_type": "stream",
     "text": [
      "/home/wanlab/nick/.local/lib/python3.8/site-packages/xgboost/core.py:158: UserWarning: [12:21:29] WARNING: /workspace/src/learner.cc:740: \n",
      "Parameters: { \"use_label_encoder\" } are not used.\n",
      "\n",
      "  warnings.warn(smsg, UserWarning)\n",
      "/home/wanlab/nick/.local/lib/python3.8/site-packages/sklearn/discriminant_analysis.py:935: UserWarning: Variables are collinear\n",
      "  warnings.warn(\"Variables are collinear\")\n"
     ]
    },
    {
     "name": "stdout",
     "output_type": "stream",
     "text": [
      "cv\n",
      "individual models\n"
     ]
    },
    {
     "name": "stderr",
     "output_type": "stream",
     "text": [
      "/home/wanlab/nick/.local/lib/python3.8/site-packages/xgboost/core.py:158: UserWarning: [12:21:41] WARNING: /workspace/src/learner.cc:740: \n",
      "Parameters: { \"use_label_encoder\" } are not used.\n",
      "\n",
      "  warnings.warn(smsg, UserWarning)\n",
      "/home/wanlab/nick/.local/lib/python3.8/site-packages/sklearn/discriminant_analysis.py:935: UserWarning: Variables are collinear\n",
      "  warnings.warn(\"Variables are collinear\")\n"
     ]
    },
    {
     "name": "stdout",
     "output_type": "stream",
     "text": [
      "cv\n",
      "individual models\n"
     ]
    },
    {
     "name": "stderr",
     "output_type": "stream",
     "text": [
      "/home/wanlab/nick/.local/lib/python3.8/site-packages/xgboost/core.py:158: UserWarning: [12:21:53] WARNING: /workspace/src/learner.cc:740: \n",
      "Parameters: { \"use_label_encoder\" } are not used.\n",
      "\n",
      "  warnings.warn(smsg, UserWarning)\n",
      "/home/wanlab/nick/.local/lib/python3.8/site-packages/sklearn/discriminant_analysis.py:935: UserWarning: Variables are collinear\n",
      "  warnings.warn(\"Variables are collinear\")\n"
     ]
    },
    {
     "name": "stdout",
     "output_type": "stream",
     "text": [
      "cv\n",
      "individual models\n"
     ]
    },
    {
     "name": "stderr",
     "output_type": "stream",
     "text": [
      "/home/wanlab/nick/.local/lib/python3.8/site-packages/xgboost/core.py:158: UserWarning: [12:22:04] WARNING: /workspace/src/learner.cc:740: \n",
      "Parameters: { \"use_label_encoder\" } are not used.\n",
      "\n",
      "  warnings.warn(smsg, UserWarning)\n",
      "/home/wanlab/nick/.local/lib/python3.8/site-packages/sklearn/discriminant_analysis.py:935: UserWarning: Variables are collinear\n",
      "  warnings.warn(\"Variables are collinear\")\n"
     ]
    },
    {
     "name": "stdout",
     "output_type": "stream",
     "text": [
      "cv\n",
      "individual models\n"
     ]
    },
    {
     "name": "stderr",
     "output_type": "stream",
     "text": [
      "/home/wanlab/nick/.local/lib/python3.8/site-packages/xgboost/core.py:158: UserWarning: [12:22:16] WARNING: /workspace/src/learner.cc:740: \n",
      "Parameters: { \"use_label_encoder\" } are not used.\n",
      "\n",
      "  warnings.warn(smsg, UserWarning)\n",
      "/home/wanlab/nick/.local/lib/python3.8/site-packages/sklearn/discriminant_analysis.py:935: UserWarning: Variables are collinear\n",
      "  warnings.warn(\"Variables are collinear\")\n"
     ]
    },
    {
     "name": "stdout",
     "output_type": "stream",
     "text": [
      "cv\n",
      "\n",
      "model score of oof results for SVC\n",
      "Model Accuracy: 0.875\n",
      "Precision: 0.880581343943413\n",
      "Recall (Sensitivity): 0.875\n",
      "F1 Score: 0.8750826719576721\n",
      "Matthews Correlation Coefficient (MCC): 0.8332845580159479\n",
      "G-Measure: 0.9161415862502547\n",
      "AUC: 0.9866410584720445\n",
      "Specificity: 0.9582719803670509\n",
      "Jaccard Index: 0.7770918304288716\n",
      "Saving metrics to: /work/wanlab/nick//stackeval8/val_data/individual models/SVC/limma(0),metrics.csv\n",
      "PREDICTIONS                   subtype  Squamous      ADEX  Pancreatic Progenitor  \\\n",
      "0   Pancreatic Progenitor  0.101497  0.038263               0.830308   \n",
      "1                    ADEX  0.035456  0.882607               0.022600   \n",
      "2   Pancreatic Progenitor  0.239067  0.194239               0.533529   \n",
      "3   Pancreatic Progenitor  0.005399  0.053369               0.900871   \n",
      "4                    ADEX  0.118796  0.708597               0.148949   \n",
      "..                    ...       ...       ...                    ...   \n",
      "91            Immunogenic  0.006434  0.054448               0.007517   \n",
      "92                   ADEX  0.009975  0.776609               0.159194   \n",
      "93            Immunogenic  0.038897  0.036129               0.386666   \n",
      "94               Squamous  0.644270  0.057172               0.267581   \n",
      "95  Pancreatic Progenitor  0.001717  0.022037               0.840664   \n",
      "\n",
      "    Immunogenic  \n",
      "0      0.029931  \n",
      "1      0.059336  \n",
      "2      0.033165  \n",
      "3      0.040360  \n",
      "4      0.023658  \n",
      "..          ...  \n",
      "91     0.931601  \n",
      "92     0.054221  \n",
      "93     0.538308  \n",
      "94     0.030978  \n",
      "95     0.135582  \n",
      "\n",
      "[96 rows x 5 columns]\n",
      "\n",
      "model score of oof results for SVC2\n",
      "Model Accuracy: 0.9270833333333334\n",
      "Precision: 0.9278747957516341\n",
      "Recall (Sensitivity): 0.9270833333333334\n",
      "F1 Score: 0.9272379406307977\n",
      "Matthews Correlation Coefficient (MCC): 0.9015846628852522\n",
      "G-Measure: 0.9513389154107484\n",
      "AUC: 0.9860570938255798\n",
      "Specificity: 0.9756108621425523\n",
      "Jaccard Index: 0.8612001424501424\n",
      "Saving metrics to: /work/wanlab/nick//stackeval8/val_data/individual models/SVC2/limma(0),metrics.csv\n",
      "PREDICTIONS                   subtype  Squamous      ADEX  Pancreatic Progenitor  \\\n",
      "0   Pancreatic Progenitor  0.184917  0.041473               0.733742   \n",
      "1                    ADEX  0.080140  0.818623               0.032072   \n",
      "2   Pancreatic Progenitor  0.345524  0.151416               0.465281   \n",
      "3   Pancreatic Progenitor  0.013742  0.081149               0.846099   \n",
      "4                    ADEX  0.251856  0.453323               0.261865   \n",
      "..                    ...       ...       ...                    ...   \n",
      "91            Immunogenic  0.018268  0.092418               0.015073   \n",
      "92                   ADEX  0.028476  0.785580               0.103606   \n",
      "93            Immunogenic  0.075079  0.025440               0.682659   \n",
      "94               Squamous  0.586364  0.028163               0.369784   \n",
      "95  Pancreatic Progenitor  0.003756  0.025765               0.767911   \n",
      "\n",
      "    Immunogenic  \n",
      "0      0.039868  \n",
      "1      0.069165  \n",
      "2      0.037779  \n",
      "3      0.059010  \n",
      "4      0.032955  \n",
      "..          ...  \n",
      "91     0.874242  \n",
      "92     0.082338  \n",
      "93     0.216822  \n",
      "94     0.015688  \n",
      "95     0.202568  \n",
      "\n",
      "[96 rows x 5 columns]\n",
      "\n",
      "model score of oof results for XGBClassifier\n",
      "Model Accuracy: 0.8958333333333334\n",
      "Precision: 0.8980353036908744\n",
      "Recall (Sensitivity): 0.8958333333333334\n",
      "F1 Score: 0.8939833840972847\n",
      "Matthews Correlation Coefficient (MCC): 0.8599347653521981\n",
      "G-Measure: 0.9191232154034474\n",
      "AUC: 0.980168487249253\n",
      "Specificity: 0.9643846030729835\n",
      "Jaccard Index: 0.7975085541008462\n",
      "Saving metrics to: /work/wanlab/nick//stackeval8/val_data/individual models/XGBClassifier/limma(0),metrics.csv\n",
      "PREDICTIONS                   subtype  Squamous      ADEX  Pancreatic Progenitor  \\\n",
      "0   Pancreatic Progenitor  0.010496  0.004265               0.979689   \n",
      "1                    ADEX  0.009075  0.971340               0.010060   \n",
      "2   Pancreatic Progenitor  0.324684  0.116739               0.423451   \n",
      "3   Pancreatic Progenitor  0.035251  0.015652               0.932271   \n",
      "4                    ADEX  0.019062  0.938530               0.032673   \n",
      "..                    ...       ...       ...                    ...   \n",
      "91            Immunogenic  0.003353  0.144402               0.006780   \n",
      "92                   ADEX  0.085751  0.291449               0.230912   \n",
      "93            Immunogenic  0.006942  0.004306               0.017895   \n",
      "94               Squamous  0.557425  0.083944               0.236529   \n",
      "95  Pancreatic Progenitor  0.076111  0.088864               0.516777   \n",
      "\n",
      "    Immunogenic  \n",
      "0      0.005550  \n",
      "1      0.009525  \n",
      "2      0.135126  \n",
      "3      0.016826  \n",
      "4      0.009735  \n",
      "..          ...  \n",
      "91     0.845465  \n",
      "92     0.391888  \n",
      "93     0.970856  \n",
      "94     0.122102  \n",
      "95     0.318248  \n",
      "\n",
      "[96 rows x 5 columns]\n",
      "\n",
      "model score of oof results for QuadraticDiscriminantAnalysis\n",
      "Model Accuracy: 0.8125\n",
      "Precision: 0.8422427398989898\n",
      "Recall (Sensitivity): 0.8125\n",
      "F1 Score: 0.8179834041462035\n",
      "Matthews Correlation Coefficient (MCC): 0.7565073022599094\n",
      "G-Measure: 0.8796245823209131\n",
      "AUC: 0.941972486751316\n",
      "Specificity: 0.9400474818608622\n",
      "Jaccard Index: 0.6841746794871795\n",
      "Saving metrics to: /work/wanlab/nick//stackeval8/val_data/individual models/QuadraticDiscriminantAnalysis/limma(0),metrics.csv\n",
      "PREDICTIONS                   subtype  Squamous           ADEX  Pancreatic Progenitor  \\\n",
      "0   Pancreatic Progenitor       0.0  2.272267e-213           1.000000e+00   \n",
      "1                    ADEX       0.0   1.000000e+00           0.000000e+00   \n",
      "2   Pancreatic Progenitor       0.0   9.016082e-32           1.000000e+00   \n",
      "3   Pancreatic Progenitor       0.0  1.316344e-112           1.000000e+00   \n",
      "4                    ADEX       0.0   1.000000e+00           0.000000e+00   \n",
      "..                    ...       ...            ...                    ...   \n",
      "91            Immunogenic       0.0   0.000000e+00           0.000000e+00   \n",
      "92                   ADEX       0.0   1.000000e+00          5.428026e-131   \n",
      "93            Immunogenic       0.0  1.185421e-146           0.000000e+00   \n",
      "94               Squamous       1.0  1.099996e-289           0.000000e+00   \n",
      "95  Pancreatic Progenitor       0.0   1.000000e+00           5.819005e-13   \n",
      "\n",
      "      Immunogenic  \n",
      "0   3.934384e-271  \n",
      "1    0.000000e+00  \n",
      "2    0.000000e+00  \n",
      "3   1.556498e-292  \n",
      "4    0.000000e+00  \n",
      "..            ...  \n",
      "91   1.000000e+00  \n",
      "92   0.000000e+00  \n",
      "93   1.000000e+00  \n",
      "94  2.681948e-147  \n",
      "95  2.710999e-166  \n",
      "\n",
      "[96 rows x 5 columns]\n",
      "运行时间为: 1160.08 秒\n",
      "combining [[1.01497345e-001 3.82633511e-002 8.30307835e-001 ... 2.27226698e-213\n",
      "  1.00000000e+000 3.93438375e-271]\n",
      " [3.54563946e-002 8.82607373e-001 2.26002107e-002 ... 1.00000000e+000\n",
      "  0.00000000e+000 0.00000000e+000]\n",
      " [2.39066502e-001 1.94239417e-001 5.33529031e-001 ... 9.01608210e-032\n",
      "  1.00000000e+000 0.00000000e+000]\n",
      " ...\n",
      " [3.88968982e-002 3.61289768e-002 3.86666466e-001 ... 1.18542119e-146\n",
      "  0.00000000e+000 1.00000000e+000]\n",
      " [6.44269641e-001 5.71716331e-002 2.67580704e-001 ... 1.09999569e-289\n",
      "  0.00000000e+000 2.68194841e-147]\n",
      " [1.71675337e-003 2.20372902e-002 8.40663512e-001 ... 1.00000000e+000\n",
      "  5.81900495e-013 2.71099911e-166]] [[13.56018914 12.68466835 13.10243664 ...  9.53005478 11.16103308\n",
      "  11.24920229]\n",
      " [15.4259582  14.08525845 12.01110512 ...  9.45622747 11.12707631\n",
      "  11.78331935]\n",
      " [14.4756837  13.26517897 12.82291838 ...  9.65623065 11.33179862\n",
      "  11.68015036]\n",
      " ...\n",
      " [14.28976923 13.62192201 12.67277184 ...  9.32578912  9.67174085\n",
      "  11.45401981]\n",
      " [14.71684472 13.81278796 13.58508909 ... 10.31590684 12.7838795\n",
      "  11.90067493]\n",
      " [14.18823419 12.92657629 11.70868561 ...  9.88942006  9.76636631\n",
      "  12.84604452]]\n",
      "stacked\n",
      "cv\n",
      "stacked\n",
      "cv\n",
      "stacked\n",
      "cv\n",
      "stacked\n",
      "cv\n",
      "stacked\n",
      "cv\n",
      "stacked\n",
      "cv\n",
      "stacked\n",
      "cv\n",
      "stacked\n",
      "cv\n",
      "stacked\n",
      "cv\n",
      "stacked\n",
      "cv\n",
      "stacked\n",
      "cv\n",
      "stacked\n",
      "cv\n",
      "stacked\n",
      "cv\n",
      "stacked\n",
      "cv\n",
      "stacked\n",
      "cv\n",
      "stacked\n",
      "cv\n",
      "stacked\n",
      "cv\n",
      "stacked\n",
      "cv\n",
      "stacked\n",
      "cv\n",
      "stacked\n",
      "cv\n",
      "stacked\n",
      "cv\n",
      "stacked\n",
      "cv\n",
      "stacked\n",
      "cv\n",
      "stacked\n",
      "cv\n",
      "stacked\n",
      "cv\n",
      "stacked\n",
      "cv\n",
      "stacked\n",
      "cv\n",
      "stacked\n",
      "cv\n",
      "stacked\n",
      "cv\n",
      "stacked\n",
      "cv\n",
      "stacked\n",
      "cv\n",
      "stacked\n",
      "cv\n",
      "stacked\n",
      "cv\n",
      "stacked\n",
      "cv\n",
      "stacked\n",
      "cv\n",
      "stacked\n",
      "cv\n",
      "stacked\n",
      "cv\n",
      "stacked\n",
      "cv\n",
      "stacked\n",
      "cv\n",
      "stacked\n",
      "cv\n",
      "stacked\n",
      "cv\n",
      "stacked\n",
      "cv\n",
      "stacked\n",
      "cv\n",
      "stacked\n",
      "cv\n",
      "stacked\n",
      "cv\n",
      "stacked\n",
      "cv\n",
      "stacked\n",
      "cv\n",
      "stacked\n",
      "cv\n",
      "stacked\n",
      "cv\n",
      "stacked\n",
      "cv\n",
      "stacked\n",
      "cv\n",
      "stacked\n",
      "cv\n",
      "stacked\n",
      "cv\n",
      "stacked\n",
      "cv\n",
      "stacked\n",
      "cv\n",
      "stacked\n",
      "cv\n",
      "stacked\n",
      "cv\n",
      "stacked\n",
      "cv\n",
      "stacked\n",
      "cv\n",
      "stacked\n",
      "cv\n",
      "stacked\n",
      "cv\n",
      "stacked\n",
      "cv\n",
      "stacked\n",
      "cv\n",
      "stacked\n",
      "cv\n",
      "stacked\n",
      "cv\n",
      "stacked\n",
      "cv\n",
      "stacked\n",
      "cv\n",
      "stacked\n",
      "cv\n",
      "stacked\n",
      "cv\n",
      "stacked\n",
      "cv\n",
      "stacked\n",
      "cv\n",
      "stacked\n",
      "cv\n",
      "stacked\n",
      "cv\n",
      "stacked\n",
      "cv\n",
      "stacked\n",
      "cv\n",
      "stacked\n",
      "cv\n",
      "stacked\n",
      "cv\n",
      "stacked\n",
      "cv\n",
      "stacked\n",
      "cv\n",
      "stacked\n",
      "cv\n",
      "stacked\n",
      "cv\n",
      "stacked\n",
      "cv\n",
      "stacked\n",
      "cv\n",
      "stacked\n",
      "cv\n",
      "stacked\n",
      "cv\n",
      "stacked\n",
      "cv\n",
      "stacked\n",
      "cv\n",
      "stacked\n",
      "cv\n",
      "stacked\n",
      "cv\n",
      "stacked\n",
      "cv\n",
      "stacked\n",
      "cv\n",
      "stacked\n",
      "cv\n",
      "stacked\n",
      "cv\n",
      "stacked\n",
      "cv\n",
      "stacked\n",
      "cv\n",
      "stacked\n",
      "cv\n",
      "\n",
      "model score of oof results for MLPClassifier\n",
      "Model Accuracy: 0.6145833333333334\n",
      "Precision: 0.6108885234389266\n",
      "Recall (Sensitivity): 0.6145833333333334\n",
      "F1 Score: 0.6094505480990898\n",
      "Matthews Correlation Coefficient (MCC): 0.4758474019720884\n",
      "G-Measure: 0.7094658178276878\n",
      "AUC: 0.8141648105171432\n",
      "Specificity: 0.8687646713615023\n",
      "Jaccard Index: 0.42572106078203636\n",
      "Saving metrics to: /work/wanlab/nick//stackeval8/val_data/stacked/MLPClassifier/limma(0),metrics.csv\n",
      "PREDICTIONS                   subtype      Squamous          ADEX  Pancreatic Progenitor  \\\n",
      "0             Immunogenic  9.134941e-02  1.018764e-03               0.007624   \n",
      "1                    ADEX  3.924604e-01  1.253042e-01               0.019342   \n",
      "2   Pancreatic Progenitor  3.908827e-08  3.137215e-02               0.943808   \n",
      "3   Pancreatic Progenitor  5.302346e-04  3.709455e-03               0.995297   \n",
      "4   Pancreatic Progenitor  3.971801e-01  2.180137e-02               0.580943   \n",
      "..                    ...           ...           ...                    ...   \n",
      "91                   ADEX  8.110172e-06  5.707052e-05               0.019469   \n",
      "92               Squamous  9.999913e-01  5.028506e-07               0.000002   \n",
      "93                   ADEX  8.793991e-01  8.560116e-02               0.034944   \n",
      "94  Pancreatic Progenitor  1.404244e-02  2.497396e-02               0.959831   \n",
      "95               Squamous  7.215805e-01  3.051942e-02               0.241815   \n",
      "\n",
      "    Immunogenic  \n",
      "0      0.900008  \n",
      "1      0.462893  \n",
      "2      0.024819  \n",
      "3      0.000463  \n",
      "4      0.000076  \n",
      "..          ...  \n",
      "91     0.980466  \n",
      "92     0.000006  \n",
      "93     0.000056  \n",
      "94     0.001152  \n",
      "95     0.006085  \n",
      "\n",
      "[96 rows x 5 columns]\n",
      "\n",
      "model score of oof results for RandomForestClassifier\n",
      "Model Accuracy: 0.8333333333333334\n",
      "Precision: 0.8349085810023311\n",
      "Recall (Sensitivity): 0.8333333333333334\n",
      "F1 Score: 0.8319689944943495\n",
      "Matthews Correlation Coefficient (MCC): 0.7742164680987698\n",
      "G-Measure: 0.875964432005703\n",
      "AUC: 0.9827852412772088\n",
      "Specificity: 0.9428537131882202\n",
      "Jaccard Index: 0.7027777777777777\n",
      "Saving metrics to: /work/wanlab/nick//stackeval8/val_data/stacked/RandomForestClassifier/limma(0),metrics.csv\n",
      "PREDICTIONS                   subtype  Squamous  ADEX  Pancreatic Progenitor  Immunogenic\n",
      "0             Immunogenic      0.12  0.07                   0.01         0.80\n",
      "1                    ADEX      0.20  0.37                   0.38         0.05\n",
      "2   Pancreatic Progenitor      0.01  0.08                   0.45         0.46\n",
      "3   Pancreatic Progenitor      0.10  0.22                   0.65         0.03\n",
      "4   Pancreatic Progenitor      0.14  0.10                   0.72         0.04\n",
      "..                    ...       ...   ...                    ...          ...\n",
      "91                   ADEX      0.02  0.37                   0.19         0.42\n",
      "92               Squamous      0.88  0.03                   0.04         0.05\n",
      "93                   ADEX      0.25  0.45                   0.26         0.04\n",
      "94  Pancreatic Progenitor      0.01  0.53                   0.35         0.11\n",
      "95               Squamous      0.41  0.28                   0.21         0.10\n",
      "\n",
      "[96 rows x 5 columns]\n",
      "\n",
      "model score of oof results for LogisticRegression2\n",
      "Model Accuracy: 0.90625\n",
      "Precision: 0.907241010904804\n",
      "Recall (Sensitivity): 0.90625\n",
      "F1 Score: 0.9063258253912099\n",
      "Matthews Correlation Coefficient (MCC): 0.8733101573111083\n",
      "G-Measure: 0.9352788514023854\n",
      "AUC: 0.9877433556515861\n",
      "Specificity: 0.9681724818608621\n",
      "Jaccard Index: 0.8275341386554622\n",
      "Saving metrics to: /work/wanlab/nick//stackeval8/val_data/stacked/LogisticRegression2/limma(0),metrics.csv\n",
      "PREDICTIONS                   subtype      Squamous          ADEX  Pancreatic Progenitor  \\\n",
      "0             Immunogenic  3.645193e-09  1.000039e-09           2.311409e-10   \n",
      "1                    ADEX  1.168450e-04  8.845041e-01           1.142030e-01   \n",
      "2   Pancreatic Progenitor  4.436999e-09  4.682370e-06           9.877915e-01   \n",
      "3   Pancreatic Progenitor  8.562526e-06  7.668905e-03           9.914542e-01   \n",
      "4   Pancreatic Progenitor  4.417522e-05  5.525490e-04           9.994032e-01   \n",
      "..                    ...           ...           ...                    ...   \n",
      "91                   ADEX  3.311350e-07  9.375785e-01           2.256012e-02   \n",
      "92               Squamous  1.000000e+00  8.929393e-13           4.487663e-13   \n",
      "93                   ADEX  2.196966e-04  9.825530e-01           1.719964e-02   \n",
      "94  Pancreatic Progenitor  1.837171e-07  6.670728e-01           3.316322e-01   \n",
      "95               Squamous  6.522724e-01  3.258867e-01           2.182367e-02   \n",
      "\n",
      "     Immunogenic  \n",
      "0   1.000000e+00  \n",
      "1   1.175973e-03  \n",
      "2   1.220378e-02  \n",
      "3   8.683172e-04  \n",
      "4   9.377285e-08  \n",
      "..           ...  \n",
      "91  3.986109e-02  \n",
      "92  5.440576e-09  \n",
      "93  2.766448e-05  \n",
      "94  1.294809e-03  \n",
      "95  1.724346e-05  \n",
      "\n",
      "[96 rows x 5 columns]\n",
      "\n",
      "model score of oof results for GaussianNB2\n",
      "Model Accuracy: 0.7916666666666666\n",
      "Precision: 0.7908549783549784\n",
      "Recall (Sensitivity): 0.7916666666666666\n",
      "F1 Score: 0.7862654320987654\n",
      "Matthews Correlation Coefficient (MCC): 0.7178678232995247\n",
      "G-Measure: 0.8348797928373367\n",
      "AUC: 0.9259606963117086\n",
      "Specificity: 0.9283650768245839\n",
      "Jaccard Index: 0.6339987900786448\n",
      "Saving metrics to: /work/wanlab/nick//stackeval8/val_data/stacked/GaussianNB2/limma(0),metrics.csv\n",
      "PREDICTIONS                   subtype  Squamous          ADEX  Pancreatic Progenitor  \\\n",
      "0             Immunogenic       0.0  0.000000e+00           0.000000e+00   \n",
      "1                    ADEX       0.0  1.000000e+00           0.000000e+00   \n",
      "2   Pancreatic Progenitor       0.0  0.000000e+00           1.000000e+00   \n",
      "3   Pancreatic Progenitor       0.0  0.000000e+00           1.000000e+00   \n",
      "4   Pancreatic Progenitor       0.0  0.000000e+00           1.000000e+00   \n",
      "..                    ...       ...           ...                    ...   \n",
      "91                   ADEX       0.0  1.403758e-96          1.296941e-144   \n",
      "92               Squamous       1.0  0.000000e+00           0.000000e+00   \n",
      "93                   ADEX       0.0  3.926068e-53           1.000000e+00   \n",
      "94  Pancreatic Progenitor       0.0  1.000000e+00           1.262383e-73   \n",
      "95               Squamous       0.0  1.000000e+00          6.022082e-172   \n",
      "\n",
      "    Immunogenic  \n",
      "0           1.0  \n",
      "1           0.0  \n",
      "2           0.0  \n",
      "3           0.0  \n",
      "4           0.0  \n",
      "..          ...  \n",
      "91          1.0  \n",
      "92          0.0  \n",
      "93          0.0  \n",
      "94          0.0  \n",
      "95          0.0  \n",
      "\n",
      "[96 rows x 5 columns]\n",
      "\n",
      "model score of oof results for SVC3\n",
      "Model Accuracy: 0.8854166666666666\n",
      "Precision: 0.891441968525302\n",
      "Recall (Sensitivity): 0.8854166666666666\n",
      "F1 Score: 0.8857571122577969\n",
      "Matthews Correlation Coefficient (MCC): 0.847046869768925\n",
      "G-Measure: 0.9229308733968031\n",
      "AUC: 0.9891329669938824\n",
      "Specificity: 0.9613969803670508\n",
      "Jaccard Index: 0.7977251412244541\n",
      "Saving metrics to: /work/wanlab/nick//stackeval8/val_data/stacked/SVC3/limma(0),metrics.csv\n",
      "PREDICTIONS                   subtype  Squamous      ADEX  Pancreatic Progenitor  \\\n",
      "0             Immunogenic  0.003124  0.001619               0.000747   \n",
      "1                    ADEX  0.016737  0.911674               0.057003   \n",
      "2   Pancreatic Progenitor  0.001742  0.020756               0.867231   \n",
      "3   Pancreatic Progenitor  0.006017  0.066860               0.883071   \n",
      "4   Pancreatic Progenitor  0.025705  0.049850               0.921123   \n",
      "..                    ...       ...       ...                    ...   \n",
      "91                   ADEX  0.006643  0.637891               0.102107   \n",
      "92               Squamous  0.993994  0.000396               0.000105   \n",
      "93                   ADEX  0.082643  0.731708               0.150163   \n",
      "94  Pancreatic Progenitor  0.004529  0.753019               0.208209   \n",
      "95               Squamous  0.404759  0.382470               0.198077   \n",
      "\n",
      "    Immunogenic  \n",
      "0      0.994509  \n",
      "1      0.014586  \n",
      "2      0.110271  \n",
      "3      0.044051  \n",
      "4      0.003323  \n",
      "..          ...  \n",
      "91     0.253359  \n",
      "92     0.005504  \n",
      "93     0.035486  \n",
      "94     0.034243  \n",
      "95     0.014694  \n",
      "\n",
      "[96 rows x 5 columns]\n",
      "\n",
      "model score of oof results for SVC4\n",
      "Model Accuracy: 0.9479166666666666\n",
      "Precision: 0.9480953839869283\n",
      "Recall (Sensitivity): 0.9479166666666666\n",
      "F1 Score: 0.9477556173984745\n",
      "Matthews Correlation Coefficient (MCC): 0.9297454332242742\n",
      "G-Measure: 0.9675827216791117\n",
      "AUC: 0.9866884069568927\n",
      "Specificity: 0.9822569889031157\n",
      "Jaccard Index: 0.9059671945701357\n",
      "Saving metrics to: /work/wanlab/nick//stackeval8/val_data/stacked/SVC4/limma(0),metrics.csv\n",
      "PREDICTIONS                   subtype  Squamous      ADEX  Pancreatic Progenitor  \\\n",
      "0             Immunogenic  0.001988  0.001390               0.000751   \n",
      "1                    ADEX  0.046532  0.597036               0.320827   \n",
      "2   Pancreatic Progenitor  0.004486  0.028594               0.727783   \n",
      "3   Pancreatic Progenitor  0.013422  0.079222               0.853960   \n",
      "4   Pancreatic Progenitor  0.052124  0.071998               0.868529   \n",
      "..                    ...       ...       ...                    ...   \n",
      "91                   ADEX  0.008596  0.689565               0.119600   \n",
      "92               Squamous  0.996100  0.000078               0.000200   \n",
      "93                   ADEX  0.051110  0.761570               0.156927   \n",
      "94  Pancreatic Progenitor  0.008561  0.640351               0.310618   \n",
      "95               Squamous  0.413357  0.378170               0.179326   \n",
      "\n",
      "    Immunogenic  \n",
      "0      0.995871  \n",
      "1      0.035605  \n",
      "2      0.239138  \n",
      "3      0.053396  \n",
      "4      0.007349  \n",
      "..          ...  \n",
      "91     0.182240  \n",
      "92     0.003622  \n",
      "93     0.030393  \n",
      "94     0.040471  \n",
      "95     0.029147  \n",
      "\n",
      "[96 rows x 5 columns]\n",
      "run 9\n",
      "Model Pair: SVC + SVC + KNeighborsClassifier + QuadraticDiscriminantAnalysis\n",
      "USEDmodelnames ['SVC', 'SVC2', 'KNeighborsClassifier', 'QuadraticDiscriminantAnalysis']\n",
      "Running with: SVC and SVC and KNeighborsClassifier and QuadraticDiscriminantAnalysis\n",
      "Random state: 0\n",
      "['SVC', 'SVC2', 'KNeighborsClassifier', 'QuadraticDiscriminantAnalysis']\n",
      "individual models\n"
     ]
    },
    {
     "name": "stderr",
     "output_type": "stream",
     "text": [
      "/home/wanlab/nick/.local/lib/python3.8/site-packages/sklearn/discriminant_analysis.py:935: UserWarning: Variables are collinear\n",
      "  warnings.warn(\"Variables are collinear\")\n"
     ]
    },
    {
     "name": "stdout",
     "output_type": "stream",
     "text": [
      "cv\n",
      "individual models\n"
     ]
    },
    {
     "name": "stderr",
     "output_type": "stream",
     "text": [
      "/home/wanlab/nick/.local/lib/python3.8/site-packages/sklearn/discriminant_analysis.py:935: UserWarning: Variables are collinear\n",
      "  warnings.warn(\"Variables are collinear\")\n"
     ]
    },
    {
     "name": "stdout",
     "output_type": "stream",
     "text": [
      "cv\n",
      "individual models\n"
     ]
    },
    {
     "name": "stderr",
     "output_type": "stream",
     "text": [
      "/home/wanlab/nick/.local/lib/python3.8/site-packages/sklearn/discriminant_analysis.py:935: UserWarning: Variables are collinear\n",
      "  warnings.warn(\"Variables are collinear\")\n"
     ]
    },
    {
     "name": "stdout",
     "output_type": "stream",
     "text": [
      "cv\n",
      "individual models\n"
     ]
    },
    {
     "name": "stderr",
     "output_type": "stream",
     "text": [
      "/home/wanlab/nick/.local/lib/python3.8/site-packages/sklearn/discriminant_analysis.py:935: UserWarning: Variables are collinear\n",
      "  warnings.warn(\"Variables are collinear\")\n"
     ]
    },
    {
     "name": "stdout",
     "output_type": "stream",
     "text": [
      "cv\n",
      "individual models\n"
     ]
    },
    {
     "name": "stderr",
     "output_type": "stream",
     "text": [
      "/home/wanlab/nick/.local/lib/python3.8/site-packages/sklearn/discriminant_analysis.py:935: UserWarning: Variables are collinear\n",
      "  warnings.warn(\"Variables are collinear\")\n"
     ]
    },
    {
     "name": "stdout",
     "output_type": "stream",
     "text": [
      "cv\n",
      "individual models\n"
     ]
    },
    {
     "name": "stderr",
     "output_type": "stream",
     "text": [
      "/home/wanlab/nick/.local/lib/python3.8/site-packages/sklearn/discriminant_analysis.py:935: UserWarning: Variables are collinear\n",
      "  warnings.warn(\"Variables are collinear\")\n"
     ]
    },
    {
     "name": "stdout",
     "output_type": "stream",
     "text": [
      "cv\n",
      "individual models\n"
     ]
    },
    {
     "name": "stderr",
     "output_type": "stream",
     "text": [
      "/home/wanlab/nick/.local/lib/python3.8/site-packages/sklearn/discriminant_analysis.py:935: UserWarning: Variables are collinear\n",
      "  warnings.warn(\"Variables are collinear\")\n"
     ]
    },
    {
     "name": "stdout",
     "output_type": "stream",
     "text": [
      "cv\n",
      "individual models\n"
     ]
    },
    {
     "name": "stderr",
     "output_type": "stream",
     "text": [
      "/home/wanlab/nick/.local/lib/python3.8/site-packages/sklearn/discriminant_analysis.py:935: UserWarning: Variables are collinear\n",
      "  warnings.warn(\"Variables are collinear\")\n"
     ]
    },
    {
     "name": "stdout",
     "output_type": "stream",
     "text": [
      "cv\n",
      "individual models\n"
     ]
    },
    {
     "name": "stderr",
     "output_type": "stream",
     "text": [
      "/home/wanlab/nick/.local/lib/python3.8/site-packages/sklearn/discriminant_analysis.py:935: UserWarning: Variables are collinear\n",
      "  warnings.warn(\"Variables are collinear\")\n"
     ]
    },
    {
     "name": "stdout",
     "output_type": "stream",
     "text": [
      "cv\n",
      "individual models\n"
     ]
    },
    {
     "name": "stderr",
     "output_type": "stream",
     "text": [
      "/home/wanlab/nick/.local/lib/python3.8/site-packages/sklearn/discriminant_analysis.py:935: UserWarning: Variables are collinear\n",
      "  warnings.warn(\"Variables are collinear\")\n"
     ]
    },
    {
     "name": "stdout",
     "output_type": "stream",
     "text": [
      "cv\n",
      "individual models\n"
     ]
    },
    {
     "name": "stderr",
     "output_type": "stream",
     "text": [
      "/home/wanlab/nick/.local/lib/python3.8/site-packages/sklearn/discriminant_analysis.py:935: UserWarning: Variables are collinear\n",
      "  warnings.warn(\"Variables are collinear\")\n"
     ]
    },
    {
     "name": "stdout",
     "output_type": "stream",
     "text": [
      "cv\n",
      "individual models\n"
     ]
    },
    {
     "name": "stderr",
     "output_type": "stream",
     "text": [
      "/home/wanlab/nick/.local/lib/python3.8/site-packages/sklearn/discriminant_analysis.py:935: UserWarning: Variables are collinear\n",
      "  warnings.warn(\"Variables are collinear\")\n"
     ]
    },
    {
     "name": "stdout",
     "output_type": "stream",
     "text": [
      "cv\n",
      "individual models\n"
     ]
    },
    {
     "name": "stderr",
     "output_type": "stream",
     "text": [
      "/home/wanlab/nick/.local/lib/python3.8/site-packages/sklearn/discriminant_analysis.py:935: UserWarning: Variables are collinear\n",
      "  warnings.warn(\"Variables are collinear\")\n"
     ]
    },
    {
     "name": "stdout",
     "output_type": "stream",
     "text": [
      "cv\n",
      "individual models\n"
     ]
    },
    {
     "name": "stderr",
     "output_type": "stream",
     "text": [
      "/home/wanlab/nick/.local/lib/python3.8/site-packages/sklearn/discriminant_analysis.py:935: UserWarning: Variables are collinear\n",
      "  warnings.warn(\"Variables are collinear\")\n"
     ]
    },
    {
     "name": "stdout",
     "output_type": "stream",
     "text": [
      "cv\n",
      "individual models\n"
     ]
    },
    {
     "name": "stderr",
     "output_type": "stream",
     "text": [
      "/home/wanlab/nick/.local/lib/python3.8/site-packages/sklearn/discriminant_analysis.py:935: UserWarning: Variables are collinear\n",
      "  warnings.warn(\"Variables are collinear\")\n"
     ]
    },
    {
     "name": "stdout",
     "output_type": "stream",
     "text": [
      "cv\n",
      "individual models\n"
     ]
    },
    {
     "name": "stderr",
     "output_type": "stream",
     "text": [
      "/home/wanlab/nick/.local/lib/python3.8/site-packages/sklearn/discriminant_analysis.py:935: UserWarning: Variables are collinear\n",
      "  warnings.warn(\"Variables are collinear\")\n"
     ]
    },
    {
     "name": "stdout",
     "output_type": "stream",
     "text": [
      "cv\n",
      "individual models\n"
     ]
    },
    {
     "name": "stderr",
     "output_type": "stream",
     "text": [
      "/home/wanlab/nick/.local/lib/python3.8/site-packages/sklearn/discriminant_analysis.py:935: UserWarning: Variables are collinear\n",
      "  warnings.warn(\"Variables are collinear\")\n"
     ]
    },
    {
     "name": "stdout",
     "output_type": "stream",
     "text": [
      "cv\n",
      "individual models\n"
     ]
    },
    {
     "name": "stderr",
     "output_type": "stream",
     "text": [
      "/home/wanlab/nick/.local/lib/python3.8/site-packages/sklearn/discriminant_analysis.py:935: UserWarning: Variables are collinear\n",
      "  warnings.warn(\"Variables are collinear\")\n"
     ]
    },
    {
     "name": "stdout",
     "output_type": "stream",
     "text": [
      "cv\n",
      "individual models\n"
     ]
    },
    {
     "name": "stderr",
     "output_type": "stream",
     "text": [
      "/home/wanlab/nick/.local/lib/python3.8/site-packages/sklearn/discriminant_analysis.py:935: UserWarning: Variables are collinear\n",
      "  warnings.warn(\"Variables are collinear\")\n"
     ]
    },
    {
     "name": "stdout",
     "output_type": "stream",
     "text": [
      "cv\n",
      "individual models\n"
     ]
    },
    {
     "name": "stderr",
     "output_type": "stream",
     "text": [
      "/home/wanlab/nick/.local/lib/python3.8/site-packages/sklearn/discriminant_analysis.py:935: UserWarning: Variables are collinear\n",
      "  warnings.warn(\"Variables are collinear\")\n"
     ]
    },
    {
     "name": "stdout",
     "output_type": "stream",
     "text": [
      "cv\n",
      "individual models\n"
     ]
    },
    {
     "name": "stderr",
     "output_type": "stream",
     "text": [
      "/home/wanlab/nick/.local/lib/python3.8/site-packages/sklearn/discriminant_analysis.py:935: UserWarning: Variables are collinear\n",
      "  warnings.warn(\"Variables are collinear\")\n"
     ]
    },
    {
     "name": "stdout",
     "output_type": "stream",
     "text": [
      "cv\n",
      "individual models\n"
     ]
    },
    {
     "name": "stderr",
     "output_type": "stream",
     "text": [
      "/home/wanlab/nick/.local/lib/python3.8/site-packages/sklearn/discriminant_analysis.py:935: UserWarning: Variables are collinear\n",
      "  warnings.warn(\"Variables are collinear\")\n"
     ]
    },
    {
     "name": "stdout",
     "output_type": "stream",
     "text": [
      "cv\n",
      "individual models\n"
     ]
    },
    {
     "name": "stderr",
     "output_type": "stream",
     "text": [
      "/home/wanlab/nick/.local/lib/python3.8/site-packages/sklearn/discriminant_analysis.py:935: UserWarning: Variables are collinear\n",
      "  warnings.warn(\"Variables are collinear\")\n"
     ]
    },
    {
     "name": "stdout",
     "output_type": "stream",
     "text": [
      "cv\n",
      "individual models\n"
     ]
    },
    {
     "name": "stderr",
     "output_type": "stream",
     "text": [
      "/home/wanlab/nick/.local/lib/python3.8/site-packages/sklearn/discriminant_analysis.py:935: UserWarning: Variables are collinear\n",
      "  warnings.warn(\"Variables are collinear\")\n"
     ]
    },
    {
     "name": "stdout",
     "output_type": "stream",
     "text": [
      "cv\n",
      "individual models\n"
     ]
    },
    {
     "name": "stderr",
     "output_type": "stream",
     "text": [
      "/home/wanlab/nick/.local/lib/python3.8/site-packages/sklearn/discriminant_analysis.py:935: UserWarning: Variables are collinear\n",
      "  warnings.warn(\"Variables are collinear\")\n"
     ]
    },
    {
     "name": "stdout",
     "output_type": "stream",
     "text": [
      "cv\n",
      "individual models\n"
     ]
    },
    {
     "name": "stderr",
     "output_type": "stream",
     "text": [
      "/home/wanlab/nick/.local/lib/python3.8/site-packages/sklearn/discriminant_analysis.py:935: UserWarning: Variables are collinear\n",
      "  warnings.warn(\"Variables are collinear\")\n"
     ]
    },
    {
     "name": "stdout",
     "output_type": "stream",
     "text": [
      "cv\n",
      "individual models\n"
     ]
    },
    {
     "name": "stderr",
     "output_type": "stream",
     "text": [
      "/home/wanlab/nick/.local/lib/python3.8/site-packages/sklearn/discriminant_analysis.py:935: UserWarning: Variables are collinear\n",
      "  warnings.warn(\"Variables are collinear\")\n"
     ]
    },
    {
     "name": "stdout",
     "output_type": "stream",
     "text": [
      "cv\n",
      "individual models\n"
     ]
    },
    {
     "name": "stderr",
     "output_type": "stream",
     "text": [
      "/home/wanlab/nick/.local/lib/python3.8/site-packages/sklearn/discriminant_analysis.py:935: UserWarning: Variables are collinear\n",
      "  warnings.warn(\"Variables are collinear\")\n"
     ]
    },
    {
     "name": "stdout",
     "output_type": "stream",
     "text": [
      "cv\n",
      "individual models\n"
     ]
    },
    {
     "name": "stderr",
     "output_type": "stream",
     "text": [
      "/home/wanlab/nick/.local/lib/python3.8/site-packages/sklearn/discriminant_analysis.py:935: UserWarning: Variables are collinear\n",
      "  warnings.warn(\"Variables are collinear\")\n"
     ]
    },
    {
     "name": "stdout",
     "output_type": "stream",
     "text": [
      "cv\n",
      "individual models\n"
     ]
    },
    {
     "name": "stderr",
     "output_type": "stream",
     "text": [
      "/home/wanlab/nick/.local/lib/python3.8/site-packages/sklearn/discriminant_analysis.py:935: UserWarning: Variables are collinear\n",
      "  warnings.warn(\"Variables are collinear\")\n"
     ]
    },
    {
     "name": "stdout",
     "output_type": "stream",
     "text": [
      "cv\n",
      "individual models\n"
     ]
    },
    {
     "name": "stderr",
     "output_type": "stream",
     "text": [
      "/home/wanlab/nick/.local/lib/python3.8/site-packages/sklearn/discriminant_analysis.py:935: UserWarning: Variables are collinear\n",
      "  warnings.warn(\"Variables are collinear\")\n"
     ]
    },
    {
     "name": "stdout",
     "output_type": "stream",
     "text": [
      "cv\n",
      "individual models\n"
     ]
    },
    {
     "name": "stderr",
     "output_type": "stream",
     "text": [
      "/home/wanlab/nick/.local/lib/python3.8/site-packages/sklearn/discriminant_analysis.py:935: UserWarning: Variables are collinear\n",
      "  warnings.warn(\"Variables are collinear\")\n"
     ]
    },
    {
     "name": "stdout",
     "output_type": "stream",
     "text": [
      "cv\n",
      "individual models\n"
     ]
    },
    {
     "name": "stderr",
     "output_type": "stream",
     "text": [
      "/home/wanlab/nick/.local/lib/python3.8/site-packages/sklearn/discriminant_analysis.py:935: UserWarning: Variables are collinear\n",
      "  warnings.warn(\"Variables are collinear\")\n"
     ]
    },
    {
     "name": "stdout",
     "output_type": "stream",
     "text": [
      "cv\n",
      "individual models\n"
     ]
    },
    {
     "name": "stderr",
     "output_type": "stream",
     "text": [
      "/home/wanlab/nick/.local/lib/python3.8/site-packages/sklearn/discriminant_analysis.py:935: UserWarning: Variables are collinear\n",
      "  warnings.warn(\"Variables are collinear\")\n"
     ]
    },
    {
     "name": "stdout",
     "output_type": "stream",
     "text": [
      "cv\n",
      "individual models\n"
     ]
    },
    {
     "name": "stderr",
     "output_type": "stream",
     "text": [
      "/home/wanlab/nick/.local/lib/python3.8/site-packages/sklearn/discriminant_analysis.py:935: UserWarning: Variables are collinear\n",
      "  warnings.warn(\"Variables are collinear\")\n"
     ]
    },
    {
     "name": "stdout",
     "output_type": "stream",
     "text": [
      "cv\n",
      "individual models\n"
     ]
    },
    {
     "name": "stderr",
     "output_type": "stream",
     "text": [
      "/home/wanlab/nick/.local/lib/python3.8/site-packages/sklearn/discriminant_analysis.py:935: UserWarning: Variables are collinear\n",
      "  warnings.warn(\"Variables are collinear\")\n"
     ]
    },
    {
     "name": "stdout",
     "output_type": "stream",
     "text": [
      "cv\n",
      "individual models\n"
     ]
    },
    {
     "name": "stderr",
     "output_type": "stream",
     "text": [
      "/home/wanlab/nick/.local/lib/python3.8/site-packages/sklearn/discriminant_analysis.py:935: UserWarning: Variables are collinear\n",
      "  warnings.warn(\"Variables are collinear\")\n"
     ]
    },
    {
     "name": "stdout",
     "output_type": "stream",
     "text": [
      "cv\n",
      "individual models\n"
     ]
    },
    {
     "name": "stderr",
     "output_type": "stream",
     "text": [
      "/home/wanlab/nick/.local/lib/python3.8/site-packages/sklearn/discriminant_analysis.py:935: UserWarning: Variables are collinear\n",
      "  warnings.warn(\"Variables are collinear\")\n"
     ]
    },
    {
     "name": "stdout",
     "output_type": "stream",
     "text": [
      "cv\n",
      "individual models\n"
     ]
    },
    {
     "name": "stderr",
     "output_type": "stream",
     "text": [
      "/home/wanlab/nick/.local/lib/python3.8/site-packages/sklearn/discriminant_analysis.py:935: UserWarning: Variables are collinear\n",
      "  warnings.warn(\"Variables are collinear\")\n"
     ]
    },
    {
     "name": "stdout",
     "output_type": "stream",
     "text": [
      "cv\n",
      "individual models\n"
     ]
    },
    {
     "name": "stderr",
     "output_type": "stream",
     "text": [
      "/home/wanlab/nick/.local/lib/python3.8/site-packages/sklearn/discriminant_analysis.py:935: UserWarning: Variables are collinear\n",
      "  warnings.warn(\"Variables are collinear\")\n"
     ]
    },
    {
     "name": "stdout",
     "output_type": "stream",
     "text": [
      "cv\n",
      "individual models\n"
     ]
    },
    {
     "name": "stderr",
     "output_type": "stream",
     "text": [
      "/home/wanlab/nick/.local/lib/python3.8/site-packages/sklearn/discriminant_analysis.py:935: UserWarning: Variables are collinear\n",
      "  warnings.warn(\"Variables are collinear\")\n"
     ]
    },
    {
     "name": "stdout",
     "output_type": "stream",
     "text": [
      "cv\n",
      "individual models\n"
     ]
    },
    {
     "name": "stderr",
     "output_type": "stream",
     "text": [
      "/home/wanlab/nick/.local/lib/python3.8/site-packages/sklearn/discriminant_analysis.py:935: UserWarning: Variables are collinear\n",
      "  warnings.warn(\"Variables are collinear\")\n"
     ]
    },
    {
     "name": "stdout",
     "output_type": "stream",
     "text": [
      "cv\n",
      "individual models\n"
     ]
    },
    {
     "name": "stderr",
     "output_type": "stream",
     "text": [
      "/home/wanlab/nick/.local/lib/python3.8/site-packages/sklearn/discriminant_analysis.py:935: UserWarning: Variables are collinear\n",
      "  warnings.warn(\"Variables are collinear\")\n"
     ]
    },
    {
     "name": "stdout",
     "output_type": "stream",
     "text": [
      "cv\n",
      "individual models\n"
     ]
    },
    {
     "name": "stderr",
     "output_type": "stream",
     "text": [
      "/home/wanlab/nick/.local/lib/python3.8/site-packages/sklearn/discriminant_analysis.py:935: UserWarning: Variables are collinear\n",
      "  warnings.warn(\"Variables are collinear\")\n"
     ]
    },
    {
     "name": "stdout",
     "output_type": "stream",
     "text": [
      "cv\n",
      "individual models\n"
     ]
    },
    {
     "name": "stderr",
     "output_type": "stream",
     "text": [
      "/home/wanlab/nick/.local/lib/python3.8/site-packages/sklearn/discriminant_analysis.py:935: UserWarning: Variables are collinear\n",
      "  warnings.warn(\"Variables are collinear\")\n"
     ]
    },
    {
     "name": "stdout",
     "output_type": "stream",
     "text": [
      "cv\n",
      "individual models\n"
     ]
    },
    {
     "name": "stderr",
     "output_type": "stream",
     "text": [
      "/home/wanlab/nick/.local/lib/python3.8/site-packages/sklearn/discriminant_analysis.py:935: UserWarning: Variables are collinear\n",
      "  warnings.warn(\"Variables are collinear\")\n"
     ]
    },
    {
     "name": "stdout",
     "output_type": "stream",
     "text": [
      "cv\n",
      "individual models\n"
     ]
    },
    {
     "name": "stderr",
     "output_type": "stream",
     "text": [
      "/home/wanlab/nick/.local/lib/python3.8/site-packages/sklearn/discriminant_analysis.py:935: UserWarning: Variables are collinear\n",
      "  warnings.warn(\"Variables are collinear\")\n"
     ]
    },
    {
     "name": "stdout",
     "output_type": "stream",
     "text": [
      "cv\n",
      "individual models\n"
     ]
    },
    {
     "name": "stderr",
     "output_type": "stream",
     "text": [
      "/home/wanlab/nick/.local/lib/python3.8/site-packages/sklearn/discriminant_analysis.py:935: UserWarning: Variables are collinear\n",
      "  warnings.warn(\"Variables are collinear\")\n"
     ]
    },
    {
     "name": "stdout",
     "output_type": "stream",
     "text": [
      "cv\n",
      "individual models\n"
     ]
    },
    {
     "name": "stderr",
     "output_type": "stream",
     "text": [
      "/home/wanlab/nick/.local/lib/python3.8/site-packages/sklearn/discriminant_analysis.py:935: UserWarning: Variables are collinear\n",
      "  warnings.warn(\"Variables are collinear\")\n"
     ]
    },
    {
     "name": "stdout",
     "output_type": "stream",
     "text": [
      "cv\n",
      "individual models\n"
     ]
    },
    {
     "name": "stderr",
     "output_type": "stream",
     "text": [
      "/home/wanlab/nick/.local/lib/python3.8/site-packages/sklearn/discriminant_analysis.py:935: UserWarning: Variables are collinear\n",
      "  warnings.warn(\"Variables are collinear\")\n"
     ]
    },
    {
     "name": "stdout",
     "output_type": "stream",
     "text": [
      "cv\n",
      "individual models\n"
     ]
    },
    {
     "name": "stderr",
     "output_type": "stream",
     "text": [
      "/home/wanlab/nick/.local/lib/python3.8/site-packages/sklearn/discriminant_analysis.py:935: UserWarning: Variables are collinear\n",
      "  warnings.warn(\"Variables are collinear\")\n"
     ]
    },
    {
     "name": "stdout",
     "output_type": "stream",
     "text": [
      "cv\n",
      "individual models\n"
     ]
    },
    {
     "name": "stderr",
     "output_type": "stream",
     "text": [
      "/home/wanlab/nick/.local/lib/python3.8/site-packages/sklearn/discriminant_analysis.py:935: UserWarning: Variables are collinear\n",
      "  warnings.warn(\"Variables are collinear\")\n"
     ]
    },
    {
     "name": "stdout",
     "output_type": "stream",
     "text": [
      "cv\n",
      "individual models\n"
     ]
    },
    {
     "name": "stderr",
     "output_type": "stream",
     "text": [
      "/home/wanlab/nick/.local/lib/python3.8/site-packages/sklearn/discriminant_analysis.py:935: UserWarning: Variables are collinear\n",
      "  warnings.warn(\"Variables are collinear\")\n"
     ]
    },
    {
     "name": "stdout",
     "output_type": "stream",
     "text": [
      "cv\n",
      "individual models\n"
     ]
    },
    {
     "name": "stderr",
     "output_type": "stream",
     "text": [
      "/home/wanlab/nick/.local/lib/python3.8/site-packages/sklearn/discriminant_analysis.py:935: UserWarning: Variables are collinear\n",
      "  warnings.warn(\"Variables are collinear\")\n"
     ]
    },
    {
     "name": "stdout",
     "output_type": "stream",
     "text": [
      "cv\n",
      "individual models\n"
     ]
    },
    {
     "name": "stderr",
     "output_type": "stream",
     "text": [
      "/home/wanlab/nick/.local/lib/python3.8/site-packages/sklearn/discriminant_analysis.py:935: UserWarning: Variables are collinear\n",
      "  warnings.warn(\"Variables are collinear\")\n"
     ]
    },
    {
     "name": "stdout",
     "output_type": "stream",
     "text": [
      "cv\n",
      "individual models\n"
     ]
    },
    {
     "name": "stderr",
     "output_type": "stream",
     "text": [
      "/home/wanlab/nick/.local/lib/python3.8/site-packages/sklearn/discriminant_analysis.py:935: UserWarning: Variables are collinear\n",
      "  warnings.warn(\"Variables are collinear\")\n"
     ]
    },
    {
     "name": "stdout",
     "output_type": "stream",
     "text": [
      "cv\n",
      "individual models\n"
     ]
    },
    {
     "name": "stderr",
     "output_type": "stream",
     "text": [
      "/home/wanlab/nick/.local/lib/python3.8/site-packages/sklearn/discriminant_analysis.py:935: UserWarning: Variables are collinear\n",
      "  warnings.warn(\"Variables are collinear\")\n"
     ]
    },
    {
     "name": "stdout",
     "output_type": "stream",
     "text": [
      "cv\n",
      "individual models\n"
     ]
    },
    {
     "name": "stderr",
     "output_type": "stream",
     "text": [
      "/home/wanlab/nick/.local/lib/python3.8/site-packages/sklearn/discriminant_analysis.py:935: UserWarning: Variables are collinear\n",
      "  warnings.warn(\"Variables are collinear\")\n"
     ]
    },
    {
     "name": "stdout",
     "output_type": "stream",
     "text": [
      "cv\n",
      "individual models\n"
     ]
    },
    {
     "name": "stderr",
     "output_type": "stream",
     "text": [
      "/home/wanlab/nick/.local/lib/python3.8/site-packages/sklearn/discriminant_analysis.py:935: UserWarning: Variables are collinear\n",
      "  warnings.warn(\"Variables are collinear\")\n"
     ]
    },
    {
     "name": "stdout",
     "output_type": "stream",
     "text": [
      "cv\n",
      "individual models\n"
     ]
    },
    {
     "name": "stderr",
     "output_type": "stream",
     "text": [
      "/home/wanlab/nick/.local/lib/python3.8/site-packages/sklearn/discriminant_analysis.py:935: UserWarning: Variables are collinear\n",
      "  warnings.warn(\"Variables are collinear\")\n"
     ]
    },
    {
     "name": "stdout",
     "output_type": "stream",
     "text": [
      "cv\n",
      "individual models\n"
     ]
    },
    {
     "name": "stderr",
     "output_type": "stream",
     "text": [
      "/home/wanlab/nick/.local/lib/python3.8/site-packages/sklearn/discriminant_analysis.py:935: UserWarning: Variables are collinear\n",
      "  warnings.warn(\"Variables are collinear\")\n"
     ]
    },
    {
     "name": "stdout",
     "output_type": "stream",
     "text": [
      "cv\n",
      "individual models\n"
     ]
    },
    {
     "name": "stderr",
     "output_type": "stream",
     "text": [
      "/home/wanlab/nick/.local/lib/python3.8/site-packages/sklearn/discriminant_analysis.py:935: UserWarning: Variables are collinear\n",
      "  warnings.warn(\"Variables are collinear\")\n"
     ]
    },
    {
     "name": "stdout",
     "output_type": "stream",
     "text": [
      "cv\n",
      "individual models\n"
     ]
    },
    {
     "name": "stderr",
     "output_type": "stream",
     "text": [
      "/home/wanlab/nick/.local/lib/python3.8/site-packages/sklearn/discriminant_analysis.py:935: UserWarning: Variables are collinear\n",
      "  warnings.warn(\"Variables are collinear\")\n"
     ]
    },
    {
     "name": "stdout",
     "output_type": "stream",
     "text": [
      "cv\n",
      "individual models\n"
     ]
    },
    {
     "name": "stderr",
     "output_type": "stream",
     "text": [
      "/home/wanlab/nick/.local/lib/python3.8/site-packages/sklearn/discriminant_analysis.py:935: UserWarning: Variables are collinear\n",
      "  warnings.warn(\"Variables are collinear\")\n"
     ]
    },
    {
     "name": "stdout",
     "output_type": "stream",
     "text": [
      "cv\n",
      "individual models\n"
     ]
    },
    {
     "name": "stderr",
     "output_type": "stream",
     "text": [
      "/home/wanlab/nick/.local/lib/python3.8/site-packages/sklearn/discriminant_analysis.py:935: UserWarning: Variables are collinear\n",
      "  warnings.warn(\"Variables are collinear\")\n"
     ]
    },
    {
     "name": "stdout",
     "output_type": "stream",
     "text": [
      "cv\n",
      "individual models\n"
     ]
    },
    {
     "name": "stderr",
     "output_type": "stream",
     "text": [
      "/home/wanlab/nick/.local/lib/python3.8/site-packages/sklearn/discriminant_analysis.py:935: UserWarning: Variables are collinear\n",
      "  warnings.warn(\"Variables are collinear\")\n"
     ]
    },
    {
     "name": "stdout",
     "output_type": "stream",
     "text": [
      "cv\n",
      "individual models\n"
     ]
    },
    {
     "name": "stderr",
     "output_type": "stream",
     "text": [
      "/home/wanlab/nick/.local/lib/python3.8/site-packages/sklearn/discriminant_analysis.py:935: UserWarning: Variables are collinear\n",
      "  warnings.warn(\"Variables are collinear\")\n"
     ]
    },
    {
     "name": "stdout",
     "output_type": "stream",
     "text": [
      "cv\n",
      "individual models\n"
     ]
    },
    {
     "name": "stderr",
     "output_type": "stream",
     "text": [
      "/home/wanlab/nick/.local/lib/python3.8/site-packages/sklearn/discriminant_analysis.py:935: UserWarning: Variables are collinear\n",
      "  warnings.warn(\"Variables are collinear\")\n"
     ]
    },
    {
     "name": "stdout",
     "output_type": "stream",
     "text": [
      "cv\n",
      "individual models\n"
     ]
    },
    {
     "name": "stderr",
     "output_type": "stream",
     "text": [
      "/home/wanlab/nick/.local/lib/python3.8/site-packages/sklearn/discriminant_analysis.py:935: UserWarning: Variables are collinear\n",
      "  warnings.warn(\"Variables are collinear\")\n"
     ]
    },
    {
     "name": "stdout",
     "output_type": "stream",
     "text": [
      "cv\n",
      "individual models\n"
     ]
    },
    {
     "name": "stderr",
     "output_type": "stream",
     "text": [
      "/home/wanlab/nick/.local/lib/python3.8/site-packages/sklearn/discriminant_analysis.py:935: UserWarning: Variables are collinear\n",
      "  warnings.warn(\"Variables are collinear\")\n"
     ]
    },
    {
     "name": "stdout",
     "output_type": "stream",
     "text": [
      "cv\n",
      "individual models\n"
     ]
    },
    {
     "name": "stderr",
     "output_type": "stream",
     "text": [
      "/home/wanlab/nick/.local/lib/python3.8/site-packages/sklearn/discriminant_analysis.py:935: UserWarning: Variables are collinear\n",
      "  warnings.warn(\"Variables are collinear\")\n"
     ]
    },
    {
     "name": "stdout",
     "output_type": "stream",
     "text": [
      "cv\n",
      "individual models\n"
     ]
    },
    {
     "name": "stderr",
     "output_type": "stream",
     "text": [
      "/home/wanlab/nick/.local/lib/python3.8/site-packages/sklearn/discriminant_analysis.py:935: UserWarning: Variables are collinear\n",
      "  warnings.warn(\"Variables are collinear\")\n"
     ]
    },
    {
     "name": "stdout",
     "output_type": "stream",
     "text": [
      "cv\n",
      "individual models\n"
     ]
    },
    {
     "name": "stderr",
     "output_type": "stream",
     "text": [
      "/home/wanlab/nick/.local/lib/python3.8/site-packages/sklearn/discriminant_analysis.py:935: UserWarning: Variables are collinear\n",
      "  warnings.warn(\"Variables are collinear\")\n"
     ]
    },
    {
     "name": "stdout",
     "output_type": "stream",
     "text": [
      "cv\n",
      "individual models\n"
     ]
    },
    {
     "name": "stderr",
     "output_type": "stream",
     "text": [
      "/home/wanlab/nick/.local/lib/python3.8/site-packages/sklearn/discriminant_analysis.py:935: UserWarning: Variables are collinear\n",
      "  warnings.warn(\"Variables are collinear\")\n"
     ]
    },
    {
     "name": "stdout",
     "output_type": "stream",
     "text": [
      "cv\n",
      "individual models\n"
     ]
    },
    {
     "name": "stderr",
     "output_type": "stream",
     "text": [
      "/home/wanlab/nick/.local/lib/python3.8/site-packages/sklearn/discriminant_analysis.py:935: UserWarning: Variables are collinear\n",
      "  warnings.warn(\"Variables are collinear\")\n"
     ]
    },
    {
     "name": "stdout",
     "output_type": "stream",
     "text": [
      "cv\n",
      "individual models\n"
     ]
    },
    {
     "name": "stderr",
     "output_type": "stream",
     "text": [
      "/home/wanlab/nick/.local/lib/python3.8/site-packages/sklearn/discriminant_analysis.py:935: UserWarning: Variables are collinear\n",
      "  warnings.warn(\"Variables are collinear\")\n"
     ]
    },
    {
     "name": "stdout",
     "output_type": "stream",
     "text": [
      "cv\n",
      "individual models\n"
     ]
    },
    {
     "name": "stderr",
     "output_type": "stream",
     "text": [
      "/home/wanlab/nick/.local/lib/python3.8/site-packages/sklearn/discriminant_analysis.py:935: UserWarning: Variables are collinear\n",
      "  warnings.warn(\"Variables are collinear\")\n"
     ]
    },
    {
     "name": "stdout",
     "output_type": "stream",
     "text": [
      "cv\n",
      "individual models\n"
     ]
    },
    {
     "name": "stderr",
     "output_type": "stream",
     "text": [
      "/home/wanlab/nick/.local/lib/python3.8/site-packages/sklearn/discriminant_analysis.py:935: UserWarning: Variables are collinear\n",
      "  warnings.warn(\"Variables are collinear\")\n"
     ]
    },
    {
     "name": "stdout",
     "output_type": "stream",
     "text": [
      "cv\n",
      "individual models\n"
     ]
    },
    {
     "name": "stderr",
     "output_type": "stream",
     "text": [
      "/home/wanlab/nick/.local/lib/python3.8/site-packages/sklearn/discriminant_analysis.py:935: UserWarning: Variables are collinear\n",
      "  warnings.warn(\"Variables are collinear\")\n"
     ]
    },
    {
     "name": "stdout",
     "output_type": "stream",
     "text": [
      "cv\n",
      "individual models\n"
     ]
    },
    {
     "name": "stderr",
     "output_type": "stream",
     "text": [
      "/home/wanlab/nick/.local/lib/python3.8/site-packages/sklearn/discriminant_analysis.py:935: UserWarning: Variables are collinear\n",
      "  warnings.warn(\"Variables are collinear\")\n"
     ]
    },
    {
     "name": "stdout",
     "output_type": "stream",
     "text": [
      "cv\n",
      "individual models\n"
     ]
    },
    {
     "name": "stderr",
     "output_type": "stream",
     "text": [
      "/home/wanlab/nick/.local/lib/python3.8/site-packages/sklearn/discriminant_analysis.py:935: UserWarning: Variables are collinear\n",
      "  warnings.warn(\"Variables are collinear\")\n"
     ]
    },
    {
     "name": "stdout",
     "output_type": "stream",
     "text": [
      "cv\n",
      "individual models\n"
     ]
    },
    {
     "name": "stderr",
     "output_type": "stream",
     "text": [
      "/home/wanlab/nick/.local/lib/python3.8/site-packages/sklearn/discriminant_analysis.py:935: UserWarning: Variables are collinear\n",
      "  warnings.warn(\"Variables are collinear\")\n"
     ]
    },
    {
     "name": "stdout",
     "output_type": "stream",
     "text": [
      "cv\n",
      "individual models\n"
     ]
    },
    {
     "name": "stderr",
     "output_type": "stream",
     "text": [
      "/home/wanlab/nick/.local/lib/python3.8/site-packages/sklearn/discriminant_analysis.py:935: UserWarning: Variables are collinear\n",
      "  warnings.warn(\"Variables are collinear\")\n"
     ]
    },
    {
     "name": "stdout",
     "output_type": "stream",
     "text": [
      "cv\n",
      "individual models\n"
     ]
    },
    {
     "name": "stderr",
     "output_type": "stream",
     "text": [
      "/home/wanlab/nick/.local/lib/python3.8/site-packages/sklearn/discriminant_analysis.py:935: UserWarning: Variables are collinear\n",
      "  warnings.warn(\"Variables are collinear\")\n"
     ]
    },
    {
     "name": "stdout",
     "output_type": "stream",
     "text": [
      "cv\n",
      "individual models\n"
     ]
    },
    {
     "name": "stderr",
     "output_type": "stream",
     "text": [
      "/home/wanlab/nick/.local/lib/python3.8/site-packages/sklearn/discriminant_analysis.py:935: UserWarning: Variables are collinear\n",
      "  warnings.warn(\"Variables are collinear\")\n"
     ]
    },
    {
     "name": "stdout",
     "output_type": "stream",
     "text": [
      "cv\n",
      "individual models\n"
     ]
    },
    {
     "name": "stderr",
     "output_type": "stream",
     "text": [
      "/home/wanlab/nick/.local/lib/python3.8/site-packages/sklearn/discriminant_analysis.py:935: UserWarning: Variables are collinear\n",
      "  warnings.warn(\"Variables are collinear\")\n"
     ]
    },
    {
     "name": "stdout",
     "output_type": "stream",
     "text": [
      "cv\n",
      "individual models\n"
     ]
    },
    {
     "name": "stderr",
     "output_type": "stream",
     "text": [
      "/home/wanlab/nick/.local/lib/python3.8/site-packages/sklearn/discriminant_analysis.py:935: UserWarning: Variables are collinear\n",
      "  warnings.warn(\"Variables are collinear\")\n"
     ]
    },
    {
     "name": "stdout",
     "output_type": "stream",
     "text": [
      "cv\n",
      "individual models\n"
     ]
    },
    {
     "name": "stderr",
     "output_type": "stream",
     "text": [
      "/home/wanlab/nick/.local/lib/python3.8/site-packages/sklearn/discriminant_analysis.py:935: UserWarning: Variables are collinear\n",
      "  warnings.warn(\"Variables are collinear\")\n"
     ]
    },
    {
     "name": "stdout",
     "output_type": "stream",
     "text": [
      "cv\n",
      "individual models\n"
     ]
    },
    {
     "name": "stderr",
     "output_type": "stream",
     "text": [
      "/home/wanlab/nick/.local/lib/python3.8/site-packages/sklearn/discriminant_analysis.py:935: UserWarning: Variables are collinear\n",
      "  warnings.warn(\"Variables are collinear\")\n"
     ]
    },
    {
     "name": "stdout",
     "output_type": "stream",
     "text": [
      "cv\n",
      "individual models\n"
     ]
    },
    {
     "name": "stderr",
     "output_type": "stream",
     "text": [
      "/home/wanlab/nick/.local/lib/python3.8/site-packages/sklearn/discriminant_analysis.py:935: UserWarning: Variables are collinear\n",
      "  warnings.warn(\"Variables are collinear\")\n"
     ]
    },
    {
     "name": "stdout",
     "output_type": "stream",
     "text": [
      "cv\n",
      "individual models\n"
     ]
    },
    {
     "name": "stderr",
     "output_type": "stream",
     "text": [
      "/home/wanlab/nick/.local/lib/python3.8/site-packages/sklearn/discriminant_analysis.py:935: UserWarning: Variables are collinear\n",
      "  warnings.warn(\"Variables are collinear\")\n"
     ]
    },
    {
     "name": "stdout",
     "output_type": "stream",
     "text": [
      "cv\n",
      "individual models\n"
     ]
    },
    {
     "name": "stderr",
     "output_type": "stream",
     "text": [
      "/home/wanlab/nick/.local/lib/python3.8/site-packages/sklearn/discriminant_analysis.py:935: UserWarning: Variables are collinear\n",
      "  warnings.warn(\"Variables are collinear\")\n"
     ]
    },
    {
     "name": "stdout",
     "output_type": "stream",
     "text": [
      "cv\n",
      "individual models\n"
     ]
    },
    {
     "name": "stderr",
     "output_type": "stream",
     "text": [
      "/home/wanlab/nick/.local/lib/python3.8/site-packages/sklearn/discriminant_analysis.py:935: UserWarning: Variables are collinear\n",
      "  warnings.warn(\"Variables are collinear\")\n"
     ]
    },
    {
     "name": "stdout",
     "output_type": "stream",
     "text": [
      "cv\n",
      "individual models\n"
     ]
    },
    {
     "name": "stderr",
     "output_type": "stream",
     "text": [
      "/home/wanlab/nick/.local/lib/python3.8/site-packages/sklearn/discriminant_analysis.py:935: UserWarning: Variables are collinear\n",
      "  warnings.warn(\"Variables are collinear\")\n"
     ]
    },
    {
     "name": "stdout",
     "output_type": "stream",
     "text": [
      "cv\n",
      "individual models\n"
     ]
    },
    {
     "name": "stderr",
     "output_type": "stream",
     "text": [
      "/home/wanlab/nick/.local/lib/python3.8/site-packages/sklearn/discriminant_analysis.py:935: UserWarning: Variables are collinear\n",
      "  warnings.warn(\"Variables are collinear\")\n"
     ]
    },
    {
     "name": "stdout",
     "output_type": "stream",
     "text": [
      "cv\n",
      "individual models\n"
     ]
    },
    {
     "name": "stderr",
     "output_type": "stream",
     "text": [
      "/home/wanlab/nick/.local/lib/python3.8/site-packages/sklearn/discriminant_analysis.py:935: UserWarning: Variables are collinear\n",
      "  warnings.warn(\"Variables are collinear\")\n"
     ]
    },
    {
     "name": "stdout",
     "output_type": "stream",
     "text": [
      "cv\n",
      "\n",
      "model score of oof results for SVC\n",
      "Model Accuracy: 0.8854166666666666\n",
      "Precision: 0.8919061302681993\n",
      "Recall (Sensitivity): 0.8854166666666666\n",
      "F1 Score: 0.8857101756473199\n",
      "Matthews Correlation Coefficient (MCC): 0.8472960378489632\n",
      "G-Measure: 0.922854990857229\n",
      "AUC: 0.9881307573979227\n",
      "Specificity: 0.9613969803670508\n",
      "Jaccard Index: 0.797150428580776\n",
      "Saving metrics to: /work/wanlab/nick//stackeval9/val_data/individual models/SVC/limma(0),metrics.csv\n",
      "PREDICTIONS                   subtype  Squamous      ADEX  Pancreatic Progenitor  \\\n",
      "0   Pancreatic Progenitor  0.123801  0.043076               0.798995   \n",
      "1                    ADEX  0.029669  0.902184               0.016707   \n",
      "2   Pancreatic Progenitor  0.254808  0.207487               0.501463   \n",
      "3   Pancreatic Progenitor  0.005286  0.078044               0.868099   \n",
      "4                    ADEX  0.112719  0.675705               0.189945   \n",
      "..                    ...       ...       ...                    ...   \n",
      "91            Immunogenic  0.006274  0.046906               0.006382   \n",
      "92                   ADEX  0.010075  0.786525               0.157589   \n",
      "93            Immunogenic  0.043831  0.035639               0.441532   \n",
      "94               Squamous  0.646339  0.061632               0.263024   \n",
      "95  Pancreatic Progenitor  0.001637  0.018027               0.874868   \n",
      "\n",
      "    Immunogenic  \n",
      "0      0.034128  \n",
      "1      0.051441  \n",
      "2      0.036242  \n",
      "3      0.048571  \n",
      "4      0.021631  \n",
      "..          ...  \n",
      "91     0.940437  \n",
      "92     0.045811  \n",
      "93     0.478998  \n",
      "94     0.029005  \n",
      "95     0.105468  \n",
      "\n",
      "[96 rows x 5 columns]\n",
      "\n",
      "model score of oof results for SVC2\n",
      "Model Accuracy: 0.9270833333333334\n",
      "Precision: 0.9282457295657727\n",
      "Recall (Sensitivity): 0.9270833333333334\n",
      "F1 Score: 0.927124353652804\n",
      "Matthews Correlation Coefficient (MCC): 0.9017909960019698\n",
      "G-Measure: 0.9519085598926197\n",
      "AUC: 0.9858713121532224\n",
      "Specificity: 0.9752147353819889\n",
      "Jaccard Index: 0.8669652957336781\n",
      "Saving metrics to: /work/wanlab/nick//stackeval9/val_data/individual models/SVC2/limma(0),metrics.csv\n",
      "PREDICTIONS                   subtype  Squamous      ADEX  Pancreatic Progenitor  \\\n",
      "0   Pancreatic Progenitor  0.186197  0.042772               0.732372   \n",
      "1                    ADEX  0.083454  0.809539               0.033095   \n",
      "2   Pancreatic Progenitor  0.309265  0.163840               0.490048   \n",
      "3   Pancreatic Progenitor  0.014372  0.090531               0.827674   \n",
      "4                    ADEX  0.247502  0.438872               0.280010   \n",
      "..                    ...       ...       ...                    ...   \n",
      "91            Immunogenic  0.017037  0.087744               0.012347   \n",
      "92                   ADEX  0.026416  0.780923               0.113782   \n",
      "93            Immunogenic  0.089966  0.026837               0.670659   \n",
      "94               Squamous  0.598757  0.027075               0.355787   \n",
      "95  Pancreatic Progenitor  0.003937  0.025435               0.751732   \n",
      "\n",
      "    Immunogenic  \n",
      "0      0.038659  \n",
      "1      0.073913  \n",
      "2      0.036848  \n",
      "3      0.067423  \n",
      "4      0.033616  \n",
      "..          ...  \n",
      "91     0.882871  \n",
      "92     0.078879  \n",
      "93     0.212537  \n",
      "94     0.018381  \n",
      "95     0.218896  \n",
      "\n",
      "[96 rows x 5 columns]\n",
      "\n",
      "model score of oof results for KNeighborsClassifier\n",
      "Model Accuracy: 0.8125\n",
      "Precision: 0.8199310816498316\n",
      "Recall (Sensitivity): 0.8125\n",
      "F1 Score: 0.8125190781440782\n",
      "Matthews Correlation Coefficient (MCC): 0.7460321678003263\n",
      "G-Measure: 0.8633985462943907\n",
      "AUC: 0.9584949683898847\n",
      "Specificity: 0.9348818288518993\n",
      "Jaccard Index: 0.6830932288025566\n",
      "Saving metrics to: /work/wanlab/nick//stackeval9/val_data/individual models/KNeighborsClassifier/limma(0),metrics.csv\n",
      "PREDICTIONS                   subtype  Squamous  ADEX  Pancreatic Progenitor  Immunogenic\n",
      "0   Pancreatic Progenitor       0.2   0.0                    0.8          0.0\n",
      "1                    ADEX       0.0   1.0                    0.0          0.0\n",
      "2   Pancreatic Progenitor       0.4   0.0                    0.6          0.0\n",
      "3   Pancreatic Progenitor       0.0   0.0                    1.0          0.0\n",
      "4                    ADEX       0.4   0.2                    0.4          0.0\n",
      "..                    ...       ...   ...                    ...          ...\n",
      "91            Immunogenic       0.0   0.0                    0.0          1.0\n",
      "92                   ADEX       0.0   0.6                    0.4          0.0\n",
      "93            Immunogenic       0.0   0.0                    0.4          0.6\n",
      "94               Squamous       0.4   0.0                    0.6          0.0\n",
      "95  Pancreatic Progenitor       0.0   0.0                    0.6          0.4\n",
      "\n",
      "[96 rows x 5 columns]\n",
      "\n",
      "model score of oof results for QuadraticDiscriminantAnalysis\n",
      "Model Accuracy: 0.8125\n",
      "Precision: 0.8422427398989898\n",
      "Recall (Sensitivity): 0.8125\n",
      "F1 Score: 0.8179834041462035\n",
      "Matthews Correlation Coefficient (MCC): 0.7565073022599094\n",
      "G-Measure: 0.8796245823209131\n",
      "AUC: 0.941972486751316\n",
      "Specificity: 0.9400474818608622\n",
      "Jaccard Index: 0.6841746794871795\n",
      "Saving metrics to: /work/wanlab/nick//stackeval9/val_data/individual models/QuadraticDiscriminantAnalysis/limma(0),metrics.csv\n",
      "PREDICTIONS                   subtype  Squamous           ADEX  Pancreatic Progenitor  \\\n",
      "0   Pancreatic Progenitor       0.0  2.272267e-213           1.000000e+00   \n",
      "1                    ADEX       0.0   1.000000e+00           0.000000e+00   \n",
      "2   Pancreatic Progenitor       0.0   9.016082e-32           1.000000e+00   \n",
      "3   Pancreatic Progenitor       0.0  1.316344e-112           1.000000e+00   \n",
      "4                    ADEX       0.0   1.000000e+00           0.000000e+00   \n",
      "..                    ...       ...            ...                    ...   \n",
      "91            Immunogenic       0.0   0.000000e+00           0.000000e+00   \n",
      "92                   ADEX       0.0   1.000000e+00          5.428026e-131   \n",
      "93            Immunogenic       0.0  1.185421e-146           0.000000e+00   \n",
      "94               Squamous       1.0  1.099996e-289           0.000000e+00   \n",
      "95  Pancreatic Progenitor       0.0   1.000000e+00           5.819005e-13   \n",
      "\n",
      "      Immunogenic  \n",
      "0   3.934384e-271  \n",
      "1    0.000000e+00  \n",
      "2    0.000000e+00  \n",
      "3   1.556498e-292  \n",
      "4    0.000000e+00  \n",
      "..            ...  \n",
      "91   1.000000e+00  \n",
      "92   0.000000e+00  \n",
      "93   1.000000e+00  \n",
      "94  2.681948e-147  \n",
      "95  2.710999e-166  \n",
      "\n",
      "[96 rows x 5 columns]\n",
      "运行时间为: 73.14 秒\n",
      "combining [[1.23801129e-001 4.30759759e-002 7.98995120e-001 ... 2.27226698e-213\n",
      "  1.00000000e+000 3.93438375e-271]\n",
      " [2.96685365e-002 9.02183919e-001 1.67065677e-002 ... 1.00000000e+000\n",
      "  0.00000000e+000 0.00000000e+000]\n",
      " [2.54807672e-001 2.07486990e-001 5.01463418e-001 ... 9.01608210e-032\n",
      "  1.00000000e+000 0.00000000e+000]\n",
      " ...\n",
      " [4.38313550e-002 3.56390652e-002 4.41531554e-001 ... 1.18542119e-146\n",
      "  0.00000000e+000 1.00000000e+000]\n",
      " [6.46339351e-001 6.16320657e-002 2.63023870e-001 ... 1.09999569e-289\n",
      "  0.00000000e+000 2.68194841e-147]\n",
      " [1.63681967e-003 1.80271343e-002 8.74867948e-001 ... 1.00000000e+000\n",
      "  5.81900495e-013 2.71099911e-166]] [[13.56018914 12.68466835 13.10243664 ...  9.53005478 11.16103308\n",
      "  11.24920229]\n",
      " [15.4259582  14.08525845 12.01110512 ...  9.45622747 11.12707631\n",
      "  11.78331935]\n",
      " [14.4756837  13.26517897 12.82291838 ...  9.65623065 11.33179862\n",
      "  11.68015036]\n",
      " ...\n",
      " [14.28976923 13.62192201 12.67277184 ...  9.32578912  9.67174085\n",
      "  11.45401981]\n",
      " [14.71684472 13.81278796 13.58508909 ... 10.31590684 12.7838795\n",
      "  11.90067493]\n",
      " [14.18823419 12.92657629 11.70868561 ...  9.88942006  9.76636631\n",
      "  12.84604452]]\n",
      "stacked\n",
      "cv\n",
      "stacked\n",
      "cv\n",
      "stacked\n",
      "cv\n",
      "stacked\n",
      "cv\n",
      "stacked\n",
      "cv\n",
      "stacked\n",
      "cv\n",
      "stacked\n",
      "cv\n",
      "stacked\n",
      "cv\n",
      "stacked\n",
      "cv\n",
      "stacked\n",
      "cv\n",
      "stacked\n",
      "cv\n",
      "stacked\n",
      "cv\n",
      "stacked\n",
      "cv\n",
      "stacked\n",
      "cv\n",
      "stacked\n",
      "cv\n",
      "stacked\n",
      "cv\n",
      "stacked\n",
      "cv\n",
      "stacked\n",
      "cv\n",
      "stacked\n",
      "cv\n",
      "stacked\n",
      "cv\n",
      "stacked\n",
      "cv\n",
      "stacked\n",
      "cv\n",
      "stacked\n",
      "cv\n",
      "stacked\n",
      "cv\n",
      "stacked\n",
      "cv\n",
      "stacked\n",
      "cv\n",
      "stacked\n",
      "cv\n",
      "stacked\n",
      "cv\n",
      "stacked\n",
      "cv\n",
      "stacked\n",
      "cv\n",
      "stacked\n",
      "cv\n",
      "stacked\n",
      "cv\n",
      "stacked\n",
      "cv\n",
      "stacked\n",
      "cv\n",
      "stacked\n",
      "cv\n",
      "stacked\n",
      "cv\n",
      "stacked\n",
      "cv\n",
      "stacked\n",
      "cv\n",
      "stacked\n",
      "cv\n",
      "stacked\n",
      "cv\n",
      "stacked\n",
      "cv\n",
      "stacked\n",
      "cv\n",
      "stacked\n",
      "cv\n",
      "stacked\n",
      "cv\n",
      "stacked\n",
      "cv\n",
      "stacked\n",
      "cv\n",
      "stacked\n",
      "cv\n",
      "stacked\n",
      "cv\n",
      "stacked\n",
      "cv\n",
      "stacked\n",
      "cv\n",
      "stacked\n",
      "cv\n",
      "stacked\n",
      "cv\n",
      "stacked\n",
      "cv\n",
      "stacked\n",
      "cv\n",
      "stacked\n",
      "cv\n",
      "stacked\n",
      "cv\n",
      "stacked\n",
      "cv\n",
      "stacked\n",
      "cv\n",
      "stacked\n",
      "cv\n",
      "stacked\n",
      "cv\n",
      "stacked\n",
      "cv\n",
      "stacked\n",
      "cv\n",
      "stacked\n",
      "cv\n",
      "stacked\n",
      "cv\n",
      "stacked\n",
      "cv\n",
      "stacked\n",
      "cv\n",
      "stacked\n",
      "cv\n",
      "stacked\n",
      "cv\n",
      "stacked\n",
      "cv\n",
      "stacked\n",
      "cv\n",
      "stacked\n",
      "cv\n",
      "stacked\n",
      "cv\n",
      "stacked\n",
      "cv\n",
      "stacked\n",
      "cv\n",
      "stacked\n",
      "cv\n",
      "stacked\n",
      "cv\n",
      "stacked\n",
      "cv\n",
      "stacked\n",
      "cv\n",
      "stacked\n",
      "cv\n",
      "stacked\n",
      "cv\n",
      "stacked\n",
      "cv\n",
      "stacked\n",
      "cv\n",
      "stacked\n",
      "cv\n",
      "stacked\n",
      "cv\n",
      "stacked\n",
      "cv\n",
      "stacked\n",
      "cv\n",
      "stacked\n",
      "cv\n",
      "stacked\n",
      "cv\n",
      "stacked\n",
      "cv\n",
      "stacked\n",
      "cv\n",
      "stacked\n",
      "cv\n",
      "stacked\n",
      "cv\n",
      "stacked\n",
      "cv\n",
      "stacked\n",
      "cv\n",
      "stacked\n",
      "cv\n",
      "stacked\n",
      "cv\n",
      "\n",
      "model score of oof results for MLPClassifier\n",
      "Model Accuracy: 0.625\n",
      "Precision: 0.6233974358974359\n",
      "Recall (Sensitivity): 0.625\n",
      "F1 Score: 0.6221381619297068\n",
      "Matthews Correlation Coefficient (MCC): 0.4918146809221432\n",
      "G-Measure: 0.7294490924817444\n",
      "AUC: 0.8464331919547589\n",
      "Specificity: 0.8722857981220657\n",
      "Jaccard Index: 0.4478513356562137\n",
      "Saving metrics to: /work/wanlab/nick//stackeval9/val_data/stacked/MLPClassifier/limma(0),metrics.csv\n",
      "PREDICTIONS                   subtype      Squamous          ADEX  Pancreatic Progenitor  \\\n",
      "0             Immunogenic  1.462602e-06  1.080969e-09           4.613570e-06   \n",
      "1                    ADEX  1.648519e-03  9.901817e-01           7.886705e-03   \n",
      "2   Pancreatic Progenitor  6.781507e-07  4.498296e-04           8.123620e-01   \n",
      "3   Pancreatic Progenitor  7.646319e-06  6.096791e-03           9.648123e-01   \n",
      "4   Pancreatic Progenitor  1.733678e-03  2.634136e-02           9.600160e-01   \n",
      "..                    ...           ...           ...                    ...   \n",
      "91                   ADEX  1.577283e-04  1.266326e-04           4.524581e-03   \n",
      "92               Squamous  9.999990e-01  1.721060e-09           6.862053e-07   \n",
      "93                   ADEX  5.829386e-04  9.860568e-01           1.325568e-02   \n",
      "94  Pancreatic Progenitor  2.819856e-06  3.166017e-01           6.312426e-01   \n",
      "95               Squamous  5.470651e-03  5.022895e-02           9.526657e-03   \n",
      "\n",
      "     Immunogenic  \n",
      "0   9.999939e-01  \n",
      "1   2.830586e-04  \n",
      "2   1.871875e-01  \n",
      "3   2.908323e-02  \n",
      "4   1.190899e-02  \n",
      "..           ...  \n",
      "91  9.951911e-01  \n",
      "92  2.840385e-07  \n",
      "93  1.045849e-04  \n",
      "94  5.215294e-02  \n",
      "95  9.347737e-01  \n",
      "\n",
      "[96 rows x 5 columns]\n",
      "\n",
      "model score of oof results for RandomForestClassifier\n",
      "Model Accuracy: 0.8333333333333334\n",
      "Precision: 0.8411852904040403\n",
      "Recall (Sensitivity): 0.8333333333333334\n",
      "F1 Score: 0.8305725909892576\n",
      "Matthews Correlation Coefficient (MCC): 0.7756041173078153\n",
      "G-Measure: 0.8696324014916567\n",
      "AUC: 0.9825544174135722\n",
      "Specificity: 0.941924082373026\n",
      "Jaccard Index: 0.699803832603822\n",
      "Saving metrics to: /work/wanlab/nick//stackeval9/val_data/stacked/RandomForestClassifier/limma(0),metrics.csv\n",
      "PREDICTIONS                   subtype  Squamous  ADEX  Pancreatic Progenitor  Immunogenic\n",
      "0             Immunogenic      0.09  0.04                   0.05         0.82\n",
      "1                    ADEX      0.16  0.34                   0.41         0.09\n",
      "2   Pancreatic Progenitor      0.01  0.07                   0.49         0.43\n",
      "3   Pancreatic Progenitor      0.03  0.18                   0.69         0.10\n",
      "4   Pancreatic Progenitor      0.11  0.14                   0.72         0.03\n",
      "..                    ...       ...   ...                    ...          ...\n",
      "91                   ADEX      0.05  0.34                   0.17         0.44\n",
      "92               Squamous      0.82  0.05                   0.07         0.06\n",
      "93                   ADEX      0.19  0.38                   0.34         0.09\n",
      "94  Pancreatic Progenitor      0.08  0.54                   0.27         0.11\n",
      "95               Squamous      0.40  0.21                   0.30         0.09\n",
      "\n",
      "[96 rows x 5 columns]\n",
      "\n",
      "model score of oof results for LogisticRegression2\n",
      "Model Accuracy: 0.90625\n",
      "Precision: 0.907241010904804\n",
      "Recall (Sensitivity): 0.90625\n",
      "F1 Score: 0.9063258253912099\n",
      "Matthews Correlation Coefficient (MCC): 0.8733101573111083\n",
      "G-Measure: 0.9352788514023854\n",
      "AUC: 0.987585527368758\n",
      "Specificity: 0.9681724818608621\n",
      "Jaccard Index: 0.8275341386554622\n",
      "Saving metrics to: /work/wanlab/nick//stackeval9/val_data/stacked/LogisticRegression2/limma(0),metrics.csv\n",
      "PREDICTIONS                   subtype      Squamous          ADEX  Pancreatic Progenitor  \\\n",
      "0             Immunogenic  3.604753e-09  9.920981e-10           2.276389e-10   \n",
      "1                    ADEX  1.175384e-04  8.843275e-01           1.143759e-01   \n",
      "2   Pancreatic Progenitor  4.388548e-09  4.646449e-06           9.879228e-01   \n",
      "3   Pancreatic Progenitor  8.453944e-06  7.683142e-03           9.914433e-01   \n",
      "4   Pancreatic Progenitor  4.439452e-05  5.550202e-04           9.994005e-01   \n",
      "..                    ...           ...           ...                    ...   \n",
      "91                   ADEX  3.296749e-07  9.375473e-01           2.272386e-02   \n",
      "92               Squamous  1.000000e+00  8.974857e-13           4.542691e-13   \n",
      "93                   ADEX  2.200507e-04  9.825278e-01           1.722456e-02   \n",
      "94  Pancreatic Progenitor  1.830727e-07  6.696094e-01           3.290931e-01   \n",
      "95               Squamous  6.511675e-01  3.268804e-01           2.193521e-02   \n",
      "\n",
      "     Immunogenic  \n",
      "0   1.000000e+00  \n",
      "1   1.178991e-03  \n",
      "2   1.207257e-02  \n",
      "3   8.650611e-04  \n",
      "4   9.406943e-08  \n",
      "..           ...  \n",
      "91  3.972846e-02  \n",
      "92  5.408755e-09  \n",
      "93  2.757903e-05  \n",
      "94  1.297263e-03  \n",
      "95  1.692037e-05  \n",
      "\n",
      "[96 rows x 5 columns]\n",
      "\n",
      "model score of oof results for GaussianNB2\n",
      "Model Accuracy: 0.8020833333333334\n",
      "Precision: 0.8052083333333333\n",
      "Recall (Sensitivity): 0.8020833333333334\n",
      "F1 Score: 0.7957459207459207\n",
      "Matthews Correlation Coefficient (MCC): 0.7328533310202527\n",
      "G-Measure: 0.840122464833061\n",
      "AUC: 0.9147944008749467\n",
      "Specificity: 0.9314900768245838\n",
      "Jaccard Index: 0.6462569997052756\n",
      "Saving metrics to: /work/wanlab/nick//stackeval9/val_data/stacked/GaussianNB2/limma(0),metrics.csv\n",
      "PREDICTIONS                   subtype  Squamous          ADEX  Pancreatic Progenitor  \\\n",
      "0             Immunogenic       0.0  0.000000e+00           0.000000e+00   \n",
      "1                    ADEX       0.0  1.000000e+00           0.000000e+00   \n",
      "2   Pancreatic Progenitor       0.0  0.000000e+00           1.000000e+00   \n",
      "3   Pancreatic Progenitor       0.0  0.000000e+00           1.000000e+00   \n",
      "4   Pancreatic Progenitor       0.0  0.000000e+00           1.000000e+00   \n",
      "..                    ...       ...           ...                    ...   \n",
      "91                   ADEX       0.0  0.000000e+00          6.195933e-128   \n",
      "92               Squamous       1.0  0.000000e+00           0.000000e+00   \n",
      "93                   ADEX       0.0  2.644638e-60           1.000000e+00   \n",
      "94  Pancreatic Progenitor       0.0  1.000000e+00           1.850785e-58   \n",
      "95               Squamous       0.0  1.000000e+00          2.573242e-169   \n",
      "\n",
      "    Immunogenic  \n",
      "0           1.0  \n",
      "1           0.0  \n",
      "2           0.0  \n",
      "3           0.0  \n",
      "4           0.0  \n",
      "..          ...  \n",
      "91          1.0  \n",
      "92          0.0  \n",
      "93          0.0  \n",
      "94          0.0  \n",
      "95          0.0  \n",
      "\n",
      "[96 rows x 5 columns]\n",
      "\n",
      "model score of oof results for SVC3\n",
      "Model Accuracy: 0.8854166666666666\n",
      "Precision: 0.8899869420702754\n",
      "Recall (Sensitivity): 0.8854166666666666\n",
      "F1 Score: 0.88558836996337\n",
      "Matthews Correlation Coefficient (MCC): 0.8468764996745479\n",
      "G-Measure: 0.9232245446642893\n",
      "AUC: 0.9886759874270877\n",
      "Specificity: 0.9617931071276141\n",
      "Jaccard Index: 0.7936763952892986\n",
      "Saving metrics to: /work/wanlab/nick//stackeval9/val_data/stacked/SVC3/limma(0),metrics.csv\n",
      "PREDICTIONS                   subtype  Squamous      ADEX  Pancreatic Progenitor  \\\n",
      "0             Immunogenic  0.003691  0.001671               0.000874   \n",
      "1                    ADEX  0.017087  0.876765               0.082789   \n",
      "2   Pancreatic Progenitor  0.002509  0.024247               0.801938   \n",
      "3   Pancreatic Progenitor  0.007213  0.064579               0.883537   \n",
      "4   Pancreatic Progenitor  0.031247  0.059055               0.904693   \n",
      "..                    ...       ...       ...                    ...   \n",
      "91                   ADEX  0.005956  0.722646               0.076526   \n",
      "92               Squamous  0.994473  0.000963               0.000186   \n",
      "93                   ADEX  0.084538  0.668679               0.216460   \n",
      "94  Pancreatic Progenitor  0.004236  0.728878               0.238201   \n",
      "95               Squamous  0.376292  0.407865               0.199061   \n",
      "\n",
      "    Immunogenic  \n",
      "0      0.993764  \n",
      "1      0.023359  \n",
      "2      0.171307  \n",
      "3      0.044671  \n",
      "4      0.005005  \n",
      "..          ...  \n",
      "91     0.194872  \n",
      "92     0.004378  \n",
      "93     0.030324  \n",
      "94     0.028685  \n",
      "95     0.016782  \n",
      "\n",
      "[96 rows x 5 columns]\n",
      "\n",
      "model score of oof results for SVC4\n",
      "Model Accuracy: 0.9375\n",
      "Precision: 0.9378672542735043\n",
      "Recall (Sensitivity): 0.9375\n",
      "F1 Score: 0.9374874949979993\n",
      "Matthews Correlation Coefficient (MCC): 0.9155529545059609\n",
      "G-Measure: 0.9579504330083998\n",
      "AUC: 0.9848497074619433\n",
      "Specificity: 0.9787358621425523\n",
      "Jaccard Index: 0.882714303670186\n",
      "Saving metrics to: /work/wanlab/nick//stackeval9/val_data/stacked/SVC4/limma(0),metrics.csv\n",
      "PREDICTIONS                   subtype  Squamous      ADEX  Pancreatic Progenitor  \\\n",
      "0             Immunogenic  0.001874  0.001204               0.000695   \n",
      "1                    ADEX  0.042276  0.588364               0.326133   \n",
      "2   Pancreatic Progenitor  0.003626  0.025621               0.785364   \n",
      "3   Pancreatic Progenitor  0.013458  0.075850               0.866755   \n",
      "4   Pancreatic Progenitor  0.043643  0.067180               0.882145   \n",
      "..                    ...       ...       ...                    ...   \n",
      "91                   ADEX  0.012910  0.686565               0.121216   \n",
      "92               Squamous  0.995217  0.000078               0.000142   \n",
      "93                   ADEX  0.048569  0.762060               0.153178   \n",
      "94  Pancreatic Progenitor  0.008421  0.694930               0.255383   \n",
      "95               Squamous  0.419000  0.372984               0.180179   \n",
      "\n",
      "    Immunogenic  \n",
      "0      0.996227  \n",
      "1      0.043227  \n",
      "2      0.185389  \n",
      "3      0.043937  \n",
      "4      0.007032  \n",
      "..          ...  \n",
      "91     0.179309  \n",
      "92     0.004563  \n",
      "93     0.036193  \n",
      "94     0.041266  \n",
      "95     0.027836  \n",
      "\n",
      "[96 rows x 5 columns]\n",
      "run 10\n",
      "Model Pair: SVC + LogisticRegression + GaussianNB + XGBClassifier\n",
      "USEDmodelnames ['SVC', 'LogisticRegression', 'GaussianNB', 'XGBClassifier']\n",
      "Running with: SVC and LogisticRegression and GaussianNB and XGBClassifier\n",
      "Random state: 0\n",
      "['SVC', 'LogisticRegression', 'GaussianNB', 'XGBClassifier']\n",
      "individual models\n"
     ]
    },
    {
     "name": "stderr",
     "output_type": "stream",
     "text": [
      "/home/wanlab/nick/.local/lib/python3.8/site-packages/xgboost/core.py:158: UserWarning: [12:50:22] WARNING: /workspace/src/learner.cc:740: \n",
      "Parameters: { \"use_label_encoder\" } are not used.\n",
      "\n",
      "  warnings.warn(smsg, UserWarning)\n"
     ]
    },
    {
     "name": "stdout",
     "output_type": "stream",
     "text": [
      "cv\n",
      "individual models\n"
     ]
    },
    {
     "name": "stderr",
     "output_type": "stream",
     "text": [
      "/home/wanlab/nick/.local/lib/python3.8/site-packages/xgboost/core.py:158: UserWarning: [12:50:38] WARNING: /workspace/src/learner.cc:740: \n",
      "Parameters: { \"use_label_encoder\" } are not used.\n",
      "\n",
      "  warnings.warn(smsg, UserWarning)\n"
     ]
    },
    {
     "name": "stdout",
     "output_type": "stream",
     "text": [
      "cv\n",
      "individual models\n"
     ]
    },
    {
     "name": "stderr",
     "output_type": "stream",
     "text": [
      "/home/wanlab/nick/.local/lib/python3.8/site-packages/xgboost/core.py:158: UserWarning: [12:50:52] WARNING: /workspace/src/learner.cc:740: \n",
      "Parameters: { \"use_label_encoder\" } are not used.\n",
      "\n",
      "  warnings.warn(smsg, UserWarning)\n"
     ]
    },
    {
     "name": "stdout",
     "output_type": "stream",
     "text": [
      "cv\n",
      "individual models\n"
     ]
    },
    {
     "name": "stderr",
     "output_type": "stream",
     "text": [
      "/home/wanlab/nick/.local/lib/python3.8/site-packages/xgboost/core.py:158: UserWarning: [12:51:06] WARNING: /workspace/src/learner.cc:740: \n",
      "Parameters: { \"use_label_encoder\" } are not used.\n",
      "\n",
      "  warnings.warn(smsg, UserWarning)\n"
     ]
    },
    {
     "name": "stdout",
     "output_type": "stream",
     "text": [
      "cv\n",
      "individual models\n"
     ]
    },
    {
     "name": "stderr",
     "output_type": "stream",
     "text": [
      "/home/wanlab/nick/.local/lib/python3.8/site-packages/xgboost/core.py:158: UserWarning: [12:51:18] WARNING: /workspace/src/learner.cc:740: \n",
      "Parameters: { \"use_label_encoder\" } are not used.\n",
      "\n",
      "  warnings.warn(smsg, UserWarning)\n"
     ]
    },
    {
     "name": "stdout",
     "output_type": "stream",
     "text": [
      "cv\n",
      "individual models\n"
     ]
    },
    {
     "name": "stderr",
     "output_type": "stream",
     "text": [
      "/home/wanlab/nick/.local/lib/python3.8/site-packages/xgboost/core.py:158: UserWarning: [12:51:31] WARNING: /workspace/src/learner.cc:740: \n",
      "Parameters: { \"use_label_encoder\" } are not used.\n",
      "\n",
      "  warnings.warn(smsg, UserWarning)\n"
     ]
    },
    {
     "name": "stdout",
     "output_type": "stream",
     "text": [
      "cv\n",
      "individual models\n"
     ]
    },
    {
     "name": "stderr",
     "output_type": "stream",
     "text": [
      "/home/wanlab/nick/.local/lib/python3.8/site-packages/xgboost/core.py:158: UserWarning: [12:51:43] WARNING: /workspace/src/learner.cc:740: \n",
      "Parameters: { \"use_label_encoder\" } are not used.\n",
      "\n",
      "  warnings.warn(smsg, UserWarning)\n"
     ]
    },
    {
     "name": "stdout",
     "output_type": "stream",
     "text": [
      "cv\n",
      "individual models\n"
     ]
    },
    {
     "name": "stderr",
     "output_type": "stream",
     "text": [
      "/home/wanlab/nick/.local/lib/python3.8/site-packages/xgboost/core.py:158: UserWarning: [12:51:56] WARNING: /workspace/src/learner.cc:740: \n",
      "Parameters: { \"use_label_encoder\" } are not used.\n",
      "\n",
      "  warnings.warn(smsg, UserWarning)\n"
     ]
    },
    {
     "name": "stdout",
     "output_type": "stream",
     "text": [
      "cv\n",
      "individual models\n"
     ]
    },
    {
     "name": "stderr",
     "output_type": "stream",
     "text": [
      "/home/wanlab/nick/.local/lib/python3.8/site-packages/xgboost/core.py:158: UserWarning: [12:52:09] WARNING: /workspace/src/learner.cc:740: \n",
      "Parameters: { \"use_label_encoder\" } are not used.\n",
      "\n",
      "  warnings.warn(smsg, UserWarning)\n"
     ]
    },
    {
     "name": "stdout",
     "output_type": "stream",
     "text": [
      "cv\n",
      "individual models\n"
     ]
    },
    {
     "name": "stderr",
     "output_type": "stream",
     "text": [
      "/home/wanlab/nick/.local/lib/python3.8/site-packages/xgboost/core.py:158: UserWarning: [12:52:22] WARNING: /workspace/src/learner.cc:740: \n",
      "Parameters: { \"use_label_encoder\" } are not used.\n",
      "\n",
      "  warnings.warn(smsg, UserWarning)\n"
     ]
    },
    {
     "name": "stdout",
     "output_type": "stream",
     "text": [
      "cv\n",
      "individual models\n"
     ]
    },
    {
     "name": "stderr",
     "output_type": "stream",
     "text": [
      "/home/wanlab/nick/.local/lib/python3.8/site-packages/xgboost/core.py:158: UserWarning: [12:52:35] WARNING: /workspace/src/learner.cc:740: \n",
      "Parameters: { \"use_label_encoder\" } are not used.\n",
      "\n",
      "  warnings.warn(smsg, UserWarning)\n"
     ]
    },
    {
     "name": "stdout",
     "output_type": "stream",
     "text": [
      "cv\n",
      "individual models\n"
     ]
    },
    {
     "name": "stderr",
     "output_type": "stream",
     "text": [
      "/home/wanlab/nick/.local/lib/python3.8/site-packages/xgboost/core.py:158: UserWarning: [12:52:49] WARNING: /workspace/src/learner.cc:740: \n",
      "Parameters: { \"use_label_encoder\" } are not used.\n",
      "\n",
      "  warnings.warn(smsg, UserWarning)\n"
     ]
    },
    {
     "name": "stdout",
     "output_type": "stream",
     "text": [
      "cv\n",
      "individual models\n"
     ]
    },
    {
     "name": "stderr",
     "output_type": "stream",
     "text": [
      "/home/wanlab/nick/.local/lib/python3.8/site-packages/xgboost/core.py:158: UserWarning: [12:53:02] WARNING: /workspace/src/learner.cc:740: \n",
      "Parameters: { \"use_label_encoder\" } are not used.\n",
      "\n",
      "  warnings.warn(smsg, UserWarning)\n"
     ]
    },
    {
     "name": "stdout",
     "output_type": "stream",
     "text": [
      "cv\n",
      "individual models\n"
     ]
    },
    {
     "name": "stderr",
     "output_type": "stream",
     "text": [
      "/home/wanlab/nick/.local/lib/python3.8/site-packages/xgboost/core.py:158: UserWarning: [12:53:16] WARNING: /workspace/src/learner.cc:740: \n",
      "Parameters: { \"use_label_encoder\" } are not used.\n",
      "\n",
      "  warnings.warn(smsg, UserWarning)\n"
     ]
    },
    {
     "name": "stdout",
     "output_type": "stream",
     "text": [
      "cv\n",
      "individual models\n"
     ]
    },
    {
     "name": "stderr",
     "output_type": "stream",
     "text": [
      "/home/wanlab/nick/.local/lib/python3.8/site-packages/xgboost/core.py:158: UserWarning: [12:53:29] WARNING: /workspace/src/learner.cc:740: \n",
      "Parameters: { \"use_label_encoder\" } are not used.\n",
      "\n",
      "  warnings.warn(smsg, UserWarning)\n"
     ]
    },
    {
     "name": "stdout",
     "output_type": "stream",
     "text": [
      "cv\n",
      "individual models\n"
     ]
    },
    {
     "name": "stderr",
     "output_type": "stream",
     "text": [
      "/home/wanlab/nick/.local/lib/python3.8/site-packages/xgboost/core.py:158: UserWarning: [12:53:42] WARNING: /workspace/src/learner.cc:740: \n",
      "Parameters: { \"use_label_encoder\" } are not used.\n",
      "\n",
      "  warnings.warn(smsg, UserWarning)\n"
     ]
    },
    {
     "name": "stdout",
     "output_type": "stream",
     "text": [
      "cv\n",
      "individual models\n"
     ]
    },
    {
     "name": "stderr",
     "output_type": "stream",
     "text": [
      "/home/wanlab/nick/.local/lib/python3.8/site-packages/xgboost/core.py:158: UserWarning: [12:53:56] WARNING: /workspace/src/learner.cc:740: \n",
      "Parameters: { \"use_label_encoder\" } are not used.\n",
      "\n",
      "  warnings.warn(smsg, UserWarning)\n"
     ]
    },
    {
     "name": "stdout",
     "output_type": "stream",
     "text": [
      "cv\n",
      "individual models\n"
     ]
    },
    {
     "name": "stderr",
     "output_type": "stream",
     "text": [
      "/home/wanlab/nick/.local/lib/python3.8/site-packages/xgboost/core.py:158: UserWarning: [12:54:09] WARNING: /workspace/src/learner.cc:740: \n",
      "Parameters: { \"use_label_encoder\" } are not used.\n",
      "\n",
      "  warnings.warn(smsg, UserWarning)\n"
     ]
    },
    {
     "name": "stdout",
     "output_type": "stream",
     "text": [
      "cv\n",
      "individual models\n"
     ]
    },
    {
     "name": "stderr",
     "output_type": "stream",
     "text": [
      "/home/wanlab/nick/.local/lib/python3.8/site-packages/xgboost/core.py:158: UserWarning: [12:54:23] WARNING: /workspace/src/learner.cc:740: \n",
      "Parameters: { \"use_label_encoder\" } are not used.\n",
      "\n",
      "  warnings.warn(smsg, UserWarning)\n"
     ]
    },
    {
     "name": "stdout",
     "output_type": "stream",
     "text": [
      "cv\n",
      "individual models\n"
     ]
    },
    {
     "name": "stderr",
     "output_type": "stream",
     "text": [
      "/home/wanlab/nick/.local/lib/python3.8/site-packages/xgboost/core.py:158: UserWarning: [12:54:38] WARNING: /workspace/src/learner.cc:740: \n",
      "Parameters: { \"use_label_encoder\" } are not used.\n",
      "\n",
      "  warnings.warn(smsg, UserWarning)\n"
     ]
    },
    {
     "name": "stdout",
     "output_type": "stream",
     "text": [
      "cv\n",
      "individual models\n"
     ]
    },
    {
     "name": "stderr",
     "output_type": "stream",
     "text": [
      "/home/wanlab/nick/.local/lib/python3.8/site-packages/xgboost/core.py:158: UserWarning: [12:54:51] WARNING: /workspace/src/learner.cc:740: \n",
      "Parameters: { \"use_label_encoder\" } are not used.\n",
      "\n",
      "  warnings.warn(smsg, UserWarning)\n"
     ]
    },
    {
     "name": "stdout",
     "output_type": "stream",
     "text": [
      "cv\n",
      "individual models\n"
     ]
    },
    {
     "name": "stderr",
     "output_type": "stream",
     "text": [
      "/home/wanlab/nick/.local/lib/python3.8/site-packages/xgboost/core.py:158: UserWarning: [12:55:04] WARNING: /workspace/src/learner.cc:740: \n",
      "Parameters: { \"use_label_encoder\" } are not used.\n",
      "\n",
      "  warnings.warn(smsg, UserWarning)\n"
     ]
    },
    {
     "name": "stdout",
     "output_type": "stream",
     "text": [
      "cv\n",
      "individual models\n"
     ]
    },
    {
     "name": "stderr",
     "output_type": "stream",
     "text": [
      "/home/wanlab/nick/.local/lib/python3.8/site-packages/xgboost/core.py:158: UserWarning: [12:55:17] WARNING: /workspace/src/learner.cc:740: \n",
      "Parameters: { \"use_label_encoder\" } are not used.\n",
      "\n",
      "  warnings.warn(smsg, UserWarning)\n"
     ]
    },
    {
     "name": "stdout",
     "output_type": "stream",
     "text": [
      "cv\n",
      "individual models\n"
     ]
    },
    {
     "name": "stderr",
     "output_type": "stream",
     "text": [
      "/home/wanlab/nick/.local/lib/python3.8/site-packages/xgboost/core.py:158: UserWarning: [12:55:31] WARNING: /workspace/src/learner.cc:740: \n",
      "Parameters: { \"use_label_encoder\" } are not used.\n",
      "\n",
      "  warnings.warn(smsg, UserWarning)\n"
     ]
    },
    {
     "name": "stdout",
     "output_type": "stream",
     "text": [
      "cv\n",
      "individual models\n"
     ]
    },
    {
     "name": "stderr",
     "output_type": "stream",
     "text": [
      "/home/wanlab/nick/.local/lib/python3.8/site-packages/xgboost/core.py:158: UserWarning: [12:55:43] WARNING: /workspace/src/learner.cc:740: \n",
      "Parameters: { \"use_label_encoder\" } are not used.\n",
      "\n",
      "  warnings.warn(smsg, UserWarning)\n"
     ]
    },
    {
     "name": "stdout",
     "output_type": "stream",
     "text": [
      "cv\n",
      "individual models\n"
     ]
    },
    {
     "name": "stderr",
     "output_type": "stream",
     "text": [
      "/home/wanlab/nick/.local/lib/python3.8/site-packages/xgboost/core.py:158: UserWarning: [12:55:57] WARNING: /workspace/src/learner.cc:740: \n",
      "Parameters: { \"use_label_encoder\" } are not used.\n",
      "\n",
      "  warnings.warn(smsg, UserWarning)\n"
     ]
    },
    {
     "name": "stdout",
     "output_type": "stream",
     "text": [
      "cv\n",
      "individual models\n"
     ]
    },
    {
     "name": "stderr",
     "output_type": "stream",
     "text": [
      "/home/wanlab/nick/.local/lib/python3.8/site-packages/xgboost/core.py:158: UserWarning: [12:56:11] WARNING: /workspace/src/learner.cc:740: \n",
      "Parameters: { \"use_label_encoder\" } are not used.\n",
      "\n",
      "  warnings.warn(smsg, UserWarning)\n"
     ]
    },
    {
     "name": "stdout",
     "output_type": "stream",
     "text": [
      "cv\n",
      "individual models\n"
     ]
    },
    {
     "name": "stderr",
     "output_type": "stream",
     "text": [
      "/home/wanlab/nick/.local/lib/python3.8/site-packages/xgboost/core.py:158: UserWarning: [12:56:24] WARNING: /workspace/src/learner.cc:740: \n",
      "Parameters: { \"use_label_encoder\" } are not used.\n",
      "\n",
      "  warnings.warn(smsg, UserWarning)\n"
     ]
    },
    {
     "name": "stdout",
     "output_type": "stream",
     "text": [
      "cv\n",
      "individual models\n"
     ]
    },
    {
     "name": "stderr",
     "output_type": "stream",
     "text": [
      "/home/wanlab/nick/.local/lib/python3.8/site-packages/xgboost/core.py:158: UserWarning: [12:56:37] WARNING: /workspace/src/learner.cc:740: \n",
      "Parameters: { \"use_label_encoder\" } are not used.\n",
      "\n",
      "  warnings.warn(smsg, UserWarning)\n"
     ]
    },
    {
     "name": "stdout",
     "output_type": "stream",
     "text": [
      "cv\n",
      "individual models\n"
     ]
    },
    {
     "name": "stderr",
     "output_type": "stream",
     "text": [
      "/home/wanlab/nick/.local/lib/python3.8/site-packages/xgboost/core.py:158: UserWarning: [12:56:52] WARNING: /workspace/src/learner.cc:740: \n",
      "Parameters: { \"use_label_encoder\" } are not used.\n",
      "\n",
      "  warnings.warn(smsg, UserWarning)\n"
     ]
    },
    {
     "name": "stdout",
     "output_type": "stream",
     "text": [
      "cv\n",
      "individual models\n"
     ]
    },
    {
     "name": "stderr",
     "output_type": "stream",
     "text": [
      "/home/wanlab/nick/.local/lib/python3.8/site-packages/xgboost/core.py:158: UserWarning: [12:57:05] WARNING: /workspace/src/learner.cc:740: \n",
      "Parameters: { \"use_label_encoder\" } are not used.\n",
      "\n",
      "  warnings.warn(smsg, UserWarning)\n"
     ]
    },
    {
     "name": "stdout",
     "output_type": "stream",
     "text": [
      "cv\n",
      "individual models\n"
     ]
    },
    {
     "name": "stderr",
     "output_type": "stream",
     "text": [
      "/home/wanlab/nick/.local/lib/python3.8/site-packages/xgboost/core.py:158: UserWarning: [12:57:19] WARNING: /workspace/src/learner.cc:740: \n",
      "Parameters: { \"use_label_encoder\" } are not used.\n",
      "\n",
      "  warnings.warn(smsg, UserWarning)\n"
     ]
    },
    {
     "name": "stdout",
     "output_type": "stream",
     "text": [
      "cv\n",
      "individual models\n"
     ]
    },
    {
     "name": "stderr",
     "output_type": "stream",
     "text": [
      "/home/wanlab/nick/.local/lib/python3.8/site-packages/xgboost/core.py:158: UserWarning: [12:57:32] WARNING: /workspace/src/learner.cc:740: \n",
      "Parameters: { \"use_label_encoder\" } are not used.\n",
      "\n",
      "  warnings.warn(smsg, UserWarning)\n"
     ]
    },
    {
     "name": "stdout",
     "output_type": "stream",
     "text": [
      "cv\n",
      "individual models\n"
     ]
    },
    {
     "name": "stderr",
     "output_type": "stream",
     "text": [
      "/home/wanlab/nick/.local/lib/python3.8/site-packages/xgboost/core.py:158: UserWarning: [12:57:48] WARNING: /workspace/src/learner.cc:740: \n",
      "Parameters: { \"use_label_encoder\" } are not used.\n",
      "\n",
      "  warnings.warn(smsg, UserWarning)\n"
     ]
    },
    {
     "name": "stdout",
     "output_type": "stream",
     "text": [
      "cv\n",
      "individual models\n"
     ]
    },
    {
     "name": "stderr",
     "output_type": "stream",
     "text": [
      "/home/wanlab/nick/.local/lib/python3.8/site-packages/xgboost/core.py:158: UserWarning: [12:58:03] WARNING: /workspace/src/learner.cc:740: \n",
      "Parameters: { \"use_label_encoder\" } are not used.\n",
      "\n",
      "  warnings.warn(smsg, UserWarning)\n"
     ]
    },
    {
     "name": "stdout",
     "output_type": "stream",
     "text": [
      "cv\n",
      "individual models\n"
     ]
    },
    {
     "name": "stderr",
     "output_type": "stream",
     "text": [
      "/home/wanlab/nick/.local/lib/python3.8/site-packages/xgboost/core.py:158: UserWarning: [12:58:21] WARNING: /workspace/src/learner.cc:740: \n",
      "Parameters: { \"use_label_encoder\" } are not used.\n",
      "\n",
      "  warnings.warn(smsg, UserWarning)\n"
     ]
    },
    {
     "name": "stdout",
     "output_type": "stream",
     "text": [
      "cv\n",
      "individual models\n"
     ]
    },
    {
     "name": "stderr",
     "output_type": "stream",
     "text": [
      "/home/wanlab/nick/.local/lib/python3.8/site-packages/xgboost/core.py:158: UserWarning: [12:58:36] WARNING: /workspace/src/learner.cc:740: \n",
      "Parameters: { \"use_label_encoder\" } are not used.\n",
      "\n",
      "  warnings.warn(smsg, UserWarning)\n"
     ]
    },
    {
     "name": "stdout",
     "output_type": "stream",
     "text": [
      "cv\n",
      "individual models\n"
     ]
    },
    {
     "name": "stderr",
     "output_type": "stream",
     "text": [
      "/home/wanlab/nick/.local/lib/python3.8/site-packages/xgboost/core.py:158: UserWarning: [12:58:50] WARNING: /workspace/src/learner.cc:740: \n",
      "Parameters: { \"use_label_encoder\" } are not used.\n",
      "\n",
      "  warnings.warn(smsg, UserWarning)\n"
     ]
    },
    {
     "name": "stdout",
     "output_type": "stream",
     "text": [
      "cv\n",
      "individual models\n"
     ]
    },
    {
     "name": "stderr",
     "output_type": "stream",
     "text": [
      "/home/wanlab/nick/.local/lib/python3.8/site-packages/xgboost/core.py:158: UserWarning: [12:59:07] WARNING: /workspace/src/learner.cc:740: \n",
      "Parameters: { \"use_label_encoder\" } are not used.\n",
      "\n",
      "  warnings.warn(smsg, UserWarning)\n"
     ]
    },
    {
     "name": "stdout",
     "output_type": "stream",
     "text": [
      "cv\n",
      "individual models\n"
     ]
    },
    {
     "name": "stderr",
     "output_type": "stream",
     "text": [
      "/home/wanlab/nick/.local/lib/python3.8/site-packages/xgboost/core.py:158: UserWarning: [12:59:21] WARNING: /workspace/src/learner.cc:740: \n",
      "Parameters: { \"use_label_encoder\" } are not used.\n",
      "\n",
      "  warnings.warn(smsg, UserWarning)\n"
     ]
    },
    {
     "name": "stdout",
     "output_type": "stream",
     "text": [
      "cv\n",
      "individual models\n"
     ]
    },
    {
     "name": "stderr",
     "output_type": "stream",
     "text": [
      "/home/wanlab/nick/.local/lib/python3.8/site-packages/xgboost/core.py:158: UserWarning: [12:59:34] WARNING: /workspace/src/learner.cc:740: \n",
      "Parameters: { \"use_label_encoder\" } are not used.\n",
      "\n",
      "  warnings.warn(smsg, UserWarning)\n"
     ]
    },
    {
     "name": "stdout",
     "output_type": "stream",
     "text": [
      "cv\n",
      "individual models\n"
     ]
    },
    {
     "name": "stderr",
     "output_type": "stream",
     "text": [
      "/home/wanlab/nick/.local/lib/python3.8/site-packages/xgboost/core.py:158: UserWarning: [12:59:48] WARNING: /workspace/src/learner.cc:740: \n",
      "Parameters: { \"use_label_encoder\" } are not used.\n",
      "\n",
      "  warnings.warn(smsg, UserWarning)\n"
     ]
    },
    {
     "name": "stdout",
     "output_type": "stream",
     "text": [
      "cv\n",
      "individual models\n"
     ]
    },
    {
     "name": "stderr",
     "output_type": "stream",
     "text": [
      "/home/wanlab/nick/.local/lib/python3.8/site-packages/xgboost/core.py:158: UserWarning: [13:00:03] WARNING: /workspace/src/learner.cc:740: \n",
      "Parameters: { \"use_label_encoder\" } are not used.\n",
      "\n",
      "  warnings.warn(smsg, UserWarning)\n"
     ]
    },
    {
     "name": "stdout",
     "output_type": "stream",
     "text": [
      "cv\n",
      "individual models\n"
     ]
    },
    {
     "name": "stderr",
     "output_type": "stream",
     "text": [
      "/home/wanlab/nick/.local/lib/python3.8/site-packages/xgboost/core.py:158: UserWarning: [13:00:18] WARNING: /workspace/src/learner.cc:740: \n",
      "Parameters: { \"use_label_encoder\" } are not used.\n",
      "\n",
      "  warnings.warn(smsg, UserWarning)\n"
     ]
    },
    {
     "name": "stdout",
     "output_type": "stream",
     "text": [
      "cv\n",
      "individual models\n"
     ]
    },
    {
     "name": "stderr",
     "output_type": "stream",
     "text": [
      "/home/wanlab/nick/.local/lib/python3.8/site-packages/xgboost/core.py:158: UserWarning: [13:00:31] WARNING: /workspace/src/learner.cc:740: \n",
      "Parameters: { \"use_label_encoder\" } are not used.\n",
      "\n",
      "  warnings.warn(smsg, UserWarning)\n"
     ]
    },
    {
     "name": "stdout",
     "output_type": "stream",
     "text": [
      "cv\n",
      "individual models\n"
     ]
    },
    {
     "name": "stderr",
     "output_type": "stream",
     "text": [
      "/home/wanlab/nick/.local/lib/python3.8/site-packages/xgboost/core.py:158: UserWarning: [13:00:45] WARNING: /workspace/src/learner.cc:740: \n",
      "Parameters: { \"use_label_encoder\" } are not used.\n",
      "\n",
      "  warnings.warn(smsg, UserWarning)\n"
     ]
    },
    {
     "name": "stdout",
     "output_type": "stream",
     "text": [
      "cv\n",
      "individual models\n"
     ]
    },
    {
     "name": "stderr",
     "output_type": "stream",
     "text": [
      "/home/wanlab/nick/.local/lib/python3.8/site-packages/xgboost/core.py:158: UserWarning: [13:00:59] WARNING: /workspace/src/learner.cc:740: \n",
      "Parameters: { \"use_label_encoder\" } are not used.\n",
      "\n",
      "  warnings.warn(smsg, UserWarning)\n"
     ]
    },
    {
     "name": "stdout",
     "output_type": "stream",
     "text": [
      "cv\n",
      "individual models\n"
     ]
    },
    {
     "name": "stderr",
     "output_type": "stream",
     "text": [
      "/home/wanlab/nick/.local/lib/python3.8/site-packages/xgboost/core.py:158: UserWarning: [13:01:12] WARNING: /workspace/src/learner.cc:740: \n",
      "Parameters: { \"use_label_encoder\" } are not used.\n",
      "\n",
      "  warnings.warn(smsg, UserWarning)\n"
     ]
    },
    {
     "name": "stdout",
     "output_type": "stream",
     "text": [
      "cv\n",
      "individual models\n"
     ]
    },
    {
     "name": "stderr",
     "output_type": "stream",
     "text": [
      "/home/wanlab/nick/.local/lib/python3.8/site-packages/xgboost/core.py:158: UserWarning: [13:01:26] WARNING: /workspace/src/learner.cc:740: \n",
      "Parameters: { \"use_label_encoder\" } are not used.\n",
      "\n",
      "  warnings.warn(smsg, UserWarning)\n"
     ]
    },
    {
     "name": "stdout",
     "output_type": "stream",
     "text": [
      "cv\n",
      "individual models\n"
     ]
    },
    {
     "name": "stderr",
     "output_type": "stream",
     "text": [
      "/home/wanlab/nick/.local/lib/python3.8/site-packages/xgboost/core.py:158: UserWarning: [13:01:39] WARNING: /workspace/src/learner.cc:740: \n",
      "Parameters: { \"use_label_encoder\" } are not used.\n",
      "\n",
      "  warnings.warn(smsg, UserWarning)\n"
     ]
    },
    {
     "name": "stdout",
     "output_type": "stream",
     "text": [
      "cv\n",
      "individual models\n"
     ]
    },
    {
     "name": "stderr",
     "output_type": "stream",
     "text": [
      "/home/wanlab/nick/.local/lib/python3.8/site-packages/xgboost/core.py:158: UserWarning: [13:01:53] WARNING: /workspace/src/learner.cc:740: \n",
      "Parameters: { \"use_label_encoder\" } are not used.\n",
      "\n",
      "  warnings.warn(smsg, UserWarning)\n"
     ]
    },
    {
     "name": "stdout",
     "output_type": "stream",
     "text": [
      "cv\n",
      "individual models\n"
     ]
    },
    {
     "name": "stderr",
     "output_type": "stream",
     "text": [
      "/home/wanlab/nick/.local/lib/python3.8/site-packages/xgboost/core.py:158: UserWarning: [13:02:06] WARNING: /workspace/src/learner.cc:740: \n",
      "Parameters: { \"use_label_encoder\" } are not used.\n",
      "\n",
      "  warnings.warn(smsg, UserWarning)\n"
     ]
    },
    {
     "name": "stdout",
     "output_type": "stream",
     "text": [
      "cv\n",
      "individual models\n"
     ]
    },
    {
     "name": "stderr",
     "output_type": "stream",
     "text": [
      "/home/wanlab/nick/.local/lib/python3.8/site-packages/xgboost/core.py:158: UserWarning: [13:02:20] WARNING: /workspace/src/learner.cc:740: \n",
      "Parameters: { \"use_label_encoder\" } are not used.\n",
      "\n",
      "  warnings.warn(smsg, UserWarning)\n"
     ]
    },
    {
     "name": "stdout",
     "output_type": "stream",
     "text": [
      "cv\n",
      "individual models\n"
     ]
    },
    {
     "name": "stderr",
     "output_type": "stream",
     "text": [
      "/home/wanlab/nick/.local/lib/python3.8/site-packages/xgboost/core.py:158: UserWarning: [13:02:33] WARNING: /workspace/src/learner.cc:740: \n",
      "Parameters: { \"use_label_encoder\" } are not used.\n",
      "\n",
      "  warnings.warn(smsg, UserWarning)\n"
     ]
    },
    {
     "name": "stdout",
     "output_type": "stream",
     "text": [
      "cv\n",
      "individual models\n"
     ]
    },
    {
     "name": "stderr",
     "output_type": "stream",
     "text": [
      "/home/wanlab/nick/.local/lib/python3.8/site-packages/xgboost/core.py:158: UserWarning: [13:02:45] WARNING: /workspace/src/learner.cc:740: \n",
      "Parameters: { \"use_label_encoder\" } are not used.\n",
      "\n",
      "  warnings.warn(smsg, UserWarning)\n"
     ]
    },
    {
     "name": "stdout",
     "output_type": "stream",
     "text": [
      "cv\n",
      "individual models\n"
     ]
    },
    {
     "name": "stderr",
     "output_type": "stream",
     "text": [
      "/home/wanlab/nick/.local/lib/python3.8/site-packages/xgboost/core.py:158: UserWarning: [13:02:58] WARNING: /workspace/src/learner.cc:740: \n",
      "Parameters: { \"use_label_encoder\" } are not used.\n",
      "\n",
      "  warnings.warn(smsg, UserWarning)\n"
     ]
    },
    {
     "name": "stdout",
     "output_type": "stream",
     "text": [
      "cv\n",
      "individual models\n"
     ]
    },
    {
     "name": "stderr",
     "output_type": "stream",
     "text": [
      "/home/wanlab/nick/.local/lib/python3.8/site-packages/xgboost/core.py:158: UserWarning: [13:03:12] WARNING: /workspace/src/learner.cc:740: \n",
      "Parameters: { \"use_label_encoder\" } are not used.\n",
      "\n",
      "  warnings.warn(smsg, UserWarning)\n"
     ]
    },
    {
     "name": "stdout",
     "output_type": "stream",
     "text": [
      "cv\n",
      "individual models\n"
     ]
    },
    {
     "name": "stderr",
     "output_type": "stream",
     "text": [
      "/home/wanlab/nick/.local/lib/python3.8/site-packages/xgboost/core.py:158: UserWarning: [13:03:26] WARNING: /workspace/src/learner.cc:740: \n",
      "Parameters: { \"use_label_encoder\" } are not used.\n",
      "\n",
      "  warnings.warn(smsg, UserWarning)\n"
     ]
    },
    {
     "name": "stdout",
     "output_type": "stream",
     "text": [
      "cv\n",
      "individual models\n"
     ]
    },
    {
     "name": "stderr",
     "output_type": "stream",
     "text": [
      "/home/wanlab/nick/.local/lib/python3.8/site-packages/xgboost/core.py:158: UserWarning: [13:03:40] WARNING: /workspace/src/learner.cc:740: \n",
      "Parameters: { \"use_label_encoder\" } are not used.\n",
      "\n",
      "  warnings.warn(smsg, UserWarning)\n"
     ]
    },
    {
     "name": "stdout",
     "output_type": "stream",
     "text": [
      "cv\n",
      "individual models\n"
     ]
    },
    {
     "name": "stderr",
     "output_type": "stream",
     "text": [
      "/home/wanlab/nick/.local/lib/python3.8/site-packages/xgboost/core.py:158: UserWarning: [13:03:54] WARNING: /workspace/src/learner.cc:740: \n",
      "Parameters: { \"use_label_encoder\" } are not used.\n",
      "\n",
      "  warnings.warn(smsg, UserWarning)\n"
     ]
    },
    {
     "name": "stdout",
     "output_type": "stream",
     "text": [
      "cv\n",
      "individual models\n"
     ]
    },
    {
     "name": "stderr",
     "output_type": "stream",
     "text": [
      "/home/wanlab/nick/.local/lib/python3.8/site-packages/xgboost/core.py:158: UserWarning: [13:04:07] WARNING: /workspace/src/learner.cc:740: \n",
      "Parameters: { \"use_label_encoder\" } are not used.\n",
      "\n",
      "  warnings.warn(smsg, UserWarning)\n"
     ]
    },
    {
     "name": "stdout",
     "output_type": "stream",
     "text": [
      "cv\n",
      "individual models\n"
     ]
    },
    {
     "name": "stderr",
     "output_type": "stream",
     "text": [
      "/home/wanlab/nick/.local/lib/python3.8/site-packages/xgboost/core.py:158: UserWarning: [13:04:21] WARNING: /workspace/src/learner.cc:740: \n",
      "Parameters: { \"use_label_encoder\" } are not used.\n",
      "\n",
      "  warnings.warn(smsg, UserWarning)\n"
     ]
    },
    {
     "name": "stdout",
     "output_type": "stream",
     "text": [
      "cv\n",
      "individual models\n"
     ]
    },
    {
     "name": "stderr",
     "output_type": "stream",
     "text": [
      "/home/wanlab/nick/.local/lib/python3.8/site-packages/xgboost/core.py:158: UserWarning: [13:04:34] WARNING: /workspace/src/learner.cc:740: \n",
      "Parameters: { \"use_label_encoder\" } are not used.\n",
      "\n",
      "  warnings.warn(smsg, UserWarning)\n"
     ]
    },
    {
     "name": "stdout",
     "output_type": "stream",
     "text": [
      "cv\n",
      "individual models\n"
     ]
    },
    {
     "name": "stderr",
     "output_type": "stream",
     "text": [
      "/home/wanlab/nick/.local/lib/python3.8/site-packages/xgboost/core.py:158: UserWarning: [13:04:48] WARNING: /workspace/src/learner.cc:740: \n",
      "Parameters: { \"use_label_encoder\" } are not used.\n",
      "\n",
      "  warnings.warn(smsg, UserWarning)\n"
     ]
    },
    {
     "name": "stdout",
     "output_type": "stream",
     "text": [
      "cv\n",
      "individual models\n"
     ]
    },
    {
     "name": "stderr",
     "output_type": "stream",
     "text": [
      "/home/wanlab/nick/.local/lib/python3.8/site-packages/xgboost/core.py:158: UserWarning: [13:05:01] WARNING: /workspace/src/learner.cc:740: \n",
      "Parameters: { \"use_label_encoder\" } are not used.\n",
      "\n",
      "  warnings.warn(smsg, UserWarning)\n"
     ]
    },
    {
     "name": "stdout",
     "output_type": "stream",
     "text": [
      "cv\n",
      "individual models\n"
     ]
    },
    {
     "name": "stderr",
     "output_type": "stream",
     "text": [
      "/home/wanlab/nick/.local/lib/python3.8/site-packages/xgboost/core.py:158: UserWarning: [13:05:15] WARNING: /workspace/src/learner.cc:740: \n",
      "Parameters: { \"use_label_encoder\" } are not used.\n",
      "\n",
      "  warnings.warn(smsg, UserWarning)\n"
     ]
    },
    {
     "name": "stdout",
     "output_type": "stream",
     "text": [
      "cv\n",
      "individual models\n"
     ]
    },
    {
     "name": "stderr",
     "output_type": "stream",
     "text": [
      "/home/wanlab/nick/.local/lib/python3.8/site-packages/xgboost/core.py:158: UserWarning: [13:05:28] WARNING: /workspace/src/learner.cc:740: \n",
      "Parameters: { \"use_label_encoder\" } are not used.\n",
      "\n",
      "  warnings.warn(smsg, UserWarning)\n"
     ]
    },
    {
     "name": "stdout",
     "output_type": "stream",
     "text": [
      "cv\n",
      "individual models\n"
     ]
    },
    {
     "name": "stderr",
     "output_type": "stream",
     "text": [
      "/home/wanlab/nick/.local/lib/python3.8/site-packages/xgboost/core.py:158: UserWarning: [13:05:42] WARNING: /workspace/src/learner.cc:740: \n",
      "Parameters: { \"use_label_encoder\" } are not used.\n",
      "\n",
      "  warnings.warn(smsg, UserWarning)\n"
     ]
    },
    {
     "name": "stdout",
     "output_type": "stream",
     "text": [
      "cv\n",
      "individual models\n"
     ]
    },
    {
     "name": "stderr",
     "output_type": "stream",
     "text": [
      "/home/wanlab/nick/.local/lib/python3.8/site-packages/xgboost/core.py:158: UserWarning: [13:05:56] WARNING: /workspace/src/learner.cc:740: \n",
      "Parameters: { \"use_label_encoder\" } are not used.\n",
      "\n",
      "  warnings.warn(smsg, UserWarning)\n"
     ]
    },
    {
     "name": "stdout",
     "output_type": "stream",
     "text": [
      "cv\n",
      "individual models\n"
     ]
    },
    {
     "name": "stderr",
     "output_type": "stream",
     "text": [
      "/home/wanlab/nick/.local/lib/python3.8/site-packages/xgboost/core.py:158: UserWarning: [13:06:09] WARNING: /workspace/src/learner.cc:740: \n",
      "Parameters: { \"use_label_encoder\" } are not used.\n",
      "\n",
      "  warnings.warn(smsg, UserWarning)\n"
     ]
    },
    {
     "name": "stdout",
     "output_type": "stream",
     "text": [
      "cv\n",
      "individual models\n"
     ]
    },
    {
     "name": "stderr",
     "output_type": "stream",
     "text": [
      "/home/wanlab/nick/.local/lib/python3.8/site-packages/xgboost/core.py:158: UserWarning: [13:06:22] WARNING: /workspace/src/learner.cc:740: \n",
      "Parameters: { \"use_label_encoder\" } are not used.\n",
      "\n",
      "  warnings.warn(smsg, UserWarning)\n"
     ]
    },
    {
     "name": "stdout",
     "output_type": "stream",
     "text": [
      "cv\n",
      "individual models\n"
     ]
    },
    {
     "name": "stderr",
     "output_type": "stream",
     "text": [
      "/home/wanlab/nick/.local/lib/python3.8/site-packages/xgboost/core.py:158: UserWarning: [13:06:36] WARNING: /workspace/src/learner.cc:740: \n",
      "Parameters: { \"use_label_encoder\" } are not used.\n",
      "\n",
      "  warnings.warn(smsg, UserWarning)\n"
     ]
    },
    {
     "name": "stdout",
     "output_type": "stream",
     "text": [
      "cv\n",
      "individual models\n"
     ]
    },
    {
     "name": "stderr",
     "output_type": "stream",
     "text": [
      "/home/wanlab/nick/.local/lib/python3.8/site-packages/xgboost/core.py:158: UserWarning: [13:06:49] WARNING: /workspace/src/learner.cc:740: \n",
      "Parameters: { \"use_label_encoder\" } are not used.\n",
      "\n",
      "  warnings.warn(smsg, UserWarning)\n"
     ]
    },
    {
     "name": "stdout",
     "output_type": "stream",
     "text": [
      "cv\n",
      "individual models\n"
     ]
    },
    {
     "name": "stderr",
     "output_type": "stream",
     "text": [
      "/home/wanlab/nick/.local/lib/python3.8/site-packages/xgboost/core.py:158: UserWarning: [13:07:02] WARNING: /workspace/src/learner.cc:740: \n",
      "Parameters: { \"use_label_encoder\" } are not used.\n",
      "\n",
      "  warnings.warn(smsg, UserWarning)\n"
     ]
    },
    {
     "name": "stdout",
     "output_type": "stream",
     "text": [
      "cv\n",
      "individual models\n"
     ]
    },
    {
     "name": "stderr",
     "output_type": "stream",
     "text": [
      "/home/wanlab/nick/.local/lib/python3.8/site-packages/xgboost/core.py:158: UserWarning: [13:07:15] WARNING: /workspace/src/learner.cc:740: \n",
      "Parameters: { \"use_label_encoder\" } are not used.\n",
      "\n",
      "  warnings.warn(smsg, UserWarning)\n"
     ]
    },
    {
     "name": "stdout",
     "output_type": "stream",
     "text": [
      "cv\n",
      "individual models\n"
     ]
    },
    {
     "name": "stderr",
     "output_type": "stream",
     "text": [
      "/home/wanlab/nick/.local/lib/python3.8/site-packages/xgboost/core.py:158: UserWarning: [13:07:28] WARNING: /workspace/src/learner.cc:740: \n",
      "Parameters: { \"use_label_encoder\" } are not used.\n",
      "\n",
      "  warnings.warn(smsg, UserWarning)\n"
     ]
    },
    {
     "name": "stdout",
     "output_type": "stream",
     "text": [
      "cv\n",
      "individual models\n"
     ]
    },
    {
     "name": "stderr",
     "output_type": "stream",
     "text": [
      "/home/wanlab/nick/.local/lib/python3.8/site-packages/xgboost/core.py:158: UserWarning: [13:07:42] WARNING: /workspace/src/learner.cc:740: \n",
      "Parameters: { \"use_label_encoder\" } are not used.\n",
      "\n",
      "  warnings.warn(smsg, UserWarning)\n"
     ]
    },
    {
     "name": "stdout",
     "output_type": "stream",
     "text": [
      "cv\n",
      "individual models\n"
     ]
    },
    {
     "name": "stderr",
     "output_type": "stream",
     "text": [
      "/home/wanlab/nick/.local/lib/python3.8/site-packages/xgboost/core.py:158: UserWarning: [13:07:55] WARNING: /workspace/src/learner.cc:740: \n",
      "Parameters: { \"use_label_encoder\" } are not used.\n",
      "\n",
      "  warnings.warn(smsg, UserWarning)\n"
     ]
    },
    {
     "name": "stdout",
     "output_type": "stream",
     "text": [
      "cv\n",
      "individual models\n"
     ]
    },
    {
     "name": "stderr",
     "output_type": "stream",
     "text": [
      "/home/wanlab/nick/.local/lib/python3.8/site-packages/xgboost/core.py:158: UserWarning: [13:08:10] WARNING: /workspace/src/learner.cc:740: \n",
      "Parameters: { \"use_label_encoder\" } are not used.\n",
      "\n",
      "  warnings.warn(smsg, UserWarning)\n"
     ]
    },
    {
     "name": "stdout",
     "output_type": "stream",
     "text": [
      "cv\n",
      "individual models\n"
     ]
    },
    {
     "name": "stderr",
     "output_type": "stream",
     "text": [
      "/home/wanlab/nick/.local/lib/python3.8/site-packages/xgboost/core.py:158: UserWarning: [13:08:23] WARNING: /workspace/src/learner.cc:740: \n",
      "Parameters: { \"use_label_encoder\" } are not used.\n",
      "\n",
      "  warnings.warn(smsg, UserWarning)\n"
     ]
    },
    {
     "name": "stdout",
     "output_type": "stream",
     "text": [
      "cv\n",
      "individual models\n"
     ]
    },
    {
     "name": "stderr",
     "output_type": "stream",
     "text": [
      "/home/wanlab/nick/.local/lib/python3.8/site-packages/xgboost/core.py:158: UserWarning: [13:08:36] WARNING: /workspace/src/learner.cc:740: \n",
      "Parameters: { \"use_label_encoder\" } are not used.\n",
      "\n",
      "  warnings.warn(smsg, UserWarning)\n"
     ]
    },
    {
     "name": "stdout",
     "output_type": "stream",
     "text": [
      "cv\n",
      "individual models\n"
     ]
    },
    {
     "name": "stderr",
     "output_type": "stream",
     "text": [
      "/home/wanlab/nick/.local/lib/python3.8/site-packages/xgboost/core.py:158: UserWarning: [13:08:48] WARNING: /workspace/src/learner.cc:740: \n",
      "Parameters: { \"use_label_encoder\" } are not used.\n",
      "\n",
      "  warnings.warn(smsg, UserWarning)\n"
     ]
    },
    {
     "name": "stdout",
     "output_type": "stream",
     "text": [
      "cv\n",
      "individual models\n"
     ]
    },
    {
     "name": "stderr",
     "output_type": "stream",
     "text": [
      "/home/wanlab/nick/.local/lib/python3.8/site-packages/xgboost/core.py:158: UserWarning: [13:09:01] WARNING: /workspace/src/learner.cc:740: \n",
      "Parameters: { \"use_label_encoder\" } are not used.\n",
      "\n",
      "  warnings.warn(smsg, UserWarning)\n"
     ]
    },
    {
     "name": "stdout",
     "output_type": "stream",
     "text": [
      "cv\n",
      "individual models\n"
     ]
    },
    {
     "name": "stderr",
     "output_type": "stream",
     "text": [
      "/home/wanlab/nick/.local/lib/python3.8/site-packages/xgboost/core.py:158: UserWarning: [13:09:14] WARNING: /workspace/src/learner.cc:740: \n",
      "Parameters: { \"use_label_encoder\" } are not used.\n",
      "\n",
      "  warnings.warn(smsg, UserWarning)\n"
     ]
    },
    {
     "name": "stdout",
     "output_type": "stream",
     "text": [
      "cv\n",
      "individual models\n"
     ]
    },
    {
     "name": "stderr",
     "output_type": "stream",
     "text": [
      "/home/wanlab/nick/.local/lib/python3.8/site-packages/xgboost/core.py:158: UserWarning: [13:09:27] WARNING: /workspace/src/learner.cc:740: \n",
      "Parameters: { \"use_label_encoder\" } are not used.\n",
      "\n",
      "  warnings.warn(smsg, UserWarning)\n"
     ]
    },
    {
     "name": "stdout",
     "output_type": "stream",
     "text": [
      "cv\n",
      "individual models\n"
     ]
    },
    {
     "name": "stderr",
     "output_type": "stream",
     "text": [
      "/home/wanlab/nick/.local/lib/python3.8/site-packages/xgboost/core.py:158: UserWarning: [13:09:40] WARNING: /workspace/src/learner.cc:740: \n",
      "Parameters: { \"use_label_encoder\" } are not used.\n",
      "\n",
      "  warnings.warn(smsg, UserWarning)\n"
     ]
    },
    {
     "name": "stdout",
     "output_type": "stream",
     "text": [
      "cv\n",
      "individual models\n"
     ]
    },
    {
     "name": "stderr",
     "output_type": "stream",
     "text": [
      "/home/wanlab/nick/.local/lib/python3.8/site-packages/xgboost/core.py:158: UserWarning: [13:09:53] WARNING: /workspace/src/learner.cc:740: \n",
      "Parameters: { \"use_label_encoder\" } are not used.\n",
      "\n",
      "  warnings.warn(smsg, UserWarning)\n"
     ]
    },
    {
     "name": "stdout",
     "output_type": "stream",
     "text": [
      "cv\n",
      "individual models\n"
     ]
    },
    {
     "name": "stderr",
     "output_type": "stream",
     "text": [
      "/home/wanlab/nick/.local/lib/python3.8/site-packages/xgboost/core.py:158: UserWarning: [13:10:06] WARNING: /workspace/src/learner.cc:740: \n",
      "Parameters: { \"use_label_encoder\" } are not used.\n",
      "\n",
      "  warnings.warn(smsg, UserWarning)\n"
     ]
    }
   ],
   "source": [
    "# run for all combinations of 4 models\n",
    "# Define your models\n",
    "import itertools\n",
    "\n",
    "\n",
    "run = 0\n",
    "\n",
    "\n",
    "mlpparameters = {\n",
    "\"activation\": \"relu\",\n",
    "\"alpha\": 0.0001,\n",
    "\"learning_rate\": \"constant\",\n",
    "\"max_iter\": 210,\n",
    "\"batch_size\": 8,\n",
    "\"solver\": \"adam\",\n",
    "\n",
    "\"hidden_layer_sizes\": (100, 100)\n",
    "}\n",
    "OGmodels = [\n",
    "    SVC(kernel=\"rbf\", probability=True),\n",
    "    SVC(kernel=\"linear\", probability=True),\n",
    "    LogisticRegression(max_iter=700),\n",
    "    GaussianNB(),\n",
    "    XGBClassifier(n_estimators=300, use_label_encoder=False, eval_metric='logloss'),\n",
    "    KNeighborsClassifier(),\n",
    "    QuadraticDiscriminantAnalysis(reg_param=1.0, store_covariance=True, tol=0.000)\n",
    "]\n",
    "\n",
    "\n",
    "OGstack_models = [\n",
    "    MLPClassifier(**mlpparameters),\n",
    "    RandomForestClassifier(),\n",
    "    LogisticRegression(max_iter=700),\n",
    "    GaussianNB(),\n",
    "    SVC(kernel=\"rbf\", probability=True),\n",
    "    SVC(kernel=\"linear\", probability=True),\n",
    "    #MLPClassifier(activation='relu', alpha= 0.0001, batch_size= 1, hidden_layer_sizes=(200,), learning_rate= 'constant', solver= 'adam', max_iter=400)\n",
    "]\n",
    "\n",
    "number_models = len(OGmodels)\n",
    "model_names = [type(model).__name__ for model in OGmodels]\n",
    "# Dictionary to track occurrences of each model name\n",
    "name_count = {}\n",
    "# Updated list to hold the unique model names\n",
    "unique_model_names = []\n",
    "\n",
    "for name in model_names:\n",
    "    if name in name_count:\n",
    "        # If the name is already seen, increment the count and append the number\n",
    "        name_count[name] += 1\n",
    "        unique_name = f\"{name}{name_count[name]}\"\n",
    "    else:\n",
    "        # If the name is seen for the first time, just use the name\n",
    "        name_count[name] = 1\n",
    "        unique_name = name\n",
    "    # Append the unique name to the result list\n",
    "    unique_model_names.append(unique_name)\n",
    "OGmodel_names=unique_model_names\n",
    "\n",
    "\n",
    "stack_model_names = [type(model).__name__ for model in OGstack_models]\n",
    "# Updated list to hold the unique model names\n",
    "\n",
    "unique_stack_model_names = []\n",
    "for name in stack_model_names:\n",
    "    if name in name_count:\n",
    "        # If the name is already seen, increment the count and append the number\n",
    "        name_count[name] += 1\n",
    "        unique_name = f\"{name}{name_count[name]}\"\n",
    "    else:\n",
    "        # If the name is seen for the first time, just use the name\n",
    "        name_count[name] = 1\n",
    "        unique_name = name\n",
    "    unique_stack_model_names.append(unique_name)\n",
    "OGstack_model_names = unique_stack_model_names\n",
    "\n",
    "print(OGmodel_names)\n",
    "print(OGstack_model_names)\n",
    "\n",
    "\n",
    "\n",
    "# Create a dictionary that maps model names to model instances\n",
    "OGmodel_dict = dict(zip(OGmodel_names, OGmodels))\n",
    "\n",
    "# Print the combined dictionary\n",
    "print(\"dict\", OGmodel_dict)\n",
    "\n",
    "OGstack_model_dict = dict(zip(OGstack_model_names, OGstack_models))\n",
    "\n",
    "# Print the combined dictionary\n",
    "print(\"dict\", OGstack_model_dict)\n",
    "\n",
    "\n",
    "\n",
    "\n",
    "# Create all combinations of 2 classifiers from OGmodels\n",
    "model_combinations = list(itertools.combinations(OGmodels, 4))\n",
    "#print(\"model combinations\", model_combinations)\n",
    "\n",
    "# Iterate over each combination of models\n",
    "for model1, model2, model3, model4 in model_combinations:\n",
    "    print(f\"Model Pair: {type(model1).__name__} + {type(model2).__name__} + {type(model3).__name__} + {type(model4).__name__}\")\n",
    "    USEDmodels = [model1, model2, model3, model4]\n",
    "    \n",
    "    # Function to find the key corresponding to a model\n",
    "    def find_model_key(model_dict, input_model):\n",
    "        # Get the input model's parameters\n",
    "        input_params = input_model.get_params()\n",
    "\n",
    "        # Iterate through the dictionary\n",
    "        for key, model in model_dict.items():\n",
    "            # Compare parameters of the current model in the dictionary with the input model\n",
    "            if model.get_params() == input_params:\n",
    "                return key  # Return the key if the model parameters match\n",
    "\n",
    "        return None  # Return None if no match is found\n",
    "\n",
    "    # Find the key for the input model\n",
    "    model_key1 = find_model_key(OGmodel_dict, model1)\n",
    "    model_key2 = find_model_key(OGmodel_dict, model2)\n",
    "    model_key3 = find_model_key(OGmodel_dict, model3)\n",
    "    model_key4 = find_model_key(OGmodel_dict, model4)\n",
    "    \n",
    "    \n",
    "    USEDmodelnames = [model_key1, model_key2, model_key3, model_key4]\n",
    "    print(\"USEDmodelnames\", USEDmodelnames)\n",
    "    \n",
    "    le = LabelEncoder()\n",
    "    x = pd.read_csv('') #your file here\n",
    "    data = \"\" #give the data a name\n",
    "    pd.set_option('display.max_rows', None)  # Show all rows\n",
    "    pd.set_option('display.max_columns', None)  # Show all columns\n",
    "   \n",
    "    #Define the mapping\n",
    "    mapping = {\n",
    "        'Squamous': 0,\n",
    "        'ADEX': 1,\n",
    "        'Pancreatic Progenitor': 2,\n",
    "        'Immunogenic': 3\n",
    "    }\n",
    "\n",
    "    # Map the values\n",
    "    x['subtype'] = x['subtype'].map(mapping)\n",
    "\n",
    "    classnumber = len(np.unique(x['subtype']))\n",
    "    #print(classnumber)\n",
    "    randomstate = 0\n",
    "    # List of states\n",
    "    states = list(range(1))\n",
    "    print(f\"Running with: {type(model1).__name__} and {type(model2).__name__} and {type(model3).__name__} and {type(model4).__name__}\")\n",
    "    models = {model1, model2, model3, model4}\n",
    "    # Loop through each state and run the workflow\n",
    "    for state in states:\n",
    "        workflow(x, USEDmodels, USEDmodelnames, randomstate=state)\n",
    "    \n",
    "    # Placeholder: print model names for demonstration\n",
    "    run = run+1\n",
    "    print(\"run\", run)\n",
    "    \n",
    "    # Process the models or create a stack of models\n",
    "    # Example of stacking:\n",
    "    # stack_model = [model1, model2]  # or any other combination logic\n",
    "    # You can add your desired workflow for each model pair here\n",
    "    \n",
    "    \n",
    "    "
   ]
  },
  {
   "cell_type": "markdown",
   "metadata": {
    "tags": []
   },
   "source": [
    "## CVgridsearch"
   ]
  },
  {
   "cell_type": "code",
   "execution_count": null,
   "metadata": {},
   "outputs": [],
   "source": [
    "# CVgridsearch\n",
    "\n",
    "# Define the MLPClassifier\n",
    "    mlp = MLPClassifier(max_iter=1000, random_state=42)\n",
    "\n",
    "    # Define the parameter grid for GridSearchCV\n",
    "    param_grid = {\n",
    "        'hidden_layer_sizes': [(50,), (100,), (150,), (200,)],  # Number of neurons in the hidden layer(s)\n",
    "        'activation': ['relu', 'tanh', 'logistic'],              # Activation functions\n",
    "        'solver': ['adam', 'sgd'],                               # Optimization algorithm\n",
    "        'learning_rate': ['constant', 'invscaling', 'adaptive'],  # Learning rate schedule\n",
    "        'alpha': [0.0001, 0.001, 0.01],                          # Regularization term\n",
    "        'batch_size': [32, 64, 128]                              # Batch size\n",
    "    }\n",
    "\n",
    "        param_grid = {\n",
    "        'hidden_layer_sizes': [(50,50), (100,100), (150,150)],  # Different sizes of hidden layers\n",
    "        'activation': ['relu', 'tanh'],  # Activation functions\n",
    "        'solver': ['adam', 'sgd'],  # Solvers for optimization\n",
    "        'alpha': [0.0001],  # Regularization parameter\n",
    "        'learning_rate': ['constant', 'invscaling', 'adaptive'],  # Learning rate schedule\n",
    "        'batch_size': [1, 16, 32, 64, 96],  # Different batch sizes to test\n",
    "        'max_iter': [200, 300]  # Number of iterations for training\n",
    "    }\n",
    "    \n",
    "    # Initialize the GridSearchCV\n",
    "    grid_search = GridSearchCV(estimator=mlp, param_grid=param_grid, cv=5, n_jobs=-1, verbose=2)\n",
    "\n",
    "    # Fit the GridSearchCV to find the best parameters\n",
    "    grid_search.fit(oof_prob_pred_combined1, oofTrueLabels2)\n",
    "\n",
    "    # Print the best parameters found\n",
    "    print(\"Best parameters found: \",stacked, grid_search.best_params_)\n",
    "\n",
    "    # Evaluate the best model on the test set\n",
    "    best_mlp = grid_search.best_estimator_\n",
    "    y_pred = best_mlp.predict(oof_prob_pred_combined1)\n",
    "    # Print classification report for evaluation\n",
    "    print(classification_report(oofTrueLabels2, y_pred))"
   ]
  },
  {
   "cell_type": "code",
   "execution_count": null,
   "metadata": {},
   "outputs": [],
   "source": [
    "# CVgridsearch\n",
    "\n",
    "    X = x # Features\n",
    "\n",
    "    # Split your dataset into training and test sets\n",
    "    X_train, X_test, y_train, y_test = train_test_split(X, y, test_size=0.1, random_state=42)\n",
    "\n",
    "    # Define the parameter grid for QuadraticDiscriminantAnalysis\n",
    "    param_grid = {  # Class prior probabilities\n",
    "        'reg_param': [0.0, 0.1, 0.5, 0.7, 1.0],  # Regularization parameter for covariance regularization\n",
    "        'store_covariance': [True, False],  # Whether to store the covariance matrix\n",
    "        'tol': [1e-4, 1e-5, 1e-6],  # Tolerance for covariance matrix inversion\n",
    "    }\n",
    "\n",
    "\n",
    "    # Initialize the QuadraticDiscriminantAnalysis model\n",
    "    qda = QuadraticDiscriminantAnalysis()\n",
    "\n",
    "    # Set up the GridSearchCV with 5-fold cross-validation\n",
    "    grid_search = GridSearchCV(estimator=qda, param_grid=param_grid, cv=5, n_jobs=-1, verbose=2)\n",
    "\n",
    "    # Fit the grid search to the training data\n",
    "    grid_search.fit(X_train, y_train)\n",
    "\n",
    "    # Get the best model from grid search\n",
    "    best_qda = grid_search.best_estimator_\n",
    "\n",
    "    # Print the best parameters found\n",
    "    print(\"Best parameters found:\", grid_search.best_params_)\n",
    "\n",
    "    # Get the best parameters from GridSearchCV\n",
    "    best_params = grid_search.best_params_\n",
    "\n",
    "    # Define the file path where you want to save the parameters\n",
    "    file_path = '/work/wanlab/nick/grid/best_params_qda.json'\n",
    "\n",
    "    # Write the dictionary to a JSON file\n",
    "    with open(file_path, 'w') as f:\n",
    "        json.dump(best_params, f, indent=4)\n",
    "\n",
    "    # Verify the saved content\n",
    "    print(f\"Best parameters saved to {file_path}\")\n",
    "\n",
    "    # Evaluate the model on the test set\n",
    "    y_pred = best_qda.predict(X_test)\n",
    "    print(\"Classification report on the test set:\")\n",
    "    print(classification_report(y_test, y_pred))\n",
    "\n",
    "    # Optionally, you can also print the best score from the cross-validation\n",
    "    print(f\"Best cross-validation score: {grid_search.best_score_:.4f}\")\n",
    "    "
   ]
  },
  {
   "cell_type": "code",
   "execution_count": null,
   "metadata": {},
   "outputs": [],
   "source": [
    "# CVgridsearch\n",
    "\n",
    "    X = x # Features\n",
    "    # Split your dataset into training and test sets\n",
    "    X_train, X_test, y_train, y_test = train_test_split(X, y, test_size=0.1, random_state=42)\n",
    "    # Define the parameter grid for the MLPClassifier\n",
    "    mlpparameters = {\n",
    "    \"activation\": \"relu\",\n",
    "    \"alpha\": 0.0001,\n",
    "    \"learning_rate\": \"constant\",\n",
    "    \"max_iter\": 210,\n",
    "    \"batch_size\": 8,\n",
    "    \"solver\": \"adam\",\n",
    "    \"random_state\": 42,\n",
    "    \"hidden_layer_sizes\": (100, 100)\n",
    "    }\n",
    "    param_grid = {\n",
    "    \"hidden_layer_sizes\": [(50,50), (100, 100), (200, 200), (400, 400)]\n",
    "    }\n",
    "\n",
    "    # Initialize the MLPClassifier\n",
    "    mlp = MLPClassifier(**mlpparameters)\n",
    "\n",
    "    # Set up the GridSearchCV with 5-fold cross-validation\n",
    "    grid_search = GridSearchCV(estimator=mlp, param_grid=param_grid, cv=13, n_jobs=-1, verbose=2)\n",
    "\n",
    "    # Fit the grid search to the training data\n",
    "    grid_search.fit(X_train, y_train)\n",
    "\n",
    "    # Get the best model from grid search\n",
    "    best_mlp = grid_search.best_estimator_\n",
    "\n",
    "    # Print the best parameters found\n",
    "    print(\"Best parameters found:\", grid_search.best_params_)\n",
    "\n",
    "    # Get the best parameters from GridSearchCV\n",
    "    best_params = grid_search.best_params_\n",
    "\n",
    "    # Define the file path where you want to save the parameters\n",
    "    file_path = '/work/wanlab/nick/grid/best_params_mlp.json'\n",
    "\n",
    "    # Write the dictionary to a JSON file\n",
    "    with open(file_path, 'w') as f:\n",
    "        json.dump(best_params, f, indent=4)\n",
    "\n",
    "    # Verify the saved content\n",
    "    print(f\"Best parameters saved to {file_path}\")\n",
    "    \n",
    "    # Evaluate the model on the test set\n",
    "    y_pred = best_mlp.predict(X_test)\n",
    "    print(\"Classification report on the test set:\")\n",
    "    print(classification_report(y_test, y_pred))\n",
    "\n",
    "    # Optionally, you can also print the best score from the cross-validation\n",
    "    print(f\"Best cross-validation score: {grid_search.best_score_:.4f}\")"
   ]
  }
 ],
 "metadata": {
  "kernelspec": {
   "display_name": "Python 3 (ipykernel)",
   "language": "python",
   "name": "python3"
  },
  "language_info": {
   "codemirror_mode": {
    "name": "ipython",
    "version": 3
   },
   "file_extension": ".py",
   "mimetype": "text/x-python",
   "name": "python",
   "nbconvert_exporter": "python",
   "pygments_lexer": "ipython3",
   "version": "3.8.15"
  }
 },
 "nbformat": 4,
 "nbformat_minor": 4
}
